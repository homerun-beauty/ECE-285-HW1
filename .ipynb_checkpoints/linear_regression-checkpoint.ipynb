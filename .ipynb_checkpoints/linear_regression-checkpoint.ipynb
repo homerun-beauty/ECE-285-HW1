{
 "cells": [
  {
   "cell_type": "markdown",
   "metadata": {},
   "source": [
    "# ECE 285 Assignment 1: Linear Regression\n",
    "\n",
    "For this part of assignment, you are tasked to implement a linear regression algorithm for multiclass classification and test it on the CIFAR10 dataset.\n",
    "\n",
    "You sould run the whole notebook and answer the questions in the notebook.\n",
    "\n",
    "CIFAR 10 dataset contains 32x32x3 RGB images of 10 distinct cateogaries, and our aim is to predict which class the image belongs to\n",
    "\n",
    "TO SUBMIT: PDF of this notebook with all the required outputs and answers.\n"
   ]
  },
  {
   "cell_type": "code",
   "execution_count": 33,
   "metadata": {
    "scrolled": true
   },
   "outputs": [
    {
     "name": "stdout",
     "output_type": "stream",
     "text": [
      "dict_keys(['x_train', 'y_train', 'x_val', 'y_val', 'x_test', 'y_test'])\n",
      "Training Set Data  Shape:  (5000, 3072)\n",
      "Training Set Label Shape:  (5000,)\n",
      "Validation Set Data  Shape:  (250, 3072)\n",
      "Validation Set Label Shape:  (250,)\n",
      "Test Set Data  Shape:  (500, 3072)\n",
      "Test Set Label Shape:  (500,)\n"
     ]
    }
   ],
   "source": [
    "# Prepare Packages\n",
    "import numpy as np\n",
    "import matplotlib.pyplot as plt\n",
    "from tqdm import tqdm\n",
    "\n",
    "from ece285.utils.data_processing import get_cifar10_data\n",
    "\n",
    "# Use a subset of CIFAR10 for the assignment\n",
    "dataset = get_cifar10_data(\n",
    "    subset_train=5000,\n",
    "    subset_val=250,\n",
    "    subset_test=500,\n",
    ")\n",
    "\n",
    "print(dataset.keys())\n",
    "print(\"Training Set Data  Shape: \", dataset[\"x_train\"].shape)\n",
    "print(\"Training Set Label Shape: \", dataset[\"y_train\"].shape)\n",
    "print(\"Validation Set Data  Shape: \", dataset[\"x_val\"].shape)\n",
    "print(\"Validation Set Label Shape: \", dataset[\"y_val\"].shape)\n",
    "print(\"Test Set Data  Shape: \", dataset[\"x_test\"].shape)\n",
    "print(\"Test Set Label Shape: \", dataset[\"y_test\"].shape)\n"
   ]
  },
  {
   "cell_type": "code",
   "execution_count": 34,
   "metadata": {},
   "outputs": [],
   "source": [
    "x_train = dataset[\"x_train\"]\n",
    "y_train = dataset[\"y_train\"]\n",
    "x_val = dataset[\"x_val\"]\n",
    "y_val = dataset[\"y_val\"]\n",
    "x_test = dataset[\"x_test\"]\n",
    "y_test = dataset[\"y_test\"]"
   ]
  },
  {
   "cell_type": "code",
   "execution_count": null,
   "metadata": {},
   "outputs": [],
   "source": [
    "# Visualize some examples from the dataset.\n",
    "# We show a few examples of training images from each class.\n",
    "classes = [\n",
    "    \"plane\",\n",
    "    \"car\",\n",
    "    \"bird\",\n",
    "    \"cat\",\n",
    "    \"deer\",\n",
    "    \"dog\",\n",
    "    \"frog\",\n",
    "    \"horse\",\n",
    "    \"ship\",\n",
    "    \"truck\",\n",
    "]\n",
    "samples_per_class = 7\n",
    "\n",
    "\n",
    "def visualize_data(dataset, classes, samples_per_class):\n",
    "    num_classes = len(classes)\n",
    "    for y, cls in enumerate(classes):\n",
    "        idxs = np.flatnonzero(y_train == y)\n",
    "        idxs = np.random.choice(idxs, samples_per_class, replace=False)\n",
    "        for i, idx in enumerate(idxs):\n",
    "            plt_idx = i * num_classes + y + 1\n",
    "            plt.subplot(samples_per_class, num_classes, plt_idx)\n",
    "            plt.imshow(dataset[idx])\n",
    "            plt.axis(\"off\")\n",
    "            if i == 0:\n",
    "                plt.title(cls)\n",
    "    plt.show()\n",
    "\n",
    "\n",
    "visualize_data(\n",
    "    x_train.reshape(5000, 3, 32, 32).transpose(0, 2, 3, 1), classes, samples_per_class\n",
    ")\n"
   ]
  },
  {
   "cell_type": "markdown",
   "metadata": {},
   "source": [
    "# Linear Regression for multi-class classification\n"
   ]
  },
  {
   "cell_type": "markdown",
   "metadata": {},
   "source": [
    "A Linear Regression Algorithm has 2 hyperparameters that you can experiment with:\n",
    "\n",
    "- **Learning rate** - controls how much we change the current weights of the classifier during each update. We set it at a default value of 0.5, and later you are asked to experiment with different values. We recommend looking at the graphs and observing how the performance of the classifier changes with different learning rate.\n",
    "- **Number of Epochs** - An epoch is a complete iterative pass over all of the data in the dataset. During an epoch we predict a label using the classifier and then update the weights of the classifier according the linear classifier update rule for each sample in the training set. We evaluate our models after every 10 epochs and save the accuracies, which are later used to plot the training, validation and test VS epoch curves.\n",
    "- **Weight Decay** - Regularization can be used to constrain the weights of the classifier and prevent their values from blowing up. Regularization helps in combatting overfitting. You will be using the 'weight_decay' term to introduce regularization in the classifier.\n"
   ]
  },
  {
   "cell_type": "markdown",
   "metadata": {},
   "source": [
    "### Implementation (50%)\n",
    "\n",
    "You first need to implement the Linear Regression method in `algorithms/linear_regression.py`. You need to fill in the training function as well as the prediction function.\n"
   ]
  },
  {
   "cell_type": "code",
   "execution_count": null,
   "metadata": {},
   "outputs": [],
   "source": [
    "# Import the algorithm implementation (TODO: Complete the Linear Regression in algorithms/linear_regression.py)\n",
    "from ece285.algorithms import Linear\n",
    "from ece285.utils.evaluation import get_classification_accuracy\n",
    "\n",
    "num_classes = 10  # Cifar10 dataset has 10 different classes\n",
    "\n",
    "# Initialize hyper-parameters\n",
    "learning_rate = 0.0001  # You will be later asked to experiment with different learning rates and report results\n",
    "num_epochs_total = 1000  # Total number of epochs to train the classifier\n",
    "epochs_per_evaluation = 10  # Epochs per step of evaluation; We will evaluate our model regularly during training\n",
    "N, D = dataset[\n",
    "    \"x_train\"\n",
    "].shape  # Get training data shape, N: Number of examples, D:Dimensionality of the data\n",
    "weight_decay = 0.0\n",
    "\n",
    "# Insert additional scalar term 1 in the samples to account for the bias as discussed in class\n",
    "x_train = np.insert(x_train, D, values=1, axis=1)\n",
    "x_val = np.insert(x_val, D, values=1, axis=1)\n",
    "x_test = np.insert(x_test, D, values=1, axis=1)"
   ]
  },
  {
   "cell_type": "code",
   "execution_count": null,
   "metadata": {},
   "outputs": [],
   "source": [
    "print(x_train.shape)\n",
    "print(x_val.shape)\n",
    "print(x_test.shape)"
   ]
  },
  {
   "cell_type": "code",
   "execution_count": null,
   "metadata": {},
   "outputs": [],
   "source": [
    "# Training and evaluation function -> Outputs accuracy data\n",
    "def train(learning_rate_, weight_decay_):\n",
    "    # Create a linear regression object\n",
    "    linear_regression = Linear(\n",
    "        num_classes, learning_rate_, epochs_per_evaluation, weight_decay_\n",
    "    )\n",
    "\n",
    "    # Randomly initialize the weights and biases\n",
    "    weights = np.random.randn(num_classes, D + 1) * 0.0001\n",
    "\n",
    "    train_accuracies, val_accuracies, test_accuracies = [], [], []\n",
    "\n",
    "    # Train the classifier\n",
    "    for epoch in tqdm(range(int(num_epochs_total / epochs_per_evaluation))):\n",
    "        # Train the classifier on the training data\n",
    "        weights = linear_regression.train(x_train, y_train, weights)\n",
    "\n",
    "        # Evaluate the trained classifier on the training dataset\n",
    "        y_pred_train = linear_regression.predict(x_train)\n",
    "        train_accuracies.append(get_classification_accuracy(y_pred_train, y_train))\n",
    "\n",
    "        # Evaluate the trained classifier on the validation dataset\n",
    "        y_pred_val = linear_regression.predict(x_val)\n",
    "        val_accuracies.append(get_classification_accuracy(y_pred_val, y_val))\n",
    "\n",
    "        # Evaluate the trained classifier on the test dataset\n",
    "        y_pred_test = linear_regression.predict(x_test)\n",
    "        \n",
    "        test_acc = get_classification_accuracy(y_pred_test, y_test)\n",
    "        test_accuracies.append(test_acc)\n",
    "        \n",
    "        print(\"Epoch: {}, Test Acc: {}\".format(epochs_per_evaluation * epoch + 1, test_acc))\n",
    "\n",
    "    return train_accuracies, val_accuracies, test_accuracies, weights"
   ]
  },
  {
   "cell_type": "markdown",
   "metadata": {},
   "source": [
    "### Plot the Accuracies vs epoch graphs\n"
   ]
  },
  {
   "cell_type": "code",
   "execution_count": null,
   "metadata": {},
   "outputs": [],
   "source": [
    "import matplotlib.pyplot as plt\n",
    "\n",
    "\n",
    "def plot_accuracies(train_acc, val_acc, test_acc):\n",
    "    # Plot Accuracies vs Epochs graph for all the three\n",
    "    epochs = np.arange(0, int(num_epochs_total / epochs_per_evaluation))\n",
    "    plt.ylabel(\"Accuracy\")\n",
    "    plt.xlabel(\"Epoch/10\")\n",
    "    plt.plot(epochs, train_acc, epochs, val_acc, epochs, test_acc)\n",
    "    plt.legend([\"Training\", \"Validation\", \"Testing\"])\n",
    "    plt.show()\n"
   ]
  },
  {
   "cell_type": "code",
   "execution_count": 8,
   "metadata": {},
   "outputs": [
    {
     "name": "stderr",
     "output_type": "stream",
     "text": [
      "\r",
      "  0%|          | 0/100 [00:00<?, ?it/s]"
     ]
    },
    {
     "name": "stdout",
     "output_type": "stream",
     "text": [
      "0.9992474866837776\n",
      "0.9857373214643654\n",
      "0.9741270368576883\n",
      "0.9641458867365975\n",
      "0.9555617210908921\n",
      "0.9481754839134178\n",
      "0.9418164954466332\n",
      "0.936338406974192\n",
      "0.9316157322820722\n",
      "0.9275408735814363\n"
     ]
    },
    {
     "name": "stderr",
     "output_type": "stream",
     "text": [
      "\r",
      "  1%|          | 1/100 [00:02<03:26,  2.08s/it]"
     ]
    },
    {
     "name": "stdout",
     "output_type": "stream",
     "text": [
      "Epoch: 1, Test Acc: 0.114\n",
      "0.924021571404626\n",
      "0.9209787180343043\n",
      "0.9183444826418209\n",
      "0.9160607036987347\n",
      "0.914077510560035\n",
      "0.9123521415492185\n",
      "0.9108479305326627\n",
      "0.9095334379640996\n",
      "0.908381705804084\n",
      "0.9073696186553027\n"
     ]
    },
    {
     "name": "stderr",
     "output_type": "stream",
     "text": [
      "\r",
      "  2%|▏         | 2/100 [00:04<03:31,  2.16s/it]"
     ]
    },
    {
     "name": "stdout",
     "output_type": "stream",
     "text": [
      "Epoch: 11, Test Acc: 0.112\n",
      "0.906477355972002\n",
      "0.9056879223603488\n",
      "0.9049867448373825\n",
      "0.9043613275031903\n",
      "0.9038009554416995\n",
      "0.9032964408322384\n",
      "0.902839905254461\n",
      "0.902424593027047\n",
      "0.9020447111561167\n",
      "0.9016952920999853\n"
     ]
    },
    {
     "name": "stderr",
     "output_type": "stream",
     "text": [
      "\r",
      "  3%|▎         | 3/100 [00:06<03:26,  2.13s/it]"
     ]
    },
    {
     "name": "stdout",
     "output_type": "stream",
     "text": [
      "Epoch: 21, Test Acc: 0.124\n",
      "0.901372076097645\n",
      "0.9010714102720399\n",
      "0.9007901621167889\n",
      "0.9005256453159027\n",
      "0.9002755561383528\n",
      "0.9000379188999789\n",
      "0.8998110392001323\n",
      "0.899593463824717\n",
      "0.8993839463652925\n",
      "0.8991814177393759\n"
     ]
    },
    {
     "name": "stderr",
     "output_type": "stream",
     "text": [
      "\r",
      "  4%|▍         | 4/100 [00:09<04:00,  2.51s/it]"
     ]
    },
    {
     "name": "stdout",
     "output_type": "stream",
     "text": [
      "Epoch: 31, Test Acc: 0.126\n",
      "0.898984960913254\n",
      "0.898793789228203\n",
      "0.8986072278164313\n",
      "0.8984246976662897\n",
      "0.8982457019590737\n",
      "0.8980698143535915\n",
      "0.8978966689408315\n",
      "0.8977259516306466\n",
      "0.8975573927663103\n",
      "0.8973907607919067\n"
     ]
    },
    {
     "name": "stderr",
     "output_type": "stream",
     "text": [
      "\r",
      "  5%|▌         | 5/100 [00:11<03:52,  2.44s/it]"
     ]
    },
    {
     "name": "stdout",
     "output_type": "stream",
     "text": [
      "Epoch: 41, Test Acc: 0.136\n",
      "0.8972258568224647\n",
      "0.8970625099881451\n",
      "0.8969005734421346\n",
      "0.8967399209376323\n",
      "0.8965804438927973\n",
      "0.8964220488741014\n",
      "0.8962646554384356\n",
      "0.8961081942828302\n",
      "0.8959526056579366\n",
      "0.8957978380076682\n"
     ]
    },
    {
     "name": "stderr",
     "output_type": "stream",
     "text": [
      "\r",
      "  6%|▌         | 6/100 [00:15<04:22,  2.80s/it]"
     ]
    },
    {
     "name": "stdout",
     "output_type": "stream",
     "text": [
      "Epoch: 51, Test Acc: 0.144\n",
      "0.8956438468027622\n",
      "0.8954905935406158\n",
      "0.895338044887695\n",
      "0.8951861719441894\n",
      "0.8950349496134901\n",
      "0.8948843560615418\n",
      "0.8947343722532611\n",
      "0.8945849815550352\n",
      "0.8944361693938769\n",
      "0.8942879229651637\n"
     ]
    },
    {
     "name": "stderr",
     "output_type": "stream",
     "text": [
      "\r",
      "  7%|▋         | 7/100 [00:18<04:27,  2.87s/it]"
     ]
    },
    {
     "name": "stdout",
     "output_type": "stream",
     "text": [
      "Epoch: 61, Test Acc: 0.168\n",
      "0.8941402309820329\n",
      "0.8939930834604928\n",
      "0.8938464715351635\n",
      "0.893700387301274\n",
      "0.8935548236791798\n",
      "0.8934097742981841\n",
      "0.8932652333969172\n",
      "0.893121195737906\n",
      "0.89297765653432\n"
     ]
    },
    {
     "name": "stderr",
     "output_type": "stream",
     "text": [
      "\r",
      "  8%|▊         | 8/100 [00:20<04:12,  2.75s/it]"
     ]
    },
    {
     "name": "stdout",
     "output_type": "stream",
     "text": [
      "0.8928346113871484\n",
      "Epoch: 71, Test Acc: 0.172\n",
      "0.8926920562313286\n",
      "0.8925499872895482\n",
      "0.8924084010326225\n",
      "0.8922672941455166\n",
      "0.892126663498204\n",
      "0.8919865061206694\n",
      "0.8918468191814735\n",
      "0.8917075999693627\n",
      "0.8915688458774945\n",
      "0.891430554389906\n"
     ]
    },
    {
     "name": "stderr",
     "output_type": "stream",
     "text": [
      "\r",
      "  9%|▉         | 9/100 [00:22<03:48,  2.51s/it]"
     ]
    },
    {
     "name": "stdout",
     "output_type": "stream",
     "text": [
      "Epoch: 81, Test Acc: 0.186\n",
      "0.8912927230699039\n",
      "0.8911553495501032\n",
      "0.891018431523879\n",
      "0.8908819667380303\n",
      "0.8907459529864838\n",
      "0.8906103881048887\n",
      "0.8904752699659727\n",
      "0.8903405964755592\n",
      "0.8902063655691407\n"
     ]
    },
    {
     "name": "stderr",
     "output_type": "stream",
     "text": [
      "\r",
      " 10%|█         | 10/100 [00:24<03:31,  2.35s/it]"
     ]
    },
    {
     "name": "stdout",
     "output_type": "stream",
     "text": [
      "0.890072575208936\n",
      "Epoch: 91, Test Acc: 0.202\n",
      "0.8899392233813613\n",
      "0.8898063080948558\n",
      "0.8896738273780083\n",
      "0.8895417792779475\n",
      "0.889410161858954\n",
      "0.889278973201265\n",
      "0.889148211400042\n",
      "0.8890178745644804\n",
      "0.8888879608170394\n",
      "0.8887584682927762\n"
     ]
    },
    {
     "name": "stderr",
     "output_type": "stream",
     "text": [
      "\r",
      " 11%|█         | 11/100 [00:26<03:13,  2.18s/it]"
     ]
    },
    {
     "name": "stdout",
     "output_type": "stream",
     "text": [
      "Epoch: 101, Test Acc: 0.21\n",
      "0.888629395138769\n",
      "0.8885007395136146\n",
      "0.8883724995869949\n",
      "0.8882446735392956\n",
      "0.8881172595612765\n",
      "0.8879902558537799\n",
      "0.887863660627478\n",
      "0.8877374721026471\n",
      "0.8876116885089711\n",
      "0.887486308085365\n"
     ]
    },
    {
     "name": "stderr",
     "output_type": "stream",
     "text": [
      "\r",
      " 12%|█▏        | 12/100 [00:29<03:20,  2.28s/it]"
     ]
    },
    {
     "name": "stdout",
     "output_type": "stream",
     "text": [
      "Epoch: 111, Test Acc: 0.214\n",
      "0.8873613290798187\n",
      "0.8872367497492584\n",
      "0.8871125683594201\n",
      "0.8869887831847367\n",
      "0.8868653925082352\n",
      "0.8867423946214429\n",
      "0.8866197878243016\n",
      "0.8864975704250884\n",
      "0.8863757407403422\n",
      "0.8862542970947953\n"
     ]
    },
    {
     "name": "stderr",
     "output_type": "stream",
     "text": [
      "\r",
      " 13%|█▎        | 13/100 [00:31<03:19,  2.29s/it]"
     ]
    },
    {
     "name": "stdout",
     "output_type": "stream",
     "text": [
      "Epoch: 121, Test Acc: 0.22\n",
      "0.8861332378213082\n",
      "0.8860125612608114\n",
      "0.8858922657622454\n",
      "0.885772349682508\n",
      "0.8856528113864017\n",
      "0.8855336492465832\n",
      "0.8854148616435165\n",
      "0.8852964469654241\n",
      "0.885178403608244\n",
      "0.8850607299755846\n"
     ]
    },
    {
     "name": "stderr",
     "output_type": "stream",
     "text": [
      "\r",
      " 14%|█▍        | 14/100 [00:33<03:14,  2.26s/it]"
     ]
    },
    {
     "name": "stdout",
     "output_type": "stream",
     "text": [
      "Epoch: 131, Test Acc: 0.23\n",
      "0.884943424478682\n",
      "0.8848264855363578\n",
      "0.8847099115749778\n",
      "0.8845937010284121\n",
      "0.8844778523379951\n",
      "0.8843623639524868\n",
      "0.8842472343280319\n",
      "0.8841324619281259\n",
      "0.884018045223573\n",
      "0.8839039826924515\n"
     ]
    },
    {
     "name": "stderr",
     "output_type": "stream",
     "text": [
      "\r",
      " 15%|█▌        | 15/100 [00:35<03:05,  2.19s/it]"
     ]
    },
    {
     "name": "stdout",
     "output_type": "stream",
     "text": [
      "Epoch: 141, Test Acc: 0.234\n",
      "0.8837902728200756\n",
      "0.8836769140989594\n",
      "0.8835639050287806\n",
      "0.8834512441163445\n",
      "0.8833389298755469\n",
      "0.8832269608273416\n",
      "0.8831153354997021\n",
      "0.8830040524275885\n",
      "0.8828931101529125\n",
      "0.8827825072245024\n"
     ]
    },
    {
     "name": "stderr",
     "output_type": "stream",
     "text": [
      "\r",
      " 16%|█▌        | 16/100 [00:38<03:28,  2.48s/it]"
     ]
    },
    {
     "name": "stdout",
     "output_type": "stream",
     "text": [
      "Epoch: 151, Test Acc: 0.236\n",
      "0.8826722421980685\n",
      "0.8825623136361704\n",
      "0.882452720108182\n",
      "0.8823434601902579\n",
      "0.8822345324652994\n",
      "0.8821259355229227\n",
      "0.8820176679594248\n",
      "0.8819097283777497\n",
      "0.8818021153874573\n",
      "0.8816948276046896\n"
     ]
    },
    {
     "name": "stderr",
     "output_type": "stream",
     "text": [
      "\r",
      " 17%|█▋        | 17/100 [00:41<03:32,  2.56s/it]"
     ]
    },
    {
     "name": "stdout",
     "output_type": "stream",
     "text": [
      "Epoch: 161, Test Acc: 0.232\n",
      "0.8815878636521384\n",
      "0.8814812221590134\n",
      "0.8813749017610101\n",
      "0.8812689011002771\n",
      "0.8811632188253855\n",
      "0.881057853591296\n",
      "0.8809528040593281\n",
      "0.8808480688971301\n",
      "0.8807436467786444\n",
      "0.8806395363840804\n"
     ]
    },
    {
     "name": "stderr",
     "output_type": "stream",
     "text": [
      "\r",
      " 18%|█▊        | 18/100 [00:43<03:25,  2.51s/it]"
     ]
    },
    {
     "name": "stdout",
     "output_type": "stream",
     "text": [
      "Epoch: 171, Test Acc: 0.234\n",
      "0.8805357363998819\n",
      "0.8804322455186959\n",
      "0.8803290624393433\n",
      "0.8802261858667871\n",
      "0.8801236145121044\n",
      "0.880021347092454\n",
      "0.8799193823310479\n",
      "0.8798177189571212\n",
      "0.8797163557059021\n",
      "0.879615291318583\n"
     ]
    },
    {
     "name": "stderr",
     "output_type": "stream",
     "text": [
      "\r",
      " 19%|█▉        | 19/100 [00:46<03:14,  2.41s/it]"
     ]
    },
    {
     "name": "stdout",
     "output_type": "stream",
     "text": [
      "Epoch: 181, Test Acc: 0.238\n",
      "0.8795145245422906\n",
      "0.8794140541300581\n",
      "0.879313878840794\n",
      "0.8792139974392552\n",
      "0.8791144086960171\n",
      "0.8790151113874453\n",
      "0.8789161042956676\n",
      "0.8788173862085447\n",
      "0.8787189559196436\n",
      "0.878620812228208\n"
     ]
    },
    {
     "name": "stderr",
     "output_type": "stream",
     "text": [
      "\r",
      " 20%|██        | 20/100 [00:48<03:08,  2.35s/it]"
     ]
    },
    {
     "name": "stdout",
     "output_type": "stream",
     "text": [
      "Epoch: 191, Test Acc: 0.248\n",
      "0.8785229539391313\n",
      "0.8784253798629285\n",
      "0.8783280888157086\n",
      "0.8782310796191479\n",
      "0.8781343511004616\n",
      "0.8780379020923765\n",
      "0.8779417314331058\n",
      "0.87784583796632\n",
      "0.8777502205411207\n",
      "0.8776548780120149\n"
     ]
    },
    {
     "name": "stderr",
     "output_type": "stream",
     "text": [
      "\r",
      " 21%|██        | 21/100 [00:50<03:04,  2.33s/it]"
     ]
    },
    {
     "name": "stdout",
     "output_type": "stream",
     "text": [
      "Epoch: 201, Test Acc: 0.254\n",
      "0.8775598092388879\n",
      "0.8774650130869761\n",
      "0.8773704884268421\n",
      "0.8772762341343479\n",
      "0.8771822490906285\n",
      "0.8770885321820668\n",
      "0.8769950823002681\n",
      "0.8769018983420329\n",
      "0.8768089792093332\n",
      "0.8767163238092864\n"
     ]
    },
    {
     "name": "stderr",
     "output_type": "stream",
     "text": [
      "\r",
      " 22%|██▏       | 22/100 [00:52<03:01,  2.32s/it]"
     ]
    },
    {
     "name": "stdout",
     "output_type": "stream",
     "text": [
      "Epoch: 211, Test Acc: 0.252\n",
      "0.8766239310541294\n",
      "0.8765317998611954\n",
      "0.8764399291528868\n",
      "0.8763483178566515\n",
      "0.8762569649049577\n",
      "0.8761658692352703\n",
      "0.8760750297900249\n",
      "0.8759844455166046\n",
      "0.8758941153673152\n"
     ]
    },
    {
     "name": "stderr",
     "output_type": "stream",
     "text": [
      "\r",
      " 23%|██▎       | 23/100 [00:54<02:49,  2.20s/it]"
     ]
    },
    {
     "name": "stdout",
     "output_type": "stream",
     "text": [
      "0.8758040382993614\n",
      "Epoch: 221, Test Acc: 0.25\n",
      "0.8757142132748228\n",
      "0.8756246392606293\n",
      "0.8755353152285383\n",
      "0.8754462401551113\n",
      "0.8753574130216887\n",
      "0.8752688328143681\n",
      "0.87518049852398\n",
      "0.8750924091460657\n",
      "0.8750045636808523\n",
      "0.8749169611332331\n"
     ]
    },
    {
     "name": "stderr",
     "output_type": "stream",
     "text": [
      "\r",
      " 24%|██▍       | 24/100 [00:57<02:53,  2.29s/it]"
     ]
    },
    {
     "name": "stdout",
     "output_type": "stream",
     "text": [
      "Epoch: 231, Test Acc: 0.252\n",
      "0.8748296005127404\n",
      "0.8747424808335263\n",
      "0.8746556011143392\n",
      "0.8745689603784998\n",
      "0.8744825576538812\n",
      "0.8743963919728842\n",
      "0.8743104623724174\n",
      "0.8742247678938732\n",
      "0.8741393075831073\n",
      "0.874054080490416\n"
     ]
    },
    {
     "name": "stderr",
     "output_type": "stream",
     "text": [
      "\r",
      " 25%|██▌       | 25/100 [00:59<02:47,  2.23s/it]"
     ]
    },
    {
     "name": "stdout",
     "output_type": "stream",
     "text": [
      "Epoch: 241, Test Acc: 0.258\n",
      "0.8739690856705149\n",
      "0.8738843221825173\n",
      "0.8737997890899127\n",
      "0.873715485460545\n",
      "0.8736314103665911\n",
      "0.8735475628845417\n",
      "0.8734639420951772\n",
      "0.8733805470835485\n",
      "0.873297376938956\n",
      "0.8732144307549294\n"
     ]
    },
    {
     "name": "stderr",
     "output_type": "stream",
     "text": [
      "\r",
      " 26%|██▌       | 26/100 [01:01<02:40,  2.17s/it]"
     ]
    },
    {
     "name": "stdout",
     "output_type": "stream",
     "text": [
      "Epoch: 251, Test Acc: 0.258\n",
      "0.8731317076292049\n",
      "0.8730492066637073\n",
      "0.8729669269645278\n",
      "0.8728848676419042\n",
      "0.8728030278102006\n",
      "0.8727214065878878\n",
      "0.8726400030975218\n",
      "0.8725588164657256\n",
      "0.872477845823168\n",
      "0.8723970903045453\n"
     ]
    },
    {
     "name": "stderr",
     "output_type": "stream",
     "text": [
      "\r",
      " 27%|██▋       | 27/100 [01:04<03:08,  2.59s/it]"
     ]
    },
    {
     "name": "stdout",
     "output_type": "stream",
     "text": [
      "Epoch: 261, Test Acc: 0.26\n",
      "0.8723165490485594\n",
      "0.8722362211979011\n",
      "0.8721561058992277\n",
      "0.8720762023031461\n",
      "0.871996509564192\n",
      "0.8719170268408116\n",
      "0.8718377532953422\n",
      "0.8717586880939926\n",
      "0.8716798304068256\n",
      "0.8716011794077384\n"
     ]
    },
    {
     "name": "stderr",
     "output_type": "stream",
     "text": [
      "\r",
      " 28%|██▊       | 28/100 [01:07<02:55,  2.44s/it]"
     ]
    },
    {
     "name": "stdout",
     "output_type": "stream",
     "text": [
      "Epoch: 271, Test Acc: 0.258\n",
      "0.8715227342744429\n",
      "0.8714444941884502\n",
      "0.8713664583350476\n",
      "0.8712886259032845\n",
      "0.8712109960859514\n",
      "0.8711335680795627\n",
      "0.8710563410843379\n",
      "0.8709793143041845\n",
      "0.8709024869466796\n",
      "0.8708258582230514\n"
     ]
    },
    {
     "name": "stderr",
     "output_type": "stream",
     "text": [
      "\r",
      " 29%|██▉       | 29/100 [01:09<02:43,  2.31s/it]"
     ]
    },
    {
     "name": "stdout",
     "output_type": "stream",
     "text": [
      "Epoch: 281, Test Acc: 0.258\n",
      "0.8707494273481624\n",
      "0.8706731935404909\n",
      "0.8705971560221146\n",
      "0.8705213140186908\n",
      "0.8704456667594418\n",
      "0.8703702134771353\n",
      "0.8702949534080685\n",
      "0.8702198857920498\n",
      "0.8701450098723834\n",
      "0.8700703248958502\n"
     ]
    },
    {
     "name": "stderr",
     "output_type": "stream",
     "text": [
      "\r",
      " 30%|███       | 30/100 [01:11<02:48,  2.40s/it]"
     ]
    },
    {
     "name": "stdout",
     "output_type": "stream",
     "text": [
      "Epoch: 291, Test Acc: 0.26\n",
      "0.8699958301126923\n",
      "0.8699215247765956\n",
      "0.8698474081446735\n",
      "0.8697734794774507\n",
      "0.8696997380388435\n",
      "0.8696261830961485\n",
      "0.8695528139200217\n",
      "0.869479629784464\n",
      "0.8694066299668048\n",
      "0.8693338137476864\n"
     ]
    },
    {
     "name": "stderr",
     "output_type": "stream",
     "text": [
      "\r",
      " 31%|███       | 31/100 [01:14<02:43,  2.37s/it]"
     ]
    },
    {
     "name": "stdout",
     "output_type": "stream",
     "text": [
      "Epoch: 301, Test Acc: 0.262\n",
      "0.8692611804110466\n",
      "0.8691887292441036\n",
      "0.8691164595373397\n",
      "0.8690443705844857\n",
      "0.8689724616825049\n",
      "0.8689007321315778\n",
      "0.8688291812350853\n",
      "0.8687578082995957\n",
      "0.8686866126348456\n",
      "0.8686155935537276\n"
     ]
    },
    {
     "name": "stderr",
     "output_type": "stream",
     "text": [
      "\r",
      " 32%|███▏      | 32/100 [01:16<02:39,  2.35s/it]"
     ]
    },
    {
     "name": "stdout",
     "output_type": "stream",
     "text": [
      "Epoch: 311, Test Acc: 0.264\n",
      "0.8685447503722739\n",
      "0.8684740824096402\n",
      "0.8684035889880921\n",
      "0.8683332694329892\n",
      "0.8682631230727699\n",
      "0.8681931492389368\n",
      "0.8681233472660416\n",
      "0.8680537164916707\n",
      "0.8679842562564299\n",
      "0.8679149659039309\n"
     ]
    },
    {
     "name": "stderr",
     "output_type": "stream",
     "text": [
      "\r",
      " 33%|███▎      | 33/100 [01:18<02:36,  2.33s/it]"
     ]
    },
    {
     "name": "stdout",
     "output_type": "stream",
     "text": [
      "Epoch: 321, Test Acc: 0.266\n",
      "0.8678458447807748\n",
      "0.8677768922365396\n",
      "0.8677081076237645\n",
      "0.8676394902979357\n",
      "0.8675710396174731\n",
      "0.867502754943715\n",
      "0.8674346356409038\n",
      "0.8673666810761732\n",
      "0.8672988906195334\n"
     ]
    },
    {
     "name": "stderr",
     "output_type": "stream",
     "text": [
      "\r",
      " 34%|███▍      | 34/100 [01:21<02:38,  2.41s/it]"
     ]
    },
    {
     "name": "stdout",
     "output_type": "stream",
     "text": [
      "0.8672312636438563\n",
      "Epoch: 331, Test Acc: 0.27\n",
      "0.8671637995248633\n",
      "0.867096497641111\n",
      "0.8670293573739765\n",
      "0.8669623781076445\n",
      "0.8668955592290947\n",
      "0.8668289001280859\n",
      "0.8667624001971441\n",
      "0.8666960588315502\n",
      "0.8666298754293239\n",
      "0.8665638493912126\n"
     ]
    },
    {
     "name": "stderr",
     "output_type": "stream",
     "text": [
      "\r",
      " 35%|███▌      | 35/100 [01:22<02:24,  2.22s/it]"
     ]
    },
    {
     "name": "stdout",
     "output_type": "stream",
     "text": [
      "Epoch: 341, Test Acc: 0.27\n",
      "0.8664979801206771\n",
      "0.8664322670238799\n",
      "0.8663667095096695\n",
      "0.8663013069895706\n",
      "0.8662360588777691\n",
      "0.8661709645910989\n",
      "0.8661060235490315\n",
      "0.8660412351736606\n",
      "0.8659765988896907\n",
      "0.8659121141244248\n"
     ]
    },
    {
     "name": "stderr",
     "output_type": "stream",
     "text": [
      "\r",
      " 36%|███▌      | 36/100 [01:25<02:28,  2.32s/it]"
     ]
    },
    {
     "name": "stdout",
     "output_type": "stream",
     "text": [
      "Epoch: 351, Test Acc: 0.27\n",
      "0.8658477803077503\n",
      "0.8657835968721291\n",
      "0.8657195632525824\n",
      "0.8656556788866799\n",
      "0.8655919432145278\n",
      "0.8655283556787549\n",
      "0.8654649157245021\n",
      "0.8654016227994097\n",
      "0.8653384763536047\n",
      "0.8652754758396904\n"
     ]
    },
    {
     "name": "stderr",
     "output_type": "stream",
     "text": [
      "\r",
      " 37%|███▋      | 37/100 [01:27<02:20,  2.22s/it]"
     ]
    },
    {
     "name": "stdout",
     "output_type": "stream",
     "text": [
      "Epoch: 361, Test Acc: 0.272\n",
      "0.865212620712732\n",
      "0.8651499104302474\n",
      "0.8650873444521933\n",
      "0.8650249222409548\n",
      "0.864962643261333\n",
      "0.8649005069805328\n",
      "0.8648385128681534\n",
      "0.8647766603961738\n",
      "0.8647149490389441\n",
      "0.8646533782731722\n"
     ]
    },
    {
     "name": "stderr",
     "output_type": "stream",
     "text": [
      "\r",
      " 38%|███▊      | 38/100 [01:29<02:17,  2.21s/it]"
     ]
    },
    {
     "name": "stdout",
     "output_type": "stream",
     "text": [
      "Epoch: 371, Test Acc: 0.27\n",
      "0.8645919475779135\n",
      "0.8645306564345583\n",
      "0.8644695043268232\n",
      "0.8644084907407361\n",
      "0.8643476151646288\n",
      "0.8642868770891231\n",
      "0.8642262760071213\n",
      "0.8641658114137946\n",
      "0.864105482806573\n",
      "0.864045289685133\n"
     ]
    },
    {
     "name": "stderr",
     "output_type": "stream",
     "text": [
      "\r",
      " 39%|███▉      | 39/100 [01:32<02:16,  2.24s/it]"
     ]
    },
    {
     "name": "stdout",
     "output_type": "stream",
     "text": [
      "Epoch: 381, Test Acc: 0.268\n",
      "0.863985231551388\n",
      "0.8639253079094772\n",
      "0.8638655182657548\n",
      "0.863805862128779\n",
      "0.8637463390093028\n",
      "0.8636869484202615\n",
      "0.8636276898767629\n",
      "0.8635685628960779\n",
      "0.863509566997629\n",
      "0.8634507017029802\n"
     ]
    },
    {
     "name": "stderr",
     "output_type": "stream",
     "text": [
      "\r",
      " 40%|████      | 40/100 [01:34<02:22,  2.38s/it]"
     ]
    },
    {
     "name": "stdout",
     "output_type": "stream",
     "text": [
      "Epoch: 391, Test Acc: 0.27\n",
      "0.8633919665358266\n",
      "0.863333361021985\n",
      "0.8632748846893817\n",
      "0.8632165370680454\n",
      "0.8631583176900937\n",
      "0.8631002260897261\n",
      "0.8630422618032122\n",
      "0.8629844243688822\n",
      "0.8629267133271163\n",
      "0.8628691282203375\n"
     ]
    },
    {
     "name": "stderr",
     "output_type": "stream",
     "text": [
      "\r",
      " 41%|████      | 41/100 [01:36<02:18,  2.35s/it]"
     ]
    },
    {
     "name": "stdout",
     "output_type": "stream",
     "text": [
      "Epoch: 401, Test Acc: 0.27\n",
      "0.8628116685929976\n",
      "0.862754333991572\n",
      "0.8626971239645458\n",
      "0.8626400380624076\n",
      "0.8625830758376375\n",
      "0.862526236844699\n",
      "0.8624695206400284\n",
      "0.8624129267820269\n",
      "0.8623564548310486\n"
     ]
    },
    {
     "name": "stderr",
     "output_type": "stream",
     "text": [
      "\r",
      " 42%|████▏     | 42/100 [01:39<02:13,  2.30s/it]"
     ]
    },
    {
     "name": "stdout",
     "output_type": "stream",
     "text": [
      "0.8623001043493945\n",
      "Epoch: 411, Test Acc: 0.276\n",
      "0.8622438749013002\n",
      "0.8621877660529277\n",
      "0.8621317773723579\n",
      "0.8620759084295777\n",
      "0.8620201587964743\n",
      "0.8619645280468243\n",
      "0.8619090157562859\n",
      "0.8618536215023876\n",
      "0.8617983448645222\n",
      "0.861743185423936\n"
     ]
    },
    {
     "name": "stderr",
     "output_type": "stream",
     "text": [
      "\r",
      " 43%|████▎     | 43/100 [01:41<02:08,  2.25s/it]"
     ]
    },
    {
     "name": "stdout",
     "output_type": "stream",
     "text": [
      "Epoch: 421, Test Acc: 0.276\n",
      "0.8616881427637202\n",
      "0.8616332164688028\n",
      "0.8615784061259385\n",
      "0.8615237113237012\n",
      "0.8614691316524749\n",
      "0.8614146667044448\n",
      "0.8613603160735893\n",
      "0.8613060793556705\n",
      "0.8612519561482267\n",
      "0.8611979460505623\n"
     ]
    },
    {
     "name": "stderr",
     "output_type": "stream",
     "text": [
      "\r",
      " 44%|████▍     | 44/100 [01:43<02:08,  2.29s/it]"
     ]
    },
    {
     "name": "stdout",
     "output_type": "stream",
     "text": [
      "Epoch: 431, Test Acc: 0.278\n",
      "0.8611440486637423\n",
      "0.8610902635905806\n",
      "0.8610365904356337\n",
      "0.8609830288051914\n",
      "0.8609295783072692\n",
      "0.8608762385516002\n",
      "0.8608230091496256\n",
      "0.8607698897144881\n",
      "0.860716879861023\n"
     ]
    },
    {
     "name": "stderr",
     "output_type": "stream",
     "text": [
      "\r",
      " 45%|████▌     | 45/100 [01:45<02:02,  2.24s/it]"
     ]
    },
    {
     "name": "stdout",
     "output_type": "stream",
     "text": [
      "0.8606639792057499\n",
      "Epoch: 441, Test Acc: 0.278\n",
      "0.8606111873668651\n",
      "0.8605585039642345\n",
      "0.860505928619383\n",
      "0.8604534609554895\n",
      "0.8604011005973771\n",
      "0.8603488471715062\n",
      "0.8602967003059663\n",
      "0.8602446596304691\n",
      "0.8601927247763385\n",
      "0.8601408953765058\n"
     ]
    },
    {
     "name": "stderr",
     "output_type": "stream",
     "text": [
      "\r",
      " 46%|████▌     | 46/100 [01:47<01:58,  2.19s/it]"
     ]
    },
    {
     "name": "stdout",
     "output_type": "stream",
     "text": [
      "Epoch: 451, Test Acc: 0.276\n",
      "0.8600891710655005\n",
      "0.8600375514794424\n",
      "0.8599860362560346\n",
      "0.8599346250345568\n",
      "0.8598833174558556\n",
      "0.8598321131623387\n",
      "0.8597810117979684\n",
      "0.8597300130082508\n",
      "0.8596791164402323\n",
      "0.8596283217424895\n"
     ]
    },
    {
     "name": "stderr",
     "output_type": "stream",
     "text": [
      "\r",
      " 47%|████▋     | 47/100 [01:49<01:51,  2.11s/it]"
     ]
    },
    {
     "name": "stdout",
     "output_type": "stream",
     "text": [
      "Epoch: 461, Test Acc: 0.276\n",
      "0.8595776285651239\n",
      "0.8595270365597529\n",
      "0.8594765453795039\n",
      "0.8594261546790062\n",
      "0.8593758641143852\n",
      "0.8593256733432535\n",
      "0.8592755820247052\n",
      "0.8592255898193087\n",
      "0.8591756963890986\n",
      "0.8591259013975704\n"
     ]
    },
    {
     "name": "stderr",
     "output_type": "stream",
     "text": [
      "\r",
      " 48%|████▊     | 48/100 [01:51<01:49,  2.10s/it]"
     ]
    },
    {
     "name": "stdout",
     "output_type": "stream",
     "text": [
      "Epoch: 471, Test Acc: 0.276\n",
      "0.8590762045096721\n",
      "0.8590266053917984\n",
      "0.8589771037117833\n",
      "0.8589276991388932\n",
      "0.8588783913438204\n",
      "0.8588291799986761\n",
      "0.8587800647769833\n",
      "0.8587310453536721\n",
      "0.85868212140507\n"
     ]
    },
    {
     "name": "stderr",
     "output_type": "stream",
     "text": [
      "\r",
      " 49%|████▉     | 49/100 [01:54<01:48,  2.13s/it]"
     ]
    },
    {
     "name": "stdout",
     "output_type": "stream",
     "text": [
      "0.8586332926088972\n",
      "Epoch: 481, Test Acc: 0.278\n",
      "0.85858455864426\n",
      "0.8585359191916434\n",
      "0.8584873739329054\n",
      "0.8584389225512696\n",
      "0.8583905647313197\n",
      "0.8583423001589924\n",
      "0.8582941285215714\n",
      "0.8582460495076801\n",
      "0.8581980628072771\n",
      "0.8581501681116482\n"
     ]
    },
    {
     "name": "stderr",
     "output_type": "stream",
     "text": [
      "\r",
      " 50%|█████     | 50/100 [01:56<01:43,  2.07s/it]"
     ]
    },
    {
     "name": "stdout",
     "output_type": "stream",
     "text": [
      "Epoch: 491, Test Acc: 0.278\n",
      "0.8581023651134012\n",
      "0.8580546535064579\n",
      "0.8580070329860504\n",
      "0.8579595032487133\n",
      "0.8579120639922775\n",
      "0.8578647149158655\n",
      "0.8578174557198827\n",
      "0.8577702861060145\n",
      "0.8577232057772181\n",
      "0.8576762144377162\n"
     ]
    },
    {
     "name": "stderr",
     "output_type": "stream",
     "text": [
      "\r",
      " 51%|█████     | 51/100 [01:58<01:43,  2.11s/it]"
     ]
    },
    {
     "name": "stdout",
     "output_type": "stream",
     "text": [
      "Epoch: 501, Test Acc: 0.278\n",
      "0.8576293117929934\n",
      "0.8575824975497879\n",
      "0.8575357714160864\n",
      "0.8574891331011184\n",
      "0.8574425823153504\n",
      "0.8573961187704796\n",
      "0.8573497421794286\n",
      "0.8573034522563389\n",
      "0.8572572487165657\n",
      "0.8572111312766729\n"
     ]
    },
    {
     "name": "stderr",
     "output_type": "stream",
     "text": [
      "\r",
      " 52%|█████▏    | 52/100 [02:00<01:45,  2.21s/it]"
     ]
    },
    {
     "name": "stdout",
     "output_type": "stream",
     "text": [
      "Epoch: 511, Test Acc: 0.28\n",
      "0.8571650996544259\n",
      "0.8571191535687865\n",
      "0.8570732927399082\n",
      "0.8570275168891295\n",
      "0.8569818257389678\n",
      "0.8569362190131162\n",
      "0.8568906964364353\n",
      "0.8568452577349494\n",
      "0.8567999026358403\n",
      "0.8567546308674423\n"
     ]
    },
    {
     "name": "stderr",
     "output_type": "stream",
     "text": [
      "\r",
      " 53%|█████▎    | 53/100 [02:02<01:39,  2.11s/it]"
     ]
    },
    {
     "name": "stdout",
     "output_type": "stream",
     "text": [
      "Epoch: 521, Test Acc: 0.28\n",
      "0.8567094421592362\n",
      "0.8566643362418445\n",
      "0.8566193128470255\n",
      "0.8565743717076691\n",
      "0.8565295125577895\n",
      "0.8564847351325217\n",
      "0.8564400391681153\n",
      "0.8563954244019301\n",
      "0.8563508905724299\n",
      "0.8563064374191776\n"
     ]
    },
    {
     "name": "stderr",
     "output_type": "stream",
     "text": [
      "\r",
      " 54%|█████▍    | 54/100 [02:04<01:36,  2.10s/it]"
     ]
    },
    {
     "name": "stdout",
     "output_type": "stream",
     "text": [
      "Epoch: 531, Test Acc: 0.282\n",
      "0.8562620646828304\n",
      "0.856217772105135\n",
      "0.8561735594289213\n",
      "0.8561294263980981\n",
      "0.8560853727576483\n",
      "0.8560413982536234\n",
      "0.855997502633138\n",
      "0.8559536856443664\n",
      "0.8559099470365354\n",
      "0.8558662865599221\n"
     ]
    },
    {
     "name": "stderr",
     "output_type": "stream",
     "text": [
      "\r",
      " 55%|█████▌    | 55/100 [02:07<01:39,  2.22s/it]"
     ]
    },
    {
     "name": "stdout",
     "output_type": "stream",
     "text": [
      "Epoch: 541, Test Acc: 0.282\n",
      "0.8558227039658467\n",
      "0.8557791990066684\n",
      "0.8557357714357805\n",
      "0.8556924210076057\n",
      "0.8556491474775918\n",
      "0.8556059506022056\n",
      "0.8555628301389289\n",
      "0.855519785846254\n",
      "0.8554768174836785\n",
      "0.8554339248117012\n"
     ]
    },
    {
     "name": "stderr",
     "output_type": "stream",
     "text": [
      "\r",
      " 56%|█████▌    | 56/100 [02:09<01:41,  2.30s/it]"
     ]
    },
    {
     "name": "stdout",
     "output_type": "stream",
     "text": [
      "Epoch: 551, Test Acc: 0.282\n",
      "0.8553911075918162\n",
      "0.8553483655865101\n",
      "0.8553056985592553\n",
      "0.8552631062745073\n",
      "0.8552205884976982\n",
      "0.8551781449952344\n",
      "0.8551357755344898\n",
      "0.8550934798838032\n",
      "0.8550512578124725\n",
      "0.8550091090907503\n"
     ]
    },
    {
     "name": "stderr",
     "output_type": "stream",
     "text": [
      "\r",
      " 57%|█████▋    | 57/100 [02:11<01:32,  2.15s/it]"
     ]
    },
    {
     "name": "stdout",
     "output_type": "stream",
     "text": [
      "Epoch: 561, Test Acc: 0.282\n",
      "0.8549670334898402\n",
      "0.8549250307818919\n",
      "0.8548831007399972\n",
      "0.8548412431381847\n",
      "0.8547994577514161\n",
      "0.8547577443555822\n",
      "0.8547161027274978\n",
      "0.8546745326448975\n",
      "0.8546330338864322\n",
      "0.854591606231664\n"
     ]
    },
    {
     "name": "stderr",
     "output_type": "stream",
     "text": [
      "\r",
      " 58%|█████▊    | 58/100 [02:13<01:34,  2.26s/it]"
     ]
    },
    {
     "name": "stdout",
     "output_type": "stream",
     "text": [
      "Epoch: 571, Test Acc: 0.284\n",
      "0.8545502494610626\n",
      "0.8545089633559999\n",
      "0.8544677476987478\n",
      "0.8544266022724718\n",
      "0.8543855268612285\n",
      "0.8543445212499609\n",
      "0.8543035852244937\n",
      "0.8542627185715305\n",
      "0.8542219210786484\n",
      "0.854181192534295\n"
     ]
    },
    {
     "name": "stderr",
     "output_type": "stream",
     "text": [
      "\r",
      " 59%|█████▉    | 59/100 [02:15<01:28,  2.15s/it]"
     ]
    },
    {
     "name": "stdout",
     "output_type": "stream",
     "text": [
      "Epoch: 581, Test Acc: 0.284\n",
      "0.8541405327277835\n",
      "0.8540999414492891\n",
      "0.8540594184898457\n",
      "0.8540189636413398\n",
      "0.853978576696509\n",
      "0.8539382574489368\n",
      "0.8538980056930486\n",
      "0.8538578212241086\n",
      "0.853817703838215\n",
      "0.853777653332296\n"
     ]
    },
    {
     "name": "stderr",
     "output_type": "stream",
     "text": [
      "\r",
      " 60%|██████    | 60/100 [02:18<01:27,  2.19s/it]"
     ]
    },
    {
     "name": "stdout",
     "output_type": "stream",
     "text": [
      "Epoch: 591, Test Acc: 0.286\n",
      "0.8537376695041078\n",
      "0.8536977521522284\n",
      "0.853657901076055\n",
      "0.8536181160758006\n",
      "0.8535783969524895\n",
      "0.8535387435079529\n",
      "0.8534991555448272\n",
      "0.8534596328665485\n",
      "0.8534201752773491\n",
      "0.8533807825822557\n"
     ]
    },
    {
     "name": "stderr",
     "output_type": "stream",
     "text": [
      "\r",
      " 61%|██████    | 61/100 [02:20<01:27,  2.23s/it]"
     ]
    },
    {
     "name": "stdout",
     "output_type": "stream",
     "text": [
      "Epoch: 601, Test Acc: 0.286\n",
      "0.8533414545870823\n",
      "0.8533021910984296\n",
      "0.8532629919236806\n",
      "0.8532238568709958\n",
      "0.8531847857493111\n",
      "0.853145778368333\n",
      "0.8531068345385368\n",
      "0.8530679540711604\n",
      "0.8530291367782035\n",
      "0.8529903824724223\n"
     ]
    },
    {
     "name": "stderr",
     "output_type": "stream",
     "text": [
      "\r",
      " 62%|██████▏   | 62/100 [02:22<01:21,  2.16s/it]"
     ]
    },
    {
     "name": "stdout",
     "output_type": "stream",
     "text": [
      "Epoch: 611, Test Acc: 0.286\n",
      "0.8529516909673268\n",
      "0.8529130620771772\n",
      "0.8528744956169804\n",
      "0.8528359914024861\n",
      "0.8527975492501843\n",
      "0.8527591689773012\n",
      "0.8527208504017959\n",
      "0.852682593342358\n",
      "0.8526443976184023\n",
      "0.852606263050067\n"
     ]
    },
    {
     "name": "stderr",
     "output_type": "stream",
     "text": [
      "\r",
      " 63%|██████▎   | 63/100 [02:24<01:17,  2.08s/it]"
     ]
    },
    {
     "name": "stdout",
     "output_type": "stream",
     "text": [
      "Epoch: 621, Test Acc: 0.286\n",
      "0.8525681894582102\n",
      "0.852530176664406\n",
      "0.8524922244909414\n",
      "0.8524543327608143\n",
      "0.8524165012977274\n",
      "0.8523787299260881\n",
      "0.8523410184710031\n",
      "0.8523033667582766\n",
      "0.8522657746144049\n",
      "0.8522282418665771\n"
     ]
    },
    {
     "name": "stderr",
     "output_type": "stream",
     "text": [
      "\r",
      " 64%|██████▍   | 64/100 [02:27<01:23,  2.32s/it]"
     ]
    },
    {
     "name": "stdout",
     "output_type": "stream",
     "text": [
      "Epoch: 631, Test Acc: 0.288\n",
      "0.852190768342668\n",
      "0.8521533538712367\n",
      "0.8521159982815242\n",
      "0.8520787014034479\n",
      "0.8520414630676014\n",
      "0.8520042831052496\n",
      "0.851967161348326\n",
      "0.851930097629429\n",
      "0.8518930917818207\n",
      "0.8518561436394221\n"
     ]
    },
    {
     "name": "stderr",
     "output_type": "stream",
     "text": [
      "\r",
      " 65%|██████▌   | 65/100 [02:29<01:18,  2.23s/it]"
     ]
    },
    {
     "name": "stdout",
     "output_type": "stream",
     "text": [
      "Epoch: 641, Test Acc: 0.288\n",
      "0.8518192530368109\n",
      "0.8517824198092182\n",
      "0.8517456437925252\n",
      "0.8517089248232614\n",
      "0.8516722627386005\n",
      "0.8516356573763577\n",
      "0.8515991085749873\n",
      "0.8515626161735791\n",
      "0.8515261800118559\n"
     ]
    },
    {
     "name": "stderr",
     "output_type": "stream",
     "text": [
      "\r",
      " 66%|██████▌   | 66/100 [02:31<01:13,  2.16s/it]"
     ]
    },
    {
     "name": "stdout",
     "output_type": "stream",
     "text": [
      "0.8514897999301706\n",
      "Epoch: 651, Test Acc: 0.288\n",
      "0.8514534757695028\n",
      "0.8514172073714572\n",
      "0.8513809945782598\n",
      "0.8513448372327543\n",
      "0.851308735178401\n",
      "0.8512726882592734\n",
      "0.8512366963200544\n",
      "0.8512007592060351\n",
      "0.851164876763111\n",
      "0.8511290488377791\n"
     ]
    },
    {
     "name": "stderr",
     "output_type": "stream",
     "text": [
      "\r",
      " 67%|██████▋   | 67/100 [02:32<01:07,  2.05s/it]"
     ]
    },
    {
     "name": "stdout",
     "output_type": "stream",
     "text": [
      "Epoch: 661, Test Acc: 0.286\n",
      "0.8510932752771367\n",
      "0.851057555928876\n",
      "0.8510218906412844\n",
      "0.8509862792632398\n",
      "0.8509507216442083\n",
      "0.8509152176342417\n",
      "0.8508797670839752\n",
      "0.8508443698446243\n",
      "0.8508090257679823\n",
      "0.8507737347064175\n"
     ]
    },
    {
     "name": "stderr",
     "output_type": "stream",
     "text": [
      "\r",
      " 68%|██████▊   | 68/100 [02:35<01:13,  2.31s/it]"
     ]
    },
    {
     "name": "stdout",
     "output_type": "stream",
     "text": [
      "Epoch: 671, Test Acc: 0.286\n",
      "0.8507384965128708\n",
      "0.8507033110408527\n",
      "0.8506681781444423\n",
      "0.8506330976782822\n",
      "0.8505980694975777\n",
      "0.8505630934580939\n",
      "0.8505281694161532\n",
      "0.8504932972286321\n",
      "0.8504584767529599\n"
     ]
    },
    {
     "name": "stderr",
     "output_type": "stream",
     "text": [
      "\r",
      " 69%|██████▉   | 69/100 [02:37<01:07,  2.18s/it]"
     ]
    },
    {
     "name": "stdout",
     "output_type": "stream",
     "text": [
      "0.8504237078471159\n",
      "Epoch: 681, Test Acc: 0.288\n",
      "0.8503889903696247\n",
      "0.8503543241795578\n",
      "0.8503197091365281\n",
      "0.8502851451006876\n",
      "0.8502506319327265\n",
      "0.8502161694938701\n",
      "0.8501817576458754\n",
      "0.8501473962510303\n",
      "0.8501130851721499\n",
      "0.8500788242725745\n",
      "Epoch: 691, Test Acc: 0.29\n"
     ]
    },
    {
     "name": "stderr",
     "output_type": "stream",
     "text": [
      "\r",
      " 70%|███████   | 70/100 [02:39<01:05,  2.19s/it]"
     ]
    },
    {
     "name": "stdout",
     "output_type": "stream",
     "text": [
      "0.8500446134161687\n",
      "0.8500104524673155\n",
      "0.8499763412909188\n",
      "0.8499422797523966\n",
      "0.849908267717681\n",
      "0.849874305053215\n",
      "0.8498403916259523\n",
      "0.8498065273033516\n",
      "0.8497727119533763\n",
      "0.8497389454444932\n"
     ]
    },
    {
     "name": "stderr",
     "output_type": "stream",
     "text": [
      "\r",
      " 71%|███████   | 71/100 [02:42<01:01,  2.14s/it]"
     ]
    },
    {
     "name": "stdout",
     "output_type": "stream",
     "text": [
      "Epoch: 701, Test Acc: 0.29\n",
      "0.8497052276456675\n",
      "0.8496715584263631\n",
      "0.8496379376565392\n",
      "0.8496043652066481\n",
      "0.8495708409476327\n",
      "0.849537364750926\n",
      "0.8495039364884465\n",
      "0.8494705560325975\n",
      "0.8494372232562643\n",
      "0.8494039380328132\n"
     ]
    },
    {
     "name": "stderr",
     "output_type": "stream",
     "text": [
      "\r",
      " 72%|███████▏  | 72/100 [02:43<00:57,  2.06s/it]"
     ]
    },
    {
     "name": "stdout",
     "output_type": "stream",
     "text": [
      "Epoch: 711, Test Acc: 0.292\n",
      "0.8493707002360878\n",
      "0.8493375097404074\n",
      "0.8493043664205658\n",
      "0.8492712701518277\n",
      "0.8492382208099275\n",
      "0.849205218271067\n",
      "0.8491722624119133\n",
      "0.8491393531095969\n",
      "0.8491064902417091\n",
      "0.8490736736863009\n"
     ]
    },
    {
     "name": "stderr",
     "output_type": "stream",
     "text": [
      "\r",
      " 73%|███████▎  | 73/100 [02:46<01:01,  2.26s/it]"
     ]
    },
    {
     "name": "stdout",
     "output_type": "stream",
     "text": [
      "Epoch: 721, Test Acc: 0.292\n",
      "0.84904090332188\n",
      "0.8490081790274088\n",
      "0.8489755006823031\n",
      "0.8489428681664293\n",
      "0.8489102813601039\n",
      "0.8488777401440888\n",
      "0.8488452443995921\n",
      "0.8488127940082641\n",
      "0.8487803888521965\n",
      "0.84874802881392\n"
     ]
    },
    {
     "name": "stderr",
     "output_type": "stream",
     "text": [
      "\r",
      " 74%|███████▍  | 74/100 [02:49<01:01,  2.36s/it]"
     ]
    },
    {
     "name": "stdout",
     "output_type": "stream",
     "text": [
      "Epoch: 731, Test Acc: 0.292\n",
      "0.8487157137764022\n",
      "0.8486834436230464\n",
      "0.8486512182376889\n",
      "0.8486190375045968\n",
      "0.8485869013084674\n",
      "0.848554809534425\n",
      "0.8485227620680198\n",
      "0.8484907587952255\n",
      "0.8484587996024376\n",
      "0.8484268843764713\n"
     ]
    },
    {
     "name": "stderr",
     "output_type": "stream",
     "text": [
      "\r",
      " 75%|███████▌  | 75/100 [02:52<01:04,  2.58s/it]"
     ]
    },
    {
     "name": "stdout",
     "output_type": "stream",
     "text": [
      "Epoch: 741, Test Acc: 0.294\n",
      "0.8483950130045608\n",
      "0.8483631853743556\n",
      "0.8483314013739203\n",
      "0.8482996608917318\n",
      "0.8482679638166772\n",
      "0.8482363100380537\n",
      "0.8482046994455644\n",
      "0.8481731319293191\n",
      "0.8481416073798294\n",
      "0.8481101256880103\n"
     ]
    },
    {
     "name": "stderr",
     "output_type": "stream",
     "text": [
      "\r",
      " 76%|███████▌  | 76/100 [02:54<01:01,  2.58s/it]"
     ]
    },
    {
     "name": "stdout",
     "output_type": "stream",
     "text": [
      "Epoch: 751, Test Acc: 0.294\n",
      "0.8480786867451754\n",
      "0.8480472904430381\n",
      "0.8480159366737068\n",
      "0.8479846253296849\n",
      "0.8479533563038695\n",
      "0.8479221294895483\n",
      "0.8478909447803986\n",
      "0.8478598020704858\n",
      "0.8478287012542611\n",
      "0.84779764222656\n"
     ]
    },
    {
     "name": "stderr",
     "output_type": "stream",
     "text": [
      "\r",
      " 77%|███████▋  | 77/100 [02:57<00:58,  2.56s/it]"
     ]
    },
    {
     "name": "stdout",
     "output_type": "stream",
     "text": [
      "Epoch: 761, Test Acc: 0.294\n",
      "0.847766624882601\n",
      "0.8477356491179835\n",
      "0.8477047148286864\n",
      "0.8476738219110656\n",
      "0.8476429702618542\n",
      "0.8476121597781586\n",
      "0.8475813903574583\n",
      "0.8475506618976044\n",
      "0.8475199742968164\n",
      "0.8474893274536826\n"
     ]
    },
    {
     "name": "stderr",
     "output_type": "stream",
     "text": [
      "\r",
      " 78%|███████▊  | 78/100 [02:59<00:56,  2.57s/it]"
     ]
    },
    {
     "name": "stdout",
     "output_type": "stream",
     "text": [
      "Epoch: 771, Test Acc: 0.294\n",
      "0.8474587212671569\n",
      "0.8474281556365588\n",
      "0.8473976304615694\n",
      "0.8473671456422319\n",
      "0.84733670107895\n",
      "0.8473062966724847\n",
      "0.8472759323239545\n",
      "0.8472456079348325\n",
      "0.8472153234069456\n",
      "0.8471850786424728\n"
     ]
    },
    {
     "name": "stderr",
     "output_type": "stream",
     "text": [
      "\r",
      " 79%|███████▉  | 79/100 [03:02<00:54,  2.58s/it]"
     ]
    },
    {
     "name": "stdout",
     "output_type": "stream",
     "text": [
      "Epoch: 781, Test Acc: 0.296\n",
      "0.8471548735439438\n",
      "0.8471247080142372\n",
      "0.8470945819565785\n",
      "0.8470644952745399\n",
      "0.8470344478720381\n",
      "0.847004439653332\n",
      "0.8469744705230228\n",
      "0.8469445403860513\n",
      "0.8469146491476964\n",
      "0.846884796713575\n"
     ]
    },
    {
     "name": "stderr",
     "output_type": "stream",
     "text": [
      "\r",
      " 80%|████████  | 80/100 [03:05<00:51,  2.55s/it]"
     ]
    },
    {
     "name": "stdout",
     "output_type": "stream",
     "text": [
      "Epoch: 791, Test Acc: 0.296\n",
      "0.8468549829896383\n",
      "0.8468252078821729\n",
      "0.846795471297797\n",
      "0.8467657731434607\n",
      "0.8467361133264435\n",
      "0.8467064917543529\n",
      "0.8466769083351244\n",
      "0.846647362977018\n",
      "0.846617855588618\n",
      "0.8465883860788318\n"
     ]
    },
    {
     "name": "stderr",
     "output_type": "stream",
     "text": [
      "\r",
      " 81%|████████  | 81/100 [03:07<00:46,  2.45s/it]"
     ]
    },
    {
     "name": "stdout",
     "output_type": "stream",
     "text": [
      "Epoch: 801, Test Acc: 0.298\n",
      "0.8465589543568873\n",
      "0.8465295603323328\n",
      "0.8465002039150356\n",
      "0.8464708850151789\n",
      "0.8464416035432624\n",
      "0.8464123594101002\n",
      "0.8463831525268195\n",
      "0.846353982804859\n",
      "0.8463248501559675\n",
      "0.8462957544922031\n"
     ]
    },
    {
     "name": "stderr",
     "output_type": "stream",
     "text": [
      "\r",
      " 82%|████████▏ | 82/100 [03:09<00:43,  2.41s/it]"
     ]
    },
    {
     "name": "stdout",
     "output_type": "stream",
     "text": [
      "Epoch: 811, Test Acc: 0.302\n",
      "0.8462666957259317\n",
      "0.846237673769825\n",
      "0.8462086885368602\n",
      "0.846179739940318\n",
      "0.8461508278937818\n",
      "0.8461219523111355\n",
      "0.8460931131065632\n",
      "0.8460643101945473\n",
      "0.8460355434898681\n",
      "0.8460068129076005\n"
     ]
    },
    {
     "name": "stderr",
     "output_type": "stream",
     "text": [
      "\r",
      " 83%|████████▎ | 83/100 [03:12<00:40,  2.41s/it]"
     ]
    },
    {
     "name": "stdout",
     "output_type": "stream",
     "text": [
      "Epoch: 821, Test Acc: 0.302\n",
      "0.8459781183631152\n",
      "0.8459494597720763\n",
      "0.8459208370504394\n",
      "0.8458922501144509\n",
      "0.8458636988806483\n",
      "0.8458351832658553\n",
      "0.8458067031871848\n",
      "0.8457782585620344\n",
      "0.8457498493080868\n",
      "0.8457214753433083\n"
     ]
    },
    {
     "name": "stderr",
     "output_type": "stream",
     "text": [
      "\r",
      " 84%|████████▍ | 84/100 [03:14<00:37,  2.31s/it]"
     ]
    },
    {
     "name": "stdout",
     "output_type": "stream",
     "text": [
      "Epoch: 831, Test Acc: 0.302\n",
      "0.8456931365859477\n",
      "0.8456648329545339\n",
      "0.8456365643678766\n",
      "0.8456083307450638\n",
      "0.8455801320054614\n",
      "0.8455519680687112\n",
      "0.8455238388547301\n",
      "0.8454957442837094\n",
      "0.8454676842761126\n",
      "0.8454396587526753\n"
     ]
    },
    {
     "name": "stderr",
     "output_type": "stream",
     "text": [
      "\r",
      " 85%|████████▌ | 85/100 [03:17<00:37,  2.52s/it]"
     ]
    },
    {
     "name": "stdout",
     "output_type": "stream",
     "text": [
      "Epoch: 841, Test Acc: 0.3\n",
      "0.8454116676344031\n",
      "0.8453837108425715\n",
      "0.8453557882987238\n",
      "0.8453278999246703\n",
      "0.8453000456424874\n",
      "0.8452722253745162\n",
      "0.8452444390433612\n",
      "0.8452166865718898\n",
      "0.8451889678832306\n",
      "0.8451612829007725\n"
     ]
    },
    {
     "name": "stderr",
     "output_type": "stream",
     "text": [
      "\r",
      " 86%|████████▌ | 86/100 [03:19<00:35,  2.52s/it]"
     ]
    },
    {
     "name": "stdout",
     "output_type": "stream",
     "text": [
      "Epoch: 851, Test Acc: 0.298\n",
      "0.8451336315481637\n",
      "0.8451060137493102\n",
      "0.8450784294283754\n",
      "0.8450508785097786\n",
      "0.8450233609181939\n",
      "0.8449958765785481\n",
      "0.8449684254160228\n",
      "0.8449410073560492\n",
      "0.8449136223243102\n",
      "0.8448862702467379\n"
     ]
    },
    {
     "name": "stderr",
     "output_type": "stream",
     "text": [
      "\r",
      " 87%|████████▋ | 87/100 [03:21<00:31,  2.39s/it]"
     ]
    },
    {
     "name": "stdout",
     "output_type": "stream",
     "text": [
      "Epoch: 861, Test Acc: 0.3\n",
      "0.8448589510495129\n",
      "0.8448316646590628\n",
      "0.8448044110020619\n",
      "0.8447771900054301\n",
      "0.8447500015963307\n",
      "0.8447228457021713\n",
      "0.844695722250601\n",
      "0.8446686311695103\n",
      "0.8446415723870297\n",
      "0.8446145458315297\n"
     ]
    },
    {
     "name": "stderr",
     "output_type": "stream",
     "text": [
      "\r",
      " 88%|████████▊ | 88/100 [03:23<00:27,  2.27s/it]"
     ]
    },
    {
     "name": "stdout",
     "output_type": "stream",
     "text": [
      "Epoch: 871, Test Acc: 0.3\n",
      "0.8445875514316177\n",
      "0.8445605891161393\n",
      "0.8445336588141757\n",
      "0.8445067604550439\n",
      "0.8444798939682943\n",
      "0.844453059283711\n",
      "0.8444262563313105\n",
      "0.8443994850413403\n",
      "0.844372745344278\n",
      "0.8443460371708315\n"
     ]
    },
    {
     "name": "stderr",
     "output_type": "stream",
     "text": [
      "\r",
      " 89%|████████▉ | 89/100 [03:25<00:24,  2.19s/it]"
     ]
    },
    {
     "name": "stdout",
     "output_type": "stream",
     "text": [
      "Epoch: 881, Test Acc: 0.3\n",
      "0.8443193604519355\n",
      "0.8442927151187535\n",
      "0.8442661011026747\n",
      "0.8442395183353145\n",
      "0.8442129667485125\n",
      "0.8441864462743319\n",
      "0.8441599568450585\n",
      "0.8441334983932006\n",
      "0.8441070708514861\n",
      "0.8440806741528643\n"
     ]
    },
    {
     "name": "stderr",
     "output_type": "stream",
     "text": [
      "\r",
      " 90%|█████████ | 90/100 [03:28<00:22,  2.25s/it]"
     ]
    },
    {
     "name": "stdout",
     "output_type": "stream",
     "text": [
      "Epoch: 891, Test Acc: 0.3\n",
      "0.8440543082305021\n",
      "0.8440279730177863\n",
      "0.8440016684483191\n",
      "0.8439753944559203\n",
      "0.8439491509746244\n",
      "0.8439229379386806\n",
      "0.8438967552825518\n",
      "0.8438706029409138\n",
      "0.8438444808486538\n",
      "0.8438183889408706\n"
     ]
    },
    {
     "name": "stderr",
     "output_type": "stream",
     "text": [
      "\r",
      " 91%|█████████ | 91/100 [03:30<00:21,  2.44s/it]"
     ]
    },
    {
     "name": "stdout",
     "output_type": "stream",
     "text": [
      "Epoch: 901, Test Acc: 0.3\n",
      "0.8437923271528726\n",
      "0.843766295420178\n",
      "0.8437402936785126\n",
      "0.8437143218638105\n",
      "0.8436883799122119\n",
      "0.843662467760063\n",
      "0.8436365853439153\n",
      "0.8436107326005237\n",
      "0.8435849094668469\n"
     ]
    },
    {
     "name": "stderr",
     "output_type": "stream",
     "text": [
      "\r",
      " 92%|█████████▏| 92/100 [03:32<00:18,  2.25s/it]"
     ]
    },
    {
     "name": "stdout",
     "output_type": "stream",
     "text": [
      "0.8435591158800458\n",
      "Epoch: 911, Test Acc: 0.3\n",
      "0.8435333517774835\n",
      "0.8435076170967226\n",
      "0.8434819117755268\n",
      "0.8434562357518586\n",
      "0.8434305889638789\n",
      "0.8434049713499452\n",
      "0.8433793828486132\n",
      "0.8433538233986332\n",
      "0.8433282929389513\n",
      "0.8433027914087072\n"
     ]
    },
    {
     "name": "stderr",
     "output_type": "stream",
     "text": [
      "\r",
      " 93%|█████████▎| 93/100 [03:35<00:16,  2.36s/it]"
     ]
    },
    {
     "name": "stdout",
     "output_type": "stream",
     "text": [
      "Epoch: 921, Test Acc: 0.3\n",
      "0.8432773187472349\n",
      "0.8432518748940602\n",
      "0.8432264597889018\n",
      "0.8432010733716685\n",
      "0.8431757155824599\n",
      "0.843150386361565\n",
      "0.8431250856494621\n",
      "0.8430998133868167\n",
      "0.8430745695144819\n",
      "0.8430493539734973\n"
     ]
    },
    {
     "name": "stderr",
     "output_type": "stream",
     "text": [
      "\r",
      " 94%|█████████▍| 94/100 [03:37<00:14,  2.34s/it]"
     ]
    },
    {
     "name": "stdout",
     "output_type": "stream",
     "text": [
      "Epoch: 931, Test Acc: 0.3\n",
      "0.8430241667050885\n",
      "0.8429990076506653\n",
      "0.842973876751822\n",
      "0.842948773950337\n",
      "0.8429236991881704\n",
      "0.842898652407465\n",
      "0.8428736335505442\n",
      "0.8428486425599125\n",
      "0.8428236793782542\n",
      "0.8427987439484316\n"
     ]
    },
    {
     "name": "stderr",
     "output_type": "stream",
     "text": [
      "\r",
      " 95%|█████████▌| 95/100 [03:39<00:11,  2.27s/it]"
     ]
    },
    {
     "name": "stdout",
     "output_type": "stream",
     "text": [
      "Epoch: 941, Test Acc: 0.3\n",
      "0.8427738362134866\n",
      "0.8427489561166375\n",
      "0.8427241036012804\n",
      "0.842699278610987\n",
      "0.8426744810895047\n",
      "0.8426497109807555\n",
      "0.8426249682288354\n",
      "0.8426002527780134\n",
      "0.8425755645727317\n",
      "0.8425509035576044\n"
     ]
    },
    {
     "name": "stderr",
     "output_type": "stream",
     "text": [
      "\r",
      " 96%|█████████▌| 96/100 [03:41<00:08,  2.22s/it]"
     ]
    },
    {
     "name": "stdout",
     "output_type": "stream",
     "text": [
      "Epoch: 951, Test Acc: 0.302\n",
      "0.8425262696774161\n",
      "0.8425016628771224\n",
      "0.8424770831018489\n",
      "0.8424525302968898\n",
      "0.8424280044077088\n",
      "0.8424035053799362\n",
      "0.8423790331593702\n",
      "0.8423545876919749\n",
      "0.842330168923881\n",
      "0.8423057768013834\n"
     ]
    },
    {
     "name": "stderr",
     "output_type": "stream",
     "text": [
      "\r",
      " 97%|█████████▋| 97/100 [03:44<00:06,  2.24s/it]"
     ]
    },
    {
     "name": "stdout",
     "output_type": "stream",
     "text": [
      "Epoch: 961, Test Acc: 0.302\n",
      "0.8422814112709421\n",
      "0.8422570722791807\n",
      "0.8422327597728856\n",
      "0.8422084736990061\n",
      "0.8421842140046535\n",
      "0.8421599806370998\n",
      "0.8421357735437777\n",
      "0.8421115926722802\n",
      "0.8420874379703591\n",
      "0.8420633093859246\n"
     ]
    },
    {
     "name": "stderr",
     "output_type": "stream",
     "text": [
      "\r",
      " 98%|█████████▊| 98/100 [03:46<00:04,  2.17s/it]"
     ]
    },
    {
     "name": "stdout",
     "output_type": "stream",
     "text": [
      "Epoch: 971, Test Acc: 0.302\n",
      "0.8420392068670461\n",
      "0.8420151303619485\n",
      "0.8419910798190153\n",
      "0.8419670551867847\n",
      "0.8419430564139515\n",
      "0.8419190834493647\n",
      "0.8418951362420277\n",
      "0.8418712147410976\n",
      "0.8418473188958846\n",
      "0.8418234486558509\n"
     ]
    },
    {
     "name": "stderr",
     "output_type": "stream",
     "text": [
      "\r",
      " 99%|█████████▉| 99/100 [03:48<00:02,  2.27s/it]"
     ]
    },
    {
     "name": "stdout",
     "output_type": "stream",
     "text": [
      "Epoch: 981, Test Acc: 0.302\n",
      "0.8417996039706117\n",
      "0.8417757847899319\n",
      "0.8417519910637277\n",
      "0.8417282227420658\n",
      "0.8417044797751616\n",
      "0.8416807621133802\n",
      "0.8416570697072335\n",
      "0.8416334025073828\n",
      "0.8416097604646355\n",
      "0.8415861435299455\n"
     ]
    },
    {
     "name": "stderr",
     "output_type": "stream",
     "text": [
      "100%|██████████| 100/100 [03:50<00:00,  2.31s/it]"
     ]
    },
    {
     "name": "stdout",
     "output_type": "stream",
     "text": [
      "Epoch: 991, Test Acc: 0.302\n"
     ]
    },
    {
     "name": "stderr",
     "output_type": "stream",
     "text": [
      "\n"
     ]
    }
   ],
   "source": [
    "# Run training and plotting for default parameter values as mentioned above\n",
    "t_ac, v_ac, te_ac, weights = train(learning_rate, weight_decay)\n"
   ]
  },
  {
   "cell_type": "code",
   "execution_count": 9,
   "metadata": {},
   "outputs": [
    {
     "data": {
      "image/png": "[encoded data removed]",
      "text/plain": [
       "<Figure size 432x288 with 1 Axes>"
      ]
     },
     "metadata": {
      "needs_background": "light"
     },
     "output_type": "display_data"
    }
   ],
   "source": [
    "plot_accuracies(t_ac, v_ac, te_ac)"
   ]
  },
  {
   "cell_type": "markdown",
   "metadata": {},
   "source": [
    "### Try different learning rates and plot graphs for all (20%)\n"
   ]
  },
  {
   "cell_type": "code",
   "execution_count": 15,
   "metadata": {},
   "outputs": [
    {
     "name": "stderr",
     "output_type": "stream",
     "text": [
      "\r",
      "  0%|          | 0/100 [00:00<?, ?it/s]"
     ]
    },
    {
     "name": "stdout",
     "output_type": "stream",
     "text": [
      "0.9989803898510824\n",
      "0.9855101346782271\n",
      "0.9739340989704144\n",
      "0.9639823434272662\n",
      "0.9554234098482528\n",
      "0.9480588354151891\n",
      "0.9417184489977881\n",
      "0.9362563380000349\n",
      "0.9315473901576232\n",
      "0.9274843283236169\n"
     ]
    },
    {
     "name": "stderr",
     "output_type": "stream",
     "text": [
      "\r",
      "  1%|          | 1/100 [00:03<05:44,  3.48s/it]"
     ]
    },
    {
     "name": "stdout",
     "output_type": "stream",
     "text": [
      "Epoch: 1, Test Acc: 0.12\n",
      "0.9239751679638001\n",
      "0.9209410371018368\n",
      "0.9183143070447597\n",
      "0.9160369895851318\n",
      "0.9140593626919762\n",
      "0.9123387921179771\n",
      "0.9108387209938823\n",
      "0.9095278034624781\n",
      "0.9083791618184105\n",
      "0.9073697495473239\n"
     ]
    },
    {
     "name": "stderr",
     "output_type": "stream",
     "text": [
      "\r",
      "  2%|▏         | 2/100 [00:06<05:12,  3.19s/it]"
     ]
    },
    {
     "name": "stdout",
     "output_type": "stream",
     "text": [
      "Epoch: 11, Test Acc: 0.138\n",
      "0.9064798051677112\n",
      "0.9056923839309912\n",
      "0.9049929562806334\n",
      "0.9043690635534176\n",
      "0.903810022762607\n",
      "0.9033066734660999\n",
      "0.9028511607200912\n",
      "0.9024367489740237\n",
      "0.9020576624959631\n",
      "0.9017089485463132\n"
     ]
    },
    {
     "name": "stderr",
     "output_type": "stream",
     "text": [
      "\r",
      "  3%|▎         | 3/100 [00:09<05:20,  3.30s/it]"
     ]
    },
    {
     "name": "stdout",
     "output_type": "stream",
     "text": [
      "Epoch: 21, Test Acc: 0.138\n",
      "0.901386360056961\n",
      "0.9010862550352271\n",
      "0.9008055103083985\n",
      "0.9005414475645054\n",
      "0.9002917699364326\n",
      "0.9000545076263554\n",
      "0.8998279712817354\n",
      "0.8996107120178524\n",
      "0.8994014871393624\n",
      "0.8991992307484514\n"
     ]
    },
    {
     "name": "stderr",
     "output_type": "stream",
     "text": [
      "\r",
      "  4%|▍         | 4/100 [00:12<05:08,  3.21s/it]"
     ]
    },
    {
     "name": "stdout",
     "output_type": "stream",
     "text": [
      "Epoch: 31, Test Acc: 0.146\n",
      "0.8990030285429712\n",
      "0.8988120962072488\n",
      "0.8986257608834107\n",
      "0.8984434452840775\n",
      "0.8982646540698834\n",
      "0.8980889621689567\n",
      "0.8979160047615223\n",
      "0.8977454686922532\n",
      "0.8975770851068366\n",
      "0.8974106231382337\n"
     ]
    },
    {
     "name": "stderr",
     "output_type": "stream",
     "text": [
      "\r",
      "  5%|▌         | 5/100 [00:15<04:24,  2.78s/it]"
     ]
    },
    {
     "name": "stdout",
     "output_type": "stream",
     "text": [
      "Epoch: 41, Test Acc: 0.15\n",
      "0.8972458844929965\n",
      "0.8970826988093271\n",
      "0.8969209196768716\n",
      "0.8967604212239034\n",
      "0.8966010951910196\n",
      "0.8964428484219933\n",
      "0.8962856007123093\n",
      "0.8961292829643998\n",
      "0.8959738356058523\n",
      "0.8958192072331055\n"
     ]
    },
    {
     "name": "stderr",
     "output_type": "stream",
     "text": [
      "\r",
      "  6%|▌         | 6/100 [00:17<04:15,  2.72s/it]"
     ]
    },
    {
     "name": "stdout",
     "output_type": "stream",
     "text": [
      "Epoch: 51, Test Acc: 0.162\n",
      "0.8956653534484867\n",
      "0.8955122358630283\n",
      "0.8953598212414331\n",
      "0.8952080807689192\n",
      "0.8950569894225772\n",
      "0.8949065254323342\n",
      "0.8947566698187522\n",
      "0.8946074059967128\n",
      "0.8944587194355865\n",
      "0.8943105973678447\n"
     ]
    },
    {
     "name": "stderr",
     "output_type": "stream",
     "text": [
      "\r",
      "  7%|▋         | 7/100 [00:20<04:03,  2.62s/it]"
     ]
    },
    {
     "name": "stdout",
     "output_type": "stream",
     "text": [
      "Epoch: 61, Test Acc: 0.166\n",
      "0.8941630285391985\n",
      "0.8940160029943535\n",
      "0.8938695118932971\n",
      "0.8937235473537686\n",
      "0.8935781023161781\n",
      "0.8934331704277769\n",
      "0.8932887459433307\n",
      "0.893144823639946\n",
      "0.8930013987440324\n",
      "0.8928584668686684\n"
     ]
    },
    {
     "name": "stderr",
     "output_type": "stream",
     "text": [
      "\r",
      "  8%|▊         | 8/100 [00:22<04:05,  2.67s/it]"
     ]
    },
    {
     "name": "stdout",
     "output_type": "stream",
     "text": [
      "Epoch: 71, Test Acc: 0.18\n",
      "0.892716023959891\n",
      "0.8925740662506322\n",
      "0.892432590221218\n",
      "0.8922915925654905\n",
      "0.8921510701617512\n",
      "0.8920110200478436\n",
      "0.8918714393997759\n",
      "0.8917323255133881\n",
      "0.8915936757886259\n",
      "0.8914554877160467\n"
     ]
    },
    {
     "name": "stderr",
     "output_type": "stream",
     "text": [
      "\r",
      "  9%|▉         | 9/100 [00:26<04:26,  2.93s/it]"
     ]
    },
    {
     "name": "stdout",
     "output_type": "stream",
     "text": [
      "Epoch: 81, Test Acc: 0.188\n",
      "0.8913177588652458\n",
      "0.8911804868749247\n",
      "0.891043669444367\n",
      "0.8909073043261266\n",
      "0.8907713893197478\n",
      "0.8906359222663767\n",
      "0.890500901044133\n",
      "0.8903663235641359\n",
      "0.8902321877670897\n",
      "0.8900984916203497\n"
     ]
    },
    {
     "name": "stderr",
     "output_type": "stream",
     "text": [
      "\r",
      " 10%|█         | 10/100 [00:29<04:25,  2.95s/it]"
     ]
    },
    {
     "name": "stdout",
     "output_type": "stream",
     "text": [
      "Epoch: 91, Test Acc: 0.194\n",
      "0.8899652331154004\n",
      "0.8898324102656869\n",
      "0.8897000211047482\n",
      "0.889568063684612\n",
      "0.8894365360744106\n",
      "0.889305436359189\n",
      "0.8891747626388757\n",
      "0.8890445130273951\n",
      "0.8889146856519003\n",
      "0.8887852786521077\n"
     ]
    },
    {
     "name": "stderr",
     "output_type": "stream",
     "text": [
      "\r",
      " 11%|█         | 11/100 [00:32<04:16,  2.88s/it]"
     ]
    },
    {
     "name": "stdout",
     "output_type": "stream",
     "text": [
      "Epoch: 101, Test Acc: 0.202\n",
      "0.8886562901797228\n",
      "0.8885277183979399\n",
      "0.8883995614810077\n",
      "0.8882718176138517\n",
      "0.8881444849917433\n",
      "0.888017561820011\n",
      "0.8878910463137863\n",
      "0.8877649366977809\n",
      "0.8876392312060886\n",
      "0.8875139280820108\n"
     ]
    },
    {
     "name": "stderr",
     "output_type": "stream",
     "text": [
      "\r",
      " 12%|█▏        | 12/100 [00:35<04:28,  3.05s/it]"
     ]
    },
    {
     "name": "stdout",
     "output_type": "stream",
     "text": [
      "Epoch: 111, Test Acc: 0.208\n",
      "0.887389025577901\n",
      "0.887264521955025\n",
      "0.8871404154834355\n",
      "0.8870167044418601\n",
      "0.8868933871175981\n",
      "0.8867704618064276\n",
      "0.8866479268125194\n",
      "0.886525780448358\n",
      "0.8864040210346679\n",
      "0.8862826469003471\n"
     ]
    },
    {
     "name": "stderr",
     "output_type": "stream",
     "text": [
      "\r",
      " 13%|█▎        | 13/100 [00:37<04:07,  2.84s/it]"
     ]
    },
    {
     "name": "stdout",
     "output_type": "stream",
     "text": [
      "Epoch: 121, Test Acc: 0.216\n",
      "0.8861616563824006\n",
      "0.8860410478258817\n",
      "0.8859208195838345\n",
      "0.885800970017239\n",
      "0.8856814974949601\n",
      "0.8855624003936968\n",
      "0.8854436770979345\n",
      "0.8853253259998983\n",
      "0.8852073454995089\n"
     ]
    },
    {
     "name": "stderr",
     "output_type": "stream",
     "text": [
      "\r",
      " 14%|█▍        | 14/100 [00:40<03:50,  2.69s/it]"
     ]
    },
    {
     "name": "stdout",
     "output_type": "stream",
     "text": [
      "0.885089734004337\n",
      "Epoch: 131, Test Acc: 0.222\n",
      "0.8849724899295616\n",
      "0.884855611697928\n",
      "0.8847390977397068\n",
      "0.8846229464926534\n",
      "0.8845071564019673\n",
      "0.8843917259202554\n",
      "0.8842766535074914\n",
      "0.8841619376309787\n",
      "0.8840475767653123\n",
      "0.883933569392342\n"
     ]
    },
    {
     "name": "stderr",
     "output_type": "stream",
     "text": [
      "\r",
      " 15%|█▌        | 15/100 [00:42<03:37,  2.56s/it]"
     ]
    },
    {
     "name": "stdout",
     "output_type": "stream",
     "text": [
      "Epoch: 141, Test Acc: 0.228\n",
      "0.8838199140011351\n",
      "0.8837066090879407\n",
      "0.8835936531561526\n",
      "0.8834810447162732\n",
      "0.8833687822858792\n",
      "0.8832568643895855\n",
      "0.8831452895590092\n",
      "0.8830340563327362\n",
      "0.8829231632562861\n",
      "0.8828126088820766\n"
     ]
    },
    {
     "name": "stderr",
     "output_type": "stream",
     "text": [
      "\r",
      " 16%|█▌        | 16/100 [00:45<03:48,  2.72s/it]"
     ]
    },
    {
     "name": "stdout",
     "output_type": "stream",
     "text": [
      "Epoch: 151, Test Acc: 0.234\n",
      "0.8827023917693915\n",
      "0.8825925104843446\n",
      "0.8824829635998468\n",
      "0.8823737496955731\n",
      "0.8822648673579275\n",
      "0.8821563151800113\n",
      "0.8820480917615893\n",
      "0.8819401957090574\n",
      "0.8818326256354087\n",
      "0.8817253801602029\n"
     ]
    },
    {
     "name": "stderr",
     "output_type": "stream",
     "text": [
      "\r",
      " 17%|█▋        | 17/100 [00:47<03:37,  2.62s/it]"
     ]
    },
    {
     "name": "stdout",
     "output_type": "stream",
     "text": [
      "Epoch: 161, Test Acc: 0.236\n",
      "0.8816184579095322\n",
      "0.8815118575159899\n",
      "0.8814055776186382\n",
      "0.8812996168629762\n",
      "0.8811939739009086\n",
      "0.881088647390714\n",
      "0.880983635997013\n",
      "0.880878938390738\n",
      "0.8807745532491008\n",
      "0.8806704792555631\n"
     ]
    },
    {
     "name": "stderr",
     "output_type": "stream",
     "text": [
      "\r",
      " 18%|█▊        | 18/100 [00:50<03:29,  2.56s/it]"
     ]
    },
    {
     "name": "stdout",
     "output_type": "stream",
     "text": [
      "Epoch: 171, Test Acc: 0.234\n",
      "0.8805667150998048\n",
      "0.8804632594776939\n",
      "0.8803601110912554\n",
      "0.8802572686486422\n",
      "0.8801547308641033\n",
      "0.880052496457956\n",
      "0.8799505641565535\n",
      "0.8798489326922574\n",
      "0.8797476008034075\n",
      "0.8796465672342912\n"
     ]
    },
    {
     "name": "stderr",
     "output_type": "stream",
     "text": [
      "\r",
      " 19%|█▉        | 19/100 [00:52<03:20,  2.48s/it]"
     ]
    },
    {
     "name": "stdout",
     "output_type": "stream",
     "text": [
      "Epoch: 181, Test Acc: 0.236\n",
      "0.8795458307351166\n",
      "0.8794453900619807\n",
      "0.8793452439768428\n",
      "0.8792453912474949\n",
      "0.8791458306475319\n",
      "0.8790465609563253\n",
      "0.8789475809589927\n",
      "0.8788488894463706\n",
      "0.8787504852149869\n"
     ]
    },
    {
     "name": "stderr",
     "output_type": "stream",
     "text": [
      "\r",
      " 20%|██        | 20/100 [00:55<03:31,  2.64s/it]"
     ]
    },
    {
     "name": "stdout",
     "output_type": "stream",
     "text": [
      "0.878652367067031\n",
      "Epoch: 191, Test Acc: 0.238\n",
      "0.8785545338103284\n",
      "0.8784569842583116\n",
      "0.8783597172299921\n",
      "0.8782627315499342\n",
      "0.8781660260482279\n",
      "0.8780695995604602\n",
      "0.8779734509276894\n",
      "0.8778775789964183\n",
      "0.8777819826185663\n",
      "0.8776866606514446\n"
     ]
    },
    {
     "name": "stderr",
     "output_type": "stream",
     "text": [
      "\r",
      " 21%|██        | 21/100 [00:58<03:34,  2.72s/it]"
     ]
    },
    {
     "name": "stdout",
     "output_type": "stream",
     "text": [
      "Epoch: 201, Test Acc: 0.238\n",
      "0.8775916119577276\n",
      "0.8774968354054289\n",
      "0.8774023298678731\n",
      "0.8773080942236712\n",
      "0.8772141273566935\n",
      "0.8771204281560447\n",
      "0.8770269955160379\n",
      "0.8769338283361695\n",
      "0.876840925521092\n",
      "0.8767482859805914\n"
     ]
    },
    {
     "name": "stderr",
     "output_type": "stream",
     "text": [
      "\r",
      " 22%|██▏       | 22/100 [01:00<03:22,  2.59s/it]"
     ]
    },
    {
     "name": "stdout",
     "output_type": "stream",
     "text": [
      "Epoch: 211, Test Acc: 0.244\n",
      "0.8766559086295603\n",
      "0.876563792387973\n",
      "0.8764719361808612\n",
      "0.8763803389382884\n",
      "0.8762889995953264\n",
      "0.876197917092029\n",
      "0.8761070903734098\n",
      "0.8760165183894165\n",
      "0.8759262000949063\n",
      "0.8758361344496225\n",
      "Epoch: 221, Test Acc: 0.244\n"
     ]
    },
    {
     "name": "stderr",
     "output_type": "stream",
     "text": [
      "\r",
      " 23%|██▎       | 23/100 [01:03<03:12,  2.50s/it]"
     ]
    },
    {
     "name": "stdout",
     "output_type": "stream",
     "text": [
      "0.8757463204181722\n",
      "0.8756567569699987\n",
      "0.8755674430793614\n",
      "0.87547837772531\n",
      "0.8753895598916628\n",
      "0.8753009885669814\n",
      "0.8752126627445489\n",
      "0.8751245814223465\n",
      "0.8750367436030297\n",
      "0.8749491482939074\n"
     ]
    },
    {
     "name": "stderr",
     "output_type": "stream",
     "text": [
      "\r",
      " 24%|██▍       | 24/100 [01:06<03:37,  2.86s/it]"
     ]
    },
    {
     "name": "stdout",
     "output_type": "stream",
     "text": [
      "Epoch: 231, Test Acc: 0.248\n",
      "0.8748617945069161\n",
      "0.8747746812586006\n",
      "0.8746878075700883\n",
      "0.8746011724670695\n",
      "0.8745147749797735\n",
      "0.874428614142946\n",
      "0.8743426889958293\n",
      "0.8742569985821378\n",
      "0.8741715419500367\n",
      "0.8740863181521216\n"
     ]
    },
    {
     "name": "stderr",
     "output_type": "stream",
     "text": [
      "\r",
      " 25%|██▌       | 25/100 [01:10<03:44,  3.00s/it]"
     ]
    },
    {
     "name": "stdout",
     "output_type": "stream",
     "text": [
      "Epoch: 241, Test Acc: 0.25\n",
      "0.8740013262453955\n",
      "0.8739165652912473\n",
      "0.8738320343554313\n",
      "0.8737477325080448\n",
      "0.873663658823508\n",
      "0.8735798123805409\n",
      "0.8734961922621451\n",
      "0.8734127975555804\n",
      "0.8733296273523451\n",
      "0.8732466807481557\n"
     ]
    },
    {
     "name": "stderr",
     "output_type": "stream",
     "text": [
      "\r",
      " 26%|██▌       | 26/100 [01:14<04:04,  3.30s/it]"
     ]
    },
    {
     "name": "stdout",
     "output_type": "stream",
     "text": [
      "Epoch: 251, Test Acc: 0.25\n",
      "0.8731639568429249\n",
      "0.8730814547407427\n",
      "0.872999173549855\n",
      "0.8729171123826432\n",
      "0.8728352703556055\n",
      "0.872753646589334\n",
      "0.8726722402084978\n",
      "0.8725910503418209\n",
      "0.8725100761220634\n",
      "0.872429316686002\n"
     ]
    },
    {
     "name": "stderr",
     "output_type": "stream",
     "text": [
      "\r",
      " 27%|██▋       | 27/100 [01:17<04:00,  3.29s/it]"
     ]
    },
    {
     "name": "stdout",
     "output_type": "stream",
     "text": [
      "Epoch: 261, Test Acc: 0.252\n",
      "0.872348771174409\n",
      "0.8722684387320351\n",
      "0.8721883185075876\n",
      "0.8721084096537125\n",
      "0.8720287113269753\n",
      "0.871949222687841\n",
      "0.8718699429006562\n",
      "0.871790871133629\n",
      "0.8717120065588112\n",
      "0.8716333483520788\n"
     ]
    },
    {
     "name": "stderr",
     "output_type": "stream",
     "text": [
      "\r",
      " 28%|██▊       | 28/100 [01:20<03:54,  3.25s/it]"
     ]
    },
    {
     "name": "stdout",
     "output_type": "stream",
     "text": [
      "Epoch: 271, Test Acc: 0.252\n",
      "0.8715548956931142\n",
      "0.871476647765387\n",
      "0.8713986037561346\n",
      "0.8713207628563467\n",
      "0.8712431242607438\n",
      "0.8711656871677611\n",
      "0.8710884507795296\n",
      "0.871011414301858\n",
      "0.8709345769442156\n",
      "0.8708579379197134\n"
     ]
    },
    {
     "name": "stderr",
     "output_type": "stream",
     "text": [
      "\r",
      " 29%|██▉       | 29/100 [01:22<03:27,  2.92s/it]"
     ]
    },
    {
     "name": "stdout",
     "output_type": "stream",
     "text": [
      "Epoch: 281, Test Acc: 0.252\n",
      "0.8707814964450868\n",
      "0.8707052517406785\n",
      "0.87062920303042\n",
      "0.8705533495418146\n",
      "0.87047769050592\n",
      "0.8704022251573313\n",
      "0.8703269527341636\n",
      "0.8702518724780336\n",
      "0.8701769836340449\n",
      "0.8701022854507691\n"
     ]
    },
    {
     "name": "stderr",
     "output_type": "stream",
     "text": [
      "\r",
      " 30%|███       | 30/100 [01:25<03:12,  2.75s/it]"
     ]
    },
    {
     "name": "stdout",
     "output_type": "stream",
     "text": [
      "Epoch: 291, Test Acc: 0.25\n",
      "0.8700277771802303\n",
      "0.8699534580778872\n",
      "0.8698793274026164\n",
      "0.8698053844166976\n",
      "0.8697316283857945\n",
      "0.8696580585789396\n",
      "0.8695846742685186\n",
      "0.8695114747302524\n",
      "0.869438459243182\n",
      "0.8693656270896519\n"
     ]
    },
    {
     "name": "stderr",
     "output_type": "stream",
     "text": [
      "\r",
      " 31%|███       | 31/100 [01:27<03:07,  2.72s/it]"
     ]
    },
    {
     "name": "stdout",
     "output_type": "stream",
     "text": [
      "Epoch: 301, Test Acc: 0.254\n",
      "0.8692929775552948\n",
      "0.8692205099290148\n",
      "0.8691482235029715\n",
      "0.8690761175725648\n",
      "0.8690041914364184\n",
      "0.8689324443963652\n",
      "0.8688608757574301\n",
      "0.8687894848278167\n",
      "0.8687182709188895\n",
      "0.8686472333451608\n"
     ]
    },
    {
     "name": "stderr",
     "output_type": "stream",
     "text": [
      "\r",
      " 32%|███▏      | 32/100 [01:31<03:21,  2.96s/it]"
     ]
    },
    {
     "name": "stdout",
     "output_type": "stream",
     "text": [
      "Epoch: 311, Test Acc: 0.256\n",
      "0.8685763714242735\n",
      "0.8685056844769865\n",
      "0.8684351718271607\n",
      "0.8683648328017421\n",
      "0.868294666730749\n",
      "0.8682246729472544\n",
      "0.8681548507873735\n",
      "0.868085199590248\n",
      "0.8680157186980314\n",
      "0.8679464074558746\n"
     ]
    },
    {
     "name": "stderr",
     "output_type": "stream",
     "text": [
      "\r",
      " 33%|███▎      | 33/100 [01:33<03:04,  2.76s/it]"
     ]
    },
    {
     "name": "stdout",
     "output_type": "stream",
     "text": [
      "Epoch: 321, Test Acc: 0.256\n",
      "0.8678772652119113\n",
      "0.8678082913172431\n",
      "0.8677394851259261\n",
      "0.8676708459949561\n",
      "0.8676023732842534\n",
      "0.8675340663566502\n",
      "0.8674659245778757\n",
      "0.8673979473165417\n",
      "0.8673301339441296\n",
      "0.867262483834976\n"
     ]
    },
    {
     "name": "stderr",
     "output_type": "stream",
     "text": [
      "\r",
      " 34%|███▍      | 34/100 [01:36<02:57,  2.68s/it]"
     ]
    },
    {
     "name": "stdout",
     "output_type": "stream",
     "text": [
      "Epoch: 331, Test Acc: 0.26\n",
      "0.8671949963662581\n",
      "0.8671276709179818\n",
      "0.8670605068729658\n",
      "0.8669935036168298\n",
      "0.8669266605379803\n",
      "0.8668599770275962\n",
      "0.8667934524796173\n",
      "0.866727086290729\n",
      "0.8666608778603501\n",
      "0.86659482659062\n"
     ]
    },
    {
     "name": "stderr",
     "output_type": "stream",
     "text": [
      "\r",
      " 35%|███▌      | 35/100 [01:38<02:50,  2.63s/it]"
     ]
    },
    {
     "name": "stdout",
     "output_type": "stream",
     "text": [
      "Epoch: 341, Test Acc: 0.262\n",
      "0.8665289318863836\n",
      "0.8664631931551807\n",
      "0.8663976098072314\n",
      "0.8663321812554229\n",
      "0.8662669069152981\n",
      "0.8662017862050411\n",
      "0.8661368185454662\n",
      "0.8660720033600036\n",
      "0.8660073400746869\n",
      "0.8659428281181416\n"
     ]
    },
    {
     "name": "stderr",
     "output_type": "stream",
     "text": [
      "\r",
      " 36%|███▌      | 36/100 [01:41<02:47,  2.62s/it]"
     ]
    },
    {
     "name": "stdout",
     "output_type": "stream",
     "text": [
      "Epoch: 351, Test Acc: 0.262\n",
      "0.8658784669215719\n",
      "0.8658142559187482\n",
      "0.8657501945459947\n",
      "0.8656862822421776\n",
      "0.8656225184486918\n",
      "0.8655589026094493\n",
      "0.8654954341708679\n",
      "0.8654321125818571\n",
      "0.8653689372938085\n",
      "0.8653059077605812\n"
     ]
    },
    {
     "name": "stderr",
     "output_type": "stream",
     "text": [
      "\r",
      " 37%|███▋      | 37/100 [01:43<02:39,  2.53s/it]"
     ]
    },
    {
     "name": "stdout",
     "output_type": "stream",
     "text": [
      "Epoch: 361, Test Acc: 0.262\n",
      "0.8652430234384921\n",
      "0.8651802837863029\n",
      "0.8651176882652084\n",
      "0.8650552363388253\n",
      "0.8649929274731804\n",
      "0.864930761136698\n",
      "0.8648687368001895\n",
      "0.8648068539368413\n",
      "0.864745112022204\n",
      "0.8646835105341804\n"
     ]
    },
    {
     "name": "stderr",
     "output_type": "stream",
     "text": [
      "\r",
      " 38%|███▊      | 38/100 [01:46<02:48,  2.72s/it]"
     ]
    },
    {
     "name": "stdout",
     "output_type": "stream",
     "text": [
      "Epoch: 371, Test Acc: 0.264\n",
      "0.8646220489530136\n",
      "0.8645607267612774\n",
      "0.8644995434438636\n",
      "0.8644384984879713\n",
      "0.8643775913830963\n",
      "0.8643168216210189\n",
      "0.8642561886957938\n",
      "0.864195692103739\n",
      "0.8641353313434257\n",
      "0.8640751059156646\n"
     ]
    },
    {
     "name": "stderr",
     "output_type": "stream",
     "text": [
      "\r",
      " 39%|███▉      | 39/100 [01:49<02:40,  2.63s/it]"
     ]
    },
    {
     "name": "stdout",
     "output_type": "stream",
     "text": [
      "Epoch: 381, Test Acc: 0.264\n",
      "0.8640150153234994\n",
      "0.8639550590721916\n",
      "0.8638952366692133\n",
      "0.8638355476242351\n",
      "0.8637759914491153\n",
      "0.8637165676578903\n",
      "0.8636572757667633\n",
      "0.863598115294094\n",
      "0.8635390857603891\n"
     ]
    },
    {
     "name": "stderr",
     "output_type": "stream",
     "text": [
      "\r",
      " 40%|████      | 40/100 [01:52<02:46,  2.77s/it]"
     ]
    },
    {
     "name": "stdout",
     "output_type": "stream",
     "text": [
      "0.86348018668829\n",
      "Epoch: 391, Test Acc: 0.264\n",
      "0.863421417602565\n",
      "0.8633627780300976\n",
      "0.8633042674998768\n",
      "0.8632458855429863\n",
      "0.8631876316925957\n",
      "0.8631295054839492\n",
      "0.8630715064543564\n",
      "0.8630136341431819\n",
      "0.8629558880918365\n",
      "0.862898267843766\n"
     ]
    },
    {
     "name": "stderr",
     "output_type": "stream",
     "text": [
      "\r",
      " 41%|████      | 41/100 [01:54<02:43,  2.77s/it]"
     ]
    },
    {
     "name": "stdout",
     "output_type": "stream",
     "text": [
      "Epoch: 401, Test Acc: 0.264\n",
      "0.8628407729444422\n",
      "0.8627834029413531\n",
      "0.8627261573839927\n",
      "0.8626690358238525\n",
      "0.8626120378144108\n",
      "0.8625551629111237\n",
      "0.8624984106714157\n",
      "0.8624417806546699\n",
      "0.8623852724222191\n",
      "0.8623288855373358\n"
     ]
    },
    {
     "name": "stderr",
     "output_type": "stream",
     "text": [
      "\r",
      " 42%|████▏     | 42/100 [01:57<02:32,  2.63s/it]"
     ]
    },
    {
     "name": "stdout",
     "output_type": "stream",
     "text": [
      "Epoch: 411, Test Acc: 0.266\n",
      "0.8622726195652235\n",
      "0.8622164740730072\n",
      "0.8621604486297243\n",
      "0.8621045428063153\n",
      "0.8620487561756147\n",
      "0.8619930883123421\n",
      "0.8619375387930929\n",
      "0.8618821071963297\n",
      "0.8618267931023731\n",
      "0.8617715960933924\n"
     ]
    },
    {
     "name": "stderr",
     "output_type": "stream",
     "text": [
      "\r",
      " 43%|████▎     | 43/100 [01:59<02:29,  2.62s/it]"
     ]
    },
    {
     "name": "stdout",
     "output_type": "stream",
     "text": [
      "Epoch: 421, Test Acc: 0.274\n",
      "0.861716515753398\n",
      "0.8616615516682314\n",
      "0.8616067034255568\n",
      "0.8615519706148523\n",
      "0.8614973528274017\n",
      "0.8614428496562853\n",
      "0.8613884606963719\n",
      "0.8613341855443092\n",
      "0.861280023798517\n",
      "0.8612259750591762\n"
     ]
    },
    {
     "name": "stderr",
     "output_type": "stream",
     "text": [
      "\r",
      " 44%|████▍     | 44/100 [02:02<02:34,  2.76s/it]"
     ]
    },
    {
     "name": "stdout",
     "output_type": "stream",
     "text": [
      "Epoch: 431, Test Acc: 0.274\n",
      "0.8611720389282242\n",
      "0.8611182150093415\n",
      "0.8610645029079486\n",
      "0.8610109022311936\n",
      "0.8609574125879459\n",
      "0.860904033588788\n",
      "0.8608507648460065\n",
      "0.8607976059735853\n",
      "0.860744556587195\n",
      "0.8606916163041882\n"
     ]
    },
    {
     "name": "stderr",
     "output_type": "stream",
     "text": [
      "\r",
      " 45%|████▌     | 45/100 [02:05<02:26,  2.66s/it]"
     ]
    },
    {
     "name": "stdout",
     "output_type": "stream",
     "text": [
      "Epoch: 441, Test Acc: 0.274\n",
      "0.8606387847435888\n",
      "0.8605860615260854\n",
      "0.8605334462740228\n",
      "0.8604809386113937\n",
      "0.8604285381638326\n",
      "0.8603762445586061\n",
      "0.8603240574246055\n",
      "0.8602719763923399\n",
      "0.8602200010939279\n",
      "0.8601681311630899\n"
     ]
    },
    {
     "name": "stderr",
     "output_type": "stream",
     "text": [
      "\r",
      " 46%|████▌     | 46/100 [02:07<02:24,  2.67s/it]"
     ]
    },
    {
     "name": "stdout",
     "output_type": "stream",
     "text": [
      "Epoch: 451, Test Acc: 0.276\n",
      "0.8601163662351404\n",
      "0.860064705946981\n",
      "0.8600131499370919\n",
      "0.8599616978455251\n",
      "0.8599103493138973\n",
      "0.8598591039853813\n",
      "0.8598079615046993\n",
      "0.8597569215181151\n",
      "0.8597059836734281\n",
      "0.8596551476199639\n"
     ]
    },
    {
     "name": "stderr",
     "output_type": "stream",
     "text": [
      "\r",
      " 47%|████▋     | 47/100 [02:10<02:20,  2.65s/it]"
     ]
    },
    {
     "name": "stdout",
     "output_type": "stream",
     "text": [
      "Epoch: 461, Test Acc: 0.272\n",
      "0.8596044130085689\n",
      "0.8595537794916018\n",
      "0.859503246722927\n",
      "0.8594528143579081\n",
      "0.8594024820533989\n",
      "0.8593522494677381\n",
      "0.859302116260742\n",
      "0.8592520820936963\n",
      "0.8592021466293506\n",
      "0.85915230953191\n"
     ]
    },
    {
     "name": "stderr",
     "output_type": "stream",
     "text": [
      "\r",
      " 48%|████▊     | 48/100 [02:12<02:10,  2.52s/it]"
     ]
    },
    {
     "name": "stdout",
     "output_type": "stream",
     "text": [
      "Epoch: 471, Test Acc: 0.272\n",
      "0.8591025704670301\n",
      "0.8590529291018082\n",
      "0.8590033851047773\n",
      "0.8589539381458997\n",
      "0.8589045878965593\n",
      "0.8588553340295556\n",
      "0.8588061762190966\n",
      "0.8587571141407924\n",
      "0.8587081474716483\n",
      "0.8586592758900579\n"
     ]
    },
    {
     "name": "stderr",
     "output_type": "stream",
     "text": [
      "\r",
      " 49%|████▉     | 49/100 [02:16<02:20,  2.75s/it]"
     ]
    },
    {
     "name": "stdout",
     "output_type": "stream",
     "text": [
      "Epoch: 481, Test Acc: 0.272\n",
      "0.8586104990757982\n",
      "0.8585618167100204\n",
      "0.8585132284752454\n",
      "0.8584647340553562\n",
      "0.858416333135593\n",
      "0.8583680254025445\n",
      "0.8583198105441434\n",
      "0.8582716882496594\n",
      "0.8582236582096925\n",
      "0.858175720116167\n"
     ]
    },
    {
     "name": "stderr",
     "output_type": "stream",
     "text": [
      "\r",
      " 50%|█████     | 50/100 [02:18<02:15,  2.70s/it]"
     ]
    },
    {
     "name": "stdout",
     "output_type": "stream",
     "text": [
      "Epoch: 491, Test Acc: 0.274\n",
      "0.8581278736623261\n",
      "0.8580801185427238\n",
      "0.8580324544532205\n",
      "0.8579848810909758\n",
      "0.8579373981544428\n",
      "0.8578900053433619\n",
      "0.8578427023587544\n",
      "0.8577954889029165\n",
      "0.8577483646794146\n",
      "0.857701329393077\n"
     ]
    },
    {
     "name": "stderr",
     "output_type": "stream",
     "text": [
      "\r",
      " 51%|█████     | 51/100 [02:20<02:06,  2.58s/it]"
     ]
    },
    {
     "name": "stdout",
     "output_type": "stream",
     "text": [
      "Epoch: 501, Test Acc: 0.278\n",
      "0.8576543827499895\n",
      "0.8576075244574897\n",
      "0.8575607542241598\n",
      "0.8575140717598221\n",
      "0.8574674767755315\n",
      "0.8574209689835718\n",
      "0.8573745480974478\n",
      "0.8573282138318815\n",
      "0.8572819659028048\n",
      "0.8572358040273547\n"
     ]
    },
    {
     "name": "stderr",
     "output_type": "stream",
     "text": [
      "\r",
      " 52%|█████▏    | 52/100 [02:23<02:08,  2.68s/it]"
     ]
    },
    {
     "name": "stdout",
     "output_type": "stream",
     "text": [
      "Epoch: 511, Test Acc: 0.28\n",
      "0.8571897279238667\n",
      "0.8571437373118707\n",
      "0.8570978319120838\n",
      "0.8570520114464056\n",
      "0.8570062756379128\n",
      "0.8569606242108523\n",
      "0.8569150568906375\n",
      "0.856869573403842\n",
      "0.8568241734781932\n",
      "0.8567788568425693\n"
     ]
    },
    {
     "name": "stderr",
     "output_type": "stream",
     "text": [
      "\r",
      " 53%|█████▎    | 53/100 [02:27<02:14,  2.86s/it]"
     ]
    },
    {
     "name": "stdout",
     "output_type": "stream",
     "text": [
      "Epoch: 521, Test Acc: 0.278\n",
      "0.8567336232269905\n",
      "0.8566884723626176\n",
      "0.8566434039817429\n",
      "0.8565984178177871\n",
      "0.8565535136052943\n",
      "0.8565086910799241\n",
      "0.8564639499784497\n",
      "0.85641929003875\n",
      "0.8563747109998067\n",
      "0.8563302126016972\n"
     ]
    },
    {
     "name": "stderr",
     "output_type": "stream",
     "text": [
      "\r",
      " 54%|█████▍    | 54/100 [02:29<02:04,  2.70s/it]"
     ]
    },
    {
     "name": "stdout",
     "output_type": "stream",
     "text": [
      "Epoch: 531, Test Acc: 0.28\n",
      "0.8562857945855901\n",
      "0.8562414566937403\n",
      "0.8561971986694842\n",
      "0.8561530202572336\n",
      "0.8561089212024717\n",
      "0.8560649012517477\n",
      "0.8560209601526717\n",
      "0.8559770976539094\n",
      "0.8559333135051779\n",
      "0.8558896074572405\n"
     ]
    },
    {
     "name": "stderr",
     "output_type": "stream",
     "text": [
      "\r",
      " 55%|█████▌    | 55/100 [02:31<01:54,  2.55s/it]"
     ]
    },
    {
     "name": "stdout",
     "output_type": "stream",
     "text": [
      "Epoch: 541, Test Acc: 0.282\n",
      "0.8558459792619021\n",
      "0.8558024286720027\n",
      "0.8557589554414151\n",
      "0.8557155593250384\n",
      "0.8556722400787933\n",
      "0.8556289974596175\n",
      "0.855585831225462\n",
      "0.8555427411352843\n",
      "0.8554997269490456\n",
      "0.8554567884277051\n"
     ]
    },
    {
     "name": "stderr",
     "output_type": "stream",
     "text": [
      "\r",
      " 56%|█████▌    | 56/100 [02:33<01:46,  2.41s/it]"
     ]
    },
    {
     "name": "stdout",
     "output_type": "stream",
     "text": [
      "Epoch: 551, Test Acc: 0.284\n",
      "0.8554139253332147\n",
      "0.8553711374285169\n",
      "0.8553284244775369\n",
      "0.855285786245181\n",
      "0.8552432224973294\n",
      "0.8552007330008338\n",
      "0.8551583175235112\n",
      "0.8551159758341408\n",
      "0.8550737077024587\n",
      "0.8550315128991531\n"
     ]
    },
    {
     "name": "stderr",
     "output_type": "stream",
     "text": [
      "\r",
      " 57%|█████▋    | 57/100 [02:35<01:39,  2.32s/it]"
     ]
    },
    {
     "name": "stdout",
     "output_type": "stream",
     "text": [
      "Epoch: 561, Test Acc: 0.284\n",
      "0.8549893911958615\n",
      "0.8549473423651642\n",
      "0.8549053661805806\n",
      "0.854863462416566\n",
      "0.854821630848506\n",
      "0.8547798712527122\n",
      "0.8547381834064185\n",
      "0.8546965670877764\n",
      "0.8546550220758503\n",
      "0.8546135481506155\n"
     ]
    },
    {
     "name": "stderr",
     "output_type": "stream",
     "text": [
      "\r",
      " 58%|█████▊    | 58/100 [02:39<01:52,  2.67s/it]"
     ]
    },
    {
     "name": "stdout",
     "output_type": "stream",
     "text": [
      "Epoch: 571, Test Acc: 0.286\n",
      "0.8545721450929495\n",
      "0.854530812684633\n",
      "0.854489550708342\n",
      "0.8544483589476451\n",
      "0.8544072371869994\n",
      "0.8543661852117459\n",
      "0.8543252028081055\n",
      "0.8542842897631754\n",
      "0.8542434458649243\n",
      "0.8542026709021885\n"
     ]
    },
    {
     "name": "stderr",
     "output_type": "stream",
     "text": [
      "\r",
      " 59%|█████▉    | 59/100 [02:42<01:59,  2.92s/it]"
     ]
    },
    {
     "name": "stdout",
     "output_type": "stream",
     "text": [
      "Epoch: 581, Test Acc: 0.286\n",
      "0.854161964664669\n",
      "0.8541213269429254\n",
      "0.8540807575283742\n",
      "0.8540402562132827\n",
      "0.8539998227907669\n",
      "0.8539594570547862\n",
      "0.8539191588001405\n",
      "0.8538789278224654\n",
      "0.8538387639182291\n",
      "0.8537986668847278\n"
     ]
    },
    {
     "name": "stderr",
     "output_type": "stream",
     "text": [
      "\r",
      " 60%|██████    | 60/100 [02:45<01:55,  2.89s/it]"
     ]
    },
    {
     "name": "stdout",
     "output_type": "stream",
     "text": [
      "Epoch: 591, Test Acc: 0.292\n",
      "0.8537586365200827\n",
      "0.8537186726232358\n",
      "0.8536787749939456\n",
      "0.8536389434327845\n",
      "0.8535991777411335\n",
      "0.85355947772118\n",
      "0.8535198431759129\n",
      "0.8534802739091196\n",
      "0.8534407697253821\n",
      "0.8534013304300734\n"
     ]
    },
    {
     "name": "stderr",
     "output_type": "stream",
     "text": [
      "\r",
      " 61%|██████    | 61/100 [02:48<01:49,  2.80s/it]"
     ]
    },
    {
     "name": "stdout",
     "output_type": "stream",
     "text": [
      "Epoch: 601, Test Acc: 0.29\n",
      "0.8533619558293531\n",
      "0.8533226457301651\n",
      "0.8532833999402336\n",
      "0.8532442182680577\n",
      "0.8532051005229112\n",
      "0.853166046514836\n",
      "0.8531270560546398\n",
      "0.853088128953893\n",
      "0.8530492650249242\n",
      "0.8530104640808174\n"
     ]
    },
    {
     "name": "stderr",
     "output_type": "stream",
     "text": [
      "\r",
      " 62%|██████▏   | 62/100 [02:51<01:47,  2.83s/it]"
     ]
    },
    {
     "name": "stdout",
     "output_type": "stream",
     "text": [
      "Epoch: 611, Test Acc: 0.294\n",
      "0.8529717259354083\n",
      "0.8529330504032802\n",
      "0.8528944372997626\n",
      "0.852855886440925\n",
      "0.8528173976435753\n",
      "0.8527789707252567\n",
      "0.8527406055042422\n",
      "0.8527023017995338\n",
      "0.8526640594308571\n",
      "0.8526258782186599\n"
     ]
    },
    {
     "name": "stderr",
     "output_type": "stream",
     "text": [
      "\r",
      " 63%|██████▎   | 63/100 [02:55<01:57,  3.18s/it]"
     ]
    },
    {
     "name": "stdout",
     "output_type": "stream",
     "text": [
      "Epoch: 621, Test Acc: 0.294\n",
      "0.8525877579841065\n",
      "0.8525496985490769\n",
      "0.8525116997361615\n",
      "0.8524737613686594\n",
      "0.8524358832705743\n",
      "0.8523980652666108\n",
      "0.8523603071821727\n",
      "0.8523226088433578\n",
      "0.852284970076957\n",
      "0.8522473907104492\n",
      "Epoch: 631, Test Acc: 0.294\n"
     ]
    },
    {
     "name": "stderr",
     "output_type": "stream",
     "text": [
      "\r",
      " 64%|██████▍   | 64/100 [02:57<01:50,  3.07s/it]"
     ]
    },
    {
     "name": "stdout",
     "output_type": "stream",
     "text": [
      "0.8522098705719992\n",
      "0.8521724094904536\n",
      "0.8521350072953394\n",
      "0.8520976638168588\n",
      "0.8520603788858875\n",
      "0.8520231523339713\n",
      "0.8519859839933231\n",
      "0.8519488736968194\n",
      "0.8519118212779977\n",
      "0.8518748265710531\n"
     ]
    },
    {
     "name": "stderr",
     "output_type": "stream",
     "text": [
      "\r",
      " 65%|██████▌   | 65/100 [03:00<01:44,  2.99s/it]"
     ]
    },
    {
     "name": "stdout",
     "output_type": "stream",
     "text": [
      "Epoch: 641, Test Acc: 0.296\n",
      "0.851837889410836\n",
      "0.851801009632849\n",
      "0.851764187073242\n",
      "0.8517274215688128\n",
      "0.8516907129570004\n",
      "0.8516540610758857\n",
      "0.8516174657641848\n",
      "0.8515809268612495\n",
      "0.8515444442070622\n",
      "0.8515080176422336\n"
     ]
    },
    {
     "name": "stderr",
     "output_type": "stream",
     "text": [
      "\r",
      " 66%|██████▌   | 66/100 [03:03<01:36,  2.84s/it]"
     ]
    },
    {
     "name": "stdout",
     "output_type": "stream",
     "text": [
      "Epoch: 651, Test Acc: 0.294\n",
      "0.8514716470080008\n",
      "0.8514353321462231\n",
      "0.8513990728993791\n",
      "0.8513628691105658\n",
      "0.851326720623493\n",
      "0.8512906272824836\n",
      "0.8512545889324676\n",
      "0.8512186054189821\n",
      "0.8511826765881668\n",
      "0.8511468022867618\n"
     ]
    },
    {
     "name": "stderr",
     "output_type": "stream",
     "text": [
      "\r",
      " 67%|██████▋   | 67/100 [03:06<01:34,  2.86s/it]"
     ]
    },
    {
     "name": "stdout",
     "output_type": "stream",
     "text": [
      "Epoch: 661, Test Acc: 0.294\n",
      "0.8511109823621049\n",
      "0.8510752166621295\n",
      "0.8510395050353605\n",
      "0.8510038473309127\n",
      "0.850968243398488\n",
      "0.8509326930883723\n",
      "0.850897196251433\n",
      "0.8508617527391169\n",
      "0.8508263624034468\n",
      "0.8507910250970192\n"
     ]
    },
    {
     "name": "stderr",
     "output_type": "stream",
     "text": [
      "\r",
      " 68%|██████▊   | 68/100 [03:09<01:32,  2.90s/it]"
     ]
    },
    {
     "name": "stdout",
     "output_type": "stream",
     "text": [
      "Epoch: 671, Test Acc: 0.294\n",
      "0.8507557406730023\n",
      "0.850720508985132\n",
      "0.8506853298877104\n",
      "0.8506502032356034\n",
      "0.8506151288842377\n",
      "0.8505801066895984\n",
      "0.8505451365082256\n",
      "0.8505102181972136\n",
      "0.8504753516142072\n",
      "0.8504405366173993\n"
     ]
    },
    {
     "name": "stderr",
     "output_type": "stream",
     "text": [
      "\r",
      " 69%|██████▉   | 69/100 [03:12<01:31,  2.96s/it]"
     ]
    },
    {
     "name": "stdout",
     "output_type": "stream",
     "text": [
      "Epoch: 681, Test Acc: 0.296\n",
      "0.8504057730655288\n",
      "0.8503710608178779\n",
      "0.85033639973427\n",
      "0.8503017896750664\n",
      "0.8502672305011649\n",
      "0.8502327220739965\n",
      "0.850198264255524\n",
      "0.8501638569082388\n",
      "0.8501294998951578\n",
      "0.8500951930798237\n"
     ]
    },
    {
     "name": "stderr",
     "output_type": "stream",
     "text": [
      "\r",
      " 70%|███████   | 70/100 [03:14<01:26,  2.88s/it]"
     ]
    },
    {
     "name": "stdout",
     "output_type": "stream",
     "text": [
      "Epoch: 691, Test Acc: 0.298\n",
      "0.8500609363262999\n",
      "0.8500267294991686\n",
      "0.8499925724635303\n",
      "0.8499584650849992\n",
      "0.8499244072297024\n",
      "0.8498903987642771\n",
      "0.8498564395558675\n",
      "0.8498225294721248\n",
      "0.8497886683812016\n",
      "0.849754856151753\n"
     ]
    },
    {
     "name": "stderr",
     "output_type": "stream",
     "text": [
      "\r",
      " 71%|███████   | 71/100 [03:17<01:20,  2.79s/it]"
     ]
    },
    {
     "name": "stdout",
     "output_type": "stream",
     "text": [
      "Epoch: 701, Test Acc: 0.298\n",
      "0.8497210926529318\n",
      "0.8496873777543883\n",
      "0.8496537113262658\n",
      "0.8496200932392008\n",
      "0.8495865233643188\n",
      "0.8495530015732337\n",
      "0.8495195277380443\n",
      "0.8494861017313327\n",
      "0.8494527234261621\n",
      "0.849419392696075\n"
     ]
    },
    {
     "name": "stderr",
     "output_type": "stream",
     "text": [
      "\r",
      " 72%|███████▏  | 72/100 [03:20<01:17,  2.77s/it]"
     ]
    },
    {
     "name": "stdout",
     "output_type": "stream",
     "text": [
      "Epoch: 711, Test Acc: 0.296\n",
      "0.8493861094150907\n",
      "0.849352873457703\n",
      "0.849319684698878\n",
      "0.8492865430140525\n",
      "0.8492534482791324\n",
      "0.8492204003704883\n",
      "0.8491873991649562\n",
      "0.849154444539834\n",
      "0.8491215363728792\n",
      "0.8490886745423083\n"
     ]
    },
    {
     "name": "stderr",
     "output_type": "stream",
     "text": [
      "\r",
      " 73%|███████▎  | 73/100 [03:23<01:16,  2.84s/it]"
     ]
    },
    {
     "name": "stdout",
     "output_type": "stream",
     "text": [
      "Epoch: 721, Test Acc: 0.296\n",
      "0.8490558589267918\n",
      "0.8490230894054565\n",
      "0.8489903658578793\n",
      "0.8489576881640879\n",
      "0.8489250562045576\n",
      "0.8488924698602094\n",
      "0.8488599290124088\n",
      "0.8488274335429624\n",
      "0.8487949833341173\n",
      "0.8487625782685587\n"
     ]
    },
    {
     "name": "stderr",
     "output_type": "stream",
     "text": [
      "\r",
      " 74%|███████▍  | 74/100 [03:26<01:17,  2.98s/it]"
     ]
    },
    {
     "name": "stdout",
     "output_type": "stream",
     "text": [
      "Epoch: 731, Test Acc: 0.3\n",
      "0.8487302182294076\n",
      "0.8486979031002193\n",
      "0.8486656327649806\n",
      "0.8486334071081097\n",
      "0.8486012260144524\n",
      "0.8485690893692811\n",
      "0.8485369970582932\n",
      "0.848504948967608\n",
      "0.8484729449837661\n",
      "0.8484409849937274\n"
     ]
    },
    {
     "name": "stderr",
     "output_type": "stream",
     "text": [
      "\r",
      " 75%|███████▌  | 75/100 [03:29<01:13,  2.94s/it]"
     ]
    },
    {
     "name": "stdout",
     "output_type": "stream",
     "text": [
      "Epoch: 741, Test Acc: 0.3\n",
      "0.8484090688848683\n",
      "0.8483771965449803\n",
      "0.8483453678622693\n",
      "0.8483135827253516\n",
      "0.8482818410232542\n",
      "0.8482501426454115\n",
      "0.8482184874816642\n",
      "0.8481868754222575\n",
      "0.8481553063578391\n",
      "0.8481237801794572\n"
     ]
    },
    {
     "name": "stderr",
     "output_type": "stream",
     "text": [
      "\r",
      " 76%|███████▌  | 76/100 [03:32<01:09,  2.88s/it]"
     ]
    },
    {
     "name": "stdout",
     "output_type": "stream",
     "text": [
      "Epoch: 751, Test Acc: 0.3\n",
      "0.8480922967785591\n",
      "0.8480608560469904\n",
      "0.8480294578769904\n",
      "0.8479981021611935\n",
      "0.8479667887926259\n",
      "0.8479355176647038\n",
      "0.8479042886712318\n",
      "0.8478731017064024\n",
      "0.8478419566647918\n",
      "0.8478108534413611\n"
     ]
    },
    {
     "name": "stderr",
     "output_type": "stream",
     "text": [
      "\r",
      " 77%|███████▋  | 77/100 [03:34<01:05,  2.86s/it]"
     ]
    },
    {
     "name": "stdout",
     "output_type": "stream",
     "text": [
      "Epoch: 761, Test Acc: 0.302\n",
      "0.8477797919314523\n",
      "0.847748772030788\n",
      "0.8477177936354687\n",
      "0.8476868566419724\n",
      "0.8476559609471513\n",
      "0.8476251064482324\n",
      "0.847594293042813\n",
      "0.847563520628862\n",
      "0.8475327891047156\n",
      "0.8475020983690785\n"
     ]
    },
    {
     "name": "stderr",
     "output_type": "stream",
     "text": [
      "\r",
      " 78%|███████▊  | 78/100 [03:37<01:01,  2.78s/it]"
     ]
    },
    {
     "name": "stdout",
     "output_type": "stream",
     "text": [
      "Epoch: 771, Test Acc: 0.304\n",
      "0.8474714483210195\n",
      "0.8474408388599716\n",
      "0.8474102698857297\n",
      "0.84737974129845\n",
      "0.847349252998647\n",
      "0.8473188048871929\n",
      "0.8472883968653163\n",
      "0.8472580288345991\n",
      "0.8472277006969767\n",
      "0.8471974123547354\n"
     ]
    },
    {
     "name": "stderr",
     "output_type": "stream",
     "text": [
      "\r",
      " 79%|███████▉  | 79/100 [03:39<00:54,  2.61s/it]"
     ]
    },
    {
     "name": "stdout",
     "output_type": "stream",
     "text": [
      "Epoch: 781, Test Acc: 0.304\n",
      "0.8471671637105117\n",
      "0.8471369546672896\n",
      "0.8471067851284004\n",
      "0.84707665499752\n",
      "0.8470465641786685\n",
      "0.8470165125762075\n",
      "0.8469865000948399\n",
      "0.8469565266396074\n",
      "0.8469265921158896\n",
      "0.8468966964294022\n"
     ]
    },
    {
     "name": "stderr",
     "output_type": "stream",
     "text": [
      "\r",
      " 80%|████████  | 80/100 [03:42<00:53,  2.66s/it]"
     ]
    },
    {
     "name": "stdout",
     "output_type": "stream",
     "text": [
      "Epoch: 791, Test Acc: 0.304\n",
      "0.8468668394861958\n",
      "0.846837021192654\n",
      "0.8468072414554929\n",
      "0.8467775001817581\n",
      "0.8467477972788253\n",
      "0.8467181326543969\n",
      "0.8466885062165017\n",
      "0.8466589178734938\n",
      "0.8466293675340496\n",
      "0.8465998551071681\n"
     ]
    },
    {
     "name": "stderr",
     "output_type": "stream",
     "text": [
      "\r",
      " 81%|████████  | 81/100 [03:45<00:51,  2.71s/it]"
     ]
    },
    {
     "name": "stdout",
     "output_type": "stream",
     "text": [
      "Epoch: 801, Test Acc: 0.304\n",
      "0.8465703805021686\n",
      "0.8465409436286898\n",
      "0.846511544396688\n",
      "0.8464821827164358\n",
      "0.8464528584985213\n",
      "0.8464235716538452\n",
      "0.8463943220936219\n",
      "0.8463651097293754\n",
      "0.8463359344729406\n",
      "0.8463067962364598\n"
     ]
    },
    {
     "name": "stderr",
     "output_type": "stream",
     "text": [
      "\r",
      " 82%|████████▏ | 82/100 [03:48<00:48,  2.70s/it]"
     ]
    },
    {
     "name": "stdout",
     "output_type": "stream",
     "text": [
      "Epoch: 811, Test Acc: 0.304\n",
      "0.8462776949323824\n",
      "0.8462486304734635\n",
      "0.8462196027727629\n",
      "0.846190611743643\n",
      "0.8461616572997676\n",
      "0.8461327393551014\n",
      "0.8461038578239084\n",
      "0.8460750126207497\n",
      "0.8460462036604837\n",
      "0.8460174308582639\n"
     ]
    },
    {
     "name": "stderr",
     "output_type": "stream",
     "text": [
      "\r",
      " 83%|████████▎ | 83/100 [03:50<00:43,  2.55s/it]"
     ]
    },
    {
     "name": "stdout",
     "output_type": "stream",
     "text": [
      "Epoch: 821, Test Acc: 0.304\n",
      "0.8459886941295368\n",
      "0.845959993390043\n",
      "0.8459313285558141\n",
      "0.8459026995431718\n",
      "0.8458741062687268\n",
      "0.8458455486493774\n",
      "0.8458170266023092\n",
      "0.8457885400449923\n",
      "0.8457600888951807\n",
      "0.8457316730709123\n"
     ]
    },
    {
     "name": "stderr",
     "output_type": "stream",
     "text": [
      "\r",
      " 84%|████████▍ | 84/100 [03:52<00:40,  2.51s/it]"
     ]
    },
    {
     "name": "stdout",
     "output_type": "stream",
     "text": [
      "Epoch: 831, Test Acc: 0.304\n",
      "0.8457032924905055\n",
      "0.8456749470725603\n",
      "0.8456466367359544\n",
      "0.845618361399845\n",
      "0.8455901209836659\n",
      "0.8455619154071256\n",
      "0.8455337445902084\n",
      "0.8455056084531715\n",
      "0.8454775069165433\n",
      "0.8454494399011246\n"
     ]
    },
    {
     "name": "stderr",
     "output_type": "stream",
     "text": [
      "\r",
      " 85%|████████▌ | 85/100 [03:55<00:38,  2.57s/it]"
     ]
    },
    {
     "name": "stdout",
     "output_type": "stream",
     "text": [
      "Epoch: 841, Test Acc: 0.304\n",
      "0.8454214073279859\n",
      "0.8453934091184654\n",
      "0.8453654451941699\n",
      "0.8453375154769718\n",
      "0.8453096198890099\n",
      "0.8452817583526856\n",
      "0.8452539307906652\n",
      "0.8452261371258756\n",
      "0.845198377281505\n",
      "0.8451706511810015\n"
     ]
    },
    {
     "name": "stderr",
     "output_type": "stream",
     "text": [
      "\r",
      " 86%|████████▌ | 86/100 [03:57<00:34,  2.48s/it]"
     ]
    },
    {
     "name": "stdout",
     "output_type": "stream",
     "text": [
      "Epoch: 851, Test Acc: 0.304\n",
      "0.8451429587480709\n",
      "0.8451152999066779\n",
      "0.8450876745810428\n",
      "0.845060082695641\n",
      "0.8450325241752031\n",
      "0.8450049989447118\n",
      "0.844977506929403\n",
      "0.8449500480547629\n",
      "0.844922622246528\n",
      "0.8448952294306835\n"
     ]
    },
    {
     "name": "stderr",
     "output_type": "stream",
     "text": [
      "\r",
      " 87%|████████▋ | 87/100 [03:59<00:29,  2.31s/it]"
     ]
    },
    {
     "name": "stdout",
     "output_type": "stream",
     "text": [
      "Epoch: 861, Test Acc: 0.304\n",
      "0.8448678695334629\n",
      "0.8448405424813465\n",
      "0.8448132482010599\n",
      "0.8447859866195737\n",
      "0.8447587576641028\n",
      "0.844731561262104\n",
      "0.8447043973412763\n",
      "0.8446772658295594\n",
      "0.8446501666551318\n",
      "0.8446230997464124\n"
     ]
    },
    {
     "name": "stderr",
     "output_type": "stream",
     "text": [
      "\r",
      " 88%|████████▊ | 88/100 [04:01<00:26,  2.24s/it]"
     ]
    },
    {
     "name": "stdout",
     "output_type": "stream",
     "text": [
      "Epoch: 871, Test Acc: 0.304\n",
      "0.8445960650320559\n",
      "0.8445690624409552\n",
      "0.8445420919022376\n",
      "0.8445151533452658\n",
      "0.8444882466996362\n",
      "0.8444613718951774\n",
      "0.8444345288619504\n",
      "0.8444077175302468\n",
      "0.8443809378305877\n",
      "0.8443541896937224\n"
     ]
    },
    {
     "name": "stderr",
     "output_type": "stream",
     "text": [
      "\r",
      " 89%|████████▉ | 89/100 [04:04<00:25,  2.31s/it]"
     ]
    },
    {
     "name": "stdout",
     "output_type": "stream",
     "text": [
      "Epoch: 881, Test Acc: 0.304\n",
      "0.8443274730506306\n",
      "0.8443007878325162\n",
      "0.8442741339708104\n",
      "0.8442475113971688\n",
      "0.8442209200434722\n",
      "0.8441943598418231\n",
      "0.8441678307245478\n",
      "0.8441413326241928\n",
      "0.8441148654735257\n",
      "0.8440884292055325\n"
     ]
    },
    {
     "name": "stderr",
     "output_type": "stream",
     "text": [
      "\r",
      " 90%|█████████ | 90/100 [04:08<00:28,  2.87s/it]"
     ]
    },
    {
     "name": "stdout",
     "output_type": "stream",
     "text": [
      "Epoch: 891, Test Acc: 0.304\n",
      "0.8440620237534191\n",
      "0.8440356490506083\n",
      "0.8440093050307398\n",
      "0.8439829916276693\n",
      "0.8439567087754674\n",
      "0.8439304564084184\n",
      "0.8439042344610204\n",
      "0.8438780428679833\n",
      "0.8438518815642286\n",
      "0.8438257504848887\n"
     ]
    },
    {
     "name": "stderr",
     "output_type": "stream",
     "text": [
      "\r",
      " 91%|█████████ | 91/100 [04:10<00:24,  2.75s/it]"
     ]
    },
    {
     "name": "stdout",
     "output_type": "stream",
     "text": [
      "Epoch: 901, Test Acc: 0.304\n",
      "0.8437996495653053\n",
      "0.8437735787410284\n",
      "0.8437475379478167\n",
      "0.8437215271216363\n",
      "0.8436955461986585\n",
      "0.8436695951152602\n",
      "0.843643673808024\n",
      "0.8436177822137345\n",
      "0.8435919202693802\n",
      "0.8435660879121512\n"
     ]
    },
    {
     "name": "stderr",
     "output_type": "stream",
     "text": [
      "\r",
      " 92%|█████████▏| 92/100 [04:13<00:21,  2.68s/it]"
     ]
    },
    {
     "name": "stdout",
     "output_type": "stream",
     "text": [
      "Epoch: 911, Test Acc: 0.306\n",
      "0.8435402850794391\n",
      "0.8435145117088357\n",
      "0.8434887677381325\n",
      "0.843463053105319\n",
      "0.8434373677485836\n",
      "0.8434117116063108\n",
      "0.8433860846170823\n",
      "0.8433604867196746\n",
      "0.8433349178530589\n"
     ]
    },
    {
     "name": "stderr",
     "output_type": "stream",
     "text": [
      "\r",
      " 93%|█████████▎| 93/100 [04:15<00:18,  2.59s/it]"
     ]
    },
    {
     "name": "stdout",
     "output_type": "stream",
     "text": [
      "0.8433093779564009\n",
      "Epoch: 921, Test Acc: 0.306\n",
      "0.8432838669690588\n",
      "0.8432583848305829\n",
      "0.8432329314807155\n",
      "0.8432075068593895\n",
      "0.8431821109067276\n",
      "0.8431567435630419\n",
      "0.8431314047688319\n",
      "0.8431060944647861\n",
      "0.8430808125917797\n",
      "0.8430555590908726\n"
     ]
    },
    {
     "name": "stderr",
     "output_type": "stream",
     "text": [
      "\r",
      " 94%|█████████▍| 94/100 [04:18<00:16,  2.71s/it]"
     ]
    },
    {
     "name": "stdout",
     "output_type": "stream",
     "text": [
      "Epoch: 931, Test Acc: 0.306\n",
      "0.8430303339033113\n",
      "0.843005136970527\n",
      "0.842979968234134\n",
      "0.8429548276359295\n",
      "0.8429297151178938\n",
      "0.842904630622189\n",
      "0.842879574091157\n",
      "0.84285454546732\n",
      "0.8428295446933806\n",
      "0.8428045717122192\n"
     ]
    },
    {
     "name": "stderr",
     "output_type": "stream",
     "text": [
      "\r",
      " 95%|█████████▌| 95/100 [04:21<00:14,  2.81s/it]"
     ]
    },
    {
     "name": "stdout",
     "output_type": "stream",
     "text": [
      "Epoch: 941, Test Acc: 0.306\n",
      "0.842779626466894\n",
      "0.8427547089006412\n",
      "0.8427298189568727\n",
      "0.842704956579177\n",
      "0.8426801217113169\n",
      "0.8426553142972298\n",
      "0.8426305342810273\n",
      "0.842605781606993\n",
      "0.8425810562195837\n",
      "0.8425563580634269\n"
     ]
    },
    {
     "name": "stderr",
     "output_type": "stream",
     "text": [
      "\r",
      " 96%|█████████▌| 96/100 [04:23<00:10,  2.65s/it]"
     ]
    },
    {
     "name": "stdout",
     "output_type": "stream",
     "text": [
      "Epoch: 951, Test Acc: 0.306\n",
      "0.8425316870833216\n",
      "0.8425070432242372\n",
      "0.842482426431312\n",
      "0.8424578366498529\n",
      "0.842433273825336\n",
      "0.8424087379034038\n",
      "0.8423842288298664\n",
      "0.8423597465506999\n",
      "0.842335291012045\n",
      "0.842310862160208\n"
     ]
    },
    {
     "name": "stderr",
     "output_type": "stream",
     "text": [
      "\r",
      " 97%|█████████▋| 97/100 [04:26<00:07,  2.64s/it]"
     ]
    },
    {
     "name": "stdout",
     "output_type": "stream",
     "text": [
      "Epoch: 961, Test Acc: 0.304\n",
      "0.8422864599416598\n",
      "0.8422620843030336\n",
      "0.8422377351911261\n",
      "0.842213412552896\n",
      "0.8421891163354638\n",
      "0.8421648464861108\n",
      "0.8421406029522776\n",
      "0.842116385681566\n",
      "0.8420921946217356\n",
      "0.8420680297207047\n"
     ]
    },
    {
     "name": "stderr",
     "output_type": "stream",
     "text": [
      "\r",
      " 98%|█████████▊| 98/100 [04:29<00:05,  2.65s/it]"
     ]
    },
    {
     "name": "stdout",
     "output_type": "stream",
     "text": [
      "Epoch: 971, Test Acc: 0.304\n",
      "0.8420438909265497\n",
      "0.842019778187503\n",
      "0.8419956914519546\n",
      "0.8419716306684496\n",
      "0.8419475957856887\n",
      "0.8419235867525268\n",
      "0.8418996035179728\n",
      "0.8418756460311894\n",
      "0.8418517142414922\n",
      "0.8418278080983473\n"
     ]
    },
    {
     "name": "stderr",
     "output_type": "stream",
     "text": [
      "\r",
      " 99%|█████████▉| 99/100 [04:31<00:02,  2.67s/it]"
     ]
    },
    {
     "name": "stdout",
     "output_type": "stream",
     "text": [
      "Epoch: 981, Test Acc: 0.304\n",
      "0.8418039275513749\n",
      "0.8417800725503441\n",
      "0.8417562430451754\n",
      "0.8417324389859385\n",
      "0.8417086603228523\n",
      "0.8416849070062848\n",
      "0.8416611789867517\n",
      "0.8416374762149155\n",
      "0.8416137986415867\n",
      "0.8415901462177208\n"
     ]
    },
    {
     "name": "stderr",
     "output_type": "stream",
     "text": [
      "100%|██████████| 100/100 [04:34<00:00,  2.74s/it]\n"
     ]
    },
    {
     "name": "stdout",
     "output_type": "stream",
     "text": [
      "Epoch: 991, Test Acc: 0.304\n"
     ]
    },
    {
     "name": "stderr",
     "output_type": "stream",
     "text": [
      "\r",
      "  0%|          | 0/100 [00:00<?, ?it/s]"
     ]
    },
    {
     "name": "stdout",
     "output_type": "stream",
     "text": [
      "0.9974187378098351\n",
      "0.9099363479725057\n",
      "0.9023632561973797\n",
      "0.9002437643142698\n",
      "0.8985487668803128\n",
      "0.8969362463534428\n",
      "0.8953807284728439\n",
      "0.8938782226341271\n",
      "0.8924262969403308\n",
      "0.8910227277634457\n"
     ]
    },
    {
     "name": "stderr",
     "output_type": "stream",
     "text": [
      "\r",
      "  1%|          | 1/100 [00:02<04:27,  2.70s/it]"
     ]
    },
    {
     "name": "stdout",
     "output_type": "stream",
     "text": [
      "Epoch: 1, Test Acc: 0.196\n",
      "0.8896654035271241\n",
      "0.8883523134115564\n",
      "0.887081542029151\n",
      "0.8858512647292066\n",
      "0.8846597431597075\n",
      "0.8835053210504579\n",
      "0.8823864202049914\n",
      "0.8813015366907548\n",
      "0.8802492372177106\n",
      "0.8792281556959737\n"
     ]
    },
    {
     "name": "stderr",
     "output_type": "stream",
     "text": [
      "\r",
      "  2%|▏         | 2/100 [00:04<04:01,  2.46s/it]"
     ]
    },
    {
     "name": "stdout",
     "output_type": "stream",
     "text": [
      "Epoch: 11, Test Acc: 0.244\n",
      "0.8782369899635829\n",
      "0.8772744986759512\n",
      "0.8763394983489516\n",
      "0.875430860548003\n",
      "0.8745475092159007\n",
      "0.8736884181324993\n",
      "0.872852608499688\n",
      "0.8720391466454465\n",
      "0.8712471418410582\n",
      "0.870475744225864\n"
     ]
    },
    {
     "name": "stderr",
     "output_type": "stream",
     "text": [
      "\r",
      "  3%|▎         | 3/100 [00:07<03:45,  2.32s/it]"
     ]
    },
    {
     "name": "stdout",
     "output_type": "stream",
     "text": [
      "Epoch: 21, Test Acc: 0.246\n",
      "0.8697241428342192\n",
      "0.8689915637195745\n",
      "0.8682772681708721\n",
      "0.8675805510166597\n",
      "0.8669007390125851\n",
      "0.8662371893081309\n",
      "0.865589287988655\n",
      "0.8649564486890106\n",
      "0.8643381112751919\n",
      "0.8637337405906389\n"
     ]
    },
    {
     "name": "stderr",
     "output_type": "stream",
     "text": [
      "\r",
      "  4%|▍         | 4/100 [00:09<03:44,  2.34s/it]"
     ]
    },
    {
     "name": "stdout",
     "output_type": "stream",
     "text": [
      "Epoch: 31, Test Acc: 0.266\n",
      "0.863142825263995\n",
      "0.8625648765752727\n",
      "0.8619994273775375\n",
      "0.8614460310713605\n",
      "0.8609042606294265\n",
      "0.8603737076688182\n",
      "0.8598539815686155\n",
      "0.8593447086305702\n",
      "0.8588455312807274\n",
      "0.8583561073099678\n"
     ]
    },
    {
     "name": "stderr",
     "output_type": "stream",
     "text": [
      "\r",
      "  5%|▌         | 5/100 [00:11<03:43,  2.35s/it]"
     ]
    },
    {
     "name": "stdout",
     "output_type": "stream",
     "text": [
      "Epoch: 41, Test Acc: 0.274\n",
      "0.8578761091515484\n",
      "0.8574052231938155\n",
      "0.856943149126351\n",
      "0.8564895993179032\n",
      "0.8560442982245341\n",
      "0.8556069818264889\n",
      "0.855177397092379\n",
      "0.8547553014693228\n",
      "0.8543404623977715\n"
     ]
    },
    {
     "name": "stderr",
     "output_type": "stream",
     "text": [
      "\r",
      "  6%|▌         | 6/100 [00:14<03:33,  2.27s/it]"
     ]
    },
    {
     "name": "stdout",
     "output_type": "stream",
     "text": [
      "0.8539326568498029\n",
      "Epoch: 51, Test Acc: 0.284\n",
      "0.853531670889728\n",
      "0.8531372992559084\n",
      "0.8527493449627465\n",
      "0.8523676189218538\n",
      "0.851991939581455\n",
      "0.8516221325831302\n",
      "0.8512580304350484\n",
      "0.8508994722008777\n",
      "0.8505463032036049\n",
      "0.8501983747435372\n"
     ]
    },
    {
     "name": "stderr",
     "output_type": "stream",
     "text": [
      "\r",
      "  7%|▋         | 7/100 [00:16<03:50,  2.48s/it]"
     ]
    },
    {
     "name": "stdout",
     "output_type": "stream",
     "text": [
      "Epoch: 61, Test Acc: 0.286\n",
      "0.8498555438297838\n",
      "0.8495176729245623\n",
      "0.8491846296997021\n",
      "0.8488562868047433\n",
      "0.8485325216460706\n",
      "0.8482132161765371\n",
      "0.8478982566950698\n",
      "0.8475875336557667\n",
      "0.8472809414860236\n",
      "0.8469783784132526\n"
     ]
    },
    {
     "name": "stderr",
     "output_type": "stream",
     "text": [
      "\r",
      "  8%|▊         | 8/100 [00:19<03:56,  2.58s/it]"
     ]
    },
    {
     "name": "stdout",
     "output_type": "stream",
     "text": [
      "Epoch: 71, Test Acc: 0.296\n",
      "0.8466797462997673\n",
      "0.8463849504854462\n",
      "0.8460938996377876\n",
      "0.8458065056090011\n",
      "0.8455226832997947\n",
      "0.8452423505295272\n",
      "0.8449654279124241\n",
      "0.8446918387395584\n",
      "0.8444215088663166\n",
      "0.84415436660509\n"
     ]
    },
    {
     "name": "stderr",
     "output_type": "stream",
     "text": [
      "\r",
      "  9%|▉         | 9/100 [00:22<03:48,  2.51s/it]"
     ]
    },
    {
     "name": "stdout",
     "output_type": "stream",
     "text": [
      "Epoch: 81, Test Acc: 0.302\n",
      "0.8438903426229328\n",
      "0.843629369843949\n",
      "0.8433713833561826\n",
      "0.843116320322789\n",
      "0.8428641198972869\n",
      "0.8426147231426898\n",
      "0.8423680729543324\n",
      "0.8421241139862163\n",
      "0.8418827925807031\n",
      "0.8416440567013963\n"
     ]
    },
    {
     "name": "stderr",
     "output_type": "stream",
     "text": [
      "\r",
      " 10%|█         | 10/100 [00:24<03:52,  2.58s/it]"
     ]
    },
    {
     "name": "stdout",
     "output_type": "stream",
     "text": [
      "Epoch: 91, Test Acc: 0.302\n",
      "0.8414078558690595\n",
      "0.8411741411004241\n",
      "0.8409428648497526\n",
      "0.8407139809530192\n",
      "0.8404874445745909\n",
      "0.8402632121562845\n",
      "0.8400412413686899\n",
      "0.8398214910646484\n",
      "0.8396039212347898\n",
      "0.8393884929650264\n"
     ]
    },
    {
     "name": "stderr",
     "output_type": "stream",
     "text": [
      "\r",
      " 11%|█         | 11/100 [00:26<03:37,  2.44s/it]"
     ]
    },
    {
     "name": "stdout",
     "output_type": "stream",
     "text": [
      "Epoch: 101, Test Acc: 0.306\n",
      "0.8391751683959098\n",
      "0.8389639106837711\n",
      "0.8387546839635499\n",
      "0.8385474533132401\n",
      "0.8383421847198744\n",
      "0.8381388450469743\n",
      "0.8379374020033993\n",
      "0.837737824113527\n",
      "0.8375400806887064\n",
      "0.8373441417999193\n"
     ]
    },
    {
     "name": "stderr",
     "output_type": "stream",
     "text": [
      "\r",
      " 12%|█▏        | 12/100 [00:29<03:38,  2.48s/it]"
     ]
    },
    {
     "name": "stdout",
     "output_type": "stream",
     "text": [
      "Epoch: 111, Test Acc: 0.322\n",
      "0.8371499782515998\n",
      "0.8369575615565539\n",
      "0.8367668639119303\n",
      "0.8365778581761945\n",
      "0.8363905178470555\n",
      "0.836204817040309\n",
      "0.8360207304695483\n",
      "0.8358382334267055\n",
      "0.8356573017633869\n",
      "0.8354779118729648\n"
     ]
    },
    {
     "name": "stderr",
     "output_type": "stream",
     "text": [
      "\r",
      " 13%|█▎        | 13/100 [00:31<03:26,  2.37s/it]"
     ]
    },
    {
     "name": "stdout",
     "output_type": "stream",
     "text": [
      "Epoch: 121, Test Acc: 0.326\n",
      "0.8353000406733875\n",
      "0.8351236655906856\n",
      "0.8349487645431304\n",
      "0.8347753159260232\n",
      "0.8346032985970858\n",
      "0.8344326918624239\n",
      "0.8342634754630348\n",
      "0.8340956295618455\n",
      "0.8339291347312432\n",
      "0.8337639719410893\n"
     ]
    },
    {
     "name": "stderr",
     "output_type": "stream",
     "text": [
      "\r",
      " 14%|█▍        | 14/100 [00:34<03:26,  2.41s/it]"
     ]
    },
    {
     "name": "stdout",
     "output_type": "stream",
     "text": [
      "Epoch: 131, Test Acc: 0.332\n",
      "0.8336001225471875\n",
      "0.8334375682801889\n",
      "0.8332762912349144\n",
      "0.833116273860078\n",
      "0.8329574989483896\n",
      "0.8327999496270233\n",
      "0.8326436093484376\n",
      "0.8324884618815268\n",
      "0.8323344913030934\n",
      "0.8321816819896284\n"
     ]
    },
    {
     "name": "stderr",
     "output_type": "stream",
     "text": [
      "\r",
      " 15%|█▌        | 15/100 [00:37<03:57,  2.80s/it]"
     ]
    },
    {
     "name": "stdout",
     "output_type": "stream",
     "text": [
      "Epoch: 141, Test Acc: 0.332\n",
      "0.8320300186093804\n",
      "0.8318794861147117\n",
      "0.8317300697347173\n",
      "0.831581754968104\n",
      "0.8314345275763173\n",
      "0.831288373576902\n",
      "0.8311432792370906\n",
      "0.8309992310676094\n",
      "0.8308562158166926\n",
      "0.8307142204642934\n"
     ]
    },
    {
     "name": "stderr",
     "output_type": "stream",
     "text": [
      "\r",
      " 16%|█▌        | 16/100 [00:40<03:42,  2.64s/it]"
     ]
    },
    {
     "name": "stdout",
     "output_type": "stream",
     "text": [
      "Epoch: 151, Test Acc: 0.338\n",
      "0.8305732322164909\n",
      "0.8304332385000773\n",
      "0.8302942269573225\n",
      "0.830156185440908\n",
      "0.8300191020090218\n",
      "0.8298829649206122\n",
      "0.829747762630787\n",
      "0.82961348378636\n",
      "0.8294801172215334\n",
      "0.8293476519537157\n"
     ]
    },
    {
     "name": "stderr",
     "output_type": "stream",
     "text": [
      "\r",
      " 17%|█▋        | 17/100 [00:43<04:10,  3.02s/it]"
     ]
    },
    {
     "name": "stdout",
     "output_type": "stream",
     "text": [
      "Epoch: 161, Test Acc: 0.34\n",
      "0.8292160771794618\n",
      "0.8290853822705425\n",
      "0.8289555567701274\n",
      "0.8288265903890819\n",
      "0.8286984730023745\n",
      "0.8285711946455878\n",
      "0.828444745511532\n",
      "0.8283191159469545\n",
      "0.8281942964493437\n",
      "0.8280702776638222\n"
     ]
    },
    {
     "name": "stderr",
     "output_type": "stream",
     "text": [
      "\r",
      " 18%|█▊        | 18/100 [00:46<04:02,  2.96s/it]"
     ]
    },
    {
     "name": "stdout",
     "output_type": "stream",
     "text": [
      "Epoch: 171, Test Acc: 0.346\n",
      "0.8279470503801292\n",
      "0.8278246055296835\n",
      "0.8277029341827306\n",
      "0.8275820275455641\n",
      "0.8274618769578256\n",
      "0.8273424738898751\n",
      "0.8272238099402319\n",
      "0.8271058768330821\n",
      "0.8269886664158527\n",
      "0.8268721706568467\n"
     ]
    },
    {
     "name": "stderr",
     "output_type": "stream",
     "text": [
      "\r",
      " 19%|█▉        | 19/100 [00:49<03:55,  2.91s/it]"
     ]
    },
    {
     "name": "stdout",
     "output_type": "stream",
     "text": [
      "Epoch: 181, Test Acc: 0.344\n",
      "0.8267563816429419\n",
      "0.8266412915773447\n",
      "0.8265268927774031\n",
      "0.8264131776724739\n",
      "0.8263001388018427\n",
      "0.8261877688126952\n",
      "0.826076060458138\n",
      "0.8259650065952676\n",
      "0.8258546001832858\n",
      "0.8257448342816599\n",
      "Epoch: 191, Test Acc: 0.348\n"
     ]
    },
    {
     "name": "stderr",
     "output_type": "stream",
     "text": [
      "\r",
      " 20%|██        | 20/100 [00:52<03:45,  2.81s/it]"
     ]
    },
    {
     "name": "stdout",
     "output_type": "stream",
     "text": [
      "0.8256357020483265\n",
      "0.825527196737937\n",
      "0.8254193117001447\n",
      "0.8253120403779315\n",
      "0.8252053763059712\n",
      "0.8250993131090336\n",
      "0.8249938445004202\n",
      "0.8248889642804385\n",
      "0.8247846663349079\n",
      "0.8246809446337006\n"
     ]
    },
    {
     "name": "stderr",
     "output_type": "stream",
     "text": [
      "\r",
      " 21%|██        | 21/100 [00:54<03:32,  2.69s/it]"
     ]
    },
    {
     "name": "stdout",
     "output_type": "stream",
     "text": [
      "Epoch: 201, Test Acc: 0.348\n",
      "0.824577793229312\n",
      "0.8244752062554652\n",
      "0.8243731779257429\n",
      "0.8242717025322489\n",
      "0.8241707744443008\n",
      "0.824070388107147\n",
      "0.8239705380407127\n",
      "0.8238712188383707\n",
      "0.8237724251657382\n",
      "0.8236741517595001\n"
     ]
    },
    {
     "name": "stderr",
     "output_type": "stream",
     "text": [
      "\r",
      " 22%|██▏       | 22/100 [00:57<03:30,  2.70s/it]"
     ]
    },
    {
     "name": "stdout",
     "output_type": "stream",
     "text": [
      "Epoch: 211, Test Acc: 0.35\n",
      "0.8235763934262524\n",
      "0.8234791450413727\n",
      "0.8233824015479116\n",
      "0.8232861579555071\n",
      "0.8231904093393205\n",
      "0.8230951508389923\n",
      "0.8230003776576212\n",
      "0.8229060850607591\n",
      "0.8228122683754304\n",
      "0.8227189229891662\n"
     ]
    },
    {
     "name": "stderr",
     "output_type": "stream",
     "text": [
      "\r",
      " 23%|██▎       | 23/100 [01:00<03:27,  2.70s/it]"
     ]
    },
    {
     "name": "stdout",
     "output_type": "stream",
     "text": [
      "Epoch: 221, Test Acc: 0.35\n",
      "0.8226260443490585\n",
      "0.8225336279608343\n",
      "0.8224416693879439\n",
      "0.8223501642506681\n",
      "0.8222591082252437\n",
      "0.822168497043003\n",
      "0.8220783264895292\n",
      "0.8219885924038302\n",
      "0.8218992906775239\n",
      "0.8218104172540424\n"
     ]
    },
    {
     "name": "stderr",
     "output_type": "stream",
     "text": [
      "\r",
      " 24%|██▍       | 24/100 [01:04<03:56,  3.12s/it]"
     ]
    },
    {
     "name": "stdout",
     "output_type": "stream",
     "text": [
      "Epoch: 231, Test Acc: 0.348\n",
      "0.8217219681278459\n",
      "0.8216339393436561\n",
      "0.8215463269956994\n",
      "0.8214591272269658\n",
      "0.8213723362284795\n",
      "0.8212859502385842\n",
      "0.8211999655422404\n",
      "0.821114378470334\n",
      "0.8210291853989989\n",
      "0.8209443827489497\n"
     ]
    },
    {
     "name": "stderr",
     "output_type": "stream",
     "text": [
      "\r",
      " 25%|██▌       | 25/100 [01:06<03:42,  2.96s/it]"
     ]
    },
    {
     "name": "stdout",
     "output_type": "stream",
     "text": [
      "Epoch: 241, Test Acc: 0.352\n",
      "0.8208599669848272\n",
      "0.8207759346145551\n",
      "0.8206922821887075\n",
      "0.8206090062998858\n",
      "0.820526103582111\n",
      "0.8204435707102201\n",
      "0.820361404399277\n",
      "0.820279601403993\n",
      "0.8201981585181546\n",
      "0.820117072574064\n"
     ]
    },
    {
     "name": "stderr",
     "output_type": "stream",
     "text": [
      "\r",
      " 26%|██▌       | 26/100 [01:09<03:37,  2.95s/it]"
     ]
    },
    {
     "name": "stdout",
     "output_type": "stream",
     "text": [
      "Epoch: 251, Test Acc: 0.356\n",
      "0.8200363404419868\n",
      "0.8199559590296098\n",
      "0.819875925281508\n",
      "0.8197962361786195\n",
      "0.8197168887377304\n",
      "0.8196378800109664\n",
      "0.8195592070852953\n",
      "0.8194808670820343\n",
      "0.819402857156369\n",
      "0.8193251744968765\n"
     ]
    },
    {
     "name": "stderr",
     "output_type": "stream",
     "text": [
      "\r",
      " 27%|██▋       | 27/100 [01:12<03:33,  2.93s/it]"
     ]
    },
    {
     "name": "stdout",
     "output_type": "stream",
     "text": [
      "Epoch: 261, Test Acc: 0.358\n",
      "0.81924781632506\n",
      "0.8191707798948872\n",
      "0.8190940624923391\n",
      "0.8190176614349642\n",
      "0.8189415740714411\n",
      "0.8188657977811468\n",
      "0.8187903299737332\n",
      "0.8187151680887086\n",
      "0.8186403095950284\n",
      "0.8185657519906895\n"
     ]
    },
    {
     "name": "stderr",
     "output_type": "stream",
     "text": [
      "\r",
      " 28%|██▊       | 28/100 [01:15<03:40,  3.07s/it]"
     ]
    },
    {
     "name": "stdout",
     "output_type": "stream",
     "text": [
      "Epoch: 271, Test Acc: 0.356\n",
      "0.8184914928023325\n",
      "0.8184175295848503\n",
      "0.8183438599210023\n",
      "0.8182704814210351\n",
      "0.8181973917223081\n",
      "0.8181245884889261\n",
      "0.818052069411377\n",
      "0.8179798322061753\n",
      "0.817907874615511\n",
      "0.8178361944069036\n"
     ]
    },
    {
     "name": "stderr",
     "output_type": "stream",
     "text": [
      "\r",
      " 29%|██▉       | 29/100 [01:18<03:32,  2.99s/it]"
     ]
    },
    {
     "name": "stdout",
     "output_type": "stream",
     "text": [
      "Epoch: 281, Test Acc: 0.354\n",
      "0.8177647893728622\n",
      "0.8176936573305496\n",
      "0.8176227961214534\n",
      "0.817552203611059\n",
      "0.8174818776885323\n",
      "0.8174118162664015\n",
      "0.8173420172802491\n",
      "0.8172724786884042\n",
      "0.8172031984716429\n",
      "0.8171341746328903\n"
     ]
    },
    {
     "name": "stderr",
     "output_type": "stream",
     "text": [
      "\r",
      " 30%|███       | 30/100 [01:21<03:21,  2.88s/it]"
     ]
    },
    {
     "name": "stdout",
     "output_type": "stream",
     "text": [
      "Epoch: 291, Test Acc: 0.354\n",
      "0.8170654051969293\n",
      "0.8169968882101123\n",
      "0.8169286217400776\n",
      "0.8168606038754708\n",
      "0.8167928327256687\n",
      "0.8167253064205096\n",
      "0.8166580231100237\n",
      "0.8165909809641735\n",
      "0.8165241781725919\n",
      "0.8164576129443282\n"
     ]
    },
    {
     "name": "stderr",
     "output_type": "stream",
     "text": [
      "\r",
      " 31%|███       | 31/100 [01:23<03:14,  2.82s/it]"
     ]
    },
    {
     "name": "stdout",
     "output_type": "stream",
     "text": [
      "Epoch: 301, Test Acc: 0.356\n",
      "0.8163912835075958\n",
      "0.8163251881095247\n",
      "0.816259325015917\n",
      "0.8161936925110064\n",
      "0.8161282888972202\n",
      "0.8160631124949473\n",
      "0.8159981616423063\n",
      "0.8159334346949185\n",
      "0.8158689300256855\n",
      "0.8158046460245675\n"
     ]
    },
    {
     "name": "stderr",
     "output_type": "stream",
     "text": [
      "\r",
      " 32%|███▏      | 32/100 [01:26<03:09,  2.79s/it]"
     ]
    },
    {
     "name": "stdout",
     "output_type": "stream",
     "text": [
      "Epoch: 311, Test Acc: 0.354\n",
      "0.815740581098366\n",
      "0.8156767336705112\n",
      "0.8156131021808488\n",
      "0.8155496850854338\n",
      "0.8154864808563241\n",
      "0.8154234879813791\n",
      "0.8153607049640605\n",
      "0.8152981303232358\n",
      "0.8152357625929845\n",
      "0.8151736003224076\n"
     ]
    },
    {
     "name": "stderr",
     "output_type": "stream",
     "text": [
      "\r",
      " 33%|███▎      | 33/100 [01:29<03:01,  2.70s/it]"
     ]
    },
    {
     "name": "stdout",
     "output_type": "stream",
     "text": [
      "Epoch: 321, Test Acc: 0.354\n",
      "0.8151116420754393\n",
      "0.8150498864306617\n",
      "0.8149883319811219\n",
      "0.8149269773341518\n",
      "0.8148658211111904\n",
      "0.8148048619476087\n",
      "0.8147440984925369\n",
      "0.8146835294086943\n",
      "0.8146231533722207\n",
      "0.8145629690725119\n"
     ]
    },
    {
     "name": "stderr",
     "output_type": "stream",
     "text": [
      "\r",
      " 34%|███▍      | 34/100 [01:32<03:09,  2.86s/it]"
     ]
    },
    {
     "name": "stdout",
     "output_type": "stream",
     "text": [
      "Epoch: 331, Test Acc: 0.354\n",
      "0.8145029752120557\n",
      "0.8144431705062717\n",
      "0.8143835536833514\n",
      "0.8143241234841028\n",
      "0.8142648786617954\n",
      "0.8142058179820089\n",
      "0.8141469402224819\n",
      "0.814088244172965\n",
      "0.8140297286350743\n",
      "0.8139713924221469\n"
     ]
    },
    {
     "name": "stderr",
     "output_type": "stream",
     "text": [
      "\r",
      " 35%|███▌      | 35/100 [01:34<02:55,  2.71s/it]"
     ]
    },
    {
     "name": "stdout",
     "output_type": "stream",
     "text": [
      "Epoch: 341, Test Acc: 0.352\n",
      "0.8139132343591008\n",
      "0.8138552532822927\n",
      "0.8137974480393816\n",
      "0.8137398174891916\n",
      "0.8136823605015778\n",
      "0.8136250759572949\n",
      "0.813567962747864\n",
      "0.8135110197754474\n",
      "0.8134542459527171\n",
      "0.8133976402027339\n"
     ]
    },
    {
     "name": "stderr",
     "output_type": "stream",
     "text": [
      "\r",
      " 36%|███▌      | 36/100 [01:37<02:59,  2.81s/it]"
     ]
    },
    {
     "name": "stdout",
     "output_type": "stream",
     "text": [
      "Epoch: 351, Test Acc: 0.348\n",
      "0.8133412014588193\n",
      "0.813284928664438\n",
      "0.8132288207730736\n",
      "0.8131728767481117\n",
      "0.8131170955627232\n",
      "0.8130614761997474\n",
      "0.8130060176515794\n",
      "0.812950718920056\n",
      "0.8128955790163466\n",
      "0.8128405969608423\n"
     ]
    },
    {
     "name": "stderr",
     "output_type": "stream",
     "text": [
      "\r",
      " 37%|███▋      | 37/100 [01:40<02:52,  2.73s/it]"
     ]
    },
    {
     "name": "stdout",
     "output_type": "stream",
     "text": [
      "Epoch: 361, Test Acc: 0.35\n",
      "0.8127857717830488\n",
      "0.8127311025214792\n",
      "0.812676588223549\n",
      "0.8126222279454728\n",
      "0.8125680207521617\n",
      "0.8125139657171222\n",
      "0.8124600619223563\n",
      "0.8124063084582642\n",
      "0.8123527044235463\n",
      "0.8122992489251075\n"
     ]
    },
    {
     "name": "stderr",
     "output_type": "stream",
     "text": [
      "\r",
      " 38%|███▊      | 38/100 [01:42<02:45,  2.66s/it]"
     ]
    },
    {
     "name": "stdout",
     "output_type": "stream",
     "text": [
      "Epoch: 371, Test Acc: 0.354\n",
      "0.8122459410779637\n",
      "0.812192780005147\n",
      "0.8121397648376156\n",
      "0.8120868947141612\n",
      "0.8120341687813204\n",
      "0.8119815861932868\n",
      "0.8119291461118217\n",
      "0.8118768477061711\n",
      "0.8118246901529775\n",
      "0.8117726726361982\n"
     ]
    },
    {
     "name": "stderr",
     "output_type": "stream",
     "text": [
      "\r",
      " 39%|███▉      | 39/100 [01:45<02:38,  2.60s/it]"
     ]
    },
    {
     "name": "stdout",
     "output_type": "stream",
     "text": [
      "Epoch: 381, Test Acc: 0.354\n",
      "0.811720794347022\n",
      "0.8116690544837867\n",
      "0.8116174522518995\n",
      "0.8115659868637566\n",
      "0.8115146575386658\n",
      "0.8114634635027673\n",
      "0.8114124039889585\n",
      "0.8113614782368179\n",
      "0.8113106854925305\n",
      "0.8112600250088147\n"
     ]
    },
    {
     "name": "stderr",
     "output_type": "stream",
     "text": [
      "\r",
      " 40%|████      | 40/100 [01:48<02:38,  2.64s/it]"
     ]
    },
    {
     "name": "stdout",
     "output_type": "stream",
     "text": [
      "Epoch: 391, Test Acc: 0.348\n",
      "0.8112094960448485\n",
      "0.8111590978661991\n",
      "0.8111088297447514\n",
      "0.8110586909586377\n",
      "0.8110086807921696\n",
      "0.8109587985357694\n",
      "0.8109090434859026\n",
      "0.8108594149450121\n",
      "0.8108099122214519\n",
      "0.8107605346294232\n"
     ]
    },
    {
     "name": "stderr",
     "output_type": "stream",
     "text": [
      "\r",
      " 41%|████      | 41/100 [01:50<02:33,  2.60s/it]"
     ]
    },
    {
     "name": "stdout",
     "output_type": "stream",
     "text": [
      "Epoch: 401, Test Acc: 0.346\n",
      "0.8107112814889096\n",
      "0.8106621521256149\n",
      "0.8106131458709\n",
      "0.8105642620617223\n",
      "0.8105155000405739\n",
      "0.8104668591554224\n",
      "0.8104183387596517\n",
      "0.810369938212003\n",
      "0.8103216568765172\n",
      "0.8102734941224788\n"
     ]
    },
    {
     "name": "stderr",
     "output_type": "stream",
     "text": [
      "\r",
      " 42%|████▏     | 42/100 [01:53<02:34,  2.66s/it]"
     ]
    },
    {
     "name": "stdout",
     "output_type": "stream",
     "text": [
      "Epoch: 411, Test Acc: 0.346\n",
      "0.8102254493243582\n",
      "0.8101775218617573\n",
      "0.8101297111193537\n",
      "0.8100820164868471\n",
      "0.8100344373589057\n",
      "0.8099869731351128\n",
      "0.8099396232199153\n",
      "0.8098923870225724\n",
      "0.809845263957103\n",
      "0.809798253442237\n"
     ]
    },
    {
     "name": "stderr",
     "output_type": "stream",
     "text": [
      "\r",
      " 43%|████▎     | 43/100 [01:55<02:27,  2.58s/it]"
     ]
    },
    {
     "name": "stdout",
     "output_type": "stream",
     "text": [
      "Epoch: 421, Test Acc: 0.344\n",
      "0.8097513549013656\n",
      "0.8097045677624916\n",
      "0.8096578914581803\n",
      "0.809611325425514\n",
      "0.8095648691060422\n",
      "0.809518521945736\n",
      "0.8094722833949426\n",
      "0.8094261529083385\n",
      "0.8093801299448852\n",
      "0.8093342139677849\n"
     ]
    },
    {
     "name": "stderr",
     "output_type": "stream",
     "text": [
      "\r",
      " 44%|████▍     | 44/100 [01:58<02:26,  2.62s/it]"
     ]
    },
    {
     "name": "stdout",
     "output_type": "stream",
     "text": [
      "Epoch: 431, Test Acc: 0.342\n",
      "0.8092884044444362\n",
      "0.8092427008463908\n",
      "0.809197102649311\n",
      "0.8091516093329271\n",
      "0.8091062203809954\n",
      "0.8090609352812573\n",
      "0.8090157535253987\n",
      "0.8089706746090087\n",
      "0.8089256980315412\n",
      "0.8088808232962741\n"
     ]
    },
    {
     "name": "stderr",
     "output_type": "stream",
     "text": [
      "\r",
      " 45%|████▌     | 45/100 [02:01<02:22,  2.58s/it]"
     ]
    },
    {
     "name": "stdout",
     "output_type": "stream",
     "text": [
      "Epoch: 441, Test Acc: 0.344\n",
      "0.8088360499102712\n",
      "0.8087913773843443\n",
      "0.8087468052330139\n",
      "0.8087023329744734\n",
      "0.8086579601305501\n",
      "0.808613686226671\n",
      "0.8085695107918239\n",
      "0.8085254333585246\n",
      "0.8084814534627784\n",
      "0.8084375706440485\n"
     ]
    },
    {
     "name": "stderr",
     "output_type": "stream",
     "text": [
      "\r",
      " 46%|████▌     | 46/100 [02:03<02:19,  2.59s/it]"
     ]
    },
    {
     "name": "stdout",
     "output_type": "stream",
     "text": [
      "Epoch: 451, Test Acc: 0.344\n",
      "0.8083937844452193\n",
      "0.8083500944125628\n",
      "0.8083065000957055\n",
      "0.8082630010475945\n",
      "0.8082195968244653\n",
      "0.8081762869858086\n",
      "0.8081330710943386\n",
      "0.8080899487159617\n",
      "0.808046919419744\n",
      "0.8080039827778817\n"
     ]
    },
    {
     "name": "stderr",
     "output_type": "stream",
     "text": [
      "\r",
      " 47%|████▋     | 47/100 [02:05<02:12,  2.50s/it]"
     ]
    },
    {
     "name": "stdout",
     "output_type": "stream",
     "text": [
      "Epoch: 461, Test Acc: 0.344\n",
      "0.8079611383656692\n",
      "0.8079183857614699\n",
      "0.8078757245466853\n",
      "0.807833154305727\n",
      "0.8077906746259853\n",
      "0.8077482850978022\n",
      "0.807705985314442\n",
      "0.8076637748720634\n",
      "0.807621653369691\n",
      "0.8075796204091888\n"
     ]
    },
    {
     "name": "stderr",
     "output_type": "stream",
     "text": [
      "\r",
      " 48%|████▊     | 48/100 [02:08<02:06,  2.44s/it]"
     ]
    },
    {
     "name": "stdout",
     "output_type": "stream",
     "text": [
      "Epoch: 471, Test Acc: 0.348\n",
      "0.8075376755952324\n",
      "0.8074958185352813\n",
      "0.8074540488395537\n",
      "0.8074123661209994\n",
      "0.807370769995274\n",
      "0.8073292600807129\n",
      "0.8072878359983063\n",
      "0.8072464973716736\n",
      "0.8072052438270391\n",
      "0.807164074993207\n"
     ]
    },
    {
     "name": "stderr",
     "output_type": "stream",
     "text": [
      "\r",
      " 49%|████▉     | 49/100 [02:10<02:06,  2.49s/it]"
     ]
    },
    {
     "name": "stdout",
     "output_type": "stream",
     "text": [
      "Epoch: 481, Test Acc: 0.348\n",
      "0.8071229905015374\n",
      "0.807081989985922\n",
      "0.8070410730827609\n",
      "0.8070002394309382\n",
      "0.8069594886718005\n",
      "0.8069188204491313\n",
      "0.8068782344091318\n",
      "0.8068377302003945\n",
      "0.8067973074738848\n",
      "0.8067569658829166\n"
     ]
    },
    {
     "name": "stderr",
     "output_type": "stream",
     "text": [
      "\r",
      " 50%|█████     | 50/100 [02:13<02:03,  2.46s/it]"
     ]
    },
    {
     "name": "stdout",
     "output_type": "stream",
     "text": [
      "Epoch: 491, Test Acc: 0.346\n",
      "0.8067167050831315\n",
      "0.8066765247324775\n",
      "0.8066364244911873\n",
      "0.8065964040217576\n",
      "0.8065564629889292\n",
      "0.8065166010596646\n",
      "0.8064768179031295\n",
      "0.8064371131906722\n",
      "0.8063974865958033\n",
      "0.8063579377941767\n"
     ]
    },
    {
     "name": "stderr",
     "output_type": "stream",
     "text": [
      "\r",
      " 51%|█████     | 51/100 [02:15<01:58,  2.43s/it]"
     ]
    },
    {
     "name": "stdout",
     "output_type": "stream",
     "text": [
      "Epoch: 501, Test Acc: 0.346\n",
      "0.8063184664635705\n",
      "0.8062790722838669\n",
      "0.8062397549370334\n",
      "0.8062005141071049\n",
      "0.8061613494801646\n",
      "0.8061222607443255\n",
      "0.8060832475897123\n",
      "0.8060443097084439\n",
      "0.8060054467946155\n",
      "0.8059666585442805\n"
     ]
    },
    {
     "name": "stderr",
     "output_type": "stream",
     "text": [
      "\r",
      " 52%|█████▏    | 52/100 [02:17<01:56,  2.43s/it]"
     ]
    },
    {
     "name": "stdout",
     "output_type": "stream",
     "text": [
      "Epoch: 511, Test Acc: 0.35\n",
      "0.8059279446554339\n",
      "0.8058893048279946\n",
      "0.8058507387637884\n",
      "0.805812246166532\n",
      "0.8057738267418154\n",
      "0.8057354801970856\n",
      "0.8056972062416312\n",
      "0.8056590045865651\n",
      "0.8056208749448097\n",
      "0.8055828170310804\n"
     ]
    },
    {
     "name": "stderr",
     "output_type": "stream",
     "text": [
      "\r",
      " 53%|█████▎    | 53/100 [02:20<02:00,  2.57s/it]"
     ]
    },
    {
     "name": "stdout",
     "output_type": "stream",
     "text": [
      "Epoch: 521, Test Acc: 0.35\n",
      "0.8055448305618701\n",
      "0.8055069152554342\n",
      "0.8054690708317751\n",
      "0.8054312970126271\n",
      "0.8053935935214415\n",
      "0.8053559600833715\n",
      "0.8053183964252592\n",
      "0.8052809022756181\n",
      "0.805243477364622\n",
      "0.805206121424089\n"
     ]
    },
    {
     "name": "stderr",
     "output_type": "stream",
     "text": [
      "\r",
      " 54%|█████▍    | 54/100 [02:24<02:11,  2.86s/it]"
     ]
    },
    {
     "name": "stdout",
     "output_type": "stream",
     "text": [
      "Epoch: 531, Test Acc: 0.35\n",
      "0.8051688341874678\n",
      "0.8051316153898244\n",
      "0.8050944647678276\n",
      "0.8050573820597362\n",
      "0.8050203670053848\n",
      "0.804983419346172\n",
      "0.8049465388250445\n",
      "0.8049097251864876\n",
      "0.8048729781765096\n",
      "0.8048362975426301\n"
     ]
    },
    {
     "name": "stderr",
     "output_type": "stream",
     "text": [
      "\r",
      " 55%|█████▌    | 55/100 [02:26<02:02,  2.72s/it]"
     ]
    },
    {
     "name": "stdout",
     "output_type": "stream",
     "text": [
      "Epoch: 541, Test Acc: 0.352\n",
      "0.8047996830338673\n",
      "0.8047631344007259\n",
      "0.8047266513951842\n",
      "0.8046902337706824\n",
      "0.8046538812821097\n",
      "0.8046175936857932\n",
      "0.804581370739486\n",
      "0.8045452122023543\n",
      "0.804509117834968\n",
      "0.804473087399287\n"
     ]
    },
    {
     "name": "stderr",
     "output_type": "stream",
     "text": [
      "\r",
      " 56%|█████▌    | 56/100 [02:29<01:54,  2.59s/it]"
     ]
    },
    {
     "name": "stdout",
     "output_type": "stream",
     "text": [
      "Epoch: 551, Test Acc: 0.354\n",
      "0.804437120658651\n",
      "0.8044012173777683\n",
      "0.8043653773227042\n",
      "0.80432960026087\n",
      "0.8042938859610129\n",
      "0.8042582341932041\n",
      "0.8042226447288287\n",
      "0.8041871173405752\n",
      "0.8041516518024248\n",
      "0.8041162478896411\n"
     ]
    },
    {
     "name": "stderr",
     "output_type": "stream",
     "text": [
      "\r",
      " 57%|█████▋    | 57/100 [02:32<01:55,  2.69s/it]"
     ]
    },
    {
     "name": "stdout",
     "output_type": "stream",
     "text": [
      "Epoch: 561, Test Acc: 0.354\n",
      "0.8040809053787599\n",
      "0.804045624047579\n",
      "0.8040104036751479\n",
      "0.8039752440417585\n",
      "0.8039401449289348\n",
      "0.8039051061194227\n",
      "0.8038701273971814\n",
      "0.8038352085473733\n",
      "0.8038003493563537\n",
      "0.8037655496116634\n"
     ]
    },
    {
     "name": "stderr",
     "output_type": "stream",
     "text": [
      "\r",
      " 58%|█████▊    | 58/100 [02:34<01:54,  2.72s/it]"
     ]
    },
    {
     "name": "stdout",
     "output_type": "stream",
     "text": [
      "Epoch: 571, Test Acc: 0.354\n",
      "0.8037308091020169\n",
      "0.8036961276172961\n",
      "0.8036615049485384\n",
      "0.8036269408879295\n",
      "0.8035924352287942\n",
      "0.8035579877655864\n",
      "0.8035235982938823\n",
      "0.8034892666103701\n",
      "0.8034549925128424\n",
      "0.8034207758001869\n"
     ]
    },
    {
     "name": "stderr",
     "output_type": "stream",
     "text": [
      "\r",
      " 59%|█████▉    | 59/100 [02:37<01:48,  2.65s/it]"
     ]
    },
    {
     "name": "stdout",
     "output_type": "stream",
     "text": [
      "Epoch: 581, Test Acc: 0.358\n",
      "0.8033866162723786\n",
      "0.8033525137304717\n",
      "0.8033184679765903\n",
      "0.8032844788139216\n",
      "0.8032505460467064\n",
      "0.8032166694802326\n",
      "0.8031828489208256\n",
      "0.8031490841758423\n",
      "0.8031153750536612\n",
      "0.8030817213636768\n"
     ]
    },
    {
     "name": "stderr",
     "output_type": "stream",
     "text": [
      "\r",
      " 60%|██████    | 60/100 [02:39<01:41,  2.55s/it]"
     ]
    },
    {
     "name": "stdout",
     "output_type": "stream",
     "text": [
      "Epoch: 591, Test Acc: 0.358\n",
      "0.803048122916291\n",
      "0.8030145795229046\n",
      "0.8029810909959116\n",
      "0.802947657148691\n",
      "0.802914277795599\n",
      "0.8028809527519623\n",
      "0.8028476818340705\n",
      "0.8028144648591701\n",
      "0.8027813016454554\n",
      "0.8027481920120632\n"
     ]
    },
    {
     "name": "stderr",
     "output_type": "stream",
     "text": [
      "\r",
      " 61%|██████    | 61/100 [02:42<01:44,  2.68s/it]"
     ]
    },
    {
     "name": "stdout",
     "output_type": "stream",
     "text": [
      "Epoch: 601, Test Acc: 0.356\n",
      "0.8027151357790653\n",
      "0.8026821327674617\n",
      "0.8026491827991732\n",
      "0.8026162856970358\n",
      "0.8025834412847935\n",
      "0.8025506493870906\n",
      "0.8025179098294675\n",
      "0.8024852224383517\n",
      "0.8024525870410533\n",
      "0.8024200034657574\n"
     ]
    },
    {
     "name": "stderr",
     "output_type": "stream",
     "text": [
      "\r",
      " 62%|██████▏   | 62/100 [02:45<01:45,  2.78s/it]"
     ]
    },
    {
     "name": "stdout",
     "output_type": "stream",
     "text": [
      "Epoch: 611, Test Acc: 0.358\n",
      "0.802387471541518\n",
      "0.8023549910982529\n",
      "0.8023225619667356\n",
      "0.8022901839785908\n",
      "0.8022578569662872\n",
      "0.8022255807631321\n",
      "0.8021933552032654\n",
      "0.8021611801216535\n",
      "0.8021290553540833\n",
      "0.8020969807371566\n"
     ]
    },
    {
     "name": "stderr",
     "output_type": "stream",
     "text": [
      "\r",
      " 63%|██████▎   | 63/100 [02:48<01:43,  2.79s/it]"
     ]
    },
    {
     "name": "stdout",
     "output_type": "stream",
     "text": [
      "Epoch: 621, Test Acc: 0.36\n",
      "0.8020649561082845\n",
      "0.8020329813056812\n",
      "0.8020010561683593\n",
      "0.8019691805361224\n",
      "0.8019373542495619\n",
      "0.8019055771500497\n",
      "0.8018738490797336\n",
      "0.8018421698815311\n",
      "0.8018105393991256\n",
      "0.8017789574769592\n"
     ]
    },
    {
     "name": "stderr",
     "output_type": "stream",
     "text": [
      "\r",
      " 64%|██████▍   | 64/100 [02:50<01:36,  2.67s/it]"
     ]
    },
    {
     "name": "stdout",
     "output_type": "stream",
     "text": [
      "Epoch: 631, Test Acc: 0.362\n",
      "0.8017474239602285\n",
      "0.8017159386948799\n",
      "0.801684501527603\n",
      "0.8016531123058264\n",
      "0.801621770877713\n",
      "0.8015904770921536\n",
      "0.8015592307987639\n",
      "0.801528031847877\n",
      "0.8014968800905415\n",
      "0.8014657753785142\n"
     ]
    },
    {
     "name": "stderr",
     "output_type": "stream",
     "text": [
      "\r",
      " 65%|██████▌   | 65/100 [02:53<01:29,  2.56s/it]"
     ]
    },
    {
     "name": "stdout",
     "output_type": "stream",
     "text": [
      "Epoch: 641, Test Acc: 0.36\n",
      "0.8014347175642559\n",
      "0.8014037065009276\n",
      "0.8013727420423853\n",
      "0.801341824043174\n",
      "0.8013109523585253\n",
      "0.8012801268443511\n",
      "0.80124934735724\n",
      "0.801218613754452\n",
      "0.8011879258939144\n",
      "0.801157283634218\n"
     ]
    },
    {
     "name": "stderr",
     "output_type": "stream",
     "text": [
      "\r",
      " 66%|██████▌   | 66/100 [02:55<01:24,  2.48s/it]"
     ]
    },
    {
     "name": "stdout",
     "output_type": "stream",
     "text": [
      "Epoch: 651, Test Acc: 0.362\n",
      "0.8011266868346114\n",
      "0.8010961353549976\n",
      "0.8010656290559295\n",
      "0.8010351677986052\n",
      "0.8010047514448643\n",
      "0.8009743798571831\n",
      "0.8009440528986711\n",
      "0.8009137704330667\n",
      "0.8008835323247321\n",
      "0.8008533384386505\n"
     ]
    },
    {
     "name": "stderr",
     "output_type": "stream",
     "text": [
      "\r",
      " 67%|██████▋   | 67/100 [02:59<01:37,  2.96s/it]"
     ]
    },
    {
     "name": "stdout",
     "output_type": "stream",
     "text": [
      "Epoch: 661, Test Acc: 0.362\n",
      "0.8008231886404219\n",
      "0.8007930827962583\n",
      "0.8007630207729801\n",
      "0.8007330024380127\n",
      "0.8007030276593821\n",
      "0.8006730963057108\n",
      "0.8006432082462145\n",
      "0.8006133633506979\n",
      "0.8005835614895517\n",
      "0.8005538025337469\n"
     ]
    },
    {
     "name": "stderr",
     "output_type": "stream",
     "text": [
      "\r",
      " 68%|██████▊   | 68/100 [03:03<01:41,  3.18s/it]"
     ]
    },
    {
     "name": "stdout",
     "output_type": "stream",
     "text": [
      "Epoch: 671, Test Acc: 0.36\n",
      "0.8005240863548335\n",
      "0.8004944128249359\n",
      "0.8004647818167483\n",
      "0.8004351932035323\n",
      "0.800405646859113\n",
      "0.800376142657875\n",
      "0.8003466804747597\n",
      "0.8003172601852607\n",
      "0.8002878816654216\n",
      "0.8002585447918312\n"
     ]
    },
    {
     "name": "stderr",
     "output_type": "stream",
     "text": [
      "\r",
      " 69%|██████▉   | 69/100 [03:07<01:45,  3.42s/it]"
     ]
    },
    {
     "name": "stdout",
     "output_type": "stream",
     "text": [
      "Epoch: 681, Test Acc: 0.36\n",
      "0.8002292494416213\n",
      "0.8001999954924629\n",
      "0.8001707828225622\n",
      "0.8001416113106582\n",
      "0.8001124808360187\n",
      "0.800083391278438\n",
      "0.8000543425182322\n",
      "0.800025334436237\n",
      "0.7999963669138048\n",
      "0.7999674398328\n"
     ]
    },
    {
     "name": "stderr",
     "output_type": "stream",
     "text": [
      "\r",
      " 70%|███████   | 70/100 [03:09<01:34,  3.16s/it]"
     ]
    },
    {
     "name": "stdout",
     "output_type": "stream",
     "text": [
      "Epoch: 691, Test Acc: 0.36\n",
      "0.7999385530755982\n",
      "0.7999097065250802\n",
      "0.7998809000646318\n",
      "0.7998521335781383\n",
      "0.7998234069499833\n",
      "0.7997947200650447\n",
      "0.7997660728086915\n",
      "0.7997374650667818\n",
      "0.7997088967256593\n",
      "0.7996803676721498\n"
     ]
    },
    {
     "name": "stderr",
     "output_type": "stream",
     "text": [
      "\r",
      " 71%|███████   | 71/100 [03:12<01:24,  2.93s/it]"
     ]
    },
    {
     "name": "stdout",
     "output_type": "stream",
     "text": [
      "Epoch: 701, Test Acc: 0.358\n",
      "0.7996518777935592\n",
      "0.7996234269776706\n",
      "0.7995950151127406\n",
      "0.7995666420874976\n",
      "0.7995383077911378\n",
      "0.7995100121133232\n",
      "0.799481754944179\n",
      "0.7994535361742902\n",
      "0.799425355694699\n",
      "0.7993972133969024\n"
     ]
    },
    {
     "name": "stderr",
     "output_type": "stream",
     "text": [
      "\r",
      " 72%|███████▏  | 72/100 [03:14<01:19,  2.83s/it]"
     ]
    },
    {
     "name": "stdout",
     "output_type": "stream",
     "text": [
      "Epoch: 711, Test Acc: 0.36\n",
      "0.7993691091728499\n",
      "0.7993410429149398\n",
      "0.7993130145160171\n",
      "0.799285023869371\n",
      "0.7992570708687322\n",
      "0.7992291554082704\n",
      "0.7992012773825917\n",
      "0.7991734366867357\n",
      "0.7991456332161734\n",
      "0.7991178668668051\n"
     ]
    },
    {
     "name": "stderr",
     "output_type": "stream",
     "text": [
      "\r",
      " 73%|███████▎  | 73/100 [03:17<01:17,  2.85s/it]"
     ]
    },
    {
     "name": "stdout",
     "output_type": "stream",
     "text": [
      "Epoch: 721, Test Acc: 0.36\n",
      "0.7990901375349567\n",
      "0.7990624451173782\n",
      "0.7990347895112415\n",
      "0.7990071706141368\n",
      "0.7989795883240712\n",
      "0.7989520425394665\n",
      "0.7989245331591555\n",
      "0.7988970600823807\n",
      "0.7988696232087923\n",
      "0.7988422224384449\n"
     ]
    },
    {
     "name": "stderr",
     "output_type": "stream",
     "text": [
      "\r",
      " 74%|███████▍  | 74/100 [03:20<01:16,  2.96s/it]"
     ]
    },
    {
     "name": "stdout",
     "output_type": "stream",
     "text": [
      "Epoch: 731, Test Acc: 0.364\n",
      "0.7988148576717956\n",
      "0.7987875288097022\n",
      "0.7987602357534201\n",
      "0.7987329784046008\n",
      "0.798705756665289\n",
      "0.798678570437921\n",
      "0.7986514196253222\n",
      "0.7986243041307046\n",
      "0.798597223857666\n",
      "0.7985701787101855\n"
     ]
    },
    {
     "name": "stderr",
     "output_type": "stream",
     "text": [
      "\r",
      " 75%|███████▌  | 75/100 [03:24<01:15,  3.03s/it]"
     ]
    },
    {
     "name": "stdout",
     "output_type": "stream",
     "text": [
      "Epoch: 741, Test Acc: 0.366\n",
      "0.7985431685926239\n",
      "0.7985161934097198\n",
      "0.7984892530665881\n",
      "0.7984623474687181\n",
      "0.7984354765219717\n",
      "0.79840864013258\n",
      "0.7983818382071429\n",
      "0.7983550706526259\n",
      "0.798328337376359\n",
      "0.7983016382860338\n"
     ]
    },
    {
     "name": "stderr",
     "output_type": "stream",
     "text": [
      "\r",
      " 76%|███████▌  | 76/100 [03:26<01:11,  2.99s/it]"
     ]
    },
    {
     "name": "stdout",
     "output_type": "stream",
     "text": [
      "Epoch: 751, Test Acc: 0.368\n",
      "0.7982749732897028\n",
      "0.7982483422957752\n",
      "0.798221745213018\n",
      "0.7981951819505511\n",
      "0.7981686524178475\n",
      "0.7981421565247303\n",
      "0.7981156941813715\n",
      "0.798089265298289\n",
      "0.7980628697863463\n",
      "0.7980365075567492\n"
     ]
    },
    {
     "name": "stderr",
     "output_type": "stream",
     "text": [
      "\r",
      " 77%|███████▋  | 77/100 [03:29<01:05,  2.87s/it]"
     ]
    },
    {
     "name": "stdout",
     "output_type": "stream",
     "text": [
      "Epoch: 761, Test Acc: 0.366\n",
      "0.798010178521045\n",
      "0.7979838825911201\n",
      "0.7979576196791982\n",
      "0.797931389697839\n",
      "0.7979051925599357\n",
      "0.7978790281787138\n",
      "0.7978528964677291\n",
      "0.7978267973408656\n",
      "0.7978007307123351\n",
      "0.7977746964966737\n"
     ]
    },
    {
     "name": "stderr",
     "output_type": "stream",
     "text": [
      "\r",
      " 78%|███████▊  | 78/100 [03:32<01:01,  2.80s/it]"
     ]
    },
    {
     "name": "stdout",
     "output_type": "stream",
     "text": [
      "Epoch: 771, Test Acc: 0.366\n",
      "0.7977486946087409\n",
      "0.7977227249637184\n",
      "0.7976967874771076\n",
      "0.7976708820647284\n",
      "0.7976450086427168\n",
      "0.7976191671275249\n",
      "0.7975933574359175\n",
      "0.7975675794849711\n",
      "0.7975418331920728\n",
      "0.7975161184749177\n"
     ]
    },
    {
     "name": "stderr",
     "output_type": "stream",
     "text": [
      "\r",
      " 79%|███████▉  | 79/100 [03:34<00:58,  2.79s/it]"
     ]
    },
    {
     "name": "stdout",
     "output_type": "stream",
     "text": [
      "Epoch: 781, Test Acc: 0.362\n",
      "0.7974904352515079\n",
      "0.7974647834401515\n",
      "0.7974391629594598\n",
      "0.7974135737283465\n",
      "0.7973880156660258\n",
      "0.7973624886920112\n",
      "0.7973369927261139\n",
      "0.7973115276884408\n",
      "0.797286093499394\n",
      "0.7972606900796682\n"
     ]
    },
    {
     "name": "stderr",
     "output_type": "stream",
     "text": [
      "\r",
      " 80%|████████  | 80/100 [03:37<00:57,  2.87s/it]"
     ]
    },
    {
     "name": "stdout",
     "output_type": "stream",
     "text": [
      "Epoch: 791, Test Acc: 0.362\n",
      "0.7972353173502494\n",
      "0.7972099752324144\n",
      "0.7971846636477284\n",
      "0.7971593825180436\n",
      "0.7971341317654981\n",
      "0.797108911312514\n",
      "0.7970837210817968\n",
      "0.7970585609963328\n",
      "0.7970334309793888\n",
      "0.7970083309545105\n"
     ]
    },
    {
     "name": "stderr",
     "output_type": "stream",
     "text": [
      "\r",
      " 81%|████████  | 81/100 [03:41<00:57,  3.04s/it]"
     ]
    },
    {
     "name": "stdout",
     "output_type": "stream",
     "text": [
      "Epoch: 801, Test Acc: 0.362\n",
      "0.7969832608455198\n",
      "0.7969582205765157\n",
      "0.7969332100718707\n",
      "0.7969082292562311\n",
      "0.7968832780545144\n",
      "0.7968583563919093\n",
      "0.7968334641938726\n",
      "0.7968086013861299\n",
      "0.7967837678946723\n",
      "0.7967589636457568\n"
     ]
    },
    {
     "name": "stderr",
     "output_type": "stream",
     "text": [
      "\r",
      " 82%|████████▏ | 82/100 [03:43<00:51,  2.85s/it]"
     ]
    },
    {
     "name": "stdout",
     "output_type": "stream",
     "text": [
      "Epoch: 811, Test Acc: 0.36\n",
      "0.7967341885659037\n",
      "0.7967094425818965\n",
      "0.7966847256207789\n",
      "0.7966600376098557\n",
      "0.7966353784766897\n",
      "0.7966107481491015\n",
      "0.7965861465551678\n",
      "0.7965615736232204\n",
      "0.7965370292818446\n",
      "0.7965125134598784\n"
     ]
    },
    {
     "name": "stderr",
     "output_type": "stream",
     "text": [
      "\r",
      " 83%|████████▎ | 83/100 [03:46<00:46,  2.74s/it]"
     ]
    },
    {
     "name": "stdout",
     "output_type": "stream",
     "text": [
      "Epoch: 821, Test Acc: 0.36\n",
      "0.7964880260864109\n",
      "0.7964635670907815\n",
      "0.7964391364025786\n",
      "0.7964147339516376\n",
      "0.7963903596680412\n",
      "0.796366013482117\n",
      "0.7963416953244371\n",
      "0.7963174051258158\n",
      "0.7962931428173103\n",
      "0.7962689083302178\n"
     ]
    },
    {
     "name": "stderr",
     "output_type": "stream",
     "text": [
      "\r",
      " 84%|████████▍ | 84/100 [03:48<00:42,  2.65s/it]"
     ]
    },
    {
     "name": "stdout",
     "output_type": "stream",
     "text": [
      "Epoch: 831, Test Acc: 0.36\n",
      "0.7962447015960749\n",
      "0.7962205225466569\n",
      "0.7961963711139767\n",
      "0.7961722472302829\n",
      "0.7961481508280591\n",
      "0.7961240818400229\n",
      "0.7961000401991251\n",
      "0.7960760258385479\n",
      "0.7960520386917043\n",
      "0.7960280786922366\n"
     ]
    },
    {
     "name": "stderr",
     "output_type": "stream",
     "text": [
      "\r",
      " 85%|████████▌ | 85/100 [03:51<00:39,  2.63s/it]"
     ]
    },
    {
     "name": "stdout",
     "output_type": "stream",
     "text": [
      "Epoch: 841, Test Acc: 0.36\n",
      "0.7960041457740158\n",
      "0.795980239871141\n",
      "0.7959563609179362\n",
      "0.7959325088489524\n",
      "0.7959086835989634\n",
      "0.7958848851029675\n",
      "0.7958611132961846\n",
      "0.7958373681140556\n",
      "0.795813649492242\n",
      "0.7957899573666246\n"
     ]
    },
    {
     "name": "stderr",
     "output_type": "stream",
     "text": [
      "\r",
      " 86%|████████▌ | 86/100 [03:54<00:39,  2.83s/it]"
     ]
    },
    {
     "name": "stdout",
     "output_type": "stream",
     "text": [
      "Epoch: 851, Test Acc: 0.36\n",
      "0.7957662916733019\n",
      "0.7957426523485897\n",
      "0.79571903932902\n",
      "0.7956954525513399\n",
      "0.7956718919525113\n",
      "0.7956483574697083\n",
      "0.795624849040318\n",
      "0.7956013666019386\n",
      "0.7955779100923784\n",
      "0.7955544794496555\n"
     ]
    },
    {
     "name": "stderr",
     "output_type": "stream",
     "text": [
      "\r",
      " 87%|████████▋ | 87/100 [03:56<00:34,  2.64s/it]"
     ]
    },
    {
     "name": "stdout",
     "output_type": "stream",
     "text": [
      "Epoch: 861, Test Acc: 0.36\n",
      "0.795531074611996\n",
      "0.7955076955178337\n",
      "0.7954843421058092\n",
      "0.7954610143147681\n",
      "0.7954377120837615\n",
      "0.7954144353520436\n",
      "0.7953911840590715\n",
      "0.795367958144505\n",
      "0.7953447575482042\n",
      "0.7953215822102296\n"
     ]
    },
    {
     "name": "stderr",
     "output_type": "stream",
     "text": [
      "\r",
      " 88%|████████▊ | 88/100 [04:00<00:36,  3.05s/it]"
     ]
    },
    {
     "name": "stdout",
     "output_type": "stream",
     "text": [
      "Epoch: 871, Test Acc: 0.358\n",
      "0.7952984320708412\n",
      "0.795275307070497\n",
      "0.7952522071498528\n",
      "0.795229132249761\n",
      "0.7952060823112694\n",
      "0.7951830572756216\n",
      "0.7951600570842544\n",
      "0.7951370816787977\n",
      "0.7951141310010746\n",
      "0.7950912049930989\n"
     ]
    },
    {
     "name": "stderr",
     "output_type": "stream",
     "text": [
      "\r",
      " 89%|████████▉ | 89/100 [04:04<00:34,  3.15s/it]"
     ]
    },
    {
     "name": "stdout",
     "output_type": "stream",
     "text": [
      "Epoch: 881, Test Acc: 0.358\n",
      "0.7950683035970754\n",
      "0.7950454267553987\n",
      "0.7950225744106523\n",
      "0.7949997465056082\n",
      "0.7949769429832251\n",
      "0.7949541637866485\n",
      "0.7949314088592104\n",
      "0.7949086781444265\n",
      "0.794885971585997\n",
      "0.7948632891278062\n"
     ]
    },
    {
     "name": "stderr",
     "output_type": "stream",
     "text": [
      "\r",
      " 90%|█████████ | 90/100 [04:06<00:29,  2.96s/it]"
     ]
    },
    {
     "name": "stdout",
     "output_type": "stream",
     "text": [
      "Epoch: 891, Test Acc: 0.356\n",
      "0.7948406307139197\n",
      "0.794817996288586\n",
      "0.7947953857962334\n",
      "0.7947727991814716\n",
      "0.7947502363890887\n",
      "0.7947276973640519\n",
      "0.7947051820515065\n",
      "0.7946826903967742\n",
      "0.7946602223453537\n",
      "0.7946377778429191\n"
     ]
    },
    {
     "name": "stderr",
     "output_type": "stream",
     "text": [
      "\r",
      " 91%|█████████ | 91/100 [04:09<00:25,  2.79s/it]"
     ]
    },
    {
     "name": "stdout",
     "output_type": "stream",
     "text": [
      "Epoch: 901, Test Acc: 0.356\n",
      "0.7946153568353194\n",
      "0.7945929592685773\n",
      "0.7945705850888898\n",
      "0.7945482342426257\n",
      "0.7945259066763259\n",
      "0.7945036023367028\n",
      "0.794481321170639\n",
      "0.7944590631251865\n",
      "0.7944368281475673\n",
      "0.7944146161851708\n"
     ]
    },
    {
     "name": "stderr",
     "output_type": "stream",
     "text": [
      "\r",
      " 92%|█████████▏| 92/100 [04:11<00:22,  2.82s/it]"
     ]
    },
    {
     "name": "stdout",
     "output_type": "stream",
     "text": [
      "Epoch: 911, Test Acc: 0.354\n",
      "0.7943924271855547\n",
      "0.7943702610964429\n",
      "0.7943481178657262\n",
      "0.7943259974414603\n",
      "0.7943038997718662\n",
      "0.7942818248053288\n",
      "0.7942597724903967\n",
      "0.7942377427757811\n",
      "0.7942157356103552\n",
      "0.794193750943154\n"
     ]
    },
    {
     "name": "stderr",
     "output_type": "stream",
     "text": [
      "\r",
      " 93%|█████████▎| 93/100 [04:14<00:19,  2.76s/it]"
     ]
    },
    {
     "name": "stdout",
     "output_type": "stream",
     "text": [
      "Epoch: 921, Test Acc: 0.354\n",
      "0.794171788723373\n",
      "0.7941498489003675\n",
      "0.794127931423653\n",
      "0.7941060362429032\n",
      "0.7940841633079502\n",
      "0.7940623125687833\n",
      "0.7940404839755492\n",
      "0.7940186774785499\n",
      "0.7939968930282438\n",
      "0.7939751305752442\n"
     ]
    },
    {
     "name": "stderr",
     "output_type": "stream",
     "text": [
      "\r",
      " 94%|█████████▍| 94/100 [04:17<00:17,  2.95s/it]"
     ]
    },
    {
     "name": "stdout",
     "output_type": "stream",
     "text": [
      "Epoch: 931, Test Acc: 0.354\n",
      "0.7939533900703176\n",
      "0.7939316714643856\n",
      "0.793909974708522\n",
      "0.7938882997539531\n",
      "0.7938666465520572\n",
      "0.7938450150543637\n",
      "0.7938234052125523\n",
      "0.7938018169784532\n",
      "0.7937802503040455\n",
      "0.793758705141457\n"
     ]
    },
    {
     "name": "stderr",
     "output_type": "stream",
     "text": [
      "\r",
      " 95%|█████████▌| 95/100 [04:20<00:13,  2.70s/it]"
     ]
    },
    {
     "name": "stdout",
     "output_type": "stream",
     "text": [
      "Epoch: 941, Test Acc: 0.354\n",
      "0.7937371814429643\n",
      "0.7937156791609908\n",
      "0.793694198248107\n",
      "0.7936727386570307\n",
      "0.7936513003406239\n",
      "0.793629883251895\n",
      "0.7936084873439966\n",
      "0.7935871125702254\n",
      "0.7935657588840215\n",
      "0.7935444262389683\n"
     ]
    },
    {
     "name": "stderr",
     "output_type": "stream",
     "text": [
      "\r",
      " 96%|█████████▌| 96/100 [04:22<00:10,  2.63s/it]"
     ]
    },
    {
     "name": "stdout",
     "output_type": "stream",
     "text": [
      "Epoch: 951, Test Acc: 0.354\n",
      "0.7935231145887908\n",
      "0.7935018238873566\n",
      "0.7934805540886739\n",
      "0.7934593051468917\n",
      "0.7934380770162992\n",
      "0.7934168696513255\n",
      "0.7933956830065375\n",
      "0.7933745170366417\n",
      "0.7933533716964825\n",
      "0.7933322469410408\n"
     ]
    },
    {
     "name": "stderr",
     "output_type": "stream",
     "text": [
      "\r",
      " 97%|█████████▋| 97/100 [04:25<00:07,  2.60s/it]"
     ]
    },
    {
     "name": "stdout",
     "output_type": "stream",
     "text": [
      "Epoch: 961, Test Acc: 0.354\n",
      "0.793311142725435\n",
      "0.7932900590049193\n",
      "0.7932689957348845\n",
      "0.7932479528708554\n",
      "0.7932269303684927\n",
      "0.7932059281835904\n",
      "0.7931849462720766\n",
      "0.7931639845900121\n",
      "0.7931430430935908\n",
      "0.7931221217391384\n"
     ]
    },
    {
     "name": "stderr",
     "output_type": "stream",
     "text": [
      "\r",
      " 98%|█████████▊| 98/100 [04:27<00:05,  2.53s/it]"
     ]
    },
    {
     "name": "stdout",
     "output_type": "stream",
     "text": [
      "Epoch: 971, Test Acc: 0.352\n",
      "0.7931012204831126\n",
      "0.7930803392821014\n",
      "0.7930594780928238\n",
      "0.793038636872129\n",
      "0.7930178155769957\n",
      "0.7929970141645314\n",
      "0.7929762325919721\n",
      "0.7929554708166828\n",
      "0.7929347287961546\n",
      "0.7929140064880071\n"
     ]
    },
    {
     "name": "stderr",
     "output_type": "stream",
     "text": [
      "\r",
      " 99%|█████████▉| 99/100 [04:29<00:02,  2.50s/it]"
     ]
    },
    {
     "name": "stdout",
     "output_type": "stream",
     "text": [
      "Epoch: 981, Test Acc: 0.35\n",
      "0.7928933038499856\n",
      "0.7928726208399618\n",
      "0.7928519574159331\n",
      "0.7928313135360217\n",
      "0.7928106891584751\n",
      "0.7927900842416646\n",
      "0.7927694987440852\n",
      "0.7927489326243555\n",
      "0.7927283858412166\n",
      "0.792707858353532\n"
     ]
    },
    {
     "name": "stderr",
     "output_type": "stream",
     "text": [
      "100%|██████████| 100/100 [04:32<00:00,  2.72s/it]\n"
     ]
    },
    {
     "name": "stdout",
     "output_type": "stream",
     "text": [
      "Epoch: 991, Test Acc: 0.35\n"
     ]
    },
    {
     "name": "stderr",
     "output_type": "stream",
     "text": [
      "\r",
      "  0%|          | 0/100 [00:00<?, ?it/s]"
     ]
    },
    {
     "name": "stdout",
     "output_type": "stream",
     "text": [
      "1.001775152831499\n",
      "4.805395652583412\n",
      "161.37932749027584\n",
      "6578.608417510126\n",
      "269571.51153500035\n",
      "11047615.679225469\n",
      "452756239.5837173\n",
      "18554974536.9716\n",
      "760424817119.2971\n",
      "31163928646947.598\n"
     ]
    },
    {
     "name": "stderr",
     "output_type": "stream",
     "text": [
      "\r",
      "  1%|          | 1/100 [00:02<04:16,  2.60s/it]"
     ]
    },
    {
     "name": "stdout",
     "output_type": "stream",
     "text": [
      "Epoch: 1, Test Acc: 0.108\n",
      "1277168270746623.5\n",
      "5.234124395165846e+16\n",
      "2.1450625427810478e+18\n",
      "8.790951389485462e+19\n",
      "3.6027306799223994e+21\n",
      "1.4764805055774315e+23\n",
      "6.050951006410346e+24\n",
      "2.4798165599659677e+26\n",
      "1.0162849053920127e+28\n",
      "4.164965367203722e+29\n"
     ]
    },
    {
     "name": "stderr",
     "output_type": "stream",
     "text": [
      "\r",
      "  2%|▏         | 2/100 [00:05<04:54,  3.01s/it]"
     ]
    },
    {
     "name": "stdout",
     "output_type": "stream",
     "text": [
      "Epoch: 11, Test Acc: 0.108\n",
      "1.7068969949243887e+31\n",
      "6.995249886646659e+32\n",
      "2.866811595669702e+34\n",
      "1.174884222614391e+36\n",
      "4.814941235179998e+37\n",
      "1.973271804318527e+39\n",
      "8.08691409413002e+40\n",
      "3.314200275031252e+42\n",
      "1.3582342207629034e+44\n",
      "5.566350990765081e+45\n"
     ]
    },
    {
     "name": "stderr",
     "output_type": "stream",
     "text": [
      "\r",
      "  3%|▎         | 3/100 [00:08<04:29,  2.78s/it]"
     ]
    },
    {
     "name": "stdout",
     "output_type": "stream",
     "text": [
      "Epoch: 21, Test Acc: 0.108\n",
      "2.2812165147030325e+47\n",
      "9.348941156580896e+48\n",
      "3.831407504981619e+50\n",
      "1.5701974398347962e+52\n",
      "6.435024196350988e+53\n",
      "2.637218438719366e+55\n",
      "1.0807917548259153e+57\n",
      "4.429329023904886e+58\n",
      "1.8152391998184944e+60\n",
      "7.439260743047578e+61\n"
     ]
    },
    {
     "name": "stderr",
     "output_type": "stream",
     "text": [
      "\r",
      "  4%|▍         | 4/100 [00:11<04:24,  2.75s/it]"
     ]
    },
    {
     "name": "stdout",
     "output_type": "stream",
     "text": [
      "Epoch: 31, Test Acc: 0.108\n",
      "3.048777285582117e+63\n",
      "1.249457877352695e+65\n",
      "5.120560936548127e+66\n",
      "2.0985216692904368e+68\n",
      "8.600216365065283e+69\n",
      "3.5245631535911517e+71\n",
      "1.444445685589226e+73\n",
      "5.919665069673921e+74\n",
      "2.4260126141622862e+76\n",
      "9.942348316673815e+77\n"
     ]
    },
    {
     "name": "stderr",
     "output_type": "stream",
     "text": [
      "\r",
      "  5%|▌         | 5/100 [00:13<04:19,  2.73s/it]"
     ]
    },
    {
     "name": "stdout",
     "output_type": "stream",
     "text": [
      "Epoch: 41, Test Acc: 0.108\n",
      "4.0745991786279375e+79\n",
      "1.669862887285137e+81\n",
      "6.84347573856632e+82\n",
      "2.8046111175323617e+84\n",
      "1.1493930600583944e+86\n",
      "4.71047268639787e+87\n",
      "1.9304582305528355e+89\n",
      "7.911454386882332e+90\n",
      "3.2422929191166786e+92\n",
      "1.328764960180324e+94\n"
     ]
    },
    {
     "name": "stderr",
     "output_type": "stream",
     "text": [
      "\r",
      "  6%|▌         | 6/100 [00:16<04:06,  2.62s/it]"
     ]
    },
    {
     "name": "stdout",
     "output_type": "stream",
     "text": [
      "Epoch: 51, Test Acc: 0.108\n",
      "5.445579296654165e+95\n",
      "2.231721543298684e+97\n",
      "9.146099570864012e+98\n",
      "3.748278436050539e+100\n",
      "1.536129267487762e+102\n",
      "6.295405121821297e+103\n",
      "2.579999384600591e+105\n",
      "1.0573420924837467e+107\n",
      "4.3332270046683813e+108\n",
      "1.7758544190631414e+110\n"
     ]
    },
    {
     "name": "stderr",
     "output_type": "stream",
     "text": [
      "\r",
      "  7%|▋         | 7/100 [00:19<04:09,  2.68s/it]"
     ]
    },
    {
     "name": "stdout",
     "output_type": "stream",
     "text": [
      "Epoch: 61, Test Acc: 0.108\n",
      "7.277853004951065e+111\n",
      "2.98262874440002e+113\n",
      "1.2223487092785895e+115\n",
      "5.009461435253457e+116\n",
      "2.052990581231285e+118\n",
      "8.413619669698323e+119\n",
      "3.4480916080909986e+121\n",
      "1.4131059168988876e+123\n",
      "5.791227610336584e+124\n",
      "2.3733760388128468e+126\n"
     ]
    },
    {
     "name": "stderr",
     "output_type": "stream",
     "text": [
      "\r",
      "  8%|▊         | 8/100 [00:21<04:04,  2.65s/it]"
     ]
    },
    {
     "name": "stdout",
     "output_type": "stream",
     "text": [
      "Epoch: 71, Test Acc: 0.108\n",
      "9.726631727540713e+127\n",
      "3.986193642138726e+129\n",
      "1.6336322992095812e+131\n",
      "6.694994595367694e+132\n",
      "2.743760187264284e+134\n",
      "1.1244549727381943e+136\n",
      "4.608270765005688e+137\n",
      "1.888573571949555e+139\n",
      "7.739801584037126e+140\n",
      "3.1719457187164163e+142\n"
     ]
    },
    {
     "name": "stderr",
     "output_type": "stream",
     "text": [
      "\r",
      "  9%|▉         | 9/100 [00:24<03:55,  2.59s/it]"
     ]
    },
    {
     "name": "stdout",
     "output_type": "stream",
     "text": [
      "Epoch: 81, Test Acc: 0.108\n",
      "1.2999350866092106e+144\n",
      "5.327427955108624e+145\n",
      "2.183300451632856e+147\n",
      "8.947658987165112e+148\n",
      "3.6669529972716555e+150\n",
      "1.5028002635647884e+152\n",
      "6.158815326650585e+153\n",
      "2.5240217976679162e+155\n",
      "1.034401211469255e+157\n",
      "4.239210086369624e+158\n"
     ]
    },
    {
     "name": "stderr",
     "output_type": "stream",
     "text": [
      "\r",
      " 10%|█         | 10/100 [00:26<03:51,  2.58s/it]"
     ]
    },
    {
     "name": "stdout",
     "output_type": "stream",
     "text": [
      "Epoch: 91, Test Acc: 0.108\n",
      "1.7373241598250096e+160\n",
      "7.119947289275498e+161\n",
      "2.9179154112015336e+163\n",
      "1.1958277218922774e+165\n",
      "4.90077243142984e+166\n",
      "2.008447369547291e+168\n",
      "8.231071515117306e+169\n",
      "3.373279246159517e+171\n",
      "1.3824461191561335e+173\n",
      "5.665576825712577e+174\n"
     ]
    },
    {
     "name": "stderr",
     "output_type": "stream",
     "text": [
      "\r",
      " 11%|█         | 11/100 [00:29<03:45,  2.54s/it]"
     ]
    },
    {
     "name": "stdout",
     "output_type": "stream",
     "text": [
      "Epoch: 101, Test Acc: 0.108\n",
      "2.3218815057794055e+176\n",
      "9.515595486082533e+177\n",
      "3.8997062179691105e+179\n",
      "1.5981877969392108e+181\n",
      "6.549735009565893e+182\n",
      "2.6842295240704335e+184\n",
      "1.100057960721823e+186\n",
      "4.508286292568558e+187\n",
      "1.847597674073934e+189\n",
      "7.571873088163022e+190\n"
     ]
    },
    {
     "name": "stderr",
     "output_type": "stream",
     "text": [
      "\r",
      " 12%|█▏        | 12/100 [00:31<03:49,  2.60s/it]"
     ]
    },
    {
     "name": "stdout",
     "output_type": "stream",
     "text": [
      "Epoch: 111, Test Acc: 0.108\n",
      "3.1031248235352105e+192\n",
      "1.271730727433068e+194\n",
      "5.211840113008877e+195\n",
      "2.1359299400114566e+197\n",
      "8.753523918068768e+198\n",
      "3.5873920557427554e+200\n",
      "1.470194390517587e+202\n",
      "6.025189085339197e+203\n",
      "2.469258742125252e+205\n",
      "1.0119580728840693e+207\n"
     ]
    },
    {
     "name": "stderr",
     "output_type": "stream",
     "text": [
      "\r",
      " 13%|█▎        | 13/100 [00:34<04:02,  2.78s/it]"
     ]
    },
    {
     "name": "stdout",
     "output_type": "stream",
     "text": [
      "Epoch: 121, Test Acc: 0.108\n",
      "4.147233029106735e+208\n",
      "1.6996298817692432e+210\n",
      "6.965467613535893e+211\n",
      "2.854606146646026e+213\n",
      "1.1698821535877756e+215\n",
      "4.79444162513002e+216\n",
      "1.964870600537348e+218\n",
      "8.05248406116802e+219\n",
      "3.3000900689150755e+221\n",
      "1.3524515392051847e+223\n"
     ]
    },
    {
     "name": "stderr",
     "output_type": "stream",
     "text": [
      "\r",
      " 14%|█▍        | 14/100 [00:38<04:18,  3.00s/it]"
     ]
    },
    {
     "name": "stdout",
     "output_type": "stream",
     "text": [
      "Epoch: 131, Test Acc: 0.108\n",
      "5.542652254033203e+224\n",
      "2.2715042364618558e+226\n",
      "9.309138043992559e+227\n",
      "3.815095289326563e+229\n",
      "1.5635123249713155e+231\n",
      "6.407627083853844e+232\n",
      "2.6259904824536986e+234\n",
      "1.0761902844367687e+236\n",
      "4.410471157663511e+237\n",
      "1.8075108197768378e+239\n"
     ]
    },
    {
     "name": "stderr",
     "output_type": "stream",
     "text": [
      "\r",
      " 15%|█▌        | 15/100 [00:40<04:02,  2.85s/it]"
     ]
    },
    {
     "name": "stdout",
     "output_type": "stream",
     "text": [
      "Epoch: 141, Test Acc: 0.108\n",
      "7.407588093923985e+240\n",
      "3.0357971177190034e+242\n",
      "1.2441383110260156e+244\n",
      "5.098760150762948e+245\n",
      "2.089587214267898e+247\n",
      "8.563600947925579e+248\n",
      "3.509557327618192e+250\n",
      "1.438295958760453e+252\n",
      "5.894462098416835e+253\n",
      "2.415683866595589e+255\n"
     ]
    },
    {
     "name": "stderr",
     "output_type": "stream",
     "text": [
      "\r",
      " 16%|█▌        | 16/100 [00:43<03:42,  2.65s/it]"
     ]
    },
    {
     "name": "stdout",
     "output_type": "stream",
     "text": [
      "Epoch: 151, Test Acc: 0.108\n",
      "9.900018773379765e+256\n",
      "4.057251574536419e+258\n",
      "1.662753446825892e+260\n",
      "6.814339643819807e+261\n",
      "2.7926704870151756e+263\n",
      "1.1444995196444025e+265\n",
      "4.690417851145323e+266\n",
      "1.922239305541879e+268\n",
      "7.877771373541628e+269\n",
      "3.2284888585345732e+271\n"
     ]
    },
    {
     "name": "stderr",
     "output_type": "stream",
     "text": [
      "\r",
      " 17%|█▋        | 17/100 [00:45<03:35,  2.59s/it]"
     ]
    },
    {
     "name": "stdout",
     "output_type": "stream",
     "text": [
      "Epoch: 161, Test Acc: 0.108\n",
      "1.323107743985711e+273\n",
      "5.422394745353308e+274\n",
      "2.2222199898750425e+276\n",
      "9.107160056231704e+277\n",
      "3.7323201423674567e+279\n",
      "1.529589197852067e+281\n",
      "6.268602437468465e+282\n",
      "2.5690150384309917e+284\n",
      "1.052840459021021e+286\n"
     ]
    },
    {
     "name": "stderr",
     "output_type": "stream",
     "text": [
      "\r",
      " 18%|█▊        | 18/100 [00:47<03:26,  2.52s/it]"
     ]
    },
    {
     "name": "stdout",
     "output_type": "stream",
     "text": [
      "4.314778292728823e+287\n",
      "Epoch: 171, Test Acc: 0.108\n",
      "1.7682937197070747e+289\n",
      "7.246867549196696e+290\n",
      "2.969930203919957e+292\n",
      "1.217144560222268e+294\n",
      "4.988133655542921e+295\n",
      "2.0442499747947983e+297\n",
      "8.37779868790161e+298\n",
      "3.4334113596871306e+300\n",
      "1.4070896191206116e+302\n",
      "5.766571461502376e+303\n"
     ]
    },
    {
     "name": "stderr",
     "output_type": "stream",
     "text": [
      "\r",
      " 19%|█▉        | 19/100 [00:50<03:23,  2.51s/it]"
     ]
    },
    {
     "name": "stdout",
     "output_type": "stream",
     "text": [
      "Epoch: 181, Test Acc: 0.108\n",
      "inf\n"
     ]
    },
    {
     "name": "stderr",
     "output_type": "stream",
     "text": [
      "/opt/conda/lib/python3.9/site-packages/numpy/core/fromnumeric.py:86: RuntimeWarning: overflow encountered in reduce\n",
      "  return ufunc.reduce(obj, axis, dtype, out, **passkwargs)\n"
     ]
    },
    {
     "name": "stdout",
     "output_type": "stream",
     "text": [
      "inf\n",
      "inf\n"
     ]
    },
    {
     "name": "stderr",
     "output_type": "stream",
     "text": [
      "/home/ltsao/private/assignment1/ece285/algorithms/linear_regression.py:50: RuntimeWarning: overflow encountered in square\n",
      "  mse_loss = 1 / N * np.sum(np.square(y_pred - y_onehot))\n"
     ]
    },
    {
     "name": "stdout",
     "output_type": "stream",
     "text": [
      "inf\n"
     ]
    },
    {
     "name": "stderr",
     "output_type": "stream",
     "text": [
      "/home/ltsao/private/assignment1/ece285/algorithms/linear_regression.py:55: RuntimeWarning: invalid value encountered in double_scalars\n",
      "  l2_loss = 1 / N * 0.5 * self.weight_decay * np.sum(np.square(self.w))\n"
     ]
    },
    {
     "name": "stdout",
     "output_type": "stream",
     "text": [
      "nan\n",
      "nan\n",
      "nan\n"
     ]
    },
    {
     "name": "stderr",
     "output_type": "stream",
     "text": [
      "/home/ltsao/private/assignment1/ece285/algorithms/linear_regression.py:55: RuntimeWarning: overflow encountered in square\n",
      "  l2_loss = 1 / N * 0.5 * self.weight_decay * np.sum(np.square(self.w))\n"
     ]
    },
    {
     "name": "stdout",
     "output_type": "stream",
     "text": [
      "nan\n",
      "nan\n",
      "nan\n"
     ]
    },
    {
     "name": "stderr",
     "output_type": "stream",
     "text": [
      "\r",
      " 20%|██        | 20/100 [00:53<03:25,  2.57s/it]"
     ]
    },
    {
     "name": "stdout",
     "output_type": "stream",
     "text": [
      "Epoch: 191, Test Acc: 0.108\n",
      "nan\n",
      "nan\n",
      "nan\n",
      "nan\n",
      "nan\n",
      "nan\n",
      "nan\n",
      "nan\n",
      "nan\n",
      "nan\n"
     ]
    },
    {
     "name": "stderr",
     "output_type": "stream",
     "text": [
      "\r",
      " 21%|██        | 21/100 [00:56<03:35,  2.73s/it]"
     ]
    },
    {
     "name": "stdout",
     "output_type": "stream",
     "text": [
      "Epoch: 201, Test Acc: 0.108\n",
      "nan\n",
      "nan\n",
      "nan\n",
      "nan\n",
      "nan\n",
      "nan\n",
      "nan\n",
      "nan\n",
      "nan\n",
      "nan\n"
     ]
    },
    {
     "name": "stderr",
     "output_type": "stream",
     "text": [
      "\r",
      " 22%|██▏       | 22/100 [00:59<03:34,  2.75s/it]"
     ]
    },
    {
     "name": "stdout",
     "output_type": "stream",
     "text": [
      "Epoch: 211, Test Acc: 0.108\n",
      "nan\n",
      "nan\n",
      "nan\n",
      "nan\n",
      "nan\n",
      "nan\n",
      "nan\n",
      "nan\n",
      "nan\n",
      "nan\n"
     ]
    },
    {
     "name": "stderr",
     "output_type": "stream",
     "text": [
      "\r",
      " 23%|██▎       | 23/100 [01:01<03:19,  2.59s/it]"
     ]
    },
    {
     "name": "stdout",
     "output_type": "stream",
     "text": [
      "Epoch: 221, Test Acc: 0.108\n",
      "nan\n",
      "nan\n",
      "nan\n",
      "nan\n",
      "nan\n",
      "nan\n",
      "nan\n",
      "nan\n",
      "nan\n",
      "nan\n",
      "Epoch: 231, Test Acc: 0.108\n"
     ]
    },
    {
     "name": "stderr",
     "output_type": "stream",
     "text": [
      "\r",
      " 24%|██▍       | 24/100 [01:03<03:14,  2.56s/it]"
     ]
    },
    {
     "name": "stdout",
     "output_type": "stream",
     "text": [
      "nan\n",
      "nan\n",
      "nan\n",
      "nan\n",
      "nan\n",
      "nan\n",
      "nan\n",
      "nan\n",
      "nan\n",
      "nan\n"
     ]
    },
    {
     "name": "stderr",
     "output_type": "stream",
     "text": [
      "\r",
      " 25%|██▌       | 25/100 [01:06<03:06,  2.48s/it]"
     ]
    },
    {
     "name": "stdout",
     "output_type": "stream",
     "text": [
      "Epoch: 241, Test Acc: 0.108\n",
      "nan\n",
      "nan\n",
      "nan\n",
      "nan\n",
      "nan\n",
      "nan\n",
      "nan\n",
      "nan\n",
      "nan\n",
      "nan\n"
     ]
    },
    {
     "name": "stderr",
     "output_type": "stream",
     "text": [
      "\r",
      " 26%|██▌       | 26/100 [01:08<03:04,  2.49s/it]"
     ]
    },
    {
     "name": "stdout",
     "output_type": "stream",
     "text": [
      "Epoch: 251, Test Acc: 0.108\n",
      "nan\n",
      "nan\n",
      "nan\n",
      "nan\n",
      "nan\n",
      "nan\n",
      "nan\n",
      "nan\n",
      "nan\n",
      "nan\n"
     ]
    },
    {
     "name": "stderr",
     "output_type": "stream",
     "text": [
      "\r",
      " 27%|██▋       | 27/100 [01:11<02:59,  2.46s/it]"
     ]
    },
    {
     "name": "stdout",
     "output_type": "stream",
     "text": [
      "Epoch: 261, Test Acc: 0.108\n",
      "nan\n",
      "nan\n",
      "nan\n",
      "nan\n",
      "nan\n",
      "nan\n",
      "nan\n",
      "nan\n",
      "nan\n"
     ]
    },
    {
     "name": "stderr",
     "output_type": "stream",
     "text": [
      "\r",
      " 28%|██▊       | 28/100 [01:13<02:51,  2.38s/it]"
     ]
    },
    {
     "name": "stdout",
     "output_type": "stream",
     "text": [
      "nan\n",
      "Epoch: 271, Test Acc: 0.108\n",
      "nan\n",
      "nan\n",
      "nan\n",
      "nan\n",
      "nan\n",
      "nan\n",
      "nan\n",
      "nan\n",
      "nan\n",
      "nan\n"
     ]
    },
    {
     "name": "stderr",
     "output_type": "stream",
     "text": [
      "\r",
      " 29%|██▉       | 29/100 [01:15<02:42,  2.29s/it]"
     ]
    },
    {
     "name": "stdout",
     "output_type": "stream",
     "text": [
      "Epoch: 281, Test Acc: 0.108\n",
      "nan\n",
      "nan\n",
      "nan\n",
      "nan\n",
      "nan\n",
      "nan\n",
      "nan\n",
      "nan\n",
      "nan\n",
      "nan\n"
     ]
    },
    {
     "name": "stderr",
     "output_type": "stream",
     "text": [
      "\r",
      " 30%|███       | 30/100 [01:18<02:53,  2.48s/it]"
     ]
    },
    {
     "name": "stdout",
     "output_type": "stream",
     "text": [
      "Epoch: 291, Test Acc: 0.108\n",
      "nan\n",
      "nan\n",
      "nan\n",
      "nan\n",
      "nan\n",
      "nan\n",
      "nan\n",
      "nan\n",
      "nan\n",
      "nan\n"
     ]
    },
    {
     "name": "stderr",
     "output_type": "stream",
     "text": [
      "\r",
      " 31%|███       | 31/100 [01:21<03:04,  2.67s/it]"
     ]
    },
    {
     "name": "stdout",
     "output_type": "stream",
     "text": [
      "Epoch: 301, Test Acc: 0.108\n",
      "nan\n",
      "nan\n",
      "nan\n",
      "nan\n",
      "nan\n",
      "nan\n",
      "nan\n",
      "nan\n",
      "nan\n",
      "nan\n"
     ]
    },
    {
     "name": "stderr",
     "output_type": "stream",
     "text": [
      "\r",
      " 32%|███▏      | 32/100 [01:23<02:49,  2.50s/it]"
     ]
    },
    {
     "name": "stdout",
     "output_type": "stream",
     "text": [
      "Epoch: 311, Test Acc: 0.108\n",
      "nan\n",
      "nan\n",
      "nan\n",
      "nan\n",
      "nan\n",
      "nan\n",
      "nan\n",
      "nan\n",
      "nan\n",
      "nan\n"
     ]
    },
    {
     "name": "stderr",
     "output_type": "stream",
     "text": [
      "\r",
      " 33%|███▎      | 33/100 [01:25<02:41,  2.41s/it]"
     ]
    },
    {
     "name": "stdout",
     "output_type": "stream",
     "text": [
      "Epoch: 321, Test Acc: 0.108\n",
      "nan\n",
      "nan\n",
      "nan\n",
      "nan\n",
      "nan\n",
      "nan\n",
      "nan\n",
      "nan\n",
      "nan\n",
      "nan\n"
     ]
    },
    {
     "name": "stderr",
     "output_type": "stream",
     "text": [
      "\r",
      " 34%|███▍      | 34/100 [01:28<02:46,  2.52s/it]"
     ]
    },
    {
     "name": "stdout",
     "output_type": "stream",
     "text": [
      "Epoch: 331, Test Acc: 0.108\n",
      "nan\n",
      "nan\n",
      "nan\n",
      "nan\n",
      "nan\n",
      "nan\n",
      "nan\n",
      "nan\n",
      "nan\n",
      "nan\n"
     ]
    },
    {
     "name": "stderr",
     "output_type": "stream",
     "text": [
      "\r",
      " 35%|███▌      | 35/100 [01:30<02:43,  2.51s/it]"
     ]
    },
    {
     "name": "stdout",
     "output_type": "stream",
     "text": [
      "Epoch: 341, Test Acc: 0.108\n",
      "nan\n",
      "nan\n",
      "nan\n",
      "nan\n",
      "nan\n",
      "nan\n",
      "nan\n",
      "nan\n",
      "nan\n",
      "nan\n"
     ]
    },
    {
     "name": "stderr",
     "output_type": "stream",
     "text": [
      "\r",
      " 36%|███▌      | 36/100 [01:33<02:40,  2.51s/it]"
     ]
    },
    {
     "name": "stdout",
     "output_type": "stream",
     "text": [
      "Epoch: 351, Test Acc: 0.108\n",
      "nan\n",
      "nan\n",
      "nan\n",
      "nan\n",
      "nan\n",
      "nan\n",
      "nan\n",
      "nan\n",
      "nan\n"
     ]
    },
    {
     "name": "stderr",
     "output_type": "stream",
     "text": [
      "\r",
      " 37%|███▋      | 37/100 [01:35<02:28,  2.36s/it]"
     ]
    },
    {
     "name": "stdout",
     "output_type": "stream",
     "text": [
      "nan\n",
      "Epoch: 361, Test Acc: 0.108\n",
      "nan\n",
      "nan\n",
      "nan\n",
      "nan\n",
      "nan\n",
      "nan\n",
      "nan\n",
      "nan\n",
      "nan\n"
     ]
    },
    {
     "name": "stderr",
     "output_type": "stream",
     "text": [
      "\r",
      " 38%|███▊      | 38/100 [01:37<02:27,  2.37s/it]"
     ]
    },
    {
     "name": "stdout",
     "output_type": "stream",
     "text": [
      "nan\n",
      "Epoch: 371, Test Acc: 0.108\n"
     ]
    },
    {
     "name": "stderr",
     "output_type": "stream",
     "text": [
      "/home/ltsao/private/assignment1/ece285/algorithms/linear_regression.py:62: RuntimeWarning: invalid value encountered in multiply\n",
      "  grad = 1 / N * (2 * np.dot(X_train.T, y_pred - y_onehot).T + self.weight_decay * self.w)\n"
     ]
    },
    {
     "name": "stdout",
     "output_type": "stream",
     "text": [
      "nan\n",
      "nan\n",
      "nan\n",
      "nan\n",
      "nan\n",
      "nan\n",
      "nan\n",
      "nan\n",
      "nan\n",
      "nan\n"
     ]
    },
    {
     "name": "stderr",
     "output_type": "stream",
     "text": [
      "\r",
      " 39%|███▉      | 39/100 [01:39<02:19,  2.29s/it]"
     ]
    },
    {
     "name": "stdout",
     "output_type": "stream",
     "text": [
      "Epoch: 381, Test Acc: 0.114\n",
      "nan\n",
      "nan\n",
      "nan\n",
      "nan\n",
      "nan\n",
      "nan\n",
      "nan\n",
      "nan\n",
      "nan\n",
      "nan\n"
     ]
    },
    {
     "name": "stderr",
     "output_type": "stream",
     "text": [
      "\r",
      " 40%|████      | 40/100 [01:42<02:19,  2.32s/it]"
     ]
    },
    {
     "name": "stdout",
     "output_type": "stream",
     "text": [
      "Epoch: 391, Test Acc: 0.114\n",
      "nan\n",
      "nan\n",
      "nan\n",
      "nan\n",
      "nan\n",
      "nan\n",
      "nan\n",
      "nan\n",
      "nan\n",
      "nan\n"
     ]
    },
    {
     "name": "stderr",
     "output_type": "stream",
     "text": [
      "\r",
      " 41%|████      | 41/100 [01:44<02:15,  2.29s/it]"
     ]
    },
    {
     "name": "stdout",
     "output_type": "stream",
     "text": [
      "Epoch: 401, Test Acc: 0.114\n",
      "nan\n",
      "nan\n",
      "nan\n",
      "nan\n",
      "nan\n",
      "nan\n",
      "nan\n",
      "nan\n",
      "nan\n",
      "nan\n"
     ]
    },
    {
     "name": "stderr",
     "output_type": "stream",
     "text": [
      "\r",
      " 42%|████▏     | 42/100 [01:47<02:28,  2.56s/it]"
     ]
    },
    {
     "name": "stdout",
     "output_type": "stream",
     "text": [
      "Epoch: 411, Test Acc: 0.114\n",
      "nan\n",
      "nan\n",
      "nan\n",
      "nan\n",
      "nan\n",
      "nan\n",
      "nan\n",
      "nan\n",
      "nan\n",
      "nan\n"
     ]
    },
    {
     "name": "stderr",
     "output_type": "stream",
     "text": [
      "\r",
      " 43%|████▎     | 43/100 [01:50<02:25,  2.55s/it]"
     ]
    },
    {
     "name": "stdout",
     "output_type": "stream",
     "text": [
      "Epoch: 421, Test Acc: 0.114\n",
      "nan\n",
      "nan\n",
      "nan\n",
      "nan\n",
      "nan\n",
      "nan\n",
      "nan\n",
      "nan\n",
      "nan\n",
      "nan\n"
     ]
    },
    {
     "name": "stderr",
     "output_type": "stream",
     "text": [
      "\r",
      " 44%|████▍     | 44/100 [01:52<02:21,  2.53s/it]"
     ]
    },
    {
     "name": "stdout",
     "output_type": "stream",
     "text": [
      "Epoch: 431, Test Acc: 0.114\n",
      "nan\n",
      "nan\n",
      "nan\n",
      "nan\n",
      "nan\n",
      "nan\n",
      "nan\n",
      "nan\n",
      "nan\n",
      "nan\n"
     ]
    },
    {
     "name": "stderr",
     "output_type": "stream",
     "text": [
      "\r",
      " 45%|████▌     | 45/100 [01:56<02:38,  2.88s/it]"
     ]
    },
    {
     "name": "stdout",
     "output_type": "stream",
     "text": [
      "Epoch: 441, Test Acc: 0.114\n",
      "nan\n",
      "nan\n",
      "nan\n",
      "nan\n",
      "nan\n",
      "nan\n",
      "nan\n",
      "nan\n",
      "nan\n",
      "nan\n"
     ]
    },
    {
     "name": "stderr",
     "output_type": "stream",
     "text": [
      "\r",
      " 46%|████▌     | 46/100 [01:59<02:32,  2.82s/it]"
     ]
    },
    {
     "name": "stdout",
     "output_type": "stream",
     "text": [
      "Epoch: 451, Test Acc: 0.114\n",
      "nan\n",
      "nan\n",
      "nan\n",
      "nan\n",
      "nan\n",
      "nan\n",
      "nan\n",
      "nan\n",
      "nan\n",
      "nan\n"
     ]
    },
    {
     "name": "stderr",
     "output_type": "stream",
     "text": [
      "\r",
      " 47%|████▋     | 47/100 [02:02<02:46,  3.15s/it]"
     ]
    },
    {
     "name": "stdout",
     "output_type": "stream",
     "text": [
      "Epoch: 461, Test Acc: 0.114\n",
      "nan\n",
      "nan\n",
      "nan\n",
      "nan\n",
      "nan\n",
      "nan\n",
      "nan\n",
      "nan\n",
      "nan\n",
      "nan\n"
     ]
    },
    {
     "name": "stderr",
     "output_type": "stream",
     "text": [
      "\r",
      " 48%|████▊     | 48/100 [02:05<02:33,  2.95s/it]"
     ]
    },
    {
     "name": "stdout",
     "output_type": "stream",
     "text": [
      "Epoch: 471, Test Acc: 0.114\n",
      "nan\n",
      "nan\n",
      "nan\n",
      "nan\n",
      "nan\n",
      "nan\n",
      "nan\n",
      "nan\n",
      "nan\n",
      "nan\n"
     ]
    },
    {
     "name": "stderr",
     "output_type": "stream",
     "text": [
      "\r",
      " 49%|████▉     | 49/100 [02:07<02:17,  2.70s/it]"
     ]
    },
    {
     "name": "stdout",
     "output_type": "stream",
     "text": [
      "Epoch: 481, Test Acc: 0.114\n",
      "nan\n",
      "nan\n",
      "nan\n",
      "nan\n",
      "nan\n",
      "nan\n",
      "nan\n",
      "nan\n",
      "nan\n",
      "nan\n"
     ]
    },
    {
     "name": "stderr",
     "output_type": "stream",
     "text": [
      "\r",
      " 50%|█████     | 50/100 [02:10<02:21,  2.82s/it]"
     ]
    },
    {
     "name": "stdout",
     "output_type": "stream",
     "text": [
      "Epoch: 491, Test Acc: 0.114\n",
      "nan\n",
      "nan\n",
      "nan\n",
      "nan\n",
      "nan\n",
      "nan\n",
      "nan\n",
      "nan\n",
      "nan\n",
      "nan\n"
     ]
    },
    {
     "name": "stderr",
     "output_type": "stream",
     "text": [
      "\r",
      " 51%|█████     | 51/100 [02:13<02:22,  2.90s/it]"
     ]
    },
    {
     "name": "stdout",
     "output_type": "stream",
     "text": [
      "Epoch: 501, Test Acc: 0.114\n",
      "nan\n",
      "nan\n",
      "nan\n",
      "nan\n",
      "nan\n",
      "nan\n",
      "nan\n",
      "nan\n",
      "nan\n",
      "nan\n"
     ]
    },
    {
     "name": "stderr",
     "output_type": "stream",
     "text": [
      "\r",
      " 52%|█████▏    | 52/100 [02:16<02:09,  2.69s/it]"
     ]
    },
    {
     "name": "stdout",
     "output_type": "stream",
     "text": [
      "Epoch: 511, Test Acc: 0.114\n",
      "nan\n",
      "nan\n",
      "nan\n",
      "nan\n",
      "nan\n",
      "nan\n",
      "nan\n",
      "nan\n",
      "nan\n",
      "nan\n"
     ]
    },
    {
     "name": "stderr",
     "output_type": "stream",
     "text": [
      "\r",
      " 53%|█████▎    | 53/100 [02:18<02:05,  2.67s/it]"
     ]
    },
    {
     "name": "stdout",
     "output_type": "stream",
     "text": [
      "Epoch: 521, Test Acc: 0.114\n",
      "nan\n",
      "nan\n",
      "nan\n",
      "nan\n",
      "nan\n",
      "nan\n",
      "nan\n",
      "nan\n",
      "nan\n",
      "nan\n"
     ]
    },
    {
     "name": "stderr",
     "output_type": "stream",
     "text": [
      "\r",
      " 54%|█████▍    | 54/100 [02:20<01:56,  2.53s/it]"
     ]
    },
    {
     "name": "stdout",
     "output_type": "stream",
     "text": [
      "Epoch: 531, Test Acc: 0.114\n",
      "nan\n",
      "nan\n",
      "nan\n",
      "nan\n",
      "nan\n",
      "nan\n",
      "nan\n",
      "nan\n",
      "nan\n",
      "nan\n"
     ]
    },
    {
     "name": "stderr",
     "output_type": "stream",
     "text": [
      "\r",
      " 55%|█████▌    | 55/100 [02:23<01:57,  2.60s/it]"
     ]
    },
    {
     "name": "stdout",
     "output_type": "stream",
     "text": [
      "Epoch: 541, Test Acc: 0.114\n",
      "nan\n",
      "nan\n",
      "nan\n",
      "nan\n",
      "nan\n",
      "nan\n",
      "nan\n",
      "nan\n",
      "nan\n",
      "nan\n"
     ]
    },
    {
     "name": "stderr",
     "output_type": "stream",
     "text": [
      "\r",
      " 56%|█████▌    | 56/100 [02:27<02:06,  2.88s/it]"
     ]
    },
    {
     "name": "stdout",
     "output_type": "stream",
     "text": [
      "Epoch: 551, Test Acc: 0.114\n",
      "nan\n",
      "nan\n",
      "nan\n",
      "nan\n",
      "nan\n",
      "nan\n",
      "nan\n",
      "nan\n",
      "nan\n",
      "nan\n"
     ]
    },
    {
     "name": "stderr",
     "output_type": "stream",
     "text": [
      "\r",
      " 57%|█████▋    | 57/100 [02:29<01:53,  2.64s/it]"
     ]
    },
    {
     "name": "stdout",
     "output_type": "stream",
     "text": [
      "Epoch: 561, Test Acc: 0.114\n",
      "nan\n",
      "nan\n",
      "nan\n",
      "nan\n",
      "nan\n",
      "nan\n",
      "nan\n",
      "nan\n",
      "nan\n",
      "nan\n"
     ]
    },
    {
     "name": "stderr",
     "output_type": "stream",
     "text": [
      "\r",
      " 58%|█████▊    | 58/100 [02:31<01:49,  2.60s/it]"
     ]
    },
    {
     "name": "stdout",
     "output_type": "stream",
     "text": [
      "Epoch: 571, Test Acc: 0.114\n",
      "nan\n",
      "nan\n",
      "nan\n",
      "nan\n",
      "nan\n",
      "nan\n",
      "nan\n",
      "nan\n",
      "nan\n",
      "nan\n"
     ]
    },
    {
     "name": "stderr",
     "output_type": "stream",
     "text": [
      "\r",
      " 59%|█████▉    | 59/100 [02:33<01:41,  2.48s/it]"
     ]
    },
    {
     "name": "stdout",
     "output_type": "stream",
     "text": [
      "Epoch: 581, Test Acc: 0.114\n",
      "nan\n",
      "nan\n",
      "nan\n",
      "nan\n",
      "nan\n",
      "nan\n",
      "nan\n",
      "nan\n",
      "nan\n",
      "nan\n"
     ]
    },
    {
     "name": "stderr",
     "output_type": "stream",
     "text": [
      "\r",
      " 60%|██████    | 60/100 [02:36<01:38,  2.47s/it]"
     ]
    },
    {
     "name": "stdout",
     "output_type": "stream",
     "text": [
      "Epoch: 591, Test Acc: 0.114\n",
      "nan\n",
      "nan\n",
      "nan\n",
      "nan\n",
      "nan\n",
      "nan\n",
      "nan\n",
      "nan\n",
      "nan\n",
      "nan\n"
     ]
    },
    {
     "name": "stderr",
     "output_type": "stream",
     "text": [
      "\r",
      " 61%|██████    | 61/100 [02:38<01:36,  2.46s/it]"
     ]
    },
    {
     "name": "stdout",
     "output_type": "stream",
     "text": [
      "Epoch: 601, Test Acc: 0.114\n",
      "nan\n",
      "nan\n",
      "nan\n",
      "nan\n",
      "nan\n",
      "nan\n",
      "nan\n",
      "nan\n",
      "nan\n",
      "nan\n",
      "Epoch: 611, Test Acc: 0.114\n"
     ]
    },
    {
     "name": "stderr",
     "output_type": "stream",
     "text": [
      "\r",
      " 62%|██████▏   | 62/100 [02:41<01:35,  2.50s/it]"
     ]
    },
    {
     "name": "stdout",
     "output_type": "stream",
     "text": [
      "nan\n",
      "nan\n",
      "nan\n",
      "nan\n",
      "nan\n",
      "nan\n",
      "nan\n",
      "nan\n",
      "nan\n",
      "nan\n"
     ]
    },
    {
     "name": "stderr",
     "output_type": "stream",
     "text": [
      "\r",
      " 63%|██████▎   | 63/100 [02:44<01:40,  2.72s/it]"
     ]
    },
    {
     "name": "stdout",
     "output_type": "stream",
     "text": [
      "Epoch: 621, Test Acc: 0.114\n",
      "nan\n",
      "nan\n",
      "nan\n",
      "nan\n",
      "nan\n",
      "nan\n",
      "nan\n",
      "nan\n",
      "nan\n",
      "nan\n"
     ]
    },
    {
     "name": "stderr",
     "output_type": "stream",
     "text": [
      "\r",
      " 64%|██████▍   | 64/100 [02:46<01:33,  2.59s/it]"
     ]
    },
    {
     "name": "stdout",
     "output_type": "stream",
     "text": [
      "Epoch: 631, Test Acc: 0.114\n",
      "nan\n",
      "nan\n",
      "nan\n",
      "nan\n",
      "nan\n",
      "nan\n",
      "nan\n",
      "nan\n",
      "nan\n",
      "nan\n"
     ]
    },
    {
     "name": "stderr",
     "output_type": "stream",
     "text": [
      "\r",
      " 65%|██████▌   | 65/100 [02:51<01:48,  3.10s/it]"
     ]
    },
    {
     "name": "stdout",
     "output_type": "stream",
     "text": [
      "Epoch: 641, Test Acc: 0.114\n",
      "nan\n",
      "nan\n",
      "nan\n",
      "nan\n",
      "nan\n",
      "nan\n",
      "nan\n",
      "nan\n",
      "nan\n",
      "nan\n"
     ]
    },
    {
     "name": "stderr",
     "output_type": "stream",
     "text": [
      "\r",
      " 66%|██████▌   | 66/100 [02:53<01:42,  3.01s/it]"
     ]
    },
    {
     "name": "stdout",
     "output_type": "stream",
     "text": [
      "Epoch: 651, Test Acc: 0.114\n",
      "nan\n",
      "nan\n",
      "nan\n",
      "nan\n",
      "nan\n",
      "nan\n",
      "nan\n",
      "nan\n",
      "nan\n",
      "nan\n"
     ]
    },
    {
     "name": "stderr",
     "output_type": "stream",
     "text": [
      "\r",
      " 67%|██████▋   | 67/100 [02:56<01:33,  2.83s/it]"
     ]
    },
    {
     "name": "stdout",
     "output_type": "stream",
     "text": [
      "Epoch: 661, Test Acc: 0.114\n",
      "nan\n",
      "nan\n",
      "nan\n",
      "nan\n",
      "nan\n",
      "nan\n",
      "nan\n",
      "nan\n",
      "nan\n",
      "nan\n"
     ]
    },
    {
     "name": "stderr",
     "output_type": "stream",
     "text": [
      "\r",
      " 68%|██████▊   | 68/100 [02:59<01:29,  2.80s/it]"
     ]
    },
    {
     "name": "stdout",
     "output_type": "stream",
     "text": [
      "Epoch: 671, Test Acc: 0.114\n",
      "nan\n",
      "nan\n",
      "nan\n",
      "nan\n",
      "nan\n",
      "nan\n",
      "nan\n",
      "nan\n",
      "nan\n",
      "nan\n"
     ]
    },
    {
     "name": "stderr",
     "output_type": "stream",
     "text": [
      "\r",
      " 69%|██████▉   | 69/100 [03:01<01:22,  2.68s/it]"
     ]
    },
    {
     "name": "stdout",
     "output_type": "stream",
     "text": [
      "Epoch: 681, Test Acc: 0.114\n",
      "nan\n",
      "nan\n",
      "nan\n",
      "nan\n",
      "nan\n",
      "nan\n",
      "nan\n",
      "nan\n",
      "nan\n",
      "nan\n"
     ]
    },
    {
     "name": "stderr",
     "output_type": "stream",
     "text": [
      "\r",
      " 70%|███████   | 70/100 [03:04<01:19,  2.65s/it]"
     ]
    },
    {
     "name": "stdout",
     "output_type": "stream",
     "text": [
      "Epoch: 691, Test Acc: 0.114\n",
      "nan\n",
      "nan\n",
      "nan\n",
      "nan\n",
      "nan\n",
      "nan\n",
      "nan\n",
      "nan\n",
      "nan\n",
      "nan\n"
     ]
    },
    {
     "name": "stderr",
     "output_type": "stream",
     "text": [
      "\r",
      " 71%|███████   | 71/100 [03:06<01:14,  2.58s/it]"
     ]
    },
    {
     "name": "stdout",
     "output_type": "stream",
     "text": [
      "Epoch: 701, Test Acc: 0.114\n",
      "nan\n",
      "nan\n",
      "nan\n",
      "nan\n",
      "nan\n",
      "nan\n",
      "nan\n",
      "nan\n",
      "nan\n",
      "nan\n"
     ]
    },
    {
     "name": "stderr",
     "output_type": "stream",
     "text": [
      "\r",
      " 72%|███████▏  | 72/100 [03:09<01:13,  2.62s/it]"
     ]
    },
    {
     "name": "stdout",
     "output_type": "stream",
     "text": [
      "Epoch: 711, Test Acc: 0.114\n",
      "nan\n",
      "nan\n",
      "nan\n",
      "nan\n",
      "nan\n",
      "nan\n",
      "nan\n",
      "nan\n",
      "nan\n",
      "nan\n"
     ]
    },
    {
     "name": "stderr",
     "output_type": "stream",
     "text": [
      "\r",
      " 73%|███████▎  | 73/100 [03:11<01:10,  2.60s/it]"
     ]
    },
    {
     "name": "stdout",
     "output_type": "stream",
     "text": [
      "Epoch: 721, Test Acc: 0.114\n",
      "nan\n",
      "nan\n",
      "nan\n",
      "nan\n",
      "nan\n",
      "nan\n",
      "nan\n",
      "nan\n",
      "nan\n",
      "nan\n"
     ]
    },
    {
     "name": "stderr",
     "output_type": "stream",
     "text": [
      "\r",
      " 74%|███████▍  | 74/100 [03:15<01:13,  2.84s/it]"
     ]
    },
    {
     "name": "stdout",
     "output_type": "stream",
     "text": [
      "Epoch: 731, Test Acc: 0.114\n",
      "nan\n",
      "nan\n",
      "nan\n",
      "nan\n",
      "nan\n",
      "nan\n",
      "nan\n",
      "nan\n",
      "nan\n",
      "nan\n"
     ]
    },
    {
     "name": "stderr",
     "output_type": "stream",
     "text": [
      "\r",
      " 75%|███████▌  | 75/100 [03:18<01:16,  3.04s/it]"
     ]
    },
    {
     "name": "stdout",
     "output_type": "stream",
     "text": [
      "Epoch: 741, Test Acc: 0.114\n",
      "nan\n",
      "nan\n",
      "nan\n",
      "nan\n",
      "nan\n",
      "nan\n",
      "nan\n",
      "nan\n",
      "nan\n",
      "nan\n"
     ]
    },
    {
     "name": "stderr",
     "output_type": "stream",
     "text": [
      "\r",
      " 76%|███████▌  | 76/100 [03:21<01:13,  3.06s/it]"
     ]
    },
    {
     "name": "stdout",
     "output_type": "stream",
     "text": [
      "Epoch: 751, Test Acc: 0.114\n",
      "nan\n",
      "nan\n",
      "nan\n",
      "nan\n",
      "nan\n",
      "nan\n",
      "nan\n",
      "nan\n",
      "nan\n",
      "nan\n"
     ]
    },
    {
     "name": "stderr",
     "output_type": "stream",
     "text": [
      "\r",
      " 77%|███████▋  | 77/100 [03:24<01:05,  2.83s/it]"
     ]
    },
    {
     "name": "stdout",
     "output_type": "stream",
     "text": [
      "Epoch: 761, Test Acc: 0.114\n",
      "nan\n",
      "nan\n",
      "nan\n",
      "nan\n",
      "nan\n",
      "nan\n",
      "nan\n",
      "nan\n",
      "nan\n",
      "nan\n"
     ]
    },
    {
     "name": "stderr",
     "output_type": "stream",
     "text": [
      "\r",
      " 78%|███████▊  | 78/100 [03:26<00:58,  2.64s/it]"
     ]
    },
    {
     "name": "stdout",
     "output_type": "stream",
     "text": [
      "Epoch: 771, Test Acc: 0.114\n",
      "nan\n",
      "nan\n",
      "nan\n",
      "nan\n",
      "nan\n",
      "nan\n",
      "nan\n",
      "nan\n",
      "nan\n",
      "nan\n"
     ]
    },
    {
     "name": "stderr",
     "output_type": "stream",
     "text": [
      "\r",
      " 79%|███████▉  | 79/100 [03:29<00:56,  2.69s/it]"
     ]
    },
    {
     "name": "stdout",
     "output_type": "stream",
     "text": [
      "Epoch: 781, Test Acc: 0.114\n",
      "nan\n",
      "nan\n",
      "nan\n",
      "nan\n",
      "nan\n",
      "nan\n",
      "nan\n",
      "nan\n",
      "nan\n",
      "nan\n"
     ]
    },
    {
     "name": "stderr",
     "output_type": "stream",
     "text": [
      "\r",
      " 80%|████████  | 80/100 [03:31<00:51,  2.57s/it]"
     ]
    },
    {
     "name": "stdout",
     "output_type": "stream",
     "text": [
      "Epoch: 791, Test Acc: 0.114\n",
      "nan\n",
      "nan\n",
      "nan\n",
      "nan\n",
      "nan\n",
      "nan\n",
      "nan\n",
      "nan\n",
      "nan\n",
      "nan\n"
     ]
    },
    {
     "name": "stderr",
     "output_type": "stream",
     "text": [
      "\r",
      " 81%|████████  | 81/100 [03:34<00:53,  2.79s/it]"
     ]
    },
    {
     "name": "stdout",
     "output_type": "stream",
     "text": [
      "Epoch: 801, Test Acc: 0.114\n",
      "nan\n",
      "nan\n",
      "nan\n",
      "nan\n",
      "nan\n",
      "nan\n",
      "nan\n",
      "nan\n",
      "nan\n",
      "nan\n"
     ]
    },
    {
     "name": "stderr",
     "output_type": "stream",
     "text": [
      "\r",
      " 82%|████████▏ | 82/100 [03:37<00:47,  2.64s/it]"
     ]
    },
    {
     "name": "stdout",
     "output_type": "stream",
     "text": [
      "Epoch: 811, Test Acc: 0.114\n",
      "nan\n",
      "nan\n",
      "nan\n",
      "nan\n",
      "nan\n",
      "nan\n",
      "nan\n",
      "nan\n",
      "nan\n",
      "nan\n"
     ]
    },
    {
     "name": "stderr",
     "output_type": "stream",
     "text": [
      "\r",
      " 83%|████████▎ | 83/100 [03:39<00:45,  2.69s/it]"
     ]
    },
    {
     "name": "stdout",
     "output_type": "stream",
     "text": [
      "Epoch: 821, Test Acc: 0.114\n",
      "nan\n",
      "nan\n",
      "nan\n",
      "nan\n",
      "nan\n",
      "nan\n",
      "nan\n",
      "nan\n",
      "nan\n",
      "nan\n",
      "Epoch: 831, Test Acc: 0.114\n"
     ]
    },
    {
     "name": "stderr",
     "output_type": "stream",
     "text": [
      "\r",
      " 84%|████████▍ | 84/100 [03:42<00:41,  2.60s/it]"
     ]
    },
    {
     "name": "stdout",
     "output_type": "stream",
     "text": [
      "nan\n",
      "nan\n",
      "nan\n",
      "nan\n",
      "nan\n",
      "nan\n",
      "nan\n",
      "nan\n",
      "nan\n",
      "nan\n"
     ]
    },
    {
     "name": "stderr",
     "output_type": "stream",
     "text": [
      "\r",
      " 85%|████████▌ | 85/100 [03:44<00:39,  2.61s/it]"
     ]
    },
    {
     "name": "stdout",
     "output_type": "stream",
     "text": [
      "Epoch: 841, Test Acc: 0.114\n",
      "nan\n",
      "nan\n",
      "nan\n",
      "nan\n",
      "nan\n",
      "nan\n",
      "nan\n",
      "nan\n",
      "nan\n",
      "nan\n"
     ]
    },
    {
     "name": "stderr",
     "output_type": "stream",
     "text": [
      "\r",
      " 86%|████████▌ | 86/100 [03:47<00:38,  2.75s/it]"
     ]
    },
    {
     "name": "stdout",
     "output_type": "stream",
     "text": [
      "Epoch: 851, Test Acc: 0.114\n",
      "nan\n",
      "nan\n",
      "nan\n",
      "nan\n",
      "nan\n",
      "nan\n",
      "nan\n",
      "nan\n",
      "nan\n",
      "nan\n"
     ]
    },
    {
     "name": "stderr",
     "output_type": "stream",
     "text": [
      "\r",
      " 87%|████████▋ | 87/100 [03:50<00:33,  2.62s/it]"
     ]
    },
    {
     "name": "stdout",
     "output_type": "stream",
     "text": [
      "Epoch: 861, Test Acc: 0.114\n",
      "nan\n",
      "nan\n",
      "nan\n",
      "nan\n",
      "nan\n",
      "nan\n",
      "nan\n",
      "nan\n",
      "nan\n"
     ]
    },
    {
     "name": "stderr",
     "output_type": "stream",
     "text": [
      "\r",
      " 88%|████████▊ | 88/100 [03:52<00:29,  2.46s/it]"
     ]
    },
    {
     "name": "stdout",
     "output_type": "stream",
     "text": [
      "nan\n",
      "Epoch: 871, Test Acc: 0.114\n",
      "nan\n",
      "nan\n",
      "nan\n",
      "nan\n",
      "nan\n",
      "nan\n",
      "nan\n",
      "nan\n",
      "nan\n",
      "nan\n"
     ]
    },
    {
     "name": "stderr",
     "output_type": "stream",
     "text": [
      "\r",
      " 89%|████████▉ | 89/100 [03:55<00:28,  2.62s/it]"
     ]
    },
    {
     "name": "stdout",
     "output_type": "stream",
     "text": [
      "Epoch: 881, Test Acc: 0.114\n",
      "nan\n",
      "nan\n",
      "nan\n",
      "nan\n",
      "nan\n",
      "nan\n",
      "nan\n",
      "nan\n",
      "nan\n",
      "nan\n"
     ]
    },
    {
     "name": "stderr",
     "output_type": "stream",
     "text": [
      "\r",
      " 90%|█████████ | 90/100 [03:57<00:25,  2.56s/it]"
     ]
    },
    {
     "name": "stdout",
     "output_type": "stream",
     "text": [
      "Epoch: 891, Test Acc: 0.114\n",
      "nan\n",
      "nan\n",
      "nan\n",
      "nan\n",
      "nan\n",
      "nan\n",
      "nan\n",
      "nan\n",
      "nan\n",
      "nan\n"
     ]
    },
    {
     "name": "stderr",
     "output_type": "stream",
     "text": [
      "\r",
      " 91%|█████████ | 91/100 [04:00<00:24,  2.78s/it]"
     ]
    },
    {
     "name": "stdout",
     "output_type": "stream",
     "text": [
      "Epoch: 901, Test Acc: 0.114\n",
      "nan\n",
      "nan\n",
      "nan\n",
      "nan\n",
      "nan\n",
      "nan\n",
      "nan\n",
      "nan\n",
      "nan\n",
      "nan\n"
     ]
    },
    {
     "name": "stderr",
     "output_type": "stream",
     "text": [
      "\r",
      " 92%|█████████▏| 92/100 [04:03<00:21,  2.72s/it]"
     ]
    },
    {
     "name": "stdout",
     "output_type": "stream",
     "text": [
      "Epoch: 911, Test Acc: 0.114\n",
      "nan\n",
      "nan\n",
      "nan\n",
      "nan\n",
      "nan\n",
      "nan\n",
      "nan\n",
      "nan\n",
      "nan\n",
      "nan\n"
     ]
    },
    {
     "name": "stderr",
     "output_type": "stream",
     "text": [
      "\r",
      " 93%|█████████▎| 93/100 [04:06<00:18,  2.68s/it]"
     ]
    },
    {
     "name": "stdout",
     "output_type": "stream",
     "text": [
      "Epoch: 921, Test Acc: 0.114\n",
      "nan\n",
      "nan\n",
      "nan\n",
      "nan\n",
      "nan\n",
      "nan\n",
      "nan\n",
      "nan\n",
      "nan\n",
      "nan\n"
     ]
    },
    {
     "name": "stderr",
     "output_type": "stream",
     "text": [
      "\r",
      " 94%|█████████▍| 94/100 [04:09<00:16,  2.78s/it]"
     ]
    },
    {
     "name": "stdout",
     "output_type": "stream",
     "text": [
      "Epoch: 931, Test Acc: 0.114\n",
      "nan\n",
      "nan\n",
      "nan\n",
      "nan\n",
      "nan\n",
      "nan\n",
      "nan\n",
      "nan\n",
      "nan\n",
      "nan\n"
     ]
    },
    {
     "name": "stderr",
     "output_type": "stream",
     "text": [
      "\r",
      " 95%|█████████▌| 95/100 [04:12<00:14,  2.95s/it]"
     ]
    },
    {
     "name": "stdout",
     "output_type": "stream",
     "text": [
      "Epoch: 941, Test Acc: 0.114\n",
      "nan\n",
      "nan\n",
      "nan\n",
      "nan\n",
      "nan\n",
      "nan\n",
      "nan\n",
      "nan\n",
      "nan\n",
      "nan\n"
     ]
    },
    {
     "name": "stderr",
     "output_type": "stream",
     "text": [
      "\r",
      " 96%|█████████▌| 96/100 [04:15<00:12,  3.03s/it]"
     ]
    },
    {
     "name": "stdout",
     "output_type": "stream",
     "text": [
      "Epoch: 951, Test Acc: 0.114\n",
      "nan\n",
      "nan\n",
      "nan\n",
      "nan\n",
      "nan\n",
      "nan\n",
      "nan\n",
      "nan\n",
      "nan\n",
      "nan\n"
     ]
    },
    {
     "name": "stderr",
     "output_type": "stream",
     "text": [
      "\r",
      " 97%|█████████▋| 97/100 [04:18<00:08,  2.91s/it]"
     ]
    },
    {
     "name": "stdout",
     "output_type": "stream",
     "text": [
      "Epoch: 961, Test Acc: 0.114\n",
      "nan\n",
      "nan\n",
      "nan\n",
      "nan\n",
      "nan\n",
      "nan\n",
      "nan\n",
      "nan\n",
      "nan\n",
      "nan\n"
     ]
    },
    {
     "name": "stderr",
     "output_type": "stream",
     "text": [
      "\r",
      " 98%|█████████▊| 98/100 [04:21<00:05,  2.88s/it]"
     ]
    },
    {
     "name": "stdout",
     "output_type": "stream",
     "text": [
      "Epoch: 971, Test Acc: 0.114\n",
      "nan\n",
      "nan\n",
      "nan\n",
      "nan\n",
      "nan\n",
      "nan\n",
      "nan\n",
      "nan\n",
      "nan\n",
      "nan\n"
     ]
    },
    {
     "name": "stderr",
     "output_type": "stream",
     "text": [
      "\r",
      " 99%|█████████▉| 99/100 [04:23<00:02,  2.66s/it]"
     ]
    },
    {
     "name": "stdout",
     "output_type": "stream",
     "text": [
      "Epoch: 981, Test Acc: 0.114\n",
      "nan\n",
      "nan\n",
      "nan\n",
      "nan\n",
      "nan\n",
      "nan\n",
      "nan\n",
      "nan\n",
      "nan\n",
      "nan\n"
     ]
    },
    {
     "name": "stderr",
     "output_type": "stream",
     "text": [
      "100%|██████████| 100/100 [04:25<00:00,  2.66s/it]"
     ]
    },
    {
     "name": "stdout",
     "output_type": "stream",
     "text": [
      "Epoch: 991, Test Acc: 0.114\n"
     ]
    },
    {
     "name": "stderr",
     "output_type": "stream",
     "text": [
      "\n"
     ]
    }
   ],
   "source": [
    "from collections import defaultdict\n",
    "\n",
    "# Initialize the best values\n",
    "best_weights = weights\n",
    "best_learning_rate = learning_rate\n",
    "best_weight_decay = weight_decay\n",
    "best_v_ac = 0.0\n",
    "\n",
    "# TODO\n",
    "# Repeat the above training and evaluation steps for the following learning rates and plot graphs\n",
    "# You need to try 3 learning rates and submit all 3 graphs along with this notebook pdf to show your learning rate experiments\n",
    "learning_rates = [0.0001, 0.001, 0.01]\n",
    "weight_decay = 0.0  # No regularization for now\n",
    "\n",
    "# FEEL FREE TO EXPERIMENT WITH OTHER VALUES. REPORT OTHER VALUES IF THEY ACHIEVE A BETTER PERFORMANCE\n",
    "\n",
    "# for lr in learning_rates: Train the classifier and plot data\n",
    "# Step 1. train_accu, val_accu, test_accu = train(lr, weight_decay)\n",
    "# Step 2. plot_accuracies(train_accu, val_accu, test_accu)\n",
    "\n",
    "learning_rate_info = {}\n",
    "\n",
    "for learning_rate in learning_rates:\n",
    "    # TODO: Train the classifier with different learning rates and plot\n",
    "    # pass\n",
    "    t_ac, v_ac, te_ac, weights = train(learning_rate, weight_decay)\n",
    "    learning_rate_info[learning_rate] = [t_ac, v_ac, te_ac, weights]\n",
    "    \n",
    "    if best_v_ac < max(v_ac):\n",
    "        best_weights = weights\n",
    "        best_learning_rate = learning_rate\n",
    "        best_weight_decay = weight_decay\n",
    "        best_v_ac = max(v_ac)\n"
   ]
  },
  {
   "cell_type": "code",
   "execution_count": 29,
   "metadata": {},
   "outputs": [
    {
     "data": {
      "image/png": "[encoded data removed]",
      "text/plain": [
       "<Figure size 432x288 with 1 Axes>"
      ]
     },
     "metadata": {
      "needs_background": "light"
     },
     "output_type": "display_data"
    },
    {
     "data": {
      "image/png": "[encoded data removed]",
      "text/plain": [
       "<Figure size 432x288 with 1 Axes>"
      ]
     },
     "metadata": {
      "needs_background": "light"
     },
     "output_type": "display_data"
    },
    {
     "data": {
      "image/png": "[encoded data removed]",
      "text/plain": [
       "<Figure size 432x288 with 1 Axes>"
      ]
     },
     "metadata": {
      "needs_background": "light"
     },
     "output_type": "display_data"
    }
   ],
   "source": [
    "for i, learning_rate in enumerate(learning_rates):\n",
    "    t_ac, v_ac, te_ac = learning_rate_info[learning_rate][0], learning_rate_info[learning_rate][1], learning_rate_info[learning_rate][2]\n",
    "    plt.subplot(3, 1, i + 1)\n",
    "    plt.title(\"Learning rate: {}\".format(learning_rate))\n",
    "    plot_accuracies(t_ac, v_ac, te_ac)\n",
    "\n",
    "plt.show()\n"
   ]
  },
  {
   "cell_type": "markdown",
   "metadata": {},
   "source": [
    "#### Inline Question 1.\n",
    "\n",
    "Which one of these learning rates (best_lr) would you pick to train your model? Please Explain why.\n"
   ]
  },
  {
   "cell_type": "markdown",
   "metadata": {},
   "source": [
    "#### Your Answer:\n",
    "There are three cases for my experiment of the learning rate, which are: 0.0001, 0.001, and 0.01. I will pick lr = 0.001 as my best_lr since I got the highest validation accuracy during the experiment. The reason why I choose the validation accuracy (acc = 0.376) as my criteria is the validation dataset is available for us during the experiment, while the testing dataset is not. "
   ]
  },
  {
   "cell_type": "markdown",
   "metadata": {},
   "source": [
    "### Regularization: Try different weight decay and plot graphs for all (20%)\n"
   ]
  },
  {
   "cell_type": "code",
   "execution_count": null,
   "metadata": {},
   "outputs": [],
   "source": [
    "# Initialize a non-zero weight_decay (Regularization constant) term and repeat the training and evaluation\n",
    "# Use the best learning rate as obtained from the above exercise, best_lr\n",
    "\n",
    "# You need to try 3 learning rates and submit all 3 graphs along with this notebook pdf to show your weight decay experiments\n",
    "weight_decays = [0, 0.0001, 0.001, 0.01]\n",
    "\n",
    "# FEEL FREE TO EXPERIMENT WITH OTHER VALUES. REPORT OTHER VALUES IF THEY ACHIEVE A BETTER PERFORMANCE\n",
    "\n",
    "# for weight_decay in weight_decays: Train the classifier and plot data\n",
    "# Step 1. train_accu, val_accu, test_accu = train(best_lr, weight_decay)\n",
    "# Step 2. plot_accuracies(train_accu, val_accu, test_accu)\n",
    "\n",
    "weight_decay_info = {}\n",
    "\n",
    "for weight_decay in weight_decays:\n",
    "    # TODO: Train the classifier with different weighty decay and plot\n",
    "    # pass\n",
    "    t_ac, v_ac, te_ac, weights = train(best_learning_rate, weight_decay)\n",
    "    weight_decay_info[weight_decay] = [t_ac, v_ac, te_ac, weights]\n",
    "    \n",
    "    if best_v_ac < max(v_ac):\n",
    "        best_weights = weights\n",
    "        best_learning_rate = learning_rate\n",
    "        best_weight_decay = weight_decay\n",
    "        best_v_ac = max(v_ac)\n",
    "                                       "
   ]
  },
  {
   "cell_type": "code",
   "execution_count": 30,
   "metadata": {},
   "outputs": [
    {
     "data": {
      "image/png": "[encoded data removed]",
      "text/plain": [
       "<Figure size 432x288 with 1 Axes>"
      ]
     },
     "metadata": {
      "needs_background": "light"
     },
     "output_type": "display_data"
    },
    {
     "data": {
      "image/png": "[encoded data removed]",
      "text/plain": [
       "<Figure size 432x288 with 1 Axes>"
      ]
     },
     "metadata": {
      "needs_background": "light"
     },
     "output_type": "display_data"
    },
    {
     "data": {
      "image/png": "[encoded data removed]",
      "text/plain": [
       "<Figure size 432x288 with 1 Axes>"
      ]
     },
     "metadata": {
      "needs_background": "light"
     },
     "output_type": "display_data"
    }
   ],
   "source": [
    "for i, weight_decay in enumerate(weight_decays):\n",
    "    t_ac, v_ac, te_ac = weight_decay_info[weight_decay][0], weight_decay_info[weight_decay][1], weight_decay_info[weight_decay][2]\n",
    "    plt.subplot(3, 1, i + 1)\n",
    "    plt.title(\"Weight decay: {}\".format(weight_decay))\n",
    "    plot_accuracies(t_ac, v_ac, te_ac)\n",
    "\n",
    "plt.show()\n"
   ]
  },
  {
   "cell_type": "markdown",
   "metadata": {},
   "source": [
    "#### Inline Question 2.\n",
    "\n",
    "Discuss underfitting and overfitting as observed in the 5 graphs obtained by changing the regularization.\n",
    "Which weight_decay term gave you the best classifier performance?\n",
    "HINT: Do not just think in terms of best training set performance, keep in mind that the real utility of a machine learning model is when it performs well on data it has never seen before\n"
   ]
  },
  {
   "cell_type": "markdown",
   "metadata": {},
   "source": [
    "#### Your Answer:\n",
    "There are three cases for my experiment of the weight decay, which are: 0.0001, 0.001, and 0.01. I will pick lr = 0.0001 as my best_weight_decay since I got the highest validation accuracy during the experiment. For the weight_decay = 0.001 and 0.01, the model tends to become under-fitting since I observed that the training loss does not converge. Therefore, the training accuracy is very low. This indicates that the weight got too much penalty during the training steps. However, when we observe the weight_decay = 0.0001, the validation accuracy does not improve even though the training accuracy goes higher. Therefore, this is the over-fitting problem."
   ]
  },
  {
   "cell_type": "markdown",
   "metadata": {},
   "source": [
    "### Visualize the filters (10%)\n"
   ]
  },
  {
   "cell_type": "code",
   "execution_count": 21,
   "metadata": {},
   "outputs": [
    {
     "name": "stdout",
     "output_type": "stream",
     "text": [
      "Best LR: 0.01\n",
      "Best Weight Decay: 0.0001\n"
     ]
    },
    {
     "data": {
      "image/png": "[encoded data removed]",
      "text/plain": [
       "<Figure size 1440x1440 with 10 Axes>"
      ]
     },
     "metadata": {
      "needs_background": "light"
     },
     "output_type": "display_data"
    }
   ],
   "source": [
    "# These visualizations will only somewhat make sense if your learning rate and weight_decay parameters were\n",
    "# properly chosen in the model. Do your best.\n",
    "\n",
    "# TODO: Run this cell and Show filter visualizations for the best set of weights you obtain.\n",
    "# Report the 2 hyperparameters you used to obtain the best model.\n",
    "\n",
    "# NOTE: You need to set `best_learning_rate` and `best_weight_decay` to the values that gave the highest accuracy\n",
    "print(\"Best LR:\", best_learning_rate)\n",
    "print(\"Best Weight Decay:\", best_weight_decay)\n",
    "\n",
    "# NOTE: You need to set `best_weights` to the weights with the highest accuracy\n",
    "w = best_weights[:, :-1]\n",
    "w = w.reshape(10, 3, 32, 32).transpose(0, 2, 3, 1)\n",
    "\n",
    "w_min, w_max = np.min(w), np.max(w)\n",
    "\n",
    "fig = plt.figure(figsize=(20, 20))\n",
    "classes = [\n",
    "    \"plane\",\n",
    "    \"car\",\n",
    "    \"bird\",\n",
    "    \"cat\",\n",
    "    \"deer\",\n",
    "    \"dog\",\n",
    "    \"frog\",\n",
    "    \"horse\",\n",
    "    \"ship\",\n",
    "    \"truck\",\n",
    "]\n",
    "for i in range(10):\n",
    "    fig.add_subplot(2, 5, i + 1)\n",
    "\n",
    "    # Rescale the weights to be between 0 and 255\n",
    "    wimg = 255.0 * (w[i, :, :, :].squeeze() - w_min) / (w_max - w_min)\n",
    "    # plt.imshow(wimg.astype('uint8'))\n",
    "    plt.imshow(wimg.astype(int))\n",
    "    plt.axis(\"off\")\n",
    "    plt.title(classes[i])\n",
    "plt.show()\n"
   ]
  }
 ],
 "metadata": {
  "kernelspec": {
   "display_name": "Python 3 (ipykernel)",
   "language": "python",
   "name": "python3"
  },
  "language_info": {
   "codemirror_mode": {
    "name": "ipython",
    "version": 3
   },
   "file_extension": ".py",
   "mimetype": "text/x-python",
   "name": "python",
   "nbconvert_exporter": "python",
   "pygments_lexer": "ipython3",
   "version": "3.9.5"
  }
 },
 "nbformat": 4,
 "nbformat_minor": 4
}
