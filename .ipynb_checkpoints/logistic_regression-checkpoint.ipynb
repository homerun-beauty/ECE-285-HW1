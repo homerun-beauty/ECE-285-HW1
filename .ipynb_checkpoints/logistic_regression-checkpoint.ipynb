{
 "cells": [
  {
   "cell_type": "markdown",
   "metadata": {},
   "source": [
    "# ECE 285 Assignment 1: Logistic Regression\n",
    "\n",
    "For this part of assignment, you are tasked to implement a logistic regression algorithm for multiclass classification and test it on the CIFAR10 dataset.\n",
    "\n",
    "You sould run the whole notebook and answer the questions in the notebook.\n",
    "\n",
    "TO SUBMIT: PDF of this notebook with all the required outputs and answers.\n"
   ]
  },
  {
   "cell_type": "code",
   "execution_count": 1,
   "metadata": {
    "scrolled": true
   },
   "outputs": [
    {
     "name": "stdout",
     "output_type": "stream",
     "text": [
      "dict_keys(['x_train', 'y_train', 'x_val', 'y_val', 'x_test', 'y_test'])\n",
      "Training Set Data  Shape:  (5000, 3072)\n",
      "Training Set Label Shape:  (5000,)\n",
      "Validation Set Data  Shape:  (250, 3072)\n",
      "Validation Set Label Shape:  (250,)\n",
      "Test Set Data  Shape:  (500, 3072)\n",
      "Test Set Label Shape:  (500,)\n"
     ]
    }
   ],
   "source": [
    "# Prepare Packages\n",
    "import numpy as np\n",
    "import matplotlib.pyplot as plt\n",
    "from tqdm import tqdm\n",
    "\n",
    "from ece285.utils.data_processing import get_cifar10_data\n",
    "\n",
    "# Use a subset of CIFAR10 for KNN assignments\n",
    "dataset = get_cifar10_data(\n",
    "    subset_train=5000,\n",
    "    subset_val=250,\n",
    "    subset_test=500,\n",
    ")\n",
    "\n",
    "print(dataset.keys())\n",
    "print(\"Training Set Data  Shape: \", dataset[\"x_train\"].shape)\n",
    "print(\"Training Set Label Shape: \", dataset[\"y_train\"].shape)\n",
    "print(\"Validation Set Data  Shape: \", dataset[\"x_val\"].shape)\n",
    "print(\"Validation Set Label Shape: \", dataset[\"y_val\"].shape)\n",
    "print(\"Test Set Data  Shape: \", dataset[\"x_test\"].shape)\n",
    "print(\"Test Set Label Shape: \", dataset[\"y_test\"].shape)\n"
   ]
  },
  {
   "cell_type": "markdown",
   "metadata": {},
   "source": [
    "# Logistic Regression for multi-class classification\n"
   ]
  },
  {
   "cell_type": "markdown",
   "metadata": {},
   "source": [
    "A Logistic Regression Algorithm has 3 hyperparameters that you can experiment with:\n",
    "\n",
    "- **Learning rate** - controls how much we change the current weights of the classifier during each update. We set it at a default value of 0.5, and later you are asked to experiment with different values. We recommend looking at the graphs and observing how the performance of the classifier changes with different learning rate.\n",
    "- **Number of Epochs** - An epoch is a complete iterative pass over all of the data in the dataset. During an epoch we predict a label using the classifier and then update the weights of the classifier according the linear classifier update rule for each sample in the training set. We evaluate our models after every 10 epochs and save the accuracies, which are later used to plot the training, validation and test VS epoch curves.\n",
    "- **Weight Decay** - Regularization can be used to constrain the weights of the classifier and prevent their values from blowing up. Regularization helps in combatting overfitting. You will be using the 'weight_decay' term to introduce regularization in the classifier.\n",
    "\n",
    "The only way how a Logistic Regression based classification algorithm is different from a Linear Regression algorithm is that in the former we additionally pass the classifier outputs into a sigmoid function which squashes the output in the (0,1) range. Essentially these values then represent the probabilities of that sample belonging to class particular classes\n"
   ]
  },
  {
   "cell_type": "markdown",
   "metadata": {},
   "source": [
    "### Implementation (40%)\n",
    "\n",
    "You need to implement the Linear Regression method in `algorithms/logistic_regression.py`. You need to fill in the sigmoid function, training function as well as the prediction function.\n"
   ]
  },
  {
   "cell_type": "code",
   "execution_count": 2,
   "metadata": {},
   "outputs": [],
   "source": [
    "# Import the algorithm implementation (TODO: Complete the Logistic Regression in algorithms/logistic_regression.py)\n",
    "from ece285.algorithms import Logistic\n",
    "from ece285.utils.evaluation import get_classification_accuracy\n",
    "\n",
    "num_classes = 10  # Cifar10 dataset has 10 different classes\n",
    "\n",
    "# Initialize hyper-parameters\n",
    "learning_rate = 0.01  # You will be later asked to experiment with different learning rates and report results\n",
    "num_epochs_total = 1000  # Total number of epochs to train the classifier\n",
    "epochs_per_evaluation = 10  # Epochs per step of evaluation; We will evaluate our model regularly during training\n",
    "N, D = dataset[\n",
    "    \"x_train\"\n",
    "].shape  # Get training data shape, N: Number of examples, D:Dimensionality of the data\n",
    "weight_decay = 0.00002\n",
    "\n",
    "x_train = dataset[\"x_train\"].copy()\n",
    "y_train = dataset[\"y_train\"].copy()\n",
    "x_val = dataset[\"x_val\"].copy()\n",
    "y_val = dataset[\"y_val\"].copy()\n",
    "x_test = dataset[\"x_test\"].copy()\n",
    "y_test = dataset[\"y_test\"].copy()\n",
    "\n",
    "# Insert additional scalar term 1 in the samples to account for the bias as discussed in class\n",
    "x_train = np.insert(x_train, D, values=1, axis=1)\n",
    "x_val = np.insert(x_val, D, values=1, axis=1)\n",
    "x_test = np.insert(x_test, D, values=1, axis=1)"
   ]
  },
  {
   "cell_type": "code",
   "execution_count": 3,
   "metadata": {},
   "outputs": [],
   "source": [
    "# Training and evaluation function -> Outputs accuracy data\n",
    "def train(learning_rate_, weight_decay_):\n",
    "    # Create a linear regression object\n",
    "    logistic_regression = Logistic(\n",
    "        num_classes, learning_rate_, epochs_per_evaluation, weight_decay_\n",
    "    )\n",
    "\n",
    "    # Randomly initialize the weights and biases\n",
    "    weights = np.random.randn(num_classes, D + 1) * 0.0001\n",
    "\n",
    "    train_accuracies, val_accuracies, test_accuracies = [], [], []\n",
    "\n",
    "    # Train the classifier\n",
    "    for _ in tqdm(range(int(num_epochs_total / epochs_per_evaluation))):\n",
    "        # Train the classifier on the training data\n",
    "        weights = logistic_regression.train(x_train, y_train, weights)\n",
    "\n",
    "        # Evaluate the trained classifier on the training dataset\n",
    "        y_pred_train = logistic_regression.predict(x_train)\n",
    "        train_accuracies.append(get_classification_accuracy(y_pred_train, y_train))\n",
    "\n",
    "        # Evaluate the trained classifier on the validation dataset\n",
    "        y_pred_val = logistic_regression.predict(x_val)\n",
    "        val_accuracies.append(get_classification_accuracy(y_pred_val, y_val))\n",
    "\n",
    "        # Evaluate the trained classifier on the test dataset\n",
    "        y_pred_test = logistic_regression.predict(x_test)\n",
    "        test_accuracies.append(get_classification_accuracy(y_pred_test, y_test))\n",
    "\n",
    "    return train_accuracies, val_accuracies, test_accuracies, weights\n"
   ]
  },
  {
   "cell_type": "code",
   "execution_count": 4,
   "metadata": {},
   "outputs": [],
   "source": [
    "import matplotlib.pyplot as plt\n",
    "\n",
    "\n",
    "def plot_accuracies(train_acc, val_acc, test_acc):\n",
    "    # Plot Accuracies vs Epochs graph for all the three\n",
    "    epochs = np.arange(0, int(num_epochs_total / epochs_per_evaluation))\n",
    "    plt.ylabel(\"Accuracy\")\n",
    "    plt.xlabel(\"Epoch/10\")\n",
    "    plt.plot(epochs, train_acc, epochs, val_acc, epochs, test_acc)\n",
    "    plt.legend([\"Training\", \"Validation\", \"Testing\"])\n",
    "    plt.show()\n"
   ]
  },
  {
   "cell_type": "code",
   "execution_count": null,
   "metadata": {},
   "outputs": [
    {
     "name": "stderr",
     "output_type": "stream",
     "text": [
      "\r",
      "  0%|          | 0/100 [00:00<?, ?it/s]"
     ]
    },
    {
     "name": "stdout",
     "output_type": "stream",
     "text": [
      "6.932540087676567\n",
      "Epoch 0, Loss 6.932540087677183\n",
      "3.5165692053317223\n",
      "3.418425409793438\n",
      "3.379101394425952\n",
      "3.361897844478\n",
      "3.3509052760428744\n",
      "3.3415730152166385\n",
      "3.3328384018436554\n",
      "3.324462884507205\n",
      "3.3163857671051002\n"
     ]
    },
    {
     "name": "stderr",
     "output_type": "stream",
     "text": [
      "\r",
      "  1%|          | 1/100 [00:02<04:33,  2.76s/it]"
     ]
    },
    {
     "name": "stdout",
     "output_type": "stream",
     "text": [
      "3.308584202611597\n",
      "Epoch 0, Loss 3.3085842027676953\n",
      "3.301043767757864\n",
      "3.29375227560423\n",
      "3.286698448162124\n",
      "3.2798716142692306\n",
      "3.273261627239394\n",
      "3.2668588307396527\n",
      "3.260654035657196\n",
      "3.2546384996934883\n",
      "3.2488039078298483\n"
     ]
    },
    {
     "name": "stderr",
     "output_type": "stream",
     "text": [
      "\r",
      "  2%|▏         | 2/100 [00:05<04:27,  2.73s/it]"
     ]
    },
    {
     "name": "stdout",
     "output_type": "stream",
     "text": [
      "3.2431423532717574\n",
      "Epoch 0, Loss 3.2431423534727375\n",
      "3.237646318823736\n",
      "3.232308658726343\n",
      "3.2271225810001427\n",
      "3.2220816303373736\n",
      "3.217179671573519\n",
      "3.2124108737620802\n",
      "3.207769694867507\n",
      "3.2032508670839546\n",
      "3.1988493827813627\n"
     ]
    },
    {
     "name": "stderr",
     "output_type": "stream",
     "text": [
      "\r",
      "  3%|▎         | 3/100 [00:08<04:23,  2.72s/it]"
     ]
    },
    {
     "name": "stdout",
     "output_type": "stream",
     "text": [
      "3.1945604810750643\n",
      "Epoch 0, Loss 3.1945604813360906\n",
      "3.1903796350108906\n",
      "3.1863025393541786\n",
      "3.182325098968354\n",
      "3.178443417766507\n",
      "3.174653788217783\n",
      "3.1709526813891773\n",
      "3.1673367375024783\n",
      "3.163802756985636\n",
      "3.16034769199756\n"
     ]
    },
    {
     "name": "stderr",
     "output_type": "stream",
     "text": [
      "\r",
      "  4%|▍         | 4/100 [00:10<04:23,  2.74s/it]"
     ]
    },
    {
     "name": "stdout",
     "output_type": "stream",
     "text": [
      "3.156968638405354\n",
      "Epoch 0, Loss 3.1569686387348956\n",
      "3.1536628281931547\n",
      "3.150427622282046\n",
      "3.1472605037409735\n",
      "3.144159071369079\n",
      "3.141121033630473\n",
      "3.138144202923139\n",
      "3.1352264901642855\n",
      "3.132365899675222\n",
      "3.1295605243495275\n"
     ]
    },
    {
     "name": "stderr",
     "output_type": "stream",
     "text": [
      "\r",
      "  5%|▌         | 5/100 [00:14<04:41,  2.97s/it]"
     ]
    },
    {
     "name": "stdout",
     "output_type": "stream",
     "text": [
      "3.12680854108899\n",
      "Epoch 0, Loss 3.126808541491828\n",
      "3.124108206492551\n",
      "3.1214578527841517\n",
      "3.1188558839661176\n",
      "3.1163007721853657\n",
      "3.113791054300396\n",
      "3.111325328637651\n",
      "3.1089022519264606\n",
      "3.1065205364023503\n",
      "3.1041789470690886\n"
     ]
    },
    {
     "name": "stderr",
     "output_type": "stream",
     "text": [
      "\r",
      "  6%|▌         | 6/100 [00:17<04:41,  2.99s/it]"
     ]
    },
    {
     "name": "stdout",
     "output_type": "stream",
     "text": [
      "3.101876299110355\n",
      "Epoch 0, Loss 3.1018762995891733\n",
      "3.099611455442449\n",
      "3.0973833243999325\n",
      "3.095190857546573\n",
      "3.093033047604387\n",
      "3.090908926494005\n",
      "3.0888175634799806\n",
      "3.0867580634150156\n",
      "3.0847295650774558\n",
      "3.0827312395967277\n"
     ]
    },
    {
     "name": "stderr",
     "output_type": "stream",
     "text": [
      "\r",
      "  7%|▋         | 7/100 [00:21<05:03,  3.26s/it]"
     ]
    },
    {
     "name": "stdout",
     "output_type": "stream",
     "text": [
      "3.080762288961696\n",
      "Epoch 0, Loss 3.080762289517957\n",
      "3.078821944607237\n",
      "3.0769094660745764\n",
      "3.0750241397412226\n",
      "3.0731652776165657\n",
      "3.071332216199438\n",
      "3.06952431539417\n",
      "3.0677409574818557\n",
      "3.0659815461437536\n",
      "3.0642455055339233\n"
     ]
    },
    {
     "name": "stderr",
     "output_type": "stream",
     "text": [
      "\r",
      "  8%|▊         | 8/100 [00:24<05:03,  3.30s/it]"
     ]
    },
    {
     "name": "stdout",
     "output_type": "stream",
     "text": [
      "3.062532279398374\n",
      "Epoch 0, Loss 3.06253228003281\n",
      "3.0608413302381443\n",
      "3.0591721385139174\n",
      "3.0575242018898723\n",
      "3.0558970345146528\n",
      "3.054290166337413\n",
      "3.0527031424570605\n",
      "3.0511355225028907\n",
      "3.0495868800449415\n",
      "3.0480568020324625\n"
     ]
    },
    {
     "name": "stderr",
     "output_type": "stream",
     "text": [
      "\r",
      "  9%|▉         | 9/100 [00:27<04:51,  3.21s/it]"
     ]
    },
    {
     "name": "stdout",
     "output_type": "stream",
     "text": [
      "3.046544888259015\n",
      "Epoch 0, Loss 3.0465448889719102\n",
      "3.0450507508527904\n",
      "3.0435740137908036\n",
      "3.0421143124357224\n",
      "3.040671293094142\n",
      "3.0392446125951857\n",
      "3.037833937888387\n",
      "3.0364389456598477\n",
      "3.0350593219657473\n",
      "3.033694761882303\n"
     ]
    },
    {
     "name": "stderr",
     "output_type": "stream",
     "text": [
      "\r",
      " 10%|█         | 10/100 [00:29<04:20,  2.90s/it]"
     ]
    },
    {
     "name": "stdout",
     "output_type": "stream",
     "text": [
      "3.0323449691713584\n",
      "Epoch 0, Loss 3.0323449699627183\n",
      "3.0310096559607986\n",
      "3.029688542439053\n",
      "3.0283813565629796\n",
      "3.027087833778462\n",
      "3.0258077167530835\n",
      "3.024540755120299\n",
      "3.0232867052345256\n",
      "3.0220453299366175\n",
      "3.0208163983292433\n"
     ]
    },
    {
     "name": "stderr",
     "output_type": "stream",
     "text": [
      "\r",
      " 11%|█         | 11/100 [00:33<04:42,  3.17s/it]"
     ]
    },
    {
     "name": "stdout",
     "output_type": "stream",
     "text": [
      "3.0195996855616505\n",
      "Epoch 0, Loss 3.0195996864313033\n",
      "3.0183949726234065\n",
      "3.017202046146656\n",
      "3.0160206982165048\n",
      "3.014850726189142\n",
      "3.0136919325173417\n",
      "3.0125441245829854\n",
      "3.011407114536297\n",
      "3.0102807191414667\n",
      "3.0091647596283706\n"
     ]
    },
    {
     "name": "stderr",
     "output_type": "stream",
     "text": [
      "\r",
      " 12%|█▏        | 12/100 [00:36<04:37,  3.15s/it]"
     ]
    },
    {
     "name": "stdout",
     "output_type": "stream",
     "text": [
      "3.008059061550118\n",
      "Epoch 0, Loss 3.0080590624977797\n",
      "3.006963454646144\n",
      "3.005877772710613\n",
      "3.004801853465885\n",
      "3.0037355384408153\n",
      "3.002678672853684\n",
      "3.0016311054995404\n",
      "3.0005926886417726\n",
      "2.999563277907709\n",
      "2.9985427321880986\n"
     ]
    },
    {
     "name": "stderr",
     "output_type": "stream",
     "text": [
      "\r",
      " 13%|█▎        | 13/100 [00:40<04:42,  3.24s/it]"
     ]
    },
    {
     "name": "stdout",
     "output_type": "stream",
     "text": [
      "2.997530913540266\n",
      "Epoch 0, Loss 2.9975309145655795\n",
      "2.9965276870948276\n",
      "2.99553292096577\n",
      "2.9945464861637894\n",
      "2.993568256512722\n",
      "2.992598108568959\n",
      "2.9916359215437023\n",
      "2.990681577227958\n",
      "2.989734959920147\n"
     ]
    },
    {
     "name": "stderr",
     "output_type": "stream",
     "text": [
      "\r",
      " 14%|█▍        | 14/100 [00:42<04:28,  3.12s/it]"
     ]
    },
    {
     "name": "stdout",
     "output_type": "stream",
     "text": [
      "2.9887959563562236\n",
      "2.9878644556422054\n",
      "Epoch 0, Loss 2.98786445674477\n",
      "2.986940349189013\n",
      "2.9860235306495246\n",
      "2.985113895857765\n",
      "2.9842113427701262\n",
      "2.9833157714085656\n",
      "2.982427083805674\n",
      "2.9815451839515617\n",
      "2.9806699777424863\n",
      "2.9798013729311443\n"
     ]
    },
    {
     "name": "stderr",
     "output_type": "stream",
     "text": [
      "\r",
      " 15%|█▌        | 15/100 [00:45<03:59,  2.82s/it]"
     ]
    },
    {
     "name": "stdout",
     "output_type": "stream",
     "text": [
      "2.978939279078586\n",
      "Epoch 0, Loss 2.978939280257973\n",
      "2.9780836075076556\n",
      "2.97723427125794\n",
      "2.9763911850421305\n",
      "2.9755542652037783\n",
      "2.97472342967636\n",
      "2.9738985979436263\n",
      "2.9730796910011854\n",
      "2.9722666313192563\n",
      "2.9714593428065723\n"
     ]
    },
    {
     "name": "stderr",
     "output_type": "stream",
     "text": [
      "\r",
      " 16%|█▌        | 16/100 [00:47<03:56,  2.81s/it]"
     ]
    },
    {
     "name": "stdout",
     "output_type": "stream",
     "text": [
      "2.970657750775382\n",
      "Epoch 0, Loss 2.970657752031147\n",
      "2.9698617819075017\n",
      "2.9690713642214006\n",
      "2.968286427040258\n",
      "2.9675069009609794\n",
      "2.966732717824119\n",
      "2.965963810684693\n",
      "2.9652001137838417\n",
      "2.964441562521312\n",
      "2.963688093428741\n"
     ]
    },
    {
     "name": "stderr",
     "output_type": "stream",
     "text": [
      "\r",
      " 17%|█▋        | 17/100 [00:52<04:47,  3.46s/it]"
     ]
    },
    {
     "name": "stdout",
     "output_type": "stream",
     "text": [
      "2.962939644143696\n",
      "Epoch 0, Loss 2.962939645475388\n",
      "2.9621961533844674\n",
      "2.9614575609255627\n",
      "2.960723807573907\n",
      "2.9599948351456953\n",
      "2.9592705864439046\n",
      "2.9585510052364192\n",
      "2.957836036234765\n",
      "2.9571256250734255\n",
      "2.9564197182897196\n"
     ]
    },
    {
     "name": "stderr",
     "output_type": "stream",
     "text": [
      "\r",
      " 18%|█▊        | 18/100 [00:55<04:32,  3.33s/it]"
     ]
    },
    {
     "name": "stdout",
     "output_type": "stream",
     "text": [
      "2.955718263304231\n",
      "Epoch 0, Loss 2.9557182647113973\n",
      "2.955021208401759\n",
      "2.9543285027127837\n",
      "2.9536400961954277\n",
      "2.9529559396178913\n",
      "2.952275984541357\n",
      "2.9516001833033387\n",
      "2.9509284890014666\n",
      "2.9502608554776963\n",
      "2.949597237302924\n"
     ]
    },
    {
     "name": "stderr",
     "output_type": "stream",
     "text": [
      "\r",
      " 19%|█▉        | 19/100 [00:58<04:24,  3.26s/it]"
     ]
    },
    {
     "name": "stdout",
     "output_type": "stream",
     "text": [
      "2.948937589761995\n",
      "Epoch 0, Loss 2.9489375912441864\n",
      "2.9482818688391\n",
      "2.9476300312035373\n",
      "2.946982034195843\n",
      "2.9463378358142642\n",
      "2.9456973947015737\n",
      "2.9450606701322113\n",
      "2.9444276219997456\n",
      "2.9437982108046508\n"
     ]
    },
    {
     "name": "stderr",
     "output_type": "stream",
     "text": [
      "\r",
      " 20%|██        | 20/100 [01:02<04:33,  3.42s/it]"
     ]
    },
    {
     "name": "stdout",
     "output_type": "stream",
     "text": [
      "2.943172397642368\n",
      "2.9425501441916753\n",
      "Epoch 0, Loss 2.9425501457484473\n",
      "2.941931412703333\n",
      "2.941316165989\n",
      "2.940704367410423\n",
      "2.9400959808688847\n",
      "2.939490970794895\n",
      "2.9388893021381426\n",
      "2.9382909403576636\n",
      "2.937695851412258\n",
      "2.937104001751125\n"
     ]
    },
    {
     "name": "stderr",
     "output_type": "stream",
     "text": [
      "\r",
      " 21%|██        | 21/100 [01:05<04:17,  3.26s/it]"
     ]
    },
    {
     "name": "stdout",
     "output_type": "stream",
     "text": [
      "2.9365153583047086\n",
      "Epoch 0, Loss 2.9365153599356253\n",
      "2.9359298884757687\n",
      "2.935347560130648\n",
      "2.93476834159074\n",
      "2.9341922016241613\n",
      "2.933619109437597\n",
      "2.933049034668346\n",
      "2.9324819473765382\n",
      "2.9319178180375247\n",
      "2.9313566175344423\n"
     ]
    },
    {
     "name": "stderr",
     "output_type": "stream",
     "text": [
      "\r",
      " 22%|██▏       | 22/100 [01:08<04:13,  3.25s/it]"
     ]
    },
    {
     "name": "stdout",
     "output_type": "stream",
     "text": [
      "2.9307983171509404\n",
      "Epoch 0, Loss 2.9307983188555755\n",
      "2.930242888564069\n",
      "2.9296903038373245\n",
      "2.9291405354138487\n",
      "2.9285935561097696\n",
      "2.928049339107697\n",
      "2.9275078579503533\n",
      "2.926969086534337\n",
      "2.9264329991040303\n",
      "2.9258995702456287\n"
     ]
    },
    {
     "name": "stderr",
     "output_type": "stream",
     "text": [
      "\r",
      " 23%|██▎       | 23/100 [01:11<03:52,  3.02s/it]"
     ]
    },
    {
     "name": "stdout",
     "output_type": "stream",
     "text": [
      "2.9253687748812993\n",
      "Epoch 0, Loss 2.9253687766592362\n",
      "2.9248405882634647\n",
      "2.924314985969207\n",
      "2.9237919438947846\n",
      "2.923271438250271\n",
      "2.922753445554299\n",
      "2.922237942628917\n",
      "2.9217249065945503\n",
      "2.9212143148650673\n",
      "2.9207061451429417\n"
     ]
    },
    {
     "name": "stderr",
     "output_type": "stream",
     "text": [
      "\r",
      " 24%|██▍       | 24/100 [01:14<03:53,  3.08s/it]"
     ]
    },
    {
     "name": "stdout",
     "output_type": "stream",
     "text": [
      "2.920200375414521\n",
      "Epoch 0, Loss 2.9202003772653544\n",
      "2.919696983945387\n",
      "2.919195949275806\n",
      "2.9186972502162782\n",
      "2.9182008658431724\n",
      "2.9177067754944455\n",
      "2.917214958765453\n",
      "2.916725395504836\n",
      "2.916238065810497\n",
      "2.915752950025643\n"
     ]
    },
    {
     "name": "stderr",
     "output_type": "stream",
     "text": [
      "\r",
      " 25%|██▌       | 25/100 [01:17<03:53,  3.11s/it]"
     ]
    },
    {
     "name": "stdout",
     "output_type": "stream",
     "text": [
      "2.9152700287349207\n",
      "Epoch 0, Loss 2.9152700306582573\n",
      "2.914789282760614\n",
      "2.9143106931589244\n",
      "2.9138342412163167\n",
      "2.91335990844594\n",
      "2.9128876765841167\n",
      "2.9124175275868924\n",
      "2.911949443626661\n",
      "2.9114834070888485\n",
      "2.9110194005686574\n"
     ]
    },
    {
     "name": "stderr",
     "output_type": "stream",
     "text": [
      "\r",
      " 26%|██▌       | 26/100 [01:21<04:05,  3.32s/it]"
     ]
    },
    {
     "name": "stdout",
     "output_type": "stream",
     "text": [
      "2.910557406867879\n",
      "Epoch 0, Loss 2.9105574088633372\n",
      "2.910097408991756\n",
      "2.9096393901459163\n",
      "2.9091833337333504\n",
      "2.9087292233514543\n",
      "2.9082770427891247\n",
      "2.907826776023904\n",
      "2.907378407219181\n",
      "2.9069319207214446\n",
      "2.906487301057583\n"
     ]
    },
    {
     "name": "stderr",
     "output_type": "stream",
     "text": [
      "\r",
      " 27%|██▋       | 27/100 [01:24<03:53,  3.19s/it]"
     ]
    },
    {
     "name": "stdout",
     "output_type": "stream",
     "text": [
      "2.906044532932233\n",
      "Epoch 0, Loss 2.9060445349994444\n",
      "2.905603601225181\n",
      "2.905164490988805\n",
      "2.9047271874455656\n",
      "2.904291675985543\n",
      "2.903857942164016\n",
      "2.9034259716990847\n",
      "2.902995750469329\n",
      "2.902567264511526\n",
      "2.9021405000183838\n"
     ]
    },
    {
     "name": "stderr",
     "output_type": "stream",
     "text": [
      "\r",
      " 28%|██▊       | 28/100 [01:27<03:54,  3.25s/it]"
     ]
    },
    {
     "name": "stdout",
     "output_type": "stream",
     "text": [
      "2.9017154433363337\n",
      "Epoch 0, Loss 2.901715445474941\n",
      "2.9012920809633496\n",
      "2.9008703995468146\n",
      "2.900450385881415\n",
      "2.9000320269070783\n",
      "2.8996153097069395\n",
      "2.8992002215053496\n",
      "2.8987867496659163\n",
      "2.89837488168957\n",
      "2.897964605212675\n"
     ]
    },
    {
     "name": "stderr",
     "output_type": "stream",
     "text": [
      "\r",
      " 29%|██▉       | 29/100 [01:30<03:45,  3.18s/it]"
     ]
    },
    {
     "name": "stdout",
     "output_type": "stream",
     "text": [
      "2.897555908005163\n",
      "Epoch 0, Loss 2.8975559102148227\n",
      "2.897148777968706\n",
      "2.8967432031349096\n",
      "2.896339171663547\n",
      "2.8959366718408166\n",
      "2.895535692077627\n",
      "2.89513622090792\n",
      "2.894738246987006\n",
      "2.8943417590899436\n",
      "2.893946746109929\n"
     ]
    },
    {
     "name": "stderr",
     "output_type": "stream",
     "text": [
      "\r",
      " 30%|███       | 30/100 [01:33<03:40,  3.15s/it]"
     ]
    },
    {
     "name": "stdout",
     "output_type": "stream",
     "text": [
      "2.8935531970567285\n",
      "Epoch 0, Loss 2.893553199337109\n",
      "2.893161101055123\n",
      "2.892770447343382\n",
      "2.8923812252717718\n",
      "2.8919934243010648\n",
      "2.891607034001103\n",
      "2.891222044049356\n",
      "2.890838444229524\n",
      "2.890456224430147\n",
      "2.8900753746432475\n"
     ]
    },
    {
     "name": "stderr",
     "output_type": "stream",
     "text": [
      "\r",
      " 31%|███       | 31/100 [01:36<03:33,  3.10s/it]"
     ]
    },
    {
     "name": "stdout",
     "output_type": "stream",
     "text": [
      "2.8896958849629883\n",
      "Epoch 0, Loss 2.8896958873137706\n",
      "2.889317745584354\n",
      "2.8889409468018528\n",
      "2.8885654790082347\n",
      "2.888191332693241\n",
      "2.887818498442358\n",
      "2.887446966935604\n",
      "2.8870767289463255\n",
      "2.886707775340014\n",
      "2.8863400970731483\n"
     ]
    },
    {
     "name": "stderr",
     "output_type": "stream",
     "text": [
      "\r",
      " 32%|███▏      | 32/100 [01:39<03:24,  3.01s/it]"
     ]
    },
    {
     "name": "stdout",
     "output_type": "stream",
     "text": [
      "2.885973685192042\n",
      "Epoch 0, Loss 2.8859736876129194\n",
      "2.8856085308317208\n",
      "2.8852446252148085\n",
      "2.8848819596504343\n",
      "2.884520525533152\n",
      "2.884160314341886\n",
      "2.8838013176388797\n",
      "2.8834435270686662\n",
      "2.883086934357061\n",
      "2.882731531310155\n"
     ]
    },
    {
     "name": "stderr",
     "output_type": "stream",
     "text": [
      "\r",
      " 33%|███▎      | 33/100 [01:42<03:08,  2.81s/it]"
     ]
    },
    {
     "name": "stdout",
     "output_type": "stream",
     "text": [
      "2.8823773098133363\n",
      "Epoch 0, Loss 2.882377312304014\n",
      "2.8820242618303165\n",
      "2.8816723794021804\n",
      "2.8813216546464404\n",
      "2.880972079756116\n",
      "2.8806236469988105\n",
      "2.8802763487158236\n",
      "2.879930177321253\n",
      "2.879585125301128\n"
     ]
    },
    {
     "name": "stderr",
     "output_type": "stream",
     "text": [
      "\r",
      " 34%|███▍      | 34/100 [01:44<02:59,  2.72s/it]"
     ]
    },
    {
     "name": "stdout",
     "output_type": "stream",
     "text": [
      "2.8792411852125475\n",
      "2.878898349682825\n",
      "Epoch 0, Loss 2.8788983522430205\n",
      "2.8785566114086625\n",
      "2.8782159631553164\n",
      "2.8778763977557906\n",
      "2.8775379081100354\n",
      "2.877200487184157\n",
      "2.8768641280096374\n",
      "2.8765288236825706\n",
      "2.8761945673629046\n",
      "2.8758613522736955\n"
     ]
    },
    {
     "name": "stderr",
     "output_type": "stream",
     "text": [
      "\r",
      " 35%|███▌      | 35/100 [01:47<02:56,  2.72s/it]"
     ]
    },
    {
     "name": "stdout",
     "output_type": "stream",
     "text": [
      "2.8755291717003773\n",
      "Epoch 0, Loss 2.87552917432982\n",
      "2.8751980189900257\n",
      "2.8748678875506584\n",
      "2.87453877085052\n",
      "2.874210662417391\n",
      "2.873883555837901\n",
      "2.873557444756859\n",
      "2.8732323228765773\n",
      "2.872908183956223\n",
      "2.8725850218111684\n"
     ]
    },
    {
     "name": "stderr",
     "output_type": "stream",
     "text": [
      "\r",
      " 36%|███▌      | 36/100 [01:49<02:49,  2.64s/it]"
     ]
    },
    {
     "name": "stdout",
     "output_type": "stream",
     "text": [
      "2.872262830312349\n",
      "Epoch 0, Loss 2.87226283301078\n",
      "2.871941603385635\n",
      "2.8716213350112105\n",
      "2.8713020192229592\n",
      "2.8709836501078607\n",
      "2.8706662218053927\n",
      "2.8703497285069433\n",
      "2.870034164455229\n",
      "2.8697195239437248\n",
      "2.869405801316096\n"
     ]
    },
    {
     "name": "stderr",
     "output_type": "stream",
     "text": [
      "\r",
      " 37%|███▋      | 37/100 [01:52<02:45,  2.63s/it]"
     ]
    },
    {
     "name": "stdout",
     "output_type": "stream",
     "text": [
      "2.8690929909656417\n",
      "Epoch 0, Loss 2.8690929937328122\n",
      "2.8687810873347472\n",
      "2.8684700849143363\n",
      "2.868159978243341\n",
      "2.8678507619081683\n",
      "2.867542430542184\n",
      "2.867234978825194\n",
      "2.8669284014829364\n",
      "2.8666226932865855\n",
      "2.8663178490522507\n"
     ]
    },
    {
     "name": "stderr",
     "output_type": "stream",
     "text": [
      "\r",
      " 38%|███▊      | 38/100 [01:55<02:56,  2.85s/it]"
     ]
    },
    {
     "name": "stdout",
     "output_type": "stream",
     "text": [
      "2.8660138636404917\n",
      "Epoch 0, Loss 2.866013866476165\n",
      "2.8657107319558386\n",
      "2.865408448946313\n",
      "2.8651070096029594\n",
      "2.864806408959385\n",
      "2.8645066420912997\n",
      "2.8642077041160654\n",
      "2.863909590192249\n",
      "2.8636122955191867\n",
      "2.8633158153365463\n"
     ]
    },
    {
     "name": "stderr",
     "output_type": "stream",
     "text": [
      "\r",
      " 39%|███▉      | 39/100 [02:00<03:32,  3.48s/it]"
     ]
    },
    {
     "name": "stdout",
     "output_type": "stream",
     "text": [
      "2.8630201449238997\n",
      "Epoch 0, Loss 2.86302014782785\n",
      "2.862725279600302\n",
      "2.8624312147238666\n",
      "2.862137945691364\n",
      "2.861845467937804\n",
      "2.861553776936039\n",
      "2.861262868196366\n",
      "2.860972737266136\n",
      "2.860683379729363\n"
     ]
    },
    {
     "name": "stderr",
     "output_type": "stream",
     "text": [
      "\r",
      " 40%|████      | 40/100 [02:04<03:34,  3.57s/it]"
     ]
    },
    {
     "name": "stdout",
     "output_type": "stream",
     "text": [
      "2.860394791206347\n",
      "2.8601069673532904\n",
      "Epoch 0, Loss 2.8601069703253024\n",
      "2.859819903861931\n",
      "2.8595335964591717\n",
      "2.8592480409067145\n",
      "2.858963233000705\n",
      "2.8586791685713764\n"
     ]
    }
   ],
   "source": [
    "# Run training and plotting for default parameter values as mentioned above\n",
    "t_ac, v_ac, te_ac, weights = train(learning_rate, weight_decay)\n"
   ]
  },
  {
   "cell_type": "code",
   "execution_count": null,
   "metadata": {},
   "outputs": [],
   "source": [
    "plot_accuracies(t_ac, v_ac, te_ac)\n"
   ]
  },
  {
   "cell_type": "markdown",
   "metadata": {},
   "source": [
    "### Try different learning rates and plot graphs for all (20%)\n"
   ]
  },
  {
   "cell_type": "code",
   "execution_count": null,
   "metadata": {},
   "outputs": [],
   "source": [
    "# Initialize the best values\n",
    "best_weights = weights\n",
    "best_learning_rate = learning_rate\n",
    "best_weight_decay = weight_decay\n",
    "best_v_ac = 0.0\n",
    "\n",
    "# TODO\n",
    "# Repeat the above training and evaluation steps for the following learning rates and plot graphs\n",
    "# You need to try 3 learning rates and submit all 3 graphs along with this notebook pdf to show your learning rate experiments\n",
    "learning_rates = []\n",
    "weight_decay = 0.0  # No regularization for now\n",
    "\n",
    "# FEEL FREE TO EXPERIMENT WITH OTHER VALUES. REPORT OTHER VALUES IF THEY ACHIEVE A BETTER PERFORMANCE\n",
    "\n",
    "# for lr in learning_rates: Train the classifier and plot data\n",
    "# Step 1. train_accu, val_accu, test_accu = train(lr, weight_decay)\n",
    "# Step 2. plot_accuracies(train_accu, val_accu, test_accu)\n",
    "\n",
    "learning_rate_info = {}\n",
    "learning_rate_info = {}\n",
    "\n",
    "for learning_rate in learning_rates:\n",
    "    # TODO: Train the classifier with different learning rates and plot\n",
    "    # pass\n",
    "    t_ac, v_ac, te_ac, weights = train(learning_rate, weight_decay)\n",
    "    learning_rate_info[learning_rate] = [t_ac, v_ac, te_ac, weights]\n",
    "    \n",
    "    if best_v_ac < max(v_ac):\n",
    "        best_weights = weights\n",
    "        best_learning_rate = learning_rate\n",
    "        best_weight_decay = weight_decay\n",
    "        best_v_ac = max(v_ac)\n"
   ]
  },
  {
   "cell_type": "code",
   "execution_count": null,
   "metadata": {},
   "outputs": [],
   "source": [
    "for i, learning_rate in enumerate(learning_rates):\n",
    "    t_ac, v_ac, te_ac = learning_rate_info[learning_rate][0], learning_rate_info[learning_rate][1], learning_rate_info[learning_rate][2]\n",
    "    plt.subplot(2, 3, i + 1)\n",
    "    plt.title(\"Learning rate: {}\".format(learning_rate))\n",
    "    plot_accuracies(t_ac, v_ac, te_ac)\n",
    "\n",
    "plt.show()\n"
   ]
  },
  {
   "cell_type": "markdown",
   "metadata": {},
   "source": [
    "#### Inline Question 1.\n",
    "\n",
    "Which one of these learning rates (best_lr) would you pick to train your model? Please Explain why.\n"
   ]
  },
  {
   "cell_type": "markdown",
   "metadata": {},
   "source": [
    "#### Your Answer:\n"
   ]
  },
  {
   "cell_type": "markdown",
   "metadata": {},
   "source": [
    "### Regularization: Try different weight decay and plots graphs for all (20%)\n"
   ]
  },
  {
   "cell_type": "code",
   "execution_count": null,
   "metadata": {},
   "outputs": [],
   "source": [
    "# Initialize a non-zero weight_decay (Regularization constant) term and repeat the training and evaluation\n",
    "# Use the best learning rate as obtained from the above exercise, best_lr\n",
    "\n",
    "# You need to try 3 learning rates and submit all 3 graphs along with this notebook pdf to show your weight decay experiments\n",
    "weight_decays = [0.0001, 0.001, 0.01]\n",
    "\n",
    "# FEEL FREE TO EXPERIMENT WITH OTHER VALUES. REPORT OTHER VALUES IF THEY ACHIEVE A BETTER PERFORMANCE\n",
    "\n",
    "# for weight_decay in weight_decays: Train the classifier and plot data\n",
    "# Step 1. train_accu, val_accu, test_accu = train(best_lr, weight_decay)\n",
    "# Step 2. plot_accuracies(train_accu, val_accu, test_accu)\n",
    "\n",
    "weight_decay_info = {}\n",
    "\n",
    "for weight_decay in weight_decays:\n",
    "    # TODO: Train the classifier with different weighty decay and plot\n",
    "    # pass\n",
    "    t_ac, v_ac, te_ac, weights = train(best_learning_rate, weight_decay)\n",
    "    weight_decay_info[weight_decay] = [t_ac, v_ac, te_ac, weights]\n",
    "    \n",
    "    if best_v_ac < max(v_ac):\n",
    "        best_weights = weights\n",
    "        best_learning_rate = learning_rate\n",
    "        best_weight_decay = weight_decay\n",
    "        best_v_ac = max(v_ac)\n",
    "                                       "
   ]
  },
  {
   "cell_type": "code",
   "execution_count": null,
   "metadata": {},
   "outputs": [],
   "source": [
    "for i, weight_decay in enumerate(weight_decays):\n",
    "    t_ac, v_ac, te_ac = weight_decay_info[weight_decay][0], weight_decay_info[weight_decay][1], weight_decay_info[weight_decay][2]\n",
    "    plt.subplot(2, 3, i + 1)\n",
    "    plt.title(\"Weight decay: {}\".format(weight_decay))\n",
    "    plot_accuracies(t_ac, v_ac, te_ac)\n",
    "\n",
    "plt.show()"
   ]
  },
  {
   "cell_type": "markdown",
   "metadata": {},
   "source": [
    "#### Inline Question 2.\n",
    "\n",
    "Discuss underfitting and overfitting as observed in the 5 graphs obtained by changing the regularization.\n",
    "Which weight_decay term gave you the best classifier performance?\n",
    "HINT: Do not just think in terms of best training set performance, keep in mind that the real utility of a machine learning model is when it performs well on data it has never seen before\n"
   ]
  },
  {
   "cell_type": "markdown",
   "metadata": {},
   "source": [
    "#### Your Answer:\n"
   ]
  },
  {
   "cell_type": "markdown",
   "metadata": {},
   "source": [
    "### Visualize the filters (10%)\n"
   ]
  },
  {
   "cell_type": "code",
   "execution_count": null,
   "metadata": {},
   "outputs": [],
   "source": [
    "# These visualizations will only somewhat make sense if your learning rate and weight_decay parameters were\n",
    "# properly chosen in the model. Do your best.\n",
    "\n",
    "# TODO: Run this cell and Show filter visualizations for the best set of weights you obtain.\n",
    "# Report the 2 hyperparameters you used to obtain the best model.\n",
    "\n",
    "# NOTE: You need to set `best_learning_rate` and `best_weight_decay` to the values that gave the highest accuracy\n",
    "print(\"Best LR:\", best_learning_rate)\n",
    "print(\"Best Weight Decay:\", best_weight_decay)\n",
    "\n",
    "# NOTE: You need to set `best_weights` to the weights with the highest accuracy\n",
    "w = best_weights[:, :-1]\n",
    "w = w.reshape(10, 3, 32, 32).transpose(0, 2, 3, 1)\n",
    "\n",
    "w_min, w_max = np.min(w), np.max(w)\n",
    "\n",
    "fig = plt.figure(figsize=(16, 16))\n",
    "classes = [\n",
    "    \"plane\",\n",
    "    \"car\",\n",
    "    \"bird\",\n",
    "    \"cat\",\n",
    "    \"deer\",\n",
    "    \"dog\",\n",
    "    \"frog\",\n",
    "    \"horse\",\n",
    "    \"ship\",\n",
    "    \"truck\",\n",
    "]\n",
    "for i in range(10):\n",
    "    fig.add_subplot(2, 5, i + 1)\n",
    "\n",
    "    # Rescale the weights to be between 0 and 255\n",
    "    wimg = 255.0 * (w[i, :, :, :].squeeze() - w_min) / (w_max - w_min)\n",
    "    plt.imshow(wimg.astype(int))\n",
    "    plt.axis(\"off\")\n",
    "    plt.title(classes[i])\n",
    "plt.show()\n"
   ]
  },
  {
   "cell_type": "markdown",
   "metadata": {},
   "source": [
    "#### Inline Question 3. (10%)\n",
    "\n",
    "a. Compare and contrast the performance of the 2 classifiers i.e. Linear Regression and Logistic Regression.\n",
    "b. Which classifier would you deploy for your multiclass classification project and why?\n"
   ]
  },
  {
   "cell_type": "markdown",
   "metadata": {},
   "source": [
    "#### Your Answer:\n"
   ]
  }
 ],
 "metadata": {
  "kernelspec": {
   "display_name": "Python 3 (ipykernel)",
   "language": "python",
   "name": "python3"
  },
  "language_info": {
   "codemirror_mode": {
    "name": "ipython",
    "version": 3
   },
   "file_extension": ".py",
   "mimetype": "text/x-python",
   "name": "python",
   "nbconvert_exporter": "python",
   "pygments_lexer": "ipython3",
   "version": "3.9.5"
  }
 },
 "nbformat": 4,
 "nbformat_minor": 4
}
