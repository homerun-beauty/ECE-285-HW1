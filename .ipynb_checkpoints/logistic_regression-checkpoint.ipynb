{
 "cells": [
  {
   "cell_type": "markdown",
   "metadata": {},
   "source": [
    "# ECE 285 Assignment 1: Logistic Regression\n",
    "\n",
    "For this part of assignment, you are tasked to implement a logistic regression algorithm for multiclass classification and test it on the CIFAR10 dataset.\n",
    "\n",
    "You sould run the whole notebook and answer the questions in the notebook.\n",
    "\n",
    "TO SUBMIT: PDF of this notebook with all the required outputs and answers.\n"
   ]
  },
  {
   "cell_type": "code",
   "execution_count": 1,
   "metadata": {
    "scrolled": true
   },
   "outputs": [
    {
     "name": "stdout",
     "output_type": "stream",
     "text": [
      "dict_keys(['x_train', 'y_train', 'x_val', 'y_val', 'x_test', 'y_test'])\n",
      "Training Set Data  Shape:  (5000, 3072)\n",
      "Training Set Label Shape:  (5000,)\n",
      "Validation Set Data  Shape:  (250, 3072)\n",
      "Validation Set Label Shape:  (250,)\n",
      "Test Set Data  Shape:  (500, 3072)\n",
      "Test Set Label Shape:  (500,)\n"
     ]
    }
   ],
   "source": [
    "# Prepare Packages\n",
    "import numpy as np\n",
    "import matplotlib.pyplot as plt\n",
    "from tqdm import tqdm\n",
    "\n",
    "from ece285.utils.data_processing import get_cifar10_data\n",
    "\n",
    "# Use a subset of CIFAR10 for KNN assignments\n",
    "dataset = get_cifar10_data(\n",
    "    subset_train=5000,\n",
    "    subset_val=250,\n",
    "    subset_test=500,\n",
    ")\n",
    "\n",
    "print(dataset.keys())\n",
    "print(\"Training Set Data  Shape: \", dataset[\"x_train\"].shape)\n",
    "print(\"Training Set Label Shape: \", dataset[\"y_train\"].shape)\n",
    "print(\"Validation Set Data  Shape: \", dataset[\"x_val\"].shape)\n",
    "print(\"Validation Set Label Shape: \", dataset[\"y_val\"].shape)\n",
    "print(\"Test Set Data  Shape: \", dataset[\"x_test\"].shape)\n",
    "print(\"Test Set Label Shape: \", dataset[\"y_test\"].shape)\n"
   ]
  },
  {
   "cell_type": "markdown",
   "metadata": {},
   "source": [
    "# Logistic Regression for multi-class classification\n"
   ]
  },
  {
   "cell_type": "markdown",
   "metadata": {},
   "source": [
    "A Logistic Regression Algorithm has 3 hyperparameters that you can experiment with:\n",
    "\n",
    "- **Learning rate** - controls how much we change the current weights of the classifier during each update. We set it at a default value of 0.5, and later you are asked to experiment with different values. We recommend looking at the graphs and observing how the performance of the classifier changes with different learning rate.\n",
    "- **Number of Epochs** - An epoch is a complete iterative pass over all of the data in the dataset. During an epoch we predict a label using the classifier and then update the weights of the classifier according the linear classifier update rule for each sample in the training set. We evaluate our models after every 10 epochs and save the accuracies, which are later used to plot the training, validation and test VS epoch curves.\n",
    "- **Weight Decay** - Regularization can be used to constrain the weights of the classifier and prevent their values from blowing up. Regularization helps in combatting overfitting. You will be using the 'weight_decay' term to introduce regularization in the classifier.\n",
    "\n",
    "The only way how a Logistic Regression based classification algorithm is different from a Linear Regression algorithm is that in the former we additionally pass the classifier outputs into a sigmoid function which squashes the output in the (0,1) range. Essentially these values then represent the probabilities of that sample belonging to class particular classes\n"
   ]
  },
  {
   "cell_type": "markdown",
   "metadata": {},
   "source": [
    "### Implementation (40%)\n",
    "\n",
    "You need to implement the Linear Regression method in `algorithms/logistic_regression.py`. You need to fill in the sigmoid function, training function as well as the prediction function.\n"
   ]
  },
  {
   "cell_type": "code",
   "execution_count": 40,
   "metadata": {},
   "outputs": [],
   "source": [
    "# Import the algorithm implementation (TODO: Complete the Logistic Regression in algorithms/logistic_regression.py)\n",
    "from ece285.algorithms import Logistic\n",
    "from ece285.utils.evaluation import get_classification_accuracy\n",
    "\n",
    "num_classes = 10  # Cifar10 dataset has 10 different classes\n",
    "\n",
    "# Initialize hyper-parameters\n",
    "learning_rate = 0.01  # You will be later asked to experiment with different learning rates and report results\n",
    "num_epochs_total = 1000  # Total number of epochs to train the classifier\n",
    "epochs_per_evaluation = 10  # Epochs per step of evaluation; We will evaluate our model regularly during training\n",
    "N, D = dataset[\n",
    "    \"x_train\"\n",
    "].shape  # Get training data shape, N: Number of examples, D:Dimensionality of the data\n",
    "weight_decay = 0.00002\n",
    "\n",
    "x_train = dataset[\"x_train\"].copy()\n",
    "y_train = dataset[\"y_train\"].copy()\n",
    "x_val = dataset[\"x_val\"].copy()\n",
    "y_val = dataset[\"y_val\"].copy()\n",
    "x_test = dataset[\"x_test\"].copy()\n",
    "y_test = dataset[\"y_test\"].copy()\n",
    "\n",
    "# Insert additional scalar term 1 in the samples to account for the bias as discussed in class\n",
    "x_train = np.insert(x_train, D, values=1, axis=1)\n",
    "x_val = np.insert(x_val, D, values=1, axis=1)\n",
    "x_test = np.insert(x_test, D, values=1, axis=1)"
   ]
  },
  {
   "cell_type": "code",
   "execution_count": 41,
   "metadata": {},
   "outputs": [],
   "source": [
    "# Training and evaluation function -> Outputs accuracy data\n",
    "def train(learning_rate_, weight_decay_):\n",
    "    # Create a linear regression object\n",
    "    logistic_regression = Logistic(\n",
    "        num_classes, learning_rate_, epochs_per_evaluation, weight_decay_\n",
    "    )\n",
    "\n",
    "    # Randomly initialize the weights and biases\n",
    "    weights = np.random.randn(num_classes, D + 1) * 0.0001\n",
    "\n",
    "    train_accuracies, val_accuracies, test_accuracies = [], [], []\n",
    "\n",
    "    # Train the classifier\n",
    "    for _ in tqdm(range(int(num_epochs_total / epochs_per_evaluation))):\n",
    "        # Train the classifier on the training data\n",
    "        weights = logistic_regression.train(x_train, y_train, weights)\n",
    "\n",
    "        # Evaluate the trained classifier on the training dataset\n",
    "        y_pred_train = logistic_regression.predict(x_train)\n",
    "        train_accuracies.append(get_classification_accuracy(y_pred_train, y_train))\n",
    "\n",
    "        # Evaluate the trained classifier on the validation dataset\n",
    "        y_pred_val = logistic_regression.predict(x_val)\n",
    "        val_accuracies.append(get_classification_accuracy(y_pred_val, y_val))\n",
    "\n",
    "        # Evaluate the trained classifier on the test dataset\n",
    "        y_pred_test = logistic_regression.predict(x_test)\n",
    "        test_accuracies.append(get_classification_accuracy(y_pred_test, y_test))\n",
    "\n",
    "    return train_accuracies, val_accuracies, test_accuracies, weights\n"
   ]
  },
  {
   "cell_type": "code",
   "execution_count": 4,
   "metadata": {},
   "outputs": [],
   "source": [
    "import matplotlib.pyplot as plt\n",
    "\n",
    "\n",
    "def plot_accuracies(train_acc, val_acc, test_acc):\n",
    "    # Plot Accuracies vs Epochs graph for all the three\n",
    "    epochs = np.arange(0, int(num_epochs_total / epochs_per_evaluation))\n",
    "    plt.ylabel(\"Accuracy\")\n",
    "    plt.xlabel(\"Epoch/10\")\n",
    "    plt.plot(epochs, train_acc, epochs, val_acc, epochs, test_acc)\n",
    "    plt.legend([\"Training\", \"Validation\", \"Testing\"])\n",
    "    plt.show()\n"
   ]
  },
  {
   "cell_type": "code",
   "execution_count": 5,
   "metadata": {},
   "outputs": [
    {
     "name": "stderr",
     "output_type": "stream",
     "text": [
      "\r",
      "  0%|          | 0/100 [00:00<?, ?it/s]"
     ]
    },
    {
     "name": "stdout",
     "output_type": "stream",
     "text": [
      "6.932540087676567\n",
      "Epoch 0, Loss 6.932540087677183\n",
      "3.5165692053317223\n",
      "3.418425409793438\n",
      "3.379101394425952\n",
      "3.361897844478\n",
      "3.3509052760428744\n",
      "3.3415730152166385\n",
      "3.3328384018436554\n",
      "3.324462884507205\n",
      "3.3163857671051002\n"
     ]
    },
    {
     "name": "stderr",
     "output_type": "stream",
     "text": [
      "\r",
      "  1%|          | 1/100 [00:02<04:33,  2.76s/it]"
     ]
    },
    {
     "name": "stdout",
     "output_type": "stream",
     "text": [
      "3.308584202611597\n",
      "Epoch 0, Loss 3.3085842027676953\n",
      "3.301043767757864\n",
      "3.29375227560423\n",
      "3.286698448162124\n",
      "3.2798716142692306\n",
      "3.273261627239394\n",
      "3.2668588307396527\n",
      "3.260654035657196\n",
      "3.2546384996934883\n",
      "3.2488039078298483\n"
     ]
    },
    {
     "name": "stderr",
     "output_type": "stream",
     "text": [
      "\r",
      "  2%|▏         | 2/100 [00:05<04:27,  2.73s/it]"
     ]
    },
    {
     "name": "stdout",
     "output_type": "stream",
     "text": [
      "3.2431423532717574\n",
      "Epoch 0, Loss 3.2431423534727375\n",
      "3.237646318823736\n",
      "3.232308658726343\n",
      "3.2271225810001427\n",
      "3.2220816303373736\n",
      "3.217179671573519\n",
      "3.2124108737620802\n",
      "3.207769694867507\n",
      "3.2032508670839546\n",
      "3.1988493827813627\n"
     ]
    },
    {
     "name": "stderr",
     "output_type": "stream",
     "text": [
      "\r",
      "  3%|▎         | 3/100 [00:08<04:23,  2.72s/it]"
     ]
    },
    {
     "name": "stdout",
     "output_type": "stream",
     "text": [
      "3.1945604810750643\n",
      "Epoch 0, Loss 3.1945604813360906\n",
      "3.1903796350108906\n",
      "3.1863025393541786\n",
      "3.182325098968354\n",
      "3.178443417766507\n",
      "3.174653788217783\n",
      "3.1709526813891773\n",
      "3.1673367375024783\n",
      "3.163802756985636\n",
      "3.16034769199756\n"
     ]
    },
    {
     "name": "stderr",
     "output_type": "stream",
     "text": [
      "\r",
      "  4%|▍         | 4/100 [00:10<04:23,  2.74s/it]"
     ]
    },
    {
     "name": "stdout",
     "output_type": "stream",
     "text": [
      "3.156968638405354\n",
      "Epoch 0, Loss 3.1569686387348956\n",
      "3.1536628281931547\n",
      "3.150427622282046\n",
      "3.1472605037409735\n",
      "3.144159071369079\n",
      "3.141121033630473\n",
      "3.138144202923139\n",
      "3.1352264901642855\n",
      "3.132365899675222\n",
      "3.1295605243495275\n"
     ]
    },
    {
     "name": "stderr",
     "output_type": "stream",
     "text": [
      "\r",
      "  5%|▌         | 5/100 [00:14<04:41,  2.97s/it]"
     ]
    },
    {
     "name": "stdout",
     "output_type": "stream",
     "text": [
      "3.12680854108899\n",
      "Epoch 0, Loss 3.126808541491828\n",
      "3.124108206492551\n",
      "3.1214578527841517\n",
      "3.1188558839661176\n",
      "3.1163007721853657\n",
      "3.113791054300396\n",
      "3.111325328637651\n",
      "3.1089022519264606\n",
      "3.1065205364023503\n",
      "3.1041789470690886\n"
     ]
    },
    {
     "name": "stderr",
     "output_type": "stream",
     "text": [
      "\r",
      "  6%|▌         | 6/100 [00:17<04:41,  2.99s/it]"
     ]
    },
    {
     "name": "stdout",
     "output_type": "stream",
     "text": [
      "3.101876299110355\n",
      "Epoch 0, Loss 3.1018762995891733\n",
      "3.099611455442449\n",
      "3.0973833243999325\n",
      "3.095190857546573\n",
      "3.093033047604387\n",
      "3.090908926494005\n",
      "3.0888175634799806\n",
      "3.0867580634150156\n",
      "3.0847295650774558\n",
      "3.0827312395967277\n"
     ]
    },
    {
     "name": "stderr",
     "output_type": "stream",
     "text": [
      "\r",
      "  7%|▋         | 7/100 [00:21<05:03,  3.26s/it]"
     ]
    },
    {
     "name": "stdout",
     "output_type": "stream",
     "text": [
      "3.080762288961696\n",
      "Epoch 0, Loss 3.080762289517957\n",
      "3.078821944607237\n",
      "3.0769094660745764\n",
      "3.0750241397412226\n",
      "3.0731652776165657\n",
      "3.071332216199438\n",
      "3.06952431539417\n",
      "3.0677409574818557\n",
      "3.0659815461437536\n",
      "3.0642455055339233\n"
     ]
    },
    {
     "name": "stderr",
     "output_type": "stream",
     "text": [
      "\r",
      "  8%|▊         | 8/100 [00:24<05:03,  3.30s/it]"
     ]
    },
    {
     "name": "stdout",
     "output_type": "stream",
     "text": [
      "3.062532279398374\n",
      "Epoch 0, Loss 3.06253228003281\n",
      "3.0608413302381443\n",
      "3.0591721385139174\n",
      "3.0575242018898723\n",
      "3.0558970345146528\n",
      "3.054290166337413\n",
      "3.0527031424570605\n",
      "3.0511355225028907\n",
      "3.0495868800449415\n",
      "3.0480568020324625\n"
     ]
    },
    {
     "name": "stderr",
     "output_type": "stream",
     "text": [
      "\r",
      "  9%|▉         | 9/100 [00:27<04:51,  3.21s/it]"
     ]
    },
    {
     "name": "stdout",
     "output_type": "stream",
     "text": [
      "3.046544888259015\n",
      "Epoch 0, Loss 3.0465448889719102\n",
      "3.0450507508527904\n",
      "3.0435740137908036\n",
      "3.0421143124357224\n",
      "3.040671293094142\n",
      "3.0392446125951857\n",
      "3.037833937888387\n",
      "3.0364389456598477\n",
      "3.0350593219657473\n",
      "3.033694761882303\n"
     ]
    },
    {
     "name": "stderr",
     "output_type": "stream",
     "text": [
      "\r",
      " 10%|█         | 10/100 [00:29<04:20,  2.90s/it]"
     ]
    },
    {
     "name": "stdout",
     "output_type": "stream",
     "text": [
      "3.0323449691713584\n",
      "Epoch 0, Loss 3.0323449699627183\n",
      "3.0310096559607986\n",
      "3.029688542439053\n",
      "3.0283813565629796\n",
      "3.027087833778462\n",
      "3.0258077167530835\n",
      "3.024540755120299\n",
      "3.0232867052345256\n",
      "3.0220453299366175\n",
      "3.0208163983292433\n"
     ]
    },
    {
     "name": "stderr",
     "output_type": "stream",
     "text": [
      "\r",
      " 11%|█         | 11/100 [00:33<04:42,  3.17s/it]"
     ]
    },
    {
     "name": "stdout",
     "output_type": "stream",
     "text": [
      "3.0195996855616505\n",
      "Epoch 0, Loss 3.0195996864313033\n",
      "3.0183949726234065\n",
      "3.017202046146656\n",
      "3.0160206982165048\n",
      "3.014850726189142\n",
      "3.0136919325173417\n",
      "3.0125441245829854\n",
      "3.011407114536297\n",
      "3.0102807191414667\n",
      "3.0091647596283706\n"
     ]
    },
    {
     "name": "stderr",
     "output_type": "stream",
     "text": [
      "\r",
      " 12%|█▏        | 12/100 [00:36<04:37,  3.15s/it]"
     ]
    },
    {
     "name": "stdout",
     "output_type": "stream",
     "text": [
      "3.008059061550118\n",
      "Epoch 0, Loss 3.0080590624977797\n",
      "3.006963454646144\n",
      "3.005877772710613\n",
      "3.004801853465885\n",
      "3.0037355384408153\n",
      "3.002678672853684\n",
      "3.0016311054995404\n",
      "3.0005926886417726\n",
      "2.999563277907709\n",
      "2.9985427321880986\n"
     ]
    },
    {
     "name": "stderr",
     "output_type": "stream",
     "text": [
      "\r",
      " 13%|█▎        | 13/100 [00:40<04:42,  3.24s/it]"
     ]
    },
    {
     "name": "stdout",
     "output_type": "stream",
     "text": [
      "2.997530913540266\n",
      "Epoch 0, Loss 2.9975309145655795\n",
      "2.9965276870948276\n",
      "2.99553292096577\n",
      "2.9945464861637894\n",
      "2.993568256512722\n",
      "2.992598108568959\n",
      "2.9916359215437023\n",
      "2.990681577227958\n",
      "2.989734959920147\n"
     ]
    },
    {
     "name": "stderr",
     "output_type": "stream",
     "text": [
      "\r",
      " 14%|█▍        | 14/100 [00:42<04:28,  3.12s/it]"
     ]
    },
    {
     "name": "stdout",
     "output_type": "stream",
     "text": [
      "2.9887959563562236\n",
      "2.9878644556422054\n",
      "Epoch 0, Loss 2.98786445674477\n",
      "2.986940349189013\n",
      "2.9860235306495246\n",
      "2.985113895857765\n",
      "2.9842113427701262\n",
      "2.9833157714085656\n",
      "2.982427083805674\n",
      "2.9815451839515617\n",
      "2.9806699777424863\n",
      "2.9798013729311443\n"
     ]
    },
    {
     "name": "stderr",
     "output_type": "stream",
     "text": [
      "\r",
      " 15%|█▌        | 15/100 [00:45<03:59,  2.82s/it]"
     ]
    },
    {
     "name": "stdout",
     "output_type": "stream",
     "text": [
      "2.978939279078586\n",
      "Epoch 0, Loss 2.978939280257973\n",
      "2.9780836075076556\n",
      "2.97723427125794\n",
      "2.9763911850421305\n",
      "2.9755542652037783\n",
      "2.97472342967636\n",
      "2.9738985979436263\n",
      "2.9730796910011854\n",
      "2.9722666313192563\n",
      "2.9714593428065723\n"
     ]
    },
    {
     "name": "stderr",
     "output_type": "stream",
     "text": [
      "\r",
      " 16%|█▌        | 16/100 [00:47<03:56,  2.81s/it]"
     ]
    },
    {
     "name": "stdout",
     "output_type": "stream",
     "text": [
      "2.970657750775382\n",
      "Epoch 0, Loss 2.970657752031147\n",
      "2.9698617819075017\n",
      "2.9690713642214006\n",
      "2.968286427040258\n",
      "2.9675069009609794\n",
      "2.966732717824119\n",
      "2.965963810684693\n",
      "2.9652001137838417\n",
      "2.964441562521312\n",
      "2.963688093428741\n"
     ]
    },
    {
     "name": "stderr",
     "output_type": "stream",
     "text": [
      "\r",
      " 17%|█▋        | 17/100 [00:52<04:47,  3.46s/it]"
     ]
    },
    {
     "name": "stdout",
     "output_type": "stream",
     "text": [
      "2.962939644143696\n",
      "Epoch 0, Loss 2.962939645475388\n",
      "2.9621961533844674\n",
      "2.9614575609255627\n",
      "2.960723807573907\n",
      "2.9599948351456953\n",
      "2.9592705864439046\n",
      "2.9585510052364192\n",
      "2.957836036234765\n",
      "2.9571256250734255\n",
      "2.9564197182897196\n"
     ]
    },
    {
     "name": "stderr",
     "output_type": "stream",
     "text": [
      "\r",
      " 18%|█▊        | 18/100 [00:55<04:32,  3.33s/it]"
     ]
    },
    {
     "name": "stdout",
     "output_type": "stream",
     "text": [
      "2.955718263304231\n",
      "Epoch 0, Loss 2.9557182647113973\n",
      "2.955021208401759\n",
      "2.9543285027127837\n",
      "2.9536400961954277\n",
      "2.9529559396178913\n",
      "2.952275984541357\n",
      "2.9516001833033387\n",
      "2.9509284890014666\n",
      "2.9502608554776963\n",
      "2.949597237302924\n"
     ]
    },
    {
     "name": "stderr",
     "output_type": "stream",
     "text": [
      "\r",
      " 19%|█▉        | 19/100 [00:58<04:24,  3.26s/it]"
     ]
    },
    {
     "name": "stdout",
     "output_type": "stream",
     "text": [
      "2.948937589761995\n",
      "Epoch 0, Loss 2.9489375912441864\n",
      "2.9482818688391\n",
      "2.9476300312035373\n",
      "2.946982034195843\n",
      "2.9463378358142642\n",
      "2.9456973947015737\n",
      "2.9450606701322113\n",
      "2.9444276219997456\n",
      "2.9437982108046508\n"
     ]
    },
    {
     "name": "stderr",
     "output_type": "stream",
     "text": [
      "\r",
      " 20%|██        | 20/100 [01:02<04:33,  3.42s/it]"
     ]
    },
    {
     "name": "stdout",
     "output_type": "stream",
     "text": [
      "2.943172397642368\n",
      "2.9425501441916753\n",
      "Epoch 0, Loss 2.9425501457484473\n",
      "2.941931412703333\n",
      "2.941316165989\n",
      "2.940704367410423\n",
      "2.9400959808688847\n",
      "2.939490970794895\n",
      "2.9388893021381426\n",
      "2.9382909403576636\n",
      "2.937695851412258\n",
      "2.937104001751125\n"
     ]
    },
    {
     "name": "stderr",
     "output_type": "stream",
     "text": [
      "\r",
      " 21%|██        | 21/100 [01:05<04:17,  3.26s/it]"
     ]
    },
    {
     "name": "stdout",
     "output_type": "stream",
     "text": [
      "2.9365153583047086\n",
      "Epoch 0, Loss 2.9365153599356253\n",
      "2.9359298884757687\n",
      "2.935347560130648\n",
      "2.93476834159074\n",
      "2.9341922016241613\n",
      "2.933619109437597\n",
      "2.933049034668346\n",
      "2.9324819473765382\n",
      "2.9319178180375247\n",
      "2.9313566175344423\n"
     ]
    },
    {
     "name": "stderr",
     "output_type": "stream",
     "text": [
      "\r",
      " 22%|██▏       | 22/100 [01:08<04:13,  3.25s/it]"
     ]
    },
    {
     "name": "stdout",
     "output_type": "stream",
     "text": [
      "2.9307983171509404\n",
      "Epoch 0, Loss 2.9307983188555755\n",
      "2.930242888564069\n",
      "2.9296903038373245\n",
      "2.9291405354138487\n",
      "2.9285935561097696\n",
      "2.928049339107697\n",
      "2.9275078579503533\n",
      "2.926969086534337\n",
      "2.9264329991040303\n",
      "2.9258995702456287\n"
     ]
    },
    {
     "name": "stderr",
     "output_type": "stream",
     "text": [
      "\r",
      " 23%|██▎       | 23/100 [01:11<03:52,  3.02s/it]"
     ]
    },
    {
     "name": "stdout",
     "output_type": "stream",
     "text": [
      "2.9253687748812993\n",
      "Epoch 0, Loss 2.9253687766592362\n",
      "2.9248405882634647\n",
      "2.924314985969207\n",
      "2.9237919438947846\n",
      "2.923271438250271\n",
      "2.922753445554299\n",
      "2.922237942628917\n",
      "2.9217249065945503\n",
      "2.9212143148650673\n",
      "2.9207061451429417\n"
     ]
    },
    {
     "name": "stderr",
     "output_type": "stream",
     "text": [
      "\r",
      " 24%|██▍       | 24/100 [01:14<03:53,  3.08s/it]"
     ]
    },
    {
     "name": "stdout",
     "output_type": "stream",
     "text": [
      "2.920200375414521\n",
      "Epoch 0, Loss 2.9202003772653544\n",
      "2.919696983945387\n",
      "2.919195949275806\n",
      "2.9186972502162782\n",
      "2.9182008658431724\n",
      "2.9177067754944455\n",
      "2.917214958765453\n",
      "2.916725395504836\n",
      "2.916238065810497\n",
      "2.915752950025643\n"
     ]
    },
    {
     "name": "stderr",
     "output_type": "stream",
     "text": [
      "\r",
      " 25%|██▌       | 25/100 [01:17<03:53,  3.11s/it]"
     ]
    },
    {
     "name": "stdout",
     "output_type": "stream",
     "text": [
      "2.9152700287349207\n",
      "Epoch 0, Loss 2.9152700306582573\n",
      "2.914789282760614\n",
      "2.9143106931589244\n",
      "2.9138342412163167\n",
      "2.91335990844594\n",
      "2.9128876765841167\n",
      "2.9124175275868924\n",
      "2.911949443626661\n",
      "2.9114834070888485\n",
      "2.9110194005686574\n"
     ]
    },
    {
     "name": "stderr",
     "output_type": "stream",
     "text": [
      "\r",
      " 26%|██▌       | 26/100 [01:21<04:05,  3.32s/it]"
     ]
    },
    {
     "name": "stdout",
     "output_type": "stream",
     "text": [
      "2.910557406867879\n",
      "Epoch 0, Loss 2.9105574088633372\n",
      "2.910097408991756\n",
      "2.9096393901459163\n",
      "2.9091833337333504\n",
      "2.9087292233514543\n",
      "2.9082770427891247\n",
      "2.907826776023904\n",
      "2.907378407219181\n",
      "2.9069319207214446\n",
      "2.906487301057583\n"
     ]
    },
    {
     "name": "stderr",
     "output_type": "stream",
     "text": [
      "\r",
      " 27%|██▋       | 27/100 [01:24<03:53,  3.19s/it]"
     ]
    },
    {
     "name": "stdout",
     "output_type": "stream",
     "text": [
      "2.906044532932233\n",
      "Epoch 0, Loss 2.9060445349994444\n",
      "2.905603601225181\n",
      "2.905164490988805\n",
      "2.9047271874455656\n",
      "2.904291675985543\n",
      "2.903857942164016\n",
      "2.9034259716990847\n",
      "2.902995750469329\n",
      "2.902567264511526\n",
      "2.9021405000183838\n"
     ]
    },
    {
     "name": "stderr",
     "output_type": "stream",
     "text": [
      "\r",
      " 28%|██▊       | 28/100 [01:27<03:54,  3.25s/it]"
     ]
    },
    {
     "name": "stdout",
     "output_type": "stream",
     "text": [
      "2.9017154433363337\n",
      "Epoch 0, Loss 2.901715445474941\n",
      "2.9012920809633496\n",
      "2.9008703995468146\n",
      "2.900450385881415\n",
      "2.9000320269070783\n",
      "2.8996153097069395\n",
      "2.8992002215053496\n",
      "2.8987867496659163\n",
      "2.89837488168957\n",
      "2.897964605212675\n"
     ]
    },
    {
     "name": "stderr",
     "output_type": "stream",
     "text": [
      "\r",
      " 29%|██▉       | 29/100 [01:30<03:45,  3.18s/it]"
     ]
    },
    {
     "name": "stdout",
     "output_type": "stream",
     "text": [
      "2.897555908005163\n",
      "Epoch 0, Loss 2.8975559102148227\n",
      "2.897148777968706\n",
      "2.8967432031349096\n",
      "2.896339171663547\n",
      "2.8959366718408166\n",
      "2.895535692077627\n",
      "2.89513622090792\n",
      "2.894738246987006\n",
      "2.8943417590899436\n",
      "2.893946746109929\n"
     ]
    },
    {
     "name": "stderr",
     "output_type": "stream",
     "text": [
      "\r",
      " 30%|███       | 30/100 [01:33<03:40,  3.15s/it]"
     ]
    },
    {
     "name": "stdout",
     "output_type": "stream",
     "text": [
      "2.8935531970567285\n",
      "Epoch 0, Loss 2.893553199337109\n",
      "2.893161101055123\n",
      "2.892770447343382\n",
      "2.8923812252717718\n",
      "2.8919934243010648\n",
      "2.891607034001103\n",
      "2.891222044049356\n",
      "2.890838444229524\n",
      "2.890456224430147\n",
      "2.8900753746432475\n"
     ]
    },
    {
     "name": "stderr",
     "output_type": "stream",
     "text": [
      "\r",
      " 31%|███       | 31/100 [01:36<03:33,  3.10s/it]"
     ]
    },
    {
     "name": "stdout",
     "output_type": "stream",
     "text": [
      "2.8896958849629883\n",
      "Epoch 0, Loss 2.8896958873137706\n",
      "2.889317745584354\n",
      "2.8889409468018528\n",
      "2.8885654790082347\n",
      "2.888191332693241\n",
      "2.887818498442358\n",
      "2.887446966935604\n",
      "2.8870767289463255\n",
      "2.886707775340014\n",
      "2.8863400970731483\n"
     ]
    },
    {
     "name": "stderr",
     "output_type": "stream",
     "text": [
      "\r",
      " 32%|███▏      | 32/100 [01:39<03:24,  3.01s/it]"
     ]
    },
    {
     "name": "stdout",
     "output_type": "stream",
     "text": [
      "2.885973685192042\n",
      "Epoch 0, Loss 2.8859736876129194\n",
      "2.8856085308317208\n",
      "2.8852446252148085\n",
      "2.8848819596504343\n",
      "2.884520525533152\n",
      "2.884160314341886\n",
      "2.8838013176388797\n",
      "2.8834435270686662\n",
      "2.883086934357061\n",
      "2.882731531310155\n"
     ]
    },
    {
     "name": "stderr",
     "output_type": "stream",
     "text": [
      "\r",
      " 33%|███▎      | 33/100 [01:42<03:08,  2.81s/it]"
     ]
    },
    {
     "name": "stdout",
     "output_type": "stream",
     "text": [
      "2.8823773098133363\n",
      "Epoch 0, Loss 2.882377312304014\n",
      "2.8820242618303165\n",
      "2.8816723794021804\n",
      "2.8813216546464404\n",
      "2.880972079756116\n",
      "2.8806236469988105\n",
      "2.8802763487158236\n",
      "2.879930177321253\n",
      "2.879585125301128\n"
     ]
    },
    {
     "name": "stderr",
     "output_type": "stream",
     "text": [
      "\r",
      " 34%|███▍      | 34/100 [01:44<02:59,  2.72s/it]"
     ]
    },
    {
     "name": "stdout",
     "output_type": "stream",
     "text": [
      "2.8792411852125475\n",
      "2.878898349682825\n",
      "Epoch 0, Loss 2.8788983522430205\n",
      "2.8785566114086625\n",
      "2.8782159631553164\n",
      "2.8778763977557906\n",
      "2.8775379081100354\n",
      "2.877200487184157\n",
      "2.8768641280096374\n",
      "2.8765288236825706\n",
      "2.8761945673629046\n",
      "2.8758613522736955\n"
     ]
    },
    {
     "name": "stderr",
     "output_type": "stream",
     "text": [
      "\r",
      " 35%|███▌      | 35/100 [01:47<02:56,  2.72s/it]"
     ]
    },
    {
     "name": "stdout",
     "output_type": "stream",
     "text": [
      "2.8755291717003773\n",
      "Epoch 0, Loss 2.87552917432982\n",
      "2.8751980189900257\n",
      "2.8748678875506584\n",
      "2.87453877085052\n",
      "2.874210662417391\n",
      "2.873883555837901\n",
      "2.873557444756859\n",
      "2.8732323228765773\n",
      "2.872908183956223\n",
      "2.8725850218111684\n"
     ]
    },
    {
     "name": "stderr",
     "output_type": "stream",
     "text": [
      "\r",
      " 36%|███▌      | 36/100 [01:49<02:49,  2.64s/it]"
     ]
    },
    {
     "name": "stdout",
     "output_type": "stream",
     "text": [
      "2.872262830312349\n",
      "Epoch 0, Loss 2.87226283301078\n",
      "2.871941603385635\n",
      "2.8716213350112105\n",
      "2.8713020192229592\n",
      "2.8709836501078607\n",
      "2.8706662218053927\n",
      "2.8703497285069433\n",
      "2.870034164455229\n",
      "2.8697195239437248\n",
      "2.869405801316096\n"
     ]
    },
    {
     "name": "stderr",
     "output_type": "stream",
     "text": [
      "\r",
      " 37%|███▋      | 37/100 [01:52<02:45,  2.63s/it]"
     ]
    },
    {
     "name": "stdout",
     "output_type": "stream",
     "text": [
      "2.8690929909656417\n",
      "Epoch 0, Loss 2.8690929937328122\n",
      "2.8687810873347472\n",
      "2.8684700849143363\n",
      "2.868159978243341\n",
      "2.8678507619081683\n",
      "2.867542430542184\n",
      "2.867234978825194\n",
      "2.8669284014829364\n",
      "2.8666226932865855\n",
      "2.8663178490522507\n"
     ]
    },
    {
     "name": "stderr",
     "output_type": "stream",
     "text": [
      "\r",
      " 38%|███▊      | 38/100 [01:55<02:56,  2.85s/it]"
     ]
    },
    {
     "name": "stdout",
     "output_type": "stream",
     "text": [
      "2.8660138636404917\n",
      "Epoch 0, Loss 2.866013866476165\n",
      "2.8657107319558386\n",
      "2.865408448946313\n",
      "2.8651070096029594\n",
      "2.864806408959385\n",
      "2.8645066420912997\n",
      "2.8642077041160654\n",
      "2.863909590192249\n",
      "2.8636122955191867\n",
      "2.8633158153365463\n"
     ]
    },
    {
     "name": "stderr",
     "output_type": "stream",
     "text": [
      "\r",
      " 39%|███▉      | 39/100 [02:00<03:32,  3.48s/it]"
     ]
    },
    {
     "name": "stdout",
     "output_type": "stream",
     "text": [
      "2.8630201449238997\n",
      "Epoch 0, Loss 2.86302014782785\n",
      "2.862725279600302\n",
      "2.8624312147238666\n",
      "2.862137945691364\n",
      "2.861845467937804\n",
      "2.861553776936039\n",
      "2.861262868196366\n",
      "2.860972737266136\n",
      "2.860683379729363\n"
     ]
    },
    {
     "name": "stderr",
     "output_type": "stream",
     "text": [
      "\r",
      " 40%|████      | 40/100 [02:04<03:34,  3.57s/it]"
     ]
    },
    {
     "name": "stdout",
     "output_type": "stream",
     "text": [
      "2.860394791206347\n",
      "2.8601069673532904\n",
      "Epoch 0, Loss 2.8601069703253024\n",
      "2.859819903861931\n",
      "2.8595335964591717\n",
      "2.8592480409067145\n",
      "2.858963233000705\n",
      "2.8586791685713764\n",
      "2.858395843482698\n",
      "2.8581132536320326\n",
      "2.8578313949497893\n",
      "2.8575502633990935\n"
     ]
    },
    {
     "name": "stderr",
     "output_type": "stream",
     "text": [
      "\r",
      " 41%|████      | 41/100 [02:07<03:22,  3.43s/it]"
     ]
    },
    {
     "name": "stdout",
     "output_type": "stream",
     "text": [
      "2.857269854975446\n",
      "Epoch 0, Loss 2.857269858015314\n",
      "2.856990165706397\n",
      "2.856711191651223\n",
      "2.856432928900601\n",
      "2.8561553735762963\n",
      "2.8558785218308405\n",
      "2.8556023698472313\n",
      "2.8553269138386215\n",
      "2.855052150048016\n",
      "2.854778074747972\n"
     ]
    },
    {
     "name": "stderr",
     "output_type": "stream",
     "text": [
      "\r",
      " 42%|████▏     | 42/100 [02:10<03:18,  3.42s/it]"
     ]
    },
    {
     "name": "stdout",
     "output_type": "stream",
     "text": [
      "2.854504684240311\n",
      "Epoch 0, Loss 2.854504687347839\n",
      "2.8542319748558174\n",
      "2.853959942953957\n",
      "2.853688584922589\n",
      "2.853417897177685\n",
      "2.853147876163054\n",
      "2.852878518350062\n",
      "2.8526098202373653\n",
      "2.85234177835064\n",
      "2.8520743892423157\n"
     ]
    },
    {
     "name": "stderr",
     "output_type": "stream",
     "text": [
      "\r",
      " 43%|████▎     | 43/100 [02:14<03:21,  3.54s/it]"
     ]
    },
    {
     "name": "stdout",
     "output_type": "stream",
     "text": [
      "2.8518076494913185\n",
      "Epoch 0, Loss 2.851807652666321\n",
      "2.8515415557028043\n",
      "2.851276104507909\n",
      "2.8510112925634923\n",
      "2.8507471165518896\n",
      "2.850483573180663\n",
      "2.850220659182359\n",
      "2.8499583713142638\n",
      "2.849696706358169\n",
      "2.8494356611201326\n"
     ]
    },
    {
     "name": "stderr",
     "output_type": "stream",
     "text": [
      "\r",
      " 44%|████▍     | 44/100 [02:17<03:05,  3.31s/it]"
     ]
    },
    {
     "name": "stdout",
     "output_type": "stream",
     "text": [
      "2.8491752324302464\n",
      "Epoch 0, Loss 2.849175235672547\n",
      "2.8489154171424045\n",
      "2.8486562121340793\n",
      "2.8483976143060903\n",
      "2.848139620582387\n",
      "2.8478822279098237\n",
      "2.847625433257947\n",
      "2.847369233618777\n",
      "2.847113626006594\n",
      "2.846858607457732\n"
     ]
    },
    {
     "name": "stderr",
     "output_type": "stream",
     "text": [
      "\r",
      " 45%|████▌     | 45/100 [02:19<02:47,  3.04s/it]"
     ]
    },
    {
     "name": "stdout",
     "output_type": "stream",
     "text": [
      "2.8466041750303654\n",
      "Epoch 0, Loss 2.8466041783397964\n",
      "2.846350325804309\n",
      "2.8460970568808106\n",
      "2.8458443653823515\n",
      "2.845592248452447\n",
      "2.8453407032554505\n",
      "2.8450897269763598\n",
      "2.844839316820623\n",
      "2.8445894700139482\n",
      "2.84434018380212\n"
     ]
    },
    {
     "name": "stderr",
     "output_type": "stream",
     "text": [
      "\r",
      " 46%|████▌     | 46/100 [02:23<02:44,  3.04s/it]"
     ]
    },
    {
     "name": "stdout",
     "output_type": "stream",
     "text": [
      "2.844091455450808\n",
      "Epoch 0, Loss 2.8440914588272106\n",
      "2.8438432822453845\n",
      "2.8435956614907463\n",
      "2.843348590511129\n",
      "2.8431020666499354\n",
      "2.8428560872695536\n",
      "2.842610649751188\n",
      "2.8423657514946847\n",
      "2.8421213899183613\n",
      "2.8418775624588397\n"
     ]
    },
    {
     "name": "stderr",
     "output_type": "stream",
     "text": [
      "\r",
      " 47%|████▋     | 47/100 [02:25<02:36,  2.95s/it]"
     ]
    },
    {
     "name": "stdout",
     "output_type": "stream",
     "text": [
      "2.8416342665708796\n",
      "Epoch 0, Loss 2.841634270014104\n",
      "2.841391499727211\n",
      "2.841149259418378\n",
      "2.8409075431525688\n",
      "2.8406663484554646\n",
      "2.8404256728700745\n",
      "2.840185513956588\n",
      "2.839945869292211\n",
      "2.8397067364710216\n",
      "2.8394681131038157\n"
     ]
    },
    {
     "name": "stderr",
     "output_type": "stream",
     "text": [
      "\r",
      " 48%|████▊     | 48/100 [02:28<02:31,  2.92s/it]"
     ]
    },
    {
     "name": "stdout",
     "output_type": "stream",
     "text": [
      "2.8392299968179557\n",
      "Epoch 0, Loss 2.839230000327859\n",
      "2.838992385257225\n",
      "2.8387552760816845\n",
      "2.8385186669675213\n",
      "2.838282555606909\n",
      "2.8380469397078714\n",
      "2.8378118169941318\n",
      "2.837577185204982\n",
      "2.837343042095144\n",
      "2.837109385434632\n"
     ]
    },
    {
     "name": "stderr",
     "output_type": "stream",
     "text": [
      "\r",
      " 49%|████▉     | 49/100 [02:31<02:27,  2.88s/it]"
     ]
    },
    {
     "name": "stdout",
     "output_type": "stream",
     "text": [
      "2.836876213008622\n",
      "Epoch 0, Loss 2.8368762165850705\n",
      "2.8366435226173126\n",
      "2.8364113120758003\n",
      "2.8361795792139466\n",
      "2.8359483218762476\n",
      "2.8357175379217088\n",
      "2.8354872252237193\n",
      "2.8352573816699245\n",
      "2.835028005162108\n",
      "2.8347990936160596\n"
     ]
    },
    {
     "name": "stderr",
     "output_type": "stream",
     "text": [
      "\r",
      " 50%|█████     | 50/100 [02:35<02:34,  3.10s/it]"
     ]
    },
    {
     "name": "stdout",
     "output_type": "stream",
     "text": [
      "2.8345706449614676\n",
      "Epoch 0, Loss 2.834570648604335\n",
      "2.8343426571417853\n",
      "2.834115128114125\n",
      "2.8338880558491315\n",
      "2.8336614383308723\n",
      "2.833435273556718\n",
      "2.83320955953723\n",
      "2.832984294296055\n",
      "2.832759475869799\n",
      "2.8325351023079315\n"
     ]
    },
    {
     "name": "stderr",
     "output_type": "stream",
     "text": [
      "\r",
      " 51%|█████     | 51/100 [02:38<02:34,  3.15s/it]"
     ]
    },
    {
     "name": "stdout",
     "output_type": "stream",
     "text": [
      "2.832311171672669\n",
      "Epoch 0, Loss 2.8323111753818355\n",
      "2.832087682038869\n",
      "2.8318646314939215\n",
      "2.8316420181376456\n",
      "2.8314198400821833\n",
      "2.8311980954518963\n",
      "2.8309767823832632\n",
      "2.830755899024777\n",
      "2.830535443536849\n",
      "2.8303154140917\n"
     ]
    },
    {
     "name": "stderr",
     "output_type": "stream",
     "text": [
      "\r",
      " 52%|█████▏    | 52/100 [02:42<02:46,  3.46s/it]"
     ]
    },
    {
     "name": "stdout",
     "output_type": "stream",
     "text": [
      "2.8300958088732746\n",
      "Epoch 0, Loss 2.830095812648628\n",
      "2.8298766260771298\n",
      "2.8296578639103496\n",
      "2.829439520591442\n",
      "2.829221594350251\n",
      "2.829004083427855\n",
      "2.8287869860764814\n",
      "2.82857030055941\n",
      "2.828354025150882\n",
      "2.828138158136014\n"
     ]
    },
    {
     "name": "stderr",
     "output_type": "stream",
     "text": [
      "\r",
      " 53%|█████▎    | 53/100 [02:45<02:34,  3.30s/it]"
     ]
    },
    {
     "name": "stdout",
     "output_type": "stream",
     "text": [
      "2.827922697810706\n",
      "Epoch 0, Loss 2.8279227016521413\n",
      "2.8277076424815504\n",
      "2.827492990465752\n",
      "2.8272787400910313\n",
      "2.827064889695549\n",
      "2.8268514376278144\n",
      "2.826638382246605\n",
      "2.826425721920877\n",
      "2.8262134550296945\n",
      "2.8260015799621345\n"
     ]
    },
    {
     "name": "stderr",
     "output_type": "stream",
     "text": [
      "\r",
      " 54%|█████▍    | 54/100 [02:48<02:24,  3.15s/it]"
     ]
    },
    {
     "name": "stdout",
     "output_type": "stream",
     "text": [
      "2.8257900951172177\n",
      "Epoch 0, Loss 2.8257900990246356\n",
      "2.8255789989038176\n",
      "2.8253682897405907\n",
      "2.8251579660558943\n",
      "2.8249480262877062\n",
      "2.824738468883551\n",
      "2.8245292923004235\n",
      "2.824320495004711\n",
      "2.824112075472122\n",
      "2.823904032187609\n"
     ]
    },
    {
     "name": "stderr",
     "output_type": "stream",
     "text": [
      "\r",
      " 55%|█████▌    | 55/100 [02:51<02:20,  3.12s/it]"
     ]
    },
    {
     "name": "stdout",
     "output_type": "stream",
     "text": [
      "2.8236963636452965\n",
      "Epoch 0, Loss 2.823696367618605\n",
      "2.823489068348407\n",
      "2.823282144809191\n",
      "2.8230755915488563\n",
      "2.8228694070974933\n",
      "2.8226635899940087\n",
      "2.8224581387860552\n",
      "2.822253052029963\n",
      "2.822048328290671\n",
      "2.821843966141661\n"
     ]
    },
    {
     "name": "stderr",
     "output_type": "stream",
     "text": [
      "\r",
      " 56%|█████▌    | 56/100 [02:54<02:16,  3.09s/it]"
     ]
    },
    {
     "name": "stdout",
     "output_type": "stream",
     "text": [
      "2.8216399641648895\n",
      "Epoch 0, Loss 2.821639968204002\n",
      "2.8214363209507223\n",
      "2.8212330350978685\n",
      "2.8210301052133167\n",
      "2.820827529912271\n",
      "2.8206253078180845\n",
      "2.8204234375622\n",
      "2.8202219177840853\n",
      "2.820020747131172\n",
      "2.8198199242587947\n"
     ]
    },
    {
     "name": "stderr",
     "output_type": "stream",
     "text": [
      "\r",
      " 57%|█████▋    | 57/100 [02:57<02:09,  3.01s/it]"
     ]
    },
    {
     "name": "stdout",
     "output_type": "stream",
     "text": [
      "2.819619447830128\n",
      "Epoch 0, Loss 2.819619451934964\n",
      "2.81941931651613\n",
      "2.8192195289954793\n",
      "2.81902008395452\n",
      "2.8188209800871964\n",
      "2.8186222160950023\n",
      "2.8184237906869205\n",
      "2.818225702579365\n",
      "2.818027950496126\n",
      "2.8178305331683124\n"
     ]
    },
    {
     "name": "stderr",
     "output_type": "stream",
     "text": [
      "\r",
      " 58%|█████▊    | 58/100 [03:00<02:08,  3.07s/it]"
     ]
    },
    {
     "name": "stdout",
     "output_type": "stream",
     "text": [
      "2.817633449334299\n",
      "Epoch 0, Loss 2.8176334535047833\n",
      "2.817436697739671\n",
      "2.817240277137167\n",
      "2.817044186286628\n",
      "2.8168484239549434\n",
      "2.8166529889159984\n",
      "2.8164578799506197\n",
      "2.816263095846526\n",
      "2.816068635398276\n",
      "2.8158744974072145\n"
     ]
    },
    {
     "name": "stderr",
     "output_type": "stream",
     "text": [
      "\r",
      " 59%|█████▉    | 59/100 [03:03<02:04,  3.04s/it]"
     ]
    },
    {
     "name": "stdout",
     "output_type": "stream",
     "text": [
      "2.8156806806814285\n",
      "Epoch 0, Loss 2.8156806849174916\n",
      "2.8154871840356903\n",
      "2.815294006291409\n",
      "2.8151011462765876\n",
      "2.8149086028257653\n",
      "2.8147163747799757\n",
      "2.8145244609866964\n",
      "2.814332860299802\n",
      "2.8141415715795164\n",
      "2.813950593692368\n"
     ]
    },
    {
     "name": "stderr",
     "output_type": "stream",
     "text": [
      "\r",
      " 60%|██████    | 60/100 [03:07<02:10,  3.27s/it]"
     ]
    },
    {
     "name": "stdout",
     "output_type": "stream",
     "text": [
      "2.813759925511141\n",
      "Epoch 0, Loss 2.8137599298127185\n",
      "2.8135695659148325\n",
      "2.8133795137886044\n",
      "2.8131897680237414\n",
      "2.8130003275176017\n",
      "2.812811191173581\n",
      "2.812622357901058\n",
      "2.81243382661536\n",
      "2.8122455962377155\n"
     ]
    },
    {
     "name": "stderr",
     "output_type": "stream",
     "text": [
      "\r",
      " 61%|██████    | 61/100 [03:11<02:17,  3.52s/it]"
     ]
    },
    {
     "name": "stdout",
     "output_type": "stream",
     "text": [
      "2.8120576656952143\n",
      "2.8118700339207625\n",
      "Epoch 0, Loss 2.811870038287795\n",
      "2.81168269985304\n",
      "2.811495662436464\n",
      "2.811308920621142\n",
      "2.8111224733628353\n",
      "2.8109363196229156\n",
      "2.810750458368327\n",
      "2.8105648885715446\n",
      "2.8103796092105378\n",
      "2.8101946192687275\n"
     ]
    },
    {
     "name": "stderr",
     "output_type": "stream",
     "text": [
      "\r",
      " 62%|██████▏   | 62/100 [03:14<02:10,  3.43s/it]"
     ]
    },
    {
     "name": "stdout",
     "output_type": "stream",
     "text": [
      "2.81000991773495\n",
      "Epoch 0, Loss 2.8100099221673824\n",
      "2.809825503603418\n",
      "2.8096413758736833\n",
      "2.8094575335505962\n",
      "2.8092739756442726\n",
      "2.809090701170053\n",
      "2.8089077091484693\n",
      "2.8087249986052023\n",
      "2.8085425685710543\n",
      "2.808360418081905\n"
     ]
    },
    {
     "name": "stderr",
     "output_type": "stream",
     "text": [
      "\r",
      " 63%|██████▎   | 63/100 [03:17<02:06,  3.41s/it]"
     ]
    },
    {
     "name": "stdout",
     "output_type": "stream",
     "text": [
      "2.8081785461786835\n",
      "Epoch 0, Loss 2.8081785506764665\n",
      "2.807996951907325\n",
      "2.807815634318743\n",
      "2.8076345924687915\n",
      "2.80745382541823\n",
      "2.8072733322326906\n",
      "2.8070931119826446\n",
      "2.8069131637433697\n",
      "2.806733486594914\n",
      "2.8065540796220656\n"
     ]
    },
    {
     "name": "stderr",
     "output_type": "stream",
     "text": [
      "\r",
      " 64%|██████▍   | 64/100 [03:20<01:55,  3.20s/it]"
     ]
    },
    {
     "name": "stdout",
     "output_type": "stream",
     "text": [
      "2.806374941914319\n",
      "Epoch 0, Loss 2.806374946477406\n",
      "2.8061960725658435\n",
      "2.8060174706754517\n",
      "2.8058391353465635\n",
      "2.805661065687181\n",
      "2.8054832608098517\n",
      "2.805305719831643\n",
      "2.8051284418741047\n",
      "2.8049514260632433\n",
      "2.8047746715294917\n"
     ]
    },
    {
     "name": "stderr",
     "output_type": "stream",
     "text": [
      "\r",
      " 65%|██████▌   | 65/100 [03:23<01:48,  3.11s/it]"
     ]
    },
    {
     "name": "stdout",
     "output_type": "stream",
     "text": [
      "2.804598177407676\n",
      "Epoch 0, Loss 2.804598182036026\n",
      "2.8044219428369903\n",
      "2.8042459669609627\n",
      "2.8040702489274296\n",
      "2.8038947878885048\n",
      "2.8037195830005497\n",
      "2.8035446334241487\n",
      "2.803369938324076\n",
      "2.803195496869273\n",
      "2.803021308232814\n"
     ]
    },
    {
     "name": "stderr",
     "output_type": "stream",
     "text": [
      "\r",
      " 66%|██████▌   | 66/100 [03:26<01:43,  3.05s/it]"
     ]
    },
    {
     "name": "stdout",
     "output_type": "stream",
     "text": [
      "2.802847371591885\n",
      "Epoch 0, Loss 2.802847376285461\n",
      "2.8026736861277515\n",
      "2.802500251025734\n",
      "2.8023270654751813\n",
      "2.8021541286694416\n",
      "2.801981439805837\n",
      "2.8018089980856393\n",
      "2.8016368027140395\n",
      "2.801464852900127\n",
      "2.8012931478568603\n"
     ]
    },
    {
     "name": "stderr",
     "output_type": "stream",
     "text": [
      "\r",
      " 67%|██████▋   | 67/100 [03:29<01:42,  3.10s/it]"
     ]
    },
    {
     "name": "stdout",
     "output_type": "stream",
     "text": [
      "2.801121686801043\n",
      "Epoch 0, Loss 2.8011216915598105\n",
      "2.8009504689532982\n",
      "2.8007794935380455\n",
      "2.8006087597834712\n",
      "2.8004382669215095\n",
      "2.8002680141878145\n",
      "2.800098000821736\n",
      "2.799928226066298\n",
      "2.7997586891681725\n",
      "2.7995893893776564\n"
     ]
    },
    {
     "name": "stderr",
     "output_type": "stream",
     "text": [
      "\r",
      " 68%|██████▊   | 68/100 [03:32<01:34,  2.96s/it]"
     ]
    },
    {
     "name": "stdout",
     "output_type": "stream",
     "text": [
      "2.799420325948649\n",
      "Epoch 0, Loss 2.7994203307725787\n",
      "2.7992514981386263\n",
      "2.7990829052086217\n",
      "2.798914546423199\n",
      "2.7987464210504336\n",
      "2.7985785283618867\n",
      "2.798410867632584\n",
      "2.7982434381409953\n",
      "2.79807623916901\n",
      "2.7979092700019166\n"
     ]
    },
    {
     "name": "stderr",
     "output_type": "stream",
     "text": [
      "\r",
      " 69%|██████▉   | 69/100 [03:35<01:36,  3.11s/it]"
     ]
    },
    {
     "name": "stdout",
     "output_type": "stream",
     "text": [
      "2.7977425299283794\n",
      "Epoch 0, Loss 2.797742534817445\n",
      "2.797576018240419\n",
      "2.7974097342333923\n",
      "2.797243677205966\n",
      "2.7970778464601\n",
      "2.7969122413010283\n",
      "2.796746861037231\n",
      "2.796581704980421\n",
      "2.796416772445521\n",
      "2.7962520627506415\n"
     ]
    },
    {
     "name": "stderr",
     "output_type": "stream",
     "text": [
      "\r",
      " 70%|███████   | 70/100 [03:38<01:32,  3.07s/it]"
     ]
    },
    {
     "name": "stdout",
     "output_type": "stream",
     "text": [
      "2.7960875752170655\n",
      "Epoch 0, Loss 2.796087580171244\n",
      "2.7959233091692233\n",
      "2.795759263934675\n",
      "2.795595438844094\n",
      "2.7954318332312407\n",
      "2.7952684464329507\n",
      "2.79510527778911\n",
      "2.7949423266426403\n",
      "2.794779592339476\n",
      "2.7946170742285483\n"
     ]
    },
    {
     "name": "stderr",
     "output_type": "stream",
     "text": [
      "\r",
      " 71%|███████   | 71/100 [03:41<01:25,  2.95s/it]"
     ]
    },
    {
     "name": "stdout",
     "output_type": "stream",
     "text": [
      "2.7944547716617674\n",
      "Epoch 0, Loss 2.794454776681039\n",
      "2.794292683994001\n",
      "2.7941308105830593\n",
      "2.7939691507896733\n",
      "2.793807703977482\n",
      "2.793646469513008\n",
      "2.793485446765647\n",
      "2.793324635107643\n",
      "2.793164033914076\n",
      "2.7930036425628444\n"
     ]
    },
    {
     "name": "stderr",
     "output_type": "stream",
     "text": [
      "\r",
      " 72%|███████▏  | 72/100 [03:44<01:27,  3.13s/it]"
     ]
    },
    {
     "name": "stdout",
     "output_type": "stream",
     "text": [
      "2.7928434604346437\n",
      "Epoch 0, Loss 2.792843465518992\n",
      "2.7926834869129546\n",
      "2.792523721384024\n",
      "2.7923641632368446\n",
      "2.7922048118631464\n",
      "2.7920456666573714\n",
      "2.791886727016663\n",
      "2.7917279923408493\n",
      "2.7915694620324234\n",
      "2.79141113549653\n"
     ]
    },
    {
     "name": "stderr",
     "output_type": "stream",
     "text": [
      "\r",
      " 73%|███████▎  | 73/100 [03:47<01:21,  3.00s/it]"
     ]
    },
    {
     "name": "stdout",
     "output_type": "stream",
     "text": [
      "2.7912530121409485\n",
      "Epoch 0, Loss 2.79125301729036\n",
      "2.7910950913760804\n",
      "2.7909373726149274\n",
      "2.7907798552730823\n",
      "2.7906225387687087\n",
      "2.7904654225225283\n",
      "2.790308505957805\n",
      "2.7901517885003293\n",
      "2.7899952695784056\n",
      "2.7898389486228328\n"
     ]
    },
    {
     "name": "stderr",
     "output_type": "stream",
     "text": [
      "\r",
      " 74%|███████▍  | 74/100 [03:49<01:12,  2.79s/it]"
     ]
    },
    {
     "name": "stdout",
     "output_type": "stream",
     "text": [
      "2.7896828250668935\n",
      "Epoch 0, Loss 2.7896828302813574\n",
      "2.789526898346339\n",
      "2.7893711678993713\n",
      "2.789215633166634\n",
      "2.7890602935911932\n",
      "2.788905148618527\n",
      "2.7887501976965057\n",
      "2.7885954402753867\n",
      "2.7884408758077917\n",
      "2.7882865037486972\n"
     ]
    },
    {
     "name": "stderr",
     "output_type": "stream",
     "text": [
      "\r",
      " 75%|███████▌  | 75/100 [03:54<01:20,  3.24s/it]"
     ]
    },
    {
     "name": "stdout",
     "output_type": "stream",
     "text": [
      "2.788132323555423\n",
      "Epoch 0, Loss 2.788132328834932\n",
      "2.7879783346876112\n",
      "2.7878245366072205\n",
      "2.78767092877851\n",
      "2.787517510668023\n",
      "2.7873642817445767\n",
      "2.78721124147925\n",
      "2.787058389345368\n",
      "2.78690572481849\n",
      "2.7867532473763963\n"
     ]
    },
    {
     "name": "stderr",
     "output_type": "stream",
     "text": [
      "\r",
      " 76%|███████▌  | 76/100 [03:58<01:23,  3.47s/it]"
     ]
    },
    {
     "name": "stdout",
     "output_type": "stream",
     "text": [
      "2.786600956499077\n",
      "Epoch 0, Loss 2.786600961843625\n",
      "2.786448851668716\n",
      "2.786296932369684\n",
      "2.7861451980885183\n",
      "2.7859936483139194\n",
      "2.785842282536728\n",
      "2.7856911002499247\n",
      "2.785540100948609\n",
      "2.78538928412999\n",
      "2.785238649293374\n"
     ]
    },
    {
     "name": "stderr",
     "output_type": "stream",
     "text": [
      "\r",
      " 77%|███████▋  | 77/100 [04:00<01:13,  3.21s/it]"
     ]
    },
    {
     "name": "stdout",
     "output_type": "stream",
     "text": [
      "2.7850881959401543\n",
      "Epoch 0, Loss 2.7850882013497396\n",
      "2.7849379235738\n",
      "2.7847878316998376\n",
      "2.78463791982585\n",
      "2.7844881874614553\n",
      "2.784338634118302\n",
      "2.7841892593100512\n",
      "2.784040062552373\n",
      "2.78389104336293\n",
      "2.783742201261366\n"
     ]
    },
    {
     "name": "stderr",
     "output_type": "stream",
     "text": [
      "\r",
      " 78%|███████▊  | 78/100 [04:03<01:06,  3.03s/it]"
     ]
    },
    {
     "name": "stdout",
     "output_type": "stream",
     "text": [
      "2.7835935357692985\n",
      "Epoch 0, Loss 2.7835935412439206\n",
      "2.7834450464103035\n",
      "2.7832967327099096\n",
      "2.7831485941955805\n",
      "2.7830006303967108\n",
      "2.7828528408446127\n",
      "2.7827052250725015\n",
      "2.782557782615493\n",
      "2.7824105130105874\n",
      "2.7822634157966584\n"
     ]
    },
    {
     "name": "stderr",
     "output_type": "stream",
     "text": [
      "\r",
      " 79%|███████▉  | 79/100 [04:06<01:03,  3.02s/it]"
     ]
    },
    {
     "name": "stdout",
     "output_type": "stream",
     "text": [
      "2.782116490514446\n",
      "Epoch 0, Loss 2.782116496054107\n",
      "2.781969736706548\n",
      "2.7818231539174016\n",
      "2.781676741693282\n",
      "2.7815304995822876\n",
      "2.7813844271343307\n",
      "2.78123852390113\n",
      "2.781092789436198\n",
      "2.7809472232948313\n",
      "2.780801825034103\n"
     ]
    },
    {
     "name": "stderr",
     "output_type": "stream",
     "text": [
      "\r",
      " 80%|████████  | 80/100 [04:09<01:03,  3.16s/it]"
     ]
    },
    {
     "name": "stdout",
     "output_type": "stream",
     "text": [
      "2.7806565942128523\n",
      "Epoch 0, Loss 2.780656599817556\n",
      "2.780511530391673\n",
      "2.780366633132906\n",
      "2.7802219020006294\n",
      "2.7800773365606504\n",
      "2.7799329363804928\n",
      "2.779788701029389\n",
      "2.7796446300782747\n",
      "2.7795007230997735\n",
      "2.7793569796681914\n"
     ]
    },
    {
     "name": "stderr",
     "output_type": "stream",
     "text": [
      "\r",
      " 81%|████████  | 81/100 [04:12<00:59,  3.15s/it]"
     ]
    },
    {
     "name": "stdout",
     "output_type": "stream",
     "text": [
      "2.779213399359509\n",
      "Epoch 0, Loss 2.7792134050292625\n",
      "2.779069981751369\n",
      "2.778926726423068\n",
      "2.778783632955553\n",
      "2.7786407009314047\n",
      "2.778497929934834\n",
      "2.7783553195516717\n",
      "2.77821286936936\n",
      "2.778070578976944\n",
      "2.777928447965064\n"
     ]
    },
    {
     "name": "stderr",
     "output_type": "stream",
     "text": [
      "\r",
      " 82%|████████▏ | 82/100 [04:16<00:56,  3.16s/it]"
     ]
    },
    {
     "name": "stdout",
     "output_type": "stream",
     "text": [
      "2.777786475925945\n",
      "Epoch 0, Loss 2.777786481660757\n",
      "2.777644662453392\n",
      "2.777503007142778\n",
      "2.777361509591037\n",
      "2.7772201693966565\n",
      "2.777078986159668\n",
      "2.7769379594816415\n",
      "2.776797088965675\n",
      "2.7766563742163863\n",
      "2.776515814839908\n"
     ]
    },
    {
     "name": "stderr",
     "output_type": "stream",
     "text": [
      "\r",
      " 83%|████████▎ | 83/100 [04:18<00:51,  3.03s/it]"
     ]
    },
    {
     "name": "stdout",
     "output_type": "stream",
     "text": [
      "2.776375410443875\n",
      "Epoch 0, Loss 2.7763754162437553\n",
      "2.7762351606374227\n",
      "2.776095065031173\n",
      "2.775955123237231\n",
      "2.7758153348691748\n",
      "2.7756756995420506\n",
      "2.7755362168723616\n",
      "2.7753968864780636\n",
      "2.775257707978555\n",
      "2.775118680994673\n"
     ]
    },
    {
     "name": "stderr",
     "output_type": "stream",
     "text": [
      "\r",
      " 84%|████████▍ | 84/100 [04:21<00:46,  2.89s/it]"
     ]
    },
    {
     "name": "stdout",
     "output_type": "stream",
     "text": [
      "2.7749798051486785\n",
      "Epoch 0, Loss 2.7749798110136394\n",
      "2.774841080064262\n",
      "2.774702505366522\n",
      "2.7745640806819667\n",
      "2.774425805638504\n",
      "2.774287679865435\n",
      "2.774149702993446\n",
      "2.7740118746546027\n",
      "2.7738741944823424\n",
      "2.773736662111467\n"
     ]
    },
    {
     "name": "stderr",
     "output_type": "stream",
     "text": [
      "\r",
      " 85%|████████▌ | 85/100 [04:24<00:45,  3.02s/it]"
     ]
    },
    {
     "name": "stdout",
     "output_type": "stream",
     "text": [
      "2.7735992771781355\n",
      "Epoch 0, Loss 2.7735992831081915\n",
      "2.7734620393198597\n",
      "2.7733249481754942\n",
      "2.773188003385232\n",
      "2.773051204590595\n",
      "2.7729145514344324\n",
      "2.772778043560907\n",
      "2.7726416806154948\n",
      "2.772505462244975\n",
      "2.7723693880974247\n"
     ]
    },
    {
     "name": "stderr",
     "output_type": "stream",
     "text": [
      "\r",
      " 86%|████████▌ | 86/100 [04:28<00:44,  3.16s/it]"
     ]
    },
    {
     "name": "stdout",
     "output_type": "stream",
     "text": [
      "2.772233457822212\n",
      "Epoch 0, Loss 2.772233463817379\n",
      "2.7720976710699903\n",
      "2.7719620274926906\n",
      "2.7718265267435163\n",
      "2.7716911684769356\n",
      "2.771555952348678\n",
      "2.7714208780157246\n",
      "2.7712859451363028\n",
      "2.771151153369883\n",
      "2.771016502377168\n"
     ]
    },
    {
     "name": "stderr",
     "output_type": "stream",
     "text": [
      "\r",
      " 87%|████████▋ | 87/100 [04:30<00:38,  2.99s/it]"
     ]
    },
    {
     "name": "stdout",
     "output_type": "stream",
     "text": [
      "2.7708819918200915\n",
      "Epoch 0, Loss 2.770881997880387\n",
      "2.770747621361806\n",
      "2.7706133906666848\n",
      "2.77047929940031\n",
      "2.770345347229466\n",
      "2.7702115338221396\n",
      "2.770077858847509\n",
      "2.769944321975938\n",
      "2.769810922878974\n",
      "2.7696776612293377\n"
     ]
    },
    {
     "name": "stderr",
     "output_type": "stream",
     "text": [
      "\r",
      " 88%|████████▊ | 88/100 [04:34<00:36,  3.08s/it]"
     ]
    },
    {
     "name": "stdout",
     "output_type": "stream",
     "text": [
      "2.7695445367009217\n",
      "Epoch 0, Loss 2.769544542826365\n",
      "2.769411548968781\n",
      "2.769278697709129\n",
      "2.7691459825993348\n",
      "2.76901340331791\n",
      "2.768880959544511\n",
      "2.7687486509599304\n",
      "2.76861647724609\n",
      "2.76848443808604\n",
      "2.768352533163945\n"
     ]
    },
    {
     "name": "stderr",
     "output_type": "stream",
     "text": [
      "\r",
      " 89%|████████▉ | 89/100 [04:37<00:34,  3.18s/it]"
     ]
    },
    {
     "name": "stdout",
     "output_type": "stream",
     "text": [
      "2.7682207621650896\n",
      "Epoch 0, Loss 2.768220768355701\n",
      "2.768089124775865\n",
      "2.7679576206837653\n",
      "2.7678262495773867\n",
      "2.767695011146414\n",
      "2.7675639050816248\n",
      "2.7674329310748753\n",
      "2.767302088819103\n",
      "2.7671713780083165\n",
      "2.7670407983375913\n"
     ]
    },
    {
     "name": "stderr",
     "output_type": "stream",
     "text": [
      "\r",
      " 90%|█████████ | 90/100 [04:40<00:30,  3.01s/it]"
     ]
    },
    {
     "name": "stdout",
     "output_type": "stream",
     "text": [
      "2.7669103495030662\n",
      "Epoch 0, Loss 2.7669103557588683\n",
      "2.766780031201939\n",
      "2.7666498431324573\n",
      "2.766519784993918\n",
      "2.76638985648666\n",
      "2.7662600573120595\n",
      "2.7661303871725256\n",
      "2.766000845771497\n",
      "2.7658714328134333\n",
      "2.765742148003814\n"
     ]
    },
    {
     "name": "stderr",
     "output_type": "stream",
     "text": [
      "\r",
      " 91%|█████████ | 91/100 [04:42<00:26,  2.97s/it]"
     ]
    },
    {
     "name": "stdout",
     "output_type": "stream",
     "text": [
      "2.7656129910491303\n",
      "Epoch 0, Loss 2.7656129973701464\n",
      "2.7654839616568854\n",
      "2.765355059535584\n",
      "2.76522628439473\n",
      "2.765097635944825\n",
      "2.764969113897358\n",
      "2.764840717964806\n",
      "2.7647124478606235\n",
      "2.764584303299244\n",
      "2.7644562839960747\n"
     ]
    },
    {
     "name": "stderr",
     "output_type": "stream",
     "text": [
      "\r",
      " 92%|█████████▏| 92/100 [04:46<00:24,  3.04s/it]"
     ]
    },
    {
     "name": "stdout",
     "output_type": "stream",
     "text": [
      "2.764328389667487\n",
      "Epoch 0, Loss 2.7643283960537426\n",
      "2.764200620030816\n",
      "2.7640729748043573\n",
      "2.7639454537073584\n",
      "2.7638180564600185\n",
      "2.7636907827834807\n",
      "2.7635636323998307\n",
      "2.76343660503209\n",
      "2.7633097004042124\n",
      "2.7631829182410814\n"
     ]
    },
    {
     "name": "stderr",
     "output_type": "stream",
     "text": [
      "\r",
      " 93%|█████████▎| 93/100 [04:48<00:19,  2.85s/it]"
     ]
    },
    {
     "name": "stdout",
     "output_type": "stream",
     "text": [
      "2.7630562582685028\n",
      "Epoch 0, Loss 2.7630562647200234\n",
      "2.7629297202132035\n",
      "2.762803303802827\n",
      "2.7626770087659254\n",
      "2.762550834831961\n",
      "2.7624247817312964\n",
      "2.762298849195197\n",
      "2.7621730369558213\n",
      "2.7620473447462186\n",
      "2.7619217723003264\n"
     ]
    },
    {
     "name": "stderr",
     "output_type": "stream",
     "text": [
      "\r",
      " 94%|█████████▍| 94/100 [04:51<00:17,  2.84s/it]"
     ]
    },
    {
     "name": "stdout",
     "output_type": "stream",
     "text": [
      "2.7617963193529635\n",
      "Epoch 0, Loss 2.761796325869777\n",
      "2.7616709856398307\n",
      "2.7615457708975004\n",
      "2.7614206748634196\n",
      "2.7612956972759\n",
      "2.76117083787412\n",
      "2.761046096398114\n",
      "2.7609214725887723\n",
      "2.7607969661878413\n",
      "2.7606725769379103\n"
     ]
    },
    {
     "name": "stderr",
     "output_type": "stream",
     "text": [
      "\r",
      " 95%|█████████▌| 95/100 [04:53<00:13,  2.71s/it]"
     ]
    },
    {
     "name": "stdout",
     "output_type": "stream",
     "text": [
      "2.7605483045824184\n",
      "Epoch 0, Loss 2.7605483111645532\n",
      "2.7604241488656402\n",
      "2.7603001095326904\n",
      "2.760176186329515\n",
      "2.7600523790028926\n",
      "2.7599286873004245\n",
      "2.759805110970534\n",
      "2.7596816497624665\n",
      "2.7595583034262803\n",
      "2.759435071712843\n"
     ]
    },
    {
     "name": "stderr",
     "output_type": "stream",
     "text": [
      "\r",
      " 96%|█████████▌| 96/100 [04:57<00:11,  2.96s/it]"
     ]
    },
    {
     "name": "stdout",
     "output_type": "stream",
     "text": [
      "2.7593119543738345\n",
      "Epoch 0, Loss 2.7593119610213206\n",
      "2.759188951161735\n",
      "2.759066061829828\n",
      "2.7589432861321934\n",
      "2.758820623823705\n",
      "2.758698074660027\n",
      "2.7585756383976094\n",
      "2.7584533147936883\n",
      "2.7583311036062774\n"
     ]
    },
    {
     "name": "stderr",
     "output_type": "stream",
     "text": [
      "\r",
      " 97%|█████████▋| 97/100 [05:00<00:09,  3.02s/it]"
     ]
    },
    {
     "name": "stdout",
     "output_type": "stream",
     "text": [
      "2.7582090045941685\n",
      "2.758087017516925\n",
      "Epoch 0, Loss 2.758087024229793\n",
      "2.757965142134883\n",
      "2.757843378209143\n",
      "2.7577217255015696\n",
      "2.757600183774787\n",
      "2.757478752792178\n",
      "2.7573574323178756\n",
      "2.7572362221167652\n",
      "2.75711512195448\n",
      "2.7569941315973963\n"
     ]
    },
    {
     "name": "stderr",
     "output_type": "stream",
     "text": [
      "\r",
      " 98%|█████████▊| 98/100 [05:03<00:05,  2.92s/it]"
     ]
    },
    {
     "name": "stdout",
     "output_type": "stream",
     "text": [
      "2.756873250812629\n",
      "Epoch 0, Loss 2.756873257590911\n",
      "2.7567524793680342\n",
      "2.756631817032199\n",
      "2.7565112635744433\n",
      "2.7563908187648143\n",
      "2.756270482374086\n",
      "2.756150254173752\n",
      "2.7560301339360267\n",
      "2.7559101214338395\n",
      "2.7557902164408303\n"
     ]
    },
    {
     "name": "stderr",
     "output_type": "stream",
     "text": [
      "\r",
      " 99%|█████████▉| 99/100 [05:06<00:03,  3.12s/it]"
     ]
    },
    {
     "name": "stdout",
     "output_type": "stream",
     "text": [
      "2.7556704187313534\n",
      "Epoch 0, Loss 2.7556704255750826\n",
      "2.7555507280804656\n",
      "2.75543114426393\n",
      "2.7553116670582094\n",
      "2.755192296240464\n",
      "2.7550730315885503\n",
      "2.7549538728810155\n",
      "2.7548348198970953\n",
      "2.7547158724167153\n",
      "2.7545970302204794\n"
     ]
    },
    {
     "name": "stderr",
     "output_type": "stream",
     "text": [
      "100%|██████████| 100/100 [05:09<00:00,  3.10s/it]\n"
     ]
    }
   ],
   "source": [
    "# Run training and plotting for default parameter values as mentioned above\n",
    "t_ac, v_ac, te_ac, weights = train(learning_rate, weight_decay)\n"
   ]
  },
  {
   "cell_type": "code",
   "execution_count": 12,
   "metadata": {},
   "outputs": [
    {
     "data": {
      "image/png": "[encoded data removed]",
      "text/plain": [
       "<Figure size 432x288 with 1 Axes>"
      ]
     },
     "metadata": {
      "needs_background": "light"
     },
     "output_type": "display_data"
    }
   ],
   "source": [
    "plot_accuracies(t_ac, v_ac, te_ac)\n"
   ]
  },
  {
   "cell_type": "markdown",
   "metadata": {},
   "source": [
    "### Try different learning rates and plot graphs for all (20%)\n"
   ]
  },
  {
   "cell_type": "code",
   "execution_count": 14,
   "metadata": {},
   "outputs": [
    {
     "name": "stderr",
     "output_type": "stream",
     "text": [
      "\r",
      "  0%|          | 0/100 [00:00<?, ?it/s]"
     ]
    },
    {
     "name": "stdout",
     "output_type": "stream",
     "text": [
      "6.933181693106729\n",
      "Epoch 0, Loss 6.933181693106729\n",
      "6.823432478988021\n",
      "6.717701536970414\n",
      "6.61583915448215\n",
      "6.51769950917072\n",
      "6.42314081598912\n",
      "6.332025437521973\n",
      "6.244219960899385\n",
      "6.159595244598504\n",
      "6.078026438338689\n"
     ]
    },
    {
     "name": "stderr",
     "output_type": "stream",
     "text": [
      "\r",
      "  1%|          | 1/100 [00:03<05:45,  3.49s/it]"
     ]
    },
    {
     "name": "stdout",
     "output_type": "stream",
     "text": [
      "5.999392979145726\n",
      "Epoch 0, Loss 5.999392979145726\n",
      "5.92357856650278\n",
      "5.850471119328637\n",
      "5.779962717334069\n",
      "5.711949529110847\n",
      "5.646331729109758\n",
      "5.583013405467914\n",
      "5.5219024604549\n",
      "5.462910505124044\n",
      "5.405952749581289\n"
     ]
    },
    {
     "name": "stderr",
     "output_type": "stream",
     "text": [
      "\r",
      "  2%|▏         | 2/100 [00:06<05:19,  3.26s/it]"
     ]
    },
    {
     "name": "stdout",
     "output_type": "stream",
     "text": [
      "5.35094789012077\n",
      "Epoch 0, Loss 5.35094789012077\n",
      "5.297817994324201\n",
      "5.246488385080667\n",
      "5.196887524354689\n",
      "5.148946897413148\n",
      "5.102600898115558\n",
      "5.057786715776623\n",
      "5.014444224024684\n",
      "4.97251587200356\n",
      "4.931946578198068\n"
     ]
    },
    {
     "name": "stderr",
     "output_type": "stream",
     "text": [
      "\r",
      "  3%|▎         | 3/100 [00:09<04:51,  3.01s/it]"
     ]
    },
    {
     "name": "stdout",
     "output_type": "stream",
     "text": [
      "4.89268362710428\n",
      "Epoch 0, Loss 4.89268362710428\n",
      "4.8546765689136775\n",
      "4.817877122335221\n",
      "4.782239080640239\n",
      "4.7477182209813655\n",
      "4.714272217007966\n",
      "4.681860554776084\n",
      "4.650444451930307\n",
      "4.619986780117858\n",
      "4.59045199058098\n"
     ]
    },
    {
     "name": "stderr",
     "output_type": "stream",
     "text": [
      "\r",
      "  4%|▍         | 4/100 [00:12<05:02,  3.15s/it]"
     ]
    },
    {
     "name": "stdout",
     "output_type": "stream",
     "text": [
      "4.561806042862198\n",
      "Epoch 0, Loss 4.561806042862198\n",
      "4.534016336547781\n",
      "4.507051645967499\n",
      "4.48088205776323\n",
      "4.455478911234984\n",
      "4.4308147413701\n",
      "4.406863224459763\n",
      "4.383599126206194\n",
      "4.360998252223898\n",
      "4.339037400839053\n"
     ]
    },
    {
     "name": "stderr",
     "output_type": "stream",
     "text": [
      "\r",
      "  5%|▌         | 5/100 [00:16<05:05,  3.22s/it]"
     ]
    },
    {
     "name": "stdout",
     "output_type": "stream",
     "text": [
      "4.317694318092285\n",
      "Epoch 0, Loss 4.317694318092285\n",
      "4.2969476548517305\n",
      "4.276776925945297\n",
      "4.257162471223266\n",
      "4.238085418464913\n",
      "4.219527648045424\n",
      "4.201471759282198\n",
      "4.1839010383824276\n",
      "4.166799427916778\n",
      "4.150151497746857\n"
     ]
    },
    {
     "name": "stderr",
     "output_type": "stream",
     "text": [
      "\r",
      "  6%|▌         | 6/100 [00:18<04:41,  3.00s/it]"
     ]
    },
    {
     "name": "stdout",
     "output_type": "stream",
     "text": [
      "4.133942417337086\n",
      "Epoch 0, Loss 4.133942417337086\n",
      "4.118157929384452\n",
      "4.102784324702439\n",
      "4.08780841829824\n",
      "4.073217526585044\n",
      "4.058999445673823\n",
      "4.045142430691656\n",
      "4.031635176076032\n",
      "4.018466796797039\n",
      "4.005626810461614\n"
     ]
    },
    {
     "name": "stderr",
     "output_type": "stream",
     "text": [
      "\r",
      "  7%|▋         | 7/100 [00:21<04:40,  3.01s/it]"
     ]
    },
    {
     "name": "stdout",
     "output_type": "stream",
     "text": [
      "3.99310512025624\n",
      "Epoch 0, Loss 3.99310512025624\n",
      "3.980891998686639\n",
      "3.968978072075012\n",
      "3.95735430577736\n",
      "3.946011990085256\n",
      "3.9349427267782624\n",
      "3.924138416294835\n",
      "3.9135912454912383\n",
      "3.903293675959477\n"
     ]
    },
    {
     "name": "stderr",
     "output_type": "stream",
     "text": [
      "\r",
      "  8%|▊         | 8/100 [00:24<04:20,  2.84s/it]"
     ]
    },
    {
     "name": "stdout",
     "output_type": "stream",
     "text": [
      "3.8932384328767653\n",
      "3.88341849436045\n",
      "Epoch 0, Loss 3.88341849436045\n",
      "3.8738270813035993\n",
      "3.8644576476677606\n",
      "3.855303871210603\n",
      "3.8463596446272517\n",
      "3.8376190670852655\n",
      "3.829076436134168\n",
      "3.820726239971476\n",
      "3.8125631500480606\n",
      "3.804582013996545\n"
     ]
    },
    {
     "name": "stderr",
     "output_type": "stream",
     "text": [
      "\r",
      "  9%|▉         | 9/100 [00:26<04:12,  2.78s/it]"
     ]
    },
    {
     "name": "stdout",
     "output_type": "stream",
     "text": [
      "3.7967778488673\n",
      "Epoch 0, Loss 3.7967778488673\n",
      "3.78914583465736\n",
      "3.781681308118345\n",
      "3.7743797568301645\n",
      "3.767236813527966\n",
      "3.760248250670405\n",
      "3.7534099752379437\n",
      "3.746718023750411\n",
      "3.7401685574936487\n",
      "3.7337578579455295\n"
     ]
    },
    {
     "name": "stderr",
     "output_type": "stream",
     "text": [
      "\r",
      " 10%|█         | 10/100 [00:28<03:53,  2.59s/it]"
     ]
    },
    {
     "name": "stdout",
     "output_type": "stream",
     "text": [
      "3.727482322392161\n",
      "Epoch 0, Loss 3.727482322392161\n",
      "3.72133845972551\n",
      "3.7153228864141443\n",
      "3.7094323226391928\n",
      "3.703663588587999\n",
      "3.698013600898351\n",
      "3.692479369246473\n",
      "3.6870579930723473\n",
      "3.681746658436191\n",
      "3.676542635000286\n"
     ]
    },
    {
     "name": "stderr",
     "output_type": "stream",
     "text": [
      "\r",
      " 11%|█         | 11/100 [00:31<03:53,  2.62s/it]"
     ]
    },
    {
     "name": "stdout",
     "output_type": "stream",
     "text": [
      "3.6714432731305657\n",
      "Epoch 0, Loss 3.6714432731305657\n",
      "3.6664460011126847\n",
      "3.6615483224775454\n",
      "3.6567478134314504\n",
      "3.652042120386367\n",
      "3.6474289575859027\n",
      "3.6429061048229023\n",
      "3.638471405244671\n",
      "3.634122763242107\n",
      "3.629858142419137\n"
     ]
    },
    {
     "name": "stderr",
     "output_type": "stream",
     "text": [
      "\r",
      " 12%|█▏        | 12/100 [00:34<03:53,  2.65s/it]"
     ]
    },
    {
     "name": "stdout",
     "output_type": "stream",
     "text": [
      "3.6256755636390396\n",
      "Epoch 0, Loss 3.6256755636390396\n",
      "3.621573103144418\n",
      "3.617548890747699\n",
      "3.613601108089204\n",
      "3.609727986959972\n",
      "3.6059278076866352\n",
      "3.602198897575773\n",
      "3.5985396294152947\n",
      "3.5949484200305206\n",
      "3.591423728892679\n"
     ]
    },
    {
     "name": "stderr",
     "output_type": "stream",
     "text": [
      "\r",
      " 13%|█▎        | 13/100 [00:36<03:41,  2.54s/it]"
     ]
    },
    {
     "name": "stdout",
     "output_type": "stream",
     "text": [
      "3.5879640567777527\n",
      "Epoch 0, Loss 3.5879640567777527\n",
      "3.584567944473566\n",
      "3.581233971533213\n",
      "3.5779607550729344\n",
      "3.5747469486126793\n",
      "3.5715912409576416\n",
      "3.5684923551191496\n",
      "3.565449047273352\n",
      "3.5624601057562133\n",
      "3.5595243500933935\n"
     ]
    },
    {
     "name": "stderr",
     "output_type": "stream",
     "text": [
      "\r",
      " 14%|█▍        | 14/100 [00:39<03:44,  2.61s/it]"
     ]
    },
    {
     "name": "stdout",
     "output_type": "stream",
     "text": [
      "3.5566406300636517\n",
      "Epoch 0, Loss 3.5566406300636517\n",
      "3.55380782479448\n",
      "3.551024841888702\n",
      "3.5482906165808585\n",
      "3.5456041109222425\n",
      "3.542964312993463\n",
      "3.5403702361435214\n",
      "3.537820918254377\n",
      "3.535315421030052\n",
      "3.5328528293093333\n"
     ]
    },
    {
     "name": "stderr",
     "output_type": "stream",
     "text": [
      "\r",
      " 15%|█▌        | 15/100 [00:42<03:44,  2.65s/it]"
     ]
    },
    {
     "name": "stdout",
     "output_type": "stream",
     "text": [
      "3.5304322504012258\n",
      "Epoch 0, Loss 3.5304322504012258\n",
      "3.5280528134422675\n",
      "3.5257136687749306\n",
      "3.523413987346308\n",
      "3.5211529601263423\n",
      "3.5189297975448994\n",
      "3.516743728946974\n",
      "3.514594002065378\n",
      "3.5124798825102976\n"
     ]
    },
    {
     "name": "stderr",
     "output_type": "stream",
     "text": [
      "\r",
      " 16%|█▌        | 16/100 [00:44<03:43,  2.66s/it]"
     ]
    },
    {
     "name": "stdout",
     "output_type": "stream",
     "text": [
      "3.5104006532750742\n",
      "3.5083556142576637\n",
      "Epoch 0, Loss 3.5083556142576637\n",
      "3.5063440817971885\n",
      "3.504365388225064\n",
      "3.502418881430166\n",
      "3.500503924437553\n",
      "3.4986198950002683\n",
      "3.496766185203764\n",
      "3.494942201082488\n",
      "3.493147362248249\n",
      "3.491381101529914\n"
     ]
    },
    {
     "name": "stderr",
     "output_type": "stream",
     "text": [
      "\r",
      " 17%|█▋        | 17/100 [00:47<03:54,  2.83s/it]"
     ]
    },
    {
     "name": "stdout",
     "output_type": "stream",
     "text": [
      "3.4896428646240705\n",
      "Epoch 0, Loss 3.4896428646240705\n",
      "3.48793210975627\n",
      "3.4862483073524957\n",
      "3.484590939720489\n",
      "3.482959500740634\n",
      "3.48135349556604\n",
      "3.4797724403315393\n",
      "3.4782158618712864\n",
      "3.4766832974446817\n",
      "3.475174294470332\n"
     ]
    },
    {
     "name": "stderr",
     "output_type": "stream",
     "text": [
      "\r",
      " 18%|█▊        | 18/100 [00:51<04:15,  3.12s/it]"
     ]
    },
    {
     "name": "stdout",
     "output_type": "stream",
     "text": [
      "3.473688410267796\n",
      "Epoch 0, Loss 3.473688410267796\n",
      "3.4722252118068364\n",
      "3.470784275463963\n",
      "3.469365186785991\n",
      "3.4679675402604198\n",
      "3.4665909390923852\n",
      "3.46523499498799\n",
      "3.463899327943791\n",
      "3.462583566042267\n",
      "3.4612873452530457\n"
     ]
    },
    {
     "name": "stderr",
     "output_type": "stream",
     "text": [
      "\r",
      " 19%|█▉        | 19/100 [00:55<04:18,  3.19s/it]"
     ]
    },
    {
     "name": "stdout",
     "output_type": "stream",
     "text": [
      "3.4600103092397396\n",
      "Epoch 0, Loss 3.4600103092397396\n",
      "3.4587521091721807\n",
      "3.457512403543912\n",
      "3.456290857994751\n",
      "3.4550871451382608\n",
      "3.4539009443940123\n",
      "3.45273194182443\n",
      "3.451579829976136\n",
      "3.4504443077256113\n",
      "3.449325080129068\n"
     ]
    },
    {
     "name": "stderr",
     "output_type": "stream",
     "text": [
      "\r",
      " 20%|██        | 20/100 [00:57<03:49,  2.87s/it]"
     ]
    },
    {
     "name": "stdout",
     "output_type": "stream",
     "text": [
      "3.448221858276384\n",
      "Epoch 0, Loss 3.448221858276384\n",
      "3.4471343591489902\n",
      "3.4460623054815835\n",
      "3.445005425627545\n",
      "3.4439634534279593\n",
      "3.4429361280841215\n",
      "3.4419231940334307\n",
      "3.4409244008285613\n",
      "3.4399395030198208\n",
      "3.4389682600405984\n"
     ]
    },
    {
     "name": "stderr",
     "output_type": "stream",
     "text": [
      "\r",
      " 21%|██        | 21/100 [00:59<03:43,  2.82s/it]"
     ]
    },
    {
     "name": "stdout",
     "output_type": "stream",
     "text": [
      "3.4380104360958126\n",
      "Epoch 0, Loss 3.4380104360958126\n",
      "3.4370658000532632\n",
      "3.436134125337813\n",
      "3.43521518982831\n",
      "3.434308775757161\n",
      "3.4334146696125036\n",
      "3.432532662042878\n",
      "3.4316625477643328\n",
      "3.430804125469897\n",
      "3.4299571977413583\n"
     ]
    },
    {
     "name": "stderr",
     "output_type": "stream",
     "text": [
      "\r",
      " 22%|██▏       | 22/100 [01:02<03:37,  2.79s/it]"
     ]
    },
    {
     "name": "stdout",
     "output_type": "stream",
     "text": [
      "3.429121570963259\n",
      "Epoch 0, Loss 3.429121570963259\n",
      "3.4282970552390735\n",
      "3.427483464309478\n",
      "3.4266806154726823\n",
      "3.4258883295067393\n",
      "3.425106430593786\n",
      "3.4243347462461746\n",
      "3.423573107234417\n",
      "3.4228213475169165\n",
      "3.422079304171407\n"
     ]
    },
    {
     "name": "stderr",
     "output_type": "stream",
     "text": [
      "\r",
      " 23%|██▎       | 23/100 [01:05<03:27,  2.70s/it]"
     ]
    },
    {
     "name": "stdout",
     "output_type": "stream",
     "text": [
      "3.4213468173280908\n",
      "Epoch 0, Loss 3.4213468173280908\n",
      "3.4206237301043965\n",
      "3.4199098885413255\n",
      "3.4192051415413367\n",
      "3.4185093408077476\n",
      "3.4178223407855732\n",
      "3.4171439986038075\n",
      "3.416474174019069\n",
      "3.4158127293606038\n",
      "3.4151595294765875\n"
     ]
    },
    {
     "name": "stderr",
     "output_type": "stream",
     "text": [
      "\r",
      " 24%|██▍       | 24/100 [01:08<03:29,  2.76s/it]"
     ]
    },
    {
     "name": "stdout",
     "output_type": "stream",
     "text": [
      "3.4145144416817086\n",
      "Epoch 0, Loss 3.4145144416817086\n",
      "3.4138773357059837\n",
      "3.4132480836447856\n",
      "3.4126265599100414\n",
      "3.412012641182573\n",
      "3.4114062063655592\n",
      "3.4108071365390673\n",
      "3.4102153149156504\n",
      "3.4096306267969743\n",
      "3.4090529595314325\n"
     ]
    },
    {
     "name": "stderr",
     "output_type": "stream",
     "text": [
      "\r",
      " 25%|██▌       | 25/100 [01:10<03:17,  2.64s/it]"
     ]
    },
    {
     "name": "stdout",
     "output_type": "stream",
     "text": [
      "3.408482202472749\n",
      "Epoch 0, Loss 3.408482202472749\n",
      "3.407918246939526\n",
      "3.407360986175715\n",
      "3.4068103153119913\n",
      "3.406266131328006\n",
      "3.405728333015493\n",
      "3.40519682094221\n",
      "3.4046714974166967\n",
      "3.4041522664538144\n",
      "3.403639033741069\n"
     ]
    },
    {
     "name": "stderr",
     "output_type": "stream",
     "text": [
      "\r",
      " 26%|██▌       | 26/100 [01:12<03:08,  2.55s/it]"
     ]
    },
    {
     "name": "stdout",
     "output_type": "stream",
     "text": [
      "3.403131706605677\n",
      "Epoch 0, Loss 3.403131706605677\n",
      "3.4026301939823753\n",
      "3.4021344063819345\n",
      "3.4016442558603783\n",
      "3.4011596559888817\n",
      "3.4006805218243237\n",
      "3.400206769880502\n",
      "3.3997383180999634\n",
      "3.399275085826457\n",
      "3.398816993777988\n"
     ]
    },
    {
     "name": "stderr",
     "output_type": "stream",
     "text": [
      "\r",
      " 27%|██▋       | 27/100 [01:15<03:04,  2.53s/it]"
     ]
    },
    {
     "name": "stdout",
     "output_type": "stream",
     "text": [
      "3.398363964020452\n",
      "Epoch 0, Loss 3.398363964020452\n",
      "3.3979159199418456\n",
      "3.397472786227028\n",
      "3.3970344888330346\n",
      "3.3966009549649128\n",
      "3.3961721130520783\n",
      "3.3957478927251796\n",
      "3.395328224793452\n",
      "3.394913041222554\n",
      "3.394502275112871\n"
     ]
    },
    {
     "name": "stderr",
     "output_type": "stream",
     "text": [
      "\r",
      " 28%|██▊       | 28/100 [01:17<02:57,  2.46s/it]"
     ]
    },
    {
     "name": "stdout",
     "output_type": "stream",
     "text": [
      "3.394095860678285\n",
      "Epoch 0, Loss 3.394095860678285\n",
      "3.3936937332253803\n",
      "3.393295829133098\n",
      "3.3929020858328114\n",
      "3.392512441788817\n",
      "3.3921268364792336\n",
      "3.3917452103773034\n",
      "3.3913675049330734\n",
      "3.3909936625554638\n",
      "3.3906236265946954\n"
     ]
    },
    {
     "name": "stderr",
     "output_type": "stream",
     "text": [
      "\r",
      " 29%|██▉       | 29/100 [01:19<02:51,  2.42s/it]"
     ]
    },
    {
     "name": "stdout",
     "output_type": "stream",
     "text": [
      "3.3902573413250963\n",
      "Epoch 0, Loss 3.3902573413250963\n",
      "3.389894751928243\n",
      "3.389535804476462\n",
      "3.389180445916655\n",
      "3.3888286240544687\n",
      "3.388480287538772\n",
      "3.388135385846458\n",
      "3.3877938692675533\n",
      "3.387455688890616\n",
      "3.3871207965884453\n"
     ]
    },
    {
     "name": "stderr",
     "output_type": "stream",
     "text": [
      "\r",
      " 30%|███       | 30/100 [01:22<02:57,  2.53s/it]"
     ]
    },
    {
     "name": "stdout",
     "output_type": "stream",
     "text": [
      "3.386789145004063\n",
      "Epoch 0, Loss 3.386789145004063\n",
      "3.3864606875369856\n",
      "3.3861353783297674\n",
      "3.385813172254807\n",
      "3.3854940249014254\n",
      "3.3851778925631932\n",
      "3.384864732225513\n",
      "3.3845545015534437\n",
      "3.3842471588797656\n",
      "3.3839426631932823\n"
     ]
    },
    {
     "name": "stderr",
     "output_type": "stream",
     "text": [
      "\r",
      " 31%|███       | 31/100 [01:25<03:00,  2.62s/it]"
     ]
    },
    {
     "name": "stdout",
     "output_type": "stream",
     "text": [
      "3.383640974127349\n",
      "Epoch 0, Loss 3.383640974127349\n",
      "3.383342051948624\n",
      "3.383045857546046\n",
      "3.382752352420019\n",
      "3.3824614986718076\n",
      "3.3821732589931446\n",
      "3.3818875966560373\n",
      "3.3816044755027552\n",
      "3.3813238599360385\n"
     ]
    },
    {
     "name": "stderr",
     "output_type": "stream",
     "text": [
      "\r",
      " 32%|███▏      | 32/100 [01:28<03:05,  2.73s/it]"
     ]
    },
    {
     "name": "stdout",
     "output_type": "stream",
     "text": [
      "3.381045714909467\n",
      "3.3807700059180346\n",
      "Epoch 0, Loss 3.3807700059180346\n",
      "3.3804966989888885\n",
      "3.3802257606722548\n",
      "3.3799571580325285\n",
      "3.379690858639547\n",
      "3.3794268305600057\n",
      "3.379165042349061\n",
      "3.378905463042071\n",
      "3.3786480621465076\n",
      "3.378392809634007\n"
     ]
    },
    {
     "name": "stderr",
     "output_type": "stream",
     "text": [
      "\r",
      " 33%|███▎      | 33/100 [01:30<02:56,  2.63s/it]"
     ]
    },
    {
     "name": "stdout",
     "output_type": "stream",
     "text": [
      "3.3781396759325766\n",
      "Epoch 0, Loss 3.3781396759325766\n",
      "3.37788863191895\n",
      "3.3776396489110763\n",
      "3.37739269866075\n",
      "3.3771477533463927\n",
      "3.376904785565946\n",
      "3.3766637683299074\n",
      "3.376424675054502\n",
      "3.376187479554961\n",
      "3.3759521560389447\n"
     ]
    },
    {
     "name": "stderr",
     "output_type": "stream",
     "text": [
      "\r",
      " 34%|███▍      | 34/100 [01:33<03:02,  2.77s/it]"
     ]
    },
    {
     "name": "stdout",
     "output_type": "stream",
     "text": [
      "3.3757186791000664\n",
      "Epoch 0, Loss 3.3757186791000664\n",
      "3.3754870237115497\n",
      "3.3752571652199945\n",
      "3.375029079339257\n",
      "3.374802742144442\n",
      "3.3745781300660065\n",
      "3.3743552198839617\n",
      "3.3741339887221904\n",
      "3.373914414042861\n",
      "3.3736964736409414\n"
     ]
    },
    {
     "name": "stderr",
     "output_type": "stream",
     "text": [
      "\r",
      " 35%|███▌      | 35/100 [01:37<03:16,  3.02s/it]"
     ]
    },
    {
     "name": "stdout",
     "output_type": "stream",
     "text": [
      "3.3734801456388115\n",
      "Epoch 0, Loss 3.3734801456388115\n",
      "3.3732654084809788\n",
      "3.373052240928877\n",
      "3.3728406220557656\n",
      "3.372630531241722\n",
      "3.3724219481687134\n",
      "3.3722148528157625\n",
      "3.372009225454202\n",
      "3.3718050466430025\n",
      "3.3716022972241926\n"
     ]
    },
    {
     "name": "stderr",
     "output_type": "stream",
     "text": [
      "\r",
      " 36%|███▌      | 36/100 [01:40<03:16,  3.07s/it]"
     ]
    },
    {
     "name": "stdout",
     "output_type": "stream",
     "text": [
      "3.3714009583183575\n",
      "Epoch 0, Loss 3.3714009583183575\n",
      "3.3712010113202093\n",
      "3.371002437894248\n",
      "3.370805219970485\n",
      "3.3706093397402483\n",
      "3.3704147796520645\n",
      "3.3702215224076006\n",
      "3.3700295509576907\n",
      "3.3698388484984187\n",
      "3.3696493984672746\n"
     ]
    },
    {
     "name": "stderr",
     "output_type": "stream",
     "text": [
      "\r",
      " 37%|███▋      | 37/100 [01:44<03:19,  3.17s/it]"
     ]
    },
    {
     "name": "stdout",
     "output_type": "stream",
     "text": [
      "3.3694611845393814\n",
      "Epoch 0, Loss 3.3694611845393814\n",
      "3.3692741906237753\n",
      "3.3690884008597664\n",
      "3.368903799613342\n",
      "3.3687203714736476\n",
      "3.368538101249524\n",
      "3.368356973966097\n",
      "3.3681769748614308\n",
      "3.3679980893832444\n",
      "3.3678203031856664\n"
     ]
    },
    {
     "name": "stderr",
     "output_type": "stream",
     "text": [
      "\r",
      " 38%|███▊      | 38/100 [01:47<03:23,  3.28s/it]"
     ]
    },
    {
     "name": "stdout",
     "output_type": "stream",
     "text": [
      "3.367643602126063\n",
      "Epoch 0, Loss 3.367643602126063\n",
      "3.367467972261909\n",
      "3.367293399847716\n",
      "3.3671198713320067\n",
      "3.3669473733543516\n",
      "3.3667758927424427\n",
      "3.36660541650922\n",
      "3.3664359318500545\n",
      "3.366267426139968\n",
      "3.366099886930899\n"
     ]
    },
    {
     "name": "stderr",
     "output_type": "stream",
     "text": [
      "\r",
      " 39%|███▉      | 39/100 [01:51<03:25,  3.36s/it]"
     ]
    },
    {
     "name": "stdout",
     "output_type": "stream",
     "text": [
      "3.3659333019490245\n",
      "Epoch 0, Loss 3.3659333019490245\n",
      "3.3657676590921186\n",
      "3.365602946426949\n",
      "3.365439152186733\n",
      "3.365276264768619\n",
      "3.3651142727312235\n",
      "3.364953164792194\n",
      "3.3647929298258257\n",
      "3.3646335568607117\n",
      "3.364475035077427\n"
     ]
    },
    {
     "name": "stderr",
     "output_type": "stream",
     "text": [
      "\r",
      " 40%|████      | 40/100 [01:53<03:06,  3.10s/it]"
     ]
    },
    {
     "name": "stdout",
     "output_type": "stream",
     "text": [
      "3.3643173538062547\n",
      "Epoch 0, Loss 3.3643173538062547\n",
      "3.3641605025249617\n",
      "3.364004470856579\n",
      "3.3638492485672535\n",
      "3.3636948255641124\n",
      "3.3635411918931695\n",
      "3.363388337737261\n",
      "3.3632362534140294\n",
      "3.363084929373915\n",
      "3.362934356198203\n"
     ]
    },
    {
     "name": "stderr",
     "output_type": "stream",
     "text": [
      "\r",
      " 41%|████      | 41/100 [01:56<02:54,  2.95s/it]"
     ]
    },
    {
     "name": "stdout",
     "output_type": "stream",
     "text": [
      "3.36278452459709\n",
      "Epoch 0, Loss 3.36278452459709\n",
      "3.3626354254077833\n",
      "3.362487049592633\n",
      "3.362339388237292\n",
      "3.3621924325489063\n",
      "3.3620461738543352\n",
      "3.3619006035983974\n",
      "3.361755713342145\n",
      "3.361611494761168\n",
      "3.3614679396439264\n"
     ]
    },
    {
     "name": "stderr",
     "output_type": "stream",
     "text": [
      "\r",
      " 42%|████▏     | 42/100 [01:59<02:46,  2.87s/it]"
     ]
    },
    {
     "name": "stdout",
     "output_type": "stream",
     "text": [
      "3.3613250398901\n",
      "Epoch 0, Loss 3.3613250398901\n",
      "3.3611827875089753\n",
      "3.361041174617855\n",
      "3.3609001934404827\n",
      "3.360759836305509\n",
      "3.360620095644968\n",
      "3.360480963992787\n",
      "3.360342433983308\n",
      "3.3602044983498507\n",
      "3.3600671499232786\n"
     ]
    },
    {
     "name": "stderr",
     "output_type": "stream",
     "text": [
      "\r",
      " 43%|████▎     | 43/100 [02:02<02:53,  3.04s/it]"
     ]
    },
    {
     "name": "stdout",
     "output_type": "stream",
     "text": [
      "3.3599303816305954\n",
      "Epoch 0, Loss 3.3599303816305954\n",
      "3.3597941864935725\n",
      "3.3596585576273785\n",
      "3.3595234882392493\n",
      "3.359388971627164\n",
      "3.3592550011785507\n",
      "3.3591215703690085\n",
      "3.35898867276105\n",
      "3.358856302002862\n",
      "3.358724451827087\n"
     ]
    },
    {
     "name": "stderr",
     "output_type": "stream",
     "text": [
      "\r",
      " 44%|████▍     | 44/100 [02:05<02:57,  3.16s/it]"
     ]
    },
    {
     "name": "stdout",
     "output_type": "stream",
     "text": [
      "3.3585931160496245\n",
      "Epoch 0, Loss 3.3585931160496245\n",
      "3.358462288568444\n",
      "3.358331963362428\n",
      "3.3582021344902198\n",
      "3.3580727960891\n",
      "3.357943942373869\n",
      "3.3578155676357597\n",
      "3.3576876662413553\n",
      "3.3575602326315304\n",
      "3.3574332613204034\n"
     ]
    },
    {
     "name": "stderr",
     "output_type": "stream",
     "text": [
      "\r",
      " 45%|████▌     | 45/100 [02:09<03:08,  3.43s/it]"
     ]
    },
    {
     "name": "stdout",
     "output_type": "stream",
     "text": [
      "3.3573067468943076\n",
      "Epoch 0, Loss 3.3573067468943076\n",
      "3.3571806840107814\n",
      "3.357055067397564\n",
      "3.3569298918516166\n",
      "3.3568051522381497\n",
      "3.356680843489675\n",
      "3.3565569606050603\n",
      "3.3564334986486095\n",
      "3.356310452749143\n",
      "3.3561878180991096\n"
     ]
    },
    {
     "name": "stderr",
     "output_type": "stream",
     "text": [
      "\r",
      " 46%|████▌     | 46/100 [02:12<02:55,  3.24s/it]"
     ]
    },
    {
     "name": "stdout",
     "output_type": "stream",
     "text": [
      "3.3560655899536944\n",
      "Epoch 0, Loss 3.3560655899536944\n",
      "3.355943763629949\n",
      "3.355822334505941\n",
      "3.3557012980198935\n",
      "3.3555806496693674\n",
      "3.3554603850104323\n",
      "3.35534049965686\n",
      "3.3552209892793305\n",
      "3.3551018496046425\n",
      "3.3549830764149458\n"
     ]
    },
    {
     "name": "stderr",
     "output_type": "stream",
     "text": [
      "\r",
      " 47%|████▋     | 47/100 [02:15<02:44,  3.11s/it]"
     ]
    },
    {
     "name": "stdout",
     "output_type": "stream",
     "text": [
      "3.3548646655469776\n",
      "Epoch 0, Loss 3.3548646655469776\n",
      "3.354746612891312\n",
      "3.35462891439162\n",
      "3.354511566043943\n",
      "3.354394563895975\n",
      "3.354277904046355\n",
      "3.3541615826439672\n",
      "3.3540455958872637\n",
      "3.3539299400235754\n",
      "3.353814611348455\n"
     ]
    },
    {
     "name": "stderr",
     "output_type": "stream",
     "text": [
      "\r",
      " 48%|████▊     | 48/100 [02:18<02:41,  3.11s/it]"
     ]
    },
    {
     "name": "stdout",
     "output_type": "stream",
     "text": [
      "3.353699606205019\n",
      "Epoch 0, Loss 3.353699606205019\n",
      "3.3535849209832937\n",
      "3.3534705521195867\n",
      "3.353356496095851\n",
      "3.353242749439068\n",
      "3.3531293087206397\n",
      "3.3530161705557817\n",
      "3.352903331602936\n",
      "3.3527907885631834\n",
      "3.352678538179665\n"
     ]
    },
    {
     "name": "stderr",
     "output_type": "stream",
     "text": [
      "\r",
      " 49%|████▉     | 49/100 [02:21<02:33,  3.02s/it]"
     ]
    },
    {
     "name": "stdout",
     "output_type": "stream",
     "text": [
      "3.3525665772370217\n",
      "Epoch 0, Loss 3.3525665772370217\n",
      "3.3524549025608263\n",
      "3.352343511017044\n",
      "3.3522323995114727\n",
      "3.3521215649892215\n",
      "3.3520110044341753\n",
      "3.3519007148684783\n",
      "3.3517906933520156\n",
      "3.3516809369819147\n",
      "3.351571442892041\n"
     ]
    },
    {
     "name": "stderr",
     "output_type": "stream",
     "text": [
      "\r",
      " 50%|█████     | 50/100 [02:24<02:30,  3.02s/it]"
     ]
    },
    {
     "name": "stdout",
     "output_type": "stream",
     "text": [
      "3.3514622082525096\n",
      "Epoch 0, Loss 3.3514622082525096\n",
      "3.351353230269202\n",
      "3.3512445061832827\n",
      "3.3511360332707376\n",
      "3.3510278088419008\n",
      "3.350919830241005\n",
      "3.3508120948457254\n",
      "3.3507046000667375\n",
      "3.3505973433472764\n"
     ]
    },
    {
     "name": "stderr",
     "output_type": "stream",
     "text": [
      "\r",
      " 51%|█████     | 51/100 [02:27<02:25,  2.97s/it]"
     ]
    },
    {
     "name": "stdout",
     "output_type": "stream",
     "text": [
      "3.35049032216271\n",
      "3.3503835340201062\n",
      "Epoch 0, Loss 3.3503835340201062\n",
      "3.350276976457819\n",
      "3.3501706470450703\n",
      "3.350064543381541\n",
      "3.349958663096976\n",
      "3.3498530038507774\n",
      "3.349747563331618\n",
      "3.3496423392570565\n",
      "3.349537329373156\n",
      "3.349432531454108\n"
     ]
    },
    {
     "name": "stderr",
     "output_type": "stream",
     "text": [
      "\r",
      " 52%|█████▏    | 52/100 [02:30<02:24,  3.01s/it]"
     ]
    },
    {
     "name": "stdout",
     "output_type": "stream",
     "text": [
      "3.3493279433018617\n",
      "Epoch 0, Loss 3.3493279433018617\n",
      "3.349223562745763\n",
      "3.349119387642191\n",
      "3.3490154158742045\n",
      "3.348911645351195\n",
      "3.348808074008536\n",
      "3.3487046998072505\n",
      "3.3486015207336672\n",
      "3.348498534799097\n",
      "3.3483957400395044\n"
     ]
    },
    {
     "name": "stderr",
     "output_type": "stream",
     "text": [
      "\r",
      " 53%|█████▎    | 53/100 [02:33<02:15,  2.87s/it]"
     ]
    },
    {
     "name": "stdout",
     "output_type": "stream",
     "text": [
      "3.3482931345151825\n",
      "Epoch 0, Loss 3.3482931345151825\n",
      "3.348190716310441\n",
      "3.348088483533291\n",
      "3.347986434315135\n",
      "3.3478845668104666\n",
      "3.3477828791965645\n",
      "3.3476813696732046\n",
      "3.3475800364623605\n",
      "3.3474788778079168\n",
      "3.347377891975392\n"
     ]
    },
    {
     "name": "stderr",
     "output_type": "stream",
     "text": [
      "\r",
      " 54%|█████▍    | 54/100 [02:36<02:16,  2.97s/it]"
     ]
    },
    {
     "name": "stdout",
     "output_type": "stream",
     "text": [
      "3.3472770772516487\n",
      "Epoch 0, Loss 3.3472770772516487\n",
      "3.3471764319446273\n",
      "3.3470759543830613\n",
      "3.3469756429162207\n",
      "3.3468754959136393\n",
      "3.346775511764857\n",
      "3.3466756888791602\n",
      "3.3465760256853274\n",
      "3.3464765206313776\n",
      "3.3463771721843245\n"
     ]
    },
    {
     "name": "stderr",
     "output_type": "stream",
     "text": [
      "\r",
      " 55%|█████▌    | 55/100 [02:39<02:13,  2.97s/it]"
     ]
    },
    {
     "name": "stdout",
     "output_type": "stream",
     "text": [
      "3.346277978829933\n",
      "Epoch 0, Loss 3.346277978829933\n",
      "3.3461789390724737\n",
      "3.3460800514344915\n",
      "3.3459813144565635\n",
      "3.345882726697078\n",
      "3.345784286731998\n",
      "3.3456859931546346\n",
      "3.3455878445754377\n",
      "3.3454898396217616\n",
      "3.345391976937659\n"
     ]
    },
    {
     "name": "stderr",
     "output_type": "stream",
     "text": [
      "\r",
      " 56%|█████▌    | 56/100 [02:42<02:10,  2.97s/it]"
     ]
    },
    {
     "name": "stdout",
     "output_type": "stream",
     "text": [
      "3.345294255183662\n",
      "Epoch 0, Loss 3.345294255183662\n",
      "3.345196673036578\n",
      "3.345099229189276\n",
      "3.3450019223504848\n",
      "3.3449047512445893\n",
      "3.344807714611435\n",
      "3.344710811206129\n",
      "3.344614039798845\n",
      "3.344517399174633\n"
     ]
    },
    {
     "name": "stderr",
     "output_type": "stream",
     "text": [
      "\r",
      " 57%|█████▋    | 57/100 [02:44<02:01,  2.83s/it]"
     ]
    },
    {
     "name": "stdout",
     "output_type": "stream",
     "text": [
      "3.344420888133229\n",
      "3.344324505488873\n",
      "Epoch 0, Loss 3.344324505488873\n",
      "3.344228250070121\n",
      "3.344132120719663\n",
      "3.344036116294149\n",
      "3.3439402356640073\n",
      "3.3438444777132714\n",
      "3.3437488413394125\n",
      "3.343653325453162\n",
      "3.34355792897835\n",
      "3.343462650851739\n"
     ]
    },
    {
     "name": "stderr",
     "output_type": "stream",
     "text": [
      "\r",
      " 58%|█████▊    | 58/100 [02:48<02:08,  3.07s/it]"
     ]
    },
    {
     "name": "stdout",
     "output_type": "stream",
     "text": [
      "3.343367490022859\n",
      "Epoch 0, Loss 3.343367490022859\n",
      "3.3432724454538483\n",
      "3.3431775161192956\n",
      "3.3430827010060793\n",
      "3.3429879991132188\n",
      "3.3428934094517158\n",
      "3.342798931044409\n",
      "3.342704562925821\n",
      "3.3426103041420174\n",
      "3.342516153750456\n"
     ]
    },
    {
     "name": "stderr",
     "output_type": "stream",
     "text": [
      "\r",
      " 59%|█████▉    | 59/100 [02:51<02:12,  3.22s/it]"
     ]
    },
    {
     "name": "stdout",
     "output_type": "stream",
     "text": [
      "3.3424221108198466\n",
      "Epoch 0, Loss 3.3424221108198466\n",
      "3.342328174430012\n",
      "3.3422343436717443\n",
      "3.3421406176466744\n",
      "3.3420469954671304\n",
      "3.341953476256003\n",
      "3.341860059146622\n",
      "3.341766743282619\n",
      "3.341673527817797\n",
      "3.3415804119160124\n"
     ]
    },
    {
     "name": "stderr",
     "output_type": "stream",
     "text": [
      "\r",
      " 60%|██████    | 60/100 [02:54<02:07,  3.19s/it]"
     ]
    },
    {
     "name": "stdout",
     "output_type": "stream",
     "text": [
      "3.341487394751041\n",
      "Epoch 0, Loss 3.341487394751041\n",
      "3.341394475506461\n",
      "3.3413016533755235\n",
      "3.3412089275610404\n",
      "3.3411162972752626\n",
      "3.3410237617397573\n",
      "3.340931320185301\n",
      "3.3408389718517584\n",
      "3.3407467159879745\n",
      "3.34065455185166\n"
     ]
    },
    {
     "name": "stderr",
     "output_type": "stream",
     "text": [
      "\r",
      " 61%|██████    | 61/100 [02:57<02:02,  3.13s/it]"
     ]
    },
    {
     "name": "stdout",
     "output_type": "stream",
     "text": [
      "3.340562478709285\n",
      "Epoch 0, Loss 3.340562478709285\n",
      "3.3404704958359632\n",
      "3.3403786025153535\n",
      "3.340286798039549\n",
      "3.3401950817089747\n",
      "3.340103452832286\n",
      "3.340011910726262\n",
      "3.3399204547157098\n",
      "3.339829084133363\n",
      "3.3397377983197853\n"
     ]
    },
    {
     "name": "stderr",
     "output_type": "stream",
     "text": [
      "\r",
      " 62%|██████▏   | 62/100 [03:00<01:55,  3.03s/it]"
     ]
    },
    {
     "name": "stdout",
     "output_type": "stream",
     "text": [
      "3.339646596623277\n",
      "Epoch 0, Loss 3.339646596623277\n",
      "3.3395554783997703\n",
      "3.3394644430127456\n",
      "3.3393734898331315\n",
      "3.339282618239218\n",
      "3.339191827616564\n",
      "3.339101117357906\n",
      "3.3390104868630734\n",
      "3.3389199355388985\n",
      "3.3388294627991333\n"
     ]
    },
    {
     "name": "stderr",
     "output_type": "stream",
     "text": [
      "\r",
      " 63%|██████▎   | 63/100 [03:04<01:55,  3.12s/it]"
     ]
    },
    {
     "name": "stdout",
     "output_type": "stream",
     "text": [
      "3.338739068064363\n",
      "Epoch 0, Loss 3.338739068064363\n",
      "3.3386487507619207\n",
      "3.3385585103258086\n",
      "3.3384683461966134\n",
      "3.338378257821428\n",
      "3.338288244653766\n",
      "3.338198306153492\n",
      "3.3381084417867375\n",
      "3.338018651025827\n",
      "3.3379289333492017\n"
     ]
    },
    {
     "name": "stderr",
     "output_type": "stream",
     "text": [
      "\r",
      " 64%|██████▍   | 64/100 [03:08<02:06,  3.50s/it]"
     ]
    },
    {
     "name": "stdout",
     "output_type": "stream",
     "text": [
      "3.3378392882413443\n",
      "Epoch 0, Loss 3.3378392882413443\n",
      "3.3377497151927065\n",
      "3.3376602136996336\n",
      "3.337570783264298\n",
      "3.3374814233946215\n",
      "3.337392133604212\n",
      "3.3373029134122874\n",
      "3.3372137623436116\n",
      "3.33712467992843\n",
      "3.337035665702393\n"
     ]
    },
    {
     "name": "stderr",
     "output_type": "stream",
     "text": [
      "\r",
      " 65%|██████▌   | 65/100 [03:11<01:56,  3.32s/it]"
     ]
    },
    {
     "name": "stdout",
     "output_type": "stream",
     "text": [
      "3.3369467192065008\n",
      "Epoch 0, Loss 3.3369467192065008\n",
      "3.3368578399870343\n",
      "3.3367690275954853\n",
      "3.3366802815885075\n",
      "3.3365916015278376\n",
      "3.336502986980245\n",
      "3.336414437517465\n",
      "3.336325952716143\n",
      "3.33623753215777\n",
      "3.3361491754286305\n"
     ]
    },
    {
     "name": "stderr",
     "output_type": "stream",
     "text": [
      "\r",
      " 66%|██████▌   | 66/100 [03:14<01:51,  3.28s/it]"
     ]
    },
    {
     "name": "stdout",
     "output_type": "stream",
     "text": [
      "3.3360608821197357\n",
      "Epoch 0, Loss 3.3360608821197357\n",
      "3.335972651826776\n",
      "3.3358844841500557\n",
      "3.335796378694446\n",
      "3.3357083350693206\n",
      "3.335620352888507\n",
      "3.335532431770236\n",
      "3.335444571337078\n",
      "3.3353567712159014\n"
     ]
    },
    {
     "name": "stderr",
     "output_type": "stream",
     "text": [
      "\r",
      " 67%|██████▋   | 67/100 [03:17<01:42,  3.11s/it]"
     ]
    },
    {
     "name": "stdout",
     "output_type": "stream",
     "text": [
      "3.335269031037814\n",
      "3.3351813504381167\n",
      "Epoch 0, Loss 3.3351813504381167\n",
      "3.335093729056247\n",
      "3.3350061665357367\n",
      "3.3349186625241565\n",
      "3.33483121667307\n",
      "3.3347438286379854\n",
      "3.3346564980783095\n",
      "3.3345692246572973\n",
      "3.3344820080420106\n",
      "3.3343948479032655\n"
     ]
    },
    {
     "name": "stderr",
     "output_type": "stream",
     "text": [
      "\r",
      " 68%|██████▊   | 68/100 [03:20<01:37,  3.05s/it]"
     ]
    },
    {
     "name": "stdout",
     "output_type": "stream",
     "text": [
      "3.334307743915597\n",
      "Epoch 0, Loss 3.334307743915597\n",
      "3.3342206957572045\n",
      "3.334133703109914\n",
      "3.334046765659134\n",
      "3.33395988309381\n",
      "3.333873055106384\n",
      "3.3337862813927535\n",
      "3.333699561652227\n",
      "3.3336128955874877\n",
      "3.3335262829045478\n"
     ]
    },
    {
     "name": "stderr",
     "output_type": "stream",
     "text": [
      "\r",
      " 69%|██████▉   | 69/100 [03:23<01:34,  3.03s/it]"
     ]
    },
    {
     "name": "stdout",
     "output_type": "stream",
     "text": [
      "3.3334397233127144\n",
      "Epoch 0, Loss 3.3334397233127144\n",
      "3.333353216524547\n",
      "3.3332667622558154\n",
      "3.3331803602254713\n",
      "3.333094010155598\n",
      "3.3330077117713817\n",
      "3.3329214648010734\n",
      "3.332835268975948\n",
      "3.3327491240302733\n",
      "3.33266302970127\n"
     ]
    },
    {
     "name": "stderr",
     "output_type": "stream",
     "text": [
      "\r",
      " 70%|███████   | 70/100 [03:26<01:33,  3.12s/it]"
     ]
    },
    {
     "name": "stdout",
     "output_type": "stream",
     "text": [
      "3.332576985729082\n",
      "Epoch 0, Loss 3.332576985729082\n",
      "3.332490991856735\n",
      "3.332405047830107\n",
      "3.3323191533978935\n",
      "3.3322333083115723\n",
      "3.3321475123253723\n",
      "3.3320617651962414\n",
      "3.33197606668381\n",
      "3.3318904165503644\n",
      "3.331804814560812\n"
     ]
    },
    {
     "name": "stderr",
     "output_type": "stream",
     "text": [
      "\r",
      " 71%|███████   | 71/100 [03:30<01:34,  3.25s/it]"
     ]
    },
    {
     "name": "stdout",
     "output_type": "stream",
     "text": [
      "3.3317192604826515\n",
      "Epoch 0, Loss 3.3317192604826515\n",
      "3.3316337540859418\n",
      "3.3315482951432713\n",
      "3.331462883429729\n",
      "3.331377518722875\n",
      "3.3312922008027086\n",
      "3.3312069294516413\n",
      "3.33112170445447\n",
      "3.3310365255983467\n",
      "3.3309513926727496\n"
     ]
    },
    {
     "name": "stderr",
     "output_type": "stream",
     "text": [
      "\r",
      " 72%|███████▏  | 72/100 [03:34<01:43,  3.69s/it]"
     ]
    },
    {
     "name": "stdout",
     "output_type": "stream",
     "text": [
      "3.3308663054694585\n",
      "Epoch 0, Loss 3.3308663054694585\n",
      "3.330781263782525\n",
      "3.3306962674082476\n",
      "3.330611316145143\n",
      "3.330526409793923\n",
      "3.3304415481574674\n",
      "3.330356731040794\n",
      "3.3302719582510423\n",
      "3.3301872295974393\n",
      "3.3301025448912798\n"
     ]
    },
    {
     "name": "stderr",
     "output_type": "stream",
     "text": [
      "\r",
      " 73%|███████▎  | 73/100 [03:37<01:30,  3.33s/it]"
     ]
    },
    {
     "name": "stdout",
     "output_type": "stream",
     "text": [
      "3.330017903945905\n",
      "Epoch 0, Loss 3.330017903945905\n",
      "3.329933306576671\n",
      "3.329848752600929\n",
      "3.329764241838003\n",
      "3.3296797741091644\n",
      "3.329595349237611\n",
      "3.3295109670484404\n",
      "3.3294266273686346\n",
      "3.3293423300270297\n",
      "3.329258074854302\n"
     ]
    },
    {
     "name": "stderr",
     "output_type": "stream",
     "text": [
      "\r",
      " 74%|███████▍  | 74/100 [03:39<01:21,  3.14s/it]"
     ]
    },
    {
     "name": "stdout",
     "output_type": "stream",
     "text": [
      "3.3291738616829405\n",
      "Epoch 0, Loss 3.3291738616829405\n",
      "3.3290896903472262\n",
      "3.3290055606832167\n",
      "3.3289214725287173\n",
      "3.3288374257232674\n",
      "3.328753420108116\n",
      "3.3286694555262017\n",
      "3.328585531822136\n",
      "3.328501648842182\n",
      "3.3284178064342327\n"
     ]
    },
    {
     "name": "stderr",
     "output_type": "stream",
     "text": [
      "\r",
      " 75%|███████▌  | 75/100 [03:42<01:15,  3.04s/it]"
     ]
    },
    {
     "name": "stdout",
     "output_type": "stream",
     "text": [
      "3.328334004447797\n",
      "Epoch 0, Loss 3.328334004447797\n",
      "3.3282502427339753\n",
      "3.328166521145444\n",
      "3.3280828395364392\n",
      "3.3279991977627317\n",
      "3.327915595681617\n",
      "3.327832033151891\n",
      "3.3277485100338366\n",
      "3.327665026189205\n",
      "3.327581581481197\n"
     ]
    },
    {
     "name": "stderr",
     "output_type": "stream",
     "text": [
      "\r",
      " 76%|███████▌  | 76/100 [03:46<01:15,  3.15s/it]"
     ]
    },
    {
     "name": "stdout",
     "output_type": "stream",
     "text": [
      "3.3274981757744495\n",
      "Epoch 0, Loss 3.3274981757744495\n",
      "3.327414808935015\n",
      "3.3273314808303485\n",
      "3.3272481913292893\n",
      "3.3271649403020427\n",
      "3.3270817276201705\n",
      "3.326998553156569\n",
      "3.3269154167854555\n",
      "3.326832318382354\n",
      "3.326749257824078\n"
     ]
    },
    {
     "name": "stderr",
     "output_type": "stream",
     "text": [
      "\r",
      " 77%|███████▋  | 77/100 [03:49<01:14,  3.23s/it]"
     ]
    },
    {
     "name": "stdout",
     "output_type": "stream",
     "text": [
      "3.3266662349887177\n",
      "Epoch 0, Loss 3.3266662349887177\n",
      "3.3265832497556236\n",
      "3.3265003020053934\n",
      "3.326417391619853\n",
      "3.3263345184820508\n",
      "3.326251682476234\n",
      "3.3261688834878407\n",
      "3.3260861214034843\n",
      "3.326003396110942\n",
      "3.325920707499135\n"
     ]
    },
    {
     "name": "stderr",
     "output_type": "stream",
     "text": [
      "\r",
      " 78%|███████▊  | 78/100 [03:52<01:07,  3.06s/it]"
     ]
    },
    {
     "name": "stdout",
     "output_type": "stream",
     "text": [
      "3.325838055458122\n",
      "Epoch 0, Loss 3.325838055458122\n",
      "3.3257554398790847\n",
      "3.3256728606543127\n",
      "3.3255903176771895\n",
      "3.3255078108421836\n",
      "3.3254253400448355\n",
      "3.325342905181741\n",
      "3.3252605061505456\n",
      "3.3251781428499267\n"
     ]
    },
    {
     "name": "stderr",
     "output_type": "stream",
     "text": [
      "\r",
      " 79%|███████▉  | 79/100 [03:55<01:07,  3.19s/it]"
     ]
    },
    {
     "name": "stdout",
     "output_type": "stream",
     "text": [
      "3.325095815179583\n",
      "3.3250135230402247\n",
      "Epoch 0, Loss 3.3250135230402247\n",
      "3.3249312663335595\n",
      "3.324849044962285\n",
      "3.3247668588300696\n",
      "3.3246847078415507\n",
      "3.324602591902316\n",
      "3.324520510918896\n",
      "3.324438464798753\n",
      "3.32435645345027\n",
      "3.324274476782739\n"
     ]
    },
    {
     "name": "stderr",
     "output_type": "stream",
     "text": [
      "\r",
      " 80%|████████  | 80/100 [03:58<00:59,  2.95s/it]"
     ]
    },
    {
     "name": "stdout",
     "output_type": "stream",
     "text": [
      "3.324192534706353\n",
      "Epoch 0, Loss 3.324192534706353\n",
      "3.3241106271321925\n",
      "3.324028753972217\n",
      "3.3239469151392553\n",
      "3.323865110546996\n",
      "3.3237833401099746\n",
      "3.3237016037435665\n",
      "3.3236199013639767\n",
      "3.3235382328882306\n",
      "3.3234565982341624\n"
     ]
    },
    {
     "name": "stderr",
     "output_type": "stream",
     "text": [
      "\r",
      " 81%|████████  | 81/100 [04:00<00:53,  2.82s/it]"
     ]
    },
    {
     "name": "stdout",
     "output_type": "stream",
     "text": [
      "3.3233749973204083\n",
      "Epoch 0, Loss 3.3233749973204083\n",
      "3.3232934300663968\n",
      "3.3232118963923396\n",
      "3.323130396219221\n",
      "3.32304892946879\n",
      "3.322967496063553\n",
      "3.3228860959267648\n",
      "3.3228047289824167\n",
      "3.3227233951552306\n"
     ]
    },
    {
     "name": "stderr",
     "output_type": "stream",
     "text": [
      "\r",
      " 82%|████████▏ | 82/100 [04:03<00:49,  2.76s/it]"
     ]
    },
    {
     "name": "stdout",
     "output_type": "stream",
     "text": [
      "3.322642094370653\n",
      "3.3225608265548416\n",
      "Epoch 0, Loss 3.3225608265548416\n",
      "3.322479591634661\n",
      "3.3223983895376734\n",
      "3.3223172201921285\n",
      "3.322236083526961\n",
      "3.3221549794717764\n",
      "3.3220739079568493\n",
      "3.3219928689131093\n",
      "3.321911862272139\n",
      "3.3218308879661653\n"
     ]
    },
    {
     "name": "stderr",
     "output_type": "stream",
     "text": [
      "\r",
      " 83%|████████▎ | 83/100 [04:06<00:49,  2.92s/it]"
     ]
    },
    {
     "name": "stdout",
     "output_type": "stream",
     "text": [
      "3.321749945928049\n",
      "Epoch 0, Loss 3.321749945928049\n",
      "3.3216690360912824\n",
      "3.3215881583899765\n",
      "3.32150731275886\n",
      "3.321426499133267\n",
      "3.3213457174491334\n",
      "3.3212649676429886\n",
      "3.3211842496519473\n",
      "3.3211035634137094\n",
      "3.3210229088665426\n"
     ]
    },
    {
     "name": "stderr",
     "output_type": "stream",
     "text": [
      "\r",
      " 84%|████████▍ | 84/100 [04:09<00:46,  2.89s/it]"
     ]
    },
    {
     "name": "stdout",
     "output_type": "stream",
     "text": [
      "3.320942285949286\n",
      "Epoch 0, Loss 3.320942285949286\n",
      "3.3208616946013354\n",
      "3.320781134762647\n",
      "3.3207006063737197\n",
      "3.3206201093755947\n",
      "3.320539643709852\n",
      "3.320459209318598\n",
      "3.320378806144465\n",
      "3.3202984341306\n",
      "3.320218093220664\n"
     ]
    },
    {
     "name": "stderr",
     "output_type": "stream",
     "text": [
      "\r",
      " 85%|████████▌ | 85/100 [04:12<00:43,  2.89s/it]"
     ]
    },
    {
     "name": "stdout",
     "output_type": "stream",
     "text": [
      "3.320137783358823\n",
      "Epoch 0, Loss 3.320137783358823\n",
      "3.320057504489743\n",
      "3.3199772565585848\n",
      "3.319897039510998\n",
      "3.3198168532931147\n",
      "3.3197366978515457\n",
      "3.319656573133373\n",
      "3.319576479086147\n",
      "3.3194964156578792\n",
      "3.319416382797037\n"
     ]
    },
    {
     "name": "stderr",
     "output_type": "stream",
     "text": [
      "\r",
      " 86%|████████▌ | 86/100 [04:15<00:40,  2.92s/it]"
     ]
    },
    {
     "name": "stdout",
     "output_type": "stream",
     "text": [
      "3.319336380452539\n",
      "Epoch 0, Loss 3.319336380452539\n",
      "3.319256408573753\n",
      "3.3191764671104815\n",
      "3.319096556012971\n",
      "3.3190166752318935\n",
      "3.3189368247183473\n",
      "3.318857004423857\n",
      "3.318777214300359\n",
      "3.318697454300205\n",
      "3.3186177243761517\n"
     ]
    },
    {
     "name": "stderr",
     "output_type": "stream",
     "text": [
      "\r",
      " 87%|████████▋ | 87/100 [04:18<00:37,  2.91s/it]"
     ]
    },
    {
     "name": "stdout",
     "output_type": "stream",
     "text": [
      "3.3185380244813594\n",
      "Epoch 0, Loss 3.3185380244813594\n",
      "3.318458354569387\n",
      "3.318378714594186\n",
      "3.3182991045100994\n",
      "3.3182195242718526\n",
      "3.318139973834552\n",
      "3.3180604531536835\n",
      "3.317980962185099\n",
      "3.3179015008850237\n",
      "3.3178220692100426\n"
     ]
    },
    {
     "name": "stderr",
     "output_type": "stream",
     "text": [
      "\r",
      " 88%|████████▊ | 88/100 [04:20<00:34,  2.85s/it]"
     ]
    },
    {
     "name": "stdout",
     "output_type": "stream",
     "text": [
      "3.3177426671171037\n",
      "Epoch 0, Loss 3.3177426671171037\n",
      "3.3176632945635083\n",
      "3.317583951506908\n",
      "3.317504637905304\n",
      "3.317425353717043\n",
      "3.317346098900807\n",
      "3.317266873415618\n",
      "3.3171876772208266\n",
      "3.3171085102761135\n",
      "3.3170293725414863\n"
     ]
    },
    {
     "name": "stderr",
     "output_type": "stream",
     "text": [
      "\r",
      " 89%|████████▉ | 89/100 [04:24<00:32,  2.98s/it]"
     ]
    },
    {
     "name": "stdout",
     "output_type": "stream",
     "text": [
      "3.31695026397727\n",
      "Epoch 0, Loss 3.31695026397727\n",
      "3.316871184544109\n",
      "3.3167921342029625\n",
      "3.3167131129150986\n",
      "3.316634120642092\n",
      "3.316555157345823\n",
      "3.31647622298847\n",
      "3.316397317532509\n",
      "3.316318440940711\n",
      "3.316239593176132\n"
     ]
    },
    {
     "name": "stderr",
     "output_type": "stream",
     "text": [
      "\r",
      " 90%|█████████ | 90/100 [04:26<00:29,  2.93s/it]"
     ]
    },
    {
     "name": "stdout",
     "output_type": "stream",
     "text": [
      "3.316160774202121\n",
      "Epoch 0, Loss 3.316160774202121\n",
      "3.316081983982308\n",
      "3.3160032224806026\n",
      "3.3159244896611937\n",
      "3.3158457854885426\n",
      "3.3157671099273833\n",
      "3.3156884629427172\n",
      "3.315609844499811\n",
      "3.3155312545641946\n",
      "3.3154526931016557\n"
     ]
    },
    {
     "name": "stderr",
     "output_type": "stream",
     "text": [
      "\r",
      " 91%|█████████ | 91/100 [04:29<00:26,  2.90s/it]"
     ]
    },
    {
     "name": "stdout",
     "output_type": "stream",
     "text": [
      "3.315374160078237\n",
      "Epoch 0, Loss 3.315374160078237\n",
      "3.315295655460241\n",
      "3.3152171792142147\n",
      "3.315138731306954\n",
      "3.3150603117055013\n",
      "3.314981920377143\n",
      "3.3149035572894014\n",
      "3.314825222410039\n",
      "3.314746915707051\n",
      "3.3146686371486664\n"
     ]
    },
    {
     "name": "stderr",
     "output_type": "stream",
     "text": [
      "\r",
      " 92%|█████████▏| 92/100 [04:32<00:22,  2.83s/it]"
     ]
    },
    {
     "name": "stdout",
     "output_type": "stream",
     "text": [
      "3.314590386703341\n",
      "Epoch 0, Loss 3.314590386703341\n",
      "3.314512164339758\n",
      "3.314433970026826\n",
      "3.3143558037336756\n",
      "3.3142776654296533\n",
      "3.3141995550843264\n",
      "3.3141214726674737\n",
      "3.3140434181490894\n",
      "3.3139653914993725\n",
      "3.3138873926887347\n"
     ]
    },
    {
     "name": "stderr",
     "output_type": "stream",
     "text": [
      "\r",
      " 93%|█████████▎| 93/100 [04:35<00:20,  2.97s/it]"
     ]
    },
    {
     "name": "stdout",
     "output_type": "stream",
     "text": [
      "3.3138094216877896\n",
      "Epoch 0, Loss 3.3138094216877896\n",
      "3.3137314784673517\n",
      "3.313653562998442\n",
      "3.3135756752522743\n",
      "3.3134978152002623\n",
      "3.31341998281401\n",
      "3.3133421780653167\n",
      "3.31326440092617\n",
      "3.313186651368745\n",
      "3.3131089293654012\n"
     ]
    },
    {
     "name": "stderr",
     "output_type": "stream",
     "text": [
      "\r",
      " 94%|█████████▍| 94/100 [04:39<00:18,  3.13s/it]"
     ]
    },
    {
     "name": "stdout",
     "output_type": "stream",
     "text": [
      "3.3130312348886846\n",
      "Epoch 0, Loss 3.3130312348886846\n",
      "3.312953567911321\n",
      "3.3128759284062137\n",
      "3.312798316346449\n",
      "3.312720731705282\n",
      "3.312643174456146\n",
      "3.312565644572644\n",
      "3.3124881420285517\n",
      "3.312410666797809\n",
      "3.3123332188545227\n"
     ]
    },
    {
     "name": "stderr",
     "output_type": "stream",
     "text": [
      "\r",
      " 95%|█████████▌| 95/100 [04:42<00:15,  3.18s/it]"
     ]
    },
    {
     "name": "stdout",
     "output_type": "stream",
     "text": [
      "3.3122557981729663\n",
      "Epoch 0, Loss 3.3122557981729663\n",
      "3.312178404727575\n",
      "3.312101038492941\n",
      "3.312023699443821\n",
      "3.3119463875551265\n",
      "3.311869102801923\n",
      "3.311791845159432\n",
      "3.3117146146030256\n",
      "3.3116374111082263\n",
      "3.311560234650709\n"
     ]
    },
    {
     "name": "stderr",
     "output_type": "stream",
     "text": [
      "\r",
      " 96%|█████████▌| 96/100 [04:46<00:13,  3.40s/it]"
     ]
    },
    {
     "name": "stdout",
     "output_type": "stream",
     "text": [
      "3.3114830852062895\n",
      "Epoch 0, Loss 3.3114830852062895\n",
      "3.3114059627509342\n",
      "3.3113288672607526\n",
      "3.3112517987119947\n",
      "3.311174757081052\n",
      "3.3110977423444568\n",
      "3.3110207544788777\n",
      "3.310943793461121\n",
      "3.310866859268126\n",
      "3.3107899518769663\n"
     ]
    },
    {
     "name": "stderr",
     "output_type": "stream",
     "text": [
      "\r",
      " 97%|█████████▋| 97/100 [04:49<00:09,  3.25s/it]"
     ]
    },
    {
     "name": "stdout",
     "output_type": "stream",
     "text": [
      "3.3107130712648476\n",
      "Epoch 0, Loss 3.3107130712648476\n",
      "3.3106362174091064\n",
      "3.310559390287206\n",
      "3.3104825898767407\n",
      "3.3104058161554297\n",
      "3.310329069101116\n",
      "3.3102523486917663\n",
      "3.310175654905471\n",
      "3.3100989877204405\n",
      "3.310022347115005\n"
     ]
    },
    {
     "name": "stderr",
     "output_type": "stream",
     "text": [
      "\r",
      " 98%|█████████▊| 98/100 [04:51<00:05,  2.94s/it]"
     ]
    },
    {
     "name": "stdout",
     "output_type": "stream",
     "text": [
      "3.309945733067613\n",
      "Epoch 0, Loss 3.309945733067613\n",
      "3.309869145556829\n",
      "3.3097925845613347\n",
      "3.3097160500599254\n",
      "3.3096395420315097\n",
      "3.3095630604551096\n",
      "3.3094866053098553\n",
      "3.309410176574989\n",
      "3.3093337742298594\n",
      "3.3092573982539255\n"
     ]
    },
    {
     "name": "stderr",
     "output_type": "stream",
     "text": [
      "\r",
      " 99%|█████████▉| 99/100 [04:54<00:02,  2.89s/it]"
     ]
    },
    {
     "name": "stdout",
     "output_type": "stream",
     "text": [
      "3.309181048626749\n",
      "Epoch 0, Loss 3.309181048626749\n",
      "3.3091047253279986\n",
      "3.309028428337446\n",
      "3.308952157634966\n",
      "3.3088759132005356\n",
      "3.308799695014231\n",
      "3.3087235030562296\n",
      "3.3086473373068053\n",
      "3.308571197746333\n",
      "3.3084950843552776\n"
     ]
    },
    {
     "name": "stderr",
     "output_type": "stream",
     "text": [
      "100%|██████████| 100/100 [04:57<00:00,  2.98s/it]\n",
      "  0%|          | 0/100 [00:00<?, ?it/s]"
     ]
    },
    {
     "name": "stdout",
     "output_type": "stream",
     "text": [
      "6.931534815935584\n",
      "Epoch 0, Loss 6.931534815935584\n",
      "5.926292003548394\n",
      "5.25304361000745\n",
      "4.7923768848017145\n",
      "4.4684397050810345\n",
      "4.234397050481829\n",
      "4.061100855783728\n",
      "3.9299967231746065\n",
      "3.8289499606189605\n",
      "3.749806392373473\n"
     ]
    },
    {
     "name": "stderr",
     "output_type": "stream",
     "text": [
      "\r",
      "  1%|          | 1/100 [00:03<06:02,  3.66s/it]"
     ]
    },
    {
     "name": "stdout",
     "output_type": "stream",
     "text": [
      "3.6869457396882703\n",
      "Epoch 0, Loss 3.6869457396882703\n",
      "3.636403696460181\n",
      "3.595325405285082\n",
      "3.5616165203743937\n",
      "3.533715002338795\n",
      "3.510438497039197\n",
      "3.4908801420518687\n",
      "3.4743360811628032\n",
      "3.460254161337787\n",
      "3.4481970457338322\n"
     ]
    },
    {
     "name": "stderr",
     "output_type": "stream",
     "text": [
      "\r",
      "  2%|▏         | 2/100 [00:06<05:03,  3.10s/it]"
     ]
    },
    {
     "name": "stdout",
     "output_type": "stream",
     "text": [
      "3.4378153070468063\n",
      "Epoch 0, Loss 3.4378153070468063\n",
      "3.4288275400929913\n",
      "3.4210054833233055\n",
      "3.4141627629825417\n",
      "3.4081462899869055\n",
      "3.4028296217110117\n",
      "3.3981077947957683\n",
      "3.393893270181196\n",
      "3.390112726863284\n",
      "3.386704508886664\n"
     ]
    },
    {
     "name": "stderr",
     "output_type": "stream",
     "text": [
      "\r",
      "  3%|▎         | 3/100 [00:08<04:38,  2.87s/it]"
     ]
    },
    {
     "name": "stdout",
     "output_type": "stream",
     "text": [
      "3.3836165791603867\n",
      "Epoch 0, Loss 3.3836165791603867\n",
      "3.3808048694608517\n",
      "3.3782319423204674\n",
      "3.37586590006163\n",
      "3.373679490889818\n",
      "3.3716493730268486\n",
      "3.369755506287231\n",
      "3.367980646955827\n",
      "3.3663099268066037\n",
      "3.364730500971482\n"
     ]
    },
    {
     "name": "stderr",
     "output_type": "stream",
     "text": [
      "\r",
      "  4%|▍         | 4/100 [00:11<04:28,  2.80s/it]"
     ]
    },
    {
     "name": "stdout",
     "output_type": "stream",
     "text": [
      "3.3632312523920027\n",
      "Epoch 0, Loss 3.3632312523920027\n",
      "3.361802542963253\n",
      "3.360436003358032\n",
      "3.35912435501183\n",
      "3.3578612589410732\n",
      "3.356641187023431\n",
      "3.355459312139828\n",
      "3.354311414201729\n",
      "3.353193799594632\n",
      "3.3521032319825674\n"
     ]
    },
    {
     "name": "stderr",
     "output_type": "stream",
     "text": [
      "\r",
      "  5%|▌         | 5/100 [00:14<04:19,  2.73s/it]"
     ]
    },
    {
     "name": "stdout",
     "output_type": "stream",
     "text": [
      "3.351036872757637\n",
      "Epoch 0, Loss 3.351036872757637\n",
      "3.3499922296973894\n",
      "3.348967112622982\n",
      "3.347959595041424\n",
      "3.3469679809134236\n",
      "3.345990775820071\n",
      "3.3450266619116396\n",
      "3.3440744761139984\n",
      "3.3431331911455398\n",
      "3.3422018989628097\n"
     ]
    },
    {
     "name": "stderr",
     "output_type": "stream",
     "text": [
      "\r",
      "  6%|▌         | 6/100 [00:16<04:02,  2.58s/it]"
     ]
    },
    {
     "name": "stdout",
     "output_type": "stream",
     "text": [
      "3.3412797963080156\n",
      "Epoch 0, Loss 3.3412797963080156\n",
      "3.3403661720782227\n",
      "3.339460396275561\n",
      "3.338561910331341\n",
      "3.3376702186255978\n",
      "3.3367848810479797\n",
      "3.3359055064667977\n",
      "3.335031746990926\n",
      "3.3341632929245653\n",
      "3.3332998683281243\n"
     ]
    },
    {
     "name": "stderr",
     "output_type": "stream",
     "text": [
      "\r",
      "  7%|▋         | 7/100 [00:19<04:06,  2.65s/it]"
     ]
    },
    {
     "name": "stdout",
     "output_type": "stream",
     "text": [
      "3.3324412271097783\n",
      "Epoch 0, Loss 3.3324412271097783\n",
      "3.3315871495820883\n",
      "3.330737439426512\n",
      "3.329891921015954\n",
      "3.3290504370518175\n",
      "3.328212846477547\n",
      "3.3273790226353808\n",
      "3.326548851637201\n",
      "3.325722230923948\n",
      "3.3248990679912547\n"
     ]
    },
    {
     "name": "stderr",
     "output_type": "stream",
     "text": [
      "\r",
      "  8%|▊         | 8/100 [00:22<04:22,  2.86s/it]"
     ]
    },
    {
     "name": "stdout",
     "output_type": "stream",
     "text": [
      "3.3240792792616247\n",
      "Epoch 0, Loss 3.3240792792616247\n",
      "3.3232627890859434\n",
      "3.3224495288591345\n",
      "3.3216394362366573\n",
      "3.3208324544400893\n",
      "3.3200285316414844\n",
      "3.31922762041738\n",
      "3.318429677264452\n",
      "3.3176346621697204\n",
      "3.3168425382290576\n"
     ]
    },
    {
     "name": "stderr",
     "output_type": "stream",
     "text": [
      "\r",
      "  9%|▉         | 9/100 [00:25<04:07,  2.71s/it]"
     ]
    },
    {
     "name": "stdout",
     "output_type": "stream",
     "text": [
      "3.3160532713085007\n",
      "Epoch 0, Loss 3.3160532713085007\n",
      "3.3152668297434658\n",
      "3.3144831840715803\n",
      "3.313702306795308\n",
      "3.312924172171012\n",
      "3.3121487560214535\n",
      "3.3113760355691113\n",
      "3.310605989287961\n",
      "3.3098385967716633\n",
      "3.3090738386163054\n"
     ]
    },
    {
     "name": "stderr",
     "output_type": "stream",
     "text": [
      "\r",
      " 10%|█         | 10/100 [00:27<04:02,  2.69s/it]"
     ]
    },
    {
     "name": "stdout",
     "output_type": "stream",
     "text": [
      "3.308311696316085\n",
      "Epoch 0, Loss 3.308311696316085\n",
      "3.307552152170495\n",
      "3.3067951892017047\n",
      "3.306040791081039\n",
      "3.3052889420635156\n",
      "3.3045396269295635\n",
      "3.3037928309331237\n",
      "3.303048539755424\n",
      "3.302306739463806\n",
      "3.3015674164750455\n"
     ]
    },
    {
     "name": "stderr",
     "output_type": "stream",
     "text": [
      "\r",
      " 11%|█         | 11/100 [00:31<04:31,  3.05s/it]"
     ]
    },
    {
     "name": "stdout",
     "output_type": "stream",
     "text": [
      "3.300830557522663\n",
      "Epoch 0, Loss 3.300830557522663\n",
      "3.300096149627808\n",
      "3.2993641800732907\n",
      "3.2986346363804464\n",
      "3.2979075062885044\n",
      "3.2971827777361957\n",
      "3.2964604388453393\n",
      "3.2957404779062163\n",
      "3.2950228833645054\n",
      "3.2943076438096366\n"
     ]
    },
    {
     "name": "stderr",
     "output_type": "stream",
     "text": [
      "\r",
      " 12%|█▏        | 12/100 [00:35<04:59,  3.40s/it]"
     ]
    },
    {
     "name": "stdout",
     "output_type": "stream",
     "text": [
      "3.293594747964393\n",
      "Epoch 0, Loss 3.293594747964393\n",
      "3.2928841846756245\n",
      "3.292175942905954\n",
      "3.2914700117263784\n",
      "3.290766380309647\n",
      "3.2900650379243475\n",
      "3.2893659739296166\n",
      "3.288669177770411\n",
      "3.2879746389732727\n",
      "3.287282347142535\n"
     ]
    },
    {
     "name": "stderr",
     "output_type": "stream",
     "text": [
      "\r",
      " 13%|█▎        | 13/100 [00:39<04:51,  3.35s/it]"
     ]
    },
    {
     "name": "stdout",
     "output_type": "stream",
     "text": [
      "3.2865922919569277\n",
      "Epoch 0, Loss 3.2865922919569277\n",
      "3.2859044631665326\n",
      "3.285218850590051\n",
      "3.2845354441123487\n",
      "3.2838542336822547\n",
      "3.2831752093105813\n",
      "3.282498361068331\n",
      "3.281823679085096\n",
      "3.2811511535476012\n",
      "3.2804807746983955\n"
     ]
    },
    {
     "name": "stderr",
     "output_type": "stream",
     "text": [
      "\r",
      " 14%|█▍        | 14/100 [00:42<04:43,  3.29s/it]"
     ]
    },
    {
     "name": "stdout",
     "output_type": "stream",
     "text": [
      "3.279812532834659\n",
      "Epoch 0, Loss 3.279812532834659\n",
      "3.279146418307131\n",
      "3.2784824215191266\n",
      "3.277820532925654\n",
      "3.277160743032593\n",
      "3.27650304239596\n",
      "3.275847421621224\n",
      "3.275193871362686\n",
      "3.274542382322897\n",
      "3.273892945252134\n"
     ]
    },
    {
     "name": "stderr",
     "output_type": "stream",
     "text": [
      "\r",
      " 15%|█▌        | 15/100 [00:44<04:22,  3.09s/it]"
     ]
    },
    {
     "name": "stdout",
     "output_type": "stream",
     "text": [
      "3.273245550947903\n",
      "Epoch 0, Loss 3.273245550947903\n",
      "3.2726001902544826\n",
      "3.271956854062496\n",
      "3.271315533308514\n",
      "3.2706762189746783\n",
      "3.270038902088353\n",
      "3.2694035737217813\n",
      "3.268770224991784\n",
      "3.268138847059444\n",
      "3.2675094311298305\n"
     ]
    },
    {
     "name": "stderr",
     "output_type": "stream",
     "text": [
      "\r",
      " 16%|█▌        | 16/100 [00:47<04:14,  3.03s/it]"
     ]
    },
    {
     "name": "stdout",
     "output_type": "stream",
     "text": [
      "3.2668819684517185\n",
      "Epoch 0, Loss 3.2668819684517185\n",
      "3.2662564503173246\n",
      "3.2656328680620565\n",
      "3.265011213064264\n",
      "3.264391476745\n",
      "3.2637736505677934\n",
      "3.26315772603842\n",
      "3.262543694704684\n",
      "3.2619315481562032\n",
      "3.2613212780241967\n"
     ]
    },
    {
     "name": "stderr",
     "output_type": "stream",
     "text": [
      "\r",
      " 17%|█▋        | 17/100 [00:50<04:07,  2.99s/it]"
     ]
    },
    {
     "name": "stdout",
     "output_type": "stream",
     "text": [
      "3.260712875981281\n",
      "Epoch 0, Loss 3.260712875981281\n",
      "3.260106333741265\n",
      "3.2595016430589454\n",
      "3.2588987957299183\n",
      "3.258297783590374\n",
      "3.2576985985169107\n",
      "3.2571012324263413\n",
      "3.256505677275502\n",
      "3.255911925061068\n",
      "3.255319967819368\n"
     ]
    },
    {
     "name": "stderr",
     "output_type": "stream",
     "text": [
      "\r",
      " 18%|█▊        | 18/100 [00:53<03:52,  2.84s/it]"
     ]
    },
    {
     "name": "stdout",
     "output_type": "stream",
     "text": [
      "3.254729797626193\n",
      "Epoch 0, Loss 3.254729797626193\n",
      "3.2541414065966197\n",
      "3.2535547868848247\n",
      "3.252969930683903\n",
      "3.252386830225689\n",
      "3.251805477780575\n",
      "3.251225865657332\n",
      "3.250647986202933\n",
      "3.250071831802377\n",
      "3.249497394878506\n"
     ]
    },
    {
     "name": "stderr",
     "output_type": "stream",
     "text": [
      "\r",
      " 19%|█▉        | 19/100 [00:55<03:51,  2.86s/it]"
     ]
    },
    {
     "name": "stdout",
     "output_type": "stream",
     "text": [
      "3.248924667891838\n",
      "Epoch 0, Loss 3.248924667891838\n",
      "3.2483536433403835\n",
      "3.247784313759475\n",
      "3.247216671721591\n",
      "3.2466507098361834\n",
      "3.2460864207495015\n",
      "3.245523797144423\n",
      "3.244962831740278\n",
      "3.244403517292682\n",
      "3.2438458465933597\n"
     ]
    },
    {
     "name": "stderr",
     "output_type": "stream",
     "text": [
      "\r",
      " 20%|██        | 20/100 [00:59<04:06,  3.08s/it]"
     ]
    },
    {
     "name": "stdout",
     "output_type": "stream",
     "text": [
      "3.2432898124699774\n",
      "Epoch 0, Loss 3.2432898124699774\n",
      "3.2427354077859687\n",
      "3.242182625440373\n",
      "3.241631458367658\n",
      "3.2410818995375528\n",
      "3.240533941954883\n",
      "3.239987578659399\n",
      "3.23944280272561\n",
      "3.238899607262619\n",
      "3.238357985413954\n"
     ]
    },
    {
     "name": "stderr",
     "output_type": "stream",
     "text": [
      "\r",
      " 21%|██        | 21/100 [01:01<03:48,  2.89s/it]"
     ]
    },
    {
     "name": "stdout",
     "output_type": "stream",
     "text": [
      "3.2378179303574015\n",
      "Epoch 0, Loss 3.2378179303574015\n",
      "3.237279435304845\n",
      "3.236742493502097\n",
      "3.236207098228733\n",
      "3.235673242797932\n",
      "3.2351409205563115\n",
      "3.2346101248837633\n",
      "3.2340808491932926\n",
      "3.233553086930855\n",
      "3.2330268315751964\n"
     ]
    },
    {
     "name": "stderr",
     "output_type": "stream",
     "text": [
      "\r",
      " 22%|██▏       | 22/100 [01:04<03:42,  2.85s/it]"
     ]
    },
    {
     "name": "stdout",
     "output_type": "stream",
     "text": [
      "3.232502076637693\n",
      "Epoch 0, Loss 3.232502076637693\n",
      "3.231978815662187\n",
      "3.231457042224832\n",
      "3.2309367499339308\n",
      "3.2304179324297775\n",
      "3.2299005833844996\n",
      "3.2293846965019006\n",
      "3.2288702655173025\n",
      "3.228357284197389\n",
      "3.22784574634005\n"
     ]
    },
    {
     "name": "stderr",
     "output_type": "stream",
     "text": [
      "\r",
      " 23%|██▎       | 23/100 [01:07<03:39,  2.85s/it]"
     ]
    },
    {
     "name": "stdout",
     "output_type": "stream",
     "text": [
      "3.227335645774227\n",
      "Epoch 0, Loss 3.227335645774227\n",
      "3.226826976359759\n",
      "3.2263197319872234\n",
      "3.2258139065777893\n",
      "3.2253094940830596\n",
      "3.2248064884849197\n",
      "3.224304883795386\n",
      "3.223804674056453\n",
      "3.2233058533399475\n",
      "3.22280841574737\n"
     ]
    },
    {
     "name": "stderr",
     "output_type": "stream",
     "text": [
      "\r",
      " 24%|██▍       | 24/100 [01:10<03:34,  2.82s/it]"
     ]
    },
    {
     "name": "stdout",
     "output_type": "stream",
     "text": [
      "3.2223123554097506\n",
      "Epoch 0, Loss 3.2223123554097506\n",
      "3.2218176664875\n",
      "3.221324343170259\n",
      "3.2208323796767515\n",
      "3.2203417702546364\n",
      "3.219852509180362\n",
      "3.2193645907590187\n",
      "3.2188780093241935\n",
      "3.218392759237827\n",
      "3.2179088348900637\n"
     ]
    },
    {
     "name": "stderr",
     "output_type": "stream",
     "text": [
      "\r",
      " 25%|██▌       | 25/100 [01:12<03:17,  2.64s/it]"
     ]
    },
    {
     "name": "stdout",
     "output_type": "stream",
     "text": [
      "3.217426230699116\n",
      "Epoch 0, Loss 3.217426230699116\n",
      "3.2169449411111124\n",
      "3.216464960599962\n",
      "3.215986283667208\n",
      "3.2155089048418857\n",
      "3.2150328186803883\n",
      "3.2145580197663155\n",
      "3.214084502710346\n",
      "3.2136122621500878\n",
      "3.213141292749945\n"
     ]
    },
    {
     "name": "stderr",
     "output_type": "stream",
     "text": [
      "\r",
      " 26%|██▌       | 26/100 [01:15<03:16,  2.65s/it]"
     ]
    },
    {
     "name": "stdout",
     "output_type": "stream",
     "text": [
      "3.2126715892009794\n",
      "Epoch 0, Loss 3.2126715892009794\n",
      "3.212203146220774\n",
      "3.2117359585532905\n",
      "3.2112700209687417\n",
      "3.2108053282634503\n",
      "3.2103418752597137\n",
      "3.209879656805673\n",
      "3.209418667775175\n",
      "3.2089589030676433\n",
      "3.2085003576079405\n"
     ]
    },
    {
     "name": "stderr",
     "output_type": "stream",
     "text": [
      "\r",
      " 27%|██▋       | 27/100 [01:19<03:41,  3.03s/it]"
     ]
    },
    {
     "name": "stdout",
     "output_type": "stream",
     "text": [
      "3.208043026346243\n",
      "Epoch 0, Loss 3.208043026346243\n",
      "3.2075869042579015\n",
      "3.207131986343316\n",
      "3.2066782676278036\n",
      "3.206225743161469\n",
      "3.205774408019073\n",
      "3.20532425729991\n",
      "3.2048752861276713\n",
      "3.204427489650325\n",
      "3.2039808630399875\n"
     ]
    },
    {
     "name": "stderr",
     "output_type": "stream",
     "text": [
      "\r",
      " 28%|██▊       | 28/100 [01:21<03:26,  2.87s/it]"
     ]
    },
    {
     "name": "stdout",
     "output_type": "stream",
     "text": [
      "3.2035354014927937\n",
      "Epoch 0, Loss 3.2035354014927937\n",
      "3.203091100228777\n",
      "3.2026479544917392\n",
      "3.202205959549128\n",
      "3.2017651106919156\n",
      "3.201325403234469\n",
      "3.200886832514435\n",
      "3.2004493938926126\n",
      "3.2000130827528315\n"
     ]
    },
    {
     "name": "stderr",
     "output_type": "stream",
     "text": [
      "\r",
      " 29%|██▉       | 29/100 [01:23<03:11,  2.70s/it]"
     ]
    },
    {
     "name": "stdout",
     "output_type": "stream",
     "text": [
      "3.199577894501835\n",
      "3.199143824569156\n",
      "Epoch 0, Loss 3.199143824569156\n",
      "3.198710868406998\n",
      "3.1982790214901167\n",
      "3.1978482793157\n",
      "3.197418637403249\n",
      "3.1969900912944653\n",
      "3.1965626365531272\n",
      "3.196136268764976\n",
      "3.195710983537604\n",
      "3.195286776500332\n"
     ]
    },
    {
     "name": "stderr",
     "output_type": "stream",
     "text": [
      "\r",
      " 30%|███       | 30/100 [01:26<03:15,  2.79s/it]"
     ]
    },
    {
     "name": "stdout",
     "output_type": "stream",
     "text": [
      "3.1948636433041\n",
      "Epoch 0, Loss 3.1948636433041\n",
      "3.19444157962135\n",
      "3.1940205811459137\n",
      "3.193600643592899\n",
      "3.193181762698578\n",
      "3.1927639342202725\n",
      "3.1923471539362467\n",
      "3.1919314176455926\n",
      "3.1915167211681204\n",
      "3.191103060344251\n"
     ]
    },
    {
     "name": "stderr",
     "output_type": "stream",
     "text": [
      "\r",
      " 31%|███       | 31/100 [01:30<03:24,  2.97s/it]"
     ]
    },
    {
     "name": "stdout",
     "output_type": "stream",
     "text": [
      "3.1906904310349034\n",
      "Epoch 0, Loss 3.1906904310349034\n",
      "3.1902788291213877\n",
      "3.1898682505052975\n",
      "3.1894586911084004\n",
      "3.1890501468725323\n",
      "3.1886426137594897\n",
      "3.188236087750925\n",
      "3.1878305648482397\n",
      "3.1874260410724804\n",
      "3.187022512464235\n"
     ]
    },
    {
     "name": "stderr",
     "output_type": "stream",
     "text": [
      "\r",
      " 32%|███▏      | 32/100 [01:33<03:18,  2.92s/it]"
     ]
    },
    {
     "name": "stdout",
     "output_type": "stream",
     "text": [
      "3.1866199750835236\n",
      "Epoch 0, Loss 3.1866199750835236\n",
      "3.186218425009704\n",
      "3.1858178583413608\n",
      "3.1854182711962067\n",
      "3.185019659710981\n",
      "3.184622020041346\n",
      "3.184225348361789\n",
      "3.1838296408655187\n",
      "3.183434893764369\n",
      "3.1830411032886965\n"
     ]
    },
    {
     "name": "stderr",
     "output_type": "stream",
     "text": [
      "\r",
      " 33%|███▎      | 33/100 [01:35<03:11,  2.86s/it]"
     ]
    },
    {
     "name": "stdout",
     "output_type": "stream",
     "text": [
      "3.1826482656872845\n",
      "Epoch 0, Loss 3.1826482656872845\n",
      "3.182256377227243\n",
      "3.181865434193911\n",
      "3.181475432890759\n",
      "3.1810863696392944\n",
      "3.1806982407789643\n",
      "3.1803110426670553\n",
      "3.1799247716786074\n",
      "3.179539424206309\n",
      "3.1791549966604125\n"
     ]
    },
    {
     "name": "stderr",
     "output_type": "stream",
     "text": [
      "\r",
      " 34%|███▍      | 34/100 [01:38<03:03,  2.78s/it]"
     ]
    },
    {
     "name": "stdout",
     "output_type": "stream",
     "text": [
      "3.1787714854686313\n",
      "Epoch 0, Loss 3.1787714854686313\n",
      "3.1783888870760535\n",
      "3.1780071979450457\n",
      "3.1776264145551614\n",
      "3.1772465334030495\n",
      "3.1768675510023625\n",
      "3.1764894638836654\n",
      "3.176112268594346\n",
      "3.175735961698528\n",
      "3.1753605397769706\n"
     ]
    },
    {
     "name": "stderr",
     "output_type": "stream",
     "text": [
      "\r",
      " 35%|███▌      | 35/100 [01:41<03:08,  2.90s/it]"
     ]
    },
    {
     "name": "stdout",
     "output_type": "stream",
     "text": [
      "3.1749859994269944\n",
      "Epoch 0, Loss 3.1749859994269944\n",
      "3.174612337262383\n",
      "3.174239549913299\n",
      "3.173867634026192\n",
      "3.1734965862637186\n",
      "3.173126403304648\n",
      "3.172757081843783\n",
      "3.1723886185918686\n",
      "3.1720210102755106\n",
      "3.171654253637089\n"
     ]
    },
    {
     "name": "stderr",
     "output_type": "stream",
     "text": [
      "\r",
      " 36%|███▌      | 36/100 [01:44<02:59,  2.81s/it]"
     ]
    },
    {
     "name": "stdout",
     "output_type": "stream",
     "text": [
      "3.171288345434672\n",
      "Epoch 0, Loss 3.171288345434672\n",
      "3.1709232824419367\n",
      "3.170559061448082\n",
      "3.1701956792577444\n",
      "3.16983313269092\n",
      "3.1694714185828805\n",
      "3.169110533784088\n",
      "3.1687504751601194\n",
      "3.1683912395915828\n",
      "3.1680328239740345\n"
     ]
    },
    {
     "name": "stderr",
     "output_type": "stream",
     "text": [
      "\r",
      " 37%|███▋      | 37/100 [01:47<02:59,  2.84s/it]"
     ]
    },
    {
     "name": "stdout",
     "output_type": "stream",
     "text": [
      "3.167675225217903\n",
      "Epoch 0, Loss 3.167675225217903\n",
      "3.167318440248411\n",
      "3.166962466005491\n",
      "3.1666072994437093\n",
      "3.1662529375321875\n",
      "3.1658993772545254\n",
      "3.1655466156087244\n",
      "3.1651946496071064\n",
      "3.164843476276244\n",
      "3.1644930926568753\n"
     ]
    },
    {
     "name": "stderr",
     "output_type": "stream",
     "text": [
      "\r",
      " 38%|███▊      | 38/100 [01:50<02:59,  2.89s/it]"
     ]
    },
    {
     "name": "stdout",
     "output_type": "stream",
     "text": [
      "3.1641434958038386\n",
      "Epoch 0, Loss 3.1641434958038386\n",
      "3.163794682785988\n",
      "3.163446650686123\n",
      "3.163099396600917\n",
      "3.1627529176408338\n",
      "3.162407210930063\n",
      "3.1620622736064448\n",
      "3.1617181028213914\n",
      "3.1613746957398217\n",
      "3.1610320495400868\n"
     ]
    },
    {
     "name": "stderr",
     "output_type": "stream",
     "text": [
      "\r",
      " 39%|███▉      | 39/100 [01:53<03:03,  3.01s/it]"
     ]
    },
    {
     "name": "stdout",
     "output_type": "stream",
     "text": [
      "3.1606901614138954\n",
      "Epoch 0, Loss 3.1606901614138954\n",
      "3.1603490285662477\n",
      "3.1600086482153587\n",
      "3.1596690175925946\n",
      "3.159330133942395\n",
      "3.158991994522209\n",
      "3.1586545966024215\n",
      "3.15831793746629\n",
      "3.15798201440987\n",
      "3.1576468247419487\n"
     ]
    },
    {
     "name": "stderr",
     "output_type": "stream",
     "text": [
      "\r",
      " 40%|████      | 40/100 [01:56<02:55,  2.92s/it]"
     ]
    },
    {
     "name": "stdout",
     "output_type": "stream",
     "text": [
      "3.15731236578398\n",
      "Epoch 0, Loss 3.15731236578398\n",
      "3.156978634870012\n",
      "3.156645629346624\n",
      "3.156313346572859\n",
      "3.1559817839201543\n",
      "3.15565093877228\n",
      "3.1553208085252704\n",
      "3.154991390587359\n",
      "3.1546626823789135\n",
      "3.1543346813323745\n"
     ]
    },
    {
     "name": "stderr",
     "output_type": "stream",
     "text": [
      "\r",
      " 41%|████      | 41/100 [01:58<02:50,  2.88s/it]"
     ]
    },
    {
     "name": "stdout",
     "output_type": "stream",
     "text": [
      "3.1540073848921857\n",
      "Epoch 0, Loss 3.1540073848921857\n",
      "3.153680790514735\n",
      "3.153354895668286\n",
      "3.1530296978329213\n",
      "3.1527051945004736\n",
      "3.152381383174467\n",
      "3.152058261370053\n",
      "3.1517358266139515\n",
      "3.151414076444383\n",
      "3.151093008411016\n"
     ]
    },
    {
     "name": "stderr",
     "output_type": "stream",
     "text": [
      "\r",
      " 42%|████▏     | 42/100 [02:02<03:01,  3.13s/it]"
     ]
    },
    {
     "name": "stdout",
     "output_type": "stream",
     "text": [
      "3.150772620074902\n",
      "Epoch 0, Loss 3.150772620074902\n",
      "3.150452909008411\n",
      "3.15013387279518\n",
      "3.149815509030047\n",
      "3.1494978153189943\n",
      "3.1491807892790877\n",
      "3.148864428538419\n",
      "3.148548730736047\n",
      "3.1482336935219424\n",
      "3.1479193145569213\n"
     ]
    },
    {
     "name": "stderr",
     "output_type": "stream",
     "text": [
      "\r",
      " 43%|████▎     | 43/100 [02:05<02:55,  3.07s/it]"
     ]
    },
    {
     "name": "stdout",
     "output_type": "stream",
     "text": [
      "3.1476055915126\n",
      "Epoch 0, Loss 3.1476055915126\n",
      "3.1472925220713295\n",
      "3.1469801039261376\n",
      "3.14666833478068\n",
      "3.1463572123491783\n",
      "3.1460467343563656\n",
      "3.14573689853743\n",
      "3.145427702637961\n",
      "3.145119144413895\n",
      "3.1448112216314565\n"
     ]
    },
    {
     "name": "stderr",
     "output_type": "stream",
     "text": [
      "\r",
      " 44%|████▍     | 44/100 [02:08<02:43,  2.92s/it]"
     ]
    },
    {
     "name": "stdout",
     "output_type": "stream",
     "text": [
      "3.144503932067111\n",
      "Epoch 0, Loss 3.144503932067111\n",
      "3.1441972735075012\n",
      "3.143891243749406\n",
      "3.1435858405996733\n",
      "3.1432810618751783\n",
      "3.142976905402762\n",
      "3.1426733690191853\n",
      "3.142370450571074\n",
      "3.142068147914865\n",
      "3.141766458916758\n"
     ]
    },
    {
     "name": "stderr",
     "output_type": "stream",
     "text": [
      "\r",
      " 45%|████▌     | 45/100 [02:13<03:13,  3.51s/it]"
     ]
    },
    {
     "name": "stdout",
     "output_type": "stream",
     "text": [
      "3.1414653814526625\n",
      "Epoch 0, Loss 3.1414653814526625\n",
      "3.1411649134081463\n",
      "3.140865052678387\n",
      "3.1405657971681165\n",
      "3.1402671447915784\n",
      "3.1399690934724696\n",
      "3.1396716411438983\n",
      "3.1393747857483283\n",
      "3.1390785252375357\n",
      "3.1387828575725525\n"
     ]
    },
    {
     "name": "stderr",
     "output_type": "stream",
     "text": [
      "\r",
      " 46%|████▌     | 46/100 [02:15<02:58,  3.31s/it]"
     ]
    },
    {
     "name": "stdout",
     "output_type": "stream",
     "text": [
      "3.1384877807236276\n",
      "Epoch 0, Loss 3.1384877807236276\n",
      "3.1381932926701706\n",
      "3.1378993914007074\n",
      "3.1376060749128323\n",
      "3.137313341213157\n",
      "3.1370211883172727\n",
      "3.13672961424969\n",
      "3.1364386170438032\n",
      "3.1361481947418373\n",
      "3.1358583453948055\n"
     ]
    },
    {
     "name": "stderr",
     "output_type": "stream",
     "text": [
      "\r",
      " 47%|████▋     | 47/100 [02:18<02:45,  3.12s/it]"
     ]
    },
    {
     "name": "stdout",
     "output_type": "stream",
     "text": [
      "3.135569067062464\n",
      "Epoch 0, Loss 3.135569067062464\n",
      "3.1352803578132593\n",
      "3.1349922157242927\n",
      "3.134704638881268\n",
      "3.13441762537845\n",
      "3.134131173318617\n",
      "3.133845280813021\n",
      "3.133559945981339\n",
      "3.133275166951631\n",
      "3.1329909418602973\n"
     ]
    },
    {
     "name": "stderr",
     "output_type": "stream",
     "text": [
      "\r",
      " 48%|████▊     | 48/100 [02:21<02:37,  3.02s/it]"
     ]
    },
    {
     "name": "stdout",
     "output_type": "stream",
     "text": [
      "3.132707268852032\n",
      "Epoch 0, Loss 3.132707268852032\n",
      "3.132424146079785\n",
      "3.132141571704714\n",
      "3.131859543896143\n",
      "3.131578060831525\n",
      "3.13129712069639\n",
      "3.131016721684312\n",
      "3.130736861996863\n",
      "3.1304575398435723\n",
      "3.130178753441886\n"
     ]
    },
    {
     "name": "stderr",
     "output_type": "stream",
     "text": [
      "\r",
      " 49%|████▉     | 49/100 [02:24<02:32,  2.98s/it]"
     ]
    },
    {
     "name": "stdout",
     "output_type": "stream",
     "text": [
      "3.1299005010171244\n",
      "Epoch 0, Loss 3.1299005010171244\n",
      "3.1296227808024426\n",
      "3.12934559103879\n",
      "3.129068929974868\n",
      "3.1287927958670925\n",
      "3.1285171869795536\n",
      "3.128242101583972\n",
      "3.1279675379596656\n",
      "3.1276934943935073\n",
      "3.1274199691798845\n"
     ]
    },
    {
     "name": "stderr",
     "output_type": "stream",
     "text": [
      "\r",
      " 50%|█████     | 50/100 [02:27<02:27,  2.96s/it]"
     ]
    },
    {
     "name": "stdout",
     "output_type": "stream",
     "text": [
      "3.1271469606206637\n",
      "Epoch 0, Loss 3.1271469606206637\n",
      "3.1268744670251496\n",
      "3.126602486710046\n",
      "3.1263310179994206\n",
      "3.1260600592246655\n",
      "3.1257896087244577\n",
      "3.125519664844726\n",
      "3.12525022593861\n",
      "3.124981290366422\n",
      "3.124712856495616\n"
     ]
    },
    {
     "name": "stderr",
     "output_type": "stream",
     "text": [
      "\r",
      " 51%|█████     | 51/100 [02:30<02:24,  2.94s/it]"
     ]
    },
    {
     "name": "stdout",
     "output_type": "stream",
     "text": [
      "3.124444922700745\n",
      "Epoch 0, Loss 3.124444922700745\n",
      "3.124177487363427\n",
      "3.1239105488723093\n",
      "3.1236441056230317\n",
      "3.12337815601819\n",
      "3.123112698467302\n",
      "3.1228477313867704\n",
      "3.122583253199848\n",
      "3.1223192623366045\n",
      "3.1220557572338867\n"
     ]
    },
    {
     "name": "stderr",
     "output_type": "stream",
     "text": [
      "\r",
      " 52%|█████▏    | 52/100 [02:32<02:17,  2.87s/it]"
     ]
    },
    {
     "name": "stdout",
     "output_type": "stream",
     "text": [
      "3.1217927363352924\n",
      "Epoch 0, Loss 3.1217927363352924\n",
      "3.1215301980911265\n",
      "3.1212681409583722\n",
      "3.121006563400657\n",
      "3.1207454638882144\n",
      "3.1204848408978565\n",
      "3.1202246929129362\n",
      "3.119965018423315\n",
      "3.1197058159253284\n",
      "3.119447083921757\n"
     ]
    },
    {
     "name": "stderr",
     "output_type": "stream",
     "text": [
      "\r",
      " 53%|█████▎    | 53/100 [02:35<02:19,  2.97s/it]"
     ]
    },
    {
     "name": "stdout",
     "output_type": "stream",
     "text": [
      "3.1191888209217895\n",
      "Epoch 0, Loss 3.1191888209217895\n",
      "3.118931025440991\n",
      "3.1186736960012738\n",
      "3.118416831130859\n",
      "3.1181604293642526\n",
      "3.1179044892422065\n",
      "3.117649009311689\n",
      "3.117393988125855\n",
      "3.1171394242440136\n",
      "3.116885316231597\n"
     ]
    },
    {
     "name": "stderr",
     "output_type": "stream",
     "text": [
      "\r",
      " 54%|█████▍    | 54/100 [02:38<02:15,  2.95s/it]"
     ]
    },
    {
     "name": "stdout",
     "output_type": "stream",
     "text": [
      "3.116631662660127\n",
      "Epoch 0, Loss 3.116631662660127\n",
      "3.11637846210719\n",
      "3.1161257131563986\n",
      "3.115873414397371\n",
      "3.1156215644256893\n",
      "3.1153701618428795\n",
      "3.115119205256375\n",
      "3.114868693279489\n",
      "3.1146186245313854\n",
      "3.1143689976370488\n"
     ]
    },
    {
     "name": "stderr",
     "output_type": "stream",
     "text": [
      "\r",
      " 55%|█████▌    | 55/100 [02:41<02:05,  2.80s/it]"
     ]
    },
    {
     "name": "stdout",
     "output_type": "stream",
     "text": [
      "3.114119811227255\n",
      "Epoch 0, Loss 3.114119811227255\n",
      "3.113871063938543\n",
      "3.1136227544131834\n",
      "3.1133748812991526\n",
      "3.1131274432501024\n",
      "3.112880438925331\n",
      "3.1126338669897566\n",
      "3.112387726113889\n",
      "3.112142014973799\n",
      "3.111896732251093\n"
     ]
    },
    {
     "name": "stderr",
     "output_type": "stream",
     "text": [
      "\r",
      " 56%|█████▌    | 56/100 [02:44<02:12,  3.01s/it]"
     ]
    },
    {
     "name": "stdout",
     "output_type": "stream",
     "text": [
      "3.111651876632884\n",
      "Epoch 0, Loss 3.111651876632884\n",
      "3.1114074468117665\n",
      "3.1111634414857847\n",
      "3.1109198593584093\n",
      "3.1106766991385104\n",
      "3.110433959540324\n",
      "3.110191639283435\n",
      "3.109949737092744\n",
      "3.109708251698443\n",
      "3.109467181835987\n"
     ]
    },
    {
     "name": "stderr",
     "output_type": "stream",
     "text": [
      "\r",
      " 57%|█████▋    | 57/100 [02:47<02:06,  2.93s/it]"
     ]
    },
    {
     "name": "stdout",
     "output_type": "stream",
     "text": [
      "3.1092265262460717\n",
      "Epoch 0, Loss 3.1092265262460717\n",
      "3.1089862836746023\n",
      "3.108746452872674\n",
      "3.108507032596538\n",
      "3.1082680216075858\n",
      "3.1080294186723134\n",
      "3.107791222562303\n",
      "3.1075534320541967\n",
      "3.1073160459296676\n",
      "3.1070790629754006\n"
     ]
    },
    {
     "name": "stderr",
     "output_type": "stream",
     "text": [
      "\r",
      " 58%|█████▊    | 58/100 [02:50<02:00,  2.86s/it]"
     ]
    },
    {
     "name": "stdout",
     "output_type": "stream",
     "text": [
      "3.1068424819830636\n",
      "Epoch 0, Loss 3.1068424819830636\n",
      "3.1066063017492827\n",
      "3.106370521075619\n",
      "3.106135138768547\n",
      "3.1059001536394226\n",
      "3.1056655645044677\n",
      "3.105431370184741\n",
      "3.1051975695061147\n",
      "3.104964161299252\n",
      "3.104731144399584\n"
     ]
    },
    {
     "name": "stderr",
     "output_type": "stream",
     "text": [
      "\r",
      " 59%|█████▉    | 59/100 [02:52<01:54,  2.78s/it]"
     ]
    },
    {
     "name": "stdout",
     "output_type": "stream",
     "text": [
      "3.1044985176472837\n",
      "Epoch 0, Loss 3.1044985176472837\n",
      "3.1042662798872436\n",
      "3.104034429969055\n",
      "3.1038029667469833\n",
      "3.103571889079942\n",
      "3.1033411958314745\n",
      "3.10311088586973\n",
      "3.102880958067438\n",
      "3.1026514113018915\n",
      "3.1024222444549174\n"
     ]
    },
    {
     "name": "stderr",
     "output_type": "stream",
     "text": [
      "\r",
      " 60%|██████    | 60/100 [02:55<01:45,  2.64s/it]"
     ]
    },
    {
     "name": "stdout",
     "output_type": "stream",
     "text": [
      "3.1021934564128637\n",
      "Epoch 0, Loss 3.1021934564128637\n",
      "3.101965046066566\n",
      "3.1017370123113364\n",
      "3.101509354046934\n",
      "3.101282070177547\n",
      "3.10105515961177\n",
      "3.100828621262582\n",
      "3.1006024540473276\n",
      "3.1003766568876903\n",
      "3.1001512287096777\n"
     ]
    },
    {
     "name": "stderr",
     "output_type": "stream",
     "text": [
      "\r",
      " 61%|██████    | 61/100 [02:59<01:59,  3.07s/it]"
     ]
    },
    {
     "name": "stdout",
     "output_type": "stream",
     "text": [
      "3.099926168443597\n",
      "Epoch 0, Loss 3.099926168443597\n",
      "3.0997014750240335\n",
      "3.0994771473898317\n",
      "3.099253184484075\n",
      "3.099029585254063\n",
      "3.0988063486512907\n",
      "3.098583473631431\n",
      "3.0983609591543146\n",
      "3.0981388041839057\n",
      "3.0979170076882854\n"
     ]
    },
    {
     "name": "stderr",
     "output_type": "stream",
     "text": [
      "\r",
      " 62%|██████▏   | 62/100 [03:01<01:49,  2.88s/it]"
     ]
    },
    {
     "name": "stdout",
     "output_type": "stream",
     "text": [
      "3.0976955686396304\n",
      "Epoch 0, Loss 3.0976955686396304\n",
      "3.0974744860141956\n",
      "3.09725375879229\n",
      "3.0970333859582624\n",
      "3.096813366500477\n",
      "3.096593699411298\n",
      "3.096374383687066\n",
      "3.0961554183280855\n",
      "3.0959368023385974\n"
     ]
    },
    {
     "name": "stderr",
     "output_type": "stream",
     "text": [
      "\r",
      " 63%|██████▎   | 63/100 [03:03<01:38,  2.67s/it]"
     ]
    },
    {
     "name": "stdout",
     "output_type": "stream",
     "text": [
      "3.095718534726767\n",
      "3.095500614504662\n",
      "Epoch 0, Loss 3.095500614504662\n",
      "3.0952830406882352\n",
      "3.0950658122973036\n",
      "3.0948489283555305\n",
      "3.094632387890411\n",
      "3.0944161899332476\n",
      "3.0942003335191344\n",
      "3.0939848176869438\n",
      "3.0937696414792986\n",
      "3.093554803942562\n"
     ]
    },
    {
     "name": "stderr",
     "output_type": "stream",
     "text": [
      "\r",
      " 64%|██████▍   | 64/100 [03:06<01:38,  2.74s/it]"
     ]
    },
    {
     "name": "stdout",
     "output_type": "stream",
     "text": [
      "3.0933403041268175\n",
      "Epoch 0, Loss 3.0933403041268175\n",
      "3.0931261410858504\n",
      "3.0929123138771306\n",
      "3.0926988215617954\n",
      "3.09248566320463\n",
      "3.0922728378740536\n",
      "3.092060344642101\n",
      "3.0918481825844024\n",
      "3.09163635078017\n",
      "3.0914248483121796\n"
     ]
    },
    {
     "name": "stderr",
     "output_type": "stream",
     "text": [
      "\r",
      " 65%|██████▌   | 65/100 [03:10<01:45,  3.02s/it]"
     ]
    },
    {
     "name": "stdout",
     "output_type": "stream",
     "text": [
      "3.0912136742667533\n",
      "Epoch 0, Loss 3.0912136742667533\n",
      "3.091002827733744\n",
      "3.090792307806516\n",
      "3.090582113581932\n",
      "3.0903722441603327\n",
      "3.090162698645526\n",
      "3.0899534761447627\n",
      "3.089744575768726\n",
      "3.0895359966315143\n",
      "3.0893277378506245\n"
     ]
    },
    {
     "name": "stderr",
     "output_type": "stream",
     "text": [
      "\r",
      " 66%|██████▌   | 66/100 [03:13<01:38,  2.90s/it]"
     ]
    },
    {
     "name": "stdout",
     "output_type": "stream",
     "text": [
      "3.0891197985469363\n",
      "Epoch 0, Loss 3.0891197985469363\n",
      "3.0889121778446937\n",
      "3.088704874871495\n",
      "3.0884978887582704\n",
      "3.088291218639272\n",
      "3.088084863652052\n",
      "3.0878788229374545\n",
      "3.0876730956395946\n",
      "3.0874676809058434\n",
      "3.0872625778868183\n"
     ]
    },
    {
     "name": "stderr",
     "output_type": "stream",
     "text": [
      "\r",
      " 67%|██████▋   | 67/100 [03:15<01:33,  2.84s/it]"
     ]
    },
    {
     "name": "stdout",
     "output_type": "stream",
     "text": [
      "3.0870577857363597\n",
      "Epoch 0, Loss 3.0870577857363597\n",
      "3.08685330361152\n",
      "3.086649130672551\n",
      "3.0864452660828836\n",
      "3.086241709009117\n",
      "3.0860384586210037\n",
      "3.085835514091431\n",
      "3.0856328745964103\n",
      "3.0854305393150625\n",
      "3.085228507429601\n"
     ]
    },
    {
     "name": "stderr",
     "output_type": "stream",
     "text": [
      "\r",
      " 68%|██████▊   | 68/100 [03:18<01:29,  2.80s/it]"
     ]
    },
    {
     "name": "stdout",
     "output_type": "stream",
     "text": [
      "3.0850267781253184\n",
      "Epoch 0, Loss 3.0850267781253184\n",
      "3.084825350590573\n",
      "3.0846242240167743\n",
      "3.084423397598367\n",
      "3.0842228705328205\n",
      "3.0840226420206105\n",
      "3.0838227112652095\n",
      "3.0836230774730695\n",
      "3.0834237398536097\n",
      "3.0832246976192015\n"
     ]
    },
    {
     "name": "stderr",
     "output_type": "stream",
     "text": [
      "\r",
      " 69%|██████▉   | 69/100 [03:21<01:26,  2.80s/it]"
     ]
    },
    {
     "name": "stdout",
     "output_type": "stream",
     "text": [
      "3.0830259499851587\n",
      "Epoch 0, Loss 3.0830259499851587\n",
      "3.0828274961697177\n",
      "3.0826293353940297\n",
      "3.0824314668821433\n",
      "3.082233889860995\n",
      "3.082036603560392\n",
      "3.0818396072130008\n",
      "3.081642900054333\n",
      "3.081446481322736\n",
      "3.081250350259374\n"
     ]
    },
    {
     "name": "stderr",
     "output_type": "stream",
     "text": [
      "\r",
      " 70%|███████   | 70/100 [03:24<01:23,  2.80s/it]"
     ]
    },
    {
     "name": "stdout",
     "output_type": "stream",
     "text": [
      "3.0810545061082215\n",
      "Epoch 0, Loss 3.0810545061082215\n",
      "3.0808589481160427\n",
      "3.080663675532387\n",
      "3.0804686876095704\n",
      "3.0802739836026642\n",
      "3.080079562769485\n",
      "3.0798854243705778\n",
      "3.0796915676692076\n",
      "3.079497991931345\n",
      "3.079304696425652\n"
     ]
    },
    {
     "name": "stderr",
     "output_type": "stream",
     "text": [
      "\r",
      " 71%|███████   | 71/100 [03:26<01:20,  2.79s/it]"
     ]
    },
    {
     "name": "stdout",
     "output_type": "stream",
     "text": [
      "3.079111680423474\n",
      "Epoch 0, Loss 3.079111680423474\n",
      "3.078918943198825\n",
      "3.0787264840283743\n",
      "3.078534302191438\n",
      "3.0783423969699633\n",
      "3.0781507676485176\n",
      "3.07795941351428\n",
      "3.077768333857023\n",
      "3.0775775279691064\n",
      "3.077386995145463\n"
     ]
    },
    {
     "name": "stderr",
     "output_type": "stream",
     "text": [
      "\r",
      " 72%|███████▏  | 72/100 [03:30<01:28,  3.16s/it]"
     ]
    },
    {
     "name": "stdout",
     "output_type": "stream",
     "text": [
      "3.0771967346835867\n",
      "Epoch 0, Loss 3.0771967346835867\n",
      "3.0770067458835237\n",
      "3.076817028047855\n",
      "3.0766275804816927\n",
      "3.0764384024926623\n",
      "3.076249493390895\n",
      "3.076060852489014\n",
      "3.075872479102126\n",
      "3.075684372547806\n",
      "3.07549653214609\n"
     ]
    },
    {
     "name": "stderr",
     "output_type": "stream",
     "text": [
      "\r",
      " 73%|███████▎  | 73/100 [03:33<01:21,  3.00s/it]"
     ]
    },
    {
     "name": "stdout",
     "output_type": "stream",
     "text": [
      "3.0753089572194625\n",
      "Epoch 0, Loss 3.0753089572194625\n",
      "3.075121647092846\n",
      "3.074934601093589\n",
      "3.074747818551455\n",
      "3.074561298798612\n",
      "3.0743750411696253\n",
      "3.0741890450014386\n",
      "3.0740033096333725\n",
      "3.0738178344071065\n"
     ]
    },
    {
     "name": "stderr",
     "output_type": "stream",
     "text": [
      "\r",
      " 74%|███████▍  | 74/100 [03:36<01:17,  2.97s/it]"
     ]
    },
    {
     "name": "stdout",
     "output_type": "stream",
     "text": [
      "3.0736326186666743\n",
      "3.0734476617584487\n",
      "Epoch 0, Loss 3.0734476617584487\n",
      "3.0732629630311328\n",
      "3.0730785218357513\n",
      "3.0728943375256375\n",
      "3.072710409456425\n",
      "3.072526736986036\n",
      "3.072343319474672\n",
      "3.072160156284803\n",
      "3.0719772467811595\n",
      "3.0717945903307182\n"
     ]
    },
    {
     "name": "stderr",
     "output_type": "stream",
     "text": [
      "\r",
      " 75%|███████▌  | 75/100 [03:38<01:07,  2.71s/it]"
     ]
    },
    {
     "name": "stdout",
     "output_type": "stream",
     "text": [
      "3.071612186302696\n",
      "Epoch 0, Loss 3.071612186302696\n",
      "3.0714300340685394\n",
      "3.0712481330019137\n",
      "3.071066482478692\n",
      "3.070885081876948\n",
      "3.0707039305769452\n",
      "3.0705230279611273\n",
      "3.0703423734141078\n",
      "3.0701619663226607\n",
      "3.0699818060757122\n"
     ]
    },
    {
     "name": "stderr",
     "output_type": "stream",
     "text": [
      "\r",
      " 76%|███████▌  | 76/100 [03:41<01:08,  2.85s/it]"
     ]
    },
    {
     "name": "stdout",
     "output_type": "stream",
     "text": [
      "3.0698018920643313\n",
      "Epoch 0, Loss 3.0698018920643313\n",
      "3.0696222236817157\n",
      "3.0694428003231913\n",
      "3.0692636213861935\n",
      "3.069084686270264\n",
      "3.06890599437704\n",
      "3.0687275451102436\n",
      "3.0685493378756736\n",
      "3.0683713720811983\n",
      "3.0681936471367433\n"
     ]
    },
    {
     "name": "stderr",
     "output_type": "stream",
     "text": [
      "\r",
      " 77%|███████▋  | 77/100 [03:44<01:04,  2.81s/it]"
     ]
    },
    {
     "name": "stdout",
     "output_type": "stream",
     "text": [
      "3.068016162454284\n",
      "Epoch 0, Loss 3.068016162454284\n",
      "3.067838917447836\n",
      "3.067661911533449\n",
      "3.067485144129194\n",
      "3.067308614655155\n",
      "3.067132322533424\n",
      "3.066956267188087\n",
      "3.0667804480452214\n",
      "3.0666048645328785\n",
      "3.066429516081087\n"
     ]
    },
    {
     "name": "stderr",
     "output_type": "stream",
     "text": [
      "\r",
      " 78%|███████▊  | 78/100 [03:47<01:03,  2.87s/it]"
     ]
    },
    {
     "name": "stdout",
     "output_type": "stream",
     "text": [
      "3.0662544021218325\n",
      "Epoch 0, Loss 3.0662544021218325\n",
      "3.0660795220890558\n",
      "3.065904875418644\n",
      "3.0657304615484184\n",
      "3.065556279918132\n",
      "3.0653823299694554\n",
      "3.0652086111459713\n",
      "3.065035122893165\n",
      "3.06486186465842\n",
      "3.0646888358910047\n"
     ]
    },
    {
     "name": "stderr",
     "output_type": "stream",
     "text": [
      "\r",
      " 79%|███████▉  | 79/100 [03:50<00:59,  2.84s/it]"
     ]
    },
    {
     "name": "stdout",
     "output_type": "stream",
     "text": [
      "3.0645160360420642\n",
      "Epoch 0, Loss 3.0645160360420642\n",
      "3.0643434645646193\n",
      "3.06417112091355\n",
      "3.063999004545591\n",
      "3.0638271149193264\n",
      "3.063655451495177\n",
      "3.0634840137353954\n",
      "3.063312801104057\n",
      "3.063141813067051\n",
      "3.0629710490920763\n"
     ]
    },
    {
     "name": "stderr",
     "output_type": "stream",
     "text": [
      "\r",
      " 80%|████████  | 80/100 [03:52<00:55,  2.77s/it]"
     ]
    },
    {
     "name": "stdout",
     "output_type": "stream",
     "text": [
      "3.0628005086486314\n",
      "Epoch 0, Loss 3.0628005086486314\n",
      "3.062630191208005\n",
      "3.062460096243273\n",
      "3.062290223229285\n",
      "3.0621205716426614\n",
      "3.0619511409617846\n",
      "3.0617819306667897\n",
      "3.0616129402395607\n",
      "3.0614441691637175\n",
      "3.061275616924616\n"
     ]
    },
    {
     "name": "stderr",
     "output_type": "stream",
     "text": [
      "\r",
      " 81%|████████  | 81/100 [03:55<00:53,  2.81s/it]"
     ]
    },
    {
     "name": "stdout",
     "output_type": "stream",
     "text": [
      "3.0611072830093335\n",
      "Epoch 0, Loss 3.0611072830093335\n",
      "3.060939166906665\n",
      "3.060771268107116\n",
      "3.060603586102894\n",
      "3.060436120387903\n",
      "3.060268870457733\n",
      "3.0601018358096574\n",
      "3.0599350159426235\n",
      "3.0597684103572433\n",
      "3.059602018555791\n"
     ]
    },
    {
     "name": "stderr",
     "output_type": "stream",
     "text": [
      "\r",
      " 82%|████████▏ | 82/100 [03:58<00:50,  2.81s/it]"
     ]
    },
    {
     "name": "stdout",
     "output_type": "stream",
     "text": [
      "3.059435840042192\n",
      "Epoch 0, Loss 3.059435840042192\n",
      "3.059269874322018\n",
      "3.0591041209024805\n",
      "3.0589385792924233\n",
      "3.0587732490023125\n",
      "3.0586081295442353\n",
      "3.058443220431892\n",
      "3.0582785211805827\n",
      "3.0581140313072095\n",
      "3.0579497503302644\n"
     ]
    },
    {
     "name": "stderr",
     "output_type": "stream",
     "text": [
      "\r",
      " 83%|████████▎ | 83/100 [04:01<00:46,  2.75s/it]"
     ]
    },
    {
     "name": "stdout",
     "output_type": "stream",
     "text": [
      "3.0577856777698247\n",
      "Epoch 0, Loss 3.0577856777698247\n",
      "3.057621813147546\n",
      "3.0574581559866543\n",
      "3.057294705811941\n",
      "3.0571314621497554\n",
      "3.0569684245279998\n",
      "3.0568055924761226\n",
      "3.0566429655251084\n",
      "3.0564805432074755\n",
      "3.05631832505727\n"
     ]
    },
    {
     "name": "stderr",
     "output_type": "stream",
     "text": [
      "\r",
      " 84%|████████▍ | 84/100 [04:03<00:42,  2.64s/it]"
     ]
    },
    {
     "name": "stdout",
     "output_type": "stream",
     "text": [
      "3.0561563106100564\n",
      "Epoch 0, Loss 3.0561563106100564\n",
      "3.055994499402912\n",
      "3.0558328909744223\n",
      "3.0556714848646744\n",
      "3.0555102806152497\n",
      "3.0553492777692166\n",
      "3.0551884758711285\n",
      "3.0550278744670125\n",
      "3.054867473104369\n",
      "3.05470727133216\n"
     ]
    },
    {
     "name": "stderr",
     "output_type": "stream",
     "text": [
      "\r",
      " 85%|████████▌ | 85/100 [04:06<00:39,  2.63s/it]"
     ]
    },
    {
     "name": "stdout",
     "output_type": "stream",
     "text": [
      "3.0545472687008055\n",
      "Epoch 0, Loss 3.0545472687008055\n",
      "3.0543874647621783\n",
      "3.0542278590695986\n",
      "3.054068451177825\n",
      "3.0539092406430504\n",
      "3.053750227022895\n",
      "3.053591409876405\n",
      "3.0534327887640402\n",
      "3.053274363247671\n",
      "3.0531161328905747\n"
     ]
    },
    {
     "name": "stderr",
     "output_type": "stream",
     "text": [
      "\r",
      " 86%|████████▌ | 86/100 [04:09<00:38,  2.74s/it]"
     ]
    },
    {
     "name": "stdout",
     "output_type": "stream",
     "text": [
      "3.052958097257426\n",
      "Epoch 0, Loss 3.052958097257426\n",
      "3.0528002559142946\n",
      "3.0526426084286373\n",
      "3.0524851543692924\n",
      "3.0523278933064755\n",
      "3.052170824811774\n",
      "3.0520139484581383\n",
      "3.05185726381988\n",
      "3.051700770472665\n",
      "3.0515444679935073\n"
     ]
    },
    {
     "name": "stderr",
     "output_type": "stream",
     "text": [
      "\r",
      " 87%|████████▋ | 87/100 [04:11<00:34,  2.64s/it]"
     ]
    },
    {
     "name": "stdout",
     "output_type": "stream",
     "text": [
      "3.0513883559607633\n",
      "Epoch 0, Loss 3.0513883559607633\n",
      "3.0512324339541306\n",
      "3.051076701554634\n",
      "3.050921158344629\n",
      "3.0507658039077916\n",
      "3.0506106378291133\n",
      "3.050455659694897\n",
      "3.050300869092751\n",
      "3.0501462656115836\n",
      "3.049991848841601\n"
     ]
    },
    {
     "name": "stderr",
     "output_type": "stream",
     "text": [
      "\r",
      " 88%|████████▊ | 88/100 [04:14<00:31,  2.65s/it]"
     ]
    },
    {
     "name": "stdout",
     "output_type": "stream",
     "text": [
      "3.0498376183742923\n",
      "Epoch 0, Loss 3.0498376183742923\n",
      "3.0496835738024384\n",
      "3.0495297147200957\n",
      "3.049376040722598\n",
      "3.049222551406541\n",
      "3.049069246369794\n",
      "3.0489161252114805\n",
      "3.0487631875319763\n",
      "3.048610432932908\n",
      "3.0484578610171464\n"
     ]
    },
    {
     "name": "stderr",
     "output_type": "stream",
     "text": [
      "\r",
      " 89%|████████▉ | 89/100 [04:16<00:29,  2.70s/it]"
     ]
    },
    {
     "name": "stdout",
     "output_type": "stream",
     "text": [
      "3.0483054713888005\n",
      "Epoch 0, Loss 3.0483054713888005\n",
      "3.0481532636532145\n",
      "3.0480012374169583\n",
      "3.0478493922878305\n",
      "3.0476977278748443\n",
      "3.0475462437882306\n",
      "3.0473949396394273\n",
      "3.04724381504108\n",
      "3.0470928696070305\n",
      "3.046942102952317\n"
     ]
    },
    {
     "name": "stderr",
     "output_type": "stream",
     "text": [
      "\r",
      " 90%|█████████ | 90/100 [04:20<00:28,  2.85s/it]"
     ]
    },
    {
     "name": "stdout",
     "output_type": "stream",
     "text": [
      "3.046791514693171\n",
      "Epoch 0, Loss 3.046791514693171\n",
      "3.0466411044470045\n",
      "3.046490871832414\n",
      "3.046340816469171\n",
      "3.0461909379782193\n",
      "3.046041235981668\n",
      "3.045891710102791\n",
      "3.0457423599660163\n",
      "3.045593185196927\n"
     ]
    },
    {
     "name": "stderr",
     "output_type": "stream",
     "text": [
      "\r",
      " 91%|█████████ | 91/100 [04:22<00:24,  2.68s/it]"
     ]
    },
    {
     "name": "stdout",
     "output_type": "stream",
     "text": [
      "3.0454441854222574\n",
      "3.0452953602698805\n",
      "Epoch 0, Loss 3.0452953602698805\n",
      "3.045146709368813\n",
      "3.0449982323492044\n",
      "3.0448499288423365\n",
      "3.0447017984806157\n",
      "3.04455384089757\n",
      "3.0444060557278463\n",
      "3.0442584426072026\n",
      "3.0441110011725057\n",
      "3.043963731061729\n"
     ]
    },
    {
     "name": "stderr",
     "output_type": "stream",
     "text": [
      "\r",
      " 92%|█████████▏| 92/100 [04:25<00:22,  2.81s/it]"
     ]
    },
    {
     "name": "stdout",
     "output_type": "stream",
     "text": [
      "3.043816631913942\n",
      "Epoch 0, Loss 3.043816631913942\n",
      "3.0436697033693125\n",
      "3.0435229450690975\n",
      "3.0433763566556427\n",
      "3.0432299377723764\n",
      "3.043083688063804\n",
      "3.0429376071755074\n",
      "3.0427916947541362\n",
      "3.042645950447408\n",
      "3.042500373904102\n"
     ]
    },
    {
     "name": "stderr",
     "output_type": "stream",
     "text": [
      "\r",
      " 93%|█████████▎| 93/100 [04:27<00:18,  2.69s/it]"
     ]
    },
    {
     "name": "stdout",
     "output_type": "stream",
     "text": [
      "3.0423549647740527\n",
      "Epoch 0, Loss 3.0423549647740527\n",
      "3.0422097227081517\n",
      "3.0420646473583375\n",
      "3.0419197383775947\n",
      "3.0417749954199507\n",
      "3.041630418140468\n",
      "3.0414860061952433\n",
      "3.041341759241404\n",
      "3.0411976769371005\n"
     ]
    },
    {
     "name": "stderr",
     "output_type": "stream",
     "text": [
      "\r",
      " 94%|█████████▍| 94/100 [04:30<00:15,  2.61s/it]"
     ]
    },
    {
     "name": "stdout",
     "output_type": "stream",
     "text": [
      "3.0410537589415063\n",
      "3.040910004914812\n",
      "Epoch 0, Loss 3.040910004914812\n",
      "3.0407664145182216\n",
      "3.040622987413947\n",
      "3.04047972326521\n",
      "3.0403366217362304\n",
      "3.040193682492227\n",
      "3.0400509051994136\n",
      "3.0399082895249956\n",
      "3.0397658351371613\n",
      "3.0396235417050836\n"
     ]
    },
    {
     "name": "stderr",
     "output_type": "stream",
     "text": [
      "\r",
      " 95%|█████████▌| 95/100 [04:34<00:14,  2.95s/it]"
     ]
    },
    {
     "name": "stdout",
     "output_type": "stream",
     "text": [
      "3.039481408898917\n",
      "Epoch 0, Loss 3.039481408898917\n",
      "3.039339436389786\n",
      "3.0391976238497924\n",
      "3.039055970952001\n",
      "3.0389144773704437\n",
      "3.038773142780112\n",
      "3.0386319668569546\n",
      "3.0384909492778713\n",
      "3.0383500897207147\n",
      "3.038209387864281\n"
     ]
    },
    {
     "name": "stderr",
     "output_type": "stream",
     "text": [
      "\r",
      " 96%|█████████▌| 96/100 [04:36<00:11,  2.88s/it]"
     ]
    },
    {
     "name": "stdout",
     "output_type": "stream",
     "text": [
      "3.0380688433883103\n",
      "Epoch 0, Loss 3.0380688433883103\n",
      "3.03792845597348\n",
      "3.0377882253014024\n",
      "3.0376481510546234\n",
      "3.0375082329166165\n",
      "3.0373684705717783\n",
      "3.037228863705428\n",
      "3.037089412003801\n",
      "3.036950115154048\n",
      "3.036810972844231\n"
     ]
    },
    {
     "name": "stderr",
     "output_type": "stream",
     "text": [
      "\r",
      " 97%|█████████▋| 97/100 [04:40<00:09,  3.04s/it]"
     ]
    },
    {
     "name": "stdout",
     "output_type": "stream",
     "text": [
      "3.0366719847633177\n",
      "Epoch 0, Loss 3.0366719847633177\n",
      "3.036533150601181\n",
      "3.0363944700485934\n",
      "3.0362559427972244\n",
      "3.0361175685396375\n",
      "3.0359793469692864\n",
      "3.035841277780512\n",
      "3.035703360668539\n",
      "3.035565595329472\n",
      "3.035427981460293\n"
     ]
    },
    {
     "name": "stderr",
     "output_type": "stream",
     "text": [
      "\r",
      " 98%|█████████▊| 98/100 [04:43<00:06,  3.09s/it]"
     ]
    },
    {
     "name": "stdout",
     "output_type": "stream",
     "text": [
      "3.0352905187588566\n",
      "Epoch 0, Loss 3.0352905187588566\n",
      "3.0351532069238893\n",
      "3.0350160456549853\n",
      "3.034879034652601\n",
      "3.0347421736180555\n",
      "3.034605462253523\n",
      "3.034468900262035\n",
      "3.0343324873474717\n",
      "3.0341962232145625\n",
      "3.0340601075688824\n"
     ]
    },
    {
     "name": "stderr",
     "output_type": "stream",
     "text": [
      "\r",
      " 99%|█████████▉| 99/100 [04:46<00:03,  3.21s/it]"
     ]
    },
    {
     "name": "stdout",
     "output_type": "stream",
     "text": [
      "3.0339241401168455\n",
      "Epoch 0, Loss 3.0339241401168455\n",
      "3.0337883205657077\n",
      "3.0336526486235584\n",
      "3.033517123999321\n",
      "3.033381746402745\n",
      "3.03324651554441\n",
      "3.033111431135716\n",
      "3.032976492888885\n",
      "3.0328417005169555\n",
      "3.03270705373378\n"
     ]
    },
    {
     "name": "stderr",
     "output_type": "stream",
     "text": [
      "100%|██████████| 100/100 [04:50<00:00,  2.90s/it]\n",
      "  0%|          | 0/100 [00:00<?, ?it/s]"
     ]
    },
    {
     "name": "stdout",
     "output_type": "stream",
     "text": [
      "6.9288577698436615\n",
      "Epoch 0, Loss 6.9288577698436615\n",
      "3.516369044505578\n",
      "3.418297742783217\n",
      "3.379027382644278\n",
      "3.3618549319425823\n",
      "3.350875234647689\n",
      "3.3415484094935035\n",
      "3.3328170378022968\n",
      "3.3244441151945505\n",
      "3.316369326705538\n"
     ]
    },
    {
     "name": "stderr",
     "output_type": "stream",
     "text": [
      "\r",
      "  1%|          | 1/100 [00:03<06:09,  3.74s/it]"
     ]
    },
    {
     "name": "stdout",
     "output_type": "stream",
     "text": [
      "3.308569918091489\n",
      "Epoch 0, Loss 3.308569918091489\n",
      "3.301031493177308\n",
      "3.293741877273615\n",
      "3.2866898010605397\n",
      "3.279864600961798\n",
      "3.2732561373610736\n",
      "3.2668547606142457\n",
      "3.2606512879537224\n",
      "3.254636983097706\n",
      "3.2488035367262915\n"
     ]
    },
    {
     "name": "stderr",
     "output_type": "stream",
     "text": [
      "\r",
      "  2%|▏         | 2/100 [00:07<06:14,  3.82s/it]"
     ]
    },
    {
     "name": "stdout",
     "output_type": "stream",
     "text": [
      "3.2431430474358254\n",
      "Epoch 0, Loss 3.2431430474358254\n",
      "3.2376480031242583\n",
      "3.2323112628391546\n",
      "3.2271260391331045\n",
      "3.222085880967094\n",
      "3.217184657193939\n",
      "3.2124165406449086\n",
      "3.2077759928344185\n",
      "3.2032577492903678\n",
      "3.1988568055115376\n"
     ]
    },
    {
     "name": "stderr",
     "output_type": "stream",
     "text": [
      "\r",
      "  3%|▎         | 3/100 [00:11<06:22,  3.94s/it]"
     ]
    },
    {
     "name": "stdout",
     "output_type": "stream",
     "text": [
      "3.1945684035482116\n",
      "Epoch 0, Loss 3.1945684035482116\n",
      "3.1903880191979366\n",
      "3.1863113498048166\n",
      "3.1823343026479542\n",
      "3.1784529839024858\n",
      "3.1746636881550025\n",
      "3.1709628884539347\n",
      "3.1673472268746803\n",
      "3.1638135055787258\n",
      "3.160358678345791\n"
     ]
    },
    {
     "name": "stderr",
     "output_type": "stream",
     "text": [
      "\r",
      "  4%|▍         | 4/100 [00:15<05:54,  3.69s/it]"
     ]
    },
    {
     "name": "stdout",
     "output_type": "stream",
     "text": [
      "3.156979842558015\n",
      "Epoch 0, Loss 3.156979842558015\n",
      "3.1536742316153563\n",
      "3.150439207761707\n",
      "3.1472722553016372\n",
      "3.1441709741882278\n",
      "3.1411330739630166\n",
      "3.1381563680297586\n",
      "3.135238768244347\n",
      "3.132378279803979\n",
      "3.1295729964193475\n"
     ]
    },
    {
     "name": "stderr",
     "output_type": "stream",
     "text": [
      "\r",
      "  5%|▌         | 5/100 [00:18<05:45,  3.64s/it]"
     ]
    },
    {
     "name": "stdout",
     "output_type": "stream",
     "text": [
      "3.1268210957543565\n",
      "Epoch 0, Loss 3.1268210957543565\n",
      "3.124120835118603\n",
      "3.1214705473985442\n",
      "3.118868637213991\n",
      "3.1163135772872277\n",
      "3.113803905012734\n",
      "3.1113382192160954\n",
      "3.108915177091343\n",
      "3.106533491306507\n",
      "3.1041919272677476\n"
     ]
    },
    {
     "name": "stderr",
     "output_type": "stream",
     "text": [
      "\r",
      "  6%|▌         | 6/100 [00:21<05:32,  3.54s/it]"
     ]
    },
    {
     "name": "stdout",
     "output_type": "stream",
     "text": [
      "3.1018893005329975\n",
      "Epoch 0, Loss 3.1018893005329975\n",
      "3.099624474366501\n",
      "3.097396357426178\n",
      "3.0952039015761708\n",
      "3.0930460998173968\n",
      "3.0909219843293245\n",
      "3.088830624616593\n",
      "3.0867711257544728\n",
      "3.0847426267275195\n",
      "3.082744298856085\n"
     ]
    },
    {
     "name": "stderr",
     "output_type": "stream",
     "text": [
      "\r",
      "  7%|▋         | 7/100 [00:24<05:03,  3.27s/it]"
     ]
    },
    {
     "name": "stdout",
     "output_type": "stream",
     "text": [
      "3.0807753443056884\n",
      "Epoch 0, Loss 3.0807753443056884\n",
      "3.0788349946745357\n",
      "3.076922509654735\n",
      "3.0750371757630695\n",
      "3.0731783051373593\n",
      "3.0713452343947565\n",
      "3.069537323548474\n",
      "3.067753954979689\n",
      "3.0659945324615334\n",
      "3.064258480232294\n"
     ]
    },
    {
     "name": "stderr",
     "output_type": "stream",
     "text": [
      "\r",
      "  8%|▊         | 8/100 [00:28<05:07,  3.34s/it]"
     ]
    },
    {
     "name": "stdout",
     "output_type": "stream",
     "text": [
      "3.0625452421150725\n",
      "Epoch 0, Loss 3.0625452421150725\n",
      "3.060854280681362\n",
      "3.0591850764561115\n",
      "3.0575371271620053\n",
      "3.0559099470008295\n",
      "3.054303065969896\n",
      "3.0527160292116315\n",
      "3.0511483963945394\n",
      "3.049599741123861\n",
      "3.04806965038033\n"
     ]
    },
    {
     "name": "stderr",
     "output_type": "stream",
     "text": [
      "\r",
      "  9%|▉         | 9/100 [00:32<05:25,  3.58s/it]"
     ]
    },
    {
     "name": "stdout",
     "output_type": "stream",
     "text": [
      "3.046557723985546\n",
      "Epoch 0, Loss 3.046557723985546\n",
      "3.0450635740925325\n",
      "3.0435868247001774\n",
      "3.0421271111902715\n",
      "3.040684079885995\n",
      "3.039257387630706\n",
      "3.037846701386004\n",
      "3.0364516978480545\n",
      "3.035072063081255\n",
      "3.033707492168344\n"
     ]
    },
    {
     "name": "stderr",
     "output_type": "stream",
     "text": [
      "\r",
      " 10%|█         | 10/100 [00:35<05:06,  3.40s/it]"
     ]
    },
    {
     "name": "stdout",
     "output_type": "stream",
     "text": [
      "3.0323576888761186\n",
      "Epoch 0, Loss 3.0323576888761186\n",
      "3.0310223653359913\n",
      "3.0297012417385982\n",
      "3.0283940460418033\n",
      "3.027100513691393\n",
      "3.0258203873538534\n",
      "3.02455341666063\n",
      "3.023299357963302\n",
      "3.0220579740991385\n",
      "3.0208290341665416\n"
     ]
    },
    {
     "name": "stderr",
     "output_type": "stream",
     "text": [
      "\r",
      " 11%|█         | 11/100 [00:37<04:24,  2.97s/it]"
     ]
    },
    {
     "name": "stdout",
     "output_type": "stream",
     "text": [
      "3.0196123133098913\n",
      "Epoch 0, Loss 3.0196123133098913\n",
      "3.01840759251334\n",
      "3.017214658403132\n",
      "3.016033303058042\n",
      "3.014863323827552\n",
      "3.013704523157393\n",
      "3.0125567084221188\n",
      "3.011419691764378\n",
      "3.010293289940574\n",
      "3.009177324172625\n"
     ]
    },
    {
     "name": "stderr",
     "output_type": "stream",
     "text": [
      "\r",
      " 12%|█▏        | 12/100 [00:39<04:08,  2.83s/it]"
     ]
    },
    {
     "name": "stdout",
     "output_type": "stream",
     "text": [
      "3.0080716200055395\n",
      "Epoch 0, Loss 3.0080716200055395\n",
      "3.0069760071705396\n",
      "3.005890319453493\n",
      "3.0048143945684016\n",
      "3.003748074035731\n",
      "3.002691203065357\n",
      "3.001643630443929\n",
      "3.0006052084264585\n",
      "2.999575792631942\n",
      "2.9985552419428463\n"
     ]
    },
    {
     "name": "stderr",
     "output_type": "stream",
     "text": [
      "\r",
      " 13%|█▎        | 13/100 [00:42<04:02,  2.79s/it]"
     ]
    },
    {
     "name": "stdout",
     "output_type": "stream",
     "text": [
      "2.997543418408292\n",
      "Epoch 0, Loss 2.997543418408292\n",
      "2.996540187150765\n",
      "2.9955454162762205\n",
      "2.9945589767874243\n",
      "2.9935807425003973\n",
      "2.992610589963836\n",
      "2.9916483983813755\n",
      "2.990694049536594\n",
      "2.9897474277206197\n",
      "2.9888084196622664\n"
     ]
    },
    {
     "name": "stderr",
     "output_type": "stream",
     "text": [
      "\r",
      " 14%|█▍        | 14/100 [00:45<04:07,  2.88s/it]"
     ]
    },
    {
     "name": "stdout",
     "output_type": "stream",
     "text": [
      "2.9878769144605566\n",
      "Epoch 0, Loss 2.9878769144605566\n",
      "2.9869528035195754\n",
      "2.986035980485522\n",
      "2.9851263411858984\n",
      "2.9842237835707413\n",
      "2.9833282076558163\n",
      "2.982439515467686\n",
      "2.9815576109906012\n",
      "2.980682400115125\n",
      "2.9798137905884317\n"
     ]
    },
    {
     "name": "stderr",
     "output_type": "stream",
     "text": [
      "\r",
      " 15%|█▌        | 15/100 [00:48<03:56,  2.79s/it]"
     ]
    },
    {
     "name": "stdout",
     "output_type": "stream",
     "text": [
      "2.9789516919662073\n",
      "Epoch 0, Loss 2.9789516919662073\n",
      "2.9780960155661096\n",
      "2.9772466744226964\n",
      "2.976403583243803\n",
      "2.975566658368282\n",
      "2.9747358177250773\n",
      "2.9739109807935704\n",
      "2.9730920685651574\n",
      "2.972279003506006\n",
      "2.971471709520951\n"
     ]
    },
    {
     "name": "stderr",
     "output_type": "stream",
     "text": [
      "\r",
      " 16%|█▌        | 16/100 [00:50<03:45,  2.68s/it]"
     ]
    },
    {
     "name": "stdout",
     "output_type": "stream",
     "text": [
      "2.9706701119184977\n",
      "Epoch 0, Loss 2.9706701119184977\n",
      "2.9698741373768742\n",
      "2.969083713911109\n",
      "2.9682987708410877\n",
      "2.967519238760568\n",
      "2.9667450495070984\n",
      "2.9659761361328303\n",
      "2.9652124328761755\n",
      "2.9644538751342897\n",
      "2.9637003994363473\n"
     ]
    },
    {
     "name": "stderr",
     "output_type": "stream",
     "text": [
      "\r",
      " 17%|█▋        | 17/100 [00:53<03:48,  2.75s/it]"
     ]
    },
    {
     "name": "stdout",
     "output_type": "stream",
     "text": [
      "2.962951943417588\n",
      "Epoch 0, Loss 2.962951943417588\n",
      "2.9622084457940945\n",
      "2.9614698463382974\n",
      "2.960736085855161\n",
      "2.960007106159044\n",
      "2.9592828500511974\n",
      "2.9585632612978965\n",
      "2.9578482846091676\n",
      "2.9571378656181015\n",
      "2.9564319508607335\n"
     ]
    },
    {
     "name": "stderr",
     "output_type": "stream",
     "text": [
      "\r",
      " 18%|█▊        | 18/100 [00:56<03:44,  2.74s/it]"
     ]
    },
    {
     "name": "stdout",
     "output_type": "stream",
     "text": [
      "2.95573048775646\n",
      "Epoch 0, Loss 2.95573048775646\n",
      "2.9550334245889993\n",
      "2.9543407104878456\n",
      "2.953652295410227\n",
      "2.9529681301235464\n",
      "2.9522881661882754\n",
      "2.9516123559413043\n",
      "2.950940652479727\n",
      "2.9502730096450427\n",
      "2.9496093820077713\n"
     ]
    },
    {
     "name": "stderr",
     "output_type": "stream",
     "text": [
      "\r",
      " 19%|█▉        | 19/100 [00:58<03:28,  2.57s/it]"
     ]
    },
    {
     "name": "stdout",
     "output_type": "stream",
     "text": [
      "2.9489497248524583\n",
      "Epoch 0, Loss 2.9489497248524583\n",
      "2.9482939941630706\n",
      "2.947642146608757\n",
      "2.9469941395299717\n",
      "2.9463499309249506\n",
      "2.9457094794365193\n",
      "2.9450727443392366\n",
      "2.9444396855268504\n",
      "2.943810263500073\n",
      "2.943184439354644\n"
     ]
    },
    {
     "name": "stderr",
     "output_type": "stream",
     "text": [
      "\r",
      " 20%|██        | 20/100 [01:00<03:19,  2.49s/it]"
     ]
    },
    {
     "name": "stdout",
     "output_type": "stream",
     "text": [
      "2.9425621747696953\n",
      "Epoch 0, Loss 2.9425621747696953\n",
      "2.9419434319963917\n",
      "2.9413281738468515\n",
      "2.940716363683332\n",
      "2.9401079654076705\n",
      "2.9395029434509823\n",
      "2.938901262763603\n",
      "2.9383028888052594\n",
      "2.937707787535486\n",
      "2.93711592540425\n"
     ]
    },
    {
     "name": "stderr",
     "output_type": "stream",
     "text": [
      "\r",
      " 21%|██        | 21/100 [01:02<03:12,  2.43s/it]"
     ]
    },
    {
     "name": "stdout",
     "output_type": "stream",
     "text": [
      "2.936527269342809\n",
      "Epoch 0, Loss 2.936527269342809\n",
      "2.935941786754769\n",
      "2.9353594455073533\n",
      "2.934780213922872\n",
      "2.934204060770387\n",
      "2.9336309552575632\n",
      "2.933060867022706\n",
      "2.932493766126981\n",
      "2.9319296230467997\n",
      "2.931368408666388\n"
     ]
    },
    {
     "name": "stderr",
     "output_type": "stream",
     "text": [
      "\r",
      " 22%|██▏       | 22/100 [01:06<03:25,  2.63s/it]"
     ]
    },
    {
     "name": "stdout",
     "output_type": "stream",
     "text": [
      "2.9308100942705058\n",
      "Epoch 0, Loss 2.9308100942705058\n",
      "2.930254651537337\n",
      "2.929702052531535\n",
      "2.929152269697418\n",
      "2.9286052758523096\n",
      "2.9280610441800357\n",
      "2.9275195482245486\n",
      "2.9269807618836974\n",
      "2.926444659403127\n",
      "2.925911215370311\n"
     ]
    },
    {
     "name": "stderr",
     "output_type": "stream",
     "text": [
      "\r",
      " 23%|██▎       | 23/100 [01:08<03:22,  2.63s/it]"
     ]
    },
    {
     "name": "stdout",
     "output_type": "stream",
     "text": [
      "2.925380404708709\n",
      "Epoch 0, Loss 2.925380404708709\n",
      "2.9248522026720476\n",
      "2.924326584838724\n",
      "2.923803527106324\n",
      "2.923283005686257\n",
      "2.922764997098503\n",
      "2.9222494781664645\n",
      "2.921736426011929\n",
      "2.921225818050132\n",
      "2.9207176319849246\n"
     ]
    },
    {
     "name": "stderr",
     "output_type": "stream",
     "text": [
      "\r",
      " 24%|██▍       | 24/100 [01:11<03:30,  2.77s/it]"
     ]
    },
    {
     "name": "stdout",
     "output_type": "stream",
     "text": [
      "2.9202118458040345\n",
      "Epoch 0, Loss 2.9202118458040345\n",
      "2.919708437774428\n",
      "2.9192073864377615\n",
      "2.918708670605929\n",
      "2.918212269356696\n",
      "2.917718162029417\n",
      "2.917226328220849\n",
      "2.916736747781035\n",
      "2.9162494008092783\n",
      "2.915764267650191\n"
     ]
    },
    {
     "name": "stderr",
     "output_type": "stream",
     "text": [
      "\r",
      " 25%|██▌       | 25/100 [01:14<03:24,  2.73s/it]"
     ]
    },
    {
     "name": "stdout",
     "output_type": "stream",
     "text": [
      "2.9152813288898214\n",
      "Epoch 0, Loss 2.9152813288898214\n",
      "2.914800565351855\n",
      "2.9143219580938955\n",
      "2.9138454884038056\n",
      "2.9133711377961324\n",
      "2.9128988880085918\n",
      "2.9124287209986224\n",
      "2.9119606189400065\n",
      "2.9114945642195553\n",
      "2.911030539433852\n"
     ]
    },
    {
     "name": "stderr",
     "output_type": "stream",
     "text": [
      "\r",
      " 26%|██▌       | 26/100 [01:17<03:22,  2.74s/it]"
     ]
    },
    {
     "name": "stdout",
     "output_type": "stream",
     "text": [
      "2.9105685273860646\n",
      "Epoch 0, Loss 2.9105685273860646\n",
      "2.910108511082809\n",
      "2.9096504737310807\n",
      "2.9091943987352322\n",
      "2.9087402696940163\n",
      "2.9082880703976803\n",
      "2.9078377848251105\n",
      "2.907389397141037\n",
      "2.90694289169328\n",
      "2.9064982530100516\n"
     ]
    },
    {
     "name": "stderr",
     "output_type": "stream",
     "text": [
      "\r",
      " 27%|██▋       | 27/100 [01:20<03:25,  2.82s/it]"
     ]
    },
    {
     "name": "stdout",
     "output_type": "stream",
     "text": [
      "2.90605546579731\n",
      "Epoch 0, Loss 2.90605546579731\n",
      "2.9056145149361505\n",
      "2.9051753854802556\n",
      "2.904738062653384\n",
      "2.9043025318469033\n",
      "2.903868778617374\n",
      "2.903436788684166\n",
      "2.903006547927129\n",
      "2.9025780423842917\n",
      "2.9021512582496114\n"
     ]
    },
    {
     "name": "stderr",
     "output_type": "stream",
     "text": [
      "\r",
      " 28%|██▊       | 28/100 [01:22<03:22,  2.81s/it]"
     ]
    },
    {
     "name": "stdout",
     "output_type": "stream",
     "text": [
      "2.9017261818707585\n",
      "Epoch 0, Loss 2.9017261818707585\n",
      "2.901302799746938\n",
      "2.900881098526754\n",
      "2.9004610650061036\n",
      "2.9000426861261177\n",
      "2.8996259489711287\n",
      "2.899210840766671\n",
      "2.898797348877524\n",
      "2.8983854608057884\n",
      "2.8979751641889835\n"
     ]
    },
    {
     "name": "stderr",
     "output_type": "stream",
     "text": [
      "\r",
      " 29%|██▉       | 29/100 [01:26<03:25,  2.90s/it]"
     ]
    },
    {
     "name": "stdout",
     "output_type": "stream",
     "text": [
      "2.8975664467981903\n",
      "Epoch 0, Loss 2.8975664467981903\n",
      "2.8971592965362136\n",
      "2.896753701435791\n",
      "2.8963496496578105\n",
      "2.89594712948958\n",
      "2.8955461293431073\n",
      "2.89514663775342\n",
      "2.8947486433769103\n",
      "2.894352134989703\n",
      "2.8939571014860546\n"
     ]
    },
    {
     "name": "stderr",
     "output_type": "stream",
     "text": [
      "\r",
      " 30%|███       | 30/100 [01:29<03:25,  2.93s/it]"
     ]
    },
    {
     "name": "stdout",
     "output_type": "stream",
     "text": [
      "2.8935635318767794\n",
      "Epoch 0, Loss 2.8935635318767794\n",
      "2.893171415287696\n",
      "2.892780740958106\n",
      "2.8923914982392893\n",
      "2.8920036765930326\n",
      "2.891617265590173\n",
      "2.8912322549091716\n",
      "2.8908486343347044\n",
      "2.890466393756282\n",
      "2.8900855231668863\n"
     ]
    },
    {
     "name": "stderr",
     "output_type": "stream",
     "text": [
      "\r",
      " 31%|███       | 31/100 [01:31<03:13,  2.80s/it]"
     ]
    },
    {
     "name": "stdout",
     "output_type": "stream",
     "text": [
      "2.889706012661628\n",
      "Epoch 0, Loss 2.889706012661628\n",
      "2.889327852436432\n",
      "2.8889510327867334\n",
      "2.888575544106204\n",
      "2.888201376885492\n",
      "2.887828521710986\n",
      "2.8874569692635914\n",
      "2.887086710317535\n",
      "2.8867177357391807\n",
      "2.886350036485865\n"
     ]
    },
    {
     "name": "stderr",
     "output_type": "stream",
     "text": [
      "\r",
      " 32%|███▏      | 32/100 [01:34<03:14,  2.86s/it]"
     ]
    },
    {
     "name": "stdout",
     "output_type": "stream",
     "text": [
      "2.8859836036047546\n",
      "Epoch 0, Loss 2.8859836036047546\n",
      "2.885618428231715\n",
      "2.8852545015902007\n",
      "2.8848918149901635\n",
      "2.884530359826972\n",
      "2.884170127580351\n",
      "2.883811109813338\n",
      "2.883453298171253\n",
      "2.883096684380682\n",
      "2.8827412602484843\n"
     ]
    },
    {
     "name": "stderr",
     "output_type": "stream",
     "text": [
      "\r",
      " 33%|███▎      | 33/100 [01:37<03:06,  2.78s/it]"
     ]
    },
    {
     "name": "stdout",
     "output_type": "stream",
     "text": [
      "2.8823870176608044\n",
      "Epoch 0, Loss 2.8823870176608044\n",
      "2.8820339485821003\n",
      "2.8816820450541956\n",
      "2.881331299195333\n",
      "2.8809817031992475\n",
      "2.8806332493342612\n",
      "2.8802859299423687\n",
      "2.8799397374383666\n",
      "2.879594664308967\n",
      "2.8792507031119428\n"
     ]
    },
    {
     "name": "stderr",
     "output_type": "stream",
     "text": [
      "\r",
      " 34%|███▍      | 34/100 [01:39<02:54,  2.64s/it]"
     ]
    },
    {
     "name": "stdout",
     "output_type": "stream",
     "text": [
      "2.878907846475277\n",
      "Epoch 0, Loss 2.878907846475277\n",
      "2.8785660870963303\n",
      "2.878225417741009\n",
      "2.87788583124296\n",
      "2.877547320502766\n",
      "2.8772098784871574\n",
      "2.876873498228234\n",
      "2.8765381728226975\n",
      "2.876203895431098\n",
      "2.875870659277084\n"
     ]
    },
    {
     "name": "stderr",
     "output_type": "stream",
     "text": [
      "\r",
      " 35%|███▌      | 35/100 [01:43<03:10,  2.93s/it]"
     ]
    },
    {
     "name": "stdout",
     "output_type": "stream",
     "text": [
      "2.8755384576466705\n",
      "Epoch 0, Loss 2.8755384576466705\n",
      "2.8752072838875145\n",
      "2.874877131408199\n",
      "2.8745479936775293\n",
      "2.8742198642238406\n",
      "2.873892736634308\n",
      "2.873566604554275\n",
      "2.8732414616865873\n",
      "2.8729173017909333\n",
      "2.8725941186832005\n"
     ]
    },
    {
     "name": "stderr",
     "output_type": "stream",
     "text": [
      "\r",
      " 36%|███▌      | 36/100 [01:45<02:58,  2.79s/it]"
     ]
    },
    {
     "name": "stdout",
     "output_type": "stream",
     "text": [
      "2.8722719062348316\n",
      "Epoch 0, Loss 2.8722719062348316\n",
      "2.871950658372198\n",
      "2.871630369075978\n",
      "2.8713110323805404\n",
      "2.870992642373344\n",
      "2.870675193194339\n",
      "2.8703586790353772\n",
      "2.870043094139635\n",
      "2.8697284328010375\n",
      "2.8694146893636954\n"
     ]
    },
    {
     "name": "stderr",
     "output_type": "stream",
     "text": [
      "\r",
      " 37%|███▋      | 37/100 [01:48<03:01,  2.89s/it]"
     ]
    },
    {
     "name": "stdout",
     "output_type": "stream",
     "text": [
      "2.8691018582213457\n",
      "Epoch 0, Loss 2.8691018582213457\n",
      "2.868789933816803\n",
      "2.868478910641419\n",
      "2.8681687832345415\n",
      "2.8678595461829914\n",
      "2.867551194120537\n",
      "2.8672437217273847\n",
      "2.866937123729667\n",
      "2.8666313948989415\n",
      "2.8663265300517002\n"
     ]
    },
    {
     "name": "stderr",
     "output_type": "stream",
     "text": [
      "\r",
      " 38%|███▊      | 38/100 [01:52<03:22,  3.27s/it]"
     ]
    },
    {
     "name": "stdout",
     "output_type": "stream",
     "text": [
      "2.8660225240488777\n",
      "Epoch 0, Loss 2.8660225240488777\n",
      "2.865719371795371\n",
      "2.8654170682395654\n",
      "2.8651156083728613\n",
      "2.8648149872292175\n",
      "2.864515199884688\n",
      "2.864216241456974\n",
      "2.8639181071049764\n",
      "2.8636207920283607\n",
      "2.863324291467116\n"
     ]
    },
    {
     "name": "stderr",
     "output_type": "stream",
     "text": [
      "\r",
      " 39%|███▉      | 39/100 [01:55<03:15,  3.20s/it]"
     ]
    },
    {
     "name": "stdout",
     "output_type": "stream",
     "text": [
      "2.863028600701133\n",
      "Epoch 0, Loss 2.863028600701133\n",
      "2.8627337150497763\n",
      "2.862439629871468\n",
      "2.8621463405632777\n",
      "2.861853842560513\n",
      "2.861562131336316\n",
      "2.8612712024012708\n",
      "2.8609810513030083\n",
      "2.860691673625819\n",
      "2.8604030649902707\n"
     ]
    },
    {
     "name": "stderr",
     "output_type": "stream",
     "text": [
      "\r",
      " 40%|████      | 40/100 [01:59<03:15,  3.26s/it]"
     ]
    },
    {
     "name": "stdout",
     "output_type": "stream",
     "text": [
      "2.860115221052837\n",
      "Epoch 0, Loss 2.860115221052837\n",
      "2.859828137505512\n",
      "2.8595418100754575\n",
      "2.859256234524626\n",
      "2.858971406649411\n",
      "2.858687322280287\n",
      "2.858403977281462\n",
      "2.858121367550533\n",
      "2.857839489018136\n",
      "2.8575583376476206\n"
     ]
    },
    {
     "name": "stderr",
     "output_type": "stream",
     "text": [
      "\r",
      " 41%|████      | 41/100 [02:02<03:13,  3.27s/it]"
     ]
    },
    {
     "name": "stdout",
     "output_type": "stream",
     "text": [
      "2.8572779094347096\n",
      "Epoch 0, Loss 2.8572779094347096\n",
      "2.856998200407169\n",
      "2.8567192066244864\n",
      "2.8564409241775466\n",
      "2.8561633491883156\n",
      "2.855886477809529\n",
      "2.8556103062243765\n",
      "2.8553348306462025\n",
      "2.8550600473181977\n",
      "2.8547859525131076\n"
     ]
    },
    {
     "name": "stderr",
     "output_type": "stream",
     "text": [
      "\r",
      " 42%|████▏     | 42/100 [02:05<03:00,  3.11s/it]"
     ]
    },
    {
     "name": "stdout",
     "output_type": "stream",
     "text": [
      "2.854512542532928\n",
      "Epoch 0, Loss 2.854512542532928\n",
      "2.8542398137086216\n",
      "2.853967762399825\n",
      "2.8536963849945667\n",
      "2.853425677908982\n",
      "2.853155637587041\n",
      "2.8528862605002683\n",
      "2.8526175431474723\n",
      "2.85234948205448\n",
      "2.8520820737738695\n"
     ]
    },
    {
     "name": "stderr",
     "output_type": "stream",
     "text": [
      "\r",
      " 43%|████▎     | 43/100 [02:08<02:53,  3.04s/it]"
     ]
    },
    {
     "name": "stdout",
     "output_type": "stream",
     "text": [
      "2.851815314884708\n",
      "Epoch 0, Loss 2.851815314884708\n",
      "2.8515492019922926\n",
      "2.8512837317278965\n",
      "2.851018900748513\n",
      "2.8507547057366067\n",
      "2.850491143399869\n",
      "2.8502282104709686\n",
      "2.8499659037073135\n",
      "2.849704219890813\n",
      "2.849443155827639\n"
     ]
    },
    {
     "name": "stderr",
     "output_type": "stream",
     "text": [
      "\r",
      " 44%|████▍     | 44/100 [02:10<02:44,  2.94s/it]"
     ]
    },
    {
     "name": "stdout",
     "output_type": "stream",
     "text": [
      "2.849182708347997\n",
      "Epoch 0, Loss 2.849182708347997\n",
      "2.848922874305889\n",
      "2.848663650578893\n",
      "2.848405034067932\n",
      "2.8481470216970552\n",
      "2.8478896104132163\n",
      "2.8476327971860553\n",
      "2.8473765790076833\n",
      "2.847120952892471\n",
      "2.846865915876839\n"
     ]
    },
    {
     "name": "stderr",
     "output_type": "stream",
     "text": [
      "\r",
      " 45%|████▌     | 45/100 [02:13<02:39,  2.90s/it]"
     ]
    },
    {
     "name": "stdout",
     "output_type": "stream",
     "text": [
      "2.846611465019046\n",
      "Epoch 0, Loss 2.846611465019046\n",
      "2.8463575973989874\n",
      "2.846104310117991\n",
      "2.8458516002986136\n",
      "2.845599465084445\n",
      "2.8453479016399092\n",
      "2.8450969071500736\n",
      "2.844846478820453\n",
      "2.8445966138768206\n",
      "2.8443473095650216\n"
     ]
    },
    {
     "name": "stderr",
     "output_type": "stream",
     "text": [
      "\r",
      " 46%|████▌     | 46/100 [02:16<02:39,  2.96s/it]"
     ]
    },
    {
     "name": "stdout",
     "output_type": "stream",
     "text": [
      "2.844098563150785\n",
      "Epoch 0, Loss 2.844098563150785\n",
      "2.843850371919542\n",
      "2.843602733176244\n",
      "2.8433556442451797\n",
      "2.8431091024698016\n",
      "2.8428631052125484\n",
      "2.8426176498546716\n",
      "2.842372733796059\n",
      "2.8421283544550726\n",
      "2.841884509268374\n"
     ]
    },
    {
     "name": "stderr",
     "output_type": "stream",
     "text": [
      "\r",
      " 47%|████▋     | 47/100 [02:19<02:34,  2.91s/it]"
     ]
    },
    {
     "name": "stdout",
     "output_type": "stream",
     "text": [
      "2.8416411956907623\n",
      "Epoch 0, Loss 2.8416411956907623\n",
      "2.841398411195004\n",
      "2.8411561532716765\n",
      "2.8409144194290024\n",
      "2.840673207192692\n",
      "2.8404325141057867\n",
      "2.8401923377284977\n",
      "2.8399526756380618\n",
      "2.8397135254285777\n"
     ]
    },
    {
     "name": "stderr",
     "output_type": "stream",
     "text": [
      "\r",
      " 48%|████▊     | 48/100 [02:22<02:24,  2.79s/it]"
     ]
    },
    {
     "name": "stdout",
     "output_type": "stream",
     "text": [
      "2.839474884710863\n",
      "2.8392367511123004\n",
      "Epoch 0, Loss 2.8392367511123004\n",
      "2.838999122276694\n",
      "2.838761995864118\n",
      "2.838525369550776\n",
      "2.838289241028858\n",
      "2.8380536080063945\n",
      "2.8378184682071224\n",
      "2.8375838193703413\n",
      "2.837349659250781\n",
      "2.8371159856184613\n"
     ]
    },
    {
     "name": "stderr",
     "output_type": "stream",
     "text": [
      "\r",
      " 49%|████▉     | 49/100 [02:25<02:26,  2.88s/it]"
     ]
    },
    {
     "name": "stdout",
     "output_type": "stream",
     "text": [
      "2.8368827962585605\n",
      "Epoch 0, Loss 2.8368827962585605\n",
      "2.836650088971284\n",
      "2.8364178615717255\n",
      "2.8361861118897482\n",
      "2.8359548377698474\n",
      "2.8357240370710253\n",
      "2.8354937076666658\n",
      "2.83526384744441\n",
      "2.835034454306033\n"
     ]
    },
    {
     "name": "stderr",
     "output_type": "stream",
     "text": [
      "\r",
      " 50%|█████     | 50/100 [02:29<02:46,  3.34s/it]"
     ]
    },
    {
     "name": "stdout",
     "output_type": "stream",
     "text": [
      "2.834805526167319\n",
      "2.834577060957943\n",
      "Epoch 0, Loss 2.834577060957943\n",
      "2.8343490566213525\n",
      "2.834121511114645\n",
      "2.8338944224084517\n",
      "2.8336677884868267\n",
      "2.833441607347125\n",
      "2.833215876999893\n",
      "2.8329905954687558\n",
      "2.832765760790304\n",
      "2.8325413710139853\n"
     ]
    },
    {
     "name": "stderr",
     "output_type": "stream",
     "text": [
      "\r",
      " 51%|█████     | 51/100 [02:32<02:39,  3.26s/it]"
     ]
    },
    {
     "name": "stdout",
     "output_type": "stream",
     "text": [
      "2.8323174242019955\n",
      "Epoch 0, Loss 2.8323174242019955\n",
      "2.8320939184291705\n",
      "2.8318708517828752\n",
      "2.8316482223629076\n",
      "2.8314260282813817\n",
      "2.8312042676626334\n",
      "2.8309829386431153\n",
      "2.8307620393712907\n",
      "2.830541568007542\n",
      "2.830321522724062\n"
     ]
    },
    {
     "name": "stderr",
     "output_type": "stream",
     "text": [
      "\r",
      " 52%|█████▏    | 52/100 [02:35<02:28,  3.10s/it]"
     ]
    },
    {
     "name": "stdout",
     "output_type": "stream",
     "text": [
      "2.8301019017047593\n",
      "Epoch 0, Loss 2.8301019017047593\n",
      "2.8298827031451648\n",
      "2.829663925252325\n",
      "2.829445566244718\n",
      "2.829227624352151\n",
      "2.8290100978156665\n",
      "2.828792984887457\n",
      "2.8285762838307633\n",
      "2.8283599929197916\n",
      "2.8281441104396183\n"
     ]
    },
    {
     "name": "stderr",
     "output_type": "stream",
     "text": [
      "\r",
      " 53%|█████▎    | 53/100 [02:38<02:21,  3.01s/it]"
     ]
    },
    {
     "name": "stdout",
     "output_type": "stream",
     "text": [
      "2.827928634686104\n",
      "Epoch 0, Loss 2.827928634686104\n",
      "2.8277135639658004\n",
      "2.827498896595871\n",
      "2.8272846309039976\n",
      "2.8270707652282954\n",
      "2.826857297917232\n",
      "2.826644227329539\n",
      "2.8264315518341325\n",
      "2.826219269810027\n",
      "2.8260073796462555\n"
     ]
    },
    {
     "name": "stderr",
     "output_type": "stream",
     "text": [
      "\r",
      " 54%|█████▍    | 54/100 [02:41<02:26,  3.18s/it]"
     ]
    },
    {
     "name": "stdout",
     "output_type": "stream",
     "text": [
      "2.8257958797417912\n",
      "Epoch 0, Loss 2.8257958797417912\n",
      "2.8255847685054625\n",
      "2.825374044355878\n",
      "2.8251637057213443\n",
      "2.824953751039792\n",
      "2.8247441787586958\n",
      "2.8245349873350003\n",
      "2.824326175235043\n",
      "2.82411774093448\n",
      "2.823909682918212\n"
     ]
    },
    {
     "name": "stderr",
     "output_type": "stream",
     "text": [
      "\r",
      " 55%|█████▌    | 55/100 [02:45<02:24,  3.22s/it]"
     ]
    },
    {
     "name": "stdout",
     "output_type": "stream",
     "text": [
      "2.823701999680312\n",
      "Epoch 0, Loss 2.823701999680312\n",
      "2.8234946897239497\n",
      "2.8232877515613217\n",
      "2.8230811837135823\n",
      "2.822874984710767\n",
      "2.8226691530917276\n",
      "2.822463687404063\n",
      "2.822258586204047\n",
      "2.8220538480565596\n",
      "2.821849471535031\n"
     ]
    },
    {
     "name": "stderr",
     "output_type": "stream",
     "text": [
      "\r",
      " 56%|█████▌    | 56/100 [02:49<02:33,  3.48s/it]"
     ]
    },
    {
     "name": "stdout",
     "output_type": "stream",
     "text": [
      "2.821645455221356\n",
      "Epoch 0, Loss 2.821645455221356\n",
      "2.8214417977058446\n",
      "2.8212384975871485\n",
      "2.821035553472198\n",
      "2.8208329639761374\n",
      "2.8206307277222606\n",
      "2.820428843341953\n",
      "2.8202273094746193\n",
      "2.8200261247676335\n",
      "2.819825287876268\n"
     ]
    },
    {
     "name": "stderr",
     "output_type": "stream",
     "text": [
      "\r",
      " 57%|█████▋    | 57/100 [02:51<02:18,  3.22s/it]"
     ]
    },
    {
     "name": "stdout",
     "output_type": "stream",
     "text": [
      "2.8196247974636375\n",
      "Epoch 0, Loss 2.8196247974636375\n",
      "2.819424652200638\n",
      "2.819224850765888\n",
      "2.819025391845666\n",
      "2.8188262741338574\n",
      "2.8186274963318927\n",
      "2.8184290571486925\n",
      "2.818230955300605\n",
      "2.8180331895113584\n",
      "2.817835758511998\n"
     ]
    },
    {
     "name": "stderr",
     "output_type": "stream",
     "text": [
      "\r",
      " 58%|█████▊    | 58/100 [02:54<02:04,  2.97s/it]"
     ]
    },
    {
     "name": "stdout",
     "output_type": "stream",
     "text": [
      "2.817638661040835\n",
      "Epoch 0, Loss 2.817638661040835\n",
      "2.8174418958433898\n",
      "2.817245461672336\n",
      "2.8170493572874493\n",
      "2.816853581455556\n",
      "2.816658132950475\n",
      "2.816463010552967\n",
      "2.816268213050685\n",
      "2.8160737392381217\n",
      "2.815879587916557\n"
     ]
    },
    {
     "name": "stderr",
     "output_type": "stream",
     "text": [
      "\r",
      " 59%|█████▉    | 59/100 [02:57<02:00,  2.95s/it]"
     ]
    },
    {
     "name": "stdout",
     "output_type": "stream",
     "text": [
      "2.815685757894009\n",
      "Epoch 0, Loss 2.815685757894009\n",
      "2.815492247985185\n",
      "2.815299057011428\n",
      "2.8151061838006717\n",
      "2.8149136271873907\n",
      "2.8147213860125486\n",
      "2.814529459123558\n",
      "2.814337845374224\n",
      "2.8141465436247035\n",
      "2.8139555527414557\n"
     ]
    },
    {
     "name": "stderr",
     "output_type": "stream",
     "text": [
      "\r",
      " 60%|██████    | 60/100 [03:01<02:18,  3.47s/it]"
     ]
    },
    {
     "name": "stdout",
     "output_type": "stream",
     "text": [
      "2.813764871597199\n",
      "Epoch 0, Loss 2.813764871597199\n",
      "2.813574499070859\n",
      "2.813384434047531\n",
      "2.8131946754184307\n",
      "2.8130052220808492\n",
      "2.8128160729381095\n",
      "2.812627226899525\n",
      "2.8124386828803516\n",
      "2.8122504398017503\n",
      "2.812062496590741\n"
     ]
    },
    {
     "name": "stderr",
     "output_type": "stream",
     "text": [
      "\r",
      " 61%|██████    | 61/100 [03:05<02:21,  3.63s/it]"
     ]
    },
    {
     "name": "stdout",
     "output_type": "stream",
     "text": [
      "2.8118748521801593\n",
      "Epoch 0, Loss 2.8118748521801593\n",
      "2.8116875055086163\n",
      "2.81150045552046\n",
      "2.811313701165727\n",
      "2.81112724140011\n",
      "2.8109410751849104\n",
      "2.810755201487002\n",
      "2.8105696192787906\n",
      "2.8103843275381744\n",
      "2.8101993252485045\n"
     ]
    },
    {
     "name": "stderr",
     "output_type": "stream",
     "text": [
      "\r",
      " 62%|██████▏   | 62/100 [03:08<02:13,  3.51s/it]"
     ]
    },
    {
     "name": "stdout",
     "output_type": "stream",
     "text": [
      "2.8100146113985485\n",
      "Epoch 0, Loss 2.8100146113985485\n",
      "2.8098301849824465\n",
      "2.8096460449996807\n",
      "2.8094621904550316\n",
      "2.809278620358546\n",
      "2.8090953337254905\n",
      "2.8089123295763274\n",
      "2.8087296069366694\n",
      "2.808547164837246\n",
      "2.8083650023138684\n"
     ]
    },
    {
     "name": "stderr",
     "output_type": "stream",
     "text": [
      "\r",
      " 63%|██████▎   | 63/100 [03:11<02:05,  3.38s/it]"
     ]
    },
    {
     "name": "stdout",
     "output_type": "stream",
     "text": [
      "2.8081831184073915\n",
      "Epoch 0, Loss 2.8081831184073915\n",
      "2.808001512163683\n",
      "2.807820182633584\n",
      "2.8076391288728786\n",
      "2.8074583499422547\n",
      "2.8072778449072753\n",
      "2.8070976128383403\n",
      "2.8069176528106556\n",
      "2.806737963904199\n",
      "2.8065585452036896\n"
     ]
    },
    {
     "name": "stderr",
     "output_type": "stream",
     "text": [
      "\r",
      " 64%|██████▍   | 64/100 [03:15<02:00,  3.34s/it]"
     ]
    },
    {
     "name": "stdout",
     "output_type": "stream",
     "text": [
      "2.8063793957985492\n",
      "Epoch 0, Loss 2.8063793957985492\n",
      "2.806200514782878\n",
      "2.8060219012554155\n",
      "2.805843554319513\n",
      "2.8056654730831014\n",
      "2.8054876566586584\n",
      "2.8053101041631785\n",
      "2.8051328147181427\n",
      "2.804955787449486\n",
      "2.8047790214875716\n"
     ]
    },
    {
     "name": "stderr",
     "output_type": "stream",
     "text": [
      "\r",
      " 65%|██████▌   | 65/100 [03:18<01:56,  3.33s/it]"
     ]
    },
    {
     "name": "stdout",
     "output_type": "stream",
     "text": [
      "2.8046025159671566\n",
      "Epoch 0, Loss 2.8046025159671566\n",
      "2.8044262700273612\n",
      "2.804250282811646\n",
      "2.8040745534677747\n",
      "2.8038990811477906\n",
      "2.8037238650079876\n",
      "2.8035489042088777\n",
      "2.803374197915166\n",
      "2.8031997452957227\n",
      "2.8030255455235524\n"
     ]
    },
    {
     "name": "stderr",
     "output_type": "stream",
     "text": [
      "\r",
      " 66%|██████▌   | 66/100 [03:22<02:00,  3.55s/it]"
     ]
    },
    {
     "name": "stdout",
     "output_type": "stream",
     "text": [
      "2.80285159777577\n",
      "Epoch 0, Loss 2.80285159777577\n",
      "2.8026779012335745\n",
      "2.802504455082213\n",
      "2.8023312585109657\n",
      "2.8021583107131107\n",
      "2.8019856108859007\n",
      "2.8018131582305372\n",
      "2.8016409519521424\n",
      "2.8014689912597355\n",
      "2.801297275366205\n"
     ]
    },
    {
     "name": "stderr",
     "output_type": "stream",
     "text": [
      "\r",
      " 67%|██████▋   | 67/100 [03:25<01:50,  3.35s/it]"
     ]
    },
    {
     "name": "stdout",
     "output_type": "stream",
     "text": [
      "2.8011258034882873\n",
      "Epoch 0, Loss 2.8011258034882873\n",
      "2.8009545748465348\n",
      "2.800783588665297\n",
      "2.8006128441726914\n",
      "2.8004423406005854\n",
      "2.8002720771845615\n",
      "2.8001020531639016\n",
      "2.7999322677815606\n",
      "2.799762720284142\n",
      "2.7995934099218736\n"
     ]
    },
    {
     "name": "stderr",
     "output_type": "stream",
     "text": [
      "\r",
      " 68%|██████▊   | 68/100 [03:28<01:39,  3.10s/it]"
     ]
    },
    {
     "name": "stdout",
     "output_type": "stream",
     "text": [
      "2.7994243359485864\n",
      "Epoch 0, Loss 2.7994243359485864\n",
      "2.7992554976216883\n",
      "2.799086894202144\n",
      "2.7989185249544484\n",
      "2.798750389146611\n",
      "2.7985824860501216\n",
      "2.798414814939941\n",
      "2.7982473750944687\n",
      "2.798080165795527\n",
      "2.797913186328337\n"
     ]
    },
    {
     "name": "stderr",
     "output_type": "stream",
     "text": [
      "\r",
      " 69%|██████▉   | 69/100 [03:31<01:39,  3.22s/it]"
     ]
    },
    {
     "name": "stdout",
     "output_type": "stream",
     "text": [
      "2.7977464359814963\n",
      "Epoch 0, Loss 2.7977464359814963\n",
      "2.797579914046957\n",
      "2.7974136198200075\n",
      "2.7972475525992495\n",
      "2.797081711686575\n",
      "2.7969160963871493\n",
      "2.7967507060093877\n",
      "2.7965855398649353\n",
      "2.796420597268648\n",
      "2.7962558775385706\n"
     ]
    },
    {
     "name": "stderr",
     "output_type": "stream",
     "text": [
      "\r",
      " 70%|███████   | 70/100 [03:35<01:39,  3.33s/it]"
     ]
    },
    {
     "name": "stdout",
     "output_type": "stream",
     "text": [
      "2.7960913799959175\n",
      "Epoch 0, Loss 2.7960913799959175\n",
      "2.7959271039650546\n",
      "2.7957630487734755\n",
      "2.7955992137517867\n",
      "2.7954355982336825\n",
      "2.7952722015559335\n",
      "2.7951090230583597\n",
      "2.794946062083815\n",
      "2.794783317978171\n",
      "2.7946207900902933\n"
     ]
    },
    {
     "name": "stderr",
     "output_type": "stream",
     "text": [
      "\r",
      " 71%|███████   | 71/100 [03:38<01:40,  3.48s/it]"
     ]
    },
    {
     "name": "stdout",
     "output_type": "stream",
     "text": [
      "2.7944584777720247\n",
      "Epoch 0, Loss 2.7944584777720247\n",
      "2.7942963803781695\n",
      "2.794134497266472\n",
      "2.7939728277975995\n",
      "2.793811371335123\n",
      "2.7936501272455043\n",
      "2.7934890948980713\n",
      "2.793328273665006\n",
      "2.793167662921323\n",
      "2.7930072620448563\n"
     ]
    },
    {
     "name": "stderr",
     "output_type": "stream",
     "text": [
      "\r",
      " 72%|███████▏  | 72/100 [03:41<01:29,  3.21s/it]"
     ]
    },
    {
     "name": "stdout",
     "output_type": "stream",
     "text": [
      "2.7928470704162383\n",
      "Epoch 0, Loss 2.7928470704162383\n",
      "2.792687087418884\n",
      "2.7925273124389776\n",
      "2.7923677448654485\n",
      "2.7922083840899616\n",
      "2.792049229506898\n",
      "2.791890280513337\n",
      "2.7917315365090407\n",
      "2.7915729968964422\n",
      "2.7914146610806227\n"
     ]
    },
    {
     "name": "stderr",
     "output_type": "stream",
     "text": [
      "\r",
      " 73%|███████▎  | 73/100 [03:44<01:23,  3.08s/it]"
     ]
    },
    {
     "name": "stdout",
     "output_type": "stream",
     "text": [
      "2.7912565284692987\n",
      "Epoch 0, Loss 2.7912565284692987\n",
      "2.791098598472809\n",
      "2.7909408705040932\n",
      "2.7907833439786804\n",
      "2.7906260183146725\n",
      "2.7904688929327306\n",
      "2.7903119672560552\n",
      "2.790155240710375\n",
      "2.789998712723934\n",
      "2.7898423827274677\n"
     ]
    },
    {
     "name": "stderr",
     "output_type": "stream",
     "text": [
      "\r",
      " 74%|███████▍  | 74/100 [03:46<01:14,  2.88s/it]"
     ]
    },
    {
     "name": "stdout",
     "output_type": "stream",
     "text": [
      "2.7896862501541992\n",
      "Epoch 0, Loss 2.7896862501541992\n",
      "2.789530314439816\n",
      "2.789374575022462\n",
      "2.789219031342718\n",
      "2.7890636828435897\n",
      "2.788908528970493\n",
      "2.7887535691712415\n",
      "2.788598802896027\n",
      "2.7884442295974146\n",
      "2.788289848730321\n"
     ]
    },
    {
     "name": "stderr",
     "output_type": "stream",
     "text": [
      "\r",
      " 75%|███████▌  | 75/100 [03:49<01:08,  2.73s/it]"
     ]
    },
    {
     "name": "stdout",
     "output_type": "stream",
     "text": [
      "2.788135659752002\n",
      "Epoch 0, Loss 2.788135659752002\n",
      "2.787981662122044\n",
      "2.787827855302345\n",
      "2.7876742387571025\n",
      "2.7875208119528017\n",
      "2.7873675743582016\n",
      "2.7872145254443206\n",
      "2.7870616646844244\n",
      "2.786908991554013\n"
     ]
    },
    {
     "name": "stderr",
     "output_type": "stream",
     "text": [
      "\r",
      " 76%|███████▌  | 76/100 [03:51<01:04,  2.70s/it]"
     ]
    },
    {
     "name": "stdout",
     "output_type": "stream",
     "text": [
      "2.7867565055308106\n",
      "2.7866042060947467\n",
      "Epoch 0, Loss 2.7866042060947467\n",
      "2.7864520927279472\n",
      "2.7863001649147234\n",
      "2.786148422141557\n",
      "2.7859968638970862\n",
      "2.7858454896720994\n",
      "2.7856942989595153\n",
      "2.7855432912543763\n",
      "2.785392466053834\n",
      "2.7852418228571394\n"
     ]
    },
    {
     "name": "stderr",
     "output_type": "stream",
     "text": [
      "\r",
      " 77%|███████▋  | 77/100 [03:55<01:12,  3.15s/it]"
     ]
    },
    {
     "name": "stdout",
     "output_type": "stream",
     "text": [
      "2.785091361165627\n",
      "Epoch 0, Loss 2.785091361165627\n",
      "2.7849410804827084\n",
      "2.7847909803138555\n",
      "2.784641060166591\n",
      "2.7844913195504795\n",
      "2.7843417579771095\n",
      "2.7841923749600905\n",
      "2.7840431700150323\n",
      "2.7838941426595434\n",
      "2.783745292413212\n"
     ]
    },
    {
     "name": "stderr",
     "output_type": "stream",
     "text": [
      "\r",
      " 78%|███████▊  | 78/100 [03:59<01:09,  3.16s/it]"
     ]
    },
    {
     "name": "stdout",
     "output_type": "stream",
     "text": [
      "2.783596618797598\n",
      "Epoch 0, Loss 2.783596618797598\n",
      "2.783448121336224\n",
      "2.783299799554561\n",
      "2.783151652980019\n",
      "2.7830036811419365\n",
      "2.782855883571571\n",
      "2.782708259802083\n",
      "2.7825608093685332\n",
      "2.7824135318078667\n",
      "2.7822664266589037\n"
     ]
    },
    {
     "name": "stderr",
     "output_type": "stream",
     "text": [
      "\r",
      " 79%|███████▉  | 79/100 [04:02<01:07,  3.22s/it]"
     ]
    },
    {
     "name": "stdout",
     "output_type": "stream",
     "text": [
      "2.782119493462331\n",
      "Epoch 0, Loss 2.782119493462331\n",
      "2.781972731760688\n",
      "2.7818261410983616\n",
      "2.781679721021572\n",
      "2.7815334710783635\n",
      "2.7813873908185958\n",
      "2.781241479793932\n",
      "2.7810957375578336\n",
      "2.7809501636655427\n",
      "2.7808047576740798\n"
     ]
    },
    {
     "name": "stderr",
     "output_type": "stream",
     "text": [
      "\r",
      " 80%|████████  | 80/100 [04:05<01:02,  3.14s/it]"
     ]
    },
    {
     "name": "stdout",
     "output_type": "stream",
     "text": [
      "2.7806595191422305\n",
      "Epoch 0, Loss 2.7806595191422305\n",
      "2.7805144476305363\n",
      "2.780369542701285\n",
      "2.780224803918504\n",
      "2.780080230847945\n",
      "2.7799358230570808\n",
      "2.7797915801150936\n",
      "2.7796475015928648\n",
      "2.779503587062967\n",
      "2.779359836099655\n"
     ]
    },
    {
     "name": "stderr",
     "output_type": "stream",
     "text": [
      "\r",
      " 81%|████████  | 81/100 [04:07<00:55,  2.95s/it]"
     ]
    },
    {
     "name": "stdout",
     "output_type": "stream",
     "text": [
      "2.779216248278858\n",
      "Epoch 0, Loss 2.779216248278858\n",
      "2.779072823178165\n",
      "2.778929560376825\n",
      "2.7787864594557306\n",
      "2.7786435199974133\n",
      "2.778500741586032\n",
      "2.778358123807368\n",
      "2.7782156662488116\n",
      "2.778073368499359\n",
      "2.7779312301496\n"
     ]
    },
    {
     "name": "stderr",
     "output_type": "stream",
     "text": [
      "\r",
      " 82%|████████▏ | 82/100 [04:10<00:49,  2.73s/it]"
     ]
    },
    {
     "name": "stdout",
     "output_type": "stream",
     "text": [
      "2.777789250791708\n",
      "Epoch 0, Loss 2.777789250791708\n",
      "2.7776474300194396\n",
      "2.7775057674281163\n",
      "2.777364262614623\n",
      "2.777222915177398\n",
      "2.7770817247164237\n",
      "2.7769406908332206\n",
      "2.7767998131308356\n",
      "2.7766590912138396\n",
      "2.776518524688315\n"
     ]
    },
    {
     "name": "stderr",
     "output_type": "stream",
     "text": [
      "\r",
      " 83%|████████▎ | 83/100 [04:14<00:56,  3.32s/it]"
     ]
    },
    {
     "name": "stdout",
     "output_type": "stream",
     "text": [
      "2.776378113161849\n",
      "Epoch 0, Loss 2.776378113161849\n",
      "2.7762378562435273\n",
      "2.7760977535439237\n",
      "2.775957804675095\n",
      "2.775818009250571\n",
      "2.77567836688535\n",
      "2.7755388771958867\n",
      "2.775399539800089\n",
      "2.775260354317308\n",
      "2.7751213203683327\n"
     ]
    },
    {
     "name": "stderr",
     "output_type": "stream",
     "text": [
      "\r",
      " 84%|████████▍ | 84/100 [04:17<00:51,  3.23s/it]"
     ]
    },
    {
     "name": "stdout",
     "output_type": "stream",
     "text": [
      "2.7749824375753778\n",
      "Epoch 0, Loss 2.7749824375753778\n",
      "2.774843705562085\n",
      "2.7747051239535057\n",
      "2.7745666923761014\n",
      "2.7744284104577335\n",
      "2.7742902778276566\n",
      "2.7741522941165093\n",
      "2.77401445895631\n",
      "2.7738767719804516\n",
      "2.7737392328236883\n"
     ]
    },
    {
     "name": "stderr",
     "output_type": "stream",
     "text": [
      "\r",
      " 85%|████████▌ | 85/100 [04:20<00:46,  3.12s/it]"
     ]
    },
    {
     "name": "stdout",
     "output_type": "stream",
     "text": [
      "2.773601841122134\n",
      "Epoch 0, Loss 2.773601841122134\n",
      "2.7734645965132536\n",
      "2.773327498635856\n",
      "2.7731905471300884\n",
      "2.7730537416374275\n",
      "2.772917081800676\n",
      "2.772780567263952\n",
      "2.7726441976726868\n",
      "2.7725079726736133\n",
      "2.7723718919147635\n"
     ]
    },
    {
     "name": "stderr",
     "output_type": "stream",
     "text": [
      "\r",
      " 86%|████████▌ | 86/100 [04:23<00:44,  3.15s/it]"
     ]
    },
    {
     "name": "stdout",
     "output_type": "stream",
     "text": [
      "2.7722359550454625\n",
      "Epoch 0, Loss 2.7722359550454625\n",
      "2.772100161716317\n",
      "2.771964511579214\n",
      "2.7718290042873126\n",
      "2.7716936394950364\n",
      "2.771558416858071\n",
      "2.7714233360333527\n",
      "2.7712883966790653\n",
      "2.771153598454635\n",
      "2.7710189410207215\n"
     ]
    },
    {
     "name": "stderr",
     "output_type": "stream",
     "text": [
      "\r",
      " 87%|████████▋ | 87/100 [04:26<00:39,  3.07s/it]"
     ]
    },
    {
     "name": "stdout",
     "output_type": "stream",
     "text": [
      "2.7708844240392145\n",
      "Epoch 0, Loss 2.7708844240392145\n",
      "2.7707500471732236\n",
      "2.770615810087077\n",
      "2.770481712446314\n",
      "2.7703477539176786\n",
      "2.770213934169111\n",
      "2.770080252869748\n",
      "2.7699467096899113\n",
      "2.7698133043011044\n",
      "2.7696800363760077\n"
     ]
    },
    {
     "name": "stderr",
     "output_type": "stream",
     "text": [
      "\r",
      " 88%|████████▊ | 88/100 [04:29<00:36,  3.02s/it]"
     ]
    },
    {
     "name": "stdout",
     "output_type": "stream",
     "text": [
      "2.7695469055884683\n",
      "Epoch 0, Loss 2.7695469055884683\n",
      "2.7694139116135004\n",
      "2.7692810541272763\n",
      "2.76914833280712\n",
      "2.7690157473315042\n",
      "2.768883297380042\n",
      "2.7687509826334855\n",
      "2.7686188027737137\n",
      "2.7684867574837346\n",
      "2.7683548464476746\n"
     ]
    },
    {
     "name": "stderr",
     "output_type": "stream",
     "text": [
      "\r",
      " 89%|████████▉ | 89/100 [04:32<00:32,  2.92s/it]"
     ]
    },
    {
     "name": "stdout",
     "output_type": "stream",
     "text": [
      "2.768223069350775\n",
      "Epoch 0, Loss 2.768223069350775\n",
      "2.7680914258793847\n",
      "2.7679599157209593\n",
      "2.767828538564052\n",
      "2.767697294098309\n",
      "2.7675661820144644\n",
      "2.7674352020043367\n",
      "2.767304353760822\n",
      "2.7671736369778883\n",
      "2.767043051350571\n"
     ]
    },
    {
     "name": "stderr",
     "output_type": "stream",
     "text": [
      "\r",
      " 90%|█████████ | 90/100 [04:37<00:34,  3.47s/it]"
     ]
    },
    {
     "name": "stdout",
     "output_type": "stream",
     "text": [
      "2.76691259657497\n",
      "Epoch 0, Loss 2.76691259657497\n",
      "2.7667822723482414\n",
      "2.7666520783685935\n",
      "2.7665220143352838\n",
      "2.766392079948611\n",
      "2.7662622749099124\n",
      "2.7661325989215584\n",
      "2.7660030516869467\n",
      "2.7658736329105\n",
      "2.7657443422976558\n"
     ]
    },
    {
     "name": "stderr",
     "output_type": "stream",
     "text": [
      "\r",
      " 91%|█████████ | 91/100 [04:40<00:32,  3.56s/it]"
     ]
    },
    {
     "name": "stdout",
     "output_type": "stream",
     "text": [
      "2.7656151795548696\n",
      "Epoch 0, Loss 2.7656151795548696\n",
      "2.765486144389604\n",
      "2.7653572365103245\n",
      "2.7652284556264988\n",
      "2.765099801448586\n",
      "2.7649712736880403\n",
      "2.7648428720572986\n",
      "2.764714596269778\n",
      "2.7645864460398752\n",
      "2.7644584210829573\n"
     ]
    },
    {
     "name": "stderr",
     "output_type": "stream",
     "text": [
      "\r",
      " 92%|█████████▏| 92/100 [04:44<00:28,  3.57s/it]"
     ]
    },
    {
     "name": "stdout",
     "output_type": "stream",
     "text": [
      "2.764330521115358\n",
      "Epoch 0, Loss 2.764330521115358\n",
      "2.7642027458543765\n",
      "2.764075095018268\n",
      "2.763947568326245\n",
      "2.763820165498468\n",
      "2.763692886256044\n",
      "2.763565730321021\n",
      "2.7634386974163823\n",
      "2.7633117872660455\n",
      "2.7631849995948574\n"
     ]
    },
    {
     "name": "stderr",
     "output_type": "stream",
     "text": [
      "\r",
      " 93%|█████████▎| 93/100 [04:47<00:23,  3.31s/it]"
     ]
    },
    {
     "name": "stdout",
     "output_type": "stream",
     "text": [
      "2.763058334128588\n",
      "Epoch 0, Loss 2.763058334128588\n",
      "2.7629317905939264\n",
      "2.762805368718479\n",
      "2.762679068230762\n",
      "2.762552888860201\n",
      "2.762426830337124\n",
      "2.7623008923927586\n",
      "2.7621750747592277\n",
      "2.762049377169545\n"
     ]
    },
    {
     "name": "stderr",
     "output_type": "stream",
     "text": [
      "\r",
      " 94%|█████████▍| 94/100 [04:49<00:18,  3.04s/it]"
     ]
    },
    {
     "name": "stdout",
     "output_type": "stream",
     "text": [
      "2.7619237993576116\n",
      "2.7617983410582116\n",
      "Epoch 0, Loss 2.7617983410582116\n",
      "2.761673002007009\n",
      "2.761547781940541\n",
      "2.76142268059622\n",
      "2.7612976977123203\n",
      "2.7611728330279868\n",
      "2.7610480862832185\n",
      "2.760923457218872\n",
      "2.7607989455766564\n",
      "2.760674551099128\n"
     ]
    },
    {
     "name": "stderr",
     "output_type": "stream",
     "text": [
      "\r",
      " 95%|█████████▌| 95/100 [04:53<00:16,  3.24s/it]"
     ]
    },
    {
     "name": "stdout",
     "output_type": "stream",
     "text": [
      "2.7605502735296894\n",
      "Epoch 0, Loss 2.7605502735296894\n",
      "2.760426112612582\n",
      "2.7603020680928854\n",
      "2.760178139716512\n",
      "2.7600543272302045\n",
      "2.759930630381531\n",
      "2.759807048918882\n",
      "2.759683582591467\n",
      "2.7595602311493086\n",
      "2.7594369943432455\n"
     ]
    },
    {
     "name": "stderr",
     "output_type": "stream",
     "text": [
      "\r",
      " 96%|█████████▌| 96/100 [04:57<00:13,  3.43s/it]"
     ]
    },
    {
     "name": "stdout",
     "output_type": "stream",
     "text": [
      "2.759313871924919\n",
      "Epoch 0, Loss 2.759313871924919\n",
      "2.7591908636467792\n",
      "2.7590679692620745\n",
      "2.758945188524851\n",
      "2.7588225211899493\n",
      "2.758699967013001\n",
      "2.758577525750422\n",
      "2.7584551971594164\n",
      "2.7583329809979653\n",
      "2.7582108770248253\n"
     ]
    },
    {
     "name": "stderr",
     "output_type": "stream",
     "text": [
      "\r",
      " 97%|█████████▋| 97/100 [05:00<00:09,  3.31s/it]"
     ]
    },
    {
     "name": "stdout",
     "output_type": "stream",
     "text": [
      "2.7580888849995295\n",
      "Epoch 0, Loss 2.7580888849995295\n",
      "2.75796700468238\n",
      "2.757845235834445\n",
      "2.757723578217556\n",
      "2.7576020315943053\n",
      "2.7574805957280426\n",
      "2.757359270382871\n",
      "2.757238055323642\n",
      "2.7571169503159565\n",
      "2.7569959551261585\n"
     ]
    },
    {
     "name": "stderr",
     "output_type": "stream",
     "text": [
      "\r",
      " 98%|█████████▊| 98/100 [05:02<00:06,  3.11s/it]"
     ]
    },
    {
     "name": "stdout",
     "output_type": "stream",
     "text": [
      "2.756875069521332\n",
      "Epoch 0, Loss 2.756875069521332\n",
      "2.7567542932693017\n",
      "2.7566336261386213\n",
      "2.756513067898581\n",
      "2.756392618319196\n",
      "2.756272277171208\n",
      "2.7561520442260794\n",
      "2.7560319192559946\n",
      "2.755911902033849\n",
      "2.755791992333256\n"
     ]
    },
    {
     "name": "stderr",
     "output_type": "stream",
     "text": [
      "\r",
      " 99%|█████████▉| 99/100 [05:05<00:02,  2.94s/it]"
     ]
    },
    {
     "name": "stdout",
     "output_type": "stream",
     "text": [
      "2.7556721899285344\n",
      "Epoch 0, Loss 2.7556721899285344\n",
      "2.7555524945947125\n",
      "2.7554329061075222\n",
      "2.7553134242433943\n",
      "2.755194048779461\n",
      "2.7550747794935457\n",
      "2.754955616164166\n",
      "2.7548365585705294\n",
      "2.754717606492527\n",
      "2.7545987597107366\n"
     ]
    },
    {
     "name": "stderr",
     "output_type": "stream",
     "text": [
      "100%|██████████| 100/100 [05:07<00:00,  3.08s/it]\n"
     ]
    }
   ],
   "source": [
    "# Initialize the best values\n",
    "best_weights = weights\n",
    "best_learning_rate = learning_rate\n",
    "best_weight_decay = weight_decay\n",
    "best_v_ac = 0.0\n",
    "\n",
    "# TODO\n",
    "# Repeat the above training and evaluation steps for the following learning rates and plot graphs\n",
    "# You need to try 3 learning rates and submit all 3 graphs along with this notebook pdf to show your learning rate experiments\n",
    "learning_rates = [0.0001, 0.001, 0.01]\n",
    "weight_decay = 0.0  # No regularization for now\n",
    "\n",
    "# FEEL FREE TO EXPERIMENT WITH OTHER VALUES. REPORT OTHER VALUES IF THEY ACHIEVE A BETTER PERFORMANCE\n",
    "\n",
    "# for lr in learning_rates: Train the classifier and plot data\n",
    "# Step 1. train_accu, val_accu, test_accu = train(lr, weight_decay)\n",
    "# Step 2. plot_accuracies(train_accu, val_accu, test_accu)\n",
    "\n",
    "learning_rate_info = {}\n",
    "\n",
    "for learning_rate in learning_rates:\n",
    "    # TODO: Train the classifier with different learning rates and plot\n",
    "    # pass\n",
    "    t_ac, v_ac, te_ac, weights = train(learning_rate, weight_decay)\n",
    "    learning_rate_info[learning_rate] = [t_ac, v_ac, te_ac, weights]\n",
    "    \n",
    "    if best_v_ac < max(v_ac):\n",
    "        best_weights = weights\n",
    "        best_learning_rate = learning_rate\n",
    "        best_weight_decay = weight_decay\n",
    "        best_v_ac = max(v_ac)\n"
   ]
  },
  {
   "cell_type": "code",
   "execution_count": 18,
   "metadata": {},
   "outputs": [
    {
     "data": {
      "image/png": "[encoded data removed]",
      "text/plain": [
       "<Figure size 432x288 with 1 Axes>"
      ]
     },
     "metadata": {
      "needs_background": "light"
     },
     "output_type": "display_data"
    },
    {
     "data": {
      "image/png": "[encoded data removed]",
      "text/plain": [
       "<Figure size 432x288 with 1 Axes>"
      ]
     },
     "metadata": {
      "needs_background": "light"
     },
     "output_type": "display_data"
    },
    {
     "data": {
      "image/png": "[encoded data removed]",
      "text/plain": [
       "<Figure size 432x288 with 1 Axes>"
      ]
     },
     "metadata": {
      "needs_background": "light"
     },
     "output_type": "display_data"
    }
   ],
   "source": [
    "for i, learning_rate in enumerate(learning_rates):\n",
    "    t_ac, v_ac, te_ac = learning_rate_info[learning_rate][0], learning_rate_info[learning_rate][1], learning_rate_info[learning_rate][2]\n",
    "    plt.subplot(3, 1, i + 1)\n",
    "    plt.title(\"Learning rate: {}\".format(learning_rate))\n",
    "    plot_accuracies(t_ac, v_ac, te_ac)\n",
    "\n",
    "plt.show()\n"
   ]
  },
  {
   "cell_type": "markdown",
   "metadata": {},
   "source": [
    "#### Inline Question 1.\n",
    "\n",
    "Which one of these learning rates (best_lr) would you pick to train your model? Please Explain why.\n"
   ]
  },
  {
   "cell_type": "markdown",
   "metadata": {},
   "source": [
    "#### Your Answer:\n",
    "There are three cases for my experiment of the learning rate, which are: 0.0001, 0.001, and 0.01. I will pick lr = 0.01 as my best_lr since I got the highest validation accuracy during the experiment. The reason why I choose the validation accuracy (acc = 0.396) as my criteria is the validation dataset is available for us during the experiment, while the testing dataset is not."
   ]
  },
  {
   "cell_type": "markdown",
   "metadata": {},
   "source": [
    "### Regularization: Try different weight decay and plots graphs for all (20%)\n"
   ]
  },
  {
   "cell_type": "code",
   "execution_count": null,
   "metadata": {},
   "outputs": [
    {
     "name": "stderr",
     "output_type": "stream",
     "text": [
      "\r",
      "  0%|          | 0/300 [00:00<?, ?it/s]"
     ]
    },
    {
     "name": "stdout",
     "output_type": "stream",
     "text": [
      "6.933646384491112\n",
      "Epoch 0, Loss 6.933646384494219\n",
      "3.5167300555548238\n",
      "3.4184310699316756\n",
      "3.3790569602649594\n",
      "3.361851871312598\n",
      "3.3508649828883903\n",
      "3.341537762577407\n",
      "3.332807538299998\n",
      "3.324436054816269\n",
      "3.3163627188075067\n"
     ]
    },
    {
     "name": "stderr",
     "output_type": "stream",
     "text": [
      "\r",
      "  0%|          | 1/300 [00:03<17:39,  3.54s/it]"
     ]
    },
    {
     "name": "stdout",
     "output_type": "stream",
     "text": [
      "3.3085647164003387\n",
      "Epoch 0, Loss 3.3085647171809183\n",
      "3.3010276398908203\n",
      "3.2937393136340702\n",
      "3.2866884696869816\n",
      "3.2798644463519313\n",
      "3.273257105977698\n",
      "3.2668568008735597\n",
      "3.2606543501884504\n",
      "3.254641019512614\n",
      "3.2488085013506858\n"
     ]
    },
    {
     "name": "stderr",
     "output_type": "stream",
     "text": [
      "\r",
      "  1%|          | 2/300 [00:06<16:18,  3.28s/it]"
     ]
    },
    {
     "name": "stdout",
     "output_type": "stream",
     "text": [
      "3.2431488960744925\n",
      "Epoch 0, Loss 3.2431488970794544\n",
      "3.23765469330749\n",
      "3.2323187537722275\n",
      "3.2271342916454993\n",
      "3.222094857461699\n",
      "3.217194321596446\n",
      "3.212426858353575\n",
      "3.207786930670355\n",
      "3.20326927544849\n",
      "3.1988688895122914\n"
     ]
    },
    {
     "name": "stderr",
     "output_type": "stream",
     "text": [
      "\r",
      "  1%|          | 3/300 [00:10<16:30,  3.34s/it]"
     ]
    },
    {
     "name": "stdout",
     "output_type": "stream",
     "text": [
      "3.194581016190182\n",
      "Epoch 0, Loss 3.194581017495296\n",
      "3.1904011325114205\n",
      "3.186324937006415\n",
      "3.18234833809626\n",
      "3.1784674430548954\n",
      "3.174678547525693\n",
      "3.1709781255730274\n",
      "3.167362820248606\n",
      "3.163829434651795\n",
      "3.160374923462984\n"
     ]
    },
    {
     "name": "stderr",
     "output_type": "stream",
     "text": [
      "\r",
      "  1%|▏         | 4/300 [00:13<16:23,  3.32s/it]"
     ]
    },
    {
     "name": "stdout",
     "output_type": "stream",
     "text": [
      "3.1569963849289744\n",
      "Epoch 0, Loss 3.156996386576569\n",
      "3.1536910532795788\n",
      "3.1504562915549217\n",
      "3.147289584823356\n",
      "3.144188533770439\n",
      "3.1411508486400184\n",
      "3.1381743435090876\n",
      "3.1352569308787905\n",
      "3.1323966165646415\n",
      "3.1295914948697394\n"
     ]
    },
    {
     "name": "stderr",
     "output_type": "stream",
     "text": [
      "\r",
      "  2%|▏         | 5/300 [00:17<17:00,  3.46s/it]"
     ]
    },
    {
     "name": "stdout",
     "output_type": "stream",
     "text": [
      "3.126839744025477\n",
      "Epoch 0, Loss 3.1268397460394524\n",
      "3.1241396218850004\n",
      "3.1214894618553064\n",
      "3.118887669054646\n",
      "3.1163327166825296\n",
      "3.1138231425902934\n",
      "3.111357546040838\n",
      "3.1089345846467573\n",
      "3.1065529714766584\n",
      "3.104211472320037\n"
     ]
    },
    {
     "name": "stderr",
     "output_type": "stream",
     "text": [
      "\r",
      "  2%|▏         | 6/300 [00:22<19:50,  4.05s/it]"
     ]
    },
    {
     "name": "stdout",
     "output_type": "stream",
     "text": [
      "3.10190890310162\n",
      "Epoch 0, Loss 3.101908905495402\n",
      "3.0996441274366\n",
      "3.097416054318648\n",
      "3.0952236359331082\n",
      "3.093065865588149\n",
      "3.090941775757128\n",
      "3.088850436225773\n",
      "3.086790952338193\n",
      "3.084762463336039\n",
      "3.0827641407855197\n"
     ]
    },
    {
     "name": "stderr",
     "output_type": "stream",
     "text": [
      "\r",
      "  2%|▏         | 7/300 [00:25<17:56,  3.67s/it]"
     ]
    },
    {
     "name": "stdout",
     "output_type": "stream",
     "text": [
      "3.0807951870872525\n",
      "Epoch 0, Loss 3.080795189868161\n",
      "3.0788548340642348\n",
      "3.0769423416235115\n",
      "3.0750569964873544\n",
      "3.0731981109900435\n",
      "3.0713650219365394\n",
      "3.0695570895195905\n",
      "3.0677736962919853\n",
      "3.066014246190894\n",
      "3.0642781636113843\n"
     ]
    },
    {
     "name": "stderr",
     "output_type": "stream",
     "text": [
      "\r",
      "  3%|▎         | 8/300 [00:29<19:19,  3.97s/it]"
     ]
    },
    {
     "name": "stdout",
     "output_type": "stream",
     "text": [
      "3.0625648925264053\n",
      "Epoch 0, Loss 3.0625648956981055\n",
      "3.0608738956506527\n",
      "3.0592046536459274\n",
      "3.0575566643656904\n",
      "3.0559294421366863\n",
      "3.054322517075623\n",
      "3.052735434439001\n",
      "3.0511677540043074\n",
      "3.049619049480892\n",
      "3.0480889079489417\n"
     ]
    },
    {
     "name": "stderr",
     "output_type": "stream",
     "text": [
      "\r",
      "  3%|▎         | 9/300 [00:33<19:17,  3.98s/it]"
     ]
    },
    {
     "name": "stdout",
     "output_type": "stream",
     "text": [
      "3.0465769293250453\n",
      "Epoch 0, Loss 3.046576932888966\n",
      "3.0450827258529567\n",
      "3.0436059216182065\n",
      "3.042146152085334\n",
      "3.040703063656527\n",
      "3.039276313250582\n",
      "3.037865567901117\n",
      "3.0364705043730496\n",
      "3.0350908087964\n",
      "3.0337261763165366\n"
     ]
    },
    {
     "name": "stderr",
     "output_type": "stream",
     "text": [
      "\r",
      "  3%|▎         | 10/300 [00:37<18:31,  3.83s/it]"
     ]
    },
    {
     "name": "stdout",
     "output_type": "stream",
     "text": [
      "3.032376310760028\n",
      "Epoch 0, Loss 3.0323763147162017\n",
      "3.031040924315312\n",
      "3.029719737227438\n",
      "3.0284124775061714\n",
      "3.0271188806468023\n",
      "3.02583868936303\n",
      "3.024571653331315\n",
      "3.0233175289461505\n",
      "3.02207607908571\n",
      "3.0208470728873813\n"
     ]
    },
    {
     "name": "stderr",
     "output_type": "stream",
     "text": [
      "\r",
      "  4%|▎         | 11/300 [00:41<19:35,  4.07s/it]"
     ]
    },
    {
     "name": "stdout",
     "output_type": "stream",
     "text": [
      "3.019630285532687\n",
      "Epoch 0, Loss 3.019630289880261\n",
      "3.0184254980411622\n",
      "3.01723249707275\n",
      "3.0160510747383156\n",
      "3.0148810284178853\n",
      "3.01372216058626\n",
      "3.0125742786456544\n",
      "3.011437194765024\n",
      "3.010310725725789\n",
      "3.0091946927736473\n"
     ]
    },
    {
     "name": "stderr",
     "output_type": "stream",
     "text": [
      "\r",
      "  4%|▍         | 12/300 [00:44<18:06,  3.77s/it]"
     ]
    },
    {
     "name": "stdout",
     "output_type": "stream",
     "text": [
      "3.008088921476201\n",
      "Epoch 0, Loss 3.008088926213758\n",
      "3.006993241586138\n",
      "3.0059074869097033\n",
      "3.004831495180242\n",
      "3.0037651079365713\n",
      "3.0027081704059664\n",
      "3.001660531391571\n",
      "3.0006220431640176\n",
      "2.9995925613570957\n",
      "2.9985719448672676\n"
     ]
    },
    {
     "name": "stderr",
     "output_type": "stream",
     "text": [
      "\r",
      "  4%|▍         | 13/300 [00:48<17:03,  3.57s/it]"
     ]
    },
    {
     "name": "stdout",
     "output_type": "stream",
     "text": [
      "2.9975600557568876\n",
      "Epoch 0, Loss 2.99756006088265\n",
      "2.9965567591609457\n",
      "2.995561923197207\n",
      "2.9945754188795757\n",
      "2.9935971200345777\n",
      "2.992626903220799\n",
      "2.9916646476511843\n",
      "2.990710235118058\n",
      "2.989763549920765\n",
      "2.9888244787958183\n"
     ]
    },
    {
     "name": "stderr",
     "output_type": "stream",
     "text": [
      "\r",
      "  5%|▍         | 14/300 [00:52<17:55,  3.76s/it]"
     ]
    },
    {
     "name": "stdout",
     "output_type": "stream",
     "text": [
      "2.9878929108494576\n",
      "Epoch 0, Loss 2.987892916361422\n",
      "2.9869687374925107\n",
      "2.9860518523774737\n",
      "2.98514215133772\n",
      "2.9842395323287465\n",
      "2.983343895371385\n",
      "2.9824551424968937\n",
      "2.9815731776938597\n",
      "2.980697906856841\n",
      "2.9798292377366766\n"
     ]
    },
    {
     "name": "stderr",
     "output_type": "stream",
     "text": [
      "\r",
      "  5%|▌         | 15/300 [00:55<17:37,  3.71s/it]"
     ]
    },
    {
     "name": "stdout",
     "output_type": "stream",
     "text": [
      "2.9789670798924104\n",
      "Epoch 0, Loss 2.978967085788435\n",
      "2.9781113446447516\n",
      "2.977261945031031\n",
      "2.9764187957615795\n",
      "2.9755818131774863\n",
      "2.9747509152096825\n",
      "2.973926021339301\n",
      "2.9731070525592576\n",
      "2.972293931337026\n",
      "2.9714865815785396\n"
     ]
    },
    {
     "name": "stderr",
     "output_type": "stream",
     "text": [
      "\r",
      "  5%|▌         | 16/300 [01:00<18:49,  3.98s/it]"
     ]
    },
    {
     "name": "stdout",
     "output_type": "stream",
     "text": [
      "2.9706849285932075\n",
      "Epoch 0, Loss 2.9706849348710747\n",
      "2.9698888990599666\n",
      "2.969098420994379\n",
      "2.9683134237166913\n",
      "2.967533837820859\n",
      "2.9667595951444716\n",
      "2.965990628739573\n",
      "2.9652268728443274\n",
      "2.964468262855506\n",
      "2.963714735301769\n"
     ]
    },
    {
     "name": "stderr",
     "output_type": "stream",
     "text": [
      "\r",
      "  6%|▌         | 17/300 [01:04<18:56,  4.02s/it]"
     ]
    },
    {
     "name": "stdout",
     "output_type": "stream",
     "text": [
      "2.9629662278177245\n",
      "Epoch 0, Loss 2.962966234475181\n",
      "2.9622226791187036\n",
      "2.9614840289762747\n",
      "2.9607502181944376\n",
      "2.9600211885864813\n",
      "2.9592968829524966\n",
      "2.958577245057508\n",
      "2.957862219610204\n",
      "2.9571517522422575\n",
      "2.956445789488207\n"
     ]
    },
    {
     "name": "stderr",
     "output_type": "stream",
     "text": [
      "\r",
      "  6%|▌         | 18/300 [01:12<24:55,  5.30s/it]"
     ]
    },
    {
     "name": "stdout",
     "output_type": "stream",
     "text": [
      "2.955744278765885\n",
      "Epoch 0, Loss 2.95574428580067\n",
      "2.955047168357368\n",
      "2.954354407390451\n",
      "2.9536659458205983\n",
      "2.9529817344133913\n",
      "2.952301724727424\n",
      "2.9516258690976604\n",
      "2.950954120619216\n",
      "2.9502864331315686\n",
      "2.9496227612031714\n"
     ]
    },
    {
     "name": "stderr",
     "output_type": "stream",
     "text": [
      "\r",
      "  6%|▋         | 19/300 [01:16<22:08,  4.73s/it]"
     ]
    },
    {
     "name": "stdout",
     "output_type": "stream",
     "text": [
      "2.9489630601164647\n",
      "Epoch 0, Loss 2.948963067526332\n",
      "2.9483072858532724\n",
      "2.9476553950805644\n",
      "2.947007345136584\n",
      "2.946363094017324\n",
      "2.9457226003633394\n",
      "2.9450858234468917\n",
      "2.9444527231594093\n",
      "2.9438232599992586\n",
      "2.943197395059816\n"
     ]
    },
    {
     "name": "stderr",
     "output_type": "stream",
     "text": [
      "\r",
      "  7%|▋         | 20/300 [01:19<20:07,  4.31s/it]"
     ]
    },
    {
     "name": "stdout",
     "output_type": "stream",
     "text": [
      "2.942575090017829\n",
      "Epoch 0, Loss 2.9425750978005607\n",
      "2.9419563071220622\n",
      "2.941341009182218\n",
      "2.9407291595581224\n",
      "2.940120722149171\n",
      "2.939515661384024\n",
      "2.938913942210552\n",
      "2.9383155300860118\n",
      "2.9377203909674563\n",
      "2.9371284913023685\n"
     ]
    },
    {
     "name": "stderr",
     "output_type": "stream",
     "text": [
      "\r",
      "  7%|▋         | 21/300 [01:22<18:10,  3.91s/it]"
     ]
    },
    {
     "name": "stdout",
     "output_type": "stream",
     "text": [
      "2.936539798019513\n",
      "Epoch 0, Loss 2.9365398061729304\n",
      "2.9359542785200023\n",
      "2.9353719006685615\n",
      "2.934792632785003\n",
      "2.934216443635886\n",
      "2.933643302426376\n",
      "2.93307317879228\n",
      "2.932506042792265\n",
      "2.931941864900248\n"
     ]
    },
    {
     "name": "stderr",
     "output_type": "stream",
     "text": [
      "\r",
      "  7%|▋         | 22/300 [01:26<18:14,  3.94s/it]"
     ]
    },
    {
     "name": "stdout",
     "output_type": "stream",
     "text": [
      "2.931380615997961\n",
      "2.930822267367678\n",
      "Epoch 0, Loss 2.9308222758896485\n",
      "2.9302667906851005\n",
      "2.929714158012402\n",
      "2.929164341791429\n",
      "2.928617314837042\n",
      "2.9280730503306067\n",
      "2.9275315218136266\n",
      "2.9269927031815066\n",
      "2.9264565686774597\n",
      "2.925923092886535\n"
     ]
    },
    {
     "name": "stderr",
     "output_type": "stream",
     "text": [
      "\r",
      "  8%|▊         | 23/300 [01:30<18:14,  3.95s/it]"
     ]
    },
    {
     "name": "stdout",
     "output_type": "stream",
     "text": [
      "2.925392250729777\n",
      "Epoch 0, Loss 2.9253922596182202\n",
      "2.924864017458508\n",
      "2.924338368648731\n",
      "2.923815280195649\n",
      "2.9232947283082997\n",
      "2.9227766895043015\n",
      "2.922261140604708\n",
      "2.921748058728971\n",
      "2.9212374212900025\n",
      "2.920729205989341\n"
     ]
    },
    {
     "name": "stderr",
     "output_type": "stream",
     "text": [
      "\r",
      "  8%|▊         | 24/300 [01:33<16:35,  3.61s/it]"
     ]
    },
    {
     "name": "stdout",
     "output_type": "stream",
     "text": [
      "2.9202233908124176\n",
      "Epoch 0, Loss 2.9202234000653093\n",
      "2.9197199540239116\n",
      "2.91921887416321\n",
      "2.9187201300399472\n",
      "2.9182237007296457\n",
      "2.91772956556943\n",
      "2.917237704153841\n",
      "2.916748096330721\n",
      "2.9162607221971872\n",
      "2.915775562095679\n"
     ]
    },
    {
     "name": "stderr",
     "output_type": "stream",
     "text": [
      "\r",
      "  8%|▊         | 25/300 [01:36<15:33,  3.39s/it]"
     ]
    },
    {
     "name": "stdout",
     "output_type": "stream",
     "text": [
      "2.915292596610087\n",
      "Epoch 0, Loss 2.915292606225461\n",
      "2.914811806561957\n",
      "2.9143331730067628\n",
      "2.9138566772302568\n",
      "2.913382300744889\n",
      "2.912910025286294\n",
      "2.912439832809846\n",
      "2.911971705487276\n",
      "2.911505625703359\n",
      "2.911041576052661\n"
     ]
    },
    {
     "name": "stderr",
     "output_type": "stream",
     "text": [
      "\r",
      "  9%|▊         | 26/300 [01:39<14:49,  3.25s/it]"
     ]
    },
    {
     "name": "stdout",
     "output_type": "stream",
     "text": [
      "2.910579539336347\n",
      "Epoch 0, Loss 2.9105795493122977\n",
      "2.9101194985590437\n",
      "2.909661436925774\n",
      "2.9092053378389355\n",
      "2.9087511848953396\n",
      "2.9082989618833093\n",
      "2.907848652779822\n",
      "2.9074002417477147\n",
      "2.906953713132929\n",
      "2.9065090514618177\n"
     ]
    },
    {
     "name": "stderr",
     "output_type": "stream",
     "text": [
      "\r",
      "  9%|▉         | 27/300 [01:43<16:29,  3.62s/it]"
     ]
    },
    {
     "name": "stdout",
     "output_type": "stream",
     "text": [
      "2.9060662414384892\n",
      "Epoch 0, Loss 2.9060662517731726\n",
      "2.905625267942213\n",
      "2.9051861160248547\n",
      "2.9047487709083746\n",
      "2.904313217982358\n",
      "2.903879442801597\n",
      "2.903447431083711\n",
      "2.9030171687068123\n",
      "2.9025886417072093\n",
      "2.902161836277155\n"
     ]
    },
    {
     "name": "stderr",
     "output_type": "stream",
     "text": [
      "\r",
      "  9%|▉         | 28/300 [01:46<15:59,  3.53s/it]"
     ]
    },
    {
     "name": "stdout",
     "output_type": "stream",
     "text": [
      "2.9017367387626276\n",
      "Epoch 0, Loss 2.9017367494542623\n",
      "2.901313335661161\n",
      "2.900891613619697\n",
      "2.900471559432492\n",
      "2.9000531600390462\n",
      "2.899636402522077\n",
      "2.899221274105523\n",
      "2.898807762152581\n",
      "2.8983958541637795\n",
      "2.897985537775087\n"
     ]
    },
    {
     "name": "stderr",
     "output_type": "stream",
     "text": [
      "\r",
      " 10%|▉         | 29/300 [01:52<18:19,  4.06s/it]"
     ]
    },
    {
     "name": "stdout",
     "output_type": "stream",
     "text": [
      "2.8975768007560436\n",
      "Epoch 0, Loss 2.8975768118029106\n",
      "2.897169631007933\n",
      "2.8967640165619795\n",
      "2.8963599455775793\n",
      "2.8959574063405573\n",
      "2.8955563872614567\n",
      "2.8951568768738536\n",
      "2.8947588638327013\n",
      "2.8943623369127005\n",
      "2.893967285006701\n"
     ]
    },
    {
     "name": "stderr",
     "output_type": "stream",
     "text": [
      "\r",
      " 10%|█         | 30/300 [01:55<17:46,  3.95s/it]"
     ]
    },
    {
     "name": "stdout",
     "output_type": "stream",
     "text": [
      "2.893573697124119\n",
      "Epoch 0, Loss 2.893573708524562\n",
      "2.893181562389393\n",
      "2.8927908700404568\n",
      "2.8924016094272367\n",
      "2.892013770010177\n",
      "2.8916273413587894\n",
      "2.891242313150221\n",
      "2.890858675167848\n",
      "2.8904764172998942\n",
      "2.8900955295380664\n"
     ]
    },
    {
     "name": "stderr",
     "output_type": "stream",
     "text": [
      "\r",
      " 10%|█         | 31/300 [01:59<17:21,  3.87s/it]"
     ]
    },
    {
     "name": "stdout",
     "output_type": "stream",
     "text": [
      "2.8897160019762165\n",
      "Epoch 0, Loss 2.8897160137286413\n",
      "2.8893378248090182\n",
      "2.8889609883306755\n",
      "2.8885854829336357\n",
      "2.888211299107339\n",
      "2.8878384274369746\n",
      "2.887466858602266\n",
      "2.8870965833762665\n",
      "2.88672759262418\n",
      "2.8863598773021963\n"
     ]
    },
    {
     "name": "stderr",
     "output_type": "stream",
     "text": [
      "\r",
      " 11%|█         | 32/300 [02:02<16:32,  3.70s/it]"
     ]
    },
    {
     "name": "stdout",
     "output_type": "stream",
     "text": [
      "2.8859934284563447\n",
      "Epoch 0, Loss 2.8859934405592185\n",
      "2.885628237221369\n",
      "2.8852642948196117\n",
      "2.884901592559924\n",
      "2.8845401218365856\n",
      "2.8841798741282463\n",
      "2.883820840996876\n",
      "2.8834630140867437\n",
      "2.8831063851233925\n",
      "2.8827509459126492\n"
     ]
    },
    {
     "name": "stderr",
     "output_type": "stream",
     "text": [
      "\r",
      " 11%|█         | 33/300 [02:05<15:31,  3.49s/it]"
     ]
    },
    {
     "name": "stdout",
     "output_type": "stream",
     "text": [
      "2.882396688339637\n",
      "Epoch 0, Loss 2.882396700791488\n",
      "2.8820436043678086\n",
      "2.881691686037986\n",
      "2.881340925467425\n",
      "2.880991314848887\n",
      "2.8806428464497227\n",
      "2.880295512610977\n",
      "2.8799493057464973\n",
      "2.8796042183420614\n",
      "2.87926024295452\n"
     ]
    },
    {
     "name": "stderr",
     "output_type": "stream",
     "text": [
      "\r",
      " 11%|█▏        | 34/300 [02:09<15:15,  3.44s/it]"
     ]
    },
    {
     "name": "stdout",
     "output_type": "stream",
     "text": [
      "2.878917372210941\n",
      "Epoch 0, Loss 2.8789173850103573\n",
      "2.878575598807779\n",
      "2.8782349155100477\n",
      "2.87789531515051\n",
      "2.877556790628872\n",
      "2.877219334911001\n",
      "2.876882941028141\n",
      "2.8765476020761485\n",
      "2.8762133112147352\n",
      "2.875880061666725\n"
     ]
    },
    {
     "name": "stderr",
     "output_type": "stream",
     "text": [
      "\r",
      " 12%|█▏        | 35/300 [02:13<16:02,  3.63s/it]"
     ]
    },
    {
     "name": "stdout",
     "output_type": "stream",
     "text": [
      "2.875547846717315\n",
      "Epoch 0, Loss 2.875547859862943\n",
      "2.8752166597133515\n",
      "2.8748864940626193\n",
      "2.8745573432331337\n",
      "2.8742292007524464\n",
      "2.873902060206961\n",
      "2.8735759152412563\n",
      "2.8732507595574237\n",
      "2.872926586914403\n",
      "2.872603391127344\n"
     ]
    },
    {
     "name": "stderr",
     "output_type": "stream",
     "text": [
      "\r",
      " 12%|█▏        | 36/300 [02:19<19:45,  4.49s/it]"
     ]
    },
    {
     "name": "stdout",
     "output_type": "stream",
     "text": [
      "2.8722811660669585\n",
      "Epoch 0, Loss 2.8722811795575036\n",
      "2.871959905658898\n",
      "2.8716396038831244\n",
      "2.8713202547733028\n",
      "2.871001852416194\n",
      "2.8706843909510593\n",
      "2.870367864569068\n",
      "2.870052267512724\n",
      "2.8697375940752843\n",
      "2.8694238386002024\n"
     ]
    },
    {
     "name": "stderr",
     "output_type": "stream",
     "text": [
      "\r",
      " 12%|█▏        | 37/300 [02:23<18:23,  4.20s/it]"
     ]
    },
    {
     "name": "stdout",
     "output_type": "stream",
     "text": [
      "2.8691109954805647\n",
      "Epoch 0, Loss 2.869111009314788\n",
      "2.8687990591585426\n",
      "2.8684880241248503\n",
      "2.8681778849182082\n",
      "2.8678686361248156\n",
      "2.867560272377828\n",
      "2.867252788356842\n",
      "2.866946178787391\n",
      "2.8666404384404416\n",
      "2.866335562131897\n"
     ]
    },
    {
     "name": "stderr",
     "output_type": "stream",
     "text": [
      "\r",
      " 13%|█▎        | 38/300 [02:26<16:37,  3.81s/it]"
     ]
    },
    {
     "name": "stdout",
     "output_type": "stream",
     "text": [
      "2.8660315447221127\n",
      "Epoch 0, Loss 2.86603155889883\n",
      "2.865728381115414\n",
      "2.8654260662596203\n",
      "2.865124595145573\n",
      "2.8648239628066756\n",
      "2.8645241643184383\n",
      "2.8642251947980215\n",
      "2.863927049403793\n",
      "2.8636297233348897\n",
      "2.86333321183078\n"
     ]
    },
    {
     "name": "stderr",
     "output_type": "stream",
     "text": [
      "\r",
      " 13%|█▎        | 39/300 [02:29<15:40,  3.60s/it]"
     ]
    },
    {
     "name": "stdout",
     "output_type": "stream",
     "text": [
      "2.8630375101708387\n",
      "Epoch 0, Loss 2.86303752468892\n",
      "2.8627426136739227\n",
      "2.8624485176979513\n",
      "2.8621552176394958\n",
      "2.8618627089333715\n",
      "2.8615709870522377\n",
      "2.8612800475061975\n",
      "2.8609898858424065\n",
      "2.860700497644688\n",
      "2.860411878533148\n"
     ]
    },
    {
     "name": "stderr",
     "output_type": "stream",
     "text": [
      "\r",
      " 13%|█▎        | 40/300 [02:32<15:10,  3.50s/it]"
     ]
    },
    {
     "name": "stdout",
     "output_type": "stream",
     "text": [
      "2.8601240241637984\n",
      "Epoch 0, Loss 2.8601240390221667\n",
      "2.859836930228187\n",
      "2.8595505924530245\n",
      "2.859265006599824\n",
      "2.8589801684645426\n",
      "2.858696073877223\n",
      "2.8584127187016484\n",
      "2.8581300988349927\n",
      "2.857848210207481\n",
      "2.857567048782048\n"
     ]
    },
    {
     "name": "stderr",
     "output_type": "stream",
     "text": [
      "\r",
      " 14%|█▎        | 41/300 [02:36<15:53,  3.68s/it]"
     ]
    },
    {
     "name": "stdout",
     "output_type": "stream",
     "text": [
      "2.857286610554012\n",
      "Epoch 0, Loss 2.857286625751641\n",
      "2.8570068915507374\n",
      "2.856727887831316\n",
      "2.856449595486241\n",
      "2.8561720106370925\n",
      "2.8558951294362216\n",
      "2.8556189480664425\n",
      "2.855343462740725\n",
      "2.8550686697018937\n",
      "2.854794565222326\n"
     ]
    },
    {
     "name": "stderr",
     "output_type": "stream",
     "text": [
      "\r",
      " 14%|█▍        | 42/300 [02:40<15:43,  3.66s/it]"
     ]
    },
    {
     "name": "stdout",
     "output_type": "stream",
     "text": [
      "2.8545211456036603\n",
      "Epoch 0, Loss 2.854521161139573\n",
      "2.8542484071765037\n",
      "2.853976346300143\n",
      "2.8537049593622563\n",
      "2.853434242778639\n",
      "2.8531641929929203\n",
      "2.852894806476292\n",
      "2.8526260797272305\n",
      "2.8523580092712373\n",
      "2.852090591660567\n"
     ]
    },
    {
     "name": "stderr",
     "output_type": "stream",
     "text": [
      "\r",
      " 14%|█▍        | 43/300 [02:43<15:05,  3.52s/it]"
     ]
    },
    {
     "name": "stdout",
     "output_type": "stream",
     "text": [
      "2.851823823473969\n",
      "Epoch 0, Loss 2.8518238393472366\n",
      "2.851557701316426\n",
      "2.851292221818898\n",
      "2.851027381638071\n",
      "2.8507631774561086\n",
      "2.8504996059804006\n",
      "2.850236663943319\n",
      "2.8499743481019792\n",
      "2.8497126552380023\n",
      "2.8494515821572746\n"
     ]
    },
    {
     "name": "stderr",
     "output_type": "stream",
     "text": [
      "\r",
      " 15%|█▍        | 44/300 [02:46<14:44,  3.45s/it]"
     ]
    },
    {
     "name": "stdout",
     "output_type": "stream",
     "text": [
      "2.849191125689717\n",
      "Epoch 0, Loss 2.8491911418994578\n",
      "2.8489312826890556\n",
      "2.8486720500325906\n",
      "2.8484134246209756\n",
      "2.848155403377989\n",
      "2.8478979832503195\n",
      "2.8476411612073447\n",
      "2.847384934240917\n",
      "2.847129299365152\n",
      "2.846874253616215\n"
     ]
    },
    {
     "name": "stderr",
     "output_type": "stream",
     "text": [
      "\r",
      " 15%|█▌        | 45/300 [02:50<14:21,  3.38s/it]"
     ]
    },
    {
     "name": "stdout",
     "output_type": "stream",
     "text": [
      "2.8466197940521174\n",
      "Epoch 0, Loss 2.8466198105974945\n",
      "2.846365917752508\n",
      "2.8461126218184685\n",
      "2.845859903372316\n",
      "2.8456077595574034\n",
      "2.845356187537921\n",
      "2.845105184498701\n",
      "2.84485474764503\n",
      "2.8446048742024566\n",
      "2.844355561416599\n"
     ]
    },
    {
     "name": "stderr",
     "output_type": "stream",
     "text": [
      "\r",
      " 15%|█▌        | 46/300 [02:53<14:52,  3.51s/it]"
     ]
    },
    {
     "name": "stdout",
     "output_type": "stream",
     "text": [
      "2.8441068065529693\n",
      "Epoch 0, Loss 2.8441068234331897\n",
      "2.843858606896779\n",
      "2.843610959752762\n",
      "2.843363862444997\n",
      "2.843117312316724\n",
      "2.8428713067301756\n",
      "2.8426258430663944\n",
      "2.8423809187250706\n",
      "2.8421365311243623\n",
      "2.8418926777007365\n"
     ]
    },
    {
     "name": "stderr",
     "output_type": "stream",
     "text": [
      "\r",
      " 16%|█▌        | 47/300 [02:57<14:30,  3.44s/it]"
     ]
    },
    {
     "name": "stdout",
     "output_type": "stream",
     "text": [
      "2.8416493559087934\n",
      "Epoch 0, Loss 2.8416493731231056\n",
      "2.841406563221109\n",
      "2.841164297128069\n",
      "2.840922555137708\n",
      "2.8406813347755504\n",
      "2.8404406335844525\n",
      "2.8402004491244472\n",
      "2.839960778972588\n",
      "2.8397216207227993\n",
      "2.8394829719857237\n"
     ]
    },
    {
     "name": "stderr",
     "output_type": "stream",
     "text": [
      "\r",
      " 16%|█▌        | 48/300 [03:00<14:16,  3.40s/it]"
     ]
    },
    {
     "name": "stdout",
     "output_type": "stream",
     "text": [
      "2.8392448303885702\n",
      "Epoch 0, Loss 2.839244847936265\n",
      "2.839007193574972\n",
      "2.8387700592048355\n",
      "2.8385334249541976\n",
      "2.8382972885150837\n",
      "2.838061647595361\n",
      "2.837826499918608\n",
      "2.8375918432239646\n",
      "2.8373576752660035\n",
      "2.83712399381459\n"
     ]
    },
    {
     "name": "stderr",
     "output_type": "stream",
     "text": [
      "\r",
      " 16%|█▋        | 49/300 [03:03<13:57,  3.34s/it]"
     ]
    },
    {
     "name": "stdout",
     "output_type": "stream",
     "text": [
      "2.83689079665475\n",
      "Epoch 0, Loss 2.8368908145351566\n",
      "2.836658081586537\n",
      "2.836425846424898\n",
      "2.8361940889995467\n",
      "2.835962807154833\n",
      "2.835731998749616\n",
      "2.835501661657138\n",
      "2.8352717937649\n",
      "2.8350423929745374\n",
      "2.8348134572016983\n"
     ]
    },
    {
     "name": "stderr",
     "output_type": "stream",
     "text": [
      "\r",
      " 17%|█▋        | 50/300 [03:07<14:29,  3.48s/it]"
     ]
    },
    {
     "name": "stdout",
     "output_type": "stream",
     "text": [
      "2.834584984375924\n",
      "Epoch 0, Loss 2.8345850025884096\n",
      "2.834356972440525\n",
      "2.834129419352469\n",
      "2.833902323082259\n",
      "2.833675681613816\n",
      "2.833449492944371\n",
      "2.8332237550843438\n",
      "2.832998466057235\n",
      "2.832773623899514\n",
      "2.832549226660507\n"
     ]
    },
    {
     "name": "stderr",
     "output_type": "stream",
     "text": [
      "\r",
      " 17%|█▋        | 51/300 [03:10<13:50,  3.33s/it]"
     ]
    },
    {
     "name": "stdout",
     "output_type": "stream",
     "text": [
      "2.8323252724022905\n",
      "Epoch 0, Loss 2.83232529094626\n",
      "2.8321017591995794\n",
      "2.8318786851396256\n",
      "2.8316560483221096\n",
      "2.8314338468590323\n",
      "2.831212078874618\n",
      "2.8309907425052057\n",
      "2.8307698358991518\n",
      "2.8305493572167273\n",
      "2.8303293046300197\n"
     ]
    },
    {
     "name": "stderr",
     "output_type": "stream",
     "text": [
      "\r",
      " 17%|█▋        | 52/300 [03:13<13:58,  3.38s/it]"
     ]
    },
    {
     "name": "stdout",
     "output_type": "stream",
     "text": [
      "2.8301096763228326\n",
      "Epoch 0, Loss 2.8301096951977254\n",
      "2.8298904704905885\n",
      "2.829671685340235\n",
      "2.8294533190901454\n",
      "2.829235369970026\n",
      "2.829017836220822\n",
      "2.8288007160946242\n",
      "2.828584007854579\n",
      "2.8283677097747955\n",
      "2.8281518201402545\n"
     ]
    },
    {
     "name": "stderr",
     "output_type": "stream",
     "text": [
      "\r",
      " 18%|█▊        | 53/300 [03:17<13:42,  3.33s/it]"
     ]
    },
    {
     "name": "stdout",
     "output_type": "stream",
     "text": [
      "2.8279363372467214\n",
      "Epoch 0, Loss 2.8279363564520112\n",
      "2.8277212594006595\n",
      "2.827506584919137\n",
      "2.827292312129746\n",
      "2.827078439370514\n",
      "2.8268649649898183\n",
      "2.8266518873463036\n",
      "2.8264392048088003\n",
      "2.826226915756237\n",
      "2.826015018577564\n"
     ]
    },
    {
     "name": "stderr",
     "output_type": "stream",
     "text": [
      "\r",
      " 18%|█▊        | 54/300 [03:20<13:38,  3.33s/it]"
     ]
    },
    {
     "name": "stdout",
     "output_type": "stream",
     "text": [
      "2.8258035116716687\n",
      "Epoch 0, Loss 2.8258035312068617\n",
      "2.8255923934473004\n",
      "2.8253816623229833\n",
      "2.8251713167269465\n",
      "2.8249613550970385\n",
      "2.8247517758806597\n",
      "2.8245425775346726\n",
      "2.8243337585253405\n",
      "2.8241253173282446\n",
      "2.8239172524282097\n"
     ]
    },
    {
     "name": "stderr",
     "output_type": "stream",
     "text": [
      "\r",
      " 18%|█▊        | 55/300 [03:25<15:14,  3.73s/it]"
     ]
    },
    {
     "name": "stdout",
     "output_type": "stream",
     "text": [
      "2.823709562319234\n",
      "Epoch 0, Loss 2.8237095821838682\n",
      "2.8235022455044154\n",
      "2.8232953004958787\n",
      "2.8230887258147055\n",
      "2.8228825199908623\n",
      "2.8226766815631317\n",
      "2.8224712090790414\n",
      "2.822266101094798\n",
      "2.8220613561752166\n",
      "2.8218569728936567\n"
     ]
    },
    {
     "name": "stderr",
     "output_type": "stream",
     "text": [
      "\r",
      " 19%|█▊        | 56/300 [03:28<14:39,  3.60s/it]"
     ]
    },
    {
     "name": "stdout",
     "output_type": "stream",
     "text": [
      "2.8216529498319507\n",
      "Epoch 0, Loss 2.821652970025595\n",
      "2.8214492855803437\n",
      "2.8212459787374202\n",
      "2.8210430279100507\n",
      "2.820840431713314\n",
      "2.8206381887704444\n",
      "2.820436297712763\n",
      "2.820234757179618\n",
      "2.8200335658183198\n",
      "2.819832722284083\n"
     ]
    },
    {
     "name": "stderr",
     "output_type": "stream",
     "text": [
      "\r",
      " 19%|█▉        | 57/300 [03:31<14:05,  3.48s/it]"
     ]
    },
    {
     "name": "stdout",
     "output_type": "stream",
     "text": [
      "2.8196322252399644\n",
      "Epoch 0, Loss 2.8196322457622154\n",
      "2.819432073356801\n",
      "2.819232265313154\n",
      "2.8190327997952473\n",
      "2.8188336754969088\n",
      "2.818634891119514\n",
      "2.8184364453719275\n",
      "2.8182383369704467\n",
      "2.8180405646387428\n",
      "2.8178431271078113\n"
     ]
    },
    {
     "name": "stderr",
     "output_type": "stream",
     "text": [
      "\r",
      " 19%|█▉        | 58/300 [03:35<13:56,  3.46s/it]"
     ]
    },
    {
     "name": "stdout",
     "output_type": "stream",
     "text": [
      "2.817646023115909\n",
      "Epoch 0, Loss 2.8176460439663926\n",
      "2.8174492514085054\n",
      "2.817252810738224\n",
      "2.8170566998647892\n",
      "2.8168609175549766\n",
      "2.8166654625825553\n",
      "2.8164703337282386\n",
      "2.816275529779632\n",
      "2.8160810495311783\n",
      "2.815886891784112\n"
     ]
    },
    {
     "name": "stderr",
     "output_type": "stream",
     "text": [
      "\r",
      " 20%|█▉        | 59/300 [03:38<13:34,  3.38s/it]"
     ]
    },
    {
     "name": "stdout",
     "output_type": "stream",
     "text": [
      "2.8156930553464026\n",
      "Epoch 0, Loss 2.8156930765247714\n",
      "2.8154995390327127\n",
      "2.8153063416643374\n",
      "2.8151134620691685\n",
      "2.8149208990816326\n",
      "2.8147286515426524\n",
      "2.8145367182995935\n",
      "2.81434509820622\n",
      "2.814153790122644\n",
      "2.8139627929152837\n"
     ]
    },
    {
     "name": "stderr",
     "output_type": "stream",
     "text": [
      "\r",
      " 20%|██        | 60/300 [03:41<13:25,  3.35s/it]"
     ]
    },
    {
     "name": "stdout",
     "output_type": "stream",
     "text": [
      "2.8137721054568154\n",
      "Epoch 0, Loss 2.8137721269627476\n",
      "2.813581726626124\n",
      "2.813391655308263\n",
      "2.813201890394406\n",
      "2.813012430781805\n",
      "2.8128232753737445\n",
      "2.8126344230794964\n",
      "2.812445872814281\n",
      "2.812257623499218\n",
      "2.812069674061289\n"
     ]
    },
    {
     "name": "stderr",
     "output_type": "stream",
     "text": [
      "\r",
      " 20%|██        | 61/300 [03:44<12:59,  3.26s/it]"
     ]
    },
    {
     "name": "stdout",
     "output_type": "stream",
     "text": [
      "2.8118820234332924\n",
      "Epoch 0, Loss 2.811882045266491\n",
      "2.8116946705538037\n",
      "2.811507614367131\n",
      "2.8113208538232786\n",
      "2.8111343878778974\n",
      "2.8109482154922567\n",
      "2.8107623356331946\n",
      "2.8105767472730814\n",
      "2.81039144938978\n",
      "2.810206440966608\n"
     ]
    },
    {
     "name": "stderr",
     "output_type": "stream",
     "text": [
      "\r",
      " 21%|██        | 62/300 [03:47<12:49,  3.23s/it]"
     ]
    },
    {
     "name": "stdout",
     "output_type": "stream",
     "text": [
      "2.8100217209922973\n",
      "Epoch 0, Loss 2.8100217431524896\n",
      "2.809837288460957\n",
      "2.8096531423720332\n",
      "2.809469281730276\n",
      "2.8092857055456952\n",
      "2.8091024128335307\n",
      "2.808919402614209\n",
      "2.808736673913312\n",
      "2.808554225761537\n",
      "2.8083720571946653\n"
     ]
    },
    {
     "name": "stderr",
     "output_type": "stream",
     "text": [
      "\r",
      " 21%|██        | 63/300 [03:51<12:57,  3.28s/it]"
     ]
    },
    {
     "name": "stdout",
     "output_type": "stream",
     "text": [
      "2.80819016725352\n",
      "Epoch 0, Loss 2.808190189740456\n",
      "2.8080085549839384\n",
      "2.807827219436733\n",
      "2.8076461596676556\n",
      "2.8074653747373657\n",
      "2.8072848637113963\n",
      "2.807104625660118\n",
      "2.8069246596587094\n",
      "2.8067449647871183\n",
      "2.8065655401300345\n"
     ]
    },
    {
     "name": "stderr",
     "output_type": "stream",
     "text": [
      "\r",
      " 21%|██▏       | 64/300 [03:54<12:48,  3.26s/it]"
     ]
    },
    {
     "name": "stdout",
     "output_type": "stream",
     "text": [
      "2.8063863847768546\n",
      "Epoch 0, Loss 2.8063864075903058\n",
      "2.806207497821649\n",
      "2.806028878363129\n",
      "2.8058505255046216\n",
      "2.8056724383540277\n",
      "2.8054946160238\n",
      "2.805317057630905\n",
      "2.805139762296799\n",
      "2.80496272914739\n",
      "2.804785957313015\n"
     ]
    },
    {
     "name": "stderr",
     "output_type": "stream",
     "text": [
      "\r",
      " 22%|██▏       | 65/300 [03:57<13:09,  3.36s/it]"
     ]
    },
    {
     "name": "stdout",
     "output_type": "stream",
     "text": [
      "2.8046094459284063\n",
      "Epoch 0, Loss 2.8046094690681658\n",
      "2.804433194132658\n",
      "2.804257201069205\n",
      "2.804081465885788\n",
      "2.8039059877344252\n",
      "2.8037307657713844\n",
      "2.803555799157154\n",
      "2.8033810870564158\n",
      "2.803206628638015\n",
      "2.803032423074933\n"
     ]
    },
    {
     "name": "stderr",
     "output_type": "stream",
     "text": [
      "\r",
      " 22%|██▏       | 66/300 [04:01<13:37,  3.49s/it]"
     ]
    },
    {
     "name": "stdout",
     "output_type": "stream",
     "text": [
      "2.802858469544262\n",
      "Epoch 0, Loss 2.8028584930101426\n",
      "2.8026847672271753\n",
      "2.8025113153089\n",
      "2.8023381129786906\n",
      "2.8021651594298036\n",
      "2.8019924538594707\n",
      "2.8018199954688687\n",
      "2.801647783463099\n",
      "2.8014758170511573\n",
      "2.8013040954459134\n"
     ]
    },
    {
     "name": "stderr",
     "output_type": "stream",
     "text": [
      "\r",
      " 22%|██▏       | 67/300 [04:04<13:12,  3.40s/it]"
     ]
    },
    {
     "name": "stdout",
     "output_type": "stream",
     "text": [
      "2.801132617864078\n",
      "Epoch 0, Loss 2.801132641655912\n",
      "2.8009613835261855\n",
      "2.800790391656561\n",
      "2.8006196414833053\n",
      "2.8004491322382594\n",
      "2.800278863156988\n",
      "2.800108833478752\n",
      "2.7999390424464856\n",
      "2.7997694893067724\n",
      "2.7996001733098197\n"
     ]
    },
    {
     "name": "stderr",
     "output_type": "stream",
     "text": [
      "\r",
      " 23%|██▎       | 68/300 [04:08<12:55,  3.34s/it]"
     ]
    },
    {
     "name": "stdout",
     "output_type": "stream",
     "text": [
      "2.7994310937094378\n",
      "Epoch 0, Loss 2.7994311178270763\n",
      "2.7992622497630157\n",
      "2.7990936407314977\n",
      "2.7989252658793604\n",
      "2.7987571244745912\n",
      "2.798589215788663\n",
      "2.798421539096516\n",
      "2.798254093676532\n",
      "2.798086878810514\n",
      "2.7979198937836633\n"
     ]
    },
    {
     "name": "stderr",
     "output_type": "stream",
     "text": [
      "\r",
      " 23%|██▎       | 69/300 [04:12<13:44,  3.57s/it]"
     ]
    },
    {
     "name": "stdout",
     "output_type": "stream",
     "text": [
      "2.797753137884559\n",
      "Epoch 0, Loss 2.797753162327871\n",
      "2.7975866104051357\n",
      "2.7974203106406628\n",
      "2.7972542378897236\n",
      "2.797088391454192\n",
      "2.7969227706392163\n",
      "2.796757374753193\n",
      "2.7965922031077484\n",
      "2.7964272550177225\n",
      "2.796262529801142\n"
     ]
    },
    {
     "name": "stderr",
     "output_type": "stream",
     "text": [
      "\r",
      " 23%|██▎       | 70/300 [04:15<12:54,  3.37s/it]"
     ]
    },
    {
     "name": "stdout",
     "output_type": "stream",
     "text": [
      "2.7960980267792044\n",
      "Epoch 0, Loss 2.7960980515480753\n",
      "2.7959337452762565\n",
      "2.795769684619777\n",
      "2.7956058441403515\n",
      "2.795442223171663\n",
      "2.795278821050461\n",
      "2.7951156371165493\n",
      "2.7949526707127665\n",
      "2.7947899211849667\n",
      "2.7946273878819983\n"
     ]
    },
    {
     "name": "stderr",
     "output_type": "stream",
     "text": [
      "\r",
      " 24%|██▎       | 71/300 [04:18<12:26,  3.26s/it]"
     ]
    },
    {
     "name": "stdout",
     "output_type": "stream",
     "text": [
      "2.794465070155689\n",
      "Epoch 0, Loss 2.794465095250021\n",
      "2.7943029673608266\n",
      "2.794141078855139\n",
      "2.7939794039992765\n",
      "2.793817942156797\n",
      "2.793656692694143\n",
      "2.7934956549806285\n",
      "2.7933348283884185\n",
      "2.793174212292514\n",
      "2.7930138060707312\n"
     ]
    },
    {
     "name": "stderr",
     "output_type": "stream",
     "text": [
      "\r",
      " 24%|██▍       | 72/300 [04:24<15:23,  4.05s/it]"
     ]
    },
    {
     "name": "stdout",
     "output_type": "stream",
     "text": [
      "2.792853609103688\n",
      "Epoch 0, Loss 2.7928536345233987\n",
      "2.7926936207747857\n",
      "2.79253384047019\n",
      "2.7923742675788175\n",
      "2.7922149014923168\n",
      "2.7920557416050547\n",
      "2.7918967873140947\n",
      "2.7917380380191856\n",
      "2.791579493122744\n",
      "2.791421152029837\n"
     ]
    },
    {
     "name": "stderr",
     "output_type": "stream",
     "text": [
      "\r",
      " 24%|██▍       | 73/300 [04:27<14:22,  3.80s/it]"
     ]
    },
    {
     "name": "stdout",
     "output_type": "stream",
     "text": [
      "2.791263014148166\n",
      "Epoch 0, Loss 2.791263039893189\n",
      "2.7911050788880565\n",
      "2.790947345662432\n",
      "2.7907898138868084\n",
      "2.7906324829792735\n",
      "2.790475352360473\n",
      "2.790318421453594\n",
      "2.7901616896843504\n",
      "2.790005156480971\n",
      "2.7898488212741803\n"
     ]
    },
    {
     "name": "stderr",
     "output_type": "stream",
     "text": [
      "\r",
      " 25%|██▍       | 74/300 [04:31<15:18,  4.07s/it]"
     ]
    },
    {
     "name": "stdout",
     "output_type": "stream",
     "text": [
      "2.7896926834971847\n",
      "Epoch 0, Loss 2.7896927095674666\n",
      "2.7895367425856605\n",
      "2.7893809979777346\n",
      "2.7892254491139763\n",
      "2.7890700954373773\n",
      "2.7889149363933403\n",
      "2.788759971429662\n",
      "2.7886051999965256\n",
      "2.7884506215464797\n",
      "2.788296235534427\n"
     ]
    },
    {
     "name": "stderr",
     "output_type": "stream",
     "text": [
      "\r",
      " 25%|██▌       | 75/300 [04:37<17:11,  4.59s/it]"
     ]
    },
    {
     "name": "stdout",
     "output_type": "stream",
     "text": [
      "2.7881420414176135\n",
      "Epoch 0, Loss 2.7881420678131152\n",
      "2.787988038655609\n",
      "2.7878342267102987\n",
      "2.7876806050458685\n",
      "2.7875271731287903\n",
      "2.787373930427808\n",
      "2.7872208764139286\n",
      "2.787068010560404\n",
      "2.786915332342724\n",
      "2.7867628412385965\n"
     ]
    },
    {
     "name": "stderr",
     "output_type": "stream",
     "text": [
      "\r",
      " 25%|██▌       | 76/300 [04:41<16:01,  4.29s/it]"
     ]
    },
    {
     "name": "stdout",
     "output_type": "stream",
     "text": [
      "2.7866105367279395\n",
      "Epoch 0, Loss 2.786610563448636\n",
      "2.786458418292867\n",
      "2.786306485417676\n",
      "2.7861547375888365\n",
      "2.786003174294974\n",
      "2.785851795026864\n",
      "2.785700599277413\n",
      "2.7855495865416517\n",
      "2.785398756316719\n",
      "2.7852481081018516\n"
     ]
    },
    {
     "name": "stderr",
     "output_type": "stream",
     "text": [
      "\r",
      " 26%|██▌       | 77/300 [04:44<14:30,  3.90s/it]"
     ]
    },
    {
     "name": "stdout",
     "output_type": "stream",
     "text": [
      "2.785097641398374\n",
      "Epoch 0, Loss 2.7850976684442514\n",
      "2.7849473557096847\n",
      "2.784797250541242\n",
      "2.7846473254005595\n",
      "2.7844975797971863\n",
      "2.7843480132427016\n",
      "2.784198625250701\n",
      "2.7840494153367836\n",
      "2.7839003830185454\n",
      "2.7837515278155607\n"
     ]
    },
    {
     "name": "stderr",
     "output_type": "stream",
     "text": [
      "\r",
      " 26%|██▌       | 78/300 [04:47<13:13,  3.57s/it]"
     ]
    },
    {
     "name": "stdout",
     "output_type": "stream",
     "text": [
      "2.7836028492493803\n",
      "Epoch 0, Loss 2.783602876620438\n",
      "2.7834543468435142\n",
      "2.783306020123421\n",
      "2.783157868616499\n",
      "2.7830098918520765\n",
      "2.782862089361395\n",
      "2.782714460677608\n",
      "2.7825670053357627\n",
      "2.7824197228727927\n",
      "2.782272612827506\n"
     ]
    },
    {
     "name": "stderr",
     "output_type": "stream",
     "text": [
      "\r",
      " 26%|██▋       | 79/300 [04:51<13:37,  3.70s/it]"
     ]
    },
    {
     "name": "stdout",
     "output_type": "stream",
     "text": [
      "2.7821256747405787\n",
      "Epoch 0, Loss 2.7821257024368276\n",
      "2.781978908154539\n",
      "2.781832312613762\n",
      "2.7816858876644552\n",
      "2.781539632854653\n",
      "2.7813935477342033\n",
      "2.7812476318547574\n",
      "2.781101884769767\n",
      "2.780956306034461\n",
      "2.78081089520585\n"
     ]
    },
    {
     "name": "stderr",
     "output_type": "stream",
     "text": [
      "\r",
      " 27%|██▋       | 80/300 [04:56<15:06,  4.12s/it]"
     ]
    },
    {
     "name": "stdout",
     "output_type": "stream",
     "text": [
      "2.780665651842708\n",
      "Epoch 0, Loss 2.78066567986417\n",
      "2.7805205755055646\n",
      "2.780375665756698\n",
      "2.780230922160123\n",
      "2.7800863442815804\n",
      "2.7799419316885334\n",
      "2.779797683950152\n",
      "2.7796536006373063\n",
      "2.779509681322559\n",
      "2.779365925580153\n"
     ]
    },
    {
     "name": "stderr",
     "output_type": "stream",
     "text": [
      "\r",
      " 27%|██▋       | 81/300 [04:59<14:08,  3.87s/it]"
     ]
    },
    {
     "name": "stdout",
     "output_type": "stream",
     "text": [
      "2.7792223329860057\n",
      "Epoch 0, Loss 2.7792223613327125\n",
      "2.7790789031176977\n",
      "2.778935635554466\n",
      "2.7787925298771916\n",
      "2.778649585668396\n",
      "2.7785068025122284\n",
      "2.7783641799944565\n",
      "2.7782217177024626\n",
      "2.7780794152252306\n",
      "2.7779372721533395\n"
     ]
    },
    {
     "name": "stderr",
     "output_type": "stream",
     "text": [
      "\r",
      " 27%|██▋       | 82/300 [05:03<13:40,  3.76s/it]"
     ]
    },
    {
     "name": "stdout",
     "output_type": "stream",
     "text": [
      "2.7777952880789547\n",
      "Epoch 0, Loss 2.7777953167509493\n",
      "2.777653462595818\n",
      "2.7775117952992434\n",
      "2.777370285786105\n",
      "2.7772289336548295\n",
      "2.7770877385053883\n",
      "2.7769466999392924\n",
      "2.776805817559579\n",
      "2.7766650909708073\n",
      "2.77652451977905\n"
     ]
    },
    {
     "name": "stderr",
     "output_type": "stream",
     "text": [
      "\r",
      " 28%|██▊       | 83/300 [05:07<14:47,  4.09s/it]"
     ]
    },
    {
     "name": "stdout",
     "output_type": "stream",
     "text": [
      "2.776384103591883\n",
      "Epoch 0, Loss 2.776384132589218\n",
      "2.7762438420183826\n",
      "2.7761037346691113\n",
      "2.775963781156116\n",
      "2.7758239810929175\n",
      "2.775684334094501\n",
      "2.7755448397773135\n",
      "2.7754054977592513\n",
      "2.775266307659655\n",
      "2.775127269099304\n"
     ]
    },
    {
     "name": "stderr",
     "output_type": "stream",
     "text": [
      "\r",
      " 28%|██▊       | 84/300 [05:11<14:01,  3.90s/it]"
     ]
    },
    {
     "name": "stdout",
     "output_type": "stream",
     "text": [
      "2.7749883817004037\n",
      "Epoch 0, Loss 2.7749884110231418\n",
      "2.774849645086584\n",
      "2.774711058882888\n",
      "2.774572622715765\n",
      "2.7744343362130683\n",
      "2.77429619900404\n",
      "2.7741582107193112\n",
      "2.7740203709908897\n",
      "2.7738826794521567\n",
      "2.773745135737858\n"
     ]
    },
    {
     "name": "stderr",
     "output_type": "stream",
     "text": [
      "\r",
      " 28%|██▊       | 85/300 [05:14<12:59,  3.63s/it]"
     ]
    },
    {
     "name": "stdout",
     "output_type": "stream",
     "text": [
      "2.7736077394840977\n",
      "Epoch 0, Loss 2.773607769132309\n",
      "2.7734704903283296\n",
      "2.773333387909353\n",
      "2.7731964318673055\n",
      "2.7730596218436543\n",
      "2.7729229574811916\n",
      "2.7727864384240255\n",
      "2.7726500643175775\n",
      "2.7725138348085716\n",
      "2.7723777495450292\n"
     ]
    },
    {
     "name": "stderr",
     "output_type": "stream",
     "text": [
      "\r",
      " 29%|██▊       | 86/300 [05:17<12:35,  3.53s/it]"
     ]
    },
    {
     "name": "stdout",
     "output_type": "stream",
     "text": [
      "2.772241808176265\n",
      "Epoch 0, Loss 2.77224183815003\n",
      "2.7721060103528776\n",
      "2.7719703557267423\n",
      "2.7718348439510097\n",
      "2.771699474680094\n",
      "2.7715642475696702\n",
      "2.7714291622766654\n",
      "2.771294218459254\n",
      "2.7711594157768524\n",
      "2.77102475389011\n"
     ]
    },
    {
     "name": "stderr",
     "output_type": "stream",
     "text": [
      "\r",
      " 29%|██▉       | 87/300 [05:20<11:51,  3.34s/it]"
     ]
    },
    {
     "name": "stdout",
     "output_type": "stream",
     "text": [
      "2.7708902324609066\n",
      "Epoch 0, Loss 2.7708902627603127\n",
      "2.770755851152343\n",
      "2.7706216096287397\n",
      "2.770487507555624\n",
      "2.77035354459973\n",
      "2.7702197204289902\n",
      "2.770086034712531\n",
      "2.769952487120664\n",
      "2.769819077324885\n",
      "2.7696858049978617\n"
     ]
    },
    {
     "name": "stderr",
     "output_type": "stream",
     "text": [
      "\r",
      " 29%|██▉       | 88/300 [05:24<12:23,  3.51s/it]"
     ]
    },
    {
     "name": "stdout",
     "output_type": "stream",
     "text": [
      "2.7695526698134354\n",
      "Epoch 0, Loss 2.7695527004385787\n",
      "2.7694196714466095\n",
      "2.7692868095735466\n",
      "2.7691540838715616\n",
      "2.769021494019117\n",
      "2.768889039695819\n",
      "2.768756720582407\n",
      "2.768624536360753\n",
      "2.768492486713855\n",
      "2.76836057132583\n"
     ]
    },
    {
     "name": "stderr",
     "output_type": "stream",
     "text": [
      "\r",
      " 30%|██▉       | 89/300 [05:27<11:48,  3.36s/it]"
     ]
    },
    {
     "name": "stdout",
     "output_type": "stream",
     "text": [
      "2.76822878988191\n",
      "Epoch 0, Loss 2.7682288208328942\n",
      "2.7680971420684353\n",
      "2.7679656275728517\n",
      "2.767834246083703\n",
      "2.7677029972906264\n",
      "2.767571880884347\n",
      "2.7674408965566744\n",
      "2.7673100440004945\n",
      "2.7671793229097665\n",
      "2.7670487329795184\n"
     ]
    },
    {
     "name": "stderr",
     "output_type": "stream",
     "text": [
      "\r",
      " 30%|███       | 90/300 [05:30<11:16,  3.22s/it]"
     ]
    },
    {
     "name": "stdout",
     "output_type": "stream",
     "text": [
      "2.766918273905838\n",
      "Epoch 0, Loss 2.766918305182774\n",
      "2.7667879453858744\n",
      "2.766657747117826\n",
      "2.7665276788009416\n",
      "2.7663977401355107\n",
      "2.7662679308228624\n",
      "2.7661382505653567\n",
      "2.7660086990663832\n",
      "2.765879276030354\n",
      "2.7657499811627018\n"
     ]
    },
    {
     "name": "stderr",
     "output_type": "stream",
     "text": [
      "\r",
      " 30%|███       | 91/300 [05:35<12:45,  3.66s/it]"
     ]
    },
    {
     "name": "stdout",
     "output_type": "stream",
     "text": [
      "2.7656208141698677\n",
      "Epoch 0, Loss 2.7656208457728737\n",
      "2.765491774759308\n",
      "2.765362862639479\n",
      "2.76523407751984\n",
      "2.765105419110842\n",
      "2.7649768871239284\n",
      "2.764848481271527\n",
      "2.7647202012670484\n",
      "2.764592046824878\n",
      "2.7644640176603756\n"
     ]
    },
    {
     "name": "stderr",
     "output_type": "stream",
     "text": [
      "\r",
      " 31%|███       | 92/300 [05:40<14:43,  4.25s/it]"
     ]
    },
    {
     "name": "stdout",
     "output_type": "stream",
     "text": [
      "2.7643361134898656\n",
      "Epoch 0, Loss 2.7643361454190662\n",
      "2.7642083340306383\n",
      "2.7640806790009402\n",
      "2.763953148119976\n",
      "2.763825741107896\n",
      "2.7636984576857984\n",
      "2.7635712975757225\n",
      "2.763444260500644\n",
      "2.763317346184473\n",
      "2.763190554352044\n"
     ]
    },
    {
     "name": "stderr",
     "output_type": "stream",
     "text": [
      "\r",
      " 31%|███       | 93/300 [05:45<15:18,  4.44s/it]"
     ]
    },
    {
     "name": "stdout",
     "output_type": "stream",
     "text": [
      "2.76306388472912\n",
      "Epoch 0, Loss 2.7630639169846463\n",
      "2.7629373370423824\n",
      "2.762810911019427\n",
      "2.7626846063887633\n",
      "2.762558422879808\n",
      "2.76243236022288\n",
      "2.762306418149198\n",
      "2.7621805963908765\n",
      "2.7620548946809205\n",
      "2.761929312753223\n"
     ]
    },
    {
     "name": "stderr",
     "output_type": "stream",
     "text": [
      "\r",
      " 31%|███▏      | 94/300 [05:49<14:16,  4.16s/it]"
     ]
    },
    {
     "name": "stdout",
     "output_type": "stream",
     "text": [
      "2.7618038503425604\n",
      "Epoch 0, Loss 2.76180388292455\n",
      "2.7616785071845853\n",
      "2.76155328301583\n",
      "2.7614281775736957\n",
      "2.7613031905964522\n",
      "2.76117832182323\n",
      "2.761053570994023\n",
      "2.76092893784968\n",
      "2.760804422131899\n",
      "2.760680023583231\n"
     ]
    },
    {
     "name": "stderr",
     "output_type": "stream",
     "text": [
      "\r",
      " 32%|███▏      | 95/300 [05:52<13:13,  3.87s/it]"
     ]
    },
    {
     "name": "stdout",
     "output_type": "stream",
     "text": [
      "2.7605557419470683\n",
      "Epoch 0, Loss 2.7605557748556646\n",
      "2.7604315769676453\n",
      "2.7603075283900314\n",
      "2.760183595960132\n",
      "2.760059779424681\n",
      "2.759936078531238\n",
      "2.759812493028186\n",
      "2.7596890226647246\n",
      "2.759565667190871\n",
      "2.759442426357453\n"
     ]
    },
    {
     "name": "stderr",
     "output_type": "stream",
     "text": [
      "\r",
      " 32%|███▏      | 96/300 [05:55<12:28,  3.67s/it]"
     ]
    },
    {
     "name": "stdout",
     "output_type": "stream",
     "text": [
      "2.7593192999161045\n",
      "Epoch 0, Loss 2.7593193331514567\n",
      "2.759196287619267\n",
      "2.7590733892201804\n",
      "2.7589506044728846\n",
      "2.7588279331322108\n",
      "2.7587053749537804\n",
      "2.7585829296940054\n",
      "2.7584605971100786\n",
      "2.7583383769599727\n",
      "2.758216269002438\n"
     ]
    },
    {
     "name": "stderr",
     "output_type": "stream",
     "text": [
      "\r",
      " 32%|███▏      | 97/300 [05:59<12:26,  3.68s/it]"
     ]
    },
    {
     "name": "stdout",
     "output_type": "stream",
     "text": [
      "2.758094272996998\n",
      "Epoch 0, Loss 2.758094306559261\n",
      "2.7579723887039473\n",
      "2.757850615884346\n",
      "2.7577289543000183\n",
      "2.757607403713548\n",
      "2.7574859638882763\n",
      "2.7573646345882983\n",
      "2.757243415578458\n",
      "2.7571223066243467\n",
      "2.757001307492303\n"
     ]
    },
    {
     "name": "stderr",
     "output_type": "stream",
     "text": [
      "\r",
      " 33%|███▎      | 98/300 [06:03<12:54,  3.83s/it]"
     ]
    },
    {
     "name": "stdout",
     "output_type": "stream",
     "text": [
      "2.7568804179494015\n",
      "Epoch 0, Loss 2.756880451838735\n",
      "2.756759637763458\n",
      "2.75663896670302\n",
      "2.7565184045373687\n",
      "2.756397951036512\n",
      "2.7562776059711833\n",
      "2.7561573691128385\n",
      "2.7560372402336504\n",
      "2.755917219106511\n",
      "2.7557973055050224\n"
     ]
    },
    {
     "name": "stderr",
     "output_type": "stream",
     "text": [
      "\r",
      " 33%|███▎      | 99/300 [06:06<12:00,  3.59s/it]"
     ]
    },
    {
     "name": "stdout",
     "output_type": "stream",
     "text": [
      "2.755677499203498\n",
      "Epoch 0, Loss 2.755677533420067\n",
      "2.755557799976957\n",
      "2.7554382076011232\n",
      "2.7553187218524213\n",
      "2.7551993425079737\n",
      "2.7550800693455972\n",
      "2.754960902143802\n",
      "2.754841840681786\n",
      "2.7547228847394343\n",
      "2.7546040340973152\n"
     ]
    },
    {
     "name": "stderr",
     "output_type": "stream",
     "text": [
      "\r",
      " 33%|███▎      | 100/300 [06:09<11:58,  3.59s/it]"
     ]
    },
    {
     "name": "stdout",
     "output_type": "stream",
     "text": [
      "2.7544852885366784\n",
      "Epoch 0, Loss 2.7544853230806536\n",
      "2.7543666478394493\n",
      "2.75424811178823\n",
      "2.754129680166294\n",
      "2.7540113527575834\n",
      "2.7538931293467077\n",
      "2.7537750097189404\n",
      "2.753656993660215\n",
      "2.753539080957123\n",
      "2.7534212713969137\n"
     ]
    },
    {
     "name": "stderr",
     "output_type": "stream",
     "text": [
      "\r",
      " 34%|███▎      | 101/300 [06:13<11:25,  3.44s/it]"
     ]
    },
    {
     "name": "stdout",
     "output_type": "stream",
     "text": [
      "2.753303564767487\n",
      "Epoch 0, Loss 2.7533035996390427\n",
      "2.753185960857392\n",
      "2.753068459455829\n",
      "2.752951060352639\n",
      "2.752833763338306\n",
      "2.752716568203957\n",
      "2.752599474741351\n",
      "2.752482482742885\n",
      "2.752365592001584\n",
      "2.752248802311105\n"
     ]
    },
    {
     "name": "stderr",
     "output_type": "stream",
     "text": [
      "\r",
      " 34%|███▍      | 102/300 [06:16<11:18,  3.43s/it]"
     ]
    },
    {
     "name": "stdout",
     "output_type": "stream",
     "text": [
      "2.75213211346573\n",
      "Epoch 0, Loss 2.752132148665046\n",
      "2.752015525260367\n",
      "2.7518990374905417\n",
      "2.7517826499524016\n",
      "2.7516663624427102\n",
      "2.751550174758844\n",
      "2.7514340866987896\n",
      "2.751318098061146\n",
      "2.7512022086451156\n",
      "2.751086418250506\n"
     ]
    },
    {
     "name": "stderr",
     "output_type": "stream",
     "text": [
      "\r",
      " 34%|███▍      | 103/300 [06:20<11:43,  3.57s/it]"
     ]
    },
    {
     "name": "stdout",
     "output_type": "stream",
     "text": [
      "2.7509707266777266\n",
      "Epoch 0, Loss 2.7509707622049864\n",
      "2.7508551337277836\n",
      "2.7507396392022816\n",
      "2.750624242903422\n",
      "2.7505089446339923\n",
      "2.7503937441973756\n",
      "2.7502786413975366\n",
      "2.7501636360390287\n",
      "2.7500487279269876\n",
      "2.7499339168671244\n"
     ]
    },
    {
     "name": "stderr",
     "output_type": "stream",
     "text": [
      "\r",
      " 35%|███▍      | 104/300 [06:23<11:18,  3.46s/it]"
     ]
    },
    {
     "name": "stdout",
     "output_type": "stream",
     "text": [
      "2.7498192026657353\n",
      "Epoch 0, Loss 2.749819238521127\n",
      "2.7497045851296855\n",
      "2.7495900640664175\n",
      "2.749475639283943\n",
      "2.749361310590843\n",
      "2.7492470777962645\n",
      "2.7491329407099183\n",
      "2.7490188991420776\n",
      "2.748904952903575\n",
      "2.7487911018058013\n"
     ]
    },
    {
     "name": "stderr",
     "output_type": "stream",
     "text": [
      "\r",
      " 35%|███▌      | 105/300 [06:26<10:42,  3.29s/it]"
     ]
    },
    {
     "name": "stdout",
     "output_type": "stream",
     "text": [
      "2.748677345660702\n",
      "Epoch 0, Loss 2.7486773818444172\n",
      "2.748563684280776\n",
      "2.7484501174790714\n",
      "2.7483366450691884\n",
      "2.74822326686527\n",
      "2.7481099826820077\n",
      "2.7479967923346313\n",
      "2.7478836956389125\n",
      "2.747770692411162\n",
      "2.7476577824682256\n"
     ]
    },
    {
     "name": "stderr",
     "output_type": "stream",
     "text": [
      "\r",
      " 35%|███▌      | 106/300 [06:29<10:27,  3.24s/it]"
     ]
    },
    {
     "name": "stdout",
     "output_type": "stream",
     "text": [
      "2.7475449656274824\n",
      "Epoch 0, Loss 2.747545002139717\n",
      "2.7474322417068437\n",
      "2.747319610524752\n",
      "2.747207071900174\n",
      "2.7470946256526063\n",
      "2.7469822716020653\n",
      "2.7468700095690908\n",
      "2.746757839374742\n",
      "2.7466457608405954\n",
      "2.7465337737887427\n"
     ]
    },
    {
     "name": "stderr",
     "output_type": "stream",
     "text": [
      "\r",
      " 36%|███▌      | 107/300 [06:33<11:19,  3.52s/it]"
     ]
    },
    {
     "name": "stdout",
     "output_type": "stream",
     "text": [
      "2.74642187804179\n",
      "Epoch 0, Loss 2.746421914882744\n",
      "2.746310073422854\n",
      "2.7461983597555615\n",
      "2.7460867368640445\n",
      "2.7459752045729466\n",
      "2.7458637627074087\n",
      "2.745752411093076\n",
      "2.745641149556096\n",
      "2.7455299779231095\n",
      "2.7454188960212558\n"
     ]
    },
    {
     "name": "stderr",
     "output_type": "stream",
     "text": [
      "\r",
      " 36%|███▌      | 108/300 [06:36<10:57,  3.43s/it]"
     ]
    },
    {
     "name": "stdout",
     "output_type": "stream",
     "text": [
      "2.745307903678169\n",
      "Epoch 0, Loss 2.7453079408480456\n",
      "2.7451970007219737\n",
      "2.7450861869812866\n",
      "2.7449754622852116\n",
      "2.7448648264633393\n",
      "2.7447542793457465\n",
      "2.7446438207629904\n",
      "2.7445334505461125\n",
      "2.7444231685266316\n",
      "2.744312974536543\n"
     ]
    },
    {
     "name": "stderr",
     "output_type": "stream",
     "text": [
      "\r",
      " 36%|███▋      | 109/300 [06:40<10:47,  3.39s/it]"
     ]
    },
    {
     "name": "stdout",
     "output_type": "stream",
     "text": [
      "2.744202868408321\n",
      "Epoch 0, Loss 2.7442029059073265\n",
      "2.7440928499749098\n",
      "2.74398291906973\n",
      "2.7438730755266687\n",
      "2.7437633191800845\n",
      "2.7436536498647994\n",
      "2.7435440674161047\n",
      "2.7434345716697517\n",
      "2.743325162461954\n",
      "2.7432158396293866\n"
     ]
    },
    {
     "name": "stderr",
     "output_type": "stream",
     "text": [
      "\r",
      " 37%|███▋      | 110/300 [06:44<11:19,  3.58s/it]"
     ]
    },
    {
     "name": "stdout",
     "output_type": "stream",
     "text": [
      "2.74310660300918\n",
      "Epoch 0, Loss 2.7431066408375253\n",
      "2.742997452438923\n",
      "2.7428883877566603\n",
      "2.742779408800884\n",
      "2.7426705154105453\n",
      "2.7425617074250397\n",
      "2.7424529846842116\n",
      "2.742344347028354\n",
      "2.742235794298202\n",
      "2.742127326334933\n"
     ]
    },
    {
     "name": "stderr",
     "output_type": "stream",
     "text": [
      "\r",
      " 37%|███▋      | 111/300 [06:49<12:41,  4.03s/it]"
     ]
    },
    {
     "name": "stdout",
     "output_type": "stream",
     "text": [
      "2.7420189429801685\n",
      "Epoch 0, Loss 2.7420189811380666\n",
      "2.7419106440759693\n",
      "2.7418024294648333\n",
      "2.7416942989896946\n",
      "2.7415862524939225\n",
      "2.7414782898213206\n",
      "2.741370410816123\n",
      "2.741262615322995\n",
      "2.7411549031870295\n",
      "2.7410472742537464\n"
     ]
    },
    {
     "name": "stderr",
     "output_type": "stream",
     "text": [
      "\r",
      " 37%|███▋      | 112/300 [06:52<11:33,  3.69s/it]"
     ]
    },
    {
     "name": "stdout",
     "output_type": "stream",
     "text": [
      "2.7409397283690913\n",
      "Epoch 0, Loss 2.740939766856759\n",
      "2.7408322653794337\n",
      "2.740724885131565\n",
      "2.7406175874726983\n",
      "2.740510372250465\n",
      "2.7404032393129145\n",
      "2.740296188508512\n",
      "2.740189219686138\n",
      "2.7400823326950863\n",
      "2.7399755273850612\n"
     ]
    },
    {
     "name": "stderr",
     "output_type": "stream",
     "text": [
      "\r",
      " 38%|███▊      | 113/300 [06:55<11:10,  3.59s/it]"
     ]
    },
    {
     "name": "stdout",
     "output_type": "stream",
     "text": [
      "2.7398688036061785\n",
      "Epoch 0, Loss 2.7398688424238355\n",
      "2.7397621612089615\n",
      "2.739655600044341\n",
      "2.7395491199636552\n",
      "2.7394427208186434\n",
      "2.73933640246145\n",
      "2.7392301647446224\n",
      "2.739124007521103\n",
      "2.7390179306442355\n",
      "2.738911933967762\n"
     ]
    },
    {
     "name": "stderr",
     "output_type": "stream",
     "text": [
      "\r",
      " 38%|███▊      | 114/300 [06:58<10:37,  3.43s/it]"
     ]
    },
    {
     "name": "stdout",
     "output_type": "stream",
     "text": [
      "2.7388060173458193\n",
      "Epoch 0, Loss 2.7388060564936882\n",
      "2.738700180632936\n",
      "2.738594423684035\n",
      "2.7384887463544327\n",
      "2.7383831484998336\n",
      "2.7382776299763294\n",
      "2.7381721906404026\n",
      "2.7380668303489175\n",
      "2.737961548959127\n",
      "2.737856346328662\n"
     ]
    },
    {
     "name": "stderr",
     "output_type": "stream",
     "text": [
      "\r",
      " 38%|███▊      | 115/300 [07:01<10:18,  3.34s/it]"
     ]
    },
    {
     "name": "stdout",
     "output_type": "stream",
     "text": [
      "2.737751222315541\n",
      "Epoch 0, Loss 2.737751261793847\n",
      "2.737646176778158\n",
      "2.7375412095752893\n",
      "2.737436320566086\n",
      "2.737331509610079\n",
      "2.73722677656717\n",
      "2.737122121297639\n",
      "2.7370175436621342\n",
      "2.736913043521678\n",
      "2.7368086207376603\n"
     ]
    },
    {
     "name": "stderr",
     "output_type": "stream",
     "text": [
      "\r",
      " 39%|███▊      | 116/300 [07:05<10:32,  3.44s/it]"
     ]
    },
    {
     "name": "stdout",
     "output_type": "stream",
     "text": [
      "2.7367042751718413\n",
      "Epoch 0, Loss 2.7367043149808126\n",
      "2.736600006686347\n",
      "2.73649581514367\n",
      "2.7363917004066667\n",
      "2.736287662338558\n",
      "2.736183700802926\n",
      "2.7360798156637145\n",
      "2.7359760067852252\n",
      "2.735872274032119\n",
      "2.735768617269414\n"
     ]
    },
    {
     "name": "stderr",
     "output_type": "stream",
     "text": [
      "\r",
      " 39%|███▉      | 117/300 [07:10<11:56,  3.91s/it]"
     ]
    },
    {
     "name": "stdout",
     "output_type": "stream",
     "text": [
      "2.7356650363624837\n",
      "Epoch 0, Loss 2.735665076502351\n",
      "2.7355615311770567\n",
      "2.7354581015792148\n",
      "2.73535474743539\n",
      "2.7352514686123675\n",
      "2.7351482649772825\n",
      "2.735045136397617\n",
      "2.7349420827411985\n",
      "2.734839103876205\n",
      "2.734736199671157\n"
     ]
    },
    {
     "name": "stderr",
     "output_type": "stream",
     "text": [
      "\r",
      " 39%|███▉      | 118/300 [07:15<12:55,  4.26s/it]"
     ]
    },
    {
     "name": "stdout",
     "output_type": "stream",
     "text": [
      "2.7346333699949166\n",
      "Epoch 0, Loss 2.7346334104659134\n",
      "2.734530614716693\n",
      "2.7344279337060327\n",
      "2.7343253268328236\n",
      "2.7342227939672927\n",
      "2.7341203349800045\n",
      "2.7340179497418617\n",
      "2.7339156381240985\n",
      "2.7338133999982888\n",
      "2.7337112352363335\n"
     ]
    },
    {
     "name": "stderr",
     "output_type": "stream",
     "text": [
      "\r",
      " 40%|███▉      | 119/300 [07:19<12:26,  4.12s/it]"
     ]
    },
    {
     "name": "stdout",
     "output_type": "stream",
     "text": [
      "2.733609143710472\n",
      "Epoch 0, Loss 2.733609184512834\n",
      "2.7335071252932694\n",
      "2.733405179857623\n",
      "2.733303307276759\n",
      "2.733201507424229\n",
      "2.733099780173913\n",
      "2.732998125400017\n",
      "2.732896542977068\n",
      "2.73279503277992\n",
      "2.7326935946837447\n"
     ]
    },
    {
     "name": "stderr",
     "output_type": "stream",
     "text": [
      "\r",
      " 40%|████      | 120/300 [07:22<11:32,  3.85s/it]"
     ]
    },
    {
     "name": "stdout",
     "output_type": "stream",
     "text": [
      "2.7325922285640383\n",
      "Epoch 0, Loss 2.732592269698004\n",
      "2.7324909342966155\n",
      "2.732389711757609\n",
      "2.732288560823471\n",
      "2.7321874813709695\n",
      "2.7320864732771857\n",
      "2.731985536419519\n",
      "2.7318846706756794\n",
      "2.7317838759236923\n",
      "2.7316831520418905\n"
     ]
    },
    {
     "name": "stderr",
     "output_type": "stream",
     "text": [
      "\r",
      " 40%|████      | 121/300 [07:25<11:04,  3.71s/it]"
     ]
    },
    {
     "name": "stdout",
     "output_type": "stream",
     "text": [
      "2.7315824989089204\n",
      "Epoch 0, Loss 2.73158254037473\n",
      "2.7314819164037356\n",
      "2.731381404405598\n",
      "2.731280962794079\n",
      "2.731180591449052\n",
      "2.7310802902507\n",
      "2.730980059079507\n",
      "2.7308798978162603\n",
      "2.7307798063420523\n",
      "2.7306797845382706\n"
     ]
    },
    {
     "name": "stderr",
     "output_type": "stream",
     "text": [
      "\r",
      " 41%|████      | 122/300 [07:29<11:05,  3.74s/it]"
     ]
    },
    {
     "name": "stdout",
     "output_type": "stream",
     "text": [
      "2.7305798322866095\n",
      "Epoch 0, Loss 2.7305798740845058\n",
      "2.7304799494690584\n",
      "2.7303801359679047\n",
      "2.730280391665735\n",
      "2.7301807164454304\n",
      "2.7300811101901683\n",
      "2.7299815727834176\n",
      "2.729882104108945\n",
      "2.729782704050804\n",
      "2.729683372493344\n"
     ]
    },
    {
     "name": "stderr",
     "output_type": "stream",
     "text": [
      "\r",
      " 41%|████      | 123/300 [07:33<10:54,  3.70s/it]"
     ]
    },
    {
     "name": "stdout",
     "output_type": "stream",
     "text": [
      "2.7295841093212023\n",
      "Epoch 0, Loss 2.7295841514514305\n",
      "2.729484914419306\n",
      "2.7293857876728693\n",
      "2.7292867289673977\n",
      "2.7291877381886778\n",
      "2.7290888152227875\n",
      "2.7289899599560834\n",
      "2.72889117227521\n",
      "2.7287924520670934\n",
      "2.7286937992189415\n"
     ]
    },
    {
     "name": "stderr",
     "output_type": "stream",
     "text": [
      "\r",
      " 41%|████▏     | 124/300 [07:36<10:18,  3.52s/it]"
     ]
    },
    {
     "name": "stdout",
     "output_type": "stream",
     "text": [
      "2.7285952136182434\n",
      "Epoch 0, Loss 2.7285952560810505\n",
      "2.7284966951527667\n",
      "2.7283982437105605\n",
      "2.728299859179951\n",
      "2.7282015414495393\n",
      "2.728103290408207\n",
      "2.7280051059451087\n",
      "2.7279069879496736\n",
      "2.7278089363116065\n",
      "2.7277109509208826\n"
     ]
    },
    {
     "name": "stderr",
     "output_type": "stream",
     "text": [
      "\r",
      " 42%|████▏     | 125/300 [07:39<09:48,  3.36s/it]"
     ]
    },
    {
     "name": "stdout",
     "output_type": "stream",
     "text": [
      "2.727613031667749\n",
      "Epoch 0, Loss 2.727613074463384\n",
      "2.727515178442727\n",
      "2.7274173911366053\n",
      "2.727319669640442\n",
      "2.727222013845563\n",
      "2.727124423643566\n",
      "2.7270268989263102\n",
      "2.7269294395859216\n",
      "2.726832045514795\n",
      "2.7267347166055855\n"
     ]
    },
    {
     "name": "stderr",
     "output_type": "stream",
     "text": [
      "\r",
      " 42%|████▏     | 126/300 [07:44<11:00,  3.79s/it]"
     ]
    },
    {
     "name": "stdout",
     "output_type": "stream",
     "text": [
      "2.7266374527512127\n",
      "Epoch 0, Loss 2.726637495879927\n",
      "2.726540253844858\n",
      "2.7264431197799666\n",
      "2.7263460504502413\n",
      "2.7262490457496473\n",
      "2.7261521055724076\n",
      "2.7260552298130043\n",
      "2.725958418366176\n",
      "2.725861671126919\n",
      "2.725764987990485\n"
     ]
    },
    {
     "name": "stderr",
     "output_type": "stream",
     "text": [
      "\r",
      " 42%|████▏     | 127/300 [07:47<10:46,  3.74s/it]"
     ]
    },
    {
     "name": "stdout",
     "output_type": "stream",
     "text": [
      "2.72566836885238\n",
      "Epoch 0, Loss 2.725668412314427\n",
      "2.725571813608365\n",
      "2.7254753221544554\n",
      "2.725378894386916\n",
      "2.725282530202267\n",
      "2.7251862294972775\n",
      "2.7250899921689666\n",
      "2.724993818114604\n",
      "2.7248977072317078\n",
      "2.724801659418043\n"
     ]
    },
    {
     "name": "stderr",
     "output_type": "stream",
     "text": [
      "\r",
      " 43%|████▎     | 128/300 [07:51<10:48,  3.77s/it]"
     ]
    },
    {
     "name": "stdout",
     "output_type": "stream",
     "text": [
      "2.7247056745716223\n",
      "Epoch 0, Loss 2.724705718367256\n",
      "2.7246097525907054\n",
      "2.7245138933737953\n",
      "2.7244180968196416\n",
      "2.724322362827238\n",
      "2.7242266912958204\n",
      "2.724131082124867\n",
      "2.724035535214099\n",
      "2.7239400504634768\n",
      "2.723844627773203\n"
     ]
    },
    {
     "name": "stderr",
     "output_type": "stream",
     "text": [
      "\r",
      " 43%|████▎     | 129/300 [07:55<10:30,  3.69s/it]"
     ]
    },
    {
     "name": "stdout",
     "output_type": "stream",
     "text": [
      "2.723749267043716\n",
      "Epoch 0, Loss 2.7237493111731936\n",
      "2.7236539681756975\n",
      "2.7235587310700646\n",
      "2.72346355562797\n",
      "2.7233684417508073\n",
      "2.7232733893402017\n",
      "2.7231783982980144\n",
      "2.7230834685263416\n",
      "2.722988599927513\n",
      "2.7228937924040904\n"
     ]
    },
    {
     "name": "stderr",
     "output_type": "stream",
     "text": [
      "\r",
      " 43%|████▎     | 130/300 [07:59<11:10,  3.95s/it]"
     ]
    },
    {
     "name": "stdout",
     "output_type": "stream",
     "text": [
      "2.722799045858867\n",
      "Epoch 0, Loss 2.7227990903224475\n",
      "2.7227043601948693\n",
      "2.7226097353153538\n",
      "2.7225151711238054\n",
      "2.72242066752394\n",
      "2.7223262244197\n",
      "2.7222318417152582\n",
      "2.722137519315012\n",
      "2.722043257123587\n",
      "2.7219490550458336\n"
     ]
    },
    {
     "name": "stderr",
     "output_type": "stream",
     "text": [
      "\r",
      " 44%|████▎     | 131/300 [08:03<10:49,  3.84s/it]"
     ]
    },
    {
     "name": "stdout",
     "output_type": "stream",
     "text": [
      "2.7218549129868275\n",
      "Epoch 0, Loss 2.7218549577847706\n",
      "2.721760830851868\n",
      "2.7216668085464795\n",
      "2.721572845976407\n",
      "2.721478943047619\n",
      "2.721385099666307\n",
      "2.7212913157388807\n",
      "2.721197591171973\n",
      "2.7211039258724314\n",
      "2.7210103197473283\n"
     ]
    },
    {
     "name": "stderr",
     "output_type": "stream",
     "text": [
      "\r",
      " 44%|████▍     | 132/300 [08:06<10:23,  3.71s/it]"
     ]
    },
    {
     "name": "stdout",
     "output_type": "stream",
     "text": [
      "2.720916772703951\n",
      "Epoch 0, Loss 2.720916817836519\n",
      "2.7208232846498035\n",
      "2.7207298554926096\n",
      "2.720636485140307\n",
      "2.720543173501048\n",
      "2.720449920483203\n",
      "2.7203567259953547\n",
      "2.7202635899462995\n",
      "2.7201705122450472\n",
      "2.7200774928008187\n"
     ]
    },
    {
     "name": "stderr",
     "output_type": "stream",
     "text": [
      "\r",
      " 44%|████▍     | 133/300 [08:10<10:11,  3.66s/it]"
     ]
    },
    {
     "name": "stdout",
     "output_type": "stream",
     "text": [
      "2.719984531523048\n",
      "Epoch 0, Loss 2.719984576990504\n",
      "2.7198916283213794\n",
      "2.719798783105668\n",
      "2.719705995785977\n",
      "2.7196132662725816\n",
      "2.719520594475963\n",
      "2.7194279803068113\n",
      "2.719335423676024\n",
      "2.7192429244947034\n",
      "2.7191504826741615\n"
     ]
    },
    {
     "name": "stderr",
     "output_type": "stream",
     "text": [
      "\r",
      " 45%|████▍     | 134/300 [08:13<10:02,  3.63s/it]"
     ]
    },
    {
     "name": "stdout",
     "output_type": "stream",
     "text": [
      "2.7190580981259114\n",
      "Epoch 0, Loss 2.7190581439285206\n",
      "2.718965770761673\n",
      "2.718873500493371\n",
      "2.7187812872331327\n",
      "2.7186891308932877\n",
      "2.7185970313863685\n",
      "2.718504988625109\n",
      "2.718413002522446\n",
      "2.7183210729915146\n",
      "2.7182291999456507\n"
     ]
    },
    {
     "name": "stderr",
     "output_type": "stream",
     "text": [
      "\r",
      " 45%|████▌     | 135/300 [08:19<11:16,  4.10s/it]"
     ]
    },
    {
     "name": "stdout",
     "output_type": "stream",
     "text": [
      "2.7181373832983877\n",
      "Epoch 0, Loss 2.718137429436417\n",
      "2.7180456229634613\n",
      "2.717953918854802\n",
      "2.7178622708865396\n",
      "2.7177706789730003\n",
      "2.717679143028706\n",
      "2.7175876629683757\n",
      "2.7174962387069224\n",
      "2.717404870159454\n",
      "2.7173135572412734\n"
     ]
    },
    {
     "name": "stderr",
     "output_type": "stream",
     "text": [
      "\r",
      " 45%|████▌     | 136/300 [08:23<11:17,  4.13s/it]"
     ]
    },
    {
     "name": "stdout",
     "output_type": "stream",
     "text": [
      "2.7172222998678746\n",
      "Epoch 0, Loss 2.717222346341592\n",
      "2.7171310979549474\n",
      "2.7170399514183727\n",
      "2.716948860174222\n",
      "2.7168578241387586\n",
      "2.7167668432284375\n",
      "2.716675917359903\n",
      "2.716585046449988\n",
      "2.7164942304157167\n",
      "2.7164034691742978\n"
     ]
    },
    {
     "name": "stderr",
     "output_type": "stream",
     "text": [
      "\r",
      " 46%|████▌     | 137/300 [08:26<10:13,  3.76s/it]"
     ]
    },
    {
     "name": "stdout",
     "output_type": "stream",
     "text": [
      "2.716312762643132\n",
      "Epoch 0, Loss 2.7163128094528073\n",
      "2.716222110739805\n",
      "2.716131513382089\n",
      "2.7160409704879442\n",
      "2.7159504819755145\n",
      "2.715860047763129\n",
      "2.715769667769304\n",
      "2.715679341912735\n",
      "2.7155890701123058\n",
      "2.715498852287081\n"
     ]
    },
    {
     "name": "stderr",
     "output_type": "stream",
     "text": [
      "\r",
      " 46%|████▌     | 138/300 [08:30<10:40,  3.95s/it]"
     ]
    },
    {
     "name": "stdout",
     "output_type": "stream",
     "text": [
      "2.7154086883563067\n",
      "Epoch 0, Loss 2.7154087355022103\n",
      "2.7153185782394114\n",
      "2.715228521856007\n",
      "2.715138519125883\n",
      "2.7150485699690123\n",
      "2.714958674305545\n",
      "2.7148688320558114\n",
      "2.7147790431403207\n",
      "2.714689307479761\n",
      "2.7145996249949964\n"
     ]
    },
    {
     "name": "stderr",
     "output_type": "stream",
     "text": [
      "\r",
      " 46%|████▋     | 139/300 [08:34<10:53,  4.06s/it]"
     ]
    },
    {
     "name": "stdout",
     "output_type": "stream",
     "text": [
      "2.714509995607068\n",
      "Epoch 0, Loss 2.7145100430894726\n",
      "2.7144204192371966\n",
      "2.714330895806776\n",
      "2.7142414252373768\n",
      "2.7141520074507453\n",
      "2.7140626423688006\n",
      "2.713973329913638\n",
      "2.7138840700075257\n",
      "2.7137948625729043\n",
      "2.7137057075323883\n"
     ]
    },
    {
     "name": "stderr",
     "output_type": "stream",
     "text": [
      "\r",
      " 47%|████▋     | 140/300 [08:39<11:21,  4.26s/it]"
     ]
    },
    {
     "name": "stdout",
     "output_type": "stream",
     "text": [
      "2.7136166048087627\n",
      "Epoch 0, Loss 2.7136166526279424\n",
      "2.713527554324986\n",
      "2.713438556004186\n",
      "2.7133496097696623\n",
      "2.7132607155448847\n",
      "2.7131718732534917\n",
      "2.7130830828192924\n",
      "2.712994344166264\n",
      "2.712905657218551\n",
      "2.7128170219004666\n"
     ]
    },
    {
     "name": "stderr",
     "output_type": "stream",
     "text": [
      "\r",
      " 47%|████▋     | 141/300 [08:42<10:25,  3.93s/it]"
     ]
    },
    {
     "name": "stdout",
     "output_type": "stream",
     "text": [
      "2.7127284381364913\n",
      "Epoch 0, Loss 2.712728486292721\n",
      "2.7126399058512725\n",
      "2.7125514249696225\n",
      "2.712462995416521\n",
      "2.7123746171171135\n",
      "2.7122862899967077\n",
      "2.712198013980779\n",
      "2.7121097889949644\n",
      "2.7120216149650664\n",
      "2.7119334918170472\n"
     ]
    },
    {
     "name": "stderr",
     "output_type": "stream",
     "text": [
      "\r",
      " 47%|████▋     | 142/300 [08:46<09:51,  3.74s/it]"
     ]
    },
    {
     "name": "stdout",
     "output_type": "stream",
     "text": [
      "2.711845419477035\n",
      "Epoch 0, Loss 2.7118454679705906\n",
      "2.71175739787132\n",
      "2.7116694269263513\n",
      "2.7115815065687405\n",
      "2.7114936367252613\n",
      "2.7114058173228464\n",
      "2.711318048288588\n",
      "2.711230329549738\n",
      "2.7111426610337084\n",
      "2.711055042668068\n"
     ]
    },
    {
     "name": "stderr",
     "output_type": "stream",
     "text": [
      "\r",
      " 48%|████▊     | 143/300 [08:50<09:59,  3.82s/it]"
     ]
    },
    {
     "name": "stdout",
     "output_type": "stream",
     "text": [
      "2.7109674743805448\n",
      "Epoch 0, Loss 2.710967523211704\n",
      "2.7108799560990238\n",
      "2.7107924877515472\n",
      "2.710705069266313\n",
      "2.7106177005716785\n",
      "2.7105303815961532\n",
      "2.7104431122684036\n",
      "2.710355892517253\n",
      "2.7102687222716755\n",
      "2.7101816014608002\n"
     ]
    },
    {
     "name": "stderr",
     "output_type": "stream",
     "text": [
      "\r",
      " 48%|████▊     | 144/300 [08:53<09:26,  3.63s/it]"
     ]
    },
    {
     "name": "stdout",
     "output_type": "stream",
     "text": [
      "2.7100945300139134\n",
      "Epoch 0, Loss 2.710094579182955\n",
      "2.71000750786045\n",
      "2.7099205349300015\n",
      "2.709833611152309\n",
      "2.7097467364572663\n",
      "2.7096599107749184\n",
      "2.7095731340354643\n",
      "2.7094864061692485\n",
      "2.709399727106772\n",
      "2.70931309677868\n"
     ]
    },
    {
     "name": "stderr",
     "output_type": "stream",
     "text": [
      "\r",
      " 48%|████▊     | 145/300 [08:56<08:49,  3.41s/it]"
     ]
    },
    {
     "name": "stdout",
     "output_type": "stream",
     "text": [
      "2.7092265151157684\n",
      "Epoch 0, Loss 2.7092265646229725\n",
      "2.7091399820489857\n",
      "2.7090534975094256\n",
      "2.7089670614283308\n",
      "2.708880673737091\n",
      "2.7087943343672456\n",
      "2.7087080432504784\n",
      "2.708621800318621\n",
      "2.7085356055036507\n",
      "2.708449458737692\n"
     ]
    },
    {
     "name": "stderr",
     "output_type": "stream",
     "text": [
      "\r",
      " 49%|████▊     | 146/300 [08:59<08:40,  3.38s/it]"
     ]
    },
    {
     "name": "stdout",
     "output_type": "stream",
     "text": [
      "2.708363359953013\n",
      "Epoch 0, Loss 2.7083634097986606\n",
      "2.7082773090820274\n",
      "2.708191306057292\n",
      "2.708105350811512\n",
      "2.7080194432775317\n",
      "2.70793358338834\n",
      "2.7078477710770708\n",
      "2.7077620062769987\n",
      "2.7076762889215393\n",
      "2.707590618944254\n"
     ]
    },
    {
     "name": "stderr",
     "output_type": "stream",
     "text": [
      "\r",
      " 49%|████▉     | 147/300 [09:02<08:29,  3.33s/it]"
     ]
    },
    {
     "name": "stdout",
     "output_type": "stream",
     "text": [
      "2.7075049962788422\n",
      "Epoch 0, Loss 2.7075050464632153\n",
      "2.7074194208591456\n",
      "2.707333892619146\n",
      "2.7072484114929654\n",
      "2.7071629774148667\n",
      "2.70707759031925\n",
      "2.7069922501406576\n",
      "2.706906956813768\n",
      "2.7068217102734007\n",
      "2.7067365104545096\n"
     ]
    },
    {
     "name": "stderr",
     "output_type": "stream",
     "text": [
      "\r",
      " 49%|████▉     | 148/300 [09:05<08:10,  3.23s/it]"
     ]
    },
    {
     "name": "stdout",
     "output_type": "stream",
     "text": [
      "2.706651357292189\n",
      "Epoch 0, Loss 2.7066514078155715\n",
      "2.7065662507216692\n",
      "2.706481190678318\n",
      "2.7063961770976386\n",
      "2.7063112099152717\n",
      "2.706226289066992\n",
      "2.7061414144887133\n",
      "2.706056586116478\n",
      "2.7059718038864693\n",
      "2.7058870677350018\n"
     ]
    },
    {
     "name": "stderr",
     "output_type": "stream",
     "text": [
      "\r",
      " 50%|████▉     | 149/300 [09:09<08:37,  3.43s/it]"
     ]
    },
    {
     "name": "stdout",
     "output_type": "stream",
     "text": [
      "2.705802377598524\n",
      "Epoch 0, Loss 2.7058024284611992\n",
      "2.705717733413618\n",
      "2.7056331351170004\n",
      "2.7055485826455192\n",
      "2.705464075936155\n",
      "2.705379614926022\n",
      "2.705295199552363\n",
      "2.705210829752557\n",
      "2.7051265054641074\n",
      "2.7050422266246548\n"
     ]
    },
    {
     "name": "stderr",
     "output_type": "stream",
     "text": [
      "\r",
      " 50%|█████     | 150/300 [09:12<08:15,  3.30s/it]"
     ]
    },
    {
     "name": "stdout",
     "output_type": "stream",
     "text": [
      "2.704957993171967\n",
      "Epoch 0, Loss 2.7049580443742216\n",
      "2.7048738050439427\n",
      "2.7047896621786083\n",
      "2.7047055645141227\n",
      "2.704621511988771\n",
      "2.704537504540967\n",
      "2.7044535421092557\n",
      "2.7043696246323066\n",
      "2.704285752048918\n",
      "2.7042019242980166\n"
     ]
    },
    {
     "name": "stderr",
     "output_type": "stream",
     "text": [
      "\r",
      " 50%|█████     | 151/300 [09:15<08:07,  3.27s/it]"
     ]
    },
    {
     "name": "stdout",
     "output_type": "stream",
     "text": [
      "2.704118141318654\n",
      "Epoch 0, Loss 2.7041181928607734\n",
      "2.70403440305001\n",
      "2.70395070943139\n",
      "2.703867060402224\n",
      "2.7037834559020695\n",
      "2.7036998958706087\n",
      "2.7036163802476483\n",
      "2.703532908973119\n",
      "2.7034494819870774\n",
      "2.703366099229702\n"
     ]
    },
    {
     "name": "stderr",
     "output_type": "stream",
     "text": [
      "\r",
      " 51%|█████     | 152/300 [09:21<09:43,  3.94s/it]"
     ]
    },
    {
     "name": "stdout",
     "output_type": "stream",
     "text": [
      "2.7032827606412964\n",
      "Epoch 0, Loss 2.7032828125235686\n",
      "2.7031994661622862\n",
      "2.7031162157332216\n",
      "2.7030330092947734\n",
      "2.702949846787735\n",
      "2.702866728153024\n",
      "2.7027836533316756\n",
      "2.7027006222648504\n",
      "2.702617634893827\n",
      "2.7025346911600057\n"
     ]
    },
    {
     "name": "stderr",
     "output_type": "stream",
     "text": [
      "\r",
      " 51%|█████     | 153/300 [09:25<09:54,  4.05s/it]"
     ]
    },
    {
     "name": "stdout",
     "output_type": "stream",
     "text": [
      "2.702451791004908\n",
      "Epoch 0, Loss 2.702451843227622\n",
      "2.7023689343701736\n",
      "2.702286121197564\n",
      "2.7022033514289574\n",
      "2.702120625006353\n",
      "2.702037941871869\n",
      "2.701955301967741\n",
      "2.701872705236323\n",
      "2.701790151620086\n",
      "2.701707641061621\n"
     ]
    },
    {
     "name": "stderr",
     "output_type": "stream",
     "text": [
      "\r",
      " 51%|█████▏    | 154/300 [09:28<08:56,  3.67s/it]"
     ]
    },
    {
     "name": "stdout",
     "output_type": "stream",
     "text": [
      "2.701625173503633\n",
      "Epoch 0, Loss 2.7016252260670774\n",
      "2.7015427488889467\n",
      "2.701460367160501\n",
      "2.7013780282613524\n",
      "2.7012957321346733\n",
      "2.7012134787237527\n",
      "2.701131267971992\n",
      "2.7010490998229106\n",
      "2.7009669742201416\n"
     ]
    },
    {
     "name": "stderr",
     "output_type": "stream",
     "text": [
      "\r",
      " 52%|█████▏    | 155/300 [09:31<08:36,  3.56s/it]"
     ]
    },
    {
     "name": "stdout",
     "output_type": "stream",
     "text": [
      "2.7008848911074317\n",
      "2.7008028504286443\n",
      "Epoch 0, Loss 2.7008029033331096\n",
      "2.700720852127754\n",
      "2.700638896148849\n",
      "2.700556982436133\n",
      "2.700475110933922\n",
      "2.700393281586642\n",
      "2.7003114943388344\n",
      "2.7002297491351532\n",
      "2.7001480459203613\n",
      "2.7000663846393356\n"
     ]
    },
    {
     "name": "stderr",
     "output_type": "stream",
     "text": [
      "\r",
      " 52%|█████▏    | 156/300 [09:35<09:04,  3.78s/it]"
     ]
    },
    {
     "name": "stdout",
     "output_type": "stream",
     "text": [
      "2.6999847652370614\n",
      "Epoch 0, Loss 2.699984818482839\n",
      "2.699903187658639\n",
      "2.699821651849276\n",
      "2.699740157754292\n",
      "2.699658705319115\n",
      "2.6995772944892855\n",
      "2.6994959252104516\n",
      "2.6994145974283708\n",
      "2.6993333110889104\n",
      "2.6992520661380444\n"
     ]
    },
    {
     "name": "stderr",
     "output_type": "stream",
     "text": [
      "\r",
      " 52%|█████▏    | 157/300 [09:41<10:18,  4.33s/it]"
     ]
    },
    {
     "name": "stdout",
     "output_type": "stream",
     "text": [
      "2.6991708625218576\n",
      "Epoch 0, Loss 2.699170916109239\n",
      "2.6990897001865424\n",
      "2.6990085790783973\n",
      "2.69892749914383\n",
      "2.698846460329356\n",
      "2.698765462581595\n",
      "2.6986845058472775\n",
      "2.6986035900732355\n",
      "2.6985227152064124\n",
      "2.698441881193853\n"
     ]
    },
    {
     "name": "stderr",
     "output_type": "stream",
     "text": [
      "\r",
      " 53%|█████▎    | 158/300 [09:44<09:22,  3.96s/it]"
     ]
    },
    {
     "name": "stdout",
     "output_type": "stream",
     "text": [
      "2.698361087982712\n",
      "Epoch 0, Loss 2.698361141911991\n",
      "2.698280335520245\n",
      "2.6981996237538164\n",
      "2.698118952630893\n",
      "2.698038322099048\n",
      "2.697957732105958\n",
      "2.697877182599402\n",
      "2.6977966735272654\n",
      "2.697716204837537\n",
      "2.697635776478307\n"
     ]
    },
    {
     "name": "stderr",
     "output_type": "stream",
     "text": [
      "\r",
      " 53%|█████▎    | 159/300 [09:47<08:46,  3.73s/it]"
     ]
    },
    {
     "name": "stdout",
     "output_type": "stream",
     "text": [
      "2.6975553883977694\n",
      "Epoch 0, Loss 2.6975554426692394\n",
      "2.697475040544221\n",
      "2.697394732866062\n",
      "2.697314465311792\n",
      "2.6972342378300165\n",
      "2.6971540503694382\n",
      "2.6970739028788655\n",
      "2.6969937953072045\n",
      "2.6969137276034645\n",
      "2.6968336997167546\n"
     ]
    },
    {
     "name": "stderr",
     "output_type": "stream",
     "text": [
      "\r",
      " 53%|█████▎    | 160/300 [09:52<09:18,  3.99s/it]"
     ]
    },
    {
     "name": "stdout",
     "output_type": "stream",
     "text": [
      "2.6967537115962843\n",
      "Epoch 0, Loss 2.6967537662102403\n",
      "2.696673763191362\n",
      "2.6965938544514\n",
      "2.696513985325904\n",
      "2.696434155764485\n",
      "2.6963543657168487\n",
      "2.696274615132803\n",
      "2.6961949039622537\n",
      "2.6961152321552024\n",
      "2.696035599661751\n"
     ]
    },
    {
     "name": "stderr",
     "output_type": "stream",
     "text": [
      "\r",
      " 54%|█████▎    | 161/300 [09:55<08:54,  3.85s/it]"
     ]
    },
    {
     "name": "stdout",
     "output_type": "stream",
     "text": [
      "2.695956006432099\n",
      "Epoch 0, Loss 2.6959560613888365\n",
      "2.6958764524165453\n",
      "2.6957969375654818\n",
      "2.695717461829401\n",
      "2.6956380251588925\n",
      "2.6955586275046404\n",
      "2.6954792688174267\n",
      "2.6953999490481286\n",
      "2.69532066814772\n",
      "2.695241426067271\n"
     ]
    },
    {
     "name": "stderr",
     "output_type": "stream",
     "text": [
      "\r",
      " 54%|█████▍    | 162/300 [09:59<08:32,  3.71s/it]"
     ]
    },
    {
     "name": "stdout",
     "output_type": "stream",
     "text": [
      "2.695162222757945\n",
      "Epoch 0, Loss 2.6951622780577598\n",
      "2.6950830581710026\n",
      "2.695003932257799\n",
      "2.6949248449697842\n",
      "2.6948457962585017\n",
      "2.69476678607559\n",
      "2.6946878143727826\n",
      "2.694608881101904\n",
      "2.6945299862148753\n",
      "2.6944511296637095\n"
     ]
    },
    {
     "name": "stderr",
     "output_type": "stream",
     "text": [
      "\r",
      " 54%|█████▍    | 163/300 [10:03<08:49,  3.86s/it]"
     ]
    },
    {
     "name": "stdout",
     "output_type": "stream",
     "text": [
      "2.6943723114005125\n",
      "Epoch 0, Loss 2.694372367043702\n",
      "2.6942935313774825\n",
      "2.6942147895469133\n",
      "2.6941360858611874\n",
      "2.694057420272782\n",
      "2.693978792734264\n",
      "2.693900203198294\n",
      "2.693821651617623\n",
      "2.693743137945095\n",
      "2.6936646621336418\n"
     ]
    },
    {
     "name": "stderr",
     "output_type": "stream",
     "text": [
      "\r",
      " 55%|█████▍    | 164/300 [10:07<08:29,  3.75s/it]"
     ]
    },
    {
     "name": "stdout",
     "output_type": "stream",
     "text": [
      "2.693586224136289\n",
      "Epoch 0, Loss 2.693586280123151\n",
      "2.6935078239061516\n",
      "2.693429461396434\n",
      "2.6933511365604326\n",
      "2.6932728493515325\n",
      "2.693194599723209\n",
      "2.6931163876290265\n",
      "2.693038213022638\n",
      "2.692960075857788\n",
      "2.6928819760883056\n"
     ]
    },
    {
     "name": "stderr",
     "output_type": "stream",
     "text": [
      "\r",
      " 55%|█████▌    | 165/300 [10:10<07:55,  3.52s/it]"
     ]
    },
    {
     "name": "stdout",
     "output_type": "stream",
     "text": [
      "2.692803913668114\n",
      "Epoch 0, Loss 2.6928039699989474\n",
      "2.69272588855122\n",
      "2.69264790069172\n",
      "2.6925699500437985\n",
      "2.692492036561729\n",
      "2.6924141601998706\n",
      "2.6923363209126707\n",
      "2.692258518654663\n",
      "2.6921807533804682\n",
      "2.692103025044795\n"
     ]
    },
    {
     "name": "stderr",
     "output_type": "stream",
     "text": [
      "\r",
      " 55%|█████▌    | 166/300 [10:14<08:39,  3.88s/it]"
     ]
    },
    {
     "name": "stdout",
     "output_type": "stream",
     "text": [
      "2.6920253336024365\n",
      "Epoch 0, Loss 2.6920253902775406\n",
      "2.6919476790082735\n",
      "2.6918700612172723\n",
      "2.6917924801844846\n",
      "2.691714935865048\n",
      "2.6916374282141855\n",
      "2.691559957187206\n",
      "2.6914825227395025\n",
      "2.6914051248265527\n",
      "2.691327763403918\n"
     ]
    },
    {
     "name": "stderr",
     "output_type": "stream",
     "text": [
      "\r",
      " 56%|█████▌    | 167/300 [10:18<08:20,  3.76s/it]"
     ]
    },
    {
     "name": "stdout",
     "output_type": "stream",
     "text": [
      "2.691250438427247\n",
      "Epoch 0, Loss 2.691250495446922\n",
      "2.691173149852269\n",
      "2.6910958976348005\n",
      "2.6910186817307378\n",
      "2.690941502096065\n",
      "2.6908643586868464\n",
      "2.6907872514592306\n",
      "2.6907101803694493\n",
      "2.690633145373816\n",
      "2.690556146428728\n"
     ]
    },
    {
     "name": "stderr",
     "output_type": "stream",
     "text": [
      "\r",
      " 56%|█████▌    | 168/300 [10:21<07:50,  3.56s/it]"
     ]
    },
    {
     "name": "stdout",
     "output_type": "stream",
     "text": [
      "2.6904791834906647\n",
      "Epoch 0, Loss 2.6904792408552107\n",
      "2.6904022565161854\n",
      "2.6903253654619337\n",
      "2.6902485102846345\n",
      "2.6901716909410935\n",
      "2.6900949073881995\n",
      "2.690018159582919\n",
      "2.6899414474823033\n",
      "2.6898647710434815\n",
      "2.6897881302236653\n"
     ]
    },
    {
     "name": "stderr",
     "output_type": "stream",
     "text": [
      "\r",
      " 56%|█████▋    | 169/300 [10:24<07:36,  3.48s/it]"
     ]
    },
    {
     "name": "stdout",
     "output_type": "stream",
     "text": [
      "2.689711524980144\n",
      "Epoch 0, Loss 2.6897115826898625\n",
      "2.68963495527029\n",
      "2.6895584210515553\n",
      "2.6894819222814688\n",
      "2.689405458917642\n",
      "2.689329030917765\n",
      "2.6892526382396067\n",
      "2.689176280841014\n",
      "2.6890999586799156\n",
      "2.689023671714316\n"
     ]
    },
    {
     "name": "stderr",
     "output_type": "stream",
     "text": [
      "\r",
      " 57%|█████▋    | 170/300 [10:27<07:21,  3.40s/it]"
     ]
    },
    {
     "name": "stdout",
     "output_type": "stream",
     "text": [
      "2.6889474199022985\n",
      "Epoch 0, Loss 2.6889474779574916\n",
      "2.688871203202025\n",
      "2.6887950215717367\n",
      "2.688718874969751\n",
      "2.6886427633544634\n",
      "2.6885666866843474\n",
      "2.6884906449179535\n",
      "2.6884146380139082\n",
      "2.6883386659309174\n",
      "2.6882627286277603\n"
     ]
    },
    {
     "name": "stderr",
     "output_type": "stream",
     "text": [
      "\r",
      " 57%|█████▋    | 171/300 [10:31<07:10,  3.34s/it]"
     ]
    },
    {
     "name": "stdout",
     "output_type": "stream",
     "text": [
      "2.688186826063297\n",
      "Epoch 0, Loss 2.6881868844642676\n",
      "2.68811095819646\n",
      "2.6880351249862606\n",
      "2.687959326391784\n",
      "2.687883562372194\n",
      "2.687807832886726\n",
      "2.687732137894696\n",
      "2.6876564773554903\n",
      "2.6875808512285744\n",
      "2.6875052594734856\n"
     ]
    },
    {
     "name": "stderr",
     "output_type": "stream",
     "text": [
      "\r",
      " 57%|█████▋    | 172/300 [10:34<06:58,  3.27s/it]"
     ]
    },
    {
     "name": "stdout",
     "output_type": "stream",
     "text": [
      "2.6874297020498377\n",
      "Epoch 0, Loss 2.6874297607968893\n",
      "2.687354178917319\n",
      "2.6872786900356918\n",
      "2.6872032353647928\n",
      "2.6871278148645312\n",
      "2.687052428494894\n",
      "2.6869770762159373\n",
      "2.686901757987793\n",
      "2.6868264737706675\n",
      "2.686751223524838\n"
     ]
    },
    {
     "name": "stderr",
     "output_type": "stream",
     "text": [
      "\r",
      " 58%|█████▊    | 173/300 [10:38<07:34,  3.58s/it]"
     ]
    },
    {
     "name": "stdout",
     "output_type": "stream",
     "text": [
      "2.6866760072106564\n",
      "Epoch 0, Loss 2.686676066304093\n",
      "2.686600824788545\n",
      "2.6865256762190026\n",
      "2.686450561462598\n",
      "2.6863754804799713\n",
      "2.686300433231838\n",
      "2.6862254196789825\n",
      "2.686150439782263\n",
      "2.6860754935026074\n",
      "2.6860005808010174\n"
     ]
    },
    {
     "name": "stderr",
     "output_type": "stream",
     "text": [
      "\r",
      " 58%|█████▊    | 174/300 [10:42<07:39,  3.64s/it]"
     ]
    },
    {
     "name": "stdout",
     "output_type": "stream",
     "text": [
      "2.6859257016385647\n",
      "Epoch 0, Loss 2.685925761078691\n",
      "2.6858508559763914\n",
      "2.6857760437757117\n",
      "2.6857012649978107\n",
      "2.685626519604044\n",
      "2.6855518075558362\n",
      "2.685477128814684\n",
      "2.6854024833421533\n",
      "2.685327871099881\n",
      "2.6852532920495733\n"
     ]
    },
    {
     "name": "stderr",
     "output_type": "stream",
     "text": [
      "\r",
      " 58%|█████▊    | 175/300 [10:45<07:15,  3.48s/it]"
     ]
    },
    {
     "name": "stdout",
     "output_type": "stream",
     "text": [
      "2.685178746153004\n",
      "Epoch 0, Loss 2.685178805940125\n",
      "2.68510423337202\n",
      "2.6850297536685344\n",
      "2.6849553070045316\n",
      "2.6848808933420627\n",
      "2.6848065126432505\n",
      "2.6847321648702853\n",
      "2.6846578499854257\n",
      "2.684583567950996\n",
      "2.6845093187293934\n"
     ]
    },
    {
     "name": "stderr",
     "output_type": "stream",
     "text": [
      "\r",
      " 59%|█████▊    | 176/300 [10:48<07:08,  3.46s/it]"
     ]
    },
    {
     "name": "stdout",
     "output_type": "stream",
     "text": [
      "2.6844351022830812\n",
      "Epoch 0, Loss 2.6844351624175027\n",
      "2.6843609185745887\n",
      "2.6842867675665167\n",
      "2.684212649221529\n",
      "2.6841385635023607\n",
      "2.6840645103718126\n",
      "2.683990489792752\n",
      "2.6839165017281137\n",
      "2.6838425461408995\n",
      "2.6837686229941777\n"
     ]
    },
    {
     "name": "stderr",
     "output_type": "stream",
     "text": [
      "\r",
      " 59%|█████▉    | 177/300 [10:52<07:21,  3.59s/it]"
     ]
    },
    {
     "name": "stdout",
     "output_type": "stream",
     "text": [
      "2.683694732251084\n",
      "Epoch 0, Loss 2.683694792733112\n",
      "2.6836208738748173\n",
      "2.683547047828646\n",
      "2.683473254075902\n",
      "2.6833994925799862\n",
      "2.683325763304361\n",
      "2.6832520662125585\n",
      "2.6831784012681736\n",
      "2.683104768434867\n",
      "2.6830311676763645\n"
     ]
    },
    {
     "name": "stderr",
     "output_type": "stream",
     "text": [
      "\r",
      " 59%|█████▉    | 178/300 [10:56<07:43,  3.80s/it]"
     ]
    },
    {
     "name": "stdout",
     "output_type": "stream",
     "text": [
      "2.682957598956457\n",
      "Epoch 0, Loss 2.6829576597863993\n",
      "2.6828840622390002\n",
      "2.682810557487914\n",
      "2.682737084667184\n",
      "2.682663643740858\n",
      "2.6825902346730506\n",
      "2.682516857427938\n",
      "2.6824435119697627\n",
      "2.682370198262828\n",
      "2.6822969162715027\n"
     ]
    },
    {
     "name": "stderr",
     "output_type": "stream",
     "text": [
      "\r",
      " 60%|█████▉    | 179/300 [10:59<07:11,  3.56s/it]"
     ]
    },
    {
     "name": "stdout",
     "output_type": "stream",
     "text": [
      "2.6822236659602203\n",
      "Epoch 0, Loss 2.6822237271383838\n",
      "2.6821504472934756\n",
      "2.6820772602358254\n",
      "2.6820041047518934\n",
      "2.6819309808063623\n",
      "2.68185788836398\n",
      "2.6817848273895564\n",
      "2.681711797847963\n",
      "2.6816387997041344\n",
      "2.681565832923067\n"
     ]
    },
    {
     "name": "stderr",
     "output_type": "stream",
     "text": [
      "\r",
      " 60%|██████    | 180/300 [11:03<07:15,  3.63s/it]"
     ]
    },
    {
     "name": "stdout",
     "output_type": "stream",
     "text": [
      "2.68149289746982\n",
      "Epoch 0, Loss 2.681492958996513\n",
      "2.681419993309513\n",
      "2.6813471204073287\n",
      "2.681274278728511\n",
      "2.6812014682383647\n",
      "2.681128688902256\n",
      "2.6810559406856136\n",
      "2.6809832235539255\n",
      "2.6809105374727413\n",
      "2.6808378824076713\n"
     ]
    },
    {
     "name": "stderr",
     "output_type": "stream",
     "text": [
      "\r",
      " 60%|██████    | 181/300 [11:09<08:15,  4.16s/it]"
     ]
    },
    {
     "name": "stdout",
     "output_type": "stream",
     "text": [
      "2.6807652583243877\n",
      "Epoch 0, Loss 2.6807653201999186\n",
      "2.68069266518862\n",
      "2.680620102966161\n",
      "2.680547571622863\n",
      "2.6804750711246372\n",
      "2.680402601437456\n",
      "2.6803301625273517\n",
      "2.680257754360414\n",
      "2.680185376902795\n",
      "2.680113030120705\n"
     ]
    },
    {
     "name": "stderr",
     "output_type": "stream",
     "text": [
      "\r",
      " 61%|██████    | 182/300 [11:14<08:58,  4.57s/it]"
     ]
    },
    {
     "name": "stdout",
     "output_type": "stream",
     "text": [
      "2.6800407139804134\n",
      "Epoch 0, Loss 2.6800407762050913\n",
      "2.6799684284482495\n",
      "2.679896173490599\n",
      "2.67982394907391\n",
      "2.6797517551646877\n",
      "2.679679591729495\n",
      "2.6796074587349548\n",
      "2.6795353561477473\n",
      "2.679463283934611\n",
      "2.6793912420623434\n"
     ]
    },
    {
     "name": "stderr",
     "output_type": "stream",
     "text": [
      "\r",
      " 61%|██████    | 183/300 [11:17<07:55,  4.07s/it]"
     ]
    },
    {
     "name": "stdout",
     "output_type": "stream",
     "text": [
      "2.6793192304977986\n",
      "Epoch 0, Loss 2.679319293071933\n",
      "2.6792472492078887\n",
      "2.6791752981595844\n",
      "2.6791033773199135\n",
      "2.679031486655961\n",
      "2.6789596261348687\n",
      "2.6788877957238366\n",
      "2.678815995390121\n",
      "2.6787442251010343\n",
      "2.678672484823948\n"
     ]
    },
    {
     "name": "stderr",
     "output_type": "stream",
     "text": [
      "\r",
      " 61%|██████▏   | 184/300 [11:20<07:14,  3.74s/it]"
     ]
    },
    {
     "name": "stdout",
     "output_type": "stream",
     "text": [
      "2.678600774526288\n",
      "Epoch 0, Loss 2.678600837450189\n",
      "2.6785290941755386\n",
      "2.6784574437392386\n",
      "2.6783858231849833\n",
      "2.6783142324804254\n",
      "2.6782426715932726\n",
      "2.6781711404912896\n",
      "2.6780996391422947\n",
      "2.678028167514164\n",
      "2.677956725574828\n"
     ]
    },
    {
     "name": "stderr",
     "output_type": "stream",
     "text": [
      "\r",
      " 62%|██████▏   | 185/300 [11:26<08:14,  4.30s/it]"
     ]
    },
    {
     "name": "stdout",
     "output_type": "stream",
     "text": [
      "2.677885313292272\n",
      "Epoch 0, Loss 2.67788537656625\n",
      "2.6778139306345383\n",
      "2.677742577569723\n",
      "2.677671254065978\n",
      "2.677599960091509\n",
      "2.677528695614577\n",
      "2.6774574606034984\n",
      "2.6773862550266423\n",
      "2.677315078852435\n",
      "2.6772439320493535\n"
     ]
    },
    {
     "name": "stderr",
     "output_type": "stream",
     "text": [
      "\r",
      " 62%|██████▏   | 186/300 [11:29<07:29,  3.94s/it]"
     ]
    },
    {
     "name": "stdout",
     "output_type": "stream",
     "text": [
      "2.6771728145859317\n",
      "Epoch 0, Loss 2.677172878210298\n",
      "2.6771017264307564\n",
      "2.67703066755247\n",
      "2.6769596379197647\n",
      "2.6768886375013903\n",
      "2.67681766626615\n",
      "2.676746724182897\n",
      "2.6766758112205404\n",
      "2.676604927348043\n",
      "2.676534072534419\n"
     ]
    },
    {
     "name": "stderr",
     "output_type": "stream",
     "text": [
      "\r",
      " 62%|██████▏   | 187/300 [11:32<07:03,  3.75s/it]"
     ]
    },
    {
     "name": "stdout",
     "output_type": "stream",
     "text": [
      "2.676463246748737\n",
      "Epoch 0, Loss 2.6764633107238027\n",
      "2.676392449960117\n",
      "2.676321682137733\n",
      "2.6762509432508104\n",
      "2.676180233268629\n",
      "2.6761095521605185\n",
      "2.676038899895862\n",
      "2.675968276444096\n",
      "2.6758976817747073\n",
      "2.6758271158572344\n"
     ]
    },
    {
     "name": "stderr",
     "output_type": "stream",
     "text": [
      "\r",
      " 63%|██████▎   | 188/300 [11:37<07:25,  3.97s/it]"
     ]
    },
    {
     "name": "stdout",
     "output_type": "stream",
     "text": [
      "2.6757565786612703\n",
      "Epoch 0, Loss 2.6757566429873476\n",
      "2.675686070156454\n",
      "2.6756155903124843\n",
      "2.6755451390991047\n",
      "2.6754747164861117\n",
      "2.6754043224433546\n",
      "2.675333956940733\n",
      "2.6752636199481974\n",
      "2.675193311435748\n",
      "2.675123031373437\n"
     ]
    },
    {
     "name": "stderr",
     "output_type": "stream",
     "text": [
      "\r",
      " 63%|██████▎   | 189/300 [11:40<06:58,  3.77s/it]"
     ]
    },
    {
     "name": "stdout",
     "output_type": "stream",
     "text": [
      "2.6750527797313692\n",
      "Epoch 0, Loss 2.6750528444087704\n",
      "2.6749825564796947\n",
      "2.674912361588621\n",
      "2.6748421950283987\n",
      "2.674772056769334\n",
      "2.674701946781781\n",
      "2.6746318650361443\n",
      "2.674561811502878\n",
      "2.674491786152486\n",
      "2.674421788955522\n"
     ]
    },
    {
     "name": "stderr",
     "output_type": "stream",
     "text": [
      "\r",
      " 63%|██████▎   | 190/300 [11:43<06:46,  3.69s/it]"
     ]
    },
    {
     "name": "stdout",
     "output_type": "stream",
     "text": [
      "2.6743518198825895\n",
      "Epoch 0, Loss 2.6743518849116272\n",
      "2.674281878904342\n",
      "2.6742119659914803\n",
      "2.6741420811147574\n",
      "2.6740722242449726\n",
      "2.6740023953529746\n",
      "2.673932594409665\n",
      "2.673862821385988\n",
      "2.6737930762529403\n",
      "2.6737233589815674\n"
     ]
    },
    {
     "name": "stderr",
     "output_type": "stream",
     "text": [
      "\r",
      " 64%|██████▎   | 191/300 [11:47<06:52,  3.78s/it]"
     ]
    },
    {
     "name": "stdout",
     "output_type": "stream",
     "text": [
      "2.6736536695429614\n",
      "Epoch 0, Loss 2.6736537349239486\n",
      "2.6735840079082647\n",
      "2.673514374048666\n",
      "2.6734447679354036\n",
      "2.673375189539764\n",
      "2.67330563883308\n",
      "2.6732361157867337\n",
      "2.673166620372157\n",
      "2.673097152560824\n",
      "2.6730277123242607\n"
     ]
    },
    {
     "name": "stderr",
     "output_type": "stream",
     "text": [
      "\r",
      " 64%|██████▍   | 192/300 [11:50<06:26,  3.58s/it]"
     ]
    },
    {
     "name": "stdout",
     "output_type": "stream",
     "text": [
      "2.6729582996340393\n",
      "Epoch 0, Loss 2.67295836536729\n",
      "2.6728889144617796\n",
      "2.6728195567791477\n",
      "2.672750226557858\n",
      "2.6726809237696725\n",
      "2.6726116483863973\n",
      "2.6725424003798883\n",
      "2.6724731797220462\n",
      "2.67240398638482\n",
      "2.6723348203402044\n"
     ]
    },
    {
     "name": "stderr",
     "output_type": "stream",
     "text": [
      "\r",
      " 64%|██████▍   | 193/300 [11:54<06:33,  3.67s/it]"
     ]
    },
    {
     "name": "stdout",
     "output_type": "stream",
     "text": [
      "2.6722656815602392\n",
      "Epoch 0, Loss 2.672265747646067\n",
      "2.672196570017013\n",
      "2.672127485682659\n",
      "2.6720584285293576\n",
      "2.671989398529334\n",
      "2.67192039565486\n",
      "2.6718514198782524\n",
      "2.6717824711718765\n",
      "2.6717135495081394\n",
      "2.671644654859497\n"
     ]
    },
    {
     "name": "stderr",
     "output_type": "stream",
     "text": [
      "\r",
      " 65%|██████▍   | 194/300 [11:57<06:07,  3.47s/it]"
     ]
    },
    {
     "name": "stdout",
     "output_type": "stream",
     "text": [
      "2.671575787198447\n",
      "Epoch 0, Loss 2.6715758536371665\n",
      "2.6715069464975376\n",
      "2.6714381327293575\n",
      "2.6713693458665424\n",
      "2.671300585881774\n",
      "2.671231852747776\n",
      "2.671163146437322\n",
      "2.671094466923224\n",
      "2.671025814178344\n",
      "2.6709571881755862\n"
     ]
    },
    {
     "name": "stderr",
     "output_type": "stream",
     "text": [
      "\r",
      " 65%|██████▌   | 195/300 [12:01<05:56,  3.39s/it]"
     ]
    },
    {
     "name": "stdout",
     "output_type": "stream",
     "text": [
      "2.670888588887899\n",
      "Epoch 0, Loss 2.6708886556798253\n",
      "2.6708200162882756\n",
      "2.6707514703497544\n",
      "2.6706829510454173\n",
      "2.670614458348389\n",
      "2.6705459922318413\n",
      "2.670477552668987\n",
      "2.670409139633083\n",
      "2.670340753097432\n",
      "2.6702723930353782\n"
     ]
    },
    {
     "name": "stderr",
     "output_type": "stream",
     "text": [
      "\r",
      " 65%|██████▌   | 196/300 [12:05<06:21,  3.67s/it]"
     ]
    },
    {
     "name": "stdout",
     "output_type": "stream",
     "text": [
      "2.67020405942031\n",
      "Epoch 0, Loss 2.6702041265657575\n",
      "2.6701357522256592\n",
      "2.670067471424903\n",
      "2.6699992169915574\n",
      "2.669930988899186\n",
      "2.6698627871213922\n",
      "2.6697946116318243\n",
      "2.6697264624041734\n",
      "2.6696583394121727\n",
      "2.6695902426295977\n"
     ]
    },
    {
     "name": "stderr",
     "output_type": "stream",
     "text": [
      "\r",
      " 66%|██████▌   | 197/300 [12:08<05:53,  3.44s/it]"
     ]
    },
    {
     "name": "stdout",
     "output_type": "stream",
     "text": [
      "2.6695221720302684\n",
      "Epoch 0, Loss 2.669522239529553\n",
      "2.6694541275880446\n",
      "2.669386109276831\n",
      "2.6693181170705733\n",
      "2.66925015094326\n",
      "2.6691822108689216\n",
      "2.6691142968216304\n",
      "2.6690464087755017\n",
      "2.668978546704691\n",
      "2.6689107105833965\n"
     ]
    },
    {
     "name": "stderr",
     "output_type": "stream",
     "text": [
      "\r",
      " 66%|██████▌   | 198/300 [12:11<05:58,  3.51s/it]"
     ]
    },
    {
     "name": "stdout",
     "output_type": "stream",
     "text": [
      "2.668842900385859\n",
      "Epoch 0, Loss 2.668842968239296\n",
      "2.6687751160863598\n",
      "2.6687073576592213\n",
      "2.668639625078809\n",
      "2.668571918319528\n",
      "2.668504237355826\n",
      "2.668436582162192\n",
      "2.6683689527131547\n",
      "2.668301348983285\n",
      "2.6682337709471944\n"
     ]
    },
    {
     "name": "stderr",
     "output_type": "stream",
     "text": [
      "\r",
      " 66%|██████▋   | 199/300 [12:16<06:27,  3.84s/it]"
     ]
    },
    {
     "name": "stdout",
     "output_type": "stream",
     "text": [
      "2.6681662185795347\n",
      "Epoch 0, Loss 2.6681662867874407\n",
      "2.668098691855\n",
      "2.668031190748323\n",
      "2.6679637152342788\n",
      "2.6678962652876823\n",
      "2.667828840883388\n",
      "2.6677614419962916\n",
      "2.66769406860133\n",
      "2.6676267206734785\n",
      "2.6675593981877537\n"
     ]
    },
    {
     "name": "stderr",
     "output_type": "stream",
     "text": [
      "\r",
      " 67%|██████▋   | 200/300 [12:21<07:10,  4.31s/it]"
     ]
    },
    {
     "name": "stdout",
     "output_type": "stream",
     "text": [
      "2.6674921011192096\n",
      "Epoch 0, Loss 2.6674921696819007\n",
      "2.6674248294429455\n",
      "2.667357583134095\n",
      "2.667290362167834\n",
      "2.6672231665193786\n",
      "2.667155996163982\n",
      "2.667088851076941\n",
      "2.6670217312335867\n",
      "2.6669546366092938\n",
      "2.666887567179474\n"
     ]
    },
    {
     "name": "stderr",
     "output_type": "stream",
     "text": [
      "\r",
      " 67%|██████▋   | 201/300 [12:32<10:16,  6.23s/it]"
     ]
    },
    {
     "name": "stdout",
     "output_type": "stream",
     "text": [
      "2.6668205229195787\n",
      "Epoch 0, Loss 2.666820591837372\n",
      "2.6667535038050993\n",
      "2.6666865098115644\n",
      "2.666619540914543\n",
      "2.6665525970896415\n",
      "2.6664856783125073\n",
      "2.6664187845588243\n",
      "2.6663519158043165\n",
      "2.6662850720247446\n",
      "2.666218253195911\n"
     ]
    },
    {
     "name": "stderr",
     "output_type": "stream",
     "text": [
      "\r",
      " 67%|██████▋   | 202/300 [12:43<12:14,  7.49s/it]"
     ]
    },
    {
     "name": "stdout",
     "output_type": "stream",
     "text": [
      "2.6661514592936513\n",
      "Epoch 0, Loss 2.6661515285668638\n",
      "2.6660846902938458\n",
      "2.666017946172407\n",
      "2.6659512269052903\n",
      "2.665884532468485\n",
      "2.6658178628380225\n",
      "2.6657512179899667\n",
      "2.665684597900426\n",
      "2.6656180025455414\n",
      "2.6655514319014935\n"
     ]
    },
    {
     "name": "stderr",
     "output_type": "stream",
     "text": [
      "\r",
      " 68%|██████▊   | 203/300 [12:48<11:18,  7.00s/it]"
     ]
    },
    {
     "name": "stdout",
     "output_type": "stream",
     "text": [
      "2.6654848859444997\n",
      "Epoch 0, Loss 2.665484955573449\n",
      "2.6654183646508156\n",
      "2.6653518679967356\n",
      "2.6652853959585867\n",
      "2.665218948512739\n",
      "2.6651525256355955\n",
      "2.665086127303599\n",
      "2.6650197534932265\n",
      "2.6649534041809955\n",
      "2.6648870793434574\n"
     ]
    },
    {
     "name": "stderr",
     "output_type": "stream",
     "text": [
      "\r",
      " 68%|██████▊   | 204/300 [12:52<09:46,  6.11s/it]"
     ]
    },
    {
     "name": "stdout",
     "output_type": "stream",
     "text": [
      "2.664820778957202\n",
      "Epoch 0, Loss 2.664820848942205\n",
      "2.664754502998856\n",
      "2.6646882514450803\n",
      "2.6646220242725747\n",
      "2.6645558214580767\n",
      "2.6644896429783564\n",
      "2.664423488810223\n",
      "2.664357358930521\n",
      "2.6642912533161325\n",
      "2.6642251719439733\n"
     ]
    },
    {
     "name": "stderr",
     "output_type": "stream",
     "text": [
      "\r",
      " 68%|██████▊   | 205/300 [12:57<08:42,  5.50s/it]"
     ]
    },
    {
     "name": "stdout",
     "output_type": "stream",
     "text": [
      "2.6641591147909973\n",
      "Epoch 0, Loss 2.6641591851323727\n",
      "2.664093081834193\n",
      "2.664027073050586\n",
      "2.6639610884172376\n",
      "2.6638951279112426\n",
      "2.6638291915097354\n",
      "2.663763279189882\n",
      "2.663697390928887\n",
      "2.66363152670399\n",
      "2.663565686492464\n"
     ]
    },
    {
     "name": "stderr",
     "output_type": "stream",
     "text": [
      "\r",
      " 69%|██████▊   | 206/300 [13:00<07:29,  4.78s/it]"
     ]
    },
    {
     "name": "stdout",
     "output_type": "stream",
     "text": [
      "2.6634998702716173\n",
      "Epoch 0, Loss 2.6634999409696833\n",
      "2.6634340780187973\n",
      "2.6633683097113834\n",
      "2.6633025653267897\n",
      "2.6632368448424666\n",
      "2.6631711482358997\n",
      "2.663105475484609\n",
      "2.663039826566148\n",
      "2.6629742014581086\n",
      "2.6629086001381124\n"
     ]
    },
    {
     "name": "stderr",
     "output_type": "stream",
     "text": [
      "\r",
      " 69%|██████▉   | 207/300 [13:03<06:48,  4.39s/it]"
     ]
    },
    {
     "name": "stdout",
     "output_type": "stream",
     "text": [
      "2.6628430225838198\n",
      "Epoch 0, Loss 2.662843093638895\n",
      "2.6627774687729233\n",
      "2.6627119386831515\n",
      "2.6626464322922656\n",
      "2.6625809495780626\n",
      "2.662515490518373\n",
      "2.662450055091062\n",
      "2.662384643274028\n",
      "2.662319255045205\n",
      "2.6622538903825594\n"
     ]
    },
    {
     "name": "stderr",
     "output_type": "stream",
     "text": [
      "\r",
      " 69%|██████▉   | 208/300 [13:06<06:13,  4.07s/it]"
     ]
    },
    {
     "name": "stdout",
     "output_type": "stream",
     "text": [
      "2.662188549264092\n",
      "Epoch 0, Loss 2.6621886206764946\n",
      "2.662123231667837\n",
      "2.6620579375718654\n",
      "2.661992666954277\n",
      "2.6619274197932086\n",
      "2.6618621960668287\n",
      "2.6617969957533414\n",
      "2.661731818830982\n",
      "2.6616666652780214\n",
      "2.6616015350727618\n"
     ]
    },
    {
     "name": "stderr",
     "output_type": "stream",
     "text": [
      "\r",
      " 70%|██████▉   | 209/300 [13:10<05:51,  3.87s/it]"
     ]
    },
    {
     "name": "stdout",
     "output_type": "stream",
     "text": [
      "2.6615364281935383\n",
      "Epoch 0, Loss 2.6615364999635878\n",
      "2.661471344618722\n",
      "2.6614062843267154\n",
      "2.6613412472959523\n",
      "2.661276233504902\n",
      "2.6612112429320662\n",
      "2.661146275555979\n",
      "2.6610813313552057\n",
      "2.6610164103083482\n",
      "2.6609515123940364\n"
     ]
    },
    {
     "name": "stderr",
     "output_type": "stream",
     "text": [
      "\r",
      " 70%|███████   | 210/300 [13:14<05:54,  3.94s/it]"
     ]
    },
    {
     "name": "stdout",
     "output_type": "stream",
     "text": [
      "2.660886637590937\n",
      "Epoch 0, Loss 2.6608867097189526\n",
      "2.6608217858777468\n",
      "2.6607569572331933\n",
      "2.660692151636042\n",
      "2.660627369065084\n",
      "2.6605626094991486\n",
      "2.6604978729170927\n",
      "2.660433159297807\n",
      "2.660368468620215\n",
      "2.660303800863272\n"
     ]
    },
    {
     "name": "stderr",
     "output_type": "stream",
     "text": [
      "\r",
      " 70%|███████   | 211/300 [13:17<05:25,  3.66s/it]"
     ]
    },
    {
     "name": "stdout",
     "output_type": "stream",
     "text": [
      "2.6602391560059635\n",
      "Epoch 0, Loss 2.6602392284922645\n",
      "2.660174534027308\n",
      "2.660109934906358\n",
      "2.660045358622193\n",
      "2.659980805153928\n",
      "2.6599162744807088\n",
      "2.6598517665817107\n",
      "2.6597872814361425\n",
      "2.659722819023245\n",
      "2.659658379322288\n"
     ]
    },
    {
     "name": "stderr",
     "output_type": "stream",
     "text": [
      "\r",
      " 71%|███████   | 212/300 [13:20<05:14,  3.58s/it]"
     ]
    },
    {
     "name": "stdout",
     "output_type": "stream",
     "text": [
      "2.659593962312574\n",
      "Epoch 0, Loss 2.6595940351574803\n",
      "2.659529567973437\n",
      "2.6594651962842417\n",
      "2.659400847224383\n",
      "2.6593365207732877\n",
      "2.6592722169104155\n",
      "2.6592079356152523\n",
      "2.659143676867319\n",
      "2.6590794406461664\n",
      "2.6590152269313743\n"
     ]
    },
    {
     "name": "stderr",
     "output_type": "stream",
     "text": [
      "\r",
      " 71%|███████   | 213/300 [13:24<05:06,  3.53s/it]"
     ]
    },
    {
     "name": "stdout",
     "output_type": "stream",
     "text": [
      "2.658951035702555\n",
      "Epoch 0, Loss 2.6589511089063866\n",
      "2.658886866939351\n",
      "2.6588227206214334\n",
      "2.6587585967285072\n",
      "2.6586944952403058\n",
      "2.6586304161365932\n",
      "2.658566359397163\n",
      "2.6585023250018405\n",
      "2.6584383129304796\n",
      "2.6583743231629655\n"
     ]
    },
    {
     "name": "stderr",
     "output_type": "stream",
     "text": [
      "\r",
      " 71%|███████▏  | 214/300 [13:28<05:20,  3.73s/it]"
     ]
    },
    {
     "name": "stdout",
     "output_type": "stream",
     "text": [
      "2.6583103556792134\n",
      "Epoch 0, Loss 2.65831042924229\n",
      "2.658246410459168\n",
      "2.6581824874828044\n",
      "2.6581185867301254\n",
      "2.6580547081811687\n",
      "2.657990851815996\n",
      "2.6579270176147016\n",
      "2.6578632055574105\n",
      "2.657799415624274\n",
      "2.657735647795477\n"
     ]
    },
    {
     "name": "stderr",
     "output_type": "stream",
     "text": [
      "\r",
      " 72%|███████▏  | 215/300 [13:33<05:39,  3.99s/it]"
     ]
    },
    {
     "name": "stdout",
     "output_type": "stream",
     "text": [
      "2.657671902051229\n",
      "Epoch 0, Loss 2.657671975973871\n",
      "2.657608178371773\n",
      "2.6575444767373804\n",
      "2.65748079712835\n",
      "2.6574171395250126\n",
      "2.6573535039077254\n",
      "2.6572898902568776\n",
      "2.657226298552885\n",
      "2.657162728776193\n",
      "2.6570991809072773\n"
     ]
    },
    {
     "name": "stderr",
     "output_type": "stream",
     "text": [
      "\r",
      " 72%|███████▏  | 216/300 [13:36<05:20,  3.81s/it]"
     ]
    },
    {
     "name": "stdout",
     "output_type": "stream",
     "text": [
      "2.6570356549266414\n",
      "Epoch 0, Loss 2.65703572920917\n",
      "2.6569721508148176\n",
      "2.656908668552366\n",
      "2.656845208119879\n",
      "2.6567817694979716\n",
      "2.6567183526672946\n",
      "2.656654957608522\n",
      "2.6565915843023578\n",
      "2.656528232729535\n",
      "2.6564649028708147\n"
     ]
    },
    {
     "name": "stderr",
     "output_type": "stream",
     "text": [
      "\r",
      " 72%|███████▏  | 217/300 [13:39<05:08,  3.72s/it]"
     ]
    },
    {
     "name": "stdout",
     "output_type": "stream",
     "text": [
      "2.656401594706987\n",
      "Epoch 0, Loss 2.6564016693497225\n",
      "2.656338308218868\n",
      "2.656275043387305\n",
      "2.6562118001931716\n",
      "2.6561485786173695\n",
      "2.656085378640829\n",
      "2.6560222002445077\n",
      "2.6559590434093936\n",
      "2.655895908116499\n",
      "2.6558327943468663\n"
     ]
    },
    {
     "name": "stderr",
     "output_type": "stream",
     "text": [
      "\r",
      " 73%|███████▎  | 218/300 [13:43<04:59,  3.65s/it]"
     ]
    },
    {
     "name": "stdout",
     "output_type": "stream",
     "text": [
      "2.655769702081565\n",
      "Epoch 0, Loss 2.6557697770848288\n",
      "2.655706631301692\n",
      "2.6556435819883735\n",
      "2.6555805541227606\n",
      "2.655517547686035\n",
      "2.655454562659403\n",
      "2.655391599024101\n",
      "2.6553286567613896\n",
      "2.655265735852561\n",
      "2.655202836278931\n"
     ]
    },
    {
     "name": "stderr",
     "output_type": "stream",
     "text": [
      "\r",
      " 73%|███████▎  | 219/300 [13:47<05:01,  3.73s/it]"
     ]
    },
    {
     "name": "stdout",
     "output_type": "stream",
     "text": [
      "2.655139958021844\n",
      "Epoch 0, Loss 2.6551400333859565\n",
      "2.6550771010626724\n",
      "2.655014265382814\n",
      "2.6549514509636944\n",
      "2.654888657786768\n",
      "2.6548258858335134\n",
      "2.6547631350854375\n",
      "2.654700405524074\n",
      "2.6546376971309833\n",
      "2.6545750098877527\n"
     ]
    },
    {
     "name": "stderr",
     "output_type": "stream",
     "text": [
      "\r",
      " 73%|███████▎  | 220/300 [13:50<04:40,  3.51s/it]"
     ]
    },
    {
     "name": "stdout",
     "output_type": "stream",
     "text": [
      "2.654512343775996\n",
      "Epoch 0, Loss 2.6545124195012786\n",
      "2.654449698777354\n",
      "2.6543870748734935\n",
      "2.6543244720461083\n",
      "2.654261890276919\n",
      "2.654199329547672\n",
      "2.654136789840141\n",
      "2.6540742711361243\n",
      "2.6540117734174498\n",
      "2.6539492966659664\n"
     ]
    },
    {
     "name": "stderr",
     "output_type": "stream",
     "text": [
      "\r",
      " 74%|███████▎  | 221/300 [13:53<04:27,  3.39s/it]"
     ]
    },
    {
     "name": "stdout",
     "output_type": "stream",
     "text": [
      "2.6538868408635556\n",
      "Epoch 0, Loss 2.65388691695033\n",
      "2.653824405992119\n",
      "2.653761992033589\n",
      "2.653699598969922\n",
      "2.6536372267830997\n",
      "2.6535748754551323\n",
      "2.6535125449680512\n",
      "2.6534502353039193\n",
      "2.6533879464448225\n",
      "2.653325678372871\n"
     ]
    },
    {
     "name": "stderr",
     "output_type": "stream",
     "text": [
      "\r",
      " 74%|███████▍  | 222/300 [14:00<05:53,  4.53s/it]"
     ]
    },
    {
     "name": "stdout",
     "output_type": "stream",
     "text": [
      "2.6532634310702035\n",
      "Epoch 0, Loss 2.653263507518791\n",
      "2.6532012045189832\n",
      "2.6531389987013982\n",
      "2.6530768135996636\n",
      "2.653014649196019\n",
      "2.6529525054727294\n",
      "2.6528903824120857\n",
      "2.6528282799964042\n",
      "2.652766198208026\n",
      "2.6527041370293185\n"
     ]
    },
    {
     "name": "stderr",
     "output_type": "stream",
     "text": [
      "\r",
      " 74%|███████▍  | 223/300 [14:04<05:36,  4.37s/it]"
     ]
    },
    {
     "name": "stdout",
     "output_type": "stream",
     "text": [
      "2.6526420964426727\n",
      "Epoch 0, Loss 2.652642173253395\n",
      "2.652580076430506\n",
      "2.65251807697526\n",
      "2.652456098059403\n",
      "2.6523941396654265\n",
      "2.652332201775848\n",
      "2.652270284373209\n",
      "2.6522083874400773\n",
      "2.652146510959045\n",
      "2.652084654912728\n"
     ]
    },
    {
     "name": "stderr",
     "output_type": "stream",
     "text": [
      "\r",
      " 75%|███████▍  | 224/300 [14:08<05:19,  4.20s/it]"
     ]
    },
    {
     "name": "stdout",
     "output_type": "stream",
     "text": [
      "2.652022819283767\n",
      "Epoch 0, Loss 2.652022896456946\n",
      "2.6519610040548303\n",
      "2.651899209208607\n",
      "2.651837434727813\n",
      "2.6517756805951875\n",
      "2.6517139467934956\n",
      "2.651652233305525\n",
      "2.6515905401140905\n",
      "2.651528867202029\n",
      "2.6514672145522025\n"
     ]
    },
    {
     "name": "stderr",
     "output_type": "stream",
     "text": [
      "\r",
      " 75%|███████▌  | 225/300 [14:11<04:59,  3.99s/it]"
     ]
    },
    {
     "name": "stdout",
     "output_type": "stream",
     "text": [
      "2.6514055821474973\n",
      "Epoch 0, Loss 2.651405659683455\n",
      "2.6513439699708226\n",
      "2.6512823780051145\n",
      "2.6512208062333316\n",
      "2.6511592546384555\n",
      "2.6510977232034936\n",
      "2.651036211911478\n",
      "2.6509747207454626\n",
      "2.650913249688525\n",
      "2.6508517987237696\n"
     ]
    },
    {
     "name": "stderr",
     "output_type": "stream",
     "text": [
      "\r",
      " 75%|███████▌  | 226/300 [14:15<04:54,  3.98s/it]"
     ]
    },
    {
     "name": "stdout",
     "output_type": "stream",
     "text": [
      "2.6507903678343214\n",
      "Epoch 0, Loss 2.6507904457333797\n",
      "2.650728957003331\n",
      "2.6506675662139725\n",
      "2.6506061954494435\n",
      "2.650544844692965\n",
      "2.6504835139277816\n",
      "2.650422203137161\n",
      "2.650360912304397\n",
      "2.650299641412803\n",
      "2.650238390445718\n"
     ]
    },
    {
     "name": "stderr",
     "output_type": "stream",
     "text": [
      "\r",
      " 76%|███████▌  | 227/300 [14:18<04:27,  3.67s/it]"
     ]
    },
    {
     "name": "stdout",
     "output_type": "stream",
     "text": [
      "2.6501771593865047\n",
      "Epoch 0, Loss 2.650177237648986\n",
      "2.650115948218548\n",
      "2.6500547569252575\n",
      "2.649993585490064\n",
      "2.6499324338964225\n",
      "2.6498713021278117\n",
      "2.649810190167733\n",
      "2.6497490979997105\n",
      "2.6496880256072926\n",
      "2.6496269729740485\n"
     ]
    },
    {
     "name": "stderr",
     "output_type": "stream",
     "text": [
      "\r",
      " 76%|███████▌  | 228/300 [14:22<04:24,  3.68s/it]"
     ]
    },
    {
     "name": "stdout",
     "output_type": "stream",
     "text": [
      "2.649565940083572\n",
      "Epoch 0, Loss 2.6495660187097987\n",
      "2.6495049269194793\n",
      "2.6494439334654096\n",
      "2.6493829597050245\n",
      "2.649322005622009\n",
      "2.64926107120007\n",
      "2.6492001564229377\n",
      "2.649139261274366\n",
      "2.649078385738128\n",
      "2.649017529798022\n"
     ]
    },
    {
     "name": "stderr",
     "output_type": "stream",
     "text": [
      "\r",
      " 76%|███████▋  | 229/300 [14:28<05:14,  4.43s/it]"
     ]
    },
    {
     "name": "stdout",
     "output_type": "stream",
     "text": [
      "2.64895669343787\n",
      "Epoch 0, Loss 2.648956772428164\n",
      "2.648895876641513\n",
      "2.6488350793928173\n",
      "2.6487743016756697\n",
      "2.6487135434739804\n",
      "2.6486528047716815\n",
      "2.6485920855527274\n"
     ]
    }
   ],
   "source": [
    "# Initialize a non-zero weight_decay (Regularization constant) term and repeat the training and evaluation\n",
    "# Use the best learning rate as obtained from the above exercise, best_lr\n",
    "\n",
    "# You need to try 3 learning rates and submit all 3 graphs along with this notebook pdf to show your weight decay experiments\n",
    "weight_decays = [0.0001, 0.001, 0.01]\n",
    "\n",
    "# FEEL FREE TO EXPERIMENT WITH OTHER VALUES. REPORT OTHER VALUES IF THEY ACHIEVE A BETTER PERFORMANCE\n",
    "\n",
    "# for weight_decay in weight_decays: Train the classifier and plot data\n",
    "# Step 1. train_accu, val_accu, test_accu = train(best_lr, weight_decay)\n",
    "# Step 2. plot_accuracies(train_accu, val_accu, test_accu)\n",
    "\n",
    "weight_decay_info = {}\n",
    "\n",
    "for weight_decay in weight_decays:\n",
    "    # TODO: Train the classifier with different weighty decay and plot\n",
    "    # pass\n",
    "    t_ac, v_ac, te_ac, weights = train(best_learning_rate, weight_decay)\n",
    "    weight_decay_info[weight_decay] = [t_ac, v_ac, te_ac, weights]\n",
    "    \n",
    "    if best_v_ac < max(v_ac):\n",
    "        best_weights = weights\n",
    "        best_learning_rate = learning_rate\n",
    "        best_weight_decay = weight_decay\n",
    "        best_v_ac = max(v_ac)\n",
    "                                       "
   ]
  },
  {
   "cell_type": "code",
   "execution_count": 36,
   "metadata": {},
   "outputs": [
    {
     "data": {
      "image/png": "[encoded data removed]",
      "text/plain": [
       "<Figure size 432x288 with 1 Axes>"
      ]
     },
     "metadata": {
      "needs_background": "light"
     },
     "output_type": "display_data"
    },
    {
     "name": "stdout",
     "output_type": "stream",
     "text": [
      "0.396\n"
     ]
    },
    {
     "data": {
      "image/png": "[encoded data removed]",
      "text/plain": [
       "<Figure size 432x288 with 1 Axes>"
      ]
     },
     "metadata": {
      "needs_background": "light"
     },
     "output_type": "display_data"
    },
    {
     "name": "stdout",
     "output_type": "stream",
     "text": [
      "0.396\n"
     ]
    },
    {
     "data": {
      "image/png": "[encoded data removed]",
      "text/plain": [
       "<Figure size 432x288 with 1 Axes>"
      ]
     },
     "metadata": {
      "needs_background": "light"
     },
     "output_type": "display_data"
    },
    {
     "name": "stdout",
     "output_type": "stream",
     "text": [
      "0.396\n"
     ]
    }
   ],
   "source": [
    "for i, weight_decay in enumerate(weight_decays):\n",
    "    t_ac, v_ac, te_ac = weight_decay_info[weight_decay][0], weight_decay_info[weight_decay][1], weight_decay_info[weight_decay][2]\n",
    "    plt.subplot(3, 1, i + 1)\n",
    "    plt.title(\"Weight decay: {}\".format(weight_decay))\n",
    "    plot_accuracies(t_ac, v_ac, te_ac)\n",
    "\n",
    "plt.show()"
   ]
  },
  {
   "cell_type": "markdown",
   "metadata": {},
   "source": [
    "#### Inline Question 2.\n",
    "\n",
    "Discuss underfitting and overfitting as observed in the 5 graphs obtained by changing the regularization.\n",
    "Which weight_decay term gave you the best classifier performance?\n",
    "HINT: Do not just think in terms of best training set performance, keep in mind that the real utility of a machine learning model is when it performs well on data it has never seen before\n"
   ]
  },
  {
   "cell_type": "markdown",
   "metadata": {},
   "source": [
    "#### Your Answer:\n",
    "There are three cases for my experiment of the weight decay, which are: 0.0001, 0.001, and 0.01. Based on the previous experiment, all of the validation accuracy are the same given different experimental weight_decay value. I observed that the model does not converge given the default epoch, which is 1000. Hence, I modify the total number of epoch value to 3000 to see which weight_decay value would most benifit the final accuracy. Finally, I pick weight_decay = 0.0001 as my best_weight_decay since I got the highest validation accuracy during the experiment. For the weight_decay = 0.001 and 0.01, the model tends to become under-fitting since I observed that the training loss does not converge. Therefore, the training accuracy is very low. This indicates that the weight got too much penalty during the training steps. However, when we observe the weight_decay = 0.0001, the validation accuracy does not improve even though the training accuracy goes higher. Therefore, this is the over-fitting problem."
   ]
  },
  {
   "cell_type": "markdown",
   "metadata": {},
   "source": [
    "### Visualize the filters (10%)\n"
   ]
  },
  {
   "cell_type": "code",
   "execution_count": 39,
   "metadata": {},
   "outputs": [
    {
     "name": "stdout",
     "output_type": "stream",
     "text": [
      "Best LR: 0.01\n",
      "Best Weight Decay: 0.001\n"
     ]
    },
    {
     "data": {
      "image/png": "[encoded data removed]",
      "text/plain": [
       "<Figure size 1152x1152 with 10 Axes>"
      ]
     },
     "metadata": {
      "needs_background": "light"
     },
     "output_type": "display_data"
    }
   ],
   "source": [
    "# These visualizations will only somewhat make sense if your learning rate and weight_decay parameters were\n",
    "# properly chosen in the model. Do your best.\n",
    "\n",
    "# TODO: Run this cell and Show filter visualizations for the best set of weights you obtain.\n",
    "# Report the 2 hyperparameters you used to obtain the best model.\n",
    "\n",
    "# NOTE: You need to set `best_learning_rate` and `best_weight_decay` to the values that gave the highest accuracy\n",
    "print(\"Best LR:\", best_learning_rate)\n",
    "print(\"Best Weight Decay:\", best_weight_decay)\n",
    "\n",
    "# NOTE: You need to set `best_weights` to the weights with the highest accuracy\n",
    "w = best_weights[:, :-1]\n",
    "w = w.reshape(10, 3, 32, 32).transpose(0, 2, 3, 1)\n",
    "\n",
    "w_min, w_max = np.min(w), np.max(w)\n",
    "\n",
    "fig = plt.figure(figsize=(16, 16))\n",
    "classes = [\n",
    "    \"plane\",\n",
    "    \"car\",\n",
    "    \"bird\",\n",
    "    \"cat\",\n",
    "    \"deer\",\n",
    "    \"dog\",\n",
    "    \"frog\",\n",
    "    \"horse\",\n",
    "    \"ship\",\n",
    "    \"truck\",\n",
    "]\n",
    "for i in range(10):\n",
    "    fig.add_subplot(2, 5, i + 1)\n",
    "\n",
    "    # Rescale the weights to be between 0 and 255\n",
    "    wimg = 255.0 * (w[i, :, :, :].squeeze() - w_min) / (w_max - w_min)\n",
    "    plt.imshow(wimg.astype(int))\n",
    "    plt.axis(\"off\")\n",
    "    plt.title(classes[i])\n",
    "plt.show()\n"
   ]
  },
  {
   "cell_type": "markdown",
   "metadata": {},
   "source": [
    "#### Inline Question 3. (10%)\n",
    "\n",
    "a. Compare and contrast the performance of the 2 classifiers i.e. Linear Regression and Logistic Regression.\n",
    "b. Which classifier would you deploy for your multiclass classification project and why?\n"
   ]
  },
  {
   "cell_type": "markdown",
   "metadata": {},
   "source": [
    "#### Your Answer:\n"
   ]
  }
 ],
 "metadata": {
  "kernelspec": {
   "display_name": "Python 3 (ipykernel)",
   "language": "python",
   "name": "python3"
  },
  "language_info": {
   "codemirror_mode": {
    "name": "ipython",
    "version": 3
   },
   "file_extension": ".py",
   "mimetype": "text/x-python",
   "name": "python",
   "nbconvert_exporter": "python",
   "pygments_lexer": "ipython3",
   "version": "3.9.5"
  }
 },
 "nbformat": 4,
 "nbformat_minor": 4
}
