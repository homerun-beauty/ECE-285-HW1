{
 "cells": [
  {
   "cell_type": "markdown",
   "metadata": {},
   "source": [
    "# ECE 285 Assignment 1: Logistic Regression\n",
    "\n",
    "For this part of assignment, you are tasked to implement a logistic regression algorithm for multiclass classification and test it on the CIFAR10 dataset.\n",
    "\n",
    "You sould run the whole notebook and answer the questions in the notebook.\n",
    "\n",
    "TO SUBMIT: PDF of this notebook with all the required outputs and answers.\n"
   ]
  },
  {
   "cell_type": "code",
   "execution_count": 1,
   "metadata": {
    "scrolled": true
   },
   "outputs": [
    {
     "name": "stdout",
     "output_type": "stream",
     "text": [
      "dict_keys(['x_train', 'y_train', 'x_val', 'y_val', 'x_test', 'y_test'])\n",
      "Training Set Data  Shape:  (5000, 3072)\n",
      "Training Set Label Shape:  (5000,)\n",
      "Validation Set Data  Shape:  (250, 3072)\n",
      "Validation Set Label Shape:  (250,)\n",
      "Test Set Data  Shape:  (500, 3072)\n",
      "Test Set Label Shape:  (500,)\n"
     ]
    }
   ],
   "source": [
    "# Prepare Packages\n",
    "import numpy as np\n",
    "import matplotlib.pyplot as plt\n",
    "from tqdm import tqdm\n",
    "\n",
    "from ece285.utils.data_processing import get_cifar10_data\n",
    "\n",
    "# Use a subset of CIFAR10 for KNN assignments\n",
    "dataset = get_cifar10_data(\n",
    "    subset_train=5000,\n",
    "    subset_val=250,\n",
    "    subset_test=500,\n",
    ")\n",
    "\n",
    "print(dataset.keys())\n",
    "print(\"Training Set Data  Shape: \", dataset[\"x_train\"].shape)\n",
    "print(\"Training Set Label Shape: \", dataset[\"y_train\"].shape)\n",
    "print(\"Validation Set Data  Shape: \", dataset[\"x_val\"].shape)\n",
    "print(\"Validation Set Label Shape: \", dataset[\"y_val\"].shape)\n",
    "print(\"Test Set Data  Shape: \", dataset[\"x_test\"].shape)\n",
    "print(\"Test Set Label Shape: \", dataset[\"y_test\"].shape)\n"
   ]
  },
  {
   "cell_type": "markdown",
   "metadata": {},
   "source": [
    "# Logistic Regression for multi-class classification\n"
   ]
  },
  {
   "cell_type": "markdown",
   "metadata": {},
   "source": [
    "A Logistic Regression Algorithm has 3 hyperparameters that you can experiment with:\n",
    "\n",
    "- **Learning rate** - controls how much we change the current weights of the classifier during each update. We set it at a default value of 0.5, and later you are asked to experiment with different values. We recommend looking at the graphs and observing how the performance of the classifier changes with different learning rate.\n",
    "- **Number of Epochs** - An epoch is a complete iterative pass over all of the data in the dataset. During an epoch we predict a label using the classifier and then update the weights of the classifier according the linear classifier update rule for each sample in the training set. We evaluate our models after every 10 epochs and save the accuracies, which are later used to plot the training, validation and test VS epoch curves.\n",
    "- **Weight Decay** - Regularization can be used to constrain the weights of the classifier and prevent their values from blowing up. Regularization helps in combatting overfitting. You will be using the 'weight_decay' term to introduce regularization in the classifier.\n",
    "\n",
    "The only way how a Logistic Regression based classification algorithm is different from a Linear Regression algorithm is that in the former we additionally pass the classifier outputs into a sigmoid function which squashes the output in the (0,1) range. Essentially these values then represent the probabilities of that sample belonging to class particular classes\n"
   ]
  },
  {
   "cell_type": "markdown",
   "metadata": {},
   "source": [
    "### Implementation (40%)\n",
    "\n",
    "You need to implement the Linear Regression method in `algorithms/logistic_regression.py`. You need to fill in the sigmoid function, training function as well as the prediction function.\n"
   ]
  },
  {
   "cell_type": "code",
   "execution_count": 2,
   "metadata": {},
   "outputs": [],
   "source": [
    "# Import the algorithm implementation (TODO: Complete the Logistic Regression in algorithms/logistic_regression.py)\n",
    "from ece285.algorithms import Logistic\n",
    "from ece285.utils.evaluation import get_classification_accuracy\n",
    "\n",
    "num_classes = 10  # Cifar10 dataset has 10 different classes\n",
    "\n",
    "# Initialize hyper-parameters\n",
    "learning_rate = 0.01  # You will be later asked to experiment with different learning rates and report results\n",
    "num_epochs_total = 1000  # Total number of epochs to train the classifier\n",
    "epochs_per_evaluation = 10  # Epochs per step of evaluation; We will evaluate our model regularly during training\n",
    "N, D = dataset[\n",
    "    \"x_train\"\n",
    "].shape  # Get training data shape, N: Number of examples, D:Dimensionality of the data\n",
    "weight_decay = 0.00002\n",
    "\n",
    "x_train = dataset[\"x_train\"].copy()\n",
    "y_train = dataset[\"y_train\"].copy()\n",
    "x_val = dataset[\"x_val\"].copy()\n",
    "y_val = dataset[\"y_val\"].copy()\n",
    "x_test = dataset[\"x_test\"].copy()\n",
    "y_test = dataset[\"y_test\"].copy()\n",
    "\n",
    "# Insert additional scalar term 1 in the samples to account for the bias as discussed in class\n",
    "x_train = np.insert(x_train, D, values=1, axis=1)\n",
    "x_val = np.insert(x_val, D, values=1, axis=1)\n",
    "x_test = np.insert(x_test, D, values=1, axis=1)"
   ]
  },
  {
   "cell_type": "code",
   "execution_count": 3,
   "metadata": {},
   "outputs": [],
   "source": [
    "# Training and evaluation function -> Outputs accuracy data\n",
    "def train(learning_rate_, weight_decay_):\n",
    "    # Create a linear regression object\n",
    "    logistic_regression = Logistic(\n",
    "        num_classes, learning_rate_, epochs_per_evaluation, weight_decay_\n",
    "    )\n",
    "\n",
    "    # Randomly initialize the weights and biases\n",
    "    weights = np.random.randn(num_classes, D + 1) * 0.0001\n",
    "\n",
    "    train_accuracies, val_accuracies, test_accuracies = [], [], []\n",
    "\n",
    "    # Train the classifier\n",
    "    for _ in tqdm(range(int(num_epochs_total / epochs_per_evaluation))):\n",
    "        # Train the classifier on the training data\n",
    "        weights = logistic_regression.train(x_train, y_train, weights)\n",
    "\n",
    "        # Evaluate the trained classifier on the training dataset\n",
    "        y_pred_train = logistic_regression.predict(x_train)\n",
    "        train_accuracies.append(get_classification_accuracy(y_pred_train, y_train))\n",
    "\n",
    "        # Evaluate the trained classifier on the validation dataset\n",
    "        y_pred_val = logistic_regression.predict(x_val)\n",
    "        val_accuracies.append(get_classification_accuracy(y_pred_val, y_val))\n",
    "\n",
    "        # Evaluate the trained classifier on the test dataset\n",
    "        y_pred_test = logistic_regression.predict(x_test)\n",
    "        test_accuracies.append(get_classification_accuracy(y_pred_test, y_test))\n",
    "\n",
    "    return train_accuracies, val_accuracies, test_accuracies, weights\n"
   ]
  },
  {
   "cell_type": "code",
   "execution_count": 4,
   "metadata": {},
   "outputs": [],
   "source": [
    "import matplotlib.pyplot as plt\n",
    "\n",
    "\n",
    "def plot_accuracies(train_acc, val_acc, test_acc):\n",
    "    # Plot Accuracies vs Epochs graph for all the three\n",
    "    epochs = np.arange(0, int(num_epochs_total / epochs_per_evaluation))\n",
    "    plt.ylabel(\"Accuracy\")\n",
    "    plt.xlabel(\"Epoch/10\")\n",
    "    plt.plot(epochs, train_acc, epochs, val_acc, epochs, test_acc)\n",
    "    plt.legend([\"Training\", \"Validation\", \"Testing\"])\n",
    "    plt.show()\n"
   ]
  },
  {
   "cell_type": "code",
   "execution_count": null,
   "metadata": {},
   "outputs": [
    {
     "name": "stderr",
     "output_type": "stream",
     "text": [
      "\r",
      "  0%|          | 0/10 [00:00<?, ?it/s]"
     ]
    },
    {
     "name": "stdout",
     "output_type": "stream",
     "text": [
      "[[0.50060442 0.50034202 0.50032034 ... 0.50004423 0.50013283 0.50070004]\n",
      " [0.50140036 0.50115411 0.50083513 ... 0.50066146 0.50027441 0.50024859]\n",
      " [0.50001144 0.5006436  0.50104388 ... 0.50047977 0.50016188 0.50108515]\n",
      " ...\n",
      " [0.50035791 0.50064028 0.5007159  ... 0.50048069 0.5002329  0.50055252]\n",
      " [0.50089678 0.50094673 0.50016842 ... 0.50061247 0.500161   0.50081559]\n",
      " [0.50037525 0.50046267 0.49989931 ... 0.50055675 0.50023966 0.50004141]]\n",
      "[[-0.         -0.         -0.         ... -0.         -0.\n",
      "  -0.        ]\n",
      " [-0.         -0.         -0.         ... -0.         -0.\n",
      "  -0.69265013]\n",
      " [-0.         -0.         -0.         ... -0.         -0.\n",
      "  -0.69097923]\n",
      " ...\n",
      " [-0.         -0.         -0.         ... -0.         -0.\n",
      "  -0.        ]\n",
      " [-0.         -0.         -0.         ... -0.         -0.\n",
      "  -0.        ]\n",
      " [-0.         -0.         -0.         ... -0.         -0.\n",
      "  -0.        ]]\n"
     ]
    },
    {
     "name": "stderr",
     "output_type": "stream",
     "text": [
      "\r",
      " 10%|█         | 1/10 [00:00<00:02,  3.09it/s]"
     ]
    },
    {
     "name": "stdout",
     "output_type": "stream",
     "text": [
      "Epoch 0, Loss [[0.00013887 0.00013877 0.00013876 ... 0.00013865 0.00013868 0.00013891]\n",
      " [0.00013919 0.00013909 0.00013896 ... 0.00013889 0.00013874 0.00013853]\n",
      " [0.00013863 0.00013889 0.00013905 ... 0.00013882 0.00013869 0.0001382 ]\n",
      " ...\n",
      " [0.00013877 0.00013889 0.00013892 ... 0.00013882 0.00013872 0.00013885]\n",
      " [0.00013899 0.00013901 0.0001387  ... 0.00013887 0.00013869 0.00013896]\n",
      " [0.00013878 0.00013881 0.00013859 ... 0.00013885 0.00013873 0.00013865]]\n",
      "[[0. 0. 0. ... 0. 0. 0.]\n",
      " [0. 0. 0. ... 0. 0. 0.]\n",
      " [0. 0. 0. ... 0. 0. 0.]\n",
      " ...\n",
      " [0. 0. 0. ... 0. 0. 0.]\n",
      " [0. 0. 0. ... 0. 0. 0.]\n",
      " [0. 0. 0. ... 0. 0. 0.]]\n",
      "[[ nan  nan  nan ...  nan  nan  nan]\n",
      " [ nan  nan  nan ...  nan  nan -inf]\n",
      " [ nan  nan  nan ...  nan  nan -inf]\n",
      " ...\n",
      " [ nan  nan  nan ...  nan  nan  nan]\n",
      " [ nan  nan  nan ...  nan  nan  nan]\n",
      " [ nan  nan  nan ...  nan  nan  nan]]\n"
     ]
    },
    {
     "name": "stderr",
     "output_type": "stream",
     "text": [
      "/home/ltsao/private/assignment1/ece285/algorithms/logistic_regression.py:36: RuntimeWarning: overflow encountered in exp\n",
      "  return 1/(1 + np.exp(-z))\n",
      "/home/ltsao/private/assignment1/ece285/algorithms/logistic_regression.py:65: RuntimeWarning: divide by zero encountered in log\n",
      "  log_loss = -1/N * (y_onehot * np.log(probs) + (1 - y_onehot) * np.log(1 - probs))\n",
      "/home/ltsao/private/assignment1/ece285/algorithms/logistic_regression.py:65: RuntimeWarning: invalid value encountered in multiply\n",
      "  log_loss = -1/N * (y_onehot * np.log(probs) + (1 - y_onehot) * np.log(1 - probs))\n",
      "/home/ltsao/private/assignment1/ece285/algorithms/logistic_regression.py:66: RuntimeWarning: divide by zero encountered in log\n",
      "  print(y_onehot * np.log(probs))\n",
      "/home/ltsao/private/assignment1/ece285/algorithms/logistic_regression.py:66: RuntimeWarning: invalid value encountered in multiply\n",
      "  print(y_onehot * np.log(probs))\n",
      " 30%|███       | 3/10 [00:00<00:02,  3.33it/s]"
     ]
    },
    {
     "name": "stdout",
     "output_type": "stream",
     "text": [
      "[[0. 0. 0. ... 0. 0. 0.]\n",
      " [0. 0. 0. ... 0. 0. 0.]\n",
      " [0. 0. 0. ... 0. 0. 0.]\n",
      " ...\n",
      " [0. 0. 0. ... 0. 0. 0.]\n",
      " [0. 0. 0. ... 0. 0. 0.]\n",
      " [0. 0. 0. ... 0. 0. 0.]]\n",
      "[[ nan  nan  nan ...  nan  nan  nan]\n",
      " [ nan  nan  nan ...  nan  nan -inf]\n",
      " [ nan  nan  nan ...  nan  nan -inf]\n",
      " ...\n",
      " [ nan  nan  nan ...  nan  nan  nan]\n",
      " [ nan  nan  nan ...  nan  nan  nan]\n",
      " [ nan  nan  nan ...  nan  nan  nan]]\n"
     ]
    },
    {
     "name": "stderr",
     "output_type": "stream",
     "text": [
      "\r",
      " 40%|████      | 4/10 [00:01<00:01,  3.31it/s]"
     ]
    },
    {
     "name": "stdout",
     "output_type": "stream",
     "text": [
      "[[0. 0. 0. ... 0. 0. 0.]\n",
      " [0. 0. 0. ... 0. 0. 0.]\n",
      " [0. 0. 0. ... 0. 0. 0.]\n",
      " ...\n",
      " [0. 0. 0. ... 0. 0. 0.]\n",
      " [0. 0. 0. ... 0. 0. 0.]\n",
      " [0. 0. 0. ... 0. 0. 0.]]\n",
      "[[ nan  nan  nan ...  nan  nan  nan]\n",
      " [ nan  nan  nan ...  nan  nan -inf]\n",
      " [ nan  nan  nan ...  nan  nan -inf]\n",
      " ...\n",
      " [ nan  nan  nan ...  nan  nan  nan]\n",
      " [ nan  nan  nan ...  nan  nan  nan]\n",
      " [ nan  nan  nan ...  nan  nan  nan]]\n",
      "[[0.00000000e+000 0.00000000e+000 0.00000000e+000 ... 0.00000000e+000\n",
      "  0.00000000e+000 0.00000000e+000]\n",
      " [0.00000000e+000 0.00000000e+000 0.00000000e+000 ... 0.00000000e+000\n",
      "  0.00000000e+000 0.00000000e+000]\n",
      " [6.49005779e-269 0.00000000e+000 0.00000000e+000 ... 0.00000000e+000\n",
      "  9.51379219e-256 0.00000000e+000]\n",
      " ...\n",
      " [0.00000000e+000 0.00000000e+000 0.00000000e+000 ... 0.00000000e+000\n",
      "  0.00000000e+000 0.00000000e+000]\n",
      " [0.00000000e+000 0.00000000e+000 0.00000000e+000 ... 0.00000000e+000\n",
      "  0.00000000e+000 0.00000000e+000]\n",
      " [0.00000000e+000 0.00000000e+000 0.00000000e+000 ... 0.00000000e+000\n",
      "  0.00000000e+000 0.00000000e+000]]\n",
      "[[ nan  nan  nan ...  nan  nan  nan]\n",
      " [ nan  nan  nan ...  nan  nan -inf]\n",
      " [ -0.  nan  nan ...  nan  -0. -inf]\n",
      " ...\n",
      " [ nan  nan  nan ...  nan  nan  nan]\n",
      " [ nan  nan  nan ...  nan  nan  nan]\n",
      " [ nan  nan  nan ...  nan  nan  nan]]\n"
     ]
    },
    {
     "name": "stderr",
     "output_type": "stream",
     "text": [
      " 60%|██████    | 6/10 [00:01<00:01,  3.20it/s]"
     ]
    },
    {
     "name": "stdout",
     "output_type": "stream",
     "text": [
      "[[1.00000000e+000 0.00000000e+000 1.00000000e+000 ... 4.43208955e-291\n",
      "  1.00000000e+000 1.00000000e+000]\n",
      " [1.00000000e+000 0.00000000e+000 1.00000000e+000 ... 0.00000000e+000\n",
      "  1.00000000e+000 1.00000000e+000]\n",
      " [1.00000000e+000 0.00000000e+000 1.00000000e+000 ... 0.00000000e+000\n",
      "  1.00000000e+000 1.00000000e+000]\n",
      " ...\n",
      " [1.00000000e+000 0.00000000e+000 1.00000000e+000 ... 0.00000000e+000\n",
      "  1.00000000e+000 1.00000000e+000]\n",
      " [1.00000000e+000 0.00000000e+000 1.00000000e+000 ... 0.00000000e+000\n",
      "  1.00000000e+000 1.00000000e+000]\n",
      " [1.00000000e+000 0.00000000e+000 1.00000000e+000 ... 5.49177642e-183\n",
      "  1.00000000e+000 1.69192761e-066]]\n",
      "[[ 0. nan  0. ... -0.  0.  0.]\n",
      " [ 0. nan  0. ... nan  0.  0.]\n",
      " [ 0. nan  0. ... nan  0.  0.]\n",
      " ...\n",
      " [ 0. nan  0. ... nan  0.  0.]\n",
      " [ 0. nan  0. ... nan  0.  0.]\n",
      " [ 0. nan  0. ... -0.  0. -0.]]\n",
      "[[0. 1. 0. ... 1. 0. 0.]\n",
      " [0. 1. 0. ... 1. 0. 0.]\n",
      " [0. 1. 0. ... 1. 0. 0.]\n",
      " ...\n",
      " [0. 1. 0. ... 1. 0. 0.]\n",
      " [0. 1. 0. ... 1. 0. 0.]\n",
      " [0. 1. 0. ... 1. 0. 0.]]\n",
      "[[ nan   0.  nan ...   0.  nan  nan]\n",
      " [ nan   0.  nan ...   0.  nan -inf]\n",
      " [ nan   0.  nan ...   0.  nan -inf]\n",
      " ...\n",
      " [ nan   0.  nan ...   0.  nan  nan]\n",
      " [ nan   0.  nan ...   0.  nan  nan]\n",
      " [ nan   0.  nan ...   0.  nan  nan]]\n"
     ]
    },
    {
     "name": "stderr",
     "output_type": "stream",
     "text": [
      "\r",
      " 70%|███████   | 7/10 [00:02<00:01,  2.95it/s]"
     ]
    },
    {
     "name": "stdout",
     "output_type": "stream",
     "text": [
      "[[0. 0. 0. ... 0. 0. 0.]\n",
      " [0. 0. 0. ... 0. 0. 0.]\n",
      " [0. 0. 0. ... 0. 0. 0.]\n",
      " ...\n",
      " [0. 0. 0. ... 0. 0. 0.]\n",
      " [0. 0. 0. ... 0. 0. 0.]\n",
      " [0. 0. 0. ... 0. 0. 0.]]\n",
      "[[ nan  nan  nan ...  nan  nan  nan]\n",
      " [ nan  nan  nan ...  nan  nan -inf]\n",
      " [ nan  nan  nan ...  nan  nan -inf]\n",
      " ...\n",
      " [ nan  nan  nan ...  nan  nan  nan]\n",
      " [ nan  nan  nan ...  nan  nan  nan]\n",
      " [ nan  nan  nan ...  nan  nan  nan]]\n"
     ]
    },
    {
     "name": "stderr",
     "output_type": "stream",
     "text": [
      " 90%|█████████ | 9/10 [00:02<00:00,  3.52it/s]"
     ]
    },
    {
     "name": "stdout",
     "output_type": "stream",
     "text": [
      "[[0. 0. 0. ... 0. 0. 0.]\n",
      " [0. 0. 0. ... 0. 0. 0.]\n",
      " [0. 0. 0. ... 0. 0. 0.]\n",
      " ...\n",
      " [0. 0. 0. ... 0. 0. 0.]\n",
      " [0. 0. 0. ... 0. 0. 0.]\n",
      " [0. 0. 0. ... 0. 0. 0.]]\n",
      "[[ nan  nan  nan ...  nan  nan  nan]\n",
      " [ nan  nan  nan ...  nan  nan -inf]\n",
      " [ nan  nan  nan ...  nan  nan -inf]\n",
      " ...\n",
      " [ nan  nan  nan ...  nan  nan  nan]\n",
      " [ nan  nan  nan ...  nan  nan  nan]\n",
      " [ nan  nan  nan ...  nan  nan  nan]]\n"
     ]
    },
    {
     "name": "stderr",
     "output_type": "stream",
     "text": [
      "\r",
      "100%|██████████| 10/10 [00:03<00:00,  2.85it/s]"
     ]
    },
    {
     "name": "stdout",
     "output_type": "stream",
     "text": [
      "[[0. 0. 0. ... 0. 0. 0.]\n",
      " [0. 0. 0. ... 0. 0. 0.]\n",
      " [0. 0. 0. ... 0. 0. 0.]\n",
      " ...\n",
      " [0. 0. 0. ... 0. 0. 0.]\n",
      " [0. 0. 0. ... 0. 0. 0.]\n",
      " [0. 0. 0. ... 0. 0. 0.]]\n",
      "[[ nan  nan  nan ...  nan  nan  nan]\n",
      " [ nan  nan  nan ...  nan  nan -inf]\n",
      " [ nan  nan  nan ...  nan  nan -inf]\n",
      " ...\n",
      " [ nan  nan  nan ...  nan  nan  nan]\n",
      " [ nan  nan  nan ...  nan  nan  nan]\n",
      " [ nan  nan  nan ...  nan  nan  nan]]\n"
     ]
    },
    {
     "name": "stderr",
     "output_type": "stream",
     "text": [
      "100%|██████████| 10/10 [00:03<00:00,  3.00it/s]\n",
      "  0%|          | 0/10 [00:00<?, ?it/s]"
     ]
    },
    {
     "name": "stdout",
     "output_type": "stream",
     "text": [
      "[[0. 0. 0. ... 0. 0. 0.]\n",
      " [0. 0. 0. ... 0. 0. 0.]\n",
      " [0. 0. 0. ... 0. 0. 0.]\n",
      " ...\n",
      " [0. 0. 0. ... 0. 0. 0.]\n",
      " [0. 0. 0. ... 0. 0. 0.]\n",
      " [0. 0. 0. ... 0. 0. 0.]]\n",
      "[[ nan  nan  nan ...  nan  nan  nan]\n",
      " [ nan  nan  nan ...  nan  nan -inf]\n",
      " [ nan  nan  nan ...  nan  nan -inf]\n",
      " ...\n",
      " [ nan  nan  nan ...  nan  nan  nan]\n",
      " [ nan  nan  nan ...  nan  nan  nan]\n",
      " [ nan  nan  nan ...  nan  nan  nan]]\n"
     ]
    },
    {
     "name": "stderr",
     "output_type": "stream",
     "text": [
      "\r",
      " 10%|█         | 1/10 [00:00<00:05,  1.71it/s]"
     ]
    },
    {
     "name": "stdout",
     "output_type": "stream",
     "text": [
      "Epoch 0, Loss [[nan nan nan ... nan nan nan]\n",
      " [nan nan nan ... nan nan inf]\n",
      " [nan nan nan ... nan nan inf]\n",
      " ...\n",
      " [nan nan nan ... nan nan nan]\n",
      " [nan nan nan ... nan nan nan]\n",
      " [nan nan nan ... nan nan nan]]\n",
      "[[0. 0. 0. ... 0. 0. 0.]\n",
      " [0. 0. 0. ... 0. 0. 0.]\n",
      " [0. 0. 0. ... 0. 0. 0.]\n",
      " ...\n",
      " [0. 0. 0. ... 0. 0. 0.]\n",
      " [0. 0. 0. ... 0. 0. 0.]\n",
      " [0. 0. 0. ... 0. 0. 0.]]\n"
     ]
    },
    {
     "name": "stderr",
     "output_type": "stream",
     "text": [
      "\r",
      " 20%|██        | 2/10 [00:00<00:03,  2.34it/s]"
     ]
    },
    {
     "name": "stdout",
     "output_type": "stream",
     "text": [
      "[[ nan  nan  nan ...  nan  nan  nan]\n",
      " [ nan  nan  nan ...  nan  nan -inf]\n",
      " [ nan  nan  nan ...  nan  nan -inf]\n",
      " ...\n",
      " [ nan  nan  nan ...  nan  nan  nan]\n",
      " [ nan  nan  nan ...  nan  nan  nan]\n",
      " [ nan  nan  nan ...  nan  nan  nan]]\n"
     ]
    },
    {
     "name": "stderr",
     "output_type": "stream",
     "text": [
      "\r",
      " 30%|███       | 3/10 [00:01<00:02,  2.74it/s]"
     ]
    },
    {
     "name": "stdout",
     "output_type": "stream",
     "text": [
      "[[0. 0. 0. ... 0. 0. 0.]\n",
      " [0. 0. 0. ... 0. 0. 0.]\n",
      " [0. 0. 0. ... 0. 0. 0.]\n",
      " ...\n",
      " [0. 0. 0. ... 0. 0. 0.]\n",
      " [0. 0. 0. ... 0. 0. 0.]\n",
      " [0. 0. 0. ... 0. 0. 0.]]\n",
      "[[ nan  nan  nan ...  nan  nan  nan]\n",
      " [ nan  nan  nan ...  nan  nan -inf]\n",
      " [ nan  nan  nan ...  nan  nan -inf]\n",
      " ...\n",
      " [ nan  nan  nan ...  nan  nan  nan]\n",
      " [ nan  nan  nan ...  nan  nan  nan]\n",
      " [ nan  nan  nan ...  nan  nan  nan]]\n"
     ]
    },
    {
     "name": "stderr",
     "output_type": "stream",
     "text": [
      "\r",
      " 40%|████      | 4/10 [00:01<00:01,  3.12it/s]"
     ]
    },
    {
     "name": "stdout",
     "output_type": "stream",
     "text": [
      "[[2.31279127e-055 0.00000000e+000 0.00000000e+000 ... 0.00000000e+000\n",
      "  0.00000000e+000 0.00000000e+000]\n",
      " [1.00000000e+000 0.00000000e+000 0.00000000e+000 ... 0.00000000e+000\n",
      "  1.00000000e+000 0.00000000e+000]\n",
      " [1.00000000e+000 0.00000000e+000 0.00000000e+000 ... 0.00000000e+000\n",
      "  1.00000000e+000 1.00000000e+000]\n",
      " ...\n",
      " [1.00000000e+000 0.00000000e+000 0.00000000e+000 ... 0.00000000e+000\n",
      "  1.00000000e+000 3.76018539e-127]\n",
      " [1.00000000e+000 0.00000000e+000 0.00000000e+000 ... 0.00000000e+000\n",
      "  1.04215673e-070 0.00000000e+000]\n",
      " [1.00000000e+000 0.00000000e+000 0.00000000e+000 ... 0.00000000e+000\n",
      "  0.00000000e+000 0.00000000e+000]]\n",
      "[[ -0.  nan  nan ...  nan  nan  nan]\n",
      " [  0.  nan  nan ...  nan   0. -inf]\n",
      " [  0.  nan  nan ...  nan   0.   0.]\n",
      " ...\n",
      " [  0.  nan  nan ...  nan   0.  -0.]\n",
      " [  0.  nan  nan ...  nan  -0.  nan]\n",
      " [  0.  nan  nan ...  nan  nan  nan]]\n",
      "[[0.00000000e+000 0.00000000e+000 0.00000000e+000 ... 0.00000000e+000\n",
      "  0.00000000e+000 0.00000000e+000]\n",
      " [0.00000000e+000 0.00000000e+000 0.00000000e+000 ... 0.00000000e+000\n",
      "  0.00000000e+000 0.00000000e+000]\n",
      " [0.00000000e+000 0.00000000e+000 0.00000000e+000 ... 0.00000000e+000\n",
      "  0.00000000e+000 1.00000000e+000]\n",
      " ...\n",
      " [0.00000000e+000 0.00000000e+000 0.00000000e+000 ... 0.00000000e+000\n",
      "  0.00000000e+000 7.86476482e-198]\n",
      " [0.00000000e+000 0.00000000e+000 0.00000000e+000 ... 0.00000000e+000\n",
      "  0.00000000e+000 0.00000000e+000]\n",
      " [0.00000000e+000 0.00000000e+000 0.00000000e+000 ... 0.00000000e+000\n",
      "  0.00000000e+000 0.00000000e+000]]\n"
     ]
    },
    {
     "name": "stderr",
     "output_type": "stream",
     "text": [
      "\r",
      " 50%|█████     | 5/10 [00:01<00:01,  3.35it/s]"
     ]
    },
    {
     "name": "stdout",
     "output_type": "stream",
     "text": [
      "[[ nan  nan  nan ...  nan  nan  nan]\n",
      " [ nan  nan  nan ...  nan  nan -inf]\n",
      " [ nan  nan  nan ...  nan  nan   0.]\n",
      " ...\n",
      " [ nan  nan  nan ...  nan  nan  -0.]\n",
      " [ nan  nan  nan ...  nan  nan  nan]\n",
      " [ nan  nan  nan ...  nan  nan  nan]]\n"
     ]
    },
    {
     "name": "stderr",
     "output_type": "stream",
     "text": [
      "\r",
      " 60%|██████    | 6/10 [00:02<00:01,  3.05it/s]"
     ]
    },
    {
     "name": "stdout",
     "output_type": "stream",
     "text": [
      "[[0. 0. 1. ... 0. 0. 0.]\n",
      " [0. 0. 1. ... 0. 0. 0.]\n",
      " [0. 0. 1. ... 0. 0. 1.]\n",
      " ...\n",
      " [0. 0. 1. ... 0. 0. 1.]\n",
      " [0. 0. 1. ... 0. 0. 0.]\n",
      " [0. 0. 1. ... 0. 0. 0.]]\n",
      "[[ nan  nan   0. ...  nan  nan  nan]\n",
      " [ nan  nan   0. ...  nan  nan -inf]\n",
      " [ nan  nan   0. ...  nan  nan   0.]\n",
      " ...\n",
      " [ nan  nan   0. ...  nan  nan   0.]\n",
      " [ nan  nan   0. ...  nan  nan  nan]\n",
      " [ nan  nan   0. ...  nan  nan  nan]]\n"
     ]
    },
    {
     "name": "stderr",
     "output_type": "stream",
     "text": [
      "\r",
      " 70%|███████   | 7/10 [00:02<00:00,  3.14it/s]"
     ]
    },
    {
     "name": "stdout",
     "output_type": "stream",
     "text": [
      "[[0. 0. 0. ... 1. 0. 0.]\n",
      " [0. 0. 0. ... 1. 0. 0.]\n",
      " [0. 0. 0. ... 1. 0. 0.]\n",
      " ...\n",
      " [0. 0. 0. ... 1. 0. 0.]\n",
      " [0. 0. 0. ... 1. 0. 0.]\n",
      " [0. 0. 0. ... 1. 0. 0.]]\n",
      "[[ nan  nan  nan ...   0.  nan  nan]\n",
      " [ nan  nan  nan ...   0.  nan -inf]\n",
      " [ nan  nan  nan ...   0.  nan -inf]\n",
      " ...\n",
      " [ nan  nan  nan ...   0.  nan  nan]\n",
      " [ nan  nan  nan ...   0.  nan  nan]\n",
      " [ nan  nan  nan ...   0.  nan  nan]]\n",
      "[[0.00000000e+000 1.00000000e+000 0.00000000e+000 ... 0.00000000e+000\n",
      "  0.00000000e+000 0.00000000e+000]\n",
      " [0.00000000e+000 1.00000000e+000 0.00000000e+000 ... 0.00000000e+000\n",
      "  0.00000000e+000 0.00000000e+000]\n",
      " [0.00000000e+000 1.00000000e+000 0.00000000e+000 ... 0.00000000e+000\n",
      "  0.00000000e+000 4.60078212e-163]\n",
      " ...\n",
      " [0.00000000e+000 1.00000000e+000 0.00000000e+000 ... 0.00000000e+000\n",
      "  0.00000000e+000 0.00000000e+000]\n",
      " [0.00000000e+000 1.00000000e+000 0.00000000e+000 ... 0.00000000e+000\n",
      "  0.00000000e+000 0.00000000e+000]\n",
      " [0.00000000e+000 1.87809938e-157 0.00000000e+000 ... 0.00000000e+000\n",
      "  0.00000000e+000 0.00000000e+000]]\n",
      "[[          nan    0.                   nan ...           nan\n",
      "            nan           nan]\n",
      " [          nan    0.                   nan ...           nan\n",
      "            nan          -inf]\n",
      " [          nan    0.                   nan ...           nan\n",
      "            nan -373.79514384]\n",
      " ...\n",
      " [          nan    0.                   nan ...           nan\n",
      "            nan           nan]\n",
      " [          nan    0.                   nan ...           nan\n",
      "            nan           nan]\n",
      " [          nan   -0.                   nan ...           nan\n",
      "            nan           nan]]\n"
     ]
    },
    {
     "name": "stderr",
     "output_type": "stream",
     "text": [
      " 90%|█████████ | 9/10 [00:03<00:00,  3.12it/s]"
     ]
    },
    {
     "name": "stdout",
     "output_type": "stream",
     "text": [
      "[[0.00000000e+000 0.00000000e+000 0.00000000e+000 ... 0.00000000e+000\n",
      "  0.00000000e+000 5.60099632e-070]\n",
      " [0.00000000e+000 0.00000000e+000 0.00000000e+000 ... 0.00000000e+000\n",
      "  0.00000000e+000 1.00000000e+000]\n",
      " [0.00000000e+000 0.00000000e+000 0.00000000e+000 ... 0.00000000e+000\n",
      "  0.00000000e+000 1.00000000e+000]\n",
      " ...\n",
      " [0.00000000e+000 0.00000000e+000 0.00000000e+000 ... 0.00000000e+000\n",
      "  0.00000000e+000 1.00000000e+000]\n",
      " [0.00000000e+000 0.00000000e+000 0.00000000e+000 ... 0.00000000e+000\n",
      "  0.00000000e+000 1.00000000e+000]\n",
      " [0.00000000e+000 0.00000000e+000 0.00000000e+000 ... 0.00000000e+000\n",
      "  0.00000000e+000 4.93609761e-198]]\n",
      "[[nan nan nan ... nan nan -0.]\n",
      " [nan nan nan ... nan nan  0.]\n",
      " [nan nan nan ... nan nan  0.]\n",
      " ...\n",
      " [nan nan nan ... nan nan  0.]\n",
      " [nan nan nan ... nan nan  0.]\n",
      " [nan nan nan ... nan nan -0.]]\n"
     ]
    },
    {
     "name": "stderr",
     "output_type": "stream",
     "text": [
      "100%|██████████| 10/10 [00:03<00:00,  2.94it/s]"
     ]
    },
    {
     "name": "stdout",
     "output_type": "stream",
     "text": [
      "[[0.         0.         0.         ... 0.         0.         0.        ]\n",
      " [0.         0.         0.         ... 0.         1.         0.        ]\n",
      " [0.         0.         0.         ... 0.         1.         0.        ]\n",
      " ...\n",
      " [0.         0.         0.         ... 0.         1.         0.        ]\n",
      " [0.         0.         0.         ... 0.         0.99987624 0.        ]\n",
      " [0.         0.         0.         ... 0.         0.         0.        ]]\n",
      "[[ nan  nan  nan ...  nan  nan  nan]\n",
      " [ nan  nan  nan ...  nan   0. -inf]\n",
      " [ nan  nan  nan ...  nan   0. -inf]\n",
      " ...\n",
      " [ nan  nan  nan ...  nan   0.  nan]\n",
      " [ nan  nan  nan ...  nan  -0.  nan]\n",
      " [ nan  nan  nan ...  nan  nan  nan]]\n"
     ]
    },
    {
     "name": "stderr",
     "output_type": "stream",
     "text": [
      "\n",
      " 10%|█         | 1/10 [00:00<00:02,  3.40it/s]"
     ]
    },
    {
     "name": "stdout",
     "output_type": "stream",
     "text": [
      "[[0. 0. 0. ... 0. 0. 0.]\n",
      " [0. 0. 0. ... 0. 0. 0.]\n",
      " [0. 0. 0. ... 0. 0. 0.]\n",
      " ...\n",
      " [0. 0. 0. ... 0. 0. 0.]\n",
      " [0. 0. 0. ... 0. 0. 0.]\n",
      " [0. 0. 0. ... 0. 0. 0.]]\n",
      "[[ nan  nan  nan ...  nan  nan  nan]\n",
      " [ nan  nan  nan ...  nan  nan -inf]\n",
      " [ nan  nan  nan ...  nan  nan -inf]\n",
      " ...\n",
      " [ nan  nan  nan ...  nan  nan  nan]\n",
      " [ nan  nan  nan ...  nan  nan  nan]\n",
      " [ nan  nan  nan ...  nan  nan  nan]]\n",
      "Epoch 0, Loss [[nan nan nan ... nan nan nan]\n",
      " [nan nan nan ... nan nan inf]\n",
      " [nan nan nan ... nan nan inf]\n",
      " ...\n",
      " [nan nan nan ... nan nan nan]\n",
      " [nan nan nan ... nan nan nan]\n",
      " [nan nan nan ... nan nan nan]]\n"
     ]
    },
    {
     "name": "stderr",
     "output_type": "stream",
     "text": [
      "\r",
      " 20%|██        | 2/10 [00:00<00:02,  4.00it/s]"
     ]
    },
    {
     "name": "stdout",
     "output_type": "stream",
     "text": [
      "[[0.00000000e+000 0.00000000e+000 0.00000000e+000 ... 0.00000000e+000\n",
      "  0.00000000e+000 0.00000000e+000]\n",
      " [1.00000000e+000 0.00000000e+000 0.00000000e+000 ... 0.00000000e+000\n",
      "  0.00000000e+000 0.00000000e+000]\n",
      " [1.00000000e+000 0.00000000e+000 0.00000000e+000 ... 0.00000000e+000\n",
      "  0.00000000e+000 0.00000000e+000]\n",
      " ...\n",
      " [1.00000000e+000 0.00000000e+000 0.00000000e+000 ... 0.00000000e+000\n",
      "  0.00000000e+000 0.00000000e+000]\n",
      " [1.67057262e-177 0.00000000e+000 0.00000000e+000 ... 0.00000000e+000\n",
      "  0.00000000e+000 0.00000000e+000]\n",
      " [0.00000000e+000 0.00000000e+000 0.00000000e+000 ... 0.00000000e+000\n",
      "  0.00000000e+000 0.00000000e+000]]\n",
      "[[ nan  nan  nan ...  nan  nan  nan]\n",
      " [  0.  nan  nan ...  nan  nan -inf]\n",
      " [  0.  nan  nan ...  nan  nan -inf]\n",
      " ...\n",
      " [  0.  nan  nan ...  nan  nan  nan]\n",
      " [ -0.  nan  nan ...  nan  nan  nan]\n",
      " [ nan  nan  nan ...  nan  nan  nan]]\n",
      "[[0. 0. 0. ... 0. 0. 0.]\n",
      " [0. 0. 0. ... 0. 0. 0.]\n",
      " [0. 0. 0. ... 0. 0. 0.]\n",
      " ...\n",
      " [0. 0. 0. ... 0. 0. 0.]\n",
      " [0. 0. 0. ... 0. 0. 0.]\n",
      " [0. 0. 0. ... 0. 0. 0.]]\n",
      "[[ nan  nan  nan ...  nan  nan  nan]\n",
      " [ nan  nan  nan ...  nan  nan -inf]\n",
      " [ nan  nan  nan ...  nan  nan -inf]\n",
      " ...\n",
      " [ nan  nan  nan ...  nan  nan  nan]\n",
      " [ nan  nan  nan ...  nan  nan  nan]\n",
      " [ nan  nan  nan ...  nan  nan  nan]]\n"
     ]
    },
    {
     "name": "stderr",
     "output_type": "stream",
     "text": [
      " 40%|████      | 4/10 [00:01<00:01,  3.35it/s]"
     ]
    },
    {
     "name": "stdout",
     "output_type": "stream",
     "text": [
      "[[0. 0. 0. ... 0. 0. 0.]\n",
      " [0. 0. 0. ... 0. 0. 0.]\n",
      " [0. 0. 0. ... 0. 0. 0.]\n",
      " ...\n",
      " [0. 0. 0. ... 0. 0. 0.]\n",
      " [0. 0. 0. ... 0. 0. 0.]\n",
      " [0. 0. 0. ... 0. 0. 0.]]\n",
      "[[ nan  nan  nan ...  nan  nan  nan]\n",
      " [ nan  nan  nan ...  nan  nan -inf]\n",
      " [ nan  nan  nan ...  nan  nan -inf]\n",
      " ...\n",
      " [ nan  nan  nan ...  nan  nan  nan]\n",
      " [ nan  nan  nan ...  nan  nan  nan]\n",
      " [ nan  nan  nan ...  nan  nan  nan]]\n"
     ]
    },
    {
     "name": "stderr",
     "output_type": "stream",
     "text": [
      "\r",
      " 50%|█████     | 5/10 [00:01<00:01,  3.07it/s]"
     ]
    },
    {
     "name": "stdout",
     "output_type": "stream",
     "text": [
      "[[0.00000000e+000 0.00000000e+000 0.00000000e+000 ... 0.00000000e+000\n",
      "  0.00000000e+000 0.00000000e+000]\n",
      " [0.00000000e+000 0.00000000e+000 0.00000000e+000 ... 0.00000000e+000\n",
      "  0.00000000e+000 0.00000000e+000]\n",
      " [0.00000000e+000 0.00000000e+000 0.00000000e+000 ... 0.00000000e+000\n",
      "  0.00000000e+000 0.00000000e+000]\n",
      " ...\n",
      " [0.00000000e+000 0.00000000e+000 0.00000000e+000 ... 0.00000000e+000\n",
      "  0.00000000e+000 0.00000000e+000]\n",
      " [0.00000000e+000 0.00000000e+000 0.00000000e+000 ... 0.00000000e+000\n",
      "  0.00000000e+000 0.00000000e+000]\n",
      " [0.00000000e+000 0.00000000e+000 9.77435238e-173 ... 0.00000000e+000\n",
      "  0.00000000e+000 0.00000000e+000]]\n",
      "[[ nan  nan  nan ...  nan  nan  nan]\n",
      " [ nan  nan  nan ...  nan  nan -inf]\n",
      " [ nan  nan  nan ...  nan  nan -inf]\n",
      " ...\n",
      " [ nan  nan  nan ...  nan  nan  nan]\n",
      " [ nan  nan  nan ...  nan  nan  nan]\n",
      " [ nan  nan  -0. ...  nan  nan  nan]]\n",
      "[[0.00000000e+000 0.00000000e+000 1.00000000e+000 ... 0.00000000e+000\n",
      "  0.00000000e+000 0.00000000e+000]\n",
      " [0.00000000e+000 0.00000000e+000 1.00000000e+000 ... 0.00000000e+000\n",
      "  1.00000000e+000 0.00000000e+000]\n",
      " [0.00000000e+000 0.00000000e+000 1.00000000e+000 ... 0.00000000e+000\n",
      "  1.00000000e+000 1.00000000e+000]\n",
      " ...\n",
      " [0.00000000e+000 0.00000000e+000 1.00000000e+000 ... 0.00000000e+000\n",
      "  3.17609588e-155 3.19068378e-301]\n",
      " [0.00000000e+000 0.00000000e+000 1.00000000e+000 ... 0.00000000e+000\n",
      "  0.00000000e+000 0.00000000e+000]\n",
      " [0.00000000e+000 0.00000000e+000 1.00000000e+000 ... 0.00000000e+000\n",
      "  0.00000000e+000 0.00000000e+000]]\n",
      "[[ nan  nan   0. ...  nan  nan  nan]\n",
      " [ nan  nan   0. ...  nan   0. -inf]\n",
      " [ nan  nan   0. ...  nan   0.   0.]\n",
      " ...\n",
      " [ nan  nan   0. ...  nan  -0.  -0.]\n",
      " [ nan  nan   0. ...  nan  nan  nan]\n",
      " [ nan  nan   0. ...  nan  nan  nan]]\n"
     ]
    },
    {
     "name": "stderr",
     "output_type": "stream",
     "text": [
      "\r",
      " 60%|██████    | 6/10 [00:01<00:01,  3.35it/s]"
     ]
    },
    {
     "name": "stdout",
     "output_type": "stream",
     "text": [
      "[[0.00000000e+000 1.47379577e-020 0.00000000e+000 ... 1.00000000e+000\n",
      "  0.00000000e+000 0.00000000e+000]\n",
      " [0.00000000e+000 1.00000000e+000 0.00000000e+000 ... 0.00000000e+000\n",
      "  0.00000000e+000 0.00000000e+000]\n",
      " [0.00000000e+000 1.00000000e+000 0.00000000e+000 ... 2.02627077e-070\n",
      "  0.00000000e+000 1.00000000e+000]\n",
      " ...\n",
      " [0.00000000e+000 1.00000000e+000 0.00000000e+000 ... 9.51082137e-077\n",
      "  0.00000000e+000 1.00000000e+000]\n",
      " [0.00000000e+000 3.30283086e-231 0.00000000e+000 ... 1.00000000e+000\n",
      "  0.00000000e+000 0.00000000e+000]\n",
      " [0.00000000e+000 0.00000000e+000 0.00000000e+000 ... 1.00000000e+000\n",
      "  0.00000000e+000 0.00000000e+000]]\n",
      "[[ nan  -0.  nan ...   0.  nan  nan]\n",
      " [ nan   0.  nan ...  nan  nan -inf]\n",
      " [ nan   0.  nan ...  -0.  nan   0.]\n",
      " ...\n",
      " [ nan   0.  nan ...  -0.  nan   0.]\n",
      " [ nan  -0.  nan ...   0.  nan  nan]\n",
      " [ nan  nan  nan ...   0.  nan  nan]]\n"
     ]
    },
    {
     "name": "stderr",
     "output_type": "stream",
     "text": [
      "\r",
      " 70%|███████   | 7/10 [00:02<00:01,  2.83it/s]"
     ]
    },
    {
     "name": "stdout",
     "output_type": "stream",
     "text": [
      "[[0.00000000e+000 0.00000000e+000 0.00000000e+000 ... 0.00000000e+000\n",
      "  0.00000000e+000 0.00000000e+000]\n",
      " [1.00000000e+000 0.00000000e+000 0.00000000e+000 ... 0.00000000e+000\n",
      "  0.00000000e+000 0.00000000e+000]\n",
      " [1.00000000e+000 0.00000000e+000 0.00000000e+000 ... 0.00000000e+000\n",
      "  0.00000000e+000 0.00000000e+000]\n",
      " ...\n",
      " [1.00000000e+000 0.00000000e+000 0.00000000e+000 ... 0.00000000e+000\n",
      "  0.00000000e+000 0.00000000e+000]\n",
      " [1.00000000e+000 0.00000000e+000 0.00000000e+000 ... 0.00000000e+000\n",
      "  0.00000000e+000 0.00000000e+000]\n",
      " [1.41261646e-156 0.00000000e+000 0.00000000e+000 ... 0.00000000e+000\n",
      "  0.00000000e+000 0.00000000e+000]]\n",
      "[[ nan  nan  nan ...  nan  nan  nan]\n",
      " [  0.  nan  nan ...  nan  nan -inf]\n",
      " [  0.  nan  nan ...  nan  nan -inf]\n",
      " ...\n",
      " [  0.  nan  nan ...  nan  nan  nan]\n",
      " [  0.  nan  nan ...  nan  nan  nan]\n",
      " [ -0.  nan  nan ...  nan  nan  nan]]\n"
     ]
    },
    {
     "name": "stderr",
     "output_type": "stream",
     "text": [
      "\r",
      " 80%|████████  | 8/10 [00:02<00:00,  2.67it/s]"
     ]
    },
    {
     "name": "stdout",
     "output_type": "stream",
     "text": [
      "[[0.00000000e+000 0.00000000e+000 0.00000000e+000 ... 0.00000000e+000\n",
      "  0.00000000e+000 0.00000000e+000]\n",
      " [0.00000000e+000 0.00000000e+000 0.00000000e+000 ... 0.00000000e+000\n",
      "  1.00000000e+000 0.00000000e+000]\n",
      " [0.00000000e+000 0.00000000e+000 0.00000000e+000 ... 0.00000000e+000\n",
      "  1.00000000e+000 1.03727439e-132]\n",
      " ...\n",
      " [0.00000000e+000 0.00000000e+000 0.00000000e+000 ... 0.00000000e+000\n",
      "  1.00000000e+000 0.00000000e+000]\n",
      " [0.00000000e+000 0.00000000e+000 0.00000000e+000 ... 0.00000000e+000\n",
      "  0.00000000e+000 0.00000000e+000]\n",
      " [0.00000000e+000 0.00000000e+000 0.00000000e+000 ... 0.00000000e+000\n",
      "  0.00000000e+000 0.00000000e+000]]\n",
      "[[          nan           nan           nan ...           nan\n",
      "            nan           nan]\n",
      " [          nan           nan           nan ...           nan\n",
      "     0.                  -inf]\n",
      " [          nan           nan           nan ...           nan\n",
      "     0.         -303.90463578]\n",
      " ...\n",
      " [          nan           nan           nan ...           nan\n",
      "     0.                   nan]\n",
      " [          nan           nan           nan ...           nan\n",
      "            nan           nan]\n",
      " [          nan           nan           nan ...           nan\n",
      "            nan           nan]]\n"
     ]
    },
    {
     "name": "stderr",
     "output_type": "stream",
     "text": [
      "\r",
      " 90%|█████████ | 9/10 [00:03<00:00,  2.65it/s]"
     ]
    },
    {
     "name": "stdout",
     "output_type": "stream",
     "text": [
      "[[0.00000000e+000 0.00000000e+000 0.00000000e+000 ... 0.00000000e+000\n",
      "  0.00000000e+000 0.00000000e+000]\n",
      " [0.00000000e+000 0.00000000e+000 0.00000000e+000 ... 0.00000000e+000\n",
      "  0.00000000e+000 5.66260069e-038]\n",
      " [0.00000000e+000 0.00000000e+000 0.00000000e+000 ... 0.00000000e+000\n",
      "  0.00000000e+000 1.00000000e+000]\n",
      " ...\n",
      " [0.00000000e+000 0.00000000e+000 0.00000000e+000 ... 0.00000000e+000\n",
      "  0.00000000e+000 1.00000000e+000]\n",
      " [0.00000000e+000 0.00000000e+000 0.00000000e+000 ... 0.00000000e+000\n",
      "  0.00000000e+000 1.13619580e-101]\n",
      " [0.00000000e+000 0.00000000e+000 0.00000000e+000 ... 0.00000000e+000\n",
      "  0.00000000e+000 0.00000000e+000]]\n",
      "[[         nan          nan          nan ...          nan          nan\n",
      "           nan]\n",
      " [         nan          nan          nan ...          nan          nan\n",
      "  -85.76435026]\n",
      " [         nan          nan          nan ...          nan          nan\n",
      "    0.        ]\n",
      " ...\n",
      " [         nan          nan          nan ...          nan          nan\n",
      "    0.        ]\n",
      " [         nan          nan          nan ...          nan          nan\n",
      "   -0.        ]\n",
      " [         nan          nan          nan ...          nan          nan\n",
      "           nan]]\n"
     ]
    },
    {
     "name": "stderr",
     "output_type": "stream",
     "text": [
      "100%|██████████| 10/10 [00:03<00:00,  2.86it/s]\n",
      "  0%|          | 0/10 [00:00<?, ?it/s]"
     ]
    },
    {
     "name": "stdout",
     "output_type": "stream",
     "text": [
      "[[0. 1. 0. ... 0. 0. 0.]\n",
      " [0. 1. 0. ... 0. 0. 0.]\n",
      " [0. 1. 0. ... 0. 0. 0.]\n",
      " ...\n",
      " [0. 1. 0. ... 0. 0. 0.]\n",
      " [0. 1. 0. ... 0. 0. 0.]\n",
      " [0. 1. 0. ... 0. 0. 0.]]\n",
      "[[ nan   0.  nan ...  nan  nan  nan]\n",
      " [ nan   0.  nan ...  nan  nan -inf]\n",
      " [ nan   0.  nan ...  nan  nan -inf]\n",
      " ...\n",
      " [ nan   0.  nan ...  nan  nan  nan]\n",
      " [ nan   0.  nan ...  nan  nan  nan]\n",
      " [ nan   0.  nan ...  nan  nan  nan]]\n"
     ]
    },
    {
     "name": "stderr",
     "output_type": "stream",
     "text": [
      "\r",
      " 10%|█         | 1/10 [00:00<00:02,  3.06it/s]"
     ]
    },
    {
     "name": "stdout",
     "output_type": "stream",
     "text": [
      "Epoch 0, Loss [[nan inf nan ... nan nan nan]\n",
      " [nan inf nan ... nan nan inf]\n",
      " [nan inf nan ... nan nan inf]\n",
      " ...\n",
      " [nan inf nan ... nan nan nan]\n",
      " [nan inf nan ... nan nan nan]\n",
      " [nan inf nan ... nan nan nan]]\n",
      "[[0. 0. 0. ... 0. 0. 0.]\n",
      " [0. 0. 0. ... 0. 0. 0.]\n",
      " [0. 0. 0. ... 0. 0. 0.]\n",
      " ...\n",
      " [0. 0. 0. ... 0. 0. 0.]\n",
      " [0. 0. 0. ... 0. 0. 0.]\n",
      " [0. 0. 0. ... 0. 0. 0.]]\n",
      "[[ nan  nan  nan ...  nan  nan  nan]\n",
      " [ nan  nan  nan ...  nan  nan -inf]\n",
      " [ nan  nan  nan ...  nan  nan -inf]\n",
      " ...\n",
      " [ nan  nan  nan ...  nan  nan  nan]\n",
      " [ nan  nan  nan ...  nan  nan  nan]\n",
      " [ nan  nan  nan ...  nan  nan  nan]]\n"
     ]
    },
    {
     "name": "stderr",
     "output_type": "stream",
     "text": [
      " 30%|███       | 3/10 [00:01<00:02,  2.88it/s]"
     ]
    },
    {
     "name": "stdout",
     "output_type": "stream",
     "text": [
      "[[0. 0. 0. ... 1. 0. 0.]\n",
      " [0. 0. 0. ... 1. 0. 0.]\n",
      " [0. 0. 0. ... 1. 0. 0.]\n",
      " ...\n",
      " [0. 0. 0. ... 1. 0. 0.]\n",
      " [0. 0. 0. ... 1. 0. 0.]\n",
      " [0. 0. 0. ... 1. 0. 0.]]\n",
      "[[ nan  nan  nan ...   0.  nan  nan]\n",
      " [ nan  nan  nan ...   0.  nan -inf]\n",
      " [ nan  nan  nan ...   0.  nan -inf]\n",
      " ...\n",
      " [ nan  nan  nan ...   0.  nan  nan]\n",
      " [ nan  nan  nan ...   0.  nan  nan]\n",
      " [ nan  nan  nan ...   0.  nan  nan]]\n"
     ]
    },
    {
     "name": "stderr",
     "output_type": "stream",
     "text": [
      "\r",
      " 40%|████      | 4/10 [00:01<00:02,  2.61it/s]"
     ]
    },
    {
     "name": "stdout",
     "output_type": "stream",
     "text": [
      "[[0.00000000e+000 0.00000000e+000 0.00000000e+000 ... 0.00000000e+000\n",
      "  0.00000000e+000 0.00000000e+000]\n",
      " [0.00000000e+000 0.00000000e+000 0.00000000e+000 ... 0.00000000e+000\n",
      "  1.00000000e+000 0.00000000e+000]\n",
      " [0.00000000e+000 0.00000000e+000 0.00000000e+000 ... 0.00000000e+000\n",
      "  1.00000000e+000 1.46925589e-061]\n",
      " ...\n",
      " [0.00000000e+000 0.00000000e+000 0.00000000e+000 ... 0.00000000e+000\n",
      "  2.05400656e-247 0.00000000e+000]\n",
      " [0.00000000e+000 0.00000000e+000 0.00000000e+000 ... 0.00000000e+000\n",
      "  0.00000000e+000 0.00000000e+000]\n",
      " [0.00000000e+000 0.00000000e+000 0.00000000e+000 ... 0.00000000e+000\n",
      "  0.00000000e+000 0.00000000e+000]]\n",
      "[[         nan          nan          nan ...          nan          nan\n",
      "           nan]\n",
      " [         nan          nan          nan ...          nan    0.\n",
      "          -inf]\n",
      " [         nan          nan          nan ...          nan    0.\n",
      "  -140.0729346]\n",
      " ...\n",
      " [         nan          nan          nan ...          nan   -0.\n",
      "           nan]\n",
      " [         nan          nan          nan ...          nan          nan\n",
      "           nan]\n",
      " [         nan          nan          nan ...          nan          nan\n",
      "           nan]]\n",
      "[[0.00000000e+000 0.00000000e+000 8.07873134e-163 ... 0.00000000e+000\n",
      "  0.00000000e+000 0.00000000e+000]\n",
      " [4.51245781e-190 0.00000000e+000 0.00000000e+000 ... 0.00000000e+000\n",
      "  0.00000000e+000 7.56256086e-089]\n",
      " [1.00000000e+000 0.00000000e+000 0.00000000e+000 ... 0.00000000e+000\n",
      "  0.00000000e+000 1.00000000e+000]\n",
      " ...\n",
      " [0.00000000e+000 0.00000000e+000 0.00000000e+000 ... 0.00000000e+000\n",
      "  0.00000000e+000 1.00000000e+000]\n",
      " [0.00000000e+000 0.00000000e+000 1.04313514e-070 ... 0.00000000e+000\n",
      "  0.00000000e+000 5.04598484e-171]\n",
      " [0.00000000e+000 0.00000000e+000 1.94521064e-002 ... 0.00000000e+000\n",
      "  0.00000000e+000 0.00000000e+000]]\n",
      "[[          nan           nan   -0.         ...           nan\n",
      "            nan           nan]\n",
      " [  -0.                   nan           nan ...           nan\n",
      "            nan -202.90686341]\n",
      " [   0.                   nan           nan ...           nan\n",
      "            nan    0.        ]\n",
      " ...\n",
      " [          nan           nan           nan ...           nan\n",
      "            nan    0.        ]\n",
      " [          nan           nan   -0.         ...           nan\n",
      "            nan   -0.        ]\n",
      " [          nan           nan   -0.         ...           nan\n",
      "            nan           nan]]\n"
     ]
    },
    {
     "name": "stderr",
     "output_type": "stream",
     "text": [
      " 60%|██████    | 6/10 [00:02<00:01,  2.55it/s]"
     ]
    },
    {
     "name": "stdout",
     "output_type": "stream",
     "text": [
      "[[0.00000000e+000 0.00000000e+000 0.00000000e+000 ... 0.00000000e+000\n",
      "  0.00000000e+000 0.00000000e+000]\n",
      " [0.00000000e+000 0.00000000e+000 0.00000000e+000 ... 0.00000000e+000\n",
      "  0.00000000e+000 0.00000000e+000]\n",
      " [0.00000000e+000 0.00000000e+000 0.00000000e+000 ... 0.00000000e+000\n",
      "  2.72818627e-293 0.00000000e+000]\n",
      " ...\n",
      " [0.00000000e+000 0.00000000e+000 0.00000000e+000 ... 0.00000000e+000\n",
      "  0.00000000e+000 0.00000000e+000]\n",
      " [0.00000000e+000 0.00000000e+000 0.00000000e+000 ... 0.00000000e+000\n",
      "  0.00000000e+000 0.00000000e+000]\n",
      " [0.00000000e+000 0.00000000e+000 2.23514755e-263 ... 0.00000000e+000\n",
      "  0.00000000e+000 0.00000000e+000]]\n",
      "[[ nan  nan  nan ...  nan  nan  nan]\n",
      " [ nan  nan  nan ...  nan  nan -inf]\n",
      " [ nan  nan  nan ...  nan  -0. -inf]\n",
      " ...\n",
      " [ nan  nan  nan ...  nan  nan  nan]\n",
      " [ nan  nan  nan ...  nan  nan  nan]\n",
      " [ nan  nan  -0. ...  nan  nan  nan]]\n",
      "[[0. 0. 1. ... 0. 0. 0.]\n",
      " [0. 0. 1. ... 0. 1. 0.]\n",
      " [0. 0. 1. ... 0. 1. 0.]\n",
      " ...\n",
      " [0. 0. 1. ... 0. 1. 0.]\n",
      " [0. 0. 1. ... 0. 0. 0.]\n",
      " [0. 0. 1. ... 0. 0. 0.]]\n"
     ]
    },
    {
     "name": "stderr",
     "output_type": "stream",
     "text": [
      "\r",
      " 70%|███████   | 7/10 [00:02<00:01,  2.60it/s]"
     ]
    },
    {
     "name": "stdout",
     "output_type": "stream",
     "text": [
      "[[ nan  nan   0. ...  nan  nan  nan]\n",
      " [ nan  nan   0. ...  nan   0. -inf]\n",
      " [ nan  nan   0. ...  nan   0. -inf]\n",
      " ...\n",
      " [ nan  nan   0. ...  nan   0.  nan]\n",
      " [ nan  nan   0. ...  nan  nan  nan]\n",
      " [ nan  nan   0. ...  nan  nan  nan]]\n"
     ]
    },
    {
     "name": "stderr",
     "output_type": "stream",
     "text": [
      "\r",
      " 80%|████████  | 8/10 [00:02<00:00,  2.98it/s]"
     ]
    },
    {
     "name": "stdout",
     "output_type": "stream",
     "text": [
      "[[0. 0. 0. ... 0. 0. 0.]\n",
      " [0. 0. 0. ... 0. 0. 0.]\n",
      " [0. 0. 0. ... 0. 0. 0.]\n",
      " ...\n",
      " [0. 0. 0. ... 0. 0. 0.]\n",
      " [0. 0. 0. ... 0. 0. 0.]\n",
      " [0. 0. 0. ... 0. 0. 0.]]\n",
      "[[ nan  nan  nan ...  nan  nan  nan]\n",
      " [ nan  nan  nan ...  nan  nan -inf]\n",
      " [ nan  nan  nan ...  nan  nan -inf]\n",
      " ...\n",
      " [ nan  nan  nan ...  nan  nan  nan]\n",
      " [ nan  nan  nan ...  nan  nan  nan]\n",
      " [ nan  nan  nan ...  nan  nan  nan]]\n"
     ]
    },
    {
     "name": "stderr",
     "output_type": "stream",
     "text": [
      "\r",
      " 90%|█████████ | 9/10 [00:03<00:00,  2.86it/s]"
     ]
    },
    {
     "name": "stdout",
     "output_type": "stream",
     "text": [
      "[[0.00000000e+000 0.00000000e+000 0.00000000e+000 ... 0.00000000e+000\n",
      "  0.00000000e+000 0.00000000e+000]\n",
      " [0.00000000e+000 0.00000000e+000 0.00000000e+000 ... 0.00000000e+000\n",
      "  0.00000000e+000 0.00000000e+000]\n",
      " [1.00000000e+000 0.00000000e+000 0.00000000e+000 ... 0.00000000e+000\n",
      "  0.00000000e+000 1.00000000e+000]\n",
      " ...\n",
      " [0.00000000e+000 0.00000000e+000 0.00000000e+000 ... 0.00000000e+000\n",
      "  0.00000000e+000 3.26505315e-291]\n",
      " [0.00000000e+000 0.00000000e+000 0.00000000e+000 ... 0.00000000e+000\n",
      "  0.00000000e+000 0.00000000e+000]\n",
      " [0.00000000e+000 0.00000000e+000 0.00000000e+000 ... 0.00000000e+000\n",
      "  0.00000000e+000 0.00000000e+000]]\n",
      "[[ nan  nan  nan ...  nan  nan  nan]\n",
      " [ nan  nan  nan ...  nan  nan -inf]\n",
      " [  0.  nan  nan ...  nan  nan   0.]\n",
      " ...\n",
      " [ nan  nan  nan ...  nan  nan  -0.]\n",
      " [ nan  nan  nan ...  nan  nan  nan]\n",
      " [ nan  nan  nan ...  nan  nan  nan]]\n",
      "[[0. 0. 0. ... 0. 0. 0.]\n",
      " [0. 0. 0. ... 0. 0. 0.]\n",
      " [0. 0. 0. ... 0. 0. 1.]\n",
      " ...\n",
      " [0. 0. 0. ... 0. 0. 1.]\n",
      " [0. 0. 0. ... 0. 0. 0.]\n",
      " [0. 0. 0. ... 0. 0. 0.]]\n",
      "[[ nan  nan  nan ...  nan  nan  nan]\n",
      " [ nan  nan  nan ...  nan  nan -inf]\n",
      " [ nan  nan  nan ...  nan  nan   0.]\n",
      " ...\n",
      " [ nan  nan  nan ...  nan  nan   0.]\n",
      " [ nan  nan  nan ...  nan  nan  nan]\n",
      " [ nan  nan  nan ...  nan  nan  nan]]\n"
     ]
    },
    {
     "name": "stderr",
     "output_type": "stream",
     "text": [
      "100%|██████████| 10/10 [00:03<00:00,  2.56it/s]\n",
      "  0%|          | 0/10 [00:00<?, ?it/s]"
     ]
    },
    {
     "name": "stdout",
     "output_type": "stream",
     "text": [
      "[[0.00000000e+000 8.32518820e-006 0.00000000e+000 ... 0.00000000e+000\n",
      "  0.00000000e+000 0.00000000e+000]\n",
      " [0.00000000e+000 1.00000000e+000 0.00000000e+000 ... 0.00000000e+000\n",
      "  1.27784160e-139 0.00000000e+000]\n",
      " [1.00000000e+000 1.00000000e+000 0.00000000e+000 ... 0.00000000e+000\n",
      "  9.99999943e-001 0.00000000e+000]\n",
      " ...\n",
      " [0.00000000e+000 1.00000000e+000 0.00000000e+000 ... 0.00000000e+000\n",
      "  0.00000000e+000 0.00000000e+000]\n",
      " [0.00000000e+000 0.00000000e+000 0.00000000e+000 ... 0.00000000e+000\n",
      "  0.00000000e+000 0.00000000e+000]\n",
      " [0.00000000e+000 0.00000000e+000 0.00000000e+000 ... 0.00000000e+000\n",
      "  0.00000000e+000 0.00000000e+000]]\n",
      "[[ nan  -0.  nan ...  nan  nan  nan]\n",
      " [ nan   0.  nan ...  nan  -0. -inf]\n",
      " [  0.   0.  nan ...  nan  -0. -inf]\n",
      " ...\n",
      " [ nan   0.  nan ...  nan  nan  nan]\n",
      " [ nan  nan  nan ...  nan  nan  nan]\n",
      " [ nan  nan  nan ...  nan  nan  nan]]\n"
     ]
    },
    {
     "name": "stderr",
     "output_type": "stream",
     "text": [
      "\r",
      " 10%|█         | 1/10 [00:00<00:03,  2.51it/s]"
     ]
    },
    {
     "name": "stdout",
     "output_type": "stream",
     "text": [
      "Epoch 0, Loss [[           nan 1.66504457e-09            nan ...            nan\n",
      "             nan            nan]\n",
      " [           nan            inf            nan ...            nan\n",
      "  0.00000000e+00            inf]\n",
      " [           inf            inf            nan ...            nan\n",
      "  3.33562067e-03            inf]\n",
      " ...\n",
      " [           nan            inf            nan ...            nan\n",
      "             nan            nan]\n",
      " [           nan            nan            nan ...            nan\n",
      "             nan            nan]\n",
      " [           nan            nan            nan ...            nan\n",
      "             nan            nan]]\n",
      "[[0.00000000e+000 0.00000000e+000 0.00000000e+000 ... 0.00000000e+000\n",
      "  0.00000000e+000 0.00000000e+000]\n",
      " [0.00000000e+000 0.00000000e+000 0.00000000e+000 ... 0.00000000e+000\n",
      "  3.87098930e-298 0.00000000e+000]\n",
      " [0.00000000e+000 0.00000000e+000 0.00000000e+000 ... 0.00000000e+000\n",
      "  2.77577631e-191 0.00000000e+000]\n",
      " ...\n",
      " [0.00000000e+000 0.00000000e+000 0.00000000e+000 ... 0.00000000e+000\n",
      "  0.00000000e+000 0.00000000e+000]\n",
      " [0.00000000e+000 0.00000000e+000 0.00000000e+000 ... 0.00000000e+000\n",
      "  0.00000000e+000 0.00000000e+000]\n",
      " [0.00000000e+000 0.00000000e+000 0.00000000e+000 ... 0.00000000e+000\n",
      "  0.00000000e+000 0.00000000e+000]]\n",
      "[[ nan  nan  nan ...  nan  nan  nan]\n",
      " [ nan  nan  nan ...  nan  -0. -inf]\n",
      " [ nan  nan  nan ...  nan  -0. -inf]\n",
      " ...\n",
      " [ nan  nan  nan ...  nan  nan  nan]\n",
      " [ nan  nan  nan ...  nan  nan  nan]\n",
      " [ nan  nan  nan ...  nan  nan  nan]]\n"
     ]
    },
    {
     "name": "stderr",
     "output_type": "stream",
     "text": [
      "\r",
      " 20%|██        | 2/10 [00:00<00:03,  2.58it/s]"
     ]
    },
    {
     "name": "stdout",
     "output_type": "stream",
     "text": [
      "[[0.00000000e+000 0.00000000e+000 0.00000000e+000 ... 1.00000000e+000\n",
      "  0.00000000e+000 0.00000000e+000]\n",
      " [0.00000000e+000 0.00000000e+000 0.00000000e+000 ... 0.00000000e+000\n",
      "  1.00000000e+000 0.00000000e+000]\n",
      " [0.00000000e+000 0.00000000e+000 0.00000000e+000 ... 9.80509653e-001\n",
      "  1.00000000e+000 1.00000000e+000]\n",
      " ...\n",
      " [0.00000000e+000 0.00000000e+000 0.00000000e+000 ... 6.56141946e-031\n",
      "  1.69274174e-177 1.00000000e+000]\n",
      " [0.00000000e+000 0.00000000e+000 0.00000000e+000 ... 1.00000000e+000\n",
      "  0.00000000e+000 0.00000000e+000]\n",
      " [0.00000000e+000 0.00000000e+000 0.00000000e+000 ... 1.00000000e+000\n",
      "  0.00000000e+000 0.00000000e+000]]\n",
      "[[ nan  nan  nan ...   0.  nan  nan]\n",
      " [ nan  nan  nan ...  nan   0. -inf]\n",
      " [ nan  nan  nan ...  -0.   0.   0.]\n",
      " ...\n",
      " [ nan  nan  nan ...  -0.  -0.   0.]\n",
      " [ nan  nan  nan ...   0.  nan  nan]\n",
      " [ nan  nan  nan ...   0.  nan  nan]]\n"
     ]
    },
    {
     "name": "stderr",
     "output_type": "stream",
     "text": [
      " 40%|████      | 4/10 [00:01<00:02,  2.27it/s]"
     ]
    },
    {
     "name": "stdout",
     "output_type": "stream",
     "text": [
      "[[0.00000000e+00 1.00000000e+00 0.00000000e+00 ... 0.00000000e+00\n",
      "  0.00000000e+00 0.00000000e+00]\n",
      " [1.00000000e+00 1.00000000e+00 0.00000000e+00 ... 0.00000000e+00\n",
      "  0.00000000e+00 0.00000000e+00]\n",
      " [1.00000000e+00 1.00000000e+00 0.00000000e+00 ... 0.00000000e+00\n",
      "  0.00000000e+00 1.00000000e+00]\n",
      " ...\n",
      " [1.10621525e-63 1.00000000e+00 0.00000000e+00 ... 0.00000000e+00\n",
      "  0.00000000e+00 0.00000000e+00]\n",
      " [2.68594035e-13 1.00000000e+00 0.00000000e+00 ... 0.00000000e+00\n",
      "  0.00000000e+00 0.00000000e+00]\n",
      " [8.47577953e-86 9.99420320e-01 0.00000000e+00 ... 0.00000000e+00\n",
      "  0.00000000e+00 0.00000000e+00]]\n",
      "[[ nan   0.  nan ...  nan  nan  nan]\n",
      " [  0.   0.  nan ...  nan  nan -inf]\n",
      " [  0.   0.  nan ...  nan  nan   0.]\n",
      " ...\n",
      " [ -0.   0.  nan ...  nan  nan  nan]\n",
      " [ -0.   0.  nan ...  nan  nan  nan]\n",
      " [ -0.  -0.  nan ...  nan  nan  nan]]\n",
      "[[0.00000000e+00 0.00000000e+00 0.00000000e+00 ... 0.00000000e+00\n",
      "  0.00000000e+00 0.00000000e+00]\n",
      " [0.00000000e+00 0.00000000e+00 0.00000000e+00 ... 0.00000000e+00\n",
      "  0.00000000e+00 1.00000000e+00]\n",
      " [0.00000000e+00 0.00000000e+00 0.00000000e+00 ... 0.00000000e+00\n",
      "  0.00000000e+00 1.00000000e+00]\n",
      " ...\n",
      " [0.00000000e+00 0.00000000e+00 0.00000000e+00 ... 0.00000000e+00\n",
      "  0.00000000e+00 1.00000000e+00]\n",
      " [0.00000000e+00 0.00000000e+00 0.00000000e+00 ... 0.00000000e+00\n",
      "  0.00000000e+00 1.84494509e-12]\n",
      " [0.00000000e+00 0.00000000e+00 0.00000000e+00 ... 0.00000000e+00\n",
      "  0.00000000e+00 0.00000000e+00]]\n",
      "[[nan nan nan ... nan nan nan]\n",
      " [nan nan nan ... nan nan  0.]\n",
      " [nan nan nan ... nan nan  0.]\n",
      " ...\n",
      " [nan nan nan ... nan nan  0.]\n",
      " [nan nan nan ... nan nan -0.]\n",
      " [nan nan nan ... nan nan nan]]\n"
     ]
    },
    {
     "name": "stderr",
     "output_type": "stream",
     "text": [
      "\r",
      " 50%|█████     | 5/10 [00:02<00:03,  1.46it/s]"
     ]
    },
    {
     "name": "stdout",
     "output_type": "stream",
     "text": [
      "[[0.00000000e+000 0.00000000e+000 2.99420115e-218 ... 0.00000000e+000\n",
      "  0.00000000e+000 0.00000000e+000]\n",
      " [0.00000000e+000 0.00000000e+000 0.00000000e+000 ... 0.00000000e+000\n",
      "  1.00000000e+000 0.00000000e+000]\n",
      " [0.00000000e+000 0.00000000e+000 0.00000000e+000 ... 0.00000000e+000\n",
      "  1.00000000e+000 0.00000000e+000]\n",
      " ...\n",
      " [0.00000000e+000 0.00000000e+000 0.00000000e+000 ... 0.00000000e+000\n",
      "  3.52938299e-100 0.00000000e+000]\n",
      " [0.00000000e+000 0.00000000e+000 7.63856751e-001 ... 0.00000000e+000\n",
      "  0.00000000e+000 0.00000000e+000]\n",
      " [0.00000000e+000 0.00000000e+000 5.32399468e-051 ... 0.00000000e+000\n",
      "  0.00000000e+000 0.00000000e+000]]\n",
      "[[ nan  nan  -0. ...  nan  nan  nan]\n",
      " [ nan  nan  nan ...  nan   0. -inf]\n",
      " [ nan  nan  nan ...  nan   0. -inf]\n",
      " ...\n",
      " [ nan  nan  nan ...  nan  -0.  nan]\n",
      " [ nan  nan  -0. ...  nan  nan  nan]\n",
      " [ nan  nan  -0. ...  nan  nan  nan]]\n"
     ]
    },
    {
     "name": "stderr",
     "output_type": "stream",
     "text": [
      "\r",
      " 60%|██████    | 6/10 [00:03<00:02,  1.70it/s]"
     ]
    },
    {
     "name": "stdout",
     "output_type": "stream",
     "text": [
      "[[0. 0. 0. ... 0. 0. 0.]\n",
      " [0. 0. 0. ... 0. 0. 0.]\n",
      " [0. 0. 0. ... 0. 0. 0.]\n",
      " ...\n",
      " [0. 0. 0. ... 0. 0. 0.]\n",
      " [0. 0. 0. ... 0. 0. 0.]\n",
      " [0. 0. 0. ... 0. 0. 0.]]\n",
      "[[ nan  nan  nan ...  nan  nan  nan]\n",
      " [ nan  nan  nan ...  nan  nan -inf]\n",
      " [ nan  nan  nan ...  nan  nan -inf]\n",
      " ...\n",
      " [ nan  nan  nan ...  nan  nan  nan]\n",
      " [ nan  nan  nan ...  nan  nan  nan]\n",
      " [ nan  nan  nan ...  nan  nan  nan]]\n"
     ]
    },
    {
     "name": "stderr",
     "output_type": "stream",
     "text": [
      " 80%|████████  | 8/10 [00:04<00:01,  1.75it/s]"
     ]
    },
    {
     "name": "stdout",
     "output_type": "stream",
     "text": [
      "[[0. 0. 1. ... 0. 0. 0.]\n",
      " [0. 0. 1. ... 0. 0. 0.]\n",
      " [0. 0. 1. ... 0. 0. 0.]\n",
      " ...\n",
      " [0. 0. 1. ... 0. 0. 0.]\n",
      " [0. 0. 1. ... 0. 0. 0.]\n",
      " [0. 0. 1. ... 0. 0. 0.]]\n",
      "[[ nan  nan   0. ...  nan  nan  nan]\n",
      " [ nan  nan   0. ...  nan  nan -inf]\n",
      " [ nan  nan   0. ...  nan  nan -inf]\n",
      " ...\n",
      " [ nan  nan   0. ...  nan  nan  nan]\n",
      " [ nan  nan   0. ...  nan  nan  nan]\n",
      " [ nan  nan   0. ...  nan  nan  nan]]\n",
      "[[0.00000000e+000 0.00000000e+000 0.00000000e+000 ... 4.67758799e-288\n",
      "  0.00000000e+000 0.00000000e+000]\n",
      " [0.00000000e+000 0.00000000e+000 0.00000000e+000 ... 0.00000000e+000\n",
      "  0.00000000e+000 0.00000000e+000]\n",
      " [0.00000000e+000 0.00000000e+000 0.00000000e+000 ... 0.00000000e+000\n",
      "  0.00000000e+000 0.00000000e+000]\n",
      " ...\n",
      " [0.00000000e+000 0.00000000e+000 0.00000000e+000 ... 0.00000000e+000\n",
      "  0.00000000e+000 0.00000000e+000]\n",
      " [0.00000000e+000 0.00000000e+000 0.00000000e+000 ... 0.00000000e+000\n",
      "  0.00000000e+000 0.00000000e+000]\n",
      " [0.00000000e+000 0.00000000e+000 0.00000000e+000 ... 8.40115297e-083\n",
      "  0.00000000e+000 0.00000000e+000]]\n",
      "[[ nan  nan  nan ...  -0.  nan  nan]\n",
      " [ nan  nan  nan ...  nan  nan -inf]\n",
      " [ nan  nan  nan ...  nan  nan -inf]\n",
      " ...\n",
      " [ nan  nan  nan ...  nan  nan  nan]\n",
      " [ nan  nan  nan ...  nan  nan  nan]\n",
      " [ nan  nan  nan ...  -0.  nan  nan]]\n"
     ]
    },
    {
     "name": "stderr",
     "output_type": "stream",
     "text": [
      "100%|██████████| 10/10 [00:05<00:00,  1.82it/s]"
     ]
    },
    {
     "name": "stdout",
     "output_type": "stream",
     "text": [
      "[[0.00000000e+00 0.00000000e+00 0.00000000e+00 ... 1.00000000e+00\n",
      "  0.00000000e+00 0.00000000e+00]\n",
      " [0.00000000e+00 0.00000000e+00 0.00000000e+00 ... 0.00000000e+00\n",
      "  1.00000000e+00 0.00000000e+00]\n",
      " [0.00000000e+00 0.00000000e+00 0.00000000e+00 ... 1.72685176e-70\n",
      "  1.00000000e+00 1.00000000e+00]\n",
      " ...\n",
      " [0.00000000e+00 0.00000000e+00 0.00000000e+00 ... 2.08417787e-94\n",
      "  1.00000000e+00 4.00696976e-06]\n",
      " [0.00000000e+00 0.00000000e+00 0.00000000e+00 ... 1.00000000e+00\n",
      "  0.00000000e+00 0.00000000e+00]\n",
      " [0.00000000e+00 0.00000000e+00 0.00000000e+00 ... 1.00000000e+00\n",
      "  0.00000000e+00 0.00000000e+00]]\n",
      "[[ nan  nan  nan ...   0.  nan  nan]\n",
      " [ nan  nan  nan ...  nan   0. -inf]\n",
      " [ nan  nan  nan ...  -0.   0.   0.]\n",
      " ...\n",
      " [ nan  nan  nan ...  -0.   0.  -0.]\n",
      " [ nan  nan  nan ...   0.  nan  nan]\n",
      " [ nan  nan  nan ...   0.  nan  nan]]\n"
     ]
    },
    {
     "name": "stderr",
     "output_type": "stream",
     "text": [
      "\n",
      "  0%|          | 0/10 [00:00<?, ?it/s]"
     ]
    },
    {
     "name": "stdout",
     "output_type": "stream",
     "text": [
      "[[0.00000000e+000 0.00000000e+000 0.00000000e+000 ... 0.00000000e+000\n",
      "  0.00000000e+000 0.00000000e+000]\n",
      " [1.00000000e+000 0.00000000e+000 0.00000000e+000 ... 0.00000000e+000\n",
      "  0.00000000e+000 0.00000000e+000]\n",
      " [1.00000000e+000 0.00000000e+000 0.00000000e+000 ... 0.00000000e+000\n",
      "  0.00000000e+000 1.00000000e+000]\n",
      " ...\n",
      " [0.00000000e+000 0.00000000e+000 0.00000000e+000 ... 0.00000000e+000\n",
      "  0.00000000e+000 9.82200633e-233]\n",
      " [0.00000000e+000 0.00000000e+000 0.00000000e+000 ... 0.00000000e+000\n",
      "  0.00000000e+000 0.00000000e+000]\n",
      " [0.00000000e+000 0.00000000e+000 0.00000000e+000 ... 0.00000000e+000\n",
      "  0.00000000e+000 0.00000000e+000]]\n",
      "[[ nan  nan  nan ...  nan  nan  nan]\n",
      " [ -0.  nan  nan ...  nan  nan -inf]\n",
      " [  0.  nan  nan ...  nan  nan   0.]\n",
      " ...\n",
      " [ nan  nan  nan ...  nan  nan  -0.]\n",
      " [ nan  nan  nan ...  nan  nan  nan]\n",
      " [ nan  nan  nan ...  nan  nan  nan]]\n"
     ]
    },
    {
     "name": "stderr",
     "output_type": "stream",
     "text": [
      "\r",
      " 10%|█         | 1/10 [00:00<00:03,  2.29it/s]"
     ]
    },
    {
     "name": "stdout",
     "output_type": "stream",
     "text": [
      "Epoch 0, Loss [[       nan        nan        nan ...        nan        nan        nan]\n",
      " [0.00720873        nan        nan ...        nan        nan        inf]\n",
      " [       inf        nan        nan ...        nan        nan        nan]\n",
      " ...\n",
      " [       nan        nan        nan ...        nan        nan 0.        ]\n",
      " [       nan        nan        nan ...        nan        nan        nan]\n",
      " [       nan        nan        nan ...        nan        nan        nan]]\n",
      "[[0.000000e+000 0.000000e+000 0.000000e+000 ... 0.000000e+000\n",
      "  0.000000e+000 0.000000e+000]\n",
      " [0.000000e+000 0.000000e+000 0.000000e+000 ... 0.000000e+000\n",
      "  0.000000e+000 6.104255e-229]\n",
      " [0.000000e+000 0.000000e+000 0.000000e+000 ... 0.000000e+000\n",
      "  0.000000e+000 1.000000e+000]\n",
      " ...\n",
      " [0.000000e+000 0.000000e+000 0.000000e+000 ... 0.000000e+000\n",
      "  0.000000e+000 1.000000e+000]\n",
      " [0.000000e+000 0.000000e+000 0.000000e+000 ... 0.000000e+000\n",
      "  0.000000e+000 0.000000e+000]\n",
      " [0.000000e+000 0.000000e+000 0.000000e+000 ... 0.000000e+000\n",
      "  0.000000e+000 0.000000e+000]]\n",
      "[[          nan           nan           nan ...           nan\n",
      "            nan           nan]\n",
      " [          nan           nan           nan ...           nan\n",
      "            nan -525.48300023]\n",
      " [          nan           nan           nan ...           nan\n",
      "            nan    0.        ]\n",
      " ...\n",
      " [          nan           nan           nan ...           nan\n",
      "            nan    0.        ]\n",
      " [          nan           nan           nan ...           nan\n",
      "            nan           nan]\n",
      " [          nan           nan           nan ...           nan\n",
      "            nan           nan]]\n"
     ]
    },
    {
     "name": "stderr",
     "output_type": "stream",
     "text": [
      "\r",
      " 20%|██        | 2/10 [00:01<00:04,  1.95it/s]"
     ]
    },
    {
     "name": "stdout",
     "output_type": "stream",
     "text": [
      "[[0.00000000e+000 1.00000000e+000 0.00000000e+000 ... 0.00000000e+000\n",
      "  0.00000000e+000 0.00000000e+000]\n",
      " [0.00000000e+000 1.00000000e+000 0.00000000e+000 ... 0.00000000e+000\n",
      "  0.00000000e+000 0.00000000e+000]\n",
      " [0.00000000e+000 1.00000000e+000 0.00000000e+000 ... 0.00000000e+000\n",
      "  0.00000000e+000 0.00000000e+000]\n",
      " ...\n",
      " [0.00000000e+000 1.00000000e+000 0.00000000e+000 ... 0.00000000e+000\n",
      "  0.00000000e+000 0.00000000e+000]\n",
      " [0.00000000e+000 7.99214469e-172 0.00000000e+000 ... 0.00000000e+000\n",
      "  0.00000000e+000 0.00000000e+000]\n",
      " [0.00000000e+000 7.09510597e-228 0.00000000e+000 ... 0.00000000e+000\n",
      "  0.00000000e+000 0.00000000e+000]]\n",
      "[[ nan   0.  nan ...  nan  nan  nan]\n",
      " [ nan   0.  nan ...  nan  nan -inf]\n",
      " [ nan   0.  nan ...  nan  nan -inf]\n",
      " ...\n",
      " [ nan   0.  nan ...  nan  nan  nan]\n",
      " [ nan  -0.  nan ...  nan  nan  nan]\n",
      " [ nan  -0.  nan ...  nan  nan  nan]]\n"
     ]
    },
    {
     "name": "stderr",
     "output_type": "stream",
     "text": [
      "\r",
      " 30%|███       | 3/10 [00:01<00:02,  2.40it/s]"
     ]
    },
    {
     "name": "stdout",
     "output_type": "stream",
     "text": [
      "[[0. 0. 0. ... 0. 0. 0.]\n",
      " [0. 0. 0. ... 0. 0. 0.]\n",
      " [0. 0. 0. ... 0. 0. 0.]\n",
      " ...\n",
      " [0. 0. 0. ... 0. 0. 0.]\n",
      " [0. 0. 0. ... 0. 0. 0.]\n",
      " [0. 0. 0. ... 0. 0. 0.]]\n",
      "[[ nan  nan  nan ...  nan  nan  nan]\n",
      " [ nan  nan  nan ...  nan  nan -inf]\n",
      " [ nan  nan  nan ...  nan  nan -inf]\n",
      " ...\n",
      " [ nan  nan  nan ...  nan  nan  nan]\n",
      " [ nan  nan  nan ...  nan  nan  nan]\n",
      " [ nan  nan  nan ...  nan  nan  nan]]\n"
     ]
    },
    {
     "name": "stderr",
     "output_type": "stream",
     "text": [
      " 50%|█████     | 5/10 [00:01<00:01,  3.00it/s]"
     ]
    },
    {
     "name": "stdout",
     "output_type": "stream",
     "text": [
      "[[0. 0. 0. ... 0. 0. 0.]\n",
      " [0. 0. 0. ... 0. 1. 0.]\n",
      " [0. 0. 0. ... 0. 1. 1.]\n",
      " ...\n",
      " [0. 0. 0. ... 0. 1. 0.]\n",
      " [0. 0. 0. ... 0. 0. 0.]\n",
      " [0. 0. 0. ... 0. 0. 0.]]\n",
      "[[ nan  nan  nan ...  nan  nan  nan]\n",
      " [ nan  nan  nan ...  nan   0. -inf]\n",
      " [ nan  nan  nan ...  nan   0.   0.]\n",
      " ...\n",
      " [ nan  nan  nan ...  nan   0.  nan]\n",
      " [ nan  nan  nan ...  nan  nan  nan]\n",
      " [ nan  nan  nan ...  nan  nan  nan]]\n",
      "[[0.00000000e+000 0.00000000e+000 0.00000000e+000 ... 1.00000000e+000\n",
      "  0.00000000e+000 2.09167502e-216]\n",
      " [0.00000000e+000 0.00000000e+000 0.00000000e+000 ... 1.00000000e+000\n",
      "  0.00000000e+000 1.00000000e+000]\n",
      " [0.00000000e+000 0.00000000e+000 0.00000000e+000 ... 1.00000000e+000\n",
      "  0.00000000e+000 1.00000000e+000]\n",
      " ...\n",
      " [0.00000000e+000 0.00000000e+000 0.00000000e+000 ... 1.00000000e+000\n",
      "  0.00000000e+000 1.00000000e+000]\n",
      " [0.00000000e+000 0.00000000e+000 0.00000000e+000 ... 1.00000000e+000\n",
      "  0.00000000e+000 1.00000000e+000]\n",
      " [0.00000000e+000 0.00000000e+000 0.00000000e+000 ... 1.00000000e+000\n",
      "  0.00000000e+000 3.55181612e-294]]\n",
      "[[nan nan nan ...  0. nan -0.]\n",
      " [nan nan nan ...  0. nan  0.]\n",
      " [nan nan nan ...  0. nan  0.]\n",
      " ...\n",
      " [nan nan nan ...  0. nan  0.]\n",
      " [nan nan nan ...  0. nan -0.]\n",
      " [nan nan nan ...  0. nan -0.]]\n"
     ]
    },
    {
     "name": "stderr",
     "output_type": "stream",
     "text": [
      "\r",
      " 60%|██████    | 6/10 [00:02<00:01,  2.74it/s]"
     ]
    },
    {
     "name": "stdout",
     "output_type": "stream",
     "text": [
      "[[0.00000000e+000 0.00000000e+000 7.89478028e-186 ... 0.00000000e+000\n",
      "  0.00000000e+000 0.00000000e+000]\n",
      " [0.00000000e+000 0.00000000e+000 0.00000000e+000 ... 0.00000000e+000\n",
      "  0.00000000e+000 0.00000000e+000]\n",
      " [1.00000000e+000 0.00000000e+000 0.00000000e+000 ... 0.00000000e+000\n",
      "  0.00000000e+000 0.00000000e+000]\n",
      " ...\n",
      " [0.00000000e+000 0.00000000e+000 0.00000000e+000 ... 0.00000000e+000\n",
      "  0.00000000e+000 0.00000000e+000]\n",
      " [0.00000000e+000 0.00000000e+000 1.00000000e+000 ... 0.00000000e+000\n",
      "  0.00000000e+000 0.00000000e+000]\n",
      " [0.00000000e+000 0.00000000e+000 2.56435653e-026 ... 0.00000000e+000\n",
      "  0.00000000e+000 0.00000000e+000]]\n",
      "[[ nan  nan  -0. ...  nan  nan  nan]\n",
      " [ nan  nan  nan ...  nan  nan -inf]\n",
      " [  0.  nan  nan ...  nan  nan -inf]\n",
      " ...\n",
      " [ nan  nan  nan ...  nan  nan  nan]\n",
      " [ nan  nan   0. ...  nan  nan  nan]\n",
      " [ nan  nan  -0. ...  nan  nan  nan]]\n"
     ]
    },
    {
     "name": "stderr",
     "output_type": "stream",
     "text": [
      "\r",
      " 70%|███████   | 7/10 [00:03<00:01,  1.76it/s]"
     ]
    },
    {
     "name": "stdout",
     "output_type": "stream",
     "text": [
      "[[0.00000000e+00 1.00000000e+00 0.00000000e+00 ... 0.00000000e+00\n",
      "  0.00000000e+00 0.00000000e+00]\n",
      " [0.00000000e+00 1.00000000e+00 0.00000000e+00 ... 0.00000000e+00\n",
      "  0.00000000e+00 0.00000000e+00]\n",
      " [0.00000000e+00 1.00000000e+00 0.00000000e+00 ... 0.00000000e+00\n",
      "  0.00000000e+00 0.00000000e+00]\n",
      " ...\n",
      " [0.00000000e+00 1.00000000e+00 0.00000000e+00 ... 0.00000000e+00\n",
      "  0.00000000e+00 0.00000000e+00]\n",
      " [0.00000000e+00 1.00000000e+00 0.00000000e+00 ... 0.00000000e+00\n",
      "  0.00000000e+00 0.00000000e+00]\n",
      " [0.00000000e+00 9.87784558e-43 0.00000000e+00 ... 0.00000000e+00\n",
      "  0.00000000e+00 0.00000000e+00]]\n",
      "[[ nan   0.  nan ...  nan  nan  nan]\n",
      " [ nan   0.  nan ...  nan  nan -inf]\n",
      " [ nan   0.  nan ...  nan  nan -inf]\n",
      " ...\n",
      " [ nan   0.  nan ...  nan  nan  nan]\n",
      " [ nan   0.  nan ...  nan  nan  nan]\n",
      " [ nan  -0.  nan ...  nan  nan  nan]]\n"
     ]
    },
    {
     "name": "stderr",
     "output_type": "stream",
     "text": [
      "\r",
      " 80%|████████  | 8/10 [00:03<00:01,  1.94it/s]"
     ]
    },
    {
     "name": "stdout",
     "output_type": "stream",
     "text": [
      "[[0.00000000e+000 0.00000000e+000 0.00000000e+000 ... 0.00000000e+000\n",
      "  0.00000000e+000 0.00000000e+000]\n",
      " [0.00000000e+000 0.00000000e+000 0.00000000e+000 ... 0.00000000e+000\n",
      "  0.00000000e+000 0.00000000e+000]\n",
      " [0.00000000e+000 0.00000000e+000 0.00000000e+000 ... 0.00000000e+000\n",
      "  0.00000000e+000 0.00000000e+000]\n",
      " ...\n",
      " [0.00000000e+000 0.00000000e+000 0.00000000e+000 ... 0.00000000e+000\n",
      "  0.00000000e+000 0.00000000e+000]\n",
      " [0.00000000e+000 0.00000000e+000 1.00000000e+000 ... 0.00000000e+000\n",
      "  0.00000000e+000 0.00000000e+000]\n",
      " [0.00000000e+000 0.00000000e+000 1.93022949e-156 ... 0.00000000e+000\n",
      "  0.00000000e+000 0.00000000e+000]]\n",
      "[[ nan  nan  nan ...  nan  nan  nan]\n",
      " [ nan  nan  nan ...  nan  nan -inf]\n",
      " [ nan  nan  nan ...  nan  nan -inf]\n",
      " ...\n",
      " [ nan  nan  nan ...  nan  nan  nan]\n",
      " [ nan  nan   0. ...  nan  nan  nan]\n",
      " [ nan  nan  -0. ...  nan  nan  nan]]\n"
     ]
    },
    {
     "name": "stderr",
     "output_type": "stream",
     "text": [
      "\r",
      " 90%|█████████ | 9/10 [00:04<00:00,  2.05it/s]"
     ]
    },
    {
     "name": "stdout",
     "output_type": "stream",
     "text": [
      "[[0.00000000e+000 0.00000000e+000 0.00000000e+000 ... 0.00000000e+000\n",
      "  0.00000000e+000 0.00000000e+000]\n",
      " [0.00000000e+000 0.00000000e+000 0.00000000e+000 ... 0.00000000e+000\n",
      "  1.00000000e+000 0.00000000e+000]\n",
      " [0.00000000e+000 0.00000000e+000 0.00000000e+000 ... 0.00000000e+000\n",
      "  1.00000000e+000 0.00000000e+000]\n",
      " ...\n",
      " [0.00000000e+000 0.00000000e+000 0.00000000e+000 ... 0.00000000e+000\n",
      "  1.60775357e-139 0.00000000e+000]\n",
      " [0.00000000e+000 0.00000000e+000 0.00000000e+000 ... 0.00000000e+000\n",
      "  0.00000000e+000 0.00000000e+000]\n",
      " [0.00000000e+000 0.00000000e+000 0.00000000e+000 ... 0.00000000e+000\n",
      "  0.00000000e+000 0.00000000e+000]]\n",
      "[[ nan  nan  nan ...  nan  nan  nan]\n",
      " [ nan  nan  nan ...  nan   0. -inf]\n",
      " [ nan  nan  nan ...  nan   0. -inf]\n",
      " ...\n",
      " [ nan  nan  nan ...  nan  -0.  nan]\n",
      " [ nan  nan  nan ...  nan  nan  nan]\n",
      " [ nan  nan  nan ...  nan  nan  nan]]\n"
     ]
    },
    {
     "name": "stderr",
     "output_type": "stream",
     "text": [
      "100%|██████████| 10/10 [00:04<00:00,  2.21it/s]\n",
      "  0%|          | 0/10 [00:00<?, ?it/s]"
     ]
    },
    {
     "name": "stdout",
     "output_type": "stream",
     "text": [
      "[[0.00000000e+000 0.00000000e+000 1.00000000e+000 ... 0.00000000e+000\n",
      "  0.00000000e+000 0.00000000e+000]\n",
      " [1.04671622e-002 0.00000000e+000 1.00000000e+000 ... 0.00000000e+000\n",
      "  0.00000000e+000 0.00000000e+000]\n",
      " [1.00000000e+000 0.00000000e+000 1.00000000e+000 ... 0.00000000e+000\n",
      "  0.00000000e+000 1.00000000e+000]\n",
      " ...\n",
      " [0.00000000e+000 0.00000000e+000 1.00000000e+000 ... 0.00000000e+000\n",
      "  0.00000000e+000 0.00000000e+000]\n",
      " [0.00000000e+000 0.00000000e+000 1.00000000e+000 ... 0.00000000e+000\n",
      "  0.00000000e+000 0.00000000e+000]\n",
      " [2.99750419e-303 0.00000000e+000 1.00000000e+000 ... 0.00000000e+000\n",
      "  0.00000000e+000 0.00000000e+000]]\n",
      "[[ nan  nan   0. ...  nan  nan  nan]\n",
      " [ -0.  nan   0. ...  nan  nan -inf]\n",
      " [  0.  nan   0. ...  nan  nan   0.]\n",
      " ...\n",
      " [ nan  nan   0. ...  nan  nan  nan]\n",
      " [ nan  nan   0. ...  nan  nan  nan]\n",
      " [ -0.  nan   0. ...  nan  nan  nan]]\n"
     ]
    },
    {
     "name": "stderr",
     "output_type": "stream",
     "text": [
      "\r",
      " 10%|█         | 1/10 [00:00<00:04,  2.09it/s]"
     ]
    },
    {
     "name": "stdout",
     "output_type": "stream",
     "text": [
      "Epoch 0, Loss [[           nan            nan            inf ...            nan\n",
      "             nan            nan]\n",
      " [2.10446565e-06            nan            inf ...            nan\n",
      "             nan            inf]\n",
      " [           inf            nan            inf ...            nan\n",
      "             nan            nan]\n",
      " ...\n",
      " [           nan            nan            inf ...            nan\n",
      "             nan            nan]\n",
      " [           nan            nan            inf ...            nan\n",
      "             nan            nan]\n",
      " [0.00000000e+00            nan            inf ...            nan\n",
      "             nan            nan]]\n",
      "[[0.00000000e+000 0.00000000e+000 0.00000000e+000 ... 0.00000000e+000\n",
      "  0.00000000e+000 0.00000000e+000]\n",
      " [0.00000000e+000 0.00000000e+000 0.00000000e+000 ... 0.00000000e+000\n",
      "  0.00000000e+000 1.39725879e-173]\n",
      " [0.00000000e+000 0.00000000e+000 0.00000000e+000 ... 0.00000000e+000\n",
      "  0.00000000e+000 1.00000000e+000]\n",
      " ...\n",
      " [0.00000000e+000 0.00000000e+000 0.00000000e+000 ... 0.00000000e+000\n",
      "  0.00000000e+000 1.00000000e+000]\n",
      " [0.00000000e+000 0.00000000e+000 0.00000000e+000 ... 0.00000000e+000\n",
      "  0.00000000e+000 0.00000000e+000]\n",
      " [0.00000000e+000 0.00000000e+000 0.00000000e+000 ... 0.00000000e+000\n",
      "  0.00000000e+000 0.00000000e+000]]\n",
      "[[          nan           nan           nan ...           nan\n",
      "            nan           nan]\n",
      " [          nan           nan           nan ...           nan\n",
      "            nan -398.01270877]\n",
      " [          nan           nan           nan ...           nan\n",
      "            nan    0.        ]\n",
      " ...\n",
      " [          nan           nan           nan ...           nan\n",
      "            nan    0.        ]\n",
      " [          nan           nan           nan ...           nan\n",
      "            nan           nan]\n",
      " [          nan           nan           nan ...           nan\n",
      "            nan           nan]]\n"
     ]
    },
    {
     "name": "stderr",
     "output_type": "stream",
     "text": [
      "\r",
      " 20%|██        | 2/10 [00:00<00:02,  3.06it/s]"
     ]
    },
    {
     "name": "stdout",
     "output_type": "stream",
     "text": [
      "[[0.00000000e+000 0.00000000e+000 0.00000000e+000 ... 0.00000000e+000\n",
      "  0.00000000e+000 0.00000000e+000]\n",
      " [0.00000000e+000 0.00000000e+000 0.00000000e+000 ... 0.00000000e+000\n",
      "  7.97621983e-221 0.00000000e+000]\n",
      " [0.00000000e+000 0.00000000e+000 0.00000000e+000 ... 0.00000000e+000\n",
      "  2.79275819e-212 0.00000000e+000]\n",
      " ...\n",
      " [0.00000000e+000 0.00000000e+000 0.00000000e+000 ... 0.00000000e+000\n",
      "  0.00000000e+000 0.00000000e+000]\n",
      " [0.00000000e+000 0.00000000e+000 0.00000000e+000 ... 0.00000000e+000\n",
      "  0.00000000e+000 0.00000000e+000]\n",
      " [0.00000000e+000 0.00000000e+000 0.00000000e+000 ... 0.00000000e+000\n",
      "  0.00000000e+000 0.00000000e+000]]\n",
      "[[ nan  nan  nan ...  nan  nan  nan]\n",
      " [ nan  nan  nan ...  nan  -0. -inf]\n",
      " [ nan  nan  nan ...  nan  -0. -inf]\n",
      " ...\n",
      " [ nan  nan  nan ...  nan  nan  nan]\n",
      " [ nan  nan  nan ...  nan  nan  nan]\n",
      " [ nan  nan  nan ...  nan  nan  nan]]\n"
     ]
    },
    {
     "name": "stderr",
     "output_type": "stream",
     "text": [
      "\r",
      " 30%|███       | 3/10 [00:01<00:02,  2.85it/s]"
     ]
    },
    {
     "name": "stdout",
     "output_type": "stream",
     "text": [
      "[[0. 0. 0. ... 0. 0. 0.]\n",
      " [0. 0. 0. ... 0. 1. 0.]\n",
      " [0. 0. 0. ... 0. 1. 0.]\n",
      " ...\n",
      " [0. 0. 0. ... 0. 0. 0.]\n",
      " [0. 0. 0. ... 0. 0. 0.]\n",
      " [0. 0. 0. ... 0. 0. 0.]]\n",
      "[[ nan  nan  nan ...  nan  nan  nan]\n",
      " [ nan  nan  nan ...  nan   0. -inf]\n",
      " [ nan  nan  nan ...  nan   0. -inf]\n",
      " ...\n",
      " [ nan  nan  nan ...  nan  nan  nan]\n",
      " [ nan  nan  nan ...  nan  nan  nan]\n",
      " [ nan  nan  nan ...  nan  nan  nan]]\n"
     ]
    },
    {
     "name": "stderr",
     "output_type": "stream",
     "text": [
      "\r",
      " 40%|████      | 4/10 [00:01<00:02,  2.36it/s]"
     ]
    },
    {
     "name": "stdout",
     "output_type": "stream",
     "text": [
      "[[0.00000000e+000 1.00000000e+000 0.00000000e+000 ... 0.00000000e+000\n",
      "  0.00000000e+000 0.00000000e+000]\n",
      " [0.00000000e+000 1.00000000e+000 0.00000000e+000 ... 0.00000000e+000\n",
      "  0.00000000e+000 0.00000000e+000]\n",
      " [0.00000000e+000 5.74344490e-173 0.00000000e+000 ... 0.00000000e+000\n",
      "  0.00000000e+000 6.83691274e-290]\n",
      " ...\n",
      " [0.00000000e+000 1.00000000e+000 0.00000000e+000 ... 0.00000000e+000\n",
      "  0.00000000e+000 0.00000000e+000]\n",
      " [0.00000000e+000 0.00000000e+000 0.00000000e+000 ... 0.00000000e+000\n",
      "  0.00000000e+000 0.00000000e+000]\n",
      " [0.00000000e+000 3.93159022e-274 0.00000000e+000 ... 0.00000000e+000\n",
      "  0.00000000e+000 0.00000000e+000]]\n",
      "[[          nan    0.                   nan ...           nan\n",
      "            nan           nan]\n",
      " [          nan    0.                   nan ...           nan\n",
      "            nan          -inf]\n",
      " [          nan   -0.                   nan ...           nan\n",
      "            nan -665.82734069]\n",
      " ...\n",
      " [          nan    0.                   nan ...           nan\n",
      "            nan           nan]\n",
      " [          nan           nan           nan ...           nan\n",
      "            nan           nan]\n",
      " [          nan   -0.                   nan ...           nan\n",
      "            nan           nan]]\n"
     ]
    },
    {
     "name": "stderr",
     "output_type": "stream",
     "text": [
      "\r",
      " 50%|█████     | 5/10 [00:02<00:02,  2.27it/s]"
     ]
    },
    {
     "name": "stdout",
     "output_type": "stream",
     "text": [
      "[[0.00000000e+000 0.00000000e+000 0.00000000e+000 ... 1.00000000e+000\n",
      "  0.00000000e+000 0.00000000e+000]\n",
      " [0.00000000e+000 0.00000000e+000 0.00000000e+000 ... 6.23130019e-119\n",
      "  1.00000000e+000 1.54011311e-116]\n",
      " [0.00000000e+000 0.00000000e+000 0.00000000e+000 ... 1.00000000e+000\n",
      "  1.00000000e+000 1.00000000e+000]\n",
      " ...\n",
      " [0.00000000e+000 0.00000000e+000 0.00000000e+000 ... 1.00000000e+000\n",
      "  1.00000000e+000 1.00000000e+000]\n",
      " [0.00000000e+000 0.00000000e+000 0.00000000e+000 ... 1.00000000e+000\n",
      "  0.00000000e+000 6.17115645e-254]\n",
      " [0.00000000e+000 0.00000000e+000 0.00000000e+000 ... 1.00000000e+000\n",
      "  0.00000000e+000 0.00000000e+000]]\n",
      "[[          nan           nan           nan ...    0.\n",
      "            nan           nan]\n",
      " [          nan           nan           nan ...   -0.\n",
      "     0.         -266.66801493]\n",
      " [          nan           nan           nan ...    0.\n",
      "     0.            0.        ]\n",
      " ...\n",
      " [          nan           nan           nan ...    0.\n",
      "     0.            0.        ]\n",
      " [          nan           nan           nan ...    0.\n",
      "            nan   -0.        ]\n",
      " [          nan           nan           nan ...    0.\n",
      "            nan           nan]]\n"
     ]
    },
    {
     "name": "stderr",
     "output_type": "stream",
     "text": [
      "\r",
      " 60%|██████    | 6/10 [00:02<00:01,  2.69it/s]"
     ]
    },
    {
     "name": "stdout",
     "output_type": "stream",
     "text": [
      "[[0.00000000e+000 0.00000000e+000 0.00000000e+000 ... 0.00000000e+000\n",
      "  0.00000000e+000 0.00000000e+000]\n",
      " [3.42825211e-134 0.00000000e+000 0.00000000e+000 ... 0.00000000e+000\n",
      "  0.00000000e+000 0.00000000e+000]\n",
      " [1.00000000e+000 0.00000000e+000 0.00000000e+000 ... 0.00000000e+000\n",
      "  0.00000000e+000 0.00000000e+000]\n",
      " ...\n",
      " [0.00000000e+000 0.00000000e+000 0.00000000e+000 ... 0.00000000e+000\n",
      "  0.00000000e+000 0.00000000e+000]\n",
      " [0.00000000e+000 0.00000000e+000 0.00000000e+000 ... 0.00000000e+000\n",
      "  0.00000000e+000 0.00000000e+000]\n",
      " [0.00000000e+000 0.00000000e+000 0.00000000e+000 ... 0.00000000e+000\n",
      "  0.00000000e+000 0.00000000e+000]]\n",
      "[[ nan  nan  nan ...  nan  nan  nan]\n",
      " [ -0.  nan  nan ...  nan  nan -inf]\n",
      " [  0.  nan  nan ...  nan  nan -inf]\n",
      " ...\n",
      " [ nan  nan  nan ...  nan  nan  nan]\n",
      " [ nan  nan  nan ...  nan  nan  nan]\n",
      " [ nan  nan  nan ...  nan  nan  nan]]\n"
     ]
    },
    {
     "name": "stderr",
     "output_type": "stream",
     "text": [
      " 80%|████████  | 8/10 [00:02<00:00,  2.81it/s]"
     ]
    },
    {
     "name": "stdout",
     "output_type": "stream",
     "text": [
      "[[0.00000000e+000 1.00000000e+000 0.00000000e+000 ... 0.00000000e+000\n",
      "  0.00000000e+000 0.00000000e+000]\n",
      " [0.00000000e+000 1.00000000e+000 0.00000000e+000 ... 0.00000000e+000\n",
      "  0.00000000e+000 0.00000000e+000]\n",
      " [0.00000000e+000 1.45437250e-013 0.00000000e+000 ... 0.00000000e+000\n",
      "  0.00000000e+000 0.00000000e+000]\n",
      " ...\n",
      " [0.00000000e+000 1.00000000e+000 0.00000000e+000 ... 0.00000000e+000\n",
      "  0.00000000e+000 0.00000000e+000]\n",
      " [0.00000000e+000 8.37125239e-157 0.00000000e+000 ... 0.00000000e+000\n",
      "  0.00000000e+000 0.00000000e+000]\n",
      " [0.00000000e+000 9.59926876e-113 0.00000000e+000 ... 0.00000000e+000\n",
      "  0.00000000e+000 0.00000000e+000]]\n",
      "[[ nan   0.  nan ...  nan  nan  nan]\n",
      " [ nan   0.  nan ...  nan  nan -inf]\n",
      " [ nan  -0.  nan ...  nan  nan -inf]\n",
      " ...\n",
      " [ nan   0.  nan ...  nan  nan  nan]\n",
      " [ nan  -0.  nan ...  nan  nan  nan]\n",
      " [ nan  -0.  nan ...  nan  nan  nan]]\n",
      "[[0. 0. 0. ... 0. 0. 0.]\n",
      " [0. 0. 0. ... 0. 0. 0.]\n",
      " [0. 0. 0. ... 0. 0. 0.]\n",
      " ...\n",
      " [0. 0. 0. ... 0. 0. 0.]\n",
      " [0. 0. 0. ... 0. 0. 0.]\n",
      " [0. 0. 0. ... 0. 0. 0.]]\n",
      "[[ nan  nan  nan ...  nan  nan  nan]\n",
      " [ nan  nan  nan ...  nan  nan -inf]\n",
      " [ nan  nan  nan ...  nan  nan -inf]\n",
      " ...\n",
      " [ nan  nan  nan ...  nan  nan  nan]\n",
      " [ nan  nan  nan ...  nan  nan  nan]\n",
      " [ nan  nan  nan ...  nan  nan  nan]]\n"
     ]
    },
    {
     "name": "stderr",
     "output_type": "stream",
     "text": [
      "100%|██████████| 10/10 [00:03<00:00,  2.56it/s]"
     ]
    },
    {
     "name": "stdout",
     "output_type": "stream",
     "text": [
      "[[0.00000000e+000 0.00000000e+000 1.12195658e-297 ... 0.00000000e+000\n",
      "  0.00000000e+000 0.00000000e+000]\n",
      " [0.00000000e+000 0.00000000e+000 0.00000000e+000 ... 0.00000000e+000\n",
      "  0.00000000e+000 0.00000000e+000]\n",
      " [0.00000000e+000 0.00000000e+000 0.00000000e+000 ... 0.00000000e+000\n",
      "  0.00000000e+000 1.00000000e+000]\n",
      " ...\n",
      " [0.00000000e+000 0.00000000e+000 0.00000000e+000 ... 0.00000000e+000\n",
      "  0.00000000e+000 1.00000000e+000]\n",
      " [0.00000000e+000 0.00000000e+000 1.00000000e+000 ... 0.00000000e+000\n",
      "  0.00000000e+000 0.00000000e+000]\n",
      " [0.00000000e+000 0.00000000e+000 1.11953999e-125 ... 0.00000000e+000\n",
      "  0.00000000e+000 0.00000000e+000]]\n",
      "[[ nan  nan  -0. ...  nan  nan  nan]\n",
      " [ nan  nan  nan ...  nan  nan -inf]\n",
      " [ nan  nan  nan ...  nan  nan   0.]\n",
      " ...\n",
      " [ nan  nan  nan ...  nan  nan   0.]\n",
      " [ nan  nan   0. ...  nan  nan  nan]\n",
      " [ nan  nan  -0. ...  nan  nan  nan]]\n"
     ]
    },
    {
     "name": "stderr",
     "output_type": "stream",
     "text": [
      "\n",
      "  0%|          | 0/10 [00:00<?, ?it/s]"
     ]
    },
    {
     "name": "stdout",
     "output_type": "stream",
     "text": [
      "[[0. 0. 0. ... 0. 0. 0.]\n",
      " [0. 0. 0. ... 0. 1. 0.]\n",
      " [0. 0. 0. ... 0. 1. 0.]\n",
      " ...\n",
      " [0. 0. 0. ... 0. 0. 0.]\n",
      " [0. 0. 0. ... 0. 0. 0.]\n",
      " [0. 0. 0. ... 0. 0. 0.]]\n",
      "[[ nan  nan  nan ...  nan  nan  nan]\n",
      " [ nan  nan  nan ...  nan   0. -inf]\n",
      " [ nan  nan  nan ...  nan   0. -inf]\n",
      " ...\n",
      " [ nan  nan  nan ...  nan  nan  nan]\n",
      " [ nan  nan  nan ...  nan  nan  nan]\n",
      " [ nan  nan  nan ...  nan  nan  nan]]\n"
     ]
    },
    {
     "name": "stderr",
     "output_type": "stream",
     "text": [
      " 20%|██        | 2/10 [00:00<00:01,  4.25it/s]"
     ]
    },
    {
     "name": "stdout",
     "output_type": "stream",
     "text": [
      "Epoch 0, Loss [[nan nan nan ... nan nan nan]\n",
      " [nan nan nan ... nan inf inf]\n",
      " [nan nan nan ... nan inf inf]\n",
      " ...\n",
      " [nan nan nan ... nan nan nan]\n",
      " [nan nan nan ... nan nan nan]\n",
      " [nan nan nan ... nan nan nan]]\n",
      "[[0.00000000e+000 0.00000000e+000 4.02296818e-140 ... 0.00000000e+000\n",
      "  0.00000000e+000 0.00000000e+000]\n",
      " [8.90547984e-188 0.00000000e+000 3.78838589e-227 ... 0.00000000e+000\n",
      "  0.00000000e+000 0.00000000e+000]\n",
      " [1.00000000e+000 0.00000000e+000 0.00000000e+000 ... 0.00000000e+000\n",
      "  0.00000000e+000 1.00000000e+000]\n",
      " ...\n",
      " [0.00000000e+000 0.00000000e+000 0.00000000e+000 ... 0.00000000e+000\n",
      "  0.00000000e+000 1.00000000e+000]\n",
      " [0.00000000e+000 0.00000000e+000 1.00000000e+000 ... 0.00000000e+000\n",
      "  0.00000000e+000 0.00000000e+000]\n",
      " [0.00000000e+000 0.00000000e+000 3.47410057e-030 ... 0.00000000e+000\n",
      "  0.00000000e+000 0.00000000e+000]]\n",
      "[[ nan  nan  -0. ...  nan  nan  nan]\n",
      " [ -0.  nan  -0. ...  nan  nan -inf]\n",
      " [  0.  nan  nan ...  nan  nan   0.]\n",
      " ...\n",
      " [ nan  nan  nan ...  nan  nan   0.]\n",
      " [ nan  nan   0. ...  nan  nan  nan]\n",
      " [ nan  nan  -0. ...  nan  nan  nan]]\n",
      "[[0.00000000e+00 1.00000000e+00 0.00000000e+00 ... 0.00000000e+00\n",
      "  0.00000000e+00 0.00000000e+00]\n",
      " [0.00000000e+00 1.00000000e+00 0.00000000e+00 ... 0.00000000e+00\n",
      "  0.00000000e+00 0.00000000e+00]\n",
      " [0.00000000e+00 1.00000000e+00 0.00000000e+00 ... 0.00000000e+00\n",
      "  0.00000000e+00 0.00000000e+00]\n",
      " ...\n",
      " [0.00000000e+00 1.00000000e+00 0.00000000e+00 ... 0.00000000e+00\n",
      "  0.00000000e+00 0.00000000e+00]\n",
      " [0.00000000e+00 6.23446746e-54 0.00000000e+00 ... 0.00000000e+00\n",
      "  0.00000000e+00 0.00000000e+00]\n",
      " [0.00000000e+00 7.04755355e-39 0.00000000e+00 ... 0.00000000e+00\n",
      "  0.00000000e+00 0.00000000e+00]]\n",
      "[[ nan   0.  nan ...  nan  nan  nan]\n",
      " [ nan   0.  nan ...  nan  nan -inf]\n",
      " [ nan   0.  nan ...  nan  nan -inf]\n",
      " ...\n",
      " [ nan   0.  nan ...  nan  nan  nan]\n",
      " [ nan  -0.  nan ...  nan  nan  nan]\n",
      " [ nan  -0.  nan ...  nan  nan  nan]]\n"
     ]
    },
    {
     "name": "stderr",
     "output_type": "stream",
     "text": [
      "\r",
      " 30%|███       | 3/10 [00:00<00:02,  3.04it/s]"
     ]
    },
    {
     "name": "stdout",
     "output_type": "stream",
     "text": [
      "[[0.00000000e+000 0.00000000e+000 0.00000000e+000 ... 0.00000000e+000\n",
      "  0.00000000e+000 0.00000000e+000]\n",
      " [0.00000000e+000 0.00000000e+000 0.00000000e+000 ... 0.00000000e+000\n",
      "  1.00000000e+000 0.00000000e+000]\n",
      " [0.00000000e+000 0.00000000e+000 0.00000000e+000 ... 0.00000000e+000\n",
      "  1.00000000e+000 1.00000000e+000]\n",
      " ...\n",
      " [0.00000000e+000 0.00000000e+000 0.00000000e+000 ... 0.00000000e+000\n",
      "  1.00000000e+000 2.62867036e-214]\n",
      " [0.00000000e+000 0.00000000e+000 0.00000000e+000 ... 0.00000000e+000\n",
      "  0.00000000e+000 0.00000000e+000]\n",
      " [0.00000000e+000 0.00000000e+000 0.00000000e+000 ... 7.55060673e-175\n",
      "  0.00000000e+000 0.00000000e+000]]\n",
      "[[ nan  nan  nan ...  nan  nan  nan]\n",
      " [ nan  nan  nan ...  nan   0. -inf]\n",
      " [ nan  nan  nan ...  nan   0.   0.]\n",
      " ...\n",
      " [ nan  nan  nan ...  nan   0.  -0.]\n",
      " [ nan  nan  nan ...  nan  nan  nan]\n",
      " [ nan  nan  nan ...  -0.  nan  nan]]\n"
     ]
    },
    {
     "name": "stderr",
     "output_type": "stream",
     "text": [
      "\r",
      " 40%|████      | 4/10 [00:01<00:01,  3.18it/s]"
     ]
    },
    {
     "name": "stdout",
     "output_type": "stream",
     "text": [
      "[[0.00000000e+000 0.00000000e+000 0.00000000e+000 ... 1.00000000e+000\n",
      "  0.00000000e+000 0.00000000e+000]\n",
      " [0.00000000e+000 0.00000000e+000 0.00000000e+000 ... 3.44107960e-277\n",
      "  0.00000000e+000 1.05876335e-141]\n",
      " [0.00000000e+000 0.00000000e+000 0.00000000e+000 ... 1.00000000e+000\n",
      "  0.00000000e+000 1.00000000e+000]\n",
      " ...\n",
      " [0.00000000e+000 0.00000000e+000 0.00000000e+000 ... 1.00000000e+000\n",
      "  0.00000000e+000 1.00000000e+000]\n",
      " [0.00000000e+000 0.00000000e+000 0.00000000e+000 ... 1.00000000e+000\n",
      "  0.00000000e+000 4.76402678e-288]\n",
      " [0.00000000e+000 0.00000000e+000 0.00000000e+000 ... 1.00000000e+000\n",
      "  0.00000000e+000 0.00000000e+000]]\n",
      "[[          nan           nan           nan ...    0.\n",
      "            nan           nan]\n",
      " [          nan           nan           nan ...   -0.\n",
      "            nan -324.60739654]\n",
      " [          nan           nan           nan ...    0.\n",
      "            nan    0.        ]\n",
      " ...\n",
      " [          nan           nan           nan ...    0.\n",
      "            nan    0.        ]\n",
      " [          nan           nan           nan ...    0.\n",
      "            nan   -0.        ]\n",
      " [          nan           nan           nan ...    0.\n",
      "            nan           nan]]\n"
     ]
    },
    {
     "name": "stderr",
     "output_type": "stream",
     "text": [
      " 60%|██████    | 6/10 [00:01<00:01,  3.41it/s]"
     ]
    },
    {
     "name": "stdout",
     "output_type": "stream",
     "text": [
      "[[0.00000000e+00 0.00000000e+00 0.00000000e+00 ... 0.00000000e+00\n",
      "  0.00000000e+00 0.00000000e+00]\n",
      " [0.00000000e+00 0.00000000e+00 0.00000000e+00 ... 0.00000000e+00\n",
      "  0.00000000e+00 0.00000000e+00]\n",
      " [0.00000000e+00 0.00000000e+00 0.00000000e+00 ... 0.00000000e+00\n",
      "  0.00000000e+00 0.00000000e+00]\n",
      " ...\n",
      " [0.00000000e+00 0.00000000e+00 0.00000000e+00 ... 0.00000000e+00\n",
      "  0.00000000e+00 0.00000000e+00]\n",
      " [0.00000000e+00 0.00000000e+00 1.24861257e-31 ... 0.00000000e+00\n",
      "  0.00000000e+00 0.00000000e+00]\n",
      " [0.00000000e+00 0.00000000e+00 0.00000000e+00 ... 0.00000000e+00\n",
      "  0.00000000e+00 0.00000000e+00]]\n",
      "[[ nan  nan  nan ...  nan  nan  nan]\n",
      " [ nan  nan  nan ...  nan  nan -inf]\n",
      " [ nan  nan  nan ...  nan  nan -inf]\n",
      " ...\n",
      " [ nan  nan  nan ...  nan  nan  nan]\n",
      " [ nan  nan  -0. ...  nan  nan  nan]\n",
      " [ nan  nan  nan ...  nan  nan  nan]]\n",
      "[[0.00000000e+000 0.00000000e+000 6.59718377e-044 ... 0.00000000e+000\n",
      "  0.00000000e+000 0.00000000e+000]\n",
      " [8.93295759e-064 0.00000000e+000 1.00000000e+000 ... 0.00000000e+000\n",
      "  0.00000000e+000 0.00000000e+000]\n",
      " [1.00000000e+000 0.00000000e+000 3.81347057e-169 ... 0.00000000e+000\n",
      "  0.00000000e+000 0.00000000e+000]\n",
      " ...\n",
      " [0.00000000e+000 0.00000000e+000 1.06324537e-181 ... 0.00000000e+000\n",
      "  0.00000000e+000 0.00000000e+000]\n",
      " [0.00000000e+000 0.00000000e+000 1.00000000e+000 ... 0.00000000e+000\n",
      "  0.00000000e+000 0.00000000e+000]\n",
      " [0.00000000e+000 0.00000000e+000 1.00000000e+000 ... 0.00000000e+000\n",
      "  0.00000000e+000 0.00000000e+000]]\n",
      "[[ nan  nan  -0. ...  nan  nan  nan]\n",
      " [ -0.  nan   0. ...  nan  nan -inf]\n",
      " [  0.  nan  -0. ...  nan  nan -inf]\n",
      " ...\n",
      " [ nan  nan  -0. ...  nan  nan  nan]\n",
      " [ nan  nan   0. ...  nan  nan  nan]\n",
      " [ nan  nan   0. ...  nan  nan  nan]]\n"
     ]
    },
    {
     "name": "stderr",
     "output_type": "stream",
     "text": [
      " 80%|████████  | 8/10 [00:02<00:00,  3.49it/s]"
     ]
    },
    {
     "name": "stdout",
     "output_type": "stream",
     "text": [
      "[[0. 0. 0. ... 0. 0. 0.]\n",
      " [0. 0. 0. ... 0. 0. 0.]\n",
      " [0. 0. 0. ... 0. 0. 0.]\n",
      " ...\n",
      " [0. 0. 0. ... 0. 0. 0.]\n",
      " [0. 0. 0. ... 0. 0. 0.]\n",
      " [0. 0. 0. ... 0. 0. 0.]]\n",
      "[[ nan  nan  nan ...  nan  nan  nan]\n",
      " [ nan  nan  nan ...  nan  nan -inf]\n",
      " [ nan  nan  nan ...  nan  nan -inf]\n",
      " ...\n",
      " [ nan  nan  nan ...  nan  nan  nan]\n",
      " [ nan  nan  nan ...  nan  nan  nan]\n",
      " [ nan  nan  nan ...  nan  nan  nan]]\n",
      "[[0.00000000e+000 1.00000000e+000 0.00000000e+000 ... 0.00000000e+000\n",
      "  0.00000000e+000 0.00000000e+000]\n",
      " [0.00000000e+000 1.00000000e+000 0.00000000e+000 ... 0.00000000e+000\n",
      "  1.00000000e+000 3.25023987e-148]\n",
      " [0.00000000e+000 6.72556690e-161 0.00000000e+000 ... 0.00000000e+000\n",
      "  1.00000000e+000 1.00000000e+000]\n",
      " ...\n",
      " [0.00000000e+000 1.00000000e+000 0.00000000e+000 ... 0.00000000e+000\n",
      "  2.35356815e-101 1.00000000e+000]\n",
      " [0.00000000e+000 0.00000000e+000 0.00000000e+000 ... 0.00000000e+000\n",
      "  0.00000000e+000 3.39719142e-295]\n",
      " [0.00000000e+000 1.09808291e-171 0.00000000e+000 ... 0.00000000e+000\n",
      "  0.00000000e+000 0.00000000e+000]]\n",
      "[[          nan    0.                   nan ...           nan\n",
      "            nan           nan]\n",
      " [          nan    0.                   nan ...           nan\n",
      "     0.         -339.60386496]\n",
      " [          nan   -0.                   nan ...           nan\n",
      "     0.            0.        ]\n",
      " ...\n",
      " [          nan    0.                   nan ...           nan\n",
      "    -0.            0.        ]\n",
      " [          nan           nan           nan ...           nan\n",
      "            nan   -0.        ]\n",
      " [          nan   -0.                   nan ...           nan\n",
      "            nan           nan]]\n"
     ]
    },
    {
     "name": "stderr",
     "output_type": "stream",
     "text": [
      "\r",
      " 90%|█████████ | 9/10 [00:02<00:00,  3.77it/s]"
     ]
    },
    {
     "name": "stdout",
     "output_type": "stream",
     "text": [
      "[[0. 0. 0. ... 0. 0. 0.]\n",
      " [0. 0. 0. ... 0. 0. 0.]\n",
      " [0. 0. 0. ... 0. 0. 0.]\n",
      " ...\n",
      " [0. 0. 0. ... 0. 0. 0.]\n",
      " [0. 0. 0. ... 0. 0. 0.]\n",
      " [0. 0. 0. ... 0. 0. 0.]]\n",
      "[[ nan  nan  nan ...  nan  nan  nan]\n",
      " [ nan  nan  nan ...  nan  nan -inf]\n",
      " [ nan  nan  nan ...  nan  nan -inf]\n",
      " ...\n",
      " [ nan  nan  nan ...  nan  nan  nan]\n",
      " [ nan  nan  nan ...  nan  nan  nan]\n",
      " [ nan  nan  nan ...  nan  nan  nan]]\n"
     ]
    },
    {
     "name": "stderr",
     "output_type": "stream",
     "text": [
      "100%|██████████| 10/10 [00:03<00:00,  3.23it/s]\n",
      " 10%|█         | 1/10 [00:00<00:02,  3.26it/s]"
     ]
    },
    {
     "name": "stdout",
     "output_type": "stream",
     "text": [
      "[[0. 0. 0. ... 0. 0. 0.]\n",
      " [0. 0. 0. ... 0. 0. 0.]\n",
      " [0. 0. 0. ... 0. 0. 0.]\n",
      " ...\n",
      " [0. 0. 0. ... 0. 0. 0.]\n",
      " [0. 0. 0. ... 0. 0. 0.]\n",
      " [0. 0. 0. ... 0. 0. 0.]]\n",
      "[[ nan  nan  nan ...  nan  nan  nan]\n",
      " [ nan  nan  nan ...  nan  nan -inf]\n",
      " [ nan  nan  nan ...  nan  nan -inf]\n",
      " ...\n",
      " [ nan  nan  nan ...  nan  nan  nan]\n",
      " [ nan  nan  nan ...  nan  nan  nan]\n",
      " [ nan  nan  nan ...  nan  nan  nan]]\n",
      "Epoch 0, Loss [[nan nan nan ... nan nan nan]\n",
      " [nan nan nan ... nan nan inf]\n",
      " [nan nan nan ... nan nan inf]\n",
      " ...\n",
      " [nan nan nan ... nan nan nan]\n",
      " [nan nan nan ... nan nan nan]\n",
      " [nan nan nan ... nan nan nan]]\n"
     ]
    },
    {
     "name": "stderr",
     "output_type": "stream",
     "text": [
      "\r",
      " 20%|██        | 2/10 [00:00<00:02,  2.85it/s]"
     ]
    },
    {
     "name": "stdout",
     "output_type": "stream",
     "text": [
      "[[0.00000000e+000 0.00000000e+000 0.00000000e+000 ... 1.51584343e-220\n",
      "  0.00000000e+000 0.00000000e+000]\n",
      " [0.00000000e+000 0.00000000e+000 0.00000000e+000 ... 0.00000000e+000\n",
      "  0.00000000e+000 0.00000000e+000]\n",
      " [7.16922295e-238 0.00000000e+000 0.00000000e+000 ... 0.00000000e+000\n",
      "  0.00000000e+000 0.00000000e+000]\n",
      " ...\n",
      " [0.00000000e+000 0.00000000e+000 0.00000000e+000 ... 0.00000000e+000\n",
      "  0.00000000e+000 0.00000000e+000]\n",
      " [0.00000000e+000 0.00000000e+000 0.00000000e+000 ... 5.60649830e-255\n",
      "  0.00000000e+000 0.00000000e+000]\n",
      " [0.00000000e+000 0.00000000e+000 0.00000000e+000 ... 5.78414808e-028\n",
      "  0.00000000e+000 0.00000000e+000]]\n",
      "[[ nan  nan  nan ...  -0.  nan  nan]\n",
      " [ nan  nan  nan ...  nan  nan -inf]\n",
      " [ -0.  nan  nan ...  nan  nan -inf]\n",
      " ...\n",
      " [ nan  nan  nan ...  nan  nan  nan]\n",
      " [ nan  nan  nan ...  -0.  nan  nan]\n",
      " [ nan  nan  nan ...  -0.  nan  nan]]\n"
     ]
    },
    {
     "name": "stderr",
     "output_type": "stream",
     "text": [
      "\r",
      " 30%|███       | 3/10 [00:00<00:02,  3.01it/s]"
     ]
    },
    {
     "name": "stdout",
     "output_type": "stream",
     "text": [
      "[[0.00000000e+000 1.00000000e+000 0.00000000e+000 ... 0.00000000e+000\n",
      "  0.00000000e+000 0.00000000e+000]\n",
      " [0.00000000e+000 1.00000000e+000 0.00000000e+000 ... 0.00000000e+000\n",
      "  1.00000000e+000 1.10465608e-142]\n",
      " [0.00000000e+000 1.00000000e+000 0.00000000e+000 ... 0.00000000e+000\n",
      "  1.00000000e+000 1.00000000e+000]\n",
      " ...\n",
      " [0.00000000e+000 1.00000000e+000 0.00000000e+000 ... 0.00000000e+000\n",
      "  1.00000000e+000 1.00000000e+000]\n",
      " [0.00000000e+000 1.00000000e+000 0.00000000e+000 ... 0.00000000e+000\n",
      "  0.00000000e+000 4.32051005e-288]\n",
      " [0.00000000e+000 1.00000000e+000 0.00000000e+000 ... 5.75327496e-160\n",
      "  0.00000000e+000 0.00000000e+000]]\n",
      "[[          nan    0.                   nan ...           nan\n",
      "            nan           nan]\n",
      " [          nan    0.                   nan ...           nan\n",
      "     0.         -326.86754916]\n",
      " [          nan    0.                   nan ...           nan\n",
      "     0.            0.        ]\n",
      " ...\n",
      " [          nan    0.                   nan ...           nan\n",
      "     0.            0.        ]\n",
      " [          nan    0.                   nan ...           nan\n",
      "            nan   -0.        ]\n",
      " [          nan    0.                   nan ...   -0.\n",
      "            nan           nan]]\n",
      "[[0.00000000e+000 0.00000000e+000 1.00000000e+000 ... 1.00000000e+000\n",
      "  0.00000000e+000 0.00000000e+000]\n",
      " [7.68781877e-138 0.00000000e+000 1.00000000e+000 ... 0.00000000e+000\n",
      "  0.00000000e+000 0.00000000e+000]\n",
      " [1.00000000e+000 0.00000000e+000 3.56198749e-019 ... 1.05927262e-083\n",
      "  0.00000000e+000 0.00000000e+000]\n",
      " ...\n",
      " [0.00000000e+000 0.00000000e+000 1.79753829e-020 ... 2.88591192e-101\n",
      "  0.00000000e+000 0.00000000e+000]\n",
      " [0.00000000e+000 0.00000000e+000 1.00000000e+000 ... 1.00000000e+000\n",
      "  0.00000000e+000 0.00000000e+000]\n",
      " [0.00000000e+000 0.00000000e+000 1.00000000e+000 ... 1.00000000e+000\n",
      "  0.00000000e+000 0.00000000e+000]]\n",
      "[[ nan  nan   0. ...   0.  nan  nan]\n",
      " [ -0.  nan   0. ...  nan  nan -inf]\n",
      " [  0.  nan  -0. ...  -0.  nan -inf]\n",
      " ...\n",
      " [ nan  nan  -0. ...  -0.  nan  nan]\n",
      " [ nan  nan   0. ...   0.  nan  nan]\n",
      " [ nan  nan   0. ...   0.  nan  nan]]\n"
     ]
    },
    {
     "name": "stderr",
     "output_type": "stream",
     "text": [
      "\r",
      " 40%|████      | 4/10 [00:01<00:01,  3.08it/s]"
     ]
    },
    {
     "name": "stdout",
     "output_type": "stream",
     "text": [
      "[[0. 0. 0. ... 0. 0. 0.]\n",
      " [0. 0. 0. ... 0. 0. 0.]\n",
      " [0. 0. 0. ... 0. 0. 0.]\n",
      " ...\n",
      " [0. 0. 0. ... 0. 0. 0.]\n",
      " [0. 0. 0. ... 0. 0. 0.]\n",
      " [0. 0. 0. ... 0. 0. 0.]]\n",
      "[[ nan  nan  nan ...  nan  nan  nan]\n",
      " [ nan  nan  nan ...  nan  nan -inf]\n",
      " [ nan  nan  nan ...  nan  nan -inf]\n",
      " ...\n",
      " [ nan  nan  nan ...  nan  nan  nan]\n",
      " [ nan  nan  nan ...  nan  nan  nan]\n",
      " [ nan  nan  nan ...  nan  nan  nan]]\n"
     ]
    },
    {
     "name": "stderr",
     "output_type": "stream",
     "text": [
      " 60%|██████    | 6/10 [00:02<00:01,  2.78it/s]"
     ]
    },
    {
     "name": "stdout",
     "output_type": "stream",
     "text": [
      "[[0. 0. 0. ... 0. 0. 0.]\n",
      " [0. 0. 0. ... 0. 0. 0.]\n",
      " [0. 0. 0. ... 0. 0. 0.]\n",
      " ...\n",
      " [0. 0. 0. ... 0. 0. 0.]\n",
      " [0. 0. 0. ... 0. 0. 0.]\n",
      " [0. 0. 0. ... 0. 0. 0.]]\n",
      "[[ nan  nan  nan ...  nan  nan  nan]\n",
      " [ nan  nan  nan ...  nan  nan -inf]\n",
      " [ nan  nan  nan ...  nan  nan -inf]\n",
      " ...\n",
      " [ nan  nan  nan ...  nan  nan  nan]\n",
      " [ nan  nan  nan ...  nan  nan  nan]\n",
      " [ nan  nan  nan ...  nan  nan  nan]]\n",
      "[[0.00000000e+000 0.00000000e+000 0.00000000e+000 ... 0.00000000e+000\n",
      "  0.00000000e+000 0.00000000e+000]\n",
      " [0.00000000e+000 0.00000000e+000 0.00000000e+000 ... 0.00000000e+000\n",
      "  6.80150572e-213 2.22278652e-270]\n",
      " [0.00000000e+000 0.00000000e+000 0.00000000e+000 ... 0.00000000e+000\n",
      "  2.55664432e-212 1.00000000e+000]\n",
      " ...\n",
      " [0.00000000e+000 0.00000000e+000 0.00000000e+000 ... 0.00000000e+000\n",
      "  0.00000000e+000 1.00000000e+000]\n",
      " [0.00000000e+000 0.00000000e+000 0.00000000e+000 ... 0.00000000e+000\n",
      "  0.00000000e+000 0.00000000e+000]\n",
      " [0.00000000e+000 0.00000000e+000 0.00000000e+000 ... 0.00000000e+000\n",
      "  0.00000000e+000 0.00000000e+000]]\n"
     ]
    },
    {
     "name": "stderr",
     "output_type": "stream",
     "text": [
      "\r",
      " 70%|███████   | 7/10 [00:02<00:01,  2.95it/s]"
     ]
    },
    {
     "name": "stdout",
     "output_type": "stream",
     "text": [
      "[[          nan           nan           nan ...           nan\n",
      "            nan           nan]\n",
      " [          nan           nan           nan ...           nan\n",
      "    -0.         -620.89921351]\n",
      " [          nan           nan           nan ...           nan\n",
      "    -0.            0.        ]\n",
      " ...\n",
      " [          nan           nan           nan ...           nan\n",
      "            nan    0.        ]\n",
      " [          nan           nan           nan ...           nan\n",
      "            nan           nan]\n",
      " [          nan           nan           nan ...           nan\n",
      "            nan           nan]]\n",
      "[[0.0000000e+00 0.0000000e+00 0.0000000e+00 ... 0.0000000e+00\n",
      "  0.0000000e+00 0.0000000e+00]\n",
      " [0.0000000e+00 0.0000000e+00 0.0000000e+00 ... 0.0000000e+00\n",
      "  2.4415876e-67 0.0000000e+00]\n",
      " [0.0000000e+00 0.0000000e+00 0.0000000e+00 ... 0.0000000e+00\n",
      "  2.1804787e-45 0.0000000e+00]\n",
      " ...\n",
      " [0.0000000e+00 0.0000000e+00 0.0000000e+00 ... 0.0000000e+00\n",
      "  0.0000000e+00 0.0000000e+00]\n",
      " [0.0000000e+00 0.0000000e+00 0.0000000e+00 ... 0.0000000e+00\n",
      "  0.0000000e+00 0.0000000e+00]\n",
      " [0.0000000e+00 0.0000000e+00 0.0000000e+00 ... 0.0000000e+00\n",
      "  0.0000000e+00 0.0000000e+00]]\n",
      "[[ nan  nan  nan ...  nan  nan  nan]\n",
      " [ nan  nan  nan ...  nan  -0. -inf]\n",
      " [ nan  nan  nan ...  nan  -0. -inf]\n",
      " ...\n",
      " [ nan  nan  nan ...  nan  nan  nan]\n",
      " [ nan  nan  nan ...  nan  nan  nan]\n",
      " [ nan  nan  nan ...  nan  nan  nan]]\n"
     ]
    },
    {
     "name": "stderr",
     "output_type": "stream",
     "text": [
      "\r",
      " 80%|████████  | 8/10 [00:02<00:00,  2.84it/s]"
     ]
    },
    {
     "name": "stdout",
     "output_type": "stream",
     "text": [
      "[[0. 0. 0. ... 0. 0. 0.]\n",
      " [0. 0. 0. ... 0. 0. 0.]\n",
      " [1. 0. 0. ... 0. 0. 0.]\n",
      " ...\n",
      " [0. 0. 0. ... 0. 0. 0.]\n",
      " [0. 0. 0. ... 0. 0. 0.]\n",
      " [0. 0. 0. ... 0. 0. 0.]]\n",
      "[[ nan  nan  nan ...  nan  nan  nan]\n",
      " [ nan  nan  nan ...  nan  nan -inf]\n",
      " [  0.  nan  nan ...  nan  nan -inf]\n",
      " ...\n",
      " [ nan  nan  nan ...  nan  nan  nan]\n",
      " [ nan  nan  nan ...  nan  nan  nan]\n",
      " [ nan  nan  nan ...  nan  nan  nan]]\n"
     ]
    },
    {
     "name": "stderr",
     "output_type": "stream",
     "text": [
      "\r",
      " 90%|█████████ | 9/10 [00:03<00:00,  2.64it/s]"
     ]
    },
    {
     "name": "stdout",
     "output_type": "stream",
     "text": [
      "[[0.00000000e+000 0.00000000e+000 0.00000000e+000 ... 1.37111474e-252\n",
      "  0.00000000e+000 0.00000000e+000]\n",
      " [0.00000000e+000 0.00000000e+000 0.00000000e+000 ... 0.00000000e+000\n",
      "  1.00000000e+000 0.00000000e+000]\n",
      " [0.00000000e+000 0.00000000e+000 0.00000000e+000 ... 0.00000000e+000\n",
      "  1.00000000e+000 1.00000000e+000]\n",
      " ...\n",
      " [0.00000000e+000 0.00000000e+000 0.00000000e+000 ... 0.00000000e+000\n",
      "  1.00000000e+000 2.72235250e-128]\n",
      " [0.00000000e+000 0.00000000e+000 0.00000000e+000 ... 7.27533234e-308\n",
      "  0.00000000e+000 0.00000000e+000]\n",
      " [0.00000000e+000 0.00000000e+000 0.00000000e+000 ... 9.70516445e-096\n",
      "  0.00000000e+000 0.00000000e+000]]\n",
      "[[ nan  nan  nan ...  -0.  nan  nan]\n",
      " [ nan  nan  nan ...  nan   0. -inf]\n",
      " [ nan  nan  nan ...  nan   0.   0.]\n",
      " ...\n",
      " [ nan  nan  nan ...  nan   0.  -0.]\n",
      " [ nan  nan  nan ...  -0.  nan  nan]\n",
      " [ nan  nan  nan ...  -0.  nan  nan]]\n"
     ]
    },
    {
     "name": "stderr",
     "output_type": "stream",
     "text": [
      "100%|██████████| 10/10 [00:03<00:00,  2.67it/s]\n",
      " 10%|█         | 1/10 [00:00<00:02,  3.04it/s]"
     ]
    },
    {
     "name": "stdout",
     "output_type": "stream",
     "text": [
      "[[0.00000000e+00 1.00000000e+00 0.00000000e+00 ... 2.26764250e-13\n",
      "  0.00000000e+00 0.00000000e+00]\n",
      " [0.00000000e+00 1.00000000e+00 0.00000000e+00 ... 0.00000000e+00\n",
      "  0.00000000e+00 0.00000000e+00]\n",
      " [0.00000000e+00 1.00000000e+00 0.00000000e+00 ... 0.00000000e+00\n",
      "  0.00000000e+00 1.00000000e+00]\n",
      " ...\n",
      " [0.00000000e+00 1.00000000e+00 0.00000000e+00 ... 0.00000000e+00\n",
      "  0.00000000e+00 1.00000000e+00]\n",
      " [0.00000000e+00 1.10770972e-62 0.00000000e+00 ... 1.00000000e+00\n",
      "  0.00000000e+00 0.00000000e+00]\n",
      " [0.00000000e+00 1.35061740e-78 0.00000000e+00 ... 1.00000000e+00\n",
      "  0.00000000e+00 0.00000000e+00]]\n",
      "[[ nan   0.  nan ...  -0.  nan  nan]\n",
      " [ nan   0.  nan ...  nan  nan -inf]\n",
      " [ nan   0.  nan ...  nan  nan   0.]\n",
      " ...\n",
      " [ nan   0.  nan ...  nan  nan   0.]\n",
      " [ nan  -0.  nan ...   0.  nan  nan]\n",
      " [ nan  -0.  nan ...   0.  nan  nan]]\n",
      "Epoch 0, Loss [[           nan            inf            nan ... 4.53637128e-17\n",
      "             nan            nan]\n",
      " [           nan            inf            nan ...            nan\n",
      "             nan            inf]\n",
      " [           nan            inf            nan ...            nan\n",
      "             nan            nan]\n",
      " ...\n",
      " [           nan            inf            nan ...            nan\n",
      "             nan            inf]\n",
      " [           nan 0.00000000e+00            nan ...            inf\n",
      "             nan            nan]\n",
      " [           nan 0.00000000e+00            nan ...            inf\n",
      "             nan            nan]]\n"
     ]
    },
    {
     "name": "stderr",
     "output_type": "stream",
     "text": [
      "\r",
      " 20%|██        | 2/10 [00:00<00:02,  3.30it/s]"
     ]
    },
    {
     "name": "stdout",
     "output_type": "stream",
     "text": [
      "[[0.00000000e+000 0.00000000e+000 0.00000000e+000 ... 0.00000000e+000\n",
      "  0.00000000e+000 0.00000000e+000]\n",
      " [0.00000000e+000 0.00000000e+000 0.00000000e+000 ... 0.00000000e+000\n",
      "  0.00000000e+000 0.00000000e+000]\n",
      " [0.00000000e+000 0.00000000e+000 0.00000000e+000 ... 0.00000000e+000\n",
      "  0.00000000e+000 0.00000000e+000]\n",
      " ...\n",
      " [0.00000000e+000 0.00000000e+000 0.00000000e+000 ... 0.00000000e+000\n",
      "  0.00000000e+000 0.00000000e+000]\n",
      " [0.00000000e+000 0.00000000e+000 1.00000000e+000 ... 0.00000000e+000\n",
      "  0.00000000e+000 0.00000000e+000]\n",
      " [0.00000000e+000 0.00000000e+000 1.31742506e-260 ... 0.00000000e+000\n",
      "  0.00000000e+000 0.00000000e+000]]\n",
      "[[ nan  nan  nan ...  nan  nan  nan]\n",
      " [ nan  nan  nan ...  nan  nan -inf]\n",
      " [ nan  nan  nan ...  nan  nan -inf]\n",
      " ...\n",
      " [ nan  nan  nan ...  nan  nan  nan]\n",
      " [ nan  nan   0. ...  nan  nan  nan]\n",
      " [ nan  nan  -0. ...  nan  nan  nan]]\n"
     ]
    },
    {
     "name": "stderr",
     "output_type": "stream",
     "text": [
      "\r",
      " 30%|███       | 3/10 [00:00<00:02,  3.40it/s]"
     ]
    },
    {
     "name": "stdout",
     "output_type": "stream",
     "text": [
      "[[0.00000000e+000 0.00000000e+000 0.00000000e+000 ... 0.00000000e+000\n",
      "  0.00000000e+000 0.00000000e+000]\n",
      " [3.82152739e-194 0.00000000e+000 0.00000000e+000 ... 0.00000000e+000\n",
      "  0.00000000e+000 0.00000000e+000]\n",
      " [1.00000000e+000 0.00000000e+000 0.00000000e+000 ... 0.00000000e+000\n",
      "  0.00000000e+000 0.00000000e+000]\n",
      " ...\n",
      " [0.00000000e+000 0.00000000e+000 0.00000000e+000 ... 0.00000000e+000\n",
      "  0.00000000e+000 0.00000000e+000]\n",
      " [0.00000000e+000 0.00000000e+000 1.00000000e+000 ... 0.00000000e+000\n",
      "  0.00000000e+000 0.00000000e+000]\n",
      " [0.00000000e+000 0.00000000e+000 8.90618031e-267 ... 0.00000000e+000\n",
      "  0.00000000e+000 0.00000000e+000]]\n",
      "[[ nan  nan  nan ...  nan  nan  nan]\n",
      " [ -0.  nan  nan ...  nan  nan -inf]\n",
      " [  0.  nan  nan ...  nan  nan -inf]\n",
      " ...\n",
      " [ nan  nan  nan ...  nan  nan  nan]\n",
      " [ nan  nan   0. ...  nan  nan  nan]\n",
      " [ nan  nan  -0. ...  nan  nan  nan]]\n",
      "[[0.00000000e+000 0.00000000e+000 0.00000000e+000 ... 1.00000000e+000\n",
      "  0.00000000e+000 8.82848646e-196]\n",
      " [0.00000000e+000 0.00000000e+000 0.00000000e+000 ... 1.48463385e-307\n",
      "  2.41392939e-157 9.16804883e-058]\n",
      " [0.00000000e+000 0.00000000e+000 0.00000000e+000 ... 1.14053904e-162\n",
      "  2.28827620e-149 1.00000000e+000]\n",
      " ...\n",
      " [0.00000000e+000 0.00000000e+000 0.00000000e+000 ... 2.48285351e-176\n",
      "  0.00000000e+000 1.00000000e+000]\n",
      " [0.00000000e+000 0.00000000e+000 5.44085626e-001 ... 1.00000000e+000\n",
      "  0.00000000e+000 1.22331813e-192]\n",
      " [0.00000000e+000 0.00000000e+000 0.00000000e+000 ... 1.00000000e+000\n",
      "  0.00000000e+000 5.25784287e-240]]\n",
      "[[          nan           nan           nan ...    0.\n",
      "            nan   -0.        ]\n",
      " [          nan           nan           nan ...   -0.\n",
      "    -0.         -131.33421091]\n",
      " [          nan           nan           nan ...   -0.\n",
      "    -0.            0.        ]\n",
      " ...\n",
      " [          nan           nan           nan ...   -0.\n",
      "            nan    0.        ]\n",
      " [          nan           nan   -0.         ...    0.\n",
      "            nan   -0.        ]\n",
      " [          nan           nan           nan ...    0.\n",
      "            nan   -0.        ]]\n"
     ]
    },
    {
     "name": "stderr",
     "output_type": "stream",
     "text": [
      " 50%|█████     | 5/10 [00:02<00:02,  1.69it/s]"
     ]
    },
    {
     "name": "stdout",
     "output_type": "stream",
     "text": [
      "[[0.00000000e+000 0.00000000e+000 1.75120333e-186 ... 0.00000000e+000\n",
      "  0.00000000e+000 0.00000000e+000]\n",
      " [0.00000000e+000 0.00000000e+000 3.09577141e-076 ... 0.00000000e+000\n",
      "  8.54490879e-218 0.00000000e+000]\n",
      " [0.00000000e+000 0.00000000e+000 0.00000000e+000 ... 0.00000000e+000\n",
      "  4.86259431e-210 0.00000000e+000]\n",
      " ...\n",
      " [0.00000000e+000 0.00000000e+000 0.00000000e+000 ... 0.00000000e+000\n",
      "  0.00000000e+000 0.00000000e+000]\n",
      " [0.00000000e+000 0.00000000e+000 1.00000000e+000 ... 0.00000000e+000\n",
      "  0.00000000e+000 0.00000000e+000]\n",
      " [0.00000000e+000 0.00000000e+000 3.45991857e-039 ... 0.00000000e+000\n",
      "  0.00000000e+000 0.00000000e+000]]\n",
      "[[ nan  nan  -0. ...  nan  nan  nan]\n",
      " [ nan  nan  -0. ...  nan  -0. -inf]\n",
      " [ nan  nan  nan ...  nan  -0. -inf]\n",
      " ...\n",
      " [ nan  nan  nan ...  nan  nan  nan]\n",
      " [ nan  nan   0. ...  nan  nan  nan]\n",
      " [ nan  nan  -0. ...  nan  nan  nan]]\n",
      "[[0.00000000e+00 0.00000000e+00 0.00000000e+00 ... 0.00000000e+00\n",
      "  0.00000000e+00 0.00000000e+00]\n",
      " [0.00000000e+00 0.00000000e+00 0.00000000e+00 ... 0.00000000e+00\n",
      "  9.28734731e-20 0.00000000e+00]\n",
      " [0.00000000e+00 0.00000000e+00 0.00000000e+00 ... 0.00000000e+00\n",
      "  1.00000000e+00 0.00000000e+00]\n",
      " ...\n",
      " [0.00000000e+00 0.00000000e+00 0.00000000e+00 ... 0.00000000e+00\n",
      "  0.00000000e+00 0.00000000e+00]\n",
      " [0.00000000e+00 0.00000000e+00 0.00000000e+00 ... 0.00000000e+00\n",
      "  0.00000000e+00 0.00000000e+00]\n",
      " [0.00000000e+00 0.00000000e+00 0.00000000e+00 ... 0.00000000e+00\n",
      "  0.00000000e+00 0.00000000e+00]]\n",
      "[[ nan  nan  nan ...  nan  nan  nan]\n",
      " [ nan  nan  nan ...  nan  -0. -inf]\n",
      " [ nan  nan  nan ...  nan   0. -inf]\n",
      " ...\n",
      " [ nan  nan  nan ...  nan  nan  nan]\n",
      " [ nan  nan  nan ...  nan  nan  nan]\n",
      " [ nan  nan  nan ...  nan  nan  nan]]\n"
     ]
    },
    {
     "name": "stderr",
     "output_type": "stream",
     "text": [
      " 70%|███████   | 7/10 [00:03<00:01,  2.14it/s]"
     ]
    },
    {
     "name": "stdout",
     "output_type": "stream",
     "text": [
      "[[0.00000000e+000 1.00000000e+000 0.00000000e+000 ... 0.00000000e+000\n",
      "  0.00000000e+000 0.00000000e+000]\n",
      " [0.00000000e+000 1.00000000e+000 0.00000000e+000 ... 0.00000000e+000\n",
      "  0.00000000e+000 0.00000000e+000]\n",
      " [0.00000000e+000 1.09500403e-209 0.00000000e+000 ... 0.00000000e+000\n",
      "  0.00000000e+000 0.00000000e+000]\n",
      " ...\n",
      " [0.00000000e+000 1.00000000e+000 0.00000000e+000 ... 0.00000000e+000\n",
      "  0.00000000e+000 0.00000000e+000]\n",
      " [0.00000000e+000 0.00000000e+000 0.00000000e+000 ... 0.00000000e+000\n",
      "  0.00000000e+000 0.00000000e+000]\n",
      " [0.00000000e+000 6.47496233e-248 0.00000000e+000 ... 0.00000000e+000\n",
      "  0.00000000e+000 0.00000000e+000]]\n",
      "[[ nan   0.  nan ...  nan  nan  nan]\n",
      " [ nan   0.  nan ...  nan  nan -inf]\n",
      " [ nan  -0.  nan ...  nan  nan -inf]\n",
      " ...\n",
      " [ nan   0.  nan ...  nan  nan  nan]\n",
      " [ nan  nan  nan ...  nan  nan  nan]\n",
      " [ nan  -0.  nan ...  nan  nan  nan]]\n"
     ]
    },
    {
     "name": "stderr",
     "output_type": "stream",
     "text": [
      "\r",
      " 80%|████████  | 8/10 [00:03<00:00,  2.45it/s]"
     ]
    },
    {
     "name": "stdout",
     "output_type": "stream",
     "text": [
      "[[0.00000000e+000 0.00000000e+000 0.00000000e+000 ... 0.00000000e+000\n",
      "  0.00000000e+000 0.00000000e+000]\n",
      " [5.53518805e-244 0.00000000e+000 0.00000000e+000 ... 0.00000000e+000\n",
      "  1.00000000e+000 0.00000000e+000]\n",
      " [1.00000000e+000 0.00000000e+000 0.00000000e+000 ... 0.00000000e+000\n",
      "  1.00000000e+000 1.00000000e+000]\n",
      " ...\n",
      " [0.00000000e+000 0.00000000e+000 0.00000000e+000 ... 0.00000000e+000\n",
      "  1.00000000e+000 2.94438058e-233]\n",
      " [0.00000000e+000 0.00000000e+000 0.00000000e+000 ... 0.00000000e+000\n",
      "  0.00000000e+000 0.00000000e+000]\n",
      " [0.00000000e+000 0.00000000e+000 0.00000000e+000 ... 0.00000000e+000\n",
      "  0.00000000e+000 0.00000000e+000]]\n",
      "[[ nan  nan  nan ...  nan  nan  nan]\n",
      " [ -0.  nan  nan ...  nan   0. -inf]\n",
      " [  0.  nan  nan ...  nan   0.   0.]\n",
      " ...\n",
      " [ nan  nan  nan ...  nan   0.  -0.]\n",
      " [ nan  nan  nan ...  nan  nan  nan]\n",
      " [ nan  nan  nan ...  nan  nan  nan]]\n",
      "[[0.00000000e+000 0.00000000e+000 0.00000000e+000 ... 0.00000000e+000\n",
      "  0.00000000e+000 1.40150236e-253]\n",
      " [0.00000000e+000 0.00000000e+000 0.00000000e+000 ... 0.00000000e+000\n",
      "  0.00000000e+000 1.03904485e-118]\n",
      " [0.00000000e+000 0.00000000e+000 0.00000000e+000 ... 0.00000000e+000\n",
      "  0.00000000e+000 1.00000000e+000]\n",
      " ...\n",
      " [0.00000000e+000 0.00000000e+000 0.00000000e+000 ... 0.00000000e+000\n",
      "  0.00000000e+000 1.00000000e+000]\n",
      " [0.00000000e+000 0.00000000e+000 0.00000000e+000 ... 0.00000000e+000\n",
      "  0.00000000e+000 1.33186393e-266]\n",
      " [0.00000000e+000 0.00000000e+000 0.00000000e+000 ... 0.00000000e+000\n",
      "  0.00000000e+000 1.68138105e-297]]\n",
      "[[         nan          nan          nan ...          nan          nan\n",
      "    -0.       ]\n",
      " [         nan          nan          nan ...          nan          nan\n",
      "  -271.6667391]\n",
      " [         nan          nan          nan ...          nan          nan\n",
      "     0.       ]\n",
      " ...\n",
      " [         nan          nan          nan ...          nan          nan\n",
      "     0.       ]\n",
      " [         nan          nan          nan ...          nan          nan\n",
      "    -0.       ]\n",
      " [         nan          nan          nan ...          nan          nan\n",
      "    -0.       ]]\n"
     ]
    },
    {
     "name": "stderr",
     "output_type": "stream",
     "text": [
      "\r",
      " 90%|█████████ | 9/10 [00:03<00:00,  2.58it/s]"
     ]
    },
    {
     "name": "stdout",
     "output_type": "stream",
     "text": [
      "[[0.00000000e+000 1.00000000e+000 0.00000000e+000 ... 1.00000000e+000\n",
      "  0.00000000e+000 0.00000000e+000]\n",
      " [0.00000000e+000 1.00000000e+000 0.00000000e+000 ... 1.00000000e+000\n",
      "  0.00000000e+000 0.00000000e+000]\n",
      " [0.00000000e+000 0.00000000e+000 0.00000000e+000 ... 1.00000000e+000\n",
      "  0.00000000e+000 0.00000000e+000]\n",
      " ...\n",
      " [0.00000000e+000 7.25115298e-161 0.00000000e+000 ... 1.00000000e+000\n",
      "  0.00000000e+000 0.00000000e+000]\n",
      " [0.00000000e+000 0.00000000e+000 1.00000000e+000 ... 1.00000000e+000\n",
      "  0.00000000e+000 0.00000000e+000]\n",
      " [0.00000000e+000 0.00000000e+000 9.58563947e-240 ... 1.00000000e+000\n",
      "  0.00000000e+000 0.00000000e+000]]\n",
      "[[ nan   0.  nan ...   0.  nan  nan]\n",
      " [ nan   0.  nan ...   0.  nan -inf]\n",
      " [ nan  nan  nan ...   0.  nan -inf]\n",
      " ...\n",
      " [ nan  -0.  nan ...   0.  nan  nan]\n",
      " [ nan  nan   0. ...   0.  nan  nan]\n",
      " [ nan  nan  -0. ...   0.  nan  nan]]\n"
     ]
    },
    {
     "name": "stderr",
     "output_type": "stream",
     "text": [
      "100%|██████████| 10/10 [00:04<00:00,  2.42it/s]\n",
      "  0%|          | 0/10 [00:00<?, ?it/s]"
     ]
    },
    {
     "name": "stdout",
     "output_type": "stream",
     "text": [
      "[[0. 0. 0. ... 0. 0. 0.]\n",
      " [0. 0. 0. ... 0. 0. 0.]\n",
      " [0. 0. 0. ... 0. 0. 0.]\n",
      " ...\n",
      " [0. 0. 0. ... 0. 0. 0.]\n",
      " [0. 0. 0. ... 0. 0. 0.]\n",
      " [0. 0. 0. ... 0. 0. 0.]]\n",
      "[[ nan  nan  nan ...  nan  nan  nan]\n",
      " [ nan  nan  nan ...  nan  nan -inf]\n",
      " [ nan  nan  nan ...  nan  nan -inf]\n",
      " ...\n",
      " [ nan  nan  nan ...  nan  nan  nan]\n",
      " [ nan  nan  nan ...  nan  nan  nan]\n",
      " [ nan  nan  nan ...  nan  nan  nan]]\n"
     ]
    },
    {
     "name": "stderr",
     "output_type": "stream",
     "text": [
      "\r",
      " 10%|█         | 1/10 [00:00<00:03,  2.60it/s]"
     ]
    },
    {
     "name": "stdout",
     "output_type": "stream",
     "text": [
      "Epoch 0, Loss [[nan nan nan ... nan nan nan]\n",
      " [nan nan nan ... nan nan inf]\n",
      " [nan nan nan ... nan nan inf]\n",
      " ...\n",
      " [nan nan nan ... nan nan nan]\n",
      " [nan nan nan ... nan nan nan]\n",
      " [nan nan nan ... nan nan nan]]\n"
     ]
    },
    {
     "name": "stderr",
     "output_type": "stream",
     "text": [
      "\r",
      " 20%|██        | 2/10 [00:00<00:03,  2.53it/s]"
     ]
    },
    {
     "name": "stdout",
     "output_type": "stream",
     "text": [
      "[[0.00000000e+000 1.00000000e+000 1.00000000e+000 ... 0.00000000e+000\n",
      "  0.00000000e+000 0.00000000e+000]\n",
      " [0.00000000e+000 1.00000000e+000 1.00000000e+000 ... 0.00000000e+000\n",
      "  0.00000000e+000 0.00000000e+000]\n",
      " [0.00000000e+000 5.93122154e-295 1.00000000e+000 ... 0.00000000e+000\n",
      "  0.00000000e+000 0.00000000e+000]\n",
      " ...\n",
      " [0.00000000e+000 1.20917400e-009 1.00000000e+000 ... 0.00000000e+000\n",
      "  0.00000000e+000 0.00000000e+000]\n",
      " [0.00000000e+000 0.00000000e+000 1.00000000e+000 ... 0.00000000e+000\n",
      "  0.00000000e+000 0.00000000e+000]\n",
      " [0.00000000e+000 4.87282925e-207 1.00000000e+000 ... 0.00000000e+000\n",
      "  0.00000000e+000 0.00000000e+000]]\n",
      "[[ nan   0.   0. ...  nan  nan  nan]\n",
      " [ nan   0.   0. ...  nan  nan -inf]\n",
      " [ nan  -0.   0. ...  nan  nan -inf]\n",
      " ...\n",
      " [ nan  -0.   0. ...  nan  nan  nan]\n",
      " [ nan  nan   0. ...  nan  nan  nan]\n",
      " [ nan  -0.   0. ...  nan  nan  nan]]\n",
      "[[0.00000000e+000 0.00000000e+000 0.00000000e+000 ... 0.00000000e+000\n",
      "  0.00000000e+000 0.00000000e+000]\n",
      " [4.67261433e-285 0.00000000e+000 0.00000000e+000 ... 0.00000000e+000\n",
      "  1.00000000e+000 0.00000000e+000]\n",
      " [1.00000000e+000 0.00000000e+000 0.00000000e+000 ... 0.00000000e+000\n",
      "  1.00000000e+000 1.00000000e+000]\n",
      " ...\n",
      " [0.00000000e+000 0.00000000e+000 0.00000000e+000 ... 0.00000000e+000\n",
      "  0.00000000e+000 1.00000000e+000]\n",
      " [0.00000000e+000 0.00000000e+000 0.00000000e+000 ... 0.00000000e+000\n",
      "  0.00000000e+000 0.00000000e+000]\n",
      " [0.00000000e+000 0.00000000e+000 0.00000000e+000 ... 0.00000000e+000\n",
      "  0.00000000e+000 0.00000000e+000]]\n",
      "[[ nan  nan  nan ...  nan  nan  nan]\n",
      " [ -0.  nan  nan ...  nan   0. -inf]\n",
      " [  0.  nan  nan ...  nan   0.   0.]\n",
      " ...\n",
      " [ nan  nan  nan ...  nan  nan   0.]\n",
      " [ nan  nan  nan ...  nan  nan  nan]\n",
      " [ nan  nan  nan ...  nan  nan  nan]]\n"
     ]
    },
    {
     "name": "stderr",
     "output_type": "stream",
     "text": [
      " 40%|████      | 4/10 [00:01<00:02,  2.60it/s]"
     ]
    },
    {
     "name": "stdout",
     "output_type": "stream",
     "text": [
      "[[0. 0. 0. ... 0. 0. 0.]\n",
      " [0. 0. 0. ... 0. 0. 0.]\n",
      " [0. 0. 0. ... 0. 0. 0.]\n",
      " ...\n",
      " [0. 0. 0. ... 0. 0. 0.]\n",
      " [0. 0. 0. ... 0. 0. 0.]\n",
      " [0. 0. 0. ... 0. 0. 0.]]\n",
      "[[ nan  nan  nan ...  nan  nan  nan]\n",
      " [ nan  nan  nan ...  nan  nan -inf]\n",
      " [ nan  nan  nan ...  nan  nan -inf]\n",
      " ...\n",
      " [ nan  nan  nan ...  nan  nan  nan]\n",
      " [ nan  nan  nan ...  nan  nan  nan]\n",
      " [ nan  nan  nan ...  nan  nan  nan]]\n"
     ]
    },
    {
     "name": "stderr",
     "output_type": "stream",
     "text": [
      "\r",
      " 50%|█████     | 5/10 [00:01<00:01,  2.78it/s]"
     ]
    },
    {
     "name": "stdout",
     "output_type": "stream",
     "text": [
      "[[0.00000000e+000 1.00000000e+000 0.00000000e+000 ... 0.00000000e+000\n",
      "  0.00000000e+000 0.00000000e+000]\n",
      " [0.00000000e+000 1.00000000e+000 0.00000000e+000 ... 0.00000000e+000\n",
      "  0.00000000e+000 0.00000000e+000]\n",
      " [0.00000000e+000 3.40641851e-280 0.00000000e+000 ... 0.00000000e+000\n",
      "  0.00000000e+000 1.00000000e+000]\n",
      " ...\n",
      " [0.00000000e+000 1.00000000e+000 0.00000000e+000 ... 0.00000000e+000\n",
      "  0.00000000e+000 2.65183783e-085]\n",
      " [0.00000000e+000 0.00000000e+000 0.00000000e+000 ... 0.00000000e+000\n",
      "  0.00000000e+000 0.00000000e+000]\n",
      " [0.00000000e+000 1.92859072e-174 0.00000000e+000 ... 0.00000000e+000\n",
      "  0.00000000e+000 0.00000000e+000]]\n",
      "[[ nan   0.  nan ...  nan  nan  nan]\n",
      " [ nan   0.  nan ...  nan  nan -inf]\n",
      " [ nan  -0.  nan ...  nan  nan   0.]\n",
      " ...\n",
      " [ nan  -0.  nan ...  nan  nan  -0.]\n",
      " [ nan  nan  nan ...  nan  nan  nan]\n",
      " [ nan  -0.  nan ...  nan  nan  nan]]\n",
      "[[0.00000000e+000 0.00000000e+000 0.00000000e+000 ... 0.00000000e+000\n",
      "  0.00000000e+000 0.00000000e+000]\n",
      " [0.00000000e+000 0.00000000e+000 0.00000000e+000 ... 0.00000000e+000\n",
      "  1.00000000e+000 0.00000000e+000]\n",
      " [0.00000000e+000 0.00000000e+000 0.00000000e+000 ... 0.00000000e+000\n",
      "  1.00000000e+000 1.00000000e+000]\n",
      " ...\n",
      " [0.00000000e+000 0.00000000e+000 0.00000000e+000 ... 0.00000000e+000\n",
      "  2.53215458e-184 1.00000000e+000]\n",
      " [0.00000000e+000 0.00000000e+000 0.00000000e+000 ... 0.00000000e+000\n",
      "  0.00000000e+000 0.00000000e+000]\n",
      " [0.00000000e+000 0.00000000e+000 0.00000000e+000 ... 0.00000000e+000\n",
      "  0.00000000e+000 0.00000000e+000]]\n",
      "[[ nan  nan  nan ...  nan  nan  nan]\n",
      " [ nan  nan  nan ...  nan   0. -inf]\n",
      " [ nan  nan  nan ...  nan   0.   0.]\n",
      " ...\n",
      " [ nan  nan  nan ...  nan  -0.   0.]\n",
      " [ nan  nan  nan ...  nan  nan  nan]\n",
      " [ nan  nan  nan ...  nan  nan  nan]]\n"
     ]
    },
    {
     "name": "stderr",
     "output_type": "stream",
     "text": [
      "\r",
      " 60%|██████    | 6/10 [00:02<00:01,  2.49it/s]"
     ]
    },
    {
     "name": "stdout",
     "output_type": "stream",
     "text": [
      "[[0. 0. 0. ... 0. 0. 0.]\n",
      " [0. 0. 0. ... 0. 0. 0.]\n",
      " [0. 0. 0. ... 0. 0. 0.]\n",
      " ...\n",
      " [0. 0. 0. ... 0. 0. 0.]\n",
      " [0. 0. 0. ... 0. 0. 0.]\n",
      " [0. 0. 0. ... 0. 0. 0.]]\n",
      "[[ nan  nan  nan ...  nan  nan  nan]\n",
      " [ nan  nan  nan ...  nan  nan -inf]\n",
      " [ nan  nan  nan ...  nan  nan -inf]\n",
      " ...\n",
      " [ nan  nan  nan ...  nan  nan  nan]\n",
      " [ nan  nan  nan ...  nan  nan  nan]\n",
      " [ nan  nan  nan ...  nan  nan  nan]]\n"
     ]
    },
    {
     "name": "stderr",
     "output_type": "stream",
     "text": [
      "\r",
      " 70%|███████   | 7/10 [00:02<00:01,  2.27it/s]"
     ]
    },
    {
     "name": "stdout",
     "output_type": "stream",
     "text": [
      "[[0.00000000e+000 9.99993269e-001 0.00000000e+000 ... 0.00000000e+000\n",
      "  0.00000000e+000 0.00000000e+000]\n",
      " [0.00000000e+000 1.00000000e+000 0.00000000e+000 ... 0.00000000e+000\n",
      "  0.00000000e+000 0.00000000e+000]\n",
      " [1.00000000e+000 0.00000000e+000 0.00000000e+000 ... 0.00000000e+000\n",
      "  0.00000000e+000 1.00000000e+000]\n",
      " ...\n",
      " [0.00000000e+000 0.00000000e+000 0.00000000e+000 ... 0.00000000e+000\n",
      "  0.00000000e+000 1.11633877e-298]\n",
      " [0.00000000e+000 0.00000000e+000 0.00000000e+000 ... 0.00000000e+000\n",
      "  0.00000000e+000 0.00000000e+000]\n",
      " [0.00000000e+000 0.00000000e+000 0.00000000e+000 ... 0.00000000e+000\n",
      "  0.00000000e+000 0.00000000e+000]]\n",
      "[[ nan  -0.  nan ...  nan  nan  nan]\n",
      " [ nan   0.  nan ...  nan  nan -inf]\n",
      " [  0.  nan  nan ...  nan  nan   0.]\n",
      " ...\n",
      " [ nan  nan  nan ...  nan  nan  -0.]\n",
      " [ nan  nan  nan ...  nan  nan  nan]\n",
      " [ nan  nan  nan ...  nan  nan  nan]]\n"
     ]
    },
    {
     "name": "stderr",
     "output_type": "stream",
     "text": [
      " 90%|█████████ | 9/10 [00:03<00:00,  2.16it/s]"
     ]
    },
    {
     "name": "stdout",
     "output_type": "stream",
     "text": [
      "[[0.00000000e+000 3.37283443e-160 0.00000000e+000 ... 0.00000000e+000\n",
      "  0.00000000e+000 4.15874006e-024]\n",
      " [0.00000000e+000 7.46750853e-028 0.00000000e+000 ... 0.00000000e+000\n",
      "  7.17713243e-068 1.00000000e+000]\n",
      " [0.00000000e+000 0.00000000e+000 0.00000000e+000 ... 0.00000000e+000\n",
      "  7.66584305e-065 1.00000000e+000]\n",
      " ...\n",
      " [0.00000000e+000 0.00000000e+000 0.00000000e+000 ... 0.00000000e+000\n",
      "  0.00000000e+000 1.00000000e+000]\n",
      " [0.00000000e+000 0.00000000e+000 0.00000000e+000 ... 0.00000000e+000\n",
      "  0.00000000e+000 2.06594441e-028]\n",
      " [0.00000000e+000 0.00000000e+000 0.00000000e+000 ... 8.72659178e-235\n",
      "  0.00000000e+000 2.85889742e-108]]\n",
      "[[nan -0. nan ... nan nan -0.]\n",
      " [nan -0. nan ... nan -0.  0.]\n",
      " [nan nan nan ... nan -0.  0.]\n",
      " ...\n",
      " [nan nan nan ... nan nan  0.]\n",
      " [nan nan nan ... nan nan -0.]\n",
      " [nan nan nan ... -0. nan -0.]]\n"
     ]
    },
    {
     "name": "stderr",
     "output_type": "stream",
     "text": [
      "100%|██████████| 10/10 [00:04<00:00,  2.45it/s]"
     ]
    },
    {
     "name": "stdout",
     "output_type": "stream",
     "text": [
      "[[0.00000000e+000 1.00000000e+000 0.00000000e+000 ... 1.00000000e+000\n",
      "  0.00000000e+000 0.00000000e+000]\n",
      " [0.00000000e+000 1.00000000e+000 0.00000000e+000 ... 3.67261622e-166\n",
      "  0.00000000e+000 0.00000000e+000]\n",
      " [0.00000000e+000 1.60241002e-169 0.00000000e+000 ... 9.99911432e-001\n",
      "  0.00000000e+000 0.00000000e+000]\n",
      " ...\n",
      " [0.00000000e+000 1.00000000e+000 0.00000000e+000 ... 2.38566240e-012\n",
      "  0.00000000e+000 0.00000000e+000]\n",
      " [0.00000000e+000 5.11423894e-263 0.00000000e+000 ... 1.00000000e+000\n",
      "  0.00000000e+000 0.00000000e+000]\n",
      " [0.00000000e+000 5.08709268e-108 0.00000000e+000 ... 1.00000000e+000\n",
      "  0.00000000e+000 0.00000000e+000]]\n",
      "[[ nan   0.  nan ...   0.  nan  nan]\n",
      " [ nan   0.  nan ...  -0.  nan -inf]\n",
      " [ nan  -0.  nan ...  -0.  nan -inf]\n",
      " ...\n",
      " [ nan   0.  nan ...  -0.  nan  nan]\n",
      " [ nan  -0.  nan ...   0.  nan  nan]\n",
      " [ nan  -0.  nan ...   0.  nan  nan]]\n"
     ]
    },
    {
     "name": "stderr",
     "output_type": "stream",
     "text": [
      "\n",
      " 10%|█         | 1/10 [00:00<00:01,  4.81it/s]"
     ]
    },
    {
     "name": "stdout",
     "output_type": "stream",
     "text": [
      "[[0.00000000e+000 0.00000000e+000 0.00000000e+000 ... 0.00000000e+000\n",
      "  0.00000000e+000 0.00000000e+000]\n",
      " [0.00000000e+000 0.00000000e+000 0.00000000e+000 ... 0.00000000e+000\n",
      "  1.00000000e+000 0.00000000e+000]\n",
      " [1.00000000e+000 0.00000000e+000 0.00000000e+000 ... 0.00000000e+000\n",
      "  1.00000000e+000 0.00000000e+000]\n",
      " ...\n",
      " [0.00000000e+000 0.00000000e+000 0.00000000e+000 ... 0.00000000e+000\n",
      "  1.00000000e+000 0.00000000e+000]\n",
      " [0.00000000e+000 0.00000000e+000 1.00000000e+000 ... 0.00000000e+000\n",
      "  0.00000000e+000 0.00000000e+000]\n",
      " [0.00000000e+000 0.00000000e+000 5.73158439e-155 ... 0.00000000e+000\n",
      "  0.00000000e+000 0.00000000e+000]]\n",
      "[[ nan  nan  nan ...  nan  nan  nan]\n",
      " [ nan  nan  nan ...  nan   0. -inf]\n",
      " [  0.  nan  nan ...  nan   0. -inf]\n",
      " ...\n",
      " [ nan  nan  nan ...  nan   0.  nan]\n",
      " [ nan  nan   0. ...  nan  nan  nan]\n",
      " [ nan  nan  -0. ...  nan  nan  nan]]\n",
      "Epoch 0, Loss [[nan nan nan ... nan nan nan]\n",
      " [nan nan nan ... nan inf inf]\n",
      " [inf nan nan ... nan inf inf]\n",
      " ...\n",
      " [nan nan nan ... nan inf nan]\n",
      " [nan nan inf ... nan nan nan]\n",
      " [nan nan  0. ... nan nan nan]]\n"
     ]
    },
    {
     "name": "stderr",
     "output_type": "stream",
     "text": [
      "\r",
      " 20%|██        | 2/10 [00:00<00:02,  3.18it/s]"
     ]
    },
    {
     "name": "stdout",
     "output_type": "stream",
     "text": [
      "[[0. 0. 0. ... 0. 0. 0.]\n",
      " [0. 0. 0. ... 0. 0. 0.]\n",
      " [0. 0. 0. ... 0. 0. 0.]\n",
      " ...\n",
      " [0. 0. 0. ... 0. 0. 0.]\n",
      " [0. 0. 0. ... 0. 0. 0.]\n",
      " [0. 0. 0. ... 0. 0. 0.]]\n",
      "[[ nan  nan  nan ...  nan  nan  nan]\n",
      " [ nan  nan  nan ...  nan  nan -inf]\n",
      " [ nan  nan  nan ...  nan  nan -inf]\n",
      " ...\n",
      " [ nan  nan  nan ...  nan  nan  nan]\n",
      " [ nan  nan  nan ...  nan  nan  nan]\n",
      " [ nan  nan  nan ...  nan  nan  nan]]\n",
      "[[0.00000000e+000 0.00000000e+000 0.00000000e+000 ... 0.00000000e+000\n",
      "  0.00000000e+000 0.00000000e+000]\n",
      " [0.00000000e+000 0.00000000e+000 0.00000000e+000 ... 0.00000000e+000\n",
      "  0.00000000e+000 0.00000000e+000]\n",
      " [0.00000000e+000 0.00000000e+000 0.00000000e+000 ... 0.00000000e+000\n",
      "  0.00000000e+000 0.00000000e+000]\n",
      " ...\n",
      " [0.00000000e+000 0.00000000e+000 0.00000000e+000 ... 0.00000000e+000\n",
      "  0.00000000e+000 0.00000000e+000]\n",
      " [0.00000000e+000 0.00000000e+000 1.00000000e+000 ... 0.00000000e+000\n",
      "  0.00000000e+000 0.00000000e+000]\n",
      " [0.00000000e+000 0.00000000e+000 1.23768234e-184 ... 0.00000000e+000\n",
      "  0.00000000e+000 0.00000000e+000]]\n",
      "[[ nan  nan  nan ...  nan  nan  nan]\n",
      " [ nan  nan  nan ...  nan  nan -inf]\n",
      " [ nan  nan  nan ...  nan  nan -inf]\n",
      " ...\n",
      " [ nan  nan  nan ...  nan  nan  nan]\n",
      " [ nan  nan   0. ...  nan  nan  nan]\n",
      " [ nan  nan  -0. ...  nan  nan  nan]]\n"
     ]
    },
    {
     "name": "stderr",
     "output_type": "stream",
     "text": [
      " 40%|████      | 4/10 [00:01<00:02,  2.78it/s]"
     ]
    },
    {
     "name": "stdout",
     "output_type": "stream",
     "text": [
      "[[0.00000000e+000 1.00000000e+000 0.00000000e+000 ... 0.00000000e+000\n",
      "  0.00000000e+000 0.00000000e+000]\n",
      " [0.00000000e+000 1.00000000e+000 0.00000000e+000 ... 0.00000000e+000\n",
      "  0.00000000e+000 0.00000000e+000]\n",
      " [0.00000000e+000 0.00000000e+000 0.00000000e+000 ... 0.00000000e+000\n",
      "  0.00000000e+000 1.00000000e+000]\n",
      " ...\n",
      " [0.00000000e+000 3.80930452e-192 0.00000000e+000 ... 0.00000000e+000\n",
      "  0.00000000e+000 0.00000000e+000]\n",
      " [0.00000000e+000 0.00000000e+000 0.00000000e+000 ... 0.00000000e+000\n",
      "  0.00000000e+000 0.00000000e+000]\n",
      " [0.00000000e+000 6.90831387e-282 0.00000000e+000 ... 0.00000000e+000\n",
      "  0.00000000e+000 0.00000000e+000]]\n",
      "[[ nan   0.  nan ...  nan  nan  nan]\n",
      " [ nan   0.  nan ...  nan  nan -inf]\n",
      " [ nan  nan  nan ...  nan  nan   0.]\n",
      " ...\n",
      " [ nan  -0.  nan ...  nan  nan  nan]\n",
      " [ nan  nan  nan ...  nan  nan  nan]\n",
      " [ nan  -0.  nan ...  nan  nan  nan]]\n"
     ]
    },
    {
     "name": "stderr",
     "output_type": "stream",
     "text": [
      "\r",
      " 50%|█████     | 5/10 [00:01<00:01,  2.88it/s]"
     ]
    },
    {
     "name": "stdout",
     "output_type": "stream",
     "text": [
      "[[0.00000000e+000 0.00000000e+000 0.00000000e+000 ... 0.00000000e+000\n",
      "  0.00000000e+000 4.64213674e-242]\n",
      " [0.00000000e+000 0.00000000e+000 0.00000000e+000 ... 0.00000000e+000\n",
      "  0.00000000e+000 2.16866551e-093]\n",
      " [1.00000000e+000 0.00000000e+000 0.00000000e+000 ... 0.00000000e+000\n",
      "  0.00000000e+000 1.00000000e+000]\n",
      " ...\n",
      " [0.00000000e+000 0.00000000e+000 0.00000000e+000 ... 0.00000000e+000\n",
      "  0.00000000e+000 1.00000000e+000]\n",
      " [0.00000000e+000 0.00000000e+000 1.00000000e+000 ... 0.00000000e+000\n",
      "  0.00000000e+000 1.15536272e-243]\n",
      " [0.00000000e+000 0.00000000e+000 6.75153033e-267 ... 0.00000000e+000\n",
      "  0.00000000e+000 0.00000000e+000]]\n",
      "[[          nan           nan           nan ...           nan\n",
      "            nan   -0.        ]\n",
      " [          nan           nan           nan ...           nan\n",
      "            nan -213.36630164]\n",
      " [   0.                   nan           nan ...           nan\n",
      "            nan    0.        ]\n",
      " ...\n",
      " [          nan           nan           nan ...           nan\n",
      "            nan    0.        ]\n",
      " [          nan           nan    0.         ...           nan\n",
      "            nan   -0.        ]\n",
      " [          nan           nan   -0.         ...           nan\n",
      "            nan           nan]]\n"
     ]
    },
    {
     "name": "stderr",
     "output_type": "stream",
     "text": [
      "\r",
      " 60%|██████    | 6/10 [00:02<00:01,  3.04it/s]"
     ]
    },
    {
     "name": "stdout",
     "output_type": "stream",
     "text": [
      "[[0.00000000e+000 1.00000000e+000 0.00000000e+000 ... 0.00000000e+000\n",
      "  0.00000000e+000 0.00000000e+000]\n",
      " [0.00000000e+000 1.00000000e+000 0.00000000e+000 ... 0.00000000e+000\n",
      "  1.00000000e+000 0.00000000e+000]\n",
      " [0.00000000e+000 4.96637573e-181 0.00000000e+000 ... 0.00000000e+000\n",
      "  1.00000000e+000 0.00000000e+000]\n",
      " ...\n",
      " [0.00000000e+000 1.00000000e+000 0.00000000e+000 ... 0.00000000e+000\n",
      "  2.79331878e-032 0.00000000e+000]\n",
      " [0.00000000e+000 2.14111227e-261 0.00000000e+000 ... 0.00000000e+000\n",
      "  0.00000000e+000 0.00000000e+000]\n",
      " [0.00000000e+000 4.00250986e-097 0.00000000e+000 ... 0.00000000e+000\n",
      "  0.00000000e+000 0.00000000e+000]]\n",
      "[[ nan   0.  nan ...  nan  nan  nan]\n",
      " [ nan   0.  nan ...  nan   0. -inf]\n",
      " [ nan  -0.  nan ...  nan   0. -inf]\n",
      " ...\n",
      " [ nan   0.  nan ...  nan  -0.  nan]\n",
      " [ nan  -0.  nan ...  nan  nan  nan]\n",
      " [ nan  -0.  nan ...  nan  nan  nan]]\n",
      "[[0. 0. 1. ... 0. 0. 0.]\n",
      " [0. 0. 1. ... 0. 0. 0.]\n",
      " [0. 0. 1. ... 0. 0. 0.]\n",
      " ...\n",
      " [0. 0. 1. ... 0. 0. 0.]\n",
      " [0. 0. 1. ... 0. 0. 0.]\n",
      " [0. 0. 1. ... 0. 0. 0.]]\n",
      "[[ nan  nan   0. ...  nan  nan  nan]\n",
      " [ nan  nan   0. ...  nan  nan -inf]\n",
      " [ nan  nan   0. ...  nan  nan -inf]\n",
      " ...\n",
      " [ nan  nan   0. ...  nan  nan  nan]\n",
      " [ nan  nan   0. ...  nan  nan  nan]\n",
      " [ nan  nan   0. ...  nan  nan  nan]]\n"
     ]
    },
    {
     "name": "stderr",
     "output_type": "stream",
     "text": [
      " 80%|████████  | 8/10 [00:02<00:00,  2.83it/s]"
     ]
    },
    {
     "name": "stdout",
     "output_type": "stream",
     "text": [
      "[[0.00000000e+000 0.00000000e+000 0.00000000e+000 ... 1.00000000e+000\n",
      "  0.00000000e+000 0.00000000e+000]\n",
      " [0.00000000e+000 0.00000000e+000 0.00000000e+000 ... 1.07581574e-220\n",
      "  0.00000000e+000 0.00000000e+000]\n",
      " [0.00000000e+000 0.00000000e+000 0.00000000e+000 ... 4.12936031e-060\n",
      "  0.00000000e+000 0.00000000e+000]\n",
      " ...\n",
      " [0.00000000e+000 0.00000000e+000 0.00000000e+000 ... 7.21558952e-060\n",
      "  0.00000000e+000 0.00000000e+000]\n",
      " [0.00000000e+000 0.00000000e+000 0.00000000e+000 ... 1.00000000e+000\n",
      "  0.00000000e+000 0.00000000e+000]\n",
      " [0.00000000e+000 0.00000000e+000 0.00000000e+000 ... 1.00000000e+000\n",
      "  0.00000000e+000 0.00000000e+000]]\n",
      "[[ nan  nan  nan ...   0.  nan  nan]\n",
      " [ nan  nan  nan ...  -0.  nan -inf]\n",
      " [ nan  nan  nan ...  -0.  nan -inf]\n",
      " ...\n",
      " [ nan  nan  nan ...  -0.  nan  nan]\n",
      " [ nan  nan  nan ...   0.  nan  nan]\n",
      " [ nan  nan  nan ...   0.  nan  nan]]\n",
      "[[0. 0. 0. ... 0. 0. 0.]\n",
      " [0. 0. 0. ... 0. 0. 0.]\n",
      " [0. 0. 0. ... 0. 0. 1.]\n",
      " ...\n",
      " [0. 0. 0. ... 0. 0. 1.]\n",
      " [0. 0. 0. ... 0. 0. 0.]\n",
      " [0. 0. 0. ... 0. 0. 0.]]\n"
     ]
    },
    {
     "name": "stderr",
     "output_type": "stream",
     "text": [
      "\r",
      " 90%|█████████ | 9/10 [00:03<00:00,  2.97it/s]"
     ]
    },
    {
     "name": "stdout",
     "output_type": "stream",
     "text": [
      "[[ nan  nan  nan ...  nan  nan  nan]\n",
      " [ nan  nan  nan ...  nan  nan -inf]\n",
      " [ nan  nan  nan ...  nan  nan   0.]\n",
      " ...\n",
      " [ nan  nan  nan ...  nan  nan   0.]\n",
      " [ nan  nan  nan ...  nan  nan  nan]\n",
      " [ nan  nan  nan ...  nan  nan  nan]]\n"
     ]
    },
    {
     "name": "stderr",
     "output_type": "stream",
     "text": [
      "100%|██████████| 10/10 [00:03<00:00,  2.92it/s]"
     ]
    },
    {
     "name": "stdout",
     "output_type": "stream",
     "text": [
      "[[0.00000000e+000 1.00000000e+000 0.00000000e+000 ... 0.00000000e+000\n",
      "  0.00000000e+000 0.00000000e+000]\n",
      " [0.00000000e+000 1.00000000e+000 0.00000000e+000 ... 0.00000000e+000\n",
      "  1.00000000e+000 0.00000000e+000]\n",
      " [1.00000000e+000 0.00000000e+000 0.00000000e+000 ... 0.00000000e+000\n",
      "  1.00000000e+000 1.00000000e+000]\n",
      " ...\n",
      " [0.00000000e+000 1.77476562e-211 0.00000000e+000 ... 0.00000000e+000\n",
      "  1.37548325e-187 0.00000000e+000]\n",
      " [0.00000000e+000 0.00000000e+000 0.00000000e+000 ... 0.00000000e+000\n",
      "  0.00000000e+000 0.00000000e+000]\n",
      " [0.00000000e+000 2.74057173e-279 0.00000000e+000 ... 0.00000000e+000\n",
      "  0.00000000e+000 0.00000000e+000]]\n",
      "[[ nan   0.  nan ...  nan  nan  nan]\n",
      " [ nan   0.  nan ...  nan   0. -inf]\n",
      " [  0.  nan  nan ...  nan   0.   0.]\n",
      " ...\n",
      " [ nan  -0.  nan ...  nan  -0.  nan]\n",
      " [ nan  nan  nan ...  nan  nan  nan]\n",
      " [ nan  -0.  nan ...  nan  nan  nan]]\n"
     ]
    },
    {
     "name": "stderr",
     "output_type": "stream",
     "text": [
      "\n",
      " 10%|█         | 1/10 [00:00<00:01,  4.51it/s]"
     ]
    },
    {
     "name": "stdout",
     "output_type": "stream",
     "text": [
      "[[0.00000000e+000 0.00000000e+000 0.00000000e+000 ... 0.00000000e+000\n",
      "  0.00000000e+000 3.80655707e-153]\n",
      " [0.00000000e+000 0.00000000e+000 0.00000000e+000 ... 0.00000000e+000\n",
      "  0.00000000e+000 7.00619417e-006]\n",
      " [0.00000000e+000 0.00000000e+000 0.00000000e+000 ... 0.00000000e+000\n",
      "  0.00000000e+000 1.00000000e+000]\n",
      " ...\n",
      " [0.00000000e+000 0.00000000e+000 0.00000000e+000 ... 0.00000000e+000\n",
      "  0.00000000e+000 1.00000000e+000]\n",
      " [0.00000000e+000 0.00000000e+000 0.00000000e+000 ... 0.00000000e+000\n",
      "  0.00000000e+000 4.35574358e-147]\n",
      " [0.00000000e+000 0.00000000e+000 0.00000000e+000 ... 0.00000000e+000\n",
      "  0.00000000e+000 1.79602087e-247]]\n",
      "[[         nan          nan          nan ...          nan          nan\n",
      "   -0.        ]\n",
      " [         nan          nan          nan ...          nan          nan\n",
      "  -11.86871592]\n",
      " [         nan          nan          nan ...          nan          nan\n",
      "    0.        ]\n",
      " ...\n",
      " [         nan          nan          nan ...          nan          nan\n",
      "    0.        ]\n",
      " [         nan          nan          nan ...          nan          nan\n",
      "   -0.        ]\n",
      " [         nan          nan          nan ...          nan          nan\n",
      "   -0.        ]]\n",
      "Epoch 0, Loss [[       nan        nan        nan ...        nan        nan 0.        ]\n",
      " [       nan        nan        nan ...        nan        nan 0.00237374]\n",
      " [       nan        nan        nan ...        nan        nan        nan]\n",
      " ...\n",
      " [       nan        nan        nan ...        nan        nan        inf]\n",
      " [       nan        nan        nan ...        nan        nan 0.        ]\n",
      " [       nan        nan        nan ...        nan        nan 0.        ]]\n"
     ]
    },
    {
     "name": "stderr",
     "output_type": "stream",
     "text": [
      "\r",
      " 20%|██        | 2/10 [00:00<00:02,  3.77it/s]"
     ]
    },
    {
     "name": "stdout",
     "output_type": "stream",
     "text": [
      "[[0.00000000e+000 1.00000000e+000 0.00000000e+000 ... 0.00000000e+000\n",
      "  0.00000000e+000 0.00000000e+000]\n",
      " [0.00000000e+000 1.00000000e+000 0.00000000e+000 ... 0.00000000e+000\n",
      "  0.00000000e+000 0.00000000e+000]\n",
      " [0.00000000e+000 2.02962779e-059 0.00000000e+000 ... 0.00000000e+000\n",
      "  0.00000000e+000 0.00000000e+000]\n",
      " ...\n",
      " [0.00000000e+000 1.00000000e+000 0.00000000e+000 ... 0.00000000e+000\n",
      "  0.00000000e+000 0.00000000e+000]\n",
      " [0.00000000e+000 6.80145297e-127 0.00000000e+000 ... 0.00000000e+000\n",
      "  0.00000000e+000 0.00000000e+000]\n",
      " [0.00000000e+000 4.22962310e-027 0.00000000e+000 ... 0.00000000e+000\n",
      "  0.00000000e+000 0.00000000e+000]]\n",
      "[[ nan   0.  nan ...  nan  nan  nan]\n",
      " [ nan   0.  nan ...  nan  nan -inf]\n",
      " [ nan  -0.  nan ...  nan  nan -inf]\n",
      " ...\n",
      " [ nan   0.  nan ...  nan  nan  nan]\n",
      " [ nan  -0.  nan ...  nan  nan  nan]\n",
      " [ nan  -0.  nan ...  nan  nan  nan]]\n"
     ]
    },
    {
     "name": "stderr",
     "output_type": "stream",
     "text": [
      "\r",
      " 30%|███       | 3/10 [00:00<00:01,  3.69it/s]"
     ]
    },
    {
     "name": "stdout",
     "output_type": "stream",
     "text": [
      "[[0.00000000e+00 0.00000000e+00 0.00000000e+00 ... 0.00000000e+00\n",
      "  0.00000000e+00 0.00000000e+00]\n",
      " [0.00000000e+00 0.00000000e+00 0.00000000e+00 ... 0.00000000e+00\n",
      "  9.23901849e-54 0.00000000e+00]\n",
      " [0.00000000e+00 0.00000000e+00 0.00000000e+00 ... 0.00000000e+00\n",
      "  1.80111566e-67 0.00000000e+00]\n",
      " ...\n",
      " [0.00000000e+00 0.00000000e+00 0.00000000e+00 ... 0.00000000e+00\n",
      "  0.00000000e+00 0.00000000e+00]\n",
      " [0.00000000e+00 0.00000000e+00 0.00000000e+00 ... 0.00000000e+00\n",
      "  0.00000000e+00 0.00000000e+00]\n",
      " [0.00000000e+00 0.00000000e+00 0.00000000e+00 ... 0.00000000e+00\n",
      "  0.00000000e+00 0.00000000e+00]]\n",
      "[[ nan  nan  nan ...  nan  nan  nan]\n",
      " [ nan  nan  nan ...  nan  -0. -inf]\n",
      " [ nan  nan  nan ...  nan  -0. -inf]\n",
      " ...\n",
      " [ nan  nan  nan ...  nan  nan  nan]\n",
      " [ nan  nan  nan ...  nan  nan  nan]\n",
      " [ nan  nan  nan ...  nan  nan  nan]]\n",
      "[[0. 0. 0. ... 0. 0. 0.]\n",
      " [0. 0. 0. ... 0. 0. 0.]\n",
      " [1. 0. 0. ... 0. 0. 0.]\n",
      " ...\n",
      " [0. 0. 0. ... 0. 0. 0.]\n",
      " [0. 0. 0. ... 0. 0. 0.]\n",
      " [0. 0. 0. ... 0. 0. 0.]]\n",
      "[[ nan  nan  nan ...  nan  nan  nan]\n",
      " [ nan  nan  nan ...  nan  nan -inf]\n",
      " [  0.  nan  nan ...  nan  nan -inf]\n",
      " ...\n",
      " [ nan  nan  nan ...  nan  nan  nan]\n",
      " [ nan  nan  nan ...  nan  nan  nan]\n",
      " [ nan  nan  nan ...  nan  nan  nan]]\n"
     ]
    },
    {
     "name": "stderr",
     "output_type": "stream",
     "text": [
      " 50%|█████     | 5/10 [00:01<00:01,  3.45it/s]"
     ]
    },
    {
     "name": "stdout",
     "output_type": "stream",
     "text": [
      "[[0.00000000e+000 0.00000000e+000 0.00000000e+000 ... 6.08573196e-284\n",
      "  0.00000000e+000 0.00000000e+000]\n",
      " [0.00000000e+000 0.00000000e+000 0.00000000e+000 ... 0.00000000e+000\n",
      "  1.00000000e+000 0.00000000e+000]\n",
      " [0.00000000e+000 0.00000000e+000 0.00000000e+000 ... 0.00000000e+000\n",
      "  1.00000000e+000 2.09793596e-133]\n",
      " ...\n",
      " [0.00000000e+000 0.00000000e+000 0.00000000e+000 ... 0.00000000e+000\n",
      "  1.00000000e+000 0.00000000e+000]\n",
      " [0.00000000e+000 0.00000000e+000 0.00000000e+000 ... 0.00000000e+000\n",
      "  0.00000000e+000 0.00000000e+000]\n",
      " [0.00000000e+000 0.00000000e+000 0.00000000e+000 ... 2.03765717e-096\n",
      "  0.00000000e+000 0.00000000e+000]]\n",
      "[[          nan           nan           nan ...   -0.\n",
      "            nan           nan]\n",
      " [          nan           nan           nan ...           nan\n",
      "     0.                  -inf]\n",
      " [          nan           nan           nan ...           nan\n",
      "     0.         -305.50286338]\n",
      " ...\n",
      " [          nan           nan           nan ...           nan\n",
      "     0.                   nan]\n",
      " [          nan           nan           nan ...           nan\n",
      "            nan           nan]\n",
      " [          nan           nan           nan ...   -0.\n",
      "            nan           nan]]\n"
     ]
    },
    {
     "name": "stderr",
     "output_type": "stream",
     "text": [
      "\r",
      " 60%|██████    | 6/10 [00:01<00:01,  3.35it/s]"
     ]
    },
    {
     "name": "stdout",
     "output_type": "stream",
     "text": [
      "[[0.00000000e+000 0.00000000e+000 0.00000000e+000 ... 9.37859056e-107\n",
      "  0.00000000e+000 9.60576412e-235]\n",
      " [0.00000000e+000 0.00000000e+000 0.00000000e+000 ... 0.00000000e+000\n",
      "  0.00000000e+000 6.20804289e-064]\n",
      " [0.00000000e+000 0.00000000e+000 0.00000000e+000 ... 0.00000000e+000\n",
      "  0.00000000e+000 1.00000000e+000]\n",
      " ...\n",
      " [0.00000000e+000 0.00000000e+000 0.00000000e+000 ... 0.00000000e+000\n",
      "  0.00000000e+000 1.00000000e+000]\n",
      " [0.00000000e+000 0.00000000e+000 1.00000000e+000 ... 2.11654059e-078\n",
      "  0.00000000e+000 2.31247092e-209]\n",
      " [0.00000000e+000 0.00000000e+000 6.61282229e-132 ... 1.00000000e+000\n",
      "  0.00000000e+000 0.00000000e+000]]\n",
      "[[          nan           nan           nan ...   -0.\n",
      "            nan   -0.        ]\n",
      " [          nan           nan           nan ...           nan\n",
      "            nan -145.53960026]\n",
      " [          nan           nan           nan ...           nan\n",
      "            nan    0.        ]\n",
      " ...\n",
      " [          nan           nan           nan ...           nan\n",
      "            nan    0.        ]\n",
      " [          nan           nan    0.         ...   -0.\n",
      "            nan   -0.        ]\n",
      " [          nan           nan   -0.         ...    0.\n",
      "            nan           nan]]\n"
     ]
    },
    {
     "name": "stderr",
     "output_type": "stream",
     "text": [
      "\r",
      " 70%|███████   | 7/10 [00:02<00:00,  3.33it/s]"
     ]
    },
    {
     "name": "stdout",
     "output_type": "stream",
     "text": [
      "[[0.00000000e+000 0.00000000e+000 0.00000000e+000 ... 0.00000000e+000\n",
      "  0.00000000e+000 0.00000000e+000]\n",
      " [0.00000000e+000 4.93930871e-217 0.00000000e+000 ... 0.00000000e+000\n",
      "  0.00000000e+000 0.00000000e+000]\n",
      " [0.00000000e+000 0.00000000e+000 0.00000000e+000 ... 0.00000000e+000\n",
      "  0.00000000e+000 0.00000000e+000]\n",
      " ...\n",
      " [0.00000000e+000 0.00000000e+000 0.00000000e+000 ... 0.00000000e+000\n",
      "  0.00000000e+000 0.00000000e+000]\n",
      " [0.00000000e+000 0.00000000e+000 0.00000000e+000 ... 0.00000000e+000\n",
      "  0.00000000e+000 0.00000000e+000]\n",
      " [0.00000000e+000 0.00000000e+000 0.00000000e+000 ... 0.00000000e+000\n",
      "  0.00000000e+000 0.00000000e+000]]\n",
      "[[ nan  nan  nan ...  nan  nan  nan]\n",
      " [ nan  -0.  nan ...  nan  nan -inf]\n",
      " [ nan  nan  nan ...  nan  nan -inf]\n",
      " ...\n",
      " [ nan  nan  nan ...  nan  nan  nan]\n",
      " [ nan  nan  nan ...  nan  nan  nan]\n",
      " [ nan  nan  nan ...  nan  nan  nan]]\n"
     ]
    },
    {
     "name": "stderr",
     "output_type": "stream",
     "text": [
      "\r",
      " 80%|████████  | 8/10 [00:02<00:00,  3.39it/s]"
     ]
    },
    {
     "name": "stdout",
     "output_type": "stream",
     "text": [
      "[[0.00000000e+000 1.00000000e+000 0.00000000e+000 ... 1.40267303e-104\n",
      "  0.00000000e+000 0.00000000e+000]\n",
      " [0.00000000e+000 1.00000000e+000 0.00000000e+000 ... 0.00000000e+000\n",
      "  0.00000000e+000 0.00000000e+000]\n",
      " [0.00000000e+000 1.00000000e+000 0.00000000e+000 ... 0.00000000e+000\n",
      "  0.00000000e+000 0.00000000e+000]\n",
      " ...\n",
      " [0.00000000e+000 1.00000000e+000 0.00000000e+000 ... 0.00000000e+000\n",
      "  0.00000000e+000 0.00000000e+000]\n",
      " [0.00000000e+000 3.25076726e-040 0.00000000e+000 ... 1.05986567e-066\n",
      "  0.00000000e+000 0.00000000e+000]\n",
      " [0.00000000e+000 1.25398398e-002 0.00000000e+000 ... 9.99999977e-001\n",
      "  0.00000000e+000 0.00000000e+000]]\n",
      "[[ nan   0.  nan ...  -0.  nan  nan]\n",
      " [ nan   0.  nan ...  nan  nan -inf]\n",
      " [ nan   0.  nan ...  nan  nan -inf]\n",
      " ...\n",
      " [ nan   0.  nan ...  nan  nan  nan]\n",
      " [ nan  -0.  nan ...  -0.  nan  nan]\n",
      " [ nan  -0.  nan ...  -0.  nan  nan]]\n",
      "[[0.00000000e+000 0.00000000e+000 1.00000000e+000 ... 0.00000000e+000\n",
      "  0.00000000e+000 0.00000000e+000]\n",
      " [0.00000000e+000 0.00000000e+000 1.00000000e+000 ... 0.00000000e+000\n",
      "  0.00000000e+000 0.00000000e+000]\n",
      " [4.08814676e-273 0.00000000e+000 1.00000000e+000 ... 0.00000000e+000\n",
      "  0.00000000e+000 0.00000000e+000]\n",
      " ...\n",
      " [0.00000000e+000 0.00000000e+000 1.00000000e+000 ... 0.00000000e+000\n",
      "  0.00000000e+000 0.00000000e+000]\n",
      " [0.00000000e+000 0.00000000e+000 1.00000000e+000 ... 0.00000000e+000\n",
      "  0.00000000e+000 0.00000000e+000]\n",
      " [0.00000000e+000 0.00000000e+000 1.00000000e+000 ... 0.00000000e+000\n",
      "  0.00000000e+000 0.00000000e+000]]\n",
      "[[ nan  nan   0. ...  nan  nan  nan]\n",
      " [ nan  nan   0. ...  nan  nan -inf]\n",
      " [ -0.  nan   0. ...  nan  nan -inf]\n",
      " ...\n",
      " [ nan  nan   0. ...  nan  nan  nan]\n",
      " [ nan  nan   0. ...  nan  nan  nan]\n",
      " [ nan  nan   0. ...  nan  nan  nan]]\n"
     ]
    },
    {
     "name": "stderr",
     "output_type": "stream",
     "text": [
      "\r",
      " 90%|█████████ | 9/10 [00:02<00:00,  2.80it/s]"
     ]
    },
    {
     "name": "stdout",
     "output_type": "stream",
     "text": [
      "[[0.00000000e+000 0.00000000e+000 0.00000000e+000 ... 5.84898433e-168\n",
      "  0.00000000e+000 0.00000000e+000]\n",
      " [0.00000000e+000 0.00000000e+000 0.00000000e+000 ... 0.00000000e+000\n",
      "  1.00000000e+000 0.00000000e+000]\n",
      " [0.00000000e+000 0.00000000e+000 0.00000000e+000 ... 0.00000000e+000\n",
      "  1.00000000e+000 1.00000000e+000]\n",
      " ...\n",
      " [0.00000000e+000 0.00000000e+000 0.00000000e+000 ... 0.00000000e+000\n",
      "  1.10669623e-164 8.10958089e-219]\n",
      " [0.00000000e+000 0.00000000e+000 0.00000000e+000 ... 1.38959306e-153\n",
      "  0.00000000e+000 0.00000000e+000]\n",
      " [0.00000000e+000 0.00000000e+000 0.00000000e+000 ... 8.70302067e-058\n",
      "  0.00000000e+000 0.00000000e+000]]\n",
      "[[ nan  nan  nan ...  -0.  nan  nan]\n",
      " [ nan  nan  nan ...  nan   0. -inf]\n",
      " [ nan  nan  nan ...  nan   0.   0.]\n",
      " ...\n",
      " [ nan  nan  nan ...  nan  -0.  -0.]\n",
      " [ nan  nan  nan ...  -0.  nan  nan]\n",
      " [ nan  nan  nan ...  -0.  nan  nan]]\n"
     ]
    },
    {
     "name": "stderr",
     "output_type": "stream",
     "text": [
      "100%|██████████| 10/10 [00:03<00:00,  3.09it/s]\n",
      "  0%|          | 0/10 [00:00<?, ?it/s]"
     ]
    },
    {
     "name": "stdout",
     "output_type": "stream",
     "text": [
      "[[0.00000000e+000 0.00000000e+000 0.00000000e+000 ... 0.00000000e+000\n",
      "  0.00000000e+000 0.00000000e+000]\n",
      " [2.39423424e-155 0.00000000e+000 0.00000000e+000 ... 0.00000000e+000\n",
      "  0.00000000e+000 0.00000000e+000]\n",
      " [1.00000000e+000 0.00000000e+000 0.00000000e+000 ... 0.00000000e+000\n",
      "  0.00000000e+000 1.00000000e+000]\n",
      " ...\n",
      " [0.00000000e+000 0.00000000e+000 0.00000000e+000 ... 0.00000000e+000\n",
      "  0.00000000e+000 1.00000000e+000]\n",
      " [0.00000000e+000 0.00000000e+000 0.00000000e+000 ... 0.00000000e+000\n",
      "  0.00000000e+000 0.00000000e+000]\n",
      " [7.15193364e-291 0.00000000e+000 0.00000000e+000 ... 0.00000000e+000\n",
      "  0.00000000e+000 0.00000000e+000]]\n",
      "[[ nan  nan  nan ...  nan  nan  nan]\n",
      " [ -0.  nan  nan ...  nan  nan -inf]\n",
      " [  0.  nan  nan ...  nan  nan   0.]\n",
      " ...\n",
      " [ nan  nan  nan ...  nan  nan   0.]\n",
      " [ nan  nan  nan ...  nan  nan  nan]\n",
      " [ -0.  nan  nan ...  nan  nan  nan]]\n"
     ]
    },
    {
     "name": "stderr",
     "output_type": "stream",
     "text": [
      "\r",
      " 10%|█         | 1/10 [00:00<00:03,  2.92it/s]"
     ]
    },
    {
     "name": "stdout",
     "output_type": "stream",
     "text": [
      "Epoch 0, Loss [[nan nan nan ... nan nan nan]\n",
      " [ 0. nan nan ... nan nan inf]\n",
      " [inf nan nan ... nan nan nan]\n",
      " ...\n",
      " [nan nan nan ... nan nan inf]\n",
      " [nan nan nan ... nan nan nan]\n",
      " [ 0. nan nan ... nan nan nan]]\n",
      "[[0.0000000e+00 0.0000000e+00 0.0000000e+00 ... 1.0000000e+00\n",
      "  0.0000000e+00 0.0000000e+00]\n",
      " [0.0000000e+00 0.0000000e+00 0.0000000e+00 ... 1.5156397e-13\n",
      "  0.0000000e+00 0.0000000e+00]\n",
      " [0.0000000e+00 0.0000000e+00 0.0000000e+00 ... 1.0000000e+00\n",
      "  0.0000000e+00 0.0000000e+00]\n",
      " ...\n",
      " [0.0000000e+00 0.0000000e+00 0.0000000e+00 ... 1.0000000e+00\n",
      "  0.0000000e+00 0.0000000e+00]\n",
      " [0.0000000e+00 0.0000000e+00 0.0000000e+00 ... 1.0000000e+00\n",
      "  0.0000000e+00 0.0000000e+00]\n",
      " [0.0000000e+00 0.0000000e+00 0.0000000e+00 ... 1.0000000e+00\n",
      "  0.0000000e+00 0.0000000e+00]]\n",
      "[[ nan  nan  nan ...   0.  nan  nan]\n",
      " [ nan  nan  nan ...  -0.  nan -inf]\n",
      " [ nan  nan  nan ...   0.  nan -inf]\n",
      " ...\n",
      " [ nan  nan  nan ...   0.  nan  nan]\n",
      " [ nan  nan  nan ...   0.  nan  nan]\n",
      " [ nan  nan  nan ...   0.  nan  nan]]\n"
     ]
    },
    {
     "name": "stderr",
     "output_type": "stream",
     "text": [
      " 30%|███       | 3/10 [00:00<00:02,  3.05it/s]"
     ]
    },
    {
     "name": "stdout",
     "output_type": "stream",
     "text": [
      "[[0.00000000e+000 0.00000000e+000 0.00000000e+000 ... 0.00000000e+000\n",
      "  0.00000000e+000 0.00000000e+000]\n",
      " [0.00000000e+000 0.00000000e+000 0.00000000e+000 ... 0.00000000e+000\n",
      "  7.56032360e-171 0.00000000e+000]\n",
      " [0.00000000e+000 0.00000000e+000 0.00000000e+000 ... 0.00000000e+000\n",
      "  8.24781293e-186 0.00000000e+000]\n",
      " ...\n",
      " [0.00000000e+000 0.00000000e+000 0.00000000e+000 ... 0.00000000e+000\n",
      "  0.00000000e+000 0.00000000e+000]\n",
      " [0.00000000e+000 0.00000000e+000 0.00000000e+000 ... 0.00000000e+000\n",
      "  0.00000000e+000 0.00000000e+000]\n",
      " [0.00000000e+000 0.00000000e+000 0.00000000e+000 ... 0.00000000e+000\n",
      "  0.00000000e+000 0.00000000e+000]]\n",
      "[[ nan  nan  nan ...  nan  nan  nan]\n",
      " [ nan  nan  nan ...  nan  -0. -inf]\n",
      " [ nan  nan  nan ...  nan  -0. -inf]\n",
      " ...\n",
      " [ nan  nan  nan ...  nan  nan  nan]\n",
      " [ nan  nan  nan ...  nan  nan  nan]\n",
      " [ nan  nan  nan ...  nan  nan  nan]]\n"
     ]
    },
    {
     "name": "stderr",
     "output_type": "stream",
     "text": [
      "\r",
      " 40%|████      | 4/10 [00:01<00:01,  3.48it/s]"
     ]
    },
    {
     "name": "stdout",
     "output_type": "stream",
     "text": [
      "[[0.00000000e+000 0.00000000e+000 0.00000000e+000 ... 0.00000000e+000\n",
      "  0.00000000e+000 0.00000000e+000]\n",
      " [0.00000000e+000 5.31068963e-212 0.00000000e+000 ... 0.00000000e+000\n",
      "  1.96061416e-136 0.00000000e+000]\n",
      " [0.00000000e+000 0.00000000e+000 0.00000000e+000 ... 0.00000000e+000\n",
      "  3.24738391e-133 1.00000000e+000]\n",
      " ...\n",
      " [0.00000000e+000 0.00000000e+000 0.00000000e+000 ... 0.00000000e+000\n",
      "  0.00000000e+000 1.00000000e+000]\n",
      " [0.00000000e+000 0.00000000e+000 0.00000000e+000 ... 0.00000000e+000\n",
      "  0.00000000e+000 0.00000000e+000]\n",
      " [0.00000000e+000 0.00000000e+000 0.00000000e+000 ... 0.00000000e+000\n",
      "  0.00000000e+000 0.00000000e+000]]\n",
      "[[ nan  nan  nan ...  nan  nan  nan]\n",
      " [ nan  -0.  nan ...  nan  -0. -inf]\n",
      " [ nan  nan  nan ...  nan  -0.   0.]\n",
      " ...\n",
      " [ nan  nan  nan ...  nan  nan   0.]\n",
      " [ nan  nan  nan ...  nan  nan  nan]\n",
      " [ nan  nan  nan ...  nan  nan  nan]]\n"
     ]
    },
    {
     "name": "stderr",
     "output_type": "stream",
     "text": [
      "\r",
      " 50%|█████     | 5/10 [00:01<00:01,  3.53it/s]"
     ]
    },
    {
     "name": "stdout",
     "output_type": "stream",
     "text": [
      "[[0.00000000e+000 1.00000000e+000 0.00000000e+000 ... 0.00000000e+000\n",
      "  0.00000000e+000 0.00000000e+000]\n",
      " [0.00000000e+000 1.00000000e+000 0.00000000e+000 ... 0.00000000e+000\n",
      "  1.59378797e-287 0.00000000e+000]\n",
      " [0.00000000e+000 1.00000000e+000 0.00000000e+000 ... 0.00000000e+000\n",
      "  1.86622695e-290 0.00000000e+000]\n",
      " ...\n",
      " [0.00000000e+000 1.00000000e+000 0.00000000e+000 ... 0.00000000e+000\n",
      "  0.00000000e+000 0.00000000e+000]\n",
      " [0.00000000e+000 2.10346934e-121 0.00000000e+000 ... 0.00000000e+000\n",
      "  0.00000000e+000 0.00000000e+000]\n",
      " [0.00000000e+000 1.60874940e-061 0.00000000e+000 ... 0.00000000e+000\n",
      "  0.00000000e+000 0.00000000e+000]]\n",
      "[[ nan   0.  nan ...  nan  nan  nan]\n",
      " [ nan   0.  nan ...  nan  -0. -inf]\n",
      " [ nan   0.  nan ...  nan  -0. -inf]\n",
      " ...\n",
      " [ nan   0.  nan ...  nan  nan  nan]\n",
      " [ nan  -0.  nan ...  nan  nan  nan]\n",
      " [ nan  -0.  nan ...  nan  nan  nan]]\n",
      "[[0.00000000e+000 0.00000000e+000 0.00000000e+000 ... 0.00000000e+000\n",
      "  0.00000000e+000 0.00000000e+000]\n",
      " [0.00000000e+000 0.00000000e+000 0.00000000e+000 ... 0.00000000e+000\n",
      "  1.00000000e+000 0.00000000e+000]\n",
      " [0.00000000e+000 0.00000000e+000 0.00000000e+000 ... 0.00000000e+000\n",
      "  1.00000000e+000 1.00000000e+000]\n",
      " ...\n",
      " [0.00000000e+000 0.00000000e+000 0.00000000e+000 ... 0.00000000e+000\n",
      "  6.11292638e-309 0.00000000e+000]\n",
      " [0.00000000e+000 0.00000000e+000 0.00000000e+000 ... 0.00000000e+000\n",
      "  0.00000000e+000 0.00000000e+000]\n",
      " [0.00000000e+000 0.00000000e+000 0.00000000e+000 ... 0.00000000e+000\n",
      "  0.00000000e+000 0.00000000e+000]]\n",
      "[[ nan  nan  nan ...  nan  nan  nan]\n",
      " [ nan  nan  nan ...  nan   0. -inf]\n",
      " [ nan  nan  nan ...  nan   0.   0.]\n",
      " ...\n",
      " [ nan  nan  nan ...  nan  -0.  nan]\n",
      " [ nan  nan  nan ...  nan  nan  nan]\n",
      " [ nan  nan  nan ...  nan  nan  nan]]\n"
     ]
    },
    {
     "name": "stderr",
     "output_type": "stream",
     "text": [
      " 70%|███████   | 7/10 [00:02<00:00,  3.23it/s]"
     ]
    },
    {
     "name": "stdout",
     "output_type": "stream",
     "text": [
      "[[0.00000000e+000 0.00000000e+000 0.00000000e+000 ... 0.00000000e+000\n",
      "  0.00000000e+000 2.62918985e-184]\n",
      " [0.00000000e+000 0.00000000e+000 0.00000000e+000 ... 0.00000000e+000\n",
      "  0.00000000e+000 2.12486616e-068]\n",
      " [1.00000000e+000 0.00000000e+000 0.00000000e+000 ... 0.00000000e+000\n",
      "  0.00000000e+000 1.00000000e+000]\n",
      " ...\n",
      " [0.00000000e+000 0.00000000e+000 0.00000000e+000 ... 0.00000000e+000\n",
      "  0.00000000e+000 1.00000000e+000]\n",
      " [0.00000000e+000 0.00000000e+000 0.00000000e+000 ... 0.00000000e+000\n",
      "  0.00000000e+000 1.25740370e-207]\n",
      " [0.00000000e+000 0.00000000e+000 0.00000000e+000 ... 0.00000000e+000\n",
      "  0.00000000e+000 4.98841667e-271]]\n",
      "[[          nan           nan           nan ...           nan\n",
      "            nan   -0.        ]\n",
      " [          nan           nan           nan ...           nan\n",
      "            nan -155.82207751]\n",
      " [   0.                   nan           nan ...           nan\n",
      "            nan    0.        ]\n",
      " ...\n",
      " [          nan           nan           nan ...           nan\n",
      "            nan    0.        ]\n",
      " [          nan           nan           nan ...           nan\n",
      "            nan   -0.        ]\n",
      " [          nan           nan           nan ...           nan\n",
      "            nan   -0.        ]]\n"
     ]
    },
    {
     "name": "stderr",
     "output_type": "stream",
     "text": [
      "\r",
      " 80%|████████  | 8/10 [00:02<00:00,  3.19it/s]"
     ]
    },
    {
     "name": "stdout",
     "output_type": "stream",
     "text": [
      "[[0.00000000e+00 0.00000000e+00 4.53467613e-56 ... 0.00000000e+00\n",
      "  0.00000000e+00 0.00000000e+00]\n",
      " [0.00000000e+00 0.00000000e+00 1.00000000e+00 ... 0.00000000e+00\n",
      "  0.00000000e+00 0.00000000e+00]\n",
      " [0.00000000e+00 0.00000000e+00 0.00000000e+00 ... 0.00000000e+00\n",
      "  0.00000000e+00 0.00000000e+00]\n",
      " ...\n",
      " [0.00000000e+00 0.00000000e+00 0.00000000e+00 ... 0.00000000e+00\n",
      "  0.00000000e+00 0.00000000e+00]\n",
      " [0.00000000e+00 0.00000000e+00 1.00000000e+00 ... 0.00000000e+00\n",
      "  0.00000000e+00 0.00000000e+00]\n",
      " [0.00000000e+00 0.00000000e+00 1.00000000e+00 ... 0.00000000e+00\n",
      "  0.00000000e+00 0.00000000e+00]]\n",
      "[[ nan  nan  -0. ...  nan  nan  nan]\n",
      " [ nan  nan   0. ...  nan  nan -inf]\n",
      " [ nan  nan  nan ...  nan  nan -inf]\n",
      " ...\n",
      " [ nan  nan  nan ...  nan  nan  nan]\n",
      " [ nan  nan   0. ...  nan  nan  nan]\n",
      " [ nan  nan   0. ...  nan  nan  nan]]\n",
      "[[0. 0. 0. ... 0. 0. 0.]\n",
      " [0. 0. 0. ... 0. 1. 0.]\n",
      " [0. 0. 0. ... 0. 1. 0.]\n",
      " ...\n",
      " [0. 0. 0. ... 0. 1. 0.]\n",
      " [0. 0. 0. ... 0. 0. 0.]\n",
      " [0. 0. 0. ... 0. 0. 0.]]\n",
      "[[ nan  nan  nan ...  nan  nan  nan]\n",
      " [ nan  nan  nan ...  nan   0. -inf]\n",
      " [ nan  nan  nan ...  nan   0. -inf]\n",
      " ...\n",
      " [ nan  nan  nan ...  nan   0.  nan]\n",
      " [ nan  nan  nan ...  nan  nan  nan]\n",
      " [ nan  nan  nan ...  nan  nan  nan]]\n"
     ]
    },
    {
     "name": "stderr",
     "output_type": "stream",
     "text": [
      "100%|██████████| 10/10 [00:03<00:00,  3.07it/s]"
     ]
    },
    {
     "name": "stdout",
     "output_type": "stream",
     "text": [
      "[[0.00000000e+000 0.00000000e+000 0.00000000e+000 ... 0.00000000e+000\n",
      "  0.00000000e+000 0.00000000e+000]\n",
      " [2.97516603e-233 0.00000000e+000 0.00000000e+000 ... 0.00000000e+000\n",
      "  0.00000000e+000 0.00000000e+000]\n",
      " [1.00000000e+000 0.00000000e+000 0.00000000e+000 ... 0.00000000e+000\n",
      "  0.00000000e+000 0.00000000e+000]\n",
      " ...\n",
      " [0.00000000e+000 0.00000000e+000 0.00000000e+000 ... 0.00000000e+000\n",
      "  0.00000000e+000 0.00000000e+000]\n",
      " [0.00000000e+000 0.00000000e+000 0.00000000e+000 ... 0.00000000e+000\n",
      "  0.00000000e+000 0.00000000e+000]\n",
      " [0.00000000e+000 0.00000000e+000 0.00000000e+000 ... 2.40498284e-301\n",
      "  0.00000000e+000 0.00000000e+000]]\n",
      "[[ nan  nan  nan ...  nan  nan  nan]\n",
      " [ -0.  nan  nan ...  nan  nan -inf]\n",
      " [  0.  nan  nan ...  nan  nan -inf]\n",
      " ...\n",
      " [ nan  nan  nan ...  nan  nan  nan]\n",
      " [ nan  nan  nan ...  nan  nan  nan]\n",
      " [ nan  nan  nan ...  -0.  nan  nan]]\n"
     ]
    },
    {
     "name": "stderr",
     "output_type": "stream",
     "text": [
      "\n",
      " 10%|█         | 1/10 [00:00<00:02,  3.43it/s]"
     ]
    },
    {
     "name": "stdout",
     "output_type": "stream",
     "text": [
      "[[0.00000000e+000 1.00000000e+000 0.00000000e+000 ... 1.00000000e+000\n",
      "  0.00000000e+000 0.00000000e+000]\n",
      " [0.00000000e+000 1.00000000e+000 0.00000000e+000 ... 1.04064401e-117\n",
      "  0.00000000e+000 0.00000000e+000]\n",
      " [0.00000000e+000 1.00000000e+000 0.00000000e+000 ... 3.42791784e-015\n",
      "  0.00000000e+000 1.00000000e+000]\n",
      " ...\n",
      " [0.00000000e+000 1.00000000e+000 0.00000000e+000 ... 2.95830834e-040\n",
      "  0.00000000e+000 1.18609620e-188]\n",
      " [0.00000000e+000 4.69582947e-110 0.00000000e+000 ... 1.00000000e+000\n",
      "  0.00000000e+000 0.00000000e+000]\n",
      " [0.00000000e+000 3.71592137e-048 0.00000000e+000 ... 1.00000000e+000\n",
      "  0.00000000e+000 0.00000000e+000]]\n",
      "[[ nan   0.  nan ...   0.  nan  nan]\n",
      " [ nan   0.  nan ...  -0.  nan -inf]\n",
      " [ nan   0.  nan ...  -0.  nan   0.]\n",
      " ...\n",
      " [ nan   0.  nan ...  -0.  nan  -0.]\n",
      " [ nan  -0.  nan ...   0.  nan  nan]\n",
      " [ nan  -0.  nan ...   0.  nan  nan]]\n",
      "Epoch 0, Loss [[           nan            inf            nan ...            inf\n",
      "             nan            nan]\n",
      " [           nan            inf            nan ... 0.00000000e+00\n",
      "             nan            inf]\n",
      " [           nan            inf            nan ... 6.88338275e-19\n",
      "             nan            nan]\n",
      " ...\n",
      " [           nan            inf            nan ... 0.00000000e+00\n",
      "             nan 0.00000000e+00]\n",
      " [           nan 0.00000000e+00            nan ...            inf\n",
      "             nan            nan]\n",
      " [           nan 0.00000000e+00            nan ...            inf\n",
      "             nan            nan]]\n"
     ]
    },
    {
     "name": "stderr",
     "output_type": "stream",
     "text": [
      "\r",
      " 20%|██        | 2/10 [00:00<00:03,  2.39it/s]"
     ]
    },
    {
     "name": "stdout",
     "output_type": "stream",
     "text": [
      "[[0. 0. 0. ... 0. 0. 0.]\n",
      " [0. 0. 0. ... 0. 0. 0.]\n",
      " [0. 0. 0. ... 0. 0. 1.]\n",
      " ...\n",
      " [0. 0. 0. ... 0. 0. 1.]\n",
      " [0. 0. 0. ... 0. 0. 0.]\n",
      " [0. 0. 0. ... 0. 0. 0.]]\n",
      "[[ nan  nan  nan ...  nan  nan  nan]\n",
      " [ nan  nan  nan ...  nan  nan -inf]\n",
      " [ nan  nan  nan ...  nan  nan   0.]\n",
      " ...\n",
      " [ nan  nan  nan ...  nan  nan   0.]\n",
      " [ nan  nan  nan ...  nan  nan  nan]\n",
      " [ nan  nan  nan ...  nan  nan  nan]]\n",
      "[[0. 0. 0. ... 0. 0. 0.]\n",
      " [0. 0. 0. ... 0. 0. 0.]\n",
      " [0. 0. 0. ... 0. 0. 0.]\n",
      " ...\n",
      " [0. 0. 0. ... 0. 0. 0.]\n",
      " [0. 0. 0. ... 0. 0. 0.]\n",
      " [0. 0. 0. ... 0. 0. 0.]]\n",
      "[[ nan  nan  nan ...  nan  nan  nan]\n",
      " [ nan  nan  nan ...  nan  nan -inf]\n",
      " [ nan  nan  nan ...  nan  nan -inf]\n",
      " ...\n",
      " [ nan  nan  nan ...  nan  nan  nan]\n",
      " [ nan  nan  nan ...  nan  nan  nan]\n",
      " [ nan  nan  nan ...  nan  nan  nan]]\n"
     ]
    },
    {
     "name": "stderr",
     "output_type": "stream",
     "text": [
      " 40%|████      | 4/10 [00:01<00:02,  2.76it/s]"
     ]
    },
    {
     "name": "stdout",
     "output_type": "stream",
     "text": [
      "[[0. 0. 0. ... 0. 0. 0.]\n",
      " [0. 0. 0. ... 0. 0. 0.]\n",
      " [0. 0. 0. ... 0. 0. 0.]\n",
      " ...\n",
      " [0. 0. 0. ... 0. 0. 0.]\n",
      " [0. 0. 0. ... 0. 0. 0.]\n",
      " [0. 0. 0. ... 0. 0. 0.]]\n",
      "[[ nan  nan  nan ...  nan  nan  nan]\n",
      " [ nan  nan  nan ...  nan  nan -inf]\n",
      " [ nan  nan  nan ...  nan  nan -inf]\n",
      " ...\n",
      " [ nan  nan  nan ...  nan  nan  nan]\n",
      " [ nan  nan  nan ...  nan  nan  nan]\n",
      " [ nan  nan  nan ...  nan  nan  nan]]\n",
      "[[0.00000000e+000 0.00000000e+000 1.00000000e+000 ... 0.00000000e+000\n",
      "  0.00000000e+000 0.00000000e+000]\n",
      " [0.00000000e+000 0.00000000e+000 1.00000000e+000 ... 0.00000000e+000\n",
      "  1.00000000e+000 0.00000000e+000]\n",
      " [1.00000000e+000 0.00000000e+000 5.18557636e-154 ... 0.00000000e+000\n",
      "  1.00000000e+000 1.00000000e+000]\n",
      " ...\n",
      " [0.00000000e+000 0.00000000e+000 3.90852499e-138 ... 0.00000000e+000\n",
      "  2.44235093e-038 1.00000000e+000]\n",
      " [0.00000000e+000 0.00000000e+000 1.00000000e+000 ... 0.00000000e+000\n",
      "  0.00000000e+000 0.00000000e+000]\n",
      " [0.00000000e+000 0.00000000e+000 1.00000000e+000 ... 0.00000000e+000\n",
      "  0.00000000e+000 0.00000000e+000]]\n",
      "[[ nan  nan   0. ...  nan  nan  nan]\n",
      " [ nan  nan   0. ...  nan   0. -inf]\n",
      " [  0.  nan  -0. ...  nan   0.   0.]\n",
      " ...\n",
      " [ nan  nan  -0. ...  nan  -0.   0.]\n",
      " [ nan  nan   0. ...  nan  nan  nan]\n",
      " [ nan  nan   0. ...  nan  nan  nan]]\n"
     ]
    },
    {
     "name": "stderr",
     "output_type": "stream",
     "text": [
      "\r",
      " 50%|█████     | 5/10 [00:02<00:02,  1.92it/s]"
     ]
    },
    {
     "name": "stdout",
     "output_type": "stream",
     "text": [
      "[[0. 0. 0. ... 0. 0. 0.]\n",
      " [0. 0. 0. ... 0. 0. 0.]\n",
      " [0. 0. 0. ... 0. 0. 0.]\n",
      " ...\n",
      " [0. 0. 0. ... 0. 0. 0.]\n",
      " [0. 0. 0. ... 0. 0. 0.]\n",
      " [0. 0. 0. ... 0. 0. 0.]]\n",
      "[[ nan  nan  nan ...  nan  nan  nan]\n",
      " [ nan  nan  nan ...  nan  nan -inf]\n",
      " [ nan  nan  nan ...  nan  nan -inf]\n",
      " ...\n",
      " [ nan  nan  nan ...  nan  nan  nan]\n",
      " [ nan  nan  nan ...  nan  nan  nan]\n",
      " [ nan  nan  nan ...  nan  nan  nan]]\n"
     ]
    },
    {
     "name": "stderr",
     "output_type": "stream",
     "text": [
      "\r",
      " 60%|██████    | 6/10 [00:02<00:01,  2.04it/s]"
     ]
    },
    {
     "name": "stdout",
     "output_type": "stream",
     "text": [
      "[[0.00000000e+000 1.00000000e+000 0.00000000e+000 ... 0.00000000e+000\n",
      "  0.00000000e+000 0.00000000e+000]\n",
      " [0.00000000e+000 1.00000000e+000 0.00000000e+000 ... 0.00000000e+000\n",
      "  0.00000000e+000 0.00000000e+000]\n",
      " [0.00000000e+000 8.06884919e-101 0.00000000e+000 ... 0.00000000e+000\n",
      "  0.00000000e+000 0.00000000e+000]\n",
      " ...\n",
      " [0.00000000e+000 1.00000000e+000 0.00000000e+000 ... 0.00000000e+000\n",
      "  0.00000000e+000 0.00000000e+000]\n",
      " [0.00000000e+000 2.29757810e-275 0.00000000e+000 ... 0.00000000e+000\n",
      "  0.00000000e+000 0.00000000e+000]\n",
      " [0.00000000e+000 1.92284909e-126 0.00000000e+000 ... 0.00000000e+000\n",
      "  0.00000000e+000 0.00000000e+000]]\n",
      "[[ nan   0.  nan ...  nan  nan  nan]\n",
      " [ nan   0.  nan ...  nan  nan -inf]\n",
      " [ nan  -0.  nan ...  nan  nan -inf]\n",
      " ...\n",
      " [ nan   0.  nan ...  nan  nan  nan]\n",
      " [ nan  -0.  nan ...  nan  nan  nan]\n",
      " [ nan  -0.  nan ...  nan  nan  nan]]\n"
     ]
    },
    {
     "name": "stderr",
     "output_type": "stream",
     "text": [
      "\r",
      " 70%|███████   | 7/10 [00:03<00:01,  1.63it/s]"
     ]
    },
    {
     "name": "stdout",
     "output_type": "stream",
     "text": [
      "[[0. 0. 0. ... 0. 0. 0.]\n",
      " [0. 0. 0. ... 0. 0. 0.]\n",
      " [1. 0. 0. ... 0. 0. 1.]\n",
      " ...\n",
      " [0. 0. 0. ... 0. 0. 1.]\n",
      " [0. 0. 0. ... 0. 0. 0.]\n",
      " [0. 0. 0. ... 0. 0. 0.]]\n",
      "[[ nan  nan  nan ...  nan  nan  nan]\n",
      " [ nan  nan  nan ...  nan  nan -inf]\n",
      " [  0.  nan  nan ...  nan  nan   0.]\n",
      " ...\n",
      " [ nan  nan  nan ...  nan  nan   0.]\n",
      " [ nan  nan  nan ...  nan  nan  nan]\n",
      " [ nan  nan  nan ...  nan  nan  nan]]\n"
     ]
    },
    {
     "name": "stderr",
     "output_type": "stream",
     "text": [
      " 90%|█████████ | 9/10 [00:04<00:00,  2.02it/s]"
     ]
    },
    {
     "name": "stdout",
     "output_type": "stream",
     "text": [
      "[[0. 0. 0. ... 1. 0. 0.]\n",
      " [0. 0. 0. ... 0. 1. 0.]\n",
      " [0. 0. 0. ... 0. 1. 0.]\n",
      " ...\n",
      " [0. 0. 0. ... 0. 1. 0.]\n",
      " [0. 0. 0. ... 1. 0. 0.]\n",
      " [0. 0. 0. ... 1. 0. 0.]]\n",
      "[[ nan  nan  nan ...   0.  nan  nan]\n",
      " [ nan  nan  nan ...  nan   0. -inf]\n",
      " [ nan  nan  nan ...  nan   0. -inf]\n",
      " ...\n",
      " [ nan  nan  nan ...  nan   0.  nan]\n",
      " [ nan  nan  nan ...   0.  nan  nan]\n",
      " [ nan  nan  nan ...   0.  nan  nan]]\n"
     ]
    },
    {
     "name": "stderr",
     "output_type": "stream",
     "text": [
      "\r",
      "100%|██████████| 10/10 [00:04<00:00,  2.29it/s]"
     ]
    },
    {
     "name": "stdout",
     "output_type": "stream",
     "text": [
      "[[0. 0. 0. ... 0. 0. 0.]\n",
      " [0. 0. 0. ... 0. 0. 0.]\n",
      " [0. 0. 0. ... 0. 0. 0.]\n",
      " ...\n",
      " [0. 0. 0. ... 0. 0. 0.]\n",
      " [0. 0. 0. ... 0. 0. 0.]\n",
      " [0. 0. 0. ... 0. 0. 0.]]\n",
      "[[ nan  nan  nan ...  nan  nan  nan]\n",
      " [ nan  nan  nan ...  nan  nan -inf]\n",
      " [ nan  nan  nan ...  nan  nan -inf]\n",
      " ...\n",
      " [ nan  nan  nan ...  nan  nan  nan]\n",
      " [ nan  nan  nan ...  nan  nan  nan]\n",
      " [ nan  nan  nan ...  nan  nan  nan]]\n"
     ]
    },
    {
     "name": "stderr",
     "output_type": "stream",
     "text": [
      "100%|██████████| 10/10 [00:04<00:00,  2.08it/s]\n",
      "  0%|          | 0/10 [00:00<?, ?it/s]"
     ]
    },
    {
     "name": "stdout",
     "output_type": "stream",
     "text": [
      "[[0.00000000e+000 2.86952444e-168 0.00000000e+000 ... 0.00000000e+000\n",
      "  0.00000000e+000 0.00000000e+000]\n",
      " [0.00000000e+000 1.00000000e+000 0.00000000e+000 ... 0.00000000e+000\n",
      "  0.00000000e+000 0.00000000e+000]\n",
      " [0.00000000e+000 0.00000000e+000 0.00000000e+000 ... 0.00000000e+000\n",
      "  0.00000000e+000 1.00000000e+000]\n",
      " ...\n",
      " [0.00000000e+000 0.00000000e+000 0.00000000e+000 ... 0.00000000e+000\n",
      "  0.00000000e+000 1.00000000e+000]\n",
      " [0.00000000e+000 0.00000000e+000 0.00000000e+000 ... 0.00000000e+000\n",
      "  0.00000000e+000 0.00000000e+000]\n",
      " [0.00000000e+000 0.00000000e+000 0.00000000e+000 ... 0.00000000e+000\n",
      "  0.00000000e+000 0.00000000e+000]]\n",
      "[[ nan  -0.  nan ...  nan  nan  nan]\n",
      " [ nan   0.  nan ...  nan  nan -inf]\n",
      " [ nan  nan  nan ...  nan  nan   0.]\n",
      " ...\n",
      " [ nan  nan  nan ...  nan  nan   0.]\n",
      " [ nan  nan  nan ...  nan  nan  nan]\n",
      " [ nan  nan  nan ...  nan  nan  nan]]\n",
      "Epoch 0, Loss [[nan  0. nan ... nan nan nan]\n",
      " [nan inf nan ... nan nan inf]\n",
      " [nan nan nan ... nan nan nan]\n",
      " ...\n",
      " [nan nan nan ... nan nan inf]\n",
      " [nan nan nan ... nan nan nan]\n",
      " [nan nan nan ... nan nan nan]]\n"
     ]
    },
    {
     "name": "stderr",
     "output_type": "stream",
     "text": [
      " 20%|██        | 2/10 [00:00<00:03,  2.20it/s]"
     ]
    },
    {
     "name": "stdout",
     "output_type": "stream",
     "text": [
      "[[0.00000000e+000 1.00000000e+000 0.00000000e+000 ... 0.00000000e+000\n",
      "  0.00000000e+000 0.00000000e+000]\n",
      " [5.04761612e-215 1.00000000e+000 0.00000000e+000 ... 0.00000000e+000\n",
      "  0.00000000e+000 0.00000000e+000]\n",
      " [1.00000000e+000 0.00000000e+000 0.00000000e+000 ... 0.00000000e+000\n",
      "  0.00000000e+000 0.00000000e+000]\n",
      " ...\n",
      " [0.00000000e+000 2.23740897e-036 0.00000000e+000 ... 0.00000000e+000\n",
      "  0.00000000e+000 0.00000000e+000]\n",
      " [0.00000000e+000 0.00000000e+000 0.00000000e+000 ... 0.00000000e+000\n",
      "  0.00000000e+000 0.00000000e+000]\n",
      " [0.00000000e+000 1.17454839e-216 0.00000000e+000 ... 0.00000000e+000\n",
      "  0.00000000e+000 0.00000000e+000]]\n",
      "[[ nan   0.  nan ...  nan  nan  nan]\n",
      " [ -0.   0.  nan ...  nan  nan -inf]\n",
      " [  0.  nan  nan ...  nan  nan -inf]\n",
      " ...\n",
      " [ nan  -0.  nan ...  nan  nan  nan]\n",
      " [ nan  nan  nan ...  nan  nan  nan]\n",
      " [ nan  -0.  nan ...  nan  nan  nan]]\n",
      "[[0.00000000e+000 0.00000000e+000 1.90118837e-044 ... 0.00000000e+000\n",
      "  0.00000000e+000 0.00000000e+000]\n",
      " [0.00000000e+000 0.00000000e+000 1.00000000e+000 ... 0.00000000e+000\n",
      "  4.41858949e-042 0.00000000e+000]\n",
      " [0.00000000e+000 0.00000000e+000 0.00000000e+000 ... 0.00000000e+000\n",
      "  3.92004314e-013 7.49502887e-299]\n",
      " ...\n",
      " [0.00000000e+000 0.00000000e+000 0.00000000e+000 ... 0.00000000e+000\n",
      "  0.00000000e+000 0.00000000e+000]\n",
      " [0.00000000e+000 0.00000000e+000 1.00000000e+000 ... 0.00000000e+000\n",
      "  0.00000000e+000 0.00000000e+000]\n",
      " [0.00000000e+000 0.00000000e+000 1.00000000e+000 ... 0.00000000e+000\n",
      "  0.00000000e+000 0.00000000e+000]]\n",
      "[[          nan           nan   -0.         ...           nan\n",
      "            nan           nan]\n",
      " [          nan           nan    0.         ...           nan\n",
      "    -0.                  -inf]\n",
      " [          nan           nan           nan ...           nan\n",
      "    -0.         -686.45870282]\n",
      " ...\n",
      " [          nan           nan           nan ...           nan\n",
      "            nan           nan]\n",
      " [          nan           nan    0.         ...           nan\n",
      "            nan           nan]\n",
      " [          nan           nan    0.         ...           nan\n",
      "            nan           nan]]\n"
     ]
    },
    {
     "name": "stderr",
     "output_type": "stream",
     "text": [
      "\r",
      " 30%|███       | 3/10 [00:01<00:03,  2.33it/s]"
     ]
    },
    {
     "name": "stdout",
     "output_type": "stream",
     "text": [
      "[[0.00000000e+000 0.00000000e+000 0.00000000e+000 ... 8.73210457e-011\n",
      "  0.00000000e+000 1.01238071e-092]\n",
      " [0.00000000e+000 0.00000000e+000 0.00000000e+000 ... 0.00000000e+000\n",
      "  0.00000000e+000 3.90097413e-019]\n",
      " [0.00000000e+000 0.00000000e+000 0.00000000e+000 ... 0.00000000e+000\n",
      "  0.00000000e+000 1.00000000e+000]\n",
      " ...\n",
      " [0.00000000e+000 0.00000000e+000 0.00000000e+000 ... 0.00000000e+000\n",
      "  0.00000000e+000 1.00000000e+000]\n",
      " [0.00000000e+000 0.00000000e+000 0.00000000e+000 ... 1.00000000e+000\n",
      "  0.00000000e+000 8.97942587e-134]\n",
      " [0.00000000e+000 0.00000000e+000 0.00000000e+000 ... 1.00000000e+000\n",
      "  0.00000000e+000 2.52810271e-185]]\n",
      "[[         nan          nan          nan ...  -0.                  nan\n",
      "   -0.        ]\n",
      " [         nan          nan          nan ...          nan          nan\n",
      "  -42.38789047]\n",
      " [         nan          nan          nan ...          nan          nan\n",
      "    0.        ]\n",
      " ...\n",
      " [         nan          nan          nan ...          nan          nan\n",
      "    0.        ]\n",
      " [         nan          nan          nan ...   0.                  nan\n",
      "   -0.        ]\n",
      " [         nan          nan          nan ...   0.                  nan\n",
      "   -0.        ]]\n"
     ]
    },
    {
     "name": "stderr",
     "output_type": "stream",
     "text": [
      "\r",
      " 40%|████      | 4/10 [00:01<00:02,  2.55it/s]"
     ]
    },
    {
     "name": "stdout",
     "output_type": "stream",
     "text": [
      "[[0.00000000e+000 1.00000000e+000 0.00000000e+000 ... 0.00000000e+000\n",
      "  0.00000000e+000 0.00000000e+000]\n",
      " [0.00000000e+000 1.00000000e+000 0.00000000e+000 ... 0.00000000e+000\n",
      "  1.00000000e+000 0.00000000e+000]\n",
      " [0.00000000e+000 0.00000000e+000 0.00000000e+000 ... 0.00000000e+000\n",
      "  1.00000000e+000 0.00000000e+000]\n",
      " ...\n",
      " [0.00000000e+000 3.76068338e-012 0.00000000e+000 ... 0.00000000e+000\n",
      "  1.00000000e+000 0.00000000e+000]\n",
      " [0.00000000e+000 0.00000000e+000 0.00000000e+000 ... 0.00000000e+000\n",
      "  0.00000000e+000 0.00000000e+000]\n",
      " [0.00000000e+000 2.85651122e-178 0.00000000e+000 ... 0.00000000e+000\n",
      "  0.00000000e+000 0.00000000e+000]]\n",
      "[[ nan   0.  nan ...  nan  nan  nan]\n",
      " [ nan   0.  nan ...  nan   0. -inf]\n",
      " [ nan  nan  nan ...  nan   0. -inf]\n",
      " ...\n",
      " [ nan  -0.  nan ...  nan   0.  nan]\n",
      " [ nan  nan  nan ...  nan  nan  nan]\n",
      " [ nan  -0.  nan ...  nan  nan  nan]]\n"
     ]
    },
    {
     "name": "stderr",
     "output_type": "stream",
     "text": [
      "\r",
      " 50%|█████     | 5/10 [00:02<00:02,  2.37it/s]"
     ]
    },
    {
     "name": "stdout",
     "output_type": "stream",
     "text": [
      "[[0. 0. 0. ... 0. 0. 0.]\n",
      " [0. 0. 0. ... 0. 0. 0.]\n",
      " [0. 0. 0. ... 0. 0. 0.]\n",
      " ...\n",
      " [0. 0. 0. ... 0. 0. 0.]\n",
      " [0. 0. 0. ... 0. 0. 0.]\n",
      " [0. 0. 0. ... 0. 0. 0.]]\n",
      "[[ nan  nan  nan ...  nan  nan  nan]\n",
      " [ nan  nan  nan ...  nan  nan -inf]\n",
      " [ nan  nan  nan ...  nan  nan -inf]\n",
      " ...\n",
      " [ nan  nan  nan ...  nan  nan  nan]\n",
      " [ nan  nan  nan ...  nan  nan  nan]\n",
      " [ nan  nan  nan ...  nan  nan  nan]]\n"
     ]
    },
    {
     "name": "stderr",
     "output_type": "stream",
     "text": [
      " 70%|███████   | 7/10 [00:03<00:01,  2.28it/s]"
     ]
    },
    {
     "name": "stdout",
     "output_type": "stream",
     "text": [
      "[[0.00000000e+00 0.00000000e+00 0.00000000e+00 ... 1.63629826e-88\n",
      "  0.00000000e+00 0.00000000e+00]\n",
      " [0.00000000e+00 0.00000000e+00 0.00000000e+00 ... 0.00000000e+00\n",
      "  0.00000000e+00 0.00000000e+00]\n",
      " [8.97597347e-47 0.00000000e+00 0.00000000e+00 ... 0.00000000e+00\n",
      "  0.00000000e+00 0.00000000e+00]\n",
      " ...\n",
      " [0.00000000e+00 0.00000000e+00 0.00000000e+00 ... 0.00000000e+00\n",
      "  0.00000000e+00 0.00000000e+00]\n",
      " [0.00000000e+00 0.00000000e+00 0.00000000e+00 ... 1.88313856e-36\n",
      "  0.00000000e+00 0.00000000e+00]\n",
      " [0.00000000e+00 0.00000000e+00 0.00000000e+00 ... 1.00000000e+00\n",
      "  0.00000000e+00 0.00000000e+00]]\n",
      "[[ nan  nan  nan ...  -0.  nan  nan]\n",
      " [ nan  nan  nan ...  nan  nan -inf]\n",
      " [ -0.  nan  nan ...  nan  nan -inf]\n",
      " ...\n",
      " [ nan  nan  nan ...  nan  nan  nan]\n",
      " [ nan  nan  nan ...  -0.  nan  nan]\n",
      " [ nan  nan  nan ...   0.  nan  nan]]\n",
      "[[0.0000000e+00 1.5049877e-04 0.0000000e+00 ... 0.0000000e+00\n",
      "  0.0000000e+00 0.0000000e+00]\n",
      " [0.0000000e+00 1.0000000e+00 0.0000000e+00 ... 0.0000000e+00\n",
      "  0.0000000e+00 0.0000000e+00]\n",
      " [0.0000000e+00 0.0000000e+00 0.0000000e+00 ... 0.0000000e+00\n",
      "  0.0000000e+00 0.0000000e+00]\n",
      " ...\n",
      " [0.0000000e+00 0.0000000e+00 0.0000000e+00 ... 0.0000000e+00\n",
      "  0.0000000e+00 0.0000000e+00]\n",
      " [0.0000000e+00 0.0000000e+00 0.0000000e+00 ... 0.0000000e+00\n",
      "  0.0000000e+00 0.0000000e+00]\n",
      " [0.0000000e+00 0.0000000e+00 0.0000000e+00 ... 0.0000000e+00\n",
      "  0.0000000e+00 0.0000000e+00]]\n",
      "[[ nan  -0.  nan ...  nan  nan  nan]\n",
      " [ nan   0.  nan ...  nan  nan -inf]\n",
      " [ nan  nan  nan ...  nan  nan -inf]\n",
      " ...\n",
      " [ nan  nan  nan ...  nan  nan  nan]\n",
      " [ nan  nan  nan ...  nan  nan  nan]\n",
      " [ nan  nan  nan ...  nan  nan  nan]]\n"
     ]
    },
    {
     "name": "stderr",
     "output_type": "stream",
     "text": [
      " 90%|█████████ | 9/10 [00:03<00:00,  2.66it/s]"
     ]
    },
    {
     "name": "stdout",
     "output_type": "stream",
     "text": [
      "[[0.00000000e+000 2.13843356e-143 0.00000000e+000 ... 0.00000000e+000\n",
      "  0.00000000e+000 0.00000000e+000]\n",
      " [0.00000000e+000 1.00000000e+000 0.00000000e+000 ... 0.00000000e+000\n",
      "  0.00000000e+000 9.47609279e-233]\n",
      " [2.11304385e-260 0.00000000e+000 0.00000000e+000 ... 0.00000000e+000\n",
      "  0.00000000e+000 1.00000000e+000]\n",
      " ...\n",
      " [0.00000000e+000 0.00000000e+000 0.00000000e+000 ... 0.00000000e+000\n",
      "  0.00000000e+000 1.00000000e+000]\n",
      " [0.00000000e+000 0.00000000e+000 0.00000000e+000 ... 0.00000000e+000\n",
      "  0.00000000e+000 0.00000000e+000]\n",
      " [0.00000000e+000 0.00000000e+000 0.00000000e+000 ... 1.09604103e-276\n",
      "  0.00000000e+000 0.00000000e+000]]\n",
      "[[          nan   -0.                   nan ...           nan\n",
      "            nan           nan]\n",
      " [          nan    0.                   nan ...           nan\n",
      "            nan -534.25355459]\n",
      " [  -0.                   nan           nan ...           nan\n",
      "            nan    0.        ]\n",
      " ...\n",
      " [          nan           nan           nan ...           nan\n",
      "            nan    0.        ]\n",
      " [          nan           nan           nan ...           nan\n",
      "            nan           nan]\n",
      " [          nan           nan           nan ...   -0.\n",
      "            nan           nan]]\n",
      "[[0.00000000e+000 1.00000000e+000 6.02800252e-024 ... 1.00000000e+000\n",
      "  0.00000000e+000 0.00000000e+000]\n",
      " [0.00000000e+000 1.00000000e+000 1.00000000e+000 ... 4.01241316e-115\n",
      "  1.00000000e+000 0.00000000e+000]\n",
      " [0.00000000e+000 2.57643376e-301 9.26344942e-299 ... 2.08356740e-085\n",
      "  1.00000000e+000 0.00000000e+000]\n",
      " ...\n",
      " [0.00000000e+000 4.12188072e-009 4.53733705e-259 ... 1.07149158e-107\n",
      "  1.97640534e-170 0.00000000e+000]\n",
      " [0.00000000e+000 0.00000000e+000 1.00000000e+000 ... 1.00000000e+000\n",
      "  0.00000000e+000 0.00000000e+000]\n",
      " [0.00000000e+000 2.43568035e-159 1.00000000e+000 ... 1.00000000e+000\n",
      "  0.00000000e+000 0.00000000e+000]]\n",
      "[[ nan   0.  -0. ...   0.  nan  nan]\n",
      " [ nan   0.   0. ...  -0.   0. -inf]\n",
      " [ nan  -0.  -0. ...  -0.   0. -inf]\n",
      " ...\n",
      " [ nan  -0.  -0. ...  -0.  -0.  nan]\n",
      " [ nan  nan   0. ...   0.  nan  nan]\n",
      " [ nan  -0.   0. ...   0.  nan  nan]]\n"
     ]
    },
    {
     "name": "stderr",
     "output_type": "stream",
     "text": [
      "100%|██████████| 10/10 [00:04<00:00,  2.10it/s]\n",
      " 10%|█         | 1/10 [00:00<00:03,  2.39it/s]"
     ]
    },
    {
     "name": "stdout",
     "output_type": "stream",
     "text": [
      "[[0.00000000e+000 0.00000000e+000 0.00000000e+000 ... 0.00000000e+000\n",
      "  0.00000000e+000 0.00000000e+000]\n",
      " [3.47876623e-216 0.00000000e+000 0.00000000e+000 ... 0.00000000e+000\n",
      "  0.00000000e+000 0.00000000e+000]\n",
      " [1.00000000e+000 0.00000000e+000 0.00000000e+000 ... 0.00000000e+000\n",
      "  0.00000000e+000 0.00000000e+000]\n",
      " ...\n",
      " [0.00000000e+000 0.00000000e+000 0.00000000e+000 ... 0.00000000e+000\n",
      "  0.00000000e+000 0.00000000e+000]\n",
      " [0.00000000e+000 0.00000000e+000 0.00000000e+000 ... 0.00000000e+000\n",
      "  0.00000000e+000 0.00000000e+000]\n",
      " [2.71976431e-299 0.00000000e+000 0.00000000e+000 ... 0.00000000e+000\n",
      "  0.00000000e+000 0.00000000e+000]]\n",
      "[[ nan  nan  nan ...  nan  nan  nan]\n",
      " [ -0.  nan  nan ...  nan  nan -inf]\n",
      " [  0.  nan  nan ...  nan  nan -inf]\n",
      " ...\n",
      " [ nan  nan  nan ...  nan  nan  nan]\n",
      " [ nan  nan  nan ...  nan  nan  nan]\n",
      " [ -0.  nan  nan ...  nan  nan  nan]]\n",
      "Epoch 0, Loss [[nan nan nan ... nan nan nan]\n",
      " [ 0. nan nan ... nan nan inf]\n",
      " [inf nan nan ... nan nan inf]\n",
      " ...\n",
      " [nan nan nan ... nan nan nan]\n",
      " [nan nan nan ... nan nan nan]\n",
      " [ 0. nan nan ... nan nan nan]]\n",
      "[[0.00000000e+00 0.00000000e+00 0.00000000e+00 ... 0.00000000e+00\n",
      "  0.00000000e+00 0.00000000e+00]\n",
      " [0.00000000e+00 0.00000000e+00 0.00000000e+00 ... 0.00000000e+00\n",
      "  0.00000000e+00 0.00000000e+00]\n",
      " [0.00000000e+00 0.00000000e+00 0.00000000e+00 ... 0.00000000e+00\n",
      "  0.00000000e+00 2.26145787e-83]\n",
      " ...\n",
      " [0.00000000e+00 0.00000000e+00 0.00000000e+00 ... 0.00000000e+00\n",
      "  0.00000000e+00 0.00000000e+00]\n",
      " [0.00000000e+00 0.00000000e+00 0.00000000e+00 ... 0.00000000e+00\n",
      "  0.00000000e+00 0.00000000e+00]\n",
      " [0.00000000e+00 0.00000000e+00 0.00000000e+00 ... 0.00000000e+00\n",
      "  0.00000000e+00 0.00000000e+00]]\n",
      "[[          nan           nan           nan ...           nan\n",
      "            nan           nan]\n",
      " [          nan           nan           nan ...           nan\n",
      "            nan          -inf]\n",
      " [          nan           nan           nan ...           nan\n",
      "            nan -190.29855304]\n",
      " ...\n",
      " [          nan           nan           nan ...           nan\n",
      "            nan           nan]\n",
      " [          nan           nan           nan ...           nan\n",
      "            nan           nan]\n",
      " [          nan           nan           nan ...           nan\n",
      "            nan           nan]]\n"
     ]
    },
    {
     "name": "stderr",
     "output_type": "stream",
     "text": [
      "\r",
      " 20%|██        | 2/10 [00:00<00:03,  2.34it/s]"
     ]
    },
    {
     "name": "stdout",
     "output_type": "stream",
     "text": [
      "[[0.00000000e+000 8.52895754e-120 0.00000000e+000 ... 0.00000000e+000\n",
      "  0.00000000e+000 3.52790654e-237]\n",
      " [0.00000000e+000 1.00000000e+000 0.00000000e+000 ... 0.00000000e+000\n",
      "  1.00000000e+000 2.06645415e-137]\n",
      " [0.00000000e+000 0.00000000e+000 0.00000000e+000 ... 0.00000000e+000\n",
      "  1.00000000e+000 1.00000000e+000]\n",
      " ...\n",
      " [0.00000000e+000 0.00000000e+000 0.00000000e+000 ... 0.00000000e+000\n",
      "  0.00000000e+000 1.00000000e+000]\n",
      " [0.00000000e+000 0.00000000e+000 0.00000000e+000 ... 0.00000000e+000\n",
      "  0.00000000e+000 1.57924012e-267]\n",
      " [0.00000000e+000 0.00000000e+000 0.00000000e+000 ... 0.00000000e+000\n",
      "  0.00000000e+000 0.00000000e+000]]\n",
      "[[          nan   -0.                   nan ...           nan\n",
      "            nan   -0.        ]\n",
      " [          nan    0.                   nan ...           nan\n",
      "     0.         -314.72832357]\n",
      " [          nan           nan           nan ...           nan\n",
      "     0.            0.        ]\n",
      " ...\n",
      " [          nan           nan           nan ...           nan\n",
      "            nan    0.        ]\n",
      " [          nan           nan           nan ...           nan\n",
      "            nan   -0.        ]\n",
      " [          nan           nan           nan ...           nan\n",
      "            nan           nan]]\n"
     ]
    },
    {
     "name": "stderr",
     "output_type": "stream",
     "text": [
      "\r",
      " 30%|███       | 3/10 [00:01<00:02,  2.49it/s]"
     ]
    },
    {
     "name": "stdout",
     "output_type": "stream",
     "text": [
      "[[0.00000000e+000 1.00000000e+000 0.00000000e+000 ... 0.00000000e+000\n",
      "  0.00000000e+000 0.00000000e+000]\n",
      " [0.00000000e+000 1.00000000e+000 0.00000000e+000 ... 0.00000000e+000\n",
      "  0.00000000e+000 0.00000000e+000]\n",
      " [0.00000000e+000 0.00000000e+000 0.00000000e+000 ... 0.00000000e+000\n",
      "  0.00000000e+000 0.00000000e+000]\n",
      " ...\n",
      " [0.00000000e+000 9.46062583e-062 0.00000000e+000 ... 0.00000000e+000\n",
      "  0.00000000e+000 0.00000000e+000]\n",
      " [0.00000000e+000 0.00000000e+000 0.00000000e+000 ... 0.00000000e+000\n",
      "  0.00000000e+000 0.00000000e+000]\n",
      " [0.00000000e+000 6.62206192e-185 0.00000000e+000 ... 0.00000000e+000\n",
      "  0.00000000e+000 0.00000000e+000]]\n",
      "[[ nan   0.  nan ...  nan  nan  nan]\n",
      " [ nan   0.  nan ...  nan  nan -inf]\n",
      " [ nan  nan  nan ...  nan  nan -inf]\n",
      " ...\n",
      " [ nan  -0.  nan ...  nan  nan  nan]\n",
      " [ nan  nan  nan ...  nan  nan  nan]\n",
      " [ nan  -0.  nan ...  nan  nan  nan]]\n"
     ]
    },
    {
     "name": "stderr",
     "output_type": "stream",
     "text": [
      "\r",
      " 40%|████      | 4/10 [00:01<00:02,  2.12it/s]"
     ]
    },
    {
     "name": "stdout",
     "output_type": "stream",
     "text": [
      "[[0. 0. 0. ... 0. 0. 0.]\n",
      " [0. 0. 0. ... 0. 1. 0.]\n",
      " [0. 0. 0. ... 0. 1. 0.]\n",
      " ...\n",
      " [0. 0. 0. ... 0. 1. 0.]\n",
      " [0. 0. 0. ... 0. 0. 0.]\n",
      " [0. 0. 0. ... 0. 0. 0.]]\n",
      "[[ nan  nan  nan ...  nan  nan  nan]\n",
      " [ nan  nan  nan ...  nan   0. -inf]\n",
      " [ nan  nan  nan ...  nan   0. -inf]\n",
      " ...\n",
      " [ nan  nan  nan ...  nan   0.  nan]\n",
      " [ nan  nan  nan ...  nan  nan  nan]\n",
      " [ nan  nan  nan ...  nan  nan  nan]]\n"
     ]
    },
    {
     "name": "stderr",
     "output_type": "stream",
     "text": [
      " 60%|██████    | 6/10 [00:02<00:01,  2.50it/s]"
     ]
    },
    {
     "name": "stdout",
     "output_type": "stream",
     "text": [
      "[[0.00000000e+000 0.00000000e+000 0.00000000e+000 ... 0.00000000e+000\n",
      "  0.00000000e+000 0.00000000e+000]\n",
      " [0.00000000e+000 0.00000000e+000 0.00000000e+000 ... 0.00000000e+000\n",
      "  0.00000000e+000 0.00000000e+000]\n",
      " [1.20502596e-224 0.00000000e+000 0.00000000e+000 ... 0.00000000e+000\n",
      "  0.00000000e+000 0.00000000e+000]\n",
      " ...\n",
      " [0.00000000e+000 0.00000000e+000 0.00000000e+000 ... 0.00000000e+000\n",
      "  0.00000000e+000 0.00000000e+000]\n",
      " [0.00000000e+000 0.00000000e+000 0.00000000e+000 ... 0.00000000e+000\n",
      "  0.00000000e+000 0.00000000e+000]\n",
      " [0.00000000e+000 0.00000000e+000 0.00000000e+000 ... 0.00000000e+000\n",
      "  0.00000000e+000 0.00000000e+000]]\n",
      "[[ nan  nan  nan ...  nan  nan  nan]\n",
      " [ nan  nan  nan ...  nan  nan -inf]\n",
      " [ -0.  nan  nan ...  nan  nan -inf]\n",
      " ...\n",
      " [ nan  nan  nan ...  nan  nan  nan]\n",
      " [ nan  nan  nan ...  nan  nan  nan]\n",
      " [ nan  nan  nan ...  nan  nan  nan]]\n",
      "[[0.00000000e+000 1.00000000e+000 1.44596562e-220 ... 0.00000000e+000\n",
      "  0.00000000e+000 0.00000000e+000]\n",
      " [0.00000000e+000 1.00000000e+000 7.48555723e-108 ... 0.00000000e+000\n",
      "  0.00000000e+000 0.00000000e+000]\n",
      " [0.00000000e+000 7.17178804e-294 0.00000000e+000 ... 0.00000000e+000\n",
      "  0.00000000e+000 1.00000000e+000]\n",
      " ...\n",
      " [0.00000000e+000 3.11917584e-004 0.00000000e+000 ... 0.00000000e+000\n",
      "  0.00000000e+000 1.00000000e+000]\n",
      " [0.00000000e+000 0.00000000e+000 1.00000000e+000 ... 0.00000000e+000\n",
      "  0.00000000e+000 0.00000000e+000]\n",
      " [0.00000000e+000 3.97640408e-142 1.00000000e+000 ... 0.00000000e+000\n",
      "  0.00000000e+000 0.00000000e+000]]\n",
      "[[ nan   0.  -0. ...  nan  nan  nan]\n",
      " [ nan   0.  -0. ...  nan  nan -inf]\n",
      " [ nan  -0.  nan ...  nan  nan   0.]\n",
      " ...\n",
      " [ nan  -0.  nan ...  nan  nan   0.]\n",
      " [ nan  nan   0. ...  nan  nan  nan]\n",
      " [ nan  -0.   0. ...  nan  nan  nan]]\n"
     ]
    },
    {
     "name": "stderr",
     "output_type": "stream",
     "text": [
      "\r",
      " 70%|███████   | 7/10 [00:02<00:01,  2.67it/s]"
     ]
    },
    {
     "name": "stdout",
     "output_type": "stream",
     "text": [
      "[[0.00000000e+000 0.00000000e+000 0.00000000e+000 ... 1.00000000e+000\n",
      "  0.00000000e+000 0.00000000e+000]\n",
      " [5.02162035e-247 0.00000000e+000 0.00000000e+000 ... 1.99016781e-083\n",
      "  0.00000000e+000 0.00000000e+000]\n",
      " [1.00000000e+000 0.00000000e+000 0.00000000e+000 ... 4.98431091e-070\n",
      "  0.00000000e+000 1.00000000e+000]\n",
      " ...\n",
      " [0.00000000e+000 0.00000000e+000 0.00000000e+000 ... 2.83866620e-068\n",
      "  0.00000000e+000 0.00000000e+000]\n",
      " [0.00000000e+000 0.00000000e+000 0.00000000e+000 ... 1.00000000e+000\n",
      "  0.00000000e+000 0.00000000e+000]\n",
      " [0.00000000e+000 0.00000000e+000 0.00000000e+000 ... 1.00000000e+000\n",
      "  0.00000000e+000 0.00000000e+000]]\n",
      "[[ nan  nan  nan ...   0.  nan  nan]\n",
      " [ -0.  nan  nan ...  -0.  nan -inf]\n",
      " [  0.  nan  nan ...  -0.  nan   0.]\n",
      " ...\n",
      " [ nan  nan  nan ...  -0.  nan  nan]\n",
      " [ nan  nan  nan ...   0.  nan  nan]\n",
      " [ nan  nan  nan ...   0.  nan  nan]]\n"
     ]
    },
    {
     "name": "stderr",
     "output_type": "stream",
     "text": [
      " 90%|█████████ | 9/10 [00:03<00:00,  2.43it/s]"
     ]
    },
    {
     "name": "stdout",
     "output_type": "stream",
     "text": [
      "[[0.00000000e+000 0.00000000e+000 0.00000000e+000 ... 0.00000000e+000\n",
      "  0.00000000e+000 1.25153995e-221]\n",
      " [0.00000000e+000 0.00000000e+000 0.00000000e+000 ... 0.00000000e+000\n",
      "  0.00000000e+000 1.58725624e-129]\n",
      " [0.00000000e+000 0.00000000e+000 0.00000000e+000 ... 0.00000000e+000\n",
      "  0.00000000e+000 1.00000000e+000]\n",
      " ...\n",
      " [0.00000000e+000 0.00000000e+000 0.00000000e+000 ... 0.00000000e+000\n",
      "  0.00000000e+000 1.00000000e+000]\n",
      " [0.00000000e+000 0.00000000e+000 0.00000000e+000 ... 0.00000000e+000\n",
      "  0.00000000e+000 2.00942079e-265]\n",
      " [0.00000000e+000 0.00000000e+000 0.00000000e+000 ... 0.00000000e+000\n",
      "  0.00000000e+000 0.00000000e+000]]\n",
      "[[          nan           nan           nan ...           nan\n",
      "            nan   -0.        ]\n",
      " [          nan           nan           nan ...           nan\n",
      "            nan -296.57147011]\n",
      " [          nan           nan           nan ...           nan\n",
      "            nan    0.        ]\n",
      " ...\n",
      " [          nan           nan           nan ...           nan\n",
      "            nan    0.        ]\n",
      " [          nan           nan           nan ...           nan\n",
      "            nan   -0.        ]\n",
      " [          nan           nan           nan ...           nan\n",
      "            nan           nan]]\n"
     ]
    },
    {
     "name": "stderr",
     "output_type": "stream",
     "text": [
      "100%|██████████| 10/10 [00:04<00:00,  2.43it/s]"
     ]
    },
    {
     "name": "stdout",
     "output_type": "stream",
     "text": [
      "[[0.00000000e+000 1.10434736e-250 0.00000000e+000 ... 0.00000000e+000\n",
      "  0.00000000e+000 0.00000000e+000]\n",
      " [0.00000000e+000 1.66595735e-077 0.00000000e+000 ... 0.00000000e+000\n",
      "  1.00000000e+000 0.00000000e+000]\n",
      " [0.00000000e+000 0.00000000e+000 0.00000000e+000 ... 0.00000000e+000\n",
      "  1.00000000e+000 0.00000000e+000]\n",
      " ...\n",
      " [0.00000000e+000 0.00000000e+000 0.00000000e+000 ... 0.00000000e+000\n",
      "  2.88281021e-147 0.00000000e+000]\n",
      " [0.00000000e+000 0.00000000e+000 0.00000000e+000 ... 0.00000000e+000\n",
      "  0.00000000e+000 0.00000000e+000]\n",
      " [0.00000000e+000 0.00000000e+000 0.00000000e+000 ... 0.00000000e+000\n",
      "  0.00000000e+000 0.00000000e+000]]\n",
      "[[ nan  -0.  nan ...  nan  nan  nan]\n",
      " [ nan  -0.  nan ...  nan   0. -inf]\n",
      " [ nan  nan  nan ...  nan   0. -inf]\n",
      " ...\n",
      " [ nan  nan  nan ...  nan  -0.  nan]\n",
      " [ nan  nan  nan ...  nan  nan  nan]\n",
      " [ nan  nan  nan ...  nan  nan  nan]]\n"
     ]
    },
    {
     "name": "stderr",
     "output_type": "stream",
     "text": [
      "\n",
      "  0%|          | 0/10 [00:00<?, ?it/s]"
     ]
    },
    {
     "name": "stdout",
     "output_type": "stream",
     "text": [
      "[[0.00000000e+000 1.00000000e+000 0.00000000e+000 ... 0.00000000e+000\n",
      "  0.00000000e+000 0.00000000e+000]\n",
      " [0.00000000e+000 1.00000000e+000 0.00000000e+000 ... 0.00000000e+000\n",
      "  0.00000000e+000 0.00000000e+000]\n",
      " [0.00000000e+000 2.22230269e-102 0.00000000e+000 ... 0.00000000e+000\n",
      "  0.00000000e+000 0.00000000e+000]\n",
      " ...\n",
      " [0.00000000e+000 1.00000000e+000 0.00000000e+000 ... 0.00000000e+000\n",
      "  0.00000000e+000 0.00000000e+000]\n",
      " [0.00000000e+000 2.74655662e-188 0.00000000e+000 ... 0.00000000e+000\n",
      "  0.00000000e+000 0.00000000e+000]\n",
      " [0.00000000e+000 1.96149959e-047 0.00000000e+000 ... 0.00000000e+000\n",
      "  0.00000000e+000 0.00000000e+000]]\n",
      "[[ nan   0.  nan ...  nan  nan  nan]\n",
      " [ nan   0.  nan ...  nan  nan -inf]\n",
      " [ nan  -0.  nan ...  nan  nan -inf]\n",
      " ...\n",
      " [ nan   0.  nan ...  nan  nan  nan]\n",
      " [ nan  -0.  nan ...  nan  nan  nan]\n",
      " [ nan  -0.  nan ...  nan  nan  nan]]\n"
     ]
    },
    {
     "name": "stderr",
     "output_type": "stream",
     "text": [
      "\r",
      " 10%|█         | 1/10 [00:00<00:02,  3.00it/s]"
     ]
    },
    {
     "name": "stdout",
     "output_type": "stream",
     "text": [
      "Epoch 0, Loss [[nan inf nan ... nan nan nan]\n",
      " [nan inf nan ... nan nan inf]\n",
      " [nan  0. nan ... nan nan inf]\n",
      " ...\n",
      " [nan inf nan ... nan nan nan]\n",
      " [nan  0. nan ... nan nan nan]\n",
      " [nan  0. nan ... nan nan nan]]\n",
      "[[0.00000000e+000 0.00000000e+000 1.69257691e-291 ... 0.00000000e+000\n",
      "  0.00000000e+000 0.00000000e+000]\n",
      " [0.00000000e+000 0.00000000e+000 2.09374826e-135 ... 0.00000000e+000\n",
      "  0.00000000e+000 0.00000000e+000]\n",
      " [0.00000000e+000 0.00000000e+000 0.00000000e+000 ... 0.00000000e+000\n",
      "  0.00000000e+000 0.00000000e+000]\n",
      " ...\n",
      " [0.00000000e+000 0.00000000e+000 0.00000000e+000 ... 0.00000000e+000\n",
      "  0.00000000e+000 0.00000000e+000]\n",
      " [0.00000000e+000 0.00000000e+000 1.00000000e+000 ... 0.00000000e+000\n",
      "  0.00000000e+000 0.00000000e+000]\n",
      " [0.00000000e+000 0.00000000e+000 6.15573460e-011 ... 0.00000000e+000\n",
      "  0.00000000e+000 0.00000000e+000]]\n",
      "[[ nan  nan  -0. ...  nan  nan  nan]\n",
      " [ nan  nan  -0. ...  nan  nan -inf]\n",
      " [ nan  nan  nan ...  nan  nan -inf]\n",
      " ...\n",
      " [ nan  nan  nan ...  nan  nan  nan]\n",
      " [ nan  nan   0. ...  nan  nan  nan]\n",
      " [ nan  nan  -0. ...  nan  nan  nan]]\n"
     ]
    },
    {
     "name": "stderr",
     "output_type": "stream",
     "text": [
      " 30%|███       | 3/10 [00:01<00:02,  2.89it/s]"
     ]
    },
    {
     "name": "stdout",
     "output_type": "stream",
     "text": [
      "[[0.00000000e+000 0.00000000e+000 0.00000000e+000 ... 0.00000000e+000\n",
      "  0.00000000e+000 0.00000000e+000]\n",
      " [0.00000000e+000 0.00000000e+000 0.00000000e+000 ... 0.00000000e+000\n",
      "  1.06456289e-129 0.00000000e+000]\n",
      " [1.00000000e+000 0.00000000e+000 0.00000000e+000 ... 0.00000000e+000\n",
      "  2.31048929e-142 1.00000000e+000]\n",
      " ...\n",
      " [0.00000000e+000 0.00000000e+000 0.00000000e+000 ... 0.00000000e+000\n",
      "  0.00000000e+000 1.00000000e+000]\n",
      " [0.00000000e+000 0.00000000e+000 0.00000000e+000 ... 0.00000000e+000\n",
      "  0.00000000e+000 0.00000000e+000]\n",
      " [0.00000000e+000 0.00000000e+000 0.00000000e+000 ... 0.00000000e+000\n",
      "  0.00000000e+000 0.00000000e+000]]\n",
      "[[ nan  nan  nan ...  nan  nan  nan]\n",
      " [ nan  nan  nan ...  nan  -0. -inf]\n",
      " [  0.  nan  nan ...  nan  -0.   0.]\n",
      " ...\n",
      " [ nan  nan  nan ...  nan  nan   0.]\n",
      " [ nan  nan  nan ...  nan  nan  nan]\n",
      " [ nan  nan  nan ...  nan  nan  nan]]\n"
     ]
    },
    {
     "name": "stderr",
     "output_type": "stream",
     "text": [
      "\r",
      " 40%|████      | 4/10 [00:01<00:02,  2.60it/s]"
     ]
    },
    {
     "name": "stdout",
     "output_type": "stream",
     "text": [
      "[[0.00000000e+000 0.00000000e+000 0.00000000e+000 ... 0.00000000e+000\n",
      "  0.00000000e+000 0.00000000e+000]\n",
      " [0.00000000e+000 0.00000000e+000 0.00000000e+000 ... 0.00000000e+000\n",
      "  3.19208587e-265 0.00000000e+000]\n",
      " [0.00000000e+000 0.00000000e+000 0.00000000e+000 ... 0.00000000e+000\n",
      "  9.43729851e-280 1.00000000e+000]\n",
      " ...\n",
      " [0.00000000e+000 0.00000000e+000 0.00000000e+000 ... 0.00000000e+000\n",
      "  0.00000000e+000 0.00000000e+000]\n",
      " [0.00000000e+000 0.00000000e+000 0.00000000e+000 ... 0.00000000e+000\n",
      "  0.00000000e+000 0.00000000e+000]\n",
      " [0.00000000e+000 0.00000000e+000 0.00000000e+000 ... 0.00000000e+000\n",
      "  0.00000000e+000 0.00000000e+000]]\n",
      "[[ nan  nan  nan ...  nan  nan  nan]\n",
      " [ nan  nan  nan ...  nan  -0. -inf]\n",
      " [ nan  nan  nan ...  nan  -0.   0.]\n",
      " ...\n",
      " [ nan  nan  nan ...  nan  nan  nan]\n",
      " [ nan  nan  nan ...  nan  nan  nan]\n",
      " [ nan  nan  nan ...  nan  nan  nan]]\n",
      "[[0.00000000e+000 0.00000000e+000 0.00000000e+000 ... 0.00000000e+000\n",
      "  0.00000000e+000 3.53718042e-266]\n",
      " [0.00000000e+000 0.00000000e+000 0.00000000e+000 ... 0.00000000e+000\n",
      "  1.00000000e+000 8.31773201e-203]\n",
      " [0.00000000e+000 0.00000000e+000 0.00000000e+000 ... 0.00000000e+000\n",
      "  1.00000000e+000 1.00000000e+000]\n",
      " ...\n",
      " [0.00000000e+000 0.00000000e+000 0.00000000e+000 ... 0.00000000e+000\n",
      "  0.00000000e+000 1.00000000e+000]\n",
      " [0.00000000e+000 0.00000000e+000 0.00000000e+000 ... 0.00000000e+000\n",
      "  0.00000000e+000 0.00000000e+000]\n",
      " [0.00000000e+000 0.00000000e+000 0.00000000e+000 ... 0.00000000e+000\n",
      "  0.00000000e+000 0.00000000e+000]]\n"
     ]
    },
    {
     "name": "stderr",
     "output_type": "stream",
     "text": [
      "\r",
      " 50%|█████     | 5/10 [00:01<00:01,  3.01it/s]"
     ]
    },
    {
     "name": "stdout",
     "output_type": "stream",
     "text": [
      "[[          nan           nan           nan ...           nan\n",
      "            nan   -0.        ]\n",
      " [          nan           nan           nan ...           nan\n",
      "     0.         -465.30638426]\n",
      " [          nan           nan           nan ...           nan\n",
      "     0.            0.        ]\n",
      " ...\n",
      " [          nan           nan           nan ...           nan\n",
      "            nan    0.        ]\n",
      " [          nan           nan           nan ...           nan\n",
      "            nan           nan]\n",
      " [          nan           nan           nan ...           nan\n",
      "            nan           nan]]\n"
     ]
    },
    {
     "name": "stderr",
     "output_type": "stream",
     "text": [
      "\r",
      " 60%|██████    | 6/10 [00:02<00:01,  2.96it/s]"
     ]
    },
    {
     "name": "stdout",
     "output_type": "stream",
     "text": [
      "[[0.00000000e+00 2.14963202e-39 0.00000000e+00 ... 1.00000000e+00\n",
      "  0.00000000e+00 0.00000000e+00]\n",
      " [0.00000000e+00 1.00000000e+00 0.00000000e+00 ... 0.00000000e+00\n",
      "  0.00000000e+00 0.00000000e+00]\n",
      " [1.00000000e+00 0.00000000e+00 0.00000000e+00 ... 0.00000000e+00\n",
      "  0.00000000e+00 0.00000000e+00]\n",
      " ...\n",
      " [0.00000000e+00 0.00000000e+00 0.00000000e+00 ... 0.00000000e+00\n",
      "  0.00000000e+00 0.00000000e+00]\n",
      " [0.00000000e+00 0.00000000e+00 0.00000000e+00 ... 1.00000000e+00\n",
      "  0.00000000e+00 0.00000000e+00]\n",
      " [0.00000000e+00 0.00000000e+00 0.00000000e+00 ... 1.00000000e+00\n",
      "  0.00000000e+00 0.00000000e+00]]\n",
      "[[ nan  -0.  nan ...   0.  nan  nan]\n",
      " [ nan   0.  nan ...  nan  nan -inf]\n",
      " [  0.  nan  nan ...  nan  nan -inf]\n",
      " ...\n",
      " [ nan  nan  nan ...  nan  nan  nan]\n",
      " [ nan  nan  nan ...   0.  nan  nan]\n",
      " [ nan  nan  nan ...   0.  nan  nan]]\n"
     ]
    },
    {
     "name": "stderr",
     "output_type": "stream",
     "text": [
      "\r",
      " 70%|███████   | 7/10 [00:02<00:00,  3.20it/s]"
     ]
    },
    {
     "name": "stdout",
     "output_type": "stream",
     "text": [
      "[[0.00000000e+000 1.39194624e-112 3.29708068e-027 ... 0.00000000e+000\n",
      "  0.00000000e+000 0.00000000e+000]\n",
      " [0.00000000e+000 1.00000000e+000 1.00000000e+000 ... 0.00000000e+000\n",
      "  8.02492666e-181 0.00000000e+000]\n",
      " [0.00000000e+000 0.00000000e+000 3.94067912e-099 ... 0.00000000e+000\n",
      "  9.36232402e-184 0.00000000e+000]\n",
      " ...\n",
      " [0.00000000e+000 0.00000000e+000 3.82657777e-154 ... 0.00000000e+000\n",
      "  0.00000000e+000 0.00000000e+000]\n",
      " [0.00000000e+000 0.00000000e+000 1.00000000e+000 ... 0.00000000e+000\n",
      "  0.00000000e+000 0.00000000e+000]\n",
      " [0.00000000e+000 0.00000000e+000 1.00000000e+000 ... 0.00000000e+000\n",
      "  0.00000000e+000 0.00000000e+000]]\n",
      "[[ nan  -0.  -0. ...  nan  nan  nan]\n",
      " [ nan   0.   0. ...  nan  -0. -inf]\n",
      " [ nan  nan  -0. ...  nan  -0. -inf]\n",
      " ...\n",
      " [ nan  nan  -0. ...  nan  nan  nan]\n",
      " [ nan  nan   0. ...  nan  nan  nan]\n",
      " [ nan  nan   0. ...  nan  nan  nan]]\n",
      "[[0.00000000e+000 1.00000000e+000 0.00000000e+000 ... 0.00000000e+000\n",
      "  0.00000000e+000 0.00000000e+000]\n",
      " [0.00000000e+000 1.00000000e+000 0.00000000e+000 ... 0.00000000e+000\n",
      "  5.92100845e-046 0.00000000e+000]\n",
      " [0.00000000e+000 0.00000000e+000 0.00000000e+000 ... 0.00000000e+000\n",
      "  4.94618908e-020 1.11764455e-295]\n",
      " ...\n",
      " [0.00000000e+000 1.62411533e-165 0.00000000e+000 ... 0.00000000e+000\n",
      "  0.00000000e+000 0.00000000e+000]\n",
      " [0.00000000e+000 0.00000000e+000 0.00000000e+000 ... 0.00000000e+000\n",
      "  0.00000000e+000 0.00000000e+000]\n",
      " [0.00000000e+000 3.06052420e-255 0.00000000e+000 ... 0.00000000e+000\n",
      "  0.00000000e+000 0.00000000e+000]]\n",
      "[[          nan    0.                   nan ...           nan\n",
      "            nan           nan]\n",
      " [          nan    0.                   nan ...           nan\n",
      "    -0.                  -inf]\n",
      " [          nan           nan           nan ...           nan\n",
      "    -0.         -679.15137904]\n",
      " ...\n",
      " [          nan   -0.                   nan ...           nan\n",
      "            nan           nan]\n",
      " [          nan           nan           nan ...           nan\n",
      "            nan           nan]\n",
      " [          nan   -0.                   nan ...           nan\n",
      "            nan           nan]]\n"
     ]
    },
    {
     "name": "stderr",
     "output_type": "stream",
     "text": [
      " 90%|█████████ | 9/10 [00:03<00:00,  2.88it/s]"
     ]
    },
    {
     "name": "stdout",
     "output_type": "stream",
     "text": [
      "[[0.00000000e+000 0.00000000e+000 0.00000000e+000 ... 0.00000000e+000\n",
      "  0.00000000e+000 4.14380283e-287]\n",
      " [0.00000000e+000 0.00000000e+000 0.00000000e+000 ... 0.00000000e+000\n",
      "  0.00000000e+000 4.50907751e-222]\n",
      " [0.00000000e+000 0.00000000e+000 0.00000000e+000 ... 0.00000000e+000\n",
      "  0.00000000e+000 1.00000000e+000]\n",
      " ...\n",
      " [0.00000000e+000 0.00000000e+000 0.00000000e+000 ... 0.00000000e+000\n",
      "  0.00000000e+000 1.00000000e+000]\n",
      " [0.00000000e+000 0.00000000e+000 0.00000000e+000 ... 0.00000000e+000\n",
      "  0.00000000e+000 0.00000000e+000]\n",
      " [0.00000000e+000 0.00000000e+000 0.00000000e+000 ... 0.00000000e+000\n",
      "  0.00000000e+000 0.00000000e+000]]\n",
      "[[          nan           nan           nan ...           nan\n",
      "            nan   -0.        ]\n",
      " [          nan           nan           nan ...           nan\n",
      "            nan -509.66779806]\n",
      " [          nan           nan           nan ...           nan\n",
      "            nan    0.        ]\n",
      " ...\n",
      " [          nan           nan           nan ...           nan\n",
      "            nan    0.        ]\n",
      " [          nan           nan           nan ...           nan\n",
      "            nan           nan]\n",
      " [          nan           nan           nan ...           nan\n",
      "            nan           nan]]\n",
      "[[0.00000000e+000 1.03732385e-023 0.00000000e+000 ... 0.00000000e+000\n",
      "  0.00000000e+000 0.00000000e+000]\n",
      " [4.38404635e-252 1.00000000e+000 0.00000000e+000 ... 0.00000000e+000\n",
      "  1.00000000e+000 0.00000000e+000]\n",
      " [1.00000000e+000 0.00000000e+000 0.00000000e+000 ... 0.00000000e+000\n",
      "  1.00000000e+000 0.00000000e+000]\n",
      " ...\n",
      " [0.00000000e+000 0.00000000e+000 0.00000000e+000 ... 0.00000000e+000\n",
      "  1.00000000e+000 0.00000000e+000]\n",
      " [0.00000000e+000 0.00000000e+000 0.00000000e+000 ... 0.00000000e+000\n",
      "  0.00000000e+000 0.00000000e+000]\n",
      " [2.05957470e-300 0.00000000e+000 0.00000000e+000 ... 0.00000000e+000\n",
      "  0.00000000e+000 0.00000000e+000]]\n"
     ]
    },
    {
     "name": "stderr",
     "output_type": "stream",
     "text": [
      "100%|██████████| 10/10 [00:03<00:00,  2.93it/s]"
     ]
    },
    {
     "name": "stdout",
     "output_type": "stream",
     "text": [
      "[[ nan  -0.  nan ...  nan  nan  nan]\n",
      " [ -0.   0.  nan ...  nan   0. -inf]\n",
      " [  0.  nan  nan ...  nan   0. -inf]\n",
      " ...\n",
      " [ nan  nan  nan ...  nan   0.  nan]\n",
      " [ nan  nan  nan ...  nan  nan  nan]\n",
      " [ -0.  nan  nan ...  nan  nan  nan]]\n"
     ]
    },
    {
     "name": "stderr",
     "output_type": "stream",
     "text": [
      "\n",
      "  0%|          | 0/10 [00:00<?, ?it/s]"
     ]
    },
    {
     "name": "stdout",
     "output_type": "stream",
     "text": [
      "[[0.00000000e+000 2.09710472e-168 0.00000000e+000 ... 1.00000000e+000\n",
      "  0.00000000e+000 0.00000000e+000]\n",
      " [0.00000000e+000 1.00000000e+000 0.00000000e+000 ... 1.70472026e-181\n",
      "  0.00000000e+000 0.00000000e+000]\n",
      " [0.00000000e+000 0.00000000e+000 0.00000000e+000 ... 8.38605804e-175\n",
      "  0.00000000e+000 0.00000000e+000]\n",
      " ...\n",
      " [0.00000000e+000 0.00000000e+000 0.00000000e+000 ... 5.65902215e-159\n",
      "  0.00000000e+000 0.00000000e+000]\n",
      " [0.00000000e+000 0.00000000e+000 0.00000000e+000 ... 1.00000000e+000\n",
      "  0.00000000e+000 0.00000000e+000]\n",
      " [0.00000000e+000 0.00000000e+000 0.00000000e+000 ... 1.00000000e+000\n",
      "  0.00000000e+000 0.00000000e+000]]\n",
      "[[ nan  -0.  nan ...   0.  nan  nan]\n",
      " [ nan   0.  nan ...  -0.  nan -inf]\n",
      " [ nan  nan  nan ...  -0.  nan -inf]\n",
      " ...\n",
      " [ nan  nan  nan ...  -0.  nan  nan]\n",
      " [ nan  nan  nan ...   0.  nan  nan]\n",
      " [ nan  nan  nan ...   0.  nan  nan]]\n"
     ]
    },
    {
     "name": "stderr",
     "output_type": "stream",
     "text": [
      "\r",
      " 10%|█         | 1/10 [00:00<00:03,  2.51it/s]"
     ]
    },
    {
     "name": "stdout",
     "output_type": "stream",
     "text": [
      "Epoch 0, Loss [[nan  0. nan ... inf nan nan]\n",
      " [nan inf nan ...  0. nan inf]\n",
      " [nan nan nan ...  0. nan inf]\n",
      " ...\n",
      " [nan nan nan ...  0. nan nan]\n",
      " [nan nan nan ... inf nan nan]\n",
      " [nan nan nan ... inf nan nan]]\n",
      "[[0.00000000e+000 1.00000000e+000 0.00000000e+000 ... 0.00000000e+000\n",
      "  0.00000000e+000 0.00000000e+000]\n",
      " [0.00000000e+000 1.00000000e+000 0.00000000e+000 ... 0.00000000e+000\n",
      "  0.00000000e+000 0.00000000e+000]\n",
      " [0.00000000e+000 2.41349403e-216 0.00000000e+000 ... 0.00000000e+000\n",
      "  0.00000000e+000 4.39426889e-195]\n",
      " ...\n",
      " [0.00000000e+000 1.00000000e+000 0.00000000e+000 ... 0.00000000e+000\n",
      "  0.00000000e+000 0.00000000e+000]\n",
      " [0.00000000e+000 0.00000000e+000 0.00000000e+000 ... 0.00000000e+000\n",
      "  0.00000000e+000 0.00000000e+000]\n",
      " [0.00000000e+000 4.64055382e-122 0.00000000e+000 ... 0.00000000e+000\n",
      "  0.00000000e+000 0.00000000e+000]]\n",
      "[[          nan    0.                   nan ...           nan\n",
      "            nan           nan]\n",
      " [          nan    0.                   nan ...           nan\n",
      "            nan          -inf]\n",
      " [          nan   -0.                   nan ...           nan\n",
      "            nan -447.52379197]\n",
      " ...\n",
      " [          nan    0.                   nan ...           nan\n",
      "            nan           nan]\n",
      " [          nan           nan           nan ...           nan\n",
      "            nan           nan]\n",
      " [          nan   -0.                   nan ...           nan\n",
      "            nan           nan]]\n"
     ]
    },
    {
     "name": "stderr",
     "output_type": "stream",
     "text": [
      " 30%|███       | 3/10 [00:00<00:01,  3.63it/s]"
     ]
    },
    {
     "name": "stdout",
     "output_type": "stream",
     "text": [
      "[[0.00000000e+000 0.00000000e+000 0.00000000e+000 ... 0.00000000e+000\n",
      "  0.00000000e+000 3.40226339e-278]\n",
      " [0.00000000e+000 0.00000000e+000 0.00000000e+000 ... 0.00000000e+000\n",
      "  0.00000000e+000 7.06379788e-205]\n",
      " [0.00000000e+000 0.00000000e+000 0.00000000e+000 ... 0.00000000e+000\n",
      "  0.00000000e+000 1.00000000e+000]\n",
      " ...\n",
      " [0.00000000e+000 0.00000000e+000 0.00000000e+000 ... 0.00000000e+000\n",
      "  0.00000000e+000 1.00000000e+000]\n",
      " [0.00000000e+000 0.00000000e+000 0.00000000e+000 ... 0.00000000e+000\n",
      "  0.00000000e+000 0.00000000e+000]\n",
      " [0.00000000e+000 0.00000000e+000 0.00000000e+000 ... 0.00000000e+000\n",
      "  0.00000000e+000 0.00000000e+000]]\n",
      "[[          nan           nan           nan ...           nan\n",
      "            nan   -0.        ]\n",
      " [          nan           nan           nan ...           nan\n",
      "            nan -470.07496121]\n",
      " [          nan           nan           nan ...           nan\n",
      "            nan    0.        ]\n",
      " ...\n",
      " [          nan           nan           nan ...           nan\n",
      "            nan    0.        ]\n",
      " [          nan           nan           nan ...           nan\n",
      "            nan           nan]\n",
      " [          nan           nan           nan ...           nan\n",
      "            nan           nan]]\n",
      "[[0. 0. 0. ... 0. 0. 0.]\n",
      " [0. 0. 0. ... 0. 0. 0.]\n",
      " [0. 0. 0. ... 0. 0. 0.]\n",
      " ...\n",
      " [0. 0. 0. ... 0. 0. 0.]\n",
      " [0. 0. 0. ... 0. 0. 0.]\n",
      " [0. 0. 0. ... 0. 0. 0.]]\n",
      "[[ nan  nan  nan ...  nan  nan  nan]\n",
      " [ nan  nan  nan ...  nan  nan -inf]\n",
      " [ nan  nan  nan ...  nan  nan -inf]\n",
      " ...\n",
      " [ nan  nan  nan ...  nan  nan  nan]\n",
      " [ nan  nan  nan ...  nan  nan  nan]\n",
      " [ nan  nan  nan ...  nan  nan  nan]]\n"
     ]
    },
    {
     "name": "stderr",
     "output_type": "stream",
     "text": [
      " 50%|█████     | 5/10 [00:01<00:01,  3.56it/s]"
     ]
    },
    {
     "name": "stdout",
     "output_type": "stream",
     "text": [
      "[[0.00000000e+000 0.00000000e+000 1.63309274e-072 ... 0.00000000e+000\n",
      "  0.00000000e+000 0.00000000e+000]\n",
      " [0.00000000e+000 0.00000000e+000 1.00000000e+000 ... 0.00000000e+000\n",
      "  0.00000000e+000 0.00000000e+000]\n",
      " [4.74540684e-076 0.00000000e+000 1.93622188e-306 ... 0.00000000e+000\n",
      "  0.00000000e+000 0.00000000e+000]\n",
      " ...\n",
      " [0.00000000e+000 0.00000000e+000 4.24635303e-288 ... 0.00000000e+000\n",
      "  0.00000000e+000 0.00000000e+000]\n",
      " [0.00000000e+000 0.00000000e+000 1.00000000e+000 ... 0.00000000e+000\n",
      "  0.00000000e+000 0.00000000e+000]\n",
      " [0.00000000e+000 0.00000000e+000 1.00000000e+000 ... 0.00000000e+000\n",
      "  0.00000000e+000 0.00000000e+000]]\n",
      "[[ nan  nan  -0. ...  nan  nan  nan]\n",
      " [ nan  nan   0. ...  nan  nan -inf]\n",
      " [ -0.  nan  -0. ...  nan  nan -inf]\n",
      " ...\n",
      " [ nan  nan  -0. ...  nan  nan  nan]\n",
      " [ nan  nan   0. ...  nan  nan  nan]\n",
      " [ nan  nan   0. ...  nan  nan  nan]]\n"
     ]
    },
    {
     "name": "stderr",
     "output_type": "stream",
     "text": [
      "\r",
      " 60%|██████    | 6/10 [00:01<00:01,  3.91it/s]"
     ]
    },
    {
     "name": "stdout",
     "output_type": "stream",
     "text": [
      "[[0.00000000e+000 1.00000000e+000 0.00000000e+000 ... 0.00000000e+000\n",
      "  0.00000000e+000 0.00000000e+000]\n",
      " [0.00000000e+000 1.00000000e+000 0.00000000e+000 ... 0.00000000e+000\n",
      "  1.00000000e+000 0.00000000e+000]\n",
      " [0.00000000e+000 2.81243022e-159 0.00000000e+000 ... 0.00000000e+000\n",
      "  1.00000000e+000 0.00000000e+000]\n",
      " ...\n",
      " [0.00000000e+000 1.00000000e+000 0.00000000e+000 ... 0.00000000e+000\n",
      "  1.00000000e+000 0.00000000e+000]\n",
      " [0.00000000e+000 3.09621078e-261 0.00000000e+000 ... 0.00000000e+000\n",
      "  0.00000000e+000 0.00000000e+000]\n",
      " [0.00000000e+000 2.36509264e-082 0.00000000e+000 ... 0.00000000e+000\n",
      "  0.00000000e+000 0.00000000e+000]]\n",
      "[[ nan   0.  nan ...  nan  nan  nan]\n",
      " [ nan   0.  nan ...  nan   0. -inf]\n",
      " [ nan  -0.  nan ...  nan   0. -inf]\n",
      " ...\n",
      " [ nan   0.  nan ...  nan   0.  nan]\n",
      " [ nan  -0.  nan ...  nan  nan  nan]\n",
      " [ nan  -0.  nan ...  nan  nan  nan]]\n",
      "[[0. 0. 0. ... 0. 0. 0.]\n",
      " [0. 0. 0. ... 0. 0. 0.]\n",
      " [1. 0. 0. ... 0. 0. 1.]\n",
      " ...\n",
      " [0. 0. 0. ... 0. 0. 1.]\n",
      " [0. 0. 0. ... 0. 0. 0.]\n",
      " [0. 0. 0. ... 0. 0. 0.]]\n"
     ]
    },
    {
     "name": "stderr",
     "output_type": "stream",
     "text": [
      "\r",
      " 70%|███████   | 7/10 [00:01<00:00,  3.75it/s]"
     ]
    },
    {
     "name": "stdout",
     "output_type": "stream",
     "text": [
      "[[ nan  nan  nan ...  nan  nan  nan]\n",
      " [ nan  nan  nan ...  nan  nan -inf]\n",
      " [  0.  nan  nan ...  nan  nan   0.]\n",
      " ...\n",
      " [ nan  nan  nan ...  nan  nan   0.]\n",
      " [ nan  nan  nan ...  nan  nan  nan]\n",
      " [ nan  nan  nan ...  nan  nan  nan]]\n",
      "[[0.00000000e+00 0.00000000e+00 0.00000000e+00 ... 3.37385767e-52\n",
      "  0.00000000e+00 0.00000000e+00]\n",
      " [0.00000000e+00 0.00000000e+00 0.00000000e+00 ... 0.00000000e+00\n",
      "  0.00000000e+00 0.00000000e+00]\n",
      " [0.00000000e+00 0.00000000e+00 0.00000000e+00 ... 0.00000000e+00\n",
      "  0.00000000e+00 0.00000000e+00]\n",
      " ...\n",
      " [0.00000000e+00 0.00000000e+00 0.00000000e+00 ... 0.00000000e+00\n",
      "  0.00000000e+00 0.00000000e+00]\n",
      " [0.00000000e+00 0.00000000e+00 0.00000000e+00 ... 9.99999935e-01\n",
      "  0.00000000e+00 0.00000000e+00]\n",
      " [0.00000000e+00 0.00000000e+00 0.00000000e+00 ... 1.00000000e+00\n",
      "  0.00000000e+00 0.00000000e+00]]\n",
      "[[ nan  nan  nan ...  -0.  nan  nan]\n",
      " [ nan  nan  nan ...  nan  nan -inf]\n",
      " [ nan  nan  nan ...  nan  nan -inf]\n",
      " ...\n",
      " [ nan  nan  nan ...  nan  nan  nan]\n",
      " [ nan  nan  nan ...  -0.  nan  nan]\n",
      " [ nan  nan  nan ...   0.  nan  nan]]\n"
     ]
    },
    {
     "name": "stderr",
     "output_type": "stream",
     "text": [
      " 90%|█████████ | 9/10 [00:02<00:00,  3.57it/s]"
     ]
    },
    {
     "name": "stdout",
     "output_type": "stream",
     "text": [
      "[[0. 0. 0. ... 0. 0. 0.]\n",
      " [0. 0. 0. ... 0. 0. 0.]\n",
      " [0. 0. 0. ... 0. 0. 0.]\n",
      " ...\n",
      " [0. 0. 0. ... 0. 0. 0.]\n",
      " [0. 0. 0. ... 0. 0. 0.]\n",
      " [0. 0. 0. ... 0. 0. 0.]]\n",
      "[[ nan  nan  nan ...  nan  nan  nan]\n",
      " [ nan  nan  nan ...  nan  nan -inf]\n",
      " [ nan  nan  nan ...  nan  nan -inf]\n",
      " ...\n",
      " [ nan  nan  nan ...  nan  nan  nan]\n",
      " [ nan  nan  nan ...  nan  nan  nan]\n",
      " [ nan  nan  nan ...  nan  nan  nan]]\n",
      "[[0.00000000e+000 0.00000000e+000 0.00000000e+000 ... 0.00000000e+000\n",
      "  0.00000000e+000 0.00000000e+000]\n",
      " [0.00000000e+000 0.00000000e+000 0.00000000e+000 ... 0.00000000e+000\n",
      "  1.00000000e+000 0.00000000e+000]\n",
      " [1.00000000e+000 0.00000000e+000 0.00000000e+000 ... 0.00000000e+000\n",
      "  1.00000000e+000 1.00000000e+000]\n",
      " ...\n",
      " [0.00000000e+000 0.00000000e+000 0.00000000e+000 ... 0.00000000e+000\n",
      "  3.71247796e-235 1.00000000e+000]\n",
      " [0.00000000e+000 0.00000000e+000 0.00000000e+000 ... 0.00000000e+000\n",
      "  0.00000000e+000 0.00000000e+000]\n",
      " [0.00000000e+000 0.00000000e+000 0.00000000e+000 ... 0.00000000e+000\n",
      "  0.00000000e+000 0.00000000e+000]]\n",
      "[[ nan  nan  nan ...  nan  nan  nan]\n",
      " [ nan  nan  nan ...  nan   0. -inf]\n",
      " [  0.  nan  nan ...  nan   0.   0.]\n",
      " ...\n",
      " [ nan  nan  nan ...  nan  -0.  -0.]\n",
      " [ nan  nan  nan ...  nan  nan  nan]\n",
      " [ nan  nan  nan ...  nan  nan  nan]]\n"
     ]
    },
    {
     "name": "stderr",
     "output_type": "stream",
     "text": [
      "100%|██████████| 10/10 [00:03<00:00,  3.32it/s]\n",
      " 10%|█         | 1/10 [00:00<00:02,  3.38it/s]"
     ]
    },
    {
     "name": "stdout",
     "output_type": "stream",
     "text": [
      "[[0.00000000e+000 1.00000000e+000 0.00000000e+000 ... 1.00000000e+000\n",
      "  0.00000000e+000 0.00000000e+000]\n",
      " [0.00000000e+000 1.00000000e+000 0.00000000e+000 ... 8.18916051e-164\n",
      "  0.00000000e+000 0.00000000e+000]\n",
      " [0.00000000e+000 1.00000000e+000 0.00000000e+000 ... 5.85785419e-182\n",
      "  0.00000000e+000 1.00000000e+000]\n",
      " ...\n",
      " [0.00000000e+000 1.00000000e+000 0.00000000e+000 ... 2.05439447e-163\n",
      "  0.00000000e+000 1.00000000e+000]\n",
      " [0.00000000e+000 1.47091225e-029 0.00000000e+000 ... 1.00000000e+000\n",
      "  0.00000000e+000 0.00000000e+000]\n",
      " [0.00000000e+000 1.00000000e+000 0.00000000e+000 ... 1.00000000e+000\n",
      "  0.00000000e+000 0.00000000e+000]]\n",
      "[[ nan   0.  nan ...   0.  nan  nan]\n",
      " [ nan   0.  nan ...  -0.  nan -inf]\n",
      " [ nan   0.  nan ...  -0.  nan   0.]\n",
      " ...\n",
      " [ nan   0.  nan ...  -0.  nan   0.]\n",
      " [ nan  -0.  nan ...   0.  nan  nan]\n",
      " [ nan   0.  nan ...   0.  nan  nan]]\n",
      "Epoch 0, Loss [[nan inf nan ... inf nan nan]\n",
      " [nan inf nan ...  0. nan inf]\n",
      " [nan inf nan ...  0. nan nan]\n",
      " ...\n",
      " [nan inf nan ...  0. nan inf]\n",
      " [nan  0. nan ... inf nan nan]\n",
      " [nan inf nan ... inf nan nan]]\n"
     ]
    },
    {
     "name": "stderr",
     "output_type": "stream",
     "text": [
      "\r",
      " 20%|██        | 2/10 [00:00<00:02,  3.36it/s]"
     ]
    },
    {
     "name": "stdout",
     "output_type": "stream",
     "text": [
      "[[0.00000000e+000 0.00000000e+000 2.55931761e-060 ... 0.00000000e+000\n",
      "  0.00000000e+000 0.00000000e+000]\n",
      " [0.00000000e+000 0.00000000e+000 1.00000000e+000 ... 0.00000000e+000\n",
      "  0.00000000e+000 0.00000000e+000]\n",
      " [0.00000000e+000 0.00000000e+000 0.00000000e+000 ... 0.00000000e+000\n",
      "  0.00000000e+000 1.00000000e+000]\n",
      " ...\n",
      " [0.00000000e+000 0.00000000e+000 6.78747145e-289 ... 0.00000000e+000\n",
      "  0.00000000e+000 1.29372224e-223]\n",
      " [0.00000000e+000 0.00000000e+000 1.00000000e+000 ... 0.00000000e+000\n",
      "  0.00000000e+000 0.00000000e+000]\n",
      " [0.00000000e+000 0.00000000e+000 1.00000000e+000 ... 0.00000000e+000\n",
      "  0.00000000e+000 0.00000000e+000]]\n",
      "[[ nan  nan  -0. ...  nan  nan  nan]\n",
      " [ nan  nan   0. ...  nan  nan -inf]\n",
      " [ nan  nan  nan ...  nan  nan   0.]\n",
      " ...\n",
      " [ nan  nan  -0. ...  nan  nan  -0.]\n",
      " [ nan  nan   0. ...  nan  nan  nan]\n",
      " [ nan  nan   0. ...  nan  nan  nan]]\n"
     ]
    },
    {
     "name": "stderr",
     "output_type": "stream",
     "text": [
      "\r",
      " 30%|███       | 3/10 [00:00<00:02,  2.92it/s]"
     ]
    },
    {
     "name": "stdout",
     "output_type": "stream",
     "text": [
      "[[0.00000000e+000 0.00000000e+000 0.00000000e+000 ... 0.00000000e+000\n",
      "  0.00000000e+000 5.10406800e-293]\n",
      " [0.00000000e+000 0.00000000e+000 0.00000000e+000 ... 0.00000000e+000\n",
      "  1.00000000e+000 9.17300658e-293]\n",
      " [0.00000000e+000 0.00000000e+000 0.00000000e+000 ... 0.00000000e+000\n",
      "  1.00000000e+000 1.00000000e+000]\n",
      " ...\n",
      " [0.00000000e+000 0.00000000e+000 0.00000000e+000 ... 0.00000000e+000\n",
      "  1.00000000e+000 1.00000000e+000]\n",
      " [0.00000000e+000 0.00000000e+000 0.00000000e+000 ... 0.00000000e+000\n",
      "  0.00000000e+000 0.00000000e+000]\n",
      " [0.00000000e+000 0.00000000e+000 0.00000000e+000 ... 0.00000000e+000\n",
      "  0.00000000e+000 0.00000000e+000]]\n",
      "[[          nan           nan           nan ...           nan\n",
      "            nan   -0.        ]\n",
      " [          nan           nan           nan ...           nan\n",
      "     0.         -672.44116714]\n",
      " [          nan           nan           nan ...           nan\n",
      "     0.            0.        ]\n",
      " ...\n",
      " [          nan           nan           nan ...           nan\n",
      "     0.            0.        ]\n",
      " [          nan           nan           nan ...           nan\n",
      "            nan           nan]\n",
      " [          nan           nan           nan ...           nan\n",
      "            nan           nan]]\n"
     ]
    },
    {
     "name": "stderr",
     "output_type": "stream",
     "text": [
      "\r",
      " 40%|████      | 4/10 [00:01<00:01,  3.39it/s]"
     ]
    },
    {
     "name": "stdout",
     "output_type": "stream",
     "text": [
      "[[0. 0. 0. ... 0. 0. 0.]\n",
      " [0. 0. 0. ... 0. 0. 0.]\n",
      " [1. 0. 0. ... 0. 0. 0.]\n",
      " ...\n",
      " [0. 0. 0. ... 0. 0. 0.]\n",
      " [0. 0. 0. ... 0. 0. 0.]\n",
      " [0. 0. 0. ... 0. 0. 0.]]\n",
      "[[ nan  nan  nan ...  nan  nan  nan]\n",
      " [ nan  nan  nan ...  nan  nan -inf]\n",
      " [  0.  nan  nan ...  nan  nan -inf]\n",
      " ...\n",
      " [ nan  nan  nan ...  nan  nan  nan]\n",
      " [ nan  nan  nan ...  nan  nan  nan]\n",
      " [ nan  nan  nan ...  nan  nan  nan]]\n",
      "[[0. 0. 0. ... 0. 0. 0.]\n",
      " [0. 0. 0. ... 0. 0. 0.]\n",
      " [0. 0. 0. ... 0. 0. 0.]\n",
      " ...\n",
      " [0. 0. 0. ... 0. 0. 0.]\n",
      " [0. 0. 0. ... 0. 0. 0.]\n",
      " [0. 0. 0. ... 0. 0. 0.]]\n",
      "[[ nan  nan  nan ...  nan  nan  nan]\n",
      " [ nan  nan  nan ...  nan  nan -inf]\n",
      " [ nan  nan  nan ...  nan  nan -inf]\n",
      " ...\n",
      " [ nan  nan  nan ...  nan  nan  nan]\n",
      " [ nan  nan  nan ...  nan  nan  nan]\n",
      " [ nan  nan  nan ...  nan  nan  nan]]\n"
     ]
    },
    {
     "name": "stderr",
     "output_type": "stream",
     "text": [
      " 60%|██████    | 6/10 [00:02<00:01,  2.37it/s]"
     ]
    },
    {
     "name": "stdout",
     "output_type": "stream",
     "text": [
      "[[0.00000000e+000 0.00000000e+000 0.00000000e+000 ... 0.00000000e+000\n",
      "  0.00000000e+000 0.00000000e+000]\n",
      " [0.00000000e+000 0.00000000e+000 0.00000000e+000 ... 0.00000000e+000\n",
      "  0.00000000e+000 0.00000000e+000]\n",
      " [0.00000000e+000 0.00000000e+000 0.00000000e+000 ... 0.00000000e+000\n",
      "  0.00000000e+000 1.00000000e+000]\n",
      " ...\n",
      " [0.00000000e+000 0.00000000e+000 0.00000000e+000 ... 0.00000000e+000\n",
      "  0.00000000e+000 8.35872207e-169]\n",
      " [0.00000000e+000 0.00000000e+000 0.00000000e+000 ... 0.00000000e+000\n",
      "  0.00000000e+000 0.00000000e+000]\n",
      " [0.00000000e+000 0.00000000e+000 0.00000000e+000 ... 0.00000000e+000\n",
      "  0.00000000e+000 0.00000000e+000]]\n",
      "[[ nan  nan  nan ...  nan  nan  nan]\n",
      " [ nan  nan  nan ...  nan  nan -inf]\n",
      " [ nan  nan  nan ...  nan  nan   0.]\n",
      " ...\n",
      " [ nan  nan  nan ...  nan  nan  -0.]\n",
      " [ nan  nan  nan ...  nan  nan  nan]\n",
      " [ nan  nan  nan ...  nan  nan  nan]]\n"
     ]
    },
    {
     "name": "stderr",
     "output_type": "stream",
     "text": [
      "\r",
      " 70%|███████   | 7/10 [00:02<00:01,  2.86it/s]"
     ]
    },
    {
     "name": "stdout",
     "output_type": "stream",
     "text": [
      "[[0. 0. 0. ... 0. 0. 0.]\n",
      " [0. 0. 0. ... 0. 1. 0.]\n",
      " [0. 0. 0. ... 0. 1. 1.]\n",
      " ...\n",
      " [0. 0. 0. ... 0. 0. 1.]\n",
      " [0. 0. 0. ... 0. 0. 0.]\n",
      " [0. 0. 0. ... 0. 0. 0.]]\n",
      "[[ nan  nan  nan ...  nan  nan  nan]\n",
      " [ nan  nan  nan ...  nan   0. -inf]\n",
      " [ nan  nan  nan ...  nan   0.   0.]\n",
      " ...\n",
      " [ nan  nan  nan ...  nan  nan   0.]\n",
      " [ nan  nan  nan ...  nan  nan  nan]\n",
      " [ nan  nan  nan ...  nan  nan  nan]]\n",
      "[[0.00000000e+000 1.00000000e+000 0.00000000e+000 ... 1.30101091e-088\n",
      "  0.00000000e+000 0.00000000e+000]\n",
      " [0.00000000e+000 1.00000000e+000 0.00000000e+000 ... 0.00000000e+000\n",
      "  0.00000000e+000 0.00000000e+000]\n",
      " [0.00000000e+000 0.00000000e+000 0.00000000e+000 ... 0.00000000e+000\n",
      "  0.00000000e+000 0.00000000e+000]\n",
      " ...\n",
      " [0.00000000e+000 2.56949608e-220 0.00000000e+000 ... 0.00000000e+000\n",
      "  0.00000000e+000 0.00000000e+000]\n",
      " [0.00000000e+000 0.00000000e+000 0.00000000e+000 ... 1.98603067e-044\n",
      "  0.00000000e+000 0.00000000e+000]\n",
      " [0.00000000e+000 0.00000000e+000 0.00000000e+000 ... 1.00000000e+000\n",
      "  0.00000000e+000 0.00000000e+000]]\n",
      "[[ nan   0.  nan ...  -0.  nan  nan]\n",
      " [ nan   0.  nan ...  nan  nan -inf]\n",
      " [ nan  nan  nan ...  nan  nan -inf]\n",
      " ...\n",
      " [ nan  -0.  nan ...  nan  nan  nan]\n",
      " [ nan  nan  nan ...  -0.  nan  nan]\n",
      " [ nan  nan  nan ...   0.  nan  nan]]\n"
     ]
    },
    {
     "name": "stderr",
     "output_type": "stream",
     "text": [
      "\r",
      " 80%|████████  | 8/10 [00:02<00:00,  2.86it/s]"
     ]
    },
    {
     "name": "stdout",
     "output_type": "stream",
     "text": [
      "[[0.00000000e+000 0.00000000e+000 1.00336333e-097 ... 0.00000000e+000\n",
      "  0.00000000e+000 0.00000000e+000]\n",
      " [0.00000000e+000 0.00000000e+000 1.00000000e+000 ... 0.00000000e+000\n",
      "  2.30187180e-141 0.00000000e+000]\n",
      " [1.00000000e+000 0.00000000e+000 0.00000000e+000 ... 0.00000000e+000\n",
      "  2.86489643e-149 0.00000000e+000]\n",
      " ...\n",
      " [0.00000000e+000 0.00000000e+000 0.00000000e+000 ... 0.00000000e+000\n",
      "  0.00000000e+000 0.00000000e+000]\n",
      " [0.00000000e+000 0.00000000e+000 1.00000000e+000 ... 0.00000000e+000\n",
      "  0.00000000e+000 0.00000000e+000]\n",
      " [0.00000000e+000 0.00000000e+000 1.00000000e+000 ... 0.00000000e+000\n",
      "  0.00000000e+000 0.00000000e+000]]\n",
      "[[ nan  nan  -0. ...  nan  nan  nan]\n",
      " [ nan  nan   0. ...  nan  -0. -inf]\n",
      " [  0.  nan  nan ...  nan  -0. -inf]\n",
      " ...\n",
      " [ nan  nan  nan ...  nan  nan  nan]\n",
      " [ nan  nan   0. ...  nan  nan  nan]\n",
      " [ nan  nan   0. ...  nan  nan  nan]]\n"
     ]
    },
    {
     "name": "stderr",
     "output_type": "stream",
     "text": [
      "100%|██████████| 10/10 [00:03<00:00,  2.86it/s]"
     ]
    },
    {
     "name": "stdout",
     "output_type": "stream",
     "text": [
      "[[0.00000000e+000 1.00000000e+000 0.00000000e+000 ... 0.00000000e+000\n",
      "  0.00000000e+000 1.53439799e-217]\n",
      " [0.00000000e+000 1.00000000e+000 0.00000000e+000 ... 0.00000000e+000\n",
      "  1.22155720e-184 4.49744158e-226]\n",
      " [0.00000000e+000 2.07796232e-168 0.00000000e+000 ... 0.00000000e+000\n",
      "  2.78496055e-187 1.00000000e+000]\n",
      " ...\n",
      " [0.00000000e+000 1.00000000e+000 0.00000000e+000 ... 0.00000000e+000\n",
      "  0.00000000e+000 1.00000000e+000]\n",
      " [0.00000000e+000 0.00000000e+000 0.00000000e+000 ... 0.00000000e+000\n",
      "  0.00000000e+000 0.00000000e+000]\n",
      " [0.00000000e+000 2.64873156e-141 0.00000000e+000 ... 9.45692537e-241\n",
      "  0.00000000e+000 1.33810110e-290]]\n",
      "[[          nan    0.                   nan ...           nan\n",
      "            nan   -0.        ]\n",
      " [          nan    0.                   nan ...           nan\n",
      "    -0.         -518.88072232]\n",
      " [          nan   -0.                   nan ...           nan\n",
      "    -0.            0.        ]\n",
      " ...\n",
      " [          nan    0.                   nan ...           nan\n",
      "            nan    0.        ]\n",
      " [          nan           nan           nan ...           nan\n",
      "            nan           nan]\n",
      " [          nan   -0.                   nan ...   -0.\n",
      "            nan   -0.        ]]\n"
     ]
    },
    {
     "name": "stderr",
     "output_type": "stream",
     "text": [
      "\n",
      " 10%|█         | 1/10 [00:00<00:02,  3.15it/s]"
     ]
    },
    {
     "name": "stdout",
     "output_type": "stream",
     "text": [
      "[[0.00000000e+00 0.00000000e+00 0.00000000e+00 ... 1.00000000e+00\n",
      "  0.00000000e+00 0.00000000e+00]\n",
      " [0.00000000e+00 0.00000000e+00 0.00000000e+00 ... 0.00000000e+00\n",
      "  1.84538333e-29 0.00000000e+00]\n",
      " [0.00000000e+00 0.00000000e+00 0.00000000e+00 ... 0.00000000e+00\n",
      "  1.70665726e-04 0.00000000e+00]\n",
      " ...\n",
      " [0.00000000e+00 0.00000000e+00 0.00000000e+00 ... 0.00000000e+00\n",
      "  0.00000000e+00 0.00000000e+00]\n",
      " [0.00000000e+00 0.00000000e+00 0.00000000e+00 ... 1.00000000e+00\n",
      "  0.00000000e+00 0.00000000e+00]\n",
      " [0.00000000e+00 0.00000000e+00 0.00000000e+00 ... 1.00000000e+00\n",
      "  0.00000000e+00 0.00000000e+00]]\n",
      "[[ nan  nan  nan ...   0.  nan  nan]\n",
      " [ nan  nan  nan ...  nan  -0. -inf]\n",
      " [ nan  nan  nan ...  nan  -0. -inf]\n",
      " ...\n",
      " [ nan  nan  nan ...  nan  nan  nan]\n",
      " [ nan  nan  nan ...   0.  nan  nan]\n",
      " [ nan  nan  nan ...   0.  nan  nan]]\n",
      "Epoch 0, Loss [[           nan            nan            nan ...            inf\n",
      "             nan            nan]\n",
      " [           nan            nan            nan ...            nan\n",
      "  0.00000000e+00            inf]\n",
      " [           nan            nan            nan ...            nan\n",
      "  3.41360582e-08            inf]\n",
      " ...\n",
      " [           nan            nan            nan ...            nan\n",
      "             nan            nan]\n",
      " [           nan            nan            nan ...            inf\n",
      "             nan            nan]\n",
      " [           nan            nan            nan ...            inf\n",
      "             nan            nan]]\n"
     ]
    },
    {
     "name": "stderr",
     "output_type": "stream",
     "text": [
      "\r",
      " 20%|██        | 2/10 [00:00<00:02,  2.84it/s]"
     ]
    },
    {
     "name": "stdout",
     "output_type": "stream",
     "text": [
      "[[0. 0. 0. ... 0. 0. 0.]\n",
      " [0. 0. 0. ... 0. 0. 0.]\n",
      " [0. 0. 0. ... 0. 0. 0.]\n",
      " ...\n",
      " [0. 0. 0. ... 0. 0. 0.]\n",
      " [0. 0. 0. ... 0. 0. 0.]\n",
      " [0. 0. 0. ... 0. 0. 0.]]\n",
      "[[ nan  nan  nan ...  nan  nan  nan]\n",
      " [ nan  nan  nan ...  nan  nan -inf]\n",
      " [ nan  nan  nan ...  nan  nan -inf]\n",
      " ...\n",
      " [ nan  nan  nan ...  nan  nan  nan]\n",
      " [ nan  nan  nan ...  nan  nan  nan]\n",
      " [ nan  nan  nan ...  nan  nan  nan]]\n",
      "[[0.00000000e+000 0.00000000e+000 0.00000000e+000 ... 0.00000000e+000\n",
      "  0.00000000e+000 0.00000000e+000]\n",
      " [0.00000000e+000 0.00000000e+000 0.00000000e+000 ... 0.00000000e+000\n",
      "  1.00000000e+000 0.00000000e+000]\n",
      " [1.00000000e+000 0.00000000e+000 0.00000000e+000 ... 0.00000000e+000\n",
      "  1.00000000e+000 1.32751558e-189]\n",
      " ...\n",
      " [0.00000000e+000 0.00000000e+000 0.00000000e+000 ... 0.00000000e+000\n",
      "  1.00000000e+000 0.00000000e+000]\n",
      " [0.00000000e+000 0.00000000e+000 0.00000000e+000 ... 0.00000000e+000\n",
      "  0.00000000e+000 0.00000000e+000]\n",
      " [0.00000000e+000 0.00000000e+000 0.00000000e+000 ... 0.00000000e+000\n",
      "  0.00000000e+000 0.00000000e+000]]\n"
     ]
    },
    {
     "name": "stderr",
     "output_type": "stream",
     "text": [
      "\r",
      " 30%|███       | 3/10 [00:00<00:02,  3.05it/s]"
     ]
    },
    {
     "name": "stdout",
     "output_type": "stream",
     "text": [
      "[[          nan           nan           nan ...           nan\n",
      "            nan           nan]\n",
      " [          nan           nan           nan ...           nan\n",
      "     0.                  -inf]\n",
      " [   0.                   nan           nan ...           nan\n",
      "     0.         -434.90527336]\n",
      " ...\n",
      " [          nan           nan           nan ...           nan\n",
      "     0.                   nan]\n",
      " [          nan           nan           nan ...           nan\n",
      "            nan           nan]\n",
      " [          nan           nan           nan ...           nan\n",
      "            nan           nan]]\n",
      "[[0.00000000e+000 1.00000000e+000 0.00000000e+000 ... 0.00000000e+000\n",
      "  0.00000000e+000 3.26809967e-106]\n",
      " [0.00000000e+000 1.00000000e+000 0.00000000e+000 ... 0.00000000e+000\n",
      "  0.00000000e+000 4.94054573e-065]\n",
      " [0.00000000e+000 0.00000000e+000 0.00000000e+000 ... 0.00000000e+000\n",
      "  0.00000000e+000 1.00000000e+000]\n",
      " ...\n",
      " [0.00000000e+000 7.44553444e-200 0.00000000e+000 ... 0.00000000e+000\n",
      "  0.00000000e+000 1.00000000e+000]\n",
      " [0.00000000e+000 0.00000000e+000 0.00000000e+000 ... 0.00000000e+000\n",
      "  0.00000000e+000 9.00354260e-185]\n",
      " [0.00000000e+000 6.70855307e-282 0.00000000e+000 ... 0.00000000e+000\n",
      "  0.00000000e+000 2.71242597e-216]]\n"
     ]
    },
    {
     "name": "stderr",
     "output_type": "stream",
     "text": [
      "\r",
      " 40%|████      | 4/10 [00:01<00:01,  3.15it/s]"
     ]
    },
    {
     "name": "stdout",
     "output_type": "stream",
     "text": [
      "[[          nan    0.                   nan ...           nan\n",
      "            nan   -0.        ]\n",
      " [          nan    0.                   nan ...           nan\n",
      "            nan -148.07055525]\n",
      " [          nan           nan           nan ...           nan\n",
      "            nan    0.        ]\n",
      " ...\n",
      " [          nan   -0.                   nan ...           nan\n",
      "            nan    0.        ]\n",
      " [          nan           nan           nan ...           nan\n",
      "            nan   -0.        ]\n",
      " [          nan   -0.                   nan ...           nan\n",
      "            nan   -0.        ]]\n",
      "[[0. 0. 0. ... 0. 0. 0.]\n",
      " [0. 0. 0. ... 0. 0. 0.]\n",
      " [0. 0. 0. ... 0. 0. 0.]\n",
      " ...\n",
      " [0. 0. 0. ... 0. 0. 0.]\n",
      " [0. 0. 1. ... 0. 0. 0.]\n",
      " [0. 0. 0. ... 0. 0. 0.]]\n",
      "[[ nan  nan  nan ...  nan  nan  nan]\n",
      " [ nan  nan  nan ...  nan  nan -inf]\n",
      " [ nan  nan  nan ...  nan  nan -inf]\n",
      " ...\n",
      " [ nan  nan  nan ...  nan  nan  nan]\n",
      " [ nan  nan   0. ...  nan  nan  nan]\n",
      " [ nan  nan  nan ...  nan  nan  nan]]\n"
     ]
    },
    {
     "name": "stderr",
     "output_type": "stream",
     "text": [
      " 60%|██████    | 6/10 [00:01<00:01,  3.01it/s]"
     ]
    },
    {
     "name": "stdout",
     "output_type": "stream",
     "text": [
      "[[0.00000000e+000 1.00000000e+000 0.00000000e+000 ... 1.00000000e+000\n",
      "  0.00000000e+000 0.00000000e+000]\n",
      " [0.00000000e+000 1.00000000e+000 0.00000000e+000 ... 2.14596051e-300\n",
      "  0.00000000e+000 0.00000000e+000]\n",
      " [0.00000000e+000 0.00000000e+000 0.00000000e+000 ... 0.00000000e+000\n",
      "  0.00000000e+000 0.00000000e+000]\n",
      " ...\n",
      " [0.00000000e+000 2.50171076e-186 0.00000000e+000 ... 0.00000000e+000\n",
      "  0.00000000e+000 0.00000000e+000]\n",
      " [0.00000000e+000 0.00000000e+000 1.00000000e+000 ... 1.00000000e+000\n",
      "  0.00000000e+000 0.00000000e+000]\n",
      " [0.00000000e+000 7.52406692e-259 7.63193432e-129 ... 1.00000000e+000\n",
      "  0.00000000e+000 0.00000000e+000]]\n",
      "[[ nan   0.  nan ...   0.  nan  nan]\n",
      " [ nan   0.  nan ...  -0.  nan -inf]\n",
      " [ nan  nan  nan ...  nan  nan -inf]\n",
      " ...\n",
      " [ nan  -0.  nan ...  nan  nan  nan]\n",
      " [ nan  nan   0. ...   0.  nan  nan]\n",
      " [ nan  -0.  -0. ...   0.  nan  nan]]\n"
     ]
    },
    {
     "name": "stderr",
     "output_type": "stream",
     "text": [
      "\r",
      " 70%|███████   | 7/10 [00:02<00:00,  3.12it/s]"
     ]
    },
    {
     "name": "stdout",
     "output_type": "stream",
     "text": [
      "[[0.00000000e+000 0.00000000e+000 0.00000000e+000 ... 0.00000000e+000\n",
      "  0.00000000e+000 0.00000000e+000]\n",
      " [1.23320708e-287 0.00000000e+000 0.00000000e+000 ... 0.00000000e+000\n",
      "  0.00000000e+000 0.00000000e+000]\n",
      " [1.00000000e+000 0.00000000e+000 0.00000000e+000 ... 0.00000000e+000\n",
      "  0.00000000e+000 0.00000000e+000]\n",
      " ...\n",
      " [0.00000000e+000 0.00000000e+000 0.00000000e+000 ... 0.00000000e+000\n",
      "  0.00000000e+000 0.00000000e+000]\n",
      " [0.00000000e+000 0.00000000e+000 0.00000000e+000 ... 0.00000000e+000\n",
      "  0.00000000e+000 0.00000000e+000]\n",
      " [1.56617885e-281 0.00000000e+000 0.00000000e+000 ... 0.00000000e+000\n",
      "  0.00000000e+000 0.00000000e+000]]\n",
      "[[ nan  nan  nan ...  nan  nan  nan]\n",
      " [ -0.  nan  nan ...  nan  nan -inf]\n",
      " [  0.  nan  nan ...  nan  nan -inf]\n",
      " ...\n",
      " [ nan  nan  nan ...  nan  nan  nan]\n",
      " [ nan  nan  nan ...  nan  nan  nan]\n",
      " [ -0.  nan  nan ...  nan  nan  nan]]\n",
      "[[0.00000000e+000 1.00000000e+000 0.00000000e+000 ... 0.00000000e+000\n",
      "  0.00000000e+000 0.00000000e+000]\n",
      " [0.00000000e+000 1.00000000e+000 0.00000000e+000 ... 0.00000000e+000\n",
      "  1.76055782e-116 0.00000000e+000]\n",
      " [0.00000000e+000 0.00000000e+000 0.00000000e+000 ... 0.00000000e+000\n",
      "  1.47253712e-057 1.00000000e+000]\n",
      " ...\n",
      " [0.00000000e+000 0.00000000e+000 0.00000000e+000 ... 0.00000000e+000\n",
      "  0.00000000e+000 0.00000000e+000]\n",
      " [0.00000000e+000 0.00000000e+000 5.82984311e-294 ... 0.00000000e+000\n",
      "  0.00000000e+000 0.00000000e+000]\n",
      " [0.00000000e+000 0.00000000e+000 0.00000000e+000 ... 0.00000000e+000\n",
      "  0.00000000e+000 0.00000000e+000]]\n",
      "[[ nan   0.  nan ...  nan  nan  nan]\n",
      " [ nan   0.  nan ...  nan  -0. -inf]\n",
      " [ nan  nan  nan ...  nan  -0.   0.]\n",
      " ...\n",
      " [ nan  nan  nan ...  nan  nan  nan]\n",
      " [ nan  nan  -0. ...  nan  nan  nan]\n",
      " [ nan  nan  nan ...  nan  nan  nan]]\n"
     ]
    },
    {
     "name": "stderr",
     "output_type": "stream",
     "text": [
      " 90%|█████████ | 9/10 [00:02<00:00,  3.25it/s]"
     ]
    },
    {
     "name": "stdout",
     "output_type": "stream",
     "text": [
      "[[0.00000000e+000 0.00000000e+000 8.68447686e-141 ... 0.00000000e+000\n",
      "  0.00000000e+000 4.12068485e-237]\n",
      " [0.00000000e+000 8.52923923e-118 1.00000000e+000 ... 0.00000000e+000\n",
      "  0.00000000e+000 1.19898253e-176]\n",
      " [0.00000000e+000 0.00000000e+000 1.30005646e-190 ... 0.00000000e+000\n",
      "  4.02588725e-296 1.00000000e+000]\n",
      " ...\n",
      " [0.00000000e+000 0.00000000e+000 7.76922354e-258 ... 0.00000000e+000\n",
      "  0.00000000e+000 1.00000000e+000]\n",
      " [0.00000000e+000 0.00000000e+000 1.00000000e+000 ... 0.00000000e+000\n",
      "  0.00000000e+000 0.00000000e+000]\n",
      " [0.00000000e+000 0.00000000e+000 1.00000000e+000 ... 0.00000000e+000\n",
      "  0.00000000e+000 0.00000000e+000]]\n",
      "[[          nan           nan   -0.         ...           nan\n",
      "            nan   -0.        ]\n",
      " [          nan   -0.            0.         ...           nan\n",
      "            nan -405.07350306]\n",
      " [          nan           nan   -0.         ...           nan\n",
      "    -0.            0.        ]\n",
      " ...\n",
      " [          nan           nan   -0.         ...           nan\n",
      "            nan    0.        ]\n",
      " [          nan           nan    0.         ...           nan\n",
      "            nan           nan]\n",
      " [          nan           nan    0.         ...           nan\n",
      "            nan           nan]]\n",
      "[[0.00000000e+000 1.00000000e+000 0.00000000e+000 ... 0.00000000e+000\n",
      "  0.00000000e+000 0.00000000e+000]\n",
      " [0.00000000e+000 1.00000000e+000 0.00000000e+000 ... 0.00000000e+000\n",
      "  1.00000000e+000 0.00000000e+000]\n",
      " [0.00000000e+000 5.77750167e-066 0.00000000e+000 ... 0.00000000e+000\n",
      "  1.00000000e+000 0.00000000e+000]\n",
      " ...\n",
      " [0.00000000e+000 1.00000000e+000 0.00000000e+000 ... 0.00000000e+000\n",
      "  5.94411949e-213 0.00000000e+000]\n",
      " [0.00000000e+000 4.06613000e-160 0.00000000e+000 ... 0.00000000e+000\n",
      "  0.00000000e+000 0.00000000e+000]\n",
      " [0.00000000e+000 1.78970659e-030 0.00000000e+000 ... 0.00000000e+000\n",
      "  0.00000000e+000 0.00000000e+000]]\n",
      "[[ nan   0.  nan ...  nan  nan  nan]\n",
      " [ nan   0.  nan ...  nan   0. -inf]\n",
      " [ nan  -0.  nan ...  nan   0. -inf]\n",
      " ...\n",
      " [ nan   0.  nan ...  nan  -0.  nan]\n",
      " [ nan  -0.  nan ...  nan  nan  nan]\n",
      " [ nan  -0.  nan ...  nan  nan  nan]]\n"
     ]
    },
    {
     "name": "stderr",
     "output_type": "stream",
     "text": [
      "100%|██████████| 10/10 [00:03<00:00,  2.97it/s]\n",
      " 10%|█         | 1/10 [00:00<00:01,  5.70it/s]"
     ]
    },
    {
     "name": "stdout",
     "output_type": "stream",
     "text": [
      "[[0.0000000e+000 0.0000000e+000 0.0000000e+000 ... 0.0000000e+000\n",
      "  0.0000000e+000 0.0000000e+000]\n",
      " [0.0000000e+000 0.0000000e+000 0.0000000e+000 ... 0.0000000e+000\n",
      "  0.0000000e+000 0.0000000e+000]\n",
      " [0.0000000e+000 0.0000000e+000 0.0000000e+000 ... 0.0000000e+000\n",
      "  0.0000000e+000 0.0000000e+000]\n",
      " ...\n",
      " [0.0000000e+000 0.0000000e+000 0.0000000e+000 ... 0.0000000e+000\n",
      "  0.0000000e+000 0.0000000e+000]\n",
      " [0.0000000e+000 0.0000000e+000 0.0000000e+000 ... 0.0000000e+000\n",
      "  0.0000000e+000 0.0000000e+000]\n",
      " [0.0000000e+000 0.0000000e+000 0.0000000e+000 ... 4.7568393e-245\n",
      "  0.0000000e+000 0.0000000e+000]]\n",
      "[[ nan  nan  nan ...  nan  nan  nan]\n",
      " [ nan  nan  nan ...  nan  nan -inf]\n",
      " [ nan  nan  nan ...  nan  nan -inf]\n",
      " ...\n",
      " [ nan  nan  nan ...  nan  nan  nan]\n",
      " [ nan  nan  nan ...  nan  nan  nan]\n",
      " [ nan  nan  nan ...  -0.  nan  nan]]\n",
      "Epoch 0, Loss [[nan nan nan ... nan nan nan]\n",
      " [nan nan nan ... nan nan inf]\n",
      " [nan nan nan ... nan nan inf]\n",
      " ...\n",
      " [nan nan nan ... nan nan nan]\n",
      " [nan nan nan ... nan nan nan]\n",
      " [nan nan nan ...  0. nan nan]]\n"
     ]
    },
    {
     "name": "stderr",
     "output_type": "stream",
     "text": [
      "\r",
      " 20%|██        | 2/10 [00:00<00:02,  3.32it/s]"
     ]
    },
    {
     "name": "stdout",
     "output_type": "stream",
     "text": [
      "[[0.00000000e+000 0.00000000e+000 0.00000000e+000 ... 1.00000000e+000\n",
      "  0.00000000e+000 0.00000000e+000]\n",
      " [0.00000000e+000 0.00000000e+000 0.00000000e+000 ... 2.26748873e-307\n",
      "  0.00000000e+000 0.00000000e+000]\n",
      " [1.00000000e+000 0.00000000e+000 0.00000000e+000 ... 0.00000000e+000\n",
      "  0.00000000e+000 0.00000000e+000]\n",
      " ...\n",
      " [0.00000000e+000 0.00000000e+000 0.00000000e+000 ... 0.00000000e+000\n",
      "  0.00000000e+000 0.00000000e+000]\n",
      " [0.00000000e+000 0.00000000e+000 0.00000000e+000 ... 1.00000000e+000\n",
      "  0.00000000e+000 0.00000000e+000]\n",
      " [0.00000000e+000 0.00000000e+000 0.00000000e+000 ... 1.00000000e+000\n",
      "  0.00000000e+000 0.00000000e+000]]\n",
      "[[ nan  nan  nan ...   0.  nan  nan]\n",
      " [ nan  nan  nan ...  -0.  nan -inf]\n",
      " [  0.  nan  nan ...  nan  nan -inf]\n",
      " ...\n",
      " [ nan  nan  nan ...  nan  nan  nan]\n",
      " [ nan  nan  nan ...   0.  nan  nan]\n",
      " [ nan  nan  nan ...   0.  nan  nan]]\n"
     ]
    },
    {
     "name": "stderr",
     "output_type": "stream",
     "text": [
      "\r",
      " 30%|███       | 3/10 [00:00<00:02,  2.84it/s]"
     ]
    },
    {
     "name": "stdout",
     "output_type": "stream",
     "text": [
      "[[0. 0. 0. ... 0. 0. 0.]\n",
      " [0. 0. 0. ... 0. 1. 0.]\n",
      " [0. 0. 0. ... 0. 1. 1.]\n",
      " ...\n",
      " [0. 0. 0. ... 0. 1. 1.]\n",
      " [0. 0. 0. ... 0. 0. 0.]\n",
      " [0. 0. 0. ... 0. 0. 0.]]\n",
      "[[ nan  nan  nan ...  nan  nan  nan]\n",
      " [ nan  nan  nan ...  nan   0. -inf]\n",
      " [ nan  nan  nan ...  nan   0.   0.]\n",
      " ...\n",
      " [ nan  nan  nan ...  nan   0.   0.]\n",
      " [ nan  nan  nan ...  nan  nan  nan]\n",
      " [ nan  nan  nan ...  nan  nan  nan]]\n",
      "[[0. 0. 0. ... 0. 0. 0.]\n",
      " [0. 0. 0. ... 0. 0. 0.]\n",
      " [0. 0. 0. ... 0. 0. 0.]\n",
      " ...\n",
      " [0. 0. 0. ... 0. 0. 0.]\n",
      " [0. 0. 0. ... 0. 0. 0.]\n",
      " [0. 0. 0. ... 0. 0. 0.]]\n",
      "[[ nan  nan  nan ...  nan  nan  nan]\n",
      " [ nan  nan  nan ...  nan  nan -inf]\n",
      " [ nan  nan  nan ...  nan  nan -inf]\n",
      " ...\n",
      " [ nan  nan  nan ...  nan  nan  nan]\n",
      " [ nan  nan  nan ...  nan  nan  nan]\n",
      " [ nan  nan  nan ...  nan  nan  nan]]\n"
     ]
    },
    {
     "name": "stderr",
     "output_type": "stream",
     "text": [
      " 50%|█████     | 5/10 [00:01<00:01,  2.96it/s]"
     ]
    },
    {
     "name": "stdout",
     "output_type": "stream",
     "text": [
      "[[0.00000000e+000 0.00000000e+000 0.00000000e+000 ... 0.00000000e+000\n",
      "  0.00000000e+000 0.00000000e+000]\n",
      " [1.88477702e-280 0.00000000e+000 0.00000000e+000 ... 0.00000000e+000\n",
      "  0.00000000e+000 0.00000000e+000]\n",
      " [1.00000000e+000 0.00000000e+000 0.00000000e+000 ... 0.00000000e+000\n",
      "  0.00000000e+000 1.00000000e+000]\n",
      " ...\n",
      " [0.00000000e+000 0.00000000e+000 0.00000000e+000 ... 0.00000000e+000\n",
      "  0.00000000e+000 1.00000000e+000]\n",
      " [0.00000000e+000 0.00000000e+000 0.00000000e+000 ... 0.00000000e+000\n",
      "  0.00000000e+000 0.00000000e+000]\n",
      " [1.65940487e-287 0.00000000e+000 0.00000000e+000 ... 0.00000000e+000\n",
      "  0.00000000e+000 0.00000000e+000]]\n",
      "[[ nan  nan  nan ...  nan  nan  nan]\n",
      " [ -0.  nan  nan ...  nan  nan -inf]\n",
      " [  0.  nan  nan ...  nan  nan   0.]\n",
      " ...\n",
      " [ nan  nan  nan ...  nan  nan   0.]\n",
      " [ nan  nan  nan ...  nan  nan  nan]\n",
      " [ -0.  nan  nan ...  nan  nan  nan]]\n"
     ]
    },
    {
     "name": "stderr",
     "output_type": "stream",
     "text": [
      "\r",
      " 60%|██████    | 6/10 [00:01<00:01,  3.03it/s]"
     ]
    },
    {
     "name": "stdout",
     "output_type": "stream",
     "text": [
      "[[0.00000000e+000 1.00000000e+000 1.24078437e-274 ... 0.00000000e+000\n",
      "  0.00000000e+000 0.00000000e+000]\n",
      " [0.00000000e+000 1.00000000e+000 4.99668918e-037 ... 0.00000000e+000\n",
      "  0.00000000e+000 0.00000000e+000]\n",
      " [0.00000000e+000 1.51635228e-077 0.00000000e+000 ... 0.00000000e+000\n",
      "  0.00000000e+000 0.00000000e+000]\n",
      " ...\n",
      " [0.00000000e+000 1.00000000e+000 0.00000000e+000 ... 0.00000000e+000\n",
      "  0.00000000e+000 0.00000000e+000]\n",
      " [0.00000000e+000 4.77996447e-217 1.00000000e+000 ... 0.00000000e+000\n",
      "  0.00000000e+000 0.00000000e+000]\n",
      " [0.00000000e+000 5.46322853e-077 1.00000000e+000 ... 0.00000000e+000\n",
      "  0.00000000e+000 0.00000000e+000]]\n",
      "[[ nan   0.  -0. ...  nan  nan  nan]\n",
      " [ nan   0.  -0. ...  nan  nan -inf]\n",
      " [ nan  -0.  nan ...  nan  nan -inf]\n",
      " ...\n",
      " [ nan   0.  nan ...  nan  nan  nan]\n",
      " [ nan  -0.   0. ...  nan  nan  nan]\n",
      " [ nan  -0.   0. ...  nan  nan  nan]]\n"
     ]
    },
    {
     "name": "stderr",
     "output_type": "stream",
     "text": [
      "\r",
      " 70%|███████   | 7/10 [00:02<00:00,  3.15it/s]"
     ]
    },
    {
     "name": "stdout",
     "output_type": "stream",
     "text": [
      "[[0.00000000e+000 0.00000000e+000 0.00000000e+000 ... 2.51965172e-236\n",
      "  0.00000000e+000 0.00000000e+000]\n",
      " [0.00000000e+000 0.00000000e+000 0.00000000e+000 ... 0.00000000e+000\n",
      "  2.80705584e-298 0.00000000e+000]\n",
      " [0.00000000e+000 0.00000000e+000 0.00000000e+000 ... 0.00000000e+000\n",
      "  2.91708189e-293 1.00000000e+000]\n",
      " ...\n",
      " [0.00000000e+000 0.00000000e+000 0.00000000e+000 ... 0.00000000e+000\n",
      "  0.00000000e+000 1.00000000e+000]\n",
      " [0.00000000e+000 0.00000000e+000 0.00000000e+000 ... 4.27971252e-260\n",
      "  0.00000000e+000 0.00000000e+000]\n",
      " [0.00000000e+000 0.00000000e+000 0.00000000e+000 ... 6.04260654e-093\n",
      "  0.00000000e+000 0.00000000e+000]]\n",
      "[[ nan  nan  nan ...  -0.  nan  nan]\n",
      " [ nan  nan  nan ...  nan  -0. -inf]\n",
      " [ nan  nan  nan ...  nan  -0.   0.]\n",
      " ...\n",
      " [ nan  nan  nan ...  nan  nan   0.]\n",
      " [ nan  nan  nan ...  -0.  nan  nan]\n",
      " [ nan  nan  nan ...  -0.  nan  nan]]\n",
      "[[0.0000000e+000 0.0000000e+000 0.0000000e+000 ... 0.0000000e+000\n",
      "  0.0000000e+000 0.0000000e+000]\n",
      " [0.0000000e+000 0.0000000e+000 0.0000000e+000 ... 0.0000000e+000\n",
      "  1.0000000e+000 0.0000000e+000]\n",
      " [0.0000000e+000 0.0000000e+000 0.0000000e+000 ... 0.0000000e+000\n",
      "  1.0000000e+000 0.0000000e+000]\n",
      " ...\n",
      " [0.0000000e+000 0.0000000e+000 0.0000000e+000 ... 0.0000000e+000\n",
      "  1.8147773e-250 0.0000000e+000]\n",
      " [0.0000000e+000 0.0000000e+000 0.0000000e+000 ... 0.0000000e+000\n",
      "  0.0000000e+000 0.0000000e+000]\n",
      " [0.0000000e+000 0.0000000e+000 0.0000000e+000 ... 0.0000000e+000\n",
      "  0.0000000e+000 0.0000000e+000]]\n",
      "[[ nan  nan  nan ...  nan  nan  nan]\n",
      " [ nan  nan  nan ...  nan   0. -inf]\n",
      " [ nan  nan  nan ...  nan   0. -inf]\n",
      " ...\n",
      " [ nan  nan  nan ...  nan  -0.  nan]\n",
      " [ nan  nan  nan ...  nan  nan  nan]\n",
      " [ nan  nan  nan ...  nan  nan  nan]]\n"
     ]
    },
    {
     "name": "stderr",
     "output_type": "stream",
     "text": [
      " 90%|█████████ | 9/10 [00:03<00:00,  2.71it/s]"
     ]
    },
    {
     "name": "stdout",
     "output_type": "stream",
     "text": [
      "[[0.00000000e+000 0.00000000e+000 0.00000000e+000 ... 1.00000000e+000\n",
      "  0.00000000e+000 0.00000000e+000]\n",
      " [0.00000000e+000 0.00000000e+000 0.00000000e+000 ... 1.02790013e-096\n",
      "  0.00000000e+000 0.00000000e+000]\n",
      " [0.00000000e+000 0.00000000e+000 0.00000000e+000 ... 1.25790794e-197\n",
      "  0.00000000e+000 1.00000000e+000]\n",
      " ...\n",
      " [0.00000000e+000 0.00000000e+000 0.00000000e+000 ... 1.32022931e-167\n",
      "  0.00000000e+000 2.27970111e-220]\n",
      " [0.00000000e+000 0.00000000e+000 0.00000000e+000 ... 1.00000000e+000\n",
      "  0.00000000e+000 0.00000000e+000]\n",
      " [0.00000000e+000 0.00000000e+000 0.00000000e+000 ... 1.00000000e+000\n",
      "  0.00000000e+000 0.00000000e+000]]\n",
      "[[ nan  nan  nan ...   0.  nan  nan]\n",
      " [ nan  nan  nan ...  -0.  nan -inf]\n",
      " [ nan  nan  nan ...  -0.  nan   0.]\n",
      " ...\n",
      " [ nan  nan  nan ...  -0.  nan  -0.]\n",
      " [ nan  nan  nan ...   0.  nan  nan]\n",
      " [ nan  nan  nan ...   0.  nan  nan]]\n"
     ]
    },
    {
     "name": "stderr",
     "output_type": "stream",
     "text": [
      "\r",
      "100%|██████████| 10/10 [00:03<00:00,  2.87it/s]"
     ]
    },
    {
     "name": "stdout",
     "output_type": "stream",
     "text": [
      "[[0.0000000e+000 0.0000000e+000 0.0000000e+000 ... 0.0000000e+000\n",
      "  0.0000000e+000 1.0422017e-286]\n",
      " [0.0000000e+000 0.0000000e+000 0.0000000e+000 ... 0.0000000e+000\n",
      "  0.0000000e+000 0.0000000e+000]\n",
      " [1.0000000e+000 0.0000000e+000 0.0000000e+000 ... 0.0000000e+000\n",
      "  0.0000000e+000 1.0000000e+000]\n",
      " ...\n",
      " [0.0000000e+000 0.0000000e+000 0.0000000e+000 ... 0.0000000e+000\n",
      "  0.0000000e+000 1.0000000e+000]\n",
      " [0.0000000e+000 0.0000000e+000 0.0000000e+000 ... 0.0000000e+000\n",
      "  0.0000000e+000 0.0000000e+000]\n",
      " [0.0000000e+000 0.0000000e+000 0.0000000e+000 ... 0.0000000e+000\n",
      "  0.0000000e+000 0.0000000e+000]]\n",
      "[[ nan  nan  nan ...  nan  nan  -0.]\n",
      " [ nan  nan  nan ...  nan  nan -inf]\n",
      " [  0.  nan  nan ...  nan  nan   0.]\n",
      " ...\n",
      " [ nan  nan  nan ...  nan  nan   0.]\n",
      " [ nan  nan  nan ...  nan  nan  nan]\n",
      " [ nan  nan  nan ...  nan  nan  nan]]\n"
     ]
    },
    {
     "name": "stderr",
     "output_type": "stream",
     "text": [
      "100%|██████████| 10/10 [00:03<00:00,  2.88it/s]\n",
      "  0%|          | 0/10 [00:00<?, ?it/s]"
     ]
    },
    {
     "name": "stdout",
     "output_type": "stream",
     "text": [
      "[[0.00000000e+000 6.40730661e-001 0.00000000e+000 ... 0.00000000e+000\n",
      "  0.00000000e+000 0.00000000e+000]\n",
      " [0.00000000e+000 1.00000000e+000 0.00000000e+000 ... 0.00000000e+000\n",
      "  1.00000000e+000 0.00000000e+000]\n",
      " [0.00000000e+000 0.00000000e+000 0.00000000e+000 ... 0.00000000e+000\n",
      "  1.00000000e+000 0.00000000e+000]\n",
      " ...\n",
      " [0.00000000e+000 0.00000000e+000 0.00000000e+000 ... 0.00000000e+000\n",
      "  1.00000000e+000 0.00000000e+000]\n",
      " [0.00000000e+000 0.00000000e+000 1.00000000e+000 ... 0.00000000e+000\n",
      "  0.00000000e+000 0.00000000e+000]\n",
      " [0.00000000e+000 0.00000000e+000 6.61610918e-197 ... 0.00000000e+000\n",
      "  0.00000000e+000 0.00000000e+000]]\n",
      "[[ nan  -0.  nan ...  nan  nan  nan]\n",
      " [ nan   0.  nan ...  nan   0. -inf]\n",
      " [ nan  nan  nan ...  nan   0. -inf]\n",
      " ...\n",
      " [ nan  nan  nan ...  nan   0.  nan]\n",
      " [ nan  nan   0. ...  nan  nan  nan]\n",
      " [ nan  nan  -0. ...  nan  nan  nan]]\n",
      "Epoch 0, Loss [[       nan 0.00020474        nan ...        nan        nan        nan]\n",
      " [       nan        inf        nan ...        nan        inf        inf]\n",
      " [       nan        nan        nan ...        nan        inf        inf]\n",
      " ...\n",
      " [       nan        nan        nan ...        nan        inf        nan]\n",
      " [       nan        nan        inf ...        nan        nan        nan]\n",
      " [       nan        nan 0.         ...        nan        nan        nan]]\n"
     ]
    },
    {
     "name": "stderr",
     "output_type": "stream",
     "text": [
      " 20%|██        | 2/10 [00:00<00:02,  3.38it/s]"
     ]
    },
    {
     "name": "stdout",
     "output_type": "stream",
     "text": [
      "[[0.00000000e+000 8.24052013e-306 0.00000000e+000 ... 0.00000000e+000\n",
      "  0.00000000e+000 0.00000000e+000]\n",
      " [0.00000000e+000 7.54556627e-085 0.00000000e+000 ... 0.00000000e+000\n",
      "  0.00000000e+000 0.00000000e+000]\n",
      " [0.00000000e+000 0.00000000e+000 0.00000000e+000 ... 0.00000000e+000\n",
      "  0.00000000e+000 0.00000000e+000]\n",
      " ...\n",
      " [0.00000000e+000 0.00000000e+000 0.00000000e+000 ... 0.00000000e+000\n",
      "  0.00000000e+000 0.00000000e+000]\n",
      " [0.00000000e+000 0.00000000e+000 0.00000000e+000 ... 0.00000000e+000\n",
      "  0.00000000e+000 0.00000000e+000]\n",
      " [0.00000000e+000 0.00000000e+000 0.00000000e+000 ... 0.00000000e+000\n",
      "  0.00000000e+000 0.00000000e+000]]\n",
      "[[ nan  -0.  nan ...  nan  nan  nan]\n",
      " [ nan  -0.  nan ...  nan  nan -inf]\n",
      " [ nan  nan  nan ...  nan  nan -inf]\n",
      " ...\n",
      " [ nan  nan  nan ...  nan  nan  nan]\n",
      " [ nan  nan  nan ...  nan  nan  nan]\n",
      " [ nan  nan  nan ...  nan  nan  nan]]\n"
     ]
    },
    {
     "name": "stderr",
     "output_type": "stream",
     "text": [
      "\r",
      " 30%|███       | 3/10 [00:00<00:02,  3.30it/s]"
     ]
    },
    {
     "name": "stdout",
     "output_type": "stream",
     "text": [
      "[[0.00000000e+000 1.00000000e+000 0.00000000e+000 ... 0.00000000e+000\n",
      "  0.00000000e+000 0.00000000e+000]\n",
      " [0.00000000e+000 1.00000000e+000 4.05775419e-083 ... 0.00000000e+000\n",
      "  0.00000000e+000 0.00000000e+000]\n",
      " [1.00000000e+000 6.80747460e-106 0.00000000e+000 ... 0.00000000e+000\n",
      "  0.00000000e+000 1.00000000e+000]\n",
      " ...\n",
      " [0.00000000e+000 1.00000000e+000 0.00000000e+000 ... 0.00000000e+000\n",
      "  0.00000000e+000 3.99527723e-058]\n",
      " [0.00000000e+000 1.01755285e-251 1.00000000e+000 ... 0.00000000e+000\n",
      "  0.00000000e+000 0.00000000e+000]\n",
      " [0.00000000e+000 1.01312979e-090 1.44770061e-004 ... 0.00000000e+000\n",
      "  0.00000000e+000 0.00000000e+000]]\n",
      "[[ nan   0.  nan ...  nan  nan  nan]\n",
      " [ nan   0.  -0. ...  nan  nan -inf]\n",
      " [  0.  -0.  nan ...  nan  nan   0.]\n",
      " ...\n",
      " [ nan   0.  nan ...  nan  nan  -0.]\n",
      " [ nan  -0.   0. ...  nan  nan  nan]\n",
      " [ nan  -0.  -0. ...  nan  nan  nan]]\n"
     ]
    },
    {
     "name": "stderr",
     "output_type": "stream",
     "text": [
      "\r",
      " 40%|████      | 4/10 [00:01<00:02,  2.92it/s]"
     ]
    },
    {
     "name": "stdout",
     "output_type": "stream",
     "text": [
      "[[0. 0. 0. ... 0. 0. 0.]\n",
      " [0. 0. 0. ... 0. 0. 0.]\n",
      " [0. 0. 0. ... 0. 0. 1.]\n",
      " ...\n",
      " [0. 0. 0. ... 0. 0. 1.]\n",
      " [0. 0. 0. ... 0. 0. 0.]\n",
      " [0. 0. 0. ... 0. 0. 0.]]\n",
      "[[ nan  nan  nan ...  nan  nan  nan]\n",
      " [ nan  nan  nan ...  nan  nan -inf]\n",
      " [ nan  nan  nan ...  nan  nan   0.]\n",
      " ...\n",
      " [ nan  nan  nan ...  nan  nan   0.]\n",
      " [ nan  nan  nan ...  nan  nan  nan]\n",
      " [ nan  nan  nan ...  nan  nan  nan]]\n"
     ]
    },
    {
     "name": "stderr",
     "output_type": "stream",
     "text": [
      "\r",
      " 50%|█████     | 5/10 [00:01<00:01,  3.53it/s]"
     ]
    },
    {
     "name": "stdout",
     "output_type": "stream",
     "text": [
      "[[0. 0. 0. ... 0. 0. 0.]\n",
      " [0. 0. 0. ... 0. 0. 0.]\n",
      " [0. 0. 0. ... 0. 0. 0.]\n",
      " ...\n",
      " [0. 0. 0. ... 0. 0. 0.]\n",
      " [0. 0. 0. ... 0. 0. 0.]\n",
      " [0. 0. 0. ... 0. 0. 0.]]\n",
      "[[ nan  nan  nan ...  nan  nan  nan]\n",
      " [ nan  nan  nan ...  nan  nan -inf]\n",
      " [ nan  nan  nan ...  nan  nan -inf]\n",
      " ...\n",
      " [ nan  nan  nan ...  nan  nan  nan]\n",
      " [ nan  nan  nan ...  nan  nan  nan]\n",
      " [ nan  nan  nan ...  nan  nan  nan]]\n"
     ]
    },
    {
     "name": "stderr",
     "output_type": "stream",
     "text": [
      "\r",
      " 60%|██████    | 6/10 [00:01<00:01,  3.10it/s]"
     ]
    },
    {
     "name": "stdout",
     "output_type": "stream",
     "text": [
      "[[0.00000000e+000 0.00000000e+000 0.00000000e+000 ... 0.00000000e+000\n",
      "  0.00000000e+000 6.61065646e-138]\n",
      " [0.00000000e+000 0.00000000e+000 0.00000000e+000 ... 0.00000000e+000\n",
      "  1.00000000e+000 7.75827237e-171]\n",
      " [0.00000000e+000 0.00000000e+000 0.00000000e+000 ... 0.00000000e+000\n",
      "  1.00000000e+000 1.00000000e+000]\n",
      " ...\n",
      " [0.00000000e+000 0.00000000e+000 0.00000000e+000 ... 0.00000000e+000\n",
      "  2.92850471e-128 1.00000000e+000]\n",
      " [0.00000000e+000 0.00000000e+000 0.00000000e+000 ... 0.00000000e+000\n",
      "  0.00000000e+000 2.26607967e-298]\n",
      " [0.00000000e+000 0.00000000e+000 0.00000000e+000 ... 2.10076657e-174\n",
      "  0.00000000e+000 1.13749413e-232]]\n",
      "[[          nan           nan           nan ...           nan\n",
      "            nan   -0.        ]\n",
      " [          nan           nan           nan ...           nan\n",
      "     0.         -391.69329123]\n",
      " [          nan           nan           nan ...           nan\n",
      "     0.            0.        ]\n",
      " ...\n",
      " [          nan           nan           nan ...           nan\n",
      "    -0.            0.        ]\n",
      " [          nan           nan           nan ...           nan\n",
      "            nan   -0.        ]\n",
      " [          nan           nan           nan ...   -0.\n",
      "            nan   -0.        ]]\n"
     ]
    },
    {
     "name": "stderr",
     "output_type": "stream",
     "text": [
      "\r",
      " 70%|███████   | 7/10 [00:02<00:01,  2.91it/s]"
     ]
    },
    {
     "name": "stdout",
     "output_type": "stream",
     "text": [
      "[[0.00000000e+00 0.00000000e+00 0.00000000e+00 ... 3.18100954e-87\n",
      "  0.00000000e+00 0.00000000e+00]\n",
      " [0.00000000e+00 0.00000000e+00 0.00000000e+00 ... 0.00000000e+00\n",
      "  0.00000000e+00 0.00000000e+00]\n",
      " [0.00000000e+00 0.00000000e+00 0.00000000e+00 ... 0.00000000e+00\n",
      "  0.00000000e+00 0.00000000e+00]\n",
      " ...\n",
      " [0.00000000e+00 0.00000000e+00 0.00000000e+00 ... 0.00000000e+00\n",
      "  0.00000000e+00 0.00000000e+00]\n",
      " [0.00000000e+00 0.00000000e+00 0.00000000e+00 ... 1.01984723e-25\n",
      "  0.00000000e+00 0.00000000e+00]\n",
      " [0.00000000e+00 0.00000000e+00 0.00000000e+00 ... 1.00000000e+00\n",
      "  0.00000000e+00 0.00000000e+00]]\n",
      "[[ nan  nan  nan ...  -0.  nan  nan]\n",
      " [ nan  nan  nan ...  nan  nan -inf]\n",
      " [ nan  nan  nan ...  nan  nan -inf]\n",
      " ...\n",
      " [ nan  nan  nan ...  nan  nan  nan]\n",
      " [ nan  nan  nan ...  -0.  nan  nan]\n",
      " [ nan  nan  nan ...   0.  nan  nan]]\n",
      "[[0.00000000e+000 1.00000000e+000 6.87798752e-122 ... 0.00000000e+000\n",
      "  0.00000000e+000 0.00000000e+000]\n",
      " [0.00000000e+000 1.00000000e+000 1.00000000e+000 ... 0.00000000e+000\n",
      "  0.00000000e+000 0.00000000e+000]\n",
      " [1.00000000e+000 1.79110899e-250 5.91803275e-099 ... 0.00000000e+000\n",
      "  0.00000000e+000 0.00000000e+000]\n",
      " ...\n",
      " [0.00000000e+000 9.99681837e-001 1.17437233e-196 ... 0.00000000e+000\n",
      "  0.00000000e+000 0.00000000e+000]\n",
      " [0.00000000e+000 0.00000000e+000 1.00000000e+000 ... 0.00000000e+000\n",
      "  0.00000000e+000 0.00000000e+000]\n",
      " [0.00000000e+000 3.40103318e-163 1.00000000e+000 ... 0.00000000e+000\n",
      "  0.00000000e+000 0.00000000e+000]]\n",
      "[[ nan   0.  -0. ...  nan  nan  nan]\n",
      " [ nan   0.   0. ...  nan  nan -inf]\n",
      " [  0.  -0.  -0. ...  nan  nan -inf]\n",
      " ...\n",
      " [ nan  -0.  -0. ...  nan  nan  nan]\n",
      " [ nan  nan   0. ...  nan  nan  nan]\n",
      " [ nan  -0.   0. ...  nan  nan  nan]]\n"
     ]
    },
    {
     "name": "stderr",
     "output_type": "stream",
     "text": [
      " 90%|█████████ | 9/10 [00:03<00:00,  2.56it/s]"
     ]
    },
    {
     "name": "stdout",
     "output_type": "stream",
     "text": [
      "[[0.00000000e+00 0.00000000e+00 0.00000000e+00 ... 0.00000000e+00\n",
      "  0.00000000e+00 0.00000000e+00]\n",
      " [0.00000000e+00 0.00000000e+00 0.00000000e+00 ... 0.00000000e+00\n",
      "  3.32608429e-61 0.00000000e+00]\n",
      " [0.00000000e+00 0.00000000e+00 0.00000000e+00 ... 0.00000000e+00\n",
      "  1.11299669e-61 0.00000000e+00]\n",
      " ...\n",
      " [0.00000000e+00 0.00000000e+00 0.00000000e+00 ... 0.00000000e+00\n",
      "  0.00000000e+00 0.00000000e+00]\n",
      " [0.00000000e+00 0.00000000e+00 0.00000000e+00 ... 0.00000000e+00\n",
      "  0.00000000e+00 0.00000000e+00]\n",
      " [0.00000000e+00 0.00000000e+00 0.00000000e+00 ... 0.00000000e+00\n",
      "  0.00000000e+00 0.00000000e+00]]\n",
      "[[ nan  nan  nan ...  nan  nan  nan]\n",
      " [ nan  nan  nan ...  nan  -0. -inf]\n",
      " [ nan  nan  nan ...  nan  -0. -inf]\n",
      " ...\n",
      " [ nan  nan  nan ...  nan  nan  nan]\n",
      " [ nan  nan  nan ...  nan  nan  nan]\n",
      " [ nan  nan  nan ...  nan  nan  nan]]\n"
     ]
    },
    {
     "name": "stderr",
     "output_type": "stream",
     "text": [
      "\r",
      "100%|██████████| 10/10 [00:03<00:00,  2.56it/s]"
     ]
    },
    {
     "name": "stdout",
     "output_type": "stream",
     "text": [
      "[[0.00000000e+000 0.00000000e+000 0.00000000e+000 ... 1.00000000e+000\n",
      "  0.00000000e+000 0.00000000e+000]\n",
      " [0.00000000e+000 0.00000000e+000 0.00000000e+000 ... 9.29147492e-046\n",
      "  0.00000000e+000 0.00000000e+000]\n",
      " [0.00000000e+000 0.00000000e+000 0.00000000e+000 ... 7.64055361e-150\n",
      "  0.00000000e+000 1.00000000e+000]\n",
      " ...\n",
      " [0.00000000e+000 0.00000000e+000 0.00000000e+000 ... 1.90966086e-124\n",
      "  0.00000000e+000 1.00000000e+000]\n",
      " [0.00000000e+000 0.00000000e+000 0.00000000e+000 ... 1.00000000e+000\n",
      "  0.00000000e+000 0.00000000e+000]\n",
      " [0.00000000e+000 0.00000000e+000 0.00000000e+000 ... 1.00000000e+000\n",
      "  0.00000000e+000 0.00000000e+000]]\n",
      "[[ nan  nan  nan ...   0.  nan  nan]\n",
      " [ nan  nan  nan ...  -0.  nan -inf]\n",
      " [ nan  nan  nan ...  -0.  nan   0.]\n",
      " ...\n",
      " [ nan  nan  nan ...  -0.  nan   0.]\n",
      " [ nan  nan  nan ...   0.  nan  nan]\n",
      " [ nan  nan  nan ...   0.  nan  nan]]\n"
     ]
    },
    {
     "name": "stderr",
     "output_type": "stream",
     "text": [
      "100%|██████████| 10/10 [00:03<00:00,  2.80it/s]\n",
      "  0%|          | 0/10 [00:00<?, ?it/s]"
     ]
    },
    {
     "name": "stdout",
     "output_type": "stream",
     "text": [
      "[[0.00000000e+000 0.00000000e+000 0.00000000e+000 ... 0.00000000e+000\n",
      "  0.00000000e+000 0.00000000e+000]\n",
      " [0.00000000e+000 8.59931415e-293 0.00000000e+000 ... 0.00000000e+000\n",
      "  1.00000000e+000 0.00000000e+000]\n",
      " [0.00000000e+000 0.00000000e+000 0.00000000e+000 ... 0.00000000e+000\n",
      "  1.00000000e+000 0.00000000e+000]\n",
      " ...\n",
      " [0.00000000e+000 0.00000000e+000 0.00000000e+000 ... 0.00000000e+000\n",
      "  3.78505550e-032 0.00000000e+000]\n",
      " [0.00000000e+000 0.00000000e+000 0.00000000e+000 ... 0.00000000e+000\n",
      "  0.00000000e+000 0.00000000e+000]\n",
      " [0.00000000e+000 0.00000000e+000 0.00000000e+000 ... 0.00000000e+000\n",
      "  0.00000000e+000 0.00000000e+000]]\n",
      "[[ nan  nan  nan ...  nan  nan  nan]\n",
      " [ nan  -0.  nan ...  nan   0. -inf]\n",
      " [ nan  nan  nan ...  nan   0. -inf]\n",
      " ...\n",
      " [ nan  nan  nan ...  nan  -0.  nan]\n",
      " [ nan  nan  nan ...  nan  nan  nan]\n",
      " [ nan  nan  nan ...  nan  nan  nan]]\n"
     ]
    },
    {
     "name": "stderr",
     "output_type": "stream",
     "text": [
      "\r",
      " 10%|█         | 1/10 [00:00<00:03,  2.48it/s]"
     ]
    },
    {
     "name": "stdout",
     "output_type": "stream",
     "text": [
      "Epoch 0, Loss [[nan nan nan ... nan nan nan]\n",
      " [nan  0. nan ... nan inf inf]\n",
      " [nan nan nan ... nan inf inf]\n",
      " ...\n",
      " [nan nan nan ... nan  0. nan]\n",
      " [nan nan nan ... nan nan nan]\n",
      " [nan nan nan ... nan nan nan]]\n",
      "[[0.00000000e+000 1.00000000e+000 0.00000000e+000 ... 0.00000000e+000\n",
      "  0.00000000e+000 0.00000000e+000]\n",
      " [0.00000000e+000 1.00000000e+000 0.00000000e+000 ... 0.00000000e+000\n",
      "  0.00000000e+000 0.00000000e+000]\n",
      " [1.64574540e-016 4.63101645e-038 0.00000000e+000 ... 0.00000000e+000\n",
      "  0.00000000e+000 1.00000000e+000]\n",
      " ...\n",
      " [0.00000000e+000 1.00000000e+000 0.00000000e+000 ... 0.00000000e+000\n",
      "  0.00000000e+000 1.00000000e+000]\n",
      " [0.00000000e+000 3.10478434e-154 0.00000000e+000 ... 0.00000000e+000\n",
      "  0.00000000e+000 0.00000000e+000]\n",
      " [0.00000000e+000 7.52349438e-031 0.00000000e+000 ... 0.00000000e+000\n",
      "  0.00000000e+000 0.00000000e+000]]\n",
      "[[ nan   0.  nan ...  nan  nan  nan]\n",
      " [ nan   0.  nan ...  nan  nan -inf]\n",
      " [ -0.  -0.  nan ...  nan  nan   0.]\n",
      " ...\n",
      " [ nan   0.  nan ...  nan  nan   0.]\n",
      " [ nan  -0.  nan ...  nan  nan  nan]\n",
      " [ nan  -0.  nan ...  nan  nan  nan]]\n"
     ]
    },
    {
     "name": "stderr",
     "output_type": "stream",
     "text": [
      " 30%|███       | 3/10 [00:00<00:02,  3.17it/s]"
     ]
    },
    {
     "name": "stdout",
     "output_type": "stream",
     "text": [
      "[[0. 0. 0. ... 0. 0. 0.]\n",
      " [0. 0. 0. ... 0. 0. 0.]\n",
      " [0. 0. 0. ... 0. 0. 0.]\n",
      " ...\n",
      " [0. 0. 0. ... 0. 0. 0.]\n",
      " [0. 0. 0. ... 0. 0. 0.]\n",
      " [0. 0. 0. ... 0. 0. 0.]]\n",
      "[[ nan  nan  nan ...  nan  nan  nan]\n",
      " [ nan  nan  nan ...  nan  nan -inf]\n",
      " [ nan  nan  nan ...  nan  nan -inf]\n",
      " ...\n",
      " [ nan  nan  nan ...  nan  nan  nan]\n",
      " [ nan  nan  nan ...  nan  nan  nan]\n",
      " [ nan  nan  nan ...  nan  nan  nan]]\n"
     ]
    },
    {
     "name": "stderr",
     "output_type": "stream",
     "text": [
      "\r",
      " 40%|████      | 4/10 [00:01<00:01,  3.21it/s]"
     ]
    },
    {
     "name": "stdout",
     "output_type": "stream",
     "text": [
      "[[0.00000000e+000 0.00000000e+000 0.00000000e+000 ... 0.00000000e+000\n",
      "  0.00000000e+000 0.00000000e+000]\n",
      " [0.00000000e+000 0.00000000e+000 0.00000000e+000 ... 0.00000000e+000\n",
      "  0.00000000e+000 0.00000000e+000]\n",
      " [0.00000000e+000 0.00000000e+000 0.00000000e+000 ... 0.00000000e+000\n",
      "  0.00000000e+000 3.01032973e-241]\n",
      " ...\n",
      " [0.00000000e+000 0.00000000e+000 0.00000000e+000 ... 0.00000000e+000\n",
      "  0.00000000e+000 0.00000000e+000]\n",
      " [0.00000000e+000 0.00000000e+000 0.00000000e+000 ... 0.00000000e+000\n",
      "  0.00000000e+000 0.00000000e+000]\n",
      " [0.00000000e+000 0.00000000e+000 0.00000000e+000 ... 0.00000000e+000\n",
      "  0.00000000e+000 0.00000000e+000]]\n",
      "[[          nan           nan           nan ...           nan\n",
      "            nan           nan]\n",
      " [          nan           nan           nan ...           nan\n",
      "            nan          -inf]\n",
      " [          nan           nan           nan ...           nan\n",
      "            nan -553.82095779]\n",
      " ...\n",
      " [          nan           nan           nan ...           nan\n",
      "            nan           nan]\n",
      " [          nan           nan           nan ...           nan\n",
      "            nan           nan]\n",
      " [          nan           nan           nan ...           nan\n",
      "            nan           nan]]\n"
     ]
    },
    {
     "name": "stderr",
     "output_type": "stream",
     "text": [
      "\r",
      " 50%|█████     | 5/10 [00:01<00:01,  3.67it/s]"
     ]
    },
    {
     "name": "stdout",
     "output_type": "stream",
     "text": [
      "[[0.00000000e+000 0.00000000e+000 0.00000000e+000 ... 0.00000000e+000\n",
      "  0.00000000e+000 5.86665225e-017]\n",
      " [0.00000000e+000 0.00000000e+000 0.00000000e+000 ... 0.00000000e+000\n",
      "  1.00000000e+000 2.93399921e-011]\n",
      " [0.00000000e+000 0.00000000e+000 0.00000000e+000 ... 0.00000000e+000\n",
      "  1.00000000e+000 1.00000000e+000]\n",
      " ...\n",
      " [0.00000000e+000 0.00000000e+000 0.00000000e+000 ... 0.00000000e+000\n",
      "  1.00000000e+000 1.00000000e+000]\n",
      " [0.00000000e+000 0.00000000e+000 1.00000000e+000 ... 0.00000000e+000\n",
      "  0.00000000e+000 1.61491838e-095]\n",
      " [0.00000000e+000 0.00000000e+000 2.21448367e-256 ... 0.00000000e+000\n",
      "  0.00000000e+000 3.14625062e-149]]\n",
      "[[         nan          nan          nan ...          nan          nan\n",
      "   -0.        ]\n",
      " [         nan          nan          nan ...          nan   0.\n",
      "  -24.25206961]\n",
      " [         nan          nan          nan ...          nan   0.\n",
      "    0.        ]\n",
      " ...\n",
      " [         nan          nan          nan ...          nan   0.\n",
      "    0.        ]\n",
      " [         nan          nan   0.         ...          nan          nan\n",
      "   -0.        ]\n",
      " [         nan          nan  -0.         ...          nan          nan\n",
      "   -0.        ]]\n"
     ]
    },
    {
     "name": "stderr",
     "output_type": "stream",
     "text": [
      "\r",
      " 60%|██████    | 6/10 [00:01<00:01,  3.63it/s]"
     ]
    },
    {
     "name": "stdout",
     "output_type": "stream",
     "text": [
      "[[0. 0. 0. ... 0. 0. 0.]\n",
      " [0. 0. 0. ... 0. 0. 0.]\n",
      " [0. 0. 0. ... 0. 0. 0.]\n",
      " ...\n",
      " [0. 0. 0. ... 0. 0. 0.]\n",
      " [0. 0. 1. ... 0. 0. 0.]\n",
      " [0. 0. 0. ... 0. 0. 0.]]\n",
      "[[ nan  nan  nan ...  nan  nan  nan]\n",
      " [ nan  nan  nan ...  nan  nan -inf]\n",
      " [ nan  nan  nan ...  nan  nan -inf]\n",
      " ...\n",
      " [ nan  nan  nan ...  nan  nan  nan]\n",
      " [ nan  nan   0. ...  nan  nan  nan]\n",
      " [ nan  nan  nan ...  nan  nan  nan]]\n",
      "[[0.00000000e+000 0.00000000e+000 0.00000000e+000 ... 0.00000000e+000\n",
      "  0.00000000e+000 0.00000000e+000]\n",
      " [0.00000000e+000 0.00000000e+000 1.52464802e-234 ... 0.00000000e+000\n",
      "  0.00000000e+000 0.00000000e+000]\n",
      " [1.00000000e+000 0.00000000e+000 0.00000000e+000 ... 0.00000000e+000\n",
      "  0.00000000e+000 0.00000000e+000]\n",
      " ...\n",
      " [0.00000000e+000 0.00000000e+000 0.00000000e+000 ... 0.00000000e+000\n",
      "  0.00000000e+000 0.00000000e+000]\n",
      " [0.00000000e+000 0.00000000e+000 1.00000000e+000 ... 0.00000000e+000\n",
      "  0.00000000e+000 0.00000000e+000]\n",
      " [0.00000000e+000 0.00000000e+000 1.25015852e-067 ... 0.00000000e+000\n",
      "  0.00000000e+000 0.00000000e+000]]\n"
     ]
    },
    {
     "name": "stderr",
     "output_type": "stream",
     "text": [
      "\r",
      " 70%|███████   | 7/10 [00:02<00:00,  3.53it/s]"
     ]
    },
    {
     "name": "stdout",
     "output_type": "stream",
     "text": [
      "[[ nan  nan  nan ...  nan  nan  nan]\n",
      " [ nan  nan  -0. ...  nan  nan -inf]\n",
      " [  0.  nan  nan ...  nan  nan -inf]\n",
      " ...\n",
      " [ nan  nan  nan ...  nan  nan  nan]\n",
      " [ nan  nan   0. ...  nan  nan  nan]\n",
      " [ nan  nan  -0. ...  nan  nan  nan]]\n",
      "[[0.00000000e+000 1.00000000e+000 0.00000000e+000 ... 1.00000000e+000\n",
      "  0.00000000e+000 0.00000000e+000]\n",
      " [0.00000000e+000 1.00000000e+000 0.00000000e+000 ... 6.66120862e-289\n",
      "  0.00000000e+000 0.00000000e+000]\n",
      " [0.00000000e+000 6.43923355e-266 0.00000000e+000 ... 0.00000000e+000\n",
      "  0.00000000e+000 0.00000000e+000]\n",
      " ...\n",
      " [0.00000000e+000 1.54135880e-007 0.00000000e+000 ... 0.00000000e+000\n",
      "  0.00000000e+000 0.00000000e+000]\n",
      " [0.00000000e+000 0.00000000e+000 0.00000000e+000 ... 1.00000000e+000\n",
      "  0.00000000e+000 0.00000000e+000]\n",
      " [0.00000000e+000 9.10936108e-187 0.00000000e+000 ... 1.00000000e+000\n",
      "  0.00000000e+000 0.00000000e+000]]\n",
      "[[ nan   0.  nan ...   0.  nan  nan]\n",
      " [ nan   0.  nan ...  -0.  nan -inf]\n",
      " [ nan  -0.  nan ...  nan  nan -inf]\n",
      " ...\n",
      " [ nan  -0.  nan ...  nan  nan  nan]\n",
      " [ nan  nan  nan ...   0.  nan  nan]\n",
      " [ nan  -0.  nan ...   0.  nan  nan]]\n"
     ]
    },
    {
     "name": "stderr",
     "output_type": "stream",
     "text": [
      " 90%|█████████ | 9/10 [00:02<00:00,  3.18it/s]"
     ]
    },
    {
     "name": "stdout",
     "output_type": "stream",
     "text": [
      "[[0. 0. 0. ... 0. 0. 0.]\n",
      " [0. 0. 0. ... 0. 0. 0.]\n",
      " [0. 0. 0. ... 0. 0. 0.]\n",
      " ...\n",
      " [0. 0. 0. ... 0. 0. 0.]\n",
      " [0. 0. 0. ... 0. 0. 0.]\n",
      " [0. 0. 0. ... 0. 0. 0.]]\n",
      "[[ nan  nan  nan ...  nan  nan  nan]\n",
      " [ nan  nan  nan ...  nan  nan -inf]\n",
      " [ nan  nan  nan ...  nan  nan -inf]\n",
      " ...\n",
      " [ nan  nan  nan ...  nan  nan  nan]\n",
      " [ nan  nan  nan ...  nan  nan  nan]\n",
      " [ nan  nan  nan ...  nan  nan  nan]]\n"
     ]
    },
    {
     "name": "stderr",
     "output_type": "stream",
     "text": [
      "100%|██████████| 10/10 [00:03<00:00,  3.19it/s]"
     ]
    },
    {
     "name": "stdout",
     "output_type": "stream",
     "text": [
      "[[0.00000000e+000 0.00000000e+000 0.00000000e+000 ... 0.00000000e+000\n",
      "  0.00000000e+000 0.00000000e+000]\n",
      " [0.00000000e+000 0.00000000e+000 0.00000000e+000 ... 0.00000000e+000\n",
      "  1.00000000e+000 0.00000000e+000]\n",
      " [1.00000000e+000 0.00000000e+000 0.00000000e+000 ... 0.00000000e+000\n",
      "  1.00000000e+000 1.00000000e+000]\n",
      " ...\n",
      " [0.00000000e+000 0.00000000e+000 0.00000000e+000 ... 0.00000000e+000\n",
      "  1.59326395e-023 1.00000000e+000]\n",
      " [0.00000000e+000 0.00000000e+000 1.00000000e+000 ... 0.00000000e+000\n",
      "  0.00000000e+000 0.00000000e+000]\n",
      " [3.51591937e-270 0.00000000e+000 9.34427404e-210 ... 0.00000000e+000\n",
      "  0.00000000e+000 0.00000000e+000]]\n",
      "[[ nan  nan  nan ...  nan  nan  nan]\n",
      " [ nan  nan  nan ...  nan   0. -inf]\n",
      " [  0.  nan  nan ...  nan   0.   0.]\n",
      " ...\n",
      " [ nan  nan  nan ...  nan  -0.   0.]\n",
      " [ nan  nan   0. ...  nan  nan  nan]\n",
      " [ -0.  nan  -0. ...  nan  nan  nan]]\n"
     ]
    },
    {
     "name": "stderr",
     "output_type": "stream",
     "text": [
      "\n",
      " 10%|█         | 1/10 [00:00<00:02,  3.84it/s]"
     ]
    },
    {
     "name": "stdout",
     "output_type": "stream",
     "text": [
      "[[0.00000000e+000 5.08686985e-290 0.00000000e+000 ... 0.00000000e+000\n",
      "  0.00000000e+000 0.00000000e+000]\n",
      " [0.00000000e+000 9.86483178e-053 0.00000000e+000 ... 0.00000000e+000\n",
      "  0.00000000e+000 0.00000000e+000]\n",
      " [0.00000000e+000 0.00000000e+000 0.00000000e+000 ... 0.00000000e+000\n",
      "  0.00000000e+000 1.00000000e+000]\n",
      " ...\n",
      " [0.00000000e+000 0.00000000e+000 0.00000000e+000 ... 0.00000000e+000\n",
      "  0.00000000e+000 0.00000000e+000]\n",
      " [0.00000000e+000 0.00000000e+000 0.00000000e+000 ... 0.00000000e+000\n",
      "  0.00000000e+000 0.00000000e+000]\n",
      " [0.00000000e+000 0.00000000e+000 0.00000000e+000 ... 0.00000000e+000\n",
      "  0.00000000e+000 0.00000000e+000]]\n",
      "[[ nan  -0.  nan ...  nan  nan  nan]\n",
      " [ nan  -0.  nan ...  nan  nan -inf]\n",
      " [ nan  nan  nan ...  nan  nan   0.]\n",
      " ...\n",
      " [ nan  nan  nan ...  nan  nan  nan]\n",
      " [ nan  nan  nan ...  nan  nan  nan]\n",
      " [ nan  nan  nan ...  nan  nan  nan]]\n",
      "Epoch 0, Loss [[nan  0. nan ... nan nan nan]\n",
      " [nan  0. nan ... nan nan inf]\n",
      " [nan nan nan ... nan nan nan]\n",
      " ...\n",
      " [nan nan nan ... nan nan nan]\n",
      " [nan nan nan ... nan nan nan]\n",
      " [nan nan nan ... nan nan nan]]\n"
     ]
    },
    {
     "name": "stderr",
     "output_type": "stream",
     "text": [
      "\r",
      " 20%|██        | 2/10 [00:00<00:02,  2.94it/s]"
     ]
    },
    {
     "name": "stdout",
     "output_type": "stream",
     "text": [
      "[[0.00000000e+000 1.00000000e+000 3.94445043e-232 ... 0.00000000e+000\n",
      "  0.00000000e+000 6.10490297e-157]\n",
      " [0.00000000e+000 1.00000000e+000 1.00000000e+000 ... 0.00000000e+000\n",
      "  0.00000000e+000 1.41674790e-123]\n",
      " [0.00000000e+000 3.54881709e-198 6.39028300e-110 ... 0.00000000e+000\n",
      "  0.00000000e+000 1.00000000e+000]\n",
      " ...\n",
      " [0.00000000e+000 1.00000000e+000 2.20213975e-251 ... 0.00000000e+000\n",
      "  0.00000000e+000 1.00000000e+000]\n",
      " [0.00000000e+000 0.00000000e+000 1.00000000e+000 ... 0.00000000e+000\n",
      "  0.00000000e+000 1.12186139e-227]\n",
      " [0.00000000e+000 9.56600791e-131 1.00000000e+000 ... 0.00000000e+000\n",
      "  0.00000000e+000 2.66324159e-287]]\n",
      "[[         nan    0.          -0.        ...          nan          nan\n",
      "    -0.       ]\n",
      " [         nan    0.           0.        ...          nan          nan\n",
      "  -282.8696024]\n",
      " [         nan   -0.          -0.        ...          nan          nan\n",
      "     0.       ]\n",
      " ...\n",
      " [         nan    0.          -0.        ...          nan          nan\n",
      "     0.       ]\n",
      " [         nan          nan    0.        ...          nan          nan\n",
      "    -0.       ]\n",
      " [         nan   -0.           0.        ...          nan          nan\n",
      "    -0.       ]]\n"
     ]
    },
    {
     "name": "stderr",
     "output_type": "stream",
     "text": [
      "\r",
      " 30%|███       | 3/10 [00:00<00:02,  3.05it/s]"
     ]
    },
    {
     "name": "stdout",
     "output_type": "stream",
     "text": [
      "[[0. 0. 0. ... 0. 0. 0.]\n",
      " [0. 0. 0. ... 0. 0. 0.]\n",
      " [0. 0. 0. ... 0. 0. 0.]\n",
      " ...\n",
      " [0. 0. 0. ... 0. 0. 0.]\n",
      " [0. 0. 0. ... 0. 0. 0.]\n",
      " [0. 0. 0. ... 0. 0. 0.]]\n",
      "[[ nan  nan  nan ...  nan  nan  nan]\n",
      " [ nan  nan  nan ...  nan  nan -inf]\n",
      " [ nan  nan  nan ...  nan  nan -inf]\n",
      " ...\n",
      " [ nan  nan  nan ...  nan  nan  nan]\n",
      " [ nan  nan  nan ...  nan  nan  nan]\n",
      " [ nan  nan  nan ...  nan  nan  nan]]\n",
      "[[0.00000000e+000 0.00000000e+000 0.00000000e+000 ... 1.00000000e+000\n",
      "  0.00000000e+000 0.00000000e+000]\n",
      " [0.00000000e+000 0.00000000e+000 0.00000000e+000 ... 2.31169726e-253\n",
      "  1.00000000e+000 0.00000000e+000]\n",
      " [0.00000000e+000 0.00000000e+000 0.00000000e+000 ... 0.00000000e+000\n",
      "  1.00000000e+000 0.00000000e+000]\n",
      " ...\n",
      " [0.00000000e+000 0.00000000e+000 0.00000000e+000 ... 1.44327859e-291\n",
      "  1.00000000e+000 0.00000000e+000]\n",
      " [0.00000000e+000 0.00000000e+000 0.00000000e+000 ... 1.00000000e+000\n",
      "  0.00000000e+000 0.00000000e+000]\n",
      " [0.00000000e+000 0.00000000e+000 0.00000000e+000 ... 1.00000000e+000\n",
      "  0.00000000e+000 0.00000000e+000]]\n",
      "[[ nan  nan  nan ...   0.  nan  nan]\n",
      " [ nan  nan  nan ...  -0.   0. -inf]\n",
      " [ nan  nan  nan ...  nan   0. -inf]\n",
      " ...\n",
      " [ nan  nan  nan ...  -0.   0.  nan]\n",
      " [ nan  nan  nan ...   0.  nan  nan]\n",
      " [ nan  nan  nan ...   0.  nan  nan]]\n"
     ]
    },
    {
     "name": "stderr",
     "output_type": "stream",
     "text": [
      "\r",
      " 40%|████      | 4/10 [00:01<00:02,  2.82it/s]"
     ]
    },
    {
     "name": "stdout",
     "output_type": "stream",
     "text": [
      "[[0. 0. 0. ... 0. 0. 0.]\n",
      " [0. 0. 0. ... 0. 0. 0.]\n",
      " [1. 0. 0. ... 0. 0. 0.]\n",
      " ...\n",
      " [0. 0. 0. ... 0. 0. 0.]\n",
      " [0. 0. 0. ... 0. 0. 0.]\n",
      " [0. 0. 0. ... 0. 0. 0.]]\n",
      "[[ nan  nan  nan ...  nan  nan  nan]\n",
      " [ nan  nan  nan ...  nan  nan -inf]\n",
      " [  0.  nan  nan ...  nan  nan -inf]\n",
      " ...\n",
      " [ nan  nan  nan ...  nan  nan  nan]\n",
      " [ nan  nan  nan ...  nan  nan  nan]\n",
      " [ nan  nan  nan ...  nan  nan  nan]]\n"
     ]
    },
    {
     "name": "stderr",
     "output_type": "stream",
     "text": [
      " 60%|██████    | 6/10 [00:01<00:01,  3.11it/s]"
     ]
    },
    {
     "name": "stdout",
     "output_type": "stream",
     "text": [
      "[[0.00000000e+000 6.05231889e-001 0.00000000e+000 ... 0.00000000e+000\n",
      "  0.00000000e+000 0.00000000e+000]\n",
      " [0.00000000e+000 1.00000000e+000 0.00000000e+000 ... 0.00000000e+000\n",
      "  0.00000000e+000 0.00000000e+000]\n",
      " [0.00000000e+000 0.00000000e+000 0.00000000e+000 ... 0.00000000e+000\n",
      "  0.00000000e+000 1.00000000e+000]\n",
      " ...\n",
      " [0.00000000e+000 0.00000000e+000 0.00000000e+000 ... 0.00000000e+000\n",
      "  0.00000000e+000 1.35934650e-300]\n",
      " [0.00000000e+000 0.00000000e+000 0.00000000e+000 ... 0.00000000e+000\n",
      "  0.00000000e+000 0.00000000e+000]\n",
      " [0.00000000e+000 0.00000000e+000 0.00000000e+000 ... 0.00000000e+000\n",
      "  0.00000000e+000 0.00000000e+000]]\n",
      "[[ nan  -0.  nan ...  nan  nan  nan]\n",
      " [ nan   0.  nan ...  nan  nan -inf]\n",
      " [ nan  nan  nan ...  nan  nan   0.]\n",
      " ...\n",
      " [ nan  nan  nan ...  nan  nan  -0.]\n",
      " [ nan  nan  nan ...  nan  nan  nan]\n",
      " [ nan  nan  nan ...  nan  nan  nan]]\n",
      "[[0.00000000e+000 2.23357441e-245 0.00000000e+000 ... 0.00000000e+000\n",
      "  0.00000000e+000 0.00000000e+000]\n",
      " [0.00000000e+000 7.60035984e-001 0.00000000e+000 ... 0.00000000e+000\n",
      "  0.00000000e+000 0.00000000e+000]\n",
      " [0.00000000e+000 0.00000000e+000 0.00000000e+000 ... 0.00000000e+000\n",
      "  0.00000000e+000 1.00000000e+000]\n",
      " ...\n",
      " [0.00000000e+000 0.00000000e+000 0.00000000e+000 ... 0.00000000e+000\n",
      "  0.00000000e+000 1.00000000e+000]\n",
      " [0.00000000e+000 0.00000000e+000 0.00000000e+000 ... 0.00000000e+000\n",
      "  0.00000000e+000 0.00000000e+000]\n",
      " [0.00000000e+000 0.00000000e+000 0.00000000e+000 ... 0.00000000e+000\n",
      "  0.00000000e+000 0.00000000e+000]]\n",
      "[[ nan  -0.  nan ...  nan  nan  nan]\n",
      " [ nan  -0.  nan ...  nan  nan -inf]\n",
      " [ nan  nan  nan ...  nan  nan   0.]\n",
      " ...\n",
      " [ nan  nan  nan ...  nan  nan   0.]\n",
      " [ nan  nan  nan ...  nan  nan  nan]\n",
      " [ nan  nan  nan ...  nan  nan  nan]]\n"
     ]
    },
    {
     "name": "stderr",
     "output_type": "stream",
     "text": [
      "\r",
      " 70%|███████   | 7/10 [00:02<00:01,  2.77it/s]"
     ]
    },
    {
     "name": "stdout",
     "output_type": "stream",
     "text": [
      "[[0.00000000e+000 1.00000000e+000 0.00000000e+000 ... 0.00000000e+000\n",
      "  0.00000000e+000 0.00000000e+000]\n",
      " [0.00000000e+000 1.00000000e+000 0.00000000e+000 ... 0.00000000e+000\n",
      "  1.00000000e+000 0.00000000e+000]\n",
      " [0.00000000e+000 6.94820599e-225 0.00000000e+000 ... 0.00000000e+000\n",
      "  1.00000000e+000 0.00000000e+000]\n",
      " ...\n",
      " [0.00000000e+000 1.00000000e+000 0.00000000e+000 ... 0.00000000e+000\n",
      "  0.00000000e+000 0.00000000e+000]\n",
      " [0.00000000e+000 0.00000000e+000 0.00000000e+000 ... 0.00000000e+000\n",
      "  0.00000000e+000 0.00000000e+000]\n",
      " [0.00000000e+000 3.60899138e-125 0.00000000e+000 ... 0.00000000e+000\n",
      "  0.00000000e+000 0.00000000e+000]]\n",
      "[[ nan   0.  nan ...  nan  nan  nan]\n",
      " [ nan   0.  nan ...  nan   0. -inf]\n",
      " [ nan  -0.  nan ...  nan   0. -inf]\n",
      " ...\n",
      " [ nan   0.  nan ...  nan  nan  nan]\n",
      " [ nan  nan  nan ...  nan  nan  nan]\n",
      " [ nan  -0.  nan ...  nan  nan  nan]]\n"
     ]
    },
    {
     "name": "stderr",
     "output_type": "stream",
     "text": [
      "\r",
      " 80%|████████  | 8/10 [00:02<00:00,  2.99it/s]"
     ]
    },
    {
     "name": "stdout",
     "output_type": "stream",
     "text": [
      "[[0.00000000e+000 0.00000000e+000 0.00000000e+000 ... 0.00000000e+000\n",
      "  0.00000000e+000 0.00000000e+000]\n",
      " [2.54343537e-299 0.00000000e+000 9.99841180e-001 ... 0.00000000e+000\n",
      "  0.00000000e+000 0.00000000e+000]\n",
      " [1.00000000e+000 0.00000000e+000 0.00000000e+000 ... 0.00000000e+000\n",
      "  0.00000000e+000 0.00000000e+000]\n",
      " ...\n",
      " [0.00000000e+000 0.00000000e+000 0.00000000e+000 ... 0.00000000e+000\n",
      "  0.00000000e+000 0.00000000e+000]\n",
      " [0.00000000e+000 0.00000000e+000 1.00000000e+000 ... 0.00000000e+000\n",
      "  0.00000000e+000 0.00000000e+000]\n",
      " [5.30236630e-264 0.00000000e+000 1.00000000e+000 ... 0.00000000e+000\n",
      "  0.00000000e+000 0.00000000e+000]]\n",
      "[[ nan  nan  nan ...  nan  nan  nan]\n",
      " [ -0.  nan  -0. ...  nan  nan -inf]\n",
      " [  0.  nan  nan ...  nan  nan -inf]\n",
      " ...\n",
      " [ nan  nan  nan ...  nan  nan  nan]\n",
      " [ nan  nan   0. ...  nan  nan  nan]\n",
      " [ -0.  nan   0. ...  nan  nan  nan]]\n"
     ]
    },
    {
     "name": "stderr",
     "output_type": "stream",
     "text": [
      "100%|██████████| 10/10 [00:03<00:00,  2.82it/s]"
     ]
    },
    {
     "name": "stdout",
     "output_type": "stream",
     "text": [
      "[[0.00000000e+000 0.00000000e+000 0.00000000e+000 ... 1.96718048e-104\n",
      "  0.00000000e+000 0.00000000e+000]\n",
      " [0.00000000e+000 0.00000000e+000 0.00000000e+000 ... 0.00000000e+000\n",
      "  2.45120657e-151 0.00000000e+000]\n",
      " [0.00000000e+000 0.00000000e+000 0.00000000e+000 ... 0.00000000e+000\n",
      "  3.85369994e-175 1.00000000e+000]\n",
      " ...\n",
      " [0.00000000e+000 0.00000000e+000 0.00000000e+000 ... 0.00000000e+000\n",
      "  0.00000000e+000 1.00000000e+000]\n",
      " [0.00000000e+000 0.00000000e+000 0.00000000e+000 ... 6.03529334e-059\n",
      "  0.00000000e+000 0.00000000e+000]\n",
      " [0.00000000e+000 0.00000000e+000 0.00000000e+000 ... 1.00000000e+000\n",
      "  0.00000000e+000 0.00000000e+000]]\n",
      "[[ nan  nan  nan ...  -0.  nan  nan]\n",
      " [ nan  nan  nan ...  nan  -0. -inf]\n",
      " [ nan  nan  nan ...  nan  -0.   0.]\n",
      " ...\n",
      " [ nan  nan  nan ...  nan  nan   0.]\n",
      " [ nan  nan  nan ...  -0.  nan  nan]\n",
      " [ nan  nan  nan ...   0.  nan  nan]]\n"
     ]
    },
    {
     "name": "stderr",
     "output_type": "stream",
     "text": [
      "100%|██████████| 10/10 [00:03<00:00,  2.81it/s]\n",
      " 10%|█         | 1/10 [00:00<00:02,  3.24it/s]"
     ]
    },
    {
     "name": "stdout",
     "output_type": "stream",
     "text": [
      "[[0.00000000e+000 0.00000000e+000 0.00000000e+000 ... 0.00000000e+000\n",
      "  0.00000000e+000 0.00000000e+000]\n",
      " [0.00000000e+000 0.00000000e+000 0.00000000e+000 ... 0.00000000e+000\n",
      "  1.79636375e-122 0.00000000e+000]\n",
      " [0.00000000e+000 0.00000000e+000 0.00000000e+000 ... 0.00000000e+000\n",
      "  2.66031153e-129 1.00000000e+000]\n",
      " ...\n",
      " [0.00000000e+000 0.00000000e+000 0.00000000e+000 ... 0.00000000e+000\n",
      "  0.00000000e+000 9.64150096e-297]\n",
      " [0.00000000e+000 0.00000000e+000 0.00000000e+000 ... 0.00000000e+000\n",
      "  0.00000000e+000 0.00000000e+000]\n",
      " [0.00000000e+000 0.00000000e+000 0.00000000e+000 ... 0.00000000e+000\n",
      "  0.00000000e+000 0.00000000e+000]]\n",
      "[[ nan  nan  nan ...  nan  nan  nan]\n",
      " [ nan  nan  nan ...  nan  -0. -inf]\n",
      " [ nan  nan  nan ...  nan  -0.   0.]\n",
      " ...\n",
      " [ nan  nan  nan ...  nan  nan  -0.]\n",
      " [ nan  nan  nan ...  nan  nan  nan]\n",
      " [ nan  nan  nan ...  nan  nan  nan]]\n",
      "Epoch 0, Loss [[nan nan nan ... nan nan nan]\n",
      " [nan nan nan ... nan  0. inf]\n",
      " [nan nan nan ... nan  0. nan]\n",
      " ...\n",
      " [nan nan nan ... nan nan  0.]\n",
      " [nan nan nan ... nan nan nan]\n",
      " [nan nan nan ... nan nan nan]]\n",
      "[[0.00000000e+000 1.00000000e+000 0.00000000e+000 ... 0.00000000e+000\n",
      "  0.00000000e+000 1.49470983e-273]\n",
      " [0.00000000e+000 1.00000000e+000 0.00000000e+000 ... 0.00000000e+000\n",
      "  1.59328308e-230 1.17541507e-297]\n",
      " [0.00000000e+000 0.00000000e+000 0.00000000e+000 ... 0.00000000e+000\n",
      "  3.59952117e-237 1.00000000e+000]\n",
      " ...\n",
      " [0.00000000e+000 3.33249972e-220 0.00000000e+000 ... 0.00000000e+000\n",
      "  0.00000000e+000 1.00000000e+000]\n",
      " [0.00000000e+000 0.00000000e+000 0.00000000e+000 ... 0.00000000e+000\n",
      "  0.00000000e+000 0.00000000e+000]\n",
      " [0.00000000e+000 8.40708526e-277 0.00000000e+000 ... 1.40673572e-198\n",
      "  0.00000000e+000 0.00000000e+000]]\n",
      "[[          nan    0.                   nan ...           nan\n",
      "            nan   -0.        ]\n",
      " [          nan    0.                   nan ...           nan\n",
      "    -0.         -683.70615128]\n",
      " [          nan           nan           nan ...           nan\n",
      "    -0.            0.        ]\n",
      " ...\n",
      " [          nan   -0.                   nan ...           nan\n",
      "            nan    0.        ]\n",
      " [          nan           nan           nan ...           nan\n",
      "            nan           nan]\n",
      " [          nan   -0.                   nan ...   -0.\n",
      "            nan           nan]]\n"
     ]
    },
    {
     "name": "stderr",
     "output_type": "stream",
     "text": [
      " 30%|███       | 3/10 [00:00<00:02,  3.43it/s]"
     ]
    },
    {
     "name": "stdout",
     "output_type": "stream",
     "text": [
      "[[0.00000000e+00 0.00000000e+00 0.00000000e+00 ... 5.82549925e-67\n",
      "  0.00000000e+00 0.00000000e+00]\n",
      " [0.00000000e+00 0.00000000e+00 0.00000000e+00 ... 0.00000000e+00\n",
      "  1.00000000e+00 0.00000000e+00]\n",
      " [0.00000000e+00 0.00000000e+00 0.00000000e+00 ... 0.00000000e+00\n",
      "  1.00000000e+00 0.00000000e+00]\n",
      " ...\n",
      " [0.00000000e+00 0.00000000e+00 0.00000000e+00 ... 0.00000000e+00\n",
      "  0.00000000e+00 0.00000000e+00]\n",
      " [0.00000000e+00 0.00000000e+00 0.00000000e+00 ... 1.00000000e+00\n",
      "  0.00000000e+00 0.00000000e+00]\n",
      " [0.00000000e+00 0.00000000e+00 0.00000000e+00 ... 1.00000000e+00\n",
      "  0.00000000e+00 0.00000000e+00]]\n",
      "[[ nan  nan  nan ...  -0.  nan  nan]\n",
      " [ nan  nan  nan ...  nan   0. -inf]\n",
      " [ nan  nan  nan ...  nan   0. -inf]\n",
      " ...\n",
      " [ nan  nan  nan ...  nan  nan  nan]\n",
      " [ nan  nan  nan ...   0.  nan  nan]\n",
      " [ nan  nan  nan ...   0.  nan  nan]]\n",
      "[[0.00000000e+000 1.00000000e+000 0.00000000e+000 ... 0.00000000e+000\n",
      "  0.00000000e+000 0.00000000e+000]\n",
      " [0.00000000e+000 1.00000000e+000 0.00000000e+000 ... 0.00000000e+000\n",
      "  0.00000000e+000 0.00000000e+000]\n",
      " [1.00000000e+000 0.00000000e+000 0.00000000e+000 ... 0.00000000e+000\n",
      "  0.00000000e+000 0.00000000e+000]\n",
      " ...\n",
      " [0.00000000e+000 3.25255683e-269 0.00000000e+000 ... 0.00000000e+000\n",
      "  0.00000000e+000 0.00000000e+000]\n",
      " [0.00000000e+000 0.00000000e+000 1.00000000e+000 ... 0.00000000e+000\n",
      "  0.00000000e+000 0.00000000e+000]\n",
      " [0.00000000e+000 3.55971504e-299 1.56421505e-279 ... 0.00000000e+000\n",
      "  0.00000000e+000 0.00000000e+000]]\n",
      "[[ nan   0.  nan ...  nan  nan  nan]\n",
      " [ nan   0.  nan ...  nan  nan -inf]\n",
      " [ -0.  nan  nan ...  nan  nan -inf]\n",
      " ...\n",
      " [ nan  -0.  nan ...  nan  nan  nan]\n",
      " [ nan  nan   0. ...  nan  nan  nan]\n",
      " [ nan  -0.  -0. ...  nan  nan  nan]]\n"
     ]
    },
    {
     "name": "stderr",
     "output_type": "stream",
     "text": [
      " 50%|█████     | 5/10 [00:02<00:02,  2.08it/s]"
     ]
    },
    {
     "name": "stdout",
     "output_type": "stream",
     "text": [
      "[[0.00000000e+000 0.00000000e+000 0.00000000e+000 ... 0.00000000e+000\n",
      "  0.00000000e+000 0.00000000e+000]\n",
      " [0.00000000e+000 0.00000000e+000 0.00000000e+000 ... 0.00000000e+000\n",
      "  1.00000000e+000 0.00000000e+000]\n",
      " [0.00000000e+000 0.00000000e+000 0.00000000e+000 ... 0.00000000e+000\n",
      "  1.00000000e+000 1.00000000e+000]\n",
      " ...\n",
      " [0.00000000e+000 0.00000000e+000 0.00000000e+000 ... 0.00000000e+000\n",
      "  2.03107142e-149 0.00000000e+000]\n",
      " [0.00000000e+000 0.00000000e+000 1.00000000e+000 ... 0.00000000e+000\n",
      "  0.00000000e+000 0.00000000e+000]\n",
      " [0.00000000e+000 0.00000000e+000 1.28014672e-179 ... 0.00000000e+000\n",
      "  0.00000000e+000 0.00000000e+000]]\n",
      "[[ nan  nan  nan ...  nan  nan  nan]\n",
      " [ nan  nan  nan ...  nan   0. -inf]\n",
      " [ nan  nan  nan ...  nan   0.   0.]\n",
      " ...\n",
      " [ nan  nan  nan ...  nan  -0.  nan]\n",
      " [ nan  nan   0. ...  nan  nan  nan]\n",
      " [ nan  nan  -0. ...  nan  nan  nan]]\n"
     ]
    },
    {
     "name": "stderr",
     "output_type": "stream",
     "text": [
      "\r",
      " 60%|██████    | 6/10 [00:02<00:01,  2.56it/s]"
     ]
    },
    {
     "name": "stdout",
     "output_type": "stream",
     "text": [
      "[[0.00000000e+000 1.00000000e+000 0.00000000e+000 ... 1.00000000e+000\n",
      "  0.00000000e+000 1.91792778e-191]\n",
      " [0.00000000e+000 1.00000000e+000 0.00000000e+000 ... 4.05510554e-244\n",
      "  0.00000000e+000 7.60249926e-198]\n",
      " [0.00000000e+000 4.76589355e-264 0.00000000e+000 ... 0.00000000e+000\n",
      "  0.00000000e+000 1.00000000e+000]\n",
      " ...\n",
      " [0.00000000e+000 9.99998622e-001 0.00000000e+000 ... 0.00000000e+000\n",
      "  0.00000000e+000 1.00000000e+000]\n",
      " [0.00000000e+000 0.00000000e+000 0.00000000e+000 ... 1.00000000e+000\n",
      "  0.00000000e+000 0.00000000e+000]\n",
      " [0.00000000e+000 1.19822909e-124 0.00000000e+000 ... 1.00000000e+000\n",
      "  0.00000000e+000 0.00000000e+000]]\n",
      "[[          nan    0.                   nan ...    0.\n",
      "            nan   -0.        ]\n",
      " [          nan    0.                   nan ...   -0.\n",
      "            nan -453.88337137]\n",
      " [          nan   -0.                   nan ...           nan\n",
      "            nan    0.        ]\n",
      " ...\n",
      " [          nan   -0.                   nan ...           nan\n",
      "            nan    0.        ]\n",
      " [          nan           nan           nan ...    0.\n",
      "            nan           nan]\n",
      " [          nan   -0.                   nan ...    0.\n",
      "            nan           nan]]\n"
     ]
    },
    {
     "name": "stderr",
     "output_type": "stream",
     "text": [
      "\r",
      " 70%|███████   | 7/10 [00:02<00:01,  2.79it/s]"
     ]
    },
    {
     "name": "stdout",
     "output_type": "stream",
     "text": [
      "[[0.00000000e+000 0.00000000e+000 2.93771171e-228 ... 0.00000000e+000\n",
      "  0.00000000e+000 0.00000000e+000]\n",
      " [0.00000000e+000 0.00000000e+000 1.00000000e+000 ... 0.00000000e+000\n",
      "  0.00000000e+000 0.00000000e+000]\n",
      " [0.00000000e+000 0.00000000e+000 2.83309087e-125 ... 0.00000000e+000\n",
      "  0.00000000e+000 0.00000000e+000]\n",
      " ...\n",
      " [0.00000000e+000 0.00000000e+000 8.38874587e-257 ... 0.00000000e+000\n",
      "  0.00000000e+000 0.00000000e+000]\n",
      " [0.00000000e+000 0.00000000e+000 1.00000000e+000 ... 0.00000000e+000\n",
      "  0.00000000e+000 0.00000000e+000]\n",
      " [0.00000000e+000 0.00000000e+000 1.00000000e+000 ... 0.00000000e+000\n",
      "  0.00000000e+000 0.00000000e+000]]\n",
      "[[ nan  nan  -0. ...  nan  nan  nan]\n",
      " [ nan  nan   0. ...  nan  nan -inf]\n",
      " [ nan  nan  -0. ...  nan  nan -inf]\n",
      " ...\n",
      " [ nan  nan  -0. ...  nan  nan  nan]\n",
      " [ nan  nan   0. ...  nan  nan  nan]\n",
      " [ nan  nan   0. ...  nan  nan  nan]]\n",
      "[[0. 0. 0. ... 0. 0. 0.]\n",
      " [0. 0. 0. ... 0. 1. 0.]\n",
      " [0. 0. 0. ... 0. 1. 0.]\n",
      " ...\n",
      " [0. 0. 0. ... 0. 0. 0.]\n",
      " [0. 0. 0. ... 0. 0. 0.]\n",
      " [0. 0. 0. ... 0. 0. 0.]]\n",
      "[[ nan  nan  nan ...  nan  nan  nan]\n",
      " [ nan  nan  nan ...  nan   0. -inf]\n",
      " [ nan  nan  nan ...  nan   0. -inf]\n",
      " ...\n",
      " [ nan  nan  nan ...  nan  nan  nan]\n",
      " [ nan  nan  nan ...  nan  nan  nan]\n",
      " [ nan  nan  nan ...  nan  nan  nan]]\n"
     ]
    },
    {
     "name": "stderr",
     "output_type": "stream",
     "text": [
      " 90%|█████████ | 9/10 [00:03<00:00,  3.03it/s]"
     ]
    },
    {
     "name": "stdout",
     "output_type": "stream",
     "text": [
      "[[0.00000000e+000 0.00000000e+000 0.00000000e+000 ... 0.00000000e+000\n",
      "  0.00000000e+000 0.00000000e+000]\n",
      " [0.00000000e+000 0.00000000e+000 0.00000000e+000 ... 0.00000000e+000\n",
      "  0.00000000e+000 0.00000000e+000]\n",
      " [3.60024853e-290 0.00000000e+000 0.00000000e+000 ... 0.00000000e+000\n",
      "  0.00000000e+000 0.00000000e+000]\n",
      " ...\n",
      " [0.00000000e+000 0.00000000e+000 0.00000000e+000 ... 0.00000000e+000\n",
      "  0.00000000e+000 0.00000000e+000]\n",
      " [0.00000000e+000 0.00000000e+000 0.00000000e+000 ... 0.00000000e+000\n",
      "  0.00000000e+000 0.00000000e+000]\n",
      " [0.00000000e+000 0.00000000e+000 0.00000000e+000 ... 0.00000000e+000\n",
      "  0.00000000e+000 0.00000000e+000]]\n",
      "[[ nan  nan  nan ...  nan  nan  nan]\n",
      " [ nan  nan  nan ...  nan  nan -inf]\n",
      " [ -0.  nan  nan ...  nan  nan -inf]\n",
      " ...\n",
      " [ nan  nan  nan ...  nan  nan  nan]\n",
      " [ nan  nan  nan ...  nan  nan  nan]\n",
      " [ nan  nan  nan ...  nan  nan  nan]]\n",
      "[[0.00000000e+000 1.00000000e+000 0.00000000e+000 ... 0.00000000e+000\n",
      "  0.00000000e+000 0.00000000e+000]\n",
      " [0.00000000e+000 1.00000000e+000 0.00000000e+000 ... 0.00000000e+000\n",
      "  1.00000000e+000 0.00000000e+000]\n",
      " [0.00000000e+000 0.00000000e+000 0.00000000e+000 ... 0.00000000e+000\n",
      "  1.00000000e+000 1.00000000e+000]\n",
      " ...\n",
      " [0.00000000e+000 7.41531423e-052 0.00000000e+000 ... 0.00000000e+000\n",
      "  2.99325246e-025 1.00000000e+000]\n",
      " [0.00000000e+000 0.00000000e+000 0.00000000e+000 ... 0.00000000e+000\n",
      "  0.00000000e+000 0.00000000e+000]\n",
      " [0.00000000e+000 3.63173384e-163 0.00000000e+000 ... 0.00000000e+000\n",
      "  0.00000000e+000 0.00000000e+000]]\n",
      "[[ nan   0.  nan ...  nan  nan  nan]\n",
      " [ nan   0.  nan ...  nan   0. -inf]\n",
      " [ nan  nan  nan ...  nan   0.   0.]\n",
      " ...\n",
      " [ nan  -0.  nan ...  nan  -0.   0.]\n",
      " [ nan  nan  nan ...  nan  nan  nan]\n",
      " [ nan  -0.  nan ...  nan  nan  nan]]\n"
     ]
    },
    {
     "name": "stderr",
     "output_type": "stream",
     "text": [
      "100%|██████████| 10/10 [00:03<00:00,  2.63it/s]\n",
      "  0%|          | 0/10 [00:00<?, ?it/s]"
     ]
    },
    {
     "name": "stdout",
     "output_type": "stream",
     "text": [
      "[[0. 0. 0. ... 0. 0. 0.]\n",
      " [0. 0. 0. ... 0. 0. 0.]\n",
      " [1. 0. 0. ... 0. 0. 0.]\n",
      " ...\n",
      " [0. 0. 0. ... 0. 0. 0.]\n",
      " [0. 0. 0. ... 0. 0. 0.]\n",
      " [0. 0. 0. ... 0. 0. 0.]]\n",
      "[[ nan  nan  nan ...  nan  nan  nan]\n",
      " [ nan  nan  nan ...  nan  nan -inf]\n",
      " [  0.  nan  nan ...  nan  nan -inf]\n",
      " ...\n",
      " [ nan  nan  nan ...  nan  nan  nan]\n",
      " [ nan  nan  nan ...  nan  nan  nan]\n",
      " [ nan  nan  nan ...  nan  nan  nan]]\n"
     ]
    },
    {
     "name": "stderr",
     "output_type": "stream",
     "text": [
      "\r",
      " 10%|█         | 1/10 [00:00<00:07,  1.24it/s]"
     ]
    },
    {
     "name": "stdout",
     "output_type": "stream",
     "text": [
      "Epoch 0, Loss [[nan nan nan ... nan nan nan]\n",
      " [nan nan nan ... nan nan inf]\n",
      " [inf nan nan ... nan nan inf]\n",
      " ...\n",
      " [nan nan nan ... nan nan nan]\n",
      " [nan nan nan ... nan nan nan]\n",
      " [nan nan nan ... nan nan nan]]\n",
      "[[0.00000000e+000 0.00000000e+000 0.00000000e+000 ... 1.00000000e+000\n",
      "  0.00000000e+000 0.00000000e+000]\n",
      " [0.00000000e+000 0.00000000e+000 0.00000000e+000 ... 7.78920517e-128\n",
      "  0.00000000e+000 0.00000000e+000]\n",
      " [0.00000000e+000 0.00000000e+000 0.00000000e+000 ... 9.11182749e-289\n",
      "  0.00000000e+000 1.00000000e+000]\n",
      " ...\n",
      " [0.00000000e+000 0.00000000e+000 0.00000000e+000 ... 7.61294995e-218\n",
      "  0.00000000e+000 1.00000000e+000]\n",
      " [0.00000000e+000 0.00000000e+000 0.00000000e+000 ... 1.00000000e+000\n",
      "  0.00000000e+000 0.00000000e+000]\n",
      " [0.00000000e+000 0.00000000e+000 0.00000000e+000 ... 1.00000000e+000\n",
      "  0.00000000e+000 0.00000000e+000]]\n"
     ]
    },
    {
     "name": "stderr",
     "output_type": "stream",
     "text": [
      "\r",
      " 20%|██        | 2/10 [00:01<00:04,  1.64it/s]"
     ]
    },
    {
     "name": "stdout",
     "output_type": "stream",
     "text": [
      "[[ nan  nan  nan ...   0.  nan  nan]\n",
      " [ nan  nan  nan ...  -0.  nan -inf]\n",
      " [ nan  nan  nan ...  -0.  nan   0.]\n",
      " ...\n",
      " [ nan  nan  nan ...  -0.  nan   0.]\n",
      " [ nan  nan  nan ...   0.  nan  nan]\n",
      " [ nan  nan  nan ...   0.  nan  nan]]\n"
     ]
    },
    {
     "name": "stderr",
     "output_type": "stream",
     "text": [
      "\r",
      " 30%|███       | 3/10 [00:01<00:03,  2.11it/s]"
     ]
    },
    {
     "name": "stdout",
     "output_type": "stream",
     "text": [
      "[[0.00000000e+000 2.31604475e-195 0.00000000e+000 ... 0.00000000e+000\n",
      "  0.00000000e+000 0.00000000e+000]\n",
      " [0.00000000e+000 1.00000000e+000 0.00000000e+000 ... 0.00000000e+000\n",
      "  0.00000000e+000 0.00000000e+000]\n",
      " [0.00000000e+000 0.00000000e+000 0.00000000e+000 ... 0.00000000e+000\n",
      "  0.00000000e+000 1.00000000e+000]\n",
      " ...\n",
      " [0.00000000e+000 0.00000000e+000 0.00000000e+000 ... 0.00000000e+000\n",
      "  0.00000000e+000 1.30773455e-218]\n",
      " [0.00000000e+000 0.00000000e+000 0.00000000e+000 ... 0.00000000e+000\n",
      "  0.00000000e+000 0.00000000e+000]\n",
      " [0.00000000e+000 0.00000000e+000 0.00000000e+000 ... 0.00000000e+000\n",
      "  0.00000000e+000 0.00000000e+000]]\n",
      "[[ nan  -0.  nan ...  nan  nan  nan]\n",
      " [ nan   0.  nan ...  nan  nan -inf]\n",
      " [ nan  nan  nan ...  nan  nan   0.]\n",
      " ...\n",
      " [ nan  nan  nan ...  nan  nan  -0.]\n",
      " [ nan  nan  nan ...  nan  nan  nan]\n",
      " [ nan  nan  nan ...  nan  nan  nan]]\n"
     ]
    },
    {
     "name": "stderr",
     "output_type": "stream",
     "text": [
      "\r",
      " 40%|████      | 4/10 [00:02<00:02,  2.21it/s]"
     ]
    },
    {
     "name": "stdout",
     "output_type": "stream",
     "text": [
      "[[0.00000000e+000 1.00000000e+000 0.00000000e+000 ... 0.00000000e+000\n",
      "  0.00000000e+000 9.36639665e-263]\n",
      " [0.00000000e+000 1.00000000e+000 8.43170474e-031 ... 0.00000000e+000\n",
      "  1.00000000e+000 0.00000000e+000]\n",
      " [1.00000000e+000 1.61140742e-299 0.00000000e+000 ... 0.00000000e+000\n",
      "  1.00000000e+000 1.00000000e+000]\n",
      " ...\n",
      " [0.00000000e+000 2.63982349e-031 0.00000000e+000 ... 0.00000000e+000\n",
      "  1.00000000e+000 1.00000000e+000]\n",
      " [0.00000000e+000 0.00000000e+000 1.00000000e+000 ... 0.00000000e+000\n",
      "  0.00000000e+000 0.00000000e+000]\n",
      " [0.00000000e+000 5.55134138e-149 1.00000000e+000 ... 0.00000000e+000\n",
      "  0.00000000e+000 0.00000000e+000]]\n",
      "[[ nan   0.  nan ...  nan  nan  -0.]\n",
      " [ nan   0.  -0. ...  nan   0. -inf]\n",
      " [ -0.  -0.  nan ...  nan   0.   0.]\n",
      " ...\n",
      " [ nan  -0.  nan ...  nan   0.   0.]\n",
      " [ nan  nan   0. ...  nan  nan  nan]\n",
      " [ nan  -0.   0. ...  nan  nan  nan]]\n"
     ]
    },
    {
     "name": "stderr",
     "output_type": "stream",
     "text": [
      "\r",
      " 50%|█████     | 5/10 [00:02<00:02,  2.25it/s]"
     ]
    },
    {
     "name": "stdout",
     "output_type": "stream",
     "text": [
      "[[0. 0. 0. ... 0. 0. 0.]\n",
      " [0. 0. 0. ... 0. 0. 0.]\n",
      " [0. 0. 0. ... 0. 0. 0.]\n",
      " ...\n",
      " [0. 0. 0. ... 0. 0. 0.]\n",
      " [0. 0. 0. ... 0. 0. 0.]\n",
      " [0. 0. 0. ... 0. 0. 0.]]\n",
      "[[ nan  nan  nan ...  nan  nan  nan]\n",
      " [ nan  nan  nan ...  nan  nan -inf]\n",
      " [ nan  nan  nan ...  nan  nan -inf]\n",
      " ...\n",
      " [ nan  nan  nan ...  nan  nan  nan]\n",
      " [ nan  nan  nan ...  nan  nan  nan]\n",
      " [ nan  nan  nan ...  nan  nan  nan]]\n"
     ]
    },
    {
     "name": "stderr",
     "output_type": "stream",
     "text": [
      "\r",
      " 60%|██████    | 6/10 [00:02<00:01,  2.67it/s]"
     ]
    },
    {
     "name": "stdout",
     "output_type": "stream",
     "text": [
      "[[0. 0. 0. ... 0. 0. 0.]\n",
      " [0. 0. 0. ... 0. 0. 0.]\n",
      " [0. 0. 0. ... 0. 0. 0.]\n",
      " ...\n",
      " [0. 0. 0. ... 0. 0. 0.]\n",
      " [0. 0. 0. ... 0. 0. 0.]\n",
      " [0. 0. 0. ... 0. 0. 0.]]\n",
      "[[ nan  nan  nan ...  nan  nan  nan]\n",
      " [ nan  nan  nan ...  nan  nan -inf]\n",
      " [ nan  nan  nan ...  nan  nan -inf]\n",
      " ...\n",
      " [ nan  nan  nan ...  nan  nan  nan]\n",
      " [ nan  nan  nan ...  nan  nan  nan]\n",
      " [ nan  nan  nan ...  nan  nan  nan]]\n",
      "[[0.00000000e+000 0.00000000e+000 0.00000000e+000 ... 0.00000000e+000\n",
      "  0.00000000e+000 0.00000000e+000]\n",
      " [0.00000000e+000 9.28853625e-205 0.00000000e+000 ... 0.00000000e+000\n",
      "  0.00000000e+000 0.00000000e+000]\n",
      " [5.36693685e-075 0.00000000e+000 0.00000000e+000 ... 0.00000000e+000\n",
      "  0.00000000e+000 1.00000000e+000]\n",
      " ...\n",
      " [0.00000000e+000 0.00000000e+000 0.00000000e+000 ... 0.00000000e+000\n",
      "  0.00000000e+000 1.06945537e-109]\n",
      " [0.00000000e+000 0.00000000e+000 0.00000000e+000 ... 0.00000000e+000\n",
      "  0.00000000e+000 0.00000000e+000]\n",
      " [0.00000000e+000 0.00000000e+000 0.00000000e+000 ... 0.00000000e+000\n",
      "  0.00000000e+000 0.00000000e+000]]\n"
     ]
    },
    {
     "name": "stderr",
     "output_type": "stream",
     "text": [
      "\r",
      " 70%|███████   | 7/10 [00:02<00:01,  2.80it/s]"
     ]
    },
    {
     "name": "stdout",
     "output_type": "stream",
     "text": [
      "[[ nan  nan  nan ...  nan  nan  nan]\n",
      " [ nan  -0.  nan ...  nan  nan -inf]\n",
      " [ -0.  nan  nan ...  nan  nan   0.]\n",
      " ...\n",
      " [ nan  nan  nan ...  nan  nan  -0.]\n",
      " [ nan  nan  nan ...  nan  nan  nan]\n",
      " [ nan  nan  nan ...  nan  nan  nan]]\n",
      "[[0.00000000e+000 1.00000000e+000 0.00000000e+000 ... 0.00000000e+000\n",
      "  0.00000000e+000 0.00000000e+000]\n",
      " [0.00000000e+000 1.00000000e+000 0.00000000e+000 ... 0.00000000e+000\n",
      "  1.34091090e-228 0.00000000e+000]\n",
      " [0.00000000e+000 2.98103926e-088 0.00000000e+000 ... 0.00000000e+000\n",
      "  2.64017208e-257 1.00000000e+000]\n",
      " ...\n",
      " [0.00000000e+000 1.00000000e+000 0.00000000e+000 ... 0.00000000e+000\n",
      "  0.00000000e+000 1.00000000e+000]\n",
      " [0.00000000e+000 3.38130940e-189 0.00000000e+000 ... 0.00000000e+000\n",
      "  0.00000000e+000 0.00000000e+000]\n",
      " [0.00000000e+000 7.01924928e-040 0.00000000e+000 ... 0.00000000e+000\n",
      "  0.00000000e+000 0.00000000e+000]]\n",
      "[[ nan   0.  nan ...  nan  nan  nan]\n",
      " [ nan   0.  nan ...  nan  -0. -inf]\n",
      " [ nan  -0.  nan ...  nan  -0.   0.]\n",
      " ...\n",
      " [ nan   0.  nan ...  nan  nan   0.]\n",
      " [ nan  -0.  nan ...  nan  nan  nan]\n",
      " [ nan  -0.  nan ...  nan  nan  nan]]\n"
     ]
    },
    {
     "name": "stderr",
     "output_type": "stream",
     "text": [
      " 90%|█████████ | 9/10 [00:03<00:00,  2.76it/s]"
     ]
    },
    {
     "name": "stdout",
     "output_type": "stream",
     "text": [
      "[[0.00000000e+000 0.00000000e+000 0.00000000e+000 ... 1.00000000e+000\n",
      "  0.00000000e+000 0.00000000e+000]\n",
      " [0.00000000e+000 0.00000000e+000 1.12170984e-042 ... 0.00000000e+000\n",
      "  1.00000000e+000 0.00000000e+000]\n",
      " [1.00000000e+000 0.00000000e+000 0.00000000e+000 ... 0.00000000e+000\n",
      "  1.00000000e+000 0.00000000e+000]\n",
      " ...\n",
      " [0.00000000e+000 0.00000000e+000 0.00000000e+000 ... 0.00000000e+000\n",
      "  0.00000000e+000 0.00000000e+000]\n",
      " [0.00000000e+000 0.00000000e+000 1.00000000e+000 ... 1.00000000e+000\n",
      "  0.00000000e+000 0.00000000e+000]\n",
      " [3.11062259e-193 0.00000000e+000 1.00000000e+000 ... 1.00000000e+000\n",
      "  0.00000000e+000 0.00000000e+000]]\n",
      "[[ nan  nan  nan ...   0.  nan  nan]\n",
      " [ nan  nan  -0. ...  nan   0. -inf]\n",
      " [  0.  nan  nan ...  nan   0. -inf]\n",
      " ...\n",
      " [ nan  nan  nan ...  nan  nan  nan]\n",
      " [ nan  nan   0. ...   0.  nan  nan]\n",
      " [ -0.  nan   0. ...   0.  nan  nan]]\n"
     ]
    },
    {
     "name": "stderr",
     "output_type": "stream",
     "text": [
      "100%|██████████| 10/10 [00:04<00:00,  2.45it/s]"
     ]
    },
    {
     "name": "stdout",
     "output_type": "stream",
     "text": [
      "[[0.00000000e+000 0.00000000e+000 0.00000000e+000 ... 0.00000000e+000\n",
      "  0.00000000e+000 0.00000000e+000]\n",
      " [0.00000000e+000 0.00000000e+000 0.00000000e+000 ... 0.00000000e+000\n",
      "  0.00000000e+000 0.00000000e+000]\n",
      " [0.00000000e+000 0.00000000e+000 0.00000000e+000 ... 0.00000000e+000\n",
      "  0.00000000e+000 1.00000000e+000]\n",
      " ...\n",
      " [0.00000000e+000 0.00000000e+000 0.00000000e+000 ... 0.00000000e+000\n",
      "  0.00000000e+000 5.79840184e-189]\n",
      " [0.00000000e+000 0.00000000e+000 0.00000000e+000 ... 0.00000000e+000\n",
      "  0.00000000e+000 0.00000000e+000]\n",
      " [0.00000000e+000 0.00000000e+000 0.00000000e+000 ... 0.00000000e+000\n",
      "  0.00000000e+000 0.00000000e+000]]\n",
      "[[ nan  nan  nan ...  nan  nan  nan]\n",
      " [ nan  nan  nan ...  nan  nan -inf]\n",
      " [ nan  nan  nan ...  nan  nan   0.]\n",
      " ...\n",
      " [ nan  nan  nan ...  nan  nan  -0.]\n",
      " [ nan  nan  nan ...  nan  nan  nan]\n",
      " [ nan  nan  nan ...  nan  nan  nan]]\n"
     ]
    },
    {
     "name": "stderr",
     "output_type": "stream",
     "text": [
      "\n",
      "  0%|          | 0/10 [00:00<?, ?it/s]"
     ]
    },
    {
     "name": "stdout",
     "output_type": "stream",
     "text": [
      "[[0.00000000e+000 0.00000000e+000 0.00000000e+000 ... 0.00000000e+000\n",
      "  0.00000000e+000 7.87455733e-203]\n",
      " [0.00000000e+000 0.00000000e+000 0.00000000e+000 ... 0.00000000e+000\n",
      "  1.00000000e+000 7.14155953e-290]\n",
      " [0.00000000e+000 0.00000000e+000 0.00000000e+000 ... 0.00000000e+000\n",
      "  1.00000000e+000 1.00000000e+000]\n",
      " ...\n",
      " [0.00000000e+000 0.00000000e+000 0.00000000e+000 ... 0.00000000e+000\n",
      "  8.20871333e-194 1.00000000e+000]\n",
      " [0.00000000e+000 0.00000000e+000 0.00000000e+000 ... 0.00000000e+000\n",
      "  0.00000000e+000 0.00000000e+000]\n",
      " [0.00000000e+000 0.00000000e+000 0.00000000e+000 ... 0.00000000e+000\n",
      "  0.00000000e+000 6.59076333e-303]]\n",
      "[[          nan           nan           nan ...           nan\n",
      "            nan   -0.        ]\n",
      " [          nan           nan           nan ...           nan\n",
      "     0.         -665.78374579]\n",
      " [          nan           nan           nan ...           nan\n",
      "     0.            0.        ]\n",
      " ...\n",
      " [          nan           nan           nan ...           nan\n",
      "    -0.            0.        ]\n",
      " [          nan           nan           nan ...           nan\n",
      "            nan           nan]\n",
      " [          nan           nan           nan ...           nan\n",
      "            nan   -0.        ]]\n"
     ]
    },
    {
     "name": "stderr",
     "output_type": "stream",
     "text": [
      "\r",
      " 10%|█         | 1/10 [00:00<00:03,  2.28it/s]"
     ]
    },
    {
     "name": "stdout",
     "output_type": "stream",
     "text": [
      "Epoch 0, Loss [[       nan        nan        nan ...        nan        nan 0.        ]\n",
      " [       nan        nan        nan ...        nan        inf 0.13315675]\n",
      " [       nan        nan        nan ...        nan        inf        nan]\n",
      " ...\n",
      " [       nan        nan        nan ...        nan 0.                inf]\n",
      " [       nan        nan        nan ...        nan        nan        nan]\n",
      " [       nan        nan        nan ...        nan        nan 0.        ]]\n",
      "[[0. 0. 0. ... 0. 0. 0.]\n",
      " [0. 0. 0. ... 0. 0. 0.]\n",
      " [0. 0. 0. ... 0. 0. 0.]\n",
      " ...\n",
      " [0. 0. 0. ... 0. 0. 0.]\n",
      " [0. 0. 0. ... 0. 0. 0.]\n",
      " [0. 0. 0. ... 0. 0. 0.]]\n",
      "[[ nan  nan  nan ...  nan  nan  nan]\n",
      " [ nan  nan  nan ...  nan  nan -inf]\n",
      " [ nan  nan  nan ...  nan  nan -inf]\n",
      " ...\n",
      " [ nan  nan  nan ...  nan  nan  nan]\n",
      " [ nan  nan  nan ...  nan  nan  nan]\n",
      " [ nan  nan  nan ...  nan  nan  nan]]\n"
     ]
    },
    {
     "name": "stderr",
     "output_type": "stream",
     "text": [
      " 30%|███       | 3/10 [00:01<00:02,  2.60it/s]"
     ]
    },
    {
     "name": "stdout",
     "output_type": "stream",
     "text": [
      "[[0.00000000e+000 0.00000000e+000 0.00000000e+000 ... 1.00000000e+000\n",
      "  0.00000000e+000 0.00000000e+000]\n",
      " [0.00000000e+000 0.00000000e+000 0.00000000e+000 ... 2.69914922e-135\n",
      "  0.00000000e+000 0.00000000e+000]\n",
      " [0.00000000e+000 0.00000000e+000 0.00000000e+000 ... 2.09497172e-302\n",
      "  0.00000000e+000 0.00000000e+000]\n",
      " ...\n",
      " [0.00000000e+000 0.00000000e+000 0.00000000e+000 ... 1.61282613e-224\n",
      "  0.00000000e+000 0.00000000e+000]\n",
      " [0.00000000e+000 0.00000000e+000 0.00000000e+000 ... 1.00000000e+000\n",
      "  0.00000000e+000 0.00000000e+000]\n",
      " [0.00000000e+000 0.00000000e+000 0.00000000e+000 ... 1.00000000e+000\n",
      "  0.00000000e+000 0.00000000e+000]]\n",
      "[[ nan  nan  nan ...   0.  nan  nan]\n",
      " [ nan  nan  nan ...  -0.  nan -inf]\n",
      " [ nan  nan  nan ...  -0.  nan -inf]\n",
      " ...\n",
      " [ nan  nan  nan ...  -0.  nan  nan]\n",
      " [ nan  nan  nan ...   0.  nan  nan]\n",
      " [ nan  nan  nan ...   0.  nan  nan]]\n",
      "[[0.00000000e+000 1.00000000e+000 4.06401560e-189 ... 0.00000000e+000\n",
      "  0.00000000e+000 0.00000000e+000]\n",
      " [0.00000000e+000 1.00000000e+000 1.00000000e+000 ... 0.00000000e+000\n",
      "  1.00000000e+000 0.00000000e+000]\n",
      " [1.00000000e+000 1.69445939e-091 2.26879153e-173 ... 0.00000000e+000\n",
      "  1.00000000e+000 1.00000000e+000]\n",
      " ...\n",
      " [0.00000000e+000 1.00000000e+000 4.80404339e-264 ... 0.00000000e+000\n",
      "  2.72764748e-050 0.00000000e+000]\n",
      " [0.00000000e+000 2.19570088e-236 1.00000000e+000 ... 0.00000000e+000\n",
      "  0.00000000e+000 0.00000000e+000]\n",
      " [0.00000000e+000 3.73378323e-081 1.00000000e+000 ... 0.00000000e+000\n",
      "  0.00000000e+000 0.00000000e+000]]\n",
      "[[ nan   0.  -0. ...  nan  nan  nan]\n",
      " [ nan   0.   0. ...  nan   0. -inf]\n",
      " [  0.  -0.  -0. ...  nan   0.   0.]\n",
      " ...\n",
      " [ nan   0.  -0. ...  nan  -0.  nan]\n",
      " [ nan  -0.   0. ...  nan  nan  nan]\n",
      " [ nan  -0.   0. ...  nan  nan  nan]]\n"
     ]
    },
    {
     "name": "stderr",
     "output_type": "stream",
     "text": [
      " 50%|█████     | 5/10 [00:01<00:01,  3.39it/s]"
     ]
    },
    {
     "name": "stdout",
     "output_type": "stream",
     "text": [
      "[[0.00000000e+000 0.00000000e+000 0.00000000e+000 ... 0.00000000e+000\n",
      "  0.00000000e+000 1.74537070e-062]\n",
      " [0.00000000e+000 0.00000000e+000 0.00000000e+000 ... 0.00000000e+000\n",
      "  0.00000000e+000 6.46712229e-102]\n",
      " [0.00000000e+000 0.00000000e+000 0.00000000e+000 ... 0.00000000e+000\n",
      "  0.00000000e+000 1.00000000e+000]\n",
      " ...\n",
      " [0.00000000e+000 0.00000000e+000 0.00000000e+000 ... 0.00000000e+000\n",
      "  0.00000000e+000 1.00000000e+000]\n",
      " [0.00000000e+000 0.00000000e+000 0.00000000e+000 ... 0.00000000e+000\n",
      "  0.00000000e+000 1.08927188e-188]\n",
      " [0.00000000e+000 0.00000000e+000 0.00000000e+000 ... 0.00000000e+000\n",
      "  0.00000000e+000 2.48762776e-202]]\n",
      "[[          nan           nan           nan ...           nan\n",
      "            nan   -0.        ]\n",
      " [          nan           nan           nan ...           nan\n",
      "            nan -232.99694825]\n",
      " [          nan           nan           nan ...           nan\n",
      "            nan    0.        ]\n",
      " ...\n",
      " [          nan           nan           nan ...           nan\n",
      "            nan    0.        ]\n",
      " [          nan           nan           nan ...           nan\n",
      "            nan   -0.        ]\n",
      " [          nan           nan           nan ...           nan\n",
      "            nan   -0.        ]]\n"
     ]
    },
    {
     "name": "stderr",
     "output_type": "stream",
     "text": [
      "\r",
      " 60%|██████    | 6/10 [00:02<00:01,  3.33it/s]"
     ]
    },
    {
     "name": "stdout",
     "output_type": "stream",
     "text": [
      "[[0. 0. 0. ... 0. 0. 0.]\n",
      " [0. 0. 0. ... 0. 0. 0.]\n",
      " [0. 0. 0. ... 0. 0. 0.]\n",
      " ...\n",
      " [0. 0. 0. ... 0. 0. 0.]\n",
      " [0. 0. 0. ... 0. 0. 0.]\n",
      " [0. 0. 0. ... 0. 0. 0.]]\n",
      "[[ nan  nan  nan ...  nan  nan  nan]\n",
      " [ nan  nan  nan ...  nan  nan -inf]\n",
      " [ nan  nan  nan ...  nan  nan -inf]\n",
      " ...\n",
      " [ nan  nan  nan ...  nan  nan  nan]\n",
      " [ nan  nan  nan ...  nan  nan  nan]\n",
      " [ nan  nan  nan ...  nan  nan  nan]]\n",
      "[[0.00000000e+000 0.00000000e+000 0.00000000e+000 ... 0.00000000e+000\n",
      "  0.00000000e+000 0.00000000e+000]\n",
      " [7.93372078e-104 0.00000000e+000 0.00000000e+000 ... 0.00000000e+000\n",
      "  0.00000000e+000 0.00000000e+000]\n",
      " [1.00000000e+000 0.00000000e+000 0.00000000e+000 ... 0.00000000e+000\n",
      "  0.00000000e+000 0.00000000e+000]\n",
      " ...\n",
      " [0.00000000e+000 0.00000000e+000 0.00000000e+000 ... 0.00000000e+000\n",
      "  0.00000000e+000 0.00000000e+000]\n",
      " [3.10706424e-224 0.00000000e+000 0.00000000e+000 ... 0.00000000e+000\n",
      "  0.00000000e+000 0.00000000e+000]\n",
      " [3.66826213e-068 0.00000000e+000 0.00000000e+000 ... 0.00000000e+000\n",
      "  0.00000000e+000 0.00000000e+000]]\n",
      "[[ nan  nan  nan ...  nan  nan  nan]\n",
      " [ -0.  nan  nan ...  nan  nan -inf]\n",
      " [  0.  nan  nan ...  nan  nan -inf]\n",
      " ...\n",
      " [ nan  nan  nan ...  nan  nan  nan]\n",
      " [ -0.  nan  nan ...  nan  nan  nan]\n",
      " [ -0.  nan  nan ...  nan  nan  nan]]\n"
     ]
    },
    {
     "name": "stderr",
     "output_type": "stream",
     "text": [
      "\r",
      " 70%|███████   | 7/10 [00:02<00:00,  3.05it/s]"
     ]
    },
    {
     "name": "stdout",
     "output_type": "stream",
     "text": [
      "[[0. 0. 0. ... 0. 0. 0.]\n",
      " [0. 0. 0. ... 0. 1. 0.]\n",
      " [0. 0. 0. ... 0. 1. 0.]\n",
      " ...\n",
      " [0. 0. 0. ... 0. 1. 0.]\n",
      " [0. 0. 0. ... 0. 0. 0.]\n",
      " [0. 0. 0. ... 0. 0. 0.]]\n",
      "[[ nan  nan  nan ...  nan  nan  nan]\n",
      " [ nan  nan  nan ...  nan   0. -inf]\n",
      " [ nan  nan  nan ...  nan   0. -inf]\n",
      " ...\n",
      " [ nan  nan  nan ...  nan   0.  nan]\n",
      " [ nan  nan  nan ...  nan  nan  nan]\n",
      " [ nan  nan  nan ...  nan  nan  nan]]\n"
     ]
    },
    {
     "name": "stderr",
     "output_type": "stream",
     "text": [
      " 90%|█████████ | 9/10 [00:03<00:00,  2.85it/s]"
     ]
    },
    {
     "name": "stdout",
     "output_type": "stream",
     "text": [
      "[[0.00000000e+000 6.30099724e-073 0.00000000e+000 ... 0.00000000e+000\n",
      "  0.00000000e+000 0.00000000e+000]\n",
      " [0.00000000e+000 1.00000000e+000 0.00000000e+000 ... 0.00000000e+000\n",
      "  0.00000000e+000 0.00000000e+000]\n",
      " [0.00000000e+000 0.00000000e+000 0.00000000e+000 ... 0.00000000e+000\n",
      "  0.00000000e+000 2.61030935e-148]\n",
      " ...\n",
      " [0.00000000e+000 0.00000000e+000 0.00000000e+000 ... 0.00000000e+000\n",
      "  0.00000000e+000 0.00000000e+000]\n",
      " [0.00000000e+000 0.00000000e+000 0.00000000e+000 ... 0.00000000e+000\n",
      "  0.00000000e+000 0.00000000e+000]\n",
      " [0.00000000e+000 0.00000000e+000 0.00000000e+000 ... 0.00000000e+000\n",
      "  0.00000000e+000 0.00000000e+000]]\n",
      "[[          nan   -0.                   nan ...           nan\n",
      "            nan           nan]\n",
      " [          nan    0.                   nan ...           nan\n",
      "            nan          -inf]\n",
      " [          nan           nan           nan ...           nan\n",
      "            nan -339.82312502]\n",
      " ...\n",
      " [          nan           nan           nan ...           nan\n",
      "            nan           nan]\n",
      " [          nan           nan           nan ...           nan\n",
      "            nan           nan]\n",
      " [          nan           nan           nan ...           nan\n",
      "            nan           nan]]\n",
      "[[0.00000000e+000 1.21363022e-101 0.00000000e+000 ... 1.00000000e+000\n",
      "  0.00000000e+000 6.57196076e-108]\n",
      " [0.00000000e+000 1.00000000e+000 0.00000000e+000 ... 0.00000000e+000\n",
      "  0.00000000e+000 6.55815594e-090]\n",
      " [0.00000000e+000 0.00000000e+000 0.00000000e+000 ... 0.00000000e+000\n",
      "  0.00000000e+000 1.00000000e+000]\n",
      " ...\n",
      " [0.00000000e+000 0.00000000e+000 0.00000000e+000 ... 0.00000000e+000\n",
      "  0.00000000e+000 1.00000000e+000]\n",
      " [0.00000000e+000 0.00000000e+000 0.00000000e+000 ... 1.00000000e+000\n",
      "  0.00000000e+000 3.04319139e-162]\n",
      " [0.00000000e+000 0.00000000e+000 0.00000000e+000 ... 1.00000000e+000\n",
      "  0.00000000e+000 2.30863577e-266]]\n",
      "[[          nan   -0.                   nan ...    0.\n",
      "            nan   -0.        ]\n",
      " [          nan    0.                   nan ...           nan\n",
      "            nan -205.35194891]\n",
      " [          nan           nan           nan ...           nan\n",
      "            nan    0.        ]\n",
      " ...\n",
      " [          nan           nan           nan ...           nan\n",
      "            nan    0.        ]\n",
      " [          nan           nan           nan ...    0.\n",
      "            nan   -0.        ]\n",
      " [          nan           nan           nan ...    0.\n",
      "            nan   -0.        ]]\n"
     ]
    },
    {
     "name": "stderr",
     "output_type": "stream",
     "text": [
      "100%|██████████| 10/10 [00:03<00:00,  2.77it/s]\n",
      "  0%|          | 0/10 [00:00<?, ?it/s]"
     ]
    },
    {
     "name": "stdout",
     "output_type": "stream",
     "text": [
      "[[0.00000000e+00 3.59413136e-37 0.00000000e+00 ... 0.00000000e+00\n",
      "  0.00000000e+00 0.00000000e+00]\n",
      " [0.00000000e+00 1.00000000e+00 1.44165292e-15 ... 0.00000000e+00\n",
      "  0.00000000e+00 0.00000000e+00]\n",
      " [0.00000000e+00 0.00000000e+00 0.00000000e+00 ... 0.00000000e+00\n",
      "  0.00000000e+00 0.00000000e+00]\n",
      " ...\n",
      " [0.00000000e+00 0.00000000e+00 0.00000000e+00 ... 0.00000000e+00\n",
      "  0.00000000e+00 0.00000000e+00]\n",
      " [0.00000000e+00 0.00000000e+00 1.00000000e+00 ... 0.00000000e+00\n",
      "  0.00000000e+00 0.00000000e+00]\n",
      " [0.00000000e+00 0.00000000e+00 1.00000000e+00 ... 0.00000000e+00\n",
      "  0.00000000e+00 0.00000000e+00]]\n",
      "[[ nan  -0.  nan ...  nan  nan  nan]\n",
      " [ nan   0.  -0. ...  nan  nan -inf]\n",
      " [ nan  nan  nan ...  nan  nan -inf]\n",
      " ...\n",
      " [ nan  nan  nan ...  nan  nan  nan]\n",
      " [ nan  nan   0. ...  nan  nan  nan]\n",
      " [ nan  nan   0. ...  nan  nan  nan]]\n"
     ]
    },
    {
     "name": "stderr",
     "output_type": "stream",
     "text": [
      "\r",
      " 10%|█         | 1/10 [00:00<00:02,  3.38it/s]"
     ]
    },
    {
     "name": "stdout",
     "output_type": "stream",
     "text": [
      "Epoch 0, Loss [[           nan 0.00000000e+00            nan ...            nan\n",
      "             nan            nan]\n",
      " [           nan            inf 2.88657986e-19 ...            nan\n",
      "             nan            inf]\n",
      " [           nan            nan            nan ...            nan\n",
      "             nan            inf]\n",
      " ...\n",
      " [           nan            nan            nan ...            nan\n",
      "             nan            nan]\n",
      " [           nan            nan            inf ...            nan\n",
      "             nan            nan]\n",
      " [           nan            nan            inf ...            nan\n",
      "             nan            nan]]\n",
      "[[0.00000000e+000 2.79430802e-237 0.00000000e+000 ... 0.00000000e+000\n",
      "  0.00000000e+000 0.00000000e+000]\n",
      " [0.00000000e+000 1.00000000e+000 0.00000000e+000 ... 0.00000000e+000\n",
      "  0.00000000e+000 0.00000000e+000]\n",
      " [0.00000000e+000 0.00000000e+000 0.00000000e+000 ... 0.00000000e+000\n",
      "  0.00000000e+000 0.00000000e+000]\n",
      " ...\n",
      " [0.00000000e+000 0.00000000e+000 0.00000000e+000 ... 0.00000000e+000\n",
      "  0.00000000e+000 0.00000000e+000]\n",
      " [0.00000000e+000 0.00000000e+000 0.00000000e+000 ... 0.00000000e+000\n",
      "  0.00000000e+000 0.00000000e+000]\n",
      " [0.00000000e+000 0.00000000e+000 0.00000000e+000 ... 0.00000000e+000\n",
      "  0.00000000e+000 0.00000000e+000]]\n",
      "[[ nan  -0.  nan ...  nan  nan  nan]\n",
      " [ nan   0.  nan ...  nan  nan -inf]\n",
      " [ nan  nan  nan ...  nan  nan -inf]\n",
      " ...\n",
      " [ nan  nan  nan ...  nan  nan  nan]\n",
      " [ nan  nan  nan ...  nan  nan  nan]\n",
      " [ nan  nan  nan ...  nan  nan  nan]]\n"
     ]
    },
    {
     "name": "stderr",
     "output_type": "stream",
     "text": [
      "\r",
      " 20%|██        | 2/10 [00:00<00:02,  3.06it/s]"
     ]
    },
    {
     "name": "stdout",
     "output_type": "stream",
     "text": [
      "[[0.00000000e+000 1.00000000e+000 0.00000000e+000 ... 0.00000000e+000\n",
      "  0.00000000e+000 0.00000000e+000]\n",
      " [0.00000000e+000 1.00000000e+000 0.00000000e+000 ... 0.00000000e+000\n",
      "  1.00000000e+000 0.00000000e+000]\n",
      " [1.32763331e-229 1.19174290e-266 0.00000000e+000 ... 0.00000000e+000\n",
      "  1.00000000e+000 0.00000000e+000]\n",
      " ...\n",
      " [0.00000000e+000 9.89584290e-026 0.00000000e+000 ... 0.00000000e+000\n",
      "  1.04383061e-138 0.00000000e+000]\n",
      " [0.00000000e+000 0.00000000e+000 0.00000000e+000 ... 0.00000000e+000\n",
      "  0.00000000e+000 0.00000000e+000]\n",
      " [0.00000000e+000 2.79840169e-169 0.00000000e+000 ... 0.00000000e+000\n",
      "  0.00000000e+000 0.00000000e+000]]\n",
      "[[ nan   0.  nan ...  nan  nan  nan]\n",
      " [ nan   0.  nan ...  nan   0. -inf]\n",
      " [ -0.  -0.  nan ...  nan   0. -inf]\n",
      " ...\n",
      " [ nan  -0.  nan ...  nan  -0.  nan]\n",
      " [ nan  nan  nan ...  nan  nan  nan]\n",
      " [ nan  -0.  nan ...  nan  nan  nan]]\n"
     ]
    },
    {
     "name": "stderr",
     "output_type": "stream",
     "text": [
      "\r",
      " 30%|███       | 3/10 [00:01<00:02,  2.70it/s]"
     ]
    },
    {
     "name": "stdout",
     "output_type": "stream",
     "text": [
      "[[0.00000000e+000 0.00000000e+000 0.00000000e+000 ... 0.00000000e+000\n",
      "  0.00000000e+000 0.00000000e+000]\n",
      " [0.00000000e+000 0.00000000e+000 0.00000000e+000 ... 0.00000000e+000\n",
      "  0.00000000e+000 0.00000000e+000]\n",
      " [0.00000000e+000 0.00000000e+000 0.00000000e+000 ... 0.00000000e+000\n",
      "  0.00000000e+000 1.67085068e-201]\n",
      " ...\n",
      " [0.00000000e+000 0.00000000e+000 0.00000000e+000 ... 0.00000000e+000\n",
      "  0.00000000e+000 0.00000000e+000]\n",
      " [0.00000000e+000 0.00000000e+000 0.00000000e+000 ... 0.00000000e+000\n",
      "  0.00000000e+000 0.00000000e+000]\n",
      " [0.00000000e+000 0.00000000e+000 0.00000000e+000 ... 0.00000000e+000\n",
      "  0.00000000e+000 0.00000000e+000]]\n",
      "[[          nan           nan           nan ...           nan\n",
      "            nan           nan]\n",
      " [          nan           nan           nan ...           nan\n",
      "            nan          -inf]\n",
      " [          nan           nan           nan ...           nan\n",
      "            nan -462.30627081]\n",
      " ...\n",
      " [          nan           nan           nan ...           nan\n",
      "            nan           nan]\n",
      " [          nan           nan           nan ...           nan\n",
      "            nan           nan]\n",
      " [          nan           nan           nan ...           nan\n",
      "            nan           nan]]\n"
     ]
    },
    {
     "name": "stderr",
     "output_type": "stream",
     "text": [
      " 50%|█████     | 5/10 [00:01<00:01,  3.12it/s]"
     ]
    },
    {
     "name": "stdout",
     "output_type": "stream",
     "text": [
      "[[0.00000000e+000 0.00000000e+000 0.00000000e+000 ... 1.00000000e+000\n",
      "  0.00000000e+000 3.78917307e-305]\n",
      " [0.00000000e+000 0.00000000e+000 0.00000000e+000 ... 1.91629146e-197\n",
      "  0.00000000e+000 6.76977580e-281]\n",
      " [1.00000000e+000 0.00000000e+000 0.00000000e+000 ... 0.00000000e+000\n",
      "  0.00000000e+000 1.00000000e+000]\n",
      " ...\n",
      " [0.00000000e+000 0.00000000e+000 0.00000000e+000 ... 4.54940164e-280\n",
      "  0.00000000e+000 1.00000000e+000]\n",
      " [0.00000000e+000 0.00000000e+000 0.00000000e+000 ... 1.00000000e+000\n",
      "  0.00000000e+000 0.00000000e+000]\n",
      " [0.00000000e+000 0.00000000e+000 0.00000000e+000 ... 1.00000000e+000\n",
      "  0.00000000e+000 0.00000000e+000]]\n",
      "[[          nan           nan           nan ...    0.\n",
      "            nan   -0.        ]\n",
      " [          nan           nan           nan ...   -0.\n",
      "            nan -645.11394316]\n",
      " [   0.                   nan           nan ...           nan\n",
      "            nan    0.        ]\n",
      " ...\n",
      " [          nan           nan           nan ...   -0.\n",
      "            nan    0.        ]\n",
      " [          nan           nan           nan ...    0.\n",
      "            nan           nan]\n",
      " [          nan           nan           nan ...    0.\n",
      "            nan           nan]]\n"
     ]
    },
    {
     "name": "stderr",
     "output_type": "stream",
     "text": [
      "\r",
      " 60%|██████    | 6/10 [00:02<00:01,  2.66it/s]"
     ]
    },
    {
     "name": "stdout",
     "output_type": "stream",
     "text": [
      "[[0.00000000e+000 0.00000000e+000 0.00000000e+000 ... 0.00000000e+000\n",
      "  0.00000000e+000 0.00000000e+000]\n",
      " [0.00000000e+000 6.05280781e-209 1.34521046e-141 ... 0.00000000e+000\n",
      "  1.00000000e+000 0.00000000e+000]\n",
      " [0.00000000e+000 0.00000000e+000 0.00000000e+000 ... 0.00000000e+000\n",
      "  1.00000000e+000 0.00000000e+000]\n",
      " ...\n",
      " [0.00000000e+000 0.00000000e+000 0.00000000e+000 ... 0.00000000e+000\n",
      "  0.00000000e+000 0.00000000e+000]\n",
      " [0.00000000e+000 0.00000000e+000 1.00000000e+000 ... 0.00000000e+000\n",
      "  0.00000000e+000 0.00000000e+000]\n",
      " [0.00000000e+000 0.00000000e+000 1.00000000e+000 ... 0.00000000e+000\n",
      "  0.00000000e+000 0.00000000e+000]]\n",
      "[[ nan  nan  nan ...  nan  nan  nan]\n",
      " [ nan  -0.  -0. ...  nan   0. -inf]\n",
      " [ nan  nan  nan ...  nan   0. -inf]\n",
      " ...\n",
      " [ nan  nan  nan ...  nan  nan  nan]\n",
      " [ nan  nan   0. ...  nan  nan  nan]\n",
      " [ nan  nan   0. ...  nan  nan  nan]]\n",
      "[[0.00000000e+000 1.00000000e+000 0.00000000e+000 ... 0.00000000e+000\n",
      "  0.00000000e+000 0.00000000e+000]\n",
      " [0.00000000e+000 1.00000000e+000 0.00000000e+000 ... 0.00000000e+000\n",
      "  0.00000000e+000 0.00000000e+000]\n",
      " [0.00000000e+000 2.85805087e-080 0.00000000e+000 ... 0.00000000e+000\n",
      "  0.00000000e+000 0.00000000e+000]\n",
      " ...\n",
      " [0.00000000e+000 1.00000000e+000 0.00000000e+000 ... 0.00000000e+000\n",
      "  0.00000000e+000 0.00000000e+000]\n",
      " [0.00000000e+000 2.26353202e-205 0.00000000e+000 ... 0.00000000e+000\n",
      "  0.00000000e+000 0.00000000e+000]\n",
      " [0.00000000e+000 1.49587479e-051 0.00000000e+000 ... 0.00000000e+000\n",
      "  0.00000000e+000 0.00000000e+000]]\n",
      "[[ nan   0.  nan ...  nan  nan  nan]\n",
      " [ nan   0.  nan ...  nan  nan -inf]\n",
      " [ nan  -0.  nan ...  nan  nan -inf]\n",
      " ...\n",
      " [ nan   0.  nan ...  nan  nan  nan]\n",
      " [ nan  -0.  nan ...  nan  nan  nan]\n",
      " [ nan  -0.  nan ...  nan  nan  nan]]\n"
     ]
    },
    {
     "name": "stderr",
     "output_type": "stream",
     "text": [
      "\r",
      " 70%|███████   | 7/10 [00:02<00:01,  2.37it/s]"
     ]
    },
    {
     "name": "stdout",
     "output_type": "stream",
     "text": [
      "[[0.00000000e+000 0.00000000e+000 0.00000000e+000 ... 0.00000000e+000\n",
      "  0.00000000e+000 0.00000000e+000]\n",
      " [0.00000000e+000 0.00000000e+000 0.00000000e+000 ... 0.00000000e+000\n",
      "  1.00000000e+000 0.00000000e+000]\n",
      " [1.00000000e+000 0.00000000e+000 0.00000000e+000 ... 0.00000000e+000\n",
      "  1.00000000e+000 1.19850138e-242]\n",
      " ...\n",
      " [0.00000000e+000 0.00000000e+000 0.00000000e+000 ... 0.00000000e+000\n",
      "  1.00000000e+000 0.00000000e+000]\n",
      " [0.00000000e+000 0.00000000e+000 0.00000000e+000 ... 0.00000000e+000\n",
      "  0.00000000e+000 0.00000000e+000]\n",
      " [0.00000000e+000 0.00000000e+000 0.00000000e+000 ... 0.00000000e+000\n",
      "  0.00000000e+000 0.00000000e+000]]\n",
      "[[          nan           nan           nan ...           nan\n",
      "            nan           nan]\n",
      " [          nan           nan           nan ...           nan\n",
      "     0.                  -inf]\n",
      " [   0.                   nan           nan ...           nan\n",
      "     0.         -557.04452058]\n",
      " ...\n",
      " [          nan           nan           nan ...           nan\n",
      "     0.                   nan]\n",
      " [          nan           nan           nan ...           nan\n",
      "            nan           nan]\n",
      " [          nan           nan           nan ...           nan\n",
      "            nan           nan]]\n"
     ]
    },
    {
     "name": "stderr",
     "output_type": "stream",
     "text": [
      "\r",
      " 80%|████████  | 8/10 [00:02<00:00,  2.62it/s]"
     ]
    },
    {
     "name": "stdout",
     "output_type": "stream",
     "text": [
      "[[0. 0. 0. ... 0. 0. 0.]\n",
      " [0. 0. 0. ... 0. 0. 0.]\n",
      " [0. 0. 0. ... 0. 0. 1.]\n",
      " ...\n",
      " [0. 0. 0. ... 0. 0. 1.]\n",
      " [0. 0. 0. ... 0. 0. 0.]\n",
      " [0. 0. 0. ... 0. 0. 0.]]\n",
      "[[ nan  nan  nan ...  nan  nan  nan]\n",
      " [ nan  nan  nan ...  nan  nan -inf]\n",
      " [ nan  nan  nan ...  nan  nan   0.]\n",
      " ...\n",
      " [ nan  nan  nan ...  nan  nan   0.]\n",
      " [ nan  nan  nan ...  nan  nan  nan]\n",
      " [ nan  nan  nan ...  nan  nan  nan]]\n"
     ]
    },
    {
     "name": "stderr",
     "output_type": "stream",
     "text": [
      "\r",
      " 90%|█████████ | 9/10 [00:03<00:00,  2.59it/s]"
     ]
    },
    {
     "name": "stdout",
     "output_type": "stream",
     "text": [
      "[[0.00000000e+000 0.00000000e+000 2.94952700e-226 ... 0.00000000e+000\n",
      "  0.00000000e+000 0.00000000e+000]\n",
      " [0.00000000e+000 0.00000000e+000 1.00000000e+000 ... 0.00000000e+000\n",
      "  0.00000000e+000 0.00000000e+000]\n",
      " [0.00000000e+000 0.00000000e+000 1.77018821e-200 ... 0.00000000e+000\n",
      "  0.00000000e+000 0.00000000e+000]\n",
      " ...\n",
      " [0.00000000e+000 0.00000000e+000 2.44546217e-296 ... 0.00000000e+000\n",
      "  0.00000000e+000 0.00000000e+000]\n",
      " [0.00000000e+000 0.00000000e+000 1.00000000e+000 ... 0.00000000e+000\n",
      "  0.00000000e+000 0.00000000e+000]\n",
      " [0.00000000e+000 0.00000000e+000 1.00000000e+000 ... 0.00000000e+000\n",
      "  0.00000000e+000 0.00000000e+000]]\n",
      "[[ nan  nan  -0. ...  nan  nan  nan]\n",
      " [ nan  nan   0. ...  nan  nan -inf]\n",
      " [ nan  nan  -0. ...  nan  nan -inf]\n",
      " ...\n",
      " [ nan  nan  -0. ...  nan  nan  nan]\n",
      " [ nan  nan   0. ...  nan  nan  nan]\n",
      " [ nan  nan   0. ...  nan  nan  nan]]\n"
     ]
    },
    {
     "name": "stderr",
     "output_type": "stream",
     "text": [
      "100%|██████████| 10/10 [00:03<00:00,  2.67it/s]\n",
      " 10%|█         | 1/10 [00:00<00:02,  3.37it/s]"
     ]
    },
    {
     "name": "stdout",
     "output_type": "stream",
     "text": [
      "[[0.00000000e+000 0.00000000e+000 0.00000000e+000 ... 0.00000000e+000\n",
      "  0.00000000e+000 0.00000000e+000]\n",
      " [0.00000000e+000 0.00000000e+000 0.00000000e+000 ... 0.00000000e+000\n",
      "  0.00000000e+000 0.00000000e+000]\n",
      " [0.00000000e+000 0.00000000e+000 0.00000000e+000 ... 0.00000000e+000\n",
      "  0.00000000e+000 0.00000000e+000]\n",
      " ...\n",
      " [0.00000000e+000 0.00000000e+000 0.00000000e+000 ... 0.00000000e+000\n",
      "  0.00000000e+000 0.00000000e+000]\n",
      " [0.00000000e+000 0.00000000e+000 0.00000000e+000 ... 0.00000000e+000\n",
      "  0.00000000e+000 0.00000000e+000]\n",
      " [0.00000000e+000 0.00000000e+000 0.00000000e+000 ... 2.56566717e-153\n",
      "  0.00000000e+000 0.00000000e+000]]\n",
      "[[ nan  nan  nan ...  nan  nan  nan]\n",
      " [ nan  nan  nan ...  nan  nan -inf]\n",
      " [ nan  nan  nan ...  nan  nan -inf]\n",
      " ...\n",
      " [ nan  nan  nan ...  nan  nan  nan]\n",
      " [ nan  nan  nan ...  nan  nan  nan]\n",
      " [ nan  nan  nan ...  -0.  nan  nan]]\n",
      "Epoch 0, Loss [[nan nan nan ... nan nan nan]\n",
      " [nan nan nan ... nan nan inf]\n",
      " [nan nan nan ... nan nan inf]\n",
      " ...\n",
      " [nan nan nan ... nan nan nan]\n",
      " [nan nan nan ... nan nan nan]\n",
      " [nan nan nan ...  0. nan nan]]\n"
     ]
    },
    {
     "name": "stderr",
     "output_type": "stream",
     "text": [
      "\r",
      " 20%|██        | 2/10 [00:00<00:02,  3.37it/s]"
     ]
    },
    {
     "name": "stdout",
     "output_type": "stream",
     "text": [
      "[[0.00000000e+000 0.00000000e+000 0.00000000e+000 ... 7.50582520e-247\n",
      "  0.00000000e+000 0.00000000e+000]\n",
      " [0.00000000e+000 9.09576409e-308 0.00000000e+000 ... 0.00000000e+000\n",
      "  0.00000000e+000 0.00000000e+000]\n",
      " [0.00000000e+000 0.00000000e+000 0.00000000e+000 ... 0.00000000e+000\n",
      "  0.00000000e+000 1.00000000e+000]\n",
      " ...\n",
      " [0.00000000e+000 0.00000000e+000 0.00000000e+000 ... 0.00000000e+000\n",
      "  0.00000000e+000 0.00000000e+000]\n",
      " [0.00000000e+000 0.00000000e+000 0.00000000e+000 ... 5.70148197e-266\n",
      "  0.00000000e+000 0.00000000e+000]\n",
      " [0.00000000e+000 0.00000000e+000 0.00000000e+000 ... 2.49164860e-096\n",
      "  0.00000000e+000 0.00000000e+000]]\n",
      "[[ nan  nan  nan ...  -0.  nan  nan]\n",
      " [ nan  -0.  nan ...  nan  nan -inf]\n",
      " [ nan  nan  nan ...  nan  nan   0.]\n",
      " ...\n",
      " [ nan  nan  nan ...  nan  nan  nan]\n",
      " [ nan  nan  nan ...  -0.  nan  nan]\n",
      " [ nan  nan  nan ...  -0.  nan  nan]]\n",
      "[[0.00000000e+000 1.00000000e+000 0.00000000e+000 ... 0.00000000e+000\n",
      "  0.00000000e+000 0.00000000e+000]\n",
      " [0.00000000e+000 1.00000000e+000 0.00000000e+000 ... 0.00000000e+000\n",
      "  1.00000000e+000 0.00000000e+000]\n",
      " [1.00000000e+000 2.98074702e-078 0.00000000e+000 ... 0.00000000e+000\n",
      "  1.00000000e+000 1.00000000e+000]\n",
      " ...\n",
      " [0.00000000e+000 1.00000000e+000 0.00000000e+000 ... 0.00000000e+000\n",
      "  1.00000000e+000 1.00000000e+000]\n",
      " [0.00000000e+000 2.76021749e-237 0.00000000e+000 ... 0.00000000e+000\n",
      "  0.00000000e+000 0.00000000e+000]\n",
      " [0.00000000e+000 2.01638427e-082 0.00000000e+000 ... 0.00000000e+000\n",
      "  0.00000000e+000 0.00000000e+000]]\n"
     ]
    },
    {
     "name": "stderr",
     "output_type": "stream",
     "text": [
      "\r",
      " 30%|███       | 3/10 [00:00<00:01,  3.91it/s]"
     ]
    },
    {
     "name": "stdout",
     "output_type": "stream",
     "text": [
      "[[ nan   0.  nan ...  nan  nan  nan]\n",
      " [ nan   0.  nan ...  nan   0. -inf]\n",
      " [  0.  -0.  nan ...  nan   0.   0.]\n",
      " ...\n",
      " [ nan   0.  nan ...  nan   0.   0.]\n",
      " [ nan  -0.  nan ...  nan  nan  nan]\n",
      " [ nan  -0.  nan ...  nan  nan  nan]]\n",
      "[[0.00000000e+000 0.00000000e+000 0.00000000e+000 ... 1.00000000e+000\n",
      "  0.00000000e+000 0.00000000e+000]\n",
      " [0.00000000e+000 0.00000000e+000 0.00000000e+000 ... 1.27898351e-138\n",
      "  0.00000000e+000 0.00000000e+000]\n",
      " [0.00000000e+000 0.00000000e+000 0.00000000e+000 ... 0.00000000e+000\n",
      "  0.00000000e+000 0.00000000e+000]\n",
      " ...\n",
      " [0.00000000e+000 0.00000000e+000 0.00000000e+000 ... 1.99341930e-239\n",
      "  0.00000000e+000 0.00000000e+000]\n",
      " [0.00000000e+000 0.00000000e+000 0.00000000e+000 ... 1.00000000e+000\n",
      "  0.00000000e+000 0.00000000e+000]\n",
      " [0.00000000e+000 0.00000000e+000 0.00000000e+000 ... 1.00000000e+000\n",
      "  0.00000000e+000 0.00000000e+000]]\n"
     ]
    },
    {
     "name": "stderr",
     "output_type": "stream",
     "text": [
      "\r",
      " 40%|████      | 4/10 [00:01<00:01,  3.70it/s]"
     ]
    },
    {
     "name": "stdout",
     "output_type": "stream",
     "text": [
      "[[ nan  nan  nan ...   0.  nan  nan]\n",
      " [ nan  nan  nan ...  -0.  nan -inf]\n",
      " [ nan  nan  nan ...  nan  nan -inf]\n",
      " ...\n",
      " [ nan  nan  nan ...  -0.  nan  nan]\n",
      " [ nan  nan  nan ...   0.  nan  nan]\n",
      " [ nan  nan  nan ...   0.  nan  nan]]\n"
     ]
    },
    {
     "name": "stderr",
     "output_type": "stream",
     "text": [
      "\r",
      " 50%|█████     | 5/10 [00:01<00:01,  3.94it/s]"
     ]
    },
    {
     "name": "stdout",
     "output_type": "stream",
     "text": [
      "[[0. 0. 0. ... 0. 0. 0.]\n",
      " [0. 0. 0. ... 0. 0. 0.]\n",
      " [0. 0. 0. ... 0. 0. 0.]\n",
      " ...\n",
      " [0. 0. 0. ... 0. 0. 0.]\n",
      " [0. 0. 0. ... 0. 0. 0.]\n",
      " [0. 0. 0. ... 0. 0. 0.]]\n",
      "[[ nan  nan  nan ...  nan  nan  nan]\n",
      " [ nan  nan  nan ...  nan  nan -inf]\n",
      " [ nan  nan  nan ...  nan  nan -inf]\n",
      " ...\n",
      " [ nan  nan  nan ...  nan  nan  nan]\n",
      " [ nan  nan  nan ...  nan  nan  nan]\n",
      " [ nan  nan  nan ...  nan  nan  nan]]\n",
      "[[0. 0. 0. ... 0. 0. 0.]\n",
      " [0. 0. 0. ... 0. 0. 0.]\n",
      " [0. 0. 0. ... 0. 0. 1.]\n",
      " ...\n",
      " [0. 0. 0. ... 0. 0. 1.]\n",
      " [0. 0. 0. ... 0. 0. 0.]\n",
      " [0. 0. 0. ... 0. 0. 0.]]\n",
      "[[ nan  nan  nan ...  nan  nan  nan]\n",
      " [ nan  nan  nan ...  nan  nan -inf]\n",
      " [ nan  nan  nan ...  nan  nan   0.]\n",
      " ...\n",
      " [ nan  nan  nan ...  nan  nan   0.]\n",
      " [ nan  nan  nan ...  nan  nan  nan]\n",
      " [ nan  nan  nan ...  nan  nan  nan]]\n"
     ]
    },
    {
     "name": "stderr",
     "output_type": "stream",
     "text": [
      " 70%|███████   | 7/10 [00:01<00:00,  3.77it/s]"
     ]
    },
    {
     "name": "stdout",
     "output_type": "stream",
     "text": [
      "[[0.00000000e+000 0.00000000e+000 1.94871575e-172 ... 0.00000000e+000\n",
      "  0.00000000e+000 0.00000000e+000]\n",
      " [0.00000000e+000 0.00000000e+000 1.00000000e+000 ... 0.00000000e+000\n",
      "  1.00000000e+000 0.00000000e+000]\n",
      " [2.58961625e-050 0.00000000e+000 4.55163298e-248 ... 0.00000000e+000\n",
      "  1.00000000e+000 0.00000000e+000]\n",
      " ...\n",
      " [0.00000000e+000 0.00000000e+000 1.70398314e-297 ... 0.00000000e+000\n",
      "  8.74935417e-075 0.00000000e+000]\n",
      " [0.00000000e+000 0.00000000e+000 1.00000000e+000 ... 0.00000000e+000\n",
      "  0.00000000e+000 0.00000000e+000]\n",
      " [0.00000000e+000 0.00000000e+000 1.00000000e+000 ... 0.00000000e+000\n",
      "  0.00000000e+000 0.00000000e+000]]\n",
      "[[ nan  nan  -0. ...  nan  nan  nan]\n",
      " [ nan  nan   0. ...  nan   0. -inf]\n",
      " [ -0.  nan  -0. ...  nan   0. -inf]\n",
      " ...\n",
      " [ nan  nan  -0. ...  nan  -0.  nan]\n",
      " [ nan  nan   0. ...  nan  nan  nan]\n",
      " [ nan  nan   0. ...  nan  nan  nan]]\n",
      "[[0.00000000e+000 1.74496931e-177 0.00000000e+000 ... 0.00000000e+000\n",
      "  0.00000000e+000 0.00000000e+000]\n",
      " [0.00000000e+000 1.00000000e+000 0.00000000e+000 ... 0.00000000e+000\n",
      "  0.00000000e+000 0.00000000e+000]\n",
      " [0.00000000e+000 0.00000000e+000 0.00000000e+000 ... 0.00000000e+000\n",
      "  0.00000000e+000 1.00000000e+000]\n",
      " ...\n",
      " [0.00000000e+000 0.00000000e+000 0.00000000e+000 ... 0.00000000e+000\n",
      "  0.00000000e+000 1.00000000e+000]\n",
      " [0.00000000e+000 0.00000000e+000 0.00000000e+000 ... 0.00000000e+000\n",
      "  0.00000000e+000 0.00000000e+000]\n",
      " [0.00000000e+000 0.00000000e+000 0.00000000e+000 ... 0.00000000e+000\n",
      "  0.00000000e+000 0.00000000e+000]]\n",
      "[[ nan  -0.  nan ...  nan  nan  nan]\n",
      " [ nan   0.  nan ...  nan  nan -inf]\n",
      " [ nan  nan  nan ...  nan  nan   0.]\n",
      " ...\n",
      " [ nan  nan  nan ...  nan  nan   0.]\n",
      " [ nan  nan  nan ...  nan  nan  nan]\n",
      " [ nan  nan  nan ...  nan  nan  nan]]\n"
     ]
    },
    {
     "name": "stderr",
     "output_type": "stream",
     "text": [
      " 90%|█████████ | 9/10 [00:02<00:00,  4.34it/s]"
     ]
    },
    {
     "name": "stdout",
     "output_type": "stream",
     "text": [
      "[[0.00000000e+000 1.00000000e+000 0.00000000e+000 ... 0.00000000e+000\n",
      "  0.00000000e+000 0.00000000e+000]\n",
      " [0.00000000e+000 1.00000000e+000 0.00000000e+000 ... 0.00000000e+000\n",
      "  0.00000000e+000 0.00000000e+000]\n",
      " [1.00000000e+000 0.00000000e+000 0.00000000e+000 ... 0.00000000e+000\n",
      "  0.00000000e+000 0.00000000e+000]\n",
      " ...\n",
      " [0.00000000e+000 4.57103080e-174 0.00000000e+000 ... 0.00000000e+000\n",
      "  0.00000000e+000 0.00000000e+000]\n",
      " [0.00000000e+000 0.00000000e+000 0.00000000e+000 ... 0.00000000e+000\n",
      "  0.00000000e+000 0.00000000e+000]\n",
      " [0.00000000e+000 1.75177384e-283 0.00000000e+000 ... 0.00000000e+000\n",
      "  0.00000000e+000 0.00000000e+000]]\n",
      "[[ nan   0.  nan ...  nan  nan  nan]\n",
      " [ nan   0.  nan ...  nan  nan -inf]\n",
      " [  0.  nan  nan ...  nan  nan -inf]\n",
      " ...\n",
      " [ nan  -0.  nan ...  nan  nan  nan]\n",
      " [ nan  nan  nan ...  nan  nan  nan]\n",
      " [ nan  -0.  nan ...  nan  nan  nan]]\n"
     ]
    },
    {
     "name": "stderr",
     "output_type": "stream",
     "text": [
      "100%|██████████| 10/10 [00:02<00:00,  3.72it/s]"
     ]
    },
    {
     "name": "stdout",
     "output_type": "stream",
     "text": [
      "[[0. 0. 0. ... 0. 0. 0.]\n",
      " [0. 0. 0. ... 0. 0. 0.]\n",
      " [0. 0. 0. ... 0. 0. 1.]\n",
      " ...\n",
      " [0. 0. 0. ... 0. 0. 1.]\n",
      " [0. 0. 0. ... 0. 0. 0.]\n",
      " [0. 0. 0. ... 0. 0. 0.]]\n",
      "[[ nan  nan  nan ...  nan  nan  nan]\n",
      " [ nan  nan  nan ...  nan  nan -inf]\n",
      " [ nan  nan  nan ...  nan  nan   0.]\n",
      " ...\n",
      " [ nan  nan  nan ...  nan  nan   0.]\n",
      " [ nan  nan  nan ...  nan  nan  nan]\n",
      " [ nan  nan  nan ...  nan  nan  nan]]\n"
     ]
    },
    {
     "name": "stderr",
     "output_type": "stream",
     "text": [
      "\n",
      "  0%|          | 0/10 [00:00<?, ?it/s]"
     ]
    },
    {
     "name": "stdout",
     "output_type": "stream",
     "text": [
      "[[0.00000000e+000 1.99973276e-279 0.00000000e+000 ... 1.00000000e+000\n",
      "  0.00000000e+000 0.00000000e+000]\n",
      " [0.00000000e+000 9.99998785e-001 0.00000000e+000 ... 3.39841345e-274\n",
      "  1.00000000e+000 0.00000000e+000]\n",
      " [0.00000000e+000 0.00000000e+000 0.00000000e+000 ... 0.00000000e+000\n",
      "  1.00000000e+000 0.00000000e+000]\n",
      " ...\n",
      " [0.00000000e+000 0.00000000e+000 0.00000000e+000 ... 0.00000000e+000\n",
      "  4.69380238e-154 0.00000000e+000]\n",
      " [0.00000000e+000 0.00000000e+000 0.00000000e+000 ... 1.00000000e+000\n",
      "  0.00000000e+000 0.00000000e+000]\n",
      " [0.00000000e+000 0.00000000e+000 0.00000000e+000 ... 1.00000000e+000\n",
      "  0.00000000e+000 0.00000000e+000]]\n",
      "[[ nan  -0.  nan ...   0.  nan  nan]\n",
      " [ nan  -0.  nan ...  -0.   0. -inf]\n",
      " [ nan  nan  nan ...  nan   0. -inf]\n",
      " ...\n",
      " [ nan  nan  nan ...  nan  -0.  nan]\n",
      " [ nan  nan  nan ...   0.  nan  nan]\n",
      " [ nan  nan  nan ...   0.  nan  nan]]\n"
     ]
    },
    {
     "name": "stderr",
     "output_type": "stream",
     "text": [
      "\r",
      " 10%|█         | 1/10 [00:00<00:06,  1.35it/s]"
     ]
    },
    {
     "name": "stdout",
     "output_type": "stream",
     "text": [
      "Epoch 0, Loss [[      nan 0.              nan ...       inf       nan       nan]\n",
      " [      nan 0.0027241       nan ... 0.              inf       inf]\n",
      " [      nan       nan       nan ...       nan       inf       inf]\n",
      " ...\n",
      " [      nan       nan       nan ...       nan 0.              nan]\n",
      " [      nan       nan       nan ...       inf       nan       nan]\n",
      " [      nan       nan       nan ...       inf       nan       nan]]\n",
      "[[0.00000000e+000 1.00000000e+000 0.00000000e+000 ... 0.00000000e+000\n",
      "  0.00000000e+000 0.00000000e+000]\n",
      " [0.00000000e+000 1.00000000e+000 0.00000000e+000 ... 0.00000000e+000\n",
      "  0.00000000e+000 0.00000000e+000]\n",
      " [0.00000000e+000 4.36655245e-258 0.00000000e+000 ... 0.00000000e+000\n",
      "  0.00000000e+000 1.00000000e+000]\n",
      " ...\n",
      " [0.00000000e+000 3.42632026e-005 0.00000000e+000 ... 0.00000000e+000\n",
      "  0.00000000e+000 8.64881382e-107]\n",
      " [0.00000000e+000 0.00000000e+000 0.00000000e+000 ... 0.00000000e+000\n",
      "  0.00000000e+000 0.00000000e+000]\n",
      " [0.00000000e+000 1.07068179e-156 0.00000000e+000 ... 0.00000000e+000\n",
      "  0.00000000e+000 0.00000000e+000]]\n",
      "[[ nan   0.  nan ...  nan  nan  nan]\n",
      " [ nan   0.  nan ...  nan  nan -inf]\n",
      " [ nan  -0.  nan ...  nan  nan   0.]\n",
      " ...\n",
      " [ nan  -0.  nan ...  nan  nan  -0.]\n",
      " [ nan  nan  nan ...  nan  nan  nan]\n",
      " [ nan  -0.  nan ...  nan  nan  nan]]\n"
     ]
    },
    {
     "name": "stderr",
     "output_type": "stream",
     "text": [
      " 30%|███       | 3/10 [00:01<00:02,  2.59it/s]"
     ]
    },
    {
     "name": "stdout",
     "output_type": "stream",
     "text": [
      "[[0.00000000e+000 0.00000000e+000 0.00000000e+000 ... 0.00000000e+000\n",
      "  0.00000000e+000 0.00000000e+000]\n",
      " [3.55491269e-124 0.00000000e+000 0.00000000e+000 ... 0.00000000e+000\n",
      "  0.00000000e+000 0.00000000e+000]\n",
      " [1.00000000e+000 0.00000000e+000 0.00000000e+000 ... 0.00000000e+000\n",
      "  0.00000000e+000 1.00000000e+000]\n",
      " ...\n",
      " [0.00000000e+000 0.00000000e+000 0.00000000e+000 ... 0.00000000e+000\n",
      "  0.00000000e+000 1.00000000e+000]\n",
      " [2.11921082e-270 0.00000000e+000 0.00000000e+000 ... 0.00000000e+000\n",
      "  0.00000000e+000 0.00000000e+000]\n",
      " [7.76898861e-082 0.00000000e+000 0.00000000e+000 ... 0.00000000e+000\n",
      "  0.00000000e+000 0.00000000e+000]]\n",
      "[[ nan  nan  nan ...  nan  nan  nan]\n",
      " [ -0.  nan  nan ...  nan  nan -inf]\n",
      " [  0.  nan  nan ...  nan  nan   0.]\n",
      " ...\n",
      " [ nan  nan  nan ...  nan  nan   0.]\n",
      " [ -0.  nan  nan ...  nan  nan  nan]\n",
      " [ -0.  nan  nan ...  nan  nan  nan]]\n",
      "[[0.00000000e+000 0.00000000e+000 1.50193247e-172 ... 0.00000000e+000\n",
      "  0.00000000e+000 0.00000000e+000]\n",
      " [0.00000000e+000 0.00000000e+000 1.00000000e+000 ... 0.00000000e+000\n",
      "  1.00000000e+000 0.00000000e+000]\n",
      " [0.00000000e+000 0.00000000e+000 0.00000000e+000 ... 0.00000000e+000\n",
      "  1.00000000e+000 0.00000000e+000]\n",
      " ...\n",
      " [0.00000000e+000 0.00000000e+000 0.00000000e+000 ... 0.00000000e+000\n",
      "  0.00000000e+000 0.00000000e+000]\n",
      " [0.00000000e+000 0.00000000e+000 1.00000000e+000 ... 0.00000000e+000\n",
      "  0.00000000e+000 0.00000000e+000]\n",
      " [0.00000000e+000 0.00000000e+000 1.00000000e+000 ... 0.00000000e+000\n",
      "  0.00000000e+000 0.00000000e+000]]\n",
      "[[ nan  nan  -0. ...  nan  nan  nan]\n",
      " [ nan  nan   0. ...  nan   0. -inf]\n",
      " [ nan  nan  nan ...  nan   0. -inf]\n",
      " ...\n",
      " [ nan  nan  nan ...  nan  nan  nan]\n",
      " [ nan  nan   0. ...  nan  nan  nan]\n",
      " [ nan  nan   0. ...  nan  nan  nan]]\n"
     ]
    },
    {
     "name": "stderr",
     "output_type": "stream",
     "text": [
      "\r",
      " 40%|████      | 4/10 [00:01<00:02,  2.46it/s]"
     ]
    },
    {
     "name": "stdout",
     "output_type": "stream",
     "text": [
      "[[0.00000000e+00 0.00000000e+00 0.00000000e+00 ... 0.00000000e+00\n",
      "  0.00000000e+00 0.00000000e+00]\n",
      " [0.00000000e+00 0.00000000e+00 0.00000000e+00 ... 0.00000000e+00\n",
      "  0.00000000e+00 0.00000000e+00]\n",
      " [0.00000000e+00 0.00000000e+00 0.00000000e+00 ... 0.00000000e+00\n",
      "  0.00000000e+00 1.00000000e+00]\n",
      " ...\n",
      " [0.00000000e+00 0.00000000e+00 0.00000000e+00 ... 0.00000000e+00\n",
      "  0.00000000e+00 7.79102328e-18]\n",
      " [0.00000000e+00 0.00000000e+00 0.00000000e+00 ... 0.00000000e+00\n",
      "  0.00000000e+00 0.00000000e+00]\n",
      " [0.00000000e+00 0.00000000e+00 0.00000000e+00 ... 0.00000000e+00\n",
      "  0.00000000e+00 0.00000000e+00]]\n",
      "[[ nan  nan  nan ...  nan  nan  nan]\n",
      " [ nan  nan  nan ...  nan  nan -inf]\n",
      " [ nan  nan  nan ...  nan  nan   0.]\n",
      " ...\n",
      " [ nan  nan  nan ...  nan  nan  -0.]\n",
      " [ nan  nan  nan ...  nan  nan  nan]\n",
      " [ nan  nan  nan ...  nan  nan  nan]]\n"
     ]
    },
    {
     "name": "stderr",
     "output_type": "stream",
     "text": [
      " 60%|██████    | 6/10 [00:02<00:01,  2.78it/s]"
     ]
    },
    {
     "name": "stdout",
     "output_type": "stream",
     "text": [
      "[[0.00000000e+000 1.00000000e+000 0.00000000e+000 ... 0.00000000e+000\n",
      "  0.00000000e+000 0.00000000e+000]\n",
      " [0.00000000e+000 1.00000000e+000 0.00000000e+000 ... 0.00000000e+000\n",
      "  1.00000000e+000 0.00000000e+000]\n",
      " [0.00000000e+000 4.75832622e-218 0.00000000e+000 ... 0.00000000e+000\n",
      "  1.00000000e+000 1.00000000e+000]\n",
      " ...\n",
      " [0.00000000e+000 1.00000000e+000 0.00000000e+000 ... 0.00000000e+000\n",
      "  5.22242377e-089 1.00000000e+000]\n",
      " [0.00000000e+000 0.00000000e+000 0.00000000e+000 ... 0.00000000e+000\n",
      "  0.00000000e+000 0.00000000e+000]\n",
      " [0.00000000e+000 1.49607530e-121 0.00000000e+000 ... 0.00000000e+000\n",
      "  0.00000000e+000 0.00000000e+000]]\n",
      "[[ nan   0.  nan ...  nan  nan  nan]\n",
      " [ nan   0.  nan ...  nan   0. -inf]\n",
      " [ nan  -0.  nan ...  nan   0.   0.]\n",
      " ...\n",
      " [ nan   0.  nan ...  nan  -0.   0.]\n",
      " [ nan  nan  nan ...  nan  nan  nan]\n",
      " [ nan  -0.  nan ...  nan  nan  nan]]\n",
      "[[0.00000000e+000 0.00000000e+000 0.00000000e+000 ... 1.00000000e+000\n",
      "  0.00000000e+000 0.00000000e+000]\n",
      " [0.00000000e+000 0.00000000e+000 0.00000000e+000 ... 7.37340204e-253\n",
      "  0.00000000e+000 0.00000000e+000]\n",
      " [0.00000000e+000 0.00000000e+000 0.00000000e+000 ... 0.00000000e+000\n",
      "  0.00000000e+000 1.00000000e+000]\n",
      " ...\n",
      " [0.00000000e+000 0.00000000e+000 0.00000000e+000 ... 0.00000000e+000\n",
      "  0.00000000e+000 0.00000000e+000]\n",
      " [0.00000000e+000 0.00000000e+000 0.00000000e+000 ... 1.00000000e+000\n",
      "  0.00000000e+000 0.00000000e+000]\n",
      " [0.00000000e+000 0.00000000e+000 0.00000000e+000 ... 1.00000000e+000\n",
      "  0.00000000e+000 0.00000000e+000]]\n",
      "[[ nan  nan  nan ...   0.  nan  nan]\n",
      " [ nan  nan  nan ...  -0.  nan -inf]\n",
      " [ nan  nan  nan ...  nan  nan   0.]\n",
      " ...\n",
      " [ nan  nan  nan ...  nan  nan  nan]\n",
      " [ nan  nan  nan ...   0.  nan  nan]\n",
      " [ nan  nan  nan ...   0.  nan  nan]]\n"
     ]
    },
    {
     "name": "stderr",
     "output_type": "stream",
     "text": [
      " 80%|████████  | 8/10 [00:03<00:00,  2.88it/s]"
     ]
    },
    {
     "name": "stdout",
     "output_type": "stream",
     "text": [
      "[[0.00000000e+000 0.00000000e+000 0.00000000e+000 ... 0.00000000e+000\n",
      "  0.00000000e+000 1.00000000e+000]\n",
      " [0.00000000e+000 0.00000000e+000 0.00000000e+000 ... 0.00000000e+000\n",
      "  0.00000000e+000 2.82054083e-032]\n",
      " [0.00000000e+000 0.00000000e+000 0.00000000e+000 ... 0.00000000e+000\n",
      "  0.00000000e+000 1.00000000e+000]\n",
      " ...\n",
      " [0.00000000e+000 0.00000000e+000 0.00000000e+000 ... 0.00000000e+000\n",
      "  0.00000000e+000 1.00000000e+000]\n",
      " [0.00000000e+000 0.00000000e+000 0.00000000e+000 ... 0.00000000e+000\n",
      "  0.00000000e+000 1.65257191e-089]\n",
      " [0.00000000e+000 0.00000000e+000 0.00000000e+000 ... 0.00000000e+000\n",
      "  0.00000000e+000 8.36533580e-133]]\n",
      "[[         nan          nan          nan ...          nan          nan\n",
      "    0.        ]\n",
      " [         nan          nan          nan ...          nan          nan\n",
      "  -72.64579433]\n",
      " [         nan          nan          nan ...          nan          nan\n",
      "    0.        ]\n",
      " ...\n",
      " [         nan          nan          nan ...          nan          nan\n",
      "    0.        ]\n",
      " [         nan          nan          nan ...          nan          nan\n",
      "   -0.        ]\n",
      " [         nan          nan          nan ...          nan          nan\n",
      "   -0.        ]]\n"
     ]
    },
    {
     "name": "stderr",
     "output_type": "stream",
     "text": [
      "\r",
      " 90%|█████████ | 9/10 [00:03<00:00,  3.31it/s]"
     ]
    },
    {
     "name": "stdout",
     "output_type": "stream",
     "text": [
      "[[0.00000000e+00 0.00000000e+00 0.00000000e+00 ... 0.00000000e+00\n",
      "  0.00000000e+00 0.00000000e+00]\n",
      " [0.00000000e+00 0.00000000e+00 0.00000000e+00 ... 0.00000000e+00\n",
      "  0.00000000e+00 0.00000000e+00]\n",
      " [7.09453281e-07 0.00000000e+00 0.00000000e+00 ... 0.00000000e+00\n",
      "  0.00000000e+00 0.00000000e+00]\n",
      " ...\n",
      " [0.00000000e+00 0.00000000e+00 0.00000000e+00 ... 0.00000000e+00\n",
      "  0.00000000e+00 0.00000000e+00]\n",
      " [0.00000000e+00 0.00000000e+00 0.00000000e+00 ... 0.00000000e+00\n",
      "  0.00000000e+00 0.00000000e+00]\n",
      " [0.00000000e+00 0.00000000e+00 0.00000000e+00 ... 0.00000000e+00\n",
      "  0.00000000e+00 0.00000000e+00]]\n",
      "[[ nan  nan  nan ...  nan  nan  nan]\n",
      " [ nan  nan  nan ...  nan  nan -inf]\n",
      " [ -0.  nan  nan ...  nan  nan -inf]\n",
      " ...\n",
      " [ nan  nan  nan ...  nan  nan  nan]\n",
      " [ nan  nan  nan ...  nan  nan  nan]\n",
      " [ nan  nan  nan ...  nan  nan  nan]]\n",
      "[[0.00000000e+000 5.62086364e-124 0.00000000e+000 ... 0.00000000e+000\n",
      "  0.00000000e+000 0.00000000e+000]\n",
      " [0.00000000e+000 1.00000000e+000 0.00000000e+000 ... 0.00000000e+000\n",
      "  1.00000000e+000 0.00000000e+000]\n",
      " [0.00000000e+000 0.00000000e+000 0.00000000e+000 ... 0.00000000e+000\n",
      "  1.00000000e+000 0.00000000e+000]\n",
      " ...\n",
      " [0.00000000e+000 0.00000000e+000 0.00000000e+000 ... 0.00000000e+000\n",
      "  6.19595271e-101 0.00000000e+000]\n",
      " [0.00000000e+000 0.00000000e+000 1.13859319e-120 ... 0.00000000e+000\n",
      "  0.00000000e+000 0.00000000e+000]\n",
      " [0.00000000e+000 0.00000000e+000 0.00000000e+000 ... 0.00000000e+000\n",
      "  0.00000000e+000 0.00000000e+000]]\n",
      "[[ nan  -0.  nan ...  nan  nan  nan]\n",
      " [ nan   0.  nan ...  nan   0. -inf]\n",
      " [ nan  nan  nan ...  nan   0. -inf]\n",
      " ...\n",
      " [ nan  nan  nan ...  nan  -0.  nan]\n",
      " [ nan  nan  -0. ...  nan  nan  nan]\n",
      " [ nan  nan  nan ...  nan  nan  nan]]\n"
     ]
    },
    {
     "name": "stderr",
     "output_type": "stream",
     "text": [
      "100%|██████████| 10/10 [00:03<00:00,  2.62it/s]\n",
      "  0%|          | 0/10 [00:00<?, ?it/s]"
     ]
    },
    {
     "name": "stdout",
     "output_type": "stream",
     "text": [
      "[[0.00000000e+000 1.00000000e+000 2.02156452e-297 ... 0.00000000e+000\n",
      "  0.00000000e+000 0.00000000e+000]\n",
      " [0.00000000e+000 1.00000000e+000 1.00000000e+000 ... 0.00000000e+000\n",
      "  0.00000000e+000 0.00000000e+000]\n",
      " [1.00000000e+000 0.00000000e+000 0.00000000e+000 ... 0.00000000e+000\n",
      "  0.00000000e+000 0.00000000e+000]\n",
      " ...\n",
      " [0.00000000e+000 6.94331883e-281 0.00000000e+000 ... 0.00000000e+000\n",
      "  0.00000000e+000 0.00000000e+000]\n",
      " [0.00000000e+000 0.00000000e+000 1.00000000e+000 ... 0.00000000e+000\n",
      "  0.00000000e+000 0.00000000e+000]\n",
      " [0.00000000e+000 0.00000000e+000 1.00000000e+000 ... 0.00000000e+000\n",
      "  0.00000000e+000 0.00000000e+000]]\n",
      "[[ nan   0.  -0. ...  nan  nan  nan]\n",
      " [ nan   0.   0. ...  nan  nan -inf]\n",
      " [  0.  nan  nan ...  nan  nan -inf]\n",
      " ...\n",
      " [ nan  -0.  nan ...  nan  nan  nan]\n",
      " [ nan  nan   0. ...  nan  nan  nan]\n",
      " [ nan  nan   0. ...  nan  nan  nan]]\n"
     ]
    },
    {
     "name": "stderr",
     "output_type": "stream",
     "text": [
      "\r",
      " 10%|█         | 1/10 [00:00<00:03,  2.66it/s]"
     ]
    },
    {
     "name": "stdout",
     "output_type": "stream",
     "text": [
      "Epoch 0, Loss [[nan inf  0. ... nan nan nan]\n",
      " [nan inf inf ... nan nan inf]\n",
      " [inf nan nan ... nan nan inf]\n",
      " ...\n",
      " [nan  0. nan ... nan nan nan]\n",
      " [nan nan inf ... nan nan nan]\n",
      " [nan nan inf ... nan nan nan]]\n",
      "[[0. 0. 0. ... 0. 0. 0.]\n",
      " [0. 0. 0. ... 0. 0. 0.]\n",
      " [0. 0. 0. ... 0. 0. 0.]\n",
      " ...\n",
      " [0. 0. 0. ... 0. 0. 0.]\n",
      " [0. 0. 0. ... 0. 0. 0.]\n",
      " [0. 0. 0. ... 0. 0. 0.]]\n",
      "[[ nan  nan  nan ...  nan  nan  nan]\n",
      " [ nan  nan  nan ...  nan  nan -inf]\n",
      " [ nan  nan  nan ...  nan  nan -inf]\n",
      " ...\n",
      " [ nan  nan  nan ...  nan  nan  nan]\n",
      " [ nan  nan  nan ...  nan  nan  nan]\n",
      " [ nan  nan  nan ...  nan  nan  nan]]\n"
     ]
    },
    {
     "name": "stderr",
     "output_type": "stream",
     "text": [
      " 30%|███       | 3/10 [00:00<00:02,  3.13it/s]"
     ]
    },
    {
     "name": "stdout",
     "output_type": "stream",
     "text": [
      "[[0.00000000e+000 1.00000000e+000 0.00000000e+000 ... 1.00000000e+000\n",
      "  0.00000000e+000 0.00000000e+000]\n",
      " [0.00000000e+000 1.00000000e+000 0.00000000e+000 ... 9.29974879e-259\n",
      "  0.00000000e+000 0.00000000e+000]\n",
      " [0.00000000e+000 5.05257669e-305 0.00000000e+000 ... 0.00000000e+000\n",
      "  0.00000000e+000 1.00000000e+000]\n",
      " ...\n",
      " [0.00000000e+000 6.38843010e-034 0.00000000e+000 ... 0.00000000e+000\n",
      "  0.00000000e+000 8.54021347e-068]\n",
      " [0.00000000e+000 0.00000000e+000 0.00000000e+000 ... 1.00000000e+000\n",
      "  0.00000000e+000 0.00000000e+000]\n",
      " [0.00000000e+000 8.96108160e-151 0.00000000e+000 ... 1.00000000e+000\n",
      "  0.00000000e+000 0.00000000e+000]]\n",
      "[[ nan   0.  nan ...   0.  nan  nan]\n",
      " [ nan   0.  nan ...  -0.  nan -inf]\n",
      " [ nan  -0.  nan ...  nan  nan   0.]\n",
      " ...\n",
      " [ nan  -0.  nan ...  nan  nan  -0.]\n",
      " [ nan  nan  nan ...   0.  nan  nan]\n",
      " [ nan  -0.  nan ...   0.  nan  nan]]\n"
     ]
    },
    {
     "name": "stderr",
     "output_type": "stream",
     "text": [
      "\r",
      " 40%|████      | 4/10 [00:01<00:02,  2.85it/s]"
     ]
    },
    {
     "name": "stdout",
     "output_type": "stream",
     "text": [
      "[[0.00000000e+000 0.00000000e+000 0.00000000e+000 ... 0.00000000e+000\n",
      "  0.00000000e+000 0.00000000e+000]\n",
      " [0.00000000e+000 0.00000000e+000 0.00000000e+000 ... 0.00000000e+000\n",
      "  1.00000000e+000 0.00000000e+000]\n",
      " [1.66424108e-308 0.00000000e+000 0.00000000e+000 ... 0.00000000e+000\n",
      "  1.00000000e+000 1.00000000e+000]\n",
      " ...\n",
      " [0.00000000e+000 0.00000000e+000 0.00000000e+000 ... 0.00000000e+000\n",
      "  2.49815747e-191 1.00000000e+000]\n",
      " [0.00000000e+000 0.00000000e+000 0.00000000e+000 ... 0.00000000e+000\n",
      "  0.00000000e+000 0.00000000e+000]\n",
      " [0.00000000e+000 0.00000000e+000 0.00000000e+000 ... 0.00000000e+000\n",
      "  0.00000000e+000 0.00000000e+000]]\n",
      "[[ nan  nan  nan ...  nan  nan  nan]\n",
      " [ nan  nan  nan ...  nan   0. -inf]\n",
      " [ -0.  nan  nan ...  nan   0.   0.]\n",
      " ...\n",
      " [ nan  nan  nan ...  nan  -0.   0.]\n",
      " [ nan  nan  nan ...  nan  nan  nan]\n",
      " [ nan  nan  nan ...  nan  nan  nan]]\n"
     ]
    },
    {
     "name": "stderr",
     "output_type": "stream",
     "text": [
      "\r",
      " 50%|█████     | 5/10 [00:01<00:01,  2.70it/s]"
     ]
    },
    {
     "name": "stdout",
     "output_type": "stream",
     "text": [
      "[[0.00000000e+000 0.00000000e+000 0.00000000e+000 ... 0.00000000e+000\n",
      "  0.00000000e+000 0.00000000e+000]\n",
      " [0.00000000e+000 0.00000000e+000 0.00000000e+000 ... 0.00000000e+000\n",
      "  0.00000000e+000 0.00000000e+000]\n",
      " [0.00000000e+000 0.00000000e+000 0.00000000e+000 ... 0.00000000e+000\n",
      "  0.00000000e+000 6.49102043e-289]\n",
      " ...\n",
      " [0.00000000e+000 0.00000000e+000 0.00000000e+000 ... 0.00000000e+000\n",
      "  0.00000000e+000 0.00000000e+000]\n",
      " [0.00000000e+000 0.00000000e+000 0.00000000e+000 ... 0.00000000e+000\n",
      "  0.00000000e+000 0.00000000e+000]\n",
      " [0.00000000e+000 0.00000000e+000 0.00000000e+000 ... 0.00000000e+000\n",
      "  0.00000000e+000 0.00000000e+000]]\n",
      "[[          nan           nan           nan ...           nan\n",
      "            nan           nan]\n",
      " [          nan           nan           nan ...           nan\n",
      "            nan          -inf]\n",
      " [          nan           nan           nan ...           nan\n",
      "            nan -663.57667213]\n",
      " ...\n",
      " [          nan           nan           nan ...           nan\n",
      "            nan           nan]\n",
      " [          nan           nan           nan ...           nan\n",
      "            nan           nan]\n",
      " [          nan           nan           nan ...           nan\n",
      "            nan           nan]]\n",
      "[[0.00000000e+000 0.00000000e+000 0.00000000e+000 ... 0.00000000e+000\n",
      "  0.00000000e+000 3.20456280e-056]\n",
      " [0.00000000e+000 5.05005269e-274 0.00000000e+000 ... 0.00000000e+000\n",
      "  0.00000000e+000 4.88870510e-070]\n",
      " [1.00000000e+000 0.00000000e+000 0.00000000e+000 ... 0.00000000e+000\n",
      "  0.00000000e+000 1.00000000e+000]\n",
      " ...\n",
      " [0.00000000e+000 0.00000000e+000 0.00000000e+000 ... 0.00000000e+000\n",
      "  0.00000000e+000 1.00000000e+000]\n",
      " [0.00000000e+000 0.00000000e+000 1.00000000e+000 ... 0.00000000e+000\n",
      "  0.00000000e+000 5.72103229e-129]\n",
      " [0.00000000e+000 0.00000000e+000 3.32608694e-216 ... 0.00000000e+000\n",
      "  0.00000000e+000 1.73837460e-227]]\n",
      "[[          nan           nan           nan ...           nan\n",
      "            nan   -0.        ]\n",
      " [          nan   -0.                   nan ...           nan\n",
      "            nan -159.59402905]\n",
      " [   0.                   nan           nan ...           nan\n",
      "            nan    0.        ]\n",
      " ...\n",
      " [          nan           nan           nan ...           nan\n",
      "            nan    0.        ]\n",
      " [          nan           nan    0.         ...           nan\n",
      "            nan   -0.        ]\n",
      " [          nan           nan   -0.         ...           nan\n",
      "            nan   -0.        ]]\n"
     ]
    },
    {
     "name": "stderr",
     "output_type": "stream",
     "text": [
      "\r",
      " 60%|██████    | 6/10 [00:02<00:01,  2.63it/s]"
     ]
    },
    {
     "name": "stdout",
     "output_type": "stream",
     "text": [
      "[[0.00000000e+000 1.00000000e+000 0.00000000e+000 ... 0.00000000e+000\n",
      "  0.00000000e+000 0.00000000e+000]\n",
      " [0.00000000e+000 1.00000000e+000 0.00000000e+000 ... 0.00000000e+000\n",
      "  1.00000000e+000 0.00000000e+000]\n",
      " [0.00000000e+000 8.74014305e-123 0.00000000e+000 ... 0.00000000e+000\n",
      "  1.00000000e+000 0.00000000e+000]\n",
      " ...\n",
      " [0.00000000e+000 1.00000000e+000 0.00000000e+000 ... 0.00000000e+000\n",
      "  6.96390220e-165 0.00000000e+000]\n",
      " [0.00000000e+000 2.32686419e-232 1.00000000e+000 ... 0.00000000e+000\n",
      "  0.00000000e+000 0.00000000e+000]\n",
      " [0.00000000e+000 1.10304076e-056 5.67090372e-262 ... 0.00000000e+000\n",
      "  0.00000000e+000 0.00000000e+000]]\n",
      "[[ nan   0.  nan ...  nan  nan  nan]\n",
      " [ nan   0.  nan ...  nan   0. -inf]\n",
      " [ nan  -0.  nan ...  nan   0. -inf]\n",
      " ...\n",
      " [ nan   0.  nan ...  nan  -0.  nan]\n",
      " [ nan  -0.   0. ...  nan  nan  nan]\n",
      " [ nan  -0.  -0. ...  nan  nan  nan]]\n"
     ]
    },
    {
     "name": "stderr",
     "output_type": "stream",
     "text": [
      " 80%|████████  | 8/10 [00:02<00:00,  2.78it/s]"
     ]
    },
    {
     "name": "stdout",
     "output_type": "stream",
     "text": [
      "[[0.00000000e+000 0.00000000e+000 0.00000000e+000 ... 0.00000000e+000\n",
      "  0.00000000e+000 0.00000000e+000]\n",
      " [0.00000000e+000 0.00000000e+000 0.00000000e+000 ... 0.00000000e+000\n",
      "  0.00000000e+000 0.00000000e+000]\n",
      " [0.00000000e+000 0.00000000e+000 0.00000000e+000 ... 0.00000000e+000\n",
      "  0.00000000e+000 0.00000000e+000]\n",
      " ...\n",
      " [0.00000000e+000 0.00000000e+000 0.00000000e+000 ... 0.00000000e+000\n",
      "  0.00000000e+000 0.00000000e+000]\n",
      " [0.00000000e+000 0.00000000e+000 1.00000000e+000 ... 0.00000000e+000\n",
      "  0.00000000e+000 0.00000000e+000]\n",
      " [0.00000000e+000 0.00000000e+000 1.18566024e-146 ... 0.00000000e+000\n",
      "  0.00000000e+000 0.00000000e+000]]\n",
      "[[ nan  nan  nan ...  nan  nan  nan]\n",
      " [ nan  nan  nan ...  nan  nan -inf]\n",
      " [ nan  nan  nan ...  nan  nan -inf]\n",
      " ...\n",
      " [ nan  nan  nan ...  nan  nan  nan]\n",
      " [ nan  nan   0. ...  nan  nan  nan]\n",
      " [ nan  nan  -0. ...  nan  nan  nan]]\n"
     ]
    },
    {
     "name": "stderr",
     "output_type": "stream",
     "text": [
      "\r",
      " 90%|█████████ | 9/10 [00:03<00:00,  2.71it/s]"
     ]
    },
    {
     "name": "stdout",
     "output_type": "stream",
     "text": [
      "[[0.00000000e+000 0.00000000e+000 0.00000000e+000 ... 1.00000000e+000\n",
      "  0.00000000e+000 0.00000000e+000]\n",
      " [0.00000000e+000 0.00000000e+000 0.00000000e+000 ... 1.18346781e-273\n",
      "  0.00000000e+000 0.00000000e+000]\n",
      " [1.00000000e+000 0.00000000e+000 0.00000000e+000 ... 0.00000000e+000\n",
      "  0.00000000e+000 0.00000000e+000]\n",
      " ...\n",
      " [0.00000000e+000 0.00000000e+000 0.00000000e+000 ... 0.00000000e+000\n",
      "  0.00000000e+000 0.00000000e+000]\n",
      " [0.00000000e+000 0.00000000e+000 0.00000000e+000 ... 1.00000000e+000\n",
      "  0.00000000e+000 0.00000000e+000]\n",
      " [0.00000000e+000 0.00000000e+000 0.00000000e+000 ... 1.00000000e+000\n",
      "  0.00000000e+000 0.00000000e+000]]\n",
      "[[ nan  nan  nan ...   0.  nan  nan]\n",
      " [ nan  nan  nan ...  -0.  nan -inf]\n",
      " [  0.  nan  nan ...  nan  nan -inf]\n",
      " ...\n",
      " [ nan  nan  nan ...  nan  nan  nan]\n",
      " [ nan  nan  nan ...   0.  nan  nan]\n",
      " [ nan  nan  nan ...   0.  nan  nan]]\n"
     ]
    },
    {
     "name": "stderr",
     "output_type": "stream",
     "text": [
      "100%|██████████| 10/10 [00:03<00:00,  2.79it/s]"
     ]
    },
    {
     "name": "stdout",
     "output_type": "stream",
     "text": [
      "[[0.00000000e+000 0.00000000e+000 4.18846161e-294 ... 0.00000000e+000\n",
      "  0.00000000e+000 0.00000000e+000]\n",
      " [0.00000000e+000 0.00000000e+000 1.00000000e+000 ... 0.00000000e+000\n",
      "  1.00000000e+000 0.00000000e+000]\n",
      " [0.00000000e+000 0.00000000e+000 3.53443319e-182 ... 0.00000000e+000\n",
      "  1.00000000e+000 0.00000000e+000]\n",
      " ...\n",
      " [0.00000000e+000 0.00000000e+000 0.00000000e+000 ... 0.00000000e+000\n",
      "  0.00000000e+000 0.00000000e+000]\n",
      " [0.00000000e+000 0.00000000e+000 1.00000000e+000 ... 0.00000000e+000\n",
      "  0.00000000e+000 0.00000000e+000]\n",
      " [0.00000000e+000 0.00000000e+000 1.00000000e+000 ... 0.00000000e+000\n",
      "  0.00000000e+000 0.00000000e+000]]\n",
      "[[ nan  nan  -0. ...  nan  nan  nan]\n",
      " [ nan  nan   0. ...  nan   0. -inf]\n",
      " [ nan  nan  -0. ...  nan   0. -inf]\n",
      " ...\n",
      " [ nan  nan  nan ...  nan  nan  nan]\n",
      " [ nan  nan   0. ...  nan  nan  nan]\n",
      " [ nan  nan   0. ...  nan  nan  nan]]\n"
     ]
    },
    {
     "name": "stderr",
     "output_type": "stream",
     "text": [
      "\n",
      " 10%|█         | 1/10 [00:00<00:02,  3.41it/s]"
     ]
    },
    {
     "name": "stdout",
     "output_type": "stream",
     "text": [
      "[[0. 0. 0. ... 0. 0. 0.]\n",
      " [0. 0. 0. ... 0. 0. 0.]\n",
      " [0. 0. 0. ... 0. 0. 1.]\n",
      " ...\n",
      " [0. 0. 0. ... 0. 0. 1.]\n",
      " [0. 0. 0. ... 0. 0. 0.]\n",
      " [0. 0. 0. ... 0. 0. 0.]]\n",
      "[[ nan  nan  nan ...  nan  nan  nan]\n",
      " [ nan  nan  nan ...  nan  nan -inf]\n",
      " [ nan  nan  nan ...  nan  nan   0.]\n",
      " ...\n",
      " [ nan  nan  nan ...  nan  nan   0.]\n",
      " [ nan  nan  nan ...  nan  nan  nan]\n",
      " [ nan  nan  nan ...  nan  nan  nan]]\n",
      "Epoch 0, Loss [[nan nan nan ... nan nan nan]\n",
      " [nan nan nan ... nan nan inf]\n",
      " [nan nan nan ... nan nan nan]\n",
      " ...\n",
      " [nan nan nan ... nan nan inf]\n",
      " [nan nan nan ... nan nan nan]\n",
      " [nan nan nan ... nan nan nan]]\n"
     ]
    },
    {
     "name": "stderr",
     "output_type": "stream",
     "text": [
      "\r",
      " 20%|██        | 2/10 [00:00<00:02,  2.83it/s]"
     ]
    },
    {
     "name": "stdout",
     "output_type": "stream",
     "text": [
      "[[0.00000000e+000 1.94898379e-278 0.00000000e+000 ... 0.00000000e+000\n",
      "  0.00000000e+000 0.00000000e+000]\n",
      " [0.00000000e+000 1.00000000e+000 0.00000000e+000 ... 0.00000000e+000\n",
      "  1.00000000e+000 0.00000000e+000]\n",
      " [0.00000000e+000 0.00000000e+000 0.00000000e+000 ... 0.00000000e+000\n",
      "  1.00000000e+000 0.00000000e+000]\n",
      " ...\n",
      " [0.00000000e+000 0.00000000e+000 0.00000000e+000 ... 0.00000000e+000\n",
      "  0.00000000e+000 0.00000000e+000]\n",
      " [0.00000000e+000 0.00000000e+000 0.00000000e+000 ... 0.00000000e+000\n",
      "  0.00000000e+000 0.00000000e+000]\n",
      " [0.00000000e+000 0.00000000e+000 0.00000000e+000 ... 0.00000000e+000\n",
      "  0.00000000e+000 0.00000000e+000]]\n",
      "[[ nan  -0.  nan ...  nan  nan  nan]\n",
      " [ nan   0.  nan ...  nan   0. -inf]\n",
      " [ nan  nan  nan ...  nan   0. -inf]\n",
      " ...\n",
      " [ nan  nan  nan ...  nan  nan  nan]\n",
      " [ nan  nan  nan ...  nan  nan  nan]\n",
      " [ nan  nan  nan ...  nan  nan  nan]]\n",
      "[[0.00000000e+000 1.00000000e+000 0.00000000e+000 ... 0.00000000e+000\n",
      "  0.00000000e+000 0.00000000e+000]\n",
      " [0.00000000e+000 1.00000000e+000 0.00000000e+000 ... 0.00000000e+000\n",
      "  0.00000000e+000 0.00000000e+000]\n",
      " [1.00000000e+000 3.87807376e-289 0.00000000e+000 ... 0.00000000e+000\n",
      "  0.00000000e+000 2.72685064e-119]\n",
      " ...\n",
      " [0.00000000e+000 8.82985187e-035 0.00000000e+000 ... 0.00000000e+000\n",
      "  0.00000000e+000 0.00000000e+000]\n",
      " [0.00000000e+000 0.00000000e+000 0.00000000e+000 ... 0.00000000e+000\n",
      "  0.00000000e+000 0.00000000e+000]\n",
      " [0.00000000e+000 1.62725722e-187 0.00000000e+000 ... 0.00000000e+000\n",
      "  0.00000000e+000 0.00000000e+000]]\n",
      "[[          nan    0.                   nan ...           nan\n",
      "            nan           nan]\n",
      " [          nan    0.                   nan ...           nan\n",
      "            nan          -inf]\n",
      " [   0.           -0.                   nan ...           nan\n",
      "            nan -273.00447874]\n",
      " ...\n",
      " [          nan   -0.                   nan ...           nan\n",
      "            nan           nan]\n",
      " [          nan           nan           nan ...           nan\n",
      "            nan           nan]\n",
      " [          nan   -0.                   nan ...           nan\n",
      "            nan           nan]]\n"
     ]
    },
    {
     "name": "stderr",
     "output_type": "stream",
     "text": [
      " 40%|████      | 4/10 [00:01<00:02,  2.81it/s]"
     ]
    },
    {
     "name": "stdout",
     "output_type": "stream",
     "text": [
      "[[0.00000000e+000 0.00000000e+000 0.00000000e+000 ... 0.00000000e+000\n",
      "  0.00000000e+000 1.02038535e-181]\n",
      " [0.00000000e+000 0.00000000e+000 0.00000000e+000 ... 0.00000000e+000\n",
      "  1.00000000e+000 4.15876279e-177]\n",
      " [0.00000000e+000 0.00000000e+000 0.00000000e+000 ... 0.00000000e+000\n",
      "  1.00000000e+000 1.00000000e+000]\n",
      " ...\n",
      " [0.00000000e+000 0.00000000e+000 0.00000000e+000 ... 0.00000000e+000\n",
      "  0.00000000e+000 1.00000000e+000]\n",
      " [0.00000000e+000 0.00000000e+000 0.00000000e+000 ... 0.00000000e+000\n",
      "  0.00000000e+000 3.90212326e-237]\n",
      " [0.00000000e+000 0.00000000e+000 0.00000000e+000 ... 0.00000000e+000\n",
      "  0.00000000e+000 0.00000000e+000]]\n",
      "[[          nan           nan           nan ...           nan\n",
      "            nan   -0.        ]\n",
      " [          nan           nan           nan ...           nan\n",
      "     0.         -406.13234384]\n",
      " [          nan           nan           nan ...           nan\n",
      "     0.            0.        ]\n",
      " ...\n",
      " [          nan           nan           nan ...           nan\n",
      "            nan    0.        ]\n",
      " [          nan           nan           nan ...           nan\n",
      "            nan   -0.        ]\n",
      " [          nan           nan           nan ...           nan\n",
      "            nan           nan]]\n"
     ]
    },
    {
     "name": "stderr",
     "output_type": "stream",
     "text": [
      "\r",
      " 50%|█████     | 5/10 [00:01<00:01,  2.77it/s]"
     ]
    },
    {
     "name": "stdout",
     "output_type": "stream",
     "text": [
      "[[0.00000000e+000 0.00000000e+000 0.00000000e+000 ... 1.00000000e+000\n",
      "  0.00000000e+000 0.00000000e+000]\n",
      " [0.00000000e+000 0.00000000e+000 0.00000000e+000 ... 1.13148948e-278\n",
      "  0.00000000e+000 0.00000000e+000]\n",
      " [0.00000000e+000 0.00000000e+000 0.00000000e+000 ... 0.00000000e+000\n",
      "  0.00000000e+000 0.00000000e+000]\n",
      " ...\n",
      " [0.00000000e+000 0.00000000e+000 0.00000000e+000 ... 0.00000000e+000\n",
      "  0.00000000e+000 0.00000000e+000]\n",
      " [0.00000000e+000 0.00000000e+000 0.00000000e+000 ... 1.00000000e+000\n",
      "  0.00000000e+000 0.00000000e+000]\n",
      " [0.00000000e+000 0.00000000e+000 0.00000000e+000 ... 1.00000000e+000\n",
      "  0.00000000e+000 0.00000000e+000]]\n",
      "[[ nan  nan  nan ...   0.  nan  nan]\n",
      " [ nan  nan  nan ...  -0.  nan -inf]\n",
      " [ nan  nan  nan ...  nan  nan -inf]\n",
      " ...\n",
      " [ nan  nan  nan ...  nan  nan  nan]\n",
      " [ nan  nan  nan ...   0.  nan  nan]\n",
      " [ nan  nan  nan ...   0.  nan  nan]]\n"
     ]
    },
    {
     "name": "stderr",
     "output_type": "stream",
     "text": [
      "\r",
      " 60%|██████    | 6/10 [00:02<00:01,  3.10it/s]"
     ]
    },
    {
     "name": "stdout",
     "output_type": "stream",
     "text": [
      "[[0.00000000e+000 0.00000000e+000 0.00000000e+000 ... 0.00000000e+000\n",
      "  0.00000000e+000 0.00000000e+000]\n",
      " [0.00000000e+000 1.15912212e-069 0.00000000e+000 ... 0.00000000e+000\n",
      "  1.00000000e+000 0.00000000e+000]\n",
      " [2.47080569e-102 0.00000000e+000 0.00000000e+000 ... 0.00000000e+000\n",
      "  1.00000000e+000 0.00000000e+000]\n",
      " ...\n",
      " [0.00000000e+000 0.00000000e+000 0.00000000e+000 ... 0.00000000e+000\n",
      "  1.00000000e+000 0.00000000e+000]\n",
      " [0.00000000e+000 0.00000000e+000 2.80074316e-191 ... 0.00000000e+000\n",
      "  0.00000000e+000 0.00000000e+000]\n",
      " [0.00000000e+000 0.00000000e+000 0.00000000e+000 ... 0.00000000e+000\n",
      "  0.00000000e+000 0.00000000e+000]]\n",
      "[[ nan  nan  nan ...  nan  nan  nan]\n",
      " [ nan  -0.  nan ...  nan   0. -inf]\n",
      " [ -0.  nan  nan ...  nan   0. -inf]\n",
      " ...\n",
      " [ nan  nan  nan ...  nan   0.  nan]\n",
      " [ nan  nan  -0. ...  nan  nan  nan]\n",
      " [ nan  nan  nan ...  nan  nan  nan]]\n"
     ]
    },
    {
     "name": "stderr",
     "output_type": "stream",
     "text": [
      "\r",
      " 70%|███████   | 7/10 [00:02<00:00,  3.15it/s]"
     ]
    },
    {
     "name": "stdout",
     "output_type": "stream",
     "text": [
      "[[0.00000000e+000 1.00000000e+000 1.11533317e-270 ... 0.00000000e+000\n",
      "  0.00000000e+000 0.00000000e+000]\n",
      " [0.00000000e+000 1.00000000e+000 1.00000000e+000 ... 0.00000000e+000\n",
      "  0.00000000e+000 0.00000000e+000]\n",
      " [0.00000000e+000 1.60884760e-227 2.04950970e-287 ... 0.00000000e+000\n",
      "  0.00000000e+000 0.00000000e+000]\n",
      " ...\n",
      " [0.00000000e+000 1.00000000e+000 0.00000000e+000 ... 0.00000000e+000\n",
      "  0.00000000e+000 0.00000000e+000]\n",
      " [0.00000000e+000 0.00000000e+000 1.00000000e+000 ... 0.00000000e+000\n",
      "  0.00000000e+000 0.00000000e+000]\n",
      " [0.00000000e+000 7.46970815e-139 1.00000000e+000 ... 0.00000000e+000\n",
      "  0.00000000e+000 0.00000000e+000]]\n",
      "[[ nan   0.  -0. ...  nan  nan  nan]\n",
      " [ nan   0.   0. ...  nan  nan -inf]\n",
      " [ nan  -0.  -0. ...  nan  nan -inf]\n",
      " ...\n",
      " [ nan   0.  nan ...  nan  nan  nan]\n",
      " [ nan  nan   0. ...  nan  nan  nan]\n",
      " [ nan  -0.   0. ...  nan  nan  nan]]\n",
      "[[0.00000000e+000 0.00000000e+000 0.00000000e+000 ... 0.00000000e+000\n",
      "  0.00000000e+000 0.00000000e+000]\n",
      " [0.00000000e+000 0.00000000e+000 0.00000000e+000 ... 0.00000000e+000\n",
      "  0.00000000e+000 0.00000000e+000]\n",
      " [1.00000000e+000 0.00000000e+000 0.00000000e+000 ... 0.00000000e+000\n",
      "  0.00000000e+000 1.00000000e+000]\n",
      " ...\n",
      " [0.00000000e+000 0.00000000e+000 0.00000000e+000 ... 0.00000000e+000\n",
      "  0.00000000e+000 1.35370009e-208]\n",
      " [0.00000000e+000 0.00000000e+000 0.00000000e+000 ... 0.00000000e+000\n",
      "  0.00000000e+000 0.00000000e+000]\n",
      " [5.76294587e-208 0.00000000e+000 0.00000000e+000 ... 0.00000000e+000\n",
      "  0.00000000e+000 0.00000000e+000]]\n",
      "[[ nan  nan  nan ...  nan  nan  nan]\n",
      " [ nan  nan  nan ...  nan  nan -inf]\n",
      " [  0.  nan  nan ...  nan  nan   0.]\n",
      " ...\n",
      " [ nan  nan  nan ...  nan  nan  -0.]\n",
      " [ nan  nan  nan ...  nan  nan  nan]\n",
      " [ -0.  nan  nan ...  nan  nan  nan]]\n"
     ]
    },
    {
     "name": "stderr",
     "output_type": "stream",
     "text": [
      "\r",
      " 80%|████████  | 8/10 [00:02<00:00,  3.11it/s]"
     ]
    },
    {
     "name": "stdout",
     "output_type": "stream",
     "text": [
      "[[0. 0. 0. ... 0. 0. 0.]\n",
      " [0. 0. 0. ... 0. 0. 0.]\n",
      " [0. 0. 0. ... 0. 0. 1.]\n",
      " ...\n",
      " [0. 0. 0. ... 0. 0. 1.]\n",
      " [0. 0. 0. ... 0. 0. 0.]\n",
      " [0. 0. 0. ... 0. 0. 0.]]\n",
      "[[ nan  nan  nan ...  nan  nan  nan]\n",
      " [ nan  nan  nan ...  nan  nan -inf]\n",
      " [ nan  nan  nan ...  nan  nan   0.]\n",
      " ...\n",
      " [ nan  nan  nan ...  nan  nan   0.]\n",
      " [ nan  nan  nan ...  nan  nan  nan]\n",
      " [ nan  nan  nan ...  nan  nan  nan]]\n"
     ]
    },
    {
     "name": "stderr",
     "output_type": "stream",
     "text": [
      "\r",
      " 90%|█████████ | 9/10 [00:02<00:00,  3.04it/s]"
     ]
    },
    {
     "name": "stdout",
     "output_type": "stream",
     "text": [
      "[[0.00000000e+000 0.00000000e+000 0.00000000e+000 ... 0.00000000e+000\n",
      "  0.00000000e+000 0.00000000e+000]\n",
      " [0.00000000e+000 0.00000000e+000 0.00000000e+000 ... 0.00000000e+000\n",
      "  0.00000000e+000 0.00000000e+000]\n",
      " [0.00000000e+000 0.00000000e+000 0.00000000e+000 ... 0.00000000e+000\n",
      "  0.00000000e+000 0.00000000e+000]\n",
      " ...\n",
      " [0.00000000e+000 0.00000000e+000 0.00000000e+000 ... 0.00000000e+000\n",
      "  0.00000000e+000 0.00000000e+000]\n",
      " [0.00000000e+000 0.00000000e+000 0.00000000e+000 ... 0.00000000e+000\n",
      "  0.00000000e+000 0.00000000e+000]\n",
      " [0.00000000e+000 0.00000000e+000 0.00000000e+000 ... 8.57863177e-257\n",
      "  0.00000000e+000 0.00000000e+000]]\n",
      "[[ nan  nan  nan ...  nan  nan  nan]\n",
      " [ nan  nan  nan ...  nan  nan -inf]\n",
      " [ nan  nan  nan ...  nan  nan -inf]\n",
      " ...\n",
      " [ nan  nan  nan ...  nan  nan  nan]\n",
      " [ nan  nan  nan ...  nan  nan  nan]\n",
      " [ nan  nan  nan ...  -0.  nan  nan]]\n"
     ]
    },
    {
     "name": "stderr",
     "output_type": "stream",
     "text": [
      "100%|██████████| 10/10 [00:03<00:00,  2.90it/s]\n",
      "  0%|          | 0/10 [00:00<?, ?it/s]"
     ]
    },
    {
     "name": "stdout",
     "output_type": "stream",
     "text": [
      "[[0.00000000e+000 1.63746427e-039 0.00000000e+000 ... 1.00000000e+000\n",
      "  0.00000000e+000 0.00000000e+000]\n",
      " [0.00000000e+000 1.00000000e+000 0.00000000e+000 ... 0.00000000e+000\n",
      "  1.00000000e+000 0.00000000e+000]\n",
      " [0.00000000e+000 0.00000000e+000 0.00000000e+000 ... 0.00000000e+000\n",
      "  1.00000000e+000 5.06084486e-030]\n",
      " ...\n",
      " [0.00000000e+000 0.00000000e+000 0.00000000e+000 ... 0.00000000e+000\n",
      "  4.29171443e-288 0.00000000e+000]\n",
      " [0.00000000e+000 0.00000000e+000 0.00000000e+000 ... 1.00000000e+000\n",
      "  0.00000000e+000 0.00000000e+000]\n",
      " [0.00000000e+000 0.00000000e+000 0.00000000e+000 ... 1.00000000e+000\n",
      "  0.00000000e+000 0.00000000e+000]]\n",
      "[[         nan  -0.                  nan ...   0.                  nan\n",
      "           nan]\n",
      " [         nan   0.                  nan ...          nan   0.\n",
      "          -inf]\n",
      " [         nan          nan          nan ...          nan   0.\n",
      "  -67.45601935]\n",
      " ...\n",
      " [         nan          nan          nan ...          nan  -0.\n",
      "           nan]\n",
      " [         nan          nan          nan ...   0.                  nan\n",
      "           nan]\n",
      " [         nan          nan          nan ...   0.                  nan\n",
      "           nan]]\n",
      "Epoch 0, Loss [[      nan 0.              nan ...       inf       nan       nan]\n",
      " [      nan       inf       nan ...       nan       inf       inf]\n",
      " [      nan       nan       nan ...       nan       inf 0.0134912]\n",
      " ...\n",
      " [      nan       nan       nan ...       nan 0.              nan]\n",
      " [      nan       nan       nan ...       inf       nan       nan]\n",
      " [      nan       nan       nan ...       inf       nan       nan]]\n"
     ]
    },
    {
     "name": "stderr",
     "output_type": "stream",
     "text": [
      "\r",
      " 10%|█         | 1/10 [00:00<00:03,  2.83it/s]"
     ]
    },
    {
     "name": "stdout",
     "output_type": "stream",
     "text": [
      "[[0.00000000e+000 8.72241000e-194 0.00000000e+000 ... 0.00000000e+000\n",
      "  0.00000000e+000 1.44529016e-184]\n",
      " [0.00000000e+000 1.00000000e+000 0.00000000e+000 ... 0.00000000e+000\n",
      "  0.00000000e+000 1.00506090e-184]\n",
      " [0.00000000e+000 0.00000000e+000 0.00000000e+000 ... 0.00000000e+000\n",
      "  0.00000000e+000 1.00000000e+000]\n",
      " ...\n",
      " [0.00000000e+000 0.00000000e+000 0.00000000e+000 ... 0.00000000e+000\n",
      "  0.00000000e+000 1.00000000e+000]\n",
      " [0.00000000e+000 0.00000000e+000 0.00000000e+000 ... 0.00000000e+000\n",
      "  0.00000000e+000 1.21438690e-240]\n",
      " [0.00000000e+000 0.00000000e+000 0.00000000e+000 ... 0.00000000e+000\n",
      "  0.00000000e+000 0.00000000e+000]]\n",
      "[[          nan   -0.                   nan ...           nan\n",
      "            nan   -0.        ]\n",
      " [          nan    0.                   nan ...           nan\n",
      "            nan -423.67060897]\n",
      " [          nan           nan           nan ...           nan\n",
      "            nan    0.        ]\n",
      " ...\n",
      " [          nan           nan           nan ...           nan\n",
      "            nan    0.        ]\n",
      " [          nan           nan           nan ...           nan\n",
      "            nan   -0.        ]\n",
      " [          nan           nan           nan ...           nan\n",
      "            nan           nan]]\n"
     ]
    },
    {
     "name": "stderr",
     "output_type": "stream",
     "text": [
      "\r",
      " 20%|██        | 2/10 [00:01<00:07,  1.07it/s]"
     ]
    },
    {
     "name": "stdout",
     "output_type": "stream",
     "text": [
      "[[0.00000000e+000 1.00000000e+000 0.00000000e+000 ... 0.00000000e+000\n",
      "  0.00000000e+000 0.00000000e+000]\n",
      " [0.00000000e+000 1.00000000e+000 0.00000000e+000 ... 0.00000000e+000\n",
      "  0.00000000e+000 0.00000000e+000]\n",
      " [1.00000000e+000 0.00000000e+000 0.00000000e+000 ... 0.00000000e+000\n",
      "  0.00000000e+000 0.00000000e+000]\n",
      " ...\n",
      " [0.00000000e+000 1.46829810e-118 0.00000000e+000 ... 0.00000000e+000\n",
      "  0.00000000e+000 0.00000000e+000]\n",
      " [0.00000000e+000 0.00000000e+000 1.00000000e+000 ... 0.00000000e+000\n",
      "  0.00000000e+000 0.00000000e+000]\n",
      " [4.05458469e-208 5.93562898e-215 1.09442849e-201 ... 0.00000000e+000\n",
      "  0.00000000e+000 0.00000000e+000]]\n",
      "[[ nan   0.  nan ...  nan  nan  nan]\n",
      " [ nan   0.  nan ...  nan  nan -inf]\n",
      " [  0.  nan  nan ...  nan  nan -inf]\n",
      " ...\n",
      " [ nan  -0.  nan ...  nan  nan  nan]\n",
      " [ nan  nan   0. ...  nan  nan  nan]\n",
      " [ -0.  -0.  -0. ...  nan  nan  nan]]\n"
     ]
    },
    {
     "name": "stderr",
     "output_type": "stream",
     "text": [
      "\r",
      " 30%|███       | 3/10 [00:02<00:04,  1.50it/s]"
     ]
    },
    {
     "name": "stdout",
     "output_type": "stream",
     "text": [
      "[[0.00000000e+000 0.00000000e+000 0.00000000e+000 ... 0.00000000e+000\n",
      "  0.00000000e+000 0.00000000e+000]\n",
      " [0.00000000e+000 0.00000000e+000 0.00000000e+000 ... 0.00000000e+000\n",
      "  1.00000000e+000 0.00000000e+000]\n",
      " [0.00000000e+000 0.00000000e+000 0.00000000e+000 ... 0.00000000e+000\n",
      "  1.00000000e+000 0.00000000e+000]\n",
      " ...\n",
      " [0.00000000e+000 0.00000000e+000 0.00000000e+000 ... 0.00000000e+000\n",
      "  1.00000000e+000 0.00000000e+000]\n",
      " [0.00000000e+000 0.00000000e+000 1.00000000e+000 ... 0.00000000e+000\n",
      "  0.00000000e+000 0.00000000e+000]\n",
      " [0.00000000e+000 0.00000000e+000 3.34063216e-210 ... 0.00000000e+000\n",
      "  0.00000000e+000 0.00000000e+000]]\n",
      "[[ nan  nan  nan ...  nan  nan  nan]\n",
      " [ nan  nan  nan ...  nan   0. -inf]\n",
      " [ nan  nan  nan ...  nan   0. -inf]\n",
      " ...\n",
      " [ nan  nan  nan ...  nan   0.  nan]\n",
      " [ nan  nan   0. ...  nan  nan  nan]\n",
      " [ nan  nan  -0. ...  nan  nan  nan]]\n"
     ]
    },
    {
     "name": "stderr",
     "output_type": "stream",
     "text": [
      "\r",
      " 40%|████      | 4/10 [00:02<00:04,  1.41it/s]"
     ]
    },
    {
     "name": "stdout",
     "output_type": "stream",
     "text": [
      "[[0.00000000e+000 0.00000000e+000 0.00000000e+000 ... 1.00000000e+000\n",
      "  0.00000000e+000 0.00000000e+000]\n",
      " [0.00000000e+000 0.00000000e+000 0.00000000e+000 ... 2.43871915e-200\n",
      "  0.00000000e+000 0.00000000e+000]\n",
      " [0.00000000e+000 0.00000000e+000 0.00000000e+000 ... 0.00000000e+000\n",
      "  0.00000000e+000 0.00000000e+000]\n",
      " ...\n",
      " [0.00000000e+000 0.00000000e+000 0.00000000e+000 ... 0.00000000e+000\n",
      "  0.00000000e+000 0.00000000e+000]\n",
      " [0.00000000e+000 0.00000000e+000 1.00000000e+000 ... 1.00000000e+000\n",
      "  0.00000000e+000 0.00000000e+000]\n",
      " [0.00000000e+000 0.00000000e+000 1.73364315e-216 ... 1.00000000e+000\n",
      "  0.00000000e+000 0.00000000e+000]]\n",
      "[[ nan  nan  nan ...   0.  nan  nan]\n",
      " [ nan  nan  nan ...  -0.  nan -inf]\n",
      " [ nan  nan  nan ...  nan  nan -inf]\n",
      " ...\n",
      " [ nan  nan  nan ...  nan  nan  nan]\n",
      " [ nan  nan   0. ...   0.  nan  nan]\n",
      " [ nan  nan  -0. ...   0.  nan  nan]]\n"
     ]
    },
    {
     "name": "stderr",
     "output_type": "stream",
     "text": [
      "\r",
      " 50%|█████     | 5/10 [00:03<00:03,  1.63it/s]"
     ]
    },
    {
     "name": "stdout",
     "output_type": "stream",
     "text": [
      "[[0.00000000e+000 1.00000000e+000 0.00000000e+000 ... 0.00000000e+000\n",
      "  0.00000000e+000 0.00000000e+000]\n",
      " [0.00000000e+000 1.00000000e+000 0.00000000e+000 ... 0.00000000e+000\n",
      "  0.00000000e+000 0.00000000e+000]\n",
      " [0.00000000e+000 0.00000000e+000 0.00000000e+000 ... 0.00000000e+000\n",
      "  0.00000000e+000 1.00000000e+000]\n",
      " ...\n",
      " [0.00000000e+000 4.78902641e-101 0.00000000e+000 ... 0.00000000e+000\n",
      "  0.00000000e+000 3.86732826e-184]\n",
      " [0.00000000e+000 0.00000000e+000 1.00000000e+000 ... 0.00000000e+000\n",
      "  0.00000000e+000 0.00000000e+000]\n",
      " [0.00000000e+000 6.45443782e-190 3.82554547e-224 ... 0.00000000e+000\n",
      "  0.00000000e+000 0.00000000e+000]]\n",
      "[[ nan   0.  nan ...  nan  nan  nan]\n",
      " [ nan   0.  nan ...  nan  nan -inf]\n",
      " [ nan  nan  nan ...  nan  nan   0.]\n",
      " ...\n",
      " [ nan  -0.  nan ...  nan  nan  -0.]\n",
      " [ nan  nan   0. ...  nan  nan  nan]\n",
      " [ nan  -0.  -0. ...  nan  nan  nan]]\n"
     ]
    },
    {
     "name": "stderr",
     "output_type": "stream",
     "text": [
      " 70%|███████   | 7/10 [00:03<00:01,  2.21it/s]"
     ]
    },
    {
     "name": "stdout",
     "output_type": "stream",
     "text": [
      "[[0.00000000e+000 0.00000000e+000 0.00000000e+000 ... 0.00000000e+000\n",
      "  0.00000000e+000 0.00000000e+000]\n",
      " [0.00000000e+000 0.00000000e+000 0.00000000e+000 ... 0.00000000e+000\n",
      "  0.00000000e+000 0.00000000e+000]\n",
      " [0.00000000e+000 0.00000000e+000 0.00000000e+000 ... 0.00000000e+000\n",
      "  0.00000000e+000 1.00000000e+000]\n",
      " ...\n",
      " [0.00000000e+000 0.00000000e+000 0.00000000e+000 ... 0.00000000e+000\n",
      "  0.00000000e+000 1.00000000e+000]\n",
      " [0.00000000e+000 0.00000000e+000 1.00000000e+000 ... 0.00000000e+000\n",
      "  0.00000000e+000 0.00000000e+000]\n",
      " [0.00000000e+000 0.00000000e+000 1.77542602e-214 ... 0.00000000e+000\n",
      "  0.00000000e+000 0.00000000e+000]]\n",
      "[[ nan  nan  nan ...  nan  nan  nan]\n",
      " [ nan  nan  nan ...  nan  nan -inf]\n",
      " [ nan  nan  nan ...  nan  nan   0.]\n",
      " ...\n",
      " [ nan  nan  nan ...  nan  nan   0.]\n",
      " [ nan  nan   0. ...  nan  nan  nan]\n",
      " [ nan  nan  -0. ...  nan  nan  nan]]\n",
      "[[0.00000000e+000 0.00000000e+000 0.00000000e+000 ... 0.00000000e+000\n",
      "  0.00000000e+000 0.00000000e+000]\n",
      " [0.00000000e+000 0.00000000e+000 0.00000000e+000 ... 0.00000000e+000\n",
      "  1.00000000e+000 0.00000000e+000]\n",
      " [1.00000000e+000 0.00000000e+000 0.00000000e+000 ... 0.00000000e+000\n",
      "  1.00000000e+000 0.00000000e+000]\n",
      " ...\n",
      " [0.00000000e+000 0.00000000e+000 0.00000000e+000 ... 0.00000000e+000\n",
      "  4.90395843e-234 0.00000000e+000]\n",
      " [0.00000000e+000 0.00000000e+000 1.00000000e+000 ... 0.00000000e+000\n",
      "  0.00000000e+000 0.00000000e+000]\n",
      " [0.00000000e+000 0.00000000e+000 2.20094952e-279 ... 0.00000000e+000\n",
      "  0.00000000e+000 0.00000000e+000]]\n",
      "[[ nan  nan  nan ...  nan  nan  nan]\n",
      " [ nan  nan  nan ...  nan   0. -inf]\n",
      " [  0.  nan  nan ...  nan   0. -inf]\n",
      " ...\n",
      " [ nan  nan  nan ...  nan  -0.  nan]\n",
      " [ nan  nan   0. ...  nan  nan  nan]\n",
      " [ nan  nan  -0. ...  nan  nan  nan]]\n"
     ]
    },
    {
     "name": "stderr",
     "output_type": "stream",
     "text": [
      "\r",
      " 80%|████████  | 8/10 [00:04<00:00,  2.50it/s]"
     ]
    },
    {
     "name": "stdout",
     "output_type": "stream",
     "text": [
      "[[0.00000000e+000 1.00000000e+000 0.00000000e+000 ... 0.00000000e+000\n",
      "  0.00000000e+000 0.00000000e+000]\n",
      " [0.00000000e+000 1.00000000e+000 2.32530033e-172 ... 0.00000000e+000\n",
      "  0.00000000e+000 0.00000000e+000]\n",
      " [0.00000000e+000 0.00000000e+000 0.00000000e+000 ... 0.00000000e+000\n",
      "  0.00000000e+000 1.00000000e+000]\n",
      " ...\n",
      " [0.00000000e+000 0.00000000e+000 0.00000000e+000 ... 0.00000000e+000\n",
      "  0.00000000e+000 0.00000000e+000]\n",
      " [0.00000000e+000 0.00000000e+000 1.00000000e+000 ... 0.00000000e+000\n",
      "  0.00000000e+000 0.00000000e+000]\n",
      " [0.00000000e+000 0.00000000e+000 7.60069329e-022 ... 0.00000000e+000\n",
      "  0.00000000e+000 0.00000000e+000]]\n",
      "[[ nan   0.  nan ...  nan  nan  nan]\n",
      " [ nan   0.  -0. ...  nan  nan -inf]\n",
      " [ nan  nan  nan ...  nan  nan   0.]\n",
      " ...\n",
      " [ nan  nan  nan ...  nan  nan  nan]\n",
      " [ nan  nan   0. ...  nan  nan  nan]\n",
      " [ nan  nan  -0. ...  nan  nan  nan]]\n"
     ]
    },
    {
     "name": "stderr",
     "output_type": "stream",
     "text": [
      "100%|██████████| 10/10 [00:05<00:00,  1.85it/s]"
     ]
    },
    {
     "name": "stdout",
     "output_type": "stream",
     "text": [
      "[[0.00000000e+000 0.00000000e+000 0.00000000e+000 ... 0.00000000e+000\n",
      "  0.00000000e+000 0.00000000e+000]\n",
      " [0.00000000e+000 9.79170416e-277 0.00000000e+000 ... 0.00000000e+000\n",
      "  0.00000000e+000 0.00000000e+000]\n",
      " [0.00000000e+000 0.00000000e+000 0.00000000e+000 ... 0.00000000e+000\n",
      "  0.00000000e+000 1.00000000e+000]\n",
      " ...\n",
      " [0.00000000e+000 0.00000000e+000 0.00000000e+000 ... 0.00000000e+000\n",
      "  0.00000000e+000 1.00000000e+000]\n",
      " [0.00000000e+000 0.00000000e+000 0.00000000e+000 ... 0.00000000e+000\n",
      "  0.00000000e+000 0.00000000e+000]\n",
      " [0.00000000e+000 0.00000000e+000 0.00000000e+000 ... 0.00000000e+000\n",
      "  0.00000000e+000 0.00000000e+000]]\n",
      "[[ nan  nan  nan ...  nan  nan  nan]\n",
      " [ nan  -0.  nan ...  nan  nan -inf]\n",
      " [ nan  nan  nan ...  nan  nan   0.]\n",
      " ...\n",
      " [ nan  nan  nan ...  nan  nan   0.]\n",
      " [ nan  nan  nan ...  nan  nan  nan]\n",
      " [ nan  nan  nan ...  nan  nan  nan]]\n"
     ]
    },
    {
     "name": "stderr",
     "output_type": "stream",
     "text": [
      "\n",
      " 10%|█         | 1/10 [00:00<00:02,  3.33it/s]"
     ]
    },
    {
     "name": "stdout",
     "output_type": "stream",
     "text": [
      "[[0.00000000e+000 1.00000000e+000 0.00000000e+000 ... 1.00000000e+000\n",
      "  0.00000000e+000 0.00000000e+000]\n",
      " [0.00000000e+000 1.00000000e+000 0.00000000e+000 ... 0.00000000e+000\n",
      "  1.00000000e+000 0.00000000e+000]\n",
      " [6.54134394e-042 1.53024998e-118 0.00000000e+000 ... 0.00000000e+000\n",
      "  1.00000000e+000 0.00000000e+000]\n",
      " ...\n",
      " [0.00000000e+000 1.00000000e+000 0.00000000e+000 ... 0.00000000e+000\n",
      "  1.00000000e+000 0.00000000e+000]\n",
      " [0.00000000e+000 1.64035441e-209 0.00000000e+000 ... 1.00000000e+000\n",
      "  0.00000000e+000 0.00000000e+000]\n",
      " [0.00000000e+000 2.74308472e-038 0.00000000e+000 ... 1.00000000e+000\n",
      "  0.00000000e+000 0.00000000e+000]]\n",
      "[[ nan   0.  nan ...   0.  nan  nan]\n",
      " [ nan   0.  nan ...  nan   0. -inf]\n",
      " [ -0.  -0.  nan ...  nan   0. -inf]\n",
      " ...\n",
      " [ nan   0.  nan ...  nan   0.  nan]\n",
      " [ nan  -0.  nan ...   0.  nan  nan]\n",
      " [ nan  -0.  nan ...   0.  nan  nan]]\n",
      "Epoch 0, Loss [[nan inf nan ... inf nan nan]\n",
      " [nan inf nan ... nan inf inf]\n",
      " [ 0.  0. nan ... nan inf inf]\n",
      " ...\n",
      " [nan inf nan ... nan inf nan]\n",
      " [nan  0. nan ... inf nan nan]\n",
      " [nan  0. nan ... inf nan nan]]\n",
      "[[0.00000000e+000 0.00000000e+000 0.00000000e+000 ... 0.00000000e+000\n",
      "  0.00000000e+000 0.00000000e+000]\n",
      " [0.00000000e+000 0.00000000e+000 0.00000000e+000 ... 0.00000000e+000\n",
      "  0.00000000e+000 0.00000000e+000]\n",
      " [0.00000000e+000 0.00000000e+000 0.00000000e+000 ... 0.00000000e+000\n",
      "  0.00000000e+000 0.00000000e+000]\n",
      " ...\n",
      " [0.00000000e+000 0.00000000e+000 0.00000000e+000 ... 0.00000000e+000\n",
      "  0.00000000e+000 0.00000000e+000]\n",
      " [0.00000000e+000 0.00000000e+000 4.09660945e-042 ... 0.00000000e+000\n",
      "  0.00000000e+000 0.00000000e+000]\n",
      " [0.00000000e+000 0.00000000e+000 2.16533631e-293 ... 0.00000000e+000\n",
      "  0.00000000e+000 0.00000000e+000]]\n",
      "[[ nan  nan  nan ...  nan  nan  nan]\n",
      " [ nan  nan  nan ...  nan  nan -inf]\n",
      " [ nan  nan  nan ...  nan  nan -inf]\n",
      " ...\n",
      " [ nan  nan  nan ...  nan  nan  nan]\n",
      " [ nan  nan  -0. ...  nan  nan  nan]\n",
      " [ nan  nan  -0. ...  nan  nan  nan]]\n"
     ]
    },
    {
     "name": "stderr",
     "output_type": "stream",
     "text": [
      " 30%|███       | 3/10 [00:00<00:01,  3.52it/s]"
     ]
    },
    {
     "name": "stdout",
     "output_type": "stream",
     "text": [
      "[[0.00000000e+000 0.00000000e+000 0.00000000e+000 ... 0.00000000e+000\n",
      "  0.00000000e+000 0.00000000e+000]\n",
      " [0.00000000e+000 0.00000000e+000 1.00000000e+000 ... 0.00000000e+000\n",
      "  0.00000000e+000 0.00000000e+000]\n",
      " [1.00000000e+000 0.00000000e+000 7.50545221e-225 ... 0.00000000e+000\n",
      "  0.00000000e+000 1.00000000e+000]\n",
      " ...\n",
      " [0.00000000e+000 0.00000000e+000 0.00000000e+000 ... 0.00000000e+000\n",
      "  0.00000000e+000 6.15327212e-164]\n",
      " [0.00000000e+000 0.00000000e+000 1.00000000e+000 ... 0.00000000e+000\n",
      "  0.00000000e+000 0.00000000e+000]\n",
      " [0.00000000e+000 0.00000000e+000 1.00000000e+000 ... 0.00000000e+000\n",
      "  0.00000000e+000 0.00000000e+000]]\n",
      "[[ nan  nan  nan ...  nan  nan  nan]\n",
      " [ nan  nan   0. ...  nan  nan -inf]\n",
      " [  0.  nan  -0. ...  nan  nan   0.]\n",
      " ...\n",
      " [ nan  nan  nan ...  nan  nan  -0.]\n",
      " [ nan  nan   0. ...  nan  nan  nan]\n",
      " [ nan  nan   0. ...  nan  nan  nan]]\n",
      "[[0.00000000e+000 0.00000000e+000 0.00000000e+000 ... 0.00000000e+000\n",
      "  0.00000000e+000 0.00000000e+000]\n",
      " [0.00000000e+000 0.00000000e+000 0.00000000e+000 ... 0.00000000e+000\n",
      "  0.00000000e+000 0.00000000e+000]\n",
      " [0.00000000e+000 0.00000000e+000 0.00000000e+000 ... 0.00000000e+000\n",
      "  0.00000000e+000 1.00000000e+000]\n",
      " ...\n",
      " [0.00000000e+000 0.00000000e+000 0.00000000e+000 ... 0.00000000e+000\n",
      "  0.00000000e+000 1.00000000e+000]\n",
      " [0.00000000e+000 0.00000000e+000 0.00000000e+000 ... 0.00000000e+000\n",
      "  0.00000000e+000 0.00000000e+000]\n",
      " [0.00000000e+000 0.00000000e+000 0.00000000e+000 ... 2.36695927e-196\n",
      "  0.00000000e+000 0.00000000e+000]]\n",
      "[[ nan  nan  nan ...  nan  nan  nan]\n",
      " [ nan  nan  nan ...  nan  nan -inf]\n",
      " [ nan  nan  nan ...  nan  nan   0.]\n",
      " ...\n",
      " [ nan  nan  nan ...  nan  nan   0.]\n",
      " [ nan  nan  nan ...  nan  nan  nan]\n",
      " [ nan  nan  nan ...  -0.  nan  nan]]\n"
     ]
    },
    {
     "name": "stderr",
     "output_type": "stream",
     "text": [
      "\r",
      " 40%|████      | 4/10 [00:01<00:02,  2.46it/s]"
     ]
    },
    {
     "name": "stdout",
     "output_type": "stream",
     "text": [
      "[[0.00000000e+000 0.00000000e+000 0.00000000e+000 ... 1.39886494e-190\n",
      "  0.00000000e+000 0.00000000e+000]\n",
      " [0.00000000e+000 0.00000000e+000 0.00000000e+000 ... 0.00000000e+000\n",
      "  0.00000000e+000 0.00000000e+000]\n",
      " [0.00000000e+000 0.00000000e+000 0.00000000e+000 ... 0.00000000e+000\n",
      "  0.00000000e+000 0.00000000e+000]\n",
      " ...\n",
      " [0.00000000e+000 0.00000000e+000 0.00000000e+000 ... 0.00000000e+000\n",
      "  0.00000000e+000 0.00000000e+000]\n",
      " [0.00000000e+000 0.00000000e+000 0.00000000e+000 ... 7.23190615e-178\n",
      "  0.00000000e+000 0.00000000e+000]\n",
      " [0.00000000e+000 0.00000000e+000 0.00000000e+000 ... 4.35744062e-067\n",
      "  0.00000000e+000 0.00000000e+000]]\n",
      "[[ nan  nan  nan ...  -0.  nan  nan]\n",
      " [ nan  nan  nan ...  nan  nan -inf]\n",
      " [ nan  nan  nan ...  nan  nan -inf]\n",
      " ...\n",
      " [ nan  nan  nan ...  nan  nan  nan]\n",
      " [ nan  nan  nan ...  -0.  nan  nan]\n",
      " [ nan  nan  nan ...  -0.  nan  nan]]\n"
     ]
    },
    {
     "name": "stderr",
     "output_type": "stream",
     "text": [
      " 60%|██████    | 6/10 [00:01<00:01,  3.22it/s]"
     ]
    },
    {
     "name": "stdout",
     "output_type": "stream",
     "text": [
      "[[0.00000000e+000 0.00000000e+000 0.00000000e+000 ... 0.00000000e+000\n",
      "  0.00000000e+000 0.00000000e+000]\n",
      " [1.62940961e-250 0.00000000e+000 0.00000000e+000 ... 0.00000000e+000\n",
      "  1.00000000e+000 0.00000000e+000]\n",
      " [1.00000000e+000 0.00000000e+000 0.00000000e+000 ... 0.00000000e+000\n",
      "  1.00000000e+000 1.53711764e-107]\n",
      " ...\n",
      " [0.00000000e+000 0.00000000e+000 0.00000000e+000 ... 0.00000000e+000\n",
      "  1.00000000e+000 0.00000000e+000]\n",
      " [0.00000000e+000 0.00000000e+000 0.00000000e+000 ... 0.00000000e+000\n",
      "  0.00000000e+000 0.00000000e+000]\n",
      " [2.00344240e-134 0.00000000e+000 0.00000000e+000 ... 0.00000000e+000\n",
      "  0.00000000e+000 0.00000000e+000]]\n",
      "[[          nan           nan           nan ...           nan\n",
      "            nan           nan]\n",
      " [  -0.                   nan           nan ...           nan\n",
      "     0.                  -inf]\n",
      " [   0.                   nan           nan ...           nan\n",
      "     0.         -245.94669595]\n",
      " ...\n",
      " [          nan           nan           nan ...           nan\n",
      "     0.                   nan]\n",
      " [          nan           nan           nan ...           nan\n",
      "            nan           nan]\n",
      " [  -0.                   nan           nan ...           nan\n",
      "            nan           nan]]\n"
     ]
    },
    {
     "name": "stderr",
     "output_type": "stream",
     "text": [
      "\r",
      " 70%|███████   | 7/10 [00:02<00:00,  3.24it/s]"
     ]
    },
    {
     "name": "stdout",
     "output_type": "stream",
     "text": [
      "[[0.00000000e+000 1.00000000e+000 0.00000000e+000 ... 1.00000000e+000\n",
      "  0.00000000e+000 2.22780630e-098]\n",
      " [0.00000000e+000 1.00000000e+000 0.00000000e+000 ... 1.18341930e-281\n",
      "  0.00000000e+000 1.85647753e-130]\n",
      " [0.00000000e+000 4.18781721e-153 0.00000000e+000 ... 0.00000000e+000\n",
      "  0.00000000e+000 1.00000000e+000]\n",
      " ...\n",
      " [0.00000000e+000 1.00000000e+000 0.00000000e+000 ... 0.00000000e+000\n",
      "  0.00000000e+000 1.00000000e+000]\n",
      " [0.00000000e+000 1.64266256e-305 0.00000000e+000 ... 1.00000000e+000\n",
      "  0.00000000e+000 1.50667535e-169]\n",
      " [0.00000000e+000 3.14912742e-113 0.00000000e+000 ... 1.00000000e+000\n",
      "  0.00000000e+000 1.45603362e-262]]\n",
      "[[         nan    0.                 nan ...    0.                 nan\n",
      "    -0.       ]\n",
      " [         nan    0.                 nan ...   -0.                 nan\n",
      "  -298.7173812]\n",
      " [         nan   -0.                 nan ...          nan          nan\n",
      "     0.       ]\n",
      " ...\n",
      " [         nan    0.                 nan ...          nan          nan\n",
      "     0.       ]\n",
      " [         nan   -0.                 nan ...    0.                 nan\n",
      "    -0.       ]\n",
      " [         nan   -0.                 nan ...    0.                 nan\n",
      "    -0.       ]]\n"
     ]
    },
    {
     "name": "stderr",
     "output_type": "stream",
     "text": [
      "\r",
      " 80%|████████  | 8/10 [00:02<00:00,  3.17it/s]"
     ]
    },
    {
     "name": "stdout",
     "output_type": "stream",
     "text": [
      "[[0. 0. 0. ... 0. 0. 0.]\n",
      " [0. 0. 0. ... 0. 0. 0.]\n",
      " [0. 0. 0. ... 0. 0. 0.]\n",
      " ...\n",
      " [0. 0. 0. ... 0. 0. 0.]\n",
      " [0. 0. 0. ... 0. 0. 0.]\n",
      " [0. 0. 0. ... 0. 0. 0.]]\n",
      "[[ nan  nan  nan ...  nan  nan  nan]\n",
      " [ nan  nan  nan ...  nan  nan -inf]\n",
      " [ nan  nan  nan ...  nan  nan -inf]\n",
      " ...\n",
      " [ nan  nan  nan ...  nan  nan  nan]\n",
      " [ nan  nan  nan ...  nan  nan  nan]\n",
      " [ nan  nan  nan ...  nan  nan  nan]]\n",
      "[[0.00000000e+000 0.00000000e+000 2.53522913e-154 ... 0.00000000e+000\n",
      "  0.00000000e+000 0.00000000e+000]\n",
      " [0.00000000e+000 0.00000000e+000 1.00000000e+000 ... 0.00000000e+000\n",
      "  0.00000000e+000 0.00000000e+000]\n",
      " [0.00000000e+000 0.00000000e+000 6.79198349e-013 ... 0.00000000e+000\n",
      "  0.00000000e+000 0.00000000e+000]\n",
      " ...\n",
      " [0.00000000e+000 0.00000000e+000 1.43963922e-157 ... 0.00000000e+000\n",
      "  0.00000000e+000 0.00000000e+000]\n",
      " [0.00000000e+000 0.00000000e+000 1.00000000e+000 ... 0.00000000e+000\n",
      "  0.00000000e+000 0.00000000e+000]\n",
      " [0.00000000e+000 0.00000000e+000 1.00000000e+000 ... 0.00000000e+000\n",
      "  0.00000000e+000 0.00000000e+000]]\n",
      "[[ nan  nan  -0. ...  nan  nan  nan]\n",
      " [ nan  nan   0. ...  nan  nan -inf]\n",
      " [ nan  nan  -0. ...  nan  nan -inf]\n",
      " ...\n",
      " [ nan  nan  -0. ...  nan  nan  nan]\n",
      " [ nan  nan   0. ...  nan  nan  nan]\n",
      " [ nan  nan   0. ...  nan  nan  nan]]\n"
     ]
    },
    {
     "name": "stderr",
     "output_type": "stream",
     "text": [
      "100%|██████████| 10/10 [00:03<00:00,  3.22it/s]\n"
     ]
    },
    {
     "name": "stdout",
     "output_type": "stream",
     "text": [
      "[[0.00000000e+000 0.00000000e+000 0.00000000e+000 ... 0.00000000e+000\n",
      "  0.00000000e+000 0.00000000e+000]\n",
      " [0.00000000e+000 0.00000000e+000 0.00000000e+000 ... 0.00000000e+000\n",
      "  1.00000000e+000 0.00000000e+000]\n",
      " [0.00000000e+000 0.00000000e+000 0.00000000e+000 ... 0.00000000e+000\n",
      "  1.00000000e+000 0.00000000e+000]\n",
      " ...\n",
      " [0.00000000e+000 0.00000000e+000 0.00000000e+000 ... 0.00000000e+000\n",
      "  1.64756166e-270 0.00000000e+000]\n",
      " [0.00000000e+000 0.00000000e+000 0.00000000e+000 ... 0.00000000e+000\n",
      "  0.00000000e+000 0.00000000e+000]\n",
      " [0.00000000e+000 0.00000000e+000 0.00000000e+000 ... 0.00000000e+000\n",
      "  0.00000000e+000 0.00000000e+000]]\n",
      "[[ nan  nan  nan ...  nan  nan  nan]\n",
      " [ nan  nan  nan ...  nan   0. -inf]\n",
      " [ nan  nan  nan ...  nan   0. -inf]\n",
      " ...\n",
      " [ nan  nan  nan ...  nan  -0.  nan]\n",
      " [ nan  nan  nan ...  nan  nan  nan]\n",
      " [ nan  nan  nan ...  nan  nan  nan]]\n"
     ]
    },
    {
     "name": "stderr",
     "output_type": "stream",
     "text": [
      "\r",
      "  0%|          | 0/10 [00:00<?, ?it/s]"
     ]
    },
    {
     "name": "stdout",
     "output_type": "stream",
     "text": [
      "[[0.00000000e+000 0.00000000e+000 0.00000000e+000 ... 0.00000000e+000\n",
      "  0.00000000e+000 0.00000000e+000]\n",
      " [0.00000000e+000 0.00000000e+000 0.00000000e+000 ... 0.00000000e+000\n",
      "  0.00000000e+000 0.00000000e+000]\n",
      " [0.00000000e+000 0.00000000e+000 0.00000000e+000 ... 0.00000000e+000\n",
      "  0.00000000e+000 2.46145872e-136]\n",
      " ...\n",
      " [0.00000000e+000 0.00000000e+000 0.00000000e+000 ... 0.00000000e+000\n",
      "  0.00000000e+000 0.00000000e+000]\n",
      " [0.00000000e+000 0.00000000e+000 0.00000000e+000 ... 0.00000000e+000\n",
      "  0.00000000e+000 0.00000000e+000]\n",
      " [0.00000000e+000 0.00000000e+000 0.00000000e+000 ... 0.00000000e+000\n",
      "  0.00000000e+000 0.00000000e+000]]\n",
      "[[         nan          nan          nan ...          nan          nan\n",
      "           nan]\n",
      " [         nan          nan          nan ...          nan          nan\n",
      "          -inf]\n",
      " [         nan          nan          nan ...          nan          nan\n",
      "  -312.2508185]\n",
      " ...\n",
      " [         nan          nan          nan ...          nan          nan\n",
      "           nan]\n",
      " [         nan          nan          nan ...          nan          nan\n",
      "           nan]\n",
      " [         nan          nan          nan ...          nan          nan\n",
      "           nan]]\n"
     ]
    },
    {
     "name": "stderr",
     "output_type": "stream",
     "text": [
      "\r",
      " 10%|█         | 1/10 [00:00<00:03,  2.45it/s]"
     ]
    },
    {
     "name": "stdout",
     "output_type": "stream",
     "text": [
      "Epoch 0, Loss [[       nan        nan        nan ...        nan        nan        nan]\n",
      " [       nan        nan        nan ...        nan        nan        inf]\n",
      " [       nan        nan        nan ...        nan        nan 0.06245016]\n",
      " ...\n",
      " [       nan        nan        nan ...        nan        nan        nan]\n",
      " [       nan        nan        nan ...        nan        nan        nan]\n",
      " [       nan        nan        nan ...        nan        nan        nan]]\n",
      "[[0.00000000e+000 1.00000000e+000 0.00000000e+000 ... 1.00000000e+000\n",
      "  0.00000000e+000 2.06700668e-267]\n",
      " [4.80952337e-202 1.00000000e+000 0.00000000e+000 ... 2.16333426e-279\n",
      "  0.00000000e+000 2.13918016e-280]\n",
      " [1.00000000e+000 1.09767118e-214 0.00000000e+000 ... 0.00000000e+000\n",
      "  0.00000000e+000 1.00000000e+000]\n",
      " ...\n",
      " [0.00000000e+000 1.00000000e+000 0.00000000e+000 ... 0.00000000e+000\n",
      "  0.00000000e+000 1.00000000e+000]\n",
      " [0.00000000e+000 0.00000000e+000 0.00000000e+000 ... 1.00000000e+000\n",
      "  0.00000000e+000 0.00000000e+000]\n",
      " [5.28728596e-152 4.71010554e-147 0.00000000e+000 ... 1.00000000e+000\n",
      "  0.00000000e+000 0.00000000e+000]]\n",
      "[[          nan    0.                   nan ...    0.\n",
      "            nan   -0.        ]\n",
      " [  -0.            0.                   nan ...   -0.\n",
      "            nan -643.96340338]\n",
      " [   0.           -0.                   nan ...           nan\n",
      "            nan    0.        ]\n",
      " ...\n",
      " [          nan    0.                   nan ...           nan\n",
      "            nan    0.        ]\n",
      " [          nan           nan           nan ...    0.\n",
      "            nan           nan]\n",
      " [  -0.           -0.                   nan ...    0.\n",
      "            nan           nan]]\n"
     ]
    },
    {
     "name": "stderr",
     "output_type": "stream",
     "text": [
      "\r",
      " 20%|██        | 2/10 [00:00<00:02,  3.47it/s]"
     ]
    },
    {
     "name": "stdout",
     "output_type": "stream",
     "text": [
      "[[0. 0. 0. ... 0. 0. 0.]\n",
      " [0. 0. 0. ... 0. 1. 0.]\n",
      " [0. 0. 0. ... 0. 1. 0.]\n",
      " ...\n",
      " [0. 0. 0. ... 0. 1. 0.]\n",
      " [0. 0. 0. ... 0. 0. 0.]\n",
      " [0. 0. 0. ... 0. 0. 0.]]\n",
      "[[ nan  nan  nan ...  nan  nan  nan]\n",
      " [ nan  nan  nan ...  nan   0. -inf]\n",
      " [ nan  nan  nan ...  nan   0. -inf]\n",
      " ...\n",
      " [ nan  nan  nan ...  nan   0.  nan]\n",
      " [ nan  nan  nan ...  nan  nan  nan]\n",
      " [ nan  nan  nan ...  nan  nan  nan]]\n"
     ]
    },
    {
     "name": "stderr",
     "output_type": "stream",
     "text": [
      "\r",
      " 30%|███       | 3/10 [00:01<00:02,  2.80it/s]"
     ]
    },
    {
     "name": "stdout",
     "output_type": "stream",
     "text": [
      "[[0. 0. 0. ... 0. 0. 0.]\n",
      " [0. 0. 0. ... 0. 0. 0.]\n",
      " [0. 0. 0. ... 0. 0. 0.]\n",
      " ...\n",
      " [0. 0. 0. ... 0. 0. 0.]\n",
      " [0. 0. 0. ... 0. 0. 0.]\n",
      " [0. 0. 0. ... 0. 0. 0.]]\n",
      "[[ nan  nan  nan ...  nan  nan  nan]\n",
      " [ nan  nan  nan ...  nan  nan -inf]\n",
      " [ nan  nan  nan ...  nan  nan -inf]\n",
      " ...\n",
      " [ nan  nan  nan ...  nan  nan  nan]\n",
      " [ nan  nan  nan ...  nan  nan  nan]\n",
      " [ nan  nan  nan ...  nan  nan  nan]]\n"
     ]
    },
    {
     "name": "stderr",
     "output_type": "stream",
     "text": [
      " 50%|█████     | 5/10 [00:01<00:01,  3.03it/s]"
     ]
    },
    {
     "name": "stdout",
     "output_type": "stream",
     "text": [
      "[[0. 0. 0. ... 0. 0. 0.]\n",
      " [0. 0. 0. ... 0. 0. 0.]\n",
      " [0. 0. 0. ... 0. 0. 0.]\n",
      " ...\n",
      " [0. 0. 0. ... 0. 0. 0.]\n",
      " [0. 0. 0. ... 0. 0. 0.]\n",
      " [0. 0. 0. ... 0. 0. 0.]]\n",
      "[[ nan  nan  nan ...  nan  nan  nan]\n",
      " [ nan  nan  nan ...  nan  nan -inf]\n",
      " [ nan  nan  nan ...  nan  nan -inf]\n",
      " ...\n",
      " [ nan  nan  nan ...  nan  nan  nan]\n",
      " [ nan  nan  nan ...  nan  nan  nan]\n",
      " [ nan  nan  nan ...  nan  nan  nan]]\n"
     ]
    },
    {
     "name": "stderr",
     "output_type": "stream",
     "text": [
      "\r",
      " 60%|██████    | 6/10 [00:02<00:01,  2.87it/s]"
     ]
    },
    {
     "name": "stdout",
     "output_type": "stream",
     "text": [
      "[[0.0000000e+00 1.7796511e-70 0.0000000e+00 ... 0.0000000e+00\n",
      "  0.0000000e+00 0.0000000e+00]\n",
      " [0.0000000e+00 1.0000000e+00 0.0000000e+00 ... 0.0000000e+00\n",
      "  0.0000000e+00 0.0000000e+00]\n",
      " [0.0000000e+00 0.0000000e+00 0.0000000e+00 ... 0.0000000e+00\n",
      "  0.0000000e+00 1.0000000e+00]\n",
      " ...\n",
      " [0.0000000e+00 0.0000000e+00 0.0000000e+00 ... 0.0000000e+00\n",
      "  0.0000000e+00 1.0000000e+00]\n",
      " [0.0000000e+00 0.0000000e+00 0.0000000e+00 ... 0.0000000e+00\n",
      "  0.0000000e+00 0.0000000e+00]\n",
      " [0.0000000e+00 0.0000000e+00 0.0000000e+00 ... 0.0000000e+00\n",
      "  0.0000000e+00 0.0000000e+00]]\n",
      "[[ nan  -0.  nan ...  nan  nan  nan]\n",
      " [ nan   0.  nan ...  nan  nan -inf]\n",
      " [ nan  nan  nan ...  nan  nan   0.]\n",
      " ...\n",
      " [ nan  nan  nan ...  nan  nan   0.]\n",
      " [ nan  nan  nan ...  nan  nan  nan]\n",
      " [ nan  nan  nan ...  nan  nan  nan]]\n"
     ]
    },
    {
     "name": "stderr",
     "output_type": "stream",
     "text": [
      "\r",
      " 70%|███████   | 7/10 [00:02<00:01,  2.77it/s]"
     ]
    },
    {
     "name": "stdout",
     "output_type": "stream",
     "text": [
      "[[0.00000000e+000 1.54680341e-124 0.00000000e+000 ... 1.00000000e+000\n",
      "  0.00000000e+000 0.00000000e+000]\n",
      " [0.00000000e+000 1.00000000e+000 1.00000000e+000 ... 0.00000000e+000\n",
      "  1.00000000e+000 0.00000000e+000]\n",
      " [0.00000000e+000 0.00000000e+000 0.00000000e+000 ... 0.00000000e+000\n",
      "  1.00000000e+000 0.00000000e+000]\n",
      " ...\n",
      " [0.00000000e+000 0.00000000e+000 0.00000000e+000 ... 0.00000000e+000\n",
      "  4.46196265e-284 0.00000000e+000]\n",
      " [0.00000000e+000 0.00000000e+000 1.00000000e+000 ... 1.00000000e+000\n",
      "  0.00000000e+000 0.00000000e+000]\n",
      " [0.00000000e+000 0.00000000e+000 1.00000000e+000 ... 1.00000000e+000\n",
      "  0.00000000e+000 0.00000000e+000]]\n",
      "[[ nan  -0.  nan ...   0.  nan  nan]\n",
      " [ nan   0.   0. ...  nan   0. -inf]\n",
      " [ nan  nan  nan ...  nan   0. -inf]\n",
      " ...\n",
      " [ nan  nan  nan ...  nan  -0.  nan]\n",
      " [ nan  nan   0. ...   0.  nan  nan]\n",
      " [ nan  nan   0. ...   0.  nan  nan]]\n",
      "[[0.00000000e+000 1.00000000e+000 0.00000000e+000 ... 0.00000000e+000\n",
      "  0.00000000e+000 0.00000000e+000]\n",
      " [0.00000000e+000 1.00000000e+000 0.00000000e+000 ... 0.00000000e+000\n",
      "  0.00000000e+000 0.00000000e+000]\n",
      " [1.00000000e+000 0.00000000e+000 0.00000000e+000 ... 0.00000000e+000\n",
      "  0.00000000e+000 1.13294463e-121]\n",
      " ...\n",
      " [0.00000000e+000 0.00000000e+000 0.00000000e+000 ... 0.00000000e+000\n",
      "  0.00000000e+000 0.00000000e+000]\n",
      " [0.00000000e+000 0.00000000e+000 0.00000000e+000 ... 0.00000000e+000\n",
      "  0.00000000e+000 0.00000000e+000]\n",
      " [9.19228016e-291 0.00000000e+000 0.00000000e+000 ... 0.00000000e+000\n",
      "  0.00000000e+000 0.00000000e+000]]\n"
     ]
    },
    {
     "name": "stderr",
     "output_type": "stream",
     "text": [
      "\r",
      " 80%|████████  | 8/10 [00:02<00:00,  2.96it/s]"
     ]
    },
    {
     "name": "stdout",
     "output_type": "stream",
     "text": [
      "[[          nan    0.                   nan ...           nan\n",
      "            nan           nan]\n",
      " [          nan    0.                   nan ...           nan\n",
      "            nan          -inf]\n",
      " [   0.                   nan           nan ...           nan\n",
      "            nan -278.48797615]\n",
      " ...\n",
      " [          nan           nan           nan ...           nan\n",
      "            nan           nan]\n",
      " [          nan           nan           nan ...           nan\n",
      "            nan           nan]\n",
      " [  -0.                   nan           nan ...           nan\n",
      "            nan           nan]]\n",
      "[[0.00000000e+000 0.00000000e+000 0.00000000e+000 ... 0.00000000e+000\n",
      "  0.00000000e+000 6.72408625e-290]\n",
      " [0.00000000e+000 1.38471956e-247 0.00000000e+000 ... 0.00000000e+000\n",
      "  0.00000000e+000 0.00000000e+000]\n",
      " [0.00000000e+000 0.00000000e+000 0.00000000e+000 ... 0.00000000e+000\n",
      "  0.00000000e+000 1.00000000e+000]\n",
      " ...\n",
      " [0.00000000e+000 0.00000000e+000 0.00000000e+000 ... 0.00000000e+000\n",
      "  0.00000000e+000 1.00000000e+000]\n",
      " [0.00000000e+000 0.00000000e+000 0.00000000e+000 ... 0.00000000e+000\n",
      "  0.00000000e+000 0.00000000e+000]\n",
      " [0.00000000e+000 0.00000000e+000 0.00000000e+000 ... 0.00000000e+000\n",
      "  0.00000000e+000 0.00000000e+000]]\n",
      "[[ nan  nan  nan ...  nan  nan  -0.]\n",
      " [ nan  -0.  nan ...  nan  nan -inf]\n",
      " [ nan  nan  nan ...  nan  nan   0.]\n",
      " ...\n",
      " [ nan  nan  nan ...  nan  nan   0.]\n",
      " [ nan  nan  nan ...  nan  nan  nan]\n",
      " [ nan  nan  nan ...  nan  nan  nan]]\n"
     ]
    },
    {
     "name": "stderr",
     "output_type": "stream",
     "text": [
      "100%|██████████| 10/10 [00:03<00:00,  2.71it/s]"
     ]
    },
    {
     "name": "stdout",
     "output_type": "stream",
     "text": [
      "[[0.00000000e+000 1.00000000e+000 0.00000000e+000 ... 0.00000000e+000\n",
      "  0.00000000e+000 0.00000000e+000]\n",
      " [0.00000000e+000 1.00000000e+000 0.00000000e+000 ... 0.00000000e+000\n",
      "  1.00000000e+000 0.00000000e+000]\n",
      " [0.00000000e+000 3.32584696e-147 0.00000000e+000 ... 0.00000000e+000\n",
      "  1.00000000e+000 0.00000000e+000]\n",
      " ...\n",
      " [0.00000000e+000 1.00000000e+000 0.00000000e+000 ... 0.00000000e+000\n",
      "  1.00000000e+000 0.00000000e+000]\n",
      " [0.00000000e+000 9.95845849e-276 0.00000000e+000 ... 0.00000000e+000\n",
      "  0.00000000e+000 0.00000000e+000]\n",
      " [0.00000000e+000 3.02893887e-080 0.00000000e+000 ... 0.00000000e+000\n",
      "  0.00000000e+000 0.00000000e+000]]\n",
      "[[ nan   0.  nan ...  nan  nan  nan]\n",
      " [ nan   0.  nan ...  nan   0. -inf]\n",
      " [ nan  -0.  nan ...  nan   0. -inf]\n",
      " ...\n",
      " [ nan   0.  nan ...  nan   0.  nan]\n",
      " [ nan  -0.  nan ...  nan  nan  nan]\n",
      " [ nan  -0.  nan ...  nan  nan  nan]]\n"
     ]
    },
    {
     "name": "stderr",
     "output_type": "stream",
     "text": [
      "100%|██████████| 10/10 [00:03<00:00,  2.77it/s]\n",
      " 10%|█         | 1/10 [00:00<00:02,  3.22it/s]"
     ]
    },
    {
     "name": "stdout",
     "output_type": "stream",
     "text": [
      "[[0. 0. 0. ... 0. 0. 0.]\n",
      " [0. 0. 0. ... 0. 0. 0.]\n",
      " [0. 0. 0. ... 0. 0. 0.]\n",
      " ...\n",
      " [0. 0. 0. ... 0. 0. 0.]\n",
      " [0. 0. 0. ... 0. 0. 0.]\n",
      " [0. 0. 0. ... 0. 0. 0.]]\n",
      "[[ nan  nan  nan ...  nan  nan  nan]\n",
      " [ nan  nan  nan ...  nan  nan -inf]\n",
      " [ nan  nan  nan ...  nan  nan -inf]\n",
      " ...\n",
      " [ nan  nan  nan ...  nan  nan  nan]\n",
      " [ nan  nan  nan ...  nan  nan  nan]\n",
      " [ nan  nan  nan ...  nan  nan  nan]]\n",
      "Epoch 0, Loss [[nan nan nan ... nan nan nan]\n",
      " [nan nan nan ... nan nan inf]\n",
      " [nan nan nan ... nan nan inf]\n",
      " ...\n",
      " [nan nan nan ... nan nan nan]\n",
      " [nan nan nan ... nan nan nan]\n",
      " [nan nan nan ... nan nan nan]]\n",
      "[[0.00000000e+000 0.00000000e+000 0.00000000e+000 ... 1.00000000e+000\n",
      "  0.00000000e+000 0.00000000e+000]\n",
      " [0.00000000e+000 0.00000000e+000 0.00000000e+000 ... 4.36980037e-152\n",
      "  0.00000000e+000 0.00000000e+000]\n",
      " [0.00000000e+000 0.00000000e+000 0.00000000e+000 ... 0.00000000e+000\n",
      "  0.00000000e+000 3.12739701e-214]\n",
      " ...\n",
      " [0.00000000e+000 0.00000000e+000 0.00000000e+000 ... 1.63751272e-295\n",
      "  0.00000000e+000 0.00000000e+000]\n",
      " [0.00000000e+000 0.00000000e+000 3.11821030e-105 ... 1.00000000e+000\n",
      "  0.00000000e+000 0.00000000e+000]\n",
      " [0.00000000e+000 0.00000000e+000 1.12784396e-294 ... 1.00000000e+000\n",
      "  0.00000000e+000 0.00000000e+000]]\n",
      "[[          nan           nan           nan ...    0.\n",
      "            nan           nan]\n",
      " [          nan           nan           nan ...   -0.\n",
      "            nan          -inf]\n",
      " [          nan           nan           nan ...           nan\n",
      "            nan -491.61300887]\n",
      " ...\n",
      " [          nan           nan           nan ...   -0.\n",
      "            nan           nan]\n",
      " [          nan           nan   -0.         ...    0.\n",
      "            nan           nan]\n",
      " [          nan           nan   -0.         ...    0.\n",
      "            nan           nan]]\n"
     ]
    },
    {
     "name": "stderr",
     "output_type": "stream",
     "text": [
      " 30%|███       | 3/10 [00:01<00:02,  2.41it/s]"
     ]
    },
    {
     "name": "stdout",
     "output_type": "stream",
     "text": [
      "[[0. 0. 0. ... 0. 0. 0.]\n",
      " [0. 0. 1. ... 0. 0. 0.]\n",
      " [1. 0. 0. ... 0. 0. 1.]\n",
      " ...\n",
      " [0. 0. 0. ... 0. 0. 1.]\n",
      " [0. 0. 1. ... 0. 0. 0.]\n",
      " [0. 0. 1. ... 0. 0. 0.]]\n",
      "[[ nan  nan  nan ...  nan  nan  nan]\n",
      " [ nan  nan   0. ...  nan  nan -inf]\n",
      " [  0.  nan  nan ...  nan  nan   0.]\n",
      " ...\n",
      " [ nan  nan  nan ...  nan  nan   0.]\n",
      " [ nan  nan   0. ...  nan  nan  nan]\n",
      " [ nan  nan   0. ...  nan  nan  nan]]\n",
      "[[0.00000000e+000 0.00000000e+000 0.00000000e+000 ... 0.00000000e+000\n",
      "  0.00000000e+000 0.00000000e+000]\n",
      " [0.00000000e+000 0.00000000e+000 0.00000000e+000 ... 0.00000000e+000\n",
      "  1.00000000e+000 0.00000000e+000]\n",
      " [0.00000000e+000 0.00000000e+000 0.00000000e+000 ... 0.00000000e+000\n",
      "  1.00000000e+000 0.00000000e+000]\n",
      " ...\n",
      " [0.00000000e+000 0.00000000e+000 0.00000000e+000 ... 0.00000000e+000\n",
      "  1.40702322e-178 0.00000000e+000]\n",
      " [0.00000000e+000 0.00000000e+000 0.00000000e+000 ... 0.00000000e+000\n",
      "  0.00000000e+000 0.00000000e+000]\n",
      " [0.00000000e+000 0.00000000e+000 0.00000000e+000 ... 0.00000000e+000\n",
      "  0.00000000e+000 0.00000000e+000]]\n",
      "[[ nan  nan  nan ...  nan  nan  nan]\n",
      " [ nan  nan  nan ...  nan   0. -inf]\n",
      " [ nan  nan  nan ...  nan   0. -inf]\n",
      " ...\n",
      " [ nan  nan  nan ...  nan  -0.  nan]\n",
      " [ nan  nan  nan ...  nan  nan  nan]\n",
      " [ nan  nan  nan ...  nan  nan  nan]]\n"
     ]
    },
    {
     "name": "stderr",
     "output_type": "stream",
     "text": [
      " 50%|█████     | 5/10 [00:01<00:01,  2.62it/s]"
     ]
    },
    {
     "name": "stdout",
     "output_type": "stream",
     "text": [
      "[[0.00000000e+000 1.00000000e+000 0.00000000e+000 ... 0.00000000e+000\n",
      "  0.00000000e+000 0.00000000e+000]\n",
      " [0.00000000e+000 1.00000000e+000 0.00000000e+000 ... 0.00000000e+000\n",
      "  0.00000000e+000 0.00000000e+000]\n",
      " [0.00000000e+000 0.00000000e+000 0.00000000e+000 ... 0.00000000e+000\n",
      "  0.00000000e+000 0.00000000e+000]\n",
      " ...\n",
      " [0.00000000e+000 3.99099458e-270 0.00000000e+000 ... 0.00000000e+000\n",
      "  0.00000000e+000 0.00000000e+000]\n",
      " [0.00000000e+000 0.00000000e+000 0.00000000e+000 ... 0.00000000e+000\n",
      "  0.00000000e+000 0.00000000e+000]\n",
      " [0.00000000e+000 0.00000000e+000 0.00000000e+000 ... 0.00000000e+000\n",
      "  0.00000000e+000 0.00000000e+000]]\n",
      "[[ nan   0.  nan ...  nan  nan  nan]\n",
      " [ nan   0.  nan ...  nan  nan -inf]\n",
      " [ nan  nan  nan ...  nan  nan -inf]\n",
      " ...\n",
      " [ nan  -0.  nan ...  nan  nan  nan]\n",
      " [ nan  nan  nan ...  nan  nan  nan]\n",
      " [ nan  nan  nan ...  nan  nan  nan]]\n",
      "[[0.000000e+000 0.000000e+000 0.000000e+000 ... 0.000000e+000\n",
      "  0.000000e+000 0.000000e+000]\n",
      " [0.000000e+000 0.000000e+000 0.000000e+000 ... 0.000000e+000\n",
      "  0.000000e+000 0.000000e+000]\n",
      " [0.000000e+000 0.000000e+000 0.000000e+000 ... 0.000000e+000\n",
      "  0.000000e+000 1.000000e+000]\n",
      " ...\n",
      " [0.000000e+000 0.000000e+000 0.000000e+000 ... 0.000000e+000\n",
      "  0.000000e+000 1.779155e-243]\n",
      " [0.000000e+000 0.000000e+000 0.000000e+000 ... 0.000000e+000\n",
      "  0.000000e+000 0.000000e+000]\n",
      " [0.000000e+000 0.000000e+000 0.000000e+000 ... 0.000000e+000\n",
      "  0.000000e+000 0.000000e+000]]\n",
      "[[ nan  nan  nan ...  nan  nan  nan]\n",
      " [ nan  nan  nan ...  nan  nan -inf]\n",
      " [ nan  nan  nan ...  nan  nan   0.]\n",
      " ...\n",
      " [ nan  nan  nan ...  nan  nan  -0.]\n",
      " [ nan  nan  nan ...  nan  nan  nan]\n",
      " [ nan  nan  nan ...  nan  nan  nan]]\n"
     ]
    },
    {
     "name": "stderr",
     "output_type": "stream",
     "text": [
      " 70%|███████   | 7/10 [00:02<00:01,  2.90it/s]"
     ]
    },
    {
     "name": "stdout",
     "output_type": "stream",
     "text": [
      "[[0.00000000e+000 1.00000000e+000 0.00000000e+000 ... 0.00000000e+000\n",
      "  0.00000000e+000 0.00000000e+000]\n",
      " [0.00000000e+000 1.00000000e+000 0.00000000e+000 ... 0.00000000e+000\n",
      "  1.00000000e+000 0.00000000e+000]\n",
      " [1.00000000e+000 0.00000000e+000 0.00000000e+000 ... 0.00000000e+000\n",
      "  1.00000000e+000 1.00000000e+000]\n",
      " ...\n",
      " [0.00000000e+000 1.37632629e-160 0.00000000e+000 ... 0.00000000e+000\n",
      "  0.00000000e+000 1.00000000e+000]\n",
      " [0.00000000e+000 0.00000000e+000 0.00000000e+000 ... 0.00000000e+000\n",
      "  0.00000000e+000 0.00000000e+000]\n",
      " [0.00000000e+000 5.17315026e-241 0.00000000e+000 ... 0.00000000e+000\n",
      "  0.00000000e+000 0.00000000e+000]]\n",
      "[[ nan   0.  nan ...  nan  nan  nan]\n",
      " [ nan   0.  nan ...  nan   0. -inf]\n",
      " [  0.  nan  nan ...  nan   0.   0.]\n",
      " ...\n",
      " [ nan  -0.  nan ...  nan  nan   0.]\n",
      " [ nan  nan  nan ...  nan  nan  nan]\n",
      " [ nan  -0.  nan ...  nan  nan  nan]]\n"
     ]
    },
    {
     "name": "stderr",
     "output_type": "stream",
     "text": [
      "\r",
      " 80%|████████  | 8/10 [00:02<00:00,  2.76it/s]"
     ]
    },
    {
     "name": "stdout",
     "output_type": "stream",
     "text": [
      "[[0.00000000e+000 0.00000000e+000 0.00000000e+000 ... 8.84924260e-161\n",
      "  0.00000000e+000 0.00000000e+000]\n",
      " [0.00000000e+000 0.00000000e+000 0.00000000e+000 ... 0.00000000e+000\n",
      "  0.00000000e+000 0.00000000e+000]\n",
      " [0.00000000e+000 0.00000000e+000 0.00000000e+000 ... 0.00000000e+000\n",
      "  0.00000000e+000 0.00000000e+000]\n",
      " ...\n",
      " [0.00000000e+000 0.00000000e+000 0.00000000e+000 ... 0.00000000e+000\n",
      "  0.00000000e+000 0.00000000e+000]\n",
      " [0.00000000e+000 0.00000000e+000 3.19288119e-152 ... 3.82723851e-153\n",
      "  0.00000000e+000 0.00000000e+000]\n",
      " [0.00000000e+000 0.00000000e+000 0.00000000e+000 ... 5.78886041e-042\n",
      "  0.00000000e+000 0.00000000e+000]]\n",
      "[[ nan  nan  nan ...  -0.  nan  nan]\n",
      " [ nan  nan  nan ...  nan  nan -inf]\n",
      " [ nan  nan  nan ...  nan  nan -inf]\n",
      " ...\n",
      " [ nan  nan  nan ...  nan  nan  nan]\n",
      " [ nan  nan  -0. ...  -0.  nan  nan]\n",
      " [ nan  nan  nan ...  -0.  nan  nan]]\n"
     ]
    },
    {
     "name": "stderr",
     "output_type": "stream",
     "text": [
      "\r",
      " 90%|█████████ | 9/10 [00:03<00:00,  2.68it/s]"
     ]
    },
    {
     "name": "stdout",
     "output_type": "stream",
     "text": [
      "[[0.00000000e+000 0.00000000e+000 4.18587579e-303 ... 0.00000000e+000\n",
      "  0.00000000e+000 0.00000000e+000]\n",
      " [0.00000000e+000 0.00000000e+000 1.00000000e+000 ... 0.00000000e+000\n",
      "  0.00000000e+000 0.00000000e+000]\n",
      " [0.00000000e+000 0.00000000e+000 3.98816419e-268 ... 0.00000000e+000\n",
      "  0.00000000e+000 9.33761807e-014]\n",
      " ...\n",
      " [0.00000000e+000 0.00000000e+000 0.00000000e+000 ... 0.00000000e+000\n",
      "  0.00000000e+000 0.00000000e+000]\n",
      " [0.00000000e+000 0.00000000e+000 1.00000000e+000 ... 0.00000000e+000\n",
      "  0.00000000e+000 0.00000000e+000]\n",
      " [0.00000000e+000 0.00000000e+000 1.00000000e+000 ... 0.00000000e+000\n",
      "  0.00000000e+000 0.00000000e+000]]\n",
      "[[         nan          nan  -0.         ...          nan          nan\n",
      "           nan]\n",
      " [         nan          nan   0.         ...          nan          nan\n",
      "          -inf]\n",
      " [         nan          nan  -0.         ...          nan          nan\n",
      "  -30.00214011]\n",
      " ...\n",
      " [         nan          nan          nan ...          nan          nan\n",
      "           nan]\n",
      " [         nan          nan   0.         ...          nan          nan\n",
      "           nan]\n",
      " [         nan          nan   0.         ...          nan          nan\n",
      "           nan]]\n"
     ]
    },
    {
     "name": "stderr",
     "output_type": "stream",
     "text": [
      "100%|██████████| 10/10 [00:03<00:00,  2.66it/s]"
     ]
    },
    {
     "name": "stdout",
     "output_type": "stream",
     "text": [
      "[[0.00000000e+000 1.00000000e+000 0.00000000e+000 ... 1.00000000e+000\n",
      "  0.00000000e+000 1.04419754e-224]\n",
      " [0.00000000e+000 1.00000000e+000 0.00000000e+000 ... 0.00000000e+000\n",
      "  1.00000000e+000 1.11115593e-272]\n",
      " [0.00000000e+000 7.95065518e-182 0.00000000e+000 ... 0.00000000e+000\n",
      "  1.00000000e+000 1.00000000e+000]\n",
      " ...\n",
      " [0.00000000e+000 1.00000000e+000 0.00000000e+000 ... 0.00000000e+000\n",
      "  1.77847031e-126 1.00000000e+000]\n",
      " [0.00000000e+000 1.31457424e-293 0.00000000e+000 ... 1.00000000e+000\n",
      "  0.00000000e+000 0.00000000e+000]\n",
      " [0.00000000e+000 1.42396333e-082 0.00000000e+000 ... 1.00000000e+000\n",
      "  0.00000000e+000 0.00000000e+000]]\n",
      "[[          nan    0.                   nan ...    0.\n",
      "            nan   -0.        ]\n",
      " [          nan    0.                   nan ...           nan\n",
      "     0.         -626.19774444]\n",
      " [          nan   -0.                   nan ...           nan\n",
      "     0.            0.        ]\n",
      " ...\n",
      " [          nan    0.                   nan ...           nan\n",
      "    -0.            0.        ]\n",
      " [          nan   -0.                   nan ...    0.\n",
      "            nan           nan]\n",
      " [          nan   -0.                   nan ...    0.\n",
      "            nan           nan]]\n"
     ]
    },
    {
     "name": "stderr",
     "output_type": "stream",
     "text": [
      "\n",
      " 10%|█         | 1/10 [00:00<00:02,  3.43it/s]"
     ]
    },
    {
     "name": "stdout",
     "output_type": "stream",
     "text": [
      "[[0. 0. 0. ... 0. 0. 0.]\n",
      " [0. 0. 0. ... 0. 0. 0.]\n",
      " [0. 0. 0. ... 0. 0. 0.]\n",
      " ...\n",
      " [0. 0. 0. ... 0. 0. 0.]\n",
      " [0. 0. 0. ... 0. 0. 0.]\n",
      " [0. 0. 0. ... 0. 0. 0.]]\n",
      "[[ nan  nan  nan ...  nan  nan  nan]\n",
      " [ nan  nan  nan ...  nan  nan -inf]\n",
      " [ nan  nan  nan ...  nan  nan -inf]\n",
      " ...\n",
      " [ nan  nan  nan ...  nan  nan  nan]\n",
      " [ nan  nan  nan ...  nan  nan  nan]\n",
      " [ nan  nan  nan ...  nan  nan  nan]]\n",
      "Epoch 0, Loss [[nan nan nan ... nan nan nan]\n",
      " [nan nan nan ... nan nan inf]\n",
      " [nan nan nan ... nan nan inf]\n",
      " ...\n",
      " [nan nan nan ... nan nan nan]\n",
      " [nan nan nan ... nan nan nan]\n",
      " [nan nan nan ... nan nan nan]]\n"
     ]
    },
    {
     "name": "stderr",
     "output_type": "stream",
     "text": [
      "\r",
      " 20%|██        | 2/10 [00:00<00:02,  2.83it/s]"
     ]
    },
    {
     "name": "stdout",
     "output_type": "stream",
     "text": [
      "[[0.00000000e+000 0.00000000e+000 0.00000000e+000 ... 0.00000000e+000\n",
      "  0.00000000e+000 0.00000000e+000]\n",
      " [0.00000000e+000 0.00000000e+000 0.00000000e+000 ... 0.00000000e+000\n",
      "  0.00000000e+000 0.00000000e+000]\n",
      " [1.20232488e-165 0.00000000e+000 0.00000000e+000 ... 0.00000000e+000\n",
      "  0.00000000e+000 0.00000000e+000]\n",
      " ...\n",
      " [0.00000000e+000 0.00000000e+000 0.00000000e+000 ... 0.00000000e+000\n",
      "  0.00000000e+000 0.00000000e+000]\n",
      " [0.00000000e+000 0.00000000e+000 0.00000000e+000 ... 0.00000000e+000\n",
      "  0.00000000e+000 0.00000000e+000]\n",
      " [0.00000000e+000 0.00000000e+000 0.00000000e+000 ... 0.00000000e+000\n",
      "  0.00000000e+000 0.00000000e+000]]\n",
      "[[ nan  nan  nan ...  nan  nan  nan]\n",
      " [ nan  nan  nan ...  nan  nan -inf]\n",
      " [ -0.  nan  nan ...  nan  nan -inf]\n",
      " ...\n",
      " [ nan  nan  nan ...  nan  nan  nan]\n",
      " [ nan  nan  nan ...  nan  nan  nan]\n",
      " [ nan  nan  nan ...  nan  nan  nan]]\n"
     ]
    },
    {
     "name": "stderr",
     "output_type": "stream",
     "text": [
      "\r",
      " 30%|███       | 3/10 [00:01<00:02,  2.67it/s]"
     ]
    },
    {
     "name": "stdout",
     "output_type": "stream",
     "text": [
      "[[0.00000000e+000 0.00000000e+000 0.00000000e+000 ... 0.00000000e+000\n",
      "  0.00000000e+000 0.00000000e+000]\n",
      " [0.00000000e+000 0.00000000e+000 0.00000000e+000 ... 0.00000000e+000\n",
      "  5.54341518e-070 0.00000000e+000]\n",
      " [0.00000000e+000 0.00000000e+000 0.00000000e+000 ... 0.00000000e+000\n",
      "  6.53950355e-118 0.00000000e+000]\n",
      " ...\n",
      " [0.00000000e+000 0.00000000e+000 0.00000000e+000 ... 0.00000000e+000\n",
      "  0.00000000e+000 0.00000000e+000]\n",
      " [0.00000000e+000 0.00000000e+000 0.00000000e+000 ... 0.00000000e+000\n",
      "  0.00000000e+000 0.00000000e+000]\n",
      " [0.00000000e+000 0.00000000e+000 0.00000000e+000 ... 0.00000000e+000\n",
      "  0.00000000e+000 0.00000000e+000]]\n",
      "[[ nan  nan  nan ...  nan  nan  nan]\n",
      " [ nan  nan  nan ...  nan  -0. -inf]\n",
      " [ nan  nan  nan ...  nan  -0. -inf]\n",
      " ...\n",
      " [ nan  nan  nan ...  nan  nan  nan]\n",
      " [ nan  nan  nan ...  nan  nan  nan]\n",
      " [ nan  nan  nan ...  nan  nan  nan]]\n"
     ]
    },
    {
     "name": "stderr",
     "output_type": "stream",
     "text": [
      "\r",
      " 40%|████      | 4/10 [00:01<00:01,  3.25it/s]"
     ]
    },
    {
     "name": "stdout",
     "output_type": "stream",
     "text": [
      "[[0.00000000e+000 0.00000000e+000 0.00000000e+000 ... 1.00000000e+000\n",
      "  0.00000000e+000 0.00000000e+000]\n",
      " [0.00000000e+000 0.00000000e+000 0.00000000e+000 ... 1.14214928e-308\n",
      "  0.00000000e+000 0.00000000e+000]\n",
      " [1.00000000e+000 0.00000000e+000 0.00000000e+000 ... 0.00000000e+000\n",
      "  0.00000000e+000 1.00000000e+000]\n",
      " ...\n",
      " [0.00000000e+000 0.00000000e+000 0.00000000e+000 ... 0.00000000e+000\n",
      "  0.00000000e+000 1.00000000e+000]\n",
      " [0.00000000e+000 0.00000000e+000 0.00000000e+000 ... 1.00000000e+000\n",
      "  0.00000000e+000 0.00000000e+000]\n",
      " [1.79501799e-270 0.00000000e+000 0.00000000e+000 ... 1.00000000e+000\n",
      "  0.00000000e+000 0.00000000e+000]]\n",
      "[[ nan  nan  nan ...   0.  nan  nan]\n",
      " [ nan  nan  nan ...  -0.  nan -inf]\n",
      " [  0.  nan  nan ...  nan  nan   0.]\n",
      " ...\n",
      " [ nan  nan  nan ...  nan  nan   0.]\n",
      " [ nan  nan  nan ...   0.  nan  nan]\n",
      " [ -0.  nan  nan ...   0.  nan  nan]]\n",
      "[[0.00000000e+000 1.00000000e+000 0.00000000e+000 ... 0.00000000e+000\n",
      "  0.00000000e+000 0.00000000e+000]\n",
      " [0.00000000e+000 1.00000000e+000 0.00000000e+000 ... 0.00000000e+000\n",
      "  1.00000000e+000 0.00000000e+000]\n",
      " [0.00000000e+000 0.00000000e+000 0.00000000e+000 ... 0.00000000e+000\n",
      "  1.00000000e+000 0.00000000e+000]\n",
      " ...\n",
      " [0.00000000e+000 2.20006620e-123 0.00000000e+000 ... 0.00000000e+000\n",
      "  6.97910983e-158 0.00000000e+000]\n",
      " [0.00000000e+000 0.00000000e+000 1.00000000e+000 ... 0.00000000e+000\n",
      "  0.00000000e+000 0.00000000e+000]\n",
      " [0.00000000e+000 3.89415494e-227 1.12176582e-176 ... 0.00000000e+000\n",
      "  0.00000000e+000 0.00000000e+000]]\n",
      "[[ nan   0.  nan ...  nan  nan  nan]\n",
      " [ nan   0.  nan ...  nan   0. -inf]\n",
      " [ nan  nan  nan ...  nan   0. -inf]\n",
      " ...\n",
      " [ nan  -0.  nan ...  nan  -0.  nan]\n",
      " [ nan  nan   0. ...  nan  nan  nan]\n",
      " [ nan  -0.  -0. ...  nan  nan  nan]]\n"
     ]
    },
    {
     "name": "stderr",
     "output_type": "stream",
     "text": [
      " 60%|██████    | 6/10 [00:01<00:01,  3.30it/s]"
     ]
    },
    {
     "name": "stdout",
     "output_type": "stream",
     "text": [
      "[[0.00000000e+000 0.00000000e+000 0.00000000e+000 ... 0.00000000e+000\n",
      "  0.00000000e+000 0.00000000e+000]\n",
      " [0.00000000e+000 0.00000000e+000 0.00000000e+000 ... 0.00000000e+000\n",
      "  0.00000000e+000 0.00000000e+000]\n",
      " [0.00000000e+000 0.00000000e+000 0.00000000e+000 ... 0.00000000e+000\n",
      "  0.00000000e+000 1.00000000e+000]\n",
      " ...\n",
      " [0.00000000e+000 0.00000000e+000 0.00000000e+000 ... 0.00000000e+000\n",
      "  0.00000000e+000 1.00000000e+000]\n",
      " [0.00000000e+000 0.00000000e+000 1.00000000e+000 ... 0.00000000e+000\n",
      "  0.00000000e+000 0.00000000e+000]\n",
      " [0.00000000e+000 0.00000000e+000 6.17444644e-155 ... 0.00000000e+000\n",
      "  0.00000000e+000 0.00000000e+000]]\n",
      "[[ nan  nan  nan ...  nan  nan  nan]\n",
      " [ nan  nan  nan ...  nan  nan -inf]\n",
      " [ nan  nan  nan ...  nan  nan   0.]\n",
      " ...\n",
      " [ nan  nan  nan ...  nan  nan   0.]\n",
      " [ nan  nan   0. ...  nan  nan  nan]\n",
      " [ nan  nan  -0. ...  nan  nan  nan]]\n"
     ]
    },
    {
     "name": "stderr",
     "output_type": "stream",
     "text": [
      "\r",
      " 70%|███████   | 7/10 [00:02<00:00,  3.70it/s]"
     ]
    },
    {
     "name": "stdout",
     "output_type": "stream",
     "text": [
      "[[0.00000000e+000 0.00000000e+000 0.00000000e+000 ... 0.00000000e+000\n",
      "  0.00000000e+000 0.00000000e+000]\n",
      " [0.00000000e+000 0.00000000e+000 0.00000000e+000 ... 0.00000000e+000\n",
      "  0.00000000e+000 0.00000000e+000]\n",
      " [0.00000000e+000 0.00000000e+000 0.00000000e+000 ... 0.00000000e+000\n",
      "  0.00000000e+000 1.00000000e+000]\n",
      " ...\n",
      " [0.00000000e+000 0.00000000e+000 0.00000000e+000 ... 0.00000000e+000\n",
      "  0.00000000e+000 0.00000000e+000]\n",
      " [0.00000000e+000 0.00000000e+000 1.09019406e-066 ... 0.00000000e+000\n",
      "  0.00000000e+000 0.00000000e+000]\n",
      " [0.00000000e+000 0.00000000e+000 1.96962186e-287 ... 0.00000000e+000\n",
      "  0.00000000e+000 0.00000000e+000]]\n",
      "[[ nan  nan  nan ...  nan  nan  nan]\n",
      " [ nan  nan  nan ...  nan  nan -inf]\n",
      " [ nan  nan  nan ...  nan  nan   0.]\n",
      " ...\n",
      " [ nan  nan  nan ...  nan  nan  nan]\n",
      " [ nan  nan  -0. ...  nan  nan  nan]\n",
      " [ nan  nan  -0. ...  nan  nan  nan]]\n"
     ]
    },
    {
     "name": "stderr",
     "output_type": "stream",
     "text": [
      "\r",
      " 80%|████████  | 8/10 [00:02<00:00,  3.60it/s]"
     ]
    },
    {
     "name": "stdout",
     "output_type": "stream",
     "text": [
      "[[0.00000000e+000 1.00000000e+000 0.00000000e+000 ... 0.00000000e+000\n",
      "  0.00000000e+000 1.69271957e-225]\n",
      " [0.00000000e+000 1.00000000e+000 1.00000000e+000 ... 0.00000000e+000\n",
      "  1.00000000e+000 0.00000000e+000]\n",
      " [0.00000000e+000 0.00000000e+000 0.00000000e+000 ... 0.00000000e+000\n",
      "  1.00000000e+000 1.00000000e+000]\n",
      " ...\n",
      " [0.00000000e+000 9.82049390e-109 0.00000000e+000 ... 0.00000000e+000\n",
      "  1.28825430e-299 1.00000000e+000]\n",
      " [0.00000000e+000 0.00000000e+000 1.00000000e+000 ... 0.00000000e+000\n",
      "  0.00000000e+000 0.00000000e+000]\n",
      " [0.00000000e+000 1.36393206e-202 1.00000000e+000 ... 0.00000000e+000\n",
      "  0.00000000e+000 0.00000000e+000]]\n",
      "[[ nan   0.  nan ...  nan  nan  -0.]\n",
      " [ nan   0.   0. ...  nan   0. -inf]\n",
      " [ nan  nan  nan ...  nan   0.   0.]\n",
      " ...\n",
      " [ nan  -0.  nan ...  nan  -0.   0.]\n",
      " [ nan  nan   0. ...  nan  nan  nan]\n",
      " [ nan  -0.   0. ...  nan  nan  nan]]\n",
      "[[0.00000000e+000 0.00000000e+000 0.00000000e+000 ... 1.00000000e+000\n",
      "  0.00000000e+000 0.00000000e+000]\n",
      " [0.00000000e+000 0.00000000e+000 0.00000000e+000 ... 6.08056982e-171\n",
      "  0.00000000e+000 0.00000000e+000]\n",
      " [1.00000000e+000 0.00000000e+000 0.00000000e+000 ... 0.00000000e+000\n",
      "  0.00000000e+000 0.00000000e+000]\n",
      " ...\n",
      " [0.00000000e+000 0.00000000e+000 0.00000000e+000 ... 0.00000000e+000\n",
      "  0.00000000e+000 0.00000000e+000]\n",
      " [0.00000000e+000 0.00000000e+000 0.00000000e+000 ... 1.00000000e+000\n",
      "  0.00000000e+000 0.00000000e+000]\n",
      " [0.00000000e+000 0.00000000e+000 0.00000000e+000 ... 1.00000000e+000\n",
      "  0.00000000e+000 0.00000000e+000]]\n",
      "[[ nan  nan  nan ...   0.  nan  nan]\n",
      " [ nan  nan  nan ...  -0.  nan -inf]\n",
      " [  0.  nan  nan ...  nan  nan -inf]\n",
      " ...\n",
      " [ nan  nan  nan ...  nan  nan  nan]\n",
      " [ nan  nan  nan ...   0.  nan  nan]\n",
      " [ nan  nan  nan ...   0.  nan  nan]]\n"
     ]
    },
    {
     "name": "stderr",
     "output_type": "stream",
     "text": [
      "100%|██████████| 10/10 [00:03<00:00,  3.24it/s]"
     ]
    },
    {
     "name": "stdout",
     "output_type": "stream",
     "text": [
      "[[0. 0. 0. ... 0. 0. 0.]\n",
      " [0. 0. 0. ... 0. 0. 0.]\n",
      " [0. 0. 0. ... 0. 0. 0.]\n",
      " ...\n",
      " [0. 0. 0. ... 0. 0. 0.]\n",
      " [0. 0. 0. ... 0. 0. 0.]\n",
      " [0. 0. 0. ... 0. 0. 0.]]\n",
      "[[ nan  nan  nan ...  nan  nan  nan]\n",
      " [ nan  nan  nan ...  nan  nan -inf]\n",
      " [ nan  nan  nan ...  nan  nan -inf]\n",
      " ...\n",
      " [ nan  nan  nan ...  nan  nan  nan]\n",
      " [ nan  nan  nan ...  nan  nan  nan]\n",
      " [ nan  nan  nan ...  nan  nan  nan]]\n"
     ]
    },
    {
     "name": "stderr",
     "output_type": "stream",
     "text": [
      "\n",
      " 10%|█         | 1/10 [00:00<00:01,  4.57it/s]"
     ]
    },
    {
     "name": "stdout",
     "output_type": "stream",
     "text": [
      "[[0.00000000e+000 1.00000000e+000 0.00000000e+000 ... 0.00000000e+000\n",
      "  0.00000000e+000 0.00000000e+000]\n",
      " [0.00000000e+000 1.00000000e+000 0.00000000e+000 ... 0.00000000e+000\n",
      "  1.00000000e+000 0.00000000e+000]\n",
      " [0.00000000e+000 0.00000000e+000 0.00000000e+000 ... 0.00000000e+000\n",
      "  1.00000000e+000 1.33674678e-283]\n",
      " ...\n",
      " [0.00000000e+000 6.16517823e-292 0.00000000e+000 ... 0.00000000e+000\n",
      "  1.45814313e-042 0.00000000e+000]\n",
      " [0.00000000e+000 0.00000000e+000 0.00000000e+000 ... 0.00000000e+000\n",
      "  0.00000000e+000 0.00000000e+000]\n",
      " [0.00000000e+000 0.00000000e+000 0.00000000e+000 ... 0.00000000e+000\n",
      "  0.00000000e+000 0.00000000e+000]]\n",
      "[[          nan    0.                   nan ...           nan\n",
      "            nan           nan]\n",
      " [          nan    0.                   nan ...           nan\n",
      "     0.                  -inf]\n",
      " [          nan           nan           nan ...           nan\n",
      "     0.         -651.34134243]\n",
      " ...\n",
      " [          nan   -0.                   nan ...           nan\n",
      "    -0.                   nan]\n",
      " [          nan           nan           nan ...           nan\n",
      "            nan           nan]\n",
      " [          nan           nan           nan ...           nan\n",
      "            nan           nan]]\n",
      "Epoch 0, Loss [[       nan        inf        nan ...        nan        nan        nan]\n",
      " [       nan        inf        nan ...        nan        inf        inf]\n",
      " [       nan        nan        nan ...        nan        inf 0.13026827]\n",
      " ...\n",
      " [       nan 0.                nan ...        nan 0.                nan]\n",
      " [       nan        nan        nan ...        nan        nan        nan]\n",
      " [       nan        nan        nan ...        nan        nan        nan]]\n",
      "[[0.00000000e+000 0.00000000e+000 0.00000000e+000 ... 0.00000000e+000\n",
      "  0.00000000e+000 9.94634833e-283]\n",
      " [0.00000000e+000 0.00000000e+000 0.00000000e+000 ... 0.00000000e+000\n",
      "  0.00000000e+000 0.00000000e+000]\n",
      " [0.00000000e+000 0.00000000e+000 0.00000000e+000 ... 0.00000000e+000\n",
      "  0.00000000e+000 1.00000000e+000]\n",
      " ...\n",
      " [0.00000000e+000 0.00000000e+000 0.00000000e+000 ... 0.00000000e+000\n",
      "  0.00000000e+000 1.00000000e+000]\n",
      " [0.00000000e+000 0.00000000e+000 0.00000000e+000 ... 0.00000000e+000\n",
      "  0.00000000e+000 0.00000000e+000]\n",
      " [0.00000000e+000 0.00000000e+000 0.00000000e+000 ... 0.00000000e+000\n",
      "  0.00000000e+000 0.00000000e+000]]\n",
      "[[ nan  nan  nan ...  nan  nan  -0.]\n",
      " [ nan  nan  nan ...  nan  nan -inf]\n",
      " [ nan  nan  nan ...  nan  nan   0.]\n",
      " ...\n",
      " [ nan  nan  nan ...  nan  nan   0.]\n",
      " [ nan  nan  nan ...  nan  nan  nan]\n",
      " [ nan  nan  nan ...  nan  nan  nan]]\n"
     ]
    },
    {
     "name": "stderr",
     "output_type": "stream",
     "text": [
      "\r",
      " 20%|██        | 2/10 [00:00<00:02,  2.93it/s]"
     ]
    },
    {
     "name": "stdout",
     "output_type": "stream",
     "text": [
      "[[0.00000000e+000 1.00000000e+000 0.00000000e+000 ... 0.00000000e+000\n",
      "  0.00000000e+000 0.00000000e+000]\n",
      " [0.00000000e+000 1.00000000e+000 0.00000000e+000 ... 0.00000000e+000\n",
      "  0.00000000e+000 0.00000000e+000]\n",
      " [0.00000000e+000 0.00000000e+000 0.00000000e+000 ... 0.00000000e+000\n",
      "  0.00000000e+000 0.00000000e+000]\n",
      " ...\n",
      " [0.00000000e+000 3.24155765e-097 0.00000000e+000 ... 0.00000000e+000\n",
      "  0.00000000e+000 0.00000000e+000]\n",
      " [0.00000000e+000 0.00000000e+000 1.00000000e+000 ... 0.00000000e+000\n",
      "  0.00000000e+000 0.00000000e+000]\n",
      " [0.00000000e+000 1.42479155e-185 1.70379666e-234 ... 0.00000000e+000\n",
      "  0.00000000e+000 0.00000000e+000]]\n",
      "[[ nan   0.  nan ...  nan  nan  nan]\n",
      " [ nan   0.  nan ...  nan  nan -inf]\n",
      " [ nan  nan  nan ...  nan  nan -inf]\n",
      " ...\n",
      " [ nan  -0.  nan ...  nan  nan  nan]\n",
      " [ nan  nan   0. ...  nan  nan  nan]\n",
      " [ nan  -0.  -0. ...  nan  nan  nan]]\n"
     ]
    },
    {
     "name": "stderr",
     "output_type": "stream",
     "text": [
      " 40%|████      | 4/10 [00:01<00:01,  3.32it/s]"
     ]
    },
    {
     "name": "stdout",
     "output_type": "stream",
     "text": [
      "[[0.00000000e+000 0.00000000e+000 0.00000000e+000 ... 0.00000000e+000\n",
      "  0.00000000e+000 0.00000000e+000]\n",
      " [0.00000000e+000 0.00000000e+000 1.62320013e-140 ... 0.00000000e+000\n",
      "  0.00000000e+000 0.00000000e+000]\n",
      " [1.00000000e+000 0.00000000e+000 0.00000000e+000 ... 0.00000000e+000\n",
      "  0.00000000e+000 0.00000000e+000]\n",
      " ...\n",
      " [0.00000000e+000 0.00000000e+000 0.00000000e+000 ... 0.00000000e+000\n",
      "  0.00000000e+000 0.00000000e+000]\n",
      " [0.00000000e+000 0.00000000e+000 1.00000000e+000 ... 0.00000000e+000\n",
      "  0.00000000e+000 0.00000000e+000]\n",
      " [0.00000000e+000 0.00000000e+000 1.00000000e+000 ... 0.00000000e+000\n",
      "  0.00000000e+000 0.00000000e+000]]\n",
      "[[ nan  nan  nan ...  nan  nan  nan]\n",
      " [ nan  nan  -0. ...  nan  nan -inf]\n",
      " [  0.  nan  nan ...  nan  nan -inf]\n",
      " ...\n",
      " [ nan  nan  nan ...  nan  nan  nan]\n",
      " [ nan  nan   0. ...  nan  nan  nan]\n",
      " [ nan  nan   0. ...  nan  nan  nan]]\n",
      "[[0.00000000e+000 0.00000000e+000 0.00000000e+000 ... 1.00000000e+000\n",
      "  0.00000000e+000 0.00000000e+000]\n",
      " [0.00000000e+000 0.00000000e+000 0.00000000e+000 ... 4.62315034e-280\n",
      "  1.00000000e+000 0.00000000e+000]\n",
      " [0.00000000e+000 0.00000000e+000 0.00000000e+000 ... 0.00000000e+000\n",
      "  1.00000000e+000 1.00000000e+000]\n",
      " ...\n",
      " [0.00000000e+000 0.00000000e+000 0.00000000e+000 ... 0.00000000e+000\n",
      "  1.00000000e+000 0.00000000e+000]\n",
      " [0.00000000e+000 0.00000000e+000 0.00000000e+000 ... 1.00000000e+000\n",
      "  0.00000000e+000 0.00000000e+000]\n",
      " [0.00000000e+000 0.00000000e+000 0.00000000e+000 ... 1.00000000e+000\n",
      "  0.00000000e+000 0.00000000e+000]]\n"
     ]
    },
    {
     "name": "stderr",
     "output_type": "stream",
     "text": [
      "\r",
      " 50%|█████     | 5/10 [00:01<00:01,  3.09it/s]"
     ]
    },
    {
     "name": "stdout",
     "output_type": "stream",
     "text": [
      "[[ nan  nan  nan ...   0.  nan  nan]\n",
      " [ nan  nan  nan ...  -0.   0. -inf]\n",
      " [ nan  nan  nan ...  nan   0.   0.]\n",
      " ...\n",
      " [ nan  nan  nan ...  nan   0.  nan]\n",
      " [ nan  nan  nan ...   0.  nan  nan]\n",
      " [ nan  nan  nan ...   0.  nan  nan]]\n"
     ]
    },
    {
     "name": "stderr",
     "output_type": "stream",
     "text": [
      "\r",
      " 60%|██████    | 6/10 [00:01<00:01,  3.37it/s]"
     ]
    },
    {
     "name": "stdout",
     "output_type": "stream",
     "text": [
      "[[0.00000000e+000 1.85557103e-040 0.00000000e+000 ... 0.00000000e+000\n",
      "  0.00000000e+000 1.90008057e-255]\n",
      " [0.00000000e+000 1.00000000e+000 0.00000000e+000 ... 0.00000000e+000\n",
      "  0.00000000e+000 0.00000000e+000]\n",
      " [0.00000000e+000 0.00000000e+000 0.00000000e+000 ... 0.00000000e+000\n",
      "  0.00000000e+000 1.00000000e+000]\n",
      " ...\n",
      " [0.00000000e+000 0.00000000e+000 0.00000000e+000 ... 0.00000000e+000\n",
      "  0.00000000e+000 1.00000000e+000]\n",
      " [0.00000000e+000 0.00000000e+000 0.00000000e+000 ... 0.00000000e+000\n",
      "  0.00000000e+000 0.00000000e+000]\n",
      " [0.00000000e+000 0.00000000e+000 0.00000000e+000 ... 0.00000000e+000\n",
      "  0.00000000e+000 0.00000000e+000]]\n",
      "[[ nan  -0.  nan ...  nan  nan  -0.]\n",
      " [ nan   0.  nan ...  nan  nan -inf]\n",
      " [ nan  nan  nan ...  nan  nan   0.]\n",
      " ...\n",
      " [ nan  nan  nan ...  nan  nan   0.]\n",
      " [ nan  nan  nan ...  nan  nan  nan]\n",
      " [ nan  nan  nan ...  nan  nan  nan]]\n",
      "[[0.0000000e+000 2.0390163e-194 0.0000000e+000 ... 0.0000000e+000\n",
      "  0.0000000e+000 0.0000000e+000]\n",
      " [0.0000000e+000 1.0000000e+000 0.0000000e+000 ... 0.0000000e+000\n",
      "  0.0000000e+000 0.0000000e+000]\n",
      " [0.0000000e+000 0.0000000e+000 0.0000000e+000 ... 0.0000000e+000\n",
      "  0.0000000e+000 0.0000000e+000]\n",
      " ...\n",
      " [0.0000000e+000 0.0000000e+000 0.0000000e+000 ... 0.0000000e+000\n",
      "  0.0000000e+000 0.0000000e+000]\n",
      " [0.0000000e+000 0.0000000e+000 0.0000000e+000 ... 0.0000000e+000\n",
      "  0.0000000e+000 0.0000000e+000]\n",
      " [0.0000000e+000 0.0000000e+000 0.0000000e+000 ... 0.0000000e+000\n",
      "  0.0000000e+000 0.0000000e+000]]\n",
      "[[ nan  -0.  nan ...  nan  nan  nan]\n",
      " [ nan   0.  nan ...  nan  nan -inf]\n",
      " [ nan  nan  nan ...  nan  nan -inf]\n",
      " ...\n",
      " [ nan  nan  nan ...  nan  nan  nan]\n",
      " [ nan  nan  nan ...  nan  nan  nan]\n",
      " [ nan  nan  nan ...  nan  nan  nan]]\n"
     ]
    },
    {
     "name": "stderr",
     "output_type": "stream",
     "text": [
      " 80%|████████  | 8/10 [00:02<00:00,  3.18it/s]"
     ]
    },
    {
     "name": "stdout",
     "output_type": "stream",
     "text": [
      "[[0.00000000e+000 1.00000000e+000 3.03645397e-158 ... 0.00000000e+000\n",
      "  0.00000000e+000 0.00000000e+000]\n",
      " [0.00000000e+000 1.00000000e+000 1.00000000e+000 ... 0.00000000e+000\n",
      "  0.00000000e+000 0.00000000e+000]\n",
      " [1.00000000e+000 0.00000000e+000 1.00000000e+000 ... 0.00000000e+000\n",
      "  0.00000000e+000 0.00000000e+000]\n",
      " ...\n",
      " [0.00000000e+000 3.04377751e-132 3.84242980e-125 ... 0.00000000e+000\n",
      "  0.00000000e+000 0.00000000e+000]\n",
      " [0.00000000e+000 0.00000000e+000 1.00000000e+000 ... 0.00000000e+000\n",
      "  0.00000000e+000 0.00000000e+000]\n",
      " [0.00000000e+000 3.57272769e-205 1.00000000e+000 ... 0.00000000e+000\n",
      "  0.00000000e+000 0.00000000e+000]]\n",
      "[[ nan   0.  -0. ...  nan  nan  nan]\n",
      " [ nan   0.   0. ...  nan  nan -inf]\n",
      " [  0.  nan   0. ...  nan  nan -inf]\n",
      " ...\n",
      " [ nan  -0.  -0. ...  nan  nan  nan]\n",
      " [ nan  nan   0. ...  nan  nan  nan]\n",
      " [ nan  -0.   0. ...  nan  nan  nan]]\n",
      "[[0.0000000e+000 0.0000000e+000 0.0000000e+000 ... 0.0000000e+000\n",
      "  0.0000000e+000 0.0000000e+000]\n",
      " [0.0000000e+000 0.0000000e+000 0.0000000e+000 ... 0.0000000e+000\n",
      "  0.0000000e+000 0.0000000e+000]\n",
      " [0.0000000e+000 0.0000000e+000 0.0000000e+000 ... 0.0000000e+000\n",
      "  0.0000000e+000 5.5049138e-162]\n",
      " ...\n",
      " [0.0000000e+000 0.0000000e+000 0.0000000e+000 ... 0.0000000e+000\n",
      "  0.0000000e+000 0.0000000e+000]\n",
      " [0.0000000e+000 0.0000000e+000 0.0000000e+000 ... 0.0000000e+000\n",
      "  0.0000000e+000 0.0000000e+000]\n",
      " [0.0000000e+000 0.0000000e+000 0.0000000e+000 ... 0.0000000e+000\n",
      "  0.0000000e+000 0.0000000e+000]]\n",
      "[[          nan           nan           nan ...           nan\n",
      "            nan           nan]\n",
      " [          nan           nan           nan ...           nan\n",
      "            nan          -inf]\n",
      " [          nan           nan           nan ...           nan\n",
      "            nan -371.31314395]\n",
      " ...\n",
      " [          nan           nan           nan ...           nan\n",
      "            nan           nan]\n",
      " [          nan           nan           nan ...           nan\n",
      "            nan           nan]\n",
      " [          nan           nan           nan ...           nan\n",
      "            nan           nan]]\n"
     ]
    },
    {
     "name": "stderr",
     "output_type": "stream",
     "text": [
      "100%|██████████| 10/10 [00:03<00:00,  2.81it/s]"
     ]
    },
    {
     "name": "stdout",
     "output_type": "stream",
     "text": [
      "[[0.00000000e+000 0.00000000e+000 0.00000000e+000 ... 1.00000000e+000\n",
      "  0.00000000e+000 4.60671690e-292]\n",
      " [0.00000000e+000 0.00000000e+000 0.00000000e+000 ... 2.15821674e-307\n",
      "  1.00000000e+000 0.00000000e+000]\n",
      " [0.00000000e+000 0.00000000e+000 0.00000000e+000 ... 0.00000000e+000\n",
      "  1.00000000e+000 1.00000000e+000]\n",
      " ...\n",
      " [0.00000000e+000 0.00000000e+000 0.00000000e+000 ... 0.00000000e+000\n",
      "  1.00000000e+000 1.00000000e+000]\n",
      " [0.00000000e+000 0.00000000e+000 0.00000000e+000 ... 1.00000000e+000\n",
      "  0.00000000e+000 0.00000000e+000]\n",
      " [0.00000000e+000 0.00000000e+000 0.00000000e+000 ... 1.00000000e+000\n",
      "  0.00000000e+000 0.00000000e+000]]\n",
      "[[ nan  nan  nan ...   0.  nan  -0.]\n",
      " [ nan  nan  nan ...  -0.   0. -inf]\n",
      " [ nan  nan  nan ...  nan   0.   0.]\n",
      " ...\n",
      " [ nan  nan  nan ...  nan   0.   0.]\n",
      " [ nan  nan  nan ...   0.  nan  nan]\n",
      " [ nan  nan  nan ...   0.  nan  nan]]\n"
     ]
    },
    {
     "name": "stderr",
     "output_type": "stream",
     "text": [
      "100%|██████████| 10/10 [00:03<00:00,  3.02it/s]\n",
      "  0%|          | 0/10 [00:00<?, ?it/s]"
     ]
    },
    {
     "name": "stdout",
     "output_type": "stream",
     "text": [
      "[[0.00000000e+000 1.00000000e+000 0.00000000e+000 ... 0.00000000e+000\n",
      "  0.00000000e+000 0.00000000e+000]\n",
      " [0.00000000e+000 1.00000000e+000 0.00000000e+000 ... 0.00000000e+000\n",
      "  0.00000000e+000 0.00000000e+000]\n",
      " [2.29649915e-013 0.00000000e+000 0.00000000e+000 ... 0.00000000e+000\n",
      "  0.00000000e+000 0.00000000e+000]\n",
      " ...\n",
      " [0.00000000e+000 1.39221888e-164 0.00000000e+000 ... 0.00000000e+000\n",
      "  0.00000000e+000 0.00000000e+000]\n",
      " [0.00000000e+000 0.00000000e+000 0.00000000e+000 ... 0.00000000e+000\n",
      "  0.00000000e+000 0.00000000e+000]\n",
      " [0.00000000e+000 1.01551351e-218 0.00000000e+000 ... 0.00000000e+000\n",
      "  0.00000000e+000 0.00000000e+000]]\n",
      "[[ nan   0.  nan ...  nan  nan  nan]\n",
      " [ nan   0.  nan ...  nan  nan -inf]\n",
      " [ -0.  nan  nan ...  nan  nan -inf]\n",
      " ...\n",
      " [ nan  -0.  nan ...  nan  nan  nan]\n",
      " [ nan  nan  nan ...  nan  nan  nan]\n",
      " [ nan  -0.  nan ...  nan  nan  nan]]\n"
     ]
    },
    {
     "name": "stderr",
     "output_type": "stream",
     "text": [
      "\r",
      " 10%|█         | 1/10 [00:00<00:03,  2.89it/s]"
     ]
    },
    {
     "name": "stdout",
     "output_type": "stream",
     "text": [
      "Epoch 0, Loss [[           nan            inf            nan ...            nan\n",
      "             nan            nan]\n",
      " [           nan            inf            nan ...            nan\n",
      "             nan            inf]\n",
      " [4.59410288e-17            nan            nan ...            nan\n",
      "             nan            inf]\n",
      " ...\n",
      " [           nan 0.00000000e+00            nan ...            nan\n",
      "             nan            nan]\n",
      " [           nan            nan            nan ...            nan\n",
      "             nan            nan]\n",
      " [           nan 0.00000000e+00            nan ...            nan\n",
      "             nan            nan]]\n",
      "[[0. 0. 0. ... 0. 0. 0.]\n",
      " [0. 0. 0. ... 0. 0. 0.]\n",
      " [0. 0. 0. ... 0. 0. 0.]\n",
      " ...\n",
      " [0. 0. 0. ... 0. 0. 0.]\n",
      " [0. 0. 0. ... 0. 0. 0.]\n",
      " [0. 0. 0. ... 0. 0. 0.]]\n",
      "[[ nan  nan  nan ...  nan  nan  nan]\n",
      " [ nan  nan  nan ...  nan  nan -inf]\n",
      " [ nan  nan  nan ...  nan  nan -inf]\n",
      " ...\n",
      " [ nan  nan  nan ...  nan  nan  nan]\n",
      " [ nan  nan  nan ...  nan  nan  nan]\n",
      " [ nan  nan  nan ...  nan  nan  nan]]\n"
     ]
    },
    {
     "name": "stderr",
     "output_type": "stream",
     "text": [
      " 30%|███       | 3/10 [00:00<00:02,  3.06it/s]"
     ]
    },
    {
     "name": "stdout",
     "output_type": "stream",
     "text": [
      "[[0. 0. 0. ... 0. 0. 0.]\n",
      " [0. 0. 0. ... 0. 0. 0.]\n",
      " [0. 0. 0. ... 0. 0. 1.]\n",
      " ...\n",
      " [0. 0. 0. ... 0. 0. 0.]\n",
      " [0. 0. 0. ... 0. 0. 0.]\n",
      " [0. 0. 0. ... 0. 0. 0.]]\n",
      "[[ nan  nan  nan ...  nan  nan  nan]\n",
      " [ nan  nan  nan ...  nan  nan -inf]\n",
      " [ nan  nan  nan ...  nan  nan   0.]\n",
      " ...\n",
      " [ nan  nan  nan ...  nan  nan  nan]\n",
      " [ nan  nan  nan ...  nan  nan  nan]\n",
      " [ nan  nan  nan ...  nan  nan  nan]]\n"
     ]
    },
    {
     "name": "stderr",
     "output_type": "stream",
     "text": [
      "\r",
      " 40%|████      | 4/10 [00:01<00:01,  3.58it/s]"
     ]
    },
    {
     "name": "stdout",
     "output_type": "stream",
     "text": [
      "[[0.00000000e+000 1.00000000e+000 0.00000000e+000 ... 0.00000000e+000\n",
      "  0.00000000e+000 2.35168553e-304]\n",
      " [0.00000000e+000 1.00000000e+000 0.00000000e+000 ... 0.00000000e+000\n",
      "  1.00000000e+000 0.00000000e+000]\n",
      " [5.93531323e-206 1.65769725e-227 0.00000000e+000 ... 0.00000000e+000\n",
      "  1.00000000e+000 1.00000000e+000]\n",
      " ...\n",
      " [0.00000000e+000 1.00000000e+000 0.00000000e+000 ... 0.00000000e+000\n",
      "  0.00000000e+000 1.00000000e+000]\n",
      " [0.00000000e+000 0.00000000e+000 0.00000000e+000 ... 0.00000000e+000\n",
      "  0.00000000e+000 0.00000000e+000]\n",
      " [0.00000000e+000 2.02955569e-089 0.00000000e+000 ... 0.00000000e+000\n",
      "  0.00000000e+000 0.00000000e+000]]\n",
      "[[ nan   0.  nan ...  nan  nan  -0.]\n",
      " [ nan   0.  nan ...  nan   0. -inf]\n",
      " [ -0.  -0.  nan ...  nan   0.   0.]\n",
      " ...\n",
      " [ nan   0.  nan ...  nan  nan   0.]\n",
      " [ nan  nan  nan ...  nan  nan  nan]\n",
      " [ nan  -0.  nan ...  nan  nan  nan]]\n"
     ]
    },
    {
     "name": "stderr",
     "output_type": "stream",
     "text": [
      "\r",
      " 50%|█████     | 5/10 [00:01<00:01,  3.01it/s]"
     ]
    },
    {
     "name": "stdout",
     "output_type": "stream",
     "text": [
      "[[0.00000000e+000 0.00000000e+000 0.00000000e+000 ... 1.00000000e+000\n",
      "  0.00000000e+000 0.00000000e+000]\n",
      " [0.00000000e+000 0.00000000e+000 0.00000000e+000 ... 3.30687103e-172\n",
      "  0.00000000e+000 0.00000000e+000]\n",
      " [0.00000000e+000 0.00000000e+000 0.00000000e+000 ... 0.00000000e+000\n",
      "  0.00000000e+000 0.00000000e+000]\n",
      " ...\n",
      " [0.00000000e+000 0.00000000e+000 0.00000000e+000 ... 0.00000000e+000\n",
      "  0.00000000e+000 0.00000000e+000]\n",
      " [0.00000000e+000 0.00000000e+000 0.00000000e+000 ... 1.00000000e+000\n",
      "  0.00000000e+000 0.00000000e+000]\n",
      " [0.00000000e+000 0.00000000e+000 0.00000000e+000 ... 1.00000000e+000\n",
      "  0.00000000e+000 0.00000000e+000]]\n",
      "[[ nan  nan  nan ...   0.  nan  nan]\n",
      " [ nan  nan  nan ...  -0.  nan -inf]\n",
      " [ nan  nan  nan ...  nan  nan -inf]\n",
      " ...\n",
      " [ nan  nan  nan ...  nan  nan  nan]\n",
      " [ nan  nan  nan ...   0.  nan  nan]\n",
      " [ nan  nan  nan ...   0.  nan  nan]]\n",
      "[[0.00000000e+000 0.00000000e+000 0.00000000e+000 ... 0.00000000e+000\n",
      "  0.00000000e+000 0.00000000e+000]\n",
      " [0.00000000e+000 0.00000000e+000 1.42922437e-136 ... 0.00000000e+000\n",
      "  1.00000000e+000 0.00000000e+000]\n",
      " [1.00000000e+000 0.00000000e+000 0.00000000e+000 ... 0.00000000e+000\n",
      "  1.00000000e+000 0.00000000e+000]\n",
      " ...\n",
      " [0.00000000e+000 0.00000000e+000 0.00000000e+000 ... 0.00000000e+000\n",
      "  1.10147761e-119 0.00000000e+000]\n",
      " [0.00000000e+000 0.00000000e+000 1.00000000e+000 ... 0.00000000e+000\n",
      "  0.00000000e+000 0.00000000e+000]\n",
      " [1.55589464e-190 0.00000000e+000 1.00000000e+000 ... 0.00000000e+000\n",
      "  0.00000000e+000 0.00000000e+000]]\n"
     ]
    },
    {
     "name": "stderr",
     "output_type": "stream",
     "text": [
      "\r",
      " 60%|██████    | 6/10 [00:01<00:01,  3.61it/s]"
     ]
    },
    {
     "name": "stdout",
     "output_type": "stream",
     "text": [
      "[[ nan  nan  nan ...  nan  nan  nan]\n",
      " [ nan  nan  -0. ...  nan   0. -inf]\n",
      " [  0.  nan  nan ...  nan   0. -inf]\n",
      " ...\n",
      " [ nan  nan  nan ...  nan  -0.  nan]\n",
      " [ nan  nan   0. ...  nan  nan  nan]\n",
      " [ -0.  nan   0. ...  nan  nan  nan]]\n",
      "[[0. 0. 0. ... 0. 0. 0.]\n",
      " [0. 0. 0. ... 0. 0. 0.]\n",
      " [0. 0. 0. ... 0. 0. 1.]\n",
      " ...\n",
      " [0. 0. 0. ... 0. 0. 0.]\n",
      " [0. 0. 0. ... 0. 0. 0.]\n",
      " [0. 0. 0. ... 0. 0. 0.]]\n",
      "[[ nan  nan  nan ...  nan  nan  nan]\n",
      " [ nan  nan  nan ...  nan  nan -inf]\n",
      " [ nan  nan  nan ...  nan  nan   0.]\n",
      " ...\n",
      " [ nan  nan  nan ...  nan  nan  nan]\n",
      " [ nan  nan  nan ...  nan  nan  nan]\n",
      " [ nan  nan  nan ...  nan  nan  nan]]\n"
     ]
    },
    {
     "name": "stderr",
     "output_type": "stream",
     "text": [
      "\r",
      " 70%|███████   | 7/10 [00:02<00:00,  3.16it/s]"
     ]
    },
    {
     "name": "stdout",
     "output_type": "stream",
     "text": [
      "[[0. 0. 0. ... 0. 0. 0.]\n",
      " [0. 0. 0. ... 0. 0. 0.]\n",
      " [0. 0. 0. ... 0. 0. 1.]\n",
      " ...\n",
      " [0. 0. 0. ... 0. 0. 1.]\n",
      " [0. 0. 0. ... 0. 0. 0.]\n",
      " [0. 0. 0. ... 0. 0. 0.]]\n",
      "[[ nan  nan  nan ...  nan  nan  nan]\n",
      " [ nan  nan  nan ...  nan  nan -inf]\n",
      " [ nan  nan  nan ...  nan  nan   0.]\n",
      " ...\n",
      " [ nan  nan  nan ...  nan  nan   0.]\n",
      " [ nan  nan  nan ...  nan  nan  nan]\n",
      " [ nan  nan  nan ...  nan  nan  nan]]\n"
     ]
    },
    {
     "name": "stderr",
     "output_type": "stream",
     "text": [
      "\r",
      " 80%|████████  | 8/10 [00:02<00:00,  2.86it/s]"
     ]
    },
    {
     "name": "stdout",
     "output_type": "stream",
     "text": [
      "[[0.00000000e+000 1.00000000e+000 0.00000000e+000 ... 0.00000000e+000\n",
      "  0.00000000e+000 0.00000000e+000]\n",
      " [0.00000000e+000 1.00000000e+000 0.00000000e+000 ... 0.00000000e+000\n",
      "  1.00000000e+000 0.00000000e+000]\n",
      " [0.00000000e+000 2.28099179e-166 0.00000000e+000 ... 0.00000000e+000\n",
      "  5.16272264e-007 0.00000000e+000]\n",
      " ...\n",
      " [0.00000000e+000 1.00000000e+000 0.00000000e+000 ... 0.00000000e+000\n",
      "  0.00000000e+000 0.00000000e+000]\n",
      " [0.00000000e+000 8.85438202e-293 0.00000000e+000 ... 0.00000000e+000\n",
      "  0.00000000e+000 0.00000000e+000]\n",
      " [0.00000000e+000 4.44084275e-095 0.00000000e+000 ... 0.00000000e+000\n",
      "  0.00000000e+000 0.00000000e+000]]\n",
      "[[ nan   0.  nan ...  nan  nan  nan]\n",
      " [ nan   0.  nan ...  nan   0. -inf]\n",
      " [ nan  -0.  nan ...  nan  -0. -inf]\n",
      " ...\n",
      " [ nan   0.  nan ...  nan  nan  nan]\n",
      " [ nan  -0.  nan ...  nan  nan  nan]\n",
      " [ nan  -0.  nan ...  nan  nan  nan]]\n"
     ]
    },
    {
     "name": "stderr",
     "output_type": "stream",
     "text": [
      "\r",
      " 90%|█████████ | 9/10 [00:03<00:00,  2.61it/s]"
     ]
    },
    {
     "name": "stdout",
     "output_type": "stream",
     "text": [
      "[[0.00000000e+000 0.00000000e+000 2.41087593e-234 ... 0.00000000e+000\n",
      "  0.00000000e+000 0.00000000e+000]\n",
      " [0.00000000e+000 0.00000000e+000 1.00000000e+000 ... 0.00000000e+000\n",
      "  0.00000000e+000 0.00000000e+000]\n",
      " [0.00000000e+000 0.00000000e+000 1.03741289e-182 ... 0.00000000e+000\n",
      "  0.00000000e+000 0.00000000e+000]\n",
      " ...\n",
      " [0.00000000e+000 0.00000000e+000 7.68389494e-295 ... 0.00000000e+000\n",
      "  0.00000000e+000 0.00000000e+000]\n",
      " [0.00000000e+000 0.00000000e+000 1.00000000e+000 ... 0.00000000e+000\n",
      "  0.00000000e+000 0.00000000e+000]\n",
      " [0.00000000e+000 0.00000000e+000 1.00000000e+000 ... 0.00000000e+000\n",
      "  0.00000000e+000 0.00000000e+000]]\n",
      "[[ nan  nan  -0. ...  nan  nan  nan]\n",
      " [ nan  nan   0. ...  nan  nan -inf]\n",
      " [ nan  nan  -0. ...  nan  nan -inf]\n",
      " ...\n",
      " [ nan  nan  -0. ...  nan  nan  nan]\n",
      " [ nan  nan   0. ...  nan  nan  nan]\n",
      " [ nan  nan   0. ...  nan  nan  nan]]\n"
     ]
    },
    {
     "name": "stderr",
     "output_type": "stream",
     "text": [
      "100%|██████████| 10/10 [00:03<00:00,  2.89it/s]\n",
      " 10%|█         | 1/10 [00:00<00:03,  2.86it/s]"
     ]
    },
    {
     "name": "stdout",
     "output_type": "stream",
     "text": [
      "[[0.00000000e+000 0.00000000e+000 0.00000000e+000 ... 1.00000000e+000\n",
      "  0.00000000e+000 0.00000000e+000]\n",
      " [0.00000000e+000 0.00000000e+000 0.00000000e+000 ... 0.00000000e+000\n",
      "  1.00000000e+000 0.00000000e+000]\n",
      " [3.39858822e-298 0.00000000e+000 0.00000000e+000 ... 0.00000000e+000\n",
      "  1.00000000e+000 1.00000000e+000]\n",
      " ...\n",
      " [0.00000000e+000 0.00000000e+000 0.00000000e+000 ... 0.00000000e+000\n",
      "  1.00000000e+000 2.94175688e-259]\n",
      " [0.00000000e+000 0.00000000e+000 0.00000000e+000 ... 1.00000000e+000\n",
      "  0.00000000e+000 0.00000000e+000]\n",
      " [0.00000000e+000 0.00000000e+000 0.00000000e+000 ... 1.00000000e+000\n",
      "  0.00000000e+000 0.00000000e+000]]\n",
      "[[ nan  nan  nan ...   0.  nan  nan]\n",
      " [ nan  nan  nan ...  nan   0. -inf]\n",
      " [ -0.  nan  nan ...  nan   0.   0.]\n",
      " ...\n",
      " [ nan  nan  nan ...  nan   0.  -0.]\n",
      " [ nan  nan  nan ...   0.  nan  nan]\n",
      " [ nan  nan  nan ...   0.  nan  nan]]\n",
      "Epoch 0, Loss [[nan nan nan ... inf nan nan]\n",
      " [nan nan nan ... nan inf inf]\n",
      " [ 0. nan nan ... nan inf nan]\n",
      " ...\n",
      " [nan nan nan ... nan inf  0.]\n",
      " [nan nan nan ... inf nan nan]\n",
      " [nan nan nan ... inf nan nan]]\n",
      "[[0. 0. 0. ... 0. 0. 0.]\n",
      " [0. 0. 0. ... 0. 0. 0.]\n",
      " [0. 0. 0. ... 0. 0. 1.]\n",
      " ...\n",
      " [0. 0. 0. ... 0. 0. 1.]\n",
      " [0. 0. 0. ... 0. 0. 0.]\n",
      " [0. 0. 0. ... 0. 0. 0.]]\n",
      "[[ nan  nan  nan ...  nan  nan  nan]\n",
      " [ nan  nan  nan ...  nan  nan -inf]\n",
      " [ nan  nan  nan ...  nan  nan   0.]\n",
      " ...\n",
      " [ nan  nan  nan ...  nan  nan   0.]\n",
      " [ nan  nan  nan ...  nan  nan  nan]\n",
      " [ nan  nan  nan ...  nan  nan  nan]]\n"
     ]
    },
    {
     "name": "stderr",
     "output_type": "stream",
     "text": [
      "\r",
      " 20%|██        | 2/10 [00:00<00:03,  2.49it/s]"
     ]
    },
    {
     "name": "stdout",
     "output_type": "stream",
     "text": [
      "[[0. 0. 0. ... 0. 0. 0.]\n",
      " [0. 0. 0. ... 0. 0. 0.]\n",
      " [1. 0. 0. ... 0. 0. 0.]\n",
      " ...\n",
      " [0. 0. 0. ... 0. 0. 0.]\n",
      " [0. 0. 0. ... 0. 0. 0.]\n",
      " [0. 0. 0. ... 0. 0. 0.]]\n",
      "[[ nan  nan  nan ...  nan  nan  nan]\n",
      " [ nan  nan  nan ...  nan  nan -inf]\n",
      " [  0.  nan  nan ...  nan  nan -inf]\n",
      " ...\n",
      " [ nan  nan  nan ...  nan  nan  nan]\n",
      " [ nan  nan  nan ...  nan  nan  nan]\n",
      " [ nan  nan  nan ...  nan  nan  nan]]\n"
     ]
    },
    {
     "name": "stderr",
     "output_type": "stream",
     "text": [
      "\r",
      " 30%|███       | 3/10 [00:01<00:02,  2.77it/s]"
     ]
    },
    {
     "name": "stdout",
     "output_type": "stream",
     "text": [
      "[[0.00000000e+000 1.00000000e+000 0.00000000e+000 ... 0.00000000e+000\n",
      "  0.00000000e+000 0.00000000e+000]\n",
      " [0.00000000e+000 1.00000000e+000 0.00000000e+000 ... 0.00000000e+000\n",
      "  0.00000000e+000 0.00000000e+000]\n",
      " [0.00000000e+000 0.00000000e+000 0.00000000e+000 ... 0.00000000e+000\n",
      "  0.00000000e+000 1.00000000e+000]\n",
      " ...\n",
      " [0.00000000e+000 2.38955041e-176 0.00000000e+000 ... 0.00000000e+000\n",
      "  0.00000000e+000 0.00000000e+000]\n",
      " [0.00000000e+000 0.00000000e+000 0.00000000e+000 ... 0.00000000e+000\n",
      "  0.00000000e+000 0.00000000e+000]\n",
      " [0.00000000e+000 2.32250042e-268 0.00000000e+000 ... 0.00000000e+000\n",
      "  0.00000000e+000 0.00000000e+000]]\n",
      "[[ nan   0.  nan ...  nan  nan  nan]\n",
      " [ nan   0.  nan ...  nan  nan -inf]\n",
      " [ nan  nan  nan ...  nan  nan   0.]\n",
      " ...\n",
      " [ nan  -0.  nan ...  nan  nan  nan]\n",
      " [ nan  nan  nan ...  nan  nan  nan]\n",
      " [ nan  -0.  nan ...  nan  nan  nan]]\n"
     ]
    },
    {
     "name": "stderr",
     "output_type": "stream",
     "text": [
      " 50%|█████     | 5/10 [00:02<00:02,  2.14it/s]"
     ]
    },
    {
     "name": "stdout",
     "output_type": "stream",
     "text": [
      "[[0.00000000e+000 0.00000000e+000 0.00000000e+000 ... 0.00000000e+000\n",
      "  0.00000000e+000 3.53679902e-238]\n",
      " [0.00000000e+000 0.00000000e+000 0.00000000e+000 ... 0.00000000e+000\n",
      "  3.26880722e-179 0.00000000e+000]\n",
      " [0.00000000e+000 0.00000000e+000 0.00000000e+000 ... 0.00000000e+000\n",
      "  1.10029441e-210 1.00000000e+000]\n",
      " ...\n",
      " [0.00000000e+000 0.00000000e+000 0.00000000e+000 ... 0.00000000e+000\n",
      "  0.00000000e+000 1.00000000e+000]\n",
      " [0.00000000e+000 0.00000000e+000 0.00000000e+000 ... 0.00000000e+000\n",
      "  0.00000000e+000 0.00000000e+000]\n",
      " [0.00000000e+000 0.00000000e+000 0.00000000e+000 ... 4.40518861e-206\n",
      "  0.00000000e+000 0.00000000e+000]]\n",
      "[[ nan  nan  nan ...  nan  nan  -0.]\n",
      " [ nan  nan  nan ...  nan  -0. -inf]\n",
      " [ nan  nan  nan ...  nan  -0.   0.]\n",
      " ...\n",
      " [ nan  nan  nan ...  nan  nan   0.]\n",
      " [ nan  nan  nan ...  nan  nan  nan]\n",
      " [ nan  nan  nan ...  -0.  nan  nan]]\n",
      "[[0.00000000e+000 0.00000000e+000 0.00000000e+000 ... 1.04955333e-199\n",
      "  0.00000000e+000 0.00000000e+000]\n",
      " [0.00000000e+000 3.39567940e-172 0.00000000e+000 ... 0.00000000e+000\n",
      "  2.19102288e-003 0.00000000e+000]\n",
      " [7.98788722e-037 0.00000000e+000 0.00000000e+000 ... 0.00000000e+000\n",
      "  5.98981323e-006 0.00000000e+000]\n",
      " ...\n",
      " [0.00000000e+000 0.00000000e+000 0.00000000e+000 ... 0.00000000e+000\n",
      "  0.00000000e+000 0.00000000e+000]\n",
      " [0.00000000e+000 0.00000000e+000 0.00000000e+000 ... 4.00291599e-205\n",
      "  0.00000000e+000 0.00000000e+000]\n",
      " [0.00000000e+000 0.00000000e+000 0.00000000e+000 ... 1.30605212e-092\n",
      "  0.00000000e+000 0.00000000e+000]]\n",
      "[[ nan  nan  nan ...  -0.  nan  nan]\n",
      " [ nan  -0.  nan ...  nan  -0. -inf]\n",
      " [ -0.  nan  nan ...  nan  -0. -inf]\n",
      " ...\n",
      " [ nan  nan  nan ...  nan  nan  nan]\n",
      " [ nan  nan  nan ...  -0.  nan  nan]\n",
      " [ nan  nan  nan ...  -0.  nan  nan]]\n"
     ]
    },
    {
     "name": "stderr",
     "output_type": "stream",
     "text": [
      "\r",
      " 60%|██████    | 6/10 [00:02<00:01,  2.40it/s]"
     ]
    },
    {
     "name": "stdout",
     "output_type": "stream",
     "text": [
      "[[0.00000000e+000 1.00000000e+000 0.00000000e+000 ... 0.00000000e+000\n",
      "  0.00000000e+000 0.00000000e+000]\n",
      " [0.00000000e+000 1.00000000e+000 1.11893331e-047 ... 0.00000000e+000\n",
      "  0.00000000e+000 0.00000000e+000]\n",
      " [0.00000000e+000 2.90869263e-177 0.00000000e+000 ... 0.00000000e+000\n",
      "  0.00000000e+000 0.00000000e+000]\n",
      " ...\n",
      " [0.00000000e+000 1.00000000e+000 0.00000000e+000 ... 0.00000000e+000\n",
      "  0.00000000e+000 0.00000000e+000]\n",
      " [0.00000000e+000 1.08674235e-300 1.00000000e+000 ... 0.00000000e+000\n",
      "  0.00000000e+000 0.00000000e+000]\n",
      " [0.00000000e+000 1.19337697e-096 1.00000000e+000 ... 0.00000000e+000\n",
      "  0.00000000e+000 0.00000000e+000]]\n",
      "[[ nan   0.  nan ...  nan  nan  nan]\n",
      " [ nan   0.  -0. ...  nan  nan -inf]\n",
      " [ nan  -0.  nan ...  nan  nan -inf]\n",
      " ...\n",
      " [ nan   0.  nan ...  nan  nan  nan]\n",
      " [ nan  -0.   0. ...  nan  nan  nan]\n",
      " [ nan  -0.   0. ...  nan  nan  nan]]\n"
     ]
    },
    {
     "name": "stderr",
     "output_type": "stream",
     "text": [
      " 80%|████████  | 8/10 [00:03<00:00,  2.93it/s]"
     ]
    },
    {
     "name": "stdout",
     "output_type": "stream",
     "text": [
      "[[0.00000000e+000 0.00000000e+000 0.00000000e+000 ... 1.00000000e+000\n",
      "  0.00000000e+000 0.00000000e+000]\n",
      " [0.00000000e+000 0.00000000e+000 0.00000000e+000 ... 1.74510498e-216\n",
      "  1.00000000e+000 0.00000000e+000]\n",
      " [1.00000000e+000 0.00000000e+000 0.00000000e+000 ... 0.00000000e+000\n",
      "  1.00000000e+000 1.76689445e-265]\n",
      " ...\n",
      " [0.00000000e+000 0.00000000e+000 0.00000000e+000 ... 0.00000000e+000\n",
      "  1.00000000e+000 0.00000000e+000]\n",
      " [0.00000000e+000 0.00000000e+000 0.00000000e+000 ... 1.00000000e+000\n",
      "  0.00000000e+000 0.00000000e+000]\n",
      " [0.00000000e+000 0.00000000e+000 0.00000000e+000 ... 1.00000000e+000\n",
      "  0.00000000e+000 0.00000000e+000]]\n",
      "[[          nan           nan           nan ...    0.\n",
      "            nan           nan]\n",
      " [          nan           nan           nan ...   -0.\n",
      "     0.                  -inf]\n",
      " [   0.                   nan           nan ...           nan\n",
      "     0.         -609.61582619]\n",
      " ...\n",
      " [          nan           nan           nan ...           nan\n",
      "     0.                   nan]\n",
      " [          nan           nan           nan ...    0.\n",
      "            nan           nan]\n",
      " [          nan           nan           nan ...    0.\n",
      "            nan           nan]]\n"
     ]
    },
    {
     "name": "stderr",
     "output_type": "stream",
     "text": [
      "\r",
      " 90%|█████████ | 9/10 [00:03<00:00,  2.57it/s]"
     ]
    },
    {
     "name": "stdout",
     "output_type": "stream",
     "text": [
      "[[0. 0. 0. ... 0. 0. 0.]\n",
      " [0. 0. 0. ... 0. 0. 0.]\n",
      " [0. 0. 0. ... 0. 0. 1.]\n",
      " ...\n",
      " [0. 0. 0. ... 0. 0. 1.]\n",
      " [0. 0. 0. ... 0. 0. 0.]\n",
      " [0. 0. 0. ... 0. 0. 0.]]\n",
      "[[ nan  nan  nan ...  nan  nan  nan]\n",
      " [ nan  nan  nan ...  nan  nan -inf]\n",
      " [ nan  nan  nan ...  nan  nan   0.]\n",
      " ...\n",
      " [ nan  nan  nan ...  nan  nan   0.]\n",
      " [ nan  nan  nan ...  nan  nan  nan]\n",
      " [ nan  nan  nan ...  nan  nan  nan]]\n",
      "[[0. 0. 0. ... 0. 0. 0.]\n",
      " [0. 0. 0. ... 0. 0. 0.]\n",
      " [0. 0. 0. ... 0. 0. 0.]\n",
      " ...\n",
      " [0. 0. 0. ... 0. 0. 0.]\n",
      " [0. 0. 0. ... 0. 0. 0.]\n",
      " [0. 0. 0. ... 0. 0. 0.]]\n",
      "[[ nan  nan  nan ...  nan  nan  nan]\n",
      " [ nan  nan  nan ...  nan  nan -inf]\n",
      " [ nan  nan  nan ...  nan  nan -inf]\n",
      " ...\n",
      " [ nan  nan  nan ...  nan  nan  nan]\n",
      " [ nan  nan  nan ...  nan  nan  nan]\n",
      " [ nan  nan  nan ...  nan  nan  nan]]\n"
     ]
    },
    {
     "name": "stderr",
     "output_type": "stream",
     "text": [
      "100%|██████████| 10/10 [00:03<00:00,  2.51it/s]\n",
      " 10%|█         | 1/10 [00:00<00:03,  2.53it/s]"
     ]
    },
    {
     "name": "stdout",
     "output_type": "stream",
     "text": [
      "[[0.0000000e+000 0.0000000e+000 0.0000000e+000 ... 0.0000000e+000\n",
      "  0.0000000e+000 0.0000000e+000]\n",
      " [0.0000000e+000 0.0000000e+000 0.0000000e+000 ... 0.0000000e+000\n",
      "  0.0000000e+000 0.0000000e+000]\n",
      " [1.0000000e+000 0.0000000e+000 0.0000000e+000 ... 0.0000000e+000\n",
      "  0.0000000e+000 0.0000000e+000]\n",
      " ...\n",
      " [0.0000000e+000 0.0000000e+000 0.0000000e+000 ... 0.0000000e+000\n",
      "  0.0000000e+000 0.0000000e+000]\n",
      " [0.0000000e+000 0.0000000e+000 0.0000000e+000 ... 0.0000000e+000\n",
      "  0.0000000e+000 0.0000000e+000]\n",
      " [6.6730196e-178 0.0000000e+000 0.0000000e+000 ... 0.0000000e+000\n",
      "  0.0000000e+000 0.0000000e+000]]\n",
      "[[ nan  nan  nan ...  nan  nan  nan]\n",
      " [ nan  nan  nan ...  nan  nan -inf]\n",
      " [  0.  nan  nan ...  nan  nan -inf]\n",
      " ...\n",
      " [ nan  nan  nan ...  nan  nan  nan]\n",
      " [ nan  nan  nan ...  nan  nan  nan]\n",
      " [ -0.  nan  nan ...  nan  nan  nan]]\n",
      "Epoch 0, Loss [[nan nan nan ... nan nan nan]\n",
      " [nan nan nan ... nan nan inf]\n",
      " [inf nan nan ... nan nan inf]\n",
      " ...\n",
      " [nan nan nan ... nan nan nan]\n",
      " [nan nan nan ... nan nan nan]\n",
      " [ 0. nan nan ... nan nan nan]]\n"
     ]
    },
    {
     "name": "stderr",
     "output_type": "stream",
     "text": [
      "\r",
      " 20%|██        | 2/10 [00:00<00:02,  2.87it/s]"
     ]
    },
    {
     "name": "stdout",
     "output_type": "stream",
     "text": [
      "[[0.00000000e+000 1.00000000e+000 2.91260076e-206 ... 0.00000000e+000\n",
      "  0.00000000e+000 0.00000000e+000]\n",
      " [0.00000000e+000 1.00000000e+000 1.00000000e+000 ... 0.00000000e+000\n",
      "  3.10081461e-140 0.00000000e+000]\n",
      " [0.00000000e+000 0.00000000e+000 7.37451847e-172 ... 0.00000000e+000\n",
      "  1.48632585e-146 1.00000000e+000]\n",
      " ...\n",
      " [0.00000000e+000 5.25351505e-100 7.62878185e-279 ... 0.00000000e+000\n",
      "  0.00000000e+000 1.00000000e+000]\n",
      " [0.00000000e+000 0.00000000e+000 1.00000000e+000 ... 0.00000000e+000\n",
      "  0.00000000e+000 0.00000000e+000]\n",
      " [0.00000000e+000 4.22694969e-220 1.00000000e+000 ... 0.00000000e+000\n",
      "  0.00000000e+000 0.00000000e+000]]\n",
      "[[ nan   0.  -0. ...  nan  nan  nan]\n",
      " [ nan   0.   0. ...  nan  -0. -inf]\n",
      " [ nan  nan  -0. ...  nan  -0.   0.]\n",
      " ...\n",
      " [ nan  -0.  -0. ...  nan  nan   0.]\n",
      " [ nan  nan   0. ...  nan  nan  nan]\n",
      " [ nan  -0.   0. ...  nan  nan  nan]]\n",
      "[[0.00000000e+000 0.00000000e+000 0.00000000e+000 ... 2.61837310e-247\n",
      "  0.00000000e+000 0.00000000e+000]\n",
      " [0.00000000e+000 0.00000000e+000 0.00000000e+000 ... 0.00000000e+000\n",
      "  1.46134572e-116 0.00000000e+000]\n",
      " [0.00000000e+000 0.00000000e+000 0.00000000e+000 ... 0.00000000e+000\n",
      "  9.09756723e-112 1.00000000e+000]\n",
      " ...\n",
      " [0.00000000e+000 0.00000000e+000 0.00000000e+000 ... 0.00000000e+000\n",
      "  0.00000000e+000 9.87407047e-107]\n",
      " [0.00000000e+000 0.00000000e+000 0.00000000e+000 ... 3.60028887e-277\n",
      "  0.00000000e+000 0.00000000e+000]\n",
      " [0.00000000e+000 0.00000000e+000 0.00000000e+000 ... 4.87615583e-129\n",
      "  0.00000000e+000 0.00000000e+000]]\n",
      "[[ nan  nan  nan ...  -0.  nan  nan]\n",
      " [ nan  nan  nan ...  nan  -0. -inf]\n",
      " [ nan  nan  nan ...  nan  -0.   0.]\n",
      " ...\n",
      " [ nan  nan  nan ...  nan  nan  -0.]\n",
      " [ nan  nan  nan ...  -0.  nan  nan]\n",
      " [ nan  nan  nan ...  -0.  nan  nan]]\n"
     ]
    },
    {
     "name": "stderr",
     "output_type": "stream",
     "text": [
      "\r",
      " 30%|███       | 3/10 [00:01<00:02,  2.73it/s]"
     ]
    },
    {
     "name": "stdout",
     "output_type": "stream",
     "text": [
      "[[0.00000000e+000 0.00000000e+000 0.00000000e+000 ... 0.00000000e+000\n",
      "  0.00000000e+000 0.00000000e+000]\n",
      " [0.00000000e+000 0.00000000e+000 0.00000000e+000 ... 0.00000000e+000\n",
      "  5.79929274e-219 0.00000000e+000]\n",
      " [0.00000000e+000 0.00000000e+000 0.00000000e+000 ... 0.00000000e+000\n",
      "  4.02135738e-216 1.00000000e+000]\n",
      " ...\n",
      " [0.00000000e+000 0.00000000e+000 0.00000000e+000 ... 0.00000000e+000\n",
      "  0.00000000e+000 1.00000000e+000]\n",
      " [0.00000000e+000 0.00000000e+000 0.00000000e+000 ... 0.00000000e+000\n",
      "  0.00000000e+000 0.00000000e+000]\n",
      " [0.00000000e+000 0.00000000e+000 0.00000000e+000 ... 0.00000000e+000\n",
      "  0.00000000e+000 0.00000000e+000]]\n",
      "[[ nan  nan  nan ...  nan  nan  nan]\n",
      " [ nan  nan  nan ...  nan  -0. -inf]\n",
      " [ nan  nan  nan ...  nan  -0.   0.]\n",
      " ...\n",
      " [ nan  nan  nan ...  nan  nan   0.]\n",
      " [ nan  nan  nan ...  nan  nan  nan]\n",
      " [ nan  nan  nan ...  nan  nan  nan]]\n"
     ]
    },
    {
     "name": "stderr",
     "output_type": "stream",
     "text": [
      " 50%|█████     | 5/10 [00:01<00:01,  3.13it/s]"
     ]
    },
    {
     "name": "stdout",
     "output_type": "stream",
     "text": [
      "[[0.00000000e+000 1.00000000e+000 0.00000000e+000 ... 1.00000000e+000\n",
      "  0.00000000e+000 0.00000000e+000]\n",
      " [0.00000000e+000 1.00000000e+000 0.00000000e+000 ... 4.51985321e-145\n",
      "  1.00000000e+000 0.00000000e+000]\n",
      " [0.00000000e+000 0.00000000e+000 0.00000000e+000 ... 0.00000000e+000\n",
      "  1.00000000e+000 0.00000000e+000]\n",
      " ...\n",
      " [0.00000000e+000 0.00000000e+000 0.00000000e+000 ... 1.76971809e-305\n",
      "  0.00000000e+000 0.00000000e+000]\n",
      " [0.00000000e+000 0.00000000e+000 0.00000000e+000 ... 1.00000000e+000\n",
      "  0.00000000e+000 0.00000000e+000]\n",
      " [0.00000000e+000 0.00000000e+000 0.00000000e+000 ... 1.00000000e+000\n",
      "  0.00000000e+000 0.00000000e+000]]\n",
      "[[ nan   0.  nan ...   0.  nan  nan]\n",
      " [ nan   0.  nan ...  -0.   0. -inf]\n",
      " [ nan  nan  nan ...  nan   0. -inf]\n",
      " ...\n",
      " [ nan  nan  nan ...  -0.  nan  nan]\n",
      " [ nan  nan  nan ...   0.  nan  nan]\n",
      " [ nan  nan  nan ...   0.  nan  nan]]\n",
      "[[0.00000000e+000 0.00000000e+000 0.00000000e+000 ... 0.00000000e+000\n",
      "  0.00000000e+000 0.00000000e+000]\n",
      " [0.00000000e+000 1.44396558e-288 0.00000000e+000 ... 0.00000000e+000\n",
      "  0.00000000e+000 0.00000000e+000]\n",
      " [4.83246033e-079 0.00000000e+000 0.00000000e+000 ... 0.00000000e+000\n",
      "  0.00000000e+000 1.00000000e+000]\n",
      " ...\n",
      " [0.00000000e+000 0.00000000e+000 0.00000000e+000 ... 0.00000000e+000\n",
      "  0.00000000e+000 1.00000000e+000]\n",
      " [0.00000000e+000 0.00000000e+000 0.00000000e+000 ... 0.00000000e+000\n",
      "  0.00000000e+000 0.00000000e+000]\n",
      " [0.00000000e+000 0.00000000e+000 0.00000000e+000 ... 0.00000000e+000\n",
      "  0.00000000e+000 0.00000000e+000]]\n",
      "[[ nan  nan  nan ...  nan  nan  nan]\n",
      " [ nan  -0.  nan ...  nan  nan -inf]\n",
      " [ -0.  nan  nan ...  nan  nan   0.]\n",
      " ...\n",
      " [ nan  nan  nan ...  nan  nan   0.]\n",
      " [ nan  nan  nan ...  nan  nan  nan]\n",
      " [ nan  nan  nan ...  nan  nan  nan]]\n"
     ]
    },
    {
     "name": "stderr",
     "output_type": "stream",
     "text": [
      "\r",
      " 60%|██████    | 6/10 [00:02<00:01,  3.13it/s]"
     ]
    },
    {
     "name": "stdout",
     "output_type": "stream",
     "text": [
      "[[0.00000000e+000 1.00000000e+000 0.00000000e+000 ... 0.00000000e+000\n",
      "  0.00000000e+000 0.00000000e+000]\n",
      " [0.00000000e+000 1.00000000e+000 0.00000000e+000 ... 0.00000000e+000\n",
      "  1.00000000e+000 0.00000000e+000]\n",
      " [0.00000000e+000 8.14737029e-180 0.00000000e+000 ... 0.00000000e+000\n",
      "  1.00000000e+000 0.00000000e+000]\n",
      " ...\n",
      " [0.00000000e+000 1.00000000e+000 0.00000000e+000 ... 0.00000000e+000\n",
      "  1.24269140e-052 0.00000000e+000]\n",
      " [0.00000000e+000 1.84154892e-297 0.00000000e+000 ... 0.00000000e+000\n",
      "  0.00000000e+000 0.00000000e+000]\n",
      " [0.00000000e+000 9.24559349e-093 0.00000000e+000 ... 0.00000000e+000\n",
      "  0.00000000e+000 0.00000000e+000]]\n",
      "[[ nan   0.  nan ...  nan  nan  nan]\n",
      " [ nan   0.  nan ...  nan   0. -inf]\n",
      " [ nan  -0.  nan ...  nan   0. -inf]\n",
      " ...\n",
      " [ nan   0.  nan ...  nan  -0.  nan]\n",
      " [ nan  -0.  nan ...  nan  nan  nan]\n",
      " [ nan  -0.  nan ...  nan  nan  nan]]\n"
     ]
    },
    {
     "name": "stderr",
     "output_type": "stream",
     "text": [
      "\r",
      " 70%|███████   | 7/10 [00:02<00:01,  2.69it/s]"
     ]
    },
    {
     "name": "stdout",
     "output_type": "stream",
     "text": [
      "[[0. 0. 0. ... 0. 0. 0.]\n",
      " [0. 0. 0. ... 0. 0. 0.]\n",
      " [1. 0. 0. ... 0. 0. 0.]\n",
      " ...\n",
      " [0. 0. 0. ... 0. 0. 0.]\n",
      " [0. 0. 0. ... 0. 0. 0.]\n",
      " [0. 0. 0. ... 0. 0. 0.]]\n",
      "[[ nan  nan  nan ...  nan  nan  nan]\n",
      " [ nan  nan  nan ...  nan  nan -inf]\n",
      " [  0.  nan  nan ...  nan  nan -inf]\n",
      " ...\n",
      " [ nan  nan  nan ...  nan  nan  nan]\n",
      " [ nan  nan  nan ...  nan  nan  nan]\n",
      " [ nan  nan  nan ...  nan  nan  nan]]\n"
     ]
    },
    {
     "name": "stderr",
     "output_type": "stream",
     "text": [
      " 90%|█████████ | 9/10 [00:03<00:00,  3.27it/s]"
     ]
    },
    {
     "name": "stdout",
     "output_type": "stream",
     "text": [
      "[[0.00000000e+000 0.00000000e+000 0.00000000e+000 ... 0.00000000e+000\n",
      "  0.00000000e+000 0.00000000e+000]\n",
      " [0.00000000e+000 0.00000000e+000 9.76596096e-235 ... 0.00000000e+000\n",
      "  0.00000000e+000 0.00000000e+000]\n",
      " [0.00000000e+000 0.00000000e+000 0.00000000e+000 ... 0.00000000e+000\n",
      "  0.00000000e+000 1.00000000e+000]\n",
      " ...\n",
      " [0.00000000e+000 0.00000000e+000 0.00000000e+000 ... 0.00000000e+000\n",
      "  0.00000000e+000 1.00000000e+000]\n",
      " [0.00000000e+000 0.00000000e+000 1.00000000e+000 ... 0.00000000e+000\n",
      "  0.00000000e+000 0.00000000e+000]\n",
      " [0.00000000e+000 0.00000000e+000 1.00000000e+000 ... 0.00000000e+000\n",
      "  0.00000000e+000 0.00000000e+000]]\n",
      "[[ nan  nan  nan ...  nan  nan  nan]\n",
      " [ nan  nan  -0. ...  nan  nan -inf]\n",
      " [ nan  nan  nan ...  nan  nan   0.]\n",
      " ...\n",
      " [ nan  nan  nan ...  nan  nan   0.]\n",
      " [ nan  nan   0. ...  nan  nan  nan]\n",
      " [ nan  nan   0. ...  nan  nan  nan]]\n"
     ]
    },
    {
     "name": "stderr",
     "output_type": "stream",
     "text": [
      "\r",
      "100%|██████████| 10/10 [00:03<00:00,  3.03it/s]"
     ]
    },
    {
     "name": "stdout",
     "output_type": "stream",
     "text": [
      "[[0. 0. 0. ... 0. 0. 0.]\n",
      " [0. 0. 0. ... 0. 0. 0.]\n",
      " [0. 0. 0. ... 0. 0. 0.]\n",
      " ...\n",
      " [0. 0. 0. ... 0. 0. 0.]\n",
      " [0. 0. 0. ... 0. 0. 0.]\n",
      " [0. 0. 0. ... 0. 0. 0.]]\n",
      "[[ nan  nan  nan ...  nan  nan  nan]\n",
      " [ nan  nan  nan ...  nan  nan -inf]\n",
      " [ nan  nan  nan ...  nan  nan -inf]\n",
      " ...\n",
      " [ nan  nan  nan ...  nan  nan  nan]\n",
      " [ nan  nan  nan ...  nan  nan  nan]\n",
      " [ nan  nan  nan ...  nan  nan  nan]]\n"
     ]
    },
    {
     "name": "stderr",
     "output_type": "stream",
     "text": [
      "100%|██████████| 10/10 [00:03<00:00,  2.93it/s]\n",
      "  0%|          | 0/10 [00:00<?, ?it/s]"
     ]
    },
    {
     "name": "stdout",
     "output_type": "stream",
     "text": [
      "[[0.00000000e+00 0.00000000e+00 0.00000000e+00 ... 1.00000000e+00\n",
      "  0.00000000e+00 0.00000000e+00]\n",
      " [0.00000000e+00 0.00000000e+00 0.00000000e+00 ... 0.00000000e+00\n",
      "  1.00000000e+00 0.00000000e+00]\n",
      " [0.00000000e+00 0.00000000e+00 0.00000000e+00 ... 0.00000000e+00\n",
      "  1.00000000e+00 8.63916501e-33]\n",
      " ...\n",
      " [0.00000000e+00 0.00000000e+00 0.00000000e+00 ... 0.00000000e+00\n",
      "  2.88339800e-29 0.00000000e+00]\n",
      " [0.00000000e+00 0.00000000e+00 0.00000000e+00 ... 1.00000000e+00\n",
      "  0.00000000e+00 0.00000000e+00]\n",
      " [0.00000000e+00 0.00000000e+00 0.00000000e+00 ... 1.00000000e+00\n",
      "  0.00000000e+00 0.00000000e+00]]\n",
      "[[         nan          nan          nan ...   0.                  nan\n",
      "           nan]\n",
      " [         nan          nan          nan ...          nan   0.\n",
      "          -inf]\n",
      " [         nan          nan          nan ...          nan   0.\n",
      "  -73.82900213]\n",
      " ...\n",
      " [         nan          nan          nan ...          nan  -0.\n",
      "           nan]\n",
      " [         nan          nan          nan ...   0.                  nan\n",
      "           nan]\n",
      " [         nan          nan          nan ...   0.                  nan\n",
      "           nan]]\n"
     ]
    },
    {
     "name": "stderr",
     "output_type": "stream",
     "text": [
      "\r",
      " 10%|█         | 1/10 [00:00<00:03,  2.61it/s]"
     ]
    },
    {
     "name": "stdout",
     "output_type": "stream",
     "text": [
      "Epoch 0, Loss [[      nan       nan       nan ...       inf       nan       nan]\n",
      " [      nan       nan       nan ...       nan       inf       inf]\n",
      " [      nan       nan       nan ...       nan       inf 0.0147658]\n",
      " ...\n",
      " [      nan       nan       nan ...       nan 0.              nan]\n",
      " [      nan       nan       nan ...       inf       nan       nan]\n",
      " [      nan       nan       nan ...       inf       nan       nan]]\n",
      "[[0.00000000e+000 1.00000000e+000 0.00000000e+000 ... 0.00000000e+000\n",
      "  0.00000000e+000 6.17792259e-099]\n",
      " [0.00000000e+000 1.00000000e+000 3.96485401e-167 ... 0.00000000e+000\n",
      "  0.00000000e+000 1.49563693e-201]\n",
      " [1.00000000e+000 0.00000000e+000 0.00000000e+000 ... 0.00000000e+000\n",
      "  0.00000000e+000 1.00000000e+000]\n",
      " ...\n",
      " [0.00000000e+000 4.03714434e-148 0.00000000e+000 ... 0.00000000e+000\n",
      "  0.00000000e+000 1.00000000e+000]\n",
      " [0.00000000e+000 0.00000000e+000 1.00000000e+000 ... 0.00000000e+000\n",
      "  0.00000000e+000 5.03097792e-207]\n",
      " [0.00000000e+000 5.46266120e-251 1.00000000e+000 ... 0.00000000e+000\n",
      "  0.00000000e+000 1.24091676e-265]]\n",
      "[[          nan    0.                   nan ...           nan\n",
      "            nan   -0.        ]\n",
      " [          nan    0.           -0.         ...           nan\n",
      "            nan -462.41705154]\n",
      " [   0.                   nan           nan ...           nan\n",
      "            nan    0.        ]\n",
      " ...\n",
      " [          nan   -0.                   nan ...           nan\n",
      "            nan    0.        ]\n",
      " [          nan           nan    0.         ...           nan\n",
      "            nan   -0.        ]\n",
      " [          nan   -0.            0.         ...           nan\n",
      "            nan   -0.        ]]\n"
     ]
    },
    {
     "name": "stderr",
     "output_type": "stream",
     "text": [
      " 30%|███       | 3/10 [00:00<00:02,  3.41it/s]"
     ]
    },
    {
     "name": "stdout",
     "output_type": "stream",
     "text": [
      "[[0. 0. 0. ... 0. 0. 0.]\n",
      " [0. 0. 0. ... 0. 0. 0.]\n",
      " [0. 0. 0. ... 0. 0. 0.]\n",
      " ...\n",
      " [0. 0. 0. ... 0. 0. 0.]\n",
      " [0. 0. 0. ... 0. 0. 0.]\n",
      " [0. 0. 0. ... 0. 0. 0.]]\n",
      "[[ nan  nan  nan ...  nan  nan  nan]\n",
      " [ nan  nan  nan ...  nan  nan -inf]\n",
      " [ nan  nan  nan ...  nan  nan -inf]\n",
      " ...\n",
      " [ nan  nan  nan ...  nan  nan  nan]\n",
      " [ nan  nan  nan ...  nan  nan  nan]\n",
      " [ nan  nan  nan ...  nan  nan  nan]]\n",
      "[[0. 0. 0. ... 0. 0. 0.]\n",
      " [0. 0. 0. ... 0. 0. 0.]\n",
      " [0. 0. 0. ... 0. 0. 0.]\n",
      " ...\n",
      " [0. 0. 0. ... 0. 0. 0.]\n",
      " [0. 0. 0. ... 0. 0. 0.]\n",
      " [0. 0. 0. ... 0. 0. 0.]]\n",
      "[[ nan  nan  nan ...  nan  nan  nan]\n",
      " [ nan  nan  nan ...  nan  nan -inf]\n",
      " [ nan  nan  nan ...  nan  nan -inf]\n",
      " ...\n",
      " [ nan  nan  nan ...  nan  nan  nan]\n",
      " [ nan  nan  nan ...  nan  nan  nan]\n",
      " [ nan  nan  nan ...  nan  nan  nan]]\n"
     ]
    },
    {
     "name": "stderr",
     "output_type": "stream",
     "text": [
      " 50%|█████     | 5/10 [00:01<00:01,  3.43it/s]"
     ]
    },
    {
     "name": "stdout",
     "output_type": "stream",
     "text": [
      "[[0.00000000e+000 1.00000000e+000 0.00000000e+000 ... 1.00000000e+000\n",
      "  0.00000000e+000 0.00000000e+000]\n",
      " [0.00000000e+000 1.00000000e+000 0.00000000e+000 ... 0.00000000e+000\n",
      "  1.00000000e+000 0.00000000e+000]\n",
      " [1.00000000e+000 1.26373753e-250 0.00000000e+000 ... 0.00000000e+000\n",
      "  1.00000000e+000 0.00000000e+000]\n",
      " ...\n",
      " [0.00000000e+000 1.00000000e+000 0.00000000e+000 ... 0.00000000e+000\n",
      "  1.00000000e+000 0.00000000e+000]\n",
      " [0.00000000e+000 0.00000000e+000 6.57349646e-047 ... 1.00000000e+000\n",
      "  0.00000000e+000 0.00000000e+000]\n",
      " [1.24861682e-167 4.21462480e-129 0.00000000e+000 ... 1.00000000e+000\n",
      "  0.00000000e+000 0.00000000e+000]]\n",
      "[[ nan   0.  nan ...   0.  nan  nan]\n",
      " [ nan   0.  nan ...  nan   0. -inf]\n",
      " [  0.  -0.  nan ...  nan   0. -inf]\n",
      " ...\n",
      " [ nan   0.  nan ...  nan   0.  nan]\n",
      " [ nan  nan  -0. ...   0.  nan  nan]\n",
      " [ -0.  -0.  nan ...   0.  nan  nan]]\n"
     ]
    },
    {
     "name": "stderr",
     "output_type": "stream",
     "text": [
      "\r",
      " 60%|██████    | 6/10 [00:01<00:01,  3.82it/s]"
     ]
    },
    {
     "name": "stdout",
     "output_type": "stream",
     "text": [
      "[[0.00000000e+00 0.00000000e+00 0.00000000e+00 ... 0.00000000e+00\n",
      "  0.00000000e+00 0.00000000e+00]\n",
      " [0.00000000e+00 0.00000000e+00 1.58545548e-06 ... 0.00000000e+00\n",
      "  0.00000000e+00 0.00000000e+00]\n",
      " [0.00000000e+00 0.00000000e+00 0.00000000e+00 ... 0.00000000e+00\n",
      "  0.00000000e+00 1.00000000e+00]\n",
      " ...\n",
      " [0.00000000e+00 0.00000000e+00 0.00000000e+00 ... 0.00000000e+00\n",
      "  0.00000000e+00 0.00000000e+00]\n",
      " [0.00000000e+00 0.00000000e+00 1.00000000e+00 ... 0.00000000e+00\n",
      "  0.00000000e+00 0.00000000e+00]\n",
      " [0.00000000e+00 0.00000000e+00 1.00000000e+00 ... 0.00000000e+00\n",
      "  0.00000000e+00 0.00000000e+00]]\n",
      "[[ nan  nan  nan ...  nan  nan  nan]\n",
      " [ nan  nan  -0. ...  nan  nan -inf]\n",
      " [ nan  nan  nan ...  nan  nan   0.]\n",
      " ...\n",
      " [ nan  nan  nan ...  nan  nan  nan]\n",
      " [ nan  nan   0. ...  nan  nan  nan]\n",
      " [ nan  nan   0. ...  nan  nan  nan]]\n",
      "[[0.0000000e+000 0.0000000e+000 0.0000000e+000 ... 0.0000000e+000\n",
      "  0.0000000e+000 3.5930117e-298]\n",
      " [0.0000000e+000 0.0000000e+000 0.0000000e+000 ... 0.0000000e+000\n",
      "  0.0000000e+000 0.0000000e+000]\n",
      " [0.0000000e+000 0.0000000e+000 0.0000000e+000 ... 0.0000000e+000\n",
      "  0.0000000e+000 1.0000000e+000]\n",
      " ...\n",
      " [0.0000000e+000 0.0000000e+000 0.0000000e+000 ... 0.0000000e+000\n",
      "  0.0000000e+000 1.0000000e+000]\n",
      " [0.0000000e+000 0.0000000e+000 0.0000000e+000 ... 0.0000000e+000\n",
      "  0.0000000e+000 0.0000000e+000]\n",
      " [0.0000000e+000 0.0000000e+000 0.0000000e+000 ... 0.0000000e+000\n",
      "  0.0000000e+000 0.0000000e+000]]\n",
      "[[ nan  nan  nan ...  nan  nan  -0.]\n",
      " [ nan  nan  nan ...  nan  nan -inf]\n",
      " [ nan  nan  nan ...  nan  nan   0.]\n",
      " ...\n",
      " [ nan  nan  nan ...  nan  nan   0.]\n",
      " [ nan  nan  nan ...  nan  nan  nan]\n",
      " [ nan  nan  nan ...  nan  nan  nan]]\n"
     ]
    },
    {
     "name": "stderr",
     "output_type": "stream",
     "text": [
      " 80%|████████  | 8/10 [00:02<00:00,  3.56it/s]"
     ]
    },
    {
     "name": "stdout",
     "output_type": "stream",
     "text": [
      "[[0. 0. 0. ... 0. 0. 0.]\n",
      " [0. 0. 0. ... 0. 0. 0.]\n",
      " [0. 0. 0. ... 0. 0. 0.]\n",
      " ...\n",
      " [0. 0. 0. ... 0. 0. 0.]\n",
      " [0. 0. 0. ... 0. 0. 0.]\n",
      " [0. 0. 0. ... 0. 0. 0.]]\n",
      "[[ nan  nan  nan ...  nan  nan  nan]\n",
      " [ nan  nan  nan ...  nan  nan -inf]\n",
      " [ nan  nan  nan ...  nan  nan -inf]\n",
      " ...\n",
      " [ nan  nan  nan ...  nan  nan  nan]\n",
      " [ nan  nan  nan ...  nan  nan  nan]\n",
      " [ nan  nan  nan ...  nan  nan  nan]]\n",
      "[[0.00000000e+000 1.33543172e-160 0.00000000e+000 ... 1.00000000e+000\n",
      "  0.00000000e+000 0.00000000e+000]\n",
      " [0.00000000e+000 1.00000000e+000 0.00000000e+000 ... 7.86405758e-159\n",
      "  0.00000000e+000 0.00000000e+000]\n",
      " [0.00000000e+000 0.00000000e+000 0.00000000e+000 ... 0.00000000e+000\n",
      "  0.00000000e+000 0.00000000e+000]\n",
      " ...\n",
      " [0.00000000e+000 0.00000000e+000 0.00000000e+000 ... 0.00000000e+000\n",
      "  0.00000000e+000 0.00000000e+000]\n",
      " [0.00000000e+000 0.00000000e+000 0.00000000e+000 ... 1.00000000e+000\n",
      "  0.00000000e+000 0.00000000e+000]\n",
      " [0.00000000e+000 0.00000000e+000 0.00000000e+000 ... 1.00000000e+000\n",
      "  0.00000000e+000 0.00000000e+000]]\n",
      "[[ nan  -0.  nan ...   0.  nan  nan]\n",
      " [ nan   0.  nan ...  -0.  nan -inf]\n",
      " [ nan  nan  nan ...  nan  nan -inf]\n",
      " ...\n",
      " [ nan  nan  nan ...  nan  nan  nan]\n",
      " [ nan  nan  nan ...   0.  nan  nan]\n",
      " [ nan  nan  nan ...   0.  nan  nan]]\n"
     ]
    },
    {
     "name": "stderr",
     "output_type": "stream",
     "text": [
      "\r",
      " 90%|█████████ | 9/10 [00:02<00:00,  3.21it/s]"
     ]
    },
    {
     "name": "stdout",
     "output_type": "stream",
     "text": [
      "[[0.00000000e+000 1.00000000e+000 0.00000000e+000 ... 0.00000000e+000\n",
      "  0.00000000e+000 0.00000000e+000]\n",
      " [0.00000000e+000 1.00000000e+000 0.00000000e+000 ... 0.00000000e+000\n",
      "  1.00000000e+000 0.00000000e+000]\n",
      " [0.00000000e+000 0.00000000e+000 0.00000000e+000 ... 0.00000000e+000\n",
      "  1.00000000e+000 1.00000000e+000]\n",
      " ...\n",
      " [0.00000000e+000 1.58769428e-249 0.00000000e+000 ... 0.00000000e+000\n",
      "  1.00000000e+000 0.00000000e+000]\n",
      " [0.00000000e+000 0.00000000e+000 0.00000000e+000 ... 0.00000000e+000\n",
      "  0.00000000e+000 0.00000000e+000]\n",
      " [0.00000000e+000 1.67893075e-306 0.00000000e+000 ... 0.00000000e+000\n",
      "  0.00000000e+000 0.00000000e+000]]\n",
      "[[ nan   0.  nan ...  nan  nan  nan]\n",
      " [ nan   0.  nan ...  nan   0. -inf]\n",
      " [ nan  nan  nan ...  nan   0.   0.]\n",
      " ...\n",
      " [ nan  -0.  nan ...  nan   0.  nan]\n",
      " [ nan  nan  nan ...  nan  nan  nan]\n",
      " [ nan  -0.  nan ...  nan  nan  nan]]\n"
     ]
    },
    {
     "name": "stderr",
     "output_type": "stream",
     "text": [
      "100%|██████████| 10/10 [00:03<00:00,  2.76it/s]\n",
      " 10%|█         | 1/10 [00:00<00:04,  2.07it/s]"
     ]
    },
    {
     "name": "stdout",
     "output_type": "stream",
     "text": [
      "[[0.00000000e+000 0.00000000e+000 0.00000000e+000 ... 0.00000000e+000\n",
      "  0.00000000e+000 0.00000000e+000]\n",
      " [0.00000000e+000 0.00000000e+000 1.00000000e+000 ... 0.00000000e+000\n",
      "  0.00000000e+000 0.00000000e+000]\n",
      " [1.00000000e+000 0.00000000e+000 1.66844248e-228 ... 0.00000000e+000\n",
      "  0.00000000e+000 1.00000000e+000]\n",
      " ...\n",
      " [0.00000000e+000 0.00000000e+000 0.00000000e+000 ... 0.00000000e+000\n",
      "  0.00000000e+000 1.00000000e+000]\n",
      " [0.00000000e+000 0.00000000e+000 1.00000000e+000 ... 0.00000000e+000\n",
      "  0.00000000e+000 0.00000000e+000]\n",
      " [0.00000000e+000 0.00000000e+000 1.00000000e+000 ... 0.00000000e+000\n",
      "  0.00000000e+000 0.00000000e+000]]\n",
      "[[ nan  nan  nan ...  nan  nan  nan]\n",
      " [ nan  nan   0. ...  nan  nan -inf]\n",
      " [  0.  nan  -0. ...  nan  nan   0.]\n",
      " ...\n",
      " [ nan  nan  nan ...  nan  nan   0.]\n",
      " [ nan  nan   0. ...  nan  nan  nan]\n",
      " [ nan  nan   0. ...  nan  nan  nan]]\n",
      "Epoch 0, Loss [[nan nan nan ... nan nan nan]\n",
      " [nan nan inf ... nan nan inf]\n",
      " [inf nan  0. ... nan nan nan]\n",
      " ...\n",
      " [nan nan nan ... nan nan inf]\n",
      " [nan nan inf ... nan nan nan]\n",
      " [nan nan inf ... nan nan nan]]\n"
     ]
    },
    {
     "name": "stderr",
     "output_type": "stream",
     "text": [
      "\r",
      " 20%|██        | 2/10 [00:00<00:02,  2.67it/s]"
     ]
    },
    {
     "name": "stdout",
     "output_type": "stream",
     "text": [
      "[[0. 1. 0. ... 0. 0. 0.]\n",
      " [0. 1. 0. ... 0. 0. 0.]\n",
      " [0. 0. 0. ... 0. 0. 0.]\n",
      " ...\n",
      " [0. 0. 0. ... 0. 0. 0.]\n",
      " [0. 0. 0. ... 0. 0. 0.]\n",
      " [0. 0. 0. ... 0. 0. 0.]]\n",
      "[[ nan  -0.  nan ...  nan  nan  nan]\n",
      " [ nan   0.  nan ...  nan  nan -inf]\n",
      " [ nan  nan  nan ...  nan  nan -inf]\n",
      " ...\n",
      " [ nan  nan  nan ...  nan  nan  nan]\n",
      " [ nan  nan  nan ...  nan  nan  nan]\n",
      " [ nan  nan  nan ...  nan  nan  nan]]\n",
      "[[0.00000000e+000 0.00000000e+000 0.00000000e+000 ... 0.00000000e+000\n",
      "  0.00000000e+000 0.00000000e+000]\n",
      " [0.00000000e+000 8.34028992e-101 0.00000000e+000 ... 0.00000000e+000\n",
      "  0.00000000e+000 0.00000000e+000]\n",
      " [0.00000000e+000 0.00000000e+000 0.00000000e+000 ... 0.00000000e+000\n",
      "  0.00000000e+000 0.00000000e+000]\n",
      " ...\n",
      " [0.00000000e+000 0.00000000e+000 0.00000000e+000 ... 0.00000000e+000\n",
      "  0.00000000e+000 0.00000000e+000]\n",
      " [0.00000000e+000 0.00000000e+000 0.00000000e+000 ... 0.00000000e+000\n",
      "  0.00000000e+000 0.00000000e+000]\n",
      " [0.00000000e+000 0.00000000e+000 0.00000000e+000 ... 0.00000000e+000\n",
      "  0.00000000e+000 0.00000000e+000]]\n",
      "[[ nan  nan  nan ...  nan  nan  nan]\n",
      " [ nan  -0.  nan ...  nan  nan -inf]\n",
      " [ nan  nan  nan ...  nan  nan -inf]\n",
      " ...\n",
      " [ nan  nan  nan ...  nan  nan  nan]\n",
      " [ nan  nan  nan ...  nan  nan  nan]\n",
      " [ nan  nan  nan ...  nan  nan  nan]]\n"
     ]
    },
    {
     "name": "stderr",
     "output_type": "stream",
     "text": [
      "\r",
      " 30%|███       | 3/10 [00:01<00:02,  2.60it/s]"
     ]
    },
    {
     "name": "stdout",
     "output_type": "stream",
     "text": [
      "[[0.00000000e+000 1.00000000e+000 0.00000000e+000 ... 0.00000000e+000\n",
      "  0.00000000e+000 0.00000000e+000]\n",
      " [0.00000000e+000 1.00000000e+000 0.00000000e+000 ... 0.00000000e+000\n",
      "  2.31694395e-118 0.00000000e+000]\n",
      " [1.00000000e+000 6.11538294e-226 0.00000000e+000 ... 0.00000000e+000\n",
      "  1.57417401e-135 1.00000000e+000]\n",
      " ...\n",
      " [0.00000000e+000 1.00000000e+000 0.00000000e+000 ... 0.00000000e+000\n",
      "  0.00000000e+000 1.00000000e+000]\n",
      " [0.00000000e+000 0.00000000e+000 0.00000000e+000 ... 0.00000000e+000\n",
      "  0.00000000e+000 0.00000000e+000]\n",
      " [2.20530285e-274 6.54715362e-112 0.00000000e+000 ... 0.00000000e+000\n",
      "  0.00000000e+000 0.00000000e+000]]\n",
      "[[ nan   0.  nan ...  nan  nan  nan]\n",
      " [ nan   0.  nan ...  nan  -0. -inf]\n",
      " [  0.  -0.  nan ...  nan  -0.   0.]\n",
      " ...\n",
      " [ nan   0.  nan ...  nan  nan   0.]\n",
      " [ nan  nan  nan ...  nan  nan  nan]\n",
      " [ -0.  -0.  nan ...  nan  nan  nan]]\n"
     ]
    },
    {
     "name": "stderr",
     "output_type": "stream",
     "text": [
      "\r",
      " 40%|████      | 4/10 [00:01<00:03,  1.81it/s]"
     ]
    },
    {
     "name": "stdout",
     "output_type": "stream",
     "text": [
      "[[0.00000000e+000 0.00000000e+000 0.00000000e+000 ... 1.00000000e+000\n",
      "  0.00000000e+000 0.00000000e+000]\n",
      " [0.00000000e+000 0.00000000e+000 0.00000000e+000 ... 2.64444406e-216\n",
      "  1.19931730e-137 0.00000000e+000]\n",
      " [0.00000000e+000 0.00000000e+000 0.00000000e+000 ... 0.00000000e+000\n",
      "  4.09463885e-148 9.62533616e-028]\n",
      " ...\n",
      " [0.00000000e+000 0.00000000e+000 0.00000000e+000 ... 0.00000000e+000\n",
      "  0.00000000e+000 0.00000000e+000]\n",
      " [0.00000000e+000 0.00000000e+000 0.00000000e+000 ... 1.00000000e+000\n",
      "  0.00000000e+000 0.00000000e+000]\n",
      " [0.00000000e+000 0.00000000e+000 0.00000000e+000 ... 1.00000000e+000\n",
      "  0.00000000e+000 0.00000000e+000]]\n",
      "[[        nan         nan         nan ...   0.                nan\n",
      "          nan]\n",
      " [        nan         nan         nan ...  -0.         -0.\n",
      "         -inf]\n",
      " [        nan         nan         nan ...         nan  -0.\n",
      "  -62.2079838]\n",
      " ...\n",
      " [        nan         nan         nan ...         nan         nan\n",
      "          nan]\n",
      " [        nan         nan         nan ...   0.                nan\n",
      "          nan]\n",
      " [        nan         nan         nan ...   0.                nan\n",
      "          nan]]\n"
     ]
    },
    {
     "name": "stderr",
     "output_type": "stream",
     "text": [
      "\r",
      " 50%|█████     | 5/10 [00:02<00:02,  2.15it/s]"
     ]
    },
    {
     "name": "stdout",
     "output_type": "stream",
     "text": [
      "[[0.00000000e+000 0.00000000e+000 0.00000000e+000 ... 0.00000000e+000\n",
      "  0.00000000e+000 3.88512773e-157]\n",
      " [0.00000000e+000 0.00000000e+000 0.00000000e+000 ... 0.00000000e+000\n",
      "  2.33012835e-095 8.97208077e-259]\n",
      " [0.00000000e+000 0.00000000e+000 0.00000000e+000 ... 0.00000000e+000\n",
      "  3.75399627e-093 1.00000000e+000]\n",
      " ...\n",
      " [0.00000000e+000 0.00000000e+000 0.00000000e+000 ... 0.00000000e+000\n",
      "  0.00000000e+000 1.00000000e+000]\n",
      " [0.00000000e+000 0.00000000e+000 0.00000000e+000 ... 0.00000000e+000\n",
      "  0.00000000e+000 1.64106993e-266]\n",
      " [0.00000000e+000 0.00000000e+000 0.00000000e+000 ... 0.00000000e+000\n",
      "  0.00000000e+000 0.00000000e+000]]\n",
      "[[          nan           nan           nan ...           nan\n",
      "            nan   -0.        ]\n",
      " [          nan           nan           nan ...           nan\n",
      "    -0.         -594.17542147]\n",
      " [          nan           nan           nan ...           nan\n",
      "    -0.            0.        ]\n",
      " ...\n",
      " [          nan           nan           nan ...           nan\n",
      "            nan    0.        ]\n",
      " [          nan           nan           nan ...           nan\n",
      "            nan   -0.        ]\n",
      " [          nan           nan           nan ...           nan\n",
      "            nan           nan]]\n"
     ]
    },
    {
     "name": "stderr",
     "output_type": "stream",
     "text": [
      "\r",
      " 60%|██████    | 6/10 [00:02<00:01,  2.22it/s]"
     ]
    },
    {
     "name": "stdout",
     "output_type": "stream",
     "text": [
      "[[0.00000000e+000 0.00000000e+000 0.00000000e+000 ... 0.00000000e+000\n",
      "  0.00000000e+000 0.00000000e+000]\n",
      " [0.00000000e+000 0.00000000e+000 0.00000000e+000 ... 0.00000000e+000\n",
      "  4.50070834e-234 0.00000000e+000]\n",
      " [0.00000000e+000 0.00000000e+000 0.00000000e+000 ... 0.00000000e+000\n",
      "  9.67236297e-238 0.00000000e+000]\n",
      " ...\n",
      " [0.00000000e+000 0.00000000e+000 0.00000000e+000 ... 0.00000000e+000\n",
      "  0.00000000e+000 0.00000000e+000]\n",
      " [0.00000000e+000 0.00000000e+000 1.00000000e+000 ... 0.00000000e+000\n",
      "  0.00000000e+000 0.00000000e+000]\n",
      " [0.00000000e+000 0.00000000e+000 2.37973802e-177 ... 0.00000000e+000\n",
      "  0.00000000e+000 0.00000000e+000]]\n",
      "[[ nan  nan  nan ...  nan  nan  nan]\n",
      " [ nan  nan  nan ...  nan  -0. -inf]\n",
      " [ nan  nan  nan ...  nan  -0. -inf]\n",
      " ...\n",
      " [ nan  nan  nan ...  nan  nan  nan]\n",
      " [ nan  nan   0. ...  nan  nan  nan]\n",
      " [ nan  nan  -0. ...  nan  nan  nan]]\n"
     ]
    },
    {
     "name": "stderr",
     "output_type": "stream",
     "text": [
      "\r",
      " 70%|███████   | 7/10 [00:02<00:01,  2.55it/s]"
     ]
    },
    {
     "name": "stdout",
     "output_type": "stream",
     "text": [
      "[[0.00000000e+000 0.00000000e+000 0.00000000e+000 ... 0.00000000e+000\n",
      "  0.00000000e+000 0.00000000e+000]\n",
      " [0.00000000e+000 1.34611796e-125 0.00000000e+000 ... 0.00000000e+000\n",
      "  1.00000000e+000 0.00000000e+000]\n",
      " [0.00000000e+000 0.00000000e+000 0.00000000e+000 ... 0.00000000e+000\n",
      "  1.00000000e+000 0.00000000e+000]\n",
      " ...\n",
      " [0.00000000e+000 0.00000000e+000 0.00000000e+000 ... 0.00000000e+000\n",
      "  7.52249206e-293 0.00000000e+000]\n",
      " [0.00000000e+000 0.00000000e+000 1.00000000e+000 ... 0.00000000e+000\n",
      "  0.00000000e+000 0.00000000e+000]\n",
      " [0.00000000e+000 0.00000000e+000 1.39999533e-150 ... 0.00000000e+000\n",
      "  0.00000000e+000 0.00000000e+000]]\n",
      "[[ nan  nan  nan ...  nan  nan  nan]\n",
      " [ nan  -0.  nan ...  nan   0. -inf]\n",
      " [ nan  nan  nan ...  nan   0. -inf]\n",
      " ...\n",
      " [ nan  nan  nan ...  nan  -0.  nan]\n",
      " [ nan  nan   0. ...  nan  nan  nan]\n",
      " [ nan  nan  -0. ...  nan  nan  nan]]\n"
     ]
    },
    {
     "name": "stderr",
     "output_type": "stream",
     "text": [
      " 90%|█████████ | 9/10 [00:03<00:00,  2.75it/s]"
     ]
    },
    {
     "name": "stdout",
     "output_type": "stream",
     "text": [
      "[[0.00000000e+000 1.00000000e+000 0.00000000e+000 ... 0.00000000e+000\n",
      "  0.00000000e+000 0.00000000e+000]\n",
      " [0.00000000e+000 1.00000000e+000 0.00000000e+000 ... 0.00000000e+000\n",
      "  0.00000000e+000 0.00000000e+000]\n",
      " [1.00000000e+000 3.05164795e-212 0.00000000e+000 ... 0.00000000e+000\n",
      "  0.00000000e+000 0.00000000e+000]\n",
      " ...\n",
      " [0.00000000e+000 1.00000000e+000 0.00000000e+000 ... 0.00000000e+000\n",
      "  0.00000000e+000 0.00000000e+000]\n",
      " [0.00000000e+000 0.00000000e+000 6.26305890e-087 ... 0.00000000e+000\n",
      "  0.00000000e+000 0.00000000e+000]\n",
      " [1.09035615e-215 6.73791694e-126 2.87687740e-298 ... 0.00000000e+000\n",
      "  0.00000000e+000 0.00000000e+000]]\n",
      "[[ nan   0.  nan ...  nan  nan  nan]\n",
      " [ nan   0.  nan ...  nan  nan -inf]\n",
      " [  0.  -0.  nan ...  nan  nan -inf]\n",
      " ...\n",
      " [ nan   0.  nan ...  nan  nan  nan]\n",
      " [ nan  nan  -0. ...  nan  nan  nan]\n",
      " [ -0.  -0.  -0. ...  nan  nan  nan]]\n"
     ]
    },
    {
     "name": "stderr",
     "output_type": "stream",
     "text": [
      "100%|██████████| 10/10 [00:03<00:00,  2.51it/s]"
     ]
    },
    {
     "name": "stdout",
     "output_type": "stream",
     "text": [
      "[[0.00000000e+000 0.00000000e+000 0.00000000e+000 ... 0.00000000e+000\n",
      "  0.00000000e+000 0.00000000e+000]\n",
      " [0.00000000e+000 0.00000000e+000 1.00000000e+000 ... 0.00000000e+000\n",
      "  5.65960021e-157 0.00000000e+000]\n",
      " [0.00000000e+000 0.00000000e+000 1.19534230e-269 ... 0.00000000e+000\n",
      "  5.23413961e-155 1.00000000e+000]\n",
      " ...\n",
      " [0.00000000e+000 0.00000000e+000 0.00000000e+000 ... 0.00000000e+000\n",
      "  0.00000000e+000 1.00000000e+000]\n",
      " [0.00000000e+000 0.00000000e+000 1.00000000e+000 ... 0.00000000e+000\n",
      "  0.00000000e+000 0.00000000e+000]\n",
      " [0.00000000e+000 0.00000000e+000 1.00000000e+000 ... 1.23579604e-180\n",
      "  0.00000000e+000 0.00000000e+000]]\n",
      "[[ nan  nan  nan ...  nan  nan  nan]\n",
      " [ nan  nan   0. ...  nan  -0. -inf]\n",
      " [ nan  nan  -0. ...  nan  -0.   0.]\n",
      " ...\n",
      " [ nan  nan  nan ...  nan  nan   0.]\n",
      " [ nan  nan   0. ...  nan  nan  nan]\n",
      " [ nan  nan   0. ...  -0.  nan  nan]]\n"
     ]
    },
    {
     "name": "stderr",
     "output_type": "stream",
     "text": [
      "\n",
      " 10%|█         | 1/10 [00:00<00:02,  3.47it/s]"
     ]
    },
    {
     "name": "stdout",
     "output_type": "stream",
     "text": [
      "[[0.00000000e+000 0.00000000e+000 0.00000000e+000 ... 0.00000000e+000\n",
      "  0.00000000e+000 0.00000000e+000]\n",
      " [0.00000000e+000 0.00000000e+000 0.00000000e+000 ... 0.00000000e+000\n",
      "  1.59534923e-031 0.00000000e+000]\n",
      " [0.00000000e+000 0.00000000e+000 0.00000000e+000 ... 0.00000000e+000\n",
      "  1.84566805e-004 1.00000000e+000]\n",
      " ...\n",
      " [0.00000000e+000 0.00000000e+000 0.00000000e+000 ... 0.00000000e+000\n",
      "  0.00000000e+000 1.65353846e-133]\n",
      " [0.00000000e+000 0.00000000e+000 0.00000000e+000 ... 0.00000000e+000\n",
      "  0.00000000e+000 0.00000000e+000]\n",
      " [0.00000000e+000 0.00000000e+000 0.00000000e+000 ... 9.85642383e-188\n",
      "  0.00000000e+000 0.00000000e+000]]\n",
      "[[ nan  nan  nan ...  nan  nan  nan]\n",
      " [ nan  nan  nan ...  nan  -0. -inf]\n",
      " [ nan  nan  nan ...  nan  -0.   0.]\n",
      " ...\n",
      " [ nan  nan  nan ...  nan  nan  -0.]\n",
      " [ nan  nan  nan ...  nan  nan  nan]\n",
      " [ nan  nan  nan ...  -0.  nan  nan]]\n",
      "Epoch 0, Loss [[           nan            nan            nan ...            nan\n",
      "             nan            nan]\n",
      " [           nan            nan            nan ...            nan\n",
      "  0.00000000e+00            inf]\n",
      " [           nan            nan            nan ...            nan\n",
      "  3.69167679e-08            nan]\n",
      " ...\n",
      " [           nan            nan            nan ...            nan\n",
      "             nan 0.00000000e+00]\n",
      " [           nan            nan            nan ...            nan\n",
      "             nan            nan]\n",
      " [           nan            nan            nan ... 0.00000000e+00\n",
      "             nan            nan]]\n"
     ]
    },
    {
     "name": "stderr",
     "output_type": "stream",
     "text": [
      "\r",
      " 20%|██        | 2/10 [00:00<00:02,  3.03it/s]"
     ]
    },
    {
     "name": "stdout",
     "output_type": "stream",
     "text": [
      "[[0.00000000e+000 0.00000000e+000 0.00000000e+000 ... 0.00000000e+000\n",
      "  0.00000000e+000 0.00000000e+000]\n",
      " [0.00000000e+000 0.00000000e+000 0.00000000e+000 ... 0.00000000e+000\n",
      "  0.00000000e+000 0.00000000e+000]\n",
      " [0.00000000e+000 0.00000000e+000 0.00000000e+000 ... 0.00000000e+000\n",
      "  0.00000000e+000 1.00000000e+000]\n",
      " ...\n",
      " [0.00000000e+000 0.00000000e+000 0.00000000e+000 ... 0.00000000e+000\n",
      "  0.00000000e+000 1.00000000e+000]\n",
      " [0.00000000e+000 0.00000000e+000 0.00000000e+000 ... 0.00000000e+000\n",
      "  0.00000000e+000 0.00000000e+000]\n",
      " [0.00000000e+000 0.00000000e+000 0.00000000e+000 ... 1.21835569e-239\n",
      "  0.00000000e+000 0.00000000e+000]]\n",
      "[[ nan  nan  nan ...  nan  nan  nan]\n",
      " [ nan  nan  nan ...  nan  nan -inf]\n",
      " [ nan  nan  nan ...  nan  nan   0.]\n",
      " ...\n",
      " [ nan  nan  nan ...  nan  nan   0.]\n",
      " [ nan  nan  nan ...  nan  nan  nan]\n",
      " [ nan  nan  nan ...  -0.  nan  nan]]\n",
      "[[0.00000000e+000 0.00000000e+000 0.00000000e+000 ... 4.27044760e-177\n",
      "  0.00000000e+000 0.00000000e+000]\n",
      " [0.00000000e+000 2.13027624e-048 0.00000000e+000 ... 0.00000000e+000\n",
      "  1.00000000e+000 0.00000000e+000]\n",
      " [0.00000000e+000 0.00000000e+000 0.00000000e+000 ... 0.00000000e+000\n",
      "  1.00000000e+000 0.00000000e+000]\n",
      " ...\n",
      " [0.00000000e+000 0.00000000e+000 0.00000000e+000 ... 0.00000000e+000\n",
      "  1.00000000e+000 0.00000000e+000]\n",
      " [0.00000000e+000 0.00000000e+000 0.00000000e+000 ... 2.97017811e-151\n",
      "  0.00000000e+000 0.00000000e+000]\n",
      " [0.00000000e+000 0.00000000e+000 0.00000000e+000 ... 9.87381717e-093\n",
      "  0.00000000e+000 0.00000000e+000]]\n",
      "[[ nan  nan  nan ...  -0.  nan  nan]\n",
      " [ nan  -0.  nan ...  nan   0. -inf]\n",
      " [ nan  nan  nan ...  nan   0. -inf]\n",
      " ...\n",
      " [ nan  nan  nan ...  nan   0.  nan]\n",
      " [ nan  nan  nan ...  -0.  nan  nan]\n",
      " [ nan  nan  nan ...  -0.  nan  nan]]\n"
     ]
    },
    {
     "name": "stderr",
     "output_type": "stream",
     "text": [
      "\r",
      " 30%|███       | 3/10 [00:00<00:02,  2.99it/s]"
     ]
    },
    {
     "name": "stdout",
     "output_type": "stream",
     "text": [
      "[[0.00000000e+000 1.00000000e+000 0.00000000e+000 ... 0.00000000e+000\n",
      "  0.00000000e+000 0.00000000e+000]\n",
      " [0.00000000e+000 1.00000000e+000 0.00000000e+000 ... 0.00000000e+000\n",
      "  0.00000000e+000 0.00000000e+000]\n",
      " [1.00000000e+000 2.86537546e-287 0.00000000e+000 ... 0.00000000e+000\n",
      "  0.00000000e+000 1.00000000e+000]\n",
      " ...\n",
      " [0.00000000e+000 3.98673342e-030 0.00000000e+000 ... 0.00000000e+000\n",
      "  0.00000000e+000 1.00000000e+000]\n",
      " [0.00000000e+000 0.00000000e+000 0.00000000e+000 ... 0.00000000e+000\n",
      "  0.00000000e+000 0.00000000e+000]\n",
      " [0.00000000e+000 8.15636578e-176 0.00000000e+000 ... 0.00000000e+000\n",
      "  0.00000000e+000 0.00000000e+000]]\n",
      "[[ nan   0.  nan ...  nan  nan  nan]\n",
      " [ nan   0.  nan ...  nan  nan -inf]\n",
      " [  0.  -0.  nan ...  nan  nan   0.]\n",
      " ...\n",
      " [ nan  -0.  nan ...  nan  nan   0.]\n",
      " [ nan  nan  nan ...  nan  nan  nan]\n",
      " [ nan  -0.  nan ...  nan  nan  nan]]\n"
     ]
    },
    {
     "name": "stderr",
     "output_type": "stream",
     "text": [
      " 50%|█████     | 5/10 [00:01<00:01,  3.18it/s]"
     ]
    },
    {
     "name": "stdout",
     "output_type": "stream",
     "text": [
      "[[0.00000000e+000 0.00000000e+000 0.00000000e+000 ... 1.00000000e+000\n",
      "  0.00000000e+000 0.00000000e+000]\n",
      " [0.00000000e+000 0.00000000e+000 0.00000000e+000 ... 0.00000000e+000\n",
      "  0.00000000e+000 0.00000000e+000]\n",
      " [0.00000000e+000 0.00000000e+000 0.00000000e+000 ... 0.00000000e+000\n",
      "  0.00000000e+000 1.51987482e-192]\n",
      " ...\n",
      " [0.00000000e+000 0.00000000e+000 0.00000000e+000 ... 0.00000000e+000\n",
      "  0.00000000e+000 0.00000000e+000]\n",
      " [0.00000000e+000 0.00000000e+000 0.00000000e+000 ... 1.00000000e+000\n",
      "  0.00000000e+000 0.00000000e+000]\n",
      " [0.00000000e+000 0.00000000e+000 0.00000000e+000 ... 1.00000000e+000\n",
      "  0.00000000e+000 0.00000000e+000]]\n",
      "[[          nan           nan           nan ...   -0.\n",
      "            nan           nan]\n",
      " [          nan           nan           nan ...           nan\n",
      "            nan          -inf]\n",
      " [          nan           nan           nan ...           nan\n",
      "            nan -441.67770988]\n",
      " ...\n",
      " [          nan           nan           nan ...           nan\n",
      "            nan           nan]\n",
      " [          nan           nan           nan ...    0.\n",
      "            nan           nan]\n",
      " [          nan           nan           nan ...    0.\n",
      "            nan           nan]]\n",
      "[[0.00000000e+000 0.00000000e+000 3.57312603e-275 ... 0.00000000e+000\n",
      "  0.00000000e+000 1.32188409e-087]\n",
      " [0.00000000e+000 0.00000000e+000 1.00000000e+000 ... 0.00000000e+000\n",
      "  0.00000000e+000 7.53716602e-202]\n",
      " [0.00000000e+000 0.00000000e+000 1.55265452e-219 ... 0.00000000e+000\n",
      "  0.00000000e+000 1.00000000e+000]\n",
      " ...\n",
      " [0.00000000e+000 0.00000000e+000 0.00000000e+000 ... 0.00000000e+000\n",
      "  0.00000000e+000 1.00000000e+000]\n",
      " [0.00000000e+000 0.00000000e+000 1.00000000e+000 ... 0.00000000e+000\n",
      "  0.00000000e+000 2.78909611e-206]\n",
      " [0.00000000e+000 0.00000000e+000 1.00000000e+000 ... 0.00000000e+000\n",
      "  0.00000000e+000 4.35528296e-265]]\n",
      "[[          nan           nan   -0.         ...           nan\n",
      "            nan   -0.        ]\n",
      " [          nan           nan    0.         ...           nan\n",
      "            nan -463.10234253]\n",
      " [          nan           nan   -0.         ...           nan\n",
      "            nan    0.        ]\n",
      " ...\n",
      " [          nan           nan           nan ...           nan\n",
      "            nan    0.        ]\n",
      " [          nan           nan    0.         ...           nan\n",
      "            nan   -0.        ]\n",
      " [          nan           nan    0.         ...           nan\n",
      "            nan   -0.        ]]\n"
     ]
    },
    {
     "name": "stderr",
     "output_type": "stream",
     "text": [
      " 70%|███████   | 7/10 [00:02<00:00,  3.37it/s]"
     ]
    },
    {
     "name": "stdout",
     "output_type": "stream",
     "text": [
      "[[0. 0. 0. ... 0. 0. 0.]\n",
      " [0. 0. 0. ... 0. 0. 0.]\n",
      " [1. 0. 0. ... 0. 0. 0.]\n",
      " ...\n",
      " [0. 0. 0. ... 0. 0. 0.]\n",
      " [0. 0. 0. ... 0. 0. 0.]\n",
      " [0. 0. 0. ... 0. 0. 0.]]\n",
      "[[ nan  nan  nan ...  nan  nan  nan]\n",
      " [ nan  nan  nan ...  nan  nan -inf]\n",
      " [  0.  nan  nan ...  nan  nan -inf]\n",
      " ...\n",
      " [ nan  nan  nan ...  nan  nan  nan]\n",
      " [ nan  nan  nan ...  nan  nan  nan]\n",
      " [ nan  nan  nan ...  nan  nan  nan]]\n",
      "[[0.00000000e+000 1.00000000e+000 0.00000000e+000 ... 0.00000000e+000\n",
      "  0.00000000e+000 0.00000000e+000]\n",
      " [0.00000000e+000 1.00000000e+000 0.00000000e+000 ... 0.00000000e+000\n",
      "  1.00000000e+000 0.00000000e+000]\n",
      " [0.00000000e+000 7.38690398e-288 0.00000000e+000 ... 0.00000000e+000\n",
      "  1.00000000e+000 0.00000000e+000]\n",
      " ...\n",
      " [0.00000000e+000 6.39715927e-022 0.00000000e+000 ... 0.00000000e+000\n",
      "  0.00000000e+000 0.00000000e+000]\n",
      " [0.00000000e+000 0.00000000e+000 0.00000000e+000 ... 0.00000000e+000\n",
      "  0.00000000e+000 0.00000000e+000]\n",
      " [0.00000000e+000 1.37968651e-162 0.00000000e+000 ... 0.00000000e+000\n",
      "  0.00000000e+000 0.00000000e+000]]\n"
     ]
    },
    {
     "name": "stderr",
     "output_type": "stream",
     "text": [
      "\r",
      " 80%|████████  | 8/10 [00:02<00:00,  3.66it/s]"
     ]
    },
    {
     "name": "stdout",
     "output_type": "stream",
     "text": [
      "[[ nan   0.  nan ...  nan  nan  nan]\n",
      " [ nan   0.  nan ...  nan   0. -inf]\n",
      " [ nan  -0.  nan ...  nan   0. -inf]\n",
      " ...\n",
      " [ nan  -0.  nan ...  nan  nan  nan]\n",
      " [ nan  nan  nan ...  nan  nan  nan]\n",
      " [ nan  -0.  nan ...  nan  nan  nan]]\n"
     ]
    },
    {
     "name": "stderr",
     "output_type": "stream",
     "text": [
      "\r",
      " 90%|█████████ | 9/10 [00:02<00:00,  3.26it/s]"
     ]
    },
    {
     "name": "stdout",
     "output_type": "stream",
     "text": [
      "[[0.00000000e+000 0.00000000e+000 0.00000000e+000 ... 1.00000000e+000\n",
      "  0.00000000e+000 0.00000000e+000]\n",
      " [0.00000000e+000 0.00000000e+000 0.00000000e+000 ... 1.10808975e-071\n",
      "  0.00000000e+000 0.00000000e+000]\n",
      " [0.00000000e+000 0.00000000e+000 0.00000000e+000 ... 0.00000000e+000\n",
      "  0.00000000e+000 0.00000000e+000]\n",
      " ...\n",
      " [0.00000000e+000 0.00000000e+000 0.00000000e+000 ... 2.08609775e-256\n",
      "  0.00000000e+000 0.00000000e+000]\n",
      " [0.00000000e+000 0.00000000e+000 0.00000000e+000 ... 1.00000000e+000\n",
      "  0.00000000e+000 0.00000000e+000]\n",
      " [0.00000000e+000 0.00000000e+000 0.00000000e+000 ... 1.00000000e+000\n",
      "  0.00000000e+000 0.00000000e+000]]\n",
      "[[ nan  nan  nan ...   0.  nan  nan]\n",
      " [ nan  nan  nan ...  -0.  nan -inf]\n",
      " [ nan  nan  nan ...  nan  nan -inf]\n",
      " ...\n",
      " [ nan  nan  nan ...  -0.  nan  nan]\n",
      " [ nan  nan  nan ...   0.  nan  nan]\n",
      " [ nan  nan  nan ...   0.  nan  nan]]\n"
     ]
    },
    {
     "name": "stderr",
     "output_type": "stream",
     "text": [
      "100%|██████████| 10/10 [00:02<00:00,  3.33it/s]"
     ]
    },
    {
     "name": "stdout",
     "output_type": "stream",
     "text": [
      "[[0. 0. 0. ... 0. 0. 0.]\n",
      " [0. 0. 0. ... 0. 1. 0.]\n",
      " [1. 0. 0. ... 0. 1. 1.]\n",
      " ...\n",
      " [0. 0. 0. ... 0. 1. 0.]\n",
      " [0. 0. 0. ... 0. 0. 0.]\n",
      " [0. 0. 0. ... 0. 0. 0.]]\n",
      "[[ nan  nan  nan ...  nan  nan  nan]\n",
      " [ nan  nan  nan ...  nan   0. -inf]\n",
      " [  0.  nan  nan ...  nan   0.   0.]\n",
      " ...\n",
      " [ nan  nan  nan ...  nan   0.  nan]\n",
      " [ nan  nan  nan ...  nan  nan  nan]\n",
      " [ nan  nan  nan ...  nan  nan  nan]]\n"
     ]
    },
    {
     "name": "stderr",
     "output_type": "stream",
     "text": [
      "\n",
      " 10%|█         | 1/10 [00:00<00:02,  3.28it/s]"
     ]
    },
    {
     "name": "stdout",
     "output_type": "stream",
     "text": [
      "[[0.00000000e+000 0.00000000e+000 0.00000000e+000 ... 0.00000000e+000\n",
      "  0.00000000e+000 6.70986397e-249]\n",
      " [0.00000000e+000 0.00000000e+000 0.00000000e+000 ... 0.00000000e+000\n",
      "  0.00000000e+000 0.00000000e+000]\n",
      " [0.00000000e+000 0.00000000e+000 0.00000000e+000 ... 0.00000000e+000\n",
      "  0.00000000e+000 1.00000000e+000]\n",
      " ...\n",
      " [0.00000000e+000 0.00000000e+000 0.00000000e+000 ... 0.00000000e+000\n",
      "  0.00000000e+000 1.00000000e+000]\n",
      " [0.00000000e+000 0.00000000e+000 0.00000000e+000 ... 0.00000000e+000\n",
      "  0.00000000e+000 0.00000000e+000]\n",
      " [0.00000000e+000 0.00000000e+000 0.00000000e+000 ... 0.00000000e+000\n",
      "  0.00000000e+000 0.00000000e+000]]\n",
      "[[ nan  nan  nan ...  nan  nan  -0.]\n",
      " [ nan  nan  nan ...  nan  nan -inf]\n",
      " [ nan  nan  nan ...  nan  nan   0.]\n",
      " ...\n",
      " [ nan  nan  nan ...  nan  nan   0.]\n",
      " [ nan  nan  nan ...  nan  nan  nan]\n",
      " [ nan  nan  nan ...  nan  nan  nan]]\n",
      "Epoch 0, Loss [[nan nan nan ... nan nan  0.]\n",
      " [nan nan nan ... nan nan inf]\n",
      " [nan nan nan ... nan nan nan]\n",
      " ...\n",
      " [nan nan nan ... nan nan inf]\n",
      " [nan nan nan ... nan nan nan]\n",
      " [nan nan nan ... nan nan nan]]\n"
     ]
    },
    {
     "name": "stderr",
     "output_type": "stream",
     "text": [
      "\r",
      " 20%|██        | 2/10 [00:00<00:02,  3.33it/s]"
     ]
    },
    {
     "name": "stdout",
     "output_type": "stream",
     "text": [
      "[[0.00000000e+000 1.00000000e+000 0.00000000e+000 ... 0.00000000e+000\n",
      "  0.00000000e+000 0.00000000e+000]\n",
      " [0.00000000e+000 1.00000000e+000 0.00000000e+000 ... 0.00000000e+000\n",
      "  0.00000000e+000 0.00000000e+000]\n",
      " [0.00000000e+000 0.00000000e+000 0.00000000e+000 ... 0.00000000e+000\n",
      "  0.00000000e+000 0.00000000e+000]\n",
      " ...\n",
      " [0.00000000e+000 6.94594151e-163 0.00000000e+000 ... 0.00000000e+000\n",
      "  0.00000000e+000 0.00000000e+000]\n",
      " [0.00000000e+000 0.00000000e+000 0.00000000e+000 ... 0.00000000e+000\n",
      "  0.00000000e+000 0.00000000e+000]\n",
      " [0.00000000e+000 1.66455248e-250 0.00000000e+000 ... 0.00000000e+000\n",
      "  0.00000000e+000 0.00000000e+000]]\n",
      "[[ nan   0.  nan ...  nan  nan  nan]\n",
      " [ nan   0.  nan ...  nan  nan -inf]\n",
      " [ nan  nan  nan ...  nan  nan -inf]\n",
      " ...\n",
      " [ nan  -0.  nan ...  nan  nan  nan]\n",
      " [ nan  nan  nan ...  nan  nan  nan]\n",
      " [ nan  -0.  nan ...  nan  nan  nan]]\n"
     ]
    },
    {
     "name": "stderr",
     "output_type": "stream",
     "text": [
      "\r",
      " 30%|███       | 3/10 [00:00<00:02,  3.34it/s]"
     ]
    },
    {
     "name": "stdout",
     "output_type": "stream",
     "text": [
      "[[0.00000000e+000 0.00000000e+000 2.29280032e-227 ... 0.00000000e+000\n",
      "  0.00000000e+000 0.00000000e+000]\n",
      " [0.00000000e+000 0.00000000e+000 1.00000000e+000 ... 0.00000000e+000\n",
      "  0.00000000e+000 0.00000000e+000]\n",
      " [1.00000000e+000 0.00000000e+000 6.14232870e-267 ... 0.00000000e+000\n",
      "  0.00000000e+000 0.00000000e+000]\n",
      " ...\n",
      " [0.00000000e+000 0.00000000e+000 0.00000000e+000 ... 0.00000000e+000\n",
      "  0.00000000e+000 0.00000000e+000]\n",
      " [0.00000000e+000 0.00000000e+000 1.00000000e+000 ... 0.00000000e+000\n",
      "  0.00000000e+000 0.00000000e+000]\n",
      " [0.00000000e+000 0.00000000e+000 1.00000000e+000 ... 0.00000000e+000\n",
      "  0.00000000e+000 0.00000000e+000]]\n",
      "[[ nan  nan  -0. ...  nan  nan  nan]\n",
      " [ nan  nan   0. ...  nan  nan -inf]\n",
      " [  0.  nan  -0. ...  nan  nan -inf]\n",
      " ...\n",
      " [ nan  nan  nan ...  nan  nan  nan]\n",
      " [ nan  nan   0. ...  nan  nan  nan]\n",
      " [ nan  nan   0. ...  nan  nan  nan]]\n"
     ]
    },
    {
     "name": "stderr",
     "output_type": "stream",
     "text": [
      "\r",
      " 40%|████      | 4/10 [00:01<00:01,  3.33it/s]"
     ]
    },
    {
     "name": "stdout",
     "output_type": "stream",
     "text": [
      "[[0.00000000e+000 0.00000000e+000 0.00000000e+000 ... 0.00000000e+000\n",
      "  0.00000000e+000 0.00000000e+000]\n",
      " [0.00000000e+000 0.00000000e+000 0.00000000e+000 ... 0.00000000e+000\n",
      "  1.00000000e+000 0.00000000e+000]\n",
      " [0.00000000e+000 0.00000000e+000 0.00000000e+000 ... 0.00000000e+000\n",
      "  1.00000000e+000 5.93964857e-156]\n",
      " ...\n",
      " [0.00000000e+000 0.00000000e+000 0.00000000e+000 ... 0.00000000e+000\n",
      "  1.65641130e-127 0.00000000e+000]\n",
      " [0.00000000e+000 0.00000000e+000 0.00000000e+000 ... 0.00000000e+000\n",
      "  0.00000000e+000 0.00000000e+000]\n",
      " [0.00000000e+000 0.00000000e+000 0.00000000e+000 ... 0.00000000e+000\n",
      "  0.00000000e+000 0.00000000e+000]]\n",
      "[[          nan           nan           nan ...           nan\n",
      "            nan           nan]\n",
      " [          nan           nan           nan ...           nan\n",
      "     0.                  -inf]\n",
      " [          nan           nan           nan ...           nan\n",
      "     0.         -357.42162454]\n",
      " ...\n",
      " [          nan           nan           nan ...           nan\n",
      "    -0.                   nan]\n",
      " [          nan           nan           nan ...           nan\n",
      "            nan           nan]\n",
      " [          nan           nan           nan ...           nan\n",
      "            nan           nan]]\n"
     ]
    },
    {
     "name": "stderr",
     "output_type": "stream",
     "text": [
      "\r",
      " 50%|█████     | 5/10 [00:01<00:01,  3.11it/s]"
     ]
    },
    {
     "name": "stdout",
     "output_type": "stream",
     "text": [
      "[[0.00000000e+000 1.00000000e+000 0.00000000e+000 ... 0.00000000e+000\n",
      "  0.00000000e+000 1.68924173e-273]\n",
      " [0.00000000e+000 1.00000000e+000 0.00000000e+000 ... 0.00000000e+000\n",
      "  0.00000000e+000 0.00000000e+000]\n",
      " [0.00000000e+000 8.28417799e-280 0.00000000e+000 ... 0.00000000e+000\n",
      "  0.00000000e+000 1.00000000e+000]\n",
      " ...\n",
      " [0.00000000e+000 3.47333359e-002 0.00000000e+000 ... 0.00000000e+000\n",
      "  0.00000000e+000 1.00000000e+000]\n",
      " [0.00000000e+000 0.00000000e+000 0.00000000e+000 ... 0.00000000e+000\n",
      "  0.00000000e+000 0.00000000e+000]\n",
      " [0.00000000e+000 1.14113395e-136 0.00000000e+000 ... 0.00000000e+000\n",
      "  0.00000000e+000 0.00000000e+000]]\n",
      "[[ nan   0.  nan ...  nan  nan  -0.]\n",
      " [ nan   0.  nan ...  nan  nan -inf]\n",
      " [ nan  -0.  nan ...  nan  nan   0.]\n",
      " ...\n",
      " [ nan  -0.  nan ...  nan  nan   0.]\n",
      " [ nan  nan  nan ...  nan  nan  nan]\n",
      " [ nan  -0.  nan ...  nan  nan  nan]]\n"
     ]
    },
    {
     "name": "stderr",
     "output_type": "stream",
     "text": [
      "\r",
      " 60%|██████    | 6/10 [00:01<00:01,  3.36it/s]"
     ]
    },
    {
     "name": "stdout",
     "output_type": "stream",
     "text": [
      "[[0.0000000e+000 0.0000000e+000 0.0000000e+000 ... 1.0000000e+000\n",
      "  0.0000000e+000 0.0000000e+000]\n",
      " [0.0000000e+000 0.0000000e+000 0.0000000e+000 ... 0.0000000e+000\n",
      "  0.0000000e+000 0.0000000e+000]\n",
      " [1.0000000e+000 0.0000000e+000 0.0000000e+000 ... 0.0000000e+000\n",
      "  0.0000000e+000 0.0000000e+000]\n",
      " ...\n",
      " [0.0000000e+000 0.0000000e+000 0.0000000e+000 ... 0.0000000e+000\n",
      "  0.0000000e+000 0.0000000e+000]\n",
      " [0.0000000e+000 0.0000000e+000 0.0000000e+000 ... 1.0000000e+000\n",
      "  0.0000000e+000 0.0000000e+000]\n",
      " [1.8238606e-198 0.0000000e+000 0.0000000e+000 ... 1.0000000e+000\n",
      "  0.0000000e+000 0.0000000e+000]]\n",
      "[[ nan  nan  nan ...   0.  nan  nan]\n",
      " [ nan  nan  nan ...  nan  nan -inf]\n",
      " [  0.  nan  nan ...  nan  nan -inf]\n",
      " ...\n",
      " [ nan  nan  nan ...  nan  nan  nan]\n",
      " [ nan  nan  nan ...   0.  nan  nan]\n",
      " [ -0.  nan  nan ...   0.  nan  nan]]\n",
      "[[0.00000000e+000 0.00000000e+000 0.00000000e+000 ... 0.00000000e+000\n",
      "  0.00000000e+000 0.00000000e+000]\n",
      " [0.00000000e+000 0.00000000e+000 0.00000000e+000 ... 0.00000000e+000\n",
      "  1.00000000e+000 0.00000000e+000]\n",
      " [0.00000000e+000 0.00000000e+000 0.00000000e+000 ... 0.00000000e+000\n",
      "  1.00000000e+000 0.00000000e+000]\n",
      " ...\n",
      " [0.00000000e+000 0.00000000e+000 0.00000000e+000 ... 0.00000000e+000\n",
      "  8.78218606e-206 0.00000000e+000]\n",
      " [0.00000000e+000 0.00000000e+000 0.00000000e+000 ... 0.00000000e+000\n",
      "  0.00000000e+000 0.00000000e+000]\n",
      " [0.00000000e+000 0.00000000e+000 0.00000000e+000 ... 0.00000000e+000\n",
      "  0.00000000e+000 0.00000000e+000]]\n",
      "[[ nan  nan  nan ...  nan  nan  nan]\n",
      " [ nan  nan  nan ...  nan   0. -inf]\n",
      " [ nan  nan  nan ...  nan   0. -inf]\n",
      " ...\n",
      " [ nan  nan  nan ...  nan  -0.  nan]\n",
      " [ nan  nan  nan ...  nan  nan  nan]\n",
      " [ nan  nan  nan ...  nan  nan  nan]]\n"
     ]
    },
    {
     "name": "stderr",
     "output_type": "stream",
     "text": [
      " 80%|████████  | 8/10 [00:02<00:00,  3.16it/s]"
     ]
    },
    {
     "name": "stdout",
     "output_type": "stream",
     "text": [
      "[[0.00000000e+00 0.00000000e+00 0.00000000e+00 ... 0.00000000e+00\n",
      "  0.00000000e+00 0.00000000e+00]\n",
      " [0.00000000e+00 0.00000000e+00 0.00000000e+00 ... 0.00000000e+00\n",
      "  0.00000000e+00 0.00000000e+00]\n",
      " [0.00000000e+00 0.00000000e+00 0.00000000e+00 ... 0.00000000e+00\n",
      "  0.00000000e+00 1.05728424e-40]\n",
      " ...\n",
      " [0.00000000e+00 0.00000000e+00 0.00000000e+00 ... 0.00000000e+00\n",
      "  0.00000000e+00 0.00000000e+00]\n",
      " [0.00000000e+00 0.00000000e+00 0.00000000e+00 ... 0.00000000e+00\n",
      "  0.00000000e+00 0.00000000e+00]\n",
      " [0.00000000e+00 0.00000000e+00 0.00000000e+00 ... 0.00000000e+00\n",
      "  0.00000000e+00 0.00000000e+00]]\n",
      "[[         nan          nan          nan ...          nan          nan\n",
      "           nan]\n",
      " [         nan          nan          nan ...          nan          nan\n",
      "          -inf]\n",
      " [         nan          nan          nan ...          nan          nan\n",
      "  -92.04770014]\n",
      " ...\n",
      " [         nan          nan          nan ...          nan          nan\n",
      "           nan]\n",
      " [         nan          nan          nan ...          nan          nan\n",
      "           nan]\n",
      " [         nan          nan          nan ...          nan          nan\n",
      "           nan]]\n",
      "[[0.00000000e+000 2.52287011e-057 0.00000000e+000 ... 0.00000000e+000\n",
      "  0.00000000e+000 1.96201798e-302]\n",
      " [0.00000000e+000 1.00000000e+000 0.00000000e+000 ... 0.00000000e+000\n",
      "  0.00000000e+000 0.00000000e+000]\n",
      " [0.00000000e+000 0.00000000e+000 0.00000000e+000 ... 0.00000000e+000\n",
      "  0.00000000e+000 1.00000000e+000]\n",
      " ...\n",
      " [0.00000000e+000 0.00000000e+000 0.00000000e+000 ... 0.00000000e+000\n",
      "  0.00000000e+000 1.00000000e+000]\n",
      " [0.00000000e+000 0.00000000e+000 0.00000000e+000 ... 0.00000000e+000\n",
      "  0.00000000e+000 0.00000000e+000]\n",
      " [0.00000000e+000 0.00000000e+000 0.00000000e+000 ... 0.00000000e+000\n",
      "  0.00000000e+000 0.00000000e+000]]\n",
      "[[ nan  -0.  nan ...  nan  nan  -0.]\n",
      " [ nan   0.  nan ...  nan  nan -inf]\n",
      " [ nan  nan  nan ...  nan  nan   0.]\n",
      " ...\n",
      " [ nan  nan  nan ...  nan  nan   0.]\n",
      " [ nan  nan  nan ...  nan  nan  nan]\n",
      " [ nan  nan  nan ...  nan  nan  nan]]\n"
     ]
    },
    {
     "name": "stderr",
     "output_type": "stream",
     "text": [
      "100%|██████████| 10/10 [00:03<00:00,  2.78it/s]"
     ]
    },
    {
     "name": "stdout",
     "output_type": "stream",
     "text": [
      "[[0.00000000e+000 2.13614567e-210 3.42234586e-250 ... 1.00000000e+000\n",
      "  0.00000000e+000 0.00000000e+000]\n",
      " [0.00000000e+000 1.00000000e+000 1.00000000e+000 ... 0.00000000e+000\n",
      "  1.00000000e+000 0.00000000e+000]\n",
      " [0.00000000e+000 0.00000000e+000 0.00000000e+000 ... 0.00000000e+000\n",
      "  1.00000000e+000 0.00000000e+000]\n",
      " ...\n",
      " [0.00000000e+000 0.00000000e+000 0.00000000e+000 ... 0.00000000e+000\n",
      "  1.00000000e+000 0.00000000e+000]\n",
      " [0.00000000e+000 0.00000000e+000 1.00000000e+000 ... 1.00000000e+000\n",
      "  0.00000000e+000 0.00000000e+000]\n",
      " [0.00000000e+000 0.00000000e+000 1.00000000e+000 ... 1.00000000e+000\n",
      "  0.00000000e+000 0.00000000e+000]]\n",
      "[[ nan  -0.  -0. ...   0.  nan  nan]\n",
      " [ nan   0.   0. ...  nan   0. -inf]\n",
      " [ nan  nan  nan ...  nan   0. -inf]\n",
      " ...\n",
      " [ nan  nan  nan ...  nan   0.  nan]\n",
      " [ nan  nan   0. ...   0.  nan  nan]\n",
      " [ nan  nan   0. ...   0.  nan  nan]]\n"
     ]
    },
    {
     "name": "stderr",
     "output_type": "stream",
     "text": [
      "\n",
      " 10%|█         | 1/10 [00:00<00:02,  3.43it/s]"
     ]
    },
    {
     "name": "stdout",
     "output_type": "stream",
     "text": [
      "[[0.00000000e+000 1.00000000e+000 0.00000000e+000 ... 0.00000000e+000\n",
      "  0.00000000e+000 0.00000000e+000]\n",
      " [0.00000000e+000 1.00000000e+000 0.00000000e+000 ... 0.00000000e+000\n",
      "  0.00000000e+000 0.00000000e+000]\n",
      " [1.00000000e+000 0.00000000e+000 0.00000000e+000 ... 0.00000000e+000\n",
      "  0.00000000e+000 0.00000000e+000]\n",
      " ...\n",
      " [0.00000000e+000 5.01477265e-194 0.00000000e+000 ... 0.00000000e+000\n",
      "  0.00000000e+000 0.00000000e+000]\n",
      " [0.00000000e+000 0.00000000e+000 0.00000000e+000 ... 0.00000000e+000\n",
      "  0.00000000e+000 0.00000000e+000]\n",
      " [0.00000000e+000 3.68972229e-263 0.00000000e+000 ... 0.00000000e+000\n",
      "  0.00000000e+000 0.00000000e+000]]\n",
      "[[ nan   0.  nan ...  nan  nan  nan]\n",
      " [ nan   0.  nan ...  nan  nan -inf]\n",
      " [  0.  nan  nan ...  nan  nan -inf]\n",
      " ...\n",
      " [ nan  -0.  nan ...  nan  nan  nan]\n",
      " [ nan  nan  nan ...  nan  nan  nan]\n",
      " [ nan  -0.  nan ...  nan  nan  nan]]\n",
      "Epoch 0, Loss [[nan inf nan ... nan nan nan]\n",
      " [nan inf nan ... nan nan inf]\n",
      " [inf nan nan ... nan nan inf]\n",
      " ...\n",
      " [nan  0. nan ... nan nan nan]\n",
      " [nan nan nan ... nan nan nan]\n",
      " [nan  0. nan ... nan nan nan]]\n"
     ]
    },
    {
     "name": "stderr",
     "output_type": "stream",
     "text": [
      "\r",
      " 20%|██        | 2/10 [00:00<00:02,  3.26it/s]"
     ]
    },
    {
     "name": "stdout",
     "output_type": "stream",
     "text": [
      "[[0. 0. 0. ... 0. 0. 0.]\n",
      " [0. 0. 0. ... 0. 0. 0.]\n",
      " [0. 0. 0. ... 0. 0. 1.]\n",
      " ...\n",
      " [0. 0. 0. ... 0. 0. 0.]\n",
      " [0. 0. 0. ... 0. 0. 0.]\n",
      " [0. 0. 0. ... 0. 0. 0.]]\n",
      "[[ nan  nan  nan ...  nan  nan  nan]\n",
      " [ nan  nan  nan ...  nan  nan -inf]\n",
      " [ nan  nan  nan ...  nan  nan   0.]\n",
      " ...\n",
      " [ nan  nan  nan ...  nan  nan  nan]\n",
      " [ nan  nan  nan ...  nan  nan  nan]\n",
      " [ nan  nan  nan ...  nan  nan  nan]]\n"
     ]
    },
    {
     "name": "stderr",
     "output_type": "stream",
     "text": [
      "\r",
      " 30%|███       | 3/10 [00:00<00:02,  3.31it/s]"
     ]
    },
    {
     "name": "stdout",
     "output_type": "stream",
     "text": [
      "[[0.00000000e+000 0.00000000e+000 0.00000000e+000 ... 0.00000000e+000\n",
      "  0.00000000e+000 0.00000000e+000]\n",
      " [0.00000000e+000 2.26984945e-138 0.00000000e+000 ... 0.00000000e+000\n",
      "  0.00000000e+000 0.00000000e+000]\n",
      " [0.00000000e+000 0.00000000e+000 0.00000000e+000 ... 0.00000000e+000\n",
      "  0.00000000e+000 1.00000000e+000]\n",
      " ...\n",
      " [0.00000000e+000 0.00000000e+000 0.00000000e+000 ... 0.00000000e+000\n",
      "  0.00000000e+000 1.00000000e+000]\n",
      " [0.00000000e+000 0.00000000e+000 0.00000000e+000 ... 0.00000000e+000\n",
      "  0.00000000e+000 0.00000000e+000]\n",
      " [0.00000000e+000 0.00000000e+000 0.00000000e+000 ... 0.00000000e+000\n",
      "  0.00000000e+000 0.00000000e+000]]\n",
      "[[ nan  nan  nan ...  nan  nan  nan]\n",
      " [ nan  -0.  nan ...  nan  nan -inf]\n",
      " [ nan  nan  nan ...  nan  nan   0.]\n",
      " ...\n",
      " [ nan  nan  nan ...  nan  nan   0.]\n",
      " [ nan  nan  nan ...  nan  nan  nan]\n",
      " [ nan  nan  nan ...  nan  nan  nan]]\n",
      "[[0.00000000e+000 1.00000000e+000 0.00000000e+000 ... 2.42839747e-012\n",
      "  0.00000000e+000 0.00000000e+000]\n",
      " [0.00000000e+000 1.00000000e+000 0.00000000e+000 ... 0.00000000e+000\n",
      "  0.00000000e+000 0.00000000e+000]\n",
      " [0.00000000e+000 1.14531742e-226 0.00000000e+000 ... 0.00000000e+000\n",
      "  0.00000000e+000 0.00000000e+000]\n",
      " ...\n",
      " [0.00000000e+000 1.00000000e+000 0.00000000e+000 ... 0.00000000e+000\n",
      "  0.00000000e+000 0.00000000e+000]\n",
      " [0.00000000e+000 0.00000000e+000 0.00000000e+000 ... 1.00000000e+000\n",
      "  0.00000000e+000 0.00000000e+000]\n",
      " [0.00000000e+000 4.91390090e-107 0.00000000e+000 ... 1.00000000e+000\n",
      "  0.00000000e+000 0.00000000e+000]]\n",
      "[[ nan   0.  nan ...  -0.  nan  nan]\n",
      " [ nan   0.  nan ...  nan  nan -inf]\n",
      " [ nan  -0.  nan ...  nan  nan -inf]\n",
      " ...\n",
      " [ nan   0.  nan ...  nan  nan  nan]\n",
      " [ nan  nan  nan ...   0.  nan  nan]\n",
      " [ nan  -0.  nan ...   0.  nan  nan]]\n"
     ]
    },
    {
     "name": "stderr",
     "output_type": "stream",
     "text": [
      "\r",
      " 40%|████      | 4/10 [00:01<00:01,  3.28it/s]"
     ]
    },
    {
     "name": "stdout",
     "output_type": "stream",
     "text": [
      "[[0. 0. 0. ... 0. 0. 0.]\n",
      " [0. 0. 0. ... 0. 1. 0.]\n",
      " [1. 0. 0. ... 0. 1. 0.]\n",
      " ...\n",
      " [0. 0. 0. ... 0. 1. 0.]\n",
      " [0. 0. 0. ... 0. 0. 0.]\n",
      " [0. 0. 0. ... 0. 0. 0.]]\n",
      "[[ nan  nan  nan ...  nan  nan  nan]\n",
      " [ nan  nan  nan ...  nan   0. -inf]\n",
      " [  0.  nan  nan ...  nan   0. -inf]\n",
      " ...\n",
      " [ nan  nan  nan ...  nan   0.  nan]\n",
      " [ nan  nan  nan ...  nan  nan  nan]\n",
      " [ nan  nan  nan ...  nan  nan  nan]]\n"
     ]
    },
    {
     "name": "stderr",
     "output_type": "stream",
     "text": [
      "\r",
      " 50%|█████     | 5/10 [00:01<00:02,  2.09it/s]"
     ]
    },
    {
     "name": "stdout",
     "output_type": "stream",
     "text": [
      "[[0.0000000e+000 0.0000000e+000 0.0000000e+000 ... 0.0000000e+000\n",
      "  0.0000000e+000 0.0000000e+000]\n",
      " [0.0000000e+000 0.0000000e+000 0.0000000e+000 ... 0.0000000e+000\n",
      "  0.0000000e+000 0.0000000e+000]\n",
      " [0.0000000e+000 0.0000000e+000 0.0000000e+000 ... 0.0000000e+000\n",
      "  0.0000000e+000 1.0000000e+000]\n",
      " ...\n",
      " [0.0000000e+000 0.0000000e+000 0.0000000e+000 ... 0.0000000e+000\n",
      "  0.0000000e+000 0.0000000e+000]\n",
      " [0.0000000e+000 0.0000000e+000 1.0000000e+000 ... 0.0000000e+000\n",
      "  0.0000000e+000 0.0000000e+000]\n",
      " [0.0000000e+000 0.0000000e+000 1.3155895e-126 ... 0.0000000e+000\n",
      "  0.0000000e+000 0.0000000e+000]]\n",
      "[[ nan  nan  nan ...  nan  nan  nan]\n",
      " [ nan  nan  nan ...  nan  nan -inf]\n",
      " [ nan  nan  nan ...  nan  nan   0.]\n",
      " ...\n",
      " [ nan  nan  nan ...  nan  nan  nan]\n",
      " [ nan  nan   0. ...  nan  nan  nan]\n",
      " [ nan  nan  -0. ...  nan  nan  nan]]\n"
     ]
    },
    {
     "name": "stderr",
     "output_type": "stream",
     "text": [
      "\r",
      " 60%|██████    | 6/10 [00:02<00:01,  2.14it/s]"
     ]
    },
    {
     "name": "stdout",
     "output_type": "stream",
     "text": [
      "[[0.00000000e+000 0.00000000e+000 0.00000000e+000 ... 2.19602194e-164\n",
      "  0.00000000e+000 0.00000000e+000]\n",
      " [0.00000000e+000 0.00000000e+000 0.00000000e+000 ... 0.00000000e+000\n",
      "  0.00000000e+000 0.00000000e+000]\n",
      " [0.00000000e+000 0.00000000e+000 0.00000000e+000 ... 0.00000000e+000\n",
      "  0.00000000e+000 1.00000000e+000]\n",
      " ...\n",
      " [0.00000000e+000 0.00000000e+000 0.00000000e+000 ... 0.00000000e+000\n",
      "  0.00000000e+000 1.00000000e+000]\n",
      " [0.00000000e+000 0.00000000e+000 2.48060478e-050 ... 1.75669528e-148\n",
      "  0.00000000e+000 0.00000000e+000]\n",
      " [0.00000000e+000 0.00000000e+000 6.87300316e-271 ... 8.94213422e-095\n",
      "  0.00000000e+000 0.00000000e+000]]\n",
      "[[ nan  nan  nan ...  -0.  nan  nan]\n",
      " [ nan  nan  nan ...  nan  nan -inf]\n",
      " [ nan  nan  nan ...  nan  nan   0.]\n",
      " ...\n",
      " [ nan  nan  nan ...  nan  nan   0.]\n",
      " [ nan  nan  -0. ...  -0.  nan  nan]\n",
      " [ nan  nan  -0. ...  -0.  nan  nan]]\n"
     ]
    },
    {
     "name": "stderr",
     "output_type": "stream",
     "text": [
      " 80%|████████  | 8/10 [00:03<00:00,  2.60it/s]"
     ]
    },
    {
     "name": "stdout",
     "output_type": "stream",
     "text": [
      "[[0.00000000e+000 0.00000000e+000 0.00000000e+000 ... 0.00000000e+000\n",
      "  0.00000000e+000 0.00000000e+000]\n",
      " [0.00000000e+000 0.00000000e+000 9.37828344e-076 ... 0.00000000e+000\n",
      "  0.00000000e+000 0.00000000e+000]\n",
      " [1.00000000e+000 0.00000000e+000 0.00000000e+000 ... 0.00000000e+000\n",
      "  0.00000000e+000 0.00000000e+000]\n",
      " ...\n",
      " [0.00000000e+000 0.00000000e+000 0.00000000e+000 ... 0.00000000e+000\n",
      "  0.00000000e+000 0.00000000e+000]\n",
      " [0.00000000e+000 0.00000000e+000 1.00000000e+000 ... 0.00000000e+000\n",
      "  0.00000000e+000 0.00000000e+000]\n",
      " [1.84676093e-273 0.00000000e+000 1.00000000e+000 ... 0.00000000e+000\n",
      "  0.00000000e+000 0.00000000e+000]]\n",
      "[[ nan  nan  nan ...  nan  nan  nan]\n",
      " [ nan  nan  -0. ...  nan  nan -inf]\n",
      " [  0.  nan  nan ...  nan  nan -inf]\n",
      " ...\n",
      " [ nan  nan  nan ...  nan  nan  nan]\n",
      " [ nan  nan   0. ...  nan  nan  nan]\n",
      " [ -0.  nan   0. ...  nan  nan  nan]]\n",
      "[[0.00000000e+000 1.00000000e+000 0.00000000e+000 ... 1.00000000e+000\n",
      "  0.00000000e+000 0.00000000e+000]\n",
      " [0.00000000e+000 1.00000000e+000 0.00000000e+000 ... 0.00000000e+000\n",
      "  1.00000000e+000 0.00000000e+000]\n",
      " [0.00000000e+000 3.13024220e-217 0.00000000e+000 ... 0.00000000e+000\n",
      "  1.00000000e+000 0.00000000e+000]\n",
      " ...\n",
      " [0.00000000e+000 1.00000000e+000 0.00000000e+000 ... 0.00000000e+000\n",
      "  7.75258061e-009 0.00000000e+000]\n",
      " [0.00000000e+000 0.00000000e+000 0.00000000e+000 ... 1.00000000e+000\n",
      "  0.00000000e+000 0.00000000e+000]\n",
      " [0.00000000e+000 6.71096352e-132 0.00000000e+000 ... 1.00000000e+000\n",
      "  0.00000000e+000 0.00000000e+000]]\n"
     ]
    },
    {
     "name": "stderr",
     "output_type": "stream",
     "text": [
      "\r",
      " 90%|█████████ | 9/10 [00:03<00:00,  2.75it/s]"
     ]
    },
    {
     "name": "stdout",
     "output_type": "stream",
     "text": [
      "[[ nan   0.  nan ...   0.  nan  nan]\n",
      " [ nan   0.  nan ...  nan   0. -inf]\n",
      " [ nan  -0.  nan ...  nan   0. -inf]\n",
      " ...\n",
      " [ nan   0.  nan ...  nan  -0.  nan]\n",
      " [ nan  nan  nan ...   0.  nan  nan]\n",
      " [ nan  -0.  nan ...   0.  nan  nan]]\n"
     ]
    },
    {
     "name": "stderr",
     "output_type": "stream",
     "text": [
      "100%|██████████| 10/10 [00:03<00:00,  2.63it/s]"
     ]
    },
    {
     "name": "stdout",
     "output_type": "stream",
     "text": [
      "[[0. 0. 0. ... 0. 0. 0.]\n",
      " [0. 0. 0. ... 0. 0. 0.]\n",
      " [0. 0. 0. ... 0. 0. 1.]\n",
      " ...\n",
      " [0. 0. 0. ... 0. 0. 1.]\n",
      " [0. 0. 0. ... 0. 0. 0.]\n",
      " [0. 0. 0. ... 0. 0. 0.]]\n",
      "[[ nan  nan  nan ...  nan  nan  nan]\n",
      " [ nan  nan  nan ...  nan  nan -inf]\n",
      " [ nan  nan  nan ...  nan  nan   0.]\n",
      " ...\n",
      " [ nan  nan  nan ...  nan  nan   0.]\n",
      " [ nan  nan  nan ...  nan  nan  nan]\n",
      " [ nan  nan  nan ...  nan  nan  nan]]\n"
     ]
    },
    {
     "name": "stderr",
     "output_type": "stream",
     "text": [
      "\n",
      " 10%|█         | 1/10 [00:00<00:01,  4.60it/s]"
     ]
    },
    {
     "name": "stdout",
     "output_type": "stream",
     "text": [
      "[[0. 0. 0. ... 0. 0. 0.]\n",
      " [0. 0. 0. ... 0. 0. 0.]\n",
      " [0. 0. 0. ... 0. 0. 0.]\n",
      " ...\n",
      " [0. 0. 0. ... 0. 0. 0.]\n",
      " [0. 0. 0. ... 0. 0. 0.]\n",
      " [0. 0. 0. ... 0. 0. 0.]]\n",
      "[[ nan  nan  nan ...  nan  nan  nan]\n",
      " [ nan  nan  nan ...  nan  nan -inf]\n",
      " [ nan  nan  nan ...  nan  nan -inf]\n",
      " ...\n",
      " [ nan  nan  nan ...  nan  nan  nan]\n",
      " [ nan  nan  nan ...  nan  nan  nan]\n",
      " [ nan  nan  nan ...  nan  nan  nan]]\n",
      "Epoch 0, Loss [[nan nan nan ... nan nan nan]\n",
      " [nan nan nan ... nan nan inf]\n",
      " [nan nan nan ... nan nan inf]\n",
      " ...\n",
      " [nan nan nan ... nan nan nan]\n",
      " [nan nan nan ... nan nan nan]\n",
      " [nan nan nan ... nan nan nan]]\n"
     ]
    },
    {
     "name": "stderr",
     "output_type": "stream",
     "text": [
      "\r",
      " 20%|██        | 2/10 [00:00<00:02,  3.77it/s]"
     ]
    },
    {
     "name": "stdout",
     "output_type": "stream",
     "text": [
      "[[0.00000000e+000 0.00000000e+000 0.00000000e+000 ... 0.00000000e+000\n",
      "  0.00000000e+000 0.00000000e+000]\n",
      " [0.00000000e+000 0.00000000e+000 0.00000000e+000 ... 0.00000000e+000\n",
      "  0.00000000e+000 0.00000000e+000]\n",
      " [0.00000000e+000 0.00000000e+000 0.00000000e+000 ... 0.00000000e+000\n",
      "  0.00000000e+000 1.00000000e+000]\n",
      " ...\n",
      " [0.00000000e+000 0.00000000e+000 0.00000000e+000 ... 0.00000000e+000\n",
      "  0.00000000e+000 0.00000000e+000]\n",
      " [0.00000000e+000 0.00000000e+000 1.00000000e+000 ... 0.00000000e+000\n",
      "  0.00000000e+000 0.00000000e+000]\n",
      " [0.00000000e+000 0.00000000e+000 2.45041941e-234 ... 0.00000000e+000\n",
      "  0.00000000e+000 0.00000000e+000]]\n",
      "[[ nan  nan  nan ...  nan  nan  nan]\n",
      " [ nan  nan  nan ...  nan  nan -inf]\n",
      " [ nan  nan  nan ...  nan  nan   0.]\n",
      " ...\n",
      " [ nan  nan  nan ...  nan  nan  nan]\n",
      " [ nan  nan   0. ...  nan  nan  nan]\n",
      " [ nan  nan  -0. ...  nan  nan  nan]]\n"
     ]
    },
    {
     "name": "stderr",
     "output_type": "stream",
     "text": [
      "\r",
      " 30%|███       | 3/10 [00:00<00:01,  3.57it/s]"
     ]
    },
    {
     "name": "stdout",
     "output_type": "stream",
     "text": [
      "[[0.00000000e+000 0.00000000e+000 0.00000000e+000 ... 1.00000000e+000\n",
      "  0.00000000e+000 0.00000000e+000]\n",
      " [0.00000000e+000 2.81760070e-039 3.26225696e-226 ... 1.52732125e-052\n",
      "  1.00000000e+000 0.00000000e+000]\n",
      " [1.00000000e+000 0.00000000e+000 0.00000000e+000 ... 0.00000000e+000\n",
      "  1.00000000e+000 1.00000000e+000]\n",
      " ...\n",
      " [0.00000000e+000 0.00000000e+000 0.00000000e+000 ... 1.08469356e-247\n",
      "  1.00000000e+000 1.00000000e+000]\n",
      " [0.00000000e+000 0.00000000e+000 1.00000000e+000 ... 1.00000000e+000\n",
      "  0.00000000e+000 0.00000000e+000]\n",
      " [0.00000000e+000 0.00000000e+000 1.00000000e+000 ... 1.00000000e+000\n",
      "  0.00000000e+000 0.00000000e+000]]\n",
      "[[ nan  nan  nan ...   0.  nan  nan]\n",
      " [ nan  -0.  -0. ...  -0.   0. -inf]\n",
      " [  0.  nan  nan ...  nan   0.   0.]\n",
      " ...\n",
      " [ nan  nan  nan ...  -0.   0.   0.]\n",
      " [ nan  nan   0. ...   0.  nan  nan]\n",
      " [ nan  nan  -0. ...   0.  nan  nan]]\n",
      "[[0.00000000e+000 1.00000000e+000 0.00000000e+000 ... 0.00000000e+000\n",
      "  0.00000000e+000 0.00000000e+000]\n",
      " [0.00000000e+000 1.00000000e+000 0.00000000e+000 ... 0.00000000e+000\n",
      "  0.00000000e+000 0.00000000e+000]\n",
      " [0.00000000e+000 1.72825930e-304 0.00000000e+000 ... 0.00000000e+000\n",
      "  0.00000000e+000 0.00000000e+000]\n",
      " ...\n",
      " [0.00000000e+000 1.66653933e-042 0.00000000e+000 ... 0.00000000e+000\n",
      "  0.00000000e+000 0.00000000e+000]\n",
      " [0.00000000e+000 0.00000000e+000 0.00000000e+000 ... 0.00000000e+000\n",
      "  0.00000000e+000 0.00000000e+000]\n",
      " [0.00000000e+000 3.66391183e-190 0.00000000e+000 ... 0.00000000e+000\n",
      "  0.00000000e+000 0.00000000e+000]]\n",
      "[[ nan   0.  nan ...  nan  nan  nan]\n",
      " [ nan   0.  nan ...  nan  nan -inf]\n",
      " [ nan  -0.  nan ...  nan  nan -inf]\n",
      " ...\n",
      " [ nan  -0.  nan ...  nan  nan  nan]\n",
      " [ nan  nan  nan ...  nan  nan  nan]\n",
      " [ nan  -0.  nan ...  nan  nan  nan]]\n"
     ]
    },
    {
     "name": "stderr",
     "output_type": "stream",
     "text": [
      "\r",
      " 40%|████      | 4/10 [00:01<00:01,  3.05it/s]"
     ]
    },
    {
     "name": "stdout",
     "output_type": "stream",
     "text": [
      "[[0. 0. 0. ... 0. 0. 0.]\n",
      " [0. 0. 0. ... 0. 0. 0.]\n",
      " [0. 0. 0. ... 0. 0. 0.]\n",
      " ...\n",
      " [0. 0. 0. ... 0. 0. 0.]\n",
      " [0. 0. 0. ... 0. 0. 0.]\n",
      " [0. 0. 0. ... 0. 0. 0.]]\n",
      "[[ nan  nan  nan ...  nan  nan  nan]\n",
      " [ nan  nan  nan ...  nan  nan -inf]\n",
      " [ nan  nan  nan ...  nan  nan -inf]\n",
      " ...\n",
      " [ nan  nan  nan ...  nan  nan  nan]\n",
      " [ nan  nan  nan ...  nan  nan  nan]\n",
      " [ nan  nan  nan ...  nan  nan  nan]]\n"
     ]
    },
    {
     "name": "stderr",
     "output_type": "stream",
     "text": [
      " 60%|██████    | 6/10 [00:01<00:01,  2.93it/s]"
     ]
    },
    {
     "name": "stdout",
     "output_type": "stream",
     "text": [
      "[[0.00000000e+000 0.00000000e+000 0.00000000e+000 ... 0.00000000e+000\n",
      "  0.00000000e+000 0.00000000e+000]\n",
      " [0.00000000e+000 0.00000000e+000 1.00000000e+000 ... 0.00000000e+000\n",
      "  0.00000000e+000 0.00000000e+000]\n",
      " [0.00000000e+000 0.00000000e+000 1.24870615e-297 ... 0.00000000e+000\n",
      "  0.00000000e+000 1.00000000e+000]\n",
      " ...\n",
      " [0.00000000e+000 0.00000000e+000 0.00000000e+000 ... 0.00000000e+000\n",
      "  0.00000000e+000 1.00000000e+000]\n",
      " [0.00000000e+000 0.00000000e+000 1.00000000e+000 ... 0.00000000e+000\n",
      "  0.00000000e+000 0.00000000e+000]\n",
      " [0.00000000e+000 0.00000000e+000 1.00000000e+000 ... 0.00000000e+000\n",
      "  0.00000000e+000 0.00000000e+000]]\n",
      "[[ nan  nan  nan ...  nan  nan  nan]\n",
      " [ nan  nan   0. ...  nan  nan -inf]\n",
      " [ nan  nan  -0. ...  nan  nan   0.]\n",
      " ...\n",
      " [ nan  nan  nan ...  nan  nan   0.]\n",
      " [ nan  nan   0. ...  nan  nan  nan]\n",
      " [ nan  nan   0. ...  nan  nan  nan]]\n",
      "[[0.00000000e+000 0.00000000e+000 0.00000000e+000 ... 0.00000000e+000\n",
      "  0.00000000e+000 0.00000000e+000]\n",
      " [0.00000000e+000 8.14774785e-293 0.00000000e+000 ... 0.00000000e+000\n",
      "  1.00000000e+000 0.00000000e+000]\n",
      " [1.00000000e+000 0.00000000e+000 0.00000000e+000 ... 0.00000000e+000\n",
      "  1.00000000e+000 0.00000000e+000]\n",
      " ...\n",
      " [0.00000000e+000 0.00000000e+000 0.00000000e+000 ... 0.00000000e+000\n",
      "  2.71086372e-181 0.00000000e+000]\n",
      " [0.00000000e+000 0.00000000e+000 0.00000000e+000 ... 0.00000000e+000\n",
      "  0.00000000e+000 0.00000000e+000]\n",
      " [0.00000000e+000 0.00000000e+000 0.00000000e+000 ... 0.00000000e+000\n",
      "  0.00000000e+000 0.00000000e+000]]\n",
      "[[ nan  nan  nan ...  nan  nan  nan]\n",
      " [ nan  -0.  nan ...  nan   0. -inf]\n",
      " [  0.  nan  nan ...  nan   0. -inf]\n",
      " ...\n",
      " [ nan  nan  nan ...  nan  -0.  nan]\n",
      " [ nan  nan  nan ...  nan  nan  nan]\n",
      " [ nan  nan  nan ...  nan  nan  nan]]\n"
     ]
    },
    {
     "name": "stderr",
     "output_type": "stream",
     "text": [
      "\r",
      " 70%|███████   | 7/10 [00:02<00:01,  2.67it/s]"
     ]
    },
    {
     "name": "stdout",
     "output_type": "stream",
     "text": [
      "[[0.00000000e+000 1.00000000e+000 0.00000000e+000 ... 0.00000000e+000\n",
      "  0.00000000e+000 0.00000000e+000]\n",
      " [0.00000000e+000 1.00000000e+000 0.00000000e+000 ... 0.00000000e+000\n",
      "  0.00000000e+000 0.00000000e+000]\n",
      " [0.00000000e+000 1.13837097e-228 0.00000000e+000 ... 0.00000000e+000\n",
      "  0.00000000e+000 1.00000000e+000]\n",
      " ...\n",
      " [0.00000000e+000 1.00000000e+000 0.00000000e+000 ... 0.00000000e+000\n",
      "  0.00000000e+000 0.00000000e+000]\n",
      " [0.00000000e+000 0.00000000e+000 0.00000000e+000 ... 0.00000000e+000\n",
      "  0.00000000e+000 0.00000000e+000]\n",
      " [0.00000000e+000 1.65047199e-137 0.00000000e+000 ... 0.00000000e+000\n",
      "  0.00000000e+000 0.00000000e+000]]\n",
      "[[ nan   0.  nan ...  nan  nan  nan]\n",
      " [ nan   0.  nan ...  nan  nan -inf]\n",
      " [ nan  -0.  nan ...  nan  nan   0.]\n",
      " ...\n",
      " [ nan   0.  nan ...  nan  nan  nan]\n",
      " [ nan  nan  nan ...  nan  nan  nan]\n",
      " [ nan  -0.  nan ...  nan  nan  nan]]\n"
     ]
    },
    {
     "name": "stderr",
     "output_type": "stream",
     "text": [
      "\r",
      " 80%|████████  | 8/10 [00:02<00:00,  2.43it/s]"
     ]
    },
    {
     "name": "stdout",
     "output_type": "stream",
     "text": [
      "[[0.00000000e+000 0.00000000e+000 0.00000000e+000 ... 0.00000000e+000\n",
      "  0.00000000e+000 3.51412790e-176]\n",
      " [0.00000000e+000 0.00000000e+000 0.00000000e+000 ... 0.00000000e+000\n",
      "  0.00000000e+000 0.00000000e+000]\n",
      " [0.00000000e+000 0.00000000e+000 0.00000000e+000 ... 0.00000000e+000\n",
      "  0.00000000e+000 1.00000000e+000]\n",
      " ...\n",
      " [0.00000000e+000 0.00000000e+000 0.00000000e+000 ... 0.00000000e+000\n",
      "  0.00000000e+000 1.00000000e+000]\n",
      " [0.00000000e+000 0.00000000e+000 0.00000000e+000 ... 0.00000000e+000\n",
      "  0.00000000e+000 8.80026733e-299]\n",
      " [0.00000000e+000 0.00000000e+000 0.00000000e+000 ... 0.00000000e+000\n",
      "  0.00000000e+000 0.00000000e+000]]\n",
      "[[ nan  nan  nan ...  nan  nan  -0.]\n",
      " [ nan  nan  nan ...  nan  nan -inf]\n",
      " [ nan  nan  nan ...  nan  nan   0.]\n",
      " ...\n",
      " [ nan  nan  nan ...  nan  nan   0.]\n",
      " [ nan  nan  nan ...  nan  nan  -0.]\n",
      " [ nan  nan  nan ...  nan  nan  nan]]\n"
     ]
    },
    {
     "name": "stderr",
     "output_type": "stream",
     "text": [
      "\r",
      " 90%|█████████ | 9/10 [00:03<00:00,  2.41it/s]"
     ]
    },
    {
     "name": "stdout",
     "output_type": "stream",
     "text": [
      "[[0.00000000e+000 0.00000000e+000 0.00000000e+000 ... 1.00000000e+000\n",
      "  0.00000000e+000 0.00000000e+000]\n",
      " [0.00000000e+000 0.00000000e+000 0.00000000e+000 ... 4.22309949e-238\n",
      "  1.00000000e+000 0.00000000e+000]\n",
      " [2.47669346e-090 0.00000000e+000 0.00000000e+000 ... 0.00000000e+000\n",
      "  1.00000000e+000 0.00000000e+000]\n",
      " ...\n",
      " [0.00000000e+000 0.00000000e+000 0.00000000e+000 ... 0.00000000e+000\n",
      "  6.56217654e-227 0.00000000e+000]\n",
      " [0.00000000e+000 0.00000000e+000 0.00000000e+000 ... 1.00000000e+000\n",
      "  0.00000000e+000 0.00000000e+000]\n",
      " [0.00000000e+000 0.00000000e+000 0.00000000e+000 ... 1.00000000e+000\n",
      "  0.00000000e+000 0.00000000e+000]]\n",
      "[[ nan  nan  nan ...   0.  nan  nan]\n",
      " [ nan  nan  nan ...  -0.   0. -inf]\n",
      " [ -0.  nan  nan ...  nan   0. -inf]\n",
      " ...\n",
      " [ nan  nan  nan ...  nan  -0.  nan]\n",
      " [ nan  nan  nan ...   0.  nan  nan]\n",
      " [ nan  nan  nan ...   0.  nan  nan]]\n"
     ]
    },
    {
     "name": "stderr",
     "output_type": "stream",
     "text": [
      "100%|██████████| 10/10 [00:03<00:00,  2.85it/s]\n",
      "  0%|          | 0/10 [00:00<?, ?it/s]"
     ]
    },
    {
     "name": "stdout",
     "output_type": "stream",
     "text": [
      "[[0.0000000e+000 0.0000000e+000 0.0000000e+000 ... 0.0000000e+000\n",
      "  0.0000000e+000 0.0000000e+000]\n",
      " [0.0000000e+000 0.0000000e+000 0.0000000e+000 ... 0.0000000e+000\n",
      "  0.0000000e+000 0.0000000e+000]\n",
      " [0.0000000e+000 0.0000000e+000 0.0000000e+000 ... 0.0000000e+000\n",
      "  0.0000000e+000 0.0000000e+000]\n",
      " ...\n",
      " [0.0000000e+000 0.0000000e+000 0.0000000e+000 ... 0.0000000e+000\n",
      "  0.0000000e+000 0.0000000e+000]\n",
      " [0.0000000e+000 0.0000000e+000 6.9362229e-152 ... 0.0000000e+000\n",
      "  0.0000000e+000 0.0000000e+000]\n",
      " [0.0000000e+000 0.0000000e+000 0.0000000e+000 ... 0.0000000e+000\n",
      "  0.0000000e+000 0.0000000e+000]]\n",
      "[[ nan  nan  nan ...  nan  nan  nan]\n",
      " [ nan  nan  nan ...  nan  nan -inf]\n",
      " [ nan  nan  nan ...  nan  nan -inf]\n",
      " ...\n",
      " [ nan  nan  nan ...  nan  nan  nan]\n",
      " [ nan  nan  -0. ...  nan  nan  nan]\n",
      " [ nan  nan  nan ...  nan  nan  nan]]\n"
     ]
    },
    {
     "name": "stderr",
     "output_type": "stream",
     "text": [
      "\r",
      " 10%|█         | 1/10 [00:00<00:02,  3.17it/s]"
     ]
    },
    {
     "name": "stdout",
     "output_type": "stream",
     "text": [
      "Epoch 0, Loss [[nan nan nan ... nan nan nan]\n",
      " [nan nan nan ... nan nan inf]\n",
      " [nan nan nan ... nan nan inf]\n",
      " ...\n",
      " [nan nan nan ... nan nan nan]\n",
      " [nan nan  0. ... nan nan nan]\n",
      " [nan nan nan ... nan nan nan]]\n",
      "[[0.00000000e+000 0.00000000e+000 0.00000000e+000 ... 0.00000000e+000\n",
      "  0.00000000e+000 0.00000000e+000]\n",
      " [0.00000000e+000 1.00000000e+000 1.00000000e+000 ... 0.00000000e+000\n",
      "  0.00000000e+000 0.00000000e+000]\n",
      " [1.00000000e+000 0.00000000e+000 1.81477884e-279 ... 0.00000000e+000\n",
      "  0.00000000e+000 0.00000000e+000]\n",
      " ...\n",
      " [0.00000000e+000 0.00000000e+000 0.00000000e+000 ... 0.00000000e+000\n",
      "  0.00000000e+000 0.00000000e+000]\n",
      " [0.00000000e+000 0.00000000e+000 1.00000000e+000 ... 0.00000000e+000\n",
      "  0.00000000e+000 0.00000000e+000]\n",
      " [0.00000000e+000 0.00000000e+000 1.00000000e+000 ... 0.00000000e+000\n",
      "  0.00000000e+000 0.00000000e+000]]\n",
      "[[ nan  nan  nan ...  nan  nan  nan]\n",
      " [ nan   0.   0. ...  nan  nan -inf]\n",
      " [  0.  nan  -0. ...  nan  nan -inf]\n",
      " ...\n",
      " [ nan  nan  nan ...  nan  nan  nan]\n",
      " [ nan  nan   0. ...  nan  nan  nan]\n",
      " [ nan  nan   0. ...  nan  nan  nan]]\n"
     ]
    },
    {
     "name": "stderr",
     "output_type": "stream",
     "text": [
      "\r",
      " 20%|██        | 2/10 [00:00<00:02,  3.33it/s]"
     ]
    },
    {
     "name": "stdout",
     "output_type": "stream",
     "text": [
      "[[0.00000000e+000 1.00000000e+000 0.00000000e+000 ... 0.00000000e+000\n",
      "  0.00000000e+000 0.00000000e+000]\n",
      " [0.00000000e+000 1.00000000e+000 0.00000000e+000 ... 0.00000000e+000\n",
      "  1.00000000e+000 0.00000000e+000]\n",
      " [0.00000000e+000 0.00000000e+000 0.00000000e+000 ... 0.00000000e+000\n",
      "  1.00000000e+000 1.00000000e+000]\n",
      " ...\n",
      " [0.00000000e+000 1.48406098e-122 0.00000000e+000 ... 0.00000000e+000\n",
      "  1.18063665e-020 1.00000000e+000]\n",
      " [0.00000000e+000 0.00000000e+000 0.00000000e+000 ... 0.00000000e+000\n",
      "  0.00000000e+000 0.00000000e+000]\n",
      " [0.00000000e+000 2.42090158e-240 0.00000000e+000 ... 0.00000000e+000\n",
      "  0.00000000e+000 0.00000000e+000]]\n",
      "[[ nan   0.  nan ...  nan  nan  nan]\n",
      " [ nan   0.  nan ...  nan   0. -inf]\n",
      " [ nan  nan  nan ...  nan   0.   0.]\n",
      " ...\n",
      " [ nan  -0.  nan ...  nan  -0.   0.]\n",
      " [ nan  nan  nan ...  nan  nan  nan]\n",
      " [ nan  -0.  nan ...  nan  nan  nan]]\n"
     ]
    },
    {
     "name": "stderr",
     "output_type": "stream",
     "text": [
      "\r",
      " 30%|███       | 3/10 [00:01<00:02,  2.76it/s]"
     ]
    },
    {
     "name": "stdout",
     "output_type": "stream",
     "text": [
      "[[0. 0. 0. ... 0. 0. 0.]\n",
      " [0. 0. 0. ... 0. 0. 0.]\n",
      " [0. 0. 0. ... 0. 0. 0.]\n",
      " ...\n",
      " [0. 0. 0. ... 0. 0. 0.]\n",
      " [0. 0. 0. ... 0. 0. 0.]\n",
      " [0. 0. 0. ... 0. 0. 0.]]\n",
      "[[ nan  nan  nan ...  nan  nan  nan]\n",
      " [ nan  nan  nan ...  nan  nan -inf]\n",
      " [ nan  nan  nan ...  nan  nan -inf]\n",
      " ...\n",
      " [ nan  nan  nan ...  nan  nan  nan]\n",
      " [ nan  nan  nan ...  nan  nan  nan]\n",
      " [ nan  nan  nan ...  nan  nan  nan]]\n"
     ]
    },
    {
     "name": "stderr",
     "output_type": "stream",
     "text": [
      " 50%|█████     | 5/10 [00:01<00:01,  2.70it/s]"
     ]
    },
    {
     "name": "stdout",
     "output_type": "stream",
     "text": [
      "[[0.00000000e+000 0.00000000e+000 0.00000000e+000 ... 1.00000000e+000\n",
      "  0.00000000e+000 0.00000000e+000]\n",
      " [0.00000000e+000 0.00000000e+000 0.00000000e+000 ... 1.71384169e-143\n",
      "  0.00000000e+000 0.00000000e+000]\n",
      " [0.00000000e+000 0.00000000e+000 0.00000000e+000 ... 0.00000000e+000\n",
      "  0.00000000e+000 1.00000000e+000]\n",
      " ...\n",
      " [0.00000000e+000 0.00000000e+000 0.00000000e+000 ... 1.04016061e-306\n",
      "  0.00000000e+000 1.00000000e+000]\n",
      " [0.00000000e+000 0.00000000e+000 0.00000000e+000 ... 1.00000000e+000\n",
      "  0.00000000e+000 0.00000000e+000]\n",
      " [0.00000000e+000 0.00000000e+000 0.00000000e+000 ... 1.00000000e+000\n",
      "  0.00000000e+000 0.00000000e+000]]\n",
      "[[ nan  nan  nan ...   0.  nan  nan]\n",
      " [ nan  nan  nan ...  -0.  nan -inf]\n",
      " [ nan  nan  nan ...  nan  nan   0.]\n",
      " ...\n",
      " [ nan  nan  nan ...  -0.  nan   0.]\n",
      " [ nan  nan  nan ...   0.  nan  nan]\n",
      " [ nan  nan  nan ...   0.  nan  nan]]\n",
      "[[0.00000000e+000 1.00000000e+000 0.00000000e+000 ... 0.00000000e+000\n",
      "  0.00000000e+000 0.00000000e+000]\n",
      " [0.00000000e+000 1.00000000e+000 0.00000000e+000 ... 0.00000000e+000\n",
      "  0.00000000e+000 0.00000000e+000]\n",
      " [1.00000000e+000 0.00000000e+000 0.00000000e+000 ... 0.00000000e+000\n",
      "  0.00000000e+000 1.53159638e-104]\n",
      " ...\n",
      " [0.00000000e+000 4.75553860e-277 0.00000000e+000 ... 0.00000000e+000\n",
      "  0.00000000e+000 0.00000000e+000]\n",
      " [0.00000000e+000 0.00000000e+000 0.00000000e+000 ... 0.00000000e+000\n",
      "  0.00000000e+000 0.00000000e+000]\n",
      " [8.44282367e-129 0.00000000e+000 0.00000000e+000 ... 0.00000000e+000\n",
      "  0.00000000e+000 0.00000000e+000]]\n"
     ]
    },
    {
     "name": "stderr",
     "output_type": "stream",
     "text": [
      "\r",
      " 60%|██████    | 6/10 [00:02<00:01,  2.63it/s]"
     ]
    },
    {
     "name": "stdout",
     "output_type": "stream",
     "text": [
      "[[         nan    0.                 nan ...          nan          nan\n",
      "           nan]\n",
      " [         nan    0.                 nan ...          nan          nan\n",
      "          -inf]\n",
      " [   0.                 nan          nan ...          nan          nan\n",
      "  -239.0425391]\n",
      " ...\n",
      " [         nan   -0.                 nan ...          nan          nan\n",
      "           nan]\n",
      " [         nan          nan          nan ...          nan          nan\n",
      "           nan]\n",
      " [  -0.                 nan          nan ...          nan          nan\n",
      "           nan]]\n"
     ]
    },
    {
     "name": "stderr",
     "output_type": "stream",
     "text": [
      "\r",
      " 70%|███████   | 7/10 [00:02<00:01,  2.83it/s]"
     ]
    },
    {
     "name": "stdout",
     "output_type": "stream",
     "text": [
      "[[0.00000000e+000 0.00000000e+000 0.00000000e+000 ... 0.00000000e+000\n",
      "  0.00000000e+000 2.75418868e-145]\n",
      " [0.00000000e+000 0.00000000e+000 0.00000000e+000 ... 0.00000000e+000\n",
      "  1.00000000e+000 2.08443230e-278]\n",
      " [0.00000000e+000 0.00000000e+000 0.00000000e+000 ... 0.00000000e+000\n",
      "  1.00000000e+000 1.00000000e+000]\n",
      " ...\n",
      " [0.00000000e+000 0.00000000e+000 0.00000000e+000 ... 0.00000000e+000\n",
      "  5.42753617e-025 1.00000000e+000]\n",
      " [0.00000000e+000 0.00000000e+000 0.00000000e+000 ... 0.00000000e+000\n",
      "  0.00000000e+000 7.20891705e-262]\n",
      " [0.00000000e+000 0.00000000e+000 0.00000000e+000 ... 0.00000000e+000\n",
      "  0.00000000e+000 0.00000000e+000]]\n",
      "[[          nan           nan           nan ...           nan\n",
      "            nan   -0.        ]\n",
      " [          nan           nan           nan ...           nan\n",
      "     0.         -639.38415931]\n",
      " [          nan           nan           nan ...           nan\n",
      "     0.            0.        ]\n",
      " ...\n",
      " [          nan           nan           nan ...           nan\n",
      "    -0.            0.        ]\n",
      " [          nan           nan           nan ...           nan\n",
      "            nan   -0.        ]\n",
      " [          nan           nan           nan ...           nan\n",
      "            nan           nan]]\n",
      "[[0.0000000e+00 1.0000000e+00 0.0000000e+00 ... 0.0000000e+00\n",
      "  0.0000000e+00 0.0000000e+00]\n",
      " [0.0000000e+00 1.0000000e+00 6.7735273e-57 ... 0.0000000e+00\n",
      "  0.0000000e+00 0.0000000e+00]\n",
      " [0.0000000e+00 0.0000000e+00 0.0000000e+00 ... 0.0000000e+00\n",
      "  0.0000000e+00 0.0000000e+00]\n",
      " ...\n",
      " [0.0000000e+00 0.0000000e+00 0.0000000e+00 ... 0.0000000e+00\n",
      "  0.0000000e+00 0.0000000e+00]\n",
      " [0.0000000e+00 0.0000000e+00 1.0000000e+00 ... 0.0000000e+00\n",
      "  0.0000000e+00 0.0000000e+00]\n",
      " [0.0000000e+00 0.0000000e+00 1.0000000e+00 ... 0.0000000e+00\n",
      "  0.0000000e+00 0.0000000e+00]]\n",
      "[[ nan   0.  nan ...  nan  nan  nan]\n",
      " [ nan   0.  -0. ...  nan  nan -inf]\n",
      " [ nan  nan  nan ...  nan  nan -inf]\n",
      " ...\n",
      " [ nan  nan  nan ...  nan  nan  nan]\n",
      " [ nan  nan   0. ...  nan  nan  nan]\n",
      " [ nan  nan   0. ...  nan  nan  nan]]\n"
     ]
    },
    {
     "name": "stderr",
     "output_type": "stream",
     "text": [
      "\r",
      " 80%|████████  | 8/10 [00:02<00:00,  2.86it/s]"
     ]
    },
    {
     "name": "stdout",
     "output_type": "stream",
     "text": [
      "[[0. 0. 0. ... 0. 0. 0.]\n",
      " [0. 0. 0. ... 0. 0. 0.]\n",
      " [0. 0. 0. ... 0. 0. 0.]\n",
      " ...\n",
      " [0. 0. 0. ... 0. 0. 0.]\n",
      " [0. 0. 0. ... 0. 0. 0.]\n",
      " [0. 0. 0. ... 0. 0. 0.]]\n",
      "[[ nan  nan  nan ...  nan  nan  nan]\n",
      " [ nan  nan  nan ...  nan  nan -inf]\n",
      " [ nan  nan  nan ...  nan  nan -inf]\n",
      " ...\n",
      " [ nan  nan  nan ...  nan  nan  nan]\n",
      " [ nan  nan  nan ...  nan  nan  nan]\n",
      " [ nan  nan  nan ...  nan  nan  nan]]\n"
     ]
    },
    {
     "name": "stderr",
     "output_type": "stream",
     "text": [
      "100%|██████████| 10/10 [00:03<00:00,  2.94it/s]"
     ]
    },
    {
     "name": "stdout",
     "output_type": "stream",
     "text": [
      "[[0.0000000e+000 1.0000000e+000 0.0000000e+000 ... 0.0000000e+000\n",
      "  0.0000000e+000 0.0000000e+000]\n",
      " [0.0000000e+000 1.0000000e+000 0.0000000e+000 ... 0.0000000e+000\n",
      "  0.0000000e+000 0.0000000e+000]\n",
      " [0.0000000e+000 0.0000000e+000 0.0000000e+000 ... 0.0000000e+000\n",
      "  0.0000000e+000 0.0000000e+000]\n",
      " ...\n",
      " [0.0000000e+000 2.8685784e-040 0.0000000e+000 ... 0.0000000e+000\n",
      "  0.0000000e+000 0.0000000e+000]\n",
      " [0.0000000e+000 0.0000000e+000 0.0000000e+000 ... 0.0000000e+000\n",
      "  0.0000000e+000 0.0000000e+000]\n",
      " [0.0000000e+000 1.8274276e-156 0.0000000e+000 ... 0.0000000e+000\n",
      "  0.0000000e+000 0.0000000e+000]]\n",
      "[[ nan   0.  nan ...  nan  nan  nan]\n",
      " [ nan   0.  nan ...  nan  nan -inf]\n",
      " [ nan  nan  nan ...  nan  nan -inf]\n",
      " ...\n",
      " [ nan  -0.  nan ...  nan  nan  nan]\n",
      " [ nan  nan  nan ...  nan  nan  nan]\n",
      " [ nan  -0.  nan ...  nan  nan  nan]]\n"
     ]
    },
    {
     "name": "stderr",
     "output_type": "stream",
     "text": [
      "\n",
      "  0%|          | 0/10 [00:00<?, ?it/s]"
     ]
    },
    {
     "name": "stdout",
     "output_type": "stream",
     "text": [
      "[[0.00000000e+000 0.00000000e+000 0.00000000e+000 ... 1.00000000e+000\n",
      "  0.00000000e+000 0.00000000e+000]\n",
      " [0.00000000e+000 0.00000000e+000 0.00000000e+000 ... 1.00762996e-203\n",
      "  1.00000000e+000 0.00000000e+000]\n",
      " [0.00000000e+000 0.00000000e+000 0.00000000e+000 ... 0.00000000e+000\n",
      "  1.00000000e+000 1.00000000e+000]\n",
      " ...\n",
      " [0.00000000e+000 0.00000000e+000 0.00000000e+000 ... 0.00000000e+000\n",
      "  8.86016304e-022 3.10201348e-029]\n",
      " [0.00000000e+000 0.00000000e+000 0.00000000e+000 ... 1.00000000e+000\n",
      "  0.00000000e+000 0.00000000e+000]\n",
      " [0.00000000e+000 0.00000000e+000 0.00000000e+000 ... 1.00000000e+000\n",
      "  0.00000000e+000 0.00000000e+000]]\n",
      "[[ nan  nan  nan ...   0.  nan  nan]\n",
      " [ nan  nan  nan ...  -0.   0. -inf]\n",
      " [ nan  nan  nan ...  nan   0.   0.]\n",
      " ...\n",
      " [ nan  nan  nan ...  nan  -0.  -0.]\n",
      " [ nan  nan  nan ...   0.  nan  nan]\n",
      " [ nan  nan  nan ...   0.  nan  nan]]\n"
     ]
    },
    {
     "name": "stderr",
     "output_type": "stream",
     "text": [
      "\r",
      " 10%|█         | 1/10 [00:00<00:02,  3.83it/s]"
     ]
    },
    {
     "name": "stdout",
     "output_type": "stream",
     "text": [
      "Epoch 0, Loss [[nan nan nan ... inf nan nan]\n",
      " [nan nan nan ...  0. inf inf]\n",
      " [nan nan nan ... nan inf nan]\n",
      " ...\n",
      " [nan nan nan ... nan  0.  0.]\n",
      " [nan nan nan ... inf nan nan]\n",
      " [nan nan nan ... inf nan nan]]\n",
      "[[0.00000000e+000 0.00000000e+000 0.00000000e+000 ... 0.00000000e+000\n",
      "  0.00000000e+000 0.00000000e+000]\n",
      " [0.00000000e+000 0.00000000e+000 0.00000000e+000 ... 0.00000000e+000\n",
      "  0.00000000e+000 0.00000000e+000]\n",
      " [1.00000000e+000 0.00000000e+000 0.00000000e+000 ... 0.00000000e+000\n",
      "  0.00000000e+000 1.00000000e+000]\n",
      " ...\n",
      " [0.00000000e+000 0.00000000e+000 0.00000000e+000 ... 0.00000000e+000\n",
      "  0.00000000e+000 2.69455036e-017]\n",
      " [0.00000000e+000 0.00000000e+000 1.00000000e+000 ... 0.00000000e+000\n",
      "  0.00000000e+000 0.00000000e+000]\n",
      " [0.00000000e+000 0.00000000e+000 1.96973871e-219 ... 0.00000000e+000\n",
      "  0.00000000e+000 0.00000000e+000]]\n",
      "[[ nan  nan  nan ...  nan  nan  nan]\n",
      " [ nan  nan  nan ...  nan  nan -inf]\n",
      " [  0.  nan  nan ...  nan  nan   0.]\n",
      " ...\n",
      " [ nan  nan  nan ...  nan  nan  -0.]\n",
      " [ nan  nan   0. ...  nan  nan  nan]\n",
      " [ nan  nan  -0. ...  nan  nan  nan]]\n"
     ]
    },
    {
     "name": "stderr",
     "output_type": "stream",
     "text": [
      "\r",
      " 20%|██        | 2/10 [00:00<00:02,  3.25it/s]"
     ]
    },
    {
     "name": "stdout",
     "output_type": "stream",
     "text": [
      "[[0.00000000e+000 0.00000000e+000 0.00000000e+000 ... 0.00000000e+000\n",
      "  0.00000000e+000 0.00000000e+000]\n",
      " [0.00000000e+000 0.00000000e+000 1.85229705e-204 ... 0.00000000e+000\n",
      "  0.00000000e+000 0.00000000e+000]\n",
      " [0.00000000e+000 0.00000000e+000 0.00000000e+000 ... 0.00000000e+000\n",
      "  0.00000000e+000 1.00000000e+000]\n",
      " ...\n",
      " [0.00000000e+000 0.00000000e+000 0.00000000e+000 ... 0.00000000e+000\n",
      "  0.00000000e+000 6.92124361e-042]\n",
      " [0.00000000e+000 0.00000000e+000 1.00000000e+000 ... 0.00000000e+000\n",
      "  0.00000000e+000 0.00000000e+000]\n",
      " [0.00000000e+000 0.00000000e+000 1.00000000e+000 ... 0.00000000e+000\n",
      "  0.00000000e+000 0.00000000e+000]]\n",
      "[[ nan  nan  nan ...  nan  nan  nan]\n",
      " [ nan  nan  -0. ...  nan  nan -inf]\n",
      " [ nan  nan  nan ...  nan  nan   0.]\n",
      " ...\n",
      " [ nan  nan  nan ...  nan  nan  -0.]\n",
      " [ nan  nan   0. ...  nan  nan  nan]\n",
      " [ nan  nan   0. ...  nan  nan  nan]]\n"
     ]
    },
    {
     "name": "stderr",
     "output_type": "stream",
     "text": [
      "\r",
      " 30%|███       | 3/10 [00:01<00:02,  2.83it/s]"
     ]
    },
    {
     "name": "stdout",
     "output_type": "stream",
     "text": [
      "[[0.00000000e+000 1.00000000e+000 0.00000000e+000 ... 0.00000000e+000\n",
      "  0.00000000e+000 0.00000000e+000]\n",
      " [0.00000000e+000 1.00000000e+000 0.00000000e+000 ... 0.00000000e+000\n",
      "  0.00000000e+000 0.00000000e+000]\n",
      " [0.00000000e+000 0.00000000e+000 0.00000000e+000 ... 0.00000000e+000\n",
      "  0.00000000e+000 1.00000000e+000]\n",
      " ...\n",
      " [0.00000000e+000 1.73852692e-143 0.00000000e+000 ... 0.00000000e+000\n",
      "  0.00000000e+000 1.00000000e+000]\n",
      " [0.00000000e+000 0.00000000e+000 0.00000000e+000 ... 0.00000000e+000\n",
      "  0.00000000e+000 0.00000000e+000]\n",
      " [0.00000000e+000 8.97884764e-231 0.00000000e+000 ... 0.00000000e+000\n",
      "  0.00000000e+000 0.00000000e+000]]\n",
      "[[ nan   0.  nan ...  nan  nan  nan]\n",
      " [ nan   0.  nan ...  nan  nan -inf]\n",
      " [ nan  nan  nan ...  nan  nan   0.]\n",
      " ...\n",
      " [ nan  -0.  nan ...  nan  nan   0.]\n",
      " [ nan  nan  nan ...  nan  nan  nan]\n",
      " [ nan  -0.  nan ...  nan  nan  nan]]\n"
     ]
    },
    {
     "name": "stderr",
     "output_type": "stream",
     "text": [
      " 50%|█████     | 5/10 [00:01<00:01,  2.80it/s]"
     ]
    },
    {
     "name": "stdout",
     "output_type": "stream",
     "text": [
      "[[0.00000000e+00 0.00000000e+00 0.00000000e+00 ... 0.00000000e+00\n",
      "  0.00000000e+00 0.00000000e+00]\n",
      " [0.00000000e+00 0.00000000e+00 0.00000000e+00 ... 0.00000000e+00\n",
      "  1.00000000e+00 0.00000000e+00]\n",
      " [0.00000000e+00 0.00000000e+00 0.00000000e+00 ... 0.00000000e+00\n",
      "  1.00000000e+00 1.00000000e+00]\n",
      " ...\n",
      " [0.00000000e+00 0.00000000e+00 0.00000000e+00 ... 0.00000000e+00\n",
      "  1.67730193e-42 0.00000000e+00]\n",
      " [0.00000000e+00 0.00000000e+00 0.00000000e+00 ... 0.00000000e+00\n",
      "  0.00000000e+00 0.00000000e+00]\n",
      " [0.00000000e+00 0.00000000e+00 0.00000000e+00 ... 0.00000000e+00\n",
      "  0.00000000e+00 0.00000000e+00]]\n",
      "[[ nan  nan  nan ...  nan  nan  nan]\n",
      " [ nan  nan  nan ...  nan   0. -inf]\n",
      " [ nan  nan  nan ...  nan   0.   0.]\n",
      " ...\n",
      " [ nan  nan  nan ...  nan  -0.  nan]\n",
      " [ nan  nan  nan ...  nan  nan  nan]\n",
      " [ nan  nan  nan ...  nan  nan  nan]]\n"
     ]
    },
    {
     "name": "stderr",
     "output_type": "stream",
     "text": [
      "\r",
      " 60%|██████    | 6/10 [00:02<00:01,  2.96it/s]"
     ]
    },
    {
     "name": "stdout",
     "output_type": "stream",
     "text": [
      "[[0.00000000e+000 0.00000000e+000 0.00000000e+000 ... 4.21938664e-269\n",
      "  0.00000000e+000 2.45889845e-141]\n",
      " [0.00000000e+000 0.00000000e+000 1.00000000e+000 ... 0.00000000e+000\n",
      "  0.00000000e+000 3.77764141e-302]\n",
      " [1.17931877e-248 0.00000000e+000 0.00000000e+000 ... 0.00000000e+000\n",
      "  0.00000000e+000 1.00000000e+000]\n",
      " ...\n",
      " [0.00000000e+000 0.00000000e+000 0.00000000e+000 ... 0.00000000e+000\n",
      "  0.00000000e+000 1.00000000e+000]\n",
      " [0.00000000e+000 0.00000000e+000 1.00000000e+000 ... 0.00000000e+000\n",
      "  0.00000000e+000 0.00000000e+000]\n",
      " [0.00000000e+000 0.00000000e+000 1.00000000e+000 ... 9.31793033e-165\n",
      "  0.00000000e+000 0.00000000e+000]]\n",
      "[[          nan           nan           nan ...   -0.\n",
      "            nan   -0.        ]\n",
      " [          nan           nan    0.         ...           nan\n",
      "            nan -694.05159823]\n",
      " [  -0.                   nan           nan ...           nan\n",
      "            nan    0.        ]\n",
      " ...\n",
      " [          nan           nan           nan ...           nan\n",
      "            nan    0.        ]\n",
      " [          nan           nan    0.         ...           nan\n",
      "            nan           nan]\n",
      " [          nan           nan    0.         ...   -0.\n",
      "            nan           nan]]\n",
      "[[0.00000000e+000 1.00000000e+000 0.00000000e+000 ... 0.00000000e+000\n",
      "  0.00000000e+000 0.00000000e+000]\n",
      " [0.00000000e+000 1.00000000e+000 0.00000000e+000 ... 0.00000000e+000\n",
      "  0.00000000e+000 0.00000000e+000]\n",
      " [0.00000000e+000 0.00000000e+000 0.00000000e+000 ... 0.00000000e+000\n",
      "  0.00000000e+000 0.00000000e+000]\n",
      " ...\n",
      " [0.00000000e+000 4.88810814e-200 0.00000000e+000 ... 0.00000000e+000\n",
      "  0.00000000e+000 0.00000000e+000]\n",
      " [0.00000000e+000 0.00000000e+000 0.00000000e+000 ... 0.00000000e+000\n",
      "  0.00000000e+000 0.00000000e+000]\n",
      " [0.00000000e+000 1.22906808e-257 0.00000000e+000 ... 0.00000000e+000\n",
      "  0.00000000e+000 0.00000000e+000]]\n",
      "[[ nan   0.  nan ...  nan  nan  nan]\n",
      " [ nan   0.  nan ...  nan  nan -inf]\n",
      " [ nan  nan  nan ...  nan  nan -inf]\n",
      " ...\n",
      " [ nan  -0.  nan ...  nan  nan  nan]\n",
      " [ nan  nan  nan ...  nan  nan  nan]\n",
      " [ nan  -0.  nan ...  nan  nan  nan]]\n"
     ]
    },
    {
     "name": "stderr",
     "output_type": "stream",
     "text": [
      "\r",
      " 70%|███████   | 7/10 [00:02<00:01,  2.59it/s]"
     ]
    },
    {
     "name": "stdout",
     "output_type": "stream",
     "text": [
      "[[0.00000000e+000 0.00000000e+000 0.00000000e+000 ... 1.00000000e+000\n",
      "  0.00000000e+000 0.00000000e+000]\n",
      " [0.00000000e+000 0.00000000e+000 0.00000000e+000 ... 6.47702091e-264\n",
      "  0.00000000e+000 0.00000000e+000]\n",
      " [1.00000000e+000 0.00000000e+000 0.00000000e+000 ... 0.00000000e+000\n",
      "  0.00000000e+000 0.00000000e+000]\n",
      " ...\n",
      " [0.00000000e+000 0.00000000e+000 0.00000000e+000 ... 0.00000000e+000\n",
      "  0.00000000e+000 0.00000000e+000]\n",
      " [0.00000000e+000 0.00000000e+000 0.00000000e+000 ... 1.00000000e+000\n",
      "  0.00000000e+000 0.00000000e+000]\n",
      " [1.51994562e-246 0.00000000e+000 0.00000000e+000 ... 1.00000000e+000\n",
      "  0.00000000e+000 0.00000000e+000]]\n",
      "[[ nan  nan  nan ...   0.  nan  nan]\n",
      " [ nan  nan  nan ...  -0.  nan -inf]\n",
      " [  0.  nan  nan ...  nan  nan -inf]\n",
      " ...\n",
      " [ nan  nan  nan ...  nan  nan  nan]\n",
      " [ nan  nan  nan ...   0.  nan  nan]\n",
      " [ -0.  nan  nan ...   0.  nan  nan]]\n"
     ]
    },
    {
     "name": "stderr",
     "output_type": "stream",
     "text": [
      "\r",
      " 80%|████████  | 8/10 [00:02<00:00,  2.79it/s]"
     ]
    },
    {
     "name": "stdout",
     "output_type": "stream",
     "text": [
      "[[0.00000000e+000 0.00000000e+000 0.00000000e+000 ... 0.00000000e+000\n",
      "  0.00000000e+000 0.00000000e+000]\n",
      " [0.00000000e+000 4.13473976e-143 0.00000000e+000 ... 0.00000000e+000\n",
      "  1.00000000e+000 0.00000000e+000]\n",
      " [0.00000000e+000 0.00000000e+000 0.00000000e+000 ... 0.00000000e+000\n",
      "  1.00000000e+000 0.00000000e+000]\n",
      " ...\n",
      " [0.00000000e+000 0.00000000e+000 0.00000000e+000 ... 0.00000000e+000\n",
      "  4.72315075e-073 0.00000000e+000]\n",
      " [0.00000000e+000 0.00000000e+000 0.00000000e+000 ... 0.00000000e+000\n",
      "  0.00000000e+000 0.00000000e+000]\n",
      " [0.00000000e+000 0.00000000e+000 0.00000000e+000 ... 0.00000000e+000\n",
      "  0.00000000e+000 0.00000000e+000]]\n",
      "[[ nan  nan  nan ...  nan  nan  nan]\n",
      " [ nan  -0.  nan ...  nan   0. -inf]\n",
      " [ nan  nan  nan ...  nan   0. -inf]\n",
      " ...\n",
      " [ nan  nan  nan ...  nan  -0.  nan]\n",
      " [ nan  nan  nan ...  nan  nan  nan]\n",
      " [ nan  nan  nan ...  nan  nan  nan]]\n"
     ]
    },
    {
     "name": "stderr",
     "output_type": "stream",
     "text": [
      "\r",
      " 90%|█████████ | 9/10 [00:03<00:00,  1.79it/s]"
     ]
    },
    {
     "name": "stdout",
     "output_type": "stream",
     "text": [
      "[[0.00000000e+000 1.00000000e+000 0.00000000e+000 ... 0.00000000e+000\n",
      "  0.00000000e+000 0.00000000e+000]\n",
      " [0.00000000e+000 1.00000000e+000 0.00000000e+000 ... 0.00000000e+000\n",
      "  0.00000000e+000 0.00000000e+000]\n",
      " [0.00000000e+000 3.13764827e-250 0.00000000e+000 ... 0.00000000e+000\n",
      "  0.00000000e+000 1.00000000e+000]\n",
      " ...\n",
      " [0.00000000e+000 1.00000000e+000 0.00000000e+000 ... 0.00000000e+000\n",
      "  0.00000000e+000 1.00000000e+000]\n",
      " [0.00000000e+000 0.00000000e+000 0.00000000e+000 ... 0.00000000e+000\n",
      "  0.00000000e+000 0.00000000e+000]\n",
      " [0.00000000e+000 6.84739904e-109 0.00000000e+000 ... 0.00000000e+000\n",
      "  0.00000000e+000 0.00000000e+000]]\n",
      "[[ nan   0.  nan ...  nan  nan  nan]\n",
      " [ nan   0.  nan ...  nan  nan -inf]\n",
      " [ nan  -0.  nan ...  nan  nan   0.]\n",
      " ...\n",
      " [ nan   0.  nan ...  nan  nan   0.]\n",
      " [ nan  nan  nan ...  nan  nan  nan]\n",
      " [ nan  -0.  nan ...  nan  nan  nan]]\n"
     ]
    },
    {
     "name": "stderr",
     "output_type": "stream",
     "text": [
      "100%|██████████| 10/10 [00:04<00:00,  2.38it/s]\n",
      " 10%|█         | 1/10 [00:00<00:02,  3.31it/s]"
     ]
    },
    {
     "name": "stdout",
     "output_type": "stream",
     "text": [
      "[[0.00000000e+000 0.00000000e+000 0.00000000e+000 ... 0.00000000e+000\n",
      "  0.00000000e+000 0.00000000e+000]\n",
      " [0.00000000e+000 0.00000000e+000 4.47819673e-265 ... 0.00000000e+000\n",
      "  0.00000000e+000 0.00000000e+000]\n",
      " [0.00000000e+000 0.00000000e+000 0.00000000e+000 ... 0.00000000e+000\n",
      "  0.00000000e+000 0.00000000e+000]\n",
      " ...\n",
      " [0.00000000e+000 0.00000000e+000 0.00000000e+000 ... 0.00000000e+000\n",
      "  0.00000000e+000 0.00000000e+000]\n",
      " [0.00000000e+000 0.00000000e+000 1.00000000e+000 ... 0.00000000e+000\n",
      "  0.00000000e+000 0.00000000e+000]\n",
      " [0.00000000e+000 0.00000000e+000 2.06336200e-010 ... 0.00000000e+000\n",
      "  0.00000000e+000 0.00000000e+000]]\n",
      "[[ nan  nan  nan ...  nan  nan  nan]\n",
      " [ nan  nan  -0. ...  nan  nan -inf]\n",
      " [ nan  nan  nan ...  nan  nan -inf]\n",
      " ...\n",
      " [ nan  nan  nan ...  nan  nan  nan]\n",
      " [ nan  nan   0. ...  nan  nan  nan]\n",
      " [ nan  nan  -0. ...  nan  nan  nan]]\n",
      "Epoch 0, Loss [[           nan            nan            nan ...            nan\n",
      "             nan            nan]\n",
      " [           nan            nan 0.00000000e+00 ...            nan\n",
      "             nan            inf]\n",
      " [           nan            nan            nan ...            nan\n",
      "             nan            inf]\n",
      " ...\n",
      " [           nan            nan            nan ...            nan\n",
      "             nan            nan]\n",
      " [           nan            nan            inf ...            nan\n",
      "             nan            nan]\n",
      " [           nan            nan 4.12672341e-14 ...            nan\n",
      "             nan            nan]]\n",
      "[[0.         0.         0.         ... 0.         0.         0.        ]\n",
      " [0.         0.         0.         ... 0.         0.         0.        ]\n",
      " [0.         0.         0.         ... 0.         0.         0.99999637]\n",
      " ...\n",
      " [0.         0.         0.         ... 0.         0.         0.        ]\n",
      " [0.         0.         0.         ... 0.         0.         0.        ]\n",
      " [0.         0.         0.         ... 0.         0.         0.        ]]\n",
      "[[            nan             nan             nan ...             nan\n",
      "              nan             nan]\n",
      " [            nan             nan             nan ...             nan\n",
      "              nan            -inf]\n",
      " [            nan             nan             nan ...             nan\n",
      "              nan -3.63465815e-06]\n",
      " ...\n",
      " [            nan             nan             nan ...             nan\n",
      "              nan             nan]\n",
      " [            nan             nan             nan ...             nan\n",
      "              nan             nan]\n",
      " [            nan             nan             nan ...             nan\n",
      "              nan             nan]]\n"
     ]
    },
    {
     "name": "stderr",
     "output_type": "stream",
     "text": [
      "\r",
      " 20%|██        | 2/10 [00:00<00:03,  2.41it/s]"
     ]
    },
    {
     "name": "stdout",
     "output_type": "stream",
     "text": [
      "[[0.00000000e+000 0.00000000e+000 0.00000000e+000 ... 1.00000000e+000\n",
      "  0.00000000e+000 1.25562019e-100]\n",
      " [0.00000000e+000 0.00000000e+000 0.00000000e+000 ... 4.56499393e-187\n",
      "  1.00000000e+000 2.12106894e-221]\n",
      " [1.00000000e+000 0.00000000e+000 0.00000000e+000 ... 0.00000000e+000\n",
      "  1.00000000e+000 1.00000000e+000]\n",
      " ...\n",
      " [0.00000000e+000 0.00000000e+000 0.00000000e+000 ... 0.00000000e+000\n",
      "  6.77596603e-236 1.00000000e+000]\n",
      " [0.00000000e+000 0.00000000e+000 2.92676488e-099 ... 1.00000000e+000\n",
      "  0.00000000e+000 9.03427328e-194]\n",
      " [6.65599522e-201 0.00000000e+000 3.15712446e-288 ... 1.00000000e+000\n",
      "  0.00000000e+000 7.50324005e-296]]\n",
      "[[          nan           nan           nan ...    0.\n",
      "            nan   -0.        ]\n",
      " [          nan           nan           nan ...   -0.\n",
      "     0.         -508.11938538]\n",
      " [   0.                   nan           nan ...           nan\n",
      "     0.            0.        ]\n",
      " ...\n",
      " [          nan           nan           nan ...           nan\n",
      "    -0.            0.        ]\n",
      " [          nan           nan   -0.         ...    0.\n",
      "            nan   -0.        ]\n",
      " [  -0.                   nan   -0.         ...    0.\n",
      "            nan   -0.        ]]\n"
     ]
    },
    {
     "name": "stderr",
     "output_type": "stream",
     "text": [
      "\r",
      " 30%|███       | 3/10 [00:01<00:02,  2.46it/s]"
     ]
    },
    {
     "name": "stdout",
     "output_type": "stream",
     "text": [
      "[[0.0000000e+000 0.0000000e+000 0.0000000e+000 ... 0.0000000e+000\n",
      "  0.0000000e+000 0.0000000e+000]\n",
      " [0.0000000e+000 5.7771959e-248 1.0000000e+000 ... 0.0000000e+000\n",
      "  0.0000000e+000 0.0000000e+000]\n",
      " [0.0000000e+000 0.0000000e+000 6.0203360e-215 ... 0.0000000e+000\n",
      "  0.0000000e+000 0.0000000e+000]\n",
      " ...\n",
      " [0.0000000e+000 0.0000000e+000 0.0000000e+000 ... 0.0000000e+000\n",
      "  0.0000000e+000 0.0000000e+000]\n",
      " [0.0000000e+000 0.0000000e+000 1.0000000e+000 ... 0.0000000e+000\n",
      "  0.0000000e+000 0.0000000e+000]\n",
      " [0.0000000e+000 0.0000000e+000 1.0000000e+000 ... 0.0000000e+000\n",
      "  0.0000000e+000 0.0000000e+000]]\n",
      "[[ nan  nan  nan ...  nan  nan  nan]\n",
      " [ nan  -0.   0. ...  nan  nan -inf]\n",
      " [ nan  nan  -0. ...  nan  nan -inf]\n",
      " ...\n",
      " [ nan  nan  nan ...  nan  nan  nan]\n",
      " [ nan  nan   0. ...  nan  nan  nan]\n",
      " [ nan  nan   0. ...  nan  nan  nan]]\n"
     ]
    },
    {
     "name": "stderr",
     "output_type": "stream",
     "text": [
      "\r",
      " 40%|████      | 4/10 [00:01<00:02,  2.26it/s]"
     ]
    },
    {
     "name": "stdout",
     "output_type": "stream",
     "text": [
      "[[0.00000000e+000 1.00000000e+000 0.00000000e+000 ... 0.00000000e+000\n",
      "  0.00000000e+000 0.00000000e+000]\n",
      " [0.00000000e+000 1.00000000e+000 0.00000000e+000 ... 0.00000000e+000\n",
      "  0.00000000e+000 0.00000000e+000]\n",
      " [0.00000000e+000 3.71175801e-247 0.00000000e+000 ... 0.00000000e+000\n",
      "  0.00000000e+000 0.00000000e+000]\n",
      " ...\n",
      " [0.00000000e+000 1.00000000e+000 0.00000000e+000 ... 0.00000000e+000\n",
      "  0.00000000e+000 0.00000000e+000]\n",
      " [0.00000000e+000 0.00000000e+000 0.00000000e+000 ... 0.00000000e+000\n",
      "  0.00000000e+000 0.00000000e+000]\n",
      " [0.00000000e+000 3.11932821e-142 0.00000000e+000 ... 0.00000000e+000\n",
      "  0.00000000e+000 0.00000000e+000]]\n",
      "[[ nan   0.  nan ...  nan  nan  nan]\n",
      " [ nan   0.  nan ...  nan  nan -inf]\n",
      " [ nan  -0.  nan ...  nan  nan -inf]\n",
      " ...\n",
      " [ nan   0.  nan ...  nan  nan  nan]\n",
      " [ nan  nan  nan ...  nan  nan  nan]\n",
      " [ nan  -0.  nan ...  nan  nan  nan]]\n"
     ]
    },
    {
     "name": "stderr",
     "output_type": "stream",
     "text": [
      " 60%|██████    | 6/10 [00:02<00:01,  3.07it/s]"
     ]
    },
    {
     "name": "stdout",
     "output_type": "stream",
     "text": [
      "[[0.00000000e+00 0.00000000e+00 0.00000000e+00 ... 0.00000000e+00\n",
      "  0.00000000e+00 0.00000000e+00]\n",
      " [0.00000000e+00 0.00000000e+00 0.00000000e+00 ... 0.00000000e+00\n",
      "  1.00000000e+00 0.00000000e+00]\n",
      " [0.00000000e+00 0.00000000e+00 0.00000000e+00 ... 0.00000000e+00\n",
      "  1.00000000e+00 0.00000000e+00]\n",
      " ...\n",
      " [0.00000000e+00 0.00000000e+00 0.00000000e+00 ... 0.00000000e+00\n",
      "  2.50539999e-42 0.00000000e+00]\n",
      " [0.00000000e+00 0.00000000e+00 0.00000000e+00 ... 0.00000000e+00\n",
      "  0.00000000e+00 0.00000000e+00]\n",
      " [0.00000000e+00 0.00000000e+00 0.00000000e+00 ... 0.00000000e+00\n",
      "  0.00000000e+00 0.00000000e+00]]\n",
      "[[ nan  nan  nan ...  nan  nan  nan]\n",
      " [ nan  nan  nan ...  nan   0. -inf]\n",
      " [ nan  nan  nan ...  nan   0. -inf]\n",
      " ...\n",
      " [ nan  nan  nan ...  nan  -0.  nan]\n",
      " [ nan  nan  nan ...  nan  nan  nan]\n",
      " [ nan  nan  nan ...  nan  nan  nan]]\n",
      "[[0. 0. 0. ... 0. 0. 0.]\n",
      " [0. 0. 0. ... 0. 0. 0.]\n",
      " [0. 0. 0. ... 0. 0. 1.]\n",
      " ...\n",
      " [0. 0. 0. ... 0. 0. 0.]\n",
      " [0. 0. 0. ... 0. 0. 0.]\n",
      " [0. 0. 0. ... 0. 0. 0.]]\n",
      "[[ nan  nan  nan ...  nan  nan  nan]\n",
      " [ nan  nan  nan ...  nan  nan -inf]\n",
      " [ nan  nan  nan ...  nan  nan   0.]\n",
      " ...\n",
      " [ nan  nan  nan ...  nan  nan  nan]\n",
      " [ nan  nan  nan ...  nan  nan  nan]\n",
      " [ nan  nan  nan ...  nan  nan  nan]]\n"
     ]
    },
    {
     "name": "stderr",
     "output_type": "stream",
     "text": [
      " 80%|████████  | 8/10 [00:02<00:00,  3.29it/s]"
     ]
    },
    {
     "name": "stdout",
     "output_type": "stream",
     "text": [
      "[[0.00000000e+000 0.00000000e+000 0.00000000e+000 ... 7.98090854e-274\n",
      "  0.00000000e+000 6.32331555e-249]\n",
      " [0.00000000e+000 0.00000000e+000 0.00000000e+000 ... 0.00000000e+000\n",
      "  0.00000000e+000 0.00000000e+000]\n",
      " [1.00000000e+000 0.00000000e+000 0.00000000e+000 ... 0.00000000e+000\n",
      "  0.00000000e+000 1.00000000e+000]\n",
      " ...\n",
      " [0.00000000e+000 0.00000000e+000 0.00000000e+000 ... 0.00000000e+000\n",
      "  0.00000000e+000 1.00000000e+000]\n",
      " [0.00000000e+000 0.00000000e+000 0.00000000e+000 ... 0.00000000e+000\n",
      "  0.00000000e+000 0.00000000e+000]\n",
      " [0.00000000e+000 0.00000000e+000 0.00000000e+000 ... 8.07998745e-178\n",
      "  0.00000000e+000 0.00000000e+000]]\n",
      "[[ nan  nan  nan ...  -0.  nan  -0.]\n",
      " [ nan  nan  nan ...  nan  nan -inf]\n",
      " [  0.  nan  nan ...  nan  nan   0.]\n",
      " ...\n",
      " [ nan  nan  nan ...  nan  nan   0.]\n",
      " [ nan  nan  nan ...  nan  nan  nan]\n",
      " [ nan  nan  nan ...  -0.  nan  nan]]\n"
     ]
    },
    {
     "name": "stderr",
     "output_type": "stream",
     "text": [
      "\r",
      " 90%|█████████ | 9/10 [00:02<00:00,  3.65it/s]"
     ]
    },
    {
     "name": "stdout",
     "output_type": "stream",
     "text": [
      "[[0.00000000e+000 2.37602011e-266 0.00000000e+000 ... 0.00000000e+000\n",
      "  0.00000000e+000 0.00000000e+000]\n",
      " [0.00000000e+000 1.00000000e+000 0.00000000e+000 ... 0.00000000e+000\n",
      "  0.00000000e+000 0.00000000e+000]\n",
      " [0.00000000e+000 0.00000000e+000 0.00000000e+000 ... 0.00000000e+000\n",
      "  0.00000000e+000 0.00000000e+000]\n",
      " ...\n",
      " [0.00000000e+000 0.00000000e+000 0.00000000e+000 ... 0.00000000e+000\n",
      "  0.00000000e+000 0.00000000e+000]\n",
      " [0.00000000e+000 0.00000000e+000 0.00000000e+000 ... 0.00000000e+000\n",
      "  0.00000000e+000 0.00000000e+000]\n",
      " [0.00000000e+000 0.00000000e+000 0.00000000e+000 ... 0.00000000e+000\n",
      "  0.00000000e+000 0.00000000e+000]]\n",
      "[[ nan  -0.  nan ...  nan  nan  nan]\n",
      " [ nan   0.  nan ...  nan  nan -inf]\n",
      " [ nan  nan  nan ...  nan  nan -inf]\n",
      " ...\n",
      " [ nan  nan  nan ...  nan  nan  nan]\n",
      " [ nan  nan  nan ...  nan  nan  nan]\n",
      " [ nan  nan  nan ...  nan  nan  nan]]\n",
      "[[0.00000000e+000 1.00000000e+000 0.00000000e+000 ... 1.00000000e+000\n",
      "  0.00000000e+000 0.00000000e+000]\n",
      " [0.00000000e+000 1.00000000e+000 3.68095280e-157 ... 2.03489942e-271\n",
      "  1.00000000e+000 0.00000000e+000]\n",
      " [0.00000000e+000 0.00000000e+000 0.00000000e+000 ... 0.00000000e+000\n",
      "  1.00000000e+000 0.00000000e+000]\n",
      " ...\n",
      " [0.00000000e+000 2.31185446e-179 0.00000000e+000 ... 0.00000000e+000\n",
      "  9.99199592e-037 0.00000000e+000]\n",
      " [0.00000000e+000 0.00000000e+000 1.00000000e+000 ... 1.00000000e+000\n",
      "  0.00000000e+000 0.00000000e+000]\n",
      " [0.00000000e+000 1.61939657e-271 1.00000000e+000 ... 1.00000000e+000\n",
      "  0.00000000e+000 0.00000000e+000]]\n"
     ]
    },
    {
     "name": "stderr",
     "output_type": "stream",
     "text": [
      "100%|██████████| 10/10 [00:03<00:00,  3.03it/s]"
     ]
    },
    {
     "name": "stdout",
     "output_type": "stream",
     "text": [
      "[[ nan   0.  nan ...   0.  nan  nan]\n",
      " [ nan   0.  -0. ...  -0.   0. -inf]\n",
      " [ nan  nan  nan ...  nan   0. -inf]\n",
      " ...\n",
      " [ nan  -0.  nan ...  nan  -0.  nan]\n",
      " [ nan  nan   0. ...   0.  nan  nan]\n",
      " [ nan  -0.   0. ...   0.  nan  nan]]\n"
     ]
    },
    {
     "name": "stderr",
     "output_type": "stream",
     "text": [
      "\n",
      "  0%|          | 0/10 [00:00<?, ?it/s]"
     ]
    },
    {
     "name": "stdout",
     "output_type": "stream",
     "text": [
      "[[0. 0. 0. ... 0. 0. 0.]\n",
      " [0. 0. 0. ... 0. 0. 0.]\n",
      " [1. 0. 0. ... 0. 0. 0.]\n",
      " ...\n",
      " [0. 0. 0. ... 0. 0. 0.]\n",
      " [0. 0. 0. ... 0. 0. 0.]\n",
      " [0. 0. 0. ... 0. 0. 0.]]\n",
      "[[ nan  nan  nan ...  nan  nan  nan]\n",
      " [ nan  nan  nan ...  nan  nan -inf]\n",
      " [  0.  nan  nan ...  nan  nan -inf]\n",
      " ...\n",
      " [ nan  nan  nan ...  nan  nan  nan]\n",
      " [ nan  nan  nan ...  nan  nan  nan]\n",
      " [ nan  nan  nan ...  nan  nan  nan]]\n"
     ]
    },
    {
     "name": "stderr",
     "output_type": "stream",
     "text": [
      "\r",
      " 10%|█         | 1/10 [00:00<00:02,  3.24it/s]"
     ]
    },
    {
     "name": "stdout",
     "output_type": "stream",
     "text": [
      "Epoch 0, Loss [[nan nan nan ... nan nan nan]\n",
      " [nan nan nan ... nan nan inf]\n",
      " [inf nan nan ... nan nan inf]\n",
      " ...\n",
      " [nan nan nan ... nan nan nan]\n",
      " [nan nan nan ... nan nan nan]\n",
      " [nan nan nan ... nan nan nan]]\n",
      "[[0. 0. 0. ... 0. 0. 0.]\n",
      " [0. 0. 0. ... 0. 0. 0.]\n",
      " [0. 0. 0. ... 0. 0. 1.]\n",
      " ...\n",
      " [0. 0. 0. ... 0. 0. 1.]\n",
      " [0. 0. 0. ... 0. 0. 0.]\n",
      " [0. 0. 0. ... 0. 0. 0.]]\n",
      "[[ nan  nan  nan ...  nan  nan  nan]\n",
      " [ nan  nan  nan ...  nan  nan -inf]\n",
      " [ nan  nan  nan ...  nan  nan   0.]\n",
      " ...\n",
      " [ nan  nan  nan ...  nan  nan   0.]\n",
      " [ nan  nan  nan ...  nan  nan  nan]\n",
      " [ nan  nan  nan ...  nan  nan  nan]]\n"
     ]
    },
    {
     "name": "stderr",
     "output_type": "stream",
     "text": [
      " 30%|███       | 3/10 [00:01<00:02,  2.73it/s]"
     ]
    },
    {
     "name": "stdout",
     "output_type": "stream",
     "text": [
      "[[0.00000000e+000 1.00000000e+000 0.00000000e+000 ... 0.00000000e+000\n",
      "  0.00000000e+000 0.00000000e+000]\n",
      " [0.00000000e+000 1.00000000e+000 0.00000000e+000 ... 0.00000000e+000\n",
      "  0.00000000e+000 0.00000000e+000]\n",
      " [0.00000000e+000 1.64715846e-263 0.00000000e+000 ... 0.00000000e+000\n",
      "  0.00000000e+000 0.00000000e+000]\n",
      " ...\n",
      " [0.00000000e+000 9.99999999e-001 0.00000000e+000 ... 0.00000000e+000\n",
      "  0.00000000e+000 0.00000000e+000]\n",
      " [0.00000000e+000 0.00000000e+000 1.00000000e+000 ... 0.00000000e+000\n",
      "  0.00000000e+000 0.00000000e+000]\n",
      " [0.00000000e+000 6.09202101e-140 2.73748451e-106 ... 0.00000000e+000\n",
      "  0.00000000e+000 0.00000000e+000]]\n",
      "[[ nan   0.  nan ...  nan  nan  nan]\n",
      " [ nan   0.  nan ...  nan  nan -inf]\n",
      " [ nan  -0.  nan ...  nan  nan -inf]\n",
      " ...\n",
      " [ nan  -0.  nan ...  nan  nan  nan]\n",
      " [ nan  nan   0. ...  nan  nan  nan]\n",
      " [ nan  -0.  -0. ...  nan  nan  nan]]\n"
     ]
    },
    {
     "name": "stderr",
     "output_type": "stream",
     "text": [
      "\r",
      " 40%|████      | 4/10 [00:01<00:02,  2.98it/s]"
     ]
    },
    {
     "name": "stdout",
     "output_type": "stream",
     "text": [
      "[[0.00000000e+000 0.00000000e+000 0.00000000e+000 ... 3.98665916e-304\n",
      "  0.00000000e+000 0.00000000e+000]\n",
      " [0.00000000e+000 0.00000000e+000 0.00000000e+000 ... 0.00000000e+000\n",
      "  1.00000000e+000 0.00000000e+000]\n",
      " [0.00000000e+000 0.00000000e+000 0.00000000e+000 ... 0.00000000e+000\n",
      "  1.00000000e+000 8.83566307e-154]\n",
      " ...\n",
      " [0.00000000e+000 0.00000000e+000 0.00000000e+000 ... 0.00000000e+000\n",
      "  4.41312855e-032 0.00000000e+000]\n",
      " [0.00000000e+000 0.00000000e+000 0.00000000e+000 ... 0.00000000e+000\n",
      "  0.00000000e+000 0.00000000e+000]\n",
      " [0.00000000e+000 0.00000000e+000 0.00000000e+000 ... 1.78630757e-211\n",
      "  0.00000000e+000 0.00000000e+000]]\n",
      "[[          nan           nan           nan ...   -0.\n",
      "            nan           nan]\n",
      " [          nan           nan           nan ...           nan\n",
      "     0.                  -inf]\n",
      " [          nan           nan           nan ...           nan\n",
      "     0.         -352.41930817]\n",
      " ...\n",
      " [          nan           nan           nan ...           nan\n",
      "    -0.                   nan]\n",
      " [          nan           nan           nan ...           nan\n",
      "            nan           nan]\n",
      " [          nan           nan           nan ...   -0.\n",
      "            nan           nan]]\n"
     ]
    },
    {
     "name": "stderr",
     "output_type": "stream",
     "text": [
      "\r",
      " 50%|█████     | 5/10 [00:01<00:01,  3.06it/s]"
     ]
    },
    {
     "name": "stdout",
     "output_type": "stream",
     "text": [
      "[[0.00000000e+000 0.00000000e+000 2.14338982e-254 ... 0.00000000e+000\n",
      "  0.00000000e+000 0.00000000e+000]\n",
      " [0.00000000e+000 0.00000000e+000 1.00000000e+000 ... 0.00000000e+000\n",
      "  0.00000000e+000 0.00000000e+000]\n",
      " [1.00000000e+000 0.00000000e+000 3.84525274e-012 ... 0.00000000e+000\n",
      "  0.00000000e+000 1.00000000e+000]\n",
      " ...\n",
      " [0.00000000e+000 0.00000000e+000 6.51206422e-215 ... 0.00000000e+000\n",
      "  0.00000000e+000 1.00000000e+000]\n",
      " [0.00000000e+000 0.00000000e+000 1.00000000e+000 ... 0.00000000e+000\n",
      "  0.00000000e+000 0.00000000e+000]\n",
      " [0.00000000e+000 0.00000000e+000 1.00000000e+000 ... 1.48170534e-263\n",
      "  0.00000000e+000 0.00000000e+000]]\n",
      "[[ nan  nan  -0. ...  nan  nan  nan]\n",
      " [ nan  nan   0. ...  nan  nan -inf]\n",
      " [  0.  nan  -0. ...  nan  nan   0.]\n",
      " ...\n",
      " [ nan  nan  -0. ...  nan  nan   0.]\n",
      " [ nan  nan   0. ...  nan  nan  nan]\n",
      " [ nan  nan   0. ...  -0.  nan  nan]]\n"
     ]
    },
    {
     "name": "stderr",
     "output_type": "stream",
     "text": [
      "\r",
      " 60%|██████    | 6/10 [00:01<00:01,  3.54it/s]"
     ]
    },
    {
     "name": "stdout",
     "output_type": "stream",
     "text": [
      "[[0.00000000e+000 0.00000000e+000 0.00000000e+000 ... 1.97522287e-175\n",
      "  0.00000000e+000 0.00000000e+000]\n",
      " [0.00000000e+000 0.00000000e+000 0.00000000e+000 ... 0.00000000e+000\n",
      "  0.00000000e+000 0.00000000e+000]\n",
      " [0.00000000e+000 0.00000000e+000 0.00000000e+000 ... 0.00000000e+000\n",
      "  0.00000000e+000 0.00000000e+000]\n",
      " ...\n",
      " [0.00000000e+000 0.00000000e+000 0.00000000e+000 ... 0.00000000e+000\n",
      "  0.00000000e+000 0.00000000e+000]\n",
      " [0.00000000e+000 0.00000000e+000 0.00000000e+000 ... 6.26172270e-154\n",
      "  0.00000000e+000 0.00000000e+000]\n",
      " [0.00000000e+000 0.00000000e+000 0.00000000e+000 ... 2.99169137e-124\n",
      "  0.00000000e+000 0.00000000e+000]]\n",
      "[[ nan  nan  nan ...  -0.  nan  nan]\n",
      " [ nan  nan  nan ...  nan  nan -inf]\n",
      " [ nan  nan  nan ...  nan  nan -inf]\n",
      " ...\n",
      " [ nan  nan  nan ...  nan  nan  nan]\n",
      " [ nan  nan  nan ...  -0.  nan  nan]\n",
      " [ nan  nan  nan ...  -0.  nan  nan]]\n"
     ]
    },
    {
     "name": "stderr",
     "output_type": "stream",
     "text": [
      "\r",
      " 70%|███████   | 7/10 [00:02<00:00,  3.45it/s]"
     ]
    },
    {
     "name": "stdout",
     "output_type": "stream",
     "text": [
      "[[0.00000000e+000 1.57798172e-222 0.00000000e+000 ... 0.00000000e+000\n",
      "  0.00000000e+000 0.00000000e+000]\n",
      " [0.00000000e+000 1.00000000e+000 0.00000000e+000 ... 0.00000000e+000\n",
      "  0.00000000e+000 0.00000000e+000]\n",
      " [0.00000000e+000 0.00000000e+000 0.00000000e+000 ... 0.00000000e+000\n",
      "  0.00000000e+000 0.00000000e+000]\n",
      " ...\n",
      " [0.00000000e+000 0.00000000e+000 0.00000000e+000 ... 0.00000000e+000\n",
      "  0.00000000e+000 0.00000000e+000]\n",
      " [0.00000000e+000 0.00000000e+000 0.00000000e+000 ... 0.00000000e+000\n",
      "  0.00000000e+000 0.00000000e+000]\n",
      " [0.00000000e+000 0.00000000e+000 0.00000000e+000 ... 0.00000000e+000\n",
      "  0.00000000e+000 0.00000000e+000]]\n",
      "[[ nan  -0.  nan ...  nan  nan  nan]\n",
      " [ nan   0.  nan ...  nan  nan -inf]\n",
      " [ nan  nan  nan ...  nan  nan -inf]\n",
      " ...\n",
      " [ nan  nan  nan ...  nan  nan  nan]\n",
      " [ nan  nan  nan ...  nan  nan  nan]\n",
      " [ nan  nan  nan ...  nan  nan  nan]]\n",
      "[[0.00000000e+000 1.00000000e+000 0.00000000e+000 ... 1.00000000e+000\n",
      "  0.00000000e+000 0.00000000e+000]\n",
      " [0.00000000e+000 1.00000000e+000 0.00000000e+000 ... 1.67002468e-291\n",
      "  1.00000000e+000 0.00000000e+000]\n",
      " [1.00000000e+000 0.00000000e+000 0.00000000e+000 ... 0.00000000e+000\n",
      "  1.00000000e+000 1.00000000e+000]\n",
      " ...\n",
      " [0.00000000e+000 1.83173856e-224 0.00000000e+000 ... 0.00000000e+000\n",
      "  1.28617035e-042 0.00000000e+000]\n",
      " [0.00000000e+000 0.00000000e+000 0.00000000e+000 ... 1.00000000e+000\n",
      "  0.00000000e+000 0.00000000e+000]\n",
      " [0.00000000e+000 7.88581725e-297 0.00000000e+000 ... 1.00000000e+000\n",
      "  0.00000000e+000 0.00000000e+000]]\n",
      "[[ nan   0.  nan ...   0.  nan  nan]\n",
      " [ nan   0.  nan ...  -0.   0. -inf]\n",
      " [  0.  nan  nan ...  nan   0.   0.]\n",
      " ...\n",
      " [ nan  -0.  nan ...  nan  -0.  nan]\n",
      " [ nan  nan  nan ...   0.  nan  nan]\n",
      " [ nan  -0.  nan ...   0.  nan  nan]]\n"
     ]
    },
    {
     "name": "stderr",
     "output_type": "stream",
     "text": [
      "\r",
      " 80%|████████  | 8/10 [00:02<00:00,  3.11it/s]"
     ]
    },
    {
     "name": "stdout",
     "output_type": "stream",
     "text": [
      "[[0. 0. 0. ... 0. 0. 0.]\n",
      " [0. 0. 0. ... 0. 0. 0.]\n",
      " [0. 0. 0. ... 0. 0. 1.]\n",
      " ...\n",
      " [0. 0. 0. ... 0. 0. 1.]\n",
      " [0. 0. 0. ... 0. 0. 0.]\n",
      " [0. 0. 0. ... 0. 0. 0.]]\n",
      "[[ nan  nan  nan ...  nan  nan  nan]\n",
      " [ nan  nan  nan ...  nan  nan -inf]\n",
      " [ nan  nan  nan ...  nan  nan   0.]\n",
      " ...\n",
      " [ nan  nan  nan ...  nan  nan   0.]\n",
      " [ nan  nan  nan ...  nan  nan  nan]\n",
      " [ nan  nan  nan ...  nan  nan  nan]]\n"
     ]
    },
    {
     "name": "stderr",
     "output_type": "stream",
     "text": [
      "100%|██████████| 10/10 [00:03<00:00,  3.12it/s]"
     ]
    },
    {
     "name": "stdout",
     "output_type": "stream",
     "text": [
      "[[0.00000000e+000 2.87336222e-240 0.00000000e+000 ... 0.00000000e+000\n",
      "  0.00000000e+000 0.00000000e+000]\n",
      " [0.00000000e+000 1.00000000e+000 0.00000000e+000 ... 0.00000000e+000\n",
      "  0.00000000e+000 0.00000000e+000]\n",
      " [0.00000000e+000 0.00000000e+000 0.00000000e+000 ... 0.00000000e+000\n",
      "  0.00000000e+000 0.00000000e+000]\n",
      " ...\n",
      " [0.00000000e+000 0.00000000e+000 0.00000000e+000 ... 0.00000000e+000\n",
      "  0.00000000e+000 0.00000000e+000]\n",
      " [0.00000000e+000 0.00000000e+000 0.00000000e+000 ... 0.00000000e+000\n",
      "  0.00000000e+000 0.00000000e+000]\n",
      " [0.00000000e+000 0.00000000e+000 0.00000000e+000 ... 0.00000000e+000\n",
      "  0.00000000e+000 0.00000000e+000]]\n",
      "[[ nan  -0.  nan ...  nan  nan  nan]\n",
      " [ nan   0.  nan ...  nan  nan -inf]\n",
      " [ nan  nan  nan ...  nan  nan -inf]\n",
      " ...\n",
      " [ nan  nan  nan ...  nan  nan  nan]\n",
      " [ nan  nan  nan ...  nan  nan  nan]\n",
      " [ nan  nan  nan ...  nan  nan  nan]]\n"
     ]
    },
    {
     "name": "stderr",
     "output_type": "stream",
     "text": [
      "\n",
      "  0%|          | 0/10 [00:00<?, ?it/s]"
     ]
    },
    {
     "name": "stdout",
     "output_type": "stream",
     "text": [
      "[[0.00000000e+000 1.00000000e+000 0.00000000e+000 ... 0.00000000e+000\n",
      "  0.00000000e+000 0.00000000e+000]\n",
      " [0.00000000e+000 1.00000000e+000 0.00000000e+000 ... 0.00000000e+000\n",
      "  0.00000000e+000 0.00000000e+000]\n",
      " [1.06902307e-303 0.00000000e+000 0.00000000e+000 ... 0.00000000e+000\n",
      "  0.00000000e+000 0.00000000e+000]\n",
      " ...\n",
      " [0.00000000e+000 4.16367929e-194 0.00000000e+000 ... 0.00000000e+000\n",
      "  0.00000000e+000 0.00000000e+000]\n",
      " [0.00000000e+000 0.00000000e+000 0.00000000e+000 ... 0.00000000e+000\n",
      "  0.00000000e+000 0.00000000e+000]\n",
      " [0.00000000e+000 1.69236048e-261 0.00000000e+000 ... 0.00000000e+000\n",
      "  0.00000000e+000 0.00000000e+000]]\n",
      "[[ nan   0.  nan ...  nan  nan  nan]\n",
      " [ nan   0.  nan ...  nan  nan -inf]\n",
      " [ -0.  nan  nan ...  nan  nan -inf]\n",
      " ...\n",
      " [ nan  -0.  nan ...  nan  nan  nan]\n",
      " [ nan  nan  nan ...  nan  nan  nan]\n",
      " [ nan  -0.  nan ...  nan  nan  nan]]\n",
      "Epoch 0, Loss [[nan inf nan ... nan nan nan]\n",
      " [nan inf nan ... nan nan inf]\n",
      " [ 0. nan nan ... nan nan inf]\n",
      " ...\n",
      " [nan  0. nan ... nan nan nan]\n",
      " [nan nan nan ... nan nan nan]\n",
      " [nan  0. nan ... nan nan nan]]\n"
     ]
    },
    {
     "name": "stderr",
     "output_type": "stream",
     "text": [
      " 20%|██        | 2/10 [00:00<00:03,  2.50it/s]"
     ]
    },
    {
     "name": "stdout",
     "output_type": "stream",
     "text": [
      "[[0.00000000e+000 0.00000000e+000 0.00000000e+000 ... 1.00000000e+000\n",
      "  0.00000000e+000 0.00000000e+000]\n",
      " [0.00000000e+000 0.00000000e+000 0.00000000e+000 ... 1.78430312e-135\n",
      "  1.00000000e+000 0.00000000e+000]\n",
      " [0.00000000e+000 0.00000000e+000 0.00000000e+000 ... 0.00000000e+000\n",
      "  1.00000000e+000 1.00000000e+000]\n",
      " ...\n",
      " [0.00000000e+000 0.00000000e+000 0.00000000e+000 ... 0.00000000e+000\n",
      "  9.03545896e-085 4.37317881e-039]\n",
      " [0.00000000e+000 0.00000000e+000 0.00000000e+000 ... 1.00000000e+000\n",
      "  0.00000000e+000 0.00000000e+000]\n",
      " [0.00000000e+000 0.00000000e+000 0.00000000e+000 ... 1.00000000e+000\n",
      "  0.00000000e+000 0.00000000e+000]]\n",
      "[[ nan  nan  nan ...   0.  nan  nan]\n",
      " [ nan  nan  nan ...  -0.   0. -inf]\n",
      " [ nan  nan  nan ...  nan   0.   0.]\n",
      " ...\n",
      " [ nan  nan  nan ...  nan  -0.  -0.]\n",
      " [ nan  nan  nan ...   0.  nan  nan]\n",
      " [ nan  nan  nan ...   0.  nan  nan]]\n",
      "[[0.00000000e+000 0.00000000e+000 2.48705314e-247 ... 0.00000000e+000\n",
      "  0.00000000e+000 0.00000000e+000]\n",
      " [0.00000000e+000 4.55121478e-251 1.00000000e+000 ... 0.00000000e+000\n",
      "  0.00000000e+000 0.00000000e+000]\n",
      " [1.00000000e+000 0.00000000e+000 8.39700009e-247 ... 0.00000000e+000\n",
      "  0.00000000e+000 1.00000000e+000]\n",
      " ...\n",
      " [0.00000000e+000 0.00000000e+000 0.00000000e+000 ... 0.00000000e+000\n",
      "  0.00000000e+000 9.99999988e-001]\n",
      " [0.00000000e+000 0.00000000e+000 1.00000000e+000 ... 0.00000000e+000\n",
      "  0.00000000e+000 0.00000000e+000]\n",
      " [4.18127503e-251 0.00000000e+000 1.00000000e+000 ... 0.00000000e+000\n",
      "  0.00000000e+000 0.00000000e+000]]\n"
     ]
    },
    {
     "name": "stderr",
     "output_type": "stream",
     "text": [
      "\r",
      " 30%|███       | 3/10 [00:01<00:02,  2.92it/s]"
     ]
    },
    {
     "name": "stdout",
     "output_type": "stream",
     "text": [
      "[[ nan  nan  -0. ...  nan  nan  nan]\n",
      " [ nan  -0.   0. ...  nan  nan -inf]\n",
      " [  0.  nan  -0. ...  nan  nan   0.]\n",
      " ...\n",
      " [ nan  nan  nan ...  nan  nan  -0.]\n",
      " [ nan  nan   0. ...  nan  nan  nan]\n",
      " [ -0.  nan   0. ...  nan  nan  nan]]\n",
      "[[0.00000000e+000 1.00000000e+000 0.00000000e+000 ... 0.00000000e+000\n",
      "  0.00000000e+000 0.00000000e+000]\n",
      " [0.00000000e+000 1.00000000e+000 0.00000000e+000 ... 0.00000000e+000\n",
      "  0.00000000e+000 0.00000000e+000]\n",
      " [0.00000000e+000 1.06273820e-238 0.00000000e+000 ... 0.00000000e+000\n",
      "  0.00000000e+000 1.00000000e+000]\n",
      " ...\n",
      " [0.00000000e+000 1.00000000e+000 0.00000000e+000 ... 0.00000000e+000\n",
      "  0.00000000e+000 2.19653801e-131]\n",
      " [0.00000000e+000 0.00000000e+000 0.00000000e+000 ... 0.00000000e+000\n",
      "  0.00000000e+000 0.00000000e+000]\n",
      " [0.00000000e+000 3.02690497e-111 0.00000000e+000 ... 0.00000000e+000\n",
      "  0.00000000e+000 0.00000000e+000]]\n"
     ]
    },
    {
     "name": "stderr",
     "output_type": "stream",
     "text": [
      "\r",
      " 40%|████      | 4/10 [00:01<00:01,  3.26it/s]"
     ]
    },
    {
     "name": "stdout",
     "output_type": "stream",
     "text": [
      "[[ nan   0.  nan ...  nan  nan  nan]\n",
      " [ nan   0.  nan ...  nan  nan -inf]\n",
      " [ nan  -0.  nan ...  nan  nan   0.]\n",
      " ...\n",
      " [ nan   0.  nan ...  nan  nan  -0.]\n",
      " [ nan  nan  nan ...  nan  nan  nan]\n",
      " [ nan  -0.  nan ...  nan  nan  nan]]\n",
      "[[0. 0. 0. ... 0. 0. 0.]\n",
      " [0. 0. 0. ... 0. 0. 0.]\n",
      " [0. 0. 0. ... 0. 0. 1.]\n",
      " ...\n",
      " [0. 0. 0. ... 0. 0. 1.]\n",
      " [0. 0. 0. ... 0. 0. 0.]\n",
      " [0. 0. 0. ... 0. 0. 0.]]\n",
      "[[ nan  nan  nan ...  nan  nan  nan]\n",
      " [ nan  nan  nan ...  nan  nan -inf]\n",
      " [ nan  nan  nan ...  nan  nan   0.]\n",
      " ...\n",
      " [ nan  nan  nan ...  nan  nan   0.]\n",
      " [ nan  nan  nan ...  nan  nan  nan]\n",
      " [ nan  nan  nan ...  nan  nan  nan]]\n"
     ]
    },
    {
     "name": "stderr",
     "output_type": "stream",
     "text": [
      " 60%|██████    | 6/10 [00:01<00:01,  3.07it/s]"
     ]
    },
    {
     "name": "stdout",
     "output_type": "stream",
     "text": [
      "[[0.00000000e+000 0.00000000e+000 0.00000000e+000 ... 0.00000000e+000\n",
      "  0.00000000e+000 0.00000000e+000]\n",
      " [0.00000000e+000 0.00000000e+000 0.00000000e+000 ... 0.00000000e+000\n",
      "  1.00000000e+000 0.00000000e+000]\n",
      " [0.00000000e+000 0.00000000e+000 0.00000000e+000 ... 0.00000000e+000\n",
      "  1.00000000e+000 0.00000000e+000]\n",
      " ...\n",
      " [0.00000000e+000 0.00000000e+000 0.00000000e+000 ... 0.00000000e+000\n",
      "  4.13691492e-289 0.00000000e+000]\n",
      " [0.00000000e+000 0.00000000e+000 0.00000000e+000 ... 0.00000000e+000\n",
      "  0.00000000e+000 0.00000000e+000]\n",
      " [0.00000000e+000 0.00000000e+000 0.00000000e+000 ... 0.00000000e+000\n",
      "  0.00000000e+000 0.00000000e+000]]\n",
      "[[ nan  nan  nan ...  nan  nan  nan]\n",
      " [ nan  nan  nan ...  nan   0. -inf]\n",
      " [ nan  nan  nan ...  nan   0. -inf]\n",
      " ...\n",
      " [ nan  nan  nan ...  nan  -0.  nan]\n",
      " [ nan  nan  nan ...  nan  nan  nan]\n",
      " [ nan  nan  nan ...  nan  nan  nan]]\n"
     ]
    },
    {
     "name": "stderr",
     "output_type": "stream",
     "text": [
      "\r",
      " 70%|███████   | 7/10 [00:02<00:00,  3.13it/s]"
     ]
    },
    {
     "name": "stdout",
     "output_type": "stream",
     "text": [
      "[[0.00000000e+000 0.00000000e+000 0.00000000e+000 ... 0.00000000e+000\n",
      "  0.00000000e+000 0.00000000e+000]\n",
      " [0.00000000e+000 0.00000000e+000 0.00000000e+000 ... 0.00000000e+000\n",
      "  0.00000000e+000 0.00000000e+000]\n",
      " [0.00000000e+000 0.00000000e+000 0.00000000e+000 ... 0.00000000e+000\n",
      "  0.00000000e+000 1.00000000e+000]\n",
      " ...\n",
      " [0.00000000e+000 0.00000000e+000 0.00000000e+000 ... 0.00000000e+000\n",
      "  0.00000000e+000 1.00000000e+000]\n",
      " [0.00000000e+000 0.00000000e+000 0.00000000e+000 ... 0.00000000e+000\n",
      "  0.00000000e+000 0.00000000e+000]\n",
      " [0.00000000e+000 0.00000000e+000 0.00000000e+000 ... 1.08551355e-308\n",
      "  0.00000000e+000 0.00000000e+000]]\n",
      "[[ nan  nan  nan ...  nan  nan  nan]\n",
      " [ nan  nan  nan ...  nan  nan -inf]\n",
      " [ nan  nan  nan ...  nan  nan   0.]\n",
      " ...\n",
      " [ nan  nan  nan ...  nan  nan   0.]\n",
      " [ nan  nan  nan ...  nan  nan  nan]\n",
      " [ nan  nan  nan ...  -0.  nan  nan]]\n"
     ]
    },
    {
     "name": "stderr",
     "output_type": "stream",
     "text": [
      "\r",
      " 80%|████████  | 8/10 [00:02<00:00,  3.13it/s]"
     ]
    },
    {
     "name": "stdout",
     "output_type": "stream",
     "text": [
      "[[0.00000000e+000 0.00000000e+000 0.00000000e+000 ... 9.37487564e-006\n",
      "  0.00000000e+000 0.00000000e+000]\n",
      " [0.00000000e+000 0.00000000e+000 0.00000000e+000 ... 0.00000000e+000\n",
      "  0.00000000e+000 0.00000000e+000]\n",
      " [1.00000000e+000 0.00000000e+000 0.00000000e+000 ... 0.00000000e+000\n",
      "  0.00000000e+000 0.00000000e+000]\n",
      " ...\n",
      " [0.00000000e+000 0.00000000e+000 0.00000000e+000 ... 0.00000000e+000\n",
      "  0.00000000e+000 0.00000000e+000]\n",
      " [0.00000000e+000 0.00000000e+000 0.00000000e+000 ... 1.00000000e+000\n",
      "  0.00000000e+000 0.00000000e+000]\n",
      " [3.66482827e-292 0.00000000e+000 0.00000000e+000 ... 9.99999532e-001\n",
      "  0.00000000e+000 0.00000000e+000]]\n",
      "[[ nan  nan  nan ...  -0.  nan  nan]\n",
      " [ nan  nan  nan ...  nan  nan -inf]\n",
      " [  0.  nan  nan ...  nan  nan -inf]\n",
      " ...\n",
      " [ nan  nan  nan ...  nan  nan  nan]\n",
      " [ nan  nan  nan ...   0.  nan  nan]\n",
      " [ -0.  nan  nan ...  -0.  nan  nan]]\n",
      "[[0.00000000e+000 1.00000000e+000 0.00000000e+000 ... 0.00000000e+000\n",
      "  0.00000000e+000 1.65202681e-138]\n",
      " [0.00000000e+000 1.00000000e+000 0.00000000e+000 ... 0.00000000e+000\n",
      "  1.00000000e+000 6.15512449e-304]\n",
      " [0.00000000e+000 6.95574279e-283 0.00000000e+000 ... 0.00000000e+000\n",
      "  1.00000000e+000 1.00000000e+000]\n",
      " ...\n",
      " [0.00000000e+000 5.11548508e-019 0.00000000e+000 ... 0.00000000e+000\n",
      "  2.23275513e-040 1.00000000e+000]\n",
      " [0.00000000e+000 0.00000000e+000 0.00000000e+000 ... 0.00000000e+000\n",
      "  0.00000000e+000 1.21601392e-283]\n",
      " [0.00000000e+000 8.26377551e-170 0.00000000e+000 ... 0.00000000e+000\n",
      "  0.00000000e+000 0.00000000e+000]]\n",
      "[[          nan    0.                   nan ...           nan\n",
      "            nan   -0.        ]\n",
      " [          nan    0.                   nan ...           nan\n",
      "     0.         -698.16858328]\n",
      " [          nan   -0.                   nan ...           nan\n",
      "     0.            0.        ]\n",
      " ...\n",
      " [          nan   -0.                   nan ...           nan\n",
      "    -0.            0.        ]\n",
      " [          nan           nan           nan ...           nan\n",
      "            nan   -0.        ]\n",
      " [          nan   -0.                   nan ...           nan\n",
      "            nan           nan]]\n"
     ]
    },
    {
     "name": "stderr",
     "output_type": "stream",
     "text": [
      "100%|██████████| 10/10 [00:03<00:00,  2.65it/s]"
     ]
    },
    {
     "name": "stdout",
     "output_type": "stream",
     "text": [
      "[[0. 0. 0. ... 0. 0. 0.]\n",
      " [0. 0. 1. ... 0. 0. 0.]\n",
      " [0. 0. 0. ... 0. 0. 0.]\n",
      " ...\n",
      " [0. 0. 0. ... 0. 0. 0.]\n",
      " [0. 0. 1. ... 0. 0. 0.]\n",
      " [0. 0. 1. ... 0. 0. 0.]]\n",
      "[[ nan  nan  nan ...  nan  nan  nan]\n",
      " [ nan  nan   0. ...  nan  nan -inf]\n",
      " [ nan  nan  nan ...  nan  nan -inf]\n",
      " ...\n",
      " [ nan  nan  nan ...  nan  nan  nan]\n",
      " [ nan  nan   0. ...  nan  nan  nan]\n",
      " [ nan  nan   0. ...  nan  nan  nan]]\n"
     ]
    },
    {
     "name": "stderr",
     "output_type": "stream",
     "text": [
      "100%|██████████| 10/10 [00:03<00:00,  2.85it/s]\n",
      " 10%|█         | 1/10 [00:00<00:02,  3.11it/s]"
     ]
    },
    {
     "name": "stdout",
     "output_type": "stream",
     "text": [
      "[[0.00000000e+000 0.00000000e+000 0.00000000e+000 ... 9.35491880e-270\n",
      "  0.00000000e+000 0.00000000e+000]\n",
      " [0.00000000e+000 0.00000000e+000 0.00000000e+000 ... 0.00000000e+000\n",
      "  0.00000000e+000 0.00000000e+000]\n",
      " [0.00000000e+000 0.00000000e+000 0.00000000e+000 ... 0.00000000e+000\n",
      "  0.00000000e+000 0.00000000e+000]\n",
      " ...\n",
      " [0.00000000e+000 0.00000000e+000 0.00000000e+000 ... 0.00000000e+000\n",
      "  0.00000000e+000 0.00000000e+000]\n",
      " [0.00000000e+000 0.00000000e+000 0.00000000e+000 ... 2.61511154e-306\n",
      "  0.00000000e+000 0.00000000e+000]\n",
      " [0.00000000e+000 0.00000000e+000 0.00000000e+000 ... 2.20369451e-199\n",
      "  0.00000000e+000 0.00000000e+000]]\n",
      "[[ nan  nan  nan ...  -0.  nan  nan]\n",
      " [ nan  nan  nan ...  nan  nan -inf]\n",
      " [ nan  nan  nan ...  nan  nan -inf]\n",
      " ...\n",
      " [ nan  nan  nan ...  nan  nan  nan]\n",
      " [ nan  nan  nan ...  -0.  nan  nan]\n",
      " [ nan  nan  nan ...  -0.  nan  nan]]\n",
      "Epoch 0, Loss [[nan nan nan ...  0. nan nan]\n",
      " [nan nan nan ... nan nan inf]\n",
      " [nan nan nan ... nan nan inf]\n",
      " ...\n",
      " [nan nan nan ... nan nan nan]\n",
      " [nan nan nan ...  0. nan nan]\n",
      " [nan nan nan ...  0. nan nan]]\n"
     ]
    },
    {
     "name": "stderr",
     "output_type": "stream",
     "text": [
      "\r",
      " 20%|██        | 2/10 [00:00<00:02,  2.82it/s]"
     ]
    },
    {
     "name": "stdout",
     "output_type": "stream",
     "text": [
      "[[0.00000000e+000 0.00000000e+000 0.00000000e+000 ... 0.00000000e+000\n",
      "  0.00000000e+000 0.00000000e+000]\n",
      " [0.00000000e+000 0.00000000e+000 0.00000000e+000 ... 0.00000000e+000\n",
      "  0.00000000e+000 0.00000000e+000]\n",
      " [3.78896192e-198 0.00000000e+000 0.00000000e+000 ... 0.00000000e+000\n",
      "  0.00000000e+000 0.00000000e+000]\n",
      " ...\n",
      " [0.00000000e+000 0.00000000e+000 0.00000000e+000 ... 0.00000000e+000\n",
      "  0.00000000e+000 0.00000000e+000]\n",
      " [0.00000000e+000 0.00000000e+000 0.00000000e+000 ... 0.00000000e+000\n",
      "  0.00000000e+000 0.00000000e+000]\n",
      " [0.00000000e+000 0.00000000e+000 0.00000000e+000 ... 0.00000000e+000\n",
      "  0.00000000e+000 0.00000000e+000]]\n",
      "[[ nan  nan  nan ...  nan  nan  nan]\n",
      " [ nan  nan  nan ...  nan  nan -inf]\n",
      " [ -0.  nan  nan ...  nan  nan -inf]\n",
      " ...\n",
      " [ nan  nan  nan ...  nan  nan  nan]\n",
      " [ nan  nan  nan ...  nan  nan  nan]\n",
      " [ nan  nan  nan ...  nan  nan  nan]]\n"
     ]
    },
    {
     "name": "stderr",
     "output_type": "stream",
     "text": [
      "\r",
      " 30%|███       | 3/10 [00:00<00:02,  3.47it/s]"
     ]
    },
    {
     "name": "stdout",
     "output_type": "stream",
     "text": [
      "[[0.00000000e+000 1.00000000e+000 0.00000000e+000 ... 1.00000000e+000\n",
      "  0.00000000e+000 0.00000000e+000]\n",
      " [0.00000000e+000 1.00000000e+000 0.00000000e+000 ... 2.17696754e-123\n",
      "  1.00000000e+000 0.00000000e+000]\n",
      " [0.00000000e+000 0.00000000e+000 0.00000000e+000 ... 0.00000000e+000\n",
      "  1.00000000e+000 1.00000000e+000]\n",
      " ...\n",
      " [0.00000000e+000 2.53464469e-283 0.00000000e+000 ... 0.00000000e+000\n",
      "  5.31403244e-029 1.00000000e+000]\n",
      " [0.00000000e+000 0.00000000e+000 0.00000000e+000 ... 1.00000000e+000\n",
      "  0.00000000e+000 0.00000000e+000]\n",
      " [0.00000000e+000 0.00000000e+000 0.00000000e+000 ... 1.00000000e+000\n",
      "  0.00000000e+000 0.00000000e+000]]\n",
      "[[ nan   0.  nan ...   0.  nan  nan]\n",
      " [ nan   0.  nan ...  -0.   0. -inf]\n",
      " [ nan  nan  nan ...  nan   0.   0.]\n",
      " ...\n",
      " [ nan  -0.  nan ...  nan  -0.   0.]\n",
      " [ nan  nan  nan ...   0.  nan  nan]\n",
      " [ nan  nan  nan ...   0.  nan  nan]]\n",
      "[[0.00000000e+000 0.00000000e+000 0.00000000e+000 ... 0.00000000e+000\n",
      "  0.00000000e+000 0.00000000e+000]\n",
      " [0.00000000e+000 0.00000000e+000 0.00000000e+000 ... 0.00000000e+000\n",
      "  0.00000000e+000 0.00000000e+000]\n",
      " [1.00000000e+000 0.00000000e+000 0.00000000e+000 ... 0.00000000e+000\n",
      "  0.00000000e+000 4.74489747e-283]\n",
      " ...\n",
      " [0.00000000e+000 0.00000000e+000 0.00000000e+000 ... 0.00000000e+000\n",
      "  0.00000000e+000 0.00000000e+000]\n",
      " [0.00000000e+000 0.00000000e+000 0.00000000e+000 ... 0.00000000e+000\n",
      "  0.00000000e+000 0.00000000e+000]\n",
      " [8.68497456e-176 0.00000000e+000 0.00000000e+000 ... 0.00000000e+000\n",
      "  0.00000000e+000 0.00000000e+000]]\n",
      "[[          nan           nan           nan ...           nan\n",
      "            nan           nan]\n",
      " [          nan           nan           nan ...           nan\n",
      "            nan          -inf]\n",
      " [   0.                   nan           nan ...           nan\n",
      "            nan -650.07451149]\n",
      " ...\n",
      " [          nan           nan           nan ...           nan\n",
      "            nan           nan]\n",
      " [          nan           nan           nan ...           nan\n",
      "            nan           nan]\n",
      " [  -0.                   nan           nan ...           nan\n",
      "            nan           nan]]\n"
     ]
    },
    {
     "name": "stderr",
     "output_type": "stream",
     "text": [
      "\r",
      " 40%|████      | 4/10 [00:01<00:02,  2.70it/s]"
     ]
    },
    {
     "name": "stdout",
     "output_type": "stream",
     "text": [
      "[[0.00000000e+000 1.00000000e+000 0.00000000e+000 ... 0.00000000e+000\n",
      "  0.00000000e+000 3.00357588e-177]\n",
      " [0.00000000e+000 1.00000000e+000 0.00000000e+000 ... 0.00000000e+000\n",
      "  0.00000000e+000 0.00000000e+000]\n",
      " [0.00000000e+000 0.00000000e+000 0.00000000e+000 ... 0.00000000e+000\n",
      "  0.00000000e+000 1.00000000e+000]\n",
      " ...\n",
      " [0.00000000e+000 4.69516334e-298 0.00000000e+000 ... 0.00000000e+000\n",
      "  0.00000000e+000 1.00000000e+000]\n",
      " [0.00000000e+000 0.00000000e+000 1.91179896e-153 ... 0.00000000e+000\n",
      "  0.00000000e+000 2.38013753e-305]\n",
      " [0.00000000e+000 0.00000000e+000 3.12167097e-291 ... 0.00000000e+000\n",
      "  0.00000000e+000 0.00000000e+000]]\n",
      "[[ nan   0.  nan ...  nan  nan  -0.]\n",
      " [ nan   0.  nan ...  nan  nan -inf]\n",
      " [ nan  nan  nan ...  nan  nan   0.]\n",
      " ...\n",
      " [ nan  -0.  nan ...  nan  nan   0.]\n",
      " [ nan  nan  -0. ...  nan  nan  -0.]\n",
      " [ nan  nan  -0. ...  nan  nan  nan]]\n"
     ]
    },
    {
     "name": "stderr",
     "output_type": "stream",
     "text": [
      "\r",
      " 50%|█████     | 5/10 [00:01<00:01,  2.87it/s]"
     ]
    },
    {
     "name": "stdout",
     "output_type": "stream",
     "text": [
      "[[0. 0. 0. ... 0. 0. 0.]\n",
      " [0. 0. 1. ... 0. 0. 0.]\n",
      " [0. 0. 0. ... 0. 0. 0.]\n",
      " ...\n",
      " [0. 0. 0. ... 0. 0. 0.]\n",
      " [0. 0. 1. ... 0. 0. 0.]\n",
      " [0. 0. 1. ... 0. 0. 0.]]\n",
      "[[ nan  nan  nan ...  nan  nan  nan]\n",
      " [ nan  nan   0. ...  nan  nan -inf]\n",
      " [ nan  nan  nan ...  nan  nan -inf]\n",
      " ...\n",
      " [ nan  nan  nan ...  nan  nan  nan]\n",
      " [ nan  nan   0. ...  nan  nan  nan]\n",
      " [ nan  nan   0. ...  nan  nan  nan]]\n"
     ]
    },
    {
     "name": "stderr",
     "output_type": "stream",
     "text": [
      " 70%|███████   | 7/10 [00:02<00:01,  2.69it/s]"
     ]
    },
    {
     "name": "stdout",
     "output_type": "stream",
     "text": [
      "[[0.00000000e+000 1.00000000e+000 0.00000000e+000 ... 0.00000000e+000\n",
      "  0.00000000e+000 0.00000000e+000]\n",
      " [0.00000000e+000 1.00000000e+000 0.00000000e+000 ... 0.00000000e+000\n",
      "  1.00000000e+000 0.00000000e+000]\n",
      " [0.00000000e+000 0.00000000e+000 0.00000000e+000 ... 0.00000000e+000\n",
      "  1.00000000e+000 0.00000000e+000]\n",
      " ...\n",
      " [0.00000000e+000 1.40184247e-250 0.00000000e+000 ... 0.00000000e+000\n",
      "  1.20031007e-040 0.00000000e+000]\n",
      " [0.00000000e+000 0.00000000e+000 0.00000000e+000 ... 0.00000000e+000\n",
      "  0.00000000e+000 0.00000000e+000]\n",
      " [0.00000000e+000 3.04212870e-285 0.00000000e+000 ... 0.00000000e+000\n",
      "  0.00000000e+000 0.00000000e+000]]\n",
      "[[ nan   0.  nan ...  nan  nan  nan]\n",
      " [ nan   0.  nan ...  nan   0. -inf]\n",
      " [ nan  nan  nan ...  nan   0. -inf]\n",
      " ...\n",
      " [ nan  -0.  nan ...  nan  -0.  nan]\n",
      " [ nan  nan  nan ...  nan  nan  nan]\n",
      " [ nan  -0.  nan ...  nan  nan  nan]]\n",
      "[[0.0000000e+000 0.0000000e+000 0.0000000e+000 ... 0.0000000e+000\n",
      "  0.0000000e+000 0.0000000e+000]\n",
      " [0.0000000e+000 0.0000000e+000 0.0000000e+000 ... 0.0000000e+000\n",
      "  0.0000000e+000 0.0000000e+000]\n",
      " [0.0000000e+000 0.0000000e+000 0.0000000e+000 ... 0.0000000e+000\n",
      "  0.0000000e+000 0.0000000e+000]\n",
      " ...\n",
      " [0.0000000e+000 0.0000000e+000 0.0000000e+000 ... 0.0000000e+000\n",
      "  0.0000000e+000 0.0000000e+000]\n",
      " [0.0000000e+000 0.0000000e+000 0.0000000e+000 ... 0.0000000e+000\n",
      "  0.0000000e+000 0.0000000e+000]\n",
      " [0.0000000e+000 0.0000000e+000 0.0000000e+000 ... 5.7957077e-306\n",
      "  0.0000000e+000 0.0000000e+000]]\n",
      "[[ nan  nan  nan ...  nan  nan  nan]\n",
      " [ nan  nan  nan ...  nan  nan -inf]\n",
      " [ nan  nan  nan ...  nan  nan -inf]\n",
      " ...\n",
      " [ nan  nan  nan ...  nan  nan  nan]\n",
      " [ nan  nan  nan ...  nan  nan  nan]\n",
      " [ nan  nan  nan ...  -0.  nan  nan]]\n"
     ]
    },
    {
     "name": "stderr",
     "output_type": "stream",
     "text": [
      " 90%|█████████ | 9/10 [00:03<00:00,  2.81it/s]"
     ]
    },
    {
     "name": "stdout",
     "output_type": "stream",
     "text": [
      "[[0.00000000e+000 9.26617754e-144 0.00000000e+000 ... 2.11000579e-018\n",
      "  0.00000000e+000 0.00000000e+000]\n",
      " [0.00000000e+000 1.00000000e+000 0.00000000e+000 ... 0.00000000e+000\n",
      "  0.00000000e+000 0.00000000e+000]\n",
      " [1.00000000e+000 0.00000000e+000 0.00000000e+000 ... 0.00000000e+000\n",
      "  0.00000000e+000 1.00000000e+000]\n",
      " ...\n",
      " [0.00000000e+000 0.00000000e+000 0.00000000e+000 ... 0.00000000e+000\n",
      "  0.00000000e+000 1.00000000e+000]\n",
      " [0.00000000e+000 0.00000000e+000 0.00000000e+000 ... 1.00000000e+000\n",
      "  0.00000000e+000 0.00000000e+000]\n",
      " [0.00000000e+000 0.00000000e+000 0.00000000e+000 ... 1.94074434e-010\n",
      "  0.00000000e+000 0.00000000e+000]]\n",
      "[[ nan  -0.  nan ...  -0.  nan  nan]\n",
      " [ nan   0.  nan ...  nan  nan -inf]\n",
      " [  0.  nan  nan ...  nan  nan   0.]\n",
      " ...\n",
      " [ nan  nan  nan ...  nan  nan   0.]\n",
      " [ nan  nan  nan ...   0.  nan  nan]\n",
      " [ nan  nan  nan ...  -0.  nan  nan]]\n",
      "[[0. 1. 0. ... 0. 0. 0.]\n",
      " [0. 1. 0. ... 0. 0. 0.]\n",
      " [0. 0. 0. ... 0. 0. 0.]\n",
      " ...\n",
      " [0. 0. 0. ... 0. 0. 0.]\n",
      " [0. 0. 0. ... 0. 0. 0.]\n",
      " [0. 0. 0. ... 0. 0. 0.]]\n",
      "[[ nan   0.  nan ...  nan  nan  nan]\n",
      " [ nan   0.  nan ...  nan  nan -inf]\n",
      " [ nan  nan  nan ...  nan  nan -inf]\n",
      " ...\n",
      " [ nan  nan  nan ...  nan  nan  nan]\n",
      " [ nan  nan  nan ...  nan  nan  nan]\n",
      " [ nan  nan  nan ...  nan  nan  nan]]\n"
     ]
    },
    {
     "name": "stderr",
     "output_type": "stream",
     "text": [
      "100%|██████████| 10/10 [00:03<00:00,  2.76it/s]\n",
      "  0%|          | 0/10 [00:00<?, ?it/s]"
     ]
    },
    {
     "name": "stdout",
     "output_type": "stream",
     "text": [
      "[[0.00000000e+000 0.00000000e+000 0.00000000e+000 ... 0.00000000e+000\n",
      "  0.00000000e+000 0.00000000e+000]\n",
      " [0.00000000e+000 2.29390152e-274 0.00000000e+000 ... 0.00000000e+000\n",
      "  1.00000000e+000 0.00000000e+000]\n",
      " [0.00000000e+000 0.00000000e+000 0.00000000e+000 ... 0.00000000e+000\n",
      "  1.00000000e+000 1.00000000e+000]\n",
      " ...\n",
      " [0.00000000e+000 0.00000000e+000 0.00000000e+000 ... 0.00000000e+000\n",
      "  1.13198229e-072 2.56987408e-291]\n",
      " [0.00000000e+000 0.00000000e+000 1.58346275e-231 ... 0.00000000e+000\n",
      "  0.00000000e+000 0.00000000e+000]\n",
      " [0.00000000e+000 0.00000000e+000 0.00000000e+000 ... 0.00000000e+000\n",
      "  0.00000000e+000 0.00000000e+000]]\n",
      "[[ nan  nan  nan ...  nan  nan  nan]\n",
      " [ nan  -0.  nan ...  nan   0. -inf]\n",
      " [ nan  nan  nan ...  nan   0.   0.]\n",
      " ...\n",
      " [ nan  nan  nan ...  nan  -0.  -0.]\n",
      " [ nan  nan  -0. ...  nan  nan  nan]\n",
      " [ nan  nan  nan ...  nan  nan  nan]]\n",
      "Epoch 0, Loss [[nan nan nan ... nan nan nan]\n",
      " [nan  0. nan ... nan inf inf]\n",
      " [nan nan nan ... nan inf nan]\n",
      " ...\n",
      " [nan nan nan ... nan  0.  0.]\n",
      " [nan nan  0. ... nan nan nan]\n",
      " [nan nan nan ... nan nan nan]]\n"
     ]
    },
    {
     "name": "stderr",
     "output_type": "stream",
     "text": [
      " 20%|██        | 2/10 [00:00<00:01,  4.11it/s]"
     ]
    },
    {
     "name": "stdout",
     "output_type": "stream",
     "text": [
      "[[0.00000000e+000 1.00000000e+000 0.00000000e+000 ... 3.01251166e-146\n",
      "  0.00000000e+000 0.00000000e+000]\n",
      " [0.00000000e+000 1.00000000e+000 1.00000000e+000 ... 0.00000000e+000\n",
      "  0.00000000e+000 0.00000000e+000]\n",
      " [1.00000000e+000 4.12501193e-233 2.28762176e-300 ... 0.00000000e+000\n",
      "  0.00000000e+000 1.00000000e+000]\n",
      " ...\n",
      " [0.00000000e+000 1.00000000e+000 0.00000000e+000 ... 0.00000000e+000\n",
      "  0.00000000e+000 1.00000000e+000]\n",
      " [0.00000000e+000 0.00000000e+000 1.00000000e+000 ... 5.52434350e-121\n",
      "  0.00000000e+000 0.00000000e+000]\n",
      " [0.00000000e+000 1.00536030e-097 1.00000000e+000 ... 5.17181460e-110\n",
      "  0.00000000e+000 0.00000000e+000]]\n",
      "[[ nan   0.  nan ...  -0.  nan  nan]\n",
      " [ nan   0.   0. ...  nan  nan -inf]\n",
      " [  0.  -0.  -0. ...  nan  nan   0.]\n",
      " ...\n",
      " [ nan   0.  nan ...  nan  nan   0.]\n",
      " [ nan  nan   0. ...  -0.  nan  nan]\n",
      " [ nan  -0.   0. ...  -0.  nan  nan]]\n"
     ]
    },
    {
     "name": "stderr",
     "output_type": "stream",
     "text": [
      "\r",
      " 30%|███       | 3/10 [00:00<00:02,  3.24it/s]"
     ]
    },
    {
     "name": "stdout",
     "output_type": "stream",
     "text": [
      "[[0. 0. 0. ... 0. 0. 0.]\n",
      " [0. 0. 0. ... 0. 0. 0.]\n",
      " [0. 0. 0. ... 0. 0. 0.]\n",
      " ...\n",
      " [0. 0. 0. ... 0. 0. 0.]\n",
      " [0. 0. 0. ... 0. 0. 0.]\n",
      " [0. 0. 0. ... 0. 0. 0.]]\n",
      "[[ nan  nan  nan ...  nan  nan  nan]\n",
      " [ nan  nan  nan ...  nan  nan -inf]\n",
      " [ nan  nan  nan ...  nan  nan -inf]\n",
      " ...\n",
      " [ nan  nan  nan ...  nan  nan  nan]\n",
      " [ nan  nan  nan ...  nan  nan  nan]\n",
      " [ nan  nan  nan ...  nan  nan  nan]]\n",
      "[[0.00000000e+00 0.00000000e+00 0.00000000e+00 ... 4.27932696e-42\n",
      "  0.00000000e+00 0.00000000e+00]\n",
      " [0.00000000e+00 0.00000000e+00 0.00000000e+00 ... 0.00000000e+00\n",
      "  0.00000000e+00 0.00000000e+00]\n",
      " [0.00000000e+00 0.00000000e+00 0.00000000e+00 ... 0.00000000e+00\n",
      "  0.00000000e+00 0.00000000e+00]\n",
      " ...\n",
      " [0.00000000e+00 0.00000000e+00 0.00000000e+00 ... 0.00000000e+00\n",
      "  0.00000000e+00 0.00000000e+00]\n",
      " [0.00000000e+00 0.00000000e+00 0.00000000e+00 ... 1.00000000e+00\n",
      "  0.00000000e+00 0.00000000e+00]\n",
      " [0.00000000e+00 0.00000000e+00 0.00000000e+00 ... 2.29603659e-37\n",
      "  0.00000000e+00 0.00000000e+00]]\n",
      "[[ nan  nan  nan ...  -0.  nan  nan]\n",
      " [ nan  nan  nan ...  nan  nan -inf]\n",
      " [ nan  nan  nan ...  nan  nan -inf]\n",
      " ...\n",
      " [ nan  nan  nan ...  nan  nan  nan]\n",
      " [ nan  nan  nan ...   0.  nan  nan]\n",
      " [ nan  nan  nan ...  -0.  nan  nan]]\n"
     ]
    },
    {
     "name": "stderr",
     "output_type": "stream",
     "text": [
      "\r",
      " 40%|████      | 4/10 [00:01<00:02,  2.93it/s]"
     ]
    },
    {
     "name": "stdout",
     "output_type": "stream",
     "text": [
      "[[0.00000000e+000 0.00000000e+000 0.00000000e+000 ... 0.00000000e+000\n",
      "  0.00000000e+000 0.00000000e+000]\n",
      " [0.00000000e+000 0.00000000e+000 0.00000000e+000 ... 0.00000000e+000\n",
      "  1.00000000e+000 0.00000000e+000]\n",
      " [1.48695937e-307 0.00000000e+000 0.00000000e+000 ... 0.00000000e+000\n",
      "  1.00000000e+000 1.00000000e+000]\n",
      " ...\n",
      " [0.00000000e+000 0.00000000e+000 0.00000000e+000 ... 0.00000000e+000\n",
      "  5.30032803e-238 1.00000000e+000]\n",
      " [0.00000000e+000 0.00000000e+000 0.00000000e+000 ... 0.00000000e+000\n",
      "  0.00000000e+000 0.00000000e+000]\n",
      " [0.00000000e+000 0.00000000e+000 0.00000000e+000 ... 0.00000000e+000\n",
      "  0.00000000e+000 0.00000000e+000]]\n",
      "[[ nan  nan  nan ...  nan  nan  nan]\n",
      " [ nan  nan  nan ...  nan   0. -inf]\n",
      " [ -0.  nan  nan ...  nan   0.   0.]\n",
      " ...\n",
      " [ nan  nan  nan ...  nan  -0.   0.]\n",
      " [ nan  nan  nan ...  nan  nan  nan]\n",
      " [ nan  nan  nan ...  nan  nan  nan]]\n"
     ]
    },
    {
     "name": "stderr",
     "output_type": "stream",
     "text": [
      " 60%|██████    | 6/10 [00:01<00:01,  2.84it/s]"
     ]
    },
    {
     "name": "stdout",
     "output_type": "stream",
     "text": [
      "[[0. 0. 0. ... 0. 0. 0.]\n",
      " [0. 0. 0. ... 0. 0. 0.]\n",
      " [0. 0. 0. ... 0. 0. 0.]\n",
      " ...\n",
      " [0. 0. 0. ... 0. 0. 0.]\n",
      " [0. 0. 0. ... 0. 0. 0.]\n",
      " [0. 0. 0. ... 0. 0. 0.]]\n",
      "[[ nan  nan  nan ...  nan  nan  nan]\n",
      " [ nan  nan  nan ...  nan  nan -inf]\n",
      " [ nan  nan  nan ...  nan  nan -inf]\n",
      " ...\n",
      " [ nan  nan  nan ...  nan  nan  nan]\n",
      " [ nan  nan  nan ...  nan  nan  nan]\n",
      " [ nan  nan  nan ...  nan  nan  nan]]\n",
      "[[0.00000000e+000 1.00000000e+000 0.00000000e+000 ... 1.00000000e+000\n",
      "  0.00000000e+000 4.23454054e-181]\n",
      " [0.00000000e+000 1.00000000e+000 0.00000000e+000 ... 7.83866345e-247\n",
      "  0.00000000e+000 0.00000000e+000]\n",
      " [1.00000000e+000 0.00000000e+000 0.00000000e+000 ... 0.00000000e+000\n",
      "  0.00000000e+000 1.00000000e+000]\n",
      " ...\n",
      " [0.00000000e+000 4.00297465e-157 0.00000000e+000 ... 0.00000000e+000\n",
      "  0.00000000e+000 1.00000000e+000]\n",
      " [0.00000000e+000 0.00000000e+000 0.00000000e+000 ... 1.00000000e+000\n",
      "  0.00000000e+000 0.00000000e+000]\n",
      " [0.00000000e+000 3.06066237e-248 0.00000000e+000 ... 1.00000000e+000\n",
      "  0.00000000e+000 0.00000000e+000]]\n",
      "[[ nan   0.  nan ...   0.  nan  -0.]\n",
      " [ nan   0.  nan ...  -0.  nan -inf]\n",
      " [  0.  nan  nan ...  nan  nan   0.]\n",
      " ...\n",
      " [ nan  -0.  nan ...  nan  nan   0.]\n",
      " [ nan  nan  nan ...   0.  nan  nan]\n",
      " [ nan  -0.  nan ...   0.  nan  nan]]\n"
     ]
    },
    {
     "name": "stderr",
     "output_type": "stream",
     "text": [
      " 80%|████████  | 8/10 [00:02<00:00,  3.15it/s]"
     ]
    },
    {
     "name": "stdout",
     "output_type": "stream",
     "text": [
      "[[0.00000000e+00 0.00000000e+00 0.00000000e+00 ... 0.00000000e+00\n",
      "  0.00000000e+00 0.00000000e+00]\n",
      " [0.00000000e+00 0.00000000e+00 0.00000000e+00 ... 0.00000000e+00\n",
      "  1.00000000e+00 0.00000000e+00]\n",
      " [0.00000000e+00 0.00000000e+00 0.00000000e+00 ... 0.00000000e+00\n",
      "  1.00000000e+00 0.00000000e+00]\n",
      " ...\n",
      " [0.00000000e+00 0.00000000e+00 0.00000000e+00 ... 0.00000000e+00\n",
      "  1.20998031e-54 0.00000000e+00]\n",
      " [0.00000000e+00 0.00000000e+00 1.00000000e+00 ... 0.00000000e+00\n",
      "  0.00000000e+00 0.00000000e+00]\n",
      " [0.00000000e+00 0.00000000e+00 1.16756015e-41 ... 0.00000000e+00\n",
      "  0.00000000e+00 0.00000000e+00]]\n",
      "[[ nan  nan  nan ...  nan  nan  nan]\n",
      " [ nan  nan  nan ...  nan   0. -inf]\n",
      " [ nan  nan  nan ...  nan   0. -inf]\n",
      " ...\n",
      " [ nan  nan  nan ...  nan  -0.  nan]\n",
      " [ nan  nan   0. ...  nan  nan  nan]\n",
      " [ nan  nan  -0. ...  nan  nan  nan]]\n"
     ]
    },
    {
     "name": "stderr",
     "output_type": "stream",
     "text": [
      "\r",
      " 90%|█████████ | 9/10 [00:02<00:00,  3.48it/s]"
     ]
    },
    {
     "name": "stdout",
     "output_type": "stream",
     "text": [
      "[[0. 0. 0. ... 0. 0. 0.]\n",
      " [0. 0. 0. ... 0. 0. 0.]\n",
      " [0. 0. 0. ... 0. 0. 0.]\n",
      " ...\n",
      " [0. 0. 0. ... 0. 0. 0.]\n",
      " [0. 0. 0. ... 0. 0. 0.]\n",
      " [0. 0. 0. ... 0. 0. 0.]]\n",
      "[[ nan  nan  nan ...  nan  nan  nan]\n",
      " [ nan  nan  nan ...  nan  nan -inf]\n",
      " [ nan  nan  nan ...  nan  nan -inf]\n",
      " ...\n",
      " [ nan  nan  nan ...  nan  nan  nan]\n",
      " [ nan  nan  nan ...  nan  nan  nan]\n",
      " [ nan  nan  nan ...  nan  nan  nan]]\n",
      "[[0.00000000e+000 1.00000000e+000 0.00000000e+000 ... 0.00000000e+000\n",
      "  0.00000000e+000 0.00000000e+000]\n",
      " [0.00000000e+000 1.00000000e+000 1.00000000e+000 ... 0.00000000e+000\n",
      "  0.00000000e+000 0.00000000e+000]\n",
      " [0.00000000e+000 0.00000000e+000 1.04512253e-292 ... 0.00000000e+000\n",
      "  0.00000000e+000 0.00000000e+000]\n",
      " ...\n",
      " [0.00000000e+000 4.82449356e-137 0.00000000e+000 ... 0.00000000e+000\n",
      "  0.00000000e+000 0.00000000e+000]\n",
      " [0.00000000e+000 0.00000000e+000 1.00000000e+000 ... 0.00000000e+000\n",
      "  0.00000000e+000 0.00000000e+000]\n",
      " [0.00000000e+000 7.80376018e-223 1.00000000e+000 ... 0.00000000e+000\n",
      "  0.00000000e+000 0.00000000e+000]]\n",
      "[[ nan   0.  nan ...  nan  nan  nan]\n",
      " [ nan   0.   0. ...  nan  nan -inf]\n",
      " [ nan  nan  -0. ...  nan  nan -inf]\n",
      " ...\n",
      " [ nan  -0.  nan ...  nan  nan  nan]\n",
      " [ nan  nan   0. ...  nan  nan  nan]\n",
      " [ nan  -0.   0. ...  nan  nan  nan]]\n"
     ]
    },
    {
     "name": "stderr",
     "output_type": "stream",
     "text": [
      "100%|██████████| 10/10 [00:03<00:00,  3.24it/s]\n",
      "  0%|          | 0/10 [00:00<?, ?it/s]"
     ]
    },
    {
     "name": "stdout",
     "output_type": "stream",
     "text": [
      "[[0.00000000e+000 0.00000000e+000 0.00000000e+000 ... 1.00000000e+000\n",
      "  0.00000000e+000 0.00000000e+000]\n",
      " [0.00000000e+000 0.00000000e+000 0.00000000e+000 ... 5.41177510e-216\n",
      "  0.00000000e+000 0.00000000e+000]\n",
      " [1.00000000e+000 0.00000000e+000 0.00000000e+000 ... 0.00000000e+000\n",
      "  0.00000000e+000 1.00000000e+000]\n",
      " ...\n",
      " [0.00000000e+000 0.00000000e+000 0.00000000e+000 ... 0.00000000e+000\n",
      "  0.00000000e+000 1.00000000e+000]\n",
      " [0.00000000e+000 0.00000000e+000 0.00000000e+000 ... 1.00000000e+000\n",
      "  0.00000000e+000 0.00000000e+000]\n",
      " [1.34141872e-163 0.00000000e+000 0.00000000e+000 ... 1.00000000e+000\n",
      "  0.00000000e+000 0.00000000e+000]]\n",
      "[[ nan  nan  nan ...   0.  nan  nan]\n",
      " [ nan  nan  nan ...  -0.  nan -inf]\n",
      " [  0.  nan  nan ...  nan  nan   0.]\n",
      " ...\n",
      " [ nan  nan  nan ...  nan  nan   0.]\n",
      " [ nan  nan  nan ...   0.  nan  nan]\n",
      " [ -0.  nan  nan ...   0.  nan  nan]]\n"
     ]
    },
    {
     "name": "stderr",
     "output_type": "stream",
     "text": [
      "\r",
      " 10%|█         | 1/10 [00:00<00:07,  1.26it/s]"
     ]
    },
    {
     "name": "stdout",
     "output_type": "stream",
     "text": [
      "Epoch 0, Loss [[nan nan nan ... inf nan nan]\n",
      " [nan nan nan ...  0. nan inf]\n",
      " [inf nan nan ... nan nan nan]\n",
      " ...\n",
      " [nan nan nan ... nan nan inf]\n",
      " [nan nan nan ... inf nan nan]\n",
      " [ 0. nan nan ... inf nan nan]]\n",
      "[[0.00000000e+00 0.00000000e+00 0.00000000e+00 ... 0.00000000e+00\n",
      "  0.00000000e+00 0.00000000e+00]\n",
      " [0.00000000e+00 0.00000000e+00 0.00000000e+00 ... 0.00000000e+00\n",
      "  1.00000000e+00 0.00000000e+00]\n",
      " [0.00000000e+00 0.00000000e+00 0.00000000e+00 ... 0.00000000e+00\n",
      "  1.00000000e+00 0.00000000e+00]\n",
      " ...\n",
      " [0.00000000e+00 0.00000000e+00 0.00000000e+00 ... 0.00000000e+00\n",
      "  1.87862714e-72 0.00000000e+00]\n",
      " [0.00000000e+00 0.00000000e+00 0.00000000e+00 ... 0.00000000e+00\n",
      "  0.00000000e+00 0.00000000e+00]\n",
      " [0.00000000e+00 0.00000000e+00 0.00000000e+00 ... 0.00000000e+00\n",
      "  0.00000000e+00 0.00000000e+00]]\n",
      "[[ nan  nan  nan ...  nan  nan  nan]\n",
      " [ nan  nan  nan ...  nan   0. -inf]\n",
      " [ nan  nan  nan ...  nan   0. -inf]\n",
      " ...\n",
      " [ nan  nan  nan ...  nan  -0.  nan]\n",
      " [ nan  nan  nan ...  nan  nan  nan]\n",
      " [ nan  nan  nan ...  nan  nan  nan]]\n"
     ]
    },
    {
     "name": "stderr",
     "output_type": "stream",
     "text": [
      "\r",
      " 20%|██        | 2/10 [00:01<00:03,  2.00it/s]"
     ]
    },
    {
     "name": "stdout",
     "output_type": "stream",
     "text": [
      "[[0. 1. 0. ... 0. 0. 0.]\n",
      " [0. 1. 0. ... 0. 0. 0.]\n",
      " [0. 0. 0. ... 0. 0. 0.]\n",
      " ...\n",
      " [0. 0. 0. ... 0. 0. 0.]\n",
      " [0. 0. 0. ... 0. 0. 0.]\n",
      " [0. 0. 0. ... 0. 0. 0.]]\n",
      "[[ nan   0.  nan ...  nan  nan  nan]\n",
      " [ nan   0.  nan ...  nan  nan -inf]\n",
      " [ nan  nan  nan ...  nan  nan -inf]\n",
      " ...\n",
      " [ nan  nan  nan ...  nan  nan  nan]\n",
      " [ nan  nan  nan ...  nan  nan  nan]\n",
      " [ nan  nan  nan ...  nan  nan  nan]]\n"
     ]
    },
    {
     "name": "stderr",
     "output_type": "stream",
     "text": [
      " 40%|████      | 4/10 [00:01<00:02,  2.77it/s]"
     ]
    },
    {
     "name": "stdout",
     "output_type": "stream",
     "text": [
      "[[0.00000000e+000 0.00000000e+000 0.00000000e+000 ... 0.00000000e+000\n",
      "  0.00000000e+000 0.00000000e+000]\n",
      " [0.00000000e+000 2.53982526e-285 0.00000000e+000 ... 0.00000000e+000\n",
      "  0.00000000e+000 0.00000000e+000]\n",
      " [0.00000000e+000 0.00000000e+000 0.00000000e+000 ... 0.00000000e+000\n",
      "  0.00000000e+000 1.00000000e+000]\n",
      " ...\n",
      " [0.00000000e+000 0.00000000e+000 0.00000000e+000 ... 0.00000000e+000\n",
      "  0.00000000e+000 1.00000000e+000]\n",
      " [0.00000000e+000 0.00000000e+000 0.00000000e+000 ... 0.00000000e+000\n",
      "  0.00000000e+000 0.00000000e+000]\n",
      " [0.00000000e+000 0.00000000e+000 0.00000000e+000 ... 0.00000000e+000\n",
      "  0.00000000e+000 0.00000000e+000]]\n",
      "[[ nan  nan  nan ...  nan  nan  nan]\n",
      " [ nan  -0.  nan ...  nan  nan -inf]\n",
      " [ nan  nan  nan ...  nan  nan   0.]\n",
      " ...\n",
      " [ nan  nan  nan ...  nan  nan   0.]\n",
      " [ nan  nan  nan ...  nan  nan  nan]\n",
      " [ nan  nan  nan ...  nan  nan  nan]]\n",
      "[[0.00000000e+000 1.00000000e+000 0.00000000e+000 ... 2.39027080e-222\n",
      "  0.00000000e+000 0.00000000e+000]\n",
      " [0.00000000e+000 1.00000000e+000 0.00000000e+000 ... 0.00000000e+000\n",
      "  0.00000000e+000 0.00000000e+000]\n",
      " [0.00000000e+000 8.18958252e-247 0.00000000e+000 ... 0.00000000e+000\n",
      "  0.00000000e+000 0.00000000e+000]\n",
      " ...\n",
      " [0.00000000e+000 1.00000000e+000 0.00000000e+000 ... 0.00000000e+000\n",
      "  0.00000000e+000 0.00000000e+000]\n",
      " [0.00000000e+000 0.00000000e+000 0.00000000e+000 ... 1.75797206e-239\n",
      "  0.00000000e+000 0.00000000e+000]\n",
      " [0.00000000e+000 1.62017882e-113 0.00000000e+000 ... 7.97357260e-170\n",
      "  0.00000000e+000 0.00000000e+000]]\n",
      "[[ nan   0.  nan ...  -0.  nan  nan]\n",
      " [ nan   0.  nan ...  nan  nan -inf]\n",
      " [ nan  -0.  nan ...  nan  nan -inf]\n",
      " ...\n",
      " [ nan   0.  nan ...  nan  nan  nan]\n",
      " [ nan  nan  nan ...  -0.  nan  nan]\n",
      " [ nan  -0.  nan ...  -0.  nan  nan]]\n"
     ]
    },
    {
     "name": "stderr",
     "output_type": "stream",
     "text": [
      "\r",
      " 50%|█████     | 5/10 [00:01<00:01,  2.96it/s]"
     ]
    },
    {
     "name": "stdout",
     "output_type": "stream",
     "text": [
      "[[0.00000000e+000 0.00000000e+000 0.00000000e+000 ... 0.00000000e+000\n",
      "  0.00000000e+000 0.00000000e+000]\n",
      " [0.00000000e+000 0.00000000e+000 9.53870481e-285 ... 0.00000000e+000\n",
      "  1.00000000e+000 0.00000000e+000]\n",
      " [1.00000000e+000 0.00000000e+000 0.00000000e+000 ... 0.00000000e+000\n",
      "  1.00000000e+000 1.00000000e+000]\n",
      " ...\n",
      " [0.00000000e+000 0.00000000e+000 0.00000000e+000 ... 0.00000000e+000\n",
      "  2.87813813e-170 1.00000000e+000]\n",
      " [0.00000000e+000 0.00000000e+000 1.00000000e+000 ... 0.00000000e+000\n",
      "  0.00000000e+000 0.00000000e+000]\n",
      " [0.00000000e+000 0.00000000e+000 1.00000000e+000 ... 0.00000000e+000\n",
      "  0.00000000e+000 0.00000000e+000]]\n",
      "[[ nan  nan  nan ...  nan  nan  nan]\n",
      " [ nan  nan  -0. ...  nan   0. -inf]\n",
      " [  0.  nan  nan ...  nan   0.   0.]\n",
      " ...\n",
      " [ nan  nan  nan ...  nan  -0.   0.]\n",
      " [ nan  nan   0. ...  nan  nan  nan]\n",
      " [ nan  nan   0. ...  nan  nan  nan]]\n"
     ]
    },
    {
     "name": "stderr",
     "output_type": "stream",
     "text": [
      " 70%|███████   | 7/10 [00:02<00:00,  3.08it/s]"
     ]
    },
    {
     "name": "stdout",
     "output_type": "stream",
     "text": [
      "[[0.00000000e+000 0.00000000e+000 0.00000000e+000 ... 1.00000000e+000\n",
      "  0.00000000e+000 0.00000000e+000]\n",
      " [0.00000000e+000 0.00000000e+000 0.00000000e+000 ... 1.00000000e+000\n",
      "  0.00000000e+000 0.00000000e+000]\n",
      " [0.00000000e+000 0.00000000e+000 0.00000000e+000 ... 0.00000000e+000\n",
      "  0.00000000e+000 1.78661586e-169]\n",
      " ...\n",
      " [0.00000000e+000 0.00000000e+000 0.00000000e+000 ... 1.86037018e-169\n",
      "  0.00000000e+000 0.00000000e+000]\n",
      " [0.00000000e+000 0.00000000e+000 0.00000000e+000 ... 1.00000000e+000\n",
      "  0.00000000e+000 0.00000000e+000]\n",
      " [0.00000000e+000 0.00000000e+000 0.00000000e+000 ... 1.00000000e+000\n",
      "  0.00000000e+000 0.00000000e+000]]\n",
      "[[          nan           nan           nan ...    0.\n",
      "            nan           nan]\n",
      " [          nan           nan           nan ...    0.\n",
      "            nan          -inf]\n",
      " [          nan           nan           nan ...           nan\n",
      "            nan -388.55655747]\n",
      " ...\n",
      " [          nan           nan           nan ...   -0.\n",
      "            nan           nan]\n",
      " [          nan           nan           nan ...    0.\n",
      "            nan           nan]\n",
      " [          nan           nan           nan ...    0.\n",
      "            nan           nan]]\n",
      "[[0.00000000e+000 0.00000000e+000 0.00000000e+000 ... 0.00000000e+000\n",
      "  0.00000000e+000 4.62750028e-107]\n",
      " [0.00000000e+000 0.00000000e+000 0.00000000e+000 ... 0.00000000e+000\n",
      "  0.00000000e+000 2.69980014e-262]\n",
      " [0.00000000e+000 0.00000000e+000 0.00000000e+000 ... 0.00000000e+000\n",
      "  0.00000000e+000 1.00000000e+000]\n",
      " ...\n",
      " [0.00000000e+000 0.00000000e+000 0.00000000e+000 ... 0.00000000e+000\n",
      "  0.00000000e+000 1.00000000e+000]\n",
      " [0.00000000e+000 0.00000000e+000 9.60902804e-257 ... 0.00000000e+000\n",
      "  0.00000000e+000 2.16519635e-206]\n",
      " [0.00000000e+000 0.00000000e+000 0.00000000e+000 ... 0.00000000e+000\n",
      "  0.00000000e+000 1.80515680e-305]]\n",
      "[[          nan           nan           nan ...           nan\n",
      "            nan   -0.        ]\n",
      " [          nan           nan           nan ...           nan\n",
      "            nan -602.28411662]\n",
      " [          nan           nan           nan ...           nan\n",
      "            nan    0.        ]\n",
      " ...\n",
      " [          nan           nan           nan ...           nan\n",
      "            nan    0.        ]\n",
      " [          nan           nan   -0.         ...           nan\n",
      "            nan   -0.        ]\n",
      " [          nan           nan           nan ...           nan\n",
      "            nan   -0.        ]]\n"
     ]
    },
    {
     "name": "stderr",
     "output_type": "stream",
     "text": [
      "\r",
      " 80%|████████  | 8/10 [00:02<00:00,  3.10it/s]"
     ]
    },
    {
     "name": "stdout",
     "output_type": "stream",
     "text": [
      "[[0.00000000e+000 0.00000000e+000 0.00000000e+000 ... 0.00000000e+000\n",
      "  0.00000000e+000 0.00000000e+000]\n",
      " [0.00000000e+000 5.39211032e-295 1.00000000e+000 ... 0.00000000e+000\n",
      "  1.00000000e+000 0.00000000e+000]\n",
      " [1.00000000e+000 0.00000000e+000 1.20714578e-220 ... 0.00000000e+000\n",
      "  1.00000000e+000 0.00000000e+000]\n",
      " ...\n",
      " [0.00000000e+000 0.00000000e+000 0.00000000e+000 ... 0.00000000e+000\n",
      "  0.00000000e+000 0.00000000e+000]\n",
      " [0.00000000e+000 0.00000000e+000 1.00000000e+000 ... 0.00000000e+000\n",
      "  0.00000000e+000 0.00000000e+000]\n",
      " [4.33036231e-189 0.00000000e+000 1.00000000e+000 ... 0.00000000e+000\n",
      "  0.00000000e+000 0.00000000e+000]]\n",
      "[[ nan  nan  nan ...  nan  nan  nan]\n",
      " [ nan  -0.   0. ...  nan   0. -inf]\n",
      " [  0.  nan  -0. ...  nan   0. -inf]\n",
      " ...\n",
      " [ nan  nan  nan ...  nan  nan  nan]\n",
      " [ nan  nan   0. ...  nan  nan  nan]\n",
      " [ -0.  nan   0. ...  nan  nan  nan]]\n"
     ]
    },
    {
     "name": "stderr",
     "output_type": "stream",
     "text": [
      "100%|██████████| 10/10 [00:03<00:00,  2.72it/s]\n"
     ]
    },
    {
     "name": "stdout",
     "output_type": "stream",
     "text": [
      "[[0.00000000e+000 1.00000000e+000 0.00000000e+000 ... 0.00000000e+000\n",
      "  0.00000000e+000 0.00000000e+000]\n",
      " [0.00000000e+000 1.00000000e+000 0.00000000e+000 ... 0.00000000e+000\n",
      "  0.00000000e+000 0.00000000e+000]\n",
      " [0.00000000e+000 1.18339026e-237 0.00000000e+000 ... 0.00000000e+000\n",
      "  0.00000000e+000 0.00000000e+000]\n",
      " ...\n",
      " [0.00000000e+000 1.00000000e+000 0.00000000e+000 ... 0.00000000e+000\n",
      "  0.00000000e+000 0.00000000e+000]\n",
      " [0.00000000e+000 0.00000000e+000 0.00000000e+000 ... 0.00000000e+000\n",
      "  0.00000000e+000 0.00000000e+000]\n",
      " [0.00000000e+000 9.43399727e-144 0.00000000e+000 ... 0.00000000e+000\n",
      "  0.00000000e+000 0.00000000e+000]]\n",
      "[[ nan   0.  nan ...  nan  nan  nan]\n",
      " [ nan   0.  nan ...  nan  nan -inf]\n",
      " [ nan  -0.  nan ...  nan  nan -inf]\n",
      " ...\n",
      " [ nan   0.  nan ...  nan  nan  nan]\n",
      " [ nan  nan  nan ...  nan  nan  nan]\n",
      " [ nan  -0.  nan ...  nan  nan  nan]]\n"
     ]
    },
    {
     "name": "stderr",
     "output_type": "stream",
     "text": [
      "\r",
      "  0%|          | 0/10 [00:00<?, ?it/s]"
     ]
    }
   ],
   "source": [
    "# Run training and plotting for default parameter values as mentioned above\n",
    "t_ac, v_ac, te_ac, weights = train(learning_rate, weight_decay)\n"
   ]
  },
  {
   "cell_type": "code",
   "execution_count": null,
   "metadata": {},
   "outputs": [],
   "source": [
    "plot_accuracies(t_ac, v_ac, te_ac)\n"
   ]
  },
  {
   "cell_type": "markdown",
   "metadata": {},
   "source": [
    "### Try different learning rates and plot graphs for all (20%)\n"
   ]
  },
  {
   "cell_type": "code",
   "execution_count": null,
   "metadata": {},
   "outputs": [],
   "source": [
    "# Initialize the best values\n",
    "best_weights = weights\n",
    "best_learning_rate = learning_rate\n",
    "best_weight_decay = weight_decay\n",
    "\n",
    "# TODO\n",
    "# Repeat the above training and evaluation steps for the following learning rates and plot graphs\n",
    "# You need to try 3 learning rates and submit all 3 graphs along with this notebook pdf to show your learning rate experiments\n",
    "learning_rates = []\n",
    "weight_decay = 0.0  # No regularization for now\n",
    "\n",
    "# FEEL FREE TO EXPERIMENT WITH OTHER VALUES. REPORT OTHER VALUES IF THEY ACHIEVE A BETTER PERFORMANCE\n",
    "\n",
    "# for lr in learning_rates: Train the classifier and plot data\n",
    "# Step 1. train_accu, val_accu, test_accu = train(lr, weight_decay)\n",
    "# Step 2. plot_accuracies(train_accu, val_accu, test_accu)\n",
    "\n",
    "for learning_rate in learning_rates:\n",
    "    # TODO: Train the classifier with different learning rates and plot\n",
    "    pass"
   ]
  },
  {
   "cell_type": "markdown",
   "metadata": {},
   "source": [
    "#### Inline Question 1.\n",
    "\n",
    "Which one of these learning rates (best_lr) would you pick to train your model? Please Explain why.\n"
   ]
  },
  {
   "cell_type": "markdown",
   "metadata": {},
   "source": [
    "#### Your Answer:\n"
   ]
  },
  {
   "cell_type": "markdown",
   "metadata": {},
   "source": [
    "### Regularization: Try different weight decay and plots graphs for all (20%)\n"
   ]
  },
  {
   "cell_type": "code",
   "execution_count": null,
   "metadata": {},
   "outputs": [],
   "source": [
    "# Initialize a non-zero weight_decay (Regulzarization constant) term and repeat the training and evaluation\n",
    "# Use the best learning rate as obtained from the above excercise, best_lr\n",
    "\n",
    "# You need to try 3 learning rates and submit all 3 graphs along with this notebook pdf to show your weight decay experiments\n",
    "weight_decays = []\n",
    "\n",
    "# FEEL FREE TO EXPERIMENT WITH OTHER VALUES. REPORT OTHER VALUES IF THEY ACHIEVE A BETTER PERFORMANCE\n",
    "\n",
    "# for weight_decay in weight_decays: Train the classifier and plot data\n",
    "# Step 1. train_accu, val_accu, test_accu = train(best_lr, weight_decay)\n",
    "# Step 2. plot_accuracies(train_accu, val_accu, test_accu)\n",
    "\n",
    "for weight_decay in weight_decays:\n",
    "    # TODO: Train the classifier with different weight decay and plot\n",
    "    pass"
   ]
  },
  {
   "cell_type": "markdown",
   "metadata": {},
   "source": [
    "#### Inline Question 2.\n",
    "\n",
    "Discuss underfitting and overfitting as observed in the 5 graphs obtained by changing the regularization.\n",
    "Which weight_decay term gave you the best classifier performance?\n",
    "HINT: Do not just think in terms of best training set performance, keep in mind that the real utility of a machine learning model is when it performs well on data it has never seen before\n"
   ]
  },
  {
   "cell_type": "markdown",
   "metadata": {},
   "source": [
    "#### Your Answer:\n"
   ]
  },
  {
   "cell_type": "markdown",
   "metadata": {},
   "source": [
    "### Visualize the filters (10%)\n"
   ]
  },
  {
   "cell_type": "code",
   "execution_count": null,
   "metadata": {},
   "outputs": [],
   "source": [
    "# These visualizations will only somewhat make sense if your learning rate and weight_decay parameters were\n",
    "# properly chosen in the model. Do your best.\n",
    "\n",
    "# TODO: Run this cell and Show filter visualizations for the best set of weights you obtain.\n",
    "# Report the 2 hyperparameters you used to obtain the best model.\n",
    "\n",
    "# NOTE: You need to set `best_learning_rate` and `best_weight_decay` to the values that gave the highest accuracy\n",
    "print(\"Best LR:\", best_learning_rate)\n",
    "print(\"Best Weight Decay:\", best_weight_decay)\n",
    "\n",
    "# NOTE: You need to set `best_weights` to the weights with the highest accuracy\n",
    "w = best_weights[:, :-1]\n",
    "w = w.reshape(10, 3, 32, 32).transpose(0, 2, 3, 1)\n",
    "\n",
    "w_min, w_max = np.min(w), np.max(w)\n",
    "\n",
    "fig = plt.figure(figsize=(16, 16))\n",
    "classes = [\n",
    "    \"plane\",\n",
    "    \"car\",\n",
    "    \"bird\",\n",
    "    \"cat\",\n",
    "    \"deer\",\n",
    "    \"dog\",\n",
    "    \"frog\",\n",
    "    \"horse\",\n",
    "    \"ship\",\n",
    "    \"truck\",\n",
    "]\n",
    "for i in range(10):\n",
    "    fig.add_subplot(2, 5, i + 1)\n",
    "\n",
    "    # Rescale the weights to be between 0 and 255\n",
    "    wimg = 255.0 * (w[i, :, :, :].squeeze() - w_min) / (w_max - w_min)\n",
    "    plt.imshow(wimg.astype(int))\n",
    "    plt.axis(\"off\")\n",
    "    plt.title(classes[i])\n",
    "plt.show()\n"
   ]
  },
  {
   "cell_type": "markdown",
   "metadata": {},
   "source": [
    "#### Inline Question 3. (10%)\n",
    "\n",
    "a. Compare and contrast the performance of the 2 classifiers i.e. Linear Regression and Logistic Regression.\n",
    "b. Which classifier would you deploy for your multiclass classification project and why?\n"
   ]
  },
  {
   "cell_type": "markdown",
   "metadata": {},
   "source": [
    "#### Your Answer:\n"
   ]
  }
 ],
 "metadata": {
  "kernelspec": {
   "display_name": "Python 3 (ipykernel)",
   "language": "python",
   "name": "python3"
  },
  "language_info": {
   "codemirror_mode": {
    "name": "ipython",
    "version": 3
   },
   "file_extension": ".py",
   "mimetype": "text/x-python",
   "name": "python",
   "nbconvert_exporter": "python",
   "pygments_lexer": "ipython3",
   "version": "3.9.5"
  }
 },
 "nbformat": 4,
 "nbformat_minor": 4
}
