{
 "cells": [
  {
   "cell_type": "markdown",
   "metadata": {},
   "source": [
    "# ECE 285 Assignment 1: KNN\n",
    "\n",
    "For this part of assignment, you are tasked to implement KNN algorithm and test it on the a subset of CIFAR10 dataset.\n",
    "\n",
    "You sould run the whole notebook and answer the question in the notebook.\n",
    "\n",
    "TO SUBMIT: PDF of this notebook with all the required outputs and answers."
   ]
  },
  {
   "cell_type": "code",
   "execution_count": 1,
   "metadata": {},
   "outputs": [],
   "source": [
    "# Import Packages\n",
    "import numpy as np\n",
    "import matplotlib.pyplot as plt"
   ]
  },
  {
   "cell_type": "markdown",
   "metadata": {},
   "source": [
    "## Prepare Dataset\n",
    "\n",
    "Since CIFAR10 is a relative large dataset, and KNN is quite time-consuming method, we only a small sub-set of CIFAR10 for KNN part"
   ]
  },
  {
   "cell_type": "code",
   "execution_count": 2,
   "metadata": {},
   "outputs": [
    {
     "name": "stdout",
     "output_type": "stream",
     "text": [
      "dict_keys(['x_train', 'y_train', 'x_val', 'y_val', 'x_test', 'y_test'])\n",
      "Training Set Data  Shape:  (5000, 3072)\n",
      "Training Set Label Shape:  (5000,)\n"
     ]
    }
   ],
   "source": [
    "from ece285.utils.data_processing import get_cifar10_data\n",
    "\n",
    "# Use a subset of CIFAR10 for KNN assignments\n",
    "dataset = get_cifar10_data(subset_train=5000, subset_val=250, subset_test=500)\n",
    "\n",
    "print(dataset.keys())\n",
    "print(\"Training Set Data  Shape: \", dataset[\"x_train\"].shape)\n",
    "print(\"Training Set Label Shape: \", dataset[\"y_train\"].shape)"
   ]
  },
  {
   "cell_type": "markdown",
   "metadata": {},
   "source": [
    "## Implementation (60%)\n",
    "\n",
    "You need to implement the KNN method in `algorithms/knn.py`. You need to fill in the prediction function(since the training of KNN is just remembering the training set).\n",
    "\n",
    "For KNN implementation, you are tasked to implement two version of it.\n",
    "\n",
    "* Two Loop Version: use one loop to iterate through training samples and one loop to iterate through test samples\n",
    "* One Loop Version: use one loop to iterate through test samples and use broadcast feature of numpy to calculate all the distance at once\n",
    "\n",
    "Note: It is possible to build a Fully Vectorized Version without explicit for loop to calculate the distance, but you do not have to do it in this assignment. You could use the fully vectorized version to replace the loop versions as well.\n",
    "\n",
    "For distance function, in this assignment, we use Eucliean distance between samples."
   ]
  },
  {
   "cell_type": "code",
   "execution_count": 3,
   "metadata": {},
   "outputs": [],
   "source": [
    "from ece285.algorithms import KNN\n",
    "\n",
    "knn = KNN(num_class=10)\n",
    "knn.train(\n",
    "    x_train=dataset[\"x_train\"],\n",
    "    y_train=dataset[\"y_train\"],\n",
    "    k=5,\n",
    ")"
   ]
  },
  {
   "cell_type": "markdown",
   "metadata": {},
   "source": [
    "### Compare the time consumption of different method\n",
    "\n",
    "In this section, you will test your different implementation of KNN method, and compare their speed."
   ]
  },
  {
   "cell_type": "code",
   "execution_count": 4,
   "metadata": {},
   "outputs": [],
   "source": [
    "from ece285.utils.evaluation import get_classification_accuracy"
   ]
  },
  {
   "cell_type": "code",
   "execution_count": 5,
   "metadata": {},
   "outputs": [],
   "source": [
    "knn = KNN(num_class=10)\n",
    "knn.train(\n",
    "    x_train=dataset[\"x_train\"],\n",
    "    y_train=dataset[\"y_train\"],\n",
    "    k=5,\n",
    ")"
   ]
  },
  {
   "cell_type": "markdown",
   "metadata": {},
   "source": [
    "#### Two Loop Version:"
   ]
  },
  {
   "cell_type": "code",
   "execution_count": 6,
   "metadata": {
    "scrolled": false
   },
   "outputs": [
    {
     "name": "stdout",
     "output_type": "stream",
     "text": [
      "Two Loop Prediction Time: 32.387789249420166\n",
      "Test Accuracy: 0.29\n"
     ]
    }
   ],
   "source": [
    "import time\n",
    "\n",
    "c_t = time.time()\n",
    "prediction = knn.predict(dataset[\"x_test\"], loop_count=2)\n",
    "print(\"Two Loop Prediction Time:\", time.time() - c_t)\n",
    "\n",
    "test_acc = get_classification_accuracy(prediction, dataset[\"y_test\"])\n",
    "print(\"Test Accuracy:\", test_acc)"
   ]
  },
  {
   "cell_type": "code",
   "execution_count": 7,
   "metadata": {},
   "outputs": [
    {
     "data": {
      "text/plain": [
       "array([4., 8., 8., 8., 4., 6., 6., 2., 2., 8., 0., 8., 5., 6., 8., 2., 5.,\n",
       "       4., 8., 2., 2., 0., 0., 4., 2., 4., 2., 7., 2., 2., 6., 2., 4., 6.,\n",
       "       8., 7., 2., 0., 2., 2., 8., 6., 2., 4., 0., 0., 5., 0., 4., 2., 8.,\n",
       "       8., 4., 2., 8., 8., 5., 6., 0., 0., 4., 6., 6., 3., 4., 2., 8., 2.,\n",
       "       3., 9., 2., 6., 8., 8., 0., 4., 2., 3., 6., 8., 8., 3., 6., 0., 2.,\n",
       "       8., 2., 8., 8., 8., 0., 2., 8., 6., 4., 2., 4., 0., 0., 4., 4., 4.,\n",
       "       6., 4., 4., 1., 6., 6., 5., 5., 4., 0., 6., 0., 4., 4., 2., 8., 4.,\n",
       "       4., 8., 4., 2., 6., 8., 4., 0., 2., 4., 2., 2., 1., 8., 6., 6., 2.,\n",
       "       9., 0., 2., 8., 2., 2., 6., 2., 8., 2., 6., 5., 5., 8., 0., 3., 2.,\n",
       "       0., 4., 4., 0., 8., 5., 8., 0., 4., 6., 4., 0., 0., 8., 2., 5., 0.,\n",
       "       8., 7., 2., 8., 4., 4., 0., 4., 6., 0., 8., 4., 2., 4., 0., 0., 6.,\n",
       "       6., 8., 8., 3., 4., 2., 3., 4., 2., 8., 0., 4., 2., 2., 0., 8., 2.,\n",
       "       8., 4., 0., 2., 2., 8., 4., 8., 2., 4., 8., 2., 0., 9., 0., 4., 6.,\n",
       "       4., 8., 0., 3., 7., 4., 2., 4., 4., 3., 1., 2., 4., 0., 2., 4., 9.,\n",
       "       0., 5., 0., 8., 8., 0., 2., 4., 4., 0., 4., 3., 2., 6., 4., 2., 6.,\n",
       "       8., 4., 8., 8., 4., 5., 8., 4., 2., 2., 8., 8., 4., 0., 2., 2., 2.,\n",
       "       6., 3., 8., 6., 9., 4., 2., 6., 7., 4., 2., 8., 0., 4., 5., 8., 8.,\n",
       "       4., 8., 4., 2., 8., 4., 4., 4., 0., 8., 4., 2., 2., 4., 2., 4., 8.,\n",
       "       8., 4., 8., 2., 8., 4., 0., 0., 3., 0., 2., 4., 3., 4., 5., 5., 6.,\n",
       "       4., 6., 8., 4., 2., 4., 4., 4., 9., 2., 4., 4., 2., 6., 8., 2., 4.,\n",
       "       4., 6., 0., 5., 8., 2., 4., 2., 8., 4., 9., 4., 8., 8., 2., 5., 2.,\n",
       "       2., 8., 0., 2., 0., 8., 0., 0., 8., 4., 2., 0., 4., 2., 8., 4., 8.,\n",
       "       4., 7., 8., 8., 4., 2., 2., 8., 0., 0., 2., 0., 8., 2., 2., 6., 0.,\n",
       "       2., 2., 6., 3., 4., 2., 4., 0., 3., 1., 4., 4., 8., 4., 6., 0., 4.,\n",
       "       0., 2., 4., 8., 2., 4., 9., 8., 0., 7., 4., 7., 6., 4., 8., 3., 2.,\n",
       "       8., 5., 4., 2., 6., 2., 8., 5., 4., 8., 4., 0., 4., 6., 1., 8., 2.,\n",
       "       9., 0., 4., 4., 0., 0., 2., 0., 6., 9., 0., 2., 9., 2., 2., 2., 6.,\n",
       "       8., 4., 4., 2., 4., 2., 4., 4., 2., 3., 2., 2., 4., 0., 8., 5., 4.,\n",
       "       4., 0., 4., 4., 8., 2., 0., 4., 2., 8., 9., 4., 0., 0., 8., 8., 8.,\n",
       "       1., 8., 8., 8., 2., 4., 0.])"
      ]
     },
     "execution_count": 7,
     "metadata": {},
     "output_type": "execute_result"
    }
   ],
   "source": [
    "prediction"
   ]
  },
  {
   "cell_type": "markdown",
   "metadata": {},
   "source": [
    "#### One Loop Version "
   ]
  },
  {
   "cell_type": "code",
   "execution_count": 8,
   "metadata": {},
   "outputs": [
    {
     "name": "stdout",
     "output_type": "stream",
     "text": [
      "One Loop Prediction Time: 107.23934006690979\n",
      "Test Accuracy: 0.29\n"
     ]
    }
   ],
   "source": [
    "import time\n",
    "\n",
    "c_t = time.time()\n",
    "prediction = knn.predict(dataset[\"x_test\"], loop_count=1)\n",
    "print(\"One Loop Prediction Time:\", time.time() - c_t)\n",
    "\n",
    "test_acc = get_classification_accuracy(prediction, dataset[\"y_test\"])\n",
    "print(\"Test Accuracy:\", test_acc)"
   ]
  },
  {
   "cell_type": "code",
   "execution_count": 9,
   "metadata": {},
   "outputs": [
    {
     "data": {
      "text/plain": [
       "array([4., 8., 8., 8., 4., 6., 6., 2., 2., 8., 0., 8., 5., 6., 8., 2., 5.,\n",
       "       4., 8., 2., 2., 0., 0., 4., 2., 4., 2., 7., 2., 2., 6., 2., 4., 6.,\n",
       "       8., 7., 2., 0., 2., 2., 8., 6., 2., 4., 0., 0., 5., 0., 4., 2., 8.,\n",
       "       8., 4., 2., 8., 8., 5., 6., 0., 0., 4., 6., 6., 3., 4., 2., 8., 2.,\n",
       "       3., 9., 2., 6., 8., 8., 0., 4., 2., 3., 6., 8., 8., 3., 6., 0., 2.,\n",
       "       8., 2., 8., 8., 8., 0., 2., 8., 6., 4., 2., 4., 0., 0., 4., 4., 4.,\n",
       "       6., 4., 4., 1., 6., 6., 5., 5., 4., 0., 6., 0., 4., 4., 2., 8., 4.,\n",
       "       4., 8., 4., 2., 6., 8., 4., 0., 2., 4., 2., 2., 1., 8., 6., 6., 2.,\n",
       "       9., 0., 2., 8., 2., 2., 6., 2., 8., 2., 6., 5., 5., 8., 0., 3., 2.,\n",
       "       0., 4., 4., 0., 8., 5., 8., 0., 4., 6., 4., 0., 0., 8., 2., 5., 0.,\n",
       "       8., 7., 2., 8., 4., 4., 0., 4., 6., 0., 8., 4., 2., 4., 0., 0., 6.,\n",
       "       6., 8., 8., 3., 4., 2., 3., 4., 2., 8., 0., 4., 2., 2., 0., 8., 2.,\n",
       "       8., 4., 0., 2., 2., 8., 4., 8., 2., 4., 8., 2., 0., 9., 0., 4., 6.,\n",
       "       4., 8., 0., 3., 7., 4., 2., 4., 4., 3., 1., 2., 4., 0., 2., 4., 9.,\n",
       "       0., 5., 0., 8., 8., 0., 2., 4., 4., 0., 4., 3., 2., 6., 4., 2., 6.,\n",
       "       8., 4., 8., 8., 4., 5., 8., 4., 2., 2., 8., 8., 4., 0., 2., 2., 2.,\n",
       "       6., 3., 8., 6., 9., 4., 2., 6., 7., 4., 2., 8., 0., 4., 5., 8., 8.,\n",
       "       4., 8., 4., 2., 8., 4., 4., 4., 0., 8., 4., 2., 2., 4., 2., 4., 8.,\n",
       "       8., 4., 8., 2., 8., 4., 0., 0., 3., 0., 2., 4., 3., 4., 5., 5., 6.,\n",
       "       4., 6., 8., 4., 2., 4., 4., 4., 9., 2., 4., 4., 2., 6., 8., 2., 4.,\n",
       "       4., 6., 0., 5., 8., 2., 4., 2., 8., 4., 9., 4., 8., 8., 2., 5., 2.,\n",
       "       2., 8., 0., 2., 0., 8., 0., 0., 8., 4., 2., 0., 4., 2., 8., 4., 8.,\n",
       "       4., 7., 8., 8., 4., 2., 2., 8., 0., 0., 2., 0., 8., 2., 2., 6., 0.,\n",
       "       2., 2., 6., 3., 4., 2., 4., 0., 3., 1., 4., 4., 8., 4., 6., 0., 4.,\n",
       "       0., 2., 4., 8., 2., 4., 9., 8., 0., 7., 4., 7., 6., 4., 8., 3., 2.,\n",
       "       8., 5., 4., 2., 6., 2., 8., 5., 4., 8., 4., 0., 4., 6., 1., 8., 2.,\n",
       "       9., 0., 4., 4., 0., 0., 2., 0., 6., 9., 0., 2., 9., 2., 2., 2., 6.,\n",
       "       8., 4., 4., 2., 4., 2., 4., 4., 2., 3., 2., 2., 4., 0., 8., 5., 4.,\n",
       "       4., 0., 4., 4., 8., 2., 0., 4., 2., 8., 9., 4., 0., 0., 8., 8., 8.,\n",
       "       1., 8., 8., 8., 2., 4., 0.])"
      ]
     },
     "execution_count": 9,
     "metadata": {},
     "output_type": "execute_result"
    }
   ],
   "source": [
    "prediction"
   ]
  },
  {
   "cell_type": "markdown",
   "metadata": {},
   "source": [
    "**Your different implementation should output the exact same result**\n"
   ]
  },
  {
   "cell_type": "markdown",
   "metadata": {},
   "source": [
    "## Test different Hyper-parameter(20%)\n",
    "\n",
    "For KNN, there is only one hyper-parameter of the algorithm: How many nearest neighbour to use(**K**).\n",
    "\n",
    "Here, you are provided the code to test different k for the same dataset."
   ]
  },
  {
   "cell_type": "code",
   "execution_count": 11,
   "metadata": {},
   "outputs": [
    {
     "name": "stdout",
     "output_type": "stream",
     "text": [
      "Finish k = 1, acc = 0.274\n",
      "Finish k = 3, acc = 0.28\n",
      "Finish k = 5, acc = 0.29\n",
      "Finish k = 10, acc = 0.288\n",
      "Finish k = 20, acc = 0.266\n",
      "Finish k = 50, acc = 0.246\n"
     ]
    },
    {
     "data": {
      "image/png": "[encoded data removed]",
      "text/plain": [
       "<Figure size 432x288 with 1 Axes>"
      ]
     },
     "metadata": {
      "needs_background": "light"
     },
     "output_type": "display_data"
    }
   ],
   "source": [
    "accuracies = []\n",
    "\n",
    "k_candidates = [1, 3, 5, 10, 20, 50]\n",
    "# k_candidates = [1]\n",
    "for k_cand in k_candidates:\n",
    "    prediction = knn.predict(x_test=dataset[\"x_test\"], k=k_cand)\n",
    "    acc = get_classification_accuracy(prediction, dataset[\"y_test\"])\n",
    "    accuracies.append(acc)\n",
    "    print(\"Finish k = {}, acc = {}\".format(k_cand, acc))\n",
    "plt.ylabel(\"Accuracy\")\n",
    "plt.xlabel(\"K\")\n",
    "plt.plot(k_candidates, accuracies)\n",
    "plt.show()"
   ]
  },
  {
   "cell_type": "markdown",
   "metadata": {},
   "source": [
    "### Inline Question 1:\n",
    "\n",
    "Please describe the output result you get, and provide some explanation as well.\n",
    "\n",
    "\n",
    "### Your Answer:\n",
    "\n",
    "**Put Your Answer Here**\n",
    "\n",
    "I found that the accuracy would be affected by k, but the result is not linear dependent. When k is around 5, we could get the highest accuracy. However, when k is lower or higher than the value, the performance degrades. If k is too low, it takes a little number of labels to predict. If k is too high, the result would be affected by unreliable samples."
   ]
  },
  {
   "cell_type": "markdown",
   "metadata": {},
   "source": [
    "## Try different feature representation(20%)\n",
    "\n",
    "Since machine learning method rely heavily on the feature extraction, you will see how different feature representation affect the performance of the algorithm in this section. \n",
    "\n",
    "You are provided the code about using **HOG** descriptor to represent samples in the notebook."
   ]
  },
  {
   "cell_type": "code",
   "execution_count": 12,
   "metadata": {},
   "outputs": [
    {
     "name": "stdout",
     "output_type": "stream",
     "text": [
      "Start Processing\n",
      "Processing Time: 10.334533929824829\n"
     ]
    }
   ],
   "source": [
    "from ece285.utils.data_processing import get_cifar10_data\n",
    "from ece285.utils.data_processing import HOG_preprocess\n",
    "from functools import partial\n",
    "\n",
    "# Delete previous dataset to save memory\n",
    "del dataset\n",
    "del knn\n",
    "\n",
    "# Use a subset of CIFAR10 for KNN assignments\n",
    "hog_p_func = partial(\n",
    "    HOG_preprocess,\n",
    "    orientations=9,\n",
    "    pixels_per_cell=(4, 4),\n",
    "    cells_per_block=(1, 1),\n",
    "    visualize=False,\n",
    "    multichannel=True,\n",
    ")\n",
    "dataset = get_cifar10_data(\n",
    "    feature_process=hog_p_func, subset_train=5000, subset_val=250, subset_test=500\n",
    ")\n"
   ]
  },
  {
   "cell_type": "code",
   "execution_count": 13,
   "metadata": {},
   "outputs": [
    {
     "data": {
      "image/png": "[encoded data removed]",
      "text/plain": [
       "<Figure size 432x288 with 1 Axes>"
      ]
     },
     "metadata": {
      "needs_background": "light"
     },
     "output_type": "display_data"
    }
   ],
   "source": [
    "knn = KNN(num_class=10)\n",
    "knn.train(\n",
    "    x_train=dataset[\"x_train\"],\n",
    "    y_train=dataset[\"y_train\"],\n",
    "    k=5,\n",
    ")\n",
    "accuracies = []\n",
    "\n",
    "k_candidates = [1, 3, 5, 10, 20, 50]\n",
    "for k_cand in k_candidates:\n",
    "    prediction = knn.predict(x_test=dataset[\"x_test\"], k=k_cand)\n",
    "    acc = get_classification_accuracy(prediction, dataset[\"y_test\"])\n",
    "    accuracies.append(acc)\n",
    "\n",
    "plt.ylabel(\"Accuracy\")\n",
    "plt.xlabel(\"K\")\n",
    "plt.plot(k_candidates, accuracies)\n",
    "plt.show()\n"
   ]
  },
  {
   "cell_type": "markdown",
   "metadata": {},
   "source": [
    "### Inline Question 2:\n",
    "\n",
    "Please describe the output result you get, compare with the result you get in the previous section, and provide some explanation as well.\n",
    "\n",
    "### Your Answer:\n",
    "\n",
    "**Put Your Answer Here**\n",
    "I found that the accuracy would be affected by k, but the result is not linear dependent as well. When k is around 1, we could get the highest accuracy. Therefore, we could conclude that the extracted feature would affect the result. When k is lower or higher than the value, the performance degrades."
   ]
  }
 ],
 "metadata": {
  "kernelspec": {
   "display_name": "Python 3 (ipykernel)",
   "language": "python",
   "name": "python3"
  },
  "language_info": {
   "codemirror_mode": {
    "name": "ipython",
    "version": 3
   },
   "file_extension": ".py",
   "mimetype": "text/x-python",
   "name": "python",
   "nbconvert_exporter": "python",
   "pygments_lexer": "ipython3",
   "version": "3.9.5"
  }
 },
 "nbformat": 4,
 "nbformat_minor": 2
}
