{
 "cells": [
  {
   "cell_type": "markdown",
   "metadata": {},
   "source": [
    "# ECE 285 Assignment 1: Logistic Regression\n",
    "\n",
    "For this part of assignment, you are tasked to implement a logistic regression algorithm for multiclass classification and test it on the CIFAR10 dataset.\n",
    "\n",
    "You sould run the whole notebook and answer the questions in the notebook.\n",
    "\n",
    "TO SUBMIT: PDF of this notebook with all the required outputs and answers.\n"
   ]
  },
  {
   "cell_type": "code",
   "execution_count": 1,
   "metadata": {
    "scrolled": true
   },
   "outputs": [
    {
     "name": "stdout",
     "output_type": "stream",
     "text": [
      "dict_keys(['x_train', 'y_train', 'x_val', 'y_val', 'x_test', 'y_test'])\n",
      "Training Set Data  Shape:  (5000, 3072)\n",
      "Training Set Label Shape:  (5000,)\n",
      "Validation Set Data  Shape:  (250, 3072)\n",
      "Validation Set Label Shape:  (250,)\n",
      "Test Set Data  Shape:  (500, 3072)\n",
      "Test Set Label Shape:  (500,)\n"
     ]
    }
   ],
   "source": [
    "# Prepare Packages\n",
    "import numpy as np\n",
    "import matplotlib.pyplot as plt\n",
    "from tqdm import tqdm\n",
    "\n",
    "from ece285.utils.data_processing import get_cifar10_data\n",
    "\n",
    "# Use a subset of CIFAR10 for KNN assignments\n",
    "dataset = get_cifar10_data(\n",
    "    subset_train=5000,\n",
    "    subset_val=250,\n",
    "    subset_test=500,\n",
    ")\n",
    "\n",
    "print(dataset.keys())\n",
    "print(\"Training Set Data  Shape: \", dataset[\"x_train\"].shape)\n",
    "print(\"Training Set Label Shape: \", dataset[\"y_train\"].shape)\n",
    "print(\"Validation Set Data  Shape: \", dataset[\"x_val\"].shape)\n",
    "print(\"Validation Set Label Shape: \", dataset[\"y_val\"].shape)\n",
    "print(\"Test Set Data  Shape: \", dataset[\"x_test\"].shape)\n",
    "print(\"Test Set Label Shape: \", dataset[\"y_test\"].shape)\n"
   ]
  },
  {
   "cell_type": "markdown",
   "metadata": {},
   "source": [
    "# Logistic Regression for multi-class classification\n"
   ]
  },
  {
   "cell_type": "markdown",
   "metadata": {},
   "source": [
    "A Logistic Regression Algorithm has 3 hyperparameters that you can experiment with:\n",
    "\n",
    "- **Learning rate** - controls how much we change the current weights of the classifier during each update. We set it at a default value of 0.5, and later you are asked to experiment with different values. We recommend looking at the graphs and observing how the performance of the classifier changes with different learning rate.\n",
    "- **Number of Epochs** - An epoch is a complete iterative pass over all of the data in the dataset. During an epoch we predict a label using the classifier and then update the weights of the classifier according the linear classifier update rule for each sample in the training set. We evaluate our models after every 10 epochs and save the accuracies, which are later used to plot the training, validation and test VS epoch curves.\n",
    "- **Weight Decay** - Regularization can be used to constrain the weights of the classifier and prevent their values from blowing up. Regularization helps in combatting overfitting. You will be using the 'weight_decay' term to introduce regularization in the classifier.\n",
    "\n",
    "The only way how a Logistic Regression based classification algorithm is different from a Linear Regression algorithm is that in the former we additionally pass the classifier outputs into a sigmoid function which squashes the output in the (0,1) range. Essentially these values then represent the probabilities of that sample belonging to class particular classes\n"
   ]
  },
  {
   "cell_type": "markdown",
   "metadata": {},
   "source": [
    "### Implementation (40%)\n",
    "\n",
    "You need to implement the Linear Regression method in `algorithms/logistic_regression.py`. You need to fill in the sigmoid function, training function as well as the prediction function.\n"
   ]
  },
  {
   "cell_type": "code",
   "execution_count": 2,
   "metadata": {},
   "outputs": [],
   "source": [
    "# Import the algorithm implementation (TODO: Complete the Logistic Regression in algorithms/logistic_regression.py)\n",
    "from ece285.algorithms import Logistic\n",
    "from ece285.utils.evaluation import get_classification_accuracy\n",
    "\n",
    "num_classes = 10  # Cifar10 dataset has 10 different classes\n",
    "\n",
    "# Initialize hyper-parameters\n",
    "learning_rate = 0.01  # You will be later asked to experiment with different learning rates and report results\n",
    "num_epochs_total = 1000  # Total number of epochs to train the classifier\n",
    "epochs_per_evaluation = 10  # Epochs per step of evaluation; We will evaluate our model regularly during training\n",
    "N, D = dataset[\n",
    "    \"x_train\"\n",
    "].shape  # Get training data shape, N: Number of examples, D:Dimensionality of the data\n",
    "weight_decay = 0.00002\n",
    "\n",
    "x_train = dataset[\"x_train\"].copy()\n",
    "y_train = dataset[\"y_train\"].copy()\n",
    "x_val = dataset[\"x_val\"].copy()\n",
    "y_val = dataset[\"y_val\"].copy()\n",
    "x_test = dataset[\"x_test\"].copy()\n",
    "y_test = dataset[\"y_test\"].copy()\n",
    "\n",
    "# Insert additional scalar term 1 in the samples to account for the bias as discussed in class\n",
    "x_train = np.insert(x_train, D, values=1, axis=1)\n",
    "x_val = np.insert(x_val, D, values=1, axis=1)\n",
    "x_test = np.insert(x_test, D, values=1, axis=1)"
   ]
  },
  {
   "cell_type": "code",
   "execution_count": 3,
   "metadata": {},
   "outputs": [],
   "source": [
    "# Training and evaluation function -> Outputs accuracy data\n",
    "def train(learning_rate_, weight_decay_):\n",
    "    # Create a linear regression object\n",
    "    logistic_regression = Logistic(\n",
    "        num_classes, learning_rate_, epochs_per_evaluation, weight_decay_\n",
    "    )\n",
    "\n",
    "    # Randomly initialize the weights and biases\n",
    "    weights = np.random.randn(num_classes, D + 1) * 0.0001\n",
    "\n",
    "    train_accuracies, val_accuracies, test_accuracies = [], [], []\n",
    "\n",
    "    # Train the classifier\n",
    "    for _ in tqdm(range(int(num_epochs_total / epochs_per_evaluation))):\n",
    "        # Train the classifier on the training data\n",
    "        weights = logistic_regression.train(x_train, y_train, weights)\n",
    "\n",
    "        # Evaluate the trained classifier on the training dataset\n",
    "        y_pred_train = logistic_regression.predict(x_train)\n",
    "        train_accuracies.append(get_classification_accuracy(y_pred_train, y_train))\n",
    "\n",
    "        # Evaluate the trained classifier on the validation dataset\n",
    "        y_pred_val = logistic_regression.predict(x_val)\n",
    "        val_accuracies.append(get_classification_accuracy(y_pred_val, y_val))\n",
    "\n",
    "        # Evaluate the trained classifier on the test dataset\n",
    "        y_pred_test = logistic_regression.predict(x_test)\n",
    "        test_accuracies.append(get_classification_accuracy(y_pred_test, y_test))\n",
    "\n",
    "    return train_accuracies, val_accuracies, test_accuracies, weights\n"
   ]
  },
  {
   "cell_type": "code",
   "execution_count": 4,
   "metadata": {},
   "outputs": [],
   "source": [
    "import matplotlib.pyplot as plt\n",
    "\n",
    "\n",
    "def plot_accuracies(train_acc, val_acc, test_acc):\n",
    "    # Plot Accuracies vs Epochs graph for all the three\n",
    "    epochs = np.arange(0, int(num_epochs_total / epochs_per_evaluation))\n",
    "    plt.ylabel(\"Accuracy\")\n",
    "    plt.xlabel(\"Epoch/10\")\n",
    "    plt.plot(epochs, train_acc, epochs, val_acc, epochs, test_acc)\n",
    "    plt.legend([\"Training\", \"Validation\", \"Testing\"])\n",
    "    plt.show()\n"
   ]
  },
  {
   "cell_type": "code",
   "execution_count": 5,
   "metadata": {},
   "outputs": [
    {
     "name": "stderr",
     "output_type": "stream",
     "text": [
      "\r",
      "  0%|          | 0/100 [00:00<?, ?it/s]"
     ]
    },
    {
     "name": "stdout",
     "output_type": "stream",
     "text": [
      "6.932540087676567\n",
      "Epoch 0, Loss 6.932540087677183\n",
      "3.5165692053317223\n",
      "3.418425409793438\n",
      "3.379101394425952\n",
      "3.361897844478\n",
      "3.3509052760428744\n",
      "3.3415730152166385\n",
      "3.3328384018436554\n",
      "3.324462884507205\n",
      "3.3163857671051002\n"
     ]
    },
    {
     "name": "stderr",
     "output_type": "stream",
     "text": [
      "\r",
      "  1%|          | 1/100 [00:02<04:33,  2.76s/it]"
     ]
    },
    {
     "name": "stdout",
     "output_type": "stream",
     "text": [
      "3.308584202611597\n",
      "Epoch 0, Loss 3.3085842027676953\n",
      "3.301043767757864\n",
      "3.29375227560423\n",
      "3.286698448162124\n",
      "3.2798716142692306\n",
      "3.273261627239394\n",
      "3.2668588307396527\n",
      "3.260654035657196\n",
      "3.2546384996934883\n",
      "3.2488039078298483\n"
     ]
    },
    {
     "name": "stderr",
     "output_type": "stream",
     "text": [
      "\r",
      "  2%|▏         | 2/100 [00:05<04:27,  2.73s/it]"
     ]
    },
    {
     "name": "stdout",
     "output_type": "stream",
     "text": [
      "3.2431423532717574\n",
      "Epoch 0, Loss 3.2431423534727375\n",
      "3.237646318823736\n",
      "3.232308658726343\n",
      "3.2271225810001427\n",
      "3.2220816303373736\n",
      "3.217179671573519\n",
      "3.2124108737620802\n",
      "3.207769694867507\n",
      "3.2032508670839546\n",
      "3.1988493827813627\n"
     ]
    },
    {
     "name": "stderr",
     "output_type": "stream",
     "text": [
      "\r",
      "  3%|▎         | 3/100 [00:08<04:23,  2.72s/it]"
     ]
    },
    {
     "name": "stdout",
     "output_type": "stream",
     "text": [
      "3.1945604810750643\n",
      "Epoch 0, Loss 3.1945604813360906\n",
      "3.1903796350108906\n",
      "3.1863025393541786\n",
      "3.182325098968354\n",
      "3.178443417766507\n",
      "3.174653788217783\n",
      "3.1709526813891773\n",
      "3.1673367375024783\n",
      "3.163802756985636\n",
      "3.16034769199756\n"
     ]
    },
    {
     "name": "stderr",
     "output_type": "stream",
     "text": [
      "\r",
      "  4%|▍         | 4/100 [00:10<04:23,  2.74s/it]"
     ]
    },
    {
     "name": "stdout",
     "output_type": "stream",
     "text": [
      "3.156968638405354\n",
      "Epoch 0, Loss 3.1569686387348956\n",
      "3.1536628281931547\n",
      "3.150427622282046\n",
      "3.1472605037409735\n",
      "3.144159071369079\n",
      "3.141121033630473\n",
      "3.138144202923139\n",
      "3.1352264901642855\n",
      "3.132365899675222\n",
      "3.1295605243495275\n"
     ]
    },
    {
     "name": "stderr",
     "output_type": "stream",
     "text": [
      "\r",
      "  5%|▌         | 5/100 [00:14<04:41,  2.97s/it]"
     ]
    },
    {
     "name": "stdout",
     "output_type": "stream",
     "text": [
      "3.12680854108899\n",
      "Epoch 0, Loss 3.126808541491828\n",
      "3.124108206492551\n",
      "3.1214578527841517\n",
      "3.1188558839661176\n",
      "3.1163007721853657\n",
      "3.113791054300396\n",
      "3.111325328637651\n",
      "3.1089022519264606\n",
      "3.1065205364023503\n",
      "3.1041789470690886\n"
     ]
    },
    {
     "name": "stderr",
     "output_type": "stream",
     "text": [
      "\r",
      "  6%|▌         | 6/100 [00:17<04:41,  2.99s/it]"
     ]
    },
    {
     "name": "stdout",
     "output_type": "stream",
     "text": [
      "3.101876299110355\n",
      "Epoch 0, Loss 3.1018762995891733\n",
      "3.099611455442449\n",
      "3.0973833243999325\n",
      "3.095190857546573\n",
      "3.093033047604387\n",
      "3.090908926494005\n",
      "3.0888175634799806\n",
      "3.0867580634150156\n",
      "3.0847295650774558\n",
      "3.0827312395967277\n"
     ]
    },
    {
     "name": "stderr",
     "output_type": "stream",
     "text": [
      "\r",
      "  7%|▋         | 7/100 [00:21<05:03,  3.26s/it]"
     ]
    },
    {
     "name": "stdout",
     "output_type": "stream",
     "text": [
      "3.080762288961696\n",
      "Epoch 0, Loss 3.080762289517957\n",
      "3.078821944607237\n",
      "3.0769094660745764\n",
      "3.0750241397412226\n",
      "3.0731652776165657\n",
      "3.071332216199438\n",
      "3.06952431539417\n",
      "3.0677409574818557\n",
      "3.0659815461437536\n",
      "3.0642455055339233\n"
     ]
    },
    {
     "name": "stderr",
     "output_type": "stream",
     "text": [
      "\r",
      "  8%|▊         | 8/100 [00:24<05:03,  3.30s/it]"
     ]
    },
    {
     "name": "stdout",
     "output_type": "stream",
     "text": [
      "3.062532279398374\n",
      "Epoch 0, Loss 3.06253228003281\n",
      "3.0608413302381443\n",
      "3.0591721385139174\n",
      "3.0575242018898723\n",
      "3.0558970345146528\n",
      "3.054290166337413\n",
      "3.0527031424570605\n",
      "3.0511355225028907\n",
      "3.0495868800449415\n",
      "3.0480568020324625\n"
     ]
    },
    {
     "name": "stderr",
     "output_type": "stream",
     "text": [
      "\r",
      "  9%|▉         | 9/100 [00:27<04:51,  3.21s/it]"
     ]
    },
    {
     "name": "stdout",
     "output_type": "stream",
     "text": [
      "3.046544888259015\n",
      "Epoch 0, Loss 3.0465448889719102\n",
      "3.0450507508527904\n",
      "3.0435740137908036\n",
      "3.0421143124357224\n",
      "3.040671293094142\n",
      "3.0392446125951857\n",
      "3.037833937888387\n",
      "3.0364389456598477\n",
      "3.0350593219657473\n",
      "3.033694761882303\n"
     ]
    },
    {
     "name": "stderr",
     "output_type": "stream",
     "text": [
      "\r",
      " 10%|█         | 10/100 [00:29<04:20,  2.90s/it]"
     ]
    },
    {
     "name": "stdout",
     "output_type": "stream",
     "text": [
      "3.0323449691713584\n",
      "Epoch 0, Loss 3.0323449699627183\n",
      "3.0310096559607986\n",
      "3.029688542439053\n",
      "3.0283813565629796\n",
      "3.027087833778462\n",
      "3.0258077167530835\n",
      "3.024540755120299\n",
      "3.0232867052345256\n",
      "3.0220453299366175\n",
      "3.0208163983292433\n"
     ]
    },
    {
     "name": "stderr",
     "output_type": "stream",
     "text": [
      "\r",
      " 11%|█         | 11/100 [00:33<04:42,  3.17s/it]"
     ]
    },
    {
     "name": "stdout",
     "output_type": "stream",
     "text": [
      "3.0195996855616505\n",
      "Epoch 0, Loss 3.0195996864313033\n",
      "3.0183949726234065\n",
      "3.017202046146656\n",
      "3.0160206982165048\n",
      "3.014850726189142\n",
      "3.0136919325173417\n",
      "3.0125441245829854\n",
      "3.011407114536297\n",
      "3.0102807191414667\n",
      "3.0091647596283706\n"
     ]
    },
    {
     "name": "stderr",
     "output_type": "stream",
     "text": [
      "\r",
      " 12%|█▏        | 12/100 [00:36<04:37,  3.15s/it]"
     ]
    },
    {
     "name": "stdout",
     "output_type": "stream",
     "text": [
      "3.008059061550118\n",
      "Epoch 0, Loss 3.0080590624977797\n",
      "3.006963454646144\n",
      "3.005877772710613\n",
      "3.004801853465885\n",
      "3.0037355384408153\n",
      "3.002678672853684\n",
      "3.0016311054995404\n",
      "3.0005926886417726\n",
      "2.999563277907709\n",
      "2.9985427321880986\n"
     ]
    },
    {
     "name": "stderr",
     "output_type": "stream",
     "text": [
      "\r",
      " 13%|█▎        | 13/100 [00:40<04:42,  3.24s/it]"
     ]
    },
    {
     "name": "stdout",
     "output_type": "stream",
     "text": [
      "2.997530913540266\n",
      "Epoch 0, Loss 2.9975309145655795\n",
      "2.9965276870948276\n",
      "2.99553292096577\n",
      "2.9945464861637894\n",
      "2.993568256512722\n",
      "2.992598108568959\n",
      "2.9916359215437023\n",
      "2.990681577227958\n",
      "2.989734959920147\n"
     ]
    },
    {
     "name": "stderr",
     "output_type": "stream",
     "text": [
      "\r",
      " 14%|█▍        | 14/100 [00:42<04:28,  3.12s/it]"
     ]
    },
    {
     "name": "stdout",
     "output_type": "stream",
     "text": [
      "2.9887959563562236\n",
      "2.9878644556422054\n",
      "Epoch 0, Loss 2.98786445674477\n",
      "2.986940349189013\n",
      "2.9860235306495246\n",
      "2.985113895857765\n",
      "2.9842113427701262\n",
      "2.9833157714085656\n",
      "2.982427083805674\n",
      "2.9815451839515617\n",
      "2.9806699777424863\n",
      "2.9798013729311443\n"
     ]
    },
    {
     "name": "stderr",
     "output_type": "stream",
     "text": [
      "\r",
      " 15%|█▌        | 15/100 [00:45<03:59,  2.82s/it]"
     ]
    },
    {
     "name": "stdout",
     "output_type": "stream",
     "text": [
      "2.978939279078586\n",
      "Epoch 0, Loss 2.978939280257973\n",
      "2.9780836075076556\n",
      "2.97723427125794\n",
      "2.9763911850421305\n",
      "2.9755542652037783\n",
      "2.97472342967636\n",
      "2.9738985979436263\n",
      "2.9730796910011854\n",
      "2.9722666313192563\n",
      "2.9714593428065723\n"
     ]
    },
    {
     "name": "stderr",
     "output_type": "stream",
     "text": [
      "\r",
      " 16%|█▌        | 16/100 [00:47<03:56,  2.81s/it]"
     ]
    },
    {
     "name": "stdout",
     "output_type": "stream",
     "text": [
      "2.970657750775382\n",
      "Epoch 0, Loss 2.970657752031147\n",
      "2.9698617819075017\n",
      "2.9690713642214006\n",
      "2.968286427040258\n",
      "2.9675069009609794\n",
      "2.966732717824119\n",
      "2.965963810684693\n",
      "2.9652001137838417\n",
      "2.964441562521312\n",
      "2.963688093428741\n"
     ]
    },
    {
     "name": "stderr",
     "output_type": "stream",
     "text": [
      "\r",
      " 17%|█▋        | 17/100 [00:52<04:47,  3.46s/it]"
     ]
    },
    {
     "name": "stdout",
     "output_type": "stream",
     "text": [
      "2.962939644143696\n",
      "Epoch 0, Loss 2.962939645475388\n",
      "2.9621961533844674\n",
      "2.9614575609255627\n",
      "2.960723807573907\n",
      "2.9599948351456953\n",
      "2.9592705864439046\n",
      "2.9585510052364192\n",
      "2.957836036234765\n",
      "2.9571256250734255\n",
      "2.9564197182897196\n"
     ]
    },
    {
     "name": "stderr",
     "output_type": "stream",
     "text": [
      "\r",
      " 18%|█▊        | 18/100 [00:55<04:32,  3.33s/it]"
     ]
    },
    {
     "name": "stdout",
     "output_type": "stream",
     "text": [
      "2.955718263304231\n",
      "Epoch 0, Loss 2.9557182647113973\n",
      "2.955021208401759\n",
      "2.9543285027127837\n",
      "2.9536400961954277\n",
      "2.9529559396178913\n",
      "2.952275984541357\n",
      "2.9516001833033387\n",
      "2.9509284890014666\n",
      "2.9502608554776963\n",
      "2.949597237302924\n"
     ]
    },
    {
     "name": "stderr",
     "output_type": "stream",
     "text": [
      "\r",
      " 19%|█▉        | 19/100 [00:58<04:24,  3.26s/it]"
     ]
    },
    {
     "name": "stdout",
     "output_type": "stream",
     "text": [
      "2.948937589761995\n",
      "Epoch 0, Loss 2.9489375912441864\n",
      "2.9482818688391\n",
      "2.9476300312035373\n",
      "2.946982034195843\n",
      "2.9463378358142642\n",
      "2.9456973947015737\n",
      "2.9450606701322113\n",
      "2.9444276219997456\n",
      "2.9437982108046508\n"
     ]
    },
    {
     "name": "stderr",
     "output_type": "stream",
     "text": [
      "\r",
      " 20%|██        | 20/100 [01:02<04:33,  3.42s/it]"
     ]
    },
    {
     "name": "stdout",
     "output_type": "stream",
     "text": [
      "2.943172397642368\n",
      "2.9425501441916753\n",
      "Epoch 0, Loss 2.9425501457484473\n",
      "2.941931412703333\n",
      "2.941316165989\n",
      "2.940704367410423\n",
      "2.9400959808688847\n",
      "2.939490970794895\n",
      "2.9388893021381426\n",
      "2.9382909403576636\n",
      "2.937695851412258\n",
      "2.937104001751125\n"
     ]
    },
    {
     "name": "stderr",
     "output_type": "stream",
     "text": [
      "\r",
      " 21%|██        | 21/100 [01:05<04:17,  3.26s/it]"
     ]
    },
    {
     "name": "stdout",
     "output_type": "stream",
     "text": [
      "2.9365153583047086\n",
      "Epoch 0, Loss 2.9365153599356253\n",
      "2.9359298884757687\n",
      "2.935347560130648\n",
      "2.93476834159074\n",
      "2.9341922016241613\n",
      "2.933619109437597\n",
      "2.933049034668346\n",
      "2.9324819473765382\n",
      "2.9319178180375247\n",
      "2.9313566175344423\n"
     ]
    },
    {
     "name": "stderr",
     "output_type": "stream",
     "text": [
      "\r",
      " 22%|██▏       | 22/100 [01:08<04:13,  3.25s/it]"
     ]
    },
    {
     "name": "stdout",
     "output_type": "stream",
     "text": [
      "2.9307983171509404\n",
      "Epoch 0, Loss 2.9307983188555755\n",
      "2.930242888564069\n",
      "2.9296903038373245\n",
      "2.9291405354138487\n",
      "2.9285935561097696\n",
      "2.928049339107697\n",
      "2.9275078579503533\n",
      "2.926969086534337\n",
      "2.9264329991040303\n",
      "2.9258995702456287\n"
     ]
    },
    {
     "name": "stderr",
     "output_type": "stream",
     "text": [
      "\r",
      " 23%|██▎       | 23/100 [01:11<03:52,  3.02s/it]"
     ]
    },
    {
     "name": "stdout",
     "output_type": "stream",
     "text": [
      "2.9253687748812993\n",
      "Epoch 0, Loss 2.9253687766592362\n",
      "2.9248405882634647\n",
      "2.924314985969207\n",
      "2.9237919438947846\n",
      "2.923271438250271\n",
      "2.922753445554299\n",
      "2.922237942628917\n",
      "2.9217249065945503\n",
      "2.9212143148650673\n",
      "2.9207061451429417\n"
     ]
    },
    {
     "name": "stderr",
     "output_type": "stream",
     "text": [
      "\r",
      " 24%|██▍       | 24/100 [01:14<03:53,  3.08s/it]"
     ]
    },
    {
     "name": "stdout",
     "output_type": "stream",
     "text": [
      "2.920200375414521\n",
      "Epoch 0, Loss 2.9202003772653544\n",
      "2.919696983945387\n",
      "2.919195949275806\n",
      "2.9186972502162782\n",
      "2.9182008658431724\n",
      "2.9177067754944455\n",
      "2.917214958765453\n",
      "2.916725395504836\n",
      "2.916238065810497\n",
      "2.915752950025643\n"
     ]
    },
    {
     "name": "stderr",
     "output_type": "stream",
     "text": [
      "\r",
      " 25%|██▌       | 25/100 [01:17<03:53,  3.11s/it]"
     ]
    },
    {
     "name": "stdout",
     "output_type": "stream",
     "text": [
      "2.9152700287349207\n",
      "Epoch 0, Loss 2.9152700306582573\n",
      "2.914789282760614\n",
      "2.9143106931589244\n",
      "2.9138342412163167\n",
      "2.91335990844594\n",
      "2.9128876765841167\n",
      "2.9124175275868924\n",
      "2.911949443626661\n",
      "2.9114834070888485\n",
      "2.9110194005686574\n"
     ]
    },
    {
     "name": "stderr",
     "output_type": "stream",
     "text": [
      "\r",
      " 26%|██▌       | 26/100 [01:21<04:05,  3.32s/it]"
     ]
    },
    {
     "name": "stdout",
     "output_type": "stream",
     "text": [
      "2.910557406867879\n",
      "Epoch 0, Loss 2.9105574088633372\n",
      "2.910097408991756\n",
      "2.9096393901459163\n",
      "2.9091833337333504\n",
      "2.9087292233514543\n",
      "2.9082770427891247\n",
      "2.907826776023904\n",
      "2.907378407219181\n",
      "2.9069319207214446\n",
      "2.906487301057583\n"
     ]
    },
    {
     "name": "stderr",
     "output_type": "stream",
     "text": [
      "\r",
      " 27%|██▋       | 27/100 [01:24<03:53,  3.19s/it]"
     ]
    },
    {
     "name": "stdout",
     "output_type": "stream",
     "text": [
      "2.906044532932233\n",
      "Epoch 0, Loss 2.9060445349994444\n",
      "2.905603601225181\n",
      "2.905164490988805\n",
      "2.9047271874455656\n",
      "2.904291675985543\n",
      "2.903857942164016\n",
      "2.9034259716990847\n",
      "2.902995750469329\n",
      "2.902567264511526\n",
      "2.9021405000183838\n"
     ]
    },
    {
     "name": "stderr",
     "output_type": "stream",
     "text": [
      "\r",
      " 28%|██▊       | 28/100 [01:27<03:54,  3.25s/it]"
     ]
    },
    {
     "name": "stdout",
     "output_type": "stream",
     "text": [
      "2.9017154433363337\n",
      "Epoch 0, Loss 2.901715445474941\n",
      "2.9012920809633496\n",
      "2.9008703995468146\n",
      "2.900450385881415\n",
      "2.9000320269070783\n",
      "2.8996153097069395\n",
      "2.8992002215053496\n",
      "2.8987867496659163\n",
      "2.89837488168957\n",
      "2.897964605212675\n"
     ]
    },
    {
     "name": "stderr",
     "output_type": "stream",
     "text": [
      "\r",
      " 29%|██▉       | 29/100 [01:30<03:45,  3.18s/it]"
     ]
    },
    {
     "name": "stdout",
     "output_type": "stream",
     "text": [
      "2.897555908005163\n",
      "Epoch 0, Loss 2.8975559102148227\n",
      "2.897148777968706\n",
      "2.8967432031349096\n",
      "2.896339171663547\n",
      "2.8959366718408166\n",
      "2.895535692077627\n",
      "2.89513622090792\n",
      "2.894738246987006\n",
      "2.8943417590899436\n",
      "2.893946746109929\n"
     ]
    },
    {
     "name": "stderr",
     "output_type": "stream",
     "text": [
      "\r",
      " 30%|███       | 30/100 [01:33<03:40,  3.15s/it]"
     ]
    },
    {
     "name": "stdout",
     "output_type": "stream",
     "text": [
      "2.8935531970567285\n",
      "Epoch 0, Loss 2.893553199337109\n",
      "2.893161101055123\n",
      "2.892770447343382\n",
      "2.8923812252717718\n",
      "2.8919934243010648\n",
      "2.891607034001103\n",
      "2.891222044049356\n",
      "2.890838444229524\n",
      "2.890456224430147\n",
      "2.8900753746432475\n"
     ]
    },
    {
     "name": "stderr",
     "output_type": "stream",
     "text": [
      "\r",
      " 31%|███       | 31/100 [01:36<03:33,  3.10s/it]"
     ]
    },
    {
     "name": "stdout",
     "output_type": "stream",
     "text": [
      "2.8896958849629883\n",
      "Epoch 0, Loss 2.8896958873137706\n",
      "2.889317745584354\n",
      "2.8889409468018528\n",
      "2.8885654790082347\n",
      "2.888191332693241\n",
      "2.887818498442358\n",
      "2.887446966935604\n",
      "2.8870767289463255\n",
      "2.886707775340014\n",
      "2.8863400970731483\n"
     ]
    },
    {
     "name": "stderr",
     "output_type": "stream",
     "text": [
      "\r",
      " 32%|███▏      | 32/100 [01:39<03:24,  3.01s/it]"
     ]
    },
    {
     "name": "stdout",
     "output_type": "stream",
     "text": [
      "2.885973685192042\n",
      "Epoch 0, Loss 2.8859736876129194\n",
      "2.8856085308317208\n",
      "2.8852446252148085\n",
      "2.8848819596504343\n",
      "2.884520525533152\n",
      "2.884160314341886\n",
      "2.8838013176388797\n",
      "2.8834435270686662\n",
      "2.883086934357061\n",
      "2.882731531310155\n"
     ]
    },
    {
     "name": "stderr",
     "output_type": "stream",
     "text": [
      "\r",
      " 33%|███▎      | 33/100 [01:42<03:08,  2.81s/it]"
     ]
    },
    {
     "name": "stdout",
     "output_type": "stream",
     "text": [
      "2.8823773098133363\n",
      "Epoch 0, Loss 2.882377312304014\n",
      "2.8820242618303165\n",
      "2.8816723794021804\n",
      "2.8813216546464404\n",
      "2.880972079756116\n",
      "2.8806236469988105\n",
      "2.8802763487158236\n",
      "2.879930177321253\n",
      "2.879585125301128\n"
     ]
    },
    {
     "name": "stderr",
     "output_type": "stream",
     "text": [
      "\r",
      " 34%|███▍      | 34/100 [01:44<02:59,  2.72s/it]"
     ]
    },
    {
     "name": "stdout",
     "output_type": "stream",
     "text": [
      "2.8792411852125475\n",
      "2.878898349682825\n",
      "Epoch 0, Loss 2.8788983522430205\n",
      "2.8785566114086625\n",
      "2.8782159631553164\n",
      "2.8778763977557906\n",
      "2.8775379081100354\n",
      "2.877200487184157\n",
      "2.8768641280096374\n",
      "2.8765288236825706\n",
      "2.8761945673629046\n",
      "2.8758613522736955\n"
     ]
    },
    {
     "name": "stderr",
     "output_type": "stream",
     "text": [
      "\r",
      " 35%|███▌      | 35/100 [01:47<02:56,  2.72s/it]"
     ]
    },
    {
     "name": "stdout",
     "output_type": "stream",
     "text": [
      "2.8755291717003773\n",
      "Epoch 0, Loss 2.87552917432982\n",
      "2.8751980189900257\n",
      "2.8748678875506584\n",
      "2.87453877085052\n",
      "2.874210662417391\n",
      "2.873883555837901\n",
      "2.873557444756859\n",
      "2.8732323228765773\n",
      "2.872908183956223\n",
      "2.8725850218111684\n"
     ]
    },
    {
     "name": "stderr",
     "output_type": "stream",
     "text": [
      "\r",
      " 36%|███▌      | 36/100 [01:49<02:49,  2.64s/it]"
     ]
    },
    {
     "name": "stdout",
     "output_type": "stream",
     "text": [
      "2.872262830312349\n",
      "Epoch 0, Loss 2.87226283301078\n",
      "2.871941603385635\n",
      "2.8716213350112105\n",
      "2.8713020192229592\n",
      "2.8709836501078607\n",
      "2.8706662218053927\n",
      "2.8703497285069433\n",
      "2.870034164455229\n",
      "2.8697195239437248\n",
      "2.869405801316096\n"
     ]
    },
    {
     "name": "stderr",
     "output_type": "stream",
     "text": [
      "\r",
      " 37%|███▋      | 37/100 [01:52<02:45,  2.63s/it]"
     ]
    },
    {
     "name": "stdout",
     "output_type": "stream",
     "text": [
      "2.8690929909656417\n",
      "Epoch 0, Loss 2.8690929937328122\n",
      "2.8687810873347472\n",
      "2.8684700849143363\n",
      "2.868159978243341\n",
      "2.8678507619081683\n",
      "2.867542430542184\n",
      "2.867234978825194\n",
      "2.8669284014829364\n",
      "2.8666226932865855\n",
      "2.8663178490522507\n"
     ]
    },
    {
     "name": "stderr",
     "output_type": "stream",
     "text": [
      "\r",
      " 38%|███▊      | 38/100 [01:55<02:56,  2.85s/it]"
     ]
    },
    {
     "name": "stdout",
     "output_type": "stream",
     "text": [
      "2.8660138636404917\n",
      "Epoch 0, Loss 2.866013866476165\n",
      "2.8657107319558386\n",
      "2.865408448946313\n",
      "2.8651070096029594\n",
      "2.864806408959385\n",
      "2.8645066420912997\n",
      "2.8642077041160654\n",
      "2.863909590192249\n",
      "2.8636122955191867\n",
      "2.8633158153365463\n"
     ]
    },
    {
     "name": "stderr",
     "output_type": "stream",
     "text": [
      "\r",
      " 39%|███▉      | 39/100 [02:00<03:32,  3.48s/it]"
     ]
    },
    {
     "name": "stdout",
     "output_type": "stream",
     "text": [
      "2.8630201449238997\n",
      "Epoch 0, Loss 2.86302014782785\n",
      "2.862725279600302\n",
      "2.8624312147238666\n",
      "2.862137945691364\n",
      "2.861845467937804\n",
      "2.861553776936039\n",
      "2.861262868196366\n",
      "2.860972737266136\n",
      "2.860683379729363\n"
     ]
    },
    {
     "name": "stderr",
     "output_type": "stream",
     "text": [
      "\r",
      " 40%|████      | 40/100 [02:04<03:34,  3.57s/it]"
     ]
    },
    {
     "name": "stdout",
     "output_type": "stream",
     "text": [
      "2.860394791206347\n",
      "2.8601069673532904\n",
      "Epoch 0, Loss 2.8601069703253024\n",
      "2.859819903861931\n",
      "2.8595335964591717\n",
      "2.8592480409067145\n",
      "2.858963233000705\n",
      "2.8586791685713764\n",
      "2.858395843482698\n",
      "2.8581132536320326\n",
      "2.8578313949497893\n",
      "2.8575502633990935\n"
     ]
    },
    {
     "name": "stderr",
     "output_type": "stream",
     "text": [
      "\r",
      " 41%|████      | 41/100 [02:07<03:22,  3.43s/it]"
     ]
    },
    {
     "name": "stdout",
     "output_type": "stream",
     "text": [
      "2.857269854975446\n",
      "Epoch 0, Loss 2.857269858015314\n",
      "2.856990165706397\n",
      "2.856711191651223\n",
      "2.856432928900601\n",
      "2.8561553735762963\n",
      "2.8558785218308405\n",
      "2.8556023698472313\n",
      "2.8553269138386215\n",
      "2.855052150048016\n",
      "2.854778074747972\n"
     ]
    },
    {
     "name": "stderr",
     "output_type": "stream",
     "text": [
      "\r",
      " 42%|████▏     | 42/100 [02:10<03:18,  3.42s/it]"
     ]
    },
    {
     "name": "stdout",
     "output_type": "stream",
     "text": [
      "2.854504684240311\n",
      "Epoch 0, Loss 2.854504687347839\n",
      "2.8542319748558174\n",
      "2.853959942953957\n",
      "2.853688584922589\n",
      "2.853417897177685\n",
      "2.853147876163054\n",
      "2.852878518350062\n",
      "2.8526098202373653\n",
      "2.85234177835064\n",
      "2.8520743892423157\n"
     ]
    },
    {
     "name": "stderr",
     "output_type": "stream",
     "text": [
      "\r",
      " 43%|████▎     | 43/100 [02:14<03:21,  3.54s/it]"
     ]
    },
    {
     "name": "stdout",
     "output_type": "stream",
     "text": [
      "2.8518076494913185\n",
      "Epoch 0, Loss 2.851807652666321\n",
      "2.8515415557028043\n",
      "2.851276104507909\n",
      "2.8510112925634923\n",
      "2.8507471165518896\n",
      "2.850483573180663\n",
      "2.850220659182359\n",
      "2.8499583713142638\n",
      "2.849696706358169\n",
      "2.8494356611201326\n"
     ]
    },
    {
     "name": "stderr",
     "output_type": "stream",
     "text": [
      "\r",
      " 44%|████▍     | 44/100 [02:17<03:05,  3.31s/it]"
     ]
    },
    {
     "name": "stdout",
     "output_type": "stream",
     "text": [
      "2.8491752324302464\n",
      "Epoch 0, Loss 2.849175235672547\n",
      "2.8489154171424045\n",
      "2.8486562121340793\n",
      "2.8483976143060903\n",
      "2.848139620582387\n",
      "2.8478822279098237\n",
      "2.847625433257947\n",
      "2.847369233618777\n",
      "2.847113626006594\n",
      "2.846858607457732\n"
     ]
    },
    {
     "name": "stderr",
     "output_type": "stream",
     "text": [
      "\r",
      " 45%|████▌     | 45/100 [02:19<02:47,  3.04s/it]"
     ]
    },
    {
     "name": "stdout",
     "output_type": "stream",
     "text": [
      "2.8466041750303654\n",
      "Epoch 0, Loss 2.8466041783397964\n",
      "2.846350325804309\n",
      "2.8460970568808106\n",
      "2.8458443653823515\n",
      "2.845592248452447\n",
      "2.8453407032554505\n",
      "2.8450897269763598\n",
      "2.844839316820623\n",
      "2.8445894700139482\n",
      "2.84434018380212\n"
     ]
    },
    {
     "name": "stderr",
     "output_type": "stream",
     "text": [
      "\r",
      " 46%|████▌     | 46/100 [02:23<02:44,  3.04s/it]"
     ]
    },
    {
     "name": "stdout",
     "output_type": "stream",
     "text": [
      "2.844091455450808\n",
      "Epoch 0, Loss 2.8440914588272106\n",
      "2.8438432822453845\n",
      "2.8435956614907463\n",
      "2.843348590511129\n",
      "2.8431020666499354\n",
      "2.8428560872695536\n",
      "2.842610649751188\n",
      "2.8423657514946847\n",
      "2.8421213899183613\n",
      "2.8418775624588397\n"
     ]
    },
    {
     "name": "stderr",
     "output_type": "stream",
     "text": [
      "\r",
      " 47%|████▋     | 47/100 [02:25<02:36,  2.95s/it]"
     ]
    },
    {
     "name": "stdout",
     "output_type": "stream",
     "text": [
      "2.8416342665708796\n",
      "Epoch 0, Loss 2.841634270014104\n",
      "2.841391499727211\n",
      "2.841149259418378\n",
      "2.8409075431525688\n",
      "2.8406663484554646\n",
      "2.8404256728700745\n",
      "2.840185513956588\n",
      "2.839945869292211\n",
      "2.8397067364710216\n",
      "2.8394681131038157\n"
     ]
    },
    {
     "name": "stderr",
     "output_type": "stream",
     "text": [
      "\r",
      " 48%|████▊     | 48/100 [02:28<02:31,  2.92s/it]"
     ]
    },
    {
     "name": "stdout",
     "output_type": "stream",
     "text": [
      "2.8392299968179557\n",
      "Epoch 0, Loss 2.839230000327859\n",
      "2.838992385257225\n",
      "2.8387552760816845\n",
      "2.8385186669675213\n",
      "2.838282555606909\n",
      "2.8380469397078714\n",
      "2.8378118169941318\n",
      "2.837577185204982\n",
      "2.837343042095144\n",
      "2.837109385434632\n"
     ]
    },
    {
     "name": "stderr",
     "output_type": "stream",
     "text": [
      "\r",
      " 49%|████▉     | 49/100 [02:31<02:27,  2.88s/it]"
     ]
    },
    {
     "name": "stdout",
     "output_type": "stream",
     "text": [
      "2.836876213008622\n",
      "Epoch 0, Loss 2.8368762165850705\n",
      "2.8366435226173126\n",
      "2.8364113120758003\n",
      "2.8361795792139466\n",
      "2.8359483218762476\n",
      "2.8357175379217088\n",
      "2.8354872252237193\n",
      "2.8352573816699245\n",
      "2.835028005162108\n",
      "2.8347990936160596\n"
     ]
    },
    {
     "name": "stderr",
     "output_type": "stream",
     "text": [
      "\r",
      " 50%|█████     | 50/100 [02:35<02:34,  3.10s/it]"
     ]
    },
    {
     "name": "stdout",
     "output_type": "stream",
     "text": [
      "2.8345706449614676\n",
      "Epoch 0, Loss 2.834570648604335\n",
      "2.8343426571417853\n",
      "2.834115128114125\n",
      "2.8338880558491315\n",
      "2.8336614383308723\n",
      "2.833435273556718\n",
      "2.83320955953723\n",
      "2.832984294296055\n",
      "2.832759475869799\n",
      "2.8325351023079315\n"
     ]
    },
    {
     "name": "stderr",
     "output_type": "stream",
     "text": [
      "\r",
      " 51%|█████     | 51/100 [02:38<02:34,  3.15s/it]"
     ]
    },
    {
     "name": "stdout",
     "output_type": "stream",
     "text": [
      "2.832311171672669\n",
      "Epoch 0, Loss 2.8323111753818355\n",
      "2.832087682038869\n",
      "2.8318646314939215\n",
      "2.8316420181376456\n",
      "2.8314198400821833\n",
      "2.8311980954518963\n",
      "2.8309767823832632\n",
      "2.830755899024777\n",
      "2.830535443536849\n",
      "2.8303154140917\n"
     ]
    },
    {
     "name": "stderr",
     "output_type": "stream",
     "text": [
      "\r",
      " 52%|█████▏    | 52/100 [02:42<02:46,  3.46s/it]"
     ]
    },
    {
     "name": "stdout",
     "output_type": "stream",
     "text": [
      "2.8300958088732746\n",
      "Epoch 0, Loss 2.830095812648628\n",
      "2.8298766260771298\n",
      "2.8296578639103496\n",
      "2.829439520591442\n",
      "2.829221594350251\n",
      "2.829004083427855\n",
      "2.8287869860764814\n",
      "2.82857030055941\n",
      "2.828354025150882\n",
      "2.828138158136014\n"
     ]
    },
    {
     "name": "stderr",
     "output_type": "stream",
     "text": [
      "\r",
      " 53%|█████▎    | 53/100 [02:45<02:34,  3.30s/it]"
     ]
    },
    {
     "name": "stdout",
     "output_type": "stream",
     "text": [
      "2.827922697810706\n",
      "Epoch 0, Loss 2.8279227016521413\n",
      "2.8277076424815504\n",
      "2.827492990465752\n",
      "2.8272787400910313\n",
      "2.827064889695549\n",
      "2.8268514376278144\n",
      "2.826638382246605\n",
      "2.826425721920877\n",
      "2.8262134550296945\n",
      "2.8260015799621345\n"
     ]
    },
    {
     "name": "stderr",
     "output_type": "stream",
     "text": [
      "\r",
      " 54%|█████▍    | 54/100 [02:48<02:24,  3.15s/it]"
     ]
    },
    {
     "name": "stdout",
     "output_type": "stream",
     "text": [
      "2.8257900951172177\n",
      "Epoch 0, Loss 2.8257900990246356\n",
      "2.8255789989038176\n",
      "2.8253682897405907\n",
      "2.8251579660558943\n",
      "2.8249480262877062\n",
      "2.824738468883551\n",
      "2.8245292923004235\n",
      "2.824320495004711\n",
      "2.824112075472122\n",
      "2.823904032187609\n"
     ]
    },
    {
     "name": "stderr",
     "output_type": "stream",
     "text": [
      "\r",
      " 55%|█████▌    | 55/100 [02:51<02:20,  3.12s/it]"
     ]
    },
    {
     "name": "stdout",
     "output_type": "stream",
     "text": [
      "2.8236963636452965\n",
      "Epoch 0, Loss 2.823696367618605\n",
      "2.823489068348407\n",
      "2.823282144809191\n",
      "2.8230755915488563\n",
      "2.8228694070974933\n",
      "2.8226635899940087\n",
      "2.8224581387860552\n",
      "2.822253052029963\n",
      "2.822048328290671\n",
      "2.821843966141661\n"
     ]
    },
    {
     "name": "stderr",
     "output_type": "stream",
     "text": [
      "\r",
      " 56%|█████▌    | 56/100 [02:54<02:16,  3.09s/it]"
     ]
    },
    {
     "name": "stdout",
     "output_type": "stream",
     "text": [
      "2.8216399641648895\n",
      "Epoch 0, Loss 2.821639968204002\n",
      "2.8214363209507223\n",
      "2.8212330350978685\n",
      "2.8210301052133167\n",
      "2.820827529912271\n",
      "2.8206253078180845\n",
      "2.8204234375622\n",
      "2.8202219177840853\n",
      "2.820020747131172\n",
      "2.8198199242587947\n"
     ]
    },
    {
     "name": "stderr",
     "output_type": "stream",
     "text": [
      "\r",
      " 57%|█████▋    | 57/100 [02:57<02:09,  3.01s/it]"
     ]
    },
    {
     "name": "stdout",
     "output_type": "stream",
     "text": [
      "2.819619447830128\n",
      "Epoch 0, Loss 2.819619451934964\n",
      "2.81941931651613\n",
      "2.8192195289954793\n",
      "2.81902008395452\n",
      "2.8188209800871964\n",
      "2.8186222160950023\n",
      "2.8184237906869205\n",
      "2.818225702579365\n",
      "2.818027950496126\n",
      "2.8178305331683124\n"
     ]
    },
    {
     "name": "stderr",
     "output_type": "stream",
     "text": [
      "\r",
      " 58%|█████▊    | 58/100 [03:00<02:08,  3.07s/it]"
     ]
    },
    {
     "name": "stdout",
     "output_type": "stream",
     "text": [
      "2.817633449334299\n",
      "Epoch 0, Loss 2.8176334535047833\n",
      "2.817436697739671\n",
      "2.817240277137167\n",
      "2.817044186286628\n",
      "2.8168484239549434\n",
      "2.8166529889159984\n",
      "2.8164578799506197\n",
      "2.816263095846526\n",
      "2.816068635398276\n",
      "2.8158744974072145\n"
     ]
    },
    {
     "name": "stderr",
     "output_type": "stream",
     "text": [
      "\r",
      " 59%|█████▉    | 59/100 [03:03<02:04,  3.04s/it]"
     ]
    },
    {
     "name": "stdout",
     "output_type": "stream",
     "text": [
      "2.8156806806814285\n",
      "Epoch 0, Loss 2.8156806849174916\n",
      "2.8154871840356903\n",
      "2.815294006291409\n",
      "2.8151011462765876\n",
      "2.8149086028257653\n",
      "2.8147163747799757\n",
      "2.8145244609866964\n",
      "2.814332860299802\n",
      "2.8141415715795164\n",
      "2.813950593692368\n"
     ]
    },
    {
     "name": "stderr",
     "output_type": "stream",
     "text": [
      "\r",
      " 60%|██████    | 60/100 [03:07<02:10,  3.27s/it]"
     ]
    },
    {
     "name": "stdout",
     "output_type": "stream",
     "text": [
      "2.813759925511141\n",
      "Epoch 0, Loss 2.8137599298127185\n",
      "2.8135695659148325\n",
      "2.8133795137886044\n",
      "2.8131897680237414\n",
      "2.8130003275176017\n",
      "2.812811191173581\n",
      "2.812622357901058\n",
      "2.81243382661536\n",
      "2.8122455962377155\n"
     ]
    },
    {
     "name": "stderr",
     "output_type": "stream",
     "text": [
      "\r",
      " 61%|██████    | 61/100 [03:11<02:17,  3.52s/it]"
     ]
    },
    {
     "name": "stdout",
     "output_type": "stream",
     "text": [
      "2.8120576656952143\n",
      "2.8118700339207625\n",
      "Epoch 0, Loss 2.811870038287795\n",
      "2.81168269985304\n",
      "2.811495662436464\n",
      "2.811308920621142\n",
      "2.8111224733628353\n",
      "2.8109363196229156\n",
      "2.810750458368327\n",
      "2.8105648885715446\n",
      "2.8103796092105378\n",
      "2.8101946192687275\n"
     ]
    },
    {
     "name": "stderr",
     "output_type": "stream",
     "text": [
      "\r",
      " 62%|██████▏   | 62/100 [03:14<02:10,  3.43s/it]"
     ]
    },
    {
     "name": "stdout",
     "output_type": "stream",
     "text": [
      "2.81000991773495\n",
      "Epoch 0, Loss 2.8100099221673824\n",
      "2.809825503603418\n",
      "2.8096413758736833\n",
      "2.8094575335505962\n",
      "2.8092739756442726\n",
      "2.809090701170053\n",
      "2.8089077091484693\n",
      "2.8087249986052023\n",
      "2.8085425685710543\n",
      "2.808360418081905\n"
     ]
    },
    {
     "name": "stderr",
     "output_type": "stream",
     "text": [
      "\r",
      " 63%|██████▎   | 63/100 [03:17<02:06,  3.41s/it]"
     ]
    },
    {
     "name": "stdout",
     "output_type": "stream",
     "text": [
      "2.8081785461786835\n",
      "Epoch 0, Loss 2.8081785506764665\n",
      "2.807996951907325\n",
      "2.807815634318743\n",
      "2.8076345924687915\n",
      "2.80745382541823\n",
      "2.8072733322326906\n",
      "2.8070931119826446\n",
      "2.8069131637433697\n",
      "2.806733486594914\n",
      "2.8065540796220656\n"
     ]
    },
    {
     "name": "stderr",
     "output_type": "stream",
     "text": [
      "\r",
      " 64%|██████▍   | 64/100 [03:20<01:55,  3.20s/it]"
     ]
    },
    {
     "name": "stdout",
     "output_type": "stream",
     "text": [
      "2.806374941914319\n",
      "Epoch 0, Loss 2.806374946477406\n",
      "2.8061960725658435\n",
      "2.8060174706754517\n",
      "2.8058391353465635\n",
      "2.805661065687181\n",
      "2.8054832608098517\n",
      "2.805305719831643\n",
      "2.8051284418741047\n",
      "2.8049514260632433\n",
      "2.8047746715294917\n"
     ]
    },
    {
     "name": "stderr",
     "output_type": "stream",
     "text": [
      "\r",
      " 65%|██████▌   | 65/100 [03:23<01:48,  3.11s/it]"
     ]
    },
    {
     "name": "stdout",
     "output_type": "stream",
     "text": [
      "2.804598177407676\n",
      "Epoch 0, Loss 2.804598182036026\n",
      "2.8044219428369903\n",
      "2.8042459669609627\n",
      "2.8040702489274296\n",
      "2.8038947878885048\n",
      "2.8037195830005497\n",
      "2.8035446334241487\n",
      "2.803369938324076\n",
      "2.803195496869273\n",
      "2.803021308232814\n"
     ]
    },
    {
     "name": "stderr",
     "output_type": "stream",
     "text": [
      "\r",
      " 66%|██████▌   | 66/100 [03:26<01:43,  3.05s/it]"
     ]
    },
    {
     "name": "stdout",
     "output_type": "stream",
     "text": [
      "2.802847371591885\n",
      "Epoch 0, Loss 2.802847376285461\n",
      "2.8026736861277515\n",
      "2.802500251025734\n",
      "2.8023270654751813\n",
      "2.8021541286694416\n",
      "2.801981439805837\n",
      "2.8018089980856393\n",
      "2.8016368027140395\n",
      "2.801464852900127\n",
      "2.8012931478568603\n"
     ]
    },
    {
     "name": "stderr",
     "output_type": "stream",
     "text": [
      "\r",
      " 67%|██████▋   | 67/100 [03:29<01:42,  3.10s/it]"
     ]
    },
    {
     "name": "stdout",
     "output_type": "stream",
     "text": [
      "2.801121686801043\n",
      "Epoch 0, Loss 2.8011216915598105\n",
      "2.8009504689532982\n",
      "2.8007794935380455\n",
      "2.8006087597834712\n",
      "2.8004382669215095\n",
      "2.8002680141878145\n",
      "2.800098000821736\n",
      "2.799928226066298\n",
      "2.7997586891681725\n",
      "2.7995893893776564\n"
     ]
    },
    {
     "name": "stderr",
     "output_type": "stream",
     "text": [
      "\r",
      " 68%|██████▊   | 68/100 [03:32<01:34,  2.96s/it]"
     ]
    },
    {
     "name": "stdout",
     "output_type": "stream",
     "text": [
      "2.799420325948649\n",
      "Epoch 0, Loss 2.7994203307725787\n",
      "2.7992514981386263\n",
      "2.7990829052086217\n",
      "2.798914546423199\n",
      "2.7987464210504336\n",
      "2.7985785283618867\n",
      "2.798410867632584\n",
      "2.7982434381409953\n",
      "2.79807623916901\n",
      "2.7979092700019166\n"
     ]
    },
    {
     "name": "stderr",
     "output_type": "stream",
     "text": [
      "\r",
      " 69%|██████▉   | 69/100 [03:35<01:36,  3.11s/it]"
     ]
    },
    {
     "name": "stdout",
     "output_type": "stream",
     "text": [
      "2.7977425299283794\n",
      "Epoch 0, Loss 2.797742534817445\n",
      "2.797576018240419\n",
      "2.7974097342333923\n",
      "2.797243677205966\n",
      "2.7970778464601\n",
      "2.7969122413010283\n",
      "2.796746861037231\n",
      "2.796581704980421\n",
      "2.796416772445521\n",
      "2.7962520627506415\n"
     ]
    },
    {
     "name": "stderr",
     "output_type": "stream",
     "text": [
      "\r",
      " 70%|███████   | 70/100 [03:38<01:32,  3.07s/it]"
     ]
    },
    {
     "name": "stdout",
     "output_type": "stream",
     "text": [
      "2.7960875752170655\n",
      "Epoch 0, Loss 2.796087580171244\n",
      "2.7959233091692233\n",
      "2.795759263934675\n",
      "2.795595438844094\n",
      "2.7954318332312407\n",
      "2.7952684464329507\n",
      "2.79510527778911\n",
      "2.7949423266426403\n",
      "2.794779592339476\n",
      "2.7946170742285483\n"
     ]
    },
    {
     "name": "stderr",
     "output_type": "stream",
     "text": [
      "\r",
      " 71%|███████   | 71/100 [03:41<01:25,  2.95s/it]"
     ]
    },
    {
     "name": "stdout",
     "output_type": "stream",
     "text": [
      "2.7944547716617674\n",
      "Epoch 0, Loss 2.794454776681039\n",
      "2.794292683994001\n",
      "2.7941308105830593\n",
      "2.7939691507896733\n",
      "2.793807703977482\n",
      "2.793646469513008\n",
      "2.793485446765647\n",
      "2.793324635107643\n",
      "2.793164033914076\n",
      "2.7930036425628444\n"
     ]
    },
    {
     "name": "stderr",
     "output_type": "stream",
     "text": [
      "\r",
      " 72%|███████▏  | 72/100 [03:44<01:27,  3.13s/it]"
     ]
    },
    {
     "name": "stdout",
     "output_type": "stream",
     "text": [
      "2.7928434604346437\n",
      "Epoch 0, Loss 2.792843465518992\n",
      "2.7926834869129546\n",
      "2.792523721384024\n",
      "2.7923641632368446\n",
      "2.7922048118631464\n",
      "2.7920456666573714\n",
      "2.791886727016663\n",
      "2.7917279923408493\n",
      "2.7915694620324234\n",
      "2.79141113549653\n"
     ]
    },
    {
     "name": "stderr",
     "output_type": "stream",
     "text": [
      "\r",
      " 73%|███████▎  | 73/100 [03:47<01:21,  3.00s/it]"
     ]
    },
    {
     "name": "stdout",
     "output_type": "stream",
     "text": [
      "2.7912530121409485\n",
      "Epoch 0, Loss 2.79125301729036\n",
      "2.7910950913760804\n",
      "2.7909373726149274\n",
      "2.7907798552730823\n",
      "2.7906225387687087\n",
      "2.7904654225225283\n",
      "2.790308505957805\n",
      "2.7901517885003293\n",
      "2.7899952695784056\n",
      "2.7898389486228328\n"
     ]
    },
    {
     "name": "stderr",
     "output_type": "stream",
     "text": [
      "\r",
      " 74%|███████▍  | 74/100 [03:49<01:12,  2.79s/it]"
     ]
    },
    {
     "name": "stdout",
     "output_type": "stream",
     "text": [
      "2.7896828250668935\n",
      "Epoch 0, Loss 2.7896828302813574\n",
      "2.789526898346339\n",
      "2.7893711678993713\n",
      "2.789215633166634\n",
      "2.7890602935911932\n",
      "2.788905148618527\n",
      "2.7887501976965057\n",
      "2.7885954402753867\n",
      "2.7884408758077917\n",
      "2.7882865037486972\n"
     ]
    },
    {
     "name": "stderr",
     "output_type": "stream",
     "text": [
      "\r",
      " 75%|███████▌  | 75/100 [03:54<01:20,  3.24s/it]"
     ]
    },
    {
     "name": "stdout",
     "output_type": "stream",
     "text": [
      "2.788132323555423\n",
      "Epoch 0, Loss 2.788132328834932\n",
      "2.7879783346876112\n",
      "2.7878245366072205\n",
      "2.78767092877851\n",
      "2.787517510668023\n",
      "2.7873642817445767\n",
      "2.78721124147925\n",
      "2.787058389345368\n",
      "2.78690572481849\n",
      "2.7867532473763963\n"
     ]
    },
    {
     "name": "stderr",
     "output_type": "stream",
     "text": [
      "\r",
      " 76%|███████▌  | 76/100 [03:58<01:23,  3.47s/it]"
     ]
    },
    {
     "name": "stdout",
     "output_type": "stream",
     "text": [
      "2.786600956499077\n",
      "Epoch 0, Loss 2.786600961843625\n",
      "2.786448851668716\n",
      "2.786296932369684\n",
      "2.7861451980885183\n",
      "2.7859936483139194\n",
      "2.785842282536728\n",
      "2.7856911002499247\n",
      "2.785540100948609\n",
      "2.78538928412999\n",
      "2.785238649293374\n"
     ]
    },
    {
     "name": "stderr",
     "output_type": "stream",
     "text": [
      "\r",
      " 77%|███████▋  | 77/100 [04:00<01:13,  3.21s/it]"
     ]
    },
    {
     "name": "stdout",
     "output_type": "stream",
     "text": [
      "2.7850881959401543\n",
      "Epoch 0, Loss 2.7850882013497396\n",
      "2.7849379235738\n",
      "2.7847878316998376\n",
      "2.78463791982585\n",
      "2.7844881874614553\n",
      "2.784338634118302\n",
      "2.7841892593100512\n",
      "2.784040062552373\n",
      "2.78389104336293\n",
      "2.783742201261366\n"
     ]
    },
    {
     "name": "stderr",
     "output_type": "stream",
     "text": [
      "\r",
      " 78%|███████▊  | 78/100 [04:03<01:06,  3.03s/it]"
     ]
    },
    {
     "name": "stdout",
     "output_type": "stream",
     "text": [
      "2.7835935357692985\n",
      "Epoch 0, Loss 2.7835935412439206\n",
      "2.7834450464103035\n",
      "2.7832967327099096\n",
      "2.7831485941955805\n",
      "2.7830006303967108\n",
      "2.7828528408446127\n",
      "2.7827052250725015\n",
      "2.782557782615493\n",
      "2.7824105130105874\n",
      "2.7822634157966584\n"
     ]
    },
    {
     "name": "stderr",
     "output_type": "stream",
     "text": [
      "\r",
      " 79%|███████▉  | 79/100 [04:06<01:03,  3.02s/it]"
     ]
    },
    {
     "name": "stdout",
     "output_type": "stream",
     "text": [
      "2.782116490514446\n",
      "Epoch 0, Loss 2.782116496054107\n",
      "2.781969736706548\n",
      "2.7818231539174016\n",
      "2.781676741693282\n",
      "2.7815304995822876\n",
      "2.7813844271343307\n",
      "2.78123852390113\n",
      "2.781092789436198\n",
      "2.7809472232948313\n",
      "2.780801825034103\n"
     ]
    },
    {
     "name": "stderr",
     "output_type": "stream",
     "text": [
      "\r",
      " 80%|████████  | 80/100 [04:09<01:03,  3.16s/it]"
     ]
    },
    {
     "name": "stdout",
     "output_type": "stream",
     "text": [
      "2.7806565942128523\n",
      "Epoch 0, Loss 2.780656599817556\n",
      "2.780511530391673\n",
      "2.780366633132906\n",
      "2.7802219020006294\n",
      "2.7800773365606504\n",
      "2.7799329363804928\n",
      "2.779788701029389\n",
      "2.7796446300782747\n",
      "2.7795007230997735\n",
      "2.7793569796681914\n"
     ]
    },
    {
     "name": "stderr",
     "output_type": "stream",
     "text": [
      "\r",
      " 81%|████████  | 81/100 [04:12<00:59,  3.15s/it]"
     ]
    },
    {
     "name": "stdout",
     "output_type": "stream",
     "text": [
      "2.779213399359509\n",
      "Epoch 0, Loss 2.7792134050292625\n",
      "2.779069981751369\n",
      "2.778926726423068\n",
      "2.778783632955553\n",
      "2.7786407009314047\n",
      "2.778497929934834\n",
      "2.7783553195516717\n",
      "2.77821286936936\n",
      "2.778070578976944\n",
      "2.777928447965064\n"
     ]
    },
    {
     "name": "stderr",
     "output_type": "stream",
     "text": [
      "\r",
      " 82%|████████▏ | 82/100 [04:16<00:56,  3.16s/it]"
     ]
    },
    {
     "name": "stdout",
     "output_type": "stream",
     "text": [
      "2.777786475925945\n",
      "Epoch 0, Loss 2.777786481660757\n",
      "2.777644662453392\n",
      "2.777503007142778\n",
      "2.777361509591037\n",
      "2.7772201693966565\n",
      "2.777078986159668\n",
      "2.7769379594816415\n",
      "2.776797088965675\n",
      "2.7766563742163863\n",
      "2.776515814839908\n"
     ]
    },
    {
     "name": "stderr",
     "output_type": "stream",
     "text": [
      "\r",
      " 83%|████████▎ | 83/100 [04:18<00:51,  3.03s/it]"
     ]
    },
    {
     "name": "stdout",
     "output_type": "stream",
     "text": [
      "2.776375410443875\n",
      "Epoch 0, Loss 2.7763754162437553\n",
      "2.7762351606374227\n",
      "2.776095065031173\n",
      "2.775955123237231\n",
      "2.7758153348691748\n",
      "2.7756756995420506\n",
      "2.7755362168723616\n",
      "2.7753968864780636\n",
      "2.775257707978555\n",
      "2.775118680994673\n"
     ]
    },
    {
     "name": "stderr",
     "output_type": "stream",
     "text": [
      "\r",
      " 84%|████████▍ | 84/100 [04:21<00:46,  2.89s/it]"
     ]
    },
    {
     "name": "stdout",
     "output_type": "stream",
     "text": [
      "2.7749798051486785\n",
      "Epoch 0, Loss 2.7749798110136394\n",
      "2.774841080064262\n",
      "2.774702505366522\n",
      "2.7745640806819667\n",
      "2.774425805638504\n",
      "2.774287679865435\n",
      "2.774149702993446\n",
      "2.7740118746546027\n",
      "2.7738741944823424\n",
      "2.773736662111467\n"
     ]
    },
    {
     "name": "stderr",
     "output_type": "stream",
     "text": [
      "\r",
      " 85%|████████▌ | 85/100 [04:24<00:45,  3.02s/it]"
     ]
    },
    {
     "name": "stdout",
     "output_type": "stream",
     "text": [
      "2.7735992771781355\n",
      "Epoch 0, Loss 2.7735992831081915\n",
      "2.7734620393198597\n",
      "2.7733249481754942\n",
      "2.773188003385232\n",
      "2.773051204590595\n",
      "2.7729145514344324\n",
      "2.772778043560907\n",
      "2.7726416806154948\n",
      "2.772505462244975\n",
      "2.7723693880974247\n"
     ]
    },
    {
     "name": "stderr",
     "output_type": "stream",
     "text": [
      "\r",
      " 86%|████████▌ | 86/100 [04:28<00:44,  3.16s/it]"
     ]
    },
    {
     "name": "stdout",
     "output_type": "stream",
     "text": [
      "2.772233457822212\n",
      "Epoch 0, Loss 2.772233463817379\n",
      "2.7720976710699903\n",
      "2.7719620274926906\n",
      "2.7718265267435163\n",
      "2.7716911684769356\n",
      "2.771555952348678\n",
      "2.7714208780157246\n",
      "2.7712859451363028\n",
      "2.771151153369883\n",
      "2.771016502377168\n"
     ]
    },
    {
     "name": "stderr",
     "output_type": "stream",
     "text": [
      "\r",
      " 87%|████████▋ | 87/100 [04:30<00:38,  2.99s/it]"
     ]
    },
    {
     "name": "stdout",
     "output_type": "stream",
     "text": [
      "2.7708819918200915\n",
      "Epoch 0, Loss 2.770881997880387\n",
      "2.770747621361806\n",
      "2.7706133906666848\n",
      "2.77047929940031\n",
      "2.770345347229466\n",
      "2.7702115338221396\n",
      "2.770077858847509\n",
      "2.769944321975938\n",
      "2.769810922878974\n",
      "2.7696776612293377\n"
     ]
    },
    {
     "name": "stderr",
     "output_type": "stream",
     "text": [
      "\r",
      " 88%|████████▊ | 88/100 [04:34<00:36,  3.08s/it]"
     ]
    },
    {
     "name": "stdout",
     "output_type": "stream",
     "text": [
      "2.7695445367009217\n",
      "Epoch 0, Loss 2.769544542826365\n",
      "2.769411548968781\n",
      "2.769278697709129\n",
      "2.7691459825993348\n",
      "2.76901340331791\n",
      "2.768880959544511\n",
      "2.7687486509599304\n",
      "2.76861647724609\n",
      "2.76848443808604\n",
      "2.768352533163945\n"
     ]
    },
    {
     "name": "stderr",
     "output_type": "stream",
     "text": [
      "\r",
      " 89%|████████▉ | 89/100 [04:37<00:34,  3.18s/it]"
     ]
    },
    {
     "name": "stdout",
     "output_type": "stream",
     "text": [
      "2.7682207621650896\n",
      "Epoch 0, Loss 2.768220768355701\n",
      "2.768089124775865\n",
      "2.7679576206837653\n",
      "2.7678262495773867\n",
      "2.767695011146414\n",
      "2.7675639050816248\n",
      "2.7674329310748753\n",
      "2.767302088819103\n",
      "2.7671713780083165\n",
      "2.7670407983375913\n"
     ]
    },
    {
     "name": "stderr",
     "output_type": "stream",
     "text": [
      "\r",
      " 90%|█████████ | 90/100 [04:40<00:30,  3.01s/it]"
     ]
    },
    {
     "name": "stdout",
     "output_type": "stream",
     "text": [
      "2.7669103495030662\n",
      "Epoch 0, Loss 2.7669103557588683\n",
      "2.766780031201939\n",
      "2.7666498431324573\n",
      "2.766519784993918\n",
      "2.76638985648666\n",
      "2.7662600573120595\n",
      "2.7661303871725256\n",
      "2.766000845771497\n",
      "2.7658714328134333\n",
      "2.765742148003814\n"
     ]
    },
    {
     "name": "stderr",
     "output_type": "stream",
     "text": [
      "\r",
      " 91%|█████████ | 91/100 [04:42<00:26,  2.97s/it]"
     ]
    },
    {
     "name": "stdout",
     "output_type": "stream",
     "text": [
      "2.7656129910491303\n",
      "Epoch 0, Loss 2.7656129973701464\n",
      "2.7654839616568854\n",
      "2.765355059535584\n",
      "2.76522628439473\n",
      "2.765097635944825\n",
      "2.764969113897358\n",
      "2.764840717964806\n",
      "2.7647124478606235\n",
      "2.764584303299244\n",
      "2.7644562839960747\n"
     ]
    },
    {
     "name": "stderr",
     "output_type": "stream",
     "text": [
      "\r",
      " 92%|█████████▏| 92/100 [04:46<00:24,  3.04s/it]"
     ]
    },
    {
     "name": "stdout",
     "output_type": "stream",
     "text": [
      "2.764328389667487\n",
      "Epoch 0, Loss 2.7643283960537426\n",
      "2.764200620030816\n",
      "2.7640729748043573\n",
      "2.7639454537073584\n",
      "2.7638180564600185\n",
      "2.7636907827834807\n",
      "2.7635636323998307\n",
      "2.76343660503209\n",
      "2.7633097004042124\n",
      "2.7631829182410814\n"
     ]
    },
    {
     "name": "stderr",
     "output_type": "stream",
     "text": [
      "\r",
      " 93%|█████████▎| 93/100 [04:48<00:19,  2.85s/it]"
     ]
    },
    {
     "name": "stdout",
     "output_type": "stream",
     "text": [
      "2.7630562582685028\n",
      "Epoch 0, Loss 2.7630562647200234\n",
      "2.7629297202132035\n",
      "2.762803303802827\n",
      "2.7626770087659254\n",
      "2.762550834831961\n",
      "2.7624247817312964\n",
      "2.762298849195197\n",
      "2.7621730369558213\n",
      "2.7620473447462186\n",
      "2.7619217723003264\n"
     ]
    },
    {
     "name": "stderr",
     "output_type": "stream",
     "text": [
      "\r",
      " 94%|█████████▍| 94/100 [04:51<00:17,  2.84s/it]"
     ]
    },
    {
     "name": "stdout",
     "output_type": "stream",
     "text": [
      "2.7617963193529635\n",
      "Epoch 0, Loss 2.761796325869777\n",
      "2.7616709856398307\n",
      "2.7615457708975004\n",
      "2.7614206748634196\n",
      "2.7612956972759\n",
      "2.76117083787412\n",
      "2.761046096398114\n",
      "2.7609214725887723\n",
      "2.7607969661878413\n",
      "2.7606725769379103\n"
     ]
    },
    {
     "name": "stderr",
     "output_type": "stream",
     "text": [
      "\r",
      " 95%|█████████▌| 95/100 [04:53<00:13,  2.71s/it]"
     ]
    },
    {
     "name": "stdout",
     "output_type": "stream",
     "text": [
      "2.7605483045824184\n",
      "Epoch 0, Loss 2.7605483111645532\n",
      "2.7604241488656402\n",
      "2.7603001095326904\n",
      "2.760176186329515\n",
      "2.7600523790028926\n",
      "2.7599286873004245\n",
      "2.759805110970534\n",
      "2.7596816497624665\n",
      "2.7595583034262803\n",
      "2.759435071712843\n"
     ]
    },
    {
     "name": "stderr",
     "output_type": "stream",
     "text": [
      "\r",
      " 96%|█████████▌| 96/100 [04:57<00:11,  2.96s/it]"
     ]
    },
    {
     "name": "stdout",
     "output_type": "stream",
     "text": [
      "2.7593119543738345\n",
      "Epoch 0, Loss 2.7593119610213206\n",
      "2.759188951161735\n",
      "2.759066061829828\n",
      "2.7589432861321934\n",
      "2.758820623823705\n",
      "2.758698074660027\n",
      "2.7585756383976094\n",
      "2.7584533147936883\n",
      "2.7583311036062774\n"
     ]
    },
    {
     "name": "stderr",
     "output_type": "stream",
     "text": [
      "\r",
      " 97%|█████████▋| 97/100 [05:00<00:09,  3.02s/it]"
     ]
    },
    {
     "name": "stdout",
     "output_type": "stream",
     "text": [
      "2.7582090045941685\n",
      "2.758087017516925\n",
      "Epoch 0, Loss 2.758087024229793\n",
      "2.757965142134883\n",
      "2.757843378209143\n",
      "2.7577217255015696\n",
      "2.757600183774787\n",
      "2.757478752792178\n",
      "2.7573574323178756\n",
      "2.7572362221167652\n",
      "2.75711512195448\n",
      "2.7569941315973963\n"
     ]
    },
    {
     "name": "stderr",
     "output_type": "stream",
     "text": [
      "\r",
      " 98%|█████████▊| 98/100 [05:03<00:05,  2.92s/it]"
     ]
    },
    {
     "name": "stdout",
     "output_type": "stream",
     "text": [
      "2.756873250812629\n",
      "Epoch 0, Loss 2.756873257590911\n",
      "2.7567524793680342\n",
      "2.756631817032199\n",
      "2.7565112635744433\n",
      "2.7563908187648143\n",
      "2.756270482374086\n",
      "2.756150254173752\n",
      "2.7560301339360267\n",
      "2.7559101214338395\n",
      "2.7557902164408303\n"
     ]
    },
    {
     "name": "stderr",
     "output_type": "stream",
     "text": [
      "\r",
      " 99%|█████████▉| 99/100 [05:06<00:03,  3.12s/it]"
     ]
    },
    {
     "name": "stdout",
     "output_type": "stream",
     "text": [
      "2.7556704187313534\n",
      "Epoch 0, Loss 2.7556704255750826\n",
      "2.7555507280804656\n",
      "2.75543114426393\n",
      "2.7553116670582094\n",
      "2.755192296240464\n",
      "2.7550730315885503\n",
      "2.7549538728810155\n",
      "2.7548348198970953\n",
      "2.7547158724167153\n",
      "2.7545970302204794\n"
     ]
    },
    {
     "name": "stderr",
     "output_type": "stream",
     "text": [
      "100%|██████████| 100/100 [05:09<00:00,  3.10s/it]\n"
     ]
    }
   ],
   "source": [
    "# Run training and plotting for default parameter values as mentioned above\n",
    "t_ac, v_ac, te_ac, weights = train(learning_rate, weight_decay)\n"
   ]
  },
  {
   "cell_type": "code",
   "execution_count": 12,
   "metadata": {},
   "outputs": [
    {
     "data": {
      "image/png": "[encoded data removed]",
      "text/plain": [
       "<Figure size 432x288 with 1 Axes>"
      ]
     },
     "metadata": {
      "needs_background": "light"
     },
     "output_type": "display_data"
    }
   ],
   "source": [
    "plot_accuracies(t_ac, v_ac, te_ac)\n"
   ]
  },
  {
   "cell_type": "markdown",
   "metadata": {},
   "source": [
    "### Try different learning rates and plot graphs for all (20%)\n"
   ]
  },
  {
   "cell_type": "code",
   "execution_count": 14,
   "metadata": {},
   "outputs": [
    {
     "name": "stderr",
     "output_type": "stream",
     "text": [
      "\r",
      "  0%|          | 0/100 [00:00<?, ?it/s]"
     ]
    },
    {
     "name": "stdout",
     "output_type": "stream",
     "text": [
      "6.933181693106729\n",
      "Epoch 0, Loss 6.933181693106729\n",
      "6.823432478988021\n",
      "6.717701536970414\n",
      "6.61583915448215\n",
      "6.51769950917072\n",
      "6.42314081598912\n",
      "6.332025437521973\n",
      "6.244219960899385\n",
      "6.159595244598504\n",
      "6.078026438338689\n"
     ]
    },
    {
     "name": "stderr",
     "output_type": "stream",
     "text": [
      "\r",
      "  1%|          | 1/100 [00:03<05:45,  3.49s/it]"
     ]
    },
    {
     "name": "stdout",
     "output_type": "stream",
     "text": [
      "5.999392979145726\n",
      "Epoch 0, Loss 5.999392979145726\n",
      "5.92357856650278\n",
      "5.850471119328637\n",
      "5.779962717334069\n",
      "5.711949529110847\n",
      "5.646331729109758\n",
      "5.583013405467914\n",
      "5.5219024604549\n",
      "5.462910505124044\n",
      "5.405952749581289\n"
     ]
    },
    {
     "name": "stderr",
     "output_type": "stream",
     "text": [
      "\r",
      "  2%|▏         | 2/100 [00:06<05:19,  3.26s/it]"
     ]
    },
    {
     "name": "stdout",
     "output_type": "stream",
     "text": [
      "5.35094789012077\n",
      "Epoch 0, Loss 5.35094789012077\n",
      "5.297817994324201\n",
      "5.246488385080667\n",
      "5.196887524354689\n",
      "5.148946897413148\n",
      "5.102600898115558\n",
      "5.057786715776623\n",
      "5.014444224024684\n",
      "4.97251587200356\n",
      "4.931946578198068\n"
     ]
    },
    {
     "name": "stderr",
     "output_type": "stream",
     "text": [
      "\r",
      "  3%|▎         | 3/100 [00:09<04:51,  3.01s/it]"
     ]
    },
    {
     "name": "stdout",
     "output_type": "stream",
     "text": [
      "4.89268362710428\n",
      "Epoch 0, Loss 4.89268362710428\n",
      "4.8546765689136775\n",
      "4.817877122335221\n",
      "4.782239080640239\n",
      "4.7477182209813655\n",
      "4.714272217007966\n",
      "4.681860554776084\n",
      "4.650444451930307\n",
      "4.619986780117858\n",
      "4.59045199058098\n"
     ]
    },
    {
     "name": "stderr",
     "output_type": "stream",
     "text": [
      "\r",
      "  4%|▍         | 4/100 [00:12<05:02,  3.15s/it]"
     ]
    },
    {
     "name": "stdout",
     "output_type": "stream",
     "text": [
      "4.561806042862198\n",
      "Epoch 0, Loss 4.561806042862198\n",
      "4.534016336547781\n",
      "4.507051645967499\n",
      "4.48088205776323\n",
      "4.455478911234984\n",
      "4.4308147413701\n",
      "4.406863224459763\n",
      "4.383599126206194\n",
      "4.360998252223898\n",
      "4.339037400839053\n"
     ]
    },
    {
     "name": "stderr",
     "output_type": "stream",
     "text": [
      "\r",
      "  5%|▌         | 5/100 [00:16<05:05,  3.22s/it]"
     ]
    },
    {
     "name": "stdout",
     "output_type": "stream",
     "text": [
      "4.317694318092285\n",
      "Epoch 0, Loss 4.317694318092285\n",
      "4.2969476548517305\n",
      "4.276776925945297\n",
      "4.257162471223266\n",
      "4.238085418464913\n",
      "4.219527648045424\n",
      "4.201471759282198\n",
      "4.1839010383824276\n",
      "4.166799427916778\n",
      "4.150151497746857\n"
     ]
    },
    {
     "name": "stderr",
     "output_type": "stream",
     "text": [
      "\r",
      "  6%|▌         | 6/100 [00:18<04:41,  3.00s/it]"
     ]
    },
    {
     "name": "stdout",
     "output_type": "stream",
     "text": [
      "4.133942417337086\n",
      "Epoch 0, Loss 4.133942417337086\n",
      "4.118157929384452\n",
      "4.102784324702439\n",
      "4.08780841829824\n",
      "4.073217526585044\n",
      "4.058999445673823\n",
      "4.045142430691656\n",
      "4.031635176076032\n",
      "4.018466796797039\n",
      "4.005626810461614\n"
     ]
    },
    {
     "name": "stderr",
     "output_type": "stream",
     "text": [
      "\r",
      "  7%|▋         | 7/100 [00:21<04:40,  3.01s/it]"
     ]
    },
    {
     "name": "stdout",
     "output_type": "stream",
     "text": [
      "3.99310512025624\n",
      "Epoch 0, Loss 3.99310512025624\n",
      "3.980891998686639\n",
      "3.968978072075012\n",
      "3.95735430577736\n",
      "3.946011990085256\n",
      "3.9349427267782624\n",
      "3.924138416294835\n",
      "3.9135912454912383\n",
      "3.903293675959477\n"
     ]
    },
    {
     "name": "stderr",
     "output_type": "stream",
     "text": [
      "\r",
      "  8%|▊         | 8/100 [00:24<04:20,  2.84s/it]"
     ]
    },
    {
     "name": "stdout",
     "output_type": "stream",
     "text": [
      "3.8932384328767653\n",
      "3.88341849436045\n",
      "Epoch 0, Loss 3.88341849436045\n",
      "3.8738270813035993\n",
      "3.8644576476677606\n",
      "3.855303871210603\n",
      "3.8463596446272517\n",
      "3.8376190670852655\n",
      "3.829076436134168\n",
      "3.820726239971476\n",
      "3.8125631500480606\n",
      "3.804582013996545\n"
     ]
    },
    {
     "name": "stderr",
     "output_type": "stream",
     "text": [
      "\r",
      "  9%|▉         | 9/100 [00:26<04:12,  2.78s/it]"
     ]
    },
    {
     "name": "stdout",
     "output_type": "stream",
     "text": [
      "3.7967778488673\n",
      "Epoch 0, Loss 3.7967778488673\n",
      "3.78914583465736\n",
      "3.781681308118345\n",
      "3.7743797568301645\n",
      "3.767236813527966\n",
      "3.760248250670405\n",
      "3.7534099752379437\n",
      "3.746718023750411\n",
      "3.7401685574936487\n",
      "3.7337578579455295\n"
     ]
    },
    {
     "name": "stderr",
     "output_type": "stream",
     "text": [
      "\r",
      " 10%|█         | 10/100 [00:28<03:53,  2.59s/it]"
     ]
    },
    {
     "name": "stdout",
     "output_type": "stream",
     "text": [
      "3.727482322392161\n",
      "Epoch 0, Loss 3.727482322392161\n",
      "3.72133845972551\n",
      "3.7153228864141443\n",
      "3.7094323226391928\n",
      "3.703663588587999\n",
      "3.698013600898351\n",
      "3.692479369246473\n",
      "3.6870579930723473\n",
      "3.681746658436191\n",
      "3.676542635000286\n"
     ]
    },
    {
     "name": "stderr",
     "output_type": "stream",
     "text": [
      "\r",
      " 11%|█         | 11/100 [00:31<03:53,  2.62s/it]"
     ]
    },
    {
     "name": "stdout",
     "output_type": "stream",
     "text": [
      "3.6714432731305657\n",
      "Epoch 0, Loss 3.6714432731305657\n",
      "3.6664460011126847\n",
      "3.6615483224775454\n",
      "3.6567478134314504\n",
      "3.652042120386367\n",
      "3.6474289575859027\n",
      "3.6429061048229023\n",
      "3.638471405244671\n",
      "3.634122763242107\n",
      "3.629858142419137\n"
     ]
    },
    {
     "name": "stderr",
     "output_type": "stream",
     "text": [
      "\r",
      " 12%|█▏        | 12/100 [00:34<03:53,  2.65s/it]"
     ]
    },
    {
     "name": "stdout",
     "output_type": "stream",
     "text": [
      "3.6256755636390396\n",
      "Epoch 0, Loss 3.6256755636390396\n",
      "3.621573103144418\n",
      "3.617548890747699\n",
      "3.613601108089204\n",
      "3.609727986959972\n",
      "3.6059278076866352\n",
      "3.602198897575773\n",
      "3.5985396294152947\n",
      "3.5949484200305206\n",
      "3.591423728892679\n"
     ]
    },
    {
     "name": "stderr",
     "output_type": "stream",
     "text": [
      "\r",
      " 13%|█▎        | 13/100 [00:36<03:41,  2.54s/it]"
     ]
    },
    {
     "name": "stdout",
     "output_type": "stream",
     "text": [
      "3.5879640567777527\n",
      "Epoch 0, Loss 3.5879640567777527\n",
      "3.584567944473566\n",
      "3.581233971533213\n",
      "3.5779607550729344\n",
      "3.5747469486126793\n",
      "3.5715912409576416\n",
      "3.5684923551191496\n",
      "3.565449047273352\n",
      "3.5624601057562133\n",
      "3.5595243500933935\n"
     ]
    },
    {
     "name": "stderr",
     "output_type": "stream",
     "text": [
      "\r",
      " 14%|█▍        | 14/100 [00:39<03:44,  2.61s/it]"
     ]
    },
    {
     "name": "stdout",
     "output_type": "stream",
     "text": [
      "3.5566406300636517\n",
      "Epoch 0, Loss 3.5566406300636517\n",
      "3.55380782479448\n",
      "3.551024841888702\n",
      "3.5482906165808585\n",
      "3.5456041109222425\n",
      "3.542964312993463\n",
      "3.5403702361435214\n",
      "3.537820918254377\n",
      "3.535315421030052\n",
      "3.5328528293093333\n"
     ]
    },
    {
     "name": "stderr",
     "output_type": "stream",
     "text": [
      "\r",
      " 15%|█▌        | 15/100 [00:42<03:44,  2.65s/it]"
     ]
    },
    {
     "name": "stdout",
     "output_type": "stream",
     "text": [
      "3.5304322504012258\n",
      "Epoch 0, Loss 3.5304322504012258\n",
      "3.5280528134422675\n",
      "3.5257136687749306\n",
      "3.523413987346308\n",
      "3.5211529601263423\n",
      "3.5189297975448994\n",
      "3.516743728946974\n",
      "3.514594002065378\n",
      "3.5124798825102976\n"
     ]
    },
    {
     "name": "stderr",
     "output_type": "stream",
     "text": [
      "\r",
      " 16%|█▌        | 16/100 [00:44<03:43,  2.66s/it]"
     ]
    },
    {
     "name": "stdout",
     "output_type": "stream",
     "text": [
      "3.5104006532750742\n",
      "3.5083556142576637\n",
      "Epoch 0, Loss 3.5083556142576637\n",
      "3.5063440817971885\n",
      "3.504365388225064\n",
      "3.502418881430166\n",
      "3.500503924437553\n",
      "3.4986198950002683\n",
      "3.496766185203764\n",
      "3.494942201082488\n",
      "3.493147362248249\n",
      "3.491381101529914\n"
     ]
    },
    {
     "name": "stderr",
     "output_type": "stream",
     "text": [
      "\r",
      " 17%|█▋        | 17/100 [00:47<03:54,  2.83s/it]"
     ]
    },
    {
     "name": "stdout",
     "output_type": "stream",
     "text": [
      "3.4896428646240705\n",
      "Epoch 0, Loss 3.4896428646240705\n",
      "3.48793210975627\n",
      "3.4862483073524957\n",
      "3.484590939720489\n",
      "3.482959500740634\n",
      "3.48135349556604\n",
      "3.4797724403315393\n",
      "3.4782158618712864\n",
      "3.4766832974446817\n",
      "3.475174294470332\n"
     ]
    },
    {
     "name": "stderr",
     "output_type": "stream",
     "text": [
      "\r",
      " 18%|█▊        | 18/100 [00:51<04:15,  3.12s/it]"
     ]
    },
    {
     "name": "stdout",
     "output_type": "stream",
     "text": [
      "3.473688410267796\n",
      "Epoch 0, Loss 3.473688410267796\n",
      "3.4722252118068364\n",
      "3.470784275463963\n",
      "3.469365186785991\n",
      "3.4679675402604198\n",
      "3.4665909390923852\n",
      "3.46523499498799\n",
      "3.463899327943791\n",
      "3.462583566042267\n",
      "3.4612873452530457\n"
     ]
    },
    {
     "name": "stderr",
     "output_type": "stream",
     "text": [
      "\r",
      " 19%|█▉        | 19/100 [00:55<04:18,  3.19s/it]"
     ]
    },
    {
     "name": "stdout",
     "output_type": "stream",
     "text": [
      "3.4600103092397396\n",
      "Epoch 0, Loss 3.4600103092397396\n",
      "3.4587521091721807\n",
      "3.457512403543912\n",
      "3.456290857994751\n",
      "3.4550871451382608\n",
      "3.4539009443940123\n",
      "3.45273194182443\n",
      "3.451579829976136\n",
      "3.4504443077256113\n",
      "3.449325080129068\n"
     ]
    },
    {
     "name": "stderr",
     "output_type": "stream",
     "text": [
      "\r",
      " 20%|██        | 20/100 [00:57<03:49,  2.87s/it]"
     ]
    },
    {
     "name": "stdout",
     "output_type": "stream",
     "text": [
      "3.448221858276384\n",
      "Epoch 0, Loss 3.448221858276384\n",
      "3.4471343591489902\n",
      "3.4460623054815835\n",
      "3.445005425627545\n",
      "3.4439634534279593\n",
      "3.4429361280841215\n",
      "3.4419231940334307\n",
      "3.4409244008285613\n",
      "3.4399395030198208\n",
      "3.4389682600405984\n"
     ]
    },
    {
     "name": "stderr",
     "output_type": "stream",
     "text": [
      "\r",
      " 21%|██        | 21/100 [00:59<03:43,  2.82s/it]"
     ]
    },
    {
     "name": "stdout",
     "output_type": "stream",
     "text": [
      "3.4380104360958126\n",
      "Epoch 0, Loss 3.4380104360958126\n",
      "3.4370658000532632\n",
      "3.436134125337813\n",
      "3.43521518982831\n",
      "3.434308775757161\n",
      "3.4334146696125036\n",
      "3.432532662042878\n",
      "3.4316625477643328\n",
      "3.430804125469897\n",
      "3.4299571977413583\n"
     ]
    },
    {
     "name": "stderr",
     "output_type": "stream",
     "text": [
      "\r",
      " 22%|██▏       | 22/100 [01:02<03:37,  2.79s/it]"
     ]
    },
    {
     "name": "stdout",
     "output_type": "stream",
     "text": [
      "3.429121570963259\n",
      "Epoch 0, Loss 3.429121570963259\n",
      "3.4282970552390735\n",
      "3.427483464309478\n",
      "3.4266806154726823\n",
      "3.4258883295067393\n",
      "3.425106430593786\n",
      "3.4243347462461746\n",
      "3.423573107234417\n",
      "3.4228213475169165\n",
      "3.422079304171407\n"
     ]
    },
    {
     "name": "stderr",
     "output_type": "stream",
     "text": [
      "\r",
      " 23%|██▎       | 23/100 [01:05<03:27,  2.70s/it]"
     ]
    },
    {
     "name": "stdout",
     "output_type": "stream",
     "text": [
      "3.4213468173280908\n",
      "Epoch 0, Loss 3.4213468173280908\n",
      "3.4206237301043965\n",
      "3.4199098885413255\n",
      "3.4192051415413367\n",
      "3.4185093408077476\n",
      "3.4178223407855732\n",
      "3.4171439986038075\n",
      "3.416474174019069\n",
      "3.4158127293606038\n",
      "3.4151595294765875\n"
     ]
    },
    {
     "name": "stderr",
     "output_type": "stream",
     "text": [
      "\r",
      " 24%|██▍       | 24/100 [01:08<03:29,  2.76s/it]"
     ]
    },
    {
     "name": "stdout",
     "output_type": "stream",
     "text": [
      "3.4145144416817086\n",
      "Epoch 0, Loss 3.4145144416817086\n",
      "3.4138773357059837\n",
      "3.4132480836447856\n",
      "3.4126265599100414\n",
      "3.412012641182573\n",
      "3.4114062063655592\n",
      "3.4108071365390673\n",
      "3.4102153149156504\n",
      "3.4096306267969743\n",
      "3.4090529595314325\n"
     ]
    },
    {
     "name": "stderr",
     "output_type": "stream",
     "text": [
      "\r",
      " 25%|██▌       | 25/100 [01:10<03:17,  2.64s/it]"
     ]
    },
    {
     "name": "stdout",
     "output_type": "stream",
     "text": [
      "3.408482202472749\n",
      "Epoch 0, Loss 3.408482202472749\n",
      "3.407918246939526\n",
      "3.407360986175715\n",
      "3.4068103153119913\n",
      "3.406266131328006\n",
      "3.405728333015493\n",
      "3.40519682094221\n",
      "3.4046714974166967\n",
      "3.4041522664538144\n",
      "3.403639033741069\n"
     ]
    },
    {
     "name": "stderr",
     "output_type": "stream",
     "text": [
      "\r",
      " 26%|██▌       | 26/100 [01:12<03:08,  2.55s/it]"
     ]
    },
    {
     "name": "stdout",
     "output_type": "stream",
     "text": [
      "3.403131706605677\n",
      "Epoch 0, Loss 3.403131706605677\n",
      "3.4026301939823753\n",
      "3.4021344063819345\n",
      "3.4016442558603783\n",
      "3.4011596559888817\n",
      "3.4006805218243237\n",
      "3.400206769880502\n",
      "3.3997383180999634\n",
      "3.399275085826457\n",
      "3.398816993777988\n"
     ]
    },
    {
     "name": "stderr",
     "output_type": "stream",
     "text": [
      "\r",
      " 27%|██▋       | 27/100 [01:15<03:04,  2.53s/it]"
     ]
    },
    {
     "name": "stdout",
     "output_type": "stream",
     "text": [
      "3.398363964020452\n",
      "Epoch 0, Loss 3.398363964020452\n",
      "3.3979159199418456\n",
      "3.397472786227028\n",
      "3.3970344888330346\n",
      "3.3966009549649128\n",
      "3.3961721130520783\n",
      "3.3957478927251796\n",
      "3.395328224793452\n",
      "3.394913041222554\n",
      "3.394502275112871\n"
     ]
    },
    {
     "name": "stderr",
     "output_type": "stream",
     "text": [
      "\r",
      " 28%|██▊       | 28/100 [01:17<02:57,  2.46s/it]"
     ]
    },
    {
     "name": "stdout",
     "output_type": "stream",
     "text": [
      "3.394095860678285\n",
      "Epoch 0, Loss 3.394095860678285\n",
      "3.3936937332253803\n",
      "3.393295829133098\n",
      "3.3929020858328114\n",
      "3.392512441788817\n",
      "3.3921268364792336\n",
      "3.3917452103773034\n",
      "3.3913675049330734\n",
      "3.3909936625554638\n",
      "3.3906236265946954\n"
     ]
    },
    {
     "name": "stderr",
     "output_type": "stream",
     "text": [
      "\r",
      " 29%|██▉       | 29/100 [01:19<02:51,  2.42s/it]"
     ]
    },
    {
     "name": "stdout",
     "output_type": "stream",
     "text": [
      "3.3902573413250963\n",
      "Epoch 0, Loss 3.3902573413250963\n",
      "3.389894751928243\n",
      "3.389535804476462\n",
      "3.389180445916655\n",
      "3.3888286240544687\n",
      "3.388480287538772\n",
      "3.388135385846458\n",
      "3.3877938692675533\n",
      "3.387455688890616\n",
      "3.3871207965884453\n"
     ]
    },
    {
     "name": "stderr",
     "output_type": "stream",
     "text": [
      "\r",
      " 30%|███       | 30/100 [01:22<02:57,  2.53s/it]"
     ]
    },
    {
     "name": "stdout",
     "output_type": "stream",
     "text": [
      "3.386789145004063\n",
      "Epoch 0, Loss 3.386789145004063\n",
      "3.3864606875369856\n",
      "3.3861353783297674\n",
      "3.385813172254807\n",
      "3.3854940249014254\n",
      "3.3851778925631932\n",
      "3.384864732225513\n",
      "3.3845545015534437\n",
      "3.3842471588797656\n",
      "3.3839426631932823\n"
     ]
    },
    {
     "name": "stderr",
     "output_type": "stream",
     "text": [
      "\r",
      " 31%|███       | 31/100 [01:25<03:00,  2.62s/it]"
     ]
    },
    {
     "name": "stdout",
     "output_type": "stream",
     "text": [
      "3.383640974127349\n",
      "Epoch 0, Loss 3.383640974127349\n",
      "3.383342051948624\n",
      "3.383045857546046\n",
      "3.382752352420019\n",
      "3.3824614986718076\n",
      "3.3821732589931446\n",
      "3.3818875966560373\n",
      "3.3816044755027552\n",
      "3.3813238599360385\n"
     ]
    },
    {
     "name": "stderr",
     "output_type": "stream",
     "text": [
      "\r",
      " 32%|███▏      | 32/100 [01:28<03:05,  2.73s/it]"
     ]
    },
    {
     "name": "stdout",
     "output_type": "stream",
     "text": [
      "3.381045714909467\n",
      "3.3807700059180346\n",
      "Epoch 0, Loss 3.3807700059180346\n",
      "3.3804966989888885\n",
      "3.3802257606722548\n",
      "3.3799571580325285\n",
      "3.379690858639547\n",
      "3.3794268305600057\n",
      "3.379165042349061\n",
      "3.378905463042071\n",
      "3.3786480621465076\n",
      "3.378392809634007\n"
     ]
    },
    {
     "name": "stderr",
     "output_type": "stream",
     "text": [
      "\r",
      " 33%|███▎      | 33/100 [01:30<02:56,  2.63s/it]"
     ]
    },
    {
     "name": "stdout",
     "output_type": "stream",
     "text": [
      "3.3781396759325766\n",
      "Epoch 0, Loss 3.3781396759325766\n",
      "3.37788863191895\n",
      "3.3776396489110763\n",
      "3.37739269866075\n",
      "3.3771477533463927\n",
      "3.376904785565946\n",
      "3.3766637683299074\n",
      "3.376424675054502\n",
      "3.376187479554961\n",
      "3.3759521560389447\n"
     ]
    },
    {
     "name": "stderr",
     "output_type": "stream",
     "text": [
      "\r",
      " 34%|███▍      | 34/100 [01:33<03:02,  2.77s/it]"
     ]
    },
    {
     "name": "stdout",
     "output_type": "stream",
     "text": [
      "3.3757186791000664\n",
      "Epoch 0, Loss 3.3757186791000664\n",
      "3.3754870237115497\n",
      "3.3752571652199945\n",
      "3.375029079339257\n",
      "3.374802742144442\n",
      "3.3745781300660065\n",
      "3.3743552198839617\n",
      "3.3741339887221904\n",
      "3.373914414042861\n",
      "3.3736964736409414\n"
     ]
    },
    {
     "name": "stderr",
     "output_type": "stream",
     "text": [
      "\r",
      " 35%|███▌      | 35/100 [01:37<03:16,  3.02s/it]"
     ]
    },
    {
     "name": "stdout",
     "output_type": "stream",
     "text": [
      "3.3734801456388115\n",
      "Epoch 0, Loss 3.3734801456388115\n",
      "3.3732654084809788\n",
      "3.373052240928877\n",
      "3.3728406220557656\n",
      "3.372630531241722\n",
      "3.3724219481687134\n",
      "3.3722148528157625\n",
      "3.372009225454202\n",
      "3.3718050466430025\n",
      "3.3716022972241926\n"
     ]
    },
    {
     "name": "stderr",
     "output_type": "stream",
     "text": [
      "\r",
      " 36%|███▌      | 36/100 [01:40<03:16,  3.07s/it]"
     ]
    },
    {
     "name": "stdout",
     "output_type": "stream",
     "text": [
      "3.3714009583183575\n",
      "Epoch 0, Loss 3.3714009583183575\n",
      "3.3712010113202093\n",
      "3.371002437894248\n",
      "3.370805219970485\n",
      "3.3706093397402483\n",
      "3.3704147796520645\n",
      "3.3702215224076006\n",
      "3.3700295509576907\n",
      "3.3698388484984187\n",
      "3.3696493984672746\n"
     ]
    },
    {
     "name": "stderr",
     "output_type": "stream",
     "text": [
      "\r",
      " 37%|███▋      | 37/100 [01:44<03:19,  3.17s/it]"
     ]
    },
    {
     "name": "stdout",
     "output_type": "stream",
     "text": [
      "3.3694611845393814\n",
      "Epoch 0, Loss 3.3694611845393814\n",
      "3.3692741906237753\n",
      "3.3690884008597664\n",
      "3.368903799613342\n",
      "3.3687203714736476\n",
      "3.368538101249524\n",
      "3.368356973966097\n",
      "3.3681769748614308\n",
      "3.3679980893832444\n",
      "3.3678203031856664\n"
     ]
    },
    {
     "name": "stderr",
     "output_type": "stream",
     "text": [
      "\r",
      " 38%|███▊      | 38/100 [01:47<03:23,  3.28s/it]"
     ]
    },
    {
     "name": "stdout",
     "output_type": "stream",
     "text": [
      "3.367643602126063\n",
      "Epoch 0, Loss 3.367643602126063\n",
      "3.367467972261909\n",
      "3.367293399847716\n",
      "3.3671198713320067\n",
      "3.3669473733543516\n",
      "3.3667758927424427\n",
      "3.36660541650922\n",
      "3.3664359318500545\n",
      "3.366267426139968\n",
      "3.366099886930899\n"
     ]
    },
    {
     "name": "stderr",
     "output_type": "stream",
     "text": [
      "\r",
      " 39%|███▉      | 39/100 [01:51<03:25,  3.36s/it]"
     ]
    },
    {
     "name": "stdout",
     "output_type": "stream",
     "text": [
      "3.3659333019490245\n",
      "Epoch 0, Loss 3.3659333019490245\n",
      "3.3657676590921186\n",
      "3.365602946426949\n",
      "3.365439152186733\n",
      "3.365276264768619\n",
      "3.3651142727312235\n",
      "3.364953164792194\n",
      "3.3647929298258257\n",
      "3.3646335568607117\n",
      "3.364475035077427\n"
     ]
    },
    {
     "name": "stderr",
     "output_type": "stream",
     "text": [
      "\r",
      " 40%|████      | 40/100 [01:53<03:06,  3.10s/it]"
     ]
    },
    {
     "name": "stdout",
     "output_type": "stream",
     "text": [
      "3.3643173538062547\n",
      "Epoch 0, Loss 3.3643173538062547\n",
      "3.3641605025249617\n",
      "3.364004470856579\n",
      "3.3638492485672535\n",
      "3.3636948255641124\n",
      "3.3635411918931695\n",
      "3.363388337737261\n",
      "3.3632362534140294\n",
      "3.363084929373915\n",
      "3.362934356198203\n"
     ]
    },
    {
     "name": "stderr",
     "output_type": "stream",
     "text": [
      "\r",
      " 41%|████      | 41/100 [01:56<02:54,  2.95s/it]"
     ]
    },
    {
     "name": "stdout",
     "output_type": "stream",
     "text": [
      "3.36278452459709\n",
      "Epoch 0, Loss 3.36278452459709\n",
      "3.3626354254077833\n",
      "3.362487049592633\n",
      "3.362339388237292\n",
      "3.3621924325489063\n",
      "3.3620461738543352\n",
      "3.3619006035983974\n",
      "3.361755713342145\n",
      "3.361611494761168\n",
      "3.3614679396439264\n"
     ]
    },
    {
     "name": "stderr",
     "output_type": "stream",
     "text": [
      "\r",
      " 42%|████▏     | 42/100 [01:59<02:46,  2.87s/it]"
     ]
    },
    {
     "name": "stdout",
     "output_type": "stream",
     "text": [
      "3.3613250398901\n",
      "Epoch 0, Loss 3.3613250398901\n",
      "3.3611827875089753\n",
      "3.361041174617855\n",
      "3.3609001934404827\n",
      "3.360759836305509\n",
      "3.360620095644968\n",
      "3.360480963992787\n",
      "3.360342433983308\n",
      "3.3602044983498507\n",
      "3.3600671499232786\n"
     ]
    },
    {
     "name": "stderr",
     "output_type": "stream",
     "text": [
      "\r",
      " 43%|████▎     | 43/100 [02:02<02:53,  3.04s/it]"
     ]
    },
    {
     "name": "stdout",
     "output_type": "stream",
     "text": [
      "3.3599303816305954\n",
      "Epoch 0, Loss 3.3599303816305954\n",
      "3.3597941864935725\n",
      "3.3596585576273785\n",
      "3.3595234882392493\n",
      "3.359388971627164\n",
      "3.3592550011785507\n",
      "3.3591215703690085\n",
      "3.35898867276105\n",
      "3.358856302002862\n",
      "3.358724451827087\n"
     ]
    },
    {
     "name": "stderr",
     "output_type": "stream",
     "text": [
      "\r",
      " 44%|████▍     | 44/100 [02:05<02:57,  3.16s/it]"
     ]
    },
    {
     "name": "stdout",
     "output_type": "stream",
     "text": [
      "3.3585931160496245\n",
      "Epoch 0, Loss 3.3585931160496245\n",
      "3.358462288568444\n",
      "3.358331963362428\n",
      "3.3582021344902198\n",
      "3.3580727960891\n",
      "3.357943942373869\n",
      "3.3578155676357597\n",
      "3.3576876662413553\n",
      "3.3575602326315304\n",
      "3.3574332613204034\n"
     ]
    },
    {
     "name": "stderr",
     "output_type": "stream",
     "text": [
      "\r",
      " 45%|████▌     | 45/100 [02:09<03:08,  3.43s/it]"
     ]
    },
    {
     "name": "stdout",
     "output_type": "stream",
     "text": [
      "3.3573067468943076\n",
      "Epoch 0, Loss 3.3573067468943076\n",
      "3.3571806840107814\n",
      "3.357055067397564\n",
      "3.3569298918516166\n",
      "3.3568051522381497\n",
      "3.356680843489675\n",
      "3.3565569606050603\n",
      "3.3564334986486095\n",
      "3.356310452749143\n",
      "3.3561878180991096\n"
     ]
    },
    {
     "name": "stderr",
     "output_type": "stream",
     "text": [
      "\r",
      " 46%|████▌     | 46/100 [02:12<02:55,  3.24s/it]"
     ]
    },
    {
     "name": "stdout",
     "output_type": "stream",
     "text": [
      "3.3560655899536944\n",
      "Epoch 0, Loss 3.3560655899536944\n",
      "3.355943763629949\n",
      "3.355822334505941\n",
      "3.3557012980198935\n",
      "3.3555806496693674\n",
      "3.3554603850104323\n",
      "3.35534049965686\n",
      "3.3552209892793305\n",
      "3.3551018496046425\n",
      "3.3549830764149458\n"
     ]
    },
    {
     "name": "stderr",
     "output_type": "stream",
     "text": [
      "\r",
      " 47%|████▋     | 47/100 [02:15<02:44,  3.11s/it]"
     ]
    },
    {
     "name": "stdout",
     "output_type": "stream",
     "text": [
      "3.3548646655469776\n",
      "Epoch 0, Loss 3.3548646655469776\n",
      "3.354746612891312\n",
      "3.35462891439162\n",
      "3.354511566043943\n",
      "3.354394563895975\n",
      "3.354277904046355\n",
      "3.3541615826439672\n",
      "3.3540455958872637\n",
      "3.3539299400235754\n",
      "3.353814611348455\n"
     ]
    },
    {
     "name": "stderr",
     "output_type": "stream",
     "text": [
      "\r",
      " 48%|████▊     | 48/100 [02:18<02:41,  3.11s/it]"
     ]
    },
    {
     "name": "stdout",
     "output_type": "stream",
     "text": [
      "3.353699606205019\n",
      "Epoch 0, Loss 3.353699606205019\n",
      "3.3535849209832937\n",
      "3.3534705521195867\n",
      "3.353356496095851\n",
      "3.353242749439068\n",
      "3.3531293087206397\n",
      "3.3530161705557817\n",
      "3.352903331602936\n",
      "3.3527907885631834\n",
      "3.352678538179665\n"
     ]
    },
    {
     "name": "stderr",
     "output_type": "stream",
     "text": [
      "\r",
      " 49%|████▉     | 49/100 [02:21<02:33,  3.02s/it]"
     ]
    },
    {
     "name": "stdout",
     "output_type": "stream",
     "text": [
      "3.3525665772370217\n",
      "Epoch 0, Loss 3.3525665772370217\n",
      "3.3524549025608263\n",
      "3.352343511017044\n",
      "3.3522323995114727\n",
      "3.3521215649892215\n",
      "3.3520110044341753\n",
      "3.3519007148684783\n",
      "3.3517906933520156\n",
      "3.3516809369819147\n",
      "3.351571442892041\n"
     ]
    },
    {
     "name": "stderr",
     "output_type": "stream",
     "text": [
      "\r",
      " 50%|█████     | 50/100 [02:24<02:30,  3.02s/it]"
     ]
    },
    {
     "name": "stdout",
     "output_type": "stream",
     "text": [
      "3.3514622082525096\n",
      "Epoch 0, Loss 3.3514622082525096\n",
      "3.351353230269202\n",
      "3.3512445061832827\n",
      "3.3511360332707376\n",
      "3.3510278088419008\n",
      "3.350919830241005\n",
      "3.3508120948457254\n",
      "3.3507046000667375\n",
      "3.3505973433472764\n"
     ]
    },
    {
     "name": "stderr",
     "output_type": "stream",
     "text": [
      "\r",
      " 51%|█████     | 51/100 [02:27<02:25,  2.97s/it]"
     ]
    },
    {
     "name": "stdout",
     "output_type": "stream",
     "text": [
      "3.35049032216271\n",
      "3.3503835340201062\n",
      "Epoch 0, Loss 3.3503835340201062\n",
      "3.350276976457819\n",
      "3.3501706470450703\n",
      "3.350064543381541\n",
      "3.349958663096976\n",
      "3.3498530038507774\n",
      "3.349747563331618\n",
      "3.3496423392570565\n",
      "3.349537329373156\n",
      "3.349432531454108\n"
     ]
    },
    {
     "name": "stderr",
     "output_type": "stream",
     "text": [
      "\r",
      " 52%|█████▏    | 52/100 [02:30<02:24,  3.01s/it]"
     ]
    },
    {
     "name": "stdout",
     "output_type": "stream",
     "text": [
      "3.3493279433018617\n",
      "Epoch 0, Loss 3.3493279433018617\n",
      "3.349223562745763\n",
      "3.349119387642191\n",
      "3.3490154158742045\n",
      "3.348911645351195\n",
      "3.348808074008536\n",
      "3.3487046998072505\n",
      "3.3486015207336672\n",
      "3.348498534799097\n",
      "3.3483957400395044\n"
     ]
    },
    {
     "name": "stderr",
     "output_type": "stream",
     "text": [
      "\r",
      " 53%|█████▎    | 53/100 [02:33<02:15,  2.87s/it]"
     ]
    },
    {
     "name": "stdout",
     "output_type": "stream",
     "text": [
      "3.3482931345151825\n",
      "Epoch 0, Loss 3.3482931345151825\n",
      "3.348190716310441\n",
      "3.348088483533291\n",
      "3.347986434315135\n",
      "3.3478845668104666\n",
      "3.3477828791965645\n",
      "3.3476813696732046\n",
      "3.3475800364623605\n",
      "3.3474788778079168\n",
      "3.347377891975392\n"
     ]
    },
    {
     "name": "stderr",
     "output_type": "stream",
     "text": [
      "\r",
      " 54%|█████▍    | 54/100 [02:36<02:16,  2.97s/it]"
     ]
    },
    {
     "name": "stdout",
     "output_type": "stream",
     "text": [
      "3.3472770772516487\n",
      "Epoch 0, Loss 3.3472770772516487\n",
      "3.3471764319446273\n",
      "3.3470759543830613\n",
      "3.3469756429162207\n",
      "3.3468754959136393\n",
      "3.346775511764857\n",
      "3.3466756888791602\n",
      "3.3465760256853274\n",
      "3.3464765206313776\n",
      "3.3463771721843245\n"
     ]
    },
    {
     "name": "stderr",
     "output_type": "stream",
     "text": [
      "\r",
      " 55%|█████▌    | 55/100 [02:39<02:13,  2.97s/it]"
     ]
    },
    {
     "name": "stdout",
     "output_type": "stream",
     "text": [
      "3.346277978829933\n",
      "Epoch 0, Loss 3.346277978829933\n",
      "3.3461789390724737\n",
      "3.3460800514344915\n",
      "3.3459813144565635\n",
      "3.345882726697078\n",
      "3.345784286731998\n",
      "3.3456859931546346\n",
      "3.3455878445754377\n",
      "3.3454898396217616\n",
      "3.345391976937659\n"
     ]
    },
    {
     "name": "stderr",
     "output_type": "stream",
     "text": [
      "\r",
      " 56%|█████▌    | 56/100 [02:42<02:10,  2.97s/it]"
     ]
    },
    {
     "name": "stdout",
     "output_type": "stream",
     "text": [
      "3.345294255183662\n",
      "Epoch 0, Loss 3.345294255183662\n",
      "3.345196673036578\n",
      "3.345099229189276\n",
      "3.3450019223504848\n",
      "3.3449047512445893\n",
      "3.344807714611435\n",
      "3.344710811206129\n",
      "3.344614039798845\n",
      "3.344517399174633\n"
     ]
    },
    {
     "name": "stderr",
     "output_type": "stream",
     "text": [
      "\r",
      " 57%|█████▋    | 57/100 [02:44<02:01,  2.83s/it]"
     ]
    },
    {
     "name": "stdout",
     "output_type": "stream",
     "text": [
      "3.344420888133229\n",
      "3.344324505488873\n",
      "Epoch 0, Loss 3.344324505488873\n",
      "3.344228250070121\n",
      "3.344132120719663\n",
      "3.344036116294149\n",
      "3.3439402356640073\n",
      "3.3438444777132714\n",
      "3.3437488413394125\n",
      "3.343653325453162\n",
      "3.34355792897835\n",
      "3.343462650851739\n"
     ]
    },
    {
     "name": "stderr",
     "output_type": "stream",
     "text": [
      "\r",
      " 58%|█████▊    | 58/100 [02:48<02:08,  3.07s/it]"
     ]
    },
    {
     "name": "stdout",
     "output_type": "stream",
     "text": [
      "3.343367490022859\n",
      "Epoch 0, Loss 3.343367490022859\n",
      "3.3432724454538483\n",
      "3.3431775161192956\n",
      "3.3430827010060793\n",
      "3.3429879991132188\n",
      "3.3428934094517158\n",
      "3.342798931044409\n",
      "3.342704562925821\n",
      "3.3426103041420174\n",
      "3.342516153750456\n"
     ]
    },
    {
     "name": "stderr",
     "output_type": "stream",
     "text": [
      "\r",
      " 59%|█████▉    | 59/100 [02:51<02:12,  3.22s/it]"
     ]
    },
    {
     "name": "stdout",
     "output_type": "stream",
     "text": [
      "3.3424221108198466\n",
      "Epoch 0, Loss 3.3424221108198466\n",
      "3.342328174430012\n",
      "3.3422343436717443\n",
      "3.3421406176466744\n",
      "3.3420469954671304\n",
      "3.341953476256003\n",
      "3.341860059146622\n",
      "3.341766743282619\n",
      "3.341673527817797\n",
      "3.3415804119160124\n"
     ]
    },
    {
     "name": "stderr",
     "output_type": "stream",
     "text": [
      "\r",
      " 60%|██████    | 60/100 [02:54<02:07,  3.19s/it]"
     ]
    },
    {
     "name": "stdout",
     "output_type": "stream",
     "text": [
      "3.341487394751041\n",
      "Epoch 0, Loss 3.341487394751041\n",
      "3.341394475506461\n",
      "3.3413016533755235\n",
      "3.3412089275610404\n",
      "3.3411162972752626\n",
      "3.3410237617397573\n",
      "3.340931320185301\n",
      "3.3408389718517584\n",
      "3.3407467159879745\n",
      "3.34065455185166\n"
     ]
    },
    {
     "name": "stderr",
     "output_type": "stream",
     "text": [
      "\r",
      " 61%|██████    | 61/100 [02:57<02:02,  3.13s/it]"
     ]
    },
    {
     "name": "stdout",
     "output_type": "stream",
     "text": [
      "3.340562478709285\n",
      "Epoch 0, Loss 3.340562478709285\n",
      "3.3404704958359632\n",
      "3.3403786025153535\n",
      "3.340286798039549\n",
      "3.3401950817089747\n",
      "3.340103452832286\n",
      "3.340011910726262\n",
      "3.3399204547157098\n",
      "3.339829084133363\n",
      "3.3397377983197853\n"
     ]
    },
    {
     "name": "stderr",
     "output_type": "stream",
     "text": [
      "\r",
      " 62%|██████▏   | 62/100 [03:00<01:55,  3.03s/it]"
     ]
    },
    {
     "name": "stdout",
     "output_type": "stream",
     "text": [
      "3.339646596623277\n",
      "Epoch 0, Loss 3.339646596623277\n",
      "3.3395554783997703\n",
      "3.3394644430127456\n",
      "3.3393734898331315\n",
      "3.339282618239218\n",
      "3.339191827616564\n",
      "3.339101117357906\n",
      "3.3390104868630734\n",
      "3.3389199355388985\n",
      "3.3388294627991333\n"
     ]
    },
    {
     "name": "stderr",
     "output_type": "stream",
     "text": [
      "\r",
      " 63%|██████▎   | 63/100 [03:04<01:55,  3.12s/it]"
     ]
    },
    {
     "name": "stdout",
     "output_type": "stream",
     "text": [
      "3.338739068064363\n",
      "Epoch 0, Loss 3.338739068064363\n",
      "3.3386487507619207\n",
      "3.3385585103258086\n",
      "3.3384683461966134\n",
      "3.338378257821428\n",
      "3.338288244653766\n",
      "3.338198306153492\n",
      "3.3381084417867375\n",
      "3.338018651025827\n",
      "3.3379289333492017\n"
     ]
    },
    {
     "name": "stderr",
     "output_type": "stream",
     "text": [
      "\r",
      " 64%|██████▍   | 64/100 [03:08<02:06,  3.50s/it]"
     ]
    },
    {
     "name": "stdout",
     "output_type": "stream",
     "text": [
      "3.3378392882413443\n",
      "Epoch 0, Loss 3.3378392882413443\n",
      "3.3377497151927065\n",
      "3.3376602136996336\n",
      "3.337570783264298\n",
      "3.3374814233946215\n",
      "3.337392133604212\n",
      "3.3373029134122874\n",
      "3.3372137623436116\n",
      "3.33712467992843\n",
      "3.337035665702393\n"
     ]
    },
    {
     "name": "stderr",
     "output_type": "stream",
     "text": [
      "\r",
      " 65%|██████▌   | 65/100 [03:11<01:56,  3.32s/it]"
     ]
    },
    {
     "name": "stdout",
     "output_type": "stream",
     "text": [
      "3.3369467192065008\n",
      "Epoch 0, Loss 3.3369467192065008\n",
      "3.3368578399870343\n",
      "3.3367690275954853\n",
      "3.3366802815885075\n",
      "3.3365916015278376\n",
      "3.336502986980245\n",
      "3.336414437517465\n",
      "3.336325952716143\n",
      "3.33623753215777\n",
      "3.3361491754286305\n"
     ]
    },
    {
     "name": "stderr",
     "output_type": "stream",
     "text": [
      "\r",
      " 66%|██████▌   | 66/100 [03:14<01:51,  3.28s/it]"
     ]
    },
    {
     "name": "stdout",
     "output_type": "stream",
     "text": [
      "3.3360608821197357\n",
      "Epoch 0, Loss 3.3360608821197357\n",
      "3.335972651826776\n",
      "3.3358844841500557\n",
      "3.335796378694446\n",
      "3.3357083350693206\n",
      "3.335620352888507\n",
      "3.335532431770236\n",
      "3.335444571337078\n",
      "3.3353567712159014\n"
     ]
    },
    {
     "name": "stderr",
     "output_type": "stream",
     "text": [
      "\r",
      " 67%|██████▋   | 67/100 [03:17<01:42,  3.11s/it]"
     ]
    },
    {
     "name": "stdout",
     "output_type": "stream",
     "text": [
      "3.335269031037814\n",
      "3.3351813504381167\n",
      "Epoch 0, Loss 3.3351813504381167\n",
      "3.335093729056247\n",
      "3.3350061665357367\n",
      "3.3349186625241565\n",
      "3.33483121667307\n",
      "3.3347438286379854\n",
      "3.3346564980783095\n",
      "3.3345692246572973\n",
      "3.3344820080420106\n",
      "3.3343948479032655\n"
     ]
    },
    {
     "name": "stderr",
     "output_type": "stream",
     "text": [
      "\r",
      " 68%|██████▊   | 68/100 [03:20<01:37,  3.05s/it]"
     ]
    },
    {
     "name": "stdout",
     "output_type": "stream",
     "text": [
      "3.334307743915597\n",
      "Epoch 0, Loss 3.334307743915597\n",
      "3.3342206957572045\n",
      "3.334133703109914\n",
      "3.334046765659134\n",
      "3.33395988309381\n",
      "3.333873055106384\n",
      "3.3337862813927535\n",
      "3.333699561652227\n",
      "3.3336128955874877\n",
      "3.3335262829045478\n"
     ]
    },
    {
     "name": "stderr",
     "output_type": "stream",
     "text": [
      "\r",
      " 69%|██████▉   | 69/100 [03:23<01:34,  3.03s/it]"
     ]
    },
    {
     "name": "stdout",
     "output_type": "stream",
     "text": [
      "3.3334397233127144\n",
      "Epoch 0, Loss 3.3334397233127144\n",
      "3.333353216524547\n",
      "3.3332667622558154\n",
      "3.3331803602254713\n",
      "3.333094010155598\n",
      "3.3330077117713817\n",
      "3.3329214648010734\n",
      "3.332835268975948\n",
      "3.3327491240302733\n",
      "3.33266302970127\n"
     ]
    },
    {
     "name": "stderr",
     "output_type": "stream",
     "text": [
      "\r",
      " 70%|███████   | 70/100 [03:26<01:33,  3.12s/it]"
     ]
    },
    {
     "name": "stdout",
     "output_type": "stream",
     "text": [
      "3.332576985729082\n",
      "Epoch 0, Loss 3.332576985729082\n",
      "3.332490991856735\n",
      "3.332405047830107\n",
      "3.3323191533978935\n",
      "3.3322333083115723\n",
      "3.3321475123253723\n",
      "3.3320617651962414\n",
      "3.33197606668381\n",
      "3.3318904165503644\n",
      "3.331804814560812\n"
     ]
    },
    {
     "name": "stderr",
     "output_type": "stream",
     "text": [
      "\r",
      " 71%|███████   | 71/100 [03:30<01:34,  3.25s/it]"
     ]
    },
    {
     "name": "stdout",
     "output_type": "stream",
     "text": [
      "3.3317192604826515\n",
      "Epoch 0, Loss 3.3317192604826515\n",
      "3.3316337540859418\n",
      "3.3315482951432713\n",
      "3.331462883429729\n",
      "3.331377518722875\n",
      "3.3312922008027086\n",
      "3.3312069294516413\n",
      "3.33112170445447\n",
      "3.3310365255983467\n",
      "3.3309513926727496\n"
     ]
    },
    {
     "name": "stderr",
     "output_type": "stream",
     "text": [
      "\r",
      " 72%|███████▏  | 72/100 [03:34<01:43,  3.69s/it]"
     ]
    },
    {
     "name": "stdout",
     "output_type": "stream",
     "text": [
      "3.3308663054694585\n",
      "Epoch 0, Loss 3.3308663054694585\n",
      "3.330781263782525\n",
      "3.3306962674082476\n",
      "3.330611316145143\n",
      "3.330526409793923\n",
      "3.3304415481574674\n",
      "3.330356731040794\n",
      "3.3302719582510423\n",
      "3.3301872295974393\n",
      "3.3301025448912798\n"
     ]
    },
    {
     "name": "stderr",
     "output_type": "stream",
     "text": [
      "\r",
      " 73%|███████▎  | 73/100 [03:37<01:30,  3.33s/it]"
     ]
    },
    {
     "name": "stdout",
     "output_type": "stream",
     "text": [
      "3.330017903945905\n",
      "Epoch 0, Loss 3.330017903945905\n",
      "3.329933306576671\n",
      "3.329848752600929\n",
      "3.329764241838003\n",
      "3.3296797741091644\n",
      "3.329595349237611\n",
      "3.3295109670484404\n",
      "3.3294266273686346\n",
      "3.3293423300270297\n",
      "3.329258074854302\n"
     ]
    },
    {
     "name": "stderr",
     "output_type": "stream",
     "text": [
      "\r",
      " 74%|███████▍  | 74/100 [03:39<01:21,  3.14s/it]"
     ]
    },
    {
     "name": "stdout",
     "output_type": "stream",
     "text": [
      "3.3291738616829405\n",
      "Epoch 0, Loss 3.3291738616829405\n",
      "3.3290896903472262\n",
      "3.3290055606832167\n",
      "3.3289214725287173\n",
      "3.3288374257232674\n",
      "3.328753420108116\n",
      "3.3286694555262017\n",
      "3.328585531822136\n",
      "3.328501648842182\n",
      "3.3284178064342327\n"
     ]
    },
    {
     "name": "stderr",
     "output_type": "stream",
     "text": [
      "\r",
      " 75%|███████▌  | 75/100 [03:42<01:15,  3.04s/it]"
     ]
    },
    {
     "name": "stdout",
     "output_type": "stream",
     "text": [
      "3.328334004447797\n",
      "Epoch 0, Loss 3.328334004447797\n",
      "3.3282502427339753\n",
      "3.328166521145444\n",
      "3.3280828395364392\n",
      "3.3279991977627317\n",
      "3.327915595681617\n",
      "3.327832033151891\n",
      "3.3277485100338366\n",
      "3.327665026189205\n",
      "3.327581581481197\n"
     ]
    },
    {
     "name": "stderr",
     "output_type": "stream",
     "text": [
      "\r",
      " 76%|███████▌  | 76/100 [03:46<01:15,  3.15s/it]"
     ]
    },
    {
     "name": "stdout",
     "output_type": "stream",
     "text": [
      "3.3274981757744495\n",
      "Epoch 0, Loss 3.3274981757744495\n",
      "3.327414808935015\n",
      "3.3273314808303485\n",
      "3.3272481913292893\n",
      "3.3271649403020427\n",
      "3.3270817276201705\n",
      "3.326998553156569\n",
      "3.3269154167854555\n",
      "3.326832318382354\n",
      "3.326749257824078\n"
     ]
    },
    {
     "name": "stderr",
     "output_type": "stream",
     "text": [
      "\r",
      " 77%|███████▋  | 77/100 [03:49<01:14,  3.23s/it]"
     ]
    },
    {
     "name": "stdout",
     "output_type": "stream",
     "text": [
      "3.3266662349887177\n",
      "Epoch 0, Loss 3.3266662349887177\n",
      "3.3265832497556236\n",
      "3.3265003020053934\n",
      "3.326417391619853\n",
      "3.3263345184820508\n",
      "3.326251682476234\n",
      "3.3261688834878407\n",
      "3.3260861214034843\n",
      "3.326003396110942\n",
      "3.325920707499135\n"
     ]
    },
    {
     "name": "stderr",
     "output_type": "stream",
     "text": [
      "\r",
      " 78%|███████▊  | 78/100 [03:52<01:07,  3.06s/it]"
     ]
    },
    {
     "name": "stdout",
     "output_type": "stream",
     "text": [
      "3.325838055458122\n",
      "Epoch 0, Loss 3.325838055458122\n",
      "3.3257554398790847\n",
      "3.3256728606543127\n",
      "3.3255903176771895\n",
      "3.3255078108421836\n",
      "3.3254253400448355\n",
      "3.325342905181741\n",
      "3.3252605061505456\n",
      "3.3251781428499267\n"
     ]
    },
    {
     "name": "stderr",
     "output_type": "stream",
     "text": [
      "\r",
      " 79%|███████▉  | 79/100 [03:55<01:07,  3.19s/it]"
     ]
    },
    {
     "name": "stdout",
     "output_type": "stream",
     "text": [
      "3.325095815179583\n",
      "3.3250135230402247\n",
      "Epoch 0, Loss 3.3250135230402247\n",
      "3.3249312663335595\n",
      "3.324849044962285\n",
      "3.3247668588300696\n",
      "3.3246847078415507\n",
      "3.324602591902316\n",
      "3.324520510918896\n",
      "3.324438464798753\n",
      "3.32435645345027\n",
      "3.324274476782739\n"
     ]
    },
    {
     "name": "stderr",
     "output_type": "stream",
     "text": [
      "\r",
      " 80%|████████  | 80/100 [03:58<00:59,  2.95s/it]"
     ]
    },
    {
     "name": "stdout",
     "output_type": "stream",
     "text": [
      "3.324192534706353\n",
      "Epoch 0, Loss 3.324192534706353\n",
      "3.3241106271321925\n",
      "3.324028753972217\n",
      "3.3239469151392553\n",
      "3.323865110546996\n",
      "3.3237833401099746\n",
      "3.3237016037435665\n",
      "3.3236199013639767\n",
      "3.3235382328882306\n",
      "3.3234565982341624\n"
     ]
    },
    {
     "name": "stderr",
     "output_type": "stream",
     "text": [
      "\r",
      " 81%|████████  | 81/100 [04:00<00:53,  2.82s/it]"
     ]
    },
    {
     "name": "stdout",
     "output_type": "stream",
     "text": [
      "3.3233749973204083\n",
      "Epoch 0, Loss 3.3233749973204083\n",
      "3.3232934300663968\n",
      "3.3232118963923396\n",
      "3.323130396219221\n",
      "3.32304892946879\n",
      "3.322967496063553\n",
      "3.3228860959267648\n",
      "3.3228047289824167\n",
      "3.3227233951552306\n"
     ]
    },
    {
     "name": "stderr",
     "output_type": "stream",
     "text": [
      "\r",
      " 82%|████████▏ | 82/100 [04:03<00:49,  2.76s/it]"
     ]
    },
    {
     "name": "stdout",
     "output_type": "stream",
     "text": [
      "3.322642094370653\n",
      "3.3225608265548416\n",
      "Epoch 0, Loss 3.3225608265548416\n",
      "3.322479591634661\n",
      "3.3223983895376734\n",
      "3.3223172201921285\n",
      "3.322236083526961\n",
      "3.3221549794717764\n",
      "3.3220739079568493\n",
      "3.3219928689131093\n",
      "3.321911862272139\n",
      "3.3218308879661653\n"
     ]
    },
    {
     "name": "stderr",
     "output_type": "stream",
     "text": [
      "\r",
      " 83%|████████▎ | 83/100 [04:06<00:49,  2.92s/it]"
     ]
    },
    {
     "name": "stdout",
     "output_type": "stream",
     "text": [
      "3.321749945928049\n",
      "Epoch 0, Loss 3.321749945928049\n",
      "3.3216690360912824\n",
      "3.3215881583899765\n",
      "3.32150731275886\n",
      "3.321426499133267\n",
      "3.3213457174491334\n",
      "3.3212649676429886\n",
      "3.3211842496519473\n",
      "3.3211035634137094\n",
      "3.3210229088665426\n"
     ]
    },
    {
     "name": "stderr",
     "output_type": "stream",
     "text": [
      "\r",
      " 84%|████████▍ | 84/100 [04:09<00:46,  2.89s/it]"
     ]
    },
    {
     "name": "stdout",
     "output_type": "stream",
     "text": [
      "3.320942285949286\n",
      "Epoch 0, Loss 3.320942285949286\n",
      "3.3208616946013354\n",
      "3.320781134762647\n",
      "3.3207006063737197\n",
      "3.3206201093755947\n",
      "3.320539643709852\n",
      "3.320459209318598\n",
      "3.320378806144465\n",
      "3.3202984341306\n",
      "3.320218093220664\n"
     ]
    },
    {
     "name": "stderr",
     "output_type": "stream",
     "text": [
      "\r",
      " 85%|████████▌ | 85/100 [04:12<00:43,  2.89s/it]"
     ]
    },
    {
     "name": "stdout",
     "output_type": "stream",
     "text": [
      "3.320137783358823\n",
      "Epoch 0, Loss 3.320137783358823\n",
      "3.320057504489743\n",
      "3.3199772565585848\n",
      "3.319897039510998\n",
      "3.3198168532931147\n",
      "3.3197366978515457\n",
      "3.319656573133373\n",
      "3.319576479086147\n",
      "3.3194964156578792\n",
      "3.319416382797037\n"
     ]
    },
    {
     "name": "stderr",
     "output_type": "stream",
     "text": [
      "\r",
      " 86%|████████▌ | 86/100 [04:15<00:40,  2.92s/it]"
     ]
    },
    {
     "name": "stdout",
     "output_type": "stream",
     "text": [
      "3.319336380452539\n",
      "Epoch 0, Loss 3.319336380452539\n",
      "3.319256408573753\n",
      "3.3191764671104815\n",
      "3.319096556012971\n",
      "3.3190166752318935\n",
      "3.3189368247183473\n",
      "3.318857004423857\n",
      "3.318777214300359\n",
      "3.318697454300205\n",
      "3.3186177243761517\n"
     ]
    },
    {
     "name": "stderr",
     "output_type": "stream",
     "text": [
      "\r",
      " 87%|████████▋ | 87/100 [04:18<00:37,  2.91s/it]"
     ]
    },
    {
     "name": "stdout",
     "output_type": "stream",
     "text": [
      "3.3185380244813594\n",
      "Epoch 0, Loss 3.3185380244813594\n",
      "3.318458354569387\n",
      "3.318378714594186\n",
      "3.3182991045100994\n",
      "3.3182195242718526\n",
      "3.318139973834552\n",
      "3.3180604531536835\n",
      "3.317980962185099\n",
      "3.3179015008850237\n",
      "3.3178220692100426\n"
     ]
    },
    {
     "name": "stderr",
     "output_type": "stream",
     "text": [
      "\r",
      " 88%|████████▊ | 88/100 [04:20<00:34,  2.85s/it]"
     ]
    },
    {
     "name": "stdout",
     "output_type": "stream",
     "text": [
      "3.3177426671171037\n",
      "Epoch 0, Loss 3.3177426671171037\n",
      "3.3176632945635083\n",
      "3.317583951506908\n",
      "3.317504637905304\n",
      "3.317425353717043\n",
      "3.317346098900807\n",
      "3.317266873415618\n",
      "3.3171876772208266\n",
      "3.3171085102761135\n",
      "3.3170293725414863\n"
     ]
    },
    {
     "name": "stderr",
     "output_type": "stream",
     "text": [
      "\r",
      " 89%|████████▉ | 89/100 [04:24<00:32,  2.98s/it]"
     ]
    },
    {
     "name": "stdout",
     "output_type": "stream",
     "text": [
      "3.31695026397727\n",
      "Epoch 0, Loss 3.31695026397727\n",
      "3.316871184544109\n",
      "3.3167921342029625\n",
      "3.3167131129150986\n",
      "3.316634120642092\n",
      "3.316555157345823\n",
      "3.31647622298847\n",
      "3.316397317532509\n",
      "3.316318440940711\n",
      "3.316239593176132\n"
     ]
    },
    {
     "name": "stderr",
     "output_type": "stream",
     "text": [
      "\r",
      " 90%|█████████ | 90/100 [04:26<00:29,  2.93s/it]"
     ]
    },
    {
     "name": "stdout",
     "output_type": "stream",
     "text": [
      "3.316160774202121\n",
      "Epoch 0, Loss 3.316160774202121\n",
      "3.316081983982308\n",
      "3.3160032224806026\n",
      "3.3159244896611937\n",
      "3.3158457854885426\n",
      "3.3157671099273833\n",
      "3.3156884629427172\n",
      "3.315609844499811\n",
      "3.3155312545641946\n",
      "3.3154526931016557\n"
     ]
    },
    {
     "name": "stderr",
     "output_type": "stream",
     "text": [
      "\r",
      " 91%|█████████ | 91/100 [04:29<00:26,  2.90s/it]"
     ]
    },
    {
     "name": "stdout",
     "output_type": "stream",
     "text": [
      "3.315374160078237\n",
      "Epoch 0, Loss 3.315374160078237\n",
      "3.315295655460241\n",
      "3.3152171792142147\n",
      "3.315138731306954\n",
      "3.3150603117055013\n",
      "3.314981920377143\n",
      "3.3149035572894014\n",
      "3.314825222410039\n",
      "3.314746915707051\n",
      "3.3146686371486664\n"
     ]
    },
    {
     "name": "stderr",
     "output_type": "stream",
     "text": [
      "\r",
      " 92%|█████████▏| 92/100 [04:32<00:22,  2.83s/it]"
     ]
    },
    {
     "name": "stdout",
     "output_type": "stream",
     "text": [
      "3.314590386703341\n",
      "Epoch 0, Loss 3.314590386703341\n",
      "3.314512164339758\n",
      "3.314433970026826\n",
      "3.3143558037336756\n",
      "3.3142776654296533\n",
      "3.3141995550843264\n",
      "3.3141214726674737\n",
      "3.3140434181490894\n",
      "3.3139653914993725\n",
      "3.3138873926887347\n"
     ]
    },
    {
     "name": "stderr",
     "output_type": "stream",
     "text": [
      "\r",
      " 93%|█████████▎| 93/100 [04:35<00:20,  2.97s/it]"
     ]
    },
    {
     "name": "stdout",
     "output_type": "stream",
     "text": [
      "3.3138094216877896\n",
      "Epoch 0, Loss 3.3138094216877896\n",
      "3.3137314784673517\n",
      "3.313653562998442\n",
      "3.3135756752522743\n",
      "3.3134978152002623\n",
      "3.31341998281401\n",
      "3.3133421780653167\n",
      "3.31326440092617\n",
      "3.313186651368745\n",
      "3.3131089293654012\n"
     ]
    },
    {
     "name": "stderr",
     "output_type": "stream",
     "text": [
      "\r",
      " 94%|█████████▍| 94/100 [04:39<00:18,  3.13s/it]"
     ]
    },
    {
     "name": "stdout",
     "output_type": "stream",
     "text": [
      "3.3130312348886846\n",
      "Epoch 0, Loss 3.3130312348886846\n",
      "3.312953567911321\n",
      "3.3128759284062137\n",
      "3.312798316346449\n",
      "3.312720731705282\n",
      "3.312643174456146\n",
      "3.312565644572644\n",
      "3.3124881420285517\n",
      "3.312410666797809\n",
      "3.3123332188545227\n"
     ]
    },
    {
     "name": "stderr",
     "output_type": "stream",
     "text": [
      "\r",
      " 95%|█████████▌| 95/100 [04:42<00:15,  3.18s/it]"
     ]
    },
    {
     "name": "stdout",
     "output_type": "stream",
     "text": [
      "3.3122557981729663\n",
      "Epoch 0, Loss 3.3122557981729663\n",
      "3.312178404727575\n",
      "3.312101038492941\n",
      "3.312023699443821\n",
      "3.3119463875551265\n",
      "3.311869102801923\n",
      "3.311791845159432\n",
      "3.3117146146030256\n",
      "3.3116374111082263\n",
      "3.311560234650709\n"
     ]
    },
    {
     "name": "stderr",
     "output_type": "stream",
     "text": [
      "\r",
      " 96%|█████████▌| 96/100 [04:46<00:13,  3.40s/it]"
     ]
    },
    {
     "name": "stdout",
     "output_type": "stream",
     "text": [
      "3.3114830852062895\n",
      "Epoch 0, Loss 3.3114830852062895\n",
      "3.3114059627509342\n",
      "3.3113288672607526\n",
      "3.3112517987119947\n",
      "3.311174757081052\n",
      "3.3110977423444568\n",
      "3.3110207544788777\n",
      "3.310943793461121\n",
      "3.310866859268126\n",
      "3.3107899518769663\n"
     ]
    },
    {
     "name": "stderr",
     "output_type": "stream",
     "text": [
      "\r",
      " 97%|█████████▋| 97/100 [04:49<00:09,  3.25s/it]"
     ]
    },
    {
     "name": "stdout",
     "output_type": "stream",
     "text": [
      "3.3107130712648476\n",
      "Epoch 0, Loss 3.3107130712648476\n",
      "3.3106362174091064\n",
      "3.310559390287206\n",
      "3.3104825898767407\n",
      "3.3104058161554297\n",
      "3.310329069101116\n",
      "3.3102523486917663\n",
      "3.310175654905471\n",
      "3.3100989877204405\n",
      "3.310022347115005\n"
     ]
    },
    {
     "name": "stderr",
     "output_type": "stream",
     "text": [
      "\r",
      " 98%|█████████▊| 98/100 [04:51<00:05,  2.94s/it]"
     ]
    },
    {
     "name": "stdout",
     "output_type": "stream",
     "text": [
      "3.309945733067613\n",
      "Epoch 0, Loss 3.309945733067613\n",
      "3.309869145556829\n",
      "3.3097925845613347\n",
      "3.3097160500599254\n",
      "3.3096395420315097\n",
      "3.3095630604551096\n",
      "3.3094866053098553\n",
      "3.309410176574989\n",
      "3.3093337742298594\n",
      "3.3092573982539255\n"
     ]
    },
    {
     "name": "stderr",
     "output_type": "stream",
     "text": [
      "\r",
      " 99%|█████████▉| 99/100 [04:54<00:02,  2.89s/it]"
     ]
    },
    {
     "name": "stdout",
     "output_type": "stream",
     "text": [
      "3.309181048626749\n",
      "Epoch 0, Loss 3.309181048626749\n",
      "3.3091047253279986\n",
      "3.309028428337446\n",
      "3.308952157634966\n",
      "3.3088759132005356\n",
      "3.308799695014231\n",
      "3.3087235030562296\n",
      "3.3086473373068053\n",
      "3.308571197746333\n",
      "3.3084950843552776\n"
     ]
    },
    {
     "name": "stderr",
     "output_type": "stream",
     "text": [
      "100%|██████████| 100/100 [04:57<00:00,  2.98s/it]\n",
      "  0%|          | 0/100 [00:00<?, ?it/s]"
     ]
    },
    {
     "name": "stdout",
     "output_type": "stream",
     "text": [
      "6.931534815935584\n",
      "Epoch 0, Loss 6.931534815935584\n",
      "5.926292003548394\n",
      "5.25304361000745\n",
      "4.7923768848017145\n",
      "4.4684397050810345\n",
      "4.234397050481829\n",
      "4.061100855783728\n",
      "3.9299967231746065\n",
      "3.8289499606189605\n",
      "3.749806392373473\n"
     ]
    },
    {
     "name": "stderr",
     "output_type": "stream",
     "text": [
      "\r",
      "  1%|          | 1/100 [00:03<06:02,  3.66s/it]"
     ]
    },
    {
     "name": "stdout",
     "output_type": "stream",
     "text": [
      "3.6869457396882703\n",
      "Epoch 0, Loss 3.6869457396882703\n",
      "3.636403696460181\n",
      "3.595325405285082\n",
      "3.5616165203743937\n",
      "3.533715002338795\n",
      "3.510438497039197\n",
      "3.4908801420518687\n",
      "3.4743360811628032\n",
      "3.460254161337787\n",
      "3.4481970457338322\n"
     ]
    },
    {
     "name": "stderr",
     "output_type": "stream",
     "text": [
      "\r",
      "  2%|▏         | 2/100 [00:06<05:03,  3.10s/it]"
     ]
    },
    {
     "name": "stdout",
     "output_type": "stream",
     "text": [
      "3.4378153070468063\n",
      "Epoch 0, Loss 3.4378153070468063\n",
      "3.4288275400929913\n",
      "3.4210054833233055\n",
      "3.4141627629825417\n",
      "3.4081462899869055\n",
      "3.4028296217110117\n",
      "3.3981077947957683\n",
      "3.393893270181196\n",
      "3.390112726863284\n",
      "3.386704508886664\n"
     ]
    },
    {
     "name": "stderr",
     "output_type": "stream",
     "text": [
      "\r",
      "  3%|▎         | 3/100 [00:08<04:38,  2.87s/it]"
     ]
    },
    {
     "name": "stdout",
     "output_type": "stream",
     "text": [
      "3.3836165791603867\n",
      "Epoch 0, Loss 3.3836165791603867\n",
      "3.3808048694608517\n",
      "3.3782319423204674\n",
      "3.37586590006163\n",
      "3.373679490889818\n",
      "3.3716493730268486\n",
      "3.369755506287231\n",
      "3.367980646955827\n",
      "3.3663099268066037\n",
      "3.364730500971482\n"
     ]
    },
    {
     "name": "stderr",
     "output_type": "stream",
     "text": [
      "\r",
      "  4%|▍         | 4/100 [00:11<04:28,  2.80s/it]"
     ]
    },
    {
     "name": "stdout",
     "output_type": "stream",
     "text": [
      "3.3632312523920027\n",
      "Epoch 0, Loss 3.3632312523920027\n",
      "3.361802542963253\n",
      "3.360436003358032\n",
      "3.35912435501183\n",
      "3.3578612589410732\n",
      "3.356641187023431\n",
      "3.355459312139828\n",
      "3.354311414201729\n",
      "3.353193799594632\n",
      "3.3521032319825674\n"
     ]
    },
    {
     "name": "stderr",
     "output_type": "stream",
     "text": [
      "\r",
      "  5%|▌         | 5/100 [00:14<04:19,  2.73s/it]"
     ]
    },
    {
     "name": "stdout",
     "output_type": "stream",
     "text": [
      "3.351036872757637\n",
      "Epoch 0, Loss 3.351036872757637\n",
      "3.3499922296973894\n",
      "3.348967112622982\n",
      "3.347959595041424\n",
      "3.3469679809134236\n",
      "3.345990775820071\n",
      "3.3450266619116396\n",
      "3.3440744761139984\n",
      "3.3431331911455398\n",
      "3.3422018989628097\n"
     ]
    },
    {
     "name": "stderr",
     "output_type": "stream",
     "text": [
      "\r",
      "  6%|▌         | 6/100 [00:16<04:02,  2.58s/it]"
     ]
    },
    {
     "name": "stdout",
     "output_type": "stream",
     "text": [
      "3.3412797963080156\n",
      "Epoch 0, Loss 3.3412797963080156\n",
      "3.3403661720782227\n",
      "3.339460396275561\n",
      "3.338561910331341\n",
      "3.3376702186255978\n",
      "3.3367848810479797\n",
      "3.3359055064667977\n",
      "3.335031746990926\n",
      "3.3341632929245653\n",
      "3.3332998683281243\n"
     ]
    },
    {
     "name": "stderr",
     "output_type": "stream",
     "text": [
      "\r",
      "  7%|▋         | 7/100 [00:19<04:06,  2.65s/it]"
     ]
    },
    {
     "name": "stdout",
     "output_type": "stream",
     "text": [
      "3.3324412271097783\n",
      "Epoch 0, Loss 3.3324412271097783\n",
      "3.3315871495820883\n",
      "3.330737439426512\n",
      "3.329891921015954\n",
      "3.3290504370518175\n",
      "3.328212846477547\n",
      "3.3273790226353808\n",
      "3.326548851637201\n",
      "3.325722230923948\n",
      "3.3248990679912547\n"
     ]
    },
    {
     "name": "stderr",
     "output_type": "stream",
     "text": [
      "\r",
      "  8%|▊         | 8/100 [00:22<04:22,  2.86s/it]"
     ]
    },
    {
     "name": "stdout",
     "output_type": "stream",
     "text": [
      "3.3240792792616247\n",
      "Epoch 0, Loss 3.3240792792616247\n",
      "3.3232627890859434\n",
      "3.3224495288591345\n",
      "3.3216394362366573\n",
      "3.3208324544400893\n",
      "3.3200285316414844\n",
      "3.31922762041738\n",
      "3.318429677264452\n",
      "3.3176346621697204\n",
      "3.3168425382290576\n"
     ]
    },
    {
     "name": "stderr",
     "output_type": "stream",
     "text": [
      "\r",
      "  9%|▉         | 9/100 [00:25<04:07,  2.71s/it]"
     ]
    },
    {
     "name": "stdout",
     "output_type": "stream",
     "text": [
      "3.3160532713085007\n",
      "Epoch 0, Loss 3.3160532713085007\n",
      "3.3152668297434658\n",
      "3.3144831840715803\n",
      "3.313702306795308\n",
      "3.312924172171012\n",
      "3.3121487560214535\n",
      "3.3113760355691113\n",
      "3.310605989287961\n",
      "3.3098385967716633\n",
      "3.3090738386163054\n"
     ]
    },
    {
     "name": "stderr",
     "output_type": "stream",
     "text": [
      "\r",
      " 10%|█         | 10/100 [00:27<04:02,  2.69s/it]"
     ]
    },
    {
     "name": "stdout",
     "output_type": "stream",
     "text": [
      "3.308311696316085\n",
      "Epoch 0, Loss 3.308311696316085\n",
      "3.307552152170495\n",
      "3.3067951892017047\n",
      "3.306040791081039\n",
      "3.3052889420635156\n",
      "3.3045396269295635\n",
      "3.3037928309331237\n",
      "3.303048539755424\n",
      "3.302306739463806\n",
      "3.3015674164750455\n"
     ]
    },
    {
     "name": "stderr",
     "output_type": "stream",
     "text": [
      "\r",
      " 11%|█         | 11/100 [00:31<04:31,  3.05s/it]"
     ]
    },
    {
     "name": "stdout",
     "output_type": "stream",
     "text": [
      "3.300830557522663\n",
      "Epoch 0, Loss 3.300830557522663\n",
      "3.300096149627808\n",
      "3.2993641800732907\n",
      "3.2986346363804464\n",
      "3.2979075062885044\n",
      "3.2971827777361957\n",
      "3.2964604388453393\n",
      "3.2957404779062163\n",
      "3.2950228833645054\n",
      "3.2943076438096366\n"
     ]
    },
    {
     "name": "stderr",
     "output_type": "stream",
     "text": [
      "\r",
      " 12%|█▏        | 12/100 [00:35<04:59,  3.40s/it]"
     ]
    },
    {
     "name": "stdout",
     "output_type": "stream",
     "text": [
      "3.293594747964393\n",
      "Epoch 0, Loss 3.293594747964393\n",
      "3.2928841846756245\n",
      "3.292175942905954\n",
      "3.2914700117263784\n",
      "3.290766380309647\n",
      "3.2900650379243475\n",
      "3.2893659739296166\n",
      "3.288669177770411\n",
      "3.2879746389732727\n",
      "3.287282347142535\n"
     ]
    },
    {
     "name": "stderr",
     "output_type": "stream",
     "text": [
      "\r",
      " 13%|█▎        | 13/100 [00:39<04:51,  3.35s/it]"
     ]
    },
    {
     "name": "stdout",
     "output_type": "stream",
     "text": [
      "3.2865922919569277\n",
      "Epoch 0, Loss 3.2865922919569277\n",
      "3.2859044631665326\n",
      "3.285218850590051\n",
      "3.2845354441123487\n",
      "3.2838542336822547\n",
      "3.2831752093105813\n",
      "3.282498361068331\n",
      "3.281823679085096\n",
      "3.2811511535476012\n",
      "3.2804807746983955\n"
     ]
    },
    {
     "name": "stderr",
     "output_type": "stream",
     "text": [
      "\r",
      " 14%|█▍        | 14/100 [00:42<04:43,  3.29s/it]"
     ]
    },
    {
     "name": "stdout",
     "output_type": "stream",
     "text": [
      "3.279812532834659\n",
      "Epoch 0, Loss 3.279812532834659\n",
      "3.279146418307131\n",
      "3.2784824215191266\n",
      "3.277820532925654\n",
      "3.277160743032593\n",
      "3.27650304239596\n",
      "3.275847421621224\n",
      "3.275193871362686\n",
      "3.274542382322897\n",
      "3.273892945252134\n"
     ]
    },
    {
     "name": "stderr",
     "output_type": "stream",
     "text": [
      "\r",
      " 15%|█▌        | 15/100 [00:44<04:22,  3.09s/it]"
     ]
    },
    {
     "name": "stdout",
     "output_type": "stream",
     "text": [
      "3.273245550947903\n",
      "Epoch 0, Loss 3.273245550947903\n",
      "3.2726001902544826\n",
      "3.271956854062496\n",
      "3.271315533308514\n",
      "3.2706762189746783\n",
      "3.270038902088353\n",
      "3.2694035737217813\n",
      "3.268770224991784\n",
      "3.268138847059444\n",
      "3.2675094311298305\n"
     ]
    },
    {
     "name": "stderr",
     "output_type": "stream",
     "text": [
      "\r",
      " 16%|█▌        | 16/100 [00:47<04:14,  3.03s/it]"
     ]
    },
    {
     "name": "stdout",
     "output_type": "stream",
     "text": [
      "3.2668819684517185\n",
      "Epoch 0, Loss 3.2668819684517185\n",
      "3.2662564503173246\n",
      "3.2656328680620565\n",
      "3.265011213064264\n",
      "3.264391476745\n",
      "3.2637736505677934\n",
      "3.26315772603842\n",
      "3.262543694704684\n",
      "3.2619315481562032\n",
      "3.2613212780241967\n"
     ]
    },
    {
     "name": "stderr",
     "output_type": "stream",
     "text": [
      "\r",
      " 17%|█▋        | 17/100 [00:50<04:07,  2.99s/it]"
     ]
    },
    {
     "name": "stdout",
     "output_type": "stream",
     "text": [
      "3.260712875981281\n",
      "Epoch 0, Loss 3.260712875981281\n",
      "3.260106333741265\n",
      "3.2595016430589454\n",
      "3.2588987957299183\n",
      "3.258297783590374\n",
      "3.2576985985169107\n",
      "3.2571012324263413\n",
      "3.256505677275502\n",
      "3.255911925061068\n",
      "3.255319967819368\n"
     ]
    },
    {
     "name": "stderr",
     "output_type": "stream",
     "text": [
      "\r",
      " 18%|█▊        | 18/100 [00:53<03:52,  2.84s/it]"
     ]
    },
    {
     "name": "stdout",
     "output_type": "stream",
     "text": [
      "3.254729797626193\n",
      "Epoch 0, Loss 3.254729797626193\n",
      "3.2541414065966197\n",
      "3.2535547868848247\n",
      "3.252969930683903\n",
      "3.252386830225689\n",
      "3.251805477780575\n",
      "3.251225865657332\n",
      "3.250647986202933\n",
      "3.250071831802377\n",
      "3.249497394878506\n"
     ]
    },
    {
     "name": "stderr",
     "output_type": "stream",
     "text": [
      "\r",
      " 19%|█▉        | 19/100 [00:55<03:51,  2.86s/it]"
     ]
    },
    {
     "name": "stdout",
     "output_type": "stream",
     "text": [
      "3.248924667891838\n",
      "Epoch 0, Loss 3.248924667891838\n",
      "3.2483536433403835\n",
      "3.247784313759475\n",
      "3.247216671721591\n",
      "3.2466507098361834\n",
      "3.2460864207495015\n",
      "3.245523797144423\n",
      "3.244962831740278\n",
      "3.244403517292682\n",
      "3.2438458465933597\n"
     ]
    },
    {
     "name": "stderr",
     "output_type": "stream",
     "text": [
      "\r",
      " 20%|██        | 20/100 [00:59<04:06,  3.08s/it]"
     ]
    },
    {
     "name": "stdout",
     "output_type": "stream",
     "text": [
      "3.2432898124699774\n",
      "Epoch 0, Loss 3.2432898124699774\n",
      "3.2427354077859687\n",
      "3.242182625440373\n",
      "3.241631458367658\n",
      "3.2410818995375528\n",
      "3.240533941954883\n",
      "3.239987578659399\n",
      "3.23944280272561\n",
      "3.238899607262619\n",
      "3.238357985413954\n"
     ]
    },
    {
     "name": "stderr",
     "output_type": "stream",
     "text": [
      "\r",
      " 21%|██        | 21/100 [01:01<03:48,  2.89s/it]"
     ]
    },
    {
     "name": "stdout",
     "output_type": "stream",
     "text": [
      "3.2378179303574015\n",
      "Epoch 0, Loss 3.2378179303574015\n",
      "3.237279435304845\n",
      "3.236742493502097\n",
      "3.236207098228733\n",
      "3.235673242797932\n",
      "3.2351409205563115\n",
      "3.2346101248837633\n",
      "3.2340808491932926\n",
      "3.233553086930855\n",
      "3.2330268315751964\n"
     ]
    },
    {
     "name": "stderr",
     "output_type": "stream",
     "text": [
      "\r",
      " 22%|██▏       | 22/100 [01:04<03:42,  2.85s/it]"
     ]
    },
    {
     "name": "stdout",
     "output_type": "stream",
     "text": [
      "3.232502076637693\n",
      "Epoch 0, Loss 3.232502076637693\n",
      "3.231978815662187\n",
      "3.231457042224832\n",
      "3.2309367499339308\n",
      "3.2304179324297775\n",
      "3.2299005833844996\n",
      "3.2293846965019006\n",
      "3.2288702655173025\n",
      "3.228357284197389\n",
      "3.22784574634005\n"
     ]
    },
    {
     "name": "stderr",
     "output_type": "stream",
     "text": [
      "\r",
      " 23%|██▎       | 23/100 [01:07<03:39,  2.85s/it]"
     ]
    },
    {
     "name": "stdout",
     "output_type": "stream",
     "text": [
      "3.227335645774227\n",
      "Epoch 0, Loss 3.227335645774227\n",
      "3.226826976359759\n",
      "3.2263197319872234\n",
      "3.2258139065777893\n",
      "3.2253094940830596\n",
      "3.2248064884849197\n",
      "3.224304883795386\n",
      "3.223804674056453\n",
      "3.2233058533399475\n",
      "3.22280841574737\n"
     ]
    },
    {
     "name": "stderr",
     "output_type": "stream",
     "text": [
      "\r",
      " 24%|██▍       | 24/100 [01:10<03:34,  2.82s/it]"
     ]
    },
    {
     "name": "stdout",
     "output_type": "stream",
     "text": [
      "3.2223123554097506\n",
      "Epoch 0, Loss 3.2223123554097506\n",
      "3.2218176664875\n",
      "3.221324343170259\n",
      "3.2208323796767515\n",
      "3.2203417702546364\n",
      "3.219852509180362\n",
      "3.2193645907590187\n",
      "3.2188780093241935\n",
      "3.218392759237827\n",
      "3.2179088348900637\n"
     ]
    },
    {
     "name": "stderr",
     "output_type": "stream",
     "text": [
      "\r",
      " 25%|██▌       | 25/100 [01:12<03:17,  2.64s/it]"
     ]
    },
    {
     "name": "stdout",
     "output_type": "stream",
     "text": [
      "3.217426230699116\n",
      "Epoch 0, Loss 3.217426230699116\n",
      "3.2169449411111124\n",
      "3.216464960599962\n",
      "3.215986283667208\n",
      "3.2155089048418857\n",
      "3.2150328186803883\n",
      "3.2145580197663155\n",
      "3.214084502710346\n",
      "3.2136122621500878\n",
      "3.213141292749945\n"
     ]
    },
    {
     "name": "stderr",
     "output_type": "stream",
     "text": [
      "\r",
      " 26%|██▌       | 26/100 [01:15<03:16,  2.65s/it]"
     ]
    },
    {
     "name": "stdout",
     "output_type": "stream",
     "text": [
      "3.2126715892009794\n",
      "Epoch 0, Loss 3.2126715892009794\n",
      "3.212203146220774\n",
      "3.2117359585532905\n",
      "3.2112700209687417\n",
      "3.2108053282634503\n",
      "3.2103418752597137\n",
      "3.209879656805673\n",
      "3.209418667775175\n",
      "3.2089589030676433\n",
      "3.2085003576079405\n"
     ]
    },
    {
     "name": "stderr",
     "output_type": "stream",
     "text": [
      "\r",
      " 27%|██▋       | 27/100 [01:19<03:41,  3.03s/it]"
     ]
    },
    {
     "name": "stdout",
     "output_type": "stream",
     "text": [
      "3.208043026346243\n",
      "Epoch 0, Loss 3.208043026346243\n",
      "3.2075869042579015\n",
      "3.207131986343316\n",
      "3.2066782676278036\n",
      "3.206225743161469\n",
      "3.205774408019073\n",
      "3.20532425729991\n",
      "3.2048752861276713\n",
      "3.204427489650325\n",
      "3.2039808630399875\n"
     ]
    },
    {
     "name": "stderr",
     "output_type": "stream",
     "text": [
      "\r",
      " 28%|██▊       | 28/100 [01:21<03:26,  2.87s/it]"
     ]
    },
    {
     "name": "stdout",
     "output_type": "stream",
     "text": [
      "3.2035354014927937\n",
      "Epoch 0, Loss 3.2035354014927937\n",
      "3.203091100228777\n",
      "3.2026479544917392\n",
      "3.202205959549128\n",
      "3.2017651106919156\n",
      "3.201325403234469\n",
      "3.200886832514435\n",
      "3.2004493938926126\n",
      "3.2000130827528315\n"
     ]
    },
    {
     "name": "stderr",
     "output_type": "stream",
     "text": [
      "\r",
      " 29%|██▉       | 29/100 [01:23<03:11,  2.70s/it]"
     ]
    },
    {
     "name": "stdout",
     "output_type": "stream",
     "text": [
      "3.199577894501835\n",
      "3.199143824569156\n",
      "Epoch 0, Loss 3.199143824569156\n",
      "3.198710868406998\n",
      "3.1982790214901167\n",
      "3.1978482793157\n",
      "3.197418637403249\n",
      "3.1969900912944653\n",
      "3.1965626365531272\n",
      "3.196136268764976\n",
      "3.195710983537604\n",
      "3.195286776500332\n"
     ]
    },
    {
     "name": "stderr",
     "output_type": "stream",
     "text": [
      "\r",
      " 30%|███       | 30/100 [01:26<03:15,  2.79s/it]"
     ]
    },
    {
     "name": "stdout",
     "output_type": "stream",
     "text": [
      "3.1948636433041\n",
      "Epoch 0, Loss 3.1948636433041\n",
      "3.19444157962135\n",
      "3.1940205811459137\n",
      "3.193600643592899\n",
      "3.193181762698578\n",
      "3.1927639342202725\n",
      "3.1923471539362467\n",
      "3.1919314176455926\n",
      "3.1915167211681204\n",
      "3.191103060344251\n"
     ]
    },
    {
     "name": "stderr",
     "output_type": "stream",
     "text": [
      "\r",
      " 31%|███       | 31/100 [01:30<03:24,  2.97s/it]"
     ]
    },
    {
     "name": "stdout",
     "output_type": "stream",
     "text": [
      "3.1906904310349034\n",
      "Epoch 0, Loss 3.1906904310349034\n",
      "3.1902788291213877\n",
      "3.1898682505052975\n",
      "3.1894586911084004\n",
      "3.1890501468725323\n",
      "3.1886426137594897\n",
      "3.188236087750925\n",
      "3.1878305648482397\n",
      "3.1874260410724804\n",
      "3.187022512464235\n"
     ]
    },
    {
     "name": "stderr",
     "output_type": "stream",
     "text": [
      "\r",
      " 32%|███▏      | 32/100 [01:33<03:18,  2.92s/it]"
     ]
    },
    {
     "name": "stdout",
     "output_type": "stream",
     "text": [
      "3.1866199750835236\n",
      "Epoch 0, Loss 3.1866199750835236\n",
      "3.186218425009704\n",
      "3.1858178583413608\n",
      "3.1854182711962067\n",
      "3.185019659710981\n",
      "3.184622020041346\n",
      "3.184225348361789\n",
      "3.1838296408655187\n",
      "3.183434893764369\n",
      "3.1830411032886965\n"
     ]
    },
    {
     "name": "stderr",
     "output_type": "stream",
     "text": [
      "\r",
      " 33%|███▎      | 33/100 [01:35<03:11,  2.86s/it]"
     ]
    },
    {
     "name": "stdout",
     "output_type": "stream",
     "text": [
      "3.1826482656872845\n",
      "Epoch 0, Loss 3.1826482656872845\n",
      "3.182256377227243\n",
      "3.181865434193911\n",
      "3.181475432890759\n",
      "3.1810863696392944\n",
      "3.1806982407789643\n",
      "3.1803110426670553\n",
      "3.1799247716786074\n",
      "3.179539424206309\n",
      "3.1791549966604125\n"
     ]
    },
    {
     "name": "stderr",
     "output_type": "stream",
     "text": [
      "\r",
      " 34%|███▍      | 34/100 [01:38<03:03,  2.78s/it]"
     ]
    },
    {
     "name": "stdout",
     "output_type": "stream",
     "text": [
      "3.1787714854686313\n",
      "Epoch 0, Loss 3.1787714854686313\n",
      "3.1783888870760535\n",
      "3.1780071979450457\n",
      "3.1776264145551614\n",
      "3.1772465334030495\n",
      "3.1768675510023625\n",
      "3.1764894638836654\n",
      "3.176112268594346\n",
      "3.175735961698528\n",
      "3.1753605397769706\n"
     ]
    },
    {
     "name": "stderr",
     "output_type": "stream",
     "text": [
      "\r",
      " 35%|███▌      | 35/100 [01:41<03:08,  2.90s/it]"
     ]
    },
    {
     "name": "stdout",
     "output_type": "stream",
     "text": [
      "3.1749859994269944\n",
      "Epoch 0, Loss 3.1749859994269944\n",
      "3.174612337262383\n",
      "3.174239549913299\n",
      "3.173867634026192\n",
      "3.1734965862637186\n",
      "3.173126403304648\n",
      "3.172757081843783\n",
      "3.1723886185918686\n",
      "3.1720210102755106\n",
      "3.171654253637089\n"
     ]
    },
    {
     "name": "stderr",
     "output_type": "stream",
     "text": [
      "\r",
      " 36%|███▌      | 36/100 [01:44<02:59,  2.81s/it]"
     ]
    },
    {
     "name": "stdout",
     "output_type": "stream",
     "text": [
      "3.171288345434672\n",
      "Epoch 0, Loss 3.171288345434672\n",
      "3.1709232824419367\n",
      "3.170559061448082\n",
      "3.1701956792577444\n",
      "3.16983313269092\n",
      "3.1694714185828805\n",
      "3.169110533784088\n",
      "3.1687504751601194\n",
      "3.1683912395915828\n",
      "3.1680328239740345\n"
     ]
    },
    {
     "name": "stderr",
     "output_type": "stream",
     "text": [
      "\r",
      " 37%|███▋      | 37/100 [01:47<02:59,  2.84s/it]"
     ]
    },
    {
     "name": "stdout",
     "output_type": "stream",
     "text": [
      "3.167675225217903\n",
      "Epoch 0, Loss 3.167675225217903\n",
      "3.167318440248411\n",
      "3.166962466005491\n",
      "3.1666072994437093\n",
      "3.1662529375321875\n",
      "3.1658993772545254\n",
      "3.1655466156087244\n",
      "3.1651946496071064\n",
      "3.164843476276244\n",
      "3.1644930926568753\n"
     ]
    },
    {
     "name": "stderr",
     "output_type": "stream",
     "text": [
      "\r",
      " 38%|███▊      | 38/100 [01:50<02:59,  2.89s/it]"
     ]
    },
    {
     "name": "stdout",
     "output_type": "stream",
     "text": [
      "3.1641434958038386\n",
      "Epoch 0, Loss 3.1641434958038386\n",
      "3.163794682785988\n",
      "3.163446650686123\n",
      "3.163099396600917\n",
      "3.1627529176408338\n",
      "3.162407210930063\n",
      "3.1620622736064448\n",
      "3.1617181028213914\n",
      "3.1613746957398217\n",
      "3.1610320495400868\n"
     ]
    },
    {
     "name": "stderr",
     "output_type": "stream",
     "text": [
      "\r",
      " 39%|███▉      | 39/100 [01:53<03:03,  3.01s/it]"
     ]
    },
    {
     "name": "stdout",
     "output_type": "stream",
     "text": [
      "3.1606901614138954\n",
      "Epoch 0, Loss 3.1606901614138954\n",
      "3.1603490285662477\n",
      "3.1600086482153587\n",
      "3.1596690175925946\n",
      "3.159330133942395\n",
      "3.158991994522209\n",
      "3.1586545966024215\n",
      "3.15831793746629\n",
      "3.15798201440987\n",
      "3.1576468247419487\n"
     ]
    },
    {
     "name": "stderr",
     "output_type": "stream",
     "text": [
      "\r",
      " 40%|████      | 40/100 [01:56<02:55,  2.92s/it]"
     ]
    },
    {
     "name": "stdout",
     "output_type": "stream",
     "text": [
      "3.15731236578398\n",
      "Epoch 0, Loss 3.15731236578398\n",
      "3.156978634870012\n",
      "3.156645629346624\n",
      "3.156313346572859\n",
      "3.1559817839201543\n",
      "3.15565093877228\n",
      "3.1553208085252704\n",
      "3.154991390587359\n",
      "3.1546626823789135\n",
      "3.1543346813323745\n"
     ]
    },
    {
     "name": "stderr",
     "output_type": "stream",
     "text": [
      "\r",
      " 41%|████      | 41/100 [01:58<02:50,  2.88s/it]"
     ]
    },
    {
     "name": "stdout",
     "output_type": "stream",
     "text": [
      "3.1540073848921857\n",
      "Epoch 0, Loss 3.1540073848921857\n",
      "3.153680790514735\n",
      "3.153354895668286\n",
      "3.1530296978329213\n",
      "3.1527051945004736\n",
      "3.152381383174467\n",
      "3.152058261370053\n",
      "3.1517358266139515\n",
      "3.151414076444383\n",
      "3.151093008411016\n"
     ]
    },
    {
     "name": "stderr",
     "output_type": "stream",
     "text": [
      "\r",
      " 42%|████▏     | 42/100 [02:02<03:01,  3.13s/it]"
     ]
    },
    {
     "name": "stdout",
     "output_type": "stream",
     "text": [
      "3.150772620074902\n",
      "Epoch 0, Loss 3.150772620074902\n",
      "3.150452909008411\n",
      "3.15013387279518\n",
      "3.149815509030047\n",
      "3.1494978153189943\n",
      "3.1491807892790877\n",
      "3.148864428538419\n",
      "3.148548730736047\n",
      "3.1482336935219424\n",
      "3.1479193145569213\n"
     ]
    },
    {
     "name": "stderr",
     "output_type": "stream",
     "text": [
      "\r",
      " 43%|████▎     | 43/100 [02:05<02:55,  3.07s/it]"
     ]
    },
    {
     "name": "stdout",
     "output_type": "stream",
     "text": [
      "3.1476055915126\n",
      "Epoch 0, Loss 3.1476055915126\n",
      "3.1472925220713295\n",
      "3.1469801039261376\n",
      "3.14666833478068\n",
      "3.1463572123491783\n",
      "3.1460467343563656\n",
      "3.14573689853743\n",
      "3.145427702637961\n",
      "3.145119144413895\n",
      "3.1448112216314565\n"
     ]
    },
    {
     "name": "stderr",
     "output_type": "stream",
     "text": [
      "\r",
      " 44%|████▍     | 44/100 [02:08<02:43,  2.92s/it]"
     ]
    },
    {
     "name": "stdout",
     "output_type": "stream",
     "text": [
      "3.144503932067111\n",
      "Epoch 0, Loss 3.144503932067111\n",
      "3.1441972735075012\n",
      "3.143891243749406\n",
      "3.1435858405996733\n",
      "3.1432810618751783\n",
      "3.142976905402762\n",
      "3.1426733690191853\n",
      "3.142370450571074\n",
      "3.142068147914865\n",
      "3.141766458916758\n"
     ]
    },
    {
     "name": "stderr",
     "output_type": "stream",
     "text": [
      "\r",
      " 45%|████▌     | 45/100 [02:13<03:13,  3.51s/it]"
     ]
    },
    {
     "name": "stdout",
     "output_type": "stream",
     "text": [
      "3.1414653814526625\n",
      "Epoch 0, Loss 3.1414653814526625\n",
      "3.1411649134081463\n",
      "3.140865052678387\n",
      "3.1405657971681165\n",
      "3.1402671447915784\n",
      "3.1399690934724696\n",
      "3.1396716411438983\n",
      "3.1393747857483283\n",
      "3.1390785252375357\n",
      "3.1387828575725525\n"
     ]
    },
    {
     "name": "stderr",
     "output_type": "stream",
     "text": [
      "\r",
      " 46%|████▌     | 46/100 [02:15<02:58,  3.31s/it]"
     ]
    },
    {
     "name": "stdout",
     "output_type": "stream",
     "text": [
      "3.1384877807236276\n",
      "Epoch 0, Loss 3.1384877807236276\n",
      "3.1381932926701706\n",
      "3.1378993914007074\n",
      "3.1376060749128323\n",
      "3.137313341213157\n",
      "3.1370211883172727\n",
      "3.13672961424969\n",
      "3.1364386170438032\n",
      "3.1361481947418373\n",
      "3.1358583453948055\n"
     ]
    },
    {
     "name": "stderr",
     "output_type": "stream",
     "text": [
      "\r",
      " 47%|████▋     | 47/100 [02:18<02:45,  3.12s/it]"
     ]
    },
    {
     "name": "stdout",
     "output_type": "stream",
     "text": [
      "3.135569067062464\n",
      "Epoch 0, Loss 3.135569067062464\n",
      "3.1352803578132593\n",
      "3.1349922157242927\n",
      "3.134704638881268\n",
      "3.13441762537845\n",
      "3.134131173318617\n",
      "3.133845280813021\n",
      "3.133559945981339\n",
      "3.133275166951631\n",
      "3.1329909418602973\n"
     ]
    },
    {
     "name": "stderr",
     "output_type": "stream",
     "text": [
      "\r",
      " 48%|████▊     | 48/100 [02:21<02:37,  3.02s/it]"
     ]
    },
    {
     "name": "stdout",
     "output_type": "stream",
     "text": [
      "3.132707268852032\n",
      "Epoch 0, Loss 3.132707268852032\n",
      "3.132424146079785\n",
      "3.132141571704714\n",
      "3.131859543896143\n",
      "3.131578060831525\n",
      "3.13129712069639\n",
      "3.131016721684312\n",
      "3.130736861996863\n",
      "3.1304575398435723\n",
      "3.130178753441886\n"
     ]
    },
    {
     "name": "stderr",
     "output_type": "stream",
     "text": [
      "\r",
      " 49%|████▉     | 49/100 [02:24<02:32,  2.98s/it]"
     ]
    },
    {
     "name": "stdout",
     "output_type": "stream",
     "text": [
      "3.1299005010171244\n",
      "Epoch 0, Loss 3.1299005010171244\n",
      "3.1296227808024426\n",
      "3.12934559103879\n",
      "3.129068929974868\n",
      "3.1287927958670925\n",
      "3.1285171869795536\n",
      "3.128242101583972\n",
      "3.1279675379596656\n",
      "3.1276934943935073\n",
      "3.1274199691798845\n"
     ]
    },
    {
     "name": "stderr",
     "output_type": "stream",
     "text": [
      "\r",
      " 50%|█████     | 50/100 [02:27<02:27,  2.96s/it]"
     ]
    },
    {
     "name": "stdout",
     "output_type": "stream",
     "text": [
      "3.1271469606206637\n",
      "Epoch 0, Loss 3.1271469606206637\n",
      "3.1268744670251496\n",
      "3.126602486710046\n",
      "3.1263310179994206\n",
      "3.1260600592246655\n",
      "3.1257896087244577\n",
      "3.125519664844726\n",
      "3.12525022593861\n",
      "3.124981290366422\n",
      "3.124712856495616\n"
     ]
    },
    {
     "name": "stderr",
     "output_type": "stream",
     "text": [
      "\r",
      " 51%|█████     | 51/100 [02:30<02:24,  2.94s/it]"
     ]
    },
    {
     "name": "stdout",
     "output_type": "stream",
     "text": [
      "3.124444922700745\n",
      "Epoch 0, Loss 3.124444922700745\n",
      "3.124177487363427\n",
      "3.1239105488723093\n",
      "3.1236441056230317\n",
      "3.12337815601819\n",
      "3.123112698467302\n",
      "3.1228477313867704\n",
      "3.122583253199848\n",
      "3.1223192623366045\n",
      "3.1220557572338867\n"
     ]
    },
    {
     "name": "stderr",
     "output_type": "stream",
     "text": [
      "\r",
      " 52%|█████▏    | 52/100 [02:32<02:17,  2.87s/it]"
     ]
    },
    {
     "name": "stdout",
     "output_type": "stream",
     "text": [
      "3.1217927363352924\n",
      "Epoch 0, Loss 3.1217927363352924\n",
      "3.1215301980911265\n",
      "3.1212681409583722\n",
      "3.121006563400657\n",
      "3.1207454638882144\n",
      "3.1204848408978565\n",
      "3.1202246929129362\n",
      "3.119965018423315\n",
      "3.1197058159253284\n",
      "3.119447083921757\n"
     ]
    },
    {
     "name": "stderr",
     "output_type": "stream",
     "text": [
      "\r",
      " 53%|█████▎    | 53/100 [02:35<02:19,  2.97s/it]"
     ]
    },
    {
     "name": "stdout",
     "output_type": "stream",
     "text": [
      "3.1191888209217895\n",
      "Epoch 0, Loss 3.1191888209217895\n",
      "3.118931025440991\n",
      "3.1186736960012738\n",
      "3.118416831130859\n",
      "3.1181604293642526\n",
      "3.1179044892422065\n",
      "3.117649009311689\n",
      "3.117393988125855\n",
      "3.1171394242440136\n",
      "3.116885316231597\n"
     ]
    },
    {
     "name": "stderr",
     "output_type": "stream",
     "text": [
      "\r",
      " 54%|█████▍    | 54/100 [02:38<02:15,  2.95s/it]"
     ]
    },
    {
     "name": "stdout",
     "output_type": "stream",
     "text": [
      "3.116631662660127\n",
      "Epoch 0, Loss 3.116631662660127\n",
      "3.11637846210719\n",
      "3.1161257131563986\n",
      "3.115873414397371\n",
      "3.1156215644256893\n",
      "3.1153701618428795\n",
      "3.115119205256375\n",
      "3.114868693279489\n",
      "3.1146186245313854\n",
      "3.1143689976370488\n"
     ]
    },
    {
     "name": "stderr",
     "output_type": "stream",
     "text": [
      "\r",
      " 55%|█████▌    | 55/100 [02:41<02:05,  2.80s/it]"
     ]
    },
    {
     "name": "stdout",
     "output_type": "stream",
     "text": [
      "3.114119811227255\n",
      "Epoch 0, Loss 3.114119811227255\n",
      "3.113871063938543\n",
      "3.1136227544131834\n",
      "3.1133748812991526\n",
      "3.1131274432501024\n",
      "3.112880438925331\n",
      "3.1126338669897566\n",
      "3.112387726113889\n",
      "3.112142014973799\n",
      "3.111896732251093\n"
     ]
    },
    {
     "name": "stderr",
     "output_type": "stream",
     "text": [
      "\r",
      " 56%|█████▌    | 56/100 [02:44<02:12,  3.01s/it]"
     ]
    },
    {
     "name": "stdout",
     "output_type": "stream",
     "text": [
      "3.111651876632884\n",
      "Epoch 0, Loss 3.111651876632884\n",
      "3.1114074468117665\n",
      "3.1111634414857847\n",
      "3.1109198593584093\n",
      "3.1106766991385104\n",
      "3.110433959540324\n",
      "3.110191639283435\n",
      "3.109949737092744\n",
      "3.109708251698443\n",
      "3.109467181835987\n"
     ]
    },
    {
     "name": "stderr",
     "output_type": "stream",
     "text": [
      "\r",
      " 57%|█████▋    | 57/100 [02:47<02:06,  2.93s/it]"
     ]
    },
    {
     "name": "stdout",
     "output_type": "stream",
     "text": [
      "3.1092265262460717\n",
      "Epoch 0, Loss 3.1092265262460717\n",
      "3.1089862836746023\n",
      "3.108746452872674\n",
      "3.108507032596538\n",
      "3.1082680216075858\n",
      "3.1080294186723134\n",
      "3.107791222562303\n",
      "3.1075534320541967\n",
      "3.1073160459296676\n",
      "3.1070790629754006\n"
     ]
    },
    {
     "name": "stderr",
     "output_type": "stream",
     "text": [
      "\r",
      " 58%|█████▊    | 58/100 [02:50<02:00,  2.86s/it]"
     ]
    },
    {
     "name": "stdout",
     "output_type": "stream",
     "text": [
      "3.1068424819830636\n",
      "Epoch 0, Loss 3.1068424819830636\n",
      "3.1066063017492827\n",
      "3.106370521075619\n",
      "3.106135138768547\n",
      "3.1059001536394226\n",
      "3.1056655645044677\n",
      "3.105431370184741\n",
      "3.1051975695061147\n",
      "3.104964161299252\n",
      "3.104731144399584\n"
     ]
    },
    {
     "name": "stderr",
     "output_type": "stream",
     "text": [
      "\r",
      " 59%|█████▉    | 59/100 [02:52<01:54,  2.78s/it]"
     ]
    },
    {
     "name": "stdout",
     "output_type": "stream",
     "text": [
      "3.1044985176472837\n",
      "Epoch 0, Loss 3.1044985176472837\n",
      "3.1042662798872436\n",
      "3.104034429969055\n",
      "3.1038029667469833\n",
      "3.103571889079942\n",
      "3.1033411958314745\n",
      "3.10311088586973\n",
      "3.102880958067438\n",
      "3.1026514113018915\n",
      "3.1024222444549174\n"
     ]
    },
    {
     "name": "stderr",
     "output_type": "stream",
     "text": [
      "\r",
      " 60%|██████    | 60/100 [02:55<01:45,  2.64s/it]"
     ]
    },
    {
     "name": "stdout",
     "output_type": "stream",
     "text": [
      "3.1021934564128637\n",
      "Epoch 0, Loss 3.1021934564128637\n",
      "3.101965046066566\n",
      "3.1017370123113364\n",
      "3.101509354046934\n",
      "3.101282070177547\n",
      "3.10105515961177\n",
      "3.100828621262582\n",
      "3.1006024540473276\n",
      "3.1003766568876903\n",
      "3.1001512287096777\n"
     ]
    },
    {
     "name": "stderr",
     "output_type": "stream",
     "text": [
      "\r",
      " 61%|██████    | 61/100 [02:59<01:59,  3.07s/it]"
     ]
    },
    {
     "name": "stdout",
     "output_type": "stream",
     "text": [
      "3.099926168443597\n",
      "Epoch 0, Loss 3.099926168443597\n",
      "3.0997014750240335\n",
      "3.0994771473898317\n",
      "3.099253184484075\n",
      "3.099029585254063\n",
      "3.0988063486512907\n",
      "3.098583473631431\n",
      "3.0983609591543146\n",
      "3.0981388041839057\n",
      "3.0979170076882854\n"
     ]
    },
    {
     "name": "stderr",
     "output_type": "stream",
     "text": [
      "\r",
      " 62%|██████▏   | 62/100 [03:01<01:49,  2.88s/it]"
     ]
    },
    {
     "name": "stdout",
     "output_type": "stream",
     "text": [
      "3.0976955686396304\n",
      "Epoch 0, Loss 3.0976955686396304\n",
      "3.0974744860141956\n",
      "3.09725375879229\n",
      "3.0970333859582624\n",
      "3.096813366500477\n",
      "3.096593699411298\n",
      "3.096374383687066\n",
      "3.0961554183280855\n",
      "3.0959368023385974\n"
     ]
    },
    {
     "name": "stderr",
     "output_type": "stream",
     "text": [
      "\r",
      " 63%|██████▎   | 63/100 [03:03<01:38,  2.67s/it]"
     ]
    },
    {
     "name": "stdout",
     "output_type": "stream",
     "text": [
      "3.095718534726767\n",
      "3.095500614504662\n",
      "Epoch 0, Loss 3.095500614504662\n",
      "3.0952830406882352\n",
      "3.0950658122973036\n",
      "3.0948489283555305\n",
      "3.094632387890411\n",
      "3.0944161899332476\n",
      "3.0942003335191344\n",
      "3.0939848176869438\n",
      "3.0937696414792986\n",
      "3.093554803942562\n"
     ]
    },
    {
     "name": "stderr",
     "output_type": "stream",
     "text": [
      "\r",
      " 64%|██████▍   | 64/100 [03:06<01:38,  2.74s/it]"
     ]
    },
    {
     "name": "stdout",
     "output_type": "stream",
     "text": [
      "3.0933403041268175\n",
      "Epoch 0, Loss 3.0933403041268175\n",
      "3.0931261410858504\n",
      "3.0929123138771306\n",
      "3.0926988215617954\n",
      "3.09248566320463\n",
      "3.0922728378740536\n",
      "3.092060344642101\n",
      "3.0918481825844024\n",
      "3.09163635078017\n",
      "3.0914248483121796\n"
     ]
    },
    {
     "name": "stderr",
     "output_type": "stream",
     "text": [
      "\r",
      " 65%|██████▌   | 65/100 [03:10<01:45,  3.02s/it]"
     ]
    },
    {
     "name": "stdout",
     "output_type": "stream",
     "text": [
      "3.0912136742667533\n",
      "Epoch 0, Loss 3.0912136742667533\n",
      "3.091002827733744\n",
      "3.090792307806516\n",
      "3.090582113581932\n",
      "3.0903722441603327\n",
      "3.090162698645526\n",
      "3.0899534761447627\n",
      "3.089744575768726\n",
      "3.0895359966315143\n",
      "3.0893277378506245\n"
     ]
    },
    {
     "name": "stderr",
     "output_type": "stream",
     "text": [
      "\r",
      " 66%|██████▌   | 66/100 [03:13<01:38,  2.90s/it]"
     ]
    },
    {
     "name": "stdout",
     "output_type": "stream",
     "text": [
      "3.0891197985469363\n",
      "Epoch 0, Loss 3.0891197985469363\n",
      "3.0889121778446937\n",
      "3.088704874871495\n",
      "3.0884978887582704\n",
      "3.088291218639272\n",
      "3.088084863652052\n",
      "3.0878788229374545\n",
      "3.0876730956395946\n",
      "3.0874676809058434\n",
      "3.0872625778868183\n"
     ]
    },
    {
     "name": "stderr",
     "output_type": "stream",
     "text": [
      "\r",
      " 67%|██████▋   | 67/100 [03:15<01:33,  2.84s/it]"
     ]
    },
    {
     "name": "stdout",
     "output_type": "stream",
     "text": [
      "3.0870577857363597\n",
      "Epoch 0, Loss 3.0870577857363597\n",
      "3.08685330361152\n",
      "3.086649130672551\n",
      "3.0864452660828836\n",
      "3.086241709009117\n",
      "3.0860384586210037\n",
      "3.085835514091431\n",
      "3.0856328745964103\n",
      "3.0854305393150625\n",
      "3.085228507429601\n"
     ]
    },
    {
     "name": "stderr",
     "output_type": "stream",
     "text": [
      "\r",
      " 68%|██████▊   | 68/100 [03:18<01:29,  2.80s/it]"
     ]
    },
    {
     "name": "stdout",
     "output_type": "stream",
     "text": [
      "3.0850267781253184\n",
      "Epoch 0, Loss 3.0850267781253184\n",
      "3.084825350590573\n",
      "3.0846242240167743\n",
      "3.084423397598367\n",
      "3.0842228705328205\n",
      "3.0840226420206105\n",
      "3.0838227112652095\n",
      "3.0836230774730695\n",
      "3.0834237398536097\n",
      "3.0832246976192015\n"
     ]
    },
    {
     "name": "stderr",
     "output_type": "stream",
     "text": [
      "\r",
      " 69%|██████▉   | 69/100 [03:21<01:26,  2.80s/it]"
     ]
    },
    {
     "name": "stdout",
     "output_type": "stream",
     "text": [
      "3.0830259499851587\n",
      "Epoch 0, Loss 3.0830259499851587\n",
      "3.0828274961697177\n",
      "3.0826293353940297\n",
      "3.0824314668821433\n",
      "3.082233889860995\n",
      "3.082036603560392\n",
      "3.0818396072130008\n",
      "3.081642900054333\n",
      "3.081446481322736\n",
      "3.081250350259374\n"
     ]
    },
    {
     "name": "stderr",
     "output_type": "stream",
     "text": [
      "\r",
      " 70%|███████   | 70/100 [03:24<01:23,  2.80s/it]"
     ]
    },
    {
     "name": "stdout",
     "output_type": "stream",
     "text": [
      "3.0810545061082215\n",
      "Epoch 0, Loss 3.0810545061082215\n",
      "3.0808589481160427\n",
      "3.080663675532387\n",
      "3.0804686876095704\n",
      "3.0802739836026642\n",
      "3.080079562769485\n",
      "3.0798854243705778\n",
      "3.0796915676692076\n",
      "3.079497991931345\n",
      "3.079304696425652\n"
     ]
    },
    {
     "name": "stderr",
     "output_type": "stream",
     "text": [
      "\r",
      " 71%|███████   | 71/100 [03:26<01:20,  2.79s/it]"
     ]
    },
    {
     "name": "stdout",
     "output_type": "stream",
     "text": [
      "3.079111680423474\n",
      "Epoch 0, Loss 3.079111680423474\n",
      "3.078918943198825\n",
      "3.0787264840283743\n",
      "3.078534302191438\n",
      "3.0783423969699633\n",
      "3.0781507676485176\n",
      "3.07795941351428\n",
      "3.077768333857023\n",
      "3.0775775279691064\n",
      "3.077386995145463\n"
     ]
    },
    {
     "name": "stderr",
     "output_type": "stream",
     "text": [
      "\r",
      " 72%|███████▏  | 72/100 [03:30<01:28,  3.16s/it]"
     ]
    },
    {
     "name": "stdout",
     "output_type": "stream",
     "text": [
      "3.0771967346835867\n",
      "Epoch 0, Loss 3.0771967346835867\n",
      "3.0770067458835237\n",
      "3.076817028047855\n",
      "3.0766275804816927\n",
      "3.0764384024926623\n",
      "3.076249493390895\n",
      "3.076060852489014\n",
      "3.075872479102126\n",
      "3.075684372547806\n",
      "3.07549653214609\n"
     ]
    },
    {
     "name": "stderr",
     "output_type": "stream",
     "text": [
      "\r",
      " 73%|███████▎  | 73/100 [03:33<01:21,  3.00s/it]"
     ]
    },
    {
     "name": "stdout",
     "output_type": "stream",
     "text": [
      "3.0753089572194625\n",
      "Epoch 0, Loss 3.0753089572194625\n",
      "3.075121647092846\n",
      "3.074934601093589\n",
      "3.074747818551455\n",
      "3.074561298798612\n",
      "3.0743750411696253\n",
      "3.0741890450014386\n",
      "3.0740033096333725\n",
      "3.0738178344071065\n"
     ]
    },
    {
     "name": "stderr",
     "output_type": "stream",
     "text": [
      "\r",
      " 74%|███████▍  | 74/100 [03:36<01:17,  2.97s/it]"
     ]
    },
    {
     "name": "stdout",
     "output_type": "stream",
     "text": [
      "3.0736326186666743\n",
      "3.0734476617584487\n",
      "Epoch 0, Loss 3.0734476617584487\n",
      "3.0732629630311328\n",
      "3.0730785218357513\n",
      "3.0728943375256375\n",
      "3.072710409456425\n",
      "3.072526736986036\n",
      "3.072343319474672\n",
      "3.072160156284803\n",
      "3.0719772467811595\n",
      "3.0717945903307182\n"
     ]
    },
    {
     "name": "stderr",
     "output_type": "stream",
     "text": [
      "\r",
      " 75%|███████▌  | 75/100 [03:38<01:07,  2.71s/it]"
     ]
    },
    {
     "name": "stdout",
     "output_type": "stream",
     "text": [
      "3.071612186302696\n",
      "Epoch 0, Loss 3.071612186302696\n",
      "3.0714300340685394\n",
      "3.0712481330019137\n",
      "3.071066482478692\n",
      "3.070885081876948\n",
      "3.0707039305769452\n",
      "3.0705230279611273\n",
      "3.0703423734141078\n",
      "3.0701619663226607\n",
      "3.0699818060757122\n"
     ]
    },
    {
     "name": "stderr",
     "output_type": "stream",
     "text": [
      "\r",
      " 76%|███████▌  | 76/100 [03:41<01:08,  2.85s/it]"
     ]
    },
    {
     "name": "stdout",
     "output_type": "stream",
     "text": [
      "3.0698018920643313\n",
      "Epoch 0, Loss 3.0698018920643313\n",
      "3.0696222236817157\n",
      "3.0694428003231913\n",
      "3.0692636213861935\n",
      "3.069084686270264\n",
      "3.06890599437704\n",
      "3.0687275451102436\n",
      "3.0685493378756736\n",
      "3.0683713720811983\n",
      "3.0681936471367433\n"
     ]
    },
    {
     "name": "stderr",
     "output_type": "stream",
     "text": [
      "\r",
      " 77%|███████▋  | 77/100 [03:44<01:04,  2.81s/it]"
     ]
    },
    {
     "name": "stdout",
     "output_type": "stream",
     "text": [
      "3.068016162454284\n",
      "Epoch 0, Loss 3.068016162454284\n",
      "3.067838917447836\n",
      "3.067661911533449\n",
      "3.067485144129194\n",
      "3.067308614655155\n",
      "3.067132322533424\n",
      "3.066956267188087\n",
      "3.0667804480452214\n",
      "3.0666048645328785\n",
      "3.066429516081087\n"
     ]
    },
    {
     "name": "stderr",
     "output_type": "stream",
     "text": [
      "\r",
      " 78%|███████▊  | 78/100 [03:47<01:03,  2.87s/it]"
     ]
    },
    {
     "name": "stdout",
     "output_type": "stream",
     "text": [
      "3.0662544021218325\n",
      "Epoch 0, Loss 3.0662544021218325\n",
      "3.0660795220890558\n",
      "3.065904875418644\n",
      "3.0657304615484184\n",
      "3.065556279918132\n",
      "3.0653823299694554\n",
      "3.0652086111459713\n",
      "3.065035122893165\n",
      "3.06486186465842\n",
      "3.0646888358910047\n"
     ]
    },
    {
     "name": "stderr",
     "output_type": "stream",
     "text": [
      "\r",
      " 79%|███████▉  | 79/100 [03:50<00:59,  2.84s/it]"
     ]
    },
    {
     "name": "stdout",
     "output_type": "stream",
     "text": [
      "3.0645160360420642\n",
      "Epoch 0, Loss 3.0645160360420642\n",
      "3.0643434645646193\n",
      "3.06417112091355\n",
      "3.063999004545591\n",
      "3.0638271149193264\n",
      "3.063655451495177\n",
      "3.0634840137353954\n",
      "3.063312801104057\n",
      "3.063141813067051\n",
      "3.0629710490920763\n"
     ]
    },
    {
     "name": "stderr",
     "output_type": "stream",
     "text": [
      "\r",
      " 80%|████████  | 80/100 [03:52<00:55,  2.77s/it]"
     ]
    },
    {
     "name": "stdout",
     "output_type": "stream",
     "text": [
      "3.0628005086486314\n",
      "Epoch 0, Loss 3.0628005086486314\n",
      "3.062630191208005\n",
      "3.062460096243273\n",
      "3.062290223229285\n",
      "3.0621205716426614\n",
      "3.0619511409617846\n",
      "3.0617819306667897\n",
      "3.0616129402395607\n",
      "3.0614441691637175\n",
      "3.061275616924616\n"
     ]
    },
    {
     "name": "stderr",
     "output_type": "stream",
     "text": [
      "\r",
      " 81%|████████  | 81/100 [03:55<00:53,  2.81s/it]"
     ]
    },
    {
     "name": "stdout",
     "output_type": "stream",
     "text": [
      "3.0611072830093335\n",
      "Epoch 0, Loss 3.0611072830093335\n",
      "3.060939166906665\n",
      "3.060771268107116\n",
      "3.060603586102894\n",
      "3.060436120387903\n",
      "3.060268870457733\n",
      "3.0601018358096574\n",
      "3.0599350159426235\n",
      "3.0597684103572433\n",
      "3.059602018555791\n"
     ]
    },
    {
     "name": "stderr",
     "output_type": "stream",
     "text": [
      "\r",
      " 82%|████████▏ | 82/100 [03:58<00:50,  2.81s/it]"
     ]
    },
    {
     "name": "stdout",
     "output_type": "stream",
     "text": [
      "3.059435840042192\n",
      "Epoch 0, Loss 3.059435840042192\n",
      "3.059269874322018\n",
      "3.0591041209024805\n",
      "3.0589385792924233\n",
      "3.0587732490023125\n",
      "3.0586081295442353\n",
      "3.058443220431892\n",
      "3.0582785211805827\n",
      "3.0581140313072095\n",
      "3.0579497503302644\n"
     ]
    },
    {
     "name": "stderr",
     "output_type": "stream",
     "text": [
      "\r",
      " 83%|████████▎ | 83/100 [04:01<00:46,  2.75s/it]"
     ]
    },
    {
     "name": "stdout",
     "output_type": "stream",
     "text": [
      "3.0577856777698247\n",
      "Epoch 0, Loss 3.0577856777698247\n",
      "3.057621813147546\n",
      "3.0574581559866543\n",
      "3.057294705811941\n",
      "3.0571314621497554\n",
      "3.0569684245279998\n",
      "3.0568055924761226\n",
      "3.0566429655251084\n",
      "3.0564805432074755\n",
      "3.05631832505727\n"
     ]
    },
    {
     "name": "stderr",
     "output_type": "stream",
     "text": [
      "\r",
      " 84%|████████▍ | 84/100 [04:03<00:42,  2.64s/it]"
     ]
    },
    {
     "name": "stdout",
     "output_type": "stream",
     "text": [
      "3.0561563106100564\n",
      "Epoch 0, Loss 3.0561563106100564\n",
      "3.055994499402912\n",
      "3.0558328909744223\n",
      "3.0556714848646744\n",
      "3.0555102806152497\n",
      "3.0553492777692166\n",
      "3.0551884758711285\n",
      "3.0550278744670125\n",
      "3.054867473104369\n",
      "3.05470727133216\n"
     ]
    },
    {
     "name": "stderr",
     "output_type": "stream",
     "text": [
      "\r",
      " 85%|████████▌ | 85/100 [04:06<00:39,  2.63s/it]"
     ]
    },
    {
     "name": "stdout",
     "output_type": "stream",
     "text": [
      "3.0545472687008055\n",
      "Epoch 0, Loss 3.0545472687008055\n",
      "3.0543874647621783\n",
      "3.0542278590695986\n",
      "3.054068451177825\n",
      "3.0539092406430504\n",
      "3.053750227022895\n",
      "3.053591409876405\n",
      "3.0534327887640402\n",
      "3.053274363247671\n",
      "3.0531161328905747\n"
     ]
    },
    {
     "name": "stderr",
     "output_type": "stream",
     "text": [
      "\r",
      " 86%|████████▌ | 86/100 [04:09<00:38,  2.74s/it]"
     ]
    },
    {
     "name": "stdout",
     "output_type": "stream",
     "text": [
      "3.052958097257426\n",
      "Epoch 0, Loss 3.052958097257426\n",
      "3.0528002559142946\n",
      "3.0526426084286373\n",
      "3.0524851543692924\n",
      "3.0523278933064755\n",
      "3.052170824811774\n",
      "3.0520139484581383\n",
      "3.05185726381988\n",
      "3.051700770472665\n",
      "3.0515444679935073\n"
     ]
    },
    {
     "name": "stderr",
     "output_type": "stream",
     "text": [
      "\r",
      " 87%|████████▋ | 87/100 [04:11<00:34,  2.64s/it]"
     ]
    },
    {
     "name": "stdout",
     "output_type": "stream",
     "text": [
      "3.0513883559607633\n",
      "Epoch 0, Loss 3.0513883559607633\n",
      "3.0512324339541306\n",
      "3.051076701554634\n",
      "3.050921158344629\n",
      "3.0507658039077916\n",
      "3.0506106378291133\n",
      "3.050455659694897\n",
      "3.050300869092751\n",
      "3.0501462656115836\n",
      "3.049991848841601\n"
     ]
    },
    {
     "name": "stderr",
     "output_type": "stream",
     "text": [
      "\r",
      " 88%|████████▊ | 88/100 [04:14<00:31,  2.65s/it]"
     ]
    },
    {
     "name": "stdout",
     "output_type": "stream",
     "text": [
      "3.0498376183742923\n",
      "Epoch 0, Loss 3.0498376183742923\n",
      "3.0496835738024384\n",
      "3.0495297147200957\n",
      "3.049376040722598\n",
      "3.049222551406541\n",
      "3.049069246369794\n",
      "3.0489161252114805\n",
      "3.0487631875319763\n",
      "3.048610432932908\n",
      "3.0484578610171464\n"
     ]
    },
    {
     "name": "stderr",
     "output_type": "stream",
     "text": [
      "\r",
      " 89%|████████▉ | 89/100 [04:16<00:29,  2.70s/it]"
     ]
    },
    {
     "name": "stdout",
     "output_type": "stream",
     "text": [
      "3.0483054713888005\n",
      "Epoch 0, Loss 3.0483054713888005\n",
      "3.0481532636532145\n",
      "3.0480012374169583\n",
      "3.0478493922878305\n",
      "3.0476977278748443\n",
      "3.0475462437882306\n",
      "3.0473949396394273\n",
      "3.04724381504108\n",
      "3.0470928696070305\n",
      "3.046942102952317\n"
     ]
    },
    {
     "name": "stderr",
     "output_type": "stream",
     "text": [
      "\r",
      " 90%|█████████ | 90/100 [04:20<00:28,  2.85s/it]"
     ]
    },
    {
     "name": "stdout",
     "output_type": "stream",
     "text": [
      "3.046791514693171\n",
      "Epoch 0, Loss 3.046791514693171\n",
      "3.0466411044470045\n",
      "3.046490871832414\n",
      "3.046340816469171\n",
      "3.0461909379782193\n",
      "3.046041235981668\n",
      "3.045891710102791\n",
      "3.0457423599660163\n",
      "3.045593185196927\n"
     ]
    },
    {
     "name": "stderr",
     "output_type": "stream",
     "text": [
      "\r",
      " 91%|█████████ | 91/100 [04:22<00:24,  2.68s/it]"
     ]
    },
    {
     "name": "stdout",
     "output_type": "stream",
     "text": [
      "3.0454441854222574\n",
      "3.0452953602698805\n",
      "Epoch 0, Loss 3.0452953602698805\n",
      "3.045146709368813\n",
      "3.0449982323492044\n",
      "3.0448499288423365\n",
      "3.0447017984806157\n",
      "3.04455384089757\n",
      "3.0444060557278463\n",
      "3.0442584426072026\n",
      "3.0441110011725057\n",
      "3.043963731061729\n"
     ]
    },
    {
     "name": "stderr",
     "output_type": "stream",
     "text": [
      "\r",
      " 92%|█████████▏| 92/100 [04:25<00:22,  2.81s/it]"
     ]
    },
    {
     "name": "stdout",
     "output_type": "stream",
     "text": [
      "3.043816631913942\n",
      "Epoch 0, Loss 3.043816631913942\n",
      "3.0436697033693125\n",
      "3.0435229450690975\n",
      "3.0433763566556427\n",
      "3.0432299377723764\n",
      "3.043083688063804\n",
      "3.0429376071755074\n",
      "3.0427916947541362\n",
      "3.042645950447408\n",
      "3.042500373904102\n"
     ]
    },
    {
     "name": "stderr",
     "output_type": "stream",
     "text": [
      "\r",
      " 93%|█████████▎| 93/100 [04:27<00:18,  2.69s/it]"
     ]
    },
    {
     "name": "stdout",
     "output_type": "stream",
     "text": [
      "3.0423549647740527\n",
      "Epoch 0, Loss 3.0423549647740527\n",
      "3.0422097227081517\n",
      "3.0420646473583375\n",
      "3.0419197383775947\n",
      "3.0417749954199507\n",
      "3.041630418140468\n",
      "3.0414860061952433\n",
      "3.041341759241404\n",
      "3.0411976769371005\n"
     ]
    },
    {
     "name": "stderr",
     "output_type": "stream",
     "text": [
      "\r",
      " 94%|█████████▍| 94/100 [04:30<00:15,  2.61s/it]"
     ]
    },
    {
     "name": "stdout",
     "output_type": "stream",
     "text": [
      "3.0410537589415063\n",
      "3.040910004914812\n",
      "Epoch 0, Loss 3.040910004914812\n",
      "3.0407664145182216\n",
      "3.040622987413947\n",
      "3.04047972326521\n",
      "3.0403366217362304\n",
      "3.040193682492227\n",
      "3.0400509051994136\n",
      "3.0399082895249956\n",
      "3.0397658351371613\n",
      "3.0396235417050836\n"
     ]
    },
    {
     "name": "stderr",
     "output_type": "stream",
     "text": [
      "\r",
      " 95%|█████████▌| 95/100 [04:34<00:14,  2.95s/it]"
     ]
    },
    {
     "name": "stdout",
     "output_type": "stream",
     "text": [
      "3.039481408898917\n",
      "Epoch 0, Loss 3.039481408898917\n",
      "3.039339436389786\n",
      "3.0391976238497924\n",
      "3.039055970952001\n",
      "3.0389144773704437\n",
      "3.038773142780112\n",
      "3.0386319668569546\n",
      "3.0384909492778713\n",
      "3.0383500897207147\n",
      "3.038209387864281\n"
     ]
    },
    {
     "name": "stderr",
     "output_type": "stream",
     "text": [
      "\r",
      " 96%|█████████▌| 96/100 [04:36<00:11,  2.88s/it]"
     ]
    },
    {
     "name": "stdout",
     "output_type": "stream",
     "text": [
      "3.0380688433883103\n",
      "Epoch 0, Loss 3.0380688433883103\n",
      "3.03792845597348\n",
      "3.0377882253014024\n",
      "3.0376481510546234\n",
      "3.0375082329166165\n",
      "3.0373684705717783\n",
      "3.037228863705428\n",
      "3.037089412003801\n",
      "3.036950115154048\n",
      "3.036810972844231\n"
     ]
    },
    {
     "name": "stderr",
     "output_type": "stream",
     "text": [
      "\r",
      " 97%|█████████▋| 97/100 [04:40<00:09,  3.04s/it]"
     ]
    },
    {
     "name": "stdout",
     "output_type": "stream",
     "text": [
      "3.0366719847633177\n",
      "Epoch 0, Loss 3.0366719847633177\n",
      "3.036533150601181\n",
      "3.0363944700485934\n",
      "3.0362559427972244\n",
      "3.0361175685396375\n",
      "3.0359793469692864\n",
      "3.035841277780512\n",
      "3.035703360668539\n",
      "3.035565595329472\n",
      "3.035427981460293\n"
     ]
    },
    {
     "name": "stderr",
     "output_type": "stream",
     "text": [
      "\r",
      " 98%|█████████▊| 98/100 [04:43<00:06,  3.09s/it]"
     ]
    },
    {
     "name": "stdout",
     "output_type": "stream",
     "text": [
      "3.0352905187588566\n",
      "Epoch 0, Loss 3.0352905187588566\n",
      "3.0351532069238893\n",
      "3.0350160456549853\n",
      "3.034879034652601\n",
      "3.0347421736180555\n",
      "3.034605462253523\n",
      "3.034468900262035\n",
      "3.0343324873474717\n",
      "3.0341962232145625\n",
      "3.0340601075688824\n"
     ]
    },
    {
     "name": "stderr",
     "output_type": "stream",
     "text": [
      "\r",
      " 99%|█████████▉| 99/100 [04:46<00:03,  3.21s/it]"
     ]
    },
    {
     "name": "stdout",
     "output_type": "stream",
     "text": [
      "3.0339241401168455\n",
      "Epoch 0, Loss 3.0339241401168455\n",
      "3.0337883205657077\n",
      "3.0336526486235584\n",
      "3.033517123999321\n",
      "3.033381746402745\n",
      "3.03324651554441\n",
      "3.033111431135716\n",
      "3.032976492888885\n",
      "3.0328417005169555\n",
      "3.03270705373378\n"
     ]
    },
    {
     "name": "stderr",
     "output_type": "stream",
     "text": [
      "100%|██████████| 100/100 [04:50<00:00,  2.90s/it]\n",
      "  0%|          | 0/100 [00:00<?, ?it/s]"
     ]
    },
    {
     "name": "stdout",
     "output_type": "stream",
     "text": [
      "6.9288577698436615\n",
      "Epoch 0, Loss 6.9288577698436615\n",
      "3.516369044505578\n",
      "3.418297742783217\n",
      "3.379027382644278\n",
      "3.3618549319425823\n",
      "3.350875234647689\n",
      "3.3415484094935035\n",
      "3.3328170378022968\n",
      "3.3244441151945505\n",
      "3.316369326705538\n"
     ]
    },
    {
     "name": "stderr",
     "output_type": "stream",
     "text": [
      "\r",
      "  1%|          | 1/100 [00:03<06:09,  3.74s/it]"
     ]
    },
    {
     "name": "stdout",
     "output_type": "stream",
     "text": [
      "3.308569918091489\n",
      "Epoch 0, Loss 3.308569918091489\n",
      "3.301031493177308\n",
      "3.293741877273615\n",
      "3.2866898010605397\n",
      "3.279864600961798\n",
      "3.2732561373610736\n",
      "3.2668547606142457\n",
      "3.2606512879537224\n",
      "3.254636983097706\n",
      "3.2488035367262915\n"
     ]
    },
    {
     "name": "stderr",
     "output_type": "stream",
     "text": [
      "\r",
      "  2%|▏         | 2/100 [00:07<06:14,  3.82s/it]"
     ]
    },
    {
     "name": "stdout",
     "output_type": "stream",
     "text": [
      "3.2431430474358254\n",
      "Epoch 0, Loss 3.2431430474358254\n",
      "3.2376480031242583\n",
      "3.2323112628391546\n",
      "3.2271260391331045\n",
      "3.222085880967094\n",
      "3.217184657193939\n",
      "3.2124165406449086\n",
      "3.2077759928344185\n",
      "3.2032577492903678\n",
      "3.1988568055115376\n"
     ]
    },
    {
     "name": "stderr",
     "output_type": "stream",
     "text": [
      "\r",
      "  3%|▎         | 3/100 [00:11<06:22,  3.94s/it]"
     ]
    },
    {
     "name": "stdout",
     "output_type": "stream",
     "text": [
      "3.1945684035482116\n",
      "Epoch 0, Loss 3.1945684035482116\n",
      "3.1903880191979366\n",
      "3.1863113498048166\n",
      "3.1823343026479542\n",
      "3.1784529839024858\n",
      "3.1746636881550025\n",
      "3.1709628884539347\n",
      "3.1673472268746803\n",
      "3.1638135055787258\n",
      "3.160358678345791\n"
     ]
    },
    {
     "name": "stderr",
     "output_type": "stream",
     "text": [
      "\r",
      "  4%|▍         | 4/100 [00:15<05:54,  3.69s/it]"
     ]
    },
    {
     "name": "stdout",
     "output_type": "stream",
     "text": [
      "3.156979842558015\n",
      "Epoch 0, Loss 3.156979842558015\n",
      "3.1536742316153563\n",
      "3.150439207761707\n",
      "3.1472722553016372\n",
      "3.1441709741882278\n",
      "3.1411330739630166\n",
      "3.1381563680297586\n",
      "3.135238768244347\n",
      "3.132378279803979\n",
      "3.1295729964193475\n"
     ]
    },
    {
     "name": "stderr",
     "output_type": "stream",
     "text": [
      "\r",
      "  5%|▌         | 5/100 [00:18<05:45,  3.64s/it]"
     ]
    },
    {
     "name": "stdout",
     "output_type": "stream",
     "text": [
      "3.1268210957543565\n",
      "Epoch 0, Loss 3.1268210957543565\n",
      "3.124120835118603\n",
      "3.1214705473985442\n",
      "3.118868637213991\n",
      "3.1163135772872277\n",
      "3.113803905012734\n",
      "3.1113382192160954\n",
      "3.108915177091343\n",
      "3.106533491306507\n",
      "3.1041919272677476\n"
     ]
    },
    {
     "name": "stderr",
     "output_type": "stream",
     "text": [
      "\r",
      "  6%|▌         | 6/100 [00:21<05:32,  3.54s/it]"
     ]
    },
    {
     "name": "stdout",
     "output_type": "stream",
     "text": [
      "3.1018893005329975\n",
      "Epoch 0, Loss 3.1018893005329975\n",
      "3.099624474366501\n",
      "3.097396357426178\n",
      "3.0952039015761708\n",
      "3.0930460998173968\n",
      "3.0909219843293245\n",
      "3.088830624616593\n",
      "3.0867711257544728\n",
      "3.0847426267275195\n",
      "3.082744298856085\n"
     ]
    },
    {
     "name": "stderr",
     "output_type": "stream",
     "text": [
      "\r",
      "  7%|▋         | 7/100 [00:24<05:03,  3.27s/it]"
     ]
    },
    {
     "name": "stdout",
     "output_type": "stream",
     "text": [
      "3.0807753443056884\n",
      "Epoch 0, Loss 3.0807753443056884\n",
      "3.0788349946745357\n",
      "3.076922509654735\n",
      "3.0750371757630695\n",
      "3.0731783051373593\n",
      "3.0713452343947565\n",
      "3.069537323548474\n",
      "3.067753954979689\n",
      "3.0659945324615334\n",
      "3.064258480232294\n"
     ]
    },
    {
     "name": "stderr",
     "output_type": "stream",
     "text": [
      "\r",
      "  8%|▊         | 8/100 [00:28<05:07,  3.34s/it]"
     ]
    },
    {
     "name": "stdout",
     "output_type": "stream",
     "text": [
      "3.0625452421150725\n",
      "Epoch 0, Loss 3.0625452421150725\n",
      "3.060854280681362\n",
      "3.0591850764561115\n",
      "3.0575371271620053\n",
      "3.0559099470008295\n",
      "3.054303065969896\n",
      "3.0527160292116315\n",
      "3.0511483963945394\n",
      "3.049599741123861\n",
      "3.04806965038033\n"
     ]
    },
    {
     "name": "stderr",
     "output_type": "stream",
     "text": [
      "\r",
      "  9%|▉         | 9/100 [00:32<05:25,  3.58s/it]"
     ]
    },
    {
     "name": "stdout",
     "output_type": "stream",
     "text": [
      "3.046557723985546\n",
      "Epoch 0, Loss 3.046557723985546\n",
      "3.0450635740925325\n",
      "3.0435868247001774\n",
      "3.0421271111902715\n",
      "3.040684079885995\n",
      "3.039257387630706\n",
      "3.037846701386004\n",
      "3.0364516978480545\n",
      "3.035072063081255\n",
      "3.033707492168344\n"
     ]
    },
    {
     "name": "stderr",
     "output_type": "stream",
     "text": [
      "\r",
      " 10%|█         | 10/100 [00:35<05:06,  3.40s/it]"
     ]
    },
    {
     "name": "stdout",
     "output_type": "stream",
     "text": [
      "3.0323576888761186\n",
      "Epoch 0, Loss 3.0323576888761186\n",
      "3.0310223653359913\n",
      "3.0297012417385982\n",
      "3.0283940460418033\n",
      "3.027100513691393\n",
      "3.0258203873538534\n",
      "3.02455341666063\n",
      "3.023299357963302\n",
      "3.0220579740991385\n",
      "3.0208290341665416\n"
     ]
    },
    {
     "name": "stderr",
     "output_type": "stream",
     "text": [
      "\r",
      " 11%|█         | 11/100 [00:37<04:24,  2.97s/it]"
     ]
    },
    {
     "name": "stdout",
     "output_type": "stream",
     "text": [
      "3.0196123133098913\n",
      "Epoch 0, Loss 3.0196123133098913\n",
      "3.01840759251334\n",
      "3.017214658403132\n",
      "3.016033303058042\n",
      "3.014863323827552\n",
      "3.013704523157393\n",
      "3.0125567084221188\n",
      "3.011419691764378\n",
      "3.010293289940574\n",
      "3.009177324172625\n"
     ]
    },
    {
     "name": "stderr",
     "output_type": "stream",
     "text": [
      "\r",
      " 12%|█▏        | 12/100 [00:39<04:08,  2.83s/it]"
     ]
    },
    {
     "name": "stdout",
     "output_type": "stream",
     "text": [
      "3.0080716200055395\n",
      "Epoch 0, Loss 3.0080716200055395\n",
      "3.0069760071705396\n",
      "3.005890319453493\n",
      "3.0048143945684016\n",
      "3.003748074035731\n",
      "3.002691203065357\n",
      "3.001643630443929\n",
      "3.0006052084264585\n",
      "2.999575792631942\n",
      "2.9985552419428463\n"
     ]
    },
    {
     "name": "stderr",
     "output_type": "stream",
     "text": [
      "\r",
      " 13%|█▎        | 13/100 [00:42<04:02,  2.79s/it]"
     ]
    },
    {
     "name": "stdout",
     "output_type": "stream",
     "text": [
      "2.997543418408292\n",
      "Epoch 0, Loss 2.997543418408292\n",
      "2.996540187150765\n",
      "2.9955454162762205\n",
      "2.9945589767874243\n",
      "2.9935807425003973\n",
      "2.992610589963836\n",
      "2.9916483983813755\n",
      "2.990694049536594\n",
      "2.9897474277206197\n",
      "2.9888084196622664\n"
     ]
    },
    {
     "name": "stderr",
     "output_type": "stream",
     "text": [
      "\r",
      " 14%|█▍        | 14/100 [00:45<04:07,  2.88s/it]"
     ]
    },
    {
     "name": "stdout",
     "output_type": "stream",
     "text": [
      "2.9878769144605566\n",
      "Epoch 0, Loss 2.9878769144605566\n",
      "2.9869528035195754\n",
      "2.986035980485522\n",
      "2.9851263411858984\n",
      "2.9842237835707413\n",
      "2.9833282076558163\n",
      "2.982439515467686\n",
      "2.9815576109906012\n",
      "2.980682400115125\n",
      "2.9798137905884317\n"
     ]
    },
    {
     "name": "stderr",
     "output_type": "stream",
     "text": [
      "\r",
      " 15%|█▌        | 15/100 [00:48<03:56,  2.79s/it]"
     ]
    },
    {
     "name": "stdout",
     "output_type": "stream",
     "text": [
      "2.9789516919662073\n",
      "Epoch 0, Loss 2.9789516919662073\n",
      "2.9780960155661096\n",
      "2.9772466744226964\n",
      "2.976403583243803\n",
      "2.975566658368282\n",
      "2.9747358177250773\n",
      "2.9739109807935704\n",
      "2.9730920685651574\n",
      "2.972279003506006\n",
      "2.971471709520951\n"
     ]
    },
    {
     "name": "stderr",
     "output_type": "stream",
     "text": [
      "\r",
      " 16%|█▌        | 16/100 [00:50<03:45,  2.68s/it]"
     ]
    },
    {
     "name": "stdout",
     "output_type": "stream",
     "text": [
      "2.9706701119184977\n",
      "Epoch 0, Loss 2.9706701119184977\n",
      "2.9698741373768742\n",
      "2.969083713911109\n",
      "2.9682987708410877\n",
      "2.967519238760568\n",
      "2.9667450495070984\n",
      "2.9659761361328303\n",
      "2.9652124328761755\n",
      "2.9644538751342897\n",
      "2.9637003994363473\n"
     ]
    },
    {
     "name": "stderr",
     "output_type": "stream",
     "text": [
      "\r",
      " 17%|█▋        | 17/100 [00:53<03:48,  2.75s/it]"
     ]
    },
    {
     "name": "stdout",
     "output_type": "stream",
     "text": [
      "2.962951943417588\n",
      "Epoch 0, Loss 2.962951943417588\n",
      "2.9622084457940945\n",
      "2.9614698463382974\n",
      "2.960736085855161\n",
      "2.960007106159044\n",
      "2.9592828500511974\n",
      "2.9585632612978965\n",
      "2.9578482846091676\n",
      "2.9571378656181015\n",
      "2.9564319508607335\n"
     ]
    },
    {
     "name": "stderr",
     "output_type": "stream",
     "text": [
      "\r",
      " 18%|█▊        | 18/100 [00:56<03:44,  2.74s/it]"
     ]
    },
    {
     "name": "stdout",
     "output_type": "stream",
     "text": [
      "2.95573048775646\n",
      "Epoch 0, Loss 2.95573048775646\n",
      "2.9550334245889993\n",
      "2.9543407104878456\n",
      "2.953652295410227\n",
      "2.9529681301235464\n",
      "2.9522881661882754\n",
      "2.9516123559413043\n",
      "2.950940652479727\n",
      "2.9502730096450427\n",
      "2.9496093820077713\n"
     ]
    },
    {
     "name": "stderr",
     "output_type": "stream",
     "text": [
      "\r",
      " 19%|█▉        | 19/100 [00:58<03:28,  2.57s/it]"
     ]
    },
    {
     "name": "stdout",
     "output_type": "stream",
     "text": [
      "2.9489497248524583\n",
      "Epoch 0, Loss 2.9489497248524583\n",
      "2.9482939941630706\n",
      "2.947642146608757\n",
      "2.9469941395299717\n",
      "2.9463499309249506\n",
      "2.9457094794365193\n",
      "2.9450727443392366\n",
      "2.9444396855268504\n",
      "2.943810263500073\n",
      "2.943184439354644\n"
     ]
    },
    {
     "name": "stderr",
     "output_type": "stream",
     "text": [
      "\r",
      " 20%|██        | 20/100 [01:00<03:19,  2.49s/it]"
     ]
    },
    {
     "name": "stdout",
     "output_type": "stream",
     "text": [
      "2.9425621747696953\n",
      "Epoch 0, Loss 2.9425621747696953\n",
      "2.9419434319963917\n",
      "2.9413281738468515\n",
      "2.940716363683332\n",
      "2.9401079654076705\n",
      "2.9395029434509823\n",
      "2.938901262763603\n",
      "2.9383028888052594\n",
      "2.937707787535486\n",
      "2.93711592540425\n"
     ]
    },
    {
     "name": "stderr",
     "output_type": "stream",
     "text": [
      "\r",
      " 21%|██        | 21/100 [01:02<03:12,  2.43s/it]"
     ]
    },
    {
     "name": "stdout",
     "output_type": "stream",
     "text": [
      "2.936527269342809\n",
      "Epoch 0, Loss 2.936527269342809\n",
      "2.935941786754769\n",
      "2.9353594455073533\n",
      "2.934780213922872\n",
      "2.934204060770387\n",
      "2.9336309552575632\n",
      "2.933060867022706\n",
      "2.932493766126981\n",
      "2.9319296230467997\n",
      "2.931368408666388\n"
     ]
    },
    {
     "name": "stderr",
     "output_type": "stream",
     "text": [
      "\r",
      " 22%|██▏       | 22/100 [01:06<03:25,  2.63s/it]"
     ]
    },
    {
     "name": "stdout",
     "output_type": "stream",
     "text": [
      "2.9308100942705058\n",
      "Epoch 0, Loss 2.9308100942705058\n",
      "2.930254651537337\n",
      "2.929702052531535\n",
      "2.929152269697418\n",
      "2.9286052758523096\n",
      "2.9280610441800357\n",
      "2.9275195482245486\n",
      "2.9269807618836974\n",
      "2.926444659403127\n",
      "2.925911215370311\n"
     ]
    },
    {
     "name": "stderr",
     "output_type": "stream",
     "text": [
      "\r",
      " 23%|██▎       | 23/100 [01:08<03:22,  2.63s/it]"
     ]
    },
    {
     "name": "stdout",
     "output_type": "stream",
     "text": [
      "2.925380404708709\n",
      "Epoch 0, Loss 2.925380404708709\n",
      "2.9248522026720476\n",
      "2.924326584838724\n",
      "2.923803527106324\n",
      "2.923283005686257\n",
      "2.922764997098503\n",
      "2.9222494781664645\n",
      "2.921736426011929\n",
      "2.921225818050132\n",
      "2.9207176319849246\n"
     ]
    },
    {
     "name": "stderr",
     "output_type": "stream",
     "text": [
      "\r",
      " 24%|██▍       | 24/100 [01:11<03:30,  2.77s/it]"
     ]
    },
    {
     "name": "stdout",
     "output_type": "stream",
     "text": [
      "2.9202118458040345\n",
      "Epoch 0, Loss 2.9202118458040345\n",
      "2.919708437774428\n",
      "2.9192073864377615\n",
      "2.918708670605929\n",
      "2.918212269356696\n",
      "2.917718162029417\n",
      "2.917226328220849\n",
      "2.916736747781035\n",
      "2.9162494008092783\n",
      "2.915764267650191\n"
     ]
    },
    {
     "name": "stderr",
     "output_type": "stream",
     "text": [
      "\r",
      " 25%|██▌       | 25/100 [01:14<03:24,  2.73s/it]"
     ]
    },
    {
     "name": "stdout",
     "output_type": "stream",
     "text": [
      "2.9152813288898214\n",
      "Epoch 0, Loss 2.9152813288898214\n",
      "2.914800565351855\n",
      "2.9143219580938955\n",
      "2.9138454884038056\n",
      "2.9133711377961324\n",
      "2.9128988880085918\n",
      "2.9124287209986224\n",
      "2.9119606189400065\n",
      "2.9114945642195553\n",
      "2.911030539433852\n"
     ]
    },
    {
     "name": "stderr",
     "output_type": "stream",
     "text": [
      "\r",
      " 26%|██▌       | 26/100 [01:17<03:22,  2.74s/it]"
     ]
    },
    {
     "name": "stdout",
     "output_type": "stream",
     "text": [
      "2.9105685273860646\n",
      "Epoch 0, Loss 2.9105685273860646\n",
      "2.910108511082809\n",
      "2.9096504737310807\n",
      "2.9091943987352322\n",
      "2.9087402696940163\n",
      "2.9082880703976803\n",
      "2.9078377848251105\n",
      "2.907389397141037\n",
      "2.90694289169328\n",
      "2.9064982530100516\n"
     ]
    },
    {
     "name": "stderr",
     "output_type": "stream",
     "text": [
      "\r",
      " 27%|██▋       | 27/100 [01:20<03:25,  2.82s/it]"
     ]
    },
    {
     "name": "stdout",
     "output_type": "stream",
     "text": [
      "2.90605546579731\n",
      "Epoch 0, Loss 2.90605546579731\n",
      "2.9056145149361505\n",
      "2.9051753854802556\n",
      "2.904738062653384\n",
      "2.9043025318469033\n",
      "2.903868778617374\n",
      "2.903436788684166\n",
      "2.903006547927129\n",
      "2.9025780423842917\n",
      "2.9021512582496114\n"
     ]
    },
    {
     "name": "stderr",
     "output_type": "stream",
     "text": [
      "\r",
      " 28%|██▊       | 28/100 [01:22<03:22,  2.81s/it]"
     ]
    },
    {
     "name": "stdout",
     "output_type": "stream",
     "text": [
      "2.9017261818707585\n",
      "Epoch 0, Loss 2.9017261818707585\n",
      "2.901302799746938\n",
      "2.900881098526754\n",
      "2.9004610650061036\n",
      "2.9000426861261177\n",
      "2.8996259489711287\n",
      "2.899210840766671\n",
      "2.898797348877524\n",
      "2.8983854608057884\n",
      "2.8979751641889835\n"
     ]
    },
    {
     "name": "stderr",
     "output_type": "stream",
     "text": [
      "\r",
      " 29%|██▉       | 29/100 [01:26<03:25,  2.90s/it]"
     ]
    },
    {
     "name": "stdout",
     "output_type": "stream",
     "text": [
      "2.8975664467981903\n",
      "Epoch 0, Loss 2.8975664467981903\n",
      "2.8971592965362136\n",
      "2.896753701435791\n",
      "2.8963496496578105\n",
      "2.89594712948958\n",
      "2.8955461293431073\n",
      "2.89514663775342\n",
      "2.8947486433769103\n",
      "2.894352134989703\n",
      "2.8939571014860546\n"
     ]
    },
    {
     "name": "stderr",
     "output_type": "stream",
     "text": [
      "\r",
      " 30%|███       | 30/100 [01:29<03:25,  2.93s/it]"
     ]
    },
    {
     "name": "stdout",
     "output_type": "stream",
     "text": [
      "2.8935635318767794\n",
      "Epoch 0, Loss 2.8935635318767794\n",
      "2.893171415287696\n",
      "2.892780740958106\n",
      "2.8923914982392893\n",
      "2.8920036765930326\n",
      "2.891617265590173\n",
      "2.8912322549091716\n",
      "2.8908486343347044\n",
      "2.890466393756282\n",
      "2.8900855231668863\n"
     ]
    },
    {
     "name": "stderr",
     "output_type": "stream",
     "text": [
      "\r",
      " 31%|███       | 31/100 [01:31<03:13,  2.80s/it]"
     ]
    },
    {
     "name": "stdout",
     "output_type": "stream",
     "text": [
      "2.889706012661628\n",
      "Epoch 0, Loss 2.889706012661628\n",
      "2.889327852436432\n",
      "2.8889510327867334\n",
      "2.888575544106204\n",
      "2.888201376885492\n",
      "2.887828521710986\n",
      "2.8874569692635914\n",
      "2.887086710317535\n",
      "2.8867177357391807\n",
      "2.886350036485865\n"
     ]
    },
    {
     "name": "stderr",
     "output_type": "stream",
     "text": [
      "\r",
      " 32%|███▏      | 32/100 [01:34<03:14,  2.86s/it]"
     ]
    },
    {
     "name": "stdout",
     "output_type": "stream",
     "text": [
      "2.8859836036047546\n",
      "Epoch 0, Loss 2.8859836036047546\n",
      "2.885618428231715\n",
      "2.8852545015902007\n",
      "2.8848918149901635\n",
      "2.884530359826972\n",
      "2.884170127580351\n",
      "2.883811109813338\n",
      "2.883453298171253\n",
      "2.883096684380682\n",
      "2.8827412602484843\n"
     ]
    },
    {
     "name": "stderr",
     "output_type": "stream",
     "text": [
      "\r",
      " 33%|███▎      | 33/100 [01:37<03:06,  2.78s/it]"
     ]
    },
    {
     "name": "stdout",
     "output_type": "stream",
     "text": [
      "2.8823870176608044\n",
      "Epoch 0, Loss 2.8823870176608044\n",
      "2.8820339485821003\n",
      "2.8816820450541956\n",
      "2.881331299195333\n",
      "2.8809817031992475\n",
      "2.8806332493342612\n",
      "2.8802859299423687\n",
      "2.8799397374383666\n",
      "2.879594664308967\n",
      "2.8792507031119428\n"
     ]
    },
    {
     "name": "stderr",
     "output_type": "stream",
     "text": [
      "\r",
      " 34%|███▍      | 34/100 [01:39<02:54,  2.64s/it]"
     ]
    },
    {
     "name": "stdout",
     "output_type": "stream",
     "text": [
      "2.878907846475277\n",
      "Epoch 0, Loss 2.878907846475277\n",
      "2.8785660870963303\n",
      "2.878225417741009\n",
      "2.87788583124296\n",
      "2.877547320502766\n",
      "2.8772098784871574\n",
      "2.876873498228234\n",
      "2.8765381728226975\n",
      "2.876203895431098\n",
      "2.875870659277084\n"
     ]
    },
    {
     "name": "stderr",
     "output_type": "stream",
     "text": [
      "\r",
      " 35%|███▌      | 35/100 [01:43<03:10,  2.93s/it]"
     ]
    },
    {
     "name": "stdout",
     "output_type": "stream",
     "text": [
      "2.8755384576466705\n",
      "Epoch 0, Loss 2.8755384576466705\n",
      "2.8752072838875145\n",
      "2.874877131408199\n",
      "2.8745479936775293\n",
      "2.8742198642238406\n",
      "2.873892736634308\n",
      "2.873566604554275\n",
      "2.8732414616865873\n",
      "2.8729173017909333\n",
      "2.8725941186832005\n"
     ]
    },
    {
     "name": "stderr",
     "output_type": "stream",
     "text": [
      "\r",
      " 36%|███▌      | 36/100 [01:45<02:58,  2.79s/it]"
     ]
    },
    {
     "name": "stdout",
     "output_type": "stream",
     "text": [
      "2.8722719062348316\n",
      "Epoch 0, Loss 2.8722719062348316\n",
      "2.871950658372198\n",
      "2.871630369075978\n",
      "2.8713110323805404\n",
      "2.870992642373344\n",
      "2.870675193194339\n",
      "2.8703586790353772\n",
      "2.870043094139635\n",
      "2.8697284328010375\n",
      "2.8694146893636954\n"
     ]
    },
    {
     "name": "stderr",
     "output_type": "stream",
     "text": [
      "\r",
      " 37%|███▋      | 37/100 [01:48<03:01,  2.89s/it]"
     ]
    },
    {
     "name": "stdout",
     "output_type": "stream",
     "text": [
      "2.8691018582213457\n",
      "Epoch 0, Loss 2.8691018582213457\n",
      "2.868789933816803\n",
      "2.868478910641419\n",
      "2.8681687832345415\n",
      "2.8678595461829914\n",
      "2.867551194120537\n",
      "2.8672437217273847\n",
      "2.866937123729667\n",
      "2.8666313948989415\n",
      "2.8663265300517002\n"
     ]
    },
    {
     "name": "stderr",
     "output_type": "stream",
     "text": [
      "\r",
      " 38%|███▊      | 38/100 [01:52<03:22,  3.27s/it]"
     ]
    },
    {
     "name": "stdout",
     "output_type": "stream",
     "text": [
      "2.8660225240488777\n",
      "Epoch 0, Loss 2.8660225240488777\n",
      "2.865719371795371\n",
      "2.8654170682395654\n",
      "2.8651156083728613\n",
      "2.8648149872292175\n",
      "2.864515199884688\n",
      "2.864216241456974\n",
      "2.8639181071049764\n",
      "2.8636207920283607\n",
      "2.863324291467116\n"
     ]
    },
    {
     "name": "stderr",
     "output_type": "stream",
     "text": [
      "\r",
      " 39%|███▉      | 39/100 [01:55<03:15,  3.20s/it]"
     ]
    },
    {
     "name": "stdout",
     "output_type": "stream",
     "text": [
      "2.863028600701133\n",
      "Epoch 0, Loss 2.863028600701133\n",
      "2.8627337150497763\n",
      "2.862439629871468\n",
      "2.8621463405632777\n",
      "2.861853842560513\n",
      "2.861562131336316\n",
      "2.8612712024012708\n",
      "2.8609810513030083\n",
      "2.860691673625819\n",
      "2.8604030649902707\n"
     ]
    },
    {
     "name": "stderr",
     "output_type": "stream",
     "text": [
      "\r",
      " 40%|████      | 40/100 [01:59<03:15,  3.26s/it]"
     ]
    },
    {
     "name": "stdout",
     "output_type": "stream",
     "text": [
      "2.860115221052837\n",
      "Epoch 0, Loss 2.860115221052837\n",
      "2.859828137505512\n",
      "2.8595418100754575\n",
      "2.859256234524626\n",
      "2.858971406649411\n",
      "2.858687322280287\n",
      "2.858403977281462\n",
      "2.858121367550533\n",
      "2.857839489018136\n",
      "2.8575583376476206\n"
     ]
    },
    {
     "name": "stderr",
     "output_type": "stream",
     "text": [
      "\r",
      " 41%|████      | 41/100 [02:02<03:13,  3.27s/it]"
     ]
    },
    {
     "name": "stdout",
     "output_type": "stream",
     "text": [
      "2.8572779094347096\n",
      "Epoch 0, Loss 2.8572779094347096\n",
      "2.856998200407169\n",
      "2.8567192066244864\n",
      "2.8564409241775466\n",
      "2.8561633491883156\n",
      "2.855886477809529\n",
      "2.8556103062243765\n",
      "2.8553348306462025\n",
      "2.8550600473181977\n",
      "2.8547859525131076\n"
     ]
    },
    {
     "name": "stderr",
     "output_type": "stream",
     "text": [
      "\r",
      " 42%|████▏     | 42/100 [02:05<03:00,  3.11s/it]"
     ]
    },
    {
     "name": "stdout",
     "output_type": "stream",
     "text": [
      "2.854512542532928\n",
      "Epoch 0, Loss 2.854512542532928\n",
      "2.8542398137086216\n",
      "2.853967762399825\n",
      "2.8536963849945667\n",
      "2.853425677908982\n",
      "2.853155637587041\n",
      "2.8528862605002683\n",
      "2.8526175431474723\n",
      "2.85234948205448\n",
      "2.8520820737738695\n"
     ]
    },
    {
     "name": "stderr",
     "output_type": "stream",
     "text": [
      "\r",
      " 43%|████▎     | 43/100 [02:08<02:53,  3.04s/it]"
     ]
    },
    {
     "name": "stdout",
     "output_type": "stream",
     "text": [
      "2.851815314884708\n",
      "Epoch 0, Loss 2.851815314884708\n",
      "2.8515492019922926\n",
      "2.8512837317278965\n",
      "2.851018900748513\n",
      "2.8507547057366067\n",
      "2.850491143399869\n",
      "2.8502282104709686\n",
      "2.8499659037073135\n",
      "2.849704219890813\n",
      "2.849443155827639\n"
     ]
    },
    {
     "name": "stderr",
     "output_type": "stream",
     "text": [
      "\r",
      " 44%|████▍     | 44/100 [02:10<02:44,  2.94s/it]"
     ]
    },
    {
     "name": "stdout",
     "output_type": "stream",
     "text": [
      "2.849182708347997\n",
      "Epoch 0, Loss 2.849182708347997\n",
      "2.848922874305889\n",
      "2.848663650578893\n",
      "2.848405034067932\n",
      "2.8481470216970552\n",
      "2.8478896104132163\n",
      "2.8476327971860553\n",
      "2.8473765790076833\n",
      "2.847120952892471\n",
      "2.846865915876839\n"
     ]
    },
    {
     "name": "stderr",
     "output_type": "stream",
     "text": [
      "\r",
      " 45%|████▌     | 45/100 [02:13<02:39,  2.90s/it]"
     ]
    },
    {
     "name": "stdout",
     "output_type": "stream",
     "text": [
      "2.846611465019046\n",
      "Epoch 0, Loss 2.846611465019046\n",
      "2.8463575973989874\n",
      "2.846104310117991\n",
      "2.8458516002986136\n",
      "2.845599465084445\n",
      "2.8453479016399092\n",
      "2.8450969071500736\n",
      "2.844846478820453\n",
      "2.8445966138768206\n",
      "2.8443473095650216\n"
     ]
    },
    {
     "name": "stderr",
     "output_type": "stream",
     "text": [
      "\r",
      " 46%|████▌     | 46/100 [02:16<02:39,  2.96s/it]"
     ]
    },
    {
     "name": "stdout",
     "output_type": "stream",
     "text": [
      "2.844098563150785\n",
      "Epoch 0, Loss 2.844098563150785\n",
      "2.843850371919542\n",
      "2.843602733176244\n",
      "2.8433556442451797\n",
      "2.8431091024698016\n",
      "2.8428631052125484\n",
      "2.8426176498546716\n",
      "2.842372733796059\n",
      "2.8421283544550726\n",
      "2.841884509268374\n"
     ]
    },
    {
     "name": "stderr",
     "output_type": "stream",
     "text": [
      "\r",
      " 47%|████▋     | 47/100 [02:19<02:34,  2.91s/it]"
     ]
    },
    {
     "name": "stdout",
     "output_type": "stream",
     "text": [
      "2.8416411956907623\n",
      "Epoch 0, Loss 2.8416411956907623\n",
      "2.841398411195004\n",
      "2.8411561532716765\n",
      "2.8409144194290024\n",
      "2.840673207192692\n",
      "2.8404325141057867\n",
      "2.8401923377284977\n",
      "2.8399526756380618\n",
      "2.8397135254285777\n"
     ]
    },
    {
     "name": "stderr",
     "output_type": "stream",
     "text": [
      "\r",
      " 48%|████▊     | 48/100 [02:22<02:24,  2.79s/it]"
     ]
    },
    {
     "name": "stdout",
     "output_type": "stream",
     "text": [
      "2.839474884710863\n",
      "2.8392367511123004\n",
      "Epoch 0, Loss 2.8392367511123004\n",
      "2.838999122276694\n",
      "2.838761995864118\n",
      "2.838525369550776\n",
      "2.838289241028858\n",
      "2.8380536080063945\n",
      "2.8378184682071224\n",
      "2.8375838193703413\n",
      "2.837349659250781\n",
      "2.8371159856184613\n"
     ]
    },
    {
     "name": "stderr",
     "output_type": "stream",
     "text": [
      "\r",
      " 49%|████▉     | 49/100 [02:25<02:26,  2.88s/it]"
     ]
    },
    {
     "name": "stdout",
     "output_type": "stream",
     "text": [
      "2.8368827962585605\n",
      "Epoch 0, Loss 2.8368827962585605\n",
      "2.836650088971284\n",
      "2.8364178615717255\n",
      "2.8361861118897482\n",
      "2.8359548377698474\n",
      "2.8357240370710253\n",
      "2.8354937076666658\n",
      "2.83526384744441\n",
      "2.835034454306033\n"
     ]
    },
    {
     "name": "stderr",
     "output_type": "stream",
     "text": [
      "\r",
      " 50%|█████     | 50/100 [02:29<02:46,  3.34s/it]"
     ]
    },
    {
     "name": "stdout",
     "output_type": "stream",
     "text": [
      "2.834805526167319\n",
      "2.834577060957943\n",
      "Epoch 0, Loss 2.834577060957943\n",
      "2.8343490566213525\n",
      "2.834121511114645\n",
      "2.8338944224084517\n",
      "2.8336677884868267\n",
      "2.833441607347125\n",
      "2.833215876999893\n",
      "2.8329905954687558\n",
      "2.832765760790304\n",
      "2.8325413710139853\n"
     ]
    },
    {
     "name": "stderr",
     "output_type": "stream",
     "text": [
      "\r",
      " 51%|█████     | 51/100 [02:32<02:39,  3.26s/it]"
     ]
    },
    {
     "name": "stdout",
     "output_type": "stream",
     "text": [
      "2.8323174242019955\n",
      "Epoch 0, Loss 2.8323174242019955\n",
      "2.8320939184291705\n",
      "2.8318708517828752\n",
      "2.8316482223629076\n",
      "2.8314260282813817\n",
      "2.8312042676626334\n",
      "2.8309829386431153\n",
      "2.8307620393712907\n",
      "2.830541568007542\n",
      "2.830321522724062\n"
     ]
    },
    {
     "name": "stderr",
     "output_type": "stream",
     "text": [
      "\r",
      " 52%|█████▏    | 52/100 [02:35<02:28,  3.10s/it]"
     ]
    },
    {
     "name": "stdout",
     "output_type": "stream",
     "text": [
      "2.8301019017047593\n",
      "Epoch 0, Loss 2.8301019017047593\n",
      "2.8298827031451648\n",
      "2.829663925252325\n",
      "2.829445566244718\n",
      "2.829227624352151\n",
      "2.8290100978156665\n",
      "2.828792984887457\n",
      "2.8285762838307633\n",
      "2.8283599929197916\n",
      "2.8281441104396183\n"
     ]
    },
    {
     "name": "stderr",
     "output_type": "stream",
     "text": [
      "\r",
      " 53%|█████▎    | 53/100 [02:38<02:21,  3.01s/it]"
     ]
    },
    {
     "name": "stdout",
     "output_type": "stream",
     "text": [
      "2.827928634686104\n",
      "Epoch 0, Loss 2.827928634686104\n",
      "2.8277135639658004\n",
      "2.827498896595871\n",
      "2.8272846309039976\n",
      "2.8270707652282954\n",
      "2.826857297917232\n",
      "2.826644227329539\n",
      "2.8264315518341325\n",
      "2.826219269810027\n",
      "2.8260073796462555\n"
     ]
    },
    {
     "name": "stderr",
     "output_type": "stream",
     "text": [
      "\r",
      " 54%|█████▍    | 54/100 [02:41<02:26,  3.18s/it]"
     ]
    },
    {
     "name": "stdout",
     "output_type": "stream",
     "text": [
      "2.8257958797417912\n",
      "Epoch 0, Loss 2.8257958797417912\n",
      "2.8255847685054625\n",
      "2.825374044355878\n",
      "2.8251637057213443\n",
      "2.824953751039792\n",
      "2.8247441787586958\n",
      "2.8245349873350003\n",
      "2.824326175235043\n",
      "2.82411774093448\n",
      "2.823909682918212\n"
     ]
    },
    {
     "name": "stderr",
     "output_type": "stream",
     "text": [
      "\r",
      " 55%|█████▌    | 55/100 [02:45<02:24,  3.22s/it]"
     ]
    },
    {
     "name": "stdout",
     "output_type": "stream",
     "text": [
      "2.823701999680312\n",
      "Epoch 0, Loss 2.823701999680312\n",
      "2.8234946897239497\n",
      "2.8232877515613217\n",
      "2.8230811837135823\n",
      "2.822874984710767\n",
      "2.8226691530917276\n",
      "2.822463687404063\n",
      "2.822258586204047\n",
      "2.8220538480565596\n",
      "2.821849471535031\n"
     ]
    },
    {
     "name": "stderr",
     "output_type": "stream",
     "text": [
      "\r",
      " 56%|█████▌    | 56/100 [02:49<02:33,  3.48s/it]"
     ]
    },
    {
     "name": "stdout",
     "output_type": "stream",
     "text": [
      "2.821645455221356\n",
      "Epoch 0, Loss 2.821645455221356\n",
      "2.8214417977058446\n",
      "2.8212384975871485\n",
      "2.821035553472198\n",
      "2.8208329639761374\n",
      "2.8206307277222606\n",
      "2.820428843341953\n",
      "2.8202273094746193\n",
      "2.8200261247676335\n",
      "2.819825287876268\n"
     ]
    },
    {
     "name": "stderr",
     "output_type": "stream",
     "text": [
      "\r",
      " 57%|█████▋    | 57/100 [02:51<02:18,  3.22s/it]"
     ]
    },
    {
     "name": "stdout",
     "output_type": "stream",
     "text": [
      "2.8196247974636375\n",
      "Epoch 0, Loss 2.8196247974636375\n",
      "2.819424652200638\n",
      "2.819224850765888\n",
      "2.819025391845666\n",
      "2.8188262741338574\n",
      "2.8186274963318927\n",
      "2.8184290571486925\n",
      "2.818230955300605\n",
      "2.8180331895113584\n",
      "2.817835758511998\n"
     ]
    },
    {
     "name": "stderr",
     "output_type": "stream",
     "text": [
      "\r",
      " 58%|█████▊    | 58/100 [02:54<02:04,  2.97s/it]"
     ]
    },
    {
     "name": "stdout",
     "output_type": "stream",
     "text": [
      "2.817638661040835\n",
      "Epoch 0, Loss 2.817638661040835\n",
      "2.8174418958433898\n",
      "2.817245461672336\n",
      "2.8170493572874493\n",
      "2.816853581455556\n",
      "2.816658132950475\n",
      "2.816463010552967\n",
      "2.816268213050685\n",
      "2.8160737392381217\n",
      "2.815879587916557\n"
     ]
    },
    {
     "name": "stderr",
     "output_type": "stream",
     "text": [
      "\r",
      " 59%|█████▉    | 59/100 [02:57<02:00,  2.95s/it]"
     ]
    },
    {
     "name": "stdout",
     "output_type": "stream",
     "text": [
      "2.815685757894009\n",
      "Epoch 0, Loss 2.815685757894009\n",
      "2.815492247985185\n",
      "2.815299057011428\n",
      "2.8151061838006717\n",
      "2.8149136271873907\n",
      "2.8147213860125486\n",
      "2.814529459123558\n",
      "2.814337845374224\n",
      "2.8141465436247035\n",
      "2.8139555527414557\n"
     ]
    },
    {
     "name": "stderr",
     "output_type": "stream",
     "text": [
      "\r",
      " 60%|██████    | 60/100 [03:01<02:18,  3.47s/it]"
     ]
    },
    {
     "name": "stdout",
     "output_type": "stream",
     "text": [
      "2.813764871597199\n",
      "Epoch 0, Loss 2.813764871597199\n",
      "2.813574499070859\n",
      "2.813384434047531\n",
      "2.8131946754184307\n",
      "2.8130052220808492\n",
      "2.8128160729381095\n",
      "2.812627226899525\n",
      "2.8124386828803516\n",
      "2.8122504398017503\n",
      "2.812062496590741\n"
     ]
    },
    {
     "name": "stderr",
     "output_type": "stream",
     "text": [
      "\r",
      " 61%|██████    | 61/100 [03:05<02:21,  3.63s/it]"
     ]
    },
    {
     "name": "stdout",
     "output_type": "stream",
     "text": [
      "2.8118748521801593\n",
      "Epoch 0, Loss 2.8118748521801593\n",
      "2.8116875055086163\n",
      "2.81150045552046\n",
      "2.811313701165727\n",
      "2.81112724140011\n",
      "2.8109410751849104\n",
      "2.810755201487002\n",
      "2.8105696192787906\n",
      "2.8103843275381744\n",
      "2.8101993252485045\n"
     ]
    },
    {
     "name": "stderr",
     "output_type": "stream",
     "text": [
      "\r",
      " 62%|██████▏   | 62/100 [03:08<02:13,  3.51s/it]"
     ]
    },
    {
     "name": "stdout",
     "output_type": "stream",
     "text": [
      "2.8100146113985485\n",
      "Epoch 0, Loss 2.8100146113985485\n",
      "2.8098301849824465\n",
      "2.8096460449996807\n",
      "2.8094621904550316\n",
      "2.809278620358546\n",
      "2.8090953337254905\n",
      "2.8089123295763274\n",
      "2.8087296069366694\n",
      "2.808547164837246\n",
      "2.8083650023138684\n"
     ]
    },
    {
     "name": "stderr",
     "output_type": "stream",
     "text": [
      "\r",
      " 63%|██████▎   | 63/100 [03:11<02:05,  3.38s/it]"
     ]
    },
    {
     "name": "stdout",
     "output_type": "stream",
     "text": [
      "2.8081831184073915\n",
      "Epoch 0, Loss 2.8081831184073915\n",
      "2.808001512163683\n",
      "2.807820182633584\n",
      "2.8076391288728786\n",
      "2.8074583499422547\n",
      "2.8072778449072753\n",
      "2.8070976128383403\n",
      "2.8069176528106556\n",
      "2.806737963904199\n",
      "2.8065585452036896\n"
     ]
    },
    {
     "name": "stderr",
     "output_type": "stream",
     "text": [
      "\r",
      " 64%|██████▍   | 64/100 [03:15<02:00,  3.34s/it]"
     ]
    },
    {
     "name": "stdout",
     "output_type": "stream",
     "text": [
      "2.8063793957985492\n",
      "Epoch 0, Loss 2.8063793957985492\n",
      "2.806200514782878\n",
      "2.8060219012554155\n",
      "2.805843554319513\n",
      "2.8056654730831014\n",
      "2.8054876566586584\n",
      "2.8053101041631785\n",
      "2.8051328147181427\n",
      "2.804955787449486\n",
      "2.8047790214875716\n"
     ]
    },
    {
     "name": "stderr",
     "output_type": "stream",
     "text": [
      "\r",
      " 65%|██████▌   | 65/100 [03:18<01:56,  3.33s/it]"
     ]
    },
    {
     "name": "stdout",
     "output_type": "stream",
     "text": [
      "2.8046025159671566\n",
      "Epoch 0, Loss 2.8046025159671566\n",
      "2.8044262700273612\n",
      "2.804250282811646\n",
      "2.8040745534677747\n",
      "2.8038990811477906\n",
      "2.8037238650079876\n",
      "2.8035489042088777\n",
      "2.803374197915166\n",
      "2.8031997452957227\n",
      "2.8030255455235524\n"
     ]
    },
    {
     "name": "stderr",
     "output_type": "stream",
     "text": [
      "\r",
      " 66%|██████▌   | 66/100 [03:22<02:00,  3.55s/it]"
     ]
    },
    {
     "name": "stdout",
     "output_type": "stream",
     "text": [
      "2.80285159777577\n",
      "Epoch 0, Loss 2.80285159777577\n",
      "2.8026779012335745\n",
      "2.802504455082213\n",
      "2.8023312585109657\n",
      "2.8021583107131107\n",
      "2.8019856108859007\n",
      "2.8018131582305372\n",
      "2.8016409519521424\n",
      "2.8014689912597355\n",
      "2.801297275366205\n"
     ]
    },
    {
     "name": "stderr",
     "output_type": "stream",
     "text": [
      "\r",
      " 67%|██████▋   | 67/100 [03:25<01:50,  3.35s/it]"
     ]
    },
    {
     "name": "stdout",
     "output_type": "stream",
     "text": [
      "2.8011258034882873\n",
      "Epoch 0, Loss 2.8011258034882873\n",
      "2.8009545748465348\n",
      "2.800783588665297\n",
      "2.8006128441726914\n",
      "2.8004423406005854\n",
      "2.8002720771845615\n",
      "2.8001020531639016\n",
      "2.7999322677815606\n",
      "2.799762720284142\n",
      "2.7995934099218736\n"
     ]
    },
    {
     "name": "stderr",
     "output_type": "stream",
     "text": [
      "\r",
      " 68%|██████▊   | 68/100 [03:28<01:39,  3.10s/it]"
     ]
    },
    {
     "name": "stdout",
     "output_type": "stream",
     "text": [
      "2.7994243359485864\n",
      "Epoch 0, Loss 2.7994243359485864\n",
      "2.7992554976216883\n",
      "2.799086894202144\n",
      "2.7989185249544484\n",
      "2.798750389146611\n",
      "2.7985824860501216\n",
      "2.798414814939941\n",
      "2.7982473750944687\n",
      "2.798080165795527\n",
      "2.797913186328337\n"
     ]
    },
    {
     "name": "stderr",
     "output_type": "stream",
     "text": [
      "\r",
      " 69%|██████▉   | 69/100 [03:31<01:39,  3.22s/it]"
     ]
    },
    {
     "name": "stdout",
     "output_type": "stream",
     "text": [
      "2.7977464359814963\n",
      "Epoch 0, Loss 2.7977464359814963\n",
      "2.797579914046957\n",
      "2.7974136198200075\n",
      "2.7972475525992495\n",
      "2.797081711686575\n",
      "2.7969160963871493\n",
      "2.7967507060093877\n",
      "2.7965855398649353\n",
      "2.796420597268648\n",
      "2.7962558775385706\n"
     ]
    },
    {
     "name": "stderr",
     "output_type": "stream",
     "text": [
      "\r",
      " 70%|███████   | 70/100 [03:35<01:39,  3.33s/it]"
     ]
    },
    {
     "name": "stdout",
     "output_type": "stream",
     "text": [
      "2.7960913799959175\n",
      "Epoch 0, Loss 2.7960913799959175\n",
      "2.7959271039650546\n",
      "2.7957630487734755\n",
      "2.7955992137517867\n",
      "2.7954355982336825\n",
      "2.7952722015559335\n",
      "2.7951090230583597\n",
      "2.794946062083815\n",
      "2.794783317978171\n",
      "2.7946207900902933\n"
     ]
    },
    {
     "name": "stderr",
     "output_type": "stream",
     "text": [
      "\r",
      " 71%|███████   | 71/100 [03:38<01:40,  3.48s/it]"
     ]
    },
    {
     "name": "stdout",
     "output_type": "stream",
     "text": [
      "2.7944584777720247\n",
      "Epoch 0, Loss 2.7944584777720247\n",
      "2.7942963803781695\n",
      "2.794134497266472\n",
      "2.7939728277975995\n",
      "2.793811371335123\n",
      "2.7936501272455043\n",
      "2.7934890948980713\n",
      "2.793328273665006\n",
      "2.793167662921323\n",
      "2.7930072620448563\n"
     ]
    },
    {
     "name": "stderr",
     "output_type": "stream",
     "text": [
      "\r",
      " 72%|███████▏  | 72/100 [03:41<01:29,  3.21s/it]"
     ]
    },
    {
     "name": "stdout",
     "output_type": "stream",
     "text": [
      "2.7928470704162383\n",
      "Epoch 0, Loss 2.7928470704162383\n",
      "2.792687087418884\n",
      "2.7925273124389776\n",
      "2.7923677448654485\n",
      "2.7922083840899616\n",
      "2.792049229506898\n",
      "2.791890280513337\n",
      "2.7917315365090407\n",
      "2.7915729968964422\n",
      "2.7914146610806227\n"
     ]
    },
    {
     "name": "stderr",
     "output_type": "stream",
     "text": [
      "\r",
      " 73%|███████▎  | 73/100 [03:44<01:23,  3.08s/it]"
     ]
    },
    {
     "name": "stdout",
     "output_type": "stream",
     "text": [
      "2.7912565284692987\n",
      "Epoch 0, Loss 2.7912565284692987\n",
      "2.791098598472809\n",
      "2.7909408705040932\n",
      "2.7907833439786804\n",
      "2.7906260183146725\n",
      "2.7904688929327306\n",
      "2.7903119672560552\n",
      "2.790155240710375\n",
      "2.789998712723934\n",
      "2.7898423827274677\n"
     ]
    },
    {
     "name": "stderr",
     "output_type": "stream",
     "text": [
      "\r",
      " 74%|███████▍  | 74/100 [03:46<01:14,  2.88s/it]"
     ]
    },
    {
     "name": "stdout",
     "output_type": "stream",
     "text": [
      "2.7896862501541992\n",
      "Epoch 0, Loss 2.7896862501541992\n",
      "2.789530314439816\n",
      "2.789374575022462\n",
      "2.789219031342718\n",
      "2.7890636828435897\n",
      "2.788908528970493\n",
      "2.7887535691712415\n",
      "2.788598802896027\n",
      "2.7884442295974146\n",
      "2.788289848730321\n"
     ]
    },
    {
     "name": "stderr",
     "output_type": "stream",
     "text": [
      "\r",
      " 75%|███████▌  | 75/100 [03:49<01:08,  2.73s/it]"
     ]
    },
    {
     "name": "stdout",
     "output_type": "stream",
     "text": [
      "2.788135659752002\n",
      "Epoch 0, Loss 2.788135659752002\n",
      "2.787981662122044\n",
      "2.787827855302345\n",
      "2.7876742387571025\n",
      "2.7875208119528017\n",
      "2.7873675743582016\n",
      "2.7872145254443206\n",
      "2.7870616646844244\n",
      "2.786908991554013\n"
     ]
    },
    {
     "name": "stderr",
     "output_type": "stream",
     "text": [
      "\r",
      " 76%|███████▌  | 76/100 [03:51<01:04,  2.70s/it]"
     ]
    },
    {
     "name": "stdout",
     "output_type": "stream",
     "text": [
      "2.7867565055308106\n",
      "2.7866042060947467\n",
      "Epoch 0, Loss 2.7866042060947467\n",
      "2.7864520927279472\n",
      "2.7863001649147234\n",
      "2.786148422141557\n",
      "2.7859968638970862\n",
      "2.7858454896720994\n",
      "2.7856942989595153\n",
      "2.7855432912543763\n",
      "2.785392466053834\n",
      "2.7852418228571394\n"
     ]
    },
    {
     "name": "stderr",
     "output_type": "stream",
     "text": [
      "\r",
      " 77%|███████▋  | 77/100 [03:55<01:12,  3.15s/it]"
     ]
    },
    {
     "name": "stdout",
     "output_type": "stream",
     "text": [
      "2.785091361165627\n",
      "Epoch 0, Loss 2.785091361165627\n",
      "2.7849410804827084\n",
      "2.7847909803138555\n",
      "2.784641060166591\n",
      "2.7844913195504795\n",
      "2.7843417579771095\n",
      "2.7841923749600905\n",
      "2.7840431700150323\n",
      "2.7838941426595434\n",
      "2.783745292413212\n"
     ]
    },
    {
     "name": "stderr",
     "output_type": "stream",
     "text": [
      "\r",
      " 78%|███████▊  | 78/100 [03:59<01:09,  3.16s/it]"
     ]
    },
    {
     "name": "stdout",
     "output_type": "stream",
     "text": [
      "2.783596618797598\n",
      "Epoch 0, Loss 2.783596618797598\n",
      "2.783448121336224\n",
      "2.783299799554561\n",
      "2.783151652980019\n",
      "2.7830036811419365\n",
      "2.782855883571571\n",
      "2.782708259802083\n",
      "2.7825608093685332\n",
      "2.7824135318078667\n",
      "2.7822664266589037\n"
     ]
    },
    {
     "name": "stderr",
     "output_type": "stream",
     "text": [
      "\r",
      " 79%|███████▉  | 79/100 [04:02<01:07,  3.22s/it]"
     ]
    },
    {
     "name": "stdout",
     "output_type": "stream",
     "text": [
      "2.782119493462331\n",
      "Epoch 0, Loss 2.782119493462331\n",
      "2.781972731760688\n",
      "2.7818261410983616\n",
      "2.781679721021572\n",
      "2.7815334710783635\n",
      "2.7813873908185958\n",
      "2.781241479793932\n",
      "2.7810957375578336\n",
      "2.7809501636655427\n",
      "2.7808047576740798\n"
     ]
    },
    {
     "name": "stderr",
     "output_type": "stream",
     "text": [
      "\r",
      " 80%|████████  | 80/100 [04:05<01:02,  3.14s/it]"
     ]
    },
    {
     "name": "stdout",
     "output_type": "stream",
     "text": [
      "2.7806595191422305\n",
      "Epoch 0, Loss 2.7806595191422305\n",
      "2.7805144476305363\n",
      "2.780369542701285\n",
      "2.780224803918504\n",
      "2.780080230847945\n",
      "2.7799358230570808\n",
      "2.7797915801150936\n",
      "2.7796475015928648\n",
      "2.779503587062967\n",
      "2.779359836099655\n"
     ]
    },
    {
     "name": "stderr",
     "output_type": "stream",
     "text": [
      "\r",
      " 81%|████████  | 81/100 [04:07<00:55,  2.95s/it]"
     ]
    },
    {
     "name": "stdout",
     "output_type": "stream",
     "text": [
      "2.779216248278858\n",
      "Epoch 0, Loss 2.779216248278858\n",
      "2.779072823178165\n",
      "2.778929560376825\n",
      "2.7787864594557306\n",
      "2.7786435199974133\n",
      "2.778500741586032\n",
      "2.778358123807368\n",
      "2.7782156662488116\n",
      "2.778073368499359\n",
      "2.7779312301496\n"
     ]
    },
    {
     "name": "stderr",
     "output_type": "stream",
     "text": [
      "\r",
      " 82%|████████▏ | 82/100 [04:10<00:49,  2.73s/it]"
     ]
    },
    {
     "name": "stdout",
     "output_type": "stream",
     "text": [
      "2.777789250791708\n",
      "Epoch 0, Loss 2.777789250791708\n",
      "2.7776474300194396\n",
      "2.7775057674281163\n",
      "2.777364262614623\n",
      "2.777222915177398\n",
      "2.7770817247164237\n",
      "2.7769406908332206\n",
      "2.7767998131308356\n",
      "2.7766590912138396\n",
      "2.776518524688315\n"
     ]
    },
    {
     "name": "stderr",
     "output_type": "stream",
     "text": [
      "\r",
      " 83%|████████▎ | 83/100 [04:14<00:56,  3.32s/it]"
     ]
    },
    {
     "name": "stdout",
     "output_type": "stream",
     "text": [
      "2.776378113161849\n",
      "Epoch 0, Loss 2.776378113161849\n",
      "2.7762378562435273\n",
      "2.7760977535439237\n",
      "2.775957804675095\n",
      "2.775818009250571\n",
      "2.77567836688535\n",
      "2.7755388771958867\n",
      "2.775399539800089\n",
      "2.775260354317308\n",
      "2.7751213203683327\n"
     ]
    },
    {
     "name": "stderr",
     "output_type": "stream",
     "text": [
      "\r",
      " 84%|████████▍ | 84/100 [04:17<00:51,  3.23s/it]"
     ]
    },
    {
     "name": "stdout",
     "output_type": "stream",
     "text": [
      "2.7749824375753778\n",
      "Epoch 0, Loss 2.7749824375753778\n",
      "2.774843705562085\n",
      "2.7747051239535057\n",
      "2.7745666923761014\n",
      "2.7744284104577335\n",
      "2.7742902778276566\n",
      "2.7741522941165093\n",
      "2.77401445895631\n",
      "2.7738767719804516\n",
      "2.7737392328236883\n"
     ]
    },
    {
     "name": "stderr",
     "output_type": "stream",
     "text": [
      "\r",
      " 85%|████████▌ | 85/100 [04:20<00:46,  3.12s/it]"
     ]
    },
    {
     "name": "stdout",
     "output_type": "stream",
     "text": [
      "2.773601841122134\n",
      "Epoch 0, Loss 2.773601841122134\n",
      "2.7734645965132536\n",
      "2.773327498635856\n",
      "2.7731905471300884\n",
      "2.7730537416374275\n",
      "2.772917081800676\n",
      "2.772780567263952\n",
      "2.7726441976726868\n",
      "2.7725079726736133\n",
      "2.7723718919147635\n"
     ]
    },
    {
     "name": "stderr",
     "output_type": "stream",
     "text": [
      "\r",
      " 86%|████████▌ | 86/100 [04:23<00:44,  3.15s/it]"
     ]
    },
    {
     "name": "stdout",
     "output_type": "stream",
     "text": [
      "2.7722359550454625\n",
      "Epoch 0, Loss 2.7722359550454625\n",
      "2.772100161716317\n",
      "2.771964511579214\n",
      "2.7718290042873126\n",
      "2.7716936394950364\n",
      "2.771558416858071\n",
      "2.7714233360333527\n",
      "2.7712883966790653\n",
      "2.771153598454635\n",
      "2.7710189410207215\n"
     ]
    },
    {
     "name": "stderr",
     "output_type": "stream",
     "text": [
      "\r",
      " 87%|████████▋ | 87/100 [04:26<00:39,  3.07s/it]"
     ]
    },
    {
     "name": "stdout",
     "output_type": "stream",
     "text": [
      "2.7708844240392145\n",
      "Epoch 0, Loss 2.7708844240392145\n",
      "2.7707500471732236\n",
      "2.770615810087077\n",
      "2.770481712446314\n",
      "2.7703477539176786\n",
      "2.770213934169111\n",
      "2.770080252869748\n",
      "2.7699467096899113\n",
      "2.7698133043011044\n",
      "2.7696800363760077\n"
     ]
    },
    {
     "name": "stderr",
     "output_type": "stream",
     "text": [
      "\r",
      " 88%|████████▊ | 88/100 [04:29<00:36,  3.02s/it]"
     ]
    },
    {
     "name": "stdout",
     "output_type": "stream",
     "text": [
      "2.7695469055884683\n",
      "Epoch 0, Loss 2.7695469055884683\n",
      "2.7694139116135004\n",
      "2.7692810541272763\n",
      "2.76914833280712\n",
      "2.7690157473315042\n",
      "2.768883297380042\n",
      "2.7687509826334855\n",
      "2.7686188027737137\n",
      "2.7684867574837346\n",
      "2.7683548464476746\n"
     ]
    },
    {
     "name": "stderr",
     "output_type": "stream",
     "text": [
      "\r",
      " 89%|████████▉ | 89/100 [04:32<00:32,  2.92s/it]"
     ]
    },
    {
     "name": "stdout",
     "output_type": "stream",
     "text": [
      "2.768223069350775\n",
      "Epoch 0, Loss 2.768223069350775\n",
      "2.7680914258793847\n",
      "2.7679599157209593\n",
      "2.767828538564052\n",
      "2.767697294098309\n",
      "2.7675661820144644\n",
      "2.7674352020043367\n",
      "2.767304353760822\n",
      "2.7671736369778883\n",
      "2.767043051350571\n"
     ]
    },
    {
     "name": "stderr",
     "output_type": "stream",
     "text": [
      "\r",
      " 90%|█████████ | 90/100 [04:37<00:34,  3.47s/it]"
     ]
    },
    {
     "name": "stdout",
     "output_type": "stream",
     "text": [
      "2.76691259657497\n",
      "Epoch 0, Loss 2.76691259657497\n",
      "2.7667822723482414\n",
      "2.7666520783685935\n",
      "2.7665220143352838\n",
      "2.766392079948611\n",
      "2.7662622749099124\n",
      "2.7661325989215584\n",
      "2.7660030516869467\n",
      "2.7658736329105\n",
      "2.7657443422976558\n"
     ]
    },
    {
     "name": "stderr",
     "output_type": "stream",
     "text": [
      "\r",
      " 91%|█████████ | 91/100 [04:40<00:32,  3.56s/it]"
     ]
    },
    {
     "name": "stdout",
     "output_type": "stream",
     "text": [
      "2.7656151795548696\n",
      "Epoch 0, Loss 2.7656151795548696\n",
      "2.765486144389604\n",
      "2.7653572365103245\n",
      "2.7652284556264988\n",
      "2.765099801448586\n",
      "2.7649712736880403\n",
      "2.7648428720572986\n",
      "2.764714596269778\n",
      "2.7645864460398752\n",
      "2.7644584210829573\n"
     ]
    },
    {
     "name": "stderr",
     "output_type": "stream",
     "text": [
      "\r",
      " 92%|█████████▏| 92/100 [04:44<00:28,  3.57s/it]"
     ]
    },
    {
     "name": "stdout",
     "output_type": "stream",
     "text": [
      "2.764330521115358\n",
      "Epoch 0, Loss 2.764330521115358\n",
      "2.7642027458543765\n",
      "2.764075095018268\n",
      "2.763947568326245\n",
      "2.763820165498468\n",
      "2.763692886256044\n",
      "2.763565730321021\n",
      "2.7634386974163823\n",
      "2.7633117872660455\n",
      "2.7631849995948574\n"
     ]
    },
    {
     "name": "stderr",
     "output_type": "stream",
     "text": [
      "\r",
      " 93%|█████████▎| 93/100 [04:47<00:23,  3.31s/it]"
     ]
    },
    {
     "name": "stdout",
     "output_type": "stream",
     "text": [
      "2.763058334128588\n",
      "Epoch 0, Loss 2.763058334128588\n",
      "2.7629317905939264\n",
      "2.762805368718479\n",
      "2.762679068230762\n",
      "2.762552888860201\n",
      "2.762426830337124\n",
      "2.7623008923927586\n",
      "2.7621750747592277\n",
      "2.762049377169545\n"
     ]
    },
    {
     "name": "stderr",
     "output_type": "stream",
     "text": [
      "\r",
      " 94%|█████████▍| 94/100 [04:49<00:18,  3.04s/it]"
     ]
    },
    {
     "name": "stdout",
     "output_type": "stream",
     "text": [
      "2.7619237993576116\n",
      "2.7617983410582116\n",
      "Epoch 0, Loss 2.7617983410582116\n",
      "2.761673002007009\n",
      "2.761547781940541\n",
      "2.76142268059622\n",
      "2.7612976977123203\n",
      "2.7611728330279868\n",
      "2.7610480862832185\n",
      "2.760923457218872\n",
      "2.7607989455766564\n",
      "2.760674551099128\n"
     ]
    },
    {
     "name": "stderr",
     "output_type": "stream",
     "text": [
      "\r",
      " 95%|█████████▌| 95/100 [04:53<00:16,  3.24s/it]"
     ]
    },
    {
     "name": "stdout",
     "output_type": "stream",
     "text": [
      "2.7605502735296894\n",
      "Epoch 0, Loss 2.7605502735296894\n",
      "2.760426112612582\n",
      "2.7603020680928854\n",
      "2.760178139716512\n",
      "2.7600543272302045\n",
      "2.759930630381531\n",
      "2.759807048918882\n",
      "2.759683582591467\n",
      "2.7595602311493086\n",
      "2.7594369943432455\n"
     ]
    },
    {
     "name": "stderr",
     "output_type": "stream",
     "text": [
      "\r",
      " 96%|█████████▌| 96/100 [04:57<00:13,  3.43s/it]"
     ]
    },
    {
     "name": "stdout",
     "output_type": "stream",
     "text": [
      "2.759313871924919\n",
      "Epoch 0, Loss 2.759313871924919\n",
      "2.7591908636467792\n",
      "2.7590679692620745\n",
      "2.758945188524851\n",
      "2.7588225211899493\n",
      "2.758699967013001\n",
      "2.758577525750422\n",
      "2.7584551971594164\n",
      "2.7583329809979653\n",
      "2.7582108770248253\n"
     ]
    },
    {
     "name": "stderr",
     "output_type": "stream",
     "text": [
      "\r",
      " 97%|█████████▋| 97/100 [05:00<00:09,  3.31s/it]"
     ]
    },
    {
     "name": "stdout",
     "output_type": "stream",
     "text": [
      "2.7580888849995295\n",
      "Epoch 0, Loss 2.7580888849995295\n",
      "2.75796700468238\n",
      "2.757845235834445\n",
      "2.757723578217556\n",
      "2.7576020315943053\n",
      "2.7574805957280426\n",
      "2.757359270382871\n",
      "2.757238055323642\n",
      "2.7571169503159565\n",
      "2.7569959551261585\n"
     ]
    },
    {
     "name": "stderr",
     "output_type": "stream",
     "text": [
      "\r",
      " 98%|█████████▊| 98/100 [05:02<00:06,  3.11s/it]"
     ]
    },
    {
     "name": "stdout",
     "output_type": "stream",
     "text": [
      "2.756875069521332\n",
      "Epoch 0, Loss 2.756875069521332\n",
      "2.7567542932693017\n",
      "2.7566336261386213\n",
      "2.756513067898581\n",
      "2.756392618319196\n",
      "2.756272277171208\n",
      "2.7561520442260794\n",
      "2.7560319192559946\n",
      "2.755911902033849\n",
      "2.755791992333256\n"
     ]
    },
    {
     "name": "stderr",
     "output_type": "stream",
     "text": [
      "\r",
      " 99%|█████████▉| 99/100 [05:05<00:02,  2.94s/it]"
     ]
    },
    {
     "name": "stdout",
     "output_type": "stream",
     "text": [
      "2.7556721899285344\n",
      "Epoch 0, Loss 2.7556721899285344\n",
      "2.7555524945947125\n",
      "2.7554329061075222\n",
      "2.7553134242433943\n",
      "2.755194048779461\n",
      "2.7550747794935457\n",
      "2.754955616164166\n",
      "2.7548365585705294\n",
      "2.754717606492527\n",
      "2.7545987597107366\n"
     ]
    },
    {
     "name": "stderr",
     "output_type": "stream",
     "text": [
      "100%|██████████| 100/100 [05:07<00:00,  3.08s/it]\n"
     ]
    }
   ],
   "source": [
    "# Initialize the best values\n",
    "best_weights = weights\n",
    "best_learning_rate = learning_rate\n",
    "best_weight_decay = weight_decay\n",
    "best_v_ac = 0.0\n",
    "\n",
    "# TODO\n",
    "# Repeat the above training and evaluation steps for the following learning rates and plot graphs\n",
    "# You need to try 3 learning rates and submit all 3 graphs along with this notebook pdf to show your learning rate experiments\n",
    "learning_rates = [0.0001, 0.001, 0.01]\n",
    "weight_decay = 0.0  # No regularization for now\n",
    "\n",
    "# FEEL FREE TO EXPERIMENT WITH OTHER VALUES. REPORT OTHER VALUES IF THEY ACHIEVE A BETTER PERFORMANCE\n",
    "\n",
    "# for lr in learning_rates: Train the classifier and plot data\n",
    "# Step 1. train_accu, val_accu, test_accu = train(lr, weight_decay)\n",
    "# Step 2. plot_accuracies(train_accu, val_accu, test_accu)\n",
    "\n",
    "learning_rate_info = {}\n",
    "\n",
    "for learning_rate in learning_rates:\n",
    "    # TODO: Train the classifier with different learning rates and plot\n",
    "    # pass\n",
    "    t_ac, v_ac, te_ac, weights = train(learning_rate, weight_decay)\n",
    "    learning_rate_info[learning_rate] = [t_ac, v_ac, te_ac, weights]\n",
    "    \n",
    "    if best_v_ac < max(v_ac):\n",
    "        best_weights = weights\n",
    "        best_learning_rate = learning_rate\n",
    "        best_weight_decay = weight_decay\n",
    "        best_v_ac = max(v_ac)\n"
   ]
  },
  {
   "cell_type": "code",
   "execution_count": 18,
   "metadata": {},
   "outputs": [
    {
     "data": {
      "image/png": "[encoded data removed]",
      "text/plain": [
       "<Figure size 432x288 with 1 Axes>"
      ]
     },
     "metadata": {
      "needs_background": "light"
     },
     "output_type": "display_data"
    },
    {
     "data": {
      "image/png": "[encoded data removed]",
      "text/plain": [
       "<Figure size 432x288 with 1 Axes>"
      ]
     },
     "metadata": {
      "needs_background": "light"
     },
     "output_type": "display_data"
    },
    {
     "data": {
      "image/png": "[encoded data removed]",
      "text/plain": [
       "<Figure size 432x288 with 1 Axes>"
      ]
     },
     "metadata": {
      "needs_background": "light"
     },
     "output_type": "display_data"
    }
   ],
   "source": [
    "for i, learning_rate in enumerate(learning_rates):\n",
    "    t_ac, v_ac, te_ac = learning_rate_info[learning_rate][0], learning_rate_info[learning_rate][1], learning_rate_info[learning_rate][2]\n",
    "    plt.subplot(3, 1, i + 1)\n",
    "    plt.title(\"Learning rate: {}\".format(learning_rate))\n",
    "    plot_accuracies(t_ac, v_ac, te_ac)\n",
    "\n",
    "plt.show()\n"
   ]
  },
  {
   "cell_type": "markdown",
   "metadata": {},
   "source": [
    "#### Inline Question 1.\n",
    "\n",
    "Which one of these learning rates (best_lr) would you pick to train your model? Please Explain why.\n"
   ]
  },
  {
   "cell_type": "markdown",
   "metadata": {},
   "source": [
    "#### Your Answer:\n"
   ]
  },
  {
   "cell_type": "markdown",
   "metadata": {},
   "source": [
    "### Regularization: Try different weight decay and plots graphs for all (20%)\n"
   ]
  },
  {
   "cell_type": "code",
   "execution_count": 19,
   "metadata": {},
   "outputs": [
    {
     "name": "stderr",
     "output_type": "stream",
     "text": [
      "\r",
      "  0%|          | 0/100 [00:00<?, ?it/s]"
     ]
    },
    {
     "name": "stdout",
     "output_type": "stream",
     "text": [
      "6.929207804805226\n",
      "Epoch 0, Loss 6.929207804808298\n",
      "3.5164073156108944\n",
      "3.418290723008072\n",
      "3.3790034717942596\n",
      "3.361829657139996\n",
      "3.3508530644024694\n",
      "3.3415297440609546\n",
      "3.332801604258336\n",
      "3.324431659365872\n",
      "3.3163596453278195\n"
     ]
    },
    {
     "name": "stderr",
     "output_type": "stream",
     "text": [
      "\r",
      "  1%|          | 1/100 [00:02<04:32,  2.75s/it]"
     ]
    },
    {
     "name": "stdout",
     "output_type": "stream",
     "text": [
      "3.3085628332634234\n",
      "Epoch 0, Loss 3.3085628340439617\n",
      "3.3010268403994503\n",
      "3.2937395015726794\n",
      "3.286689555742322\n",
      "3.2798663470755645\n",
      "3.2732597433410677\n",
      "3.2668601019643178\n",
      "3.2606582469439305\n",
      "3.25464544846666\n",
      "3.2488134033887235\n"
     ]
    },
    {
     "name": "stderr",
     "output_type": "stream",
     "text": [
      "\r",
      "  2%|▏         | 2/100 [00:05<04:15,  2.61s/it]"
     ]
    },
    {
     "name": "stdout",
     "output_type": "stream",
     "text": [
      "3.243154216196103\n",
      "Epoch 0, Loss 3.2431542172010075\n",
      "3.2376603803966986\n",
      "3.23232476037591\n",
      "3.227140573760252\n",
      "3.2221013743294074\n",
      "3.2172010355086953\n",
      "3.212433734464967\n",
      "3.2077939368206954\n",
      "3.2032763819937533\n",
      "3.198876069164214\n"
     ]
    },
    {
     "name": "stderr",
     "output_type": "stream",
     "text": [
      "\r",
      "  3%|▎         | 3/100 [00:07<04:16,  2.64s/it]"
     ]
    },
    {
     "name": "stdout",
     "output_type": "stream",
     "text": [
      "3.194588243864292\n",
      "Epoch 0, Loss 3.1945882451693253\n",
      "3.1904083851832565\n",
      "3.1863321935756996\n",
      "3.182355579258723\n",
      "3.1784746511814683\n",
      "3.1746857065487633\n",
      "3.1709852208794373\n",
      "3.1673698385790976\n",
      "3.163836364006582\n",
      "3.1603817530131413\n"
     ]
    },
    {
     "name": "stderr",
     "output_type": "stream",
     "text": [
      "\r",
      "  4%|▍         | 4/100 [00:10<04:16,  2.67s/it]"
     ]
    },
    {
     "name": "stdout",
     "output_type": "stream",
     "text": [
      "3.157003104933355\n",
      "Epoch 0, Loss 3.15700310658085\n",
      "3.1536976550069546\n",
      "3.1504627672110748\n",
      "3.14729592748283\n",
      "3.1441947373127053\n",
      "3.1411569076897803\n",
      "3.138180253380504\n",
      "3.135262687523367\n",
      "3.1324022165225767\n",
      "3.129596935224515\n"
     ]
    },
    {
     "name": "stderr",
     "output_type": "stream",
     "text": [
      "\r",
      "  5%|▌         | 5/100 [00:13<04:04,  2.57s/it]"
     ]
    },
    {
     "name": "stdout",
     "output_type": "stream",
     "text": [
      "3.1268450223614996\n",
      "Epoch 0, Loss 3.1268450243753665\n",
      "3.1241447362480823\n",
      "3.1214944107158415\n",
      "3.118892451273286\n",
      "3.1163373314782064\n",
      "3.1138275895104477\n",
      "3.111361824933702\n",
      "3.1089386956355654\n",
      "3.1065569149356524\n",
      "3.1042152488521615\n"
     ]
    },
    {
     "name": "stderr",
     "output_type": "stream",
     "text": [
      "\r",
      "  6%|▌         | 6/100 [00:16<04:21,  2.78s/it]"
     ]
    },
    {
     "name": "stdout",
     "output_type": "stream",
     "text": [
      "3.1019125135177887\n",
      "Epoch 0, Loss 3.101912515911462\n",
      "3.099647572736429\n",
      "3.097419335672565\n",
      "3.095226754665742\n",
      "3.0930688231629158\n",
      "3.090944573761938\n",
      "3.088853076359778\n",
      "3.0867934363995033\n",
      "3.0847647932103532\n",
      "3.0827663184356013\n"
     ]
    },
    {
     "name": "stderr",
     "output_type": "stream",
     "text": [
      "\r",
      "  7%|▋         | 7/100 [00:18<04:13,  2.73s/it]"
     ]
    },
    {
     "name": "stdout",
     "output_type": "stream",
     "text": [
      "3.0807972145431926\n",
      "Epoch 0, Loss 3.080797217323999\n",
      "3.0788567134144538\n",
      "3.076944075006443\n",
      "3.075058586083778\n",
      "3.0731995590160004\n",
      "3.071366330636819\n",
      "3.0695582611617187\n",
      "3.067774733160707\n",
      "3.066015150583097\n",
      "3.0642789378314452\n"
     ]
    },
    {
     "name": "stderr",
     "output_type": "stream",
     "text": [
      "\r",
      "  8%|▊         | 8/100 [00:22<04:38,  3.03s/it]"
     ]
    },
    {
     "name": "stdout",
     "output_type": "stream",
     "text": [
      "3.0625655388819206\n",
      "Epoch 0, Loss 3.0625655420535307\n",
      "3.0608744164485384\n",
      "3.0592050511888433\n",
      "3.0575569409487895\n",
      "3.0559296000446494\n",
      "3.054322558579965\n",
      "3.052735361795626\n",
      "3.0511675694513025\n",
      "3.0496187552365353\n",
      "3.048088506209908\n"
     ]
    },
    {
     "name": "stderr",
     "output_type": "stream",
     "text": [
      "\r",
      "  9%|▉         | 9/100 [00:26<04:54,  3.24s/it]"
     ]
    },
    {
     "name": "stdout",
     "output_type": "stream",
     "text": [
      "3.0465764222648053\n",
      "Epoch 0, Loss 3.0465764258286523\n",
      "3.0450821156203434\n",
      "3.0436052103361475\n",
      "3.042145341849726\n",
      "3.040702156535253\n",
      "3.0392753112826565\n",
      "3.0378644730959454\n",
      "3.036469318709797\n",
      "3.0350895342234643\n",
      "3.0337248147511096\n"
     ]
    },
    {
     "name": "stderr",
     "output_type": "stream",
     "text": [
      "\r",
      " 10%|█         | 10/100 [00:29<04:50,  3.23s/it]"
     ]
    },
    {
     "name": "stdout",
     "output_type": "stream",
     "text": [
      "3.0323748640877453\n",
      "Epoch 0, Loss 3.032374868043864\n",
      "3.0310393943899827\n",
      "3.0297181258708394\n",
      "3.028410786507922\n",
      "3.0271171117642885\n",
      "3.025836844321387\n",
      "3.0245697338234656\n",
      "3.0233155366328863\n",
      "3.0220740155958192\n",
      "3.020844939817809\n"
     ]
    },
    {
     "name": "stderr",
     "output_type": "stream",
     "text": [
      "\r",
      " 11%|█         | 11/100 [00:32<04:47,  3.23s/it]"
     ]
    },
    {
     "name": "stdout",
     "output_type": "stream",
     "text": [
      "3.0196280844487386\n",
      "Epoch 0, Loss 3.0196280887962774\n",
      "3.0184232304767353\n",
      "3.0172301645305946\n",
      "3.0160486786903205\n",
      "3.0148785703053913\n",
      "3.013719641820393\n",
      "3.012571700607672\n",
      "3.011434558806689\n",
      "3.0103080331697476\n",
      "3.0091919449138254\n"
     ]
    },
    {
     "name": "stderr",
     "output_type": "stream",
     "text": [
      "\r",
      " 12%|█▏        | 12/100 [00:35<04:34,  3.12s/it]"
     ]
    },
    {
     "name": "stdout",
     "output_type": "stream",
     "text": [
      "3.0080861195782136\n",
      "Epoch 0, Loss 3.0080861243157564\n",
      "3.006990386887701\n",
      "3.0059045806210634\n",
      "3.0048285384846056\n",
      "3.0037621019905396\n",
      "3.00270511633998\n",
      "3.0016574303103547\n",
      "3.0006188961470284\n",
      "2.99958936945897\n",
      "2.998568709118273\n"
     ]
    },
    {
     "name": "stderr",
     "output_type": "stream",
     "text": [
      "\r",
      " 13%|█▎        | 13/100 [00:38<04:23,  3.02s/it]"
     ]
    },
    {
     "name": "stdout",
     "output_type": "stream",
     "text": [
      "2.9975567771633727\n",
      "Epoch 0, Loss 2.9975567822891422\n",
      "2.996553438705791\n",
      "2.9955585618402685\n",
      "2.9945720175581387\n",
      "2.9935936796637943\n",
      "2.9926234246941323\n",
      "2.991661131840846\n",
      "2.9907066828754414\n",
      "2.989759962076878\n",
      "2.9888208561617065\n"
     ]
    },
    {
     "name": "stderr",
     "output_type": "stream",
     "text": [
      "\r",
      " 14%|█▍        | 14/100 [00:40<04:03,  2.84s/it]"
     ]
    },
    {
     "name": "stdout",
     "output_type": "stream",
     "text": [
      "2.9878892542166264\n",
      "Epoch 0, Loss 2.9878892597286195\n",
      "2.9869650476333427\n",
      "2.9860481300456394\n",
      "2.985138397268582\n",
      "2.9842357472397656\n",
      "2.983340079962507\n",
      "2.9824512974509467\n",
      "2.981569303676932\n",
      "2.980694004518658\n",
      "2.9798253077109784\n"
     ]
    },
    {
     "name": "stderr",
     "output_type": "stream",
     "text": [
      "\r",
      " 15%|█▌        | 15/100 [00:43<04:11,  2.96s/it]"
     ]
    },
    {
     "name": "stdout",
     "output_type": "stream",
     "text": [
      "2.97896312279731\n",
      "Epoch 0, Loss 2.9789631286933846\n",
      "2.9781073610830977\n",
      "2.9772579355907607\n",
      "2.9764147610160623\n",
      "2.9755777536858683\n",
      "2.97474683151722\n",
      "2.973921913977685\n",
      "2.97310292204694\n",
      "2.9722897781795328\n",
      "2.971482406268783\n"
     ]
    },
    {
     "name": "stderr",
     "output_type": "stream",
     "text": [
      "\r",
      " 16%|█▌        | 16/100 [00:47<04:18,  3.08s/it]"
     ]
    },
    {
     "name": "stdout",
     "output_type": "stream",
     "text": [
      "2.9706807316117847\n",
      "Epoch 0, Loss 2.970680737889723\n",
      "2.9698846808754626\n",
      "2.969094182063654\n",
      "2.968309164485171\n",
      "2.967529558722808\n",
      "2.966755296603271\n",
      "2.965986311167989\n",
      "2.9652225366447706\n",
      "2.9644639084202904\n",
      "2.9637103630133663\n"
     ]
    },
    {
     "name": "stderr",
     "output_type": "stream",
     "text": [
      "\r",
      " 17%|█▋        | 17/100 [00:50<04:13,  3.05s/it]"
     ]
    },
    {
     "name": "stdout",
     "output_type": "stream",
     "text": [
      "2.9629618380490013\n",
      "Epoch 0, Loss 2.962961844706548\n",
      "2.962218272233169\n",
      "2.9614796053283134\n",
      "2.9607457781295383\n",
      "2.9600167324414643\n",
      "2.959292411055731\n",
      "2.9585727577291254\n",
      "2.9578577171623115\n",
      "2.95714723497914\n",
      "2.9564412577065293\n"
     ]
    },
    {
     "name": "stderr",
     "output_type": "stream",
     "text": [
      "\r",
      " 18%|█▊        | 18/100 [00:53<04:23,  3.22s/it]"
     ]
    },
    {
     "name": "stdout",
     "output_type": "stream",
     "text": [
      "2.955739732754886\n",
      "Epoch 0, Loss 2.9557397397897813\n",
      "2.955042608399052\n",
      "2.9543498337597747\n",
      "2.953661358785653\n",
      "2.9529771342355793\n",
      "2.9522971116616343\n",
      "2.9516212433924367\n",
      "2.950949482516924\n",
      "2.9502817828685544\n",
      "2.9496180990099226\n"
     ]
    },
    {
     "name": "stderr",
     "output_type": "stream",
     "text": [
      "\r",
      " 19%|█▉        | 19/100 [00:58<04:43,  3.50s/it]"
     ]
    },
    {
     "name": "stdout",
     "output_type": "stream",
     "text": [
      "2.948958386217762\n",
      "Epoch 0, Loss 2.948958393627759\n",
      "2.94830260046834\n",
      "2.9476506984232174\n",
      "2.947002637415369\n",
      "2.946358375435661\n",
      "2.9457178711196557\n",
      "2.9450810837347565\n",
      "2.94444797316766\n",
      "2.9438184999121297\n",
      "2.9431926250570606\n"
     ]
    },
    {
     "name": "stderr",
     "output_type": "stream",
     "text": [
      "\r",
      " 20%|██        | 20/100 [01:01<04:31,  3.39s/it]"
     ]
    },
    {
     "name": "stdout",
     "output_type": "stream",
     "text": [
      "2.9425703102748386\n",
      "Epoch 0, Loss 2.9425703180577187\n",
      "2.941951517809984\n",
      "2.9413362104680694\n",
      "2.9407243516049\n",
      "2.9401159051159604\n",
      "2.9395108354261064\n",
      "2.938909107479504\n",
      "2.9383106867298077\n",
      "2.937715539130565\n",
      "2.9371236311258495\n"
     ]
    },
    {
     "name": "stderr",
     "output_type": "stream",
     "text": [
      "\r",
      " 21%|██        | 21/100 [01:05<04:42,  3.58s/it]"
     ]
    },
    {
     "name": "stdout",
     "output_type": "stream",
     "text": [
      "2.9365349296411085\n",
      "Epoch 0, Loss 2.936534937794692\n",
      "2.935949402074227\n",
      "2.9353670162867926\n",
      "2.934787740595562\n",
      "2.9342115437641274\n",
      "2.933638394994764\n",
      "2.933068263920471\n",
      "2.9325011205971827\n",
      "2.93193693549616\n",
      "2.9313756794965524\n"
     ]
    },
    {
     "name": "stderr",
     "output_type": "stream",
     "text": [
      "\r",
      " 22%|██▏       | 22/100 [01:08<04:37,  3.55s/it]"
     ]
    },
    {
     "name": "stdout",
     "output_type": "stream",
     "text": [
      "2.9308173238781197\n",
      "Epoch 0, Loss 2.930817332400274\n",
      "2.9302618403141216\n",
      "2.9297092008643566\n",
      "2.9291593779683622\n",
      "2.9286123444387533\n",
      "2.928068073454712\n",
      "2.9275265385556213\n",
      "2.926987713634822\n",
      "2.926451572933522\n",
      "2.925918091034821\n"
     ]
    },
    {
     "name": "stderr",
     "output_type": "stream",
     "text": [
      "\r",
      " 23%|██▎       | 23/100 [01:12<04:32,  3.54s/it]"
     ]
    },
    {
     "name": "stdout",
     "output_type": "stream",
     "text": [
      "2.9253872428578673\n",
      "Epoch 0, Loss 2.925387251746512\n",
      "2.924859003652144\n",
      "2.924333348991862\n",
      "2.9238102547704856\n",
      "2.9232896971953592\n",
      "2.9227716527824588\n",
      "2.9222560983512427\n",
      "2.921743011019608\n",
      "2.921232368198959\n",
      "2.9207241475893704\n"
     ]
    },
    {
     "name": "stderr",
     "output_type": "stream",
     "text": [
      "\r",
      " 24%|██▍       | 24/100 [01:15<04:27,  3.53s/it]"
     ]
    },
    {
     "name": "stdout",
     "output_type": "stream",
     "text": [
      "2.9202183271748456\n",
      "Epoch 0, Loss 2.920218336427955\n",
      "2.919714885218683\n",
      "2.919213800258923\n",
      "2.9187150511038955\n",
      "2.9182186168278506\n",
      "2.917724476766682\n",
      "2.91723261051373\n",
      "2.9167429979156756\n",
      "2.9162556190685023\n",
      "2.9157704543135514\n"
     ]
    },
    {
     "name": "stderr",
     "output_type": "stream",
     "text": [
      "\r",
      " 25%|██▌       | 25/100 [01:18<04:17,  3.43s/it]"
     ]
    },
    {
     "name": "stdout",
     "output_type": "stream",
     "text": [
      "2.9152874842336485\n",
      "Epoch 0, Loss 2.9152874938492563\n",
      "2.9148066896492986\n",
      "2.9143280516149717\n",
      "2.9138515514154397\n",
      "2.913377170562203\n",
      "2.9129048907899726\n",
      "2.9124346940532257\n",
      "2.911966562522821\n",
      "2.9115004785826897\n",
      "2.9110364248265745\n"
     ]
    },
    {
     "name": "stderr",
     "output_type": "stream",
     "text": [
      "\r",
      " 26%|██▌       | 26/100 [01:23<04:30,  3.66s/it]"
     ]
    },
    {
     "name": "stdout",
     "output_type": "stream",
     "text": [
      "2.9105743840548413\n",
      "Epoch 0, Loss 2.9105743940310416\n",
      "2.910114339271343\n",
      "2.909656273680348\n",
      "2.9092001706835227\n",
      "2.9087460138769674\n",
      "2.908293787048316\n",
      "2.9078434741738746\n",
      "2.9073950594158275\n",
      "2.9069485271194866\n",
      "2.9065038618105867\n"
     ]
    },
    {
     "name": "stderr",
     "output_type": "stream",
     "text": [
      "\r",
      " 27%|██▋       | 27/100 [01:26<04:30,  3.70s/it]"
     ]
    },
    {
     "name": "stdout",
     "output_type": "stream",
     "text": [
      "2.9060610481926434\n",
      "Epoch 0, Loss 2.9060610585275923\n",
      "2.9056200711443423\n",
      "2.905180915716989\n",
      "2.904743567131994\n",
      "2.9043080107784127\n",
      "2.9038742322105207\n",
      "2.903442217145436\n",
      "2.903011951460781\n",
      "2.902583421192394\n",
      "2.902156612532065\n"
     ]
    },
    {
     "name": "stderr",
     "output_type": "stream",
     "text": [
      "\r",
      " 28%|██▊       | 28/100 [01:30<04:15,  3.55s/it]"
     ]
    },
    {
     "name": "stdout",
     "output_type": "stream",
     "text": [
      "2.901731511825327\n",
      "Epoch 0, Loss 2.901731522517242\n",
      "2.9013081055692767\n",
      "2.9008863804104372\n",
      "2.9004663231426515\n",
      "2.9000479207050227\n",
      "2.899631160179881\n",
      "2.899216028790786\n",
      "2.8988025139005695\n",
      "2.898390603009405\n",
      "2.8979802837529123\n"
     ]
    },
    {
     "name": "stderr",
     "output_type": "stream",
     "text": [
      "\r",
      " 29%|██▉       | 29/100 [01:33<04:02,  3.42s/it]"
     ]
    },
    {
     "name": "stdout",
     "output_type": "stream",
     "text": [
      "2.897571543900296\n",
      "Epoch 0, Loss 2.8975715549474588\n",
      "2.897164371352512\n",
      "2.8967587541404654\n",
      "2.8963546804232445\n",
      "2.895952138486371\n",
      "2.895551116740095\n",
      "2.895151603717709\n",
      "2.8947535880738853\n",
      "2.8943570585830583\n",
      "2.893962004137811\n"
     ]
    },
    {
     "name": "stderr",
     "output_type": "stream",
     "text": [
      "\r",
      " 30%|███       | 30/100 [01:37<04:13,  3.62s/it]"
     ]
    },
    {
     "name": "stdout",
     "output_type": "stream",
     "text": [
      "2.893568413747306\n",
      "Epoch 0, Loss 2.8935684251480596\n",
      "2.8931762765357316\n",
      "2.8927855817407777\n",
      "2.8923963187121338\n",
      "2.8920084769100147\n",
      "2.891622045903707\n",
      "2.8912370153701383\n",
      "2.8908533750924708\n",
      "2.890471114958721\n",
      "2.8900902249603924\n"
     ]
    },
    {
     "name": "stderr",
     "output_type": "stream",
     "text": [
      "\r",
      " 31%|███       | 31/100 [01:40<04:09,  3.61s/it]"
     ]
    },
    {
     "name": "stdout",
     "output_type": "stream",
     "text": [
      "2.889710695191138\n",
      "Epoch 0, Loss 2.889710706943888\n",
      "2.8893325158454397\n",
      "2.8889556772173095\n",
      "2.888580169699014\n",
      "2.8882059837798115\n",
      "2.887833110044717\n",
      "2.8874615391732803\n",
      "2.8870912619383877\n",
      "2.886722269205079\n",
      "2.8863545519293834\n"
     ]
    },
    {
     "name": "stderr",
     "output_type": "stream",
     "text": [
      "\r",
      " 32%|███▏      | 32/100 [01:44<04:03,  3.58s/it]"
     ]
    },
    {
     "name": "stdout",
     "output_type": "stream",
     "text": [
      "2.8859881011571735\n",
      "Epoch 0, Loss 2.8859881132603866\n",
      "2.885622908023039\n",
      "2.8852589637491732\n",
      "2.884896259644279\n",
      "2.884534787102492\n",
      "2.88417453760232\n",
      "2.8838155027055974\n",
      "2.8834576740564524\n",
      "2.883101043380299\n",
      "2.882745602482832\n"
     ]
    },
    {
     "name": "stderr",
     "output_type": "stream",
     "text": [
      "\r",
      " 33%|███▎      | 33/100 [01:48<04:04,  3.65s/it]"
     ]
    },
    {
     "name": "stdout",
     "output_type": "stream",
     "text": [
      "2.8823913432490467\n",
      "Epoch 0, Loss 2.8823913557012513\n",
      "2.882038257642269\n",
      "2.881686337703198\n",
      "2.8813355755489676\n",
      "2.8809859633722197\n",
      "2.8806374934401875\n",
      "2.8802901580937985\n",
      "2.8799439497467887\n",
      "2.879598860884823\n",
      "2.8792548840646415\n"
     ]
    },
    {
     "name": "stderr",
     "output_type": "stream",
     "text": [
      "\r",
      " 34%|███▍      | 34/100 [01:51<03:51,  3.51s/it]"
     ]
    },
    {
     "name": "stdout",
     "output_type": "stream",
     "text": [
      "2.878912011913203\n",
      "Epoch 0, Loss 2.878912024712987\n",
      "2.8785702371268553\n",
      "2.8782295524705064\n",
      "2.8778899507768148\n",
      "2.8775514249453837\n",
      "2.877213967941979\n",
      "2.876877572797743\n",
      "2.876542232608434\n",
      "2.876207940533667\n"
     ]
    },
    {
     "name": "stderr",
     "output_type": "stream",
     "text": [
      "\r",
      " 35%|███▌      | 35/100 [01:54<03:39,  3.37s/it]"
     ]
    },
    {
     "name": "stdout",
     "output_type": "stream",
     "text": [
      "2.875874689796166\n",
      "2.875542473681033\n",
      "Epoch 0, Loss 2.8755424868270425\n",
      "2.8752112855350207\n",
      "2.874881118765819\n",
      "2.8745519668413495\n",
      "2.874223823289073\n",
      "2.8738966816953004\n",
      "2.873570535704521\n",
      "2.8732453790187344\n",
      "2.872921205396793\n",
      "2.8725980086537577\n"
     ]
    },
    {
     "name": "stderr",
     "output_type": "stream",
     "text": [
      "\r",
      " 36%|███▌      | 36/100 [01:58<03:50,  3.61s/it]"
     ]
    },
    {
     "name": "stdout",
     "output_type": "stream",
     "text": [
      "2.8722757826602527\n",
      "Epoch 0, Loss 2.8722757961511927\n",
      "2.8719545213418405\n",
      "2.8716342186783983\n",
      "2.8713148687035037\n",
      "2.8709964655038323\n",
      "2.8706790032185596\n",
      "2.8703624760387725\n",
      "2.8700468782068866\n",
      "2.8697322040160795\n",
      "2.869418447809718\n"
     ]
    },
    {
     "name": "stderr",
     "output_type": "stream",
     "text": [
      "\r",
      " 37%|███▋      | 37/100 [02:01<03:37,  3.45s/it]"
     ]
    },
    {
     "name": "stdout",
     "output_type": "stream",
     "text": [
      "2.8691056039808065\n",
      "Epoch 0, Loss 2.8691056178154377\n",
      "2.8687936669714333\n",
      "2.8684826312722302\n",
      "2.868172491421835\n",
      "2.867863242006365\n",
      "2.867554877658894\n",
      "2.8672473930589386\n",
      "2.8669407829319495\n",
      "2.866635042048812\n",
      "2.8663301652253486\n"
     ]
    },
    {
     "name": "stderr",
     "output_type": "stream",
     "text": [
      "\r",
      " 38%|███▊      | 38/100 [02:04<03:29,  3.38s/it]"
     ]
    },
    {
     "name": "stdout",
     "output_type": "stream",
     "text": [
      "2.8660261473218354\n",
      "Epoch 0, Loss 2.8660261614989744\n",
      "2.865722983242516\n",
      "2.8654206679351293\n",
      "2.865119196390436\n",
      "2.864818563641761\n",
      "2.864518764764534\n",
      "2.864219794875834\n",
      "2.8639216491339505\n",
      "2.863624322737939\n",
      "2.863327810927191\n"
     ]
    },
    {
     "name": "stderr",
     "output_type": "stream",
     "text": [
      "\r",
      " 39%|███▉      | 39/100 [02:09<03:39,  3.60s/it]"
     ]
    },
    {
     "name": "stdout",
     "output_type": "stream",
     "text": [
      "2.863032108980999\n",
      "Epoch 0, Loss 2.8630321234995155\n",
      "2.86273721221814\n",
      "2.862443115996456\n",
      "2.862149815712436\n",
      "2.8618573068008186\n",
      "2.861565584734181\n",
      "2.861274645022548\n",
      "2.860984483212996\n",
      "2.8606950948892678\n",
      "2.86040647567139\n"
     ]
    },
    {
     "name": "stderr",
     "output_type": "stream",
     "text": [
      "\r",
      " 40%|████      | 40/100 [02:12<03:32,  3.54s/it]"
     ]
    },
    {
     "name": "stdout",
     "output_type": "stream",
     "text": [
      "2.860118621215296\n",
      "Epoch 0, Loss 2.8601186360741124\n",
      "2.8598315272124517\n",
      "2.8595451893894897\n",
      "2.8592596035078444\n",
      "2.85897476536339\n",
      "2.858690670786094\n",
      "2.858407315639656\n",
      "2.8581246958211715\n",
      "2.857842807260785\n",
      "2.8575616459213533\n"
     ]
    },
    {
     "name": "stderr",
     "output_type": "stream",
     "text": [
      "\r",
      " 41%|████      | 41/100 [02:16<03:32,  3.60s/it]"
     ]
    },
    {
     "name": "stdout",
     "output_type": "stream",
     "text": [
      "2.857281207798113\n",
      "Epoch 0, Loss 2.857281222996203\n",
      "2.857001488918349\n",
      "2.8567224853410726\n",
      "2.856444193156698\n",
      "2.856166608486723\n",
      "2.8558897274834205\n",
      "2.8556135463295242\n",
      "2.8553380612379238\n",
      "2.855063268451362\n",
      "2.854789164242137\n"
     ]
    },
    {
     "name": "stderr",
     "output_type": "stream",
     "text": [
      "\r",
      " 42%|████▏     | 42/100 [02:20<03:34,  3.70s/it]"
     ]
    },
    {
     "name": "stdout",
     "output_type": "stream",
     "text": [
      "2.8545157449118075\n",
      "Epoch 0, Loss 2.854515760448194\n",
      "2.8542430067908975\n",
      "2.853970946238614\n",
      "2.8536995596425556\n",
      "2.8534288434184374\n",
      "2.8531587940098073\n",
      "2.8528894078877736\n",
      "2.8526206815507367\n",
      "2.852352611524114\n",
      "2.8520851943600802\n"
     ]
    },
    {
     "name": "stderr",
     "output_type": "stream",
     "text": [
      "\r",
      " 43%|████▎     | 43/100 [02:24<03:43,  3.92s/it]"
     ]
    },
    {
     "name": "stdout",
     "output_type": "stream",
     "text": [
      "2.8518184266373017\n",
      "Epoch 0, Loss 2.851818442511056\n",
      "2.8515523049606823\n",
      "2.851286825961101\n",
      "2.8510219862951627\n",
      "2.850757782644948\n",
      "2.8504942117177663\n",
      "2.85023127024591\n",
      "2.8499689549864122\n",
      "2.849707262720812\n",
      "2.849446190254915\n"
     ]
    },
    {
     "name": "stderr",
     "output_type": "stream",
     "text": [
      "\r",
      " 44%|████▍     | 44/100 [02:29<03:48,  4.09s/it]"
     ]
    },
    {
     "name": "stdout",
     "output_type": "stream",
     "text": [
      "2.8491857344185596\n",
      "Epoch 0, Loss 2.8491857506287994\n",
      "2.8489258920653926\n",
      "2.8486666600726323\n",
      "2.8484080353408494\n",
      "2.8481500147937426\n",
      "2.8478925953779184\n",
      "2.8476357740626725\n",
      "2.8473795478397763\n",
      "2.8471239137232645\n",
      "2.8468688687492207\n"
     ]
    },
    {
     "name": "stderr",
     "output_type": "stream",
     "text": [
      "\r",
      " 45%|████▌     | 45/100 [02:34<04:01,  4.39s/it]"
     ]
    },
    {
     "name": "stdout",
     "output_type": "stream",
     "text": [
      "2.8466144099755746\n",
      "Epoch 0, Loss 2.846614426521463\n",
      "2.8463605344818923\n",
      "2.846107239369177\n",
      "2.8458545217596622\n",
      "2.84560237879662\n",
      "2.8453508076441576\n",
      "2.8450998054870293\n",
      "2.8448493695304387\n",
      "2.844599496999851\n",
      "2.8443501851408075\n"
     ]
    },
    {
     "name": "stderr",
     "output_type": "stream",
     "text": [
      "\r",
      " 46%|████▌     | 46/100 [02:37<03:42,  4.13s/it]"
     ]
    },
    {
     "name": "stdout",
     "output_type": "stream",
     "text": [
      "2.8441014312187347\n",
      "Epoch 0, Loss 2.844101448099478\n",
      "2.8438532325187644\n",
      "2.8436055863455505\n",
      "2.843358490023089\n",
      "2.8431119408945404\n",
      "2.8428659363220543\n",
      "2.842620473686595\n",
      "2.8423755503877683\n",
      "2.842131163843655\n",
      "2.841887311490637\n"
     ]
    },
    {
     "name": "stderr",
     "output_type": "stream",
     "text": [
      "\r",
      " 47%|████▋     | 47/100 [02:41<03:28,  3.94s/it]"
     ]
    },
    {
     "name": "stdout",
     "output_type": "stream",
     "text": [
      "2.8416439907832376\n",
      "Epoch 0, Loss 2.841644007998086\n",
      "2.8414011991939514\n",
      "2.8411589342130816\n",
      "2.8409171933485835\n",
      "2.8406759741259004\n",
      "2.84043527408781\n",
      "2.840195090794263\n",
      "2.839955421822233\n",
      "2.8397162647655656\n",
      "2.839477617234821\n"
     ]
    },
    {
     "name": "stderr",
     "output_type": "stream",
     "text": [
      "\r",
      " 48%|████▊     | 48/100 [02:44<03:19,  3.84s/it]"
     ]
    },
    {
     "name": "stdout",
     "output_type": "stream",
     "text": [
      "2.8392394768571307\n",
      "Epoch 0, Loss 2.839239494405373\n",
      "2.8390018412760463\n",
      "2.838764708151395\n",
      "2.8385280751591346\n",
      "2.8382919399912088\n",
      "2.838056300355409\n",
      "2.837821153975231\n",
      "2.837586498589737\n",
      "2.8373523319534204\n",
      "2.837118651836068\n"
     ]
    },
    {
     "name": "stderr",
     "output_type": "stream",
     "text": [
      "\r",
      " 49%|████▉     | 49/100 [02:48<03:10,  3.74s/it]"
     ]
    },
    {
     "name": "stdout",
     "output_type": "stream",
     "text": [
      "2.836885456022627\n",
      "Epoch 0, Loss 2.836885473903593\n",
      "2.83665274231307\n",
      "2.8364205085222673\n",
      "2.836188752479855\n",
      "2.835957472030102\n",
      "2.8357266650317916\n",
      "2.8354963293580866\n",
      "2.835266462896411\n",
      "2.835037063548321\n",
      "2.8348081292293887\n"
     ]
    },
    {
     "name": "stderr",
     "output_type": "stream",
     "text": [
      "\r",
      " 50%|█████     | 50/100 [02:51<03:06,  3.72s/it]"
     ]
    },
    {
     "name": "stdout",
     "output_type": "stream",
     "text": [
      "2.8345796578690776\n",
      "Epoch 0, Loss 2.834579676082135\n",
      "2.8343516474106205\n",
      "2.8341240958109077\n",
      "2.833897001040365\n",
      "2.8336703610828375\n",
      "2.83344417393548\n",
      "2.8332184376086333\n",
      "2.8329931501257244\n",
      "2.8327683095231446\n",
      "2.832543913850145\n"
     ]
    },
    {
     "name": "stderr",
     "output_type": "stream",
     "text": [
      "\r",
      " 51%|█████     | 51/100 [02:56<03:12,  3.93s/it]"
     ]
    },
    {
     "name": "stdout",
     "output_type": "stream",
     "text": [
      "2.8323199611687246\n",
      "Epoch 0, Loss 2.832319979713277\n",
      "2.8320964495535255\n",
      "2.8318733770917226\n",
      "2.8316507418829198\n",
      "2.8314285420390446\n",
      "2.8312067756842465\n",
      "2.830985440954788\n",
      "2.8307645359989535\n",
      "2.830544058976937\n",
      "2.8303240080607526\n"
     ]
    },
    {
     "name": "stderr",
     "output_type": "stream",
     "text": [
      "\r",
      " 52%|█████▏    | 52/100 [02:59<03:03,  3.83s/it]"
     ]
    },
    {
     "name": "stdout",
     "output_type": "stream",
     "text": [
      "2.83010438143413\n",
      "Epoch 0, Loss 2.830104400309617\n",
      "2.8298851772924194\n",
      "2.829666393842493\n",
      "2.8294480293026503\n",
      "2.8292300819025256\n",
      "2.829012549882991\n",
      "2.828795431496064\n",
      "2.828578725004819\n",
      "2.828362428683291\n",
      "2.8281465408163906\n"
     ]
    },
    {
     "name": "stderr",
     "output_type": "stream",
     "text": [
      "\r",
      " 53%|█████▎    | 53/100 [03:03<02:49,  3.61s/it]"
     ]
    },
    {
     "name": "stdout",
     "output_type": "stream",
     "text": [
      "2.8279310596998113\n",
      "Epoch 0, Loss 2.8279310789057064\n",
      "2.8277159836399424\n",
      "2.8275013109537825\n",
      "2.827287039968852\n",
      "2.827073169023107\n",
      "2.826859696464853\n",
      "2.8266466206526664\n",
      "2.8264339399553053\n",
      "2.8262216527516277\n",
      "2.8260097574305156\n"
     ]
    },
    {
     "name": "stderr",
     "output_type": "stream",
     "text": [
      "\r",
      " 54%|█████▍    | 54/100 [03:06<02:41,  3.52s/it]"
     ]
    },
    {
     "name": "stdout",
     "output_type": "stream",
     "text": [
      "2.8257982523907863\n",
      "Epoch 0, Loss 2.825798271926596\n",
      "2.8255871360411176\n",
      "2.825376406799966\n",
      "2.825166063095491\n",
      "2.8249561033654738\n",
      "2.824746526057242\n",
      "2.824537329627595\n",
      "2.824328512542724\n",
      "2.8241200732781433\n",
      "2.823912010318611\n"
     ]
    },
    {
     "name": "stderr",
     "output_type": "stream",
     "text": [
      "\r",
      " 55%|█████▌    | 55/100 [03:10<02:40,  3.57s/it]"
     ]
    },
    {
     "name": "stdout",
     "output_type": "stream",
     "text": [
      "2.823704322158056\n",
      "Epoch 0, Loss 2.823704342023318\n",
      "2.8234970072995114\n",
      "2.8232900642550334\n",
      "2.8230834915456366\n",
      "2.822877287701221\n",
      "2.8226714512605033\n",
      "2.8224659807709456\n",
      "2.8222608747886886\n",
      "2.822056131878482\n",
      "2.821851750613618\n"
     ]
    },
    {
     "name": "stderr",
     "output_type": "stream",
     "text": [
      "\r",
      " 56%|█████▌    | 56/100 [03:13<02:36,  3.55s/it]"
     ]
    },
    {
     "name": "stdout",
     "output_type": "stream",
     "text": [
      "2.821647729575867\n",
      "Epoch 0, Loss 2.8216477497701495\n",
      "2.821444067355406\n",
      "2.8212407625507594\n",
      "2.8210378137687284\n",
      "2.8208352196243314\n",
      "2.8206329787407363\n",
      "2.8204310897492024\n",
      "2.820229551289014\n",
      "2.8200283620074176\n",
      "2.819827520559566\n"
     ]
    },
    {
     "name": "stderr",
     "output_type": "stream",
     "text": [
      "\r",
      " 57%|█████▋    | 57/100 [03:16<02:25,  3.39s/it]"
     ]
    },
    {
     "name": "stdout",
     "output_type": "stream",
     "text": [
      "2.819627025608453\n",
      "Epoch 0, Loss 2.8196270461313535\n",
      "2.8194268758248544\n",
      "2.8192270698872677\n",
      "2.8190276064818565\n",
      "2.818828484302385\n",
      "2.8186297020501696\n",
      "2.8184312584340123\n",
      "2.81823315217015\n",
      "2.8180353819821957\n",
      "2.817837946601081\n"
     ]
    },
    {
     "name": "stderr",
     "output_type": "stream",
     "text": [
      "\r",
      " 58%|█████▊    | 58/100 [03:19<02:22,  3.39s/it]"
     ]
    },
    {
     "name": "stdout",
     "output_type": "stream",
     "text": [
      "2.817640844765005\n",
      "Epoch 0, Loss 2.817640865616149\n",
      "2.817444075219376\n",
      "2.817247636716759\n",
      "2.8170515280168185\n",
      "2.816855747886272\n",
      "2.816660295098829\n",
      "2.8164651684351454\n",
      "2.816270366682766\n",
      "2.8160758886360777\n",
      "2.8158817330962567\n"
     ]
    },
    {
     "name": "stderr",
     "output_type": "stream",
     "text": [
      "\r",
      " 59%|█████▉    | 59/100 [03:23<02:26,  3.57s/it]"
     ]
    },
    {
     "name": "stdout",
     "output_type": "stream",
     "text": [
      "2.8156878988712166\n",
      "Epoch 0, Loss 2.815687920050256\n",
      "2.8154943847755596\n",
      "2.8153011896305276\n",
      "2.815108312263952\n",
      "2.8149157515102057\n",
      "2.814723506210154\n",
      "2.8145315752111073\n",
      "2.814339957366772\n",
      "2.814148651537208\n",
      "2.813957656588777\n"
     ]
    },
    {
     "name": "stderr",
     "output_type": "stream",
     "text": [
      "\r",
      " 60%|██████    | 60/100 [03:27<02:23,  3.58s/it]"
     ]
    },
    {
     "name": "stdout",
     "output_type": "stream",
     "text": [
      "2.813766971394099\n",
      "Epoch 0, Loss 2.8137669929007125\n",
      "2.813576594832006\n",
      "2.8133865257874957\n",
      "2.81319676315169\n",
      "2.813007305821785\n",
      "2.812818152701012\n",
      "2.812629302698591\n",
      "2.8124407547296864\n",
      "2.8122525077153666\n",
      "2.812064560582561\n"
     ]
    },
    {
     "name": "stderr",
     "output_type": "stream",
     "text": [
      "\r",
      " 61%|██████    | 61/100 [03:31<02:20,  3.61s/it]"
     ]
    },
    {
     "name": "stdout",
     "output_type": "stream",
     "text": [
      "2.811876912264016\n",
      "Epoch 0, Loss 2.8118769340979064\n",
      "2.811689561698254\n",
      "2.8115025078295326\n",
      "2.811315749607802\n",
      "2.8111292859886654\n",
      "2.810943115933339\n",
      "2.8107572384086095\n",
      "2.8105716523867987\n",
      "2.8103863568457177\n",
      "2.8102013507686348\n"
     ]
    },
    {
     "name": "stderr",
     "output_type": "stream",
     "text": [
      "\r",
      " 62%|██████▏   | 62/100 [03:36<02:34,  4.06s/it]"
     ]
    },
    {
     "name": "stdout",
     "output_type": "stream",
     "text": [
      "2.810016633144231\n",
      "Epoch 0, Loss 2.810016655305125\n",
      "2.809832202966567\n",
      "2.8096480592350415\n",
      "2.809464200954352\n",
      "2.809280627134462\n",
      "2.809097336790561\n",
      "2.80891432894303\n",
      "2.8087316026174\n",
      "2.808549156844323\n",
      "2.808366990659531\n"
     ]
    },
    {
     "name": "stderr",
     "output_type": "stream",
     "text": [
      "\r",
      " 63%|██████▎   | 63/100 [03:39<02:21,  3.83s/it]"
     ]
    },
    {
     "name": "stdout",
     "output_type": "stream",
     "text": [
      "2.808185103103802\n",
      "Epoch 0, Loss 2.808185125591449\n",
      "2.8080034932229245\n",
      "2.8078221600676643\n",
      "2.8076411026937276\n",
      "2.8074603201617276\n",
      "2.8072798115371507\n",
      "2.807099575890323\n",
      "2.806919612296376\n",
      "2.8067399198352136\n",
      "2.80656049759148\n"
     ]
    },
    {
     "name": "stderr",
     "output_type": "stream",
     "text": [
      "\r",
      " 64%|██████▍   | 64/100 [03:42<02:09,  3.58s/it]"
     ]
    },
    {
     "name": "stdout",
     "output_type": "stream",
     "text": [
      "2.8063813446545276\n",
      "Epoch 0, Loss 2.8063813674687\n",
      "2.8062024601183815\n",
      "2.806023843081711\n",
      "2.8058454926477947\n",
      "2.8056674079244943\n",
      "2.8054895880242157\n",
      "2.8053120320638847\n",
      "2.805134739164913\n",
      "2.8049577084531667\n",
      "2.8047809390589395\n"
     ]
    },
    {
     "name": "stderr",
     "output_type": "stream",
     "text": [
      "\r",
      " 65%|██████▌   | 65/100 [03:46<02:05,  3.59s/it]"
     ]
    },
    {
     "name": "stdout",
     "output_type": "stream",
     "text": [
      "2.804604430116921\n",
      "Epoch 0, Loss 2.8046044532574115\n",
      "2.8044281807661653\n",
      "2.8042521901500637\n",
      "2.804076457416316\n",
      "2.8039009817168994\n",
      "2.803725762208039\n",
      "2.8035507980501846\n",
      "2.8033760884079757\n",
      "2.803201632450217\n",
      "2.803027429349852\n"
     ]
    },
    {
     "name": "stderr",
     "output_type": "stream",
     "text": [
      "\r",
      " 66%|██████▌   | 66/100 [03:49<01:58,  3.47s/it]"
     ]
    },
    {
     "name": "stdout",
     "output_type": "stream",
     "text": [
      "2.802853478283931\n",
      "Epoch 0, Loss 2.802853501750552\n",
      "2.8026797784335877\n",
      "2.8025063289840095\n",
      "2.8023331291244142\n",
      "2.802160178048016\n",
      "2.8019874749520084\n",
      "2.801815019037532\n",
      "2.8016428095096484\n",
      "2.8014708455773154\n",
      "2.801299126453364\n"
     ]
    },
    {
     "name": "stderr",
     "output_type": "stream",
     "text": [
      "\r",
      " 67%|██████▋   | 67/100 [03:52<01:53,  3.45s/it]"
     ]
    },
    {
     "name": "stdout",
     "output_type": "stream",
     "text": [
      "2.8011276513544687\n",
      "Epoch 0, Loss 2.8011276751470526\n",
      "2.8009564195011265\n",
      "2.800785430117624\n",
      "2.800614682432027\n",
      "2.800444175676138\n",
      "2.8002739090854853\n",
      "2.8001038818992954\n",
      "2.7999340933604655\n",
      "2.7997645427155424\n",
      "2.7995952292146984\n"
     ]
    },
    {
     "name": "stderr",
     "output_type": "stream",
     "text": [
      "\r",
      " 68%|██████▊   | 68/100 [03:56<01:48,  3.40s/it]"
     ]
    },
    {
     "name": "stdout",
     "output_type": "stream",
     "text": [
      "2.7994261521117103\n",
      "Epoch 0, Loss 2.7994261762301083\n",
      "2.7992573106639296\n",
      "2.799088704132266\n",
      "2.7989203317811624\n",
      "2.7987521928785704\n",
      "2.7985842866959305\n",
      "2.7984166125081473\n",
      "2.798249169593569\n",
      "2.7980819572339652\n",
      "2.797914974714504\n"
     ]
    },
    {
     "name": "stderr",
     "output_type": "stream",
     "text": [
      "\r",
      " 69%|██████▉   | 69/100 [03:58<01:39,  3.22s/it]"
     ]
    },
    {
     "name": "stdout",
     "output_type": "stream",
     "text": [
      "2.797748221323731\n",
      "Epoch 0, Loss 2.7977482457678113\n",
      "2.797581696353548\n",
      "2.797415399099192\n",
      "2.7972493288592126\n",
      "2.797083484935454\n",
      "2.7969178666330277\n",
      "2.7967524732603017\n",
      "2.7965873041288716\n",
      "2.7964223585535435\n",
      "2.7962576358523132\n"
     ]
    },
    {
     "name": "stderr",
     "output_type": "stream",
     "text": [
      "\r",
      " 70%|███████   | 70/100 [04:03<01:45,  3.52s/it]"
     ]
    },
    {
     "name": "stdout",
     "output_type": "stream",
     "text": [
      "2.7960931353463474\n",
      "Epoch 0, Loss 2.796093160115996\n",
      "2.7959288563599616\n",
      "2.7957647982206044\n",
      "2.7956009602588323\n",
      "2.795437341808295\n",
      "2.795273942205713\n",
      "2.7951107607908616\n",
      "2.7949477969065493\n",
      "2.794785049898599\n",
      "2.794622519115831\n"
     ]
    },
    {
     "name": "stderr",
     "output_type": "stream",
     "text": [
      "\r",
      " 71%|███████   | 71/100 [04:08<01:54,  3.96s/it]"
     ]
    },
    {
     "name": "stdout",
     "output_type": "stream",
     "text": [
      "2.7944602039100452\n",
      "Epoch 0, Loss 2.794460229005164\n",
      "2.794298103635999\n",
      "2.79413621765139\n",
      "2.793974545316844\n",
      "2.7938130859958874\n",
      "2.7936518390549363\n",
      "2.793490803863276\n",
      "2.793329979793043\n",
      "2.793169366219213\n",
      "2.793008962519573\n"
     ]
    },
    {
     "name": "stderr",
     "output_type": "stream",
     "text": [
      "\r",
      " 72%|███████▏  | 72/100 [04:11<01:47,  3.82s/it]"
     ]
    },
    {
     "name": "stdout",
     "output_type": "stream",
     "text": [
      "2.7928487680747147\n",
      "Epoch 0, Loss 2.7928487934952213\n",
      "2.7926887822680113\n",
      "2.7925290044856035\n",
      "2.7923694341163805\n",
      "2.792210070551964\n",
      "2.792050913186694\n",
      "2.79189196141761\n",
      "2.791733214644433\n",
      "2.791574672269556\n",
      "2.791416333698019\n"
     ]
    },
    {
     "name": "stderr",
     "output_type": "stream",
     "text": [
      "\r",
      " 73%|███████▎  | 73/100 [04:14<01:38,  3.66s/it]"
     ]
    },
    {
     "name": "stdout",
     "output_type": "stream",
     "text": [
      "2.791258198337499\n",
      "Epoch 0, Loss 2.791258224083326\n",
      "2.7911002655982946\n",
      "2.7909425348933072\n",
      "2.7907850056380257\n",
      "2.790627677250514\n",
      "2.790470549151394\n",
      "2.7903136207638273\n",
      "2.790156891513506\n",
      "2.790000360828633\n",
      "2.78984402813991\n"
     ]
    },
    {
     "name": "stderr",
     "output_type": "stream",
     "text": [
      "\r",
      " 74%|███████▍  | 74/100 [04:19<01:42,  3.95s/it]"
     ]
    },
    {
     "name": "stdout",
     "output_type": "stream",
     "text": [
      "2.7896878928805195\n",
      "Epoch 0, Loss 2.789687918951614\n",
      "2.789531954486114\n",
      "2.789376212394799\n",
      "2.7892206660471186\n",
      "2.7890653148860425\n",
      "2.7889101583569507\n",
      "2.7887551959076196\n",
      "2.788600426988207\n",
      "2.78844585105124\n",
      "2.788291467551601\n"
     ]
    },
    {
     "name": "stderr",
     "output_type": "stream",
     "text": [
      "\r",
      " 75%|███████▌  | 75/100 [04:22<01:33,  3.75s/it]"
     ]
    },
    {
     "name": "stdout",
     "output_type": "stream",
     "text": [
      "2.788137275946512\n",
      "Epoch 0, Loss 2.7881373023428355\n",
      "2.7879832756955234\n",
      "2.7878294662604968\n",
      "2.787675847105598\n",
      "2.787522417697277\n",
      "2.7873691775042566\n",
      "2.7872161259975248\n",
      "2.787063262650311\n",
      "2.786910586938085\n",
      "2.7867580983385345\n"
     ]
    },
    {
     "name": "stderr",
     "output_type": "stream",
     "text": [
      "\r",
      " 76%|███████▌  | 76/100 [04:25<01:25,  3.56s/it]"
     ]
    },
    {
     "name": "stdout",
     "output_type": "stream",
     "text": [
      "2.7866057963315565\n",
      "Epoch 0, Loss 2.786605823053083\n",
      "2.7864536803992452\n",
      "2.78630175002588\n",
      "2.7861500046979075\n",
      "2.785998443903936\n",
      "2.7858470671347217\n",
      "2.7856958738831503\n",
      "2.7855448636442346\n",
      "2.7853940359150933\n",
      "2.7852433901949465\n"
     ]
    },
    {
     "name": "stderr",
     "output_type": "stream",
     "text": [
      "\r",
      " 77%|███████▋  | 77/100 [04:29<01:22,  3.57s/it]"
     ]
    },
    {
     "name": "stdout",
     "output_type": "stream",
     "text": [
      "2.785092925985098\n",
      "Epoch 0, Loss 2.7850929530318136\n",
      "2.7849426427889283\n",
      "2.7847925401118787\n",
      "2.7846426174614427\n",
      "2.784492874347152\n",
      "2.784343310280569\n",
      "2.784193924775269\n",
      "2.784044717346836\n",
      "2.7838956875128464\n",
      "2.7837468347928596\n"
     ]
    },
    {
     "name": "stderr",
     "output_type": "stream",
     "text": [
      "\r",
      " 78%|███████▊  | 78/100 [04:32<01:16,  3.49s/it]"
     ]
    },
    {
     "name": "stdout",
     "output_type": "stream",
     "text": [
      "2.7835981587084078\n",
      "Epoch 0, Loss 2.7835981860803116\n",
      "2.783449658782984\n",
      "2.7833013345420294\n",
      "2.7831531855129263\n",
      "2.783005211224985\n",
      "2.782857411209434\n",
      "2.782709784999407\n",
      "2.782562332129936\n",
      "2.7824150521379387\n",
      "2.782267944562208\n"
     ]
    },
    {
     "name": "stderr",
     "output_type": "stream",
     "text": [
      "\r",
      " 79%|███████▉  | 79/100 [04:35<01:10,  3.37s/it]"
     ]
    },
    {
     "name": "stdout",
     "output_type": "stream",
     "text": [
      "2.782121008943402\n",
      "Epoch 0, Loss 2.782121036640505\n",
      "2.781974244824035\n",
      "2.781827651748466\n",
      "2.781681229262888\n",
      "2.781534976915319\n",
      "2.7813888942555915\n",
      "2.781242980835345\n",
      "2.7810972362080113\n",
      "2.7809516599288076\n",
      "2.78080625155473\n"
     ]
    },
    {
     "name": "stderr",
     "output_type": "stream",
     "text": [
      "\r",
      " 80%|████████  | 80/100 [04:39<01:07,  3.36s/it]"
     ]
    },
    {
     "name": "stdout",
     "output_type": "stream",
     "text": [
      "2.7806610106445366\n",
      "Epoch 0, Loss 2.78066103866686\n",
      "2.780515936758744\n",
      "2.7803710294596153\n",
      "2.780226288311152\n",
      "2.7800817128790807\n",
      "2.7799373027308496\n",
      "2.779793057435616\n",
      "2.7796489765642365\n",
      "2.779505059689261\n",
      "2.7793613063849176\n"
     ]
    },
    {
     "name": "stderr",
     "output_type": "stream",
     "text": [
      "\r",
      " 81%|████████  | 81/100 [04:44<01:12,  3.82s/it]"
     ]
    },
    {
     "name": "stdout",
     "output_type": "stream",
     "text": [
      "2.7792177162271106\n",
      "Epoch 0, Loss 2.7792177445746873\n",
      "2.779074288793409\n",
      "2.7789310236630342\n",
      "2.7787879204168573\n",
      "2.7786449786373852\n",
      "2.778502197908755\n",
      "2.7783595778167225\n",
      "2.778217117948656\n",
      "2.7780748178935286\n",
      "2.777932677241907\n"
     ]
    },
    {
     "name": "stderr",
     "output_type": "stream",
     "text": [
      "\r",
      " 82%|████████▏ | 82/100 [04:47<01:08,  3.79s/it]"
     ]
    },
    {
     "name": "stdout",
     "output_type": "stream",
     "text": [
      "2.777790695585943\n",
      "Epoch 0, Loss 2.7777907242588156\n",
      "2.777648872519369\n",
      "2.777507207637486\n",
      "2.7773657005371546\n",
      "2.7772243508167924\n",
      "2.7770831580763584\n",
      "2.776942121917353\n",
      "2.776801241942801\n",
      "2.7766605177572505\n",
      "2.776519948966764\n"
     ]
    },
    {
     "name": "stderr",
     "output_type": "stream",
     "text": [
      "\r",
      " 83%|████████▎ | 83/100 [04:52<01:06,  3.94s/it]"
     ]
    },
    {
     "name": "stdout",
     "output_type": "stream",
     "text": [
      "2.7763795351789065\n",
      "Epoch 0, Loss 2.776379564177127\n",
      "2.776239276002742\n",
      "2.7760991710488248\n",
      "2.7759592199291885\n",
      "2.775819422257345\n",
      "2.7756797776482682\n",
      "2.775540285718396\n",
      "2.7754009460856137\n",
      "2.7752617583692523\n",
      "2.775122722190081\n"
     ]
    },
    {
     "name": "stderr",
     "output_type": "stream",
     "text": [
      "\r",
      " 84%|████████▍ | 84/100 [04:56<01:04,  4.01s/it]"
     ]
    },
    {
     "name": "stdout",
     "output_type": "stream",
     "text": [
      "2.7749838371702955\n",
      "Epoch 0, Loss 2.7749838664939266\n",
      "2.774845102933515\n",
      "2.7747065191047735\n",
      "2.774568085310512\n",
      "2.7744298011785724\n",
      "2.7742916663381885\n",
      "2.7741536804199813\n",
      "2.7740158430559507\n",
      "2.7738781538794686\n",
      "2.7737406125252706\n"
     ]
    },
    {
     "name": "stderr",
     "output_type": "stream",
     "text": [
      "\r",
      " 85%|████████▌ | 85/100 [05:01<01:07,  4.49s/it]"
     ]
    },
    {
     "name": "stdout",
     "output_type": "stream",
     "text": [
      "2.773603218629452\n",
      "Epoch 0, Loss 2.773603248278564\n",
      "2.7734659718294585\n",
      "2.7733288717640825\n",
      "2.7731919180734494\n",
      "2.7730551103990213\n",
      "2.7729184483835794\n",
      "2.7727819316712248\n",
      "2.7726455599073705\n",
      "2.7725093327387316\n",
      "2.772373249813324\n"
     ]
    },
    {
     "name": "stderr",
     "output_type": "stream",
     "text": [
      "\r",
      " 86%|████████▌ | 86/100 [05:05<00:58,  4.19s/it]"
     ]
    },
    {
     "name": "stdout",
     "output_type": "stream",
     "text": [
      "2.772237310780451\n",
      "Epoch 0, Loss 2.7722373407551237\n",
      "2.7721015152907063\n",
      "2.7719658629959567\n",
      "2.771830353549343\n",
      "2.771694986605275\n",
      "2.771559761819417\n",
      "2.771424678848691\n",
      "2.7712897373512644\n",
      "2.7711549369865445\n",
      "2.771020277415175\n"
     ]
    },
    {
     "name": "stderr",
     "output_type": "stream",
     "text": [
      "\r",
      " 87%|████████▋ | 87/100 [05:08<00:50,  3.89s/it]"
     ]
    },
    {
     "name": "stdout",
     "output_type": "stream",
     "text": [
      "2.770885758299027\n",
      "Epoch 0, Loss 2.7708857885993483\n",
      "2.7707513793011977\n",
      "2.770617140085996\n",
      "2.7704830403189455\n",
      "2.770349079666773\n",
      "2.770215257797405\n",
      "2.7700815743799594\n",
      "2.769948029084744\n",
      "2.769814621583245\n",
      "2.769681351548127\n"
     ]
    },
    {
     "name": "stderr",
     "output_type": "stream",
     "text": [
      "\r",
      " 88%|████████▊ | 88/100 [05:12<00:44,  3.74s/it]"
     ]
    },
    {
     "name": "stdout",
     "output_type": "stream",
     "text": [
      "2.769548218653223\n",
      "Epoch 0, Loss 2.7695482492792887\n",
      "2.7694152225735307\n",
      "2.7692823629852072\n",
      "2.76914963956556\n",
      "2.769017051993048\n",
      "2.768884599947269\n",
      "2.7687522831089586\n",
      "2.7686201011599825\n",
      "2.7684880537833325\n",
      "2.76835614066312\n"
     ]
    },
    {
     "name": "stderr",
     "output_type": "stream",
     "text": [
      "\r",
      " 89%|████████▉ | 89/100 [05:15<00:40,  3.64s/it]"
     ]
    },
    {
     "name": "stdout",
     "output_type": "stream",
     "text": [
      "2.7682243614845734\n",
      "Epoch 0, Loss 2.768224392436487\n",
      "2.768092715934025\n",
      "2.767961203698917\n",
      "2.7678298244677877\n",
      "2.7676985779302687\n",
      "2.767567463777081\n",
      "2.7674364817000274\n",
      "2.7673056313919906\n",
      "2.767174912546924\n"
     ]
    },
    {
     "name": "stderr",
     "output_type": "stream",
     "text": [
      "\r",
      " 90%|█████████ | 90/100 [05:18<00:35,  3.51s/it]"
     ]
    },
    {
     "name": "stdout",
     "output_type": "stream",
     "text": [
      "2.767044324859851\n",
      "2.7669138680268546\n",
      "Epoch 0, Loss 2.766913899304727\n",
      "2.7667835417450797\n",
      "2.7666533457127205\n",
      "2.7665232796290193\n",
      "2.7663933431942627\n",
      "2.766263536109775\n",
      "2.766133858077912\n",
      "2.766004308802059\n",
      "2.765874887986624\n",
      "2.7657455953370342\n"
     ]
    },
    {
     "name": "stderr",
     "output_type": "stream",
     "text": [
      "\r",
      " 91%|█████████ | 91/100 [05:21<00:30,  3.36s/it]"
     ]
    },
    {
     "name": "stdout",
     "output_type": "stream",
     "text": [
      "2.76561643055973\n",
      "Epoch 0, Loss 2.7656164621636794\n",
      "2.765487393362161\n",
      "2.7653584834527813\n",
      "2.7652297005410436\n",
      "2.7651010443373973\n",
      "2.764972514553281\n",
      "2.764844110901121\n",
      "2.7647158330943213\n",
      "2.764587680847266\n",
      "2.7644596538753103\n"
     ]
    },
    {
     "name": "stderr",
     "output_type": "stream",
     "text": [
      "\r",
      " 92%|█████████▏| 92/100 [05:24<00:26,  3.31s/it]"
     ]
    },
    {
     "name": "stdout",
     "output_type": "stream",
     "text": [
      "2.764331751894775\n",
      "Epoch 0, Loss 2.7643317838249257\n",
      "2.7642039746229483\n",
      "2.764076321778073\n",
      "2.763948793079349\n",
      "2.7638213882469254\n",
      "2.7636941070018954\n",
      "2.7635669490662975\n",
      "2.7634399141631034\n",
      "2.763313002016219\n",
      "2.7631862123504773\n"
     ]
    },
    {
     "name": "stderr",
     "output_type": "stream",
     "text": [
      "\r",
      " 93%|█████████▎| 93/100 [05:27<00:22,  3.25s/it]"
     ]
    },
    {
     "name": "stdout",
     "output_type": "stream",
     "text": [
      "2.7630595448916386\n",
      "Epoch 0, Loss 2.7630595771481214\n",
      "2.7629329993663814\n",
      "2.7628065755022986\n",
      "2.7626802730278968\n",
      "2.76255409167259\n",
      "2.762428031166695\n",
      "2.7623020912414273\n",
      "2.7621762716289\n",
      "2.762050572062116\n",
      "2.761924992274964\n"
     ]
    },
    {
     "name": "stderr",
     "output_type": "stream",
     "text": [
      "\r",
      " 94%|█████████▍| 94/100 [05:31<00:19,  3.29s/it]"
     ]
    },
    {
     "name": "stdout",
     "output_type": "stream",
     "text": [
      "2.7617995320022195\n",
      "Epoch 0, Loss 2.7617995645851723\n",
      "2.761674190979534\n",
      "2.7615489689434347\n",
      "2.761423865631324\n",
      "2.7612988807814665\n",
      "2.761174014132993\n",
      "2.761049265425895\n",
      "2.760924634401018\n",
      "2.7608001208000603\n",
      "2.7606757243655693\n"
     ]
    },
    {
     "name": "stderr",
     "output_type": "stream",
     "text": [
      "\r",
      " 95%|█████████▌| 95/100 [05:34<00:16,  3.38s/it]"
     ]
    },
    {
     "name": "stdout",
     "output_type": "stream",
     "text": [
      "2.7605514448409365\n",
      "Epoch 0, Loss 2.7605514777505027\n",
      "2.7604272819703937\n",
      "2.76030323549901\n",
      "2.760179305172689\n",
      "2.760055490738161\n",
      "2.759931791942987\n",
      "2.7598082085355458\n",
      "2.759684740265038\n",
      "2.759561386881479\n",
      "2.7594381481356924\n"
     ]
    },
    {
     "name": "stderr",
     "output_type": "stream",
     "text": [
      "\r",
      " 96%|█████████▌| 96/100 [05:38<00:13,  3.39s/it]"
     ]
    },
    {
     "name": "stdout",
     "output_type": "stream",
     "text": [
      "2.759315023779315\n",
      "Epoch 0, Loss 2.7593150570156437\n",
      "2.759192013564784\n",
      "2.7590691172453403\n",
      "2.758946334575021\n",
      "2.7588236653086566\n",
      "2.758701109201869\n",
      "2.758578666011067\n",
      "2.758456335493442\n",
      "2.758334117406968\n",
      "2.7582120115103934\n"
     ]
    },
    {
     "name": "stderr",
     "output_type": "stream",
     "text": [
      "\r",
      " 97%|█████████▋| 97/100 [05:41<00:09,  3.27s/it]"
     ]
    },
    {
     "name": "stdout",
     "output_type": "stream",
     "text": [
      "2.758090017563242\n",
      "Epoch 0, Loss 2.7580900511264876\n",
      "2.7579681353258065\n",
      "2.7578463645591453\n",
      "2.757724705025084\n",
      "2.757603156486204\n",
      "2.7574817187058476\n",
      "2.757360391448106\n",
      "2.7572391744778266\n",
      "2.7571180675605995\n",
      "2.75699707046276\n"
     ]
    },
    {
     "name": "stderr",
     "output_type": "stream",
     "text": [
      "\r",
      " 98%|█████████▊| 98/100 [05:44<00:06,  3.25s/it]"
     ]
    },
    {
     "name": "stdout",
     "output_type": "stream",
     "text": [
      "2.7568761829513857\n",
      "Epoch 0, Loss 2.7568762168417082\n",
      "2.7567554047942893\n",
      "2.75663473576002\n",
      "2.7565141756178577\n",
      "2.7563937241378103\n",
      "2.7562733810906113\n",
      "2.7561531462477147\n",
      "2.756033019381296\n",
      "2.7559130002642447\n",
      "2.7557930886701643\n"
     ]
    },
    {
     "name": "stderr",
     "output_type": "stream",
     "text": [
      "\r",
      " 99%|█████████▉| 99/100 [05:47<00:03,  3.27s/it]"
     ]
    },
    {
     "name": "stdout",
     "output_type": "stream",
     "text": [
      "2.755673284373367\n",
      "Epoch 0, Loss 2.7556733185909317\n",
      "2.7555535871488726\n",
      "2.755433996772406\n",
      "2.755314513020389\n",
      "2.755195135669947\n",
      "2.755075864498896\n",
      "2.754956699285746\n",
      "2.7548376398096965\n",
      "2.7547186858506305\n",
      "2.754599837189119\n"
     ]
    },
    {
     "name": "stderr",
     "output_type": "stream",
     "text": [
      "100%|██████████| 100/100 [05:50<00:00,  3.51s/it]\n",
      "  0%|          | 0/100 [00:00<?, ?it/s]"
     ]
    },
    {
     "name": "stdout",
     "output_type": "stream",
     "text": [
      "6.9333537201536055\n",
      "Epoch 0, Loss 6.933353720184657\n",
      "3.516567004056644\n",
      "3.4183487497158467\n",
      "3.3789995092765293\n",
      "3.3617942157545753\n",
      "3.3508055682001032\n",
      "3.341478092164187\n",
      "3.3327482314367147\n",
      "3.32437725823889\n",
      "3.3163044438872378\n"
     ]
    },
    {
     "name": "stderr",
     "output_type": "stream",
     "text": [
      "\r",
      "  1%|          | 1/100 [00:03<05:36,  3.40s/it]"
     ]
    },
    {
     "name": "stdout",
     "output_type": "stream",
     "text": [
      "3.308506942620321\n",
      "Epoch 0, Loss 3.3085069504271125\n",
      "3.3009703404403825\n",
      "3.293682461327865\n",
      "3.286632038346454\n",
      "3.2798084111598977\n",
      "3.2732014435869417\n",
      "3.266801489442691\n",
      "3.26059936938575\n",
      "3.2545863504996353\n",
      "3.2487541267508395\n"
     ]
    },
    {
     "name": "stderr",
     "output_type": "stream",
     "text": [
      "\r",
      "  2%|▏         | 2/100 [00:07<06:13,  3.81s/it]"
     ]
    },
    {
     "name": "stdout",
     "output_type": "stream",
     "text": [
      "3.243094799930032\n",
      "Epoch 0, Loss 3.243094809981704\n",
      "3.237600861027632\n",
      "3.232265172074687\n",
      "3.2270809484933625\n",
      "3.222041741997256\n",
      "3.2171414240733127\n",
      "3.2123741700682276\n",
      "3.207734443893982\n",
      "3.203216983359879\n",
      "3.198816786132342\n"
     ]
    },
    {
     "name": "stderr",
     "output_type": "stream",
     "text": [
      "\r",
      "  3%|▎         | 3/100 [00:11<06:00,  3.71s/it]"
     ]
    },
    {
     "name": "stdout",
     "output_type": "stream",
     "text": [
      "3.1945290963184787\n",
      "Epoch 0, Loss 3.194529109372686\n",
      "3.190349391665197\n",
      "3.1862733713621756\n",
      "3.182296944434197\n",
      "3.1784162187062153\n",
      "3.1746274903228917\n",
      "3.1709272338031274\n",
      "3.1673120926093117\n",
      "3.163778870210522\n",
      "3.1603245216186675\n"
     ]
    },
    {
     "name": "stderr",
     "output_type": "stream",
     "text": [
      "\r",
      "  4%|▍         | 4/100 [00:14<05:44,  3.59s/it]"
     ]
    },
    {
     "name": "stdout",
     "output_type": "stream",
     "text": [
      "3.15694614537657\n",
      "Epoch 0, Loss 3.1569461618565597\n",
      "3.153640975977147\n",
      "3.1504063766931782\n",
      "3.147239832797562\n",
      "3.1441389451545207\n",
      "3.1411014241627746\n",
      "3.1381250840323722\n",
      "3.135207837377547\n",
      "3.1323476901086686\n",
      "3.1295427366070676\n"
     ]
    },
    {
     "name": "stderr",
     "output_type": "stream",
     "text": [
      "\r",
      "  5%|▌         | 5/100 [00:17<05:31,  3.49s/it]"
     ]
    },
    {
     "name": "stdout",
     "output_type": "stream",
     "text": [
      "3.1267911551672647\n",
      "Epoch 0, Loss 3.126791175312015\n",
      "3.124091203691811\n",
      "3.1214412156247033\n",
      "3.118839596109982\n",
      "3.1162848183628515\n",
      "3.1137754202412737\n",
      "3.1113100010066597\n",
      "3.108887218262867\n",
      "3.106505785063321\n",
      "3.10416446717663\n"
     ]
    },
    {
     "name": "stderr",
     "output_type": "stream",
     "text": [
      "\r",
      "  6%|▌         | 6/100 [00:21<05:26,  3.48s/it]"
     ]
    },
    {
     "name": "stdout",
     "output_type": "stream",
     "text": [
      "3.1018620805016086\n",
      "Epoch 0, Loss 3.101862104445337\n",
      "3.099597488623116\n",
      "3.0973696005006537\n",
      "3.0951773682820596\n",
      "3.0930197852351404\n",
      "3.090895883790462\n",
      "3.088804733688927\n",
      "3.086745440228125\n",
      "3.0847171426018276\n",
      "3.082719012327294\n"
     ]
    },
    {
     "name": "stderr",
     "output_type": "stream",
     "text": [
      "\r",
      "  7%|▋         | 7/100 [00:24<05:22,  3.47s/it]"
     ]
    },
    {
     "name": "stdout",
     "output_type": "stream",
     "text": [
      "3.0807502517553744\n",
      "Epoch 0, Loss 3.0807502795712156\n",
      "3.0788100926587303\n",
      "3.0768977948937044\n",
      "3.0750126451316953\n",
      "3.0731539556561134\n",
      "3.071321063221199\n",
      "3.069513327969269\n",
      "3.0677301324030912\n",
      "3.065970880410328\n",
      "3.0642349963371505\n"
     ]
    },
    {
     "name": "stderr",
     "output_type": "stream",
     "text": [
      "\r",
      "  8%|▊         | 8/100 [00:28<05:25,  3.54s/it]"
     ]
    },
    {
     "name": "stdout",
     "output_type": "stream",
     "text": [
      "3.0625219241083004\n",
      "Epoch 0, Loss 3.062521955832849\n",
      "3.0608311263910335\n",
      "3.0591620838005302\n",
      "3.0575142941445104\n",
      "3.055887271704902\n",
      "3.0542805465545557\n",
      "3.0526936639071067\n",
      "3.051126183498192\n",
      "3.049577678996351\n",
      "3.0480477374420105\n"
     ]
    },
    {
     "name": "stderr",
     "output_type": "stream",
     "text": [
      "\r",
      "  9%|▉         | 9/100 [00:31<05:09,  3.40s/it]"
     ]
    },
    {
     "name": "stdout",
     "output_type": "stream",
     "text": [
      "3.046535958713063\n",
      "Epoch 0, Loss 3.0465359943605406\n",
      "3.0450419550156353\n",
      "3.0435653503987043\n",
      "3.0421057802913283\n",
      "3.040662891061283\n",
      "3.0392363395940207\n",
      "3.037825792890873\n",
      "3.0364309276855197\n",
      "3.035051430077777\n",
      "3.0336869951838406\n"
     ]
    },
    {
     "name": "stderr",
     "output_type": "stream",
     "text": [
      "\r",
      " 10%|█         | 10/100 [00:34<05:03,  3.37s/it]"
     ]
    },
    {
     "name": "stdout",
     "output_type": "stream",
     "text": [
      "3.0323373268021134\n",
      "Epoch 0, Loss 3.032337366372773\n",
      "3.031002137093867\n",
      "3.0296811462779605\n",
      "3.0283740823389365\n",
      "3.0270806807478086\n",
      "3.0258006841949228\n",
      "3.0245338423343\n",
      "3.0232799115388826\n",
      "3.022038654666166\n",
      "3.0208098408337074\n"
     ]
    },
    {
     "name": "stderr",
     "output_type": "stream",
     "text": [
      "\r",
      " 11%|█         | 11/100 [00:38<05:03,  3.41s/it]"
     ]
    },
    {
     "name": "stdout",
     "output_type": "stream",
     "text": [
      "3.019593245204035\n",
      "Epoch 0, Loss 3.0195932886892844\n",
      "3.0183886487784983\n",
      "3.0171958381996515\n",
      "3.01601460556174\n",
      "3.0148447482289242\n",
      "3.0136860686608746\n",
      "3.012538374245388\n",
      "3.0114014771376985\n",
      "3.01027519410618\n",
      "3.009159346384142\n"
     ]
    },
    {
     "name": "stderr",
     "output_type": "stream",
     "text": [
      "\r",
      " 12%|█▏        | 12/100 [00:42<05:21,  3.65s/it]"
     ]
    },
    {
     "name": "stdout",
     "output_type": "stream",
     "text": [
      "3.0080537595274364\n",
      "Epoch 0, Loss 3.0080538069130403\n",
      "3.006958263277623\n",
      "3.0058726914304206\n",
      "3.0047968817092343\n",
      "3.0037306756435074\n",
      "3.0026739184516935\n",
      "3.0016264589286474\n",
      "3.0005881493372355\n",
      "2.999558845303975\n",
      "2.9985384057185493\n"
     ]
    },
    {
     "name": "stderr",
     "output_type": "stream",
     "text": [
      "\r",
      " 13%|█▎        | 13/100 [00:46<05:21,  3.70s/it]"
     ]
    },
    {
     "name": "stdout",
     "output_type": "stream",
     "text": [
      "2.997526692637\n",
      "Epoch 0, Loss 2.9975267439051256\n",
      "2.996523571188463\n",
      "2.99552890948529\n",
      "2.9945425785364\n",
      "2.993564452163745\n",
      "2.9925944069217363\n",
      "2.991632322019532\n",
      "2.990678079246042\n",
      "2.98973156289756\n",
      "2.9887926597078924\n"
     ]
    },
    {
     "name": "stderr",
     "output_type": "stream",
     "text": [
      "\r",
      " 14%|█▍        | 14/100 [00:48<04:47,  3.34s/it]"
     ]
    },
    {
     "name": "stdout",
     "output_type": "stream",
     "text": [
      "2.9878612587809115\n",
      "Epoch 0, Loss 2.987861313911467\n",
      "2.9869372515254007\n",
      "2.9860205315921284\n",
      "2.985110994813039\n",
      "2.9842085391424953\n",
      "2.9833130646004764\n",
      "2.9824244732176566\n",
      "2.9815426689823026\n",
      "2.980667557788902\n",
      "2.9797990473884695\n"
     ]
    },
    {
     "name": "stderr",
     "output_type": "stream",
     "text": [
      "\r",
      " 15%|█▌        | 15/100 [00:51<04:27,  3.15s/it]"
     ]
    },
    {
     "name": "stdout",
     "output_type": "stream",
     "text": [
      "2.9789370473404553\n",
      "Epoch 0, Loss 2.9789371063119803\n",
      "2.9780814689662005\n",
      "2.977232225303883\n",
      "2.9763892310648905\n",
      "2.9755524025915685\n",
      "2.9747216578162967\n",
      "2.9738969162218396\n",
      "2.9730780988029255\n",
      "2.9722651280290053\n",
      "2.971457927808159\n"
     ]
    },
    {
     "name": "stderr",
     "output_type": "stream",
     "text": [
      "\r",
      " 16%|█▌        | 16/100 [00:54<04:15,  3.04s/it]"
     ]
    },
    {
     "name": "stdout",
     "output_type": "stream",
     "text": [
      "2.970656423452092\n",
      "Epoch 0, Loss 2.9706564862423597\n",
      "2.9698605416421953\n",
      "2.969070210396622\n",
      "2.9682853590383527\n",
      "2.9675059181642034\n",
      "2.966731819614755\n",
      "2.965962996445161\n",
      "2.9651993828968086\n",
      "2.9644409143698054\n"
     ]
    },
    {
     "name": "stderr",
     "output_type": "stream",
     "text": [
      "\r",
      " 17%|█▋        | 17/100 [00:56<03:56,  2.85s/it]"
     ]
    },
    {
     "name": "stdout",
     "output_type": "stream",
     "text": [
      "2.963687527396253\n",
      "2.9629391596142955\n",
      "Epoch 0, Loss 2.9629392262007284\n",
      "2.9621957497428997\n",
      "2.9614572375573607\n",
      "2.9607235638654887\n",
      "2.9599946704844657\n",
      "2.9592705002183557\n",
      "2.9585509968362254\n",
      "2.9578361050508803\n",
      "2.9571257704981724\n",
      "2.9564199397168833\n"
     ]
    },
    {
     "name": "stderr",
     "output_type": "stream",
     "text": [
      "\r",
      " 18%|█▊        | 18/100 [00:59<03:42,  2.71s/it]"
     ]
    },
    {
     "name": "stdout",
     "output_type": "stream",
     "text": [
      "2.9557185601291485\n",
      "Epoch 0, Loss 2.9557186304891068\n",
      "2.9550215800214015\n",
      "2.9543289485258457\n",
      "2.9536406156024064\n",
      "2.952956532021168\n",
      "2.952276649345272\n",
      "2.95160091991427\n",
      "2.950929296827902\n",
      "2.9502617339303043\n",
      "2.949598185794624\n"
     ]
    },
    {
     "name": "stderr",
     "output_type": "stream",
     "text": [
      "\r",
      " 19%|█▉        | 19/100 [01:02<03:51,  2.86s/it]"
     ]
    },
    {
     "name": "stdout",
     "output_type": "stream",
     "text": [
      "2.9489386077080204\n",
      "Epoch 0, Loss 2.948938681819008\n",
      "2.948282955657065\n",
      "2.9476311863135014\n",
      "2.9469832570203667\n",
      "2.9463391257784703\n",
      "2.9456987512332002\n",
      "2.9450620926616673\n",
      "2.944429109960165\n",
      "2.943799763631935\n",
      "2.9431740147752397\n"
     ]
    },
    {
     "name": "stderr",
     "output_type": "stream",
     "text": [
      "\r",
      " 20%|██        | 20/100 [01:06<04:13,  3.17s/it]"
     ]
    },
    {
     "name": "stdout",
     "output_type": "stream",
     "text": [
      "2.942551825071724\n",
      "Epoch 0, Loss 2.942551902911532\n",
      "2.9419331567750544\n",
      "2.941317972699842\n",
      "2.9407062362108234\n",
      "2.9400979112123085\n",
      "2.9394929621378743\n",
      "2.9388913539403054\n",
      "2.9382930520817716\n",
      "2.937698022524236\n",
      "2.9371062317200862\n"
     ]
    },
    {
     "name": "stderr",
     "output_type": "stream",
     "text": [
      "\r",
      " 21%|██        | 21/100 [01:09<04:02,  3.06s/it]"
     ]
    },
    {
     "name": "stdout",
     "output_type": "stream",
     "text": [
      "2.9365176466029883\n",
      "Epoch 0, Loss 2.9365177281498003\n",
      "2.9359322345789463\n",
      "2.9353499635175724\n",
      "2.9347708017435536\n",
      "2.934194718028318\n",
      "2.933621681581886\n",
      "2.933051662044908\n",
      "2.932484629480883\n",
      "2.931920554368545\n",
      "2.931359407594432\n"
     ]
    },
    {
     "name": "stderr",
     "output_type": "stream",
     "text": [
      "\r",
      " 22%|██▏       | 22/100 [01:11<03:52,  2.98s/it]"
     ]
    },
    {
     "name": "stdout",
     "output_type": "stream",
     "text": [
      "2.930801160445602\n",
      "Epoch 0, Loss 2.9308012456780697\n",
      "2.9302457846025316\n",
      "2.92969325213215\n",
      "2.9291435354810416\n",
      "2.928596607468786\n",
      "2.9280524412814533\n",
      "2.9275110104652255\n",
      "2.9269722889201737\n",
      "2.9264362508941515\n",
      "2.925902870976829\n"
     ]
    },
    {
     "name": "stderr",
     "output_type": "stream",
     "text": [
      "\r",
      " 23%|██▎       | 23/100 [01:15<03:56,  3.08s/it]"
     ]
    },
    {
     "name": "stdout",
     "output_type": "stream",
     "text": [
      "2.9253721240938515\n",
      "Epoch 0, Loss 2.925372212991148\n",
      "2.924843985501119\n",
      "2.9243184307791914\n",
      "2.9237954358278033\n",
      "2.9232749768605037\n",
      "2.922757030399396\n",
      "2.9222415732699996\n",
      "2.9217285825962014\n",
      "2.9212180357953286\n",
      "2.92070991057331\n"
     ]
    },
    {
     "name": "stderr",
     "output_type": "stream",
     "text": [
      "\r",
      " 24%|██▍       | 24/100 [01:19<04:17,  3.38s/it]"
     ]
    },
    {
     "name": "stdout",
     "output_type": "stream",
     "text": [
      "2.9202041849199394\n",
      "Epoch 0, Loss 2.9202042774618\n",
      "2.9197008371042363\n",
      "2.9191998456698993\n",
      "2.9187011894308523\n",
      "2.9182048474668756\n",
      "2.9177107991193316\n",
      "2.917219023986969\n",
      "2.9167295019218127\n",
      "2.916242213025135\n",
      "2.9157571376435025\n"
     ]
    },
    {
     "name": "stderr",
     "output_type": "stream",
     "text": [
      "\r",
      " 25%|██▌       | 25/100 [01:22<04:16,  3.42s/it]"
     ]
    },
    {
     "name": "stdout",
     "output_type": "stream",
     "text": [
      "2.9152742563649086\n",
      "Epoch 0, Loss 2.9152743525316542\n",
      "2.914793550014973\n",
      "2.914314999653216\n",
      "2.91383858656941\n",
      "2.913364292279998\n",
      "2.9128920985245785\n",
      "2.9124219872624613\n",
      "2.911953940669289\n",
      "2.911487941133719\n",
      "2.911023971254172\n"
     ]
    },
    {
     "name": "stderr",
     "output_type": "stream",
     "text": [
      "\r",
      " 26%|██▌       | 26/100 [01:26<04:17,  3.47s/it]"
     ]
    },
    {
     "name": "stdout",
     "output_type": "stream",
     "text": [
      "2.9105620138356345\n",
      "Epoch 0, Loss 2.9105621136081945\n",
      "2.9101020518865384\n",
      "2.909644068615674\n",
      "2.909188047429183\n",
      "2.9087339719275933\n",
      "2.908281825902915\n",
      "2.9078315933357874\n",
      "2.907383258392677\n",
      "2.9069368054231335\n",
      "2.9064922189570854\n"
     ]
    },
    {
     "name": "stderr",
     "output_type": "stream",
     "text": [
      "\r",
      " 27%|██▋       | 27/100 [01:30<04:38,  3.81s/it]"
     ]
    },
    {
     "name": "stdout",
     "output_type": "stream",
     "text": [
      "2.9060494837021924\n",
      "Epoch 0, Loss 2.906049587062113\n",
      "2.905608584541246\n",
      "2.9051695065296075\n",
      "2.904732234892703\n",
      "2.904296755023562\n",
      "2.903863052480388\n",
      "2.903431112984186\n",
      "2.903000922416428\n",
      "2.902572466816757\n",
      "2.9021457323807294\n"
     ]
    },
    {
     "name": "stderr",
     "output_type": "stream",
     "text": [
      "\r",
      " 28%|██▊       | 28/100 [01:34<04:32,  3.78s/it]"
     ]
    },
    {
     "name": "stdout",
     "output_type": "stream",
     "text": [
      "2.9017207054576044\n",
      "Epoch 0, Loss 2.9017208123870577\n",
      "2.9012973725481657\n",
      "2.900875720302583\n",
      "2.9004557355183107\n",
      "2.9000374051380247\n",
      "2.8996207162475867\n",
      "2.899205656074057\n",
      "2.898792211983728\n",
      "2.898380371480199\n"
     ]
    },
    {
     "name": "stderr",
     "output_type": "stream",
     "text": [
      "\r",
      " 29%|██▉       | 29/100 [01:37<04:03,  3.42s/it]"
     ]
    },
    {
     "name": "stdout",
     "output_type": "stream",
     "text": [
      "2.897970122202479\n",
      "2.8975614519231288\n",
      "Epoch 0, Loss 2.8975615624049134\n",
      "2.8971543485464233\n",
      "2.896748800106556\n",
      "2.896344794765864\n",
      "2.8959423208130897\n",
      "2.8955413666616696\n",
      "2.895141920848047\n",
      "2.894743972030018\n",
      "2.8943475089851045\n",
      "2.8939525206089485\n"
     ]
    },
    {
     "name": "stderr",
     "output_type": "stream",
     "text": [
      "\r",
      " 30%|███       | 30/100 [01:40<03:54,  3.36s/it]"
     ]
    },
    {
     "name": "stdout",
     "output_type": "stream",
     "text": [
      "2.8935589959137373\n",
      "Epoch 0, Loss 2.893559109931278\n",
      "2.8931669240266573\n",
      "2.892776294188364\n",
      "2.8923870957514817\n",
      "2.8919993181791335\n",
      "2.89161295104348\n",
      "2.8912279840242987\n",
      "2.890844406907572\n",
      "2.8904622095841064\n",
      "2.8900813820481708\n"
     ]
    },
    {
     "name": "stderr",
     "output_type": "stream",
     "text": [
      "\r",
      " 31%|███       | 31/100 [01:42<03:31,  3.07s/it]"
     ]
    },
    {
     "name": "stdout",
     "output_type": "stream",
     "text": [
      "2.889701914396152\n",
      "Epoch 0, Loss 2.8897020319334965\n",
      "2.8893237968252445\n",
      "2.8889470196321376\n",
      "2.8885715732117565\n",
      "2.8881974480559878\n",
      "2.887824634752449\n",
      "2.887453123983269\n",
      "2.8870829065238848\n",
      "2.8867139732418643\n",
      "2.8863463150957385\n"
     ]
    },
    {
     "name": "stderr",
     "output_type": "stream",
     "text": [
      "\r",
      " 32%|███▏      | 32/100 [01:45<03:27,  3.05s/it]"
     ]
    },
    {
     "name": "stdout",
     "output_type": "stream",
     "text": [
      "2.8859799231338603\n",
      "Epoch 0, Loss 2.885980044175673\n",
      "2.885614788493271\n",
      "2.8852509023985933\n",
      "2.8848882561609375\n",
      "2.884526841176824\n",
      "2.884166648927118\n",
      "2.8838076709759908\n",
      "2.8834498989698867\n",
      "2.8830933246365116\n",
      "2.88273793978383\n"
     ]
    },
    {
     "name": "stderr",
     "output_type": "stream",
     "text": [
      "\r",
      " 33%|███▎      | 33/100 [01:48<03:17,  2.95s/it]"
     ]
    },
    {
     "name": "stdout",
     "output_type": "stream",
     "text": [
      "2.8823837362990865\n",
      "Epoch 0, Loss 2.88238386083064\n",
      "2.882030706147832\n",
      "2.8816788413729735\n",
      "2.8813281340938284\n",
      "2.8809785765052016\n",
      "2.880630160876472\n",
      "2.880282879550688\n",
      "2.879936724943689\n",
      "2.879591689543223\n",
      "2.879247765908092\n"
     ]
    },
    {
     "name": "stderr",
     "output_type": "stream",
     "text": [
      "\r",
      " 34%|███▍      | 34/100 [01:51<03:19,  3.02s/it]"
     ]
    },
    {
     "name": "stdout",
     "output_type": "stream",
     "text": [
      "2.878904946667301\n",
      "Epoch 0, Loss 2.878905074674468\n",
      "2.87856322451922\n",
      "2.8782225922307636\n",
      "2.877883042636577\n",
      "2.8775445686382324\n",
      "2.8772071632034444\n",
      "2.8768708193652874\n",
      "2.876535530221434\n",
      "2.876201288933394\n",
      "2.8758680887257713\n"
     ]
    },
    {
     "name": "stderr",
     "output_type": "stream",
     "text": [
      "\r",
      " 35%|███▌      | 35/100 [01:54<03:16,  3.02s/it]"
     ]
    },
    {
     "name": "stdout",
     "output_type": "stream",
     "text": [
      "2.875535922885526\n",
      "Epoch 0, Loss 2.875536054354769\n",
      "2.875204784761258\n",
      "2.874874667762483\n",
      "2.8745455653589316\n",
      "2.874217471079859\n",
      "2.8738903785133525\n",
      "2.873564281305662\n",
      "2.8732391731605316\n",
      "2.8729150478385446\n",
      "2.8725918991564714\n"
     ]
    },
    {
     "name": "stderr",
     "output_type": "stream",
     "text": [
      "\r",
      " 36%|███▌      | 36/100 [01:57<03:04,  2.89s/it]"
     ]
    },
    {
     "name": "stdout",
     "output_type": "stream",
     "text": [
      "2.872269720986635\n",
      "Epoch 0, Loss 2.8722698559049937\n",
      "2.871948507256281\n",
      "2.8716282519469516\n",
      "2.8713089490938786\n",
      "2.8709905927853723\n",
      "2.87067317716223\n",
      "2.870356696417146\n",
      "2.8700411447941305\n",
      "2.869726516587939\n",
      "2.8694128061435027\n"
     ]
    },
    {
     "name": "stderr",
     "output_type": "stream",
     "text": [
      "\r",
      " 37%|███▋      | 37/100 [01:59<02:45,  2.62s/it]"
     ]
    },
    {
     "name": "stdout",
     "output_type": "stream",
     "text": [
      "2.8691000078553763\n",
      "Epoch 0, Loss 2.869100146210456\n",
      "2.8687881161671864\n",
      "2.868477125571087\n",
      "2.8681670306072253\n",
      "2.867857825863216\n",
      "2.8675495059736145\n",
      "2.8672420656194078\n",
      "2.8669354995275036\n",
      "2.8666298024702312\n",
      "2.866324969264845\n"
     ]
    },
    {
     "name": "stderr",
     "output_type": "stream",
     "text": [
      "\r",
      " 38%|███▊      | 38/100 [02:02<02:45,  2.68s/it]"
     ]
    },
    {
     "name": "stdout",
     "output_type": "stream",
     "text": [
      "2.8660209947730397\n",
      "Epoch 0, Loss 2.8660211365529977\n",
      "2.8657178739004654\n",
      "2.8654156015962537\n",
      "2.8651141728525493\n",
      "2.864813582704047\n",
      "2.8645138262275323\n",
      "2.864214898541431\n",
      "2.8639167948053688\n",
      "2.8636195102197233\n",
      "2.8633230400251963\n"
     ]
    },
    {
     "name": "stderr",
     "output_type": "stream",
     "text": [
      "\r",
      " 39%|███▉      | 39/100 [02:05<02:56,  2.90s/it]"
     ]
    },
    {
     "name": "stdout",
     "output_type": "stream",
     "text": [
      "2.863027379502382\n",
      "Epoch 0, Loss 2.863027524695915\n",
      "2.862732523971347\n",
      "2.8624384687912086\n",
      "2.862145209359725\n",
      "2.8618527411128905\n",
      "2.861561059524527\n",
      "2.861270160105894\n",
      "2.8609800384052924\n",
      "2.860690690007678\n",
      "2.8604021105342827\n"
     ]
    },
    {
     "name": "stderr",
     "output_type": "stream",
     "text": [
      "\r",
      " 40%|████      | 40/100 [02:08<02:46,  2.78s/it]"
     ]
    },
    {
     "name": "stdout",
     "output_type": "stream",
     "text": [
      "2.8601142956422314\n",
      "Epoch 0, Loss 2.86011444423856\n",
      "2.8598272410241736\n",
      "2.8595409424079157\n",
      "2.859255395556054\n",
      "2.858970596265617\n",
      "2.8586865403677155\n",
      "2.8584032237271835\n",
      "2.8581206422422416\n",
      "2.8578387918441486\n",
      "2.8575576684968675\n"
     ]
    },
    {
     "name": "stderr",
     "output_type": "stream",
     "text": [
      "\r",
      " 41%|████      | 41/100 [02:11<02:47,  2.85s/it]"
     ]
    },
    {
     "name": "stdout",
     "output_type": "stream",
     "text": [
      "2.85727726819673\n",
      "Epoch 0, Loss 2.8572774201855857\n",
      "2.856997586972111\n",
      "2.8567186208830986\n",
      "2.856440366021178\n",
      "2.856162818508906\n",
      "2.855885974499607\n",
      "2.85560983017706\n",
      "2.855334381755186\n",
      "2.8550596254777574\n",
      "2.854785557618088\n"
     ]
    },
    {
     "name": "stderr",
     "output_type": "stream",
     "text": [
      "\r",
      " 42%|████▏     | 42/100 [02:14<02:50,  2.94s/it]"
     ]
    },
    {
     "name": "stdout",
     "output_type": "stream",
     "text": [
      "2.8545121744787445\n",
      "Epoch 0, Loss 2.8545123298503556\n",
      "2.854239472391255\n",
      "2.8539674477158172\n",
      "2.8536960968410154\n",
      "2.8534254161835393\n",
      "2.8531554021879066\n",
      "2.8528860513261876\n",
      "2.8526173600977334\n",
      "2.852349325028908\n",
      "2.852081942672823\n"
     ]
    },
    {
     "name": "stderr",
     "output_type": "stream",
     "text": [
      "\r",
      " 43%|████▎     | 43/100 [02:17<02:52,  3.02s/it]"
     ]
    },
    {
     "name": "stdout",
     "output_type": "stream",
     "text": [
      "2.8518152096090774\n",
      "Epoch 0, Loss 2.8518153683541527\n",
      "2.851549122443494\n",
      "2.851283677807868\n",
      "2.8510188723597136\n",
      "2.8507547027820106\n",
      "2.850491165782961\n",
      "2.850228258095743\n",
      "2.849965976478271\n",
      "2.849704317712954\n",
      "2.849443278606463\n"
     ]
    },
    {
     "name": "stderr",
     "output_type": "stream",
     "text": [
      "\r",
      " 44%|████▍     | 44/100 [02:20<02:45,  2.95s/it]"
     ]
    },
    {
     "name": "stdout",
     "output_type": "stream",
     "text": [
      "2.849182855989497\n",
      "Epoch 0, Loss 2.8491830180992124\n",
      "2.8489230467165507\n",
      "2.8486638476656885\n",
      "2.8484052557383186\n",
      "2.8481472678589714\n",
      "2.8478898809750786\n",
      "2.847633092056753\n",
      "2.8473768980965795\n",
      "2.8471212961093957\n"
     ]
    },
    {
     "name": "stderr",
     "output_type": "stream",
     "text": [
      "\r",
      " 45%|████▌     | 45/100 [02:22<02:33,  2.79s/it]"
     ]
    },
    {
     "name": "stdout",
     "output_type": "stream",
     "text": [
      "2.846866283132087\n",
      "2.846611856223373\n",
      "Epoch 0, Loss 2.8466120216893565\n",
      "2.8463580124636105\n",
      "2.8461047489545783\n",
      "2.845852062819289\n",
      "2.8455999512017796\n",
      "2.8453484112669227\n",
      "2.8450974402002274\n",
      "2.844847035207647\n",
      "2.844597193515395\n",
      "2.8443479123697477\n"
     ]
    },
    {
     "name": "stderr",
     "output_type": "stream",
     "text": [
      "\r",
      " 46%|████▌     | 46/100 [02:25<02:27,  2.73s/it]"
     ]
    },
    {
     "name": "stdout",
     "output_type": "stream",
     "text": [
      "2.8440991890368674\n",
      "Epoch 0, Loss 2.8440993578511846\n",
      "2.843851020802614\n",
      "2.8436034049723617\n",
      "2.8433563388708247\n",
      "2.8431098198418745\n",
      "2.842863845248366\n",
      "2.842618412471963\n",
      "2.842373518912968\n",
      "2.8421291619901505\n",
      "2.841885339140578\n"
     ]
    },
    {
     "name": "stderr",
     "output_type": "stream",
     "text": [
      "\r",
      " 47%|████▋     | 47/100 [02:28<02:33,  2.90s/it]"
     ]
    },
    {
     "name": "stdout",
     "output_type": "stream",
     "text": [
      "2.8416420478194517\n",
      "Epoch 0, Loss 2.841642219974591\n",
      "2.8413992854999393\n",
      "2.8411570496730163\n",
      "2.8409153378472998\n",
      "2.8406741475488935\n",
      "2.8404334763212256\n",
      "2.8401933217248994\n",
      "2.839953681337532\n",
      "2.8397145527536067\n",
      "2.83947593358432\n"
     ]
    },
    {
     "name": "stderr",
     "output_type": "stream",
     "text": [
      "\r",
      " 48%|████▊     | 48/100 [02:31<02:30,  2.90s/it]"
     ]
    },
    {
     "name": "stdout",
     "output_type": "stream",
     "text": [
      "2.8392378214574316\n",
      "Epoch 0, Loss 2.8392379969462906\n",
      "2.839000214017121\n",
      "2.8387631089238328\n",
      "2.8385265038541423\n",
      "2.8382903965006054\n",
      "2.8380547845716175\n",
      "2.837819665791278\n",
      "2.8375850378992475\n",
      "2.837350898650613\n",
      "2.837117245815749\n"
     ]
    },
    {
     "name": "stderr",
     "output_type": "stream",
     "text": [
      "\r",
      " 49%|████▉     | 49/100 [02:34<02:34,  3.02s/it]"
     ]
    },
    {
     "name": "stdout",
     "output_type": "stream",
     "text": [
      "2.836884077180187\n",
      "Epoch 0, Loss 2.836884255996057\n",
      "2.836651390544482\n",
      "2.8364191837240793\n",
      "2.8361874545491856\n",
      "2.8359562008646404\n",
      "2.835725420529787\n",
      "2.8354951114183504\n",
      "2.835265271418309\n",
      "2.835035898431771\n",
      "2.8348069903748545\n"
     ]
    },
    {
     "name": "stderr",
     "output_type": "stream",
     "text": [
      "\r",
      " 50%|█████     | 50/100 [02:37<02:27,  2.96s/it]"
     ]
    },
    {
     "name": "stdout",
     "output_type": "stream",
     "text": [
      "2.834578545177566\n",
      "Epoch 0, Loss 2.834578727314119\n",
      "2.834350560783679\n",
      "2.8341230351506197\n",
      "2.833895966249344\n",
      "2.833669352064226\n",
      "2.833443190592943\n",
      "2.833217479846358\n",
      "2.8329922178484126\n",
      "2.8327674026360117\n",
      "2.8325430322589162\n"
     ]
    },
    {
     "name": "stderr",
     "output_type": "stream",
     "text": [
      "\r",
      " 51%|█████     | 51/100 [02:40<02:21,  2.88s/it]"
     ]
    },
    {
     "name": "stdout",
     "output_type": "stream",
     "text": [
      "2.8323191047796294\n",
      "Epoch 0, Loss 2.832319290230906\n",
      "2.832095618273296\n",
      "2.831872570827589\n",
      "2.8316499605426064\n",
      "2.8314277855307686\n",
      "2.8312060439167097\n",
      "2.8309847338371803\n",
      "2.830763853440942\n",
      "2.83054340088867\n"
     ]
    },
    {
     "name": "stderr",
     "output_type": "stream",
     "text": [
      "\r",
      " 52%|█████▏    | 52/100 [02:42<02:11,  2.74s/it]"
     ]
    },
    {
     "name": "stdout",
     "output_type": "stream",
     "text": [
      "2.8303233743528495\n",
      "2.8301037720176825\n",
      "Epoch 0, Loss 2.8301039607780756\n",
      "2.829884592078985\n",
      "2.8296658327440944\n",
      "2.8294474922317723\n",
      "2.8292295687721083\n",
      "2.82901206060643\n",
      "2.828794965987208\n",
      "2.8285782831779613\n",
      "2.828362010453173\n",
      "2.828146146098193\n"
     ]
    },
    {
     "name": "stderr",
     "output_type": "stream",
     "text": [
      "\r",
      " 53%|█████▎    | 53/100 [02:45<02:15,  2.88s/it]"
     ]
    },
    {
     "name": "stdout",
     "output_type": "stream",
     "text": [
      "2.8279306884091557\n",
      "Epoch 0, Loss 2.8279308804733994\n",
      "2.827715635692886\n",
      "2.827500986266814\n",
      "2.827286738458892\n",
      "2.827072890607499\n",
      "2.82685944106137\n",
      "2.826646388179498\n",
      "2.82643373033106\n",
      "2.826221465895332\n",
      "2.8260095932616043\n"
     ]
    },
    {
     "name": "stderr",
     "output_type": "stream",
     "text": [
      "\r",
      " 54%|█████▍    | 54/100 [02:48<02:12,  2.88s/it]"
     ]
    },
    {
     "name": "stdout",
     "output_type": "stream",
     "text": [
      "2.8257981108291057\n",
      "Epoch 0, Loss 2.8257983061922616\n",
      "2.8255870170069204\n",
      "2.82537631021391\n",
      "2.8251659888786342\n",
      "2.8249560514392726\n",
      "2.8247464963435487\n",
      "2.824537322048655\n",
      "2.8243285270211738\n",
      "2.8241201097370063\n",
      "2.8239120686812957\n"
     ]
    },
    {
     "name": "stderr",
     "output_type": "stream",
     "text": [
      "\r",
      " 55%|█████▌    | 55/100 [02:51<02:09,  2.89s/it]"
     ]
    },
    {
     "name": "stdout",
     "output_type": "stream",
     "text": [
      "2.823704402348355\n",
      "Epoch 0, Loss 2.8237046010058005\n",
      "2.8234971092415946\n",
      "2.823290187873451\n",
      "2.823083636765311\n",
      "2.82287745444745\n",
      "2.822671639458952\n",
      "2.822466190347648\n",
      "2.822261105670042\n",
      "2.822056383991248\n",
      "2.8218520238849187\n"
     ]
    },
    {
     "name": "stderr",
     "output_type": "stream",
     "text": [
      "\r",
      " 56%|█████▌    | 56/100 [02:54<02:09,  2.95s/it]"
     ]
    },
    {
     "name": "stdout",
     "output_type": "stream",
     "text": [
      "2.8216480239331805\n",
      "Epoch 0, Loss 2.8216482258805966\n",
      "2.821444382726567\n",
      "2.8212410988639536\n",
      "2.821038170952494\n",
      "2.820835597607555\n",
      "2.8206333774526504\n",
      "2.820431509119383\n",
      "2.8202299912473774\n",
      "2.8200288224842223\n",
      "2.8198280014854054\n"
     ]
    },
    {
     "name": "stderr",
     "output_type": "stream",
     "text": [
      "\r",
      " 57%|█████▋    | 57/100 [02:57<02:04,  2.90s/it]"
     ]
    },
    {
     "name": "stdout",
     "output_type": "stream",
     "text": [
      "2.8196275269142546\n",
      "Epoch 0, Loss 2.8196277321476138\n",
      "2.81942739744188\n",
      "2.8192276117471082\n",
      "2.8190281685164327\n",
      "2.8188290664439433\n",
      "2.818630304231279\n",
      "2.818431880587566\n",
      "2.8182337942293585\n",
      "2.818036043880589\n",
      "2.8178386282725043\n"
     ]
    },
    {
     "name": "stderr",
     "output_type": "stream",
     "text": [
      "\r",
      " 58%|█████▊    | 58/100 [03:00<01:56,  2.78s/it]"
     ]
    },
    {
     "name": "stdout",
     "output_type": "stream",
     "text": [
      "2.8176415461436175\n",
      "Epoch 0, Loss 2.817641754659173\n",
      "2.8174447962396485\n",
      "2.8172483773134704\n",
      "2.817052288125059\n",
      "2.8168565274414332\n",
      "2.8166610940366086\n",
      "2.8164659866915427\n",
      "2.8162712041940803\n",
      "2.816076745338906\n",
      "2.815882608927489\n"
     ]
    },
    {
     "name": "stderr",
     "output_type": "stream",
     "text": [
      "\r",
      " 59%|█████▉    | 59/100 [03:02<01:53,  2.76s/it]"
     ]
    },
    {
     "name": "stdout",
     "output_type": "stream",
     "text": [
      "2.815688793768042\n",
      "Epoch 0, Loss 2.8156890055623163\n",
      "2.815495298675457\n",
      "2.8153021224712664\n",
      "2.8151092639835906\n",
      "2.814916722047088\n",
      "2.81472449550291\n",
      "2.8145325831986483\n",
      "2.8143409839882945\n",
      "2.8141496967321853\n",
      "2.81395872029696\n"
     ]
    },
    {
     "name": "stderr",
     "output_type": "stream",
     "text": [
      "\r",
      " 60%|██████    | 60/100 [03:06<02:02,  3.07s/it]"
     ]
    },
    {
     "name": "stdout",
     "output_type": "stream",
     "text": [
      "2.8137680535555143\n",
      "Epoch 0, Loss 2.813768268625288\n",
      "2.8135776953869565\n",
      "2.8133876446765558\n",
      "2.8131979003157044\n",
      "2.8130084612018686\n",
      "2.812819326238547\n",
      "2.8126304943352247\n",
      "2.812441964407331\n",
      "2.8122537353761974\n",
      "2.812065806169014\n"
     ]
    },
    {
     "name": "stderr",
     "output_type": "stream",
     "text": [
      "\r",
      " 61%|██████    | 61/100 [03:08<01:49,  2.81s/it]"
     ]
    },
    {
     "name": "stdout",
     "output_type": "stream",
     "text": [
      "2.8118781757187854\n",
      "Epoch 0, Loss 2.811878394061088\n",
      "2.811690842964292\n",
      "2.8115038068500486\n",
      "2.811317066326258\n",
      "2.8111306203487794\n",
      "2.8109444678790774\n",
      "2.810758607884191\n",
      "2.8105730393366875\n",
      "2.8103877612146277\n",
      "2.8102027725015235\n"
     ]
    },
    {
     "name": "stderr",
     "output_type": "stream",
     "text": [
      "\r",
      " 62%|██████▏   | 62/100 [03:11<01:43,  2.72s/it]"
     ]
    },
    {
     "name": "stdout",
     "output_type": "stream",
     "text": [
      "2.8100180721863013\n",
      "Epoch 0, Loss 2.8100182937984006\n",
      "2.809833659263263\n",
      "2.8096495327320468\n",
      "2.809465691597592\n",
      "2.8092821348700987\n",
      "2.8090988615649946\n",
      "2.8089158707028927\n",
      "2.80873316130956\n",
      "2.80855073241588\n",
      "2.808368583057816\n"
     ]
    },
    {
     "name": "stderr",
     "output_type": "stream",
     "text": [
      "\r",
      " 63%|██████▎   | 63/100 [03:13<01:39,  2.68s/it]"
     ]
    },
    {
     "name": "stdout",
     "output_type": "stream",
     "text": [
      "2.808186712276375\n",
      "Epoch 0, Loss 2.8081869371557677\n",
      "2.8080051191175732\n",
      "2.807823802632404\n",
      "2.8076427618767985\n",
      "2.807461995911593\n",
      "2.807281503802499\n",
      "2.8071012846200616\n",
      "2.8069213374396322\n",
      "2.806741661341335\n",
      "2.8065622554100313\n"
     ]
    },
    {
     "name": "stderr",
     "output_type": "stream",
     "text": [
      "\r",
      " 64%|██████▍   | 64/100 [03:17<01:46,  2.95s/it]"
     ]
    },
    {
     "name": "stdout",
     "output_type": "stream",
     "text": [
      "2.8063831187352877\n",
      "Epoch 0, Loss 2.80638334687969\n",
      "2.806204250411346\n",
      "2.806025649537088\n",
      "2.805847315216007\n",
      "2.8056692465561723\n",
      "2.8054914426702022\n",
      "2.8053139026752296\n",
      "2.805136625692873\n",
      "2.8049596108492074\n",
      "2.8047828572747284\n"
     ]
    },
    {
     "name": "stderr",
     "output_type": "stream",
     "text": [
      "\r",
      " 65%|██████▌   | 65/100 [03:20<01:41,  2.89s/it]"
     ]
    },
    {
     "name": "stdout",
     "output_type": "stream",
     "text": [
      "2.8046063641043313\n",
      "Epoch 0, Loss 2.80460659551167\n",
      "2.804430130477271\n",
      "2.8042541555371416\n",
      "2.8040784384318425\n",
      "2.8039029783135487\n",
      "2.803727774338686\n",
      "2.803552825667898\n",
      "2.803378131466021\n",
      "2.8032036909020555\n",
      "2.8030295031491357\n"
     ]
    },
    {
     "name": "stderr",
     "output_type": "stream",
     "text": [
      "\r",
      " 66%|██████▌   | 66/100 [03:22<01:37,  2.86s/it]"
     ]
    },
    {
     "name": "stdout",
     "output_type": "stream",
     "text": [
      "2.802855567384505\n",
      "Epoch 0, Loss 2.8028558020529077\n",
      "2.802681882789489\n",
      "2.8025084485494647\n",
      "2.8023352638538377\n",
      "2.8021623278960117\n",
      "2.8019896398733666\n",
      "2.8018171989872265\n",
      "2.8016450044428405\n",
      "2.8014730554493488\n",
      "2.801301351219765\n"
     ]
    },
    {
     "name": "stderr",
     "output_type": "stream",
     "text": [
      "\r",
      " 67%|██████▋   | 67/100 [03:25<01:32,  2.79s/it]"
     ]
    },
    {
     "name": "stdout",
     "output_type": "stream",
     "text": [
      "2.801129890970945\n",
      "Epoch 0, Loss 2.801130128898735\n",
      "2.800958673923564\n",
      "2.8007876993020933\n",
      "2.8006169663347715\n",
      "2.8004464742535813\n",
      "2.800276222294228\n",
      "2.800106209696112\n",
      "2.7999364357023047\n",
      "2.799766899559528\n",
      "2.7995976005181262\n"
     ]
    },
    {
     "name": "stderr",
     "output_type": "stream",
     "text": [
      "\r",
      " 68%|██████▊   | 68/100 [03:27<01:25,  2.66s/it]"
     ]
    },
    {
     "name": "stdout",
     "output_type": "stream",
     "text": [
      "2.7994285378320445\n",
      "Epoch 0, Loss 2.799428779017729\n",
      "2.799259710758809\n",
      "2.7990911185594975\n",
      "2.798922760498722\n",
      "2.7987546358446003\n",
      "2.7985867438687397\n",
      "2.798419083846212\n",
      "2.7982516550555308\n",
      "2.7980844567786276\n"
     ]
    },
    {
     "name": "stderr",
     "output_type": "stream",
     "text": [
      "\r",
      " 69%|██████▉   | 69/100 [03:30<01:17,  2.49s/it]"
     ]
    },
    {
     "name": "stdout",
     "output_type": "stream",
     "text": [
      "2.797917488300835\n",
      "2.7977507489108593\n",
      "Epoch 0, Loss 2.797750993353124\n",
      "2.797584237900766\n",
      "2.797417954565951\n",
      "2.7972518982051224\n",
      "2.7970860681202843\n",
      "2.796920463616707\n",
      "2.7967550840029136\n",
      "2.796589928590656\n",
      "2.7964249966948955\n",
      "2.7962602876337823\n"
     ]
    },
    {
     "name": "stderr",
     "output_type": "stream",
     "text": [
      "\r",
      " 70%|███████   | 70/100 [03:33<01:21,  2.71s/it]"
     ]
    },
    {
     "name": "stdout",
     "output_type": "stream",
     "text": [
      "2.7960958007286383\n",
      "Epoch 0, Loss 2.7960960484263393\n",
      "2.7959315353039296\n",
      "2.795767490687257\n",
      "2.795603666209328\n",
      "2.795440061203943\n",
      "2.7952766750079716\n",
      "2.7951135069613375\n",
      "2.7949505564069965\n",
      "2.7947878226909197\n",
      "2.794625305162074\n"
     ]
    },
    {
     "name": "stderr",
     "output_type": "stream",
     "text": [
      "\r",
      " 71%|███████   | 71/100 [03:35<01:17,  2.67s/it]"
     ]
    },
    {
     "name": "stdout",
     "output_type": "stream",
     "text": [
      "2.794463003172402\n",
      "Epoch 0, Loss 2.7944632541245595\n",
      "2.794300916076808\n",
      "2.794139043233133\n",
      "2.793977384002145\n",
      "2.7938159377475134\n",
      "2.7936547038357964\n",
      "2.7934936816364195\n",
      "2.7933328705216587\n",
      "2.7931722698666297\n",
      "2.793011879049258\n"
     ]
    },
    {
     "name": "stderr",
     "output_type": "stream",
     "text": [
      "\r",
      " 72%|███████▏  | 72/100 [03:38<01:12,  2.59s/it]"
     ]
    },
    {
     "name": "stdout",
     "output_type": "stream",
     "text": [
      "2.7928516974502737\n",
      "Epoch 0, Loss 2.7928519516560644\n",
      "2.792691724453186\n",
      "2.792531959444271\n",
      "2.792372401812556\n",
      "2.792213050949797\n",
      "2.792053906250468\n",
      "2.7918949671117406\n",
      "2.791736232933471\n",
      "2.7915777031181817\n",
      "2.7914193770710463\n"
     ]
    },
    {
     "name": "stderr",
     "output_type": "stream",
     "text": [
      "\r",
      " 73%|███████▎  | 73/100 [03:42<01:22,  3.05s/it]"
     ]
    },
    {
     "name": "stdout",
     "output_type": "stream",
     "text": [
      "2.791261254199873\n",
      "Epoch 0, Loss 2.7912615116586235\n",
      "2.791103333915089\n",
      "2.7909456156297243\n",
      "2.7907880987593994\n",
      "2.7906307827223036\n",
      "2.7904736669391865\n",
      "2.7903167508333375\n",
      "2.790160033830573\n",
      "2.790003515359225\n",
      "2.7898471948501165\n"
     ]
    },
    {
     "name": "stderr",
     "output_type": "stream",
     "text": [
      "\r",
      " 74%|███████▍  | 74/100 [03:46<01:29,  3.45s/it]"
     ]
    },
    {
     "name": "stdout",
     "output_type": "stream",
     "text": [
      "2.7896910717365553\n",
      "Epoch 0, Loss 2.7896913324477364\n",
      "2.789535145454317\n",
      "2.7893794154416307\n",
      "2.7892238811391628\n",
      "2.789068541990003\n",
      "2.788913397439655\n",
      "2.788758446936012\n",
      "2.7886036899293547\n",
      "2.788449125872329\n"
     ]
    },
    {
     "name": "stderr",
     "output_type": "stream",
     "text": [
      "\r",
      " 75%|███████▌  | 75/100 [03:50<01:28,  3.52s/it]"
     ]
    },
    {
     "name": "stdout",
     "output_type": "stream",
     "text": [
      "2.7882947542199337\n",
      "2.7881405744295105\n",
      "Epoch 0, Loss 2.7881408383927306\n",
      "2.787986585960726\n",
      "2.7878327882755602\n",
      "2.7876791808382935\n",
      "2.7875257631154926\n",
      "2.7873725345759954\n",
      "2.787219494690903\n",
      "2.7870666429335604\n",
      "2.7869139787795474\n",
      "2.786761501706668\n"
     ]
    },
    {
     "name": "stderr",
     "output_type": "stream",
     "text": [
      "\r",
      " 76%|███████▌  | 76/100 [03:53<01:18,  3.28s/it]"
     ]
    },
    {
     "name": "stdout",
     "output_type": "stream",
     "text": [
      "2.78660921119493\n",
      "Epoch 0, Loss 2.7866094784099302\n",
      "2.786457106726539\n",
      "2.786305187785885\n",
      "2.786153453859527\n",
      "2.7860019044361812\n",
      "2.7858505390067134\n",
      "2.7856993570641193\n",
      "2.7855483581035183\n",
      "2.785397541622139\n",
      "2.7852469071193062\n"
     ]
    },
    {
     "name": "stderr",
     "output_type": "stream",
     "text": [
      "\r",
      " 77%|███████▋  | 77/100 [03:56<01:17,  3.37s/it]"
     ]
    },
    {
     "name": "stdout",
     "output_type": "stream",
     "text": [
      "2.7850964540964323\n",
      "Epoch 0, Loss 2.7850967245630804\n",
      "2.7849461820570034\n",
      "2.7847960905065667\n",
      "2.78464617895272\n",
      "2.7844964469051012\n",
      "2.7843468938753744\n",
      "2.7841975193772206\n",
      "2.784048322926326\n",
      "2.7838993040403697\n",
      "2.783750462239014\n"
     ]
    },
    {
     "name": "stderr",
     "output_type": "stream",
     "text": [
      "\r",
      " 78%|███████▊  | 78/100 [03:59<01:11,  3.26s/it]"
     ]
    },
    {
     "name": "stdout",
     "output_type": "stream",
     "text": [
      "2.783601797043892\n",
      "Epoch 0, Loss 2.783602070762177\n",
      "2.7834533079785966\n",
      "2.7833049945686716\n",
      "2.783156856341599\n",
      "2.7830088928267873\n",
      "2.7828611035555655\n",
      "2.7827134880611655\n",
      "2.7825660458787187\n",
      "2.7824187765452377\n",
      "2.782271679599616\n"
     ]
    },
    {
     "name": "stderr",
     "output_type": "stream",
     "text": [
      "\r",
      " 79%|███████▉  | 79/100 [04:02<01:04,  3.07s/it]"
     ]
    },
    {
     "name": "stdout",
     "output_type": "stream",
     "text": [
      "2.782124754582607\n",
      "Epoch 0, Loss 2.7821250315526345\n",
      "2.781978001036821\n",
      "2.7818314185067137\n",
      "2.781685006538572\n",
      "2.7815387646805094\n",
      "2.7813926924824552\n",
      "2.7812467894961395\n",
      "2.7811010552750894\n",
      "2.780955489374617\n",
      "2.7808100913518086\n"
     ]
    },
    {
     "name": "stderr",
     "output_type": "stream",
     "text": [
      "\r",
      " 80%|████████  | 80/100 [04:06<01:06,  3.34s/it]"
     ]
    },
    {
     "name": "stdout",
     "output_type": "stream",
     "text": [
      "2.7806648607655142\n",
      "Epoch 0, Loss 2.7806651409875007\n",
      "2.780519797176345\n",
      "2.780374900146654\n",
      "2.7802301692405322\n",
      "2.780085604023799\n",
      "2.779941204063993\n",
      "2.7797969689303588\n",
      "2.779652898193845\n",
      "2.7795089914270874\n",
      "2.7793652482044053\n"
     ]
    },
    {
     "name": "stderr",
     "output_type": "stream",
     "text": [
      "\r",
      " 81%|████████  | 81/100 [04:09<01:03,  3.36s/it]"
     ]
    },
    {
     "name": "stdout",
     "output_type": "stream",
     "text": [
      "2.7792216681017905\n",
      "Epoch 0, Loss 2.77922195157606\n",
      "2.779078250696899\n",
      "2.7789349955690406\n",
      "2.778791902299171\n",
      "2.7786489704698862\n",
      "2.778506199665406\n",
      "2.7783635894715752\n",
      "2.7782211394758463\n",
      "2.7780788492672763\n",
      "2.777936718436518\n"
     ]
    },
    {
     "name": "stderr",
     "output_type": "stream",
     "text": [
      "\r",
      " 82%|████████▏ | 82/100 [04:12<00:59,  3.31s/it]"
     ]
    },
    {
     "name": "stdout",
     "output_type": "stream",
     "text": [
      "2.7777947465758053\n",
      "Epoch 0, Loss 2.7777950333027843\n",
      "2.777652933278956\n",
      "2.7775112781413522\n",
      "2.777369780759941\n",
      "2.77722844073322\n",
      "2.7770872576612313\n",
      "2.776946231145556\n",
      "2.776805360789302\n",
      "2.7766646461970965\n",
      "2.7765240869750847\n"
     ]
    },
    {
     "name": "stderr",
     "output_type": "stream",
     "text": [
      "\r",
      " 83%|████████▎ | 83/100 [04:15<00:52,  3.07s/it]"
     ]
    },
    {
     "name": "stdout",
     "output_type": "stream",
     "text": [
      "2.77638368273091\n",
      "Epoch 0, Loss 2.776383972711123\n",
      "2.7762434330737182\n",
      "2.7761033376141415\n",
      "2.775963395964295\n",
      "2.7758236077377667\n",
      "2.7756839725496123\n",
      "2.775544490016345\n",
      "2.775405159755929\n",
      "2.775265981387774\n",
      "2.775126954532723\n"
     ]
    },
    {
     "name": "stderr",
     "output_type": "stream",
     "text": [
      "\r",
      " 84%|████████▍ | 84/100 [04:17<00:45,  2.87s/it]"
     ]
    },
    {
     "name": "stdout",
     "output_type": "stream",
     "text": [
      "2.774988078813052\n",
      "Epoch 0, Loss 2.774988372047118\n",
      "2.774849353852455\n",
      "2.7747107792760426\n",
      "2.7745723547103327\n",
      "2.7744340797832394\n",
      "2.7742959541240744\n",
      "2.774157977363533\n",
      "2.7740201491336887\n",
      "2.773882469067988\n",
      "2.77374493680124\n"
     ]
    },
    {
     "name": "stderr",
     "output_type": "stream",
     "text": [
      "\r",
      " 85%|████████▌ | 85/100 [04:20<00:41,  2.76s/it]"
     ]
    },
    {
     "name": "stdout",
     "output_type": "stream",
     "text": [
      "2.773607551969615\n",
      "Epoch 0, Loss 2.773607848458243\n",
      "2.7734703142106314\n",
      "2.7733332231631525\n",
      "2.773196278467378\n",
      "2.7730594797648407\n",
      "2.772922826698395\n",
      "2.772786318912214\n",
      "2.7726499560517808\n",
      "2.7725137377638824\n",
      "2.772377663696603\n"
     ]
    },
    {
     "name": "stderr",
     "output_type": "stream",
     "text": [
      "\r",
      " 86%|████████▌ | 86/100 [04:24<00:42,  3.07s/it]"
     ]
    },
    {
     "name": "stdout",
     "output_type": "stream",
     "text": [
      "2.77224173349932\n",
      "Epoch 0, Loss 2.772242033243306\n",
      "2.7721059468226934\n",
      "2.7719703033186622\n",
      "2.771834802640437\n",
      "2.7716994444424943\n",
      "2.7715642283805693\n",
      "2.771429154111652\n",
      "2.771294221293976\n",
      "2.77115942958702\n",
      "2.7710247786514937\n"
     ]
    },
    {
     "name": "stderr",
     "output_type": "stream",
     "text": [
      "\r",
      " 87%|████████▋ | 87/100 [04:27<00:40,  3.08s/it]"
     ]
    },
    {
     "name": "stdout",
     "output_type": "stream",
     "text": [
      "2.7708902681493357\n",
      "Epoch 0, Loss 2.7708905711495584\n",
      "2.7707558977437103\n",
      "2.7706216670989927\n",
      "2.7704875758807734\n",
      "2.7703536237558466\n",
      "2.770219810392202\n",
      "2.770086135459026\n",
      "2.76995259862669\n",
      "2.7698191995667463\n",
      "2.7696859379519236\n"
     ]
    },
    {
     "name": "stderr",
     "output_type": "stream",
     "text": [
      "\r",
      " 88%|████████▊ | 88/100 [04:30<00:37,  3.12s/it]"
     ]
    },
    {
     "name": "stdout",
     "output_type": "stream",
     "text": [
      "2.76955281345612\n",
      "Epoch 0, Loss 2.769553119713538\n",
      "2.7694198257543974\n",
      "2.7692869745229762\n",
      "2.76915425943923\n",
      "2.7690216801816785\n",
      "2.768889236429983\n",
      "2.768756927864944\n",
      "2.7686247541684885\n",
      "2.7684927150236707\n",
      "2.7683608101146655\n"
     ]
    },
    {
     "name": "stderr",
     "output_type": "stream",
     "text": [
      "\r",
      " 89%|████████▉ | 89/100 [04:33<00:35,  3.23s/it]"
     ]
    },
    {
     "name": "stdout",
     "output_type": "stream",
     "text": [
      "2.76822903912676\n",
      "Epoch 0, Loss 2.768229348642409\n",
      "2.768097401746352\n",
      "2.7679658976609436\n",
      "2.7678345265591333\n",
      "2.7677032881306154\n",
      "2.7675721820661696\n",
      "2.7674412080576616\n",
      "2.7673103657980316\n",
      "2.767179654981295\n",
      "2.767049075302532\n"
     ]
    },
    {
     "name": "stderr",
     "output_type": "stream",
     "text": [
      "\r",
      " 90%|█████████ | 90/100 [04:37<00:33,  3.34s/it]"
     ]
    },
    {
     "name": "stdout",
     "output_type": "stream",
     "text": [
      "2.7669186264578896\n",
      "Epoch 0, Loss 2.7669189392328777\n",
      "2.7667883081445677\n",
      "2.7666581200608213\n",
      "2.7665280619059516\n",
      "2.766398133380303\n",
      "2.7662683341852574\n",
      "2.7661386640232304\n",
      "2.766009122597664\n",
      "2.7658797096130234\n",
      "2.7657504247747937\n"
     ]
    },
    {
     "name": "stderr",
     "output_type": "stream",
     "text": [
      "\r",
      " 91%|█████████ | 91/100 [04:40<00:28,  3.18s/it]"
     ]
    },
    {
     "name": "stdout",
     "output_type": "stream",
     "text": [
      "2.7656212677894714\n",
      "Epoch 0, Loss 2.7656215838249776\n",
      "2.7654922383645646\n",
      "2.7653633362085817\n",
      "2.7652345610310345\n",
      "2.765105912542427\n",
      "2.7649773904542543\n",
      "2.7648489944789962\n",
      "2.764720724330116\n",
      "2.76459257972205\n",
      "2.7644645603702087\n"
     ]
    },
    {
     "name": "stderr",
     "output_type": "stream",
     "text": [
      "\r",
      " 92%|█████████▏| 92/100 [04:43<00:25,  3.22s/it]"
     ]
    },
    {
     "name": "stdout",
     "output_type": "stream",
     "text": [
      "2.7643366659909696\n",
      "Epoch 0, Loss 2.764336985288241\n",
      "2.7642088963016733\n",
      "2.764081251020619\n",
      "2.763953729867059\n",
      "2.7638263325611976\n",
      "2.763699058824182\n",
      "2.7635719083781023\n",
      "2.763444880945985\n",
      "2.763317976251789\n",
      "2.7631911940204\n"
     ]
    },
    {
     "name": "stderr",
     "output_type": "stream",
     "text": [
      "\r",
      " 93%|█████████▎| 93/100 [04:47<00:24,  3.45s/it]"
     ]
    },
    {
     "name": "stdout",
     "output_type": "stream",
     "text": [
      "2.7630645339776314\n",
      "Epoch 0, Loss 2.7630648565379787\n",
      "2.762937995850213\n",
      "2.762811579365791\n",
      "2.762685284252924\n",
      "2.762559110241077\n",
      "2.7624330570606204\n",
      "2.76230712444282\n",
      "2.762181312119839\n",
      "2.7620556198247326\n",
      "2.7619300472914414\n"
     ]
    },
    {
     "name": "stderr",
     "output_type": "stream",
     "text": [
      "\r",
      " 94%|█████████▍| 94/100 [04:50<00:19,  3.29s/it]"
     ]
    },
    {
     "name": "stdout",
     "output_type": "stream",
     "text": [
      "2.761804594254789\n",
      "Epoch 0, Loss 2.761804920079587\n",
      "2.761679260450479\n",
      "2.7615540456150898\n",
      "2.7614289494860715\n",
      "2.7613039718017403\n",
      "2.7611791123012757\n",
      "2.76105437072472\n",
      "2.7609297468129674\n",
      "2.760805240307765\n",
      "2.7606808509517093\n"
     ]
    },
    {
     "name": "stderr",
     "output_type": "stream",
     "text": [
      "\r",
      " 95%|█████████▌| 95/100 [04:54<00:16,  3.35s/it]"
     ]
    },
    {
     "name": "stdout",
     "output_type": "stream",
     "text": [
      "2.760556578488241\n",
      "Epoch 0, Loss 2.760556907578923\n",
      "2.7604324226616397\n",
      "2.760308383217023\n",
      "2.7601844599003433\n",
      "2.7600606524583795\n",
      "2.7599369606387385\n",
      "2.759813384189848\n",
      "2.759689922860956\n",
      "2.759566576402124\n",
      "2.7594433445642266\n"
     ]
    },
    {
     "name": "stderr",
     "output_type": "stream",
     "text": [
      "\r",
      " 96%|█████████▌| 96/100 [04:56<00:12,  3.10s/it]"
     ]
    },
    {
     "name": "stdout",
     "output_type": "stream",
     "text": [
      "2.7593202270989425\n",
      "Epoch 0, Loss 2.7593205594569996\n",
      "2.759197223758759\n",
      "2.759074334296962\n",
      "2.758951558467636\n",
      "2.7588288960256566\n",
      "2.7587063467266932\n",
      "2.7585839103271987\n",
      "2.7584615865844127\n",
      "2.758339375256352\n",
      "2.758217276101813\n"
     ]
    },
    {
     "name": "stderr",
     "output_type": "stream",
     "text": [
      "\r",
      " 97%|█████████▋| 97/100 [04:59<00:09,  3.00s/it]"
     ]
    },
    {
     "name": "stdout",
     "output_type": "stream",
     "text": [
      "2.758095288880363\n",
      "Epoch 0, Loss 2.7580956245073422\n",
      "2.75797341335234\n",
      "2.7578516492788485\n",
      "2.7577299964217565\n",
      "2.7576084545436923\n",
      "2.7574870234080406\n",
      "2.757365702778939\n",
      "2.7572444924212762\n",
      "2.7571233921006892\n",
      "2.757002401583555\n"
     ]
    },
    {
     "name": "stderr",
     "output_type": "stream",
     "text": [
      "\r",
      " 98%|█████████▊| 98/100 [05:03<00:06,  3.34s/it]"
     ]
    },
    {
     "name": "stdout",
     "output_type": "stream",
     "text": [
      "2.7568815206369948\n",
      "Epoch 0, Loss 2.7568818595344955\n",
      "2.756760749028867\n",
      "2.756640086527761\n",
      "2.7565195329030012\n",
      "2.756399087924639\n",
      "2.7562787513634492\n",
      "2.756158522990931\n",
      "2.7560384025792994\n",
      "2.7559183899014883\n",
      "2.7557984847311423\n"
     ]
    },
    {
     "name": "stderr",
     "output_type": "stream",
     "text": [
      "\r",
      " 99%|█████████▉| 99/100 [05:06<00:03,  3.26s/it]"
     ]
    },
    {
     "name": "stdout",
     "output_type": "stream",
     "text": [
      "2.755678686842616\n",
      "Epoch 0, Loss 2.7556790290122892\n",
      "2.755558996010971\n",
      "2.7554394120119734\n",
      "2.755319934622089\n",
      "2.755200563618481\n",
      "2.755081298779009\n",
      "2.754962139882224\n",
      "2.7548430867073646\n",
      "2.7547241390343573\n",
      "2.754605296643812\n"
     ]
    },
    {
     "name": "stderr",
     "output_type": "stream",
     "text": [
      "100%|██████████| 100/100 [05:09<00:00,  3.10s/it]\n",
      "  0%|          | 0/100 [00:00<?, ?it/s]"
     ]
    },
    {
     "name": "stdout",
     "output_type": "stream",
     "text": [
      "6.930923494637816\n",
      "Epoch 0, Loss 6.930923494941431\n",
      "3.5164956811422257\n",
      "3.4182833042715095\n",
      "3.378951936141021\n",
      "3.3617623261371237\n",
      "3.3507791770495405\n",
      "3.341451847426269\n",
      "3.3327205001316877\n",
      "3.324347703663983\n",
      "3.3162730745488544\n"
     ]
    },
    {
     "name": "stderr",
     "output_type": "stream",
     "text": [
      "\r",
      "  1%|          | 1/100 [00:02<04:37,  2.80s/it]"
     ]
    },
    {
     "name": "stdout",
     "output_type": "stream",
     "text": [
      "3.308473846723944\n",
      "Epoch 0, Loss 3.308473924789485\n",
      "3.3009356207674023\n",
      "3.2936462201390073\n",
      "3.2865943740075063\n",
      "3.2797694174542915\n",
      "3.2731612096497957\n",
      "3.266760099847647\n",
      "3.2605569042762212\n",
      "3.254542885737357\n",
      "3.2487097340733007\n"
     ]
    },
    {
     "name": "stderr",
     "output_type": "stream",
     "text": [
      "\r",
      "  2%|▏         | 2/100 [00:05<04:52,  2.98s/it]"
     ]
    },
    {
     "name": "stdout",
     "output_type": "stream",
     "text": [
      "3.2430495471129825\n",
      "Epoch 0, Loss 3.243049647637751\n",
      "3.237554812050197\n",
      "3.232218387285243\n",
      "3.2270334847746653\n",
      "3.22199365292959\n",
      "3.217092760094689\n",
      "3.212324978630837\n",
      "3.207684769616276\n",
      "3.2031668681738354\n"
     ]
    },
    {
     "name": "stderr",
     "output_type": "stream",
     "text": [
      "\r",
      "  3%|▎         | 3/100 [00:08<04:14,  2.62s/it]"
     ]
    },
    {
     "name": "stdout",
     "output_type": "stream",
     "text": [
      "3.1987662694255414\n",
      "3.1944782150707822\n",
      "Epoch 0, Loss 3.1944783456330352\n",
      "3.190298180579871\n",
      "3.1862218629913848\n",
      "3.182245169298869\n",
      "3.1783642054103125\n",
      "3.17457526566218\n",
      "3.1708748228685515\n",
      "3.1672595188851203\n",
      "3.163726155667313\n",
      "3.1602716868015115\n"
     ]
    },
    {
     "name": "stderr",
     "output_type": "stream",
     "text": [
      "\r",
      "  4%|▍         | 4/100 [00:10<04:11,  2.62s/it]"
     ]
    },
    {
     "name": "stdout",
     "output_type": "stream",
     "text": [
      "3.156893209488418\n",
      "Epoch 0, Loss 3.1568933743208865\n",
      "3.153587956957698\n",
      "3.150353291293409\n",
      "3.147186696650117\n",
      "3.1440857728401537\n",
      "3.1410482292730295\n",
      "3.1380718792287072\n",
      "3.135154634447071\n",
      "3.132294500016663\n",
      "3.12948956954649\n"
     ]
    },
    {
     "name": "stderr",
     "output_type": "stream",
     "text": [
      "\r",
      "  5%|▌         | 5/100 [00:14<04:40,  2.95s/it]"
     ]
    },
    {
     "name": "stdout",
     "output_type": "stream",
     "text": [
      "3.1267380206053685\n",
      "Epoch 0, Loss 3.126738222097368\n",
      "3.1240381104140673\n",
      "3.1213881717761462\n",
      "3.118786609234154\n",
      "3.116231895438456\n",
      "3.11372256771669\n",
      "3.1112572248324235\n",
      "3.1088345239222477\n",
      "3.1064531776011015\n",
      "3.1041119512261948\n"
     ]
    },
    {
     "name": "stderr",
     "output_type": "stream",
     "text": [
      "\r",
      "  6%|▌         | 6/100 [00:17<04:46,  3.05s/it]"
     ]
    },
    {
     "name": "stdout",
     "output_type": "stream",
     "text": [
      "3.1018096603104293\n",
      "Epoch 0, Loss 3.101809899803428\n",
      "3.099545168076752\n",
      "3.0973173831453256\n",
      "3.0951252573459036\n",
      "3.0929677836482066\n",
      "3.0908439942035346\n",
      "3.088752958491236\n",
      "3.0866937815640223\n",
      "3.084665602386472\n",
      "3.082667592261413\n"
     ]
    },
    {
     "name": "stderr",
     "output_type": "stream",
     "text": [
      "\r",
      "  7%|▋         | 7/100 [00:20<04:26,  2.87s/it]"
     ]
    },
    {
     "name": "stdout",
     "output_type": "stream",
     "text": [
      "3.0806989533391667\n",
      "Epoch 0, Loss 3.0806992315637616\n",
      "3.0787589172049312\n",
      "3.0768467435398987\n",
      "3.074961718851895\n",
      "3.0731031552716526\n",
      "3.071270389410985\n",
      "3.0694627812794346\n",
      "3.0676797132560654\n",
      "3.065920589113379\n",
      "3.0641848330904162\n"
     ]
    },
    {
     "name": "stderr",
     "output_type": "stream",
     "text": [
      "\r",
      "  8%|▊         | 8/100 [00:22<04:13,  2.76s/it]"
     ]
    },
    {
     "name": "stdout",
     "output_type": "stream",
     "text": [
      "3.062471889012346\n",
      "Epoch 0, Loss 3.0624722063337844\n",
      "3.060781219453955\n",
      "3.0591123049446414\n",
      "3.0574646432126262\n",
      "3.0558377484662445\n",
      "3.054231150710313\n",
      "3.052644395095649\n",
      "3.0510770412999793\n",
      "3.049528662938544\n",
      "3.0479988470027966\n"
     ]
    },
    {
     "name": "stderr",
     "output_type": "stream",
     "text": [
      "\r",
      "  9%|▉         | 9/100 [00:26<04:38,  3.06s/it]"
     ]
    },
    {
     "name": "stdout",
     "output_type": "stream",
     "text": [
      "3.0464871933257256\n",
      "Epoch 0, Loss 3.0464875498856063\n",
      "3.0449933140723675\n",
      "3.043516833254198\n",
      "3.042057386266129\n",
      "3.04061461944495\n",
      "3.039188189648083\n",
      "3.0377777638515995\n",
      "3.0363830187665193\n",
      "3.0350036404724343\n",
      "3.0336393240675887\n"
     ]
    },
    {
     "name": "stderr",
     "output_type": "stream",
     "text": [
      "\r",
      " 10%|█         | 10/100 [00:29<04:45,  3.17s/it]"
     ]
    },
    {
     "name": "stdout",
     "output_type": "stream",
     "text": [
      "3.0322897733345715\n",
      "Epoch 0, Loss 3.0322901691349067\n",
      "3.0309547004208297\n",
      "3.0296338255332667\n",
      "3.0283268766462057\n",
      "3.0270335892220706\n",
      "3.0257537059441355\n",
      "3.024486976460761\n",
      "3.0232331571405493\n",
      "3.021992010837881\n",
      "3.0207633066683397\n"
     ]
    },
    {
     "name": "stderr",
     "output_type": "stream",
     "text": [
      "\r",
      " 11%|█         | 11/100 [00:32<04:34,  3.09s/it]"
     ]
    },
    {
     "name": "stdout",
     "output_type": "stream",
     "text": [
      "3.019546819793541\n",
      "Epoch 0, Loss 3.019547254747974\n",
      "3.0183423312149076\n",
      "3.0171496275759737\n",
      "3.015968500972814\n",
      "3.0147987487721988\n",
      "3.0136401734371296\n",
      "3.0124925823593984\n",
      "3.0113557876988475\n",
      "3.010229606229023\n",
      "3.0091138591889197\n"
     ]
    },
    {
     "name": "stderr",
     "output_type": "stream",
     "text": [
      "\r",
      " 12%|█▏        | 12/100 [00:34<04:09,  2.83s/it]"
     ]
    },
    {
     "name": "stdout",
     "output_type": "stream",
     "text": [
      "3.0080083721405493\n",
      "Epoch 0, Loss 3.008008846106357\n",
      "3.0069129748320584\n",
      "3.005827501066148\n",
      "3.004751788573558\n",
      "3.0036856788913897\n",
      "3.002629017246039\n",
      "3.0015816524405685\n",
      "3.000543436746276\n",
      "2.99951422579832\n",
      "2.9984938784952013\n"
     ]
    },
    {
     "name": "stderr",
     "output_type": "stream",
     "text": [
      "\r",
      " 13%|█▎        | 13/100 [00:37<04:05,  2.82s/it]"
     ]
    },
    {
     "name": "stdout",
     "output_type": "stream",
     "text": [
      "2.997482256901936\n",
      "Epoch 0, Loss 2.9974827697004884\n",
      "2.99647922615677\n",
      "2.995484654381277\n",
      "2.994498412593695\n",
      "2.9935203746253722\n",
      "2.99255041704018\n",
      "2.9915884190567787\n",
      "2.9906342624736153\n",
      "2.9896878315965343\n",
      "2.9887490131689054\n"
     ]
    },
    {
     "name": "stderr",
     "output_type": "stream",
     "text": [
      "\r",
      " 14%|█▍        | 14/100 [00:40<03:59,  2.78s/it]"
     ]
    },
    {
     "name": "stdout",
     "output_type": "stream",
     "text": [
      "2.987817696304153\n",
      "Epoch 0, Loss 2.9878182477342743\n",
      "2.986893772420601\n",
      "2.985977135178529\n",
      "2.9850676804193608\n",
      "2.9841653061068922\n",
      "2.983269912270486\n",
      "2.9823814009501417\n",
      "2.9814996761433865\n",
      "2.980624643753898\n",
      "2.979756211541805\n"
     ]
    },
    {
     "name": "stderr",
     "output_type": "stream",
     "text": [
      "\r",
      " 15%|█▌        | 15/100 [00:42<03:47,  2.67s/it]"
     ]
    },
    {
     "name": "stdout",
     "output_type": "stream",
     "text": [
      "2.9788942890755883\n",
      "Epoch 0, Loss 2.978894878922451\n",
      "2.9780387876855374\n",
      "2.9771896204186876\n",
      "2.976346701995189\n",
      "2.9755099487660552\n",
      "2.9746792786722316\n",
      "2.973854611204949\n",
      "2.9730358673672943\n",
      "2.9722229696369733\n",
      "2.971415841930211\n"
     ]
    },
    {
     "name": "stderr",
     "output_type": "stream",
     "text": [
      "\r",
      " 16%|█▌        | 16/100 [00:45<03:55,  2.80s/it]"
     ]
    },
    {
     "name": "stdout",
     "output_type": "stream",
     "text": [
      "2.970614409566747\n",
      "Epoch 0, Loss 2.970615037607895\n",
      "2.9698185992358965\n",
      "2.969028338963625\n",
      "2.968243558080612\n",
      "2.9674641871912577\n",
      "2.9666901581436145\n",
      "2.965921404000192\n",
      "2.9651578590096204\n",
      "2.964399458579133\n",
      "2.963646139247847\n"
     ]
    },
    {
     "name": "stderr",
     "output_type": "stream",
     "text": [
      "\r",
      " 17%|█▋        | 17/100 [00:49<04:02,  2.92s/it]"
     ]
    },
    {
     "name": "stdout",
     "output_type": "stream",
     "text": [
      "2.9628978386608025\n",
      "Epoch 0, Loss 2.9628985046702923\n",
      "2.962154495543756\n",
      "2.961416049678671\n",
      "2.9606824418799187\n",
      "2.9599536139711295\n",
      "2.9592295087627036\n",
      "2.958510070029935\n",
      "2.957795242491745\n",
      "2.9570849717899956\n",
      "2.95637920446937\n"
     ]
    },
    {
     "name": "stderr",
     "output_type": "stream",
     "text": [
      "\r",
      " 18%|█▊        | 18/100 [00:52<04:06,  3.00s/it]"
     ]
    },
    {
     "name": "stdout",
     "output_type": "stream",
     "text": [
      "2.9556778879577976\n",
      "Epoch 0, Loss 2.9556785917090873\n",
      "2.9549809705474046\n",
      "2.9542884013759796\n",
      "2.953600130408931\n",
      "2.9529161084217264\n",
      "2.952236286982791\n",
      "2.9515606184368584\n",
      "2.9508890558887555\n",
      "2.95022155318761\n",
      "2.949558064911461\n"
     ]
    },
    {
     "name": "stderr",
     "output_type": "stream",
     "text": [
      "\r",
      " 19%|█▉        | 19/100 [00:54<03:52,  2.87s/it]"
     ]
    },
    {
     "name": "stdout",
     "output_type": "stream",
     "text": [
      "2.948898546352274\n",
      "Epoch 0, Loss 2.9488992876202613\n",
      "2.9482429535013286\n",
      "2.947591243034989\n",
      "2.9469433723008227\n",
      "2.946299299304083\n",
      "2.9456589826945137\n",
      "2.945022381753499\n",
      "2.94438945638152\n",
      "2.9437601670859257\n",
      "2.943134474969006\n"
     ]
    },
    {
     "name": "stderr",
     "output_type": "stream",
     "text": [
      "\r",
      " 20%|██        | 20/100 [00:57<03:58,  2.98s/it]"
     ]
    },
    {
     "name": "stdout",
     "output_type": "stream",
     "text": [
      "2.94251234171635\n",
      "Epoch 0, Loss 2.9425131202788237\n",
      "2.9418937295854968\n",
      "2.941278601394848\n",
      "2.9406669205128604\n",
      "2.940058650847487\n",
      "2.9394537568358783\n",
      "2.938852203434319\n",
      "2.938253956108411\n",
      "2.9376589808234814\n",
      "2.9370672440352155\n"
     ]
    },
    {
     "name": "stderr",
     "output_type": "stream",
     "text": [
      "\r",
      " 21%|██        | 21/100 [01:00<03:53,  2.96s/it]"
     ]
    },
    {
     "name": "stdout",
     "output_type": "stream",
     "text": [
      "2.9364787126805094\n",
      "Epoch 0, Loss 2.936479528319191\n",
      "2.935893354168535\n",
      "2.935311136372006\n",
      "2.9347320276186535\n",
      "2.934155996682887\n",
      "2.9335830127776483\n",
      "2.9330130455464514\n",
      "2.9324460650556023\n",
      "2.931882041786587\n",
      "2.9313209466286367\n"
     ]
    },
    {
     "name": "stderr",
     "output_type": "stream",
     "text": [
      "\r",
      " 22%|██▏       | 22/100 [01:03<03:46,  2.91s/it]"
     ]
    },
    {
     "name": "stdout",
     "output_type": "stream",
     "text": [
      "2.930762750871457\n",
      "Epoch 0, Loss 2.9307636033727524\n",
      "2.9302074261981113\n",
      "2.929654944678069\n",
      "2.9291052787604026\n",
      "2.9285584012671326\n",
      "2.9280142853867166\n",
      "2.927472904667686\n",
      "2.926934233012406\n",
      "2.926398244670984\n",
      "2.9258649142352997\n"
     ]
    },
    {
     "name": "stderr",
     "output_type": "stream",
     "text": [
      "\r",
      " 23%|██▎       | 23/100 [01:07<03:59,  3.12s/it]"
     ]
    },
    {
     "name": "stdout",
     "output_type": "stream",
     "text": [
      "2.9253342166331624\n",
      "Epoch 0, Loss 2.9253351057887027\n",
      "2.9248061271225962\n",
      "2.9242806212862416\n",
      "2.923757675025875\n",
      "2.923237264557046\n",
      "2.922719366403822\n",
      "2.922203957393644\n",
      "2.921691014652291\n",
      "2.9211805155989388\n",
      "2.9206724379413327\n"
     ]
    },
    {
     "name": "stderr",
     "output_type": "stream",
     "text": [
      "\r",
      " 24%|██▍       | 24/100 [01:12<04:37,  3.66s/it]"
     ]
    },
    {
     "name": "stdout",
     "output_type": "stream",
     "text": [
      "2.9201667596710483\n",
      "Epoch 0, Loss 2.920167685278076\n",
      "2.919663459058852\n",
      "2.919162514650156\n",
      "2.9186639052605665\n",
      "2.918167609971515\n",
      "2.9176736081259813\n",
      "2.9171818793243034\n",
      "2.916692403420065\n",
      "2.916205160516068\n",
      "2.9157201309603815\n"
     ]
    },
    {
     "name": "stderr",
     "output_type": "stream",
     "text": [
      "\r",
      " 25%|██▌       | 25/100 [01:15<04:35,  3.67s/it]"
     ]
    },
    {
     "name": "stdout",
     "output_type": "stream",
     "text": [
      "2.9152372953424743\n",
      "Epoch 0, Loss 2.9152382572041136\n",
      "2.914756634489411\n",
      "2.9142781294621334\n",
      "2.9138017615518086\n",
      "2.9133275122762488\n",
      "2.9128553633763974\n",
      "2.912385296812886\n",
      "2.9119172947626524\n",
      "2.911451339615629\n",
      "2.9109874139714855\n"
     ]
    },
    {
     "name": "stderr",
     "output_type": "stream",
     "text": [
      "\r",
      " 26%|██▌       | 26/100 [01:18<04:16,  3.46s/it]"
     ]
    },
    {
     "name": "stdout",
     "output_type": "stream",
     "text": [
      "2.910525500636443\n",
      "Epoch 0, Loss 2.9105264985618864\n",
      "2.910065582620136\n",
      "2.909607643132545\n",
      "2.9091516655809766\n",
      "2.908697633567104\n",
      "2.908245530884065\n",
      "2.907795341513605\n",
      "2.907347049623281\n",
      "2.9069006395637116\n",
      "2.9064560958658765\n"
     ]
    },
    {
     "name": "stderr",
     "output_type": "stream",
     "text": [
      "\r",
      " 27%|██▋       | 27/100 [01:22<04:11,  3.44s/it]"
     ]
    },
    {
     "name": "stdout",
     "output_type": "stream",
     "text": [
      "2.906013403238472\n",
      "Epoch 0, Loss 2.9060144370430967\n",
      "2.9055725465653053\n",
      "2.90513351090274\n",
      "2.904696281477187\n",
      "2.9042608436826423\n",
      "2.903827183078263\n",
      "2.903395285385993\n",
      "2.9029651364882265\n",
      "2.9025367224255136\n"
     ]
    },
    {
     "name": "stderr",
     "output_type": "stream",
     "text": [
      "\r",
      " 28%|██▊       | 28/100 [01:25<04:04,  3.40s/it]"
     ]
    },
    {
     "name": "stdout",
     "output_type": "stream",
     "text": [
      "2.9021100293943047\n",
      "2.90168504374474\n",
      "Epoch 0, Loss 2.9016861132501734\n",
      "2.901261751978468\n",
      "2.9008401407465123\n",
      "2.900420196847167\n",
      "2.9000019072239347\n",
      "2.899585258963493\n",
      "2.899170239293704\n",
      "2.89875683558165\n",
      "2.898345035331711\n",
      "2.897934826183664\n"
     ]
    },
    {
     "name": "stderr",
     "output_type": "stream",
     "text": [
      "\r",
      " 29%|██▉       | 29/100 [01:28<03:57,  3.34s/it]"
     ]
    },
    {
     "name": "stdout",
     "output_type": "stream",
     "text": [
      "2.8975261959108236\n",
      "Epoch 0, Loss 2.8975273009449674\n",
      "2.8971191324182124\n",
      "2.8967136237407587\n",
      "2.896309658041524\n",
      "2.895907223609967\n",
      "2.895506308860227\n",
      "2.895106902329441\n",
      "2.8947089926760947\n",
      "2.8943125686783824\n",
      "2.8939176192326146\n"
     ]
    },
    {
     "name": "stderr",
     "output_type": "stream",
     "text": [
      "\r",
      " 30%|███       | 30/100 [01:32<04:10,  3.57s/it]"
     ]
    },
    {
     "name": "stdout",
     "output_type": "stream",
     "text": [
      "2.893524133351638\n",
      "Epoch 0, Loss 2.8935252737486574\n",
      "2.8931321001632857\n",
      "2.8927415089088555\n",
      "2.892352348941605\n",
      "2.8919646097252802\n",
      "2.891578280832661\n",
      "2.891193351944131\n",
      "2.890809812846276\n",
      "2.890427653430495\n"
     ]
    },
    {
     "name": "stderr",
     "output_type": "stream",
     "text": [
      "\r",
      " 31%|███       | 31/100 [01:35<03:48,  3.31s/it]"
     ]
    },
    {
     "name": "stdout",
     "output_type": "stream",
     "text": [
      "2.8900468636916425\n",
      "2.8896674337266868\n",
      "Epoch 0, Loss 2.8896686093269746\n",
      "2.8892893537333912\n",
      "2.888912614009016\n",
      "2.88853720494904\n",
      "2.8881631170459037\n",
      "2.887790340887771\n",
      "2.8874188671573107\n",
      "2.8870486866304934\n",
      "2.886679790175412\n",
      "2.8863121687511226\n"
     ]
    },
    {
     "name": "stderr",
     "output_type": "stream",
     "text": [
      "\r",
      " 32%|███▏      | 32/100 [01:38<03:32,  3.13s/it]"
     ]
    },
    {
     "name": "stdout",
     "output_type": "stream",
     "text": [
      "2.88594581340649\n",
      "Epoch 0, Loss 2.8859470240566076\n",
      "2.8855807152790685\n",
      "2.8852168655939847\n",
      "2.8848542556628476\n",
      "2.8844928768826716\n",
      "2.88413272073481\n",
      "2.8837737787839197\n",
      "2.8834160426769224\n",
      "2.883059504141997\n",
      "2.8827041549875774\n"
     ]
    },
    {
     "name": "stderr",
     "output_type": "stream",
     "text": [
      "\r",
      " 33%|███▎      | 33/100 [01:40<03:13,  2.89s/it]"
     ]
    },
    {
     "name": "stdout",
     "output_type": "stream",
     "text": [
      "2.882349987101372\n",
      "Epoch 0, Loss 2.8823512326539715\n",
      "2.881996992449393\n",
      "2.8816451630750004\n",
      "2.881294491097964\n",
      "2.880944968713535\n",
      "2.8805965881915325\n",
      "2.880249341875446\n",
      "2.879903222181545\n",
      "2.8795582215980104\n",
      "2.87921433268407\n"
     ]
    },
    {
     "name": "stderr",
     "output_type": "stream",
     "text": [
      "\r",
      " 34%|███▍      | 34/100 [01:43<03:16,  2.98s/it]"
     ]
    },
    {
     "name": "stdout",
     "output_type": "stream",
     "text": [
      "2.878871548069149\n",
      "Epoch 0, Loss 2.8788728283828817\n",
      "2.878529860452038\n",
      "2.8781892626000656\n",
      "2.8778497473482867\n",
      "2.877511307598682\n",
      "2.877173936319369\n",
      "2.8768376265438262\n",
      "2.876502371370119\n",
      "2.8761681639601533\n",
      "2.8758349975389224\n"
     ]
    },
    {
     "name": "stderr",
     "output_type": "stream",
     "text": [
      "\r",
      " 35%|███▌      | 35/100 [01:46<03:03,  2.83s/it]"
     ]
    },
    {
     "name": "stdout",
     "output_type": "stream",
     "text": [
      "2.8755028653937766\n",
      "Epoch 0, Loss 2.875504180333188\n",
      "2.875171760873697\n",
      "2.8748416773885808\n",
      "2.874512608408539\n",
      "2.874184547463199\n",
      "2.873857488141023\n",
      "2.87353142408863\n",
      "2.8732063490101294\n",
      "2.8728822566664687\n",
      "2.8725591408747806\n"
     ]
    },
    {
     "name": "stderr",
     "output_type": "stream",
     "text": [
      "\r",
      " 36%|███▌      | 36/100 [01:48<02:56,  2.76s/it]"
     ]
    },
    {
     "name": "stdout",
     "output_type": "stream",
     "text": [
      "2.8722369955077465\n",
      "Epoch 0, Loss 2.872238344943161\n",
      "2.871915814492967\n",
      "2.871595591812339\n",
      "2.8712763215014414\n",
      "2.870957997648937\n",
      "2.8706406143959677\n",
      "2.8703241659355703\n",
      "2.8700086465120984\n",
      "2.8696940504206427\n",
      "2.8693803720064732\n"
     ]
    },
    {
     "name": "stderr",
     "output_type": "stream",
     "text": [
      "\r",
      " 37%|███▋      | 37/100 [01:51<02:48,  2.68s/it]"
     ]
    },
    {
     "name": "stdout",
     "output_type": "stream",
     "text": [
      "2.869067605664479\n",
      "Epoch 0, Loss 2.869068989471876\n",
      "2.868755745838616\n",
      "2.8684447870213714\n",
      "2.868134723753218\n",
      "2.8678255506220958\n",
      "2.8675172622628855\n",
      "2.8672098533568935\n",
      "2.8669033186313477\n",
      "2.866597652858894\n",
      "2.8662928508571044\n"
     ]
    },
    {
     "name": "stderr",
     "output_type": "stream",
     "text": [
      "\r",
      " 38%|███▊      | 38/100 [01:55<03:04,  2.98s/it]"
     ]
    },
    {
     "name": "stdout",
     "output_type": "stream",
     "text": [
      "2.865988907487983\n",
      "Epoch 0, Loss 2.865990325548868\n",
      "2.865685817657495\n",
      "2.8653835763150806\n",
      "2.8650821784531924\n",
      "2.8647816191068296\n",
      "2.8644818933530845\n",
      "2.8641829963106837\n",
      "2.8638849231395533\n",
      "2.8635876690403714\n",
      "2.8632912292541346\n"
     ]
    },
    {
     "name": "stderr",
     "output_type": "stream",
     "text": [
      "\r",
      " 39%|███▉      | 39/100 [01:58<03:10,  3.12s/it]"
     ]
    },
    {
     "name": "stdout",
     "output_type": "stream",
     "text": [
      "2.862995599061736\n",
      "Epoch 0, Loss 2.862997051263003\n",
      "2.8627007737835326\n",
      "2.8624067487789358\n",
      "2.862113519445994\n",
      "2.861821081220991\n",
      "2.8615294295780367\n",
      "2.861238560028675\n",
      "2.860948468121492\n",
      "2.8606591494417275\n",
      "2.8603705996108917\n"
     ]
    },
    {
     "name": "stderr",
     "output_type": "stream",
     "text": [
      "\r",
      " 40%|████      | 40/100 [02:01<03:03,  3.06s/it]"
     ]
    },
    {
     "name": "stdout",
     "output_type": "stream",
     "text": [
      "2.8600828142863923\n",
      "Epoch 0, Loss 2.8600843005201857\n",
      "2.8597957891611574\n",
      "2.8595095199632685\n",
      "2.8592240024555986\n",
      "2.8589392324354512\n",
      "2.858655205734208\n",
      "2.8583719182169767\n",
      "2.8580893657822464\n",
      "2.8578075443615445\n",
      "2.857526449919102\n"
     ]
    },
    {
     "name": "stderr",
     "output_type": "stream",
     "text": [
      "\r",
      " 41%|████      | 41/100 [02:04<03:02,  3.09s/it]"
     ]
    },
    {
     "name": "stdout",
     "output_type": "stream",
     "text": [
      "2.8572460784515186\n",
      "Epoch 0, Loss 2.85724759861509\n",
      "2.8569664259874314\n",
      "2.8566874885871933\n",
      "2.8564092623425497\n",
      "2.8561317433763223\n",
      "2.8558549278420933\n",
      "2.8555788119238983\n",
      "2.8553033918359207\n",
      "2.8550286638221833\n",
      "2.854754624156259\n"
     ]
    },
    {
     "name": "stderr",
     "output_type": "stream",
     "text": [
      "\r",
      " 42%|████▏     | 42/100 [02:07<02:54,  3.01s/it]"
     ]
    },
    {
     "name": "stdout",
     "output_type": "stream",
     "text": [
      "2.8544812691409667\n",
      "Epoch 0, Loss 2.8544828231365296\n",
      "2.8542085951080876\n",
      "2.8539365984180693\n",
      "2.8536652754597482\n",
      "2.8533946226500637\n",
      "2.85312463643378\n",
      "2.8528553132832157\n",
      "2.852586649697967\n",
      "2.852318642204643\n",
      "2.8520512873565993\n"
     ]
    },
    {
     "name": "stderr",
     "output_type": "stream",
     "text": [
      "\r",
      " 43%|████▎     | 43/100 [02:10<02:49,  2.97s/it]"
     ]
    },
    {
     "name": "stdout",
     "output_type": "stream",
     "text": [
      "2.851784581733677\n",
      "Epoch 0, Loss 2.8517861694682605\n",
      "2.8515185219419403\n",
      "2.8512531046134266\n",
      "2.850988326405887\n",
      "2.8507241840025417\n",
      "2.85046067411183\n",
      "2.8501977934671667\n",
      "2.8499355388266996\n",
      "2.8496739069730745\n",
      "2.849412894713196\n"
     ]
    },
    {
     "name": "stderr",
     "output_type": "stream",
     "text": [
      "\r",
      " 44%|████▍     | 44/100 [02:14<02:59,  3.21s/it]"
     ]
    },
    {
     "name": "stdout",
     "output_type": "stream",
     "text": [
      "2.8491524988779933\n",
      "Epoch 0, Loss 2.8491541202632953\n",
      "2.848892716322194\n",
      "2.848633543924094\n",
      "2.84837497858533\n",
      "2.8481170172306607\n",
      "2.8478596568077448\n",
      "2.8476028942869247\n",
      "2.847346726661009\n",
      "2.8470911509450603\n"
     ]
    },
    {
     "name": "stderr",
     "output_type": "stream",
     "text": [
      "\r",
      " 45%|████▌     | 45/100 [02:17<02:58,  3.24s/it]"
     ]
    },
    {
     "name": "stdout",
     "output_type": "stream",
     "text": [
      "2.846836164176188\n",
      "2.846581763413337\n",
      "Epoch 0, Loss 2.846583418365578\n",
      "2.8463279457370825\n",
      "2.8460747082494287\n",
      "2.8458220480736043\n",
      "2.8455699623538697\n",
      "2.845318448255313\n",
      "2.845067502963663\n",
      "2.844817123685089\n",
      "2.844567307646022\n",
      "2.844318052092952\n"
     ]
    },
    {
     "name": "stderr",
     "output_type": "stream",
     "text": [
      "\r",
      " 46%|████▌     | 46/100 [02:20<02:57,  3.29s/it]"
     ]
    },
    {
     "name": "stdout",
     "output_type": "stream",
     "text": [
      "2.8440693542922575\n",
      "Epoch 0, Loss 2.844071042732035\n",
      "2.843821211530009\n",
      "2.843573621111797\n",
      "2.843326580362545\n",
      "2.843080086626335\n",
      "2.8428341372662347\n",
      "2.842588729664116\n",
      "2.84234386122049\n",
      "2.842099529354334\n"
     ]
    },
    {
     "name": "stderr",
     "output_type": "stream",
     "text": [
      "\r",
      " 47%|████▋     | 47/100 [02:23<02:48,  3.17s/it]"
     ]
    },
    {
     "name": "stdout",
     "output_type": "stream",
     "text": [
      "2.841855731502923\n",
      "2.841612465121662\n",
      "Epoch 0, Loss 2.8416141869738043\n",
      "2.8413697276839285\n",
      "2.8411275166808996\n",
      "2.8408858296213966\n",
      "2.840644664031726\n",
      "2.840404017455521\n",
      "2.840163887453582\n",
      "2.8399242716037305\n",
      "2.839685167500649\n",
      "2.8394465727557328\n"
     ]
    },
    {
     "name": "stderr",
     "output_type": "stream",
     "text": [
      "\r",
      " 48%|████▊     | 48/100 [02:26<02:39,  3.06s/it]"
     ]
    },
    {
     "name": "stdout",
     "output_type": "stream",
     "text": [
      "2.8392084849969415\n",
      "Epoch 0, Loss 2.8392102401903654\n",
      "2.8389709018686493\n",
      "2.8387338210315005\n",
      "2.838497240162267\n",
      "2.838261156953697\n",
      "2.8380255691143845\n",
      "2.8377904743686213\n",
      "2.8375558704562627\n",
      "2.837321755132585\n",
      "2.8370881261681586\n"
     ]
    },
    {
     "name": "stderr",
     "output_type": "stream",
     "text": [
      "\r",
      " 49%|████▉     | 49/100 [02:29<02:29,  2.93s/it]"
     ]
    },
    {
     "name": "stdout",
     "output_type": "stream",
     "text": [
      "2.8368549813487047\n",
      "Epoch 0, Loss 2.8368567698162743\n",
      "2.8366223184749693\n",
      "2.8363901353625867\n",
      "2.8361584298419533\n",
      "2.835927199758096\n",
      "2.8356964429705487\n",
      "2.8354661573532214\n",
      "2.8352363407942778\n",
      "2.8350069911960136\n",
      "2.834778106474732\n"
     ]
    },
    {
     "name": "stderr",
     "output_type": "stream",
     "text": [
      "\r",
      " 50%|█████     | 50/100 [02:32<02:25,  2.91s/it]"
     ]
    },
    {
     "name": "stdout",
     "output_type": "stream",
     "text": [
      "2.834549684560623\n",
      "Epoch 0, Loss 2.8345515062390105\n",
      "2.8343217233976454\n",
      "2.8340942209434052\n",
      "2.833867175169044\n",
      "2.8336405840591166\n",
      "2.833414445611479\n",
      "2.8331887578371786\n",
      "2.832963518760334\n",
      "2.83273872641803\n",
      "2.832514378860205\n"
     ]
    },
    {
     "name": "stderr",
     "output_type": "stream",
     "text": [
      "\r",
      " 51%|█████     | 51/100 [02:34<02:18,  2.82s/it]"
     ]
    },
    {
     "name": "stdout",
     "output_type": "stream",
     "text": [
      "2.832290474149542\n",
      "Epoch 0, Loss 2.832292328979092\n",
      "2.83206701036136\n",
      "2.831843985583512\n",
      "2.831621397916269\n",
      "2.831399245472227\n",
      "2.8311775263761967\n",
      "2.8309562387651006\n",
      "2.830735380787875\n",
      "2.830514950605366\n",
      "2.8302949463902327\n"
     ]
    },
    {
     "name": "stderr",
     "output_type": "stream",
     "text": [
      "\r",
      " 52%|█████▏    | 52/100 [02:37<02:15,  2.82s/it]"
     ]
    },
    {
     "name": "stdout",
     "output_type": "stream",
     "text": [
      "2.830075366326847\n",
      "Epoch 0, Loss 2.8300772542514423\n",
      "2.829856208611197\n",
      "2.8296374714507904\n",
      "2.829419153064558\n",
      "2.8292012516827585\n",
      "2.8289837655468872\n",
      "2.8287666929095825\n",
      "2.8285500320345327\n",
      "2.8283337811963847\n",
      "2.8281179386806565\n"
     ]
    },
    {
     "name": "stderr",
     "output_type": "stream",
     "text": [
      "\r",
      " 53%|█████▎    | 53/100 [02:39<02:06,  2.69s/it]"
     ]
    },
    {
     "name": "stdout",
     "output_type": "stream",
     "text": [
      "2.827902502783647\n",
      "Epoch 0, Loss 2.8279044237505784\n",
      "2.827687471812346\n",
      "2.8274728440843484\n",
      "2.8272586179277686\n",
      "2.827044791681151\n",
      "2.826831363693391\n",
      "2.826618332323645\n",
      "2.8264056959412502\n",
      "2.826193452925643\n",
      "2.825981601666276\n"
     ]
    },
    {
     "name": "stderr",
     "output_type": "stream",
     "text": [
      "\r",
      " 54%|█████▍    | 54/100 [02:42<01:58,  2.58s/it]"
     ]
    },
    {
     "name": "stdout",
     "output_type": "stream",
     "text": [
      "2.8257701405625357\n",
      "Epoch 0, Loss 2.8257720945223737\n",
      "2.8255590680236664\n",
      "2.8253483824686874\n",
      "2.825138082326316\n",
      "2.8249281660348897\n",
      "2.824718632042289\n",
      "2.824509478805862\n",
      "2.8243007047923476\n",
      "2.824092308477802\n",
      "2.8238842883475215\n"
     ]
    },
    {
     "name": "stderr",
     "output_type": "stream",
     "text": [
      "\r",
      " 55%|█████▌    | 55/100 [02:45<02:01,  2.70s/it]"
     ]
    },
    {
     "name": "stdout",
     "output_type": "stream",
     "text": [
      "2.823676642895975\n",
      "Epoch 0, Loss 2.8236786298024477\n",
      "2.823469370626726\n",
      "2.823262470052361\n",
      "2.823055939694424\n",
      "2.8228497780833393\n",
      "2.8226439837583435\n",
      "2.8224385552674156\n",
      "2.822233491167213\n",
      "2.822028790022998\n",
      "2.821824450408573\n"
     ]
    },
    {
     "name": "stderr",
     "output_type": "stream",
     "text": [
      "\r",
      " 56%|█████▌    | 56/100 [02:48<02:06,  2.86s/it]"
     ]
    },
    {
     "name": "stdout",
     "output_type": "stream",
     "text": [
      "2.8216204709062116\n",
      "Epoch 0, Loss 2.8216224907160825\n",
      "2.821416850106597\n",
      "2.821213586608752\n",
      "2.8210106790199774\n",
      "2.8208081259557853\n",
      "2.8206059260398364\n",
      "2.8204040779038784\n",
      "2.820202580187682\n",
      "2.820001431538979\n",
      "2.819800630613402\n"
     ]
    },
    {
     "name": "stderr",
     "output_type": "stream",
     "text": [
      "\r",
      " 57%|█████▋    | 57/100 [02:52<02:13,  3.10s/it]"
     ]
    },
    {
     "name": "stdout",
     "output_type": "stream",
     "text": [
      "2.819600176074423\n",
      "Epoch 0, Loss 2.8196022287473737\n",
      "2.8194000665932926\n",
      "2.8192003008489825\n",
      "2.8190008775281252\n",
      "2.818801795324954\n",
      "2.8186030529412487\n",
      "2.8184046490862746\n",
      "2.818206582476728\n",
      "2.8180088518366784\n",
      "2.8178114558975125\n"
     ]
    },
    {
     "name": "stderr",
     "output_type": "stream",
     "text": [
      "\r",
      " 58%|█████▊    | 58/100 [02:54<02:04,  2.95s/it]"
     ]
    },
    {
     "name": "stdout",
     "output_type": "stream",
     "text": [
      "2.8176143933978817\n",
      "Epoch 0, Loss 2.817616478896399\n",
      "2.817417663083644\n",
      "2.8172212637078093\n",
      "2.817025194030491\n",
      "2.816829452818844\n",
      "2.8166340388470212\n",
      "2.8164389508961127\n",
      "2.8162441877541005\n",
      "2.8160497482158027\n",
      "2.815855631082825\n"
     ]
    },
    {
     "name": "stderr",
     "output_type": "stream",
     "text": [
      "\r",
      " 59%|█████▉    | 59/100 [02:57<01:59,  2.91s/it]"
     ]
    },
    {
     "name": "stdout",
     "output_type": "stream",
     "text": [
      "2.8156618351635094\n",
      "Epoch 0, Loss 2.815663953452775\n",
      "2.815468359272883\n",
      "2.8152752022326126\n",
      "2.815082362870948\n",
      "2.8148898400226803\n",
      "2.814697632529091\n",
      "2.8145057392379065\n",
      "2.8143141590032434\n",
      "2.81412289068557\n"
     ]
    },
    {
     "name": "stderr",
     "output_type": "stream",
     "text": [
      "\r",
      " 60%|██████    | 60/100 [03:00<02:02,  3.06s/it]"
     ]
    },
    {
     "name": "stdout",
     "output_type": "stream",
     "text": [
      "2.8139319331516566\n",
      "2.8137412852745265\n",
      "Epoch 0, Loss 2.813743436322309\n",
      "2.813550945933416\n",
      "2.8133609140137223\n",
      "2.8131711884069652\n",
      "2.8129817680107383\n",
      "2.8127926517286674\n",
      "2.812603838470362\n",
      "2.812415327151379\n",
      "2.812227116693174\n",
      "2.8120392060230603\n"
     ]
    },
    {
     "name": "stderr",
     "output_type": "stream",
     "text": [
      "\r",
      " 61%|██████    | 61/100 [03:04<02:00,  3.09s/it]"
     ]
    },
    {
     "name": "stdout",
     "output_type": "stream",
     "text": [
      "2.811851594074169\n",
      "Epoch 0, Loss 2.8118537778507218\n",
      "2.8116642797854046\n",
      "2.8114772621014046\n",
      "2.8112905399724943\n",
      "2.8111041123546556\n",
      "2.8109179782094764\n",
      "2.8107321365041154\n",
      "2.8105465862112626\n",
      "2.8103613263090987\n",
      "2.8101763557812567\n"
     ]
    },
    {
     "name": "stderr",
     "output_type": "stream",
     "text": [
      "\r",
      " 62%|██████▏   | 62/100 [03:06<01:49,  2.89s/it]"
     ]
    },
    {
     "name": "stdout",
     "output_type": "stream",
     "text": [
      "2.809991673616783\n",
      "Epoch 0, Loss 2.8099938900947445\n",
      "2.809807278810098\n",
      "2.8096231703609598\n",
      "2.809439347274426\n",
      "2.809255808560815\n",
      "2.8090725532356724\n",
      "2.808889580319728\n",
      "2.8087068888388673\n",
      "2.8085244778240885\n",
      "2.808342346311471\n"
     ]
    },
    {
     "name": "stderr",
     "output_type": "stream",
     "text": [
      "\r",
      " 63%|██████▎   | 63/100 [03:10<02:02,  3.31s/it]"
     ]
    },
    {
     "name": "stdout",
     "output_type": "stream",
     "text": [
      "2.808160493342139\n",
      "Epoch 0, Loss 2.808162742496436\n",
      "2.8079789179622234\n",
      "2.8077976192228316\n",
      "2.8076165961800097\n",
      "2.8074358478947095\n",
      "2.8072553734327528\n",
      "2.8070751718648\n",
      "2.8068952422663163\n",
      "2.806715583717537\n",
      "2.8065361953034342\n"
     ]
    },
    {
     "name": "stderr",
     "output_type": "stream",
     "text": [
      "\r",
      " 64%|██████▍   | 64/100 [03:14<01:59,  3.31s/it]"
     ]
    },
    {
     "name": "stdout",
     "output_type": "stream",
     "text": [
      "2.8063570761136885\n",
      "Epoch 0, Loss 2.806359357921443\n",
      "2.8061782252426517\n",
      "2.805999641789316\n",
      "2.8058213248572854\n",
      "2.8056432735547396\n",
      "2.805465486994406\n",
      "2.8052879642935262\n",
      "2.8051107045738295\n",
      "2.8049337069614966\n",
      "2.8047569705871336\n"
     ]
    },
    {
     "name": "stderr",
     "output_type": "stream",
     "text": [
      "\r",
      " 65%|██████▌   | 65/100 [03:16<01:48,  3.10s/it]"
     ]
    },
    {
     "name": "stdout",
     "output_type": "stream",
     "text": [
      "2.8045804945857404\n",
      "Epoch 0, Loss 2.8045828090261815\n",
      "2.8044042780966834\n",
      "2.8042283202636598\n",
      "2.804052620234677\n",
      "2.803877177162016\n",
      "2.803701990202208\n",
      "2.803527058516002\n",
      "2.8033523812683394\n",
      "2.8031779576283244\n",
      "2.8030037867691964\n"
     ]
    },
    {
     "name": "stderr",
     "output_type": "stream",
     "text": [
      "\r",
      " 66%|██████▌   | 66/100 [03:19<01:38,  2.89s/it]"
     ]
    },
    {
     "name": "stdout",
     "output_type": "stream",
     "text": [
      "2.802829867868303\n",
      "Epoch 0, Loss 2.8028322149226783\n",
      "2.8026562001070716\n",
      "2.8024827826709835\n",
      "2.8023096147495465\n",
      "2.8021366955362668\n",
      "2.8019640242286252\n",
      "2.8017916000280496\n",
      "2.8016194221398867\n",
      "2.8014474897733814\n",
      "2.801275802141645\n"
     ]
    },
    {
     "name": "stderr",
     "output_type": "stream",
     "text": [
      "\r",
      " 67%|██████▋   | 67/100 [03:21<01:32,  2.80s/it]"
     ]
    },
    {
     "name": "stdout",
     "output_type": "stream",
     "text": [
      "2.801104358461634\n",
      "Epoch 0, Loss 2.8011067381131296\n",
      "2.8009331579541263\n",
      "2.8007621998436876\n",
      "2.800591483358658\n",
      "2.8004210077311202\n",
      "2.8002507721968746\n",
      "2.800080775995423\n",
      "2.7999110183699316\n",
      "2.7997414985672195\n",
      "2.7995722158377294\n"
     ]
    },
    {
     "name": "stderr",
     "output_type": "stream",
     "text": [
      "\r",
      " 68%|██████▊   | 68/100 [03:24<01:26,  2.71s/it]"
     ]
    },
    {
     "name": "stdout",
     "output_type": "stream",
     "text": [
      "2.7994031694355037\n",
      "Epoch 0, Loss 2.799405581669161\n",
      "2.7992343586181616\n",
      "2.799065782646879\n",
      "2.7988974407863614\n",
      "2.798729332304825\n",
      "2.798561456473969\n",
      "2.7983938125689614\n",
      "2.798226399868407\n",
      "2.798059217654334\n",
      "2.797892265212167\n"
     ]
    },
    {
     "name": "stderr",
     "output_type": "stream",
     "text": [
      "\r",
      " 69%|██████▉   | 69/100 [03:26<01:21,  2.62s/it]"
     ]
    },
    {
     "name": "stdout",
     "output_type": "stream",
     "text": [
      "2.7977255418307063\n",
      "Epoch 0, Loss 2.7977279866333484\n",
      "2.7975590468021077\n",
      "2.7973927794218616\n",
      "2.79722673898877\n",
      "2.797060924804923\n",
      "2.796895336175688\n",
      "2.7967299724096755\n",
      "2.7965648328187296\n",
      "2.796399916717901\n",
      "2.7962352234254304\n"
     ]
    },
    {
     "name": "stderr",
     "output_type": "stream",
     "text": [
      "\r",
      " 70%|███████   | 70/100 [03:29<01:20,  2.67s/it]"
     ]
    },
    {
     "name": "stdout",
     "output_type": "stream",
     "text": [
      "2.796070752262729\n",
      "Epoch 0, Loss 2.796073229622885\n",
      "2.7959065025543532\n",
      "2.795742473627992\n",
      "2.7955786648144425\n",
      "2.7954150754475924\n",
      "2.7952517048643997\n",
      "2.795088552404876\n",
      "2.7949256174120642\n",
      "2.7947628992320226\n",
      "2.7946003972138045\n"
     ]
    },
    {
     "name": "stderr",
     "output_type": "stream",
     "text": [
      "\r",
      " 71%|███████   | 71/100 [03:32<01:17,  2.68s/it]"
     ]
    },
    {
     "name": "stdout",
     "output_type": "stream",
     "text": [
      "2.7944381107094403\n",
      "Epoch 0, Loss 2.794440620617275\n",
      "2.794276039073918\n",
      "2.794114181665167\n",
      "2.7939525378440386\n",
      "2.793791106974289\n",
      "2.7936298884225605\n",
      "2.7934688815583635\n",
      "2.7933080857540586\n",
      "2.793147500384844\n",
      "2.7929871248287306\n"
     ]
    },
    {
     "name": "stderr",
     "output_type": "stream",
     "text": [
      "\r",
      " 72%|███████▏  | 72/100 [03:34<01:13,  2.62s/it]"
     ]
    },
    {
     "name": "stdout",
     "output_type": "stream",
     "text": [
      "2.7928269584665286\n",
      "Epoch 0, Loss 2.7928295009137756\n",
      "2.792667000681834\n",
      "2.792507250861005\n",
      "2.792347708393149\n",
      "2.7921883726701053\n",
      "2.7920292430864304\n",
      "2.791870319039377\n",
      "2.7917115999288824\n",
      "2.79155308515755\n"
     ]
    },
    {
     "name": "stderr",
     "output_type": "stream",
     "text": [
      "\r",
      " 73%|███████▎  | 73/100 [03:36<01:08,  2.54s/it]"
     ]
    },
    {
     "name": "stdout",
     "output_type": "stream",
     "text": [
      "2.7913947741306324\n",
      "2.79123666625602\n",
      "Epoch 0, Loss 2.7912392412359144\n",
      "2.79107876094422\n",
      "2.7909210576083416\n",
      "2.790763555664085\n",
      "2.790606254529718\n",
      "2.79044915362607\n",
      "2.790292252376507\n",
      "2.790135550206927\n",
      "2.7899790465457355\n",
      "2.7898227408238356\n"
     ]
    },
    {
     "name": "stderr",
     "output_type": "stream",
     "text": [
      "\r",
      " 74%|███████▍  | 74/100 [03:39<01:07,  2.61s/it]"
     ]
    },
    {
     "name": "stdout",
     "output_type": "stream",
     "text": [
      "2.789666632474613\n",
      "Epoch 0, Loss 2.78966923998183\n",
      "2.7895107209339214\n",
      "2.7893550056400627\n",
      "2.789199486033782\n",
      "2.7890441615582477\n",
      "2.7888890316590347\n",
      "2.7887340957841165\n",
      "2.788579353383846\n",
      "2.7884248039109454\n"
     ]
    },
    {
     "name": "stderr",
     "output_type": "stream",
     "text": [
      "\r",
      " 75%|███████▌  | 75/100 [03:42<01:04,  2.58s/it]"
     ]
    },
    {
     "name": "stdout",
     "output_type": "stream",
     "text": [
      "2.7882704468204875\n",
      "2.7881162815698888\n",
      "Epoch 0, Loss 2.7881189216004834\n",
      "2.787962307618892\n",
      "2.7878085244295487\n",
      "2.7876549314662147\n",
      "2.7875015281955284\n",
      "2.7873483140864024\n",
      "2.7871952886100093\n",
      "2.7870424512397687\n",
      "2.7868898014513324\n",
      "2.786737338722574\n"
     ]
    },
    {
     "name": "stderr",
     "output_type": "stream",
     "text": [
      "\r",
      " 76%|███████▌  | 76/100 [03:44<01:02,  2.61s/it]"
     ]
    },
    {
     "name": "stdout",
     "output_type": "stream",
     "text": [
      "2.786585062533576\n",
      "Epoch 0, Loss 2.786587735084927\n",
      "2.786432972366615\n",
      "2.7862810677061507\n",
      "2.786129348038814\n",
      "2.785977812853394\n",
      "2.7858264616408235\n",
      "2.78567529389417\n",
      "2.7855243091086224\n",
      "2.7853735067814807\n"
     ]
    },
    {
     "name": "stderr",
     "output_type": "stream",
     "text": [
      "\r",
      " 77%|███████▋  | 77/100 [03:47<01:01,  2.67s/it]"
     ]
    },
    {
     "name": "stdout",
     "output_type": "stream",
     "text": [
      "2.785222886412138\n",
      "2.785072447502076\n",
      "Epoch 0, Loss 2.785075152572828\n",
      "2.784922189554849\n",
      "2.7847721120760736\n",
      "2.7846222145734165\n",
      "2.784472496556583\n",
      "2.7843229575373054\n",
      "2.7841735970293326\n",
      "2.7840244145484174\n",
      "2.7838754096123073\n",
      "2.78372658174073\n"
     ]
    },
    {
     "name": "stderr",
     "output_type": "stream",
     "text": [
      "\r",
      " 78%|███████▊  | 78/100 [03:50<01:00,  2.77s/it]"
     ]
    },
    {
     "name": "stdout",
     "output_type": "stream",
     "text": [
      "2.7835779304553867\n",
      "Epoch 0, Loss 2.7835806680454005\n",
      "2.7834294552799363\n",
      "2.7832811557399886\n",
      "2.783133031363091\n",
      "2.7829850816787194\n",
      "2.782837306218266\n",
      "2.78268970451503\n",
      "2.7825422761042056\n",
      "2.782395020522872\n",
      "2.782247937309986\n"
     ]
    },
    {
     "name": "stderr",
     "output_type": "stream",
     "text": [
      "\r",
      " 79%|███████▉  | 79/100 [03:53<00:58,  2.77s/it]"
     ]
    },
    {
     "name": "stdout",
     "output_type": "stream",
     "text": [
      "2.7821010260063654\n",
      "Epoch 0, Loss 2.7821037961166653\n",
      "2.7819542861546855\n",
      "2.7818077172994635\n",
      "2.7816613189870525\n",
      "2.781515090765629\n",
      "2.7813690321851827\n",
      "2.7812231427975087\n",
      "2.781077422156196\n",
      "2.780931869816619\n",
      "2.7807864853359257\n"
     ]
    },
    {
     "name": "stderr",
     "output_type": "stream",
     "text": [
      "\r",
      " 80%|████████  | 80/100 [03:55<00:54,  2.72s/it]"
     ]
    },
    {
     "name": "stdout",
     "output_type": "stream",
     "text": [
      "2.7806412682730306\n",
      "Epoch 0, Loss 2.780644070905757\n",
      "2.7804962181886026\n",
      "2.7803513346450583\n",
      "2.78020661720655\n",
      "2.780062065438958\n",
      "2.77991767890988\n",
      "2.7797734571886235\n",
      "2.779629399846195\n",
      "2.7794855064552926\n",
      "2.7793417765902944\n"
     ]
    },
    {
     "name": "stderr",
     "output_type": "stream",
     "text": [
      "\r",
      " 81%|████████  | 81/100 [03:58<00:51,  2.69s/it]"
     ]
    },
    {
     "name": "stdout",
     "output_type": "stream",
     "text": [
      "2.779198209827251\n",
      "Epoch 0, Loss 2.7792010449856135\n",
      "2.779054805743878\n",
      "2.7789115639195456\n",
      "2.7787684839352678\n",
      "2.7786255653736984\n",
      "2.7784828078191177\n",
      "2.778340210857426\n",
      "2.778197774076136\n",
      "2.778055497064363\n",
      "2.777913379412814\n"
     ]
    },
    {
     "name": "stderr",
     "output_type": "stream",
     "text": [
      "\r",
      " 82%|████████▏ | 82/100 [04:00<00:46,  2.57s/it]"
     ]
    },
    {
     "name": "stdout",
     "output_type": "stream",
     "text": [
      "2.777771420713785\n",
      "Epoch 0, Loss 2.7777742884020187\n",
      "2.7776296205611466\n",
      "2.777487978550342\n",
      "2.7773464942783717\n",
      "2.7772051673437903\n",
      "2.7770639973466986\n",
      "2.776922983888731\n",
      "2.7767821265730515\n",
      "2.7766414250043465\n",
      "2.7765008787888124\n"
     ]
    },
    {
     "name": "stderr",
     "output_type": "stream",
     "text": [
      "\r",
      " 83%|████████▎ | 83/100 [04:03<00:45,  2.66s/it]"
     ]
    },
    {
     "name": "stdout",
     "output_type": "stream",
     "text": [
      "2.7763604875341508\n",
      "Epoch 0, Loss 2.776363387757474\n",
      "2.7762202508495597\n",
      "2.7760801683457297\n",
      "2.7759402396348283\n",
      "2.7758004643304983\n",
      "2.7756608420478495\n",
      "2.7755213724034493\n",
      "2.7753820550153163\n",
      "2.775242889502913\n",
      "2.7751038754871376\n"
     ]
    },
    {
     "name": "stderr",
     "output_type": "stream",
     "text": [
      "\r",
      " 84%|████████▍ | 84/100 [04:06<00:42,  2.68s/it]"
     ]
    },
    {
     "name": "stdout",
     "output_type": "stream",
     "text": [
      "2.7749650125903167\n",
      "Epoch 0, Loss 2.77496794535489\n",
      "2.774826300436199\n",
      "2.7746877386499476\n",
      "2.7745493268581325\n",
      "2.7744110646887217\n",
      "2.7742729517710782\n",
      "2.774134987735949\n",
      "2.77399717221546\n",
      "2.773859504843109\n",
      "2.7737219852537582\n"
     ]
    },
    {
     "name": "stderr",
     "output_type": "stream",
     "text": [
      "\r",
      " 85%|████████▌ | 85/100 [04:09<00:39,  2.66s/it]"
     ]
    },
    {
     "name": "stdout",
     "output_type": "stream",
     "text": [
      "2.7735846130836257\n",
      "Epoch 0, Loss 2.7735875783965134\n",
      "2.7734473879702843\n",
      "2.7733103095526452\n",
      "2.7731733774709624\n",
      "2.7730365913668176\n",
      "2.7728999508831147\n",
      "2.772763455664077\n",
      "2.7726271053552383\n",
      "2.7724908996034348\n",
      "2.772354838056801\n"
     ]
    },
    {
     "name": "stderr",
     "output_type": "stream",
     "text": [
      "\r",
      " 86%|████████▌ | 86/100 [04:12<00:38,  2.77s/it]"
     ]
    },
    {
     "name": "stdout",
     "output_type": "stream",
     "text": [
      "2.7722189203647636\n",
      "Epoch 0, Loss 2.7722219182338965\n",
      "2.7720831461780304\n",
      "2.7719475151485917\n",
      "2.7718120269297053\n",
      "2.7716766811758964\n",
      "2.771541477542949\n",
      "2.7714064156879012\n",
      "2.7712714952690365\n",
      "2.771136715945878\n",
      "2.771002077379185\n"
     ]
    },
    {
     "name": "stderr",
     "output_type": "stream",
     "text": [
      "\r",
      " 87%|████████▋ | 87/100 [04:15<00:36,  2.80s/it]"
     ]
    },
    {
     "name": "stdout",
     "output_type": "stream",
     "text": [
      "2.770867579230946\n",
      "Epoch 0, Loss 2.7708706096650864\n",
      "2.770733221164367\n",
      "2.770599002843876\n",
      "2.7704649239351085\n",
      "2.7703309841049037\n",
      "2.7701971830213012\n",
      "2.770063520353531\n",
      "2.7699299957720127\n",
      "2.769796608948344\n",
      "2.7696633595553\n"
     ]
    },
    {
     "name": "stderr",
     "output_type": "stream",
     "text": [
      "\r",
      " 88%|████████▊ | 88/100 [04:18<00:34,  2.86s/it]"
     ]
    },
    {
     "name": "stdout",
     "output_type": "stream",
     "text": [
      "2.7695302472668244\n",
      "Epoch 0, Loss 2.7695333102755324\n",
      "2.769397271758024\n",
      "2.769264432705166\n",
      "2.7691317297856686\n",
      "2.7689991626780963\n",
      "2.768866731062156\n",
      "2.7687344346186924\n",
      "2.7686022730296775\n",
      "2.7684702459782096\n"
     ]
    },
    {
     "name": "stderr",
     "output_type": "stream",
     "text": [
      "\r",
      " 89%|████████▉ | 89/100 [04:20<00:30,  2.75s/it]"
     ]
    },
    {
     "name": "stdout",
     "output_type": "stream",
     "text": [
      "2.7683383531485073\n",
      "2.7682065942259038\n",
      "Epoch 0, Loss 2.768209689819504\n",
      "2.768074968896839\n",
      "2.7679434768488598\n",
      "2.7678121177706076\n",
      "2.7676808913518194\n",
      "2.767549797283321\n",
      "2.7674188352570184\n",
      "2.7672880049658954\n",
      "2.767157306104011\n",
      "2.7670267383664875\n"
     ]
    },
    {
     "name": "stderr",
     "output_type": "stream",
     "text": [
      "\r",
      " 90%|█████████ | 90/100 [04:23<00:28,  2.85s/it]"
     ]
    },
    {
     "name": "stdout",
     "output_type": "stream",
     "text": [
      "2.7668963014495147\n",
      "Epoch 0, Loss 2.7668994296390657\n",
      "2.766765995050334\n",
      "2.7666358188672433\n",
      "2.766505772599586\n",
      "2.7663758559477474\n",
      "2.7662460686131523\n",
      "2.7661164102982574\n",
      "2.7659868807065453\n",
      "2.765857479542523\n",
      "2.7657282065117164\n"
     ]
    },
    {
     "name": "stderr",
     "output_type": "stream",
     "text": [
      "\r",
      " 91%|█████████ | 91/100 [04:26<00:25,  2.81s/it]"
     ]
    },
    {
     "name": "stdout",
     "output_type": "stream",
     "text": [
      "2.765599061320663\n",
      "Epoch 0, Loss 2.765602222117929\n",
      "2.765470043676912\n",
      "2.765341153289013\n",
      "2.7652123898665155\n",
      "2.7650837531199675\n",
      "2.7649552427609008\n",
      "2.764826858501837\n",
      "2.76469860005628\n",
      "2.7645704671387037\n",
      "2.76444245946456\n"
     ]
    },
    {
     "name": "stderr",
     "output_type": "stream",
     "text": [
      "\r",
      " 92%|█████████▏| 92/100 [04:29<00:23,  2.94s/it]"
     ]
    },
    {
     "name": "stdout",
     "output_type": "stream",
     "text": [
      "2.764314576750265\n",
      "Epoch 0, Loss 2.7643177701676858\n",
      "2.764186818713198\n",
      "2.764059185071698\n",
      "2.7639316755450567\n",
      "2.7638042898535162\n",
      "2.7636770277182636\n",
      "2.7635498888614256\n",
      "2.7634228730060686\n",
      "2.763295979876188\n",
      "2.7631692091967106\n"
     ]
    },
    {
     "name": "stderr",
     "output_type": "stream",
     "text": [
      "\r",
      " 93%|█████████▎| 93/100 [04:32<00:21,  3.00s/it]"
     ]
    },
    {
     "name": "stdout",
     "output_type": "stream",
     "text": [
      "2.763042560693485\n",
      "Epoch 0, Loss 2.7630457867441502\n",
      "2.762916034093279\n",
      "2.7627896291237786\n",
      "2.762663345513577\n",
      "2.76253718299218\n",
      "2.762411141289991\n",
      "2.7622852201383163\n",
      "2.762159419269355\n",
      "2.762033738416199\n",
      "2.761908177312825\n"
     ]
    },
    {
     "name": "stderr",
     "output_type": "stream",
     "text": [
      "\r",
      " 94%|█████████▍| 94/100 [04:36<00:18,  3.13s/it]"
     ]
    },
    {
     "name": "stdout",
     "output_type": "stream",
     "text": [
      "2.7617827356940943\n",
      "Epoch 0, Loss 2.761785994391717\n",
      "2.761657413295746\n",
      "2.761532209854395\n",
      "2.761407125107527\n",
      "2.7612821587934953\n",
      "2.761157310651515\n",
      "2.7610325804216633\n",
      "2.760907967844869\n",
      "2.7607834726629186\n",
      "2.76065909461844\n"
     ]
    },
    {
     "name": "stderr",
     "output_type": "stream",
     "text": [
      "\r",
      " 95%|█████████▌| 95/100 [04:39<00:15,  3.09s/it]"
     ]
    },
    {
     "name": "stdout",
     "output_type": "stream",
     "text": [
      "2.7605348334549107\n",
      "Epoch 0, Loss 2.7605381248138037\n",
      "2.760410688916645\n",
      "2.760286660748796\n",
      "2.7601627486973497\n",
      "2.760038952509121\n",
      "2.75991527193175\n",
      "2.7597917067137008\n",
      "2.759668256604253\n",
      "2.7595449213535037\n",
      "2.759421700712361\n"
     ]
    },
    {
     "name": "stderr",
     "output_type": "stream",
     "text": [
      "\r",
      " 96%|█████████▌| 96/100 [04:41<00:11,  2.88s/it]"
     ]
    },
    {
     "name": "stdout",
     "output_type": "stream",
     "text": [
      "2.759298594432538\n",
      "Epoch 0, Loss 2.7593019184675898\n",
      "2.759175602266557\n",
      "2.7590527239677347\n",
      "2.75892995929019\n",
      "2.7588073079888336\n",
      "2.758684769819366\n",
      "2.758562344538275\n",
      "2.7584400319028326\n",
      "2.758317831671088\n",
      "2.7581957436018696\n"
     ]
    },
    {
     "name": "stderr",
     "output_type": "stream",
     "text": [
      "\r",
      " 97%|█████████▋| 97/100 [04:44<00:08,  2.86s/it]"
     ]
    },
    {
     "name": "stdout",
     "output_type": "stream",
     "text": [
      "2.758073767454779\n",
      "Epoch 0, Loss 2.75807712418143\n",
      "2.757951902990185\n",
      "2.757830149969226\n",
      "2.757708508153802\n",
      "2.757586977306573\n",
      "2.757465557190956\n",
      "2.75734424757112\n",
      "2.7572230482119866\n",
      "2.7571019588792227\n",
      "2.756980979339238\n"
     ]
    },
    {
     "name": "stderr",
     "output_type": "stream",
     "text": [
      "\r",
      " 98%|█████████▊| 98/100 [04:47<00:05,  2.87s/it]"
     ]
    },
    {
     "name": "stdout",
     "output_type": "stream",
     "text": [
      "2.7568601093591862\n",
      "Epoch 0, Loss 2.7568634987934098\n",
      "2.756739348706954\n",
      "2.7566186971511644\n",
      "2.756498154461173\n",
      "2.7563777204070607\n",
      "2.756257394759633\n",
      "2.7561371772904213\n",
      "2.756017067771671\n",
      "2.7558970659763453\n",
      "2.75577717167812\n"
     ]
    },
    {
     "name": "stderr",
     "output_type": "stream",
     "text": [
      "\r",
      " 99%|█████████▉| 99/100 [04:49<00:02,  2.73s/it]"
     ]
    },
    {
     "name": "stdout",
     "output_type": "stream",
     "text": [
      "2.75565738465138\n",
      "Epoch 0, Loss 2.7556608068096606\n",
      "2.755537704671217\n",
      "2.7554181315134265\n",
      "2.7552986649545046\n",
      "2.7551793047716453\n",
      "2.7550600507427365\n",
      "2.754940902646359\n",
      "2.754821860261782\n",
      "2.7547029233689604\n",
      "2.754584091748533\n"
     ]
    },
    {
     "name": "stderr",
     "output_type": "stream",
     "text": [
      "100%|██████████| 100/100 [04:52<00:00,  2.92s/it]\n"
     ]
    }
   ],
   "source": [
    "# Initialize a non-zero weight_decay (Regularization constant) term and repeat the training and evaluation\n",
    "# Use the best learning rate as obtained from the above exercise, best_lr\n",
    "\n",
    "# You need to try 3 learning rates and submit all 3 graphs along with this notebook pdf to show your weight decay experiments\n",
    "weight_decays = [0.0001, 0.001, 0.01]\n",
    "\n",
    "# FEEL FREE TO EXPERIMENT WITH OTHER VALUES. REPORT OTHER VALUES IF THEY ACHIEVE A BETTER PERFORMANCE\n",
    "\n",
    "# for weight_decay in weight_decays: Train the classifier and plot data\n",
    "# Step 1. train_accu, val_accu, test_accu = train(best_lr, weight_decay)\n",
    "# Step 2. plot_accuracies(train_accu, val_accu, test_accu)\n",
    "\n",
    "weight_decay_info = {}\n",
    "\n",
    "for weight_decay in weight_decays:\n",
    "    # TODO: Train the classifier with different weighty decay and plot\n",
    "    # pass\n",
    "    t_ac, v_ac, te_ac, weights = train(best_learning_rate, weight_decay)\n",
    "    weight_decay_info[weight_decay] = [t_ac, v_ac, te_ac, weights]\n",
    "    \n",
    "    if best_v_ac < max(v_ac):\n",
    "        best_weights = weights\n",
    "        best_learning_rate = learning_rate\n",
    "        best_weight_decay = weight_decay\n",
    "        best_v_ac = max(v_ac)\n",
    "                                       "
   ]
  },
  {
   "cell_type": "code",
   "execution_count": 20,
   "metadata": {},
   "outputs": [
    {
     "data": {
      "image/png": "[encoded data removed]",
      "text/plain": [
       "<Figure size 432x288 with 1 Axes>"
      ]
     },
     "metadata": {
      "needs_background": "light"
     },
     "output_type": "display_data"
    },
    {
     "data": {
      "image/png": "[encoded data removed]",
      "text/plain": [
       "<Figure size 432x288 with 1 Axes>"
      ]
     },
     "metadata": {
      "needs_background": "light"
     },
     "output_type": "display_data"
    },
    {
     "data": {
      "image/png": "[encoded data removed]",
      "text/plain": [
       "<Figure size 432x288 with 1 Axes>"
      ]
     },
     "metadata": {
      "needs_background": "light"
     },
     "output_type": "display_data"
    }
   ],
   "source": [
    "for i, weight_decay in enumerate(weight_decays):\n",
    "    t_ac, v_ac, te_ac = weight_decay_info[weight_decay][0], weight_decay_info[weight_decay][1], weight_decay_info[weight_decay][2]\n",
    "    plt.subplot(3, 1, i + 1)\n",
    "    plt.title(\"Weight decay: {}\".format(weight_decay))\n",
    "    plot_accuracies(t_ac, v_ac, te_ac)\n",
    "\n",
    "plt.show()"
   ]
  },
  {
   "cell_type": "markdown",
   "metadata": {},
   "source": [
    "#### Inline Question 2.\n",
    "\n",
    "Discuss underfitting and overfitting as observed in the 5 graphs obtained by changing the regularization.\n",
    "Which weight_decay term gave you the best classifier performance?\n",
    "HINT: Do not just think in terms of best training set performance, keep in mind that the real utility of a machine learning model is when it performs well on data it has never seen before\n"
   ]
  },
  {
   "cell_type": "markdown",
   "metadata": {},
   "source": [
    "#### Your Answer:\n"
   ]
  },
  {
   "cell_type": "markdown",
   "metadata": {},
   "source": [
    "### Visualize the filters (10%)\n"
   ]
  },
  {
   "cell_type": "code",
   "execution_count": 21,
   "metadata": {},
   "outputs": [
    {
     "name": "stdout",
     "output_type": "stream",
     "text": [
      "Best LR: 0.01\n",
      "Best Weight Decay: 0.0\n"
     ]
    },
    {
     "data": {
      "image/png": "[encoded data removed]",
      "text/plain": [
       "<Figure size 1152x1152 with 10 Axes>"
      ]
     },
     "metadata": {
      "needs_background": "light"
     },
     "output_type": "display_data"
    }
   ],
   "source": [
    "# These visualizations will only somewhat make sense if your learning rate and weight_decay parameters were\n",
    "# properly chosen in the model. Do your best.\n",
    "\n",
    "# TODO: Run this cell and Show filter visualizations for the best set of weights you obtain.\n",
    "# Report the 2 hyperparameters you used to obtain the best model.\n",
    "\n",
    "# NOTE: You need to set `best_learning_rate` and `best_weight_decay` to the values that gave the highest accuracy\n",
    "print(\"Best LR:\", best_learning_rate)\n",
    "print(\"Best Weight Decay:\", best_weight_decay)\n",
    "\n",
    "# NOTE: You need to set `best_weights` to the weights with the highest accuracy\n",
    "w = best_weights[:, :-1]\n",
    "w = w.reshape(10, 3, 32, 32).transpose(0, 2, 3, 1)\n",
    "\n",
    "w_min, w_max = np.min(w), np.max(w)\n",
    "\n",
    "fig = plt.figure(figsize=(16, 16))\n",
    "classes = [\n",
    "    \"plane\",\n",
    "    \"car\",\n",
    "    \"bird\",\n",
    "    \"cat\",\n",
    "    \"deer\",\n",
    "    \"dog\",\n",
    "    \"frog\",\n",
    "    \"horse\",\n",
    "    \"ship\",\n",
    "    \"truck\",\n",
    "]\n",
    "for i in range(10):\n",
    "    fig.add_subplot(2, 5, i + 1)\n",
    "\n",
    "    # Rescale the weights to be between 0 and 255\n",
    "    wimg = 255.0 * (w[i, :, :, :].squeeze() - w_min) / (w_max - w_min)\n",
    "    plt.imshow(wimg.astype(int))\n",
    "    plt.axis(\"off\")\n",
    "    plt.title(classes[i])\n",
    "plt.show()\n"
   ]
  },
  {
   "cell_type": "markdown",
   "metadata": {},
   "source": [
    "#### Inline Question 3. (10%)\n",
    "\n",
    "a. Compare and contrast the performance of the 2 classifiers i.e. Linear Regression and Logistic Regression.\n",
    "b. Which classifier would you deploy for your multiclass classification project and why?\n"
   ]
  },
  {
   "cell_type": "markdown",
   "metadata": {},
   "source": [
    "#### Your Answer:\n"
   ]
  }
 ],
 "metadata": {
  "kernelspec": {
   "display_name": "Python 3 (ipykernel)",
   "language": "python",
   "name": "python3"
  },
  "language_info": {
   "codemirror_mode": {
    "name": "ipython",
    "version": 3
   },
   "file_extension": ".py",
   "mimetype": "text/x-python",
   "name": "python",
   "nbconvert_exporter": "python",
   "pygments_lexer": "ipython3",
   "version": "3.9.5"
  }
 },
 "nbformat": 4,
 "nbformat_minor": 4
}
