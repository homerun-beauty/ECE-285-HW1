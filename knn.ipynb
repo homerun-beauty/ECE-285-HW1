{
 "cells": [
  {
   "cell_type": "markdown",
   "metadata": {},
   "source": [
    "# ECE 285 Assignment 1: KNN\n",
    "\n",
    "For this part of assignment, you are tasked to implement KNN algorithm and test it on the a subset of CIFAR10 dataset.\n",
    "\n",
    "You sould run the whole notebook and answer the question in the notebook.\n",
    "\n",
    "TO SUBMIT: PDF of this notebook with all the required outputs and answers."
   ]
  },
  {
   "cell_type": "code",
   "execution_count": null,
   "metadata": {},
   "outputs": [],
   "source": [
    "# Import Packages\n",
    "import numpy as np\n",
    "import matplotlib.pyplot as plt\n"
   ]
  },
  {
   "cell_type": "markdown",
   "metadata": {},
   "source": [
    "## Prepare Dataset\n",
    "\n",
    "Since CIFAR10 is a relative large dataset, and KNN is quite time-consuming method, we only a small sub-set of CIFAR10 for KNN part"
   ]
  },
  {
   "cell_type": "code",
   "execution_count": null,
   "metadata": {},
   "outputs": [],
   "source": [
    "from ece285.utils.data_processing import get_cifar10_data\n",
    "\n",
    "# Use a subset of CIFAR10 for KNN assignments\n",
    "dataset = get_cifar10_data(subset_train=5000, subset_val=250, subset_test=500)\n",
    "\n",
    "print(dataset.keys())\n",
    "print(\"Training Set Data  Shape: \", dataset[\"x_train\"].shape)\n",
    "print(\"Training Set Label Shape: \", dataset[\"y_train\"].shape)\n"
   ]
  },
  {
   "attachments": {},
   "cell_type": "markdown",
   "metadata": {},
   "source": [
    "## Implementation (60%)\n",
    "\n",
    "You need to implement the KNN method in `algorithms/knn.py`. You need to fill in the prediction function(since the training of KNN is just remembering the training set).\n",
    "\n",
    "For KNN implementation, you are tasked to implement two version of it.\n",
    "\n",
    "* Two Loop Version: use one loop to iterate through training samples and one loop to iterate through test samples\n",
    "* One Loop Version: use one loop to iterate through test samples and use broadcast feature of numpy to calculate all the distance at once\n",
    "\n",
    "Note: It is possible to build a Fully Vectorized Version without explicit for loop to calculate the distance, but you do not have to do it in this assignment. You could use the fully vectorized version to replace the loop versions as well.\n",
    "\n",
    "For distance function, in this assignment, we use Eucliean distance between samples."
   ]
  },
  {
   "cell_type": "code",
   "execution_count": null,
   "metadata": {},
   "outputs": [],
   "source": [
    "from ece285.algorithms import KNN\n",
    "\n",
    "knn = KNN(num_class=10)\n",
    "knn.train(\n",
    "    x_train=dataset[\"x_train\"],\n",
    "    y_train=dataset[\"y_train\"],\n",
    "    k=5,\n",
    ")\n"
   ]
  },
  {
   "cell_type": "markdown",
   "metadata": {},
   "source": [
    "### Compare the time consumption of different method\n",
    "\n",
    "In this section, you will test your different implementation of KNN method, and compare their speed."
   ]
  },
  {
   "cell_type": "code",
   "execution_count": null,
   "metadata": {},
   "outputs": [],
   "source": [
    "from ece285.utils.evaluation import get_classification_accuracy\n"
   ]
  },
  {
   "cell_type": "markdown",
   "metadata": {},
   "source": [
    "#### Two Loop Version:"
   ]
  },
  {
   "cell_type": "code",
   "execution_count": null,
   "metadata": {},
   "outputs": [],
   "source": [
    "import time\n",
    "\n",
    "c_t = time.time()\n",
    "prediction = knn.predict(dataset[\"x_test\"], loop_count=2)\n",
    "print(\"Two Loop Prediction Time:\", time.time() - c_t)\n",
    "\n",
    "test_acc = get_classification_accuracy(prediction, dataset[\"y_test\"])\n",
    "print(\"Test Accuracy:\", test_acc)\n"
   ]
  },
  {
   "cell_type": "markdown",
   "metadata": {},
   "source": [
    "#### One Loop Version "
   ]
  },
  {
   "cell_type": "code",
   "execution_count": null,
   "metadata": {},
   "outputs": [],
   "source": [
    "import time\n",
    "\n",
    "c_t = time.time()\n",
    "prediction = knn.predict(dataset[\"x_test\"], loop_count=1)\n",
    "print(\"One Loop Prediction Time:\", time.time() - c_t)\n",
    "\n",
    "test_acc = get_classification_accuracy(prediction, dataset[\"y_test\"])\n",
    "print(\"Test Accuracy:\", test_acc)\n"
   ]
  },
  {
   "cell_type": "markdown",
   "metadata": {},
   "source": [
    "**Your different implementation should output the exact same result**\n"
   ]
  },
  {
   "cell_type": "markdown",
   "metadata": {},
   "source": [
    "## Test different Hyper-parameter(20%)\n",
    "\n",
    "For KNN, there is only one hyper-parameter of the algorithm: How many nearest neighbour to use(**K**).\n",
    "\n",
    "Here, you are provided the code to test different k for the same dataset."
   ]
  },
  {
   "cell_type": "code",
   "execution_count": null,
   "metadata": {},
   "outputs": [],
   "source": [
    "accuracies = []\n",
    "\n",
    "k_candidates = [1, 3, 5, 10, 20, 50]\n",
    "for k_cand in k_candidates:\n",
    "    prediction = knn.predict(x_test=dataset[\"x_test\"], k=k_cand)\n",
    "    acc = get_classification_accuracy(prediction, dataset[\"y_test\"])\n",
    "    accuracies.append(acc)\n",
    "plt.ylabel(\"Accuracy\")\n",
    "plt.xlabel(\"K\")\n",
    "plt.plot(k_candidates, accuracies)\n",
    "plt.show()\n"
   ]
  },
  {
   "cell_type": "markdown",
   "metadata": {},
   "source": [
    "### Inline Question 1:\n",
    "\n",
    "Please describe the output result you get, and provide some explanation as well.\n",
    "\n",
    "\n",
    "### Your Answer:\n",
    "\n",
    "**Put Your Answer Here**"
   ]
  },
  {
   "cell_type": "markdown",
   "metadata": {},
   "source": [
    "## Try different feature representation(20%)\n",
    "\n",
    "Since machine learning method rely heavily on the feature extraction, you will see how different feature representation affect the performance of the algorithm in this section. \n",
    "\n",
    "You are provided the code about using **HOG** descriptor to represent samples in the notebook."
   ]
  },
  {
   "cell_type": "code",
   "execution_count": null,
   "metadata": {},
   "outputs": [],
   "source": [
    "from ece285.utils.data_processing import get_cifar10_data\n",
    "from ece285.utils.data_processing import HOG_preprocess\n",
    "from functools import partial\n",
    "\n",
    "# Delete previous dataset to save memory\n",
    "del dataset\n",
    "del knn\n",
    "\n",
    "# Use a subset of CIFAR10 for KNN assignments\n",
    "hog_p_func = partial(\n",
    "    HOG_preprocess,\n",
    "    orientations=9,\n",
    "    pixels_per_cell=(4, 4),\n",
    "    cells_per_block=(1, 1),\n",
    "    visualize=False,\n",
    "    multichannel=True,\n",
    ")\n",
    "dataset = get_cifar10_data(\n",
    "    feature_process=hog_p_func, subset_train=5000, subset_val=250, subset_test=500\n",
    ")\n"
   ]
  },
  {
   "cell_type": "code",
   "execution_count": null,
   "metadata": {},
   "outputs": [],
   "source": [
    "knn = KNN(num_class=10)\n",
    "knn.train(\n",
    "    x_train=dataset[\"x_train\"],\n",
    "    y_train=dataset[\"y_train\"],\n",
    "    k=5,\n",
    ")\n",
    "accuracies = []\n",
    "\n",
    "k_candidates = [1, 3, 5, 10, 20, 50]\n",
    "for k_cand in k_candidates:\n",
    "    prediction = knn.predict(x_test=dataset[\"x_test\"], k=k_cand)\n",
    "    acc = get_classification_accuracy(prediction, dataset[\"y_test\"])\n",
    "    accuracies.append(acc)\n",
    "\n",
    "plt.ylabel(\"Accuracy\")\n",
    "plt.xlabel(\"K\")\n",
    "plt.plot(k_candidates, accuracies)\n",
    "plt.show()\n"
   ]
  },
  {
   "cell_type": "markdown",
   "metadata": {},
   "source": [
    "### Inline Question 2:\n",
    "\n",
    "Please describe the output result you get, compare with the result you get in the previous section, and provide some explanation as well.\n",
    "\n",
    "### Your Answer:\n",
    "\n",
    "**Put Your Answer Here**"
   ]
  }
 ],
 "metadata": {
  "kernelspec": {
   "display_name": "Python 3",
   "language": "python",
   "name": "python3"
  },
  "language_info": {
   "codemirror_mode": {
    "name": "ipython",
    "version": 3
   },
   "file_extension": ".py",
   "mimetype": "text/x-python",
   "name": "python",
   "nbconvert_exporter": "python",
   "pygments_lexer": "ipython3",
   "version": "3.7.0-final"
  },
  "orig_nbformat": 2
 },
 "nbformat": 4,
 "nbformat_minor": 2
}
